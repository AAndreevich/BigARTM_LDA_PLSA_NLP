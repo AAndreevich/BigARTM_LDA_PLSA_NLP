{
  "nbformat": 4,
  "nbformat_minor": 0,
  "metadata": {
    "colab": {
      "provenance": [],
      "toc_visible": true,
      "gpuType": "T4"
    },
    "kernelspec": {
      "name": "python3",
      "display_name": "Python 3"
    },
    "language_info": {
      "name": "python"
    },
    "accelerator": "GPU"
  },
  "cells": [
    {
      "cell_type": "markdown",
      "source": [
        "# Content"
      ],
      "metadata": {
        "id": "Ic46F5BnjKYI"
      }
    },
    {
      "cell_type": "markdown",
      "source": [
        ">[Content](#scrollTo=Ic46F5BnjKYI)\n",
        "\n",
        ">[Task](#scrollTo=qX8FlwFvHQPY)\n",
        "\n",
        ">[Additional links](#scrollTo=7-IoxzenIlSo)\n",
        "\n",
        ">[I Libraries and Functions](#scrollTo=PXgo_UxjPRNP)\n",
        "\n",
        ">>[1 Additional libraries](#scrollTo=KGWKnOPxPWKV)\n",
        "\n",
        ">>[2 Additional fuctions](#scrollTo=PK7kjWQnM_Rj)\n",
        "\n",
        ">[II Parser](#scrollTo=lRCoQ1hazDr9)\n",
        "\n",
        ">>[3 Load Data](#scrollTo=_Bw3z1dOQeQu)\n",
        "\n",
        ">[III About data](#scrollTo=lGIGenQQzHuV)\n",
        "\n",
        ">>[4 Review data](#scrollTo=khK2kVcGUHca)\n",
        "\n",
        ">>[5 Clean text](#scrollTo=tsY9tLMPm6v0)\n",
        "\n",
        ">>[6 Words to vector](#scrollTo=RLbYgHhPw93P)\n",
        "\n",
        ">[IV LDA model](#scrollTo=x3qBMdO0zSRf)\n",
        "\n",
        ">>[7 Make a model](#scrollTo=C-lUe9F0xDHo)\n",
        "\n",
        ">>[8 Save LDA model](#scrollTo=8tmzbTwf5p5G)\n",
        "\n",
        ">>[9 Load LDA model](#scrollTo=qok_oT6_7CnV)\n",
        "\n",
        ">>[10 Documents in vector](#scrollTo=uu-SnkhVSYRS)\n",
        "\n",
        ">>[11 Visualisation of results](#scrollTo=fA-XUq3KFtYE)\n",
        "\n",
        ">[V BigARTM](#scrollTo=VCEK_3a9F_xL)\n",
        "\n",
        ">>[12 Preporation data for artm](#scrollTo=FUnePiHnfKN4)\n",
        "\n",
        ">>[13 Create batch vectorizer](#scrollTo=xpACstu_fa0U)\n",
        "\n",
        ">>[14 LDA in ARTM](#scrollTo=yeKR9uQIflCD)\n",
        "\n",
        ">>>[14.1 Learning model](#scrollTo=sZ91dincftmg)\n",
        "\n",
        ">>>[14.2 Review results perplexity](#scrollTo=R-wkQnWWgdga)\n",
        "\n",
        ">>>[14.3 Review top 15 tokens for every topics](#scrollTo=Soa9zasggtpv)\n",
        "\n",
        ">>[15 PLSA in ARTM](#scrollTo=WVJEeQj0g_ou)\n",
        "\n",
        ">>>[15.1 Create model](#scrollTo=Fi3gTCmthJ1o)\n",
        "\n",
        ">>>[15.2 Add perplexity score](#scrollTo=voKv4NBGhNqY)\n",
        "\n",
        ">>>[15.3 Add top tokens score](#scrollTo=tH6KZiVDhjia)\n",
        "\n",
        ">>>[15.4 Learning model](#scrollTo=fn9eOz9Uh0LJ)\n",
        "\n",
        ">>>[15.5 Review perpleity score](#scrollTo=ZIwF9FRxh8YQ)\n",
        "\n",
        ">>>[15.6 Review most important tokens in topics](#scrollTo=76XEY_8DiIP6)\n",
        "\n"
      ],
      "metadata": {
        "colab_type": "toc",
        "id": "WsSACiAijIKx"
      }
    },
    {
      "cell_type": "markdown",
      "source": [
        "# Task"
      ],
      "metadata": {
        "id": "qX8FlwFvHQPY"
      }
    },
    {
      "cell_type": "markdown",
      "source": [
        "Задача тематическое моделирование\n",
        "\n",
        "Проанализировать данные из Роспотребнадзора\n",
        "https://zpp.rospotrebnadzor.ru/Forum/Appeals\n",
        "\n",
        "\n",
        "Что надо сделать\n",
        "1. Сформировать датасет из\n",
        "2. Выявить тематики о которых люди пишут проанализировать\n",
        "3. Сделать визуализацию кластеров тематик\n",
        "4. Проинтерпритировать получившиеся тематики\n"
      ],
      "metadata": {
        "id": "gGj-4_kZGxgL"
      }
    },
    {
      "cell_type": "markdown",
      "source": [
        "# Additional links"
      ],
      "metadata": {
        "id": "7-IoxzenIlSo"
      }
    },
    {
      "cell_type": "markdown",
      "source": [
        "1. [Перплексия](https://qpleple.com/perplexity-to-evaluate-topic-models/)\n",
        "\n",
        "2. [Когерентность](https://qpleple.com/topic-coherence-to-evaluate-topic-models/)\n",
        "\n",
        "3. [Распределение Дирихле](https://vk.com/doc153263289_674555665?hash=I85DrW7zptBjQJyCYip8x3F97xVCs7QCfjdOXm1EZ3o&dl=OYAcYdzID69DkFivCIfzCb8Z9RrHi6EzmMA7zzHEYQT)\n",
        "\n",
        "4. [PLSA](https://vk.com/doc153263289_674555664?hash=I0U6VK1Yi5jow0BJhicuI8os9k9B1ZCbiJgbGzQ59d8&dl=8vfmVIBB40vVrL1Q962b7TclEHn6lkMLA9ZeMroZuDk)\n",
        "\n",
        "5. [Аддитивная регуляризация тематических моделей](http://www.machinelearning.ru/wiki/index.php?title=%D0%90%D0%B4%D0%B4%D0%B8%D1%82%D0%B8%D0%B2%D0%BD%D0%B0%D1%8F_%D1%80%D0%B5%D0%B3%D1%83%D0%BB%D1%8F%D1%80%D0%B8%D0%B7%D0%B0%D1%86%D0%B8%D1%8F_%D1%82%D0%B5%D0%BC%D0%B0%D1%82%D0%B8%D1%87%D0%B5%D1%81%D0%BA%D0%B8%D1%85_%D0%BC%D0%BE%D0%B4%D0%B5%D0%BB%D0%B5%D0%B9)\n",
        "\n",
        "6. Beautiful Soup\n",
        "\n",
        "* Documentation [rus](https://www.crummy.com/software/BeautifulSoup/bs4/doc.ru/bs4ru.html#id7), [eng](https://www.crummy.com/software/BeautifulSoup/bs4/doc/)\n",
        "* Examples [habr](https://habr.com/ru/articles/544828/)\n",
        "\n",
        "7. Regular expressions [one](https://habr.com/ru/articles/349860/) [two](https://tproger.ru/translations/regular-expression-python) [three](https://docs.python.org/3/library/re.html#)"
      ],
      "metadata": {
        "id": "JCDQnJdyHArd"
      }
    },
    {
      "cell_type": "markdown",
      "source": [
        "# I Libraries and Functions"
      ],
      "metadata": {
        "id": "PXgo_UxjPRNP"
      }
    },
    {
      "cell_type": "markdown",
      "source": [
        "## 1 Additional libraries"
      ],
      "metadata": {
        "id": "KGWKnOPxPWKV"
      }
    },
    {
      "cell_type": "code",
      "source": [
        "!pip install pymorphy2 clean-text bigartm10"
      ],
      "metadata": {
        "colab": {
          "base_uri": "https://localhost:8080/"
        },
        "id": "cjdxGJTZNa8n",
        "outputId": "7c772e8c-c5a6-414e-8a8f-a070095e205a"
      },
      "execution_count": null,
      "outputs": [
        {
          "output_type": "stream",
          "name": "stdout",
          "text": [
            "Collecting pymorphy2\n",
            "  Downloading pymorphy2-0.9.1-py3-none-any.whl (55 kB)\n",
            "\u001b[?25l     \u001b[90m━━━━━━━━━━━━━━━━━━━━━━━━━━━━━━━━━━━━━━━━\u001b[0m \u001b[32m0.0/55.5 kB\u001b[0m \u001b[31m?\u001b[0m eta \u001b[36m-:--:--\u001b[0m\r\u001b[2K     \u001b[91m━━━━━━━━━━━━━━━━━━━━━━━━━━━━━━━━━━━━\u001b[0m\u001b[91m╸\u001b[0m\u001b[90m━━━\u001b[0m \u001b[32m51.2/55.5 kB\u001b[0m \u001b[31m2.3 MB/s\u001b[0m eta \u001b[36m0:00:01\u001b[0m\r\u001b[2K     \u001b[90m━━━━━━━━━━━━━━━━━━━━━━━━━━━━━━━━━━━━━━━━\u001b[0m \u001b[32m55.5/55.5 kB\u001b[0m \u001b[31m859.0 kB/s\u001b[0m eta \u001b[36m0:00:00\u001b[0m\n",
            "\u001b[?25hCollecting clean-text\n",
            "  Downloading clean_text-0.6.0-py3-none-any.whl (11 kB)\n",
            "Collecting dawg-python>=0.7.1 (from pymorphy2)\n",
            "  Downloading DAWG_Python-0.7.2-py2.py3-none-any.whl (11 kB)\n",
            "Collecting pymorphy2-dicts-ru<3.0,>=2.4 (from pymorphy2)\n",
            "  Downloading pymorphy2_dicts_ru-2.4.417127.4579844-py2.py3-none-any.whl (8.2 MB)\n",
            "\u001b[2K     \u001b[90m━━━━━━━━━━━━━━━━━━━━━━━━━━━━━━━━━━━━━━━━\u001b[0m \u001b[32m8.2/8.2 MB\u001b[0m \u001b[31m20.8 MB/s\u001b[0m eta \u001b[36m0:00:00\u001b[0m\n",
            "\u001b[?25hCollecting docopt>=0.6 (from pymorphy2)\n",
            "  Downloading docopt-0.6.2.tar.gz (25 kB)\n",
            "  Preparing metadata (setup.py) ... \u001b[?25l\u001b[?25hdone\n",
            "Collecting emoji<2.0.0,>=1.0.0 (from clean-text)\n",
            "  Downloading emoji-1.7.0.tar.gz (175 kB)\n",
            "\u001b[2K     \u001b[90m━━━━━━━━━━━━━━━━━━━━━━━━━━━━━━━━━━━━━━━━\u001b[0m \u001b[32m175.4/175.4 kB\u001b[0m \u001b[31m20.8 MB/s\u001b[0m eta \u001b[36m0:00:00\u001b[0m\n",
            "\u001b[?25h  Preparing metadata (setup.py) ... \u001b[?25l\u001b[?25hdone\n",
            "Collecting ftfy<7.0,>=6.0 (from clean-text)\n",
            "  Downloading ftfy-6.2.0-py3-none-any.whl (54 kB)\n",
            "\u001b[2K     \u001b[90m━━━━━━━━━━━━━━━━━━━━━━━━━━━━━━━━━━━━━━━━\u001b[0m \u001b[32m54.4/54.4 kB\u001b[0m \u001b[31m4.5 MB/s\u001b[0m eta \u001b[36m0:00:00\u001b[0m\n",
            "\u001b[?25hRequirement already satisfied: wcwidth<0.3.0,>=0.2.12 in /usr/local/lib/python3.10/dist-packages (from ftfy<7.0,>=6.0->clean-text) (0.2.13)\n",
            "Building wheels for collected packages: docopt, emoji\n",
            "  Building wheel for docopt (setup.py) ... \u001b[?25l\u001b[?25hdone\n",
            "  Created wheel for docopt: filename=docopt-0.6.2-py2.py3-none-any.whl size=13706 sha256=9b6fa0eb3aef120d160f56355b1e1b51673da525264d61b338a4b1df7debddb2\n",
            "  Stored in directory: /root/.cache/pip/wheels/fc/ab/d4/5da2067ac95b36618c629a5f93f809425700506f72c9732fac\n",
            "  Building wheel for emoji (setup.py) ... \u001b[?25l\u001b[?25hdone\n",
            "  Created wheel for emoji: filename=emoji-1.7.0-py3-none-any.whl size=171034 sha256=2fd23d5a75b6a3a7d9a1c547acd409d7e4c9a37221b8b93ee90820dce6885d87\n",
            "  Stored in directory: /root/.cache/pip/wheels/31/8a/8c/315c9e5d7773f74b33d5ed33f075b49c6eaeb7cedbb86e2cf8\n",
            "Successfully built docopt emoji\n",
            "Installing collected packages: pymorphy2-dicts-ru, emoji, docopt, dawg-python, pymorphy2, ftfy, clean-text\n",
            "Successfully installed clean-text-0.6.0 dawg-python-0.7.2 docopt-0.6.2 emoji-1.7.0 ftfy-6.2.0 pymorphy2-0.9.1 pymorphy2-dicts-ru-2.4.417127.4579844\n"
          ]
        }
      ]
    },
    {
      "cell_type": "code",
      "source": [
        "import os\n",
        "import re\n",
        "import time\n",
        "from google.colab import drive, files\n",
        "import requests\n",
        "from bs4 import BeautifulSoup\n",
        "from urllib.parse import urlparse, urljoin\n",
        "from tqdm import tqdm\n",
        "import pandas as pd\n",
        "import numpy as np\n",
        "import shutil\n",
        "import pickle\n",
        "import nltk\n",
        "from nltk.corpus import stopwords\n",
        "from pymorphy2 import MorphAnalyzer\n",
        "from sklearn.feature_extraction import text as for_stop_word\n",
        "from cleantext import clean\n",
        "import emoji\n",
        "from gensim.corpora.dictionary import Dictionary\n",
        "from gensim.models import LdaModel\n",
        "from gensim.test.utils import datapath\n",
        "from sklearn.base import BaseEstimator, TransformerMixin\n",
        "import artm\n",
        "nltk.download('stopwords')"
      ],
      "metadata": {
        "id": "-CaRlsZVJ3y3",
        "colab": {
          "base_uri": "https://localhost:8080/"
        },
        "outputId": "603e4e36-0e54-4a9a-b4e8-bc4e6030ca73"
      },
      "execution_count": null,
      "outputs": [
        {
          "output_type": "stream",
          "name": "stderr",
          "text": [
            "[nltk_data] Downloading package stopwords to /root/nltk_data...\n",
            "[nltk_data]   Package stopwords is already up-to-date!\n"
          ]
        },
        {
          "output_type": "execute_result",
          "data": {
            "text/plain": [
              "True"
            ]
          },
          "metadata": {},
          "execution_count": 62
        }
      ]
    },
    {
      "cell_type": "markdown",
      "source": [
        "## 2 Additional fuctions"
      ],
      "metadata": {
        "id": "PK7kjWQnM_Rj"
      }
    },
    {
      "cell_type": "code",
      "source": [
        "def MDir(dir_name):\n",
        "    \"\"\"Make a new folder\"\"\"\n",
        "    if os.path.exists(dir_name):\n",
        "        shutil.rmtree(dir_name)\n",
        "    os.makedirs(dir_name)\n",
        "\n",
        "def Upload(dir_name):\n",
        "    f = files.upload()\n",
        "    for fl in list(f.keys()):\n",
        "        shutil.move('/content/' + fl, dir_name + fl)\n",
        "\n",
        "\n",
        "class CleanText(BaseEstimator, TransformerMixin):\n",
        "\n",
        "    \"\"\"Cleaning text from regular characters in column\n",
        "    key: name of column\n",
        "    stp_wrd: english, russian, ...\n",
        "    like_list: bool\n",
        "        If True then return text as list [word, word, ..., word], False return str,\n",
        "        default False\n",
        "    You shoul to import:\n",
        "        >>> pip install pymorphy2\n",
        "        >>> pip install clean-text\n",
        "        import re\n",
        "        import pandas as pd\n",
        "        from tqdm import tqdm\n",
        "        from pymorphy2 import MorphAnalyzer\n",
        "        from sklearn.base import BaseEstimator, TransformerMixin\n",
        "        from cleantext import clean\n",
        "        from nltk.corpus import stopwords\n",
        "        nltk.download('stopwords')\"\"\"\n",
        "\n",
        "    def __init__(self, key, stp_wrd : str, like_list: bool = False):\n",
        "        self.key = key\n",
        "        self.stp_wrd = stp_wrd\n",
        "        self.sw = stopwords.words(self.stp_wrd)\n",
        "        self.morpher = MorphAnalyzer()\n",
        "        self.like_list = like_list\n",
        "\n",
        "\n",
        "    def clean_text(self, text:str) -> str:\n",
        "\n",
        "        \"\"\"Clean text\"\"\"\n",
        "\n",
        "        if not isinstance(text, str):\n",
        "            text = str(text)\n",
        "\n",
        "        text = text.lower()\n",
        "        text = text.strip('\\n').strip('\\r').strip('\\t')\n",
        "        if self.stp_wrd == 'russian':\n",
        "            text = re.sub(r'https?://\\S+|www\\.\\S+', \"электронныйадресс\", text)\n",
        "        else:\n",
        "            text = re.sub(r'https?://\\S+|www\\.\\S+', \"weblinks\", text)\n",
        "\n",
        "        text = re.sub(\"\\s\\r\\n\\|-\\s\\r\\n|\\r\\n\", '', str(text))\n",
        "        text = re.sub(\"[0-9]|[-—.,:;_%©«»?*!@#№$^•·&()]|[+=]|[[]|[]]|[/]|\", '', text)\n",
        "        text = re.sub(r\"\\r\\n\\t|\\n|\\\\s|\\r\\t|\\\\n\", ' ', text)\n",
        "        text = re.sub(r'[\\xad]|[\\s+]', ' ', text.strip())\n",
        "        text = re.sub('\\n', ' ', text)\n",
        "        if self.stp_wrd != 'russian':\n",
        "            text = clean(text, no_emoji=True)\n",
        "        else:\n",
        "            pass\n",
        "        text = [self.morpher.parse(word)[0].normal_form for word in text.split() if word not in self.sw]\n",
        "        if self.like_list:\n",
        "            return text\n",
        "        else:\n",
        "            text = \" \".join(text)\n",
        "            return text\n",
        "\n",
        "\n",
        "    def get_feature_names_out(self, feature_names_out=None):\n",
        "        if feature_names_out != None:\n",
        "            return feature_names_out\n",
        "        else:\n",
        "            return [self.key]\n",
        "\n",
        "    def fit(self, X, y=None):\n",
        "        return self\n",
        "\n",
        "    def transform(self, X) -> pd.DataFrame:\n",
        "        tqdm.pandas()\n",
        "        X[self.key] = X[self.key].progress_apply(lambda x: CleanText.clean_text(self, x))\n",
        "        return X[self.key]\n",
        "\n",
        "\n",
        "def get_lda_vector(lda, text):\n",
        "    unseen_doc = common_dictionary.doc2bow(text)\n",
        "    lda_tuple = lda[unseen_doc]\n",
        "\n",
        "    not_null_topics = dict(zip([i[0] for i in lda_tuple], [i[1] for i in lda_tuple]))\n",
        "\n",
        "    output_vector = []\n",
        "    for i in range(len(topics_words)):\n",
        "        if i not in not_null_topics:\n",
        "            output_vector.append(0)\n",
        "        else:\n",
        "            output_vector.append(not_null_topics[i])\n",
        "\n",
        "    return np.array(output_vector)\n",
        "\n",
        "\n",
        "def convert_to_vw_format(index, row):\n",
        "    return f'doc{index} {\" \".join(row.RPN_questions)} |topic {row.doc_id}'\n",
        "\n",
        "\n",
        "def save_model_pkl(path, model_name):\n",
        "    with open(path, \"wb\") as mod:\n",
        "        pickle.dump(model_name, mod)\n",
        "\n",
        "\n",
        "def load_model_pkl(path):\n",
        "    with open(path, \"rb\") as mod1:\n",
        "        model_name = pickle.load(mod1)\n",
        "    return model_name"
      ],
      "metadata": {
        "id": "pxpoc_ZTPlnU",
        "colab": {
          "base_uri": "https://localhost:8080/"
        },
        "outputId": "11a7d78f-8357-43eb-be17-e75a625653b0"
      },
      "execution_count": null,
      "outputs": [
        {
          "output_type": "stream",
          "name": "stderr",
          "text": [
            "<>:55: DeprecationWarning: invalid escape sequence '\\s'\n"
          ]
        }
      ]
    },
    {
      "cell_type": "code",
      "source": [
        "path_to_work_dir = \"/content/drive/MyDrive/NLP_HW4/\""
      ],
      "metadata": {
        "id": "6XASYDiIPsvI"
      },
      "execution_count": null,
      "outputs": []
    },
    {
      "cell_type": "code",
      "source": [
        "drive.mount('/content/drive/')"
      ],
      "metadata": {
        "colab": {
          "base_uri": "https://localhost:8080/"
        },
        "id": "euPyiP_dQCwg",
        "outputId": "46b335ab-7456-490e-dd6a-7c8d4ffdebc3"
      },
      "execution_count": null,
      "outputs": [
        {
          "output_type": "stream",
          "name": "stdout",
          "text": [
            "Mounted at /content/drive/\n"
          ]
        }
      ]
    },
    {
      "cell_type": "code",
      "source": [
        "# MDir(path_to_work_dir)"
      ],
      "metadata": {
        "id": "GxMi0ffzQFU6"
      },
      "execution_count": null,
      "outputs": []
    },
    {
      "cell_type": "markdown",
      "source": [
        "# II Parser"
      ],
      "metadata": {
        "id": "lRCoQ1hazDr9"
      }
    },
    {
      "cell_type": "markdown",
      "source": [
        "## 3 Load Data"
      ],
      "metadata": {
        "id": "_Bw3z1dOQeQu"
      }
    },
    {
      "cell_type": "code",
      "source": [
        "## найти id каждого вопроса на страницах\n",
        "page = 1\n",
        "max_page = 1000 # One page contains five questions. This is equal to 5000 questions\n",
        "\n",
        "main_url = 'https://zpp.rospotrebnadzor.ru/Forum/Appeals/'\n",
        "\n",
        "def ids_from_page(soup):\n",
        "    return [i.get('href') for i  in soup.findAll('a', {'class':'appeal-title-link'})]\n",
        "\n",
        "urls = []\n",
        "for page in tqdm(range(1, max_page), desc='Pages'):\n",
        "    time.sleep(0.5)\n",
        "    res = requests.get(main_url.format(page=page))\n",
        "    soup = BeautifulSoup(res.text)\n",
        "    urls.extend(ids_from_page(soup))"
      ],
      "metadata": {
        "colab": {
          "base_uri": "https://localhost:8080/"
        },
        "id": "yryuk67QQhq1",
        "outputId": "591efd1f-c65d-416d-f068-111b0a3f2a53"
      },
      "execution_count": null,
      "outputs": [
        {
          "output_type": "stream",
          "name": "stderr",
          "text": [
            "Pages: 100%|██████████| 999/999 [23:38<00:00,  1.42s/it]\n"
          ]
        }
      ]
    },
    {
      "cell_type": "code",
      "source": [
        "## имея id запросов достанем тексты на страницах\n",
        "domain = 'https://zpp.rospotrebnadzor.ru'\n",
        "\n",
        "def get_text_page_question(soup):\n",
        "    return soup.findAll('p', {'class':'appeal-details-message'})[0].text\n",
        "def get_text_page_answer(soup):\n",
        "    return soup.findAll('p', {'class':'appeal-comments-message'})[0].text\n",
        "\n",
        "question = []\n",
        "answers = []\n",
        "\n",
        "for url in tqdm(urls, desc='Pages'):\n",
        "    time.sleep(0.5)\n",
        "    res = requests.get(urljoin(domain, url))\n",
        "    soup = BeautifulSoup(res.text)\n",
        "\n",
        "    question.append(get_text_page_question(soup))\n",
        "    try:\n",
        "        answers.append(get_text_page_answer(soup))\n",
        "    except:\n",
        "        answers.append('No answer')"
      ],
      "metadata": {
        "colab": {
          "base_uri": "https://localhost:8080/"
        },
        "id": "alGHdqPfSQ8l",
        "outputId": "89a1b99a-a507-400e-e618-2dc41049a635"
      },
      "execution_count": null,
      "outputs": [
        {
          "output_type": "stream",
          "name": "stderr",
          "text": [
            "Pages: 100%|██████████| 4995/4995 [1:53:31<00:00,  1.36s/it]\n"
          ]
        }
      ]
    },
    {
      "cell_type": "code",
      "source": [
        "document_id = []\n",
        "for u in urls:\n",
        "    document_id.append(re.sub(\"[A-Z]|[a-z]|\\/\", \"\", u))"
      ],
      "metadata": {
        "id": "X4JYnJCdQ3p6"
      },
      "execution_count": null,
      "outputs": []
    },
    {
      "cell_type": "code",
      "source": [
        "document_id[0]"
      ],
      "metadata": {
        "colab": {
          "base_uri": "https://localhost:8080/",
          "height": 35
        },
        "id": "nXAbxKBmSPHz",
        "outputId": "77e0e7c0-fb0d-4529-b2bb-6f2b64648ac8"
      },
      "execution_count": null,
      "outputs": [
        {
          "output_type": "execute_result",
          "data": {
            "text/plain": [
              "'44015'"
            ],
            "application/vnd.google.colaboratory.intrinsic+json": {
              "type": "string"
            }
          },
          "metadata": {},
          "execution_count": 21
        }
      ]
    },
    {
      "cell_type": "code",
      "source": [
        "question[0]"
      ],
      "metadata": {
        "colab": {
          "base_uri": "https://localhost:8080/",
          "height": 159
        },
        "id": "jFhkr4NGzouM",
        "outputId": "06470210-73a0-40ef-b0e8-51dab21227bd"
      },
      "execution_count": null,
      "outputs": [
        {
          "output_type": "execute_result",
          "data": {
            "text/plain": [
              "'28 сентября 23г оформила заказ на сумму 42852р на сайте Озон. Телефон iphone 12mini с пометкой из-за рубежа (вперед скажу, какая я была наивная, думая, что телефон придет из сша оригинальный). Через месяц пришел телефон с трещинной на задней крышке. Продавец компенсировал это. Далее в процессе использования выяснилось, что люди меня очень плохо слышат, т е нижний микрофон (нижний шлейф) сломан. По условиям Озон, мне требовалось обратиться в сервисный центр. В сервисном центре мне подтвердили, что телефон с дефектом, что внутри не оригинальные запчасти, а также на официальном сайте apple узнали, что телефону более двух лет и гарантия отсутствует от производителя. Т е Озон пропускает недобросовестных продавцов, которые продают старые телефоны, как новые. Это первый обман потребителя Озоном.  Далее мне меняли дважды нижний шлейф, в надежде его отремонтировать, т к не хотелось возиться с возвратом, покупкой нового, переносом данных, но выяснилось, что телефон неремонтопригоден и все замены нижнего шлейфа не изменили ситуацию. Проблема с аудиокодаком, а его ремонт не рентабелен и мог привести к полной поломке телефона. Получив заключение, отправила всю информацию продавцу, оформили возврат. Отправила телефон Почтой России 07.02.24г. 1854р. В поддержке мне сообщили, что сумма за доставку мне компенсируют, как только продавец примет товар. По трек номеру отслеживала логистику, по России посылка шла около недели, далее таможня и Китай. Сейчас 18.04.24, более 2х месяцев товар на распределении в Китае. Сейчас второй обман от Озон : Раньше служба поддержки клиентов имела телефон горячей линии, и операторы решали возникающие вопросы индивидуально по каждому конкретному обращению. Сейчас телефон не работает. Связаться по нестандартной ситуации с компетентным сотрудником не возможно.  Все устроено так, что человек не может достучаться через Бота, который не отвечает по индивидуальным запросам, но даже если удается связаться с оператором, то он тоже просто копирует шаблонные ответы и отвечает также, как и Бот. В итоге человек не имеет возможности написать заявление и обратить внимание на его проблему, которую сам сервис Озон и создал. Я уже пол года трачу свое время, силы и деньги, т к руководству Озона наплевать на законы и людей, главное обороты и прибыль. Позвонить можно только в Банк озона, но там не дают ответа. Писала также через почту, ответили, что к ним приходит много писем и они не могут ответить, пользуйтесь бестолковым роБотом. \\r\\nТакже мною были куплены сопутствующие товары к новому телефону на сумму 1747, которые в итоге мне не нужны теперь, т к я использую свой старый iphone SE. Их также хочу вернуть озону, и хочу получить моральную компенсацию. \\r\\nПрошу Вас, помочь привлечь к ответственности руководство данного сервиса. Все необходимые документы готова предоставить. '"
            ],
            "application/vnd.google.colaboratory.intrinsic+json": {
              "type": "string"
            }
          },
          "metadata": {},
          "execution_count": 22
        }
      ]
    },
    {
      "cell_type": "code",
      "source": [
        "df = pd.DataFrame({\"doc_id\": document_id,\"RPN_questions\": question, \"RPN_answers\": answers})"
      ],
      "metadata": {
        "id": "ajrswiONzkGV"
      },
      "execution_count": null,
      "outputs": []
    },
    {
      "cell_type": "code",
      "source": [
        "df.head(5)"
      ],
      "metadata": {
        "id": "HziWQ1Up0AwA",
        "colab": {
          "base_uri": "https://localhost:8080/",
          "height": 206
        },
        "outputId": "40268c22-be3e-426b-d31c-8dee3250b41b"
      },
      "execution_count": null,
      "outputs": [
        {
          "output_type": "execute_result",
          "data": {
            "text/plain": [
              "  doc_id                                      RPN_questions  \\\n",
              "0  44015  28 сентября 23г оформила заказ на сумму 42852р...   \n",
              "1  44010  Добрый день!\\r\\nСовершил несколько покупок на ...   \n",
              "2  44009  Здравствуйте! Хочу пожаловаться на магазин кот...   \n",
              "3  43999  17.04.2023 года в 22:03 в магазине «Магнит» по...   \n",
              "4  43998  14 апреля 2024 года забрала посылку с мегамарк...   \n",
              "\n",
              "                                         RPN_answers  \n",
              "0  Добрый день! Вам необходимо направить обращени...  \n",
              "1  Добрый день! Что такое кэшбэк и как его получи...  \n",
              "2  Здравствуйте.\\r\\nУправление Роспотребнадзора п...  \n",
              "3  Уважаемая Виктория!\\r\\n\\r\\nСообщаем, что данны...  \n",
              "4  Уважаемая Вера!\\r\\n\\r\\n\\r\\nСогласно п. 5 ст. 2...  "
            ],
            "text/html": [
              "\n",
              "  <div id=\"df-05577c3c-6bad-469d-b392-f541ddd8068f\" class=\"colab-df-container\">\n",
              "    <div>\n",
              "<style scoped>\n",
              "    .dataframe tbody tr th:only-of-type {\n",
              "        vertical-align: middle;\n",
              "    }\n",
              "\n",
              "    .dataframe tbody tr th {\n",
              "        vertical-align: top;\n",
              "    }\n",
              "\n",
              "    .dataframe thead th {\n",
              "        text-align: right;\n",
              "    }\n",
              "</style>\n",
              "<table border=\"1\" class=\"dataframe\">\n",
              "  <thead>\n",
              "    <tr style=\"text-align: right;\">\n",
              "      <th></th>\n",
              "      <th>doc_id</th>\n",
              "      <th>RPN_questions</th>\n",
              "      <th>RPN_answers</th>\n",
              "    </tr>\n",
              "  </thead>\n",
              "  <tbody>\n",
              "    <tr>\n",
              "      <th>0</th>\n",
              "      <td>44015</td>\n",
              "      <td>28 сентября 23г оформила заказ на сумму 42852р...</td>\n",
              "      <td>Добрый день! Вам необходимо направить обращени...</td>\n",
              "    </tr>\n",
              "    <tr>\n",
              "      <th>1</th>\n",
              "      <td>44010</td>\n",
              "      <td>Добрый день!\\r\\nСовершил несколько покупок на ...</td>\n",
              "      <td>Добрый день! Что такое кэшбэк и как его получи...</td>\n",
              "    </tr>\n",
              "    <tr>\n",
              "      <th>2</th>\n",
              "      <td>44009</td>\n",
              "      <td>Здравствуйте! Хочу пожаловаться на магазин кот...</td>\n",
              "      <td>Здравствуйте.\\r\\nУправление Роспотребнадзора п...</td>\n",
              "    </tr>\n",
              "    <tr>\n",
              "      <th>3</th>\n",
              "      <td>43999</td>\n",
              "      <td>17.04.2023 года в 22:03 в магазине «Магнит» по...</td>\n",
              "      <td>Уважаемая Виктория!\\r\\n\\r\\nСообщаем, что данны...</td>\n",
              "    </tr>\n",
              "    <tr>\n",
              "      <th>4</th>\n",
              "      <td>43998</td>\n",
              "      <td>14 апреля 2024 года забрала посылку с мегамарк...</td>\n",
              "      <td>Уважаемая Вера!\\r\\n\\r\\n\\r\\nСогласно п. 5 ст. 2...</td>\n",
              "    </tr>\n",
              "  </tbody>\n",
              "</table>\n",
              "</div>\n",
              "    <div class=\"colab-df-buttons\">\n",
              "\n",
              "  <div class=\"colab-df-container\">\n",
              "    <button class=\"colab-df-convert\" onclick=\"convertToInteractive('df-05577c3c-6bad-469d-b392-f541ddd8068f')\"\n",
              "            title=\"Convert this dataframe to an interactive table.\"\n",
              "            style=\"display:none;\">\n",
              "\n",
              "  <svg xmlns=\"http://www.w3.org/2000/svg\" height=\"24px\" viewBox=\"0 -960 960 960\">\n",
              "    <path d=\"M120-120v-720h720v720H120Zm60-500h600v-160H180v160Zm220 220h160v-160H400v160Zm0 220h160v-160H400v160ZM180-400h160v-160H180v160Zm440 0h160v-160H620v160ZM180-180h160v-160H180v160Zm440 0h160v-160H620v160Z\"/>\n",
              "  </svg>\n",
              "    </button>\n",
              "\n",
              "  <style>\n",
              "    .colab-df-container {\n",
              "      display:flex;\n",
              "      gap: 12px;\n",
              "    }\n",
              "\n",
              "    .colab-df-convert {\n",
              "      background-color: #E8F0FE;\n",
              "      border: none;\n",
              "      border-radius: 50%;\n",
              "      cursor: pointer;\n",
              "      display: none;\n",
              "      fill: #1967D2;\n",
              "      height: 32px;\n",
              "      padding: 0 0 0 0;\n",
              "      width: 32px;\n",
              "    }\n",
              "\n",
              "    .colab-df-convert:hover {\n",
              "      background-color: #E2EBFA;\n",
              "      box-shadow: 0px 1px 2px rgba(60, 64, 67, 0.3), 0px 1px 3px 1px rgba(60, 64, 67, 0.15);\n",
              "      fill: #174EA6;\n",
              "    }\n",
              "\n",
              "    .colab-df-buttons div {\n",
              "      margin-bottom: 4px;\n",
              "    }\n",
              "\n",
              "    [theme=dark] .colab-df-convert {\n",
              "      background-color: #3B4455;\n",
              "      fill: #D2E3FC;\n",
              "    }\n",
              "\n",
              "    [theme=dark] .colab-df-convert:hover {\n",
              "      background-color: #434B5C;\n",
              "      box-shadow: 0px 1px 3px 1px rgba(0, 0, 0, 0.15);\n",
              "      filter: drop-shadow(0px 1px 2px rgba(0, 0, 0, 0.3));\n",
              "      fill: #FFFFFF;\n",
              "    }\n",
              "  </style>\n",
              "\n",
              "    <script>\n",
              "      const buttonEl =\n",
              "        document.querySelector('#df-05577c3c-6bad-469d-b392-f541ddd8068f button.colab-df-convert');\n",
              "      buttonEl.style.display =\n",
              "        google.colab.kernel.accessAllowed ? 'block' : 'none';\n",
              "\n",
              "      async function convertToInteractive(key) {\n",
              "        const element = document.querySelector('#df-05577c3c-6bad-469d-b392-f541ddd8068f');\n",
              "        const dataTable =\n",
              "          await google.colab.kernel.invokeFunction('convertToInteractive',\n",
              "                                                    [key], {});\n",
              "        if (!dataTable) return;\n",
              "\n",
              "        const docLinkHtml = 'Like what you see? Visit the ' +\n",
              "          '<a target=\"_blank\" href=https://colab.research.google.com/notebooks/data_table.ipynb>data table notebook</a>'\n",
              "          + ' to learn more about interactive tables.';\n",
              "        element.innerHTML = '';\n",
              "        dataTable['output_type'] = 'display_data';\n",
              "        await google.colab.output.renderOutput(dataTable, element);\n",
              "        const docLink = document.createElement('div');\n",
              "        docLink.innerHTML = docLinkHtml;\n",
              "        element.appendChild(docLink);\n",
              "      }\n",
              "    </script>\n",
              "  </div>\n",
              "\n",
              "\n",
              "<div id=\"df-7bd24da4-3d89-420a-b7a3-03178664aa7b\">\n",
              "  <button class=\"colab-df-quickchart\" onclick=\"quickchart('df-7bd24da4-3d89-420a-b7a3-03178664aa7b')\"\n",
              "            title=\"Suggest charts\"\n",
              "            style=\"display:none;\">\n",
              "\n",
              "<svg xmlns=\"http://www.w3.org/2000/svg\" height=\"24px\"viewBox=\"0 0 24 24\"\n",
              "     width=\"24px\">\n",
              "    <g>\n",
              "        <path d=\"M19 3H5c-1.1 0-2 .9-2 2v14c0 1.1.9 2 2 2h14c1.1 0 2-.9 2-2V5c0-1.1-.9-2-2-2zM9 17H7v-7h2v7zm4 0h-2V7h2v10zm4 0h-2v-4h2v4z\"/>\n",
              "    </g>\n",
              "</svg>\n",
              "  </button>\n",
              "\n",
              "<style>\n",
              "  .colab-df-quickchart {\n",
              "      --bg-color: #E8F0FE;\n",
              "      --fill-color: #1967D2;\n",
              "      --hover-bg-color: #E2EBFA;\n",
              "      --hover-fill-color: #174EA6;\n",
              "      --disabled-fill-color: #AAA;\n",
              "      --disabled-bg-color: #DDD;\n",
              "  }\n",
              "\n",
              "  [theme=dark] .colab-df-quickchart {\n",
              "      --bg-color: #3B4455;\n",
              "      --fill-color: #D2E3FC;\n",
              "      --hover-bg-color: #434B5C;\n",
              "      --hover-fill-color: #FFFFFF;\n",
              "      --disabled-bg-color: #3B4455;\n",
              "      --disabled-fill-color: #666;\n",
              "  }\n",
              "\n",
              "  .colab-df-quickchart {\n",
              "    background-color: var(--bg-color);\n",
              "    border: none;\n",
              "    border-radius: 50%;\n",
              "    cursor: pointer;\n",
              "    display: none;\n",
              "    fill: var(--fill-color);\n",
              "    height: 32px;\n",
              "    padding: 0;\n",
              "    width: 32px;\n",
              "  }\n",
              "\n",
              "  .colab-df-quickchart:hover {\n",
              "    background-color: var(--hover-bg-color);\n",
              "    box-shadow: 0 1px 2px rgba(60, 64, 67, 0.3), 0 1px 3px 1px rgba(60, 64, 67, 0.15);\n",
              "    fill: var(--button-hover-fill-color);\n",
              "  }\n",
              "\n",
              "  .colab-df-quickchart-complete:disabled,\n",
              "  .colab-df-quickchart-complete:disabled:hover {\n",
              "    background-color: var(--disabled-bg-color);\n",
              "    fill: var(--disabled-fill-color);\n",
              "    box-shadow: none;\n",
              "  }\n",
              "\n",
              "  .colab-df-spinner {\n",
              "    border: 2px solid var(--fill-color);\n",
              "    border-color: transparent;\n",
              "    border-bottom-color: var(--fill-color);\n",
              "    animation:\n",
              "      spin 1s steps(1) infinite;\n",
              "  }\n",
              "\n",
              "  @keyframes spin {\n",
              "    0% {\n",
              "      border-color: transparent;\n",
              "      border-bottom-color: var(--fill-color);\n",
              "      border-left-color: var(--fill-color);\n",
              "    }\n",
              "    20% {\n",
              "      border-color: transparent;\n",
              "      border-left-color: var(--fill-color);\n",
              "      border-top-color: var(--fill-color);\n",
              "    }\n",
              "    30% {\n",
              "      border-color: transparent;\n",
              "      border-left-color: var(--fill-color);\n",
              "      border-top-color: var(--fill-color);\n",
              "      border-right-color: var(--fill-color);\n",
              "    }\n",
              "    40% {\n",
              "      border-color: transparent;\n",
              "      border-right-color: var(--fill-color);\n",
              "      border-top-color: var(--fill-color);\n",
              "    }\n",
              "    60% {\n",
              "      border-color: transparent;\n",
              "      border-right-color: var(--fill-color);\n",
              "    }\n",
              "    80% {\n",
              "      border-color: transparent;\n",
              "      border-right-color: var(--fill-color);\n",
              "      border-bottom-color: var(--fill-color);\n",
              "    }\n",
              "    90% {\n",
              "      border-color: transparent;\n",
              "      border-bottom-color: var(--fill-color);\n",
              "    }\n",
              "  }\n",
              "</style>\n",
              "\n",
              "  <script>\n",
              "    async function quickchart(key) {\n",
              "      const quickchartButtonEl =\n",
              "        document.querySelector('#' + key + ' button');\n",
              "      quickchartButtonEl.disabled = true;  // To prevent multiple clicks.\n",
              "      quickchartButtonEl.classList.add('colab-df-spinner');\n",
              "      try {\n",
              "        const charts = await google.colab.kernel.invokeFunction(\n",
              "            'suggestCharts', [key], {});\n",
              "      } catch (error) {\n",
              "        console.error('Error during call to suggestCharts:', error);\n",
              "      }\n",
              "      quickchartButtonEl.classList.remove('colab-df-spinner');\n",
              "      quickchartButtonEl.classList.add('colab-df-quickchart-complete');\n",
              "    }\n",
              "    (() => {\n",
              "      let quickchartButtonEl =\n",
              "        document.querySelector('#df-7bd24da4-3d89-420a-b7a3-03178664aa7b button');\n",
              "      quickchartButtonEl.style.display =\n",
              "        google.colab.kernel.accessAllowed ? 'block' : 'none';\n",
              "    })();\n",
              "  </script>\n",
              "</div>\n",
              "    </div>\n",
              "  </div>\n"
            ],
            "application/vnd.google.colaboratory.intrinsic+json": {
              "type": "dataframe",
              "variable_name": "df",
              "summary": "{\n  \"name\": \"df\",\n  \"rows\": 4995,\n  \"fields\": [\n    {\n      \"column\": \"doc_id\",\n      \"properties\": {\n        \"dtype\": \"category\",\n        \"num_unique_values\": 5,\n        \"samples\": [\n          \"44010\",\n          \"43998\",\n          \"44009\"\n        ],\n        \"semantic_type\": \"\",\n        \"description\": \"\"\n      }\n    },\n    {\n      \"column\": \"RPN_questions\",\n      \"properties\": {\n        \"dtype\": \"category\",\n        \"num_unique_values\": 5,\n        \"samples\": [\n          \"\\u0414\\u043e\\u0431\\u0440\\u044b\\u0439 \\u0434\\u0435\\u043d\\u044c!\\r\\n\\u0421\\u043e\\u0432\\u0435\\u0440\\u0448\\u0438\\u043b \\u043d\\u0435\\u0441\\u043a\\u043e\\u043b\\u044c\\u043a\\u043e \\u043f\\u043e\\u043a\\u0443\\u043f\\u043e\\u043a \\u043d\\u0430 \\u043c\\u0435\\u0433\\u0430\\u043c\\u0430\\u0440\\u043a\\u0435\\u0442\\u0435, \\u043f\\u043e \\u043a\\u043e\\u0442\\u043e\\u0440\\u044b\\u043c \\u043c\\u043d\\u0435 \\u043e\\u0431\\u044f\\u0437\\u0430\\u043d\\u044b \\u0431\\u044b\\u043b\\u0438 \\u043f\\u0440\\u0435\\u0434\\u043e\\u0441\\u0442\\u0430\\u0432\\u0438\\u0442\\u044c \\u043f\\u043e\\u0432\\u044b\\u0448\\u0435\\u043d\\u043d\\u044b\\u0439 \\u043a\\u044d\\u0448\\u0431\\u0435\\u043a (\\u0437\\u0435\\u043b\\u0435\\u043d\\u043e\\u0433\\u043e \\u0446\\u0432\\u0435\\u0442\\u0430), \\u0442\\u0430\\u043a \\u043a\\u0430\\u043a \\u043f\\u043b\\u0430\\u0442\\u0438\\u043b \\u0447\\u0435\\u0440\\u0435\\u0437 sberpay \\u0438 \\u0441\\u0431\\u0435\\u0440\\u0431\\u0430\\u043d\\u043a \\u043a\\u0440\\u0435\\u0434\\u0438\\u0442.\\r\\n\\u0412 \\u0438\\u0442\\u043e\\u0433\\u0435 \\u043a\\u044d\\u0448\\u0431\\u0435\\u043a \\u043f\\u0440\\u043e\\u0448\\u0435\\u043b \\u043f\\u043e \\u043d\\u0438\\u0436\\u043d\\u0435\\u0439 \\u0433\\u0440\\u0430\\u043d\\u0438\\u0446\\u0435 (\\u0441\\u0435\\u0440\\u043e\\u0433\\u043e \\u0446\\u0432\\u0435\\u0442\\u0430) \\u043a\\u0430\\u043a \\u0431\\u0443\\u0434\\u0442\\u043e \\u044f \\u043f\\u043b\\u0430\\u0442\\u0438\\u043b \\u043d\\u0435 \\u0441\\u0435\\u0440\\u0432\\u0438\\u0441\\u043e\\u043c \\u0441\\u0431\\u0435\\u0440\\u0431\\u0430\\u043d\\u043a. \\u0412 \\u043e\\u0431\\u0449\\u0435\\u0439 \\u0441\\u043b\\u043e\\u0436\\u043d\\u043e\\u0441\\u0442\\u0438 \\u043d\\u0435 \\u0434\\u043e\\u0441\\u0447\\u0438\\u0442\\u0430\\u043b\\u0441\\u044f \\u043f\\u043e\\u0447\\u0442\\u0438 10000 \\u0431\\u043e\\u043d\\u0443\\u0441\\u043e\\u0432! \\u0414\\u0432\\u0430 \\u043e\\u0431\\u0440\\u0430\\u0449\\u0435\\u043d\\u0438\\u044f \\u0434\\u043e \\u0441\\u0438\\u0445 \\u043f\\u043e\\u0440 \\u043d\\u0435 \\u0438\\u0441\\u043f\\u043e\\u043b\\u043d\\u0435\\u043d\\u044b \\u0441 \\u0444\\u0435\\u0432\\u0440\\u0430\\u043b\\u044f \\u043c\\u0435\\u0441\\u044f\\u0446\\u0430 !!!! \\u041d\\u043e\\u043c\\u0435\\u0440\\u0430: GDS-3036411 \\u0438 GDS-3092301. \\u041c\\u0435\\u0433\\u0430\\u043c\\u0430\\u0440\\u043a\\u0435\\u0442 \\u0438 \\u0441\\u0431\\u0435\\u0440\\u0431\\u0430\\u043d\\u043a \\u043d\\u0438\\u043a\\u0430\\u043a\\u0438\\u043c \\u043e\\u0431\\u0440\\u0430\\u0437\\u043e\\u043c \\u043d\\u0435 \\u043a\\u043e\\u043c\\u043c\\u0443\\u043d\\u0438\\u0446\\u0438\\u0440\\u0443\\u044e\\u0442 \\u0441\\u043e \\u043c\\u043d\\u043e\\u0439, \\u0441\\u0441\\u044b\\u043b\\u0430\\u044e\\u0442\\u0441\\u044f, \\u0447\\u0442\\u043e \\u0435\\u0449\\u0435 \\u0440\\u0430\\u0431\\u043e\\u0442\\u0430\\u044e\\u0442. \\u041d\\u043e \\u0443\\u0436\\u0435 \\u043f\\u0440\\u043e\\u0448\\u043b\\u043e 2 \\u043c\\u0435\\u0441\\u044f\\u0446\\u0430!!!! \\u0410 \\u044f \\u043d\\u0435 \\u043c\\u043e\\u0433\\u0443 \\u0432\\u043e\\u0441\\u043f\\u043e\\u043b\\u044c\\u0437\\u043e\\u0432\\u0430\\u0442\\u044c\\u0441\\u044f \\u0444\\u0430\\u043a\\u0442\\u0438\\u0447\\u0435\\u0441\\u043a\\u0438 \\u0434\\u0435\\u043d\\u0435\\u0436\\u043d\\u044b\\u043c\\u0438 \\u0441\\u0440\\u0435\\u0434\\u0441\\u0442\\u0432\\u0430\\u043c\\u0438, \\u043a\\u043e\\u0442\\u043e\\u0440\\u044b\\u0435 \\u0434\\u043e\\u043b\\u0436\\u043d\\u044b \\u0431\\u044b\\u0442\\u044c \\u043c\\u043d\\u0435 \\u0434\\u0430\\u043d\\u044b \\u043f\\u043e \\u043f\\u0440\\u0430\\u0432\\u0443.\",\n          \"14 \\u0430\\u043f\\u0440\\u0435\\u043b\\u044f 2024 \\u0433\\u043e\\u0434\\u0430 \\u0437\\u0430\\u0431\\u0440\\u0430\\u043b\\u0430 \\u043f\\u043e\\u0441\\u044b\\u043b\\u043a\\u0443 \\u0441 \\u043c\\u0435\\u0433\\u0430\\u043c\\u0430\\u0440\\u043a\\u0435\\u0442\\u0430 \\u0432 \\u043c\\u0430\\u0433\\u0430\\u0437\\u0438\\u043d\\u0435 \\u043f\\u044f\\u0442\\u0435\\u0440\\u043e\\u0447\\u043a\\u0430,\\r\\n\\u0434\\u043e\\u043b\\u0433\\u043e\\u0435 \\u0432\\u0440\\u0435\\u043c\\u044f \\u043d\\u0435 \\u043c\\u043e\\u0433\\u043b\\u0430 \\u043f\\u0440\\u043e\\u0431\\u0438\\u0442\\u044c \\u0441\\u0435\\u0440\\u0438\\u044e \\u043f\\u043e\\u0434\\u043b\\u0438\\u043d\\u043d\\u043e\\u0441\\u0442\\u0438 \\u0442\\u043e\\u0432\\u0430\\u0440\\u0430 \\u043d\\u0430 \\u043e\\u0444\\u0438\\u0446\\u0438\\u0430\\u043b\\u044c\\u043d\\u043e\\u043c \\u0441\\u0430\\u0439\\u0442\\u0435-\\u044d\\u0442\\u043e \\u0441\\u0440\\u0430\\u0437\\u0443 \\u0432\\u044b\\u0437\\u0432\\u0430\\u043b\\u043e \\u043f\\u043e\\u0434\\u043e\\u0437\\u0440\\u0435\\u043d\\u0438\\u0435,\\r\\n\\u0443\\u043f\\u0430\\u043a\\u043e\\u0432\\u043a\\u0430 \\u0441\\u0440\\u0430\\u0437\\u0443 \\u0432\\u044b\\u0437\\u0432\\u0430\\u043b\\u0430 \\u043f\\u043e\\u0434\\u043e\\u0437\\u0440\\u0435\\u043d\\u0438\\u0435 \\u043d\\u0430 \\u043d\\u0435\\u043a\\u0430\\u0447\\u0435\\u0441\\u0442\\u0432\\u0435\\u043d\\u043d\\u044b\\u0439 \\u0437\\u0430\\u0432\\u043e\\u0434\\u0441\\u043a\\u043e\\u0439 \\u0431\\u0440\\u0430\\u043a \\u0442\\u043e\\u0432\\u0430\\u0440\\u0430\\r\\n\\u043f\\u0440\\u0438 \\u0432\\u0441\\u043a\\u0440\\u044b\\u0442\\u0438\\u0438 \\u043e\\u0431\\u043d\\u0430\\u0440\\u0443\\u0436\\u0438\\u043b\\u0430 \\u0432\\u043d\\u0435\\u0448\\u043d\\u0435\\u0435 \\u043e\\u0442\\u043b\\u0438\\u0447\\u0438\\u0435 \\u043e\\u0442 \\u043e\\u0440\\u0438\\u0433\\u0438\\u043d\\u0430\\u043b\\u0430  \\r\\n\\u041f\\u0440\\u043e\\u0448\\u0443 \\u0432\\u0435\\u0440\\u043d\\u0443\\u0442\\u044c \\u043c\\u043d\\u0435 \\u0434\\u0435\\u043d\\u044c\\u0433\\u0438 \\u0438 \\u043f\\u0440\\u0435\\u0434\\u043e\\u0441\\u0442\\u0430\\u0432\\u0438\\u0442\\u044c \\u043a\\u043e\\u043c\\u043c\\u0435\\u043d\\u0442\\u0430\\u0440\\u0438\\u0439 \\u043e\\u0431 \\u0441\\u0438\\u0442\\u0443\\u0430\\u0446\\u0438\\u0438! \\r\\n\\u0434\\u0430\\u0442\\u0430 \\u043f\\u043e\\u043a\\u0443\\u043f\\u043a\\u0438 \\u0444\\u0435\\u0432\\u0440\\u0430\\u043b\\u044c \\u043c\\u0435\\u0441\\u044f\\u0446 \\r\\n\\u043d\\u043e\\u043c\\u0435\\u0440 \\u0441\\u0435\\u0440\\u0438\\u0438 \\u043d\\u0435 \\u0441\\u043e\\u0432\\u043f\\u0430\\u043b \\u0441 \\u043d\\u043e\\u043c\\u0435\\u0440\\u043e\\u043c \\u0433\\u043e\\u0434\\u0430 \\u0432\\u044b\\u043f\\u0443\\u0441\\u043a\\u0430 \\r\\n\\u0441\\u043e\\u0437\\u0434\\u0430\\u043b\\u0430 \\u043e\\u0431\\u0440\\u0430\\u0449\\u0435\\u043d\\u0438\\u0435 \\r\\n\\u0442\\u0438\\u0448\\u0438\\u043d\\u0430 \\r\\n\\u043f\\u0440\\u043e\\u0448\\u0443 \\u0432\\u0435\\u0440\\u043d\\u0443\\u0442\\u044c \\u0438\\u043b\\u0438 \\u0434\\u0435\\u043d\\u0435\\u0436\\u043d\\u044b\\u0435 \\u0441\\u0440\\u0435\\u0434\\u0441\\u0442\\u0432\\u0430 \\u0438\\u043b\\u0438 \\u043e\\u0431\\u043c\\u0435\\u043d\\u0430 \\u043d\\u043e \\u043d\\u0430 \\u043a\\u0430\\u0447\\u0435\\u0441\\u0442\\u0432\\u0435\\u043d\\u043d\\u044b\\u0439 \\u043e\\u0440\\u0438\\u0433\\u0438\\u043d\\u0430\\u043b\\u044c\\u043d\\u044b\\u0439 \\u0442\\u043e\\u0432\\u0430\\u0440 \\r\\n\\u0441\\u043f\\u0430 \\u0438\\u0431\\u043e!\",\n          \"\\u0417\\u0434\\u0440\\u0430\\u0432\\u0441\\u0442\\u0432\\u0443\\u0439\\u0442\\u0435! \\u0425\\u043e\\u0447\\u0443 \\u043f\\u043e\\u0436\\u0430\\u043b\\u043e\\u0432\\u0430\\u0442\\u044c\\u0441\\u044f \\u043d\\u0430 \\u043c\\u0430\\u0433\\u0430\\u0437\\u0438\\u043d \\u043a\\u043e\\u0442\\u043e\\u0440\\u044b\\u0439 \\u043d\\u0430\\u0445\\u043e\\u0434\\u0438\\u0442\\u0441\\u044f \\u0433. \\u042f\\u0440\\u043e\\u0441\\u043b\\u0430\\u0432\\u043b\\u044c \\u0443\\u043b \\u041f\\u0430\\u043d\\u0438\\u043d\\u0430 45. \\u042f \\u0415\\u043c\\u0435\\u043b\\u044c\\u044f\\u043d\\u043e\\u0432\\u0430 \\u041c\\u0430\\u0440\\u0438\\u043d\\u0430 \\u0412\\u043b\\u0430\\u0434\\u0438\\u043c\\u0438\\u0440\\u043e\\u0432\\u043d\\u0430 \\u043f\\u0440\\u043e\\u0436\\u0438\\u0432\\u0430\\u044e \\u043f\\u043e \\u044d\\u0442\\u043e\\u043c\\u0443 \\u0436\\u0435 \\u0430\\u0434\\u0440\\u0435\\u0441\\u0443 \\u0438 \\u0445\\u043e\\u0436\\u0443 \\u0432 \\u043c\\u0430\\u0433\\u0430\\u0437\\u0438\\u043d \\u043f\\u043e\\u0447\\u0442\\u0438 \\u043a\\u0430\\u0436\\u0434\\u044b\\u0439 \\u0434\\u0435\\u043d\\u044c \\u043a\\u0430\\u043a \\u043f\\u043e\\u043a\\u0443\\u043f\\u0430\\u0442\\u0435\\u043b\\u044c! \\u0421\\u0435\\u0433\\u043e\\u0434\\u043d\\u044f 18.04.2024 \\u0437\\u0430\\u0448\\u043b\\u0430 \\u0432  \\u043c\\u0430\\u043d\\u0430\\u0437\\u0438\\u043d \\u0437\\u0430 \\u043f\\u043e\\u043a\\u0443\\u043f\\u043a\\u043e\\u0439 \\u0442\\u043e\\u0432\\u0430\\u0440\\u0430 \\u0432 11:00, \\u0441\\u043f\\u0440\\u043e\\u0441\\u0438\\u043b\\u0430 \\u0443 \\u043a\\u0430\\u0441\\u0441\\u0438\\u0440\\u0430 \\u0433\\u0434\\u0435 \\u043c\\u043e\\u0436\\u043d\\u043e \\u043f\\u0440\\u0438\\u0432\\u044f\\u0437\\u0430\\u0442\\u044c \\u0438\\u043b\\u0438 \\u043e\\u0441\\u0442\\u0430\\u0432\\u0438\\u0442\\u044c \\u0441\\u043e\\u0431\\u0430\\u043a\\u0443, \\u043e\\u043d\\u0430 \\u043e\\u0442\\u0432\\u0435\\u0442\\u0438\\u043b\\u0430 \\u0447\\u0442\\u043e \\u0432 \\u0437\\u0430\\u043b\\u0435 \\u0435\\u0441\\u0442\\u044c \\u0436\\u0435\\u043d\\u0449\\u0438\\u043d\\u0430 \\u0441 \\u0441\\u043e\\u0431\\u0430\\u043a\\u043e\\u0439 \\u0430 \\u0443 \\u0432\\u0430\\u0441 \\u0441\\u043b\\u043e\\u043d \\u0432\\u0441\\u0435 \\u0440\\u0430\\u0437\\u043d\\u0435\\u0441\\u0435\\u0442 \\u0438\\u0434\\u0438\\u0442\\u0435 \\u043d\\u0430 \\u2026. \\u041e\\u0442 \\u0441\\u044e\\u0434\\u0430! \\u0418 \\u0442\\u0443\\u0442 \\u044f \\u043c\\u044f\\u0433\\u043a\\u043e \\u0433\\u043e\\u0432\\u043e\\u0440\\u044f \\u0431\\u044b\\u043b\\u0430 \\u0443\\u0434\\u0438\\u0432\\u043b\\u0435\\u043d\\u0430 \\u0438 \\u0441\\u0442\\u0430\\u043b\\u0430 \\u0432\\u043e\\u0437\\u043c\\u0443\\u0449\\u0430\\u0442\\u044c\\u0441\\u044f \\u043d\\u0430 \\u043a\\u0430\\u043a\\u043e\\u043c \\u043f\\u0440\\u0430\\u0432\\u0435 \\u043e\\u043d\\u0430 \\u0441\\u0435\\u0431\\u0435 \\u043f\\u043e\\u0437\\u0432\\u043e\\u043b\\u044f\\u0435\\u0442 \\u0442\\u0430\\u043a\\u043e\\u0435 \\u043e\\u0431\\u0449\\u0435\\u043d\\u0438\\u0435! \\u0414\\u0430\\u043b\\u0435\\u0435 \\u043e\\u043d\\u0430 \\u043c\\u043d\\u0435 \\u043e\\u0442\\u0432\\u0435\\u0442\\u0438\\u043b\\u0430: \\u00ab\\u0417\\u0430\\u0442\\u043a\\u043d\\u0438\\u0441\\u044c, \\u0441\\u0435\\u0439\\u0447\\u0430\\u0441 \\u0432\\u044b\\u043b\\u0435\\u0442\\u0438\\u0448\\u044c \\u043e\\u0442 \\u0441\\u044e\\u0434\\u0430 \\u043c\\u0430\\u0433\\u0430\\u0437\\u0438\\u043d \\u0447\\u0430\\u0441\\u0442\\u043d\\u044b\\u0439!!!\\u00bb \\u043f\\u0440\\u043e\\u0448\\u0443 \\u0432\\u0430\\u0441: \\u043f\\u0440\\u043e\\u0432\\u0435\\u0441\\u0442\\u0438 \\u043f\\u0440\\u043e\\u0432\\u0435\\u0440\\u043a\\u0443 \\u0441 \\u00ab\\u0447\\u0443\\u0434\\u043e \\u043a\\u0430\\u0441\\u0441\\u0438\\u0440\\u043e\\u043c\\u00bb \\u043a\\u043e\\u0442\\u043e\\u0440\\u0430\\u044f \\u0434\\u0430\\u0436\\u0435 \\u0447\\u0435\\u043a\\u0438 \\u043d\\u0435 \\u0432\\u044b\\u0431\\u0438\\u0432\\u0430\\u0435\\u0442 \\u043d\\u0430 \\u0430\\u043b\\u043a\\u043e\\u0433\\u043e\\u043b\\u044c! \\u0418 \\u043f\\u0440\\u043e\\u0432\\u0435\\u0440\\u0438\\u0442\\u044c \\u044d\\u0442\\u043e\\u0442 \\u0447\\u0430\\u0441\\u0442\\u043d\\u044b\\u0439 \\u043c\\u0430\\u0433\\u0430\\u0437\\u0438\\u043d \\u0441 \\u0442\\u043e\\u0432\\u0430\\u0440\\u043e\\u043c \"\n        ],\n        \"semantic_type\": \"\",\n        \"description\": \"\"\n      }\n    },\n    {\n      \"column\": \"RPN_answers\",\n      \"properties\": {\n        \"dtype\": \"category\",\n        \"num_unique_values\": 5,\n        \"samples\": [\n          \"\\u0414\\u043e\\u0431\\u0440\\u044b\\u0439 \\u0434\\u0435\\u043d\\u044c! \\u0427\\u0442\\u043e \\u0442\\u0430\\u043a\\u043e\\u0435 \\u043a\\u044d\\u0448\\u0431\\u044d\\u043a \\u0438 \\u043a\\u0430\\u043a \\u0435\\u0433\\u043e \\u043f\\u043e\\u043b\\u0443\\u0447\\u0438\\u0442\\u044c\\r\\n\\u041a\\u044d\\u0448\\u0431\\u044d\\u043a \\u2014 \\u0440\\u0430\\u0437\\u043d\\u043e\\u0432\\u0438\\u0434\\u043d\\u043e\\u0441\\u0442\\u044c \\u0431\\u043e\\u043d\\u0443\\u0441\\u043d\\u043e\\u0439 \\u043f\\u0440\\u043e\\u0433\\u0440\\u0430\\u043c\\u043c\\u044b, \\u0433\\u0434\\u0435 \\u0437\\u0430 \\u0432\\u044b\\u043f\\u043e\\u043b\\u043d\\u0435\\u043d\\u0438\\u0435 \\u0443\\u0441\\u043b\\u043e\\u0432\\u0438\\u0439 \\u043a\\u043b\\u0438\\u0435\\u043d\\u0442\\u0443 \\u043d\\u0430\\u0447\\u0438\\u0441\\u043b\\u044f\\u0435\\u0442\\u0441\\u044f \\u043e\\u043f\\u0440\\u0435\\u0434\\u0435\\u043b\\u0435\\u043d\\u043d\\u043e\\u0435 \\u043a\\u043e\\u043b\\u0438\\u0447\\u0435\\u0441\\u0442\\u0432\\u043e \\u0431\\u043e\\u043d\\u0443\\u0441\\u043e\\u0432 \\u0438\\u043b\\u0438 \\u0447\\u0430\\u0441\\u0442\\u044c \\u043f\\u043e\\u0442\\u0440\\u0430\\u0447\\u0435\\u043d\\u043d\\u044b\\u0445 \\u0434\\u0435\\u043d\\u0435\\u0433.\\r\\n\\r\\n\\u041a\\u044d\\u0448\\u0431\\u044d\\u043a \\u2014 \\u0440\\u0430\\u0437\\u043d\\u043e\\u0432\\u0438\\u0434\\u043d\\u043e\\u0441\\u0442\\u044c \\u0431\\u043e\\u043d\\u0443\\u0441\\u043d\\u043e\\u0439 \\u043f\\u0440\\u043e\\u0433\\u0440\\u0430\\u043c\\u043c\\u044b, \\u0433\\u0434\\u0435 \\u0437\\u0430 \\u0432\\u044b\\u043f\\u043e\\u043b\\u043d\\u0435\\u043d\\u0438\\u0435 \\u0443\\u0441\\u043b\\u043e\\u0432\\u0438\\u0439 \\u043a\\u043b\\u0438\\u0435\\u043d\\u0442\\u0443 \\u043d\\u0430\\u0447\\u0438\\u0441\\u043b\\u044f\\u0435\\u0442\\u0441\\u044f \\u043e\\u043f\\u0440\\u0435\\u0434\\u0435\\u043b\\u0435\\u043d\\u043d\\u043e\\u0435 \\u043a\\u043e\\u043b\\u0438\\u0447\\u0435\\u0441\\u0442\\u0432\\u043e \\u0431\\u043e\\u043d\\u0443\\u0441\\u043e\\u0432 \\u0438\\u043b\\u0438 \\u0447\\u0430\\u0441\\u0442\\u044c \\u043f\\u043e\\u0442\\u0440\\u0430\\u0447\\u0435\\u043d\\u043d\\u044b\\u0445 \\u0434\\u0435\\u043d\\u0435\\u0433.\\r\\n\\u0411\\u0430\\u043d\\u043a\\u0438 \\u0432\\u0435\\u0434\\u0443\\u0442 \\u0430\\u043a\\u0442\\u0438\\u0432\\u043d\\u0443\\u044e \\u043f\\u0440\\u0430\\u043a\\u0442\\u0438\\u043a\\u0443, \\u0432\\u043e\\u0437\\u0432\\u0440\\u0430\\u0449\\u0430\\u044f \\u0431\\u043e\\u043d\\u0443\\u0441\\u044b \\u043f\\u043e\\u0441\\u043b\\u0435 \\u043f\\u043e\\u043a\\u0443\\u043f\\u043e\\u043a, \\u0441\\u043e\\u0432\\u0435\\u0440\\u0448\\u0435\\u043d\\u043d\\u044b\\u0445 \\u0441 \\u043f\\u043e\\u043c\\u043e\\u0449\\u044c\\u044e \\u0438\\u0445 \\u043a\\u0430\\u0440\\u0442.\\r\\n\\u041f\\u0440\\u043e\\u0433\\u0440\\u0430\\u043c\\u043c\\u0430 \\u043a\\u044d\\u0448\\u0431\\u044d\\u043a\\u0430 \\u0443 \\u0431\\u0430\\u043d\\u043a\\u043e\\u0432 \\u0441\\u043b\\u0435\\u0434\\u0443\\u044e\\u0449\\u0430\\u044f:\\r\\n\\u2022 \\u0421 \\u043a\\u0430\\u0440\\u0442\\u044b \\u0441\\u043e\\u0432\\u0435\\u0440\\u0448\\u0430\\u0435\\u0442\\u0441\\u044f \\u043f\\u043e\\u043a\\u0443\\u043f\\u043a\\u0430. \\u041e\\u043d\\u0430 \\u043c\\u043e\\u0436\\u0435\\u0442 \\u0431\\u044b\\u0442\\u044c \\u0441\\u043e\\u0432\\u0435\\u0440\\u0448\\u0435\\u043d\\u0430 \\u043d\\u0435 \\u0442\\u043e\\u043b\\u044c\\u043a\\u043e \\u0447\\u0435\\u0440\\u0435\\u0437 \\u0418\\u043d\\u0442\\u0435\\u0440\\u043d\\u0435\\u0442, \\u043d\\u043e \\u0438 \\u0432 \\u043e\\u0431\\u044b\\u0447\\u043d\\u043e\\u043c \\u0442\\u043e\\u0440\\u0433\\u043e\\u0432\\u043e\\u043c \\u043c\\u0430\\u0433\\u0430\\u0437\\u0438\\u043d\\u0435.\\r\\n\\u2022 \\u041d\\u0430 \\u043a\\u0430\\u0440\\u0442\\u0443 \\u043d\\u0430\\u0447\\u0438\\u0441\\u043b\\u044f\\u044e\\u0442\\u0441\\u044f \\u0431\\u043e\\u043d\\u0443\\u0441\\u044b. \\u041e\\u0431\\u044b\\u0447\\u043d\\u043e \\u044d\\u0442\\u043e \\u043f\\u0440\\u043e\\u0438\\u0441\\u0445\\u043e\\u0434\\u0438\\u0442 \\u0432 \\u043a\\u043e\\u043d\\u0446\\u0435 \\u043c\\u0435\\u0441\\u044f\\u0446\\u0430, \\u0432\\u0441\\u0435 \\u0431\\u043e\\u043d\\u0443\\u0441\\u044b \\u0441\\u0443\\u043c\\u043c\\u0438\\u0440\\u0443\\u044e\\u0442\\u0441\\u044f \\u0438 \\u043f\\u0440\\u0438\\u0445\\u043e\\u0434\\u044f\\u0442 \\u043d\\u0430 \\u0441\\u0447\\u0435\\u0442.\\r\\n\\u041a\\u043e\\u043b\\u0438\\u0447\\u0435\\u0441\\u0442\\u0432\\u043e \\u0431\\u043e\\u043d\\u0443\\u0441\\u043e\\u0432 \\u043e\\u043f\\u0440\\u0435\\u0434\\u0435\\u043b\\u044f\\u0435\\u0442\\u0441\\u044f \\u0442\\u0435\\u043c, \\u043a\\u0430\\u043a\\u043e\\u0439 \\u043f\\u0440\\u043e\\u0446\\u0435\\u043d\\u0442 \\u043a\\u044d\\u0448\\u0431\\u044d\\u043a\\u0430 \\u0431\\u0430\\u043d\\u043a \\u0443\\u0441\\u0442\\u0430\\u043d\\u043e\\u0432\\u0438\\u043b \\u0432 \\u0434\\u0430\\u043d\\u043d\\u043e\\u043c \\u043c\\u0430\\u0433\\u0430\\u0437\\u0438\\u043d\\u0435. \\u0412 \\u043e\\u0441\\u043d\\u043e\\u0432\\u043d\\u043e\\u043c \\u0443 \\u043a\\u0430\\u0436\\u0434\\u043e\\u0433\\u043e \\u0431\\u0430\\u043d\\u043a\\u0430 \\u0435\\u0441\\u0442\\u044c \\u0441\\u0432\\u043e\\u0438 \\u043e\\u0441\\u043e\\u0431\\u0435\\u043d\\u043d\\u043e\\u0441\\u0442\\u0438 \\u0442\\u0430\\u043a\\u0438\\u0445 \\u043f\\u0440\\u043e\\u0433\\u0440\\u0430\\u043c\\u043c, \\u043d\\u0430\\u043f\\u0440\\u0438\\u043c\\u0435\\u0440, \\u043e\\u0433\\u0440\\u0430\\u043d\\u0438\\u0447\\u0435\\u043d\\u0438\\u0435 \\u0446\\u0435\\u043b\\u0438 \\u0438\\u0441\\u043f\\u043e\\u043b\\u044c\\u0437\\u043e\\u0432\\u0430\\u043d\\u0438\\u044f \\u0431\\u043e\\u043d\\u0443\\u0441\\u043e\\u0432, \\u043b\\u0438\\u043c\\u0438\\u0442 \\u0434\\u043b\\u044f \\u0444\\u0443\\u043d\\u043a\\u0446\\u0438\\u043e\\u043d\\u0438\\u0440\\u043e\\u0432\\u0430\\u043d\\u0438\\u044f \\u043a\\u044d\\u0448\\u0431\\u044d\\u043a\\u0430.\\r\\n\\u0414\\u043b\\u044f \\u0442\\u043e\\u0433\\u043e \\u0447\\u0442\\u043e\\u0431\\u044b \\u044d\\u0444\\u0444\\u0435\\u043a\\u0442\\u0438\\u0432\\u043d\\u043e \\u0432\\u044b\\u0431\\u0440\\u0430\\u0442\\u044c \\u043a\\u0430\\u0440\\u0442\\u0443 \\u0434\\u043b\\u044f \\u043f\\u043e\\u043b\\u0443\\u0447\\u0435\\u043d\\u0438\\u044f \\u043a\\u044d\\u0448\\u0431\\u044d\\u043a\\u0430, \\u043f\\u0440\\u0438\\u0434\\u0435\\u0440\\u0436\\u0438\\u0432\\u0430\\u0439\\u0442\\u0435\\u0441\\u044c \\u0441\\u043b\\u0435\\u0434\\u0443\\u044e\\u0449\\u0438\\u0445 \\u043f\\u0440\\u0430\\u0432\\u0438\\u043b:\\r\\n\\u2022 \\u0432\\u044b\\u0431\\u0438\\u0440\\u0430\\u0439\\u0442\\u0435 \\u0431\\u0430\\u043d\\u043a, \\u043a\\u043e\\u0442\\u043e\\u0440\\u044b\\u0439 \\u043f\\u043e\\u0437\\u0432\\u043e\\u043b\\u0438\\u0442 \\u043f\\u043e\\u043b\\u0443\\u0447\\u0438\\u0442\\u044c \\u043d\\u0430\\u0438\\u0431\\u043e\\u043b\\u044c\\u0448\\u0438\\u0439 \\u043a\\u044d\\u0448\\u0431\\u044d\\u043a \\u0432 \\u0442\\u0435\\u0445 \\u043c\\u0435\\u0441\\u0442\\u0430\\u0445, \\u043a\\u043e\\u0442\\u043e\\u0440\\u044b\\u0435 \\u0447\\u0430\\u0449\\u0435 \\u0432\\u0441\\u0435\\u0433\\u043e \\u043f\\u043e\\u0441\\u0435\\u0449\\u0430\\u0435\\u0442\\u0435;\\r\\n\\u2022 \\u0432\\u043d\\u0438\\u043c\\u0430\\u0442\\u0435\\u043b\\u044c\\u043d\\u043e \\u0438\\u0437\\u0443\\u0447\\u0438\\u0442\\u0435 \\u0434\\u043e\\u0433\\u043e\\u0432\\u043e\\u0440, \\u043d\\u0435\\u043a\\u043e\\u0442\\u043e\\u0440\\u044b\\u0435 \\u0431\\u0430\\u043d\\u043a\\u0438 \\u043f\\u0440\\u043e\\u043f\\u0438\\u0441\\u044b\\u0432\\u0430\\u044e\\u0442 \\u0432 \\u043d\\u0435\\u043c \\u0443\\u0441\\u043b\\u043e\\u0432\\u0438\\u0435 \\u2014 \\u043f\\u043e\\u043b\\u0443\\u0447\\u0438\\u0442\\u044c \\u043a\\u044d\\u0448\\u0431\\u044d\\u043a \\u0432\\u043e\\u0437\\u043c\\u043e\\u0436\\u043d\\u043e \\u0442\\u043e\\u043b\\u044c\\u043a\\u043e \\u043f\\u0440\\u0438 \\u043d\\u0430\\u043b\\u0438\\u0447\\u0438\\u0438 \\u0437\\u0430\\u0434\\u043e\\u043b\\u0436\\u0435\\u043d\\u043d\\u043e\\u0441\\u0442\\u0438 \\u043f\\u043e \\u043a\\u0440\\u0435\\u0434\\u0438\\u0442\\u0443;\\r\\n\\u2022 \\u0442\\u0430\\u043a\\u0436\\u0435 \\u0441\\u0442\\u043e\\u0438\\u0442 \\u043e\\u0431\\u0440\\u0430\\u0442\\u0438\\u0442\\u044c \\u0432\\u043d\\u0438\\u043c\\u0430\\u043d\\u0438\\u0435 \\u043d\\u0430 \\u043f\\u0440\\u043e\\u0446\\u0435\\u043d\\u0442 \\u043f\\u043e \\u043e\\u0441\\u0442\\u0430\\u0442\\u043a\\u0443 \\u0441\\u0447\\u0435\\u0442\\u0430;\\r\\n\\u2022 \\u043f\\u043e\\u0441\\u0442\\u0430\\u0440\\u0430\\u0439\\u0442\\u0435\\u0441\\u044c \\u043d\\u0430\\u0439\\u0442\\u0438 \\u043a\\u0430\\u0440\\u0442\\u0443, \\u043a\\u043e\\u0442\\u043e\\u0440\\u0430\\u044f \\u0431\\u0443\\u0434\\u0435\\u0442 \\u043d\\u0430\\u0438\\u0431\\u043e\\u043b\\u0435\\u0435 \\u0443\\u0434\\u043e\\u0431\\u043d\\u0430 \\u0432 \\u043e\\u0431\\u0441\\u043b\\u0443\\u0436\\u0438\\u0432\\u0430\\u043d\\u0438\\u0438.\\r\\n\\u0412\\u0441\\u0435 \\u0431\\u043e\\u043d\\u0443\\u0441\\u043d\\u044b\\u0435 \\u043e\\u043f\\u0446\\u0438\\u0438 \\u2014 \\u043a\\u044d\\u0448\\u0431\\u044d\\u043a, \\u0441\\u043a\\u0438\\u0434\\u043a\\u0438, \\u0431\\u0430\\u043b\\u043b\\u044b, \\u043a\\u043e\\u0442\\u043e\\u0440\\u044b\\u0435 \\u043f\\u043e\\u043b\\u0443\\u0447\\u0430\\u044e\\u0442\\u0441\\u044f \\u0437\\u0430 \\u0442\\u0440\\u0430\\u0442\\u044b \\u043f\\u043e \\u043a\\u0430\\u0440\\u0442\\u0435, \\u2014 \\u0431\\u0430\\u043d\\u043a \\u043f\\u0440\\u0435\\u0434\\u043e\\u0441\\u0442\\u0430\\u0432\\u043b\\u044f\\u0435\\u0442 \\u043d\\u0430 \\u043e\\u0441\\u043d\\u043e\\u0432\\u0435 \\u0434\\u043e\\u0433\\u043e\\u0432\\u043e\\u0440\\u0430 \\u043f\\u0443\\u0431\\u043b\\u0438\\u0447\\u043d\\u043e\\u0439 \\u043e\\u0444\\u0435\\u0440\\u0442\\u044b \\u0438\\u043b\\u0438 \\u0434\\u043e\\u0433\\u043e\\u0432\\u043e\\u0440\\u0430 \\u0441\\u043c\\u0435\\u0448\\u0430\\u043d\\u043d\\u043e\\u0433\\u043e \\u0442\\u0438\\u043f\\u0430. \\u0411\\u0430\\u043d\\u043a \\u043e\\u0441\\u0442\\u0430\\u0432\\u043b\\u044f\\u0435\\u0442 \\u0437\\u0430 \\u0441\\u043e\\u0431\\u043e\\u0439 \\u043f\\u0440\\u0430\\u0432\\u043e \\u043e\\u0442\\u043a\\u0430\\u0437\\u0430\\u0442\\u044c \\u043a\\u043b\\u0438\\u0435\\u043d\\u0442\\u0443 \\u0432 \\u0432\\u043e\\u0437\\u043d\\u0430\\u0433\\u0440\\u0430\\u0436\\u0434\\u0435\\u043d\\u0438\\u0438, \\u0435\\u0441\\u043b\\u0438 \\u0444\\u0438\\u043a\\u0441\\u0438\\u0440\\u0443\\u0435\\u0442 \\u0440\\u0430\\u0441\\u0445\\u043e\\u0434\\u044b \\u043f\\u043e\\u043b\\u044c\\u0437\\u043e\\u0432\\u0430\\u0442\\u0435\\u043b\\u044f \\u0442\\u043e\\u043b\\u044c\\u043a\\u043e \\u0432 \\u043f\\u0440\\u0435\\u043c\\u0438\\u0430\\u043b\\u044c\\u043d\\u044b\\u0445 \\u043a\\u0430\\u0442\\u0435\\u0433\\u043e\\u0440\\u0438\\u044f\\u0445.\\r\\n\\u0418\\u0437\\u0431\\u0435\\u0436\\u0430\\u0442\\u044c \\u043d\\u0435\\u043f\\u0440\\u0438\\u044f\\u0442\\u043d\\u044b\\u0445 \\u0441\\u0438\\u0442\\u0443\\u0430\\u0446\\u0438\\u0439 \\u0441 \\u0431\\u0430\\u043d\\u043a\\u043e\\u043c \\u043f\\u043e \\u043f\\u043e\\u0432\\u043e\\u0434\\u0443 \\u043a\\u044d\\u0448\\u0431\\u044d\\u043a\\u0430 \\u043c\\u043e\\u0436\\u043d\\u043e, \\u0435\\u0441\\u043b\\u0438 \\u0432\\u043d\\u0438\\u043c\\u0430\\u0442\\u0435\\u043b\\u044c\\u043d\\u043e \\u0438\\u0437\\u0443\\u0447\\u0438\\u0442\\u044c \\u0443\\u0441\\u043b\\u043e\\u0432\\u0438\\u044f \\u043f\\u043e\\u0434\\u043a\\u043b\\u044e\\u0447\\u0435\\u043d\\u0438\\u044f \\u0438 \\u0434\\u0435\\u0439\\u0441\\u0442\\u0432\\u0438\\u044f \\u043f\\u0440\\u043e\\u0433\\u0440\\u0430\\u043c\\u043c\\u044b \\u043b\\u043e\\u044f\\u043b\\u044c\\u043d\\u043e\\u0441\\u0442\\u0438. \\u0412 \\u043e\\u0444\\u0435\\u0440\\u0442\\u0435 \\u043e\\u043f\\u0438\\u0441\\u0430\\u043d\\u044b \\u0438 \\u0441\\u043b\\u0443\\u0447\\u0430\\u0438, \\u043a\\u043e\\u0433\\u0434\\u0430 \\u0431\\u0430\\u043d\\u043a \\u043c\\u043e\\u0436\\u0435\\u0442 \\u0443\\u0432\\u0438\\u0434\\u0435\\u0442\\u044c \\u0432 \\u0434\\u0435\\u0439\\u0441\\u0442\\u0432\\u0438\\u044f\\u0445 \\u043a\\u043b\\u0438\\u0435\\u043d\\u0442\\u0430 \\u043d\\u0435\\u043e\\u0431\\u043e\\u0441\\u043d\\u043e\\u0432\\u0430\\u043d\\u043d\\u043e\\u0435 \\u043e\\u0431\\u043e\\u0433\\u0430\\u0449\\u0435\\u043d\\u0438\\u0435 \\u0437\\u0430 \\u0441\\u0447\\u0435\\u0442 \\u043d\\u0430\\u0447\\u0438\\u0441\\u043b\\u044f\\u0435\\u043c\\u043e\\u0433\\u043e \\u0432\\u043e\\u0437\\u043d\\u0430\\u0433\\u0440\\u0430\\u0436\\u0434\\u0435\\u043d\\u0438\\u044f.\\r\\n\\u041a\\u043b\\u0438\\u0435\\u043d\\u0442 \\u0438\\u043c\\u0435\\u0435\\u0442 \\u043f\\u0440\\u0430\\u0432\\u043e \\u0432 \\u043b\\u044e\\u0431\\u043e\\u0439 \\u043c\\u043e\\u043c\\u0435\\u043d\\u0442 \\u0437\\u0430\\u043f\\u0440\\u043e\\u0441\\u0438\\u0442\\u044c \\u0443 \\u0431\\u0430\\u043d\\u043a\\u0430 \\u043a\\u043e\\u043f\\u0438\\u044e \\u0434\\u043e\\u043a\\u0443\\u043c\\u0435\\u043d\\u0442\\u043e\\u0432 \\u043f\\u0440\\u043e\\u0433\\u0440\\u0430\\u043c\\u043c\\u044b \\u043b\\u043e\\u044f\\u043b\\u044c\\u043d\\u043e\\u0441\\u0442\\u0438. \\u0412 \\u0434\\u043e\\u043a\\u0443\\u043c\\u0435\\u043d\\u0442\\u0435 \\u0442\\u0430\\u043a\\u0436\\u0435 \\u043c\\u043e\\u0436\\u043d\\u043e \\u0443\\u0437\\u043d\\u0430\\u0442\\u044c \\u043f\\u0440\\u043e \\u043a\\u0443\\u0440\\u0441 \\u043a\\u043e\\u043d\\u0432\\u0435\\u0440\\u0442\\u0430\\u0446\\u0438\\u0438 \\u0431\\u043e\\u043d\\u0443\\u0441\\u043d\\u044b\\u0445 \\u0431\\u0430\\u043b\\u043b\\u043e\\u0432 \\u0432 \\u0440\\u0443\\u0431\\u043b\\u0438.\\r\\n\\u041a\\u0430\\u0436\\u0434\\u044b\\u0439 \\u0431\\u0430\\u043d\\u043a \\u043e\\u043f\\u0440\\u0435\\u0434\\u0435\\u043b\\u044f\\u0435\\u0442 \\u0434\\u043b\\u044f \\u0441\\u0432\\u043e\\u0438\\u0445 \\u043a\\u043b\\u0438\\u0435\\u043d\\u0442\\u043e\\u0432 \\u0441\\u0432\\u043e\\u0439 \\u0441\\u043e\\u0431\\u0441\\u0442\\u0432\\u0435\\u043d\\u043d\\u044b\\u0439 \\u043f\\u0430\\u043a\\u0435\\u0442 \\u043a\\u0430\\u043a \\u043f\\u043b\\u0430\\u0442\\u043d\\u044b\\u0445, \\u0442\\u0430\\u043a \\u0438 \\u0431\\u0435\\u0441\\u043f\\u043b\\u0430\\u0442\\u043d\\u044b\\u0445 \\u0443\\u0441\\u043b\\u0443\\u0433. \\u0412\\u044b \\u0432\\u043f\\u0440\\u0430\\u0432\\u0435 \\u043d\\u0430\\u043f\\u0440\\u0430\\u0432\\u0438\\u0442\\u044c \\u043e\\u0431\\u0440\\u0430\\u0449\\u0435\\u043d\\u0438\\u0435 \\u0432 \\u0420\\u043e\\u0441\\u043f\\u043e\\u0442\\u0440\\u0435\\u0431\\u043d\\u0430\\u0434\\u0437\\u043e\\u0440 \\u043f\\u043e \\u043c\\u0435\\u0441\\u0442\\u0443  \\u0437\\u0430\\u043a\\u043b\\u044e\\u0447\\u0435\\u043d\\u0438\\u044f \\u0434\\u043e\\u0433\\u043e\\u0432\\u043e\\u0440\\u0430\",\n          \"\\u0423\\u0432\\u0430\\u0436\\u0430\\u0435\\u043c\\u0430\\u044f \\u0412\\u0435\\u0440\\u0430!\\r\\n\\r\\n\\r\\n\\u0421\\u043e\\u0433\\u043b\\u0430\\u0441\\u043d\\u043e \\u043f. 5 \\u0441\\u0442. 26.1 \\u0417\\u0430\\u043a\\u043e\\u043d\\u0430 \\u0420\\u043e\\u0441\\u0441\\u0438\\u0439\\u0441\\u043a\\u043e\\u0439 \\u0424\\u0435\\u0434\\u0435\\u0440\\u0430\\u0446\\u0438\\u0438 \\u043e\\u0442 07.02.1991 \\u2116 2300-1 \\u00ab\\u041e \\u0437\\u0430\\u0449\\u0438\\u0442\\u0435 \\u043f\\u0440\\u0430\\u0432 \\u043f\\u043e\\u0442\\u0440\\u0435\\u0431\\u0438\\u0442\\u0435\\u043b\\u0435\\u0439\\u00bb (\\u0434\\u0430\\u043b\\u0435\\u0435 \\u2013 \\u0417\\u0430\\u043a\\u043e\\u043d) \\u043f\\u043e\\u0441\\u043b\\u0435\\u0434\\u0441\\u0442\\u0432\\u0438\\u044f \\u043f\\u0440\\u043e\\u0434\\u0430\\u0436\\u0438 \\u0442\\u043e\\u0432\\u0430\\u0440\\u0430 \\u043d\\u0435\\u043d\\u0430\\u0434\\u043b\\u0435\\u0436\\u0430\\u0449\\u0435\\u0433\\u043e \\u043a\\u0430\\u0447\\u0435\\u0441\\u0442\\u0432\\u0430 \\u0434\\u0438\\u0441\\u0442\\u0430\\u043d\\u0446\\u0438\\u043e\\u043d\\u043d\\u044b\\u043c \\u0441\\u043f\\u043e\\u0441\\u043e\\u0431\\u043e\\u043c \\u043f\\u0440\\u043e\\u0434\\u0430\\u0436\\u0438 \\u0442\\u043e\\u0432\\u0430\\u0440\\u0430 \\u0443\\u0441\\u0442\\u0430\\u043d\\u043e\\u0432\\u043b\\u0435\\u043d\\u044b \\u043f\\u043e\\u043b\\u043e\\u0436\\u0435\\u043d\\u0438\\u044f\\u043c\\u0438, \\u043f\\u0440\\u0435\\u0434\\u0443\\u0441\\u043c\\u043e\\u0442\\u0440\\u0435\\u043d\\u043d\\u044b\\u043c\\u0438 \\u0441\\u0442\\u0430\\u0442\\u044c\\u044f\\u043c\\u0438 18 \\u2013 24 \\u043d\\u0430\\u0441\\u0442\\u043e\\u044f\\u0449\\u0435\\u0433\\u043e \\u0417\\u0430\\u043a\\u043e\\u043d\\u0430. \\r\\n\\u0412 \\u0441\\u043b\\u0443\\u0447\\u0430\\u0435, \\u0435\\u0441\\u043b\\u0438 \\u0432 \\u0442\\u043e\\u0432\\u0430\\u0440\\u0435, \\u043f\\u0440\\u0438\\u043e\\u0431\\u0440\\u0435\\u0442\\u0435\\u043d\\u043d\\u043e\\u043c \\u0434\\u0438\\u0441\\u0442\\u0430\\u043d\\u0446\\u0438\\u043e\\u043d\\u043d\\u044b\\u043c \\u0441\\u043f\\u043e\\u0441\\u043e\\u0431\\u043e\\u043c, \\u0432\\u044b\\u044f\\u0432\\u043b\\u0435\\u043d \\u043d\\u0435\\u0434\\u043e\\u0441\\u0442\\u0430\\u0442\\u043e\\u043a, \\u043f\\u043e\\u0442\\u0440\\u0435\\u0431\\u0438\\u0442\\u0435\\u043b\\u044c \\u043d\\u0430 \\u043e\\u0441\\u043d\\u043e\\u0432\\u0430\\u043d\\u0438\\u0438 \\u043f. 1 \\u0441\\u0442. 18 \\u0417\\u0430\\u043a\\u043e\\u043d\\u0430, \\u043f\\u043e \\u0441\\u0432\\u043e\\u0435\\u043c\\u0443 \\u0432\\u044b\\u0431\\u043e\\u0440\\u0443 \\u0432\\u043f\\u0440\\u0430\\u0432\\u0435 \\u043f\\u043e\\u0442\\u0440\\u0435\\u0431\\u043e\\u0432\\u0430\\u0442\\u044c: \\r\\n\\u0437\\u0430\\u043c\\u0435\\u043d\\u044b \\u043d\\u0430 \\u0442\\u043e\\u0432\\u0430\\u0440 \\u044d\\u0442\\u043e\\u0439 \\u0436\\u0435 \\u043c\\u0430\\u0440\\u043a\\u0438 (\\u044d\\u0442\\u0438\\u0445 \\u0436\\u0435 \\u043c\\u043e\\u0434\\u0435\\u043b\\u0438 \\u0438 (\\u0438\\u043b\\u0438) \\u0430\\u0440\\u0442\\u0438\\u043a\\u0443\\u043b\\u0430); \\u0437\\u0430\\u043c\\u0435\\u043d\\u044b \\u043d\\u0430 \\u0442\\u0430\\u043a\\u043e\\u0439 \\u0436\\u0435 \\u0442\\u043e\\u0432\\u0430\\u0440 \\u0434\\u0440\\u0443\\u0433\\u043e\\u0439 \\u043c\\u0430\\u0440\\u043a\\u0438 (\\u043c\\u043e\\u0434\\u0435\\u043b\\u0438, \\u0430\\u0440\\u0442\\u0438\\u043a\\u0443\\u043b\\u0430) \\u0441 \\u0441\\u043e\\u043e\\u0442\\u0432\\u0435\\u0442\\u0441\\u0442\\u0432\\u0443\\u044e\\u0449\\u0438\\u043c \\u043f\\u0435\\u0440\\u0435\\u0440\\u0430\\u0441\\u0447\\u0435\\u0442\\u043e\\u043c \\u043f\\u043e\\u043a\\u0443\\u043f\\u043d\\u043e\\u0439 \\u0446\\u0435\\u043d\\u044b; \\r\\n\\u0441\\u043e\\u0440\\u0430\\u0437\\u043c\\u0435\\u0440\\u043d\\u043e\\u0433\\u043e \\u0443\\u043c\\u0435\\u043d\\u044c\\u0448\\u0435\\u043d\\u0438\\u044f \\u043f\\u043e\\u043a\\u0443\\u043f\\u043d\\u043e\\u0439 \\u0446\\u0435\\u043d\\u044b; \\r\\n\\u043d\\u0435\\u0437\\u0430\\u043c\\u0435\\u0434\\u043b\\u0438\\u0442\\u0435\\u043b\\u044c\\u043d\\u043e\\u0433\\u043e \\u0431\\u0435\\u0437\\u0432\\u043e\\u0437\\u043c\\u0435\\u0437\\u0434\\u043d\\u043e\\u0433\\u043e \\u0443\\u0441\\u0442\\u0440\\u0430\\u043d\\u0435\\u043d\\u0438\\u044f \\u043d\\u0435\\u0434\\u043e\\u0441\\u0442\\u0430\\u0442\\u043a\\u043e\\u0432 \\u0442\\u043e\\u0432\\u0430\\u0440\\u0430 \\u0438\\u043b\\u0438 \\u0432\\u043e\\u0437\\u043c\\u0435\\u0449\\u0435\\u043d\\u0438\\u044f \\u0440\\u0430\\u0441\\u0445\\u043e\\u0434\\u043e\\u0432 \\u043d\\u0430 \\u0438\\u0445 \\u0438\\u0441\\u043f\\u0440\\u0430\\u0432\\u043b\\u0435\\u043d\\u0438\\u0435 \\u043f\\u043e\\u0442\\u0440\\u0435\\u0431\\u0438\\u0442\\u0435\\u043b\\u0435\\u043c \\u0438\\u043b\\u0438 \\u0442\\u0440\\u0435\\u0442\\u044c\\u0438\\u043c \\u043b\\u0438\\u0446\\u043e\\u043c. \\t\\u041a\\u0440\\u043e\\u043c\\u0435 \\u0442\\u043e\\u0433\\u043e, \\u043f\\u043e\\u0442\\u0440\\u0435\\u0431\\u0438\\u0442\\u0435\\u043b\\u044c \\u0432\\u043f\\u0440\\u0430\\u0432\\u0435 \\u043e\\u0442\\u043a\\u0430\\u0437\\u0430\\u0442\\u044c\\u0441\\u044f \\u043e\\u0442 \\u0438\\u0441\\u043f\\u043e\\u043b\\u043d\\u0435\\u043d\\u0438\\u044f \\u0434\\u043e\\u0433\\u043e\\u0432\\u043e\\u0440\\u0430 \\u043a\\u0443\\u043f\\u043b\\u0438-\\u043f\\u0440\\u043e\\u0434\\u0430\\u0436\\u0438 \\u0438 \\u043f\\u043e\\u0442\\u0440\\u0435\\u0431\\u043e\\u0432\\u0430\\u0442\\u044c \\u0432\\u043e\\u0437\\u0432\\u0440\\u0430\\u0442\\u0430 \\u0443\\u043f\\u043b\\u0430\\u0447\\u0435\\u043d\\u043d\\u043e\\u0439 \\u0437\\u0430 \\u0442\\u043e\\u0432\\u0430\\u0440 \\u0441\\u0443\\u043c\\u043c\\u044b. \\u041f\\u043e \\u0442\\u0440\\u0435\\u0431\\u043e\\u0432\\u0430\\u043d\\u0438\\u044e \\u043f\\u0440\\u043e\\u0434\\u0430\\u0432\\u0446\\u0430 \\u0438 \\u0437\\u0430 \\u0435\\u0433\\u043e \\u0441\\u0447\\u0435\\u0442 \\u043f\\u043e\\u0442\\u0440\\u0435\\u0431\\u0438\\u0442\\u0435\\u043b\\u044c \\u0434\\u043e\\u043b\\u0436\\u0435\\u043d \\u0432\\u043e\\u0437\\u0432\\u0440\\u0430\\u0442\\u0438\\u0442\\u044c \\u0442\\u043e\\u0432\\u0430\\u0440 \\u0441 \\u043d\\u0435\\u0434\\u043e\\u0441\\u0442\\u0430\\u0442\\u043a\\u0430\\u043c\\u0438. \\u041f\\u0440\\u0438 \\u044d\\u0442\\u043e\\u043c \\u043f\\u043e\\u0442\\u0440\\u0435\\u0431\\u0438\\u0442\\u0435\\u043b\\u044c \\u0432\\u043f\\u0440\\u0430\\u0432\\u0435 \\u043f\\u043e\\u0442\\u0440\\u0435\\u0431\\u043e\\u0432\\u0430\\u0442\\u044c \\u0442\\u0430\\u043a\\u0436\\u0435 \\u043f\\u043e\\u043b\\u043d\\u043e\\u0433\\u043e \\u0432\\u043e\\u0437\\u043c\\u0435\\u0449\\u0435\\u043d\\u0438\\u044f \\u0443\\u0431\\u044b\\u0442\\u043a\\u043e\\u0432, \\u043f\\u0440\\u0438\\u0447\\u0438\\u043d\\u0435\\u043d\\u043d\\u044b\\u0445 \\u0435\\u043c\\u0443 \\u0432\\u0441\\u043b\\u0435\\u0434\\u0441\\u0442\\u0432\\u0438\\u0435 \\u043f\\u0440\\u043e\\u0434\\u0430\\u0436\\u0438 \\u0442\\u043e\\u0432\\u0430\\u0440\\u0430 \\u043d\\u0435\\u043d\\u0430\\u0434\\u043b\\u0435\\u0436\\u0430\\u0449\\u0435\\u0433\\u043e \\u043a\\u0430\\u0447\\u0435\\u0441\\u0442\\u0432\\u0430. \\u0423\\u0431\\u044b\\u0442\\u043a\\u0438 \\u0432\\u043e\\u0437\\u043c\\u0435\\u0449\\u0430\\u044e\\u0442\\u0441\\u044f \\u0432 \\u0441\\u0440\\u043e\\u043a\\u0438, \\u0443\\u0441\\u0442\\u0430\\u043d\\u043e\\u0432\\u043b\\u0435\\u043d\\u043d\\u044b\\u0435 \\u043d\\u0430\\u0441\\u0442\\u043e\\u044f\\u0449\\u0438\\u043c \\u0417\\u0430\\u043a\\u043e\\u043d\\u043e\\u043c \\u0434\\u043b\\u044f \\u0443\\u0434\\u043e\\u0432\\u043b\\u0435\\u0442\\u0432\\u043e\\u0440\\u0435\\u043d\\u0438\\u044f \\u0441\\u043e\\u043e\\u0442\\u0432\\u0435\\u0442\\u0441\\u0442\\u0432\\u0443\\u044e\\u0449\\u0438\\u0445 \\u0442\\u0440\\u0435\\u0431\\u043e\\u0432\\u0430\\u043d\\u0438\\u0439 \\u043f\\u043e\\u0442\\u0440\\u0435\\u0431\\u0438\\u0442\\u0435\\u043b\\u044f. \\r\\n\\u041f\\u0440\\u043e\\u0434\\u0430\\u0432\\u0435\\u0446 \\u043e\\u0442\\u0432\\u0435\\u0447\\u0430\\u0435\\u0442 \\u0437\\u0430 \\u043d\\u0435\\u0434\\u043e\\u0441\\u0442\\u0430\\u0442\\u043a\\u0438, \\u043a\\u043e\\u0442\\u043e\\u0440\\u044b\\u0435 \\u0432\\u043e\\u0437\\u043d\\u0438\\u043a\\u043b\\u0438 \\u0434\\u043e \\u043f\\u0435\\u0440\\u0435\\u0434\\u0430\\u0447\\u0438 \\u0442\\u043e\\u0432\\u0430\\u0440\\u0430 \\u043f\\u043e\\u0442\\u0440\\u0435\\u0431\\u0438\\u0442\\u0435\\u043b\\u044e \\u0438\\u043b\\u0438 \\u043f\\u043e \\u043f\\u0440\\u0438\\u0447\\u0438\\u043d\\u0430\\u043c, \\u0432\\u043e\\u0437\\u043d\\u0438\\u043a\\u0448\\u0438\\u043c \\u0434\\u043e \\u044d\\u0442\\u043e\\u0433\\u043e \\u043c\\u043e\\u043c\\u0435\\u043d\\u0442\\u0430. \\u0412 \\u0441\\u0438\\u043b\\u0443 \\u0441\\u0442. 458 \\u0413\\u0440\\u0430\\u0436\\u0434\\u0430\\u043d\\u0441\\u043a\\u043e\\u0433\\u043e \\u043a\\u043e\\u0434\\u0435\\u043a\\u0441\\u0430 \\u0420\\u043e\\u0441\\u0441\\u0438\\u0439\\u0441\\u043a\\u043e\\u0439 \\u0424\\u0435\\u0434\\u0435\\u0440\\u0430\\u0446\\u0438\\u0438 \\u043c\\u043e\\u043c\\u0435\\u043d\\u0442\\u043e\\u043c \\u0438\\u0441\\u043f\\u043e\\u043b\\u043d\\u0435\\u043d\\u0438\\u044f \\u043f\\u0440\\u043e\\u0434\\u0430\\u0432\\u0446\\u043e\\u043c \\u043e\\u0431\\u044f\\u0437\\u0430\\u043d\\u043d\\u043e\\u0441\\u0442\\u0438 \\u043f\\u0435\\u0440\\u0435\\u0434\\u0430\\u0442\\u044c \\u0442\\u043e\\u0432\\u0430\\u0440 \\u0441\\u0447\\u0438\\u0442\\u0430\\u0435\\u0442\\u0441\\u044f \\u043c\\u043e\\u043c\\u0435\\u043d\\u0442 \\u0432\\u0440\\u0443\\u0447\\u0435\\u043d\\u0438\\u044f \\u0442\\u043e\\u0432\\u0430\\u0440\\u0430 \\u043f\\u043e\\u043a\\u0443\\u043f\\u0430\\u0442\\u0435\\u043b\\u044e \\u0438\\u043b\\u0438 \\u0443\\u043a\\u0430\\u0437\\u0430\\u043d\\u043d\\u043e\\u043c\\u0443 \\u0438\\u043c \\u043b\\u0438\\u0446\\u0443, \\u0435\\u0441\\u043b\\u0438 \\u0434\\u043e\\u0433\\u043e\\u0432\\u043e\\u0440\\u043e\\u043c \\u043f\\u0440\\u0435\\u0434\\u0443\\u0441\\u043c\\u043e\\u0442\\u0440\\u0435\\u043d\\u0430 \\u043e\\u0431\\u044f\\u0437\\u0430\\u043d\\u043d\\u043e\\u0441\\u0442\\u044c \\u043f\\u043e \\u0434\\u043e\\u0441\\u0442\\u0430\\u0432\\u043a\\u0435 \\u0442\\u043e\\u0432\\u0430\\u0440\\u0430. \\r\\n\\u0412 \\u0441\\u043e\\u043e\\u0442\\u0432\\u0435\\u0442\\u0441\\u0442\\u0432\\u0438\\u0438 \\u0441 \\u043f\\u0440\\u0430\\u0432\\u0438\\u043b\\u0430\\u043c\\u0438 \\u043f\\u0440\\u0438\\u0435\\u043c\\u043a\\u0438 \\u0442\\u043e\\u0432\\u0430\\u0440\\u043e\\u0432, \\u0440\\u0430\\u0437\\u043c\\u0435\\u0449\\u0435\\u043d\\u043d\\u044b\\u043c\\u0438 \\u0432 \\u0441\\u0432\\u043e\\u0431\\u043e\\u0434\\u043d\\u043e\\u043c \\u0434\\u043e\\u0441\\u0442\\u0443\\u043f\\u0435 \\u0432 \\u0441\\u0435\\u0442\\u0438 \\u0418\\u043d\\u0442\\u0435\\u0440\\u043d\\u0435\\u0442 \\u043f\\u043e \\u0430\\u0434\\u0440\\u0435\\u0441\\u0443: https://sbermarket.ru/rules-sbermarket \\u0432 \\u043f\\u0440\\u0430\\u0432\\u0438\\u043b\\u0430\\u0445 \\u0441\\u0435\\u0440\\u0432\\u0438\\u0441\\u0430 \\u00ab\\u0421\\u0431\\u0435\\u0440\\u043c\\u0430\\u0440\\u043a\\u0435\\u0442\\u00bb \\u043f\\u043e\\u0442\\u0440\\u0435\\u0431\\u0438\\u0442\\u0435\\u043b\\u044e \\u0434\\u043e\\u043b\\u0436\\u043d\\u0430 \\u0431\\u044b\\u0442\\u044c \\u043f\\u0440\\u0435\\u0434\\u043e\\u0441\\u0442\\u0430\\u0432\\u043b\\u0435\\u043d\\u0430 \\u0432\\u043e\\u0437\\u043c\\u043e\\u0436\\u043d\\u043e\\u0441\\u0442\\u044c \\u043e\\u0441\\u043c\\u043e\\u0442\\u0440\\u0435\\u0442\\u044c \\u0442\\u043e\\u0432\\u0430\\u0440 \\u0432 \\u043c\\u0435\\u0441\\u0442\\u0435 \\u0434\\u043e\\u0441\\u0442\\u0430\\u0432\\u043a\\u0438 \\u0438 \\u0432 \\u0441\\u043b\\u0443\\u0447\\u0430\\u0435 \\u043e\\u0431\\u043d\\u0430\\u0440\\u0443\\u0436\\u0435\\u043d\\u0438\\u044f \\u043d\\u0435\\u0434\\u043e\\u0441\\u0442\\u0430\\u0442\\u043a\\u043e\\u0432, \\u0432 \\u0442\\u043e\\u043c \\u0447\\u0438\\u0441\\u043b\\u0435 \\u0432\\u0438\\u0434\\u0438\\u043c\\u044b\\u0445, \\u043e\\u0442\\u043a\\u0430\\u0437\\u0430\\u0442\\u044c\\u0441\\u044f \\u043e\\u0442 \\u043f\\u0440\\u0438\\u0435\\u043c\\u043a\\u0438 \\u0442\\u043e\\u0432\\u0430\\u0440\\u0430 (\\u043f.\\u043f. 6.7. \\u2013 6.9.). \\r\\n\\u0422\\u0430\\u043a\\u0438\\u043c \\u043e\\u0431\\u0440\\u0430\\u0437\\u043e\\u043c, \\u0435\\u0441\\u043b\\u0438 \\u0412\\u044b \\u0431\\u044b\\u043b\\u0438 \\u043b\\u0438\\u0448\\u0435\\u043d\\u044b \\u0432\\u043e\\u0437\\u043c\\u043e\\u0436\\u043d\\u043e\\u0441\\u0442\\u0438 \\u043e\\u0441\\u043c\\u043e\\u0442\\u0440\\u0435\\u0442\\u044c \\u0442\\u043e\\u0432\\u0430\\u0440 \\u043d\\u0430 \\u043f\\u0440\\u0435\\u0434\\u043c\\u0435\\u0442 \\u0435\\u0433\\u043e \\u0446\\u0435\\u043b\\u043e\\u0441\\u0442\\u043d\\u043e\\u0441\\u0442\\u0438, \\u043b\\u0438\\u0431\\u043e \\u043d\\u0435\\u0434\\u043e\\u0441\\u0442\\u0430\\u0442\\u043e\\u043a \\u043d\\u0435 \\u043c\\u043e\\u0433 \\u0431\\u044b\\u0442\\u044c \\u0432\\u044b\\u044f\\u0432\\u043b\\u0435\\u043d \\u043f\\u0443\\u0442\\u0435\\u043c \\u0435\\u0433\\u043e \\u0432\\u0438\\u0437\\u0443\\u0430\\u043b\\u044c\\u043d\\u043e\\u0433\\u043e \\u043e\\u0441\\u043c\\u043e\\u0442\\u0440\\u0430, \\u043b\\u0438\\u0431\\u043e \\u0412\\u044b \\u0438\\u043c\\u0435\\u0435\\u0442\\u0435 \\u0434\\u043e\\u043a\\u0430\\u0437\\u0430\\u0442\\u0435\\u043b\\u044c\\u0441\\u0442\\u0432\\u0430 \\u0442\\u043e\\u0433\\u043e, \\u0447\\u0442\\u043e \\u0412\\u0430\\u043c \\u0431\\u044b\\u043b \\u043f\\u0435\\u0440\\u0435\\u0434\\u0430\\u043d \\u0442\\u043e\\u0432\\u0430\\u0440 \\u0441 \\u0443\\u0436\\u0435 \\u0438\\u043c\\u0435\\u044e\\u0449\\u0438\\u043c\\u0441\\u044f \\u043d\\u0435\\u0434\\u043e\\u0441\\u0442\\u0430\\u0442\\u043a\\u043e\\u043c (\\u043d\\u0430\\u043f\\u0440\\u0438\\u043c\\u0435\\u0440, \\u043f\\u043e\\u043a\\u0430\\u0437\\u0430\\u043d\\u0438\\u044f \\u0441\\u0432\\u0438\\u0434\\u0435\\u0442\\u0435\\u043b\\u044f), \\u0412\\u0430\\u043c \\u043d\\u0435\\u043e\\u0431\\u0445\\u043e\\u0434\\u0438\\u043c\\u043e \\u043d\\u0430\\u043f\\u0440\\u0430\\u0432\\u0438\\u0442\\u044c \\u0441\\u043e\\u043e\\u0442\\u0432\\u0435\\u0442\\u0441\\u0442\\u0432\\u0443\\u044e\\u0449\\u0443\\u044e \\u043f\\u0440\\u0435\\u0442\\u0435\\u043d\\u0437\\u0438\\u044e \\u043f\\u0440\\u043e\\u0434\\u0430\\u0432\\u0446\\u0443, \\u0430 \\u0442\\u0430\\u043a\\u0436\\u0435 \\u0432 \\u0441\\u0435\\u0440\\u0432\\u0438\\u0441 \\u0434\\u043e\\u0441\\u0442\\u0430\\u0432\\u043a\\u0438 \\u0442\\u043e\\u0432\\u0430\\u0440\\u0430, \\u0443\\u043a\\u0430\\u0437\\u0430\\u0432 \\u0434\\u0430\\u043d\\u043d\\u044b\\u0435 \\u043e\\u0431\\u0441\\u0442\\u043e\\u044f\\u0442\\u0435\\u043b\\u044c\\u0441\\u0442\\u0432\\u0430. \\r\\n\\u0412 \\u0441\\u043b\\u0443\\u0447\\u0430\\u0435 \\u043e\\u0442\\u043a\\u0430\\u0437\\u0430 \\u0432 \\u0443\\u0434\\u043e\\u0432\\u043b\\u0435\\u0442\\u0432\\u043e\\u0440\\u0435\\u043d\\u0438\\u0438 \\u0442\\u0440\\u0435\\u0431\\u043e\\u0432\\u0430\\u043d\\u0438\\u044f \\u0432 \\u0434\\u043e\\u0431\\u0440\\u043e\\u0432\\u043e\\u043b\\u044c\\u043d\\u043e\\u043c \\u043f\\u043e\\u0440\\u044f\\u0434\\u043a\\u0435 \\u043f\\u043e\\u0442\\u0440\\u0435\\u0431\\u0438\\u0442\\u0435\\u043b\\u044c, \\u043d\\u0430 \\u043e\\u0441\\u043d\\u043e\\u0432\\u0430\\u043d\\u0438\\u0438 \\u0441\\u0442. 17 \\u0417\\u0430\\u043a\\u043e\\u043d\\u0430 \\u0412\\u044b \\u0432\\u043f\\u0440\\u0430\\u0432\\u0435 \\u043e\\u0431\\u0440\\u0430\\u0442\\u0438\\u0442\\u044c\\u0441\\u044f \\u0432 \\u0441\\u0443\\u0434 \\u0441 \\u0438\\u0441\\u043a\\u043e\\u043c \\u043e \\u0437\\u0430\\u0449\\u0438\\u0442\\u0435 \\u043f\\u0440\\u0430\\u0432 \\u043f\\u043e\\u0442\\u0440\\u0435\\u0431\\u0438\\u0442\\u0435\\u043b\\u044f. \\r\\n\",\n          \"\\u0417\\u0434\\u0440\\u0430\\u0432\\u0441\\u0442\\u0432\\u0443\\u0439\\u0442\\u0435.\\r\\n\\u0423\\u043f\\u0440\\u0430\\u0432\\u043b\\u0435\\u043d\\u0438\\u0435 \\u0420\\u043e\\u0441\\u043f\\u043e\\u0442\\u0440\\u0435\\u0431\\u043d\\u0430\\u0434\\u0437\\u043e\\u0440\\u0430 \\u043f\\u043e \\u042f\\u0440\\u043e\\u0441\\u043b\\u0430\\u0432\\u0441\\u043a\\u043e\\u0439 \\u043e\\u0431\\u043b\\u0430\\u0441\\u0442\\u0438 (\\u0434\\u0430\\u043b\\u0435\\u0435 \\u0423\\u043f\\u0440\\u0430\\u0432\\u043b\\u0435\\u043d\\u0438\\u0435 ) \\u0440\\u0430\\u0437\\u044a\\u044f\\u0441\\u043d\\u044f\\u0435\\u0442, \\u0447\\u0442\\u043e \\u0441\\u043e\\u0433\\u043b\\u0430\\u0441\\u043d\\u043e  \\u041f\\u043e\\u043b\\u043e\\u0436\\u0435\\u043d\\u0438\\u044f \\u043e \\u0424\\u0435\\u0434\\u0435\\u0440\\u0430\\u043b\\u044c\\u043d\\u043e\\u0439 \\u0441\\u043b\\u0443\\u0436\\u0431\\u0435 \\u043f\\u043e \\u043d\\u0430\\u0434\\u0437\\u043e\\u0440\\u0443 \\u0432 \\u0441\\u0444\\u0435\\u0440\\u0435 \\u0437\\u0430\\u0449\\u0438\\u0442\\u044b \\u043f\\u0440\\u0430\\u0432 \\u043f\\u043e\\u0442\\u0440\\u0435\\u0431\\u0438\\u0442\\u0435\\u043b\\u0435\\u0439 \\u0438 \\u0431\\u043b\\u0430\\u0433\\u043e\\u043f\\u043e\\u043b\\u0443\\u0447\\u0438\\u044f \\u0447\\u0435\\u043b\\u043e\\u0432\\u0435\\u043a\\u0430, \\u0443\\u0442\\u0432\\u0435\\u0440\\u0436\\u0434\\u0435\\u043d\\u043d\\u043e\\u0433\\u043e \\u043f\\u043e\\u0441\\u0442\\u0430\\u043d\\u043e\\u0432\\u043b\\u0435\\u043d\\u0438\\u0435\\u043c \\u041f\\u0440\\u0430\\u0432\\u0438\\u0442\\u0435\\u043b\\u044c\\u0441\\u0442\\u0432\\u0430 \\u0420\\u043e\\u0441\\u0441\\u0438\\u0439\\u0441\\u043a\\u043e\\u0439 \\u0424\\u0435\\u0434\\u0435\\u0440\\u0430\\u0446\\u0438\\u0438 \\u043e\\u0442 30 \\u0438\\u044e\\u043d\\u044f 2004\\u0433. \\u2116 322 \\u0420\\u043e\\u0441\\u043f\\u043e\\u0442\\u0440\\u0435\\u0431\\u043d\\u0430\\u0434\\u0437\\u043e\\u0440 \\u0432\\u043f\\u0440\\u0430\\u0432\\u0435 \\u043f\\u0440\\u0438\\u043c\\u0435\\u043d\\u044f\\u0442\\u044c \\u043f\\u0440\\u0435\\u0434\\u0443\\u0441\\u043c\\u043e\\u0442\\u0440\\u0435\\u043d\\u043d\\u044b\\u0435 \\u0437\\u0430\\u043a\\u043e\\u043d\\u043e\\u0434\\u0430\\u0442\\u0435\\u043b\\u044c\\u0441\\u0442\\u0432\\u043e\\u043c \\u0420\\u043e\\u0441\\u0441\\u0438\\u0439\\u0441\\u043a\\u043e\\u0439 \\u0424\\u0435\\u0434\\u0435\\u0440\\u0430\\u0446\\u0438\\u0438 \\u043c\\u0435\\u0440\\u044b \\u043e\\u0433\\u0440\\u0430\\u043d\\u0438\\u0447\\u0438\\u0442\\u0435\\u043b\\u044c\\u043d\\u043e\\u0433\\u043e, \\u043f\\u0440\\u0435\\u0434\\u0443\\u043f\\u0440\\u0435\\u0434\\u0438\\u0442\\u0435\\u043b\\u044c\\u043d\\u043e\\u0433\\u043e \\u0438 \\u043f\\u0440\\u043e\\u0444\\u0438\\u043b\\u0430\\u043a\\u0442\\u0438\\u0447\\u0435\\u0441\\u043a\\u043e\\u0433\\u043e \\u0445\\u0430\\u0440\\u0430\\u043a\\u0442\\u0435\\u0440\\u0430 \\u043b\\u0438\\u0448\\u044c \\u043f\\u043e \\u0432\\u043e\\u043f\\u0440\\u043e\\u0441\\u0430\\u043c, \\u043e\\u0442\\u043d\\u0435\\u0441\\u0435\\u043d\\u043d\\u044b\\u043c \\u043a \\u043a\\u043e\\u043c\\u043f\\u0435\\u0442\\u0435\\u043d\\u0446\\u0438\\u0438 \\u0421\\u043b\\u0443\\u0436\\u0431\\u044b, \\u0432 \\u043f\\u0440\\u0435\\u0434\\u0435\\u043b\\u0430\\u0445 \\u043f\\u043e\\u043b\\u043d\\u043e\\u043c\\u043e\\u0447\\u0438\\u0439, \\u0443\\u0441\\u0442\\u0430\\u043d\\u043e\\u0432\\u043b\\u0435\\u043d\\u043d\\u044b\\u0445 \\u0434\\u0435\\u0439\\u0441\\u0442\\u0432\\u0443\\u044e\\u0449\\u0438\\u043c \\u0437\\u0430\\u043a\\u043e\\u043d\\u043e\\u0434\\u0430\\u0442\\u0435\\u043b\\u044c\\u0441\\u0442\\u0432\\u043e\\u043c.  \\u0414\\u0435\\u0439\\u0441\\u0442\\u0432\\u0438\\u044f \\u0438 \\u0440\\u0435\\u0448\\u0435\\u043d\\u0438\\u044f \\u043a\\u043e\\u043d\\u0442\\u0440\\u043e\\u043b\\u044c\\u043d\\u043e\\u0433\\u043e (\\u043d\\u0430\\u0434\\u0437\\u043e\\u0440\\u043d\\u043e\\u0433\\u043e) \\u043e\\u0440\\u0433\\u0430\\u043d\\u0430 \\u0438 \\u0435\\u0433\\u043e \\u0434\\u043e\\u043b\\u0436\\u043d\\u043e\\u0441\\u0442\\u043d\\u044b\\u0445 \\u043b\\u0438\\u0446 \\u0434\\u043e\\u043b\\u0436\\u043d\\u044b \\u0431\\u044b\\u0442\\u044c \\u0437\\u0430\\u043a\\u043e\\u043d\\u043d\\u044b\\u043c\\u0438 \\u0438 \\u043e\\u0431\\u043e\\u0441\\u043d\\u043e\\u0432\\u0430\\u043d\\u043d\\u044b\\u043c\\u0438.\\r\\n \\u0421\\u043e\\u043e\\u0431\\u0449\\u0430\\u0435\\u043c, \\u0447\\u0442\\u043e \\u0423\\u043f\\u0440\\u0430\\u0432\\u043b\\u0435\\u043d\\u0438\\u0435 \\u043e\\u0441\\u0443\\u0449\\u0435\\u0441\\u0442\\u0432\\u043b\\u044f\\u0435\\u0442 \\u043a\\u043e\\u043d\\u0442\\u0440\\u043e\\u043b\\u044c\\u043d\\u043e-\\u043d\\u0430\\u0434\\u0437\\u043e\\u0440\\u043d\\u0443\\u044e \\u0434\\u0435\\u044f\\u0442\\u0435\\u043b\\u044c\\u043d\\u043e\\u0441\\u0442\\u044c \\u0432 \\u0441\\u043e\\u043e\\u0442\\u0432\\u0435\\u0442\\u0441\\u0442\\u0432\\u0438\\u0438 \\u0441 \\u0442\\u0440\\u0435\\u0431\\u043e\\u0432\\u0430\\u043d\\u0438\\u044f\\u043c\\u0438 \\u0424\\u0435\\u0434\\u0435\\u0440\\u0430\\u043b\\u044c\\u043d\\u043e\\u0433\\u043e \\u0437\\u0430\\u043a\\u043e\\u043d\\u0430 \\u043e\\u0442 31.07.2020 N 248-\\u0424\\u0417 (\\u0440\\u0435\\u0434. \\u043e\\u0442 11.06.2021) \\\"\\u041e \\u0433\\u043e\\u0441\\u0443\\u0434\\u0430\\u0440\\u0441\\u0442\\u0432\\u0435\\u043d\\u043d\\u043e\\u043c \\u043a\\u043e\\u043d\\u0442\\u0440\\u043e\\u043b\\u0435 (\\u043d\\u0430\\u0434\\u0437\\u043e\\u0440\\u0435) \\u0438 \\u043c\\u0443\\u043d\\u0438\\u0446\\u0438\\u043f\\u0430\\u043b\\u044c\\u043d\\u043e\\u043c \\u043a\\u043e\\u043d\\u0442\\u0440\\u043e\\u043b\\u0435 \\u0432 \\u0420\\u043e\\u0441\\u0441\\u0438\\u0439\\u0441\\u043a\\u043e\\u0439 \\u0424\\u0435\\u0434\\u0435\\u0440\\u0430\\u0446\\u0438\\u0438\\\" (\\u0434\\u0430\\u043b\\u0435\\u0435 - \\u0417\\u0430\\u043a\\u043e\\u043d).  \\u041f\\u043e\\u0440\\u044f\\u0434\\u043e\\u043a \\u043e\\u0440\\u0433\\u0430\\u043d\\u0438\\u0437\\u0430\\u0446\\u0438\\u0438 \\u043a\\u043e\\u043d\\u0442\\u0440\\u043e\\u043b\\u044c\\u043d\\u043e-\\u043d\\u0430\\u0434\\u0437\\u043e\\u0440\\u043d\\u044b\\u0445 \\u043c\\u0435\\u0440\\u043e\\u043f\\u0440\\u0438\\u044f\\u0442\\u0438\\u0439 \\u0432 2024\\u0433 \\u043e\\u043f\\u0440\\u0435\\u0434\\u0435\\u043b\\u0435\\u043d \\u041f\\u043e\\u0441\\u0442\\u0430\\u043d\\u043e\\u0432\\u043b\\u0435\\u043d\\u0438\\u0435\\u043c \\u041f\\u0440\\u0430\\u0432\\u0438\\u0442\\u0435\\u043b\\u044c\\u0441\\u0442\\u0432\\u0430 \\u0420\\u0424 \\u043e\\u0442 10.03.2022\\u0433 \\u2116 336 \\u00ab\\u041e\\u0431 \\u043e\\u0441\\u043e\\u0431\\u0435\\u043d\\u043d\\u043e\\u0441\\u0442\\u044f\\u0445 \\u043e\\u0440\\u0433\\u0430\\u043d\\u0438\\u0437\\u0430\\u0446\\u0438\\u0438 \\u0438 \\u043e\\u0441\\u0443\\u0449\\u0435\\u0441\\u0442\\u0432\\u043b\\u0435\\u043d\\u0438\\u044f \\u0433\\u043e\\u0441\\u0443\\u0434\\u0430\\u0440\\u0441\\u0442\\u0432\\u0435\\u043d\\u043d\\u043e\\u0433\\u043e \\u043a\\u043e\\u043d\\u0442\\u0440\\u043e\\u043b\\u044f (\\u043d\\u0430\\u0434\\u0437\\u043e\\u0440\\u0430), \\u043c\\u0443\\u043d\\u0438\\u0446\\u0438\\u043f\\u0430\\u043b\\u044c\\u043d\\u043e\\u0433\\u043e \\u043a\\u043e\\u043d\\u0442\\u0440\\u043e\\u043b\\u044f\\u00bb \\u0438 \\u0440\\u0430\\u0437\\u044a\\u044f\\u0441\\u043d\\u0435\\u043d \\u043f\\u0438\\u0441\\u044c\\u043c\\u043e\\u043c \\u041c\\u0438\\u043d\\u044d\\u043a\\u043e\\u043d\\u043e\\u043c\\u0440\\u0430\\u0437\\u0432\\u0438\\u0442\\u0438\\u044f \\u0420\\u043e\\u0441\\u0441\\u0438\\u0438 \\u043e\\u0442 24.03.2022\\u0433 \\u2116 \\u041424\\u043d-8436. \\u041f\\u0440\\u043e\\u0432\\u0435\\u0434\\u0435\\u043d\\u0438\\u0435 \\u043a\\u043e\\u043d\\u0442\\u0440\\u043e\\u043b\\u044c\\u043d\\u043e-\\u043d\\u0430\\u0434\\u0437\\u043e\\u0440\\u043d\\u044b\\u0445 \\u043c\\u0435\\u0440\\u043e\\u043f\\u0440\\u0438\\u044f\\u0442\\u0438\\u0439 \\u0432\\u043e\\u0437\\u043c\\u043e\\u0436\\u043d\\u043e \\u0442\\u043e\\u043b\\u044c\\u043a\\u043e \\u0432 \\u0442\\u0435\\u0445 \\u0441\\u043b\\u0443\\u0447\\u0430\\u044f\\u0445, \\u043a\\u043e\\u0433\\u0434\\u0430 \\u0441\\u0443\\u0449\\u0435\\u0441\\u0442\\u0432\\u0443\\u0435\\u0442   \\u0432\\u044b\\u0441\\u043e\\u043a\\u0430\\u044f \\u0441\\u0442\\u0435\\u043f\\u0435\\u043d\\u044c \\u0432\\u0435\\u0440\\u043e\\u044f\\u0442\\u043d\\u043e\\u0441\\u0442\\u0438 \\u043f\\u0440\\u0438\\u0447\\u0438\\u043d\\u0435\\u043d\\u0438\\u044f \\u0432\\u0440\\u0435\\u0434\\u0430 \\u0432 \\u043a\\u0440\\u0430\\u0442\\u043a\\u043e\\u0441\\u0440\\u043e\\u0447\\u043d\\u043e\\u0439 \\u043f\\u0435\\u0440\\u0441\\u043f\\u0435\\u043a\\u0442\\u0438\\u0432\\u0435, \\u043a\\u043e\\u0433\\u0434\\u0430 \\u043e\\u0442\\u0441\\u0443\\u0442\\u0441\\u0442\\u0432\\u0438\\u0435 \\u043c\\u0435\\u0440 \\u0440\\u0435\\u0430\\u0433\\u0438\\u0440\\u043e\\u0432\\u0430\\u043d\\u0438\\u044f \\u043d\\u0435\\u043c\\u0438\\u043d\\u0443\\u0435\\u043c\\u043e \\u0432\\u043b\\u0435\\u0447\\u0435\\u0442 \\u043d\\u0430\\u0441\\u0442\\u0443\\u043f\\u043b\\u0435\\u043d\\u0438\\u0435 \\u043d\\u0435\\u0433\\u0430\\u0442\\u0438\\u0432\\u043d\\u044b\\u0445 \\u043f\\u043e\\u0441\\u043b\\u0435\\u0434\\u0441\\u0442\\u0432\\u0438\\u0439.\\r\\n\\u041a\\u0443\\u043b\\u044c\\u0442\\u0443\\u0440\\u0430 \\u043f\\u043e\\u0432\\u0435\\u0434\\u0435\\u043d\\u0438\\u044f \\u0441\\u043e\\u0442\\u0440\\u0443\\u0434\\u043d\\u0438\\u043a\\u043e\\u0432 \\u043f\\u0440\\u0435\\u0434\\u043f\\u0440\\u0438\\u044f\\u0442\\u0438\\u044f, \\u0437\\u0430\\u043a\\u043e\\u043d\\u043e\\u0434\\u0430\\u0442\\u0435\\u043b\\u044c\\u0441\\u0442\\u0432\\u043e\\u043c \\u043e \\u0437\\u0430\\u0449\\u0438\\u0442\\u0435 \\u043f\\u0440\\u0430\\u0432 \\u043f\\u043e\\u0442\\u0440\\u0435\\u0431\\u0438\\u0442\\u0435\\u043b\\u0435\\u0439 \\u043d\\u0435 \\u0440\\u0435\\u0433\\u0443\\u043b\\u0438\\u0440\\u0443\\u0435\\u0442\\u0441\\u044f. \\u0410\\u0434\\u043c\\u0438\\u043d\\u0438\\u0441\\u0442\\u0440\\u0430\\u0442\\u0438\\u0432\\u043d\\u0430\\u044f \\u043e\\u0442\\u0432\\u0435\\u0442\\u0441\\u0442\\u0432\\u0435\\u043d\\u043d\\u043e\\u0441\\u0442\\u044c \\u0437\\u0430 \\u043d\\u0435\\u043a\\u043e\\u0440\\u0440\\u0435\\u043a\\u0442\\u043d\\u043e\\u0435 \\u043f\\u043e\\u0432\\u0435\\u0434\\u0435\\u043d\\u0438\\u0435 \\u043e\\u0431\\u0441\\u043b\\u0443\\u0436\\u0438\\u0432\\u0430\\u044e\\u0449\\u0435\\u0433\\u043e \\u043f\\u0435\\u0440\\u0441\\u043e\\u043d\\u0430\\u043b\\u0430 \\u043f\\u0440\\u0435\\u0434\\u043f\\u0440\\u0438\\u044f\\u0442\\u0438\\u044f \\u0440\\u043e\\u0437\\u043d\\u0438\\u0447\\u043d\\u043e\\u0439 \\u0442\\u043e\\u0440\\u0433\\u043e\\u0432\\u043b\\u0438 \\u043d\\u0435 \\u043f\\u0440\\u0435\\u0434\\u0443\\u0441\\u043c\\u043e\\u0442\\u0440\\u0435\\u043d\\u0430.\\r\\n\\u0412\\u044b \\u0432\\u043f\\u0440\\u0430\\u0432\\u0435 \\u043e\\u0431\\u0440\\u0430\\u0442\\u0438\\u0442\\u044c\\u0441\\u044f \\u043a \\u043f\\u0440\\u043e\\u0434\\u0430\\u0432\\u0446\\u0443 \\u0441 \\u043f\\u0440\\u0435\\u0442\\u0435\\u043d\\u0437\\u0438\\u0435\\u0439 \\u0437\\u0430 \\u0432\\u043e\\u0441\\u0441\\u0442\\u0430\\u043d\\u043e\\u0432\\u043b\\u0435\\u043d\\u0438\\u0435\\u043c \\u0441\\u0432\\u043e\\u0438\\u0445 \\u043d\\u0430\\u0440\\u0443\\u0448\\u0435\\u043d\\u043d\\u044b\\u0445 \\u043f\\u0440\\u0430\\u0432.\\r\\n\\u0414\\u043e\\u043f\\u043e\\u043b\\u043d\\u0438\\u0442\\u0435\\u043b\\u044c\\u043d\\u043e \\u0438\\u043d\\u0444\\u043e\\u0440\\u043c\\u0438\\u0440\\u0443\\u0435\\u043c, \\u0447\\u0442\\u043e \\u0423\\u043f\\u0440\\u0430\\u0432\\u043b\\u0435\\u043d\\u0438\\u0435 \\u043d\\u0435 \\u043a\\u043e\\u043d\\u0442\\u0440\\u043e\\u043b\\u0438\\u0440\\u0443\\u0435\\u0442 \\u0440\\u0430\\u0431\\u043e\\u0442\\u0443 \\u043a\\u043e\\u043d\\u0442\\u0440\\u043e\\u043b\\u044c\\u043d\\u043e-\\u043a\\u0430\\u0441\\u0441\\u043e\\u0432\\u043e\\u0439 \\u0442\\u0435\\u0445\\u043d\\u0438\\u043a\\u0438. \\u0414\\u043b\\u044f \\u0440\\u0435\\u0448\\u0435\\u043d\\u0438\\u044f \\u044d\\u0442\\u043e\\u0433\\u043e \\u0432\\u043e\\u043f\\u0440\\u043e\\u0441\\u0430 \\u0412\\u0430\\u043c \\u043d\\u0435\\u043e\\u0431\\u0445\\u043e\\u0434\\u0438\\u043c\\u043e \\u043e\\u0431\\u0440\\u0430\\u0442\\u0438\\u0442\\u044c\\u0441\\u044f \\u0432 \\u0423\\u0424\\u041d\\u0421 \\u0420\\u043e\\u0441\\u0441\\u0438\\u0438 \\u043f\\u043e \\u042f\\u0440\\u043e\\u0441\\u043b\\u0430\\u0432\\u0441\\u043a\\u043e\\u0439 \\u043e\\u0431\\u043b\\u0430\\u0441\\u0442\\u0438.\\r\\n\"\n        ],\n        \"semantic_type\": \"\",\n        \"description\": \"\"\n      }\n    }\n  ]\n}"
            }
          },
          "metadata": {},
          "execution_count": 24
        }
      ]
    },
    {
      "cell_type": "code",
      "source": [
        "df.to_csv(path_to_work_dir + \"RPN_parser.csv\", index=None)"
      ],
      "metadata": {
        "id": "OO6l8I9q0Emm"
      },
      "execution_count": null,
      "outputs": []
    },
    {
      "cell_type": "markdown",
      "source": [
        "# III About data"
      ],
      "metadata": {
        "id": "lGIGenQQzHuV"
      }
    },
    {
      "cell_type": "markdown",
      "source": [
        "## 4 Review data"
      ],
      "metadata": {
        "id": "khK2kVcGUHca"
      }
    },
    {
      "cell_type": "code",
      "source": [
        "df = pd.read_csv(path_to_work_dir + \"RPN_parser.csv\")\n",
        "df.head(5)"
      ],
      "metadata": {
        "colab": {
          "base_uri": "https://localhost:8080/",
          "height": 206
        },
        "id": "l8ilXalD0Pwg",
        "outputId": "e8d137ef-ba84-466c-8bc7-71c1664ada1a"
      },
      "execution_count": null,
      "outputs": [
        {
          "output_type": "execute_result",
          "data": {
            "text/plain": [
              "   doc_id                                      RPN_questions  \\\n",
              "0   44015  28 сентября 23г оформила заказ на сумму 42852р...   \n",
              "1   44010  Добрый день!\\r\\nСовершил несколько покупок на ...   \n",
              "2   44009  Здравствуйте! Хочу пожаловаться на магазин кот...   \n",
              "3   43999  17.04.2023 года в 22:03 в магазине «Магнит» по...   \n",
              "4   43998  14 апреля 2024 года забрала посылку с мегамарк...   \n",
              "\n",
              "                                         RPN_answers  \n",
              "0  Добрый день! Вам необходимо направить обращени...  \n",
              "1  Добрый день! Что такое кэшбэк и как его получи...  \n",
              "2  Здравствуйте.\\r\\nУправление Роспотребнадзора п...  \n",
              "3  Уважаемая Виктория!\\r\\n\\r\\nСообщаем, что данны...  \n",
              "4  Уважаемая Вера!\\r\\n\\r\\n\\r\\nСогласно п. 5 ст. 2...  "
            ],
            "text/html": [
              "\n",
              "  <div id=\"df-9c7a575b-ccda-4783-adcb-f2139f710b47\" class=\"colab-df-container\">\n",
              "    <div>\n",
              "<style scoped>\n",
              "    .dataframe tbody tr th:only-of-type {\n",
              "        vertical-align: middle;\n",
              "    }\n",
              "\n",
              "    .dataframe tbody tr th {\n",
              "        vertical-align: top;\n",
              "    }\n",
              "\n",
              "    .dataframe thead th {\n",
              "        text-align: right;\n",
              "    }\n",
              "</style>\n",
              "<table border=\"1\" class=\"dataframe\">\n",
              "  <thead>\n",
              "    <tr style=\"text-align: right;\">\n",
              "      <th></th>\n",
              "      <th>doc_id</th>\n",
              "      <th>RPN_questions</th>\n",
              "      <th>RPN_answers</th>\n",
              "    </tr>\n",
              "  </thead>\n",
              "  <tbody>\n",
              "    <tr>\n",
              "      <th>0</th>\n",
              "      <td>44015</td>\n",
              "      <td>28 сентября 23г оформила заказ на сумму 42852р...</td>\n",
              "      <td>Добрый день! Вам необходимо направить обращени...</td>\n",
              "    </tr>\n",
              "    <tr>\n",
              "      <th>1</th>\n",
              "      <td>44010</td>\n",
              "      <td>Добрый день!\\r\\nСовершил несколько покупок на ...</td>\n",
              "      <td>Добрый день! Что такое кэшбэк и как его получи...</td>\n",
              "    </tr>\n",
              "    <tr>\n",
              "      <th>2</th>\n",
              "      <td>44009</td>\n",
              "      <td>Здравствуйте! Хочу пожаловаться на магазин кот...</td>\n",
              "      <td>Здравствуйте.\\r\\nУправление Роспотребнадзора п...</td>\n",
              "    </tr>\n",
              "    <tr>\n",
              "      <th>3</th>\n",
              "      <td>43999</td>\n",
              "      <td>17.04.2023 года в 22:03 в магазине «Магнит» по...</td>\n",
              "      <td>Уважаемая Виктория!\\r\\n\\r\\nСообщаем, что данны...</td>\n",
              "    </tr>\n",
              "    <tr>\n",
              "      <th>4</th>\n",
              "      <td>43998</td>\n",
              "      <td>14 апреля 2024 года забрала посылку с мегамарк...</td>\n",
              "      <td>Уважаемая Вера!\\r\\n\\r\\n\\r\\nСогласно п. 5 ст. 2...</td>\n",
              "    </tr>\n",
              "  </tbody>\n",
              "</table>\n",
              "</div>\n",
              "    <div class=\"colab-df-buttons\">\n",
              "\n",
              "  <div class=\"colab-df-container\">\n",
              "    <button class=\"colab-df-convert\" onclick=\"convertToInteractive('df-9c7a575b-ccda-4783-adcb-f2139f710b47')\"\n",
              "            title=\"Convert this dataframe to an interactive table.\"\n",
              "            style=\"display:none;\">\n",
              "\n",
              "  <svg xmlns=\"http://www.w3.org/2000/svg\" height=\"24px\" viewBox=\"0 -960 960 960\">\n",
              "    <path d=\"M120-120v-720h720v720H120Zm60-500h600v-160H180v160Zm220 220h160v-160H400v160Zm0 220h160v-160H400v160ZM180-400h160v-160H180v160Zm440 0h160v-160H620v160ZM180-180h160v-160H180v160Zm440 0h160v-160H620v160Z\"/>\n",
              "  </svg>\n",
              "    </button>\n",
              "\n",
              "  <style>\n",
              "    .colab-df-container {\n",
              "      display:flex;\n",
              "      gap: 12px;\n",
              "    }\n",
              "\n",
              "    .colab-df-convert {\n",
              "      background-color: #E8F0FE;\n",
              "      border: none;\n",
              "      border-radius: 50%;\n",
              "      cursor: pointer;\n",
              "      display: none;\n",
              "      fill: #1967D2;\n",
              "      height: 32px;\n",
              "      padding: 0 0 0 0;\n",
              "      width: 32px;\n",
              "    }\n",
              "\n",
              "    .colab-df-convert:hover {\n",
              "      background-color: #E2EBFA;\n",
              "      box-shadow: 0px 1px 2px rgba(60, 64, 67, 0.3), 0px 1px 3px 1px rgba(60, 64, 67, 0.15);\n",
              "      fill: #174EA6;\n",
              "    }\n",
              "\n",
              "    .colab-df-buttons div {\n",
              "      margin-bottom: 4px;\n",
              "    }\n",
              "\n",
              "    [theme=dark] .colab-df-convert {\n",
              "      background-color: #3B4455;\n",
              "      fill: #D2E3FC;\n",
              "    }\n",
              "\n",
              "    [theme=dark] .colab-df-convert:hover {\n",
              "      background-color: #434B5C;\n",
              "      box-shadow: 0px 1px 3px 1px rgba(0, 0, 0, 0.15);\n",
              "      filter: drop-shadow(0px 1px 2px rgba(0, 0, 0, 0.3));\n",
              "      fill: #FFFFFF;\n",
              "    }\n",
              "  </style>\n",
              "\n",
              "    <script>\n",
              "      const buttonEl =\n",
              "        document.querySelector('#df-9c7a575b-ccda-4783-adcb-f2139f710b47 button.colab-df-convert');\n",
              "      buttonEl.style.display =\n",
              "        google.colab.kernel.accessAllowed ? 'block' : 'none';\n",
              "\n",
              "      async function convertToInteractive(key) {\n",
              "        const element = document.querySelector('#df-9c7a575b-ccda-4783-adcb-f2139f710b47');\n",
              "        const dataTable =\n",
              "          await google.colab.kernel.invokeFunction('convertToInteractive',\n",
              "                                                    [key], {});\n",
              "        if (!dataTable) return;\n",
              "\n",
              "        const docLinkHtml = 'Like what you see? Visit the ' +\n",
              "          '<a target=\"_blank\" href=https://colab.research.google.com/notebooks/data_table.ipynb>data table notebook</a>'\n",
              "          + ' to learn more about interactive tables.';\n",
              "        element.innerHTML = '';\n",
              "        dataTable['output_type'] = 'display_data';\n",
              "        await google.colab.output.renderOutput(dataTable, element);\n",
              "        const docLink = document.createElement('div');\n",
              "        docLink.innerHTML = docLinkHtml;\n",
              "        element.appendChild(docLink);\n",
              "      }\n",
              "    </script>\n",
              "  </div>\n",
              "\n",
              "\n",
              "<div id=\"df-d944b824-7506-429c-9af9-1c2bbb769e80\">\n",
              "  <button class=\"colab-df-quickchart\" onclick=\"quickchart('df-d944b824-7506-429c-9af9-1c2bbb769e80')\"\n",
              "            title=\"Suggest charts\"\n",
              "            style=\"display:none;\">\n",
              "\n",
              "<svg xmlns=\"http://www.w3.org/2000/svg\" height=\"24px\"viewBox=\"0 0 24 24\"\n",
              "     width=\"24px\">\n",
              "    <g>\n",
              "        <path d=\"M19 3H5c-1.1 0-2 .9-2 2v14c0 1.1.9 2 2 2h14c1.1 0 2-.9 2-2V5c0-1.1-.9-2-2-2zM9 17H7v-7h2v7zm4 0h-2V7h2v10zm4 0h-2v-4h2v4z\"/>\n",
              "    </g>\n",
              "</svg>\n",
              "  </button>\n",
              "\n",
              "<style>\n",
              "  .colab-df-quickchart {\n",
              "      --bg-color: #E8F0FE;\n",
              "      --fill-color: #1967D2;\n",
              "      --hover-bg-color: #E2EBFA;\n",
              "      --hover-fill-color: #174EA6;\n",
              "      --disabled-fill-color: #AAA;\n",
              "      --disabled-bg-color: #DDD;\n",
              "  }\n",
              "\n",
              "  [theme=dark] .colab-df-quickchart {\n",
              "      --bg-color: #3B4455;\n",
              "      --fill-color: #D2E3FC;\n",
              "      --hover-bg-color: #434B5C;\n",
              "      --hover-fill-color: #FFFFFF;\n",
              "      --disabled-bg-color: #3B4455;\n",
              "      --disabled-fill-color: #666;\n",
              "  }\n",
              "\n",
              "  .colab-df-quickchart {\n",
              "    background-color: var(--bg-color);\n",
              "    border: none;\n",
              "    border-radius: 50%;\n",
              "    cursor: pointer;\n",
              "    display: none;\n",
              "    fill: var(--fill-color);\n",
              "    height: 32px;\n",
              "    padding: 0;\n",
              "    width: 32px;\n",
              "  }\n",
              "\n",
              "  .colab-df-quickchart:hover {\n",
              "    background-color: var(--hover-bg-color);\n",
              "    box-shadow: 0 1px 2px rgba(60, 64, 67, 0.3), 0 1px 3px 1px rgba(60, 64, 67, 0.15);\n",
              "    fill: var(--button-hover-fill-color);\n",
              "  }\n",
              "\n",
              "  .colab-df-quickchart-complete:disabled,\n",
              "  .colab-df-quickchart-complete:disabled:hover {\n",
              "    background-color: var(--disabled-bg-color);\n",
              "    fill: var(--disabled-fill-color);\n",
              "    box-shadow: none;\n",
              "  }\n",
              "\n",
              "  .colab-df-spinner {\n",
              "    border: 2px solid var(--fill-color);\n",
              "    border-color: transparent;\n",
              "    border-bottom-color: var(--fill-color);\n",
              "    animation:\n",
              "      spin 1s steps(1) infinite;\n",
              "  }\n",
              "\n",
              "  @keyframes spin {\n",
              "    0% {\n",
              "      border-color: transparent;\n",
              "      border-bottom-color: var(--fill-color);\n",
              "      border-left-color: var(--fill-color);\n",
              "    }\n",
              "    20% {\n",
              "      border-color: transparent;\n",
              "      border-left-color: var(--fill-color);\n",
              "      border-top-color: var(--fill-color);\n",
              "    }\n",
              "    30% {\n",
              "      border-color: transparent;\n",
              "      border-left-color: var(--fill-color);\n",
              "      border-top-color: var(--fill-color);\n",
              "      border-right-color: var(--fill-color);\n",
              "    }\n",
              "    40% {\n",
              "      border-color: transparent;\n",
              "      border-right-color: var(--fill-color);\n",
              "      border-top-color: var(--fill-color);\n",
              "    }\n",
              "    60% {\n",
              "      border-color: transparent;\n",
              "      border-right-color: var(--fill-color);\n",
              "    }\n",
              "    80% {\n",
              "      border-color: transparent;\n",
              "      border-right-color: var(--fill-color);\n",
              "      border-bottom-color: var(--fill-color);\n",
              "    }\n",
              "    90% {\n",
              "      border-color: transparent;\n",
              "      border-bottom-color: var(--fill-color);\n",
              "    }\n",
              "  }\n",
              "</style>\n",
              "\n",
              "  <script>\n",
              "    async function quickchart(key) {\n",
              "      const quickchartButtonEl =\n",
              "        document.querySelector('#' + key + ' button');\n",
              "      quickchartButtonEl.disabled = true;  // To prevent multiple clicks.\n",
              "      quickchartButtonEl.classList.add('colab-df-spinner');\n",
              "      try {\n",
              "        const charts = await google.colab.kernel.invokeFunction(\n",
              "            'suggestCharts', [key], {});\n",
              "      } catch (error) {\n",
              "        console.error('Error during call to suggestCharts:', error);\n",
              "      }\n",
              "      quickchartButtonEl.classList.remove('colab-df-spinner');\n",
              "      quickchartButtonEl.classList.add('colab-df-quickchart-complete');\n",
              "    }\n",
              "    (() => {\n",
              "      let quickchartButtonEl =\n",
              "        document.querySelector('#df-d944b824-7506-429c-9af9-1c2bbb769e80 button');\n",
              "      quickchartButtonEl.style.display =\n",
              "        google.colab.kernel.accessAllowed ? 'block' : 'none';\n",
              "    })();\n",
              "  </script>\n",
              "</div>\n",
              "    </div>\n",
              "  </div>\n"
            ],
            "application/vnd.google.colaboratory.intrinsic+json": {
              "type": "dataframe",
              "variable_name": "df",
              "summary": "{\n  \"name\": \"df\",\n  \"rows\": 4995,\n  \"fields\": [\n    {\n      \"column\": \"doc_id\",\n      \"properties\": {\n        \"dtype\": \"number\",\n        \"std\": 6,\n        \"min\": 43998,\n        \"max\": 44015,\n        \"num_unique_values\": 5,\n        \"samples\": [\n          44010,\n          43998,\n          44009\n        ],\n        \"semantic_type\": \"\",\n        \"description\": \"\"\n      }\n    },\n    {\n      \"column\": \"RPN_questions\",\n      \"properties\": {\n        \"dtype\": \"category\",\n        \"num_unique_values\": 5,\n        \"samples\": [\n          \"\\u0414\\u043e\\u0431\\u0440\\u044b\\u0439 \\u0434\\u0435\\u043d\\u044c!\\r\\n\\u0421\\u043e\\u0432\\u0435\\u0440\\u0448\\u0438\\u043b \\u043d\\u0435\\u0441\\u043a\\u043e\\u043b\\u044c\\u043a\\u043e \\u043f\\u043e\\u043a\\u0443\\u043f\\u043e\\u043a \\u043d\\u0430 \\u043c\\u0435\\u0433\\u0430\\u043c\\u0430\\u0440\\u043a\\u0435\\u0442\\u0435, \\u043f\\u043e \\u043a\\u043e\\u0442\\u043e\\u0440\\u044b\\u043c \\u043c\\u043d\\u0435 \\u043e\\u0431\\u044f\\u0437\\u0430\\u043d\\u044b \\u0431\\u044b\\u043b\\u0438 \\u043f\\u0440\\u0435\\u0434\\u043e\\u0441\\u0442\\u0430\\u0432\\u0438\\u0442\\u044c \\u043f\\u043e\\u0432\\u044b\\u0448\\u0435\\u043d\\u043d\\u044b\\u0439 \\u043a\\u044d\\u0448\\u0431\\u0435\\u043a (\\u0437\\u0435\\u043b\\u0435\\u043d\\u043e\\u0433\\u043e \\u0446\\u0432\\u0435\\u0442\\u0430), \\u0442\\u0430\\u043a \\u043a\\u0430\\u043a \\u043f\\u043b\\u0430\\u0442\\u0438\\u043b \\u0447\\u0435\\u0440\\u0435\\u0437 sberpay \\u0438 \\u0441\\u0431\\u0435\\u0440\\u0431\\u0430\\u043d\\u043a \\u043a\\u0440\\u0435\\u0434\\u0438\\u0442.\\r\\n\\u0412 \\u0438\\u0442\\u043e\\u0433\\u0435 \\u043a\\u044d\\u0448\\u0431\\u0435\\u043a \\u043f\\u0440\\u043e\\u0448\\u0435\\u043b \\u043f\\u043e \\u043d\\u0438\\u0436\\u043d\\u0435\\u0439 \\u0433\\u0440\\u0430\\u043d\\u0438\\u0446\\u0435 (\\u0441\\u0435\\u0440\\u043e\\u0433\\u043e \\u0446\\u0432\\u0435\\u0442\\u0430) \\u043a\\u0430\\u043a \\u0431\\u0443\\u0434\\u0442\\u043e \\u044f \\u043f\\u043b\\u0430\\u0442\\u0438\\u043b \\u043d\\u0435 \\u0441\\u0435\\u0440\\u0432\\u0438\\u0441\\u043e\\u043c \\u0441\\u0431\\u0435\\u0440\\u0431\\u0430\\u043d\\u043a. \\u0412 \\u043e\\u0431\\u0449\\u0435\\u0439 \\u0441\\u043b\\u043e\\u0436\\u043d\\u043e\\u0441\\u0442\\u0438 \\u043d\\u0435 \\u0434\\u043e\\u0441\\u0447\\u0438\\u0442\\u0430\\u043b\\u0441\\u044f \\u043f\\u043e\\u0447\\u0442\\u0438 10000 \\u0431\\u043e\\u043d\\u0443\\u0441\\u043e\\u0432! \\u0414\\u0432\\u0430 \\u043e\\u0431\\u0440\\u0430\\u0449\\u0435\\u043d\\u0438\\u044f \\u0434\\u043e \\u0441\\u0438\\u0445 \\u043f\\u043e\\u0440 \\u043d\\u0435 \\u0438\\u0441\\u043f\\u043e\\u043b\\u043d\\u0435\\u043d\\u044b \\u0441 \\u0444\\u0435\\u0432\\u0440\\u0430\\u043b\\u044f \\u043c\\u0435\\u0441\\u044f\\u0446\\u0430 !!!! \\u041d\\u043e\\u043c\\u0435\\u0440\\u0430: GDS-3036411 \\u0438 GDS-3092301. \\u041c\\u0435\\u0433\\u0430\\u043c\\u0430\\u0440\\u043a\\u0435\\u0442 \\u0438 \\u0441\\u0431\\u0435\\u0440\\u0431\\u0430\\u043d\\u043a \\u043d\\u0438\\u043a\\u0430\\u043a\\u0438\\u043c \\u043e\\u0431\\u0440\\u0430\\u0437\\u043e\\u043c \\u043d\\u0435 \\u043a\\u043e\\u043c\\u043c\\u0443\\u043d\\u0438\\u0446\\u0438\\u0440\\u0443\\u044e\\u0442 \\u0441\\u043e \\u043c\\u043d\\u043e\\u0439, \\u0441\\u0441\\u044b\\u043b\\u0430\\u044e\\u0442\\u0441\\u044f, \\u0447\\u0442\\u043e \\u0435\\u0449\\u0435 \\u0440\\u0430\\u0431\\u043e\\u0442\\u0430\\u044e\\u0442. \\u041d\\u043e \\u0443\\u0436\\u0435 \\u043f\\u0440\\u043e\\u0448\\u043b\\u043e 2 \\u043c\\u0435\\u0441\\u044f\\u0446\\u0430!!!! \\u0410 \\u044f \\u043d\\u0435 \\u043c\\u043e\\u0433\\u0443 \\u0432\\u043e\\u0441\\u043f\\u043e\\u043b\\u044c\\u0437\\u043e\\u0432\\u0430\\u0442\\u044c\\u0441\\u044f \\u0444\\u0430\\u043a\\u0442\\u0438\\u0447\\u0435\\u0441\\u043a\\u0438 \\u0434\\u0435\\u043d\\u0435\\u0436\\u043d\\u044b\\u043c\\u0438 \\u0441\\u0440\\u0435\\u0434\\u0441\\u0442\\u0432\\u0430\\u043c\\u0438, \\u043a\\u043e\\u0442\\u043e\\u0440\\u044b\\u0435 \\u0434\\u043e\\u043b\\u0436\\u043d\\u044b \\u0431\\u044b\\u0442\\u044c \\u043c\\u043d\\u0435 \\u0434\\u0430\\u043d\\u044b \\u043f\\u043e \\u043f\\u0440\\u0430\\u0432\\u0443.\",\n          \"14 \\u0430\\u043f\\u0440\\u0435\\u043b\\u044f 2024 \\u0433\\u043e\\u0434\\u0430 \\u0437\\u0430\\u0431\\u0440\\u0430\\u043b\\u0430 \\u043f\\u043e\\u0441\\u044b\\u043b\\u043a\\u0443 \\u0441 \\u043c\\u0435\\u0433\\u0430\\u043c\\u0430\\u0440\\u043a\\u0435\\u0442\\u0430 \\u0432 \\u043c\\u0430\\u0433\\u0430\\u0437\\u0438\\u043d\\u0435 \\u043f\\u044f\\u0442\\u0435\\u0440\\u043e\\u0447\\u043a\\u0430,\\r\\n\\u0434\\u043e\\u043b\\u0433\\u043e\\u0435 \\u0432\\u0440\\u0435\\u043c\\u044f \\u043d\\u0435 \\u043c\\u043e\\u0433\\u043b\\u0430 \\u043f\\u0440\\u043e\\u0431\\u0438\\u0442\\u044c \\u0441\\u0435\\u0440\\u0438\\u044e \\u043f\\u043e\\u0434\\u043b\\u0438\\u043d\\u043d\\u043e\\u0441\\u0442\\u0438 \\u0442\\u043e\\u0432\\u0430\\u0440\\u0430 \\u043d\\u0430 \\u043e\\u0444\\u0438\\u0446\\u0438\\u0430\\u043b\\u044c\\u043d\\u043e\\u043c \\u0441\\u0430\\u0439\\u0442\\u0435-\\u044d\\u0442\\u043e \\u0441\\u0440\\u0430\\u0437\\u0443 \\u0432\\u044b\\u0437\\u0432\\u0430\\u043b\\u043e \\u043f\\u043e\\u0434\\u043e\\u0437\\u0440\\u0435\\u043d\\u0438\\u0435,\\r\\n\\u0443\\u043f\\u0430\\u043a\\u043e\\u0432\\u043a\\u0430 \\u0441\\u0440\\u0430\\u0437\\u0443 \\u0432\\u044b\\u0437\\u0432\\u0430\\u043b\\u0430 \\u043f\\u043e\\u0434\\u043e\\u0437\\u0440\\u0435\\u043d\\u0438\\u0435 \\u043d\\u0430 \\u043d\\u0435\\u043a\\u0430\\u0447\\u0435\\u0441\\u0442\\u0432\\u0435\\u043d\\u043d\\u044b\\u0439 \\u0437\\u0430\\u0432\\u043e\\u0434\\u0441\\u043a\\u043e\\u0439 \\u0431\\u0440\\u0430\\u043a \\u0442\\u043e\\u0432\\u0430\\u0440\\u0430\\r\\n\\u043f\\u0440\\u0438 \\u0432\\u0441\\u043a\\u0440\\u044b\\u0442\\u0438\\u0438 \\u043e\\u0431\\u043d\\u0430\\u0440\\u0443\\u0436\\u0438\\u043b\\u0430 \\u0432\\u043d\\u0435\\u0448\\u043d\\u0435\\u0435 \\u043e\\u0442\\u043b\\u0438\\u0447\\u0438\\u0435 \\u043e\\u0442 \\u043e\\u0440\\u0438\\u0433\\u0438\\u043d\\u0430\\u043b\\u0430  \\r\\n\\u041f\\u0440\\u043e\\u0448\\u0443 \\u0432\\u0435\\u0440\\u043d\\u0443\\u0442\\u044c \\u043c\\u043d\\u0435 \\u0434\\u0435\\u043d\\u044c\\u0433\\u0438 \\u0438 \\u043f\\u0440\\u0435\\u0434\\u043e\\u0441\\u0442\\u0430\\u0432\\u0438\\u0442\\u044c \\u043a\\u043e\\u043c\\u043c\\u0435\\u043d\\u0442\\u0430\\u0440\\u0438\\u0439 \\u043e\\u0431 \\u0441\\u0438\\u0442\\u0443\\u0430\\u0446\\u0438\\u0438! \\r\\n\\u0434\\u0430\\u0442\\u0430 \\u043f\\u043e\\u043a\\u0443\\u043f\\u043a\\u0438 \\u0444\\u0435\\u0432\\u0440\\u0430\\u043b\\u044c \\u043c\\u0435\\u0441\\u044f\\u0446 \\r\\n\\u043d\\u043e\\u043c\\u0435\\u0440 \\u0441\\u0435\\u0440\\u0438\\u0438 \\u043d\\u0435 \\u0441\\u043e\\u0432\\u043f\\u0430\\u043b \\u0441 \\u043d\\u043e\\u043c\\u0435\\u0440\\u043e\\u043c \\u0433\\u043e\\u0434\\u0430 \\u0432\\u044b\\u043f\\u0443\\u0441\\u043a\\u0430 \\r\\n\\u0441\\u043e\\u0437\\u0434\\u0430\\u043b\\u0430 \\u043e\\u0431\\u0440\\u0430\\u0449\\u0435\\u043d\\u0438\\u0435 \\r\\n\\u0442\\u0438\\u0448\\u0438\\u043d\\u0430 \\r\\n\\u043f\\u0440\\u043e\\u0448\\u0443 \\u0432\\u0435\\u0440\\u043d\\u0443\\u0442\\u044c \\u0438\\u043b\\u0438 \\u0434\\u0435\\u043d\\u0435\\u0436\\u043d\\u044b\\u0435 \\u0441\\u0440\\u0435\\u0434\\u0441\\u0442\\u0432\\u0430 \\u0438\\u043b\\u0438 \\u043e\\u0431\\u043c\\u0435\\u043d\\u0430 \\u043d\\u043e \\u043d\\u0430 \\u043a\\u0430\\u0447\\u0435\\u0441\\u0442\\u0432\\u0435\\u043d\\u043d\\u044b\\u0439 \\u043e\\u0440\\u0438\\u0433\\u0438\\u043d\\u0430\\u043b\\u044c\\u043d\\u044b\\u0439 \\u0442\\u043e\\u0432\\u0430\\u0440 \\r\\n\\u0441\\u043f\\u0430 \\u0438\\u0431\\u043e!\",\n          \"\\u0417\\u0434\\u0440\\u0430\\u0432\\u0441\\u0442\\u0432\\u0443\\u0439\\u0442\\u0435! \\u0425\\u043e\\u0447\\u0443 \\u043f\\u043e\\u0436\\u0430\\u043b\\u043e\\u0432\\u0430\\u0442\\u044c\\u0441\\u044f \\u043d\\u0430 \\u043c\\u0430\\u0433\\u0430\\u0437\\u0438\\u043d \\u043a\\u043e\\u0442\\u043e\\u0440\\u044b\\u0439 \\u043d\\u0430\\u0445\\u043e\\u0434\\u0438\\u0442\\u0441\\u044f \\u0433. \\u042f\\u0440\\u043e\\u0441\\u043b\\u0430\\u0432\\u043b\\u044c \\u0443\\u043b \\u041f\\u0430\\u043d\\u0438\\u043d\\u0430 45. \\u042f \\u0415\\u043c\\u0435\\u043b\\u044c\\u044f\\u043d\\u043e\\u0432\\u0430 \\u041c\\u0430\\u0440\\u0438\\u043d\\u0430 \\u0412\\u043b\\u0430\\u0434\\u0438\\u043c\\u0438\\u0440\\u043e\\u0432\\u043d\\u0430 \\u043f\\u0440\\u043e\\u0436\\u0438\\u0432\\u0430\\u044e \\u043f\\u043e \\u044d\\u0442\\u043e\\u043c\\u0443 \\u0436\\u0435 \\u0430\\u0434\\u0440\\u0435\\u0441\\u0443 \\u0438 \\u0445\\u043e\\u0436\\u0443 \\u0432 \\u043c\\u0430\\u0433\\u0430\\u0437\\u0438\\u043d \\u043f\\u043e\\u0447\\u0442\\u0438 \\u043a\\u0430\\u0436\\u0434\\u044b\\u0439 \\u0434\\u0435\\u043d\\u044c \\u043a\\u0430\\u043a \\u043f\\u043e\\u043a\\u0443\\u043f\\u0430\\u0442\\u0435\\u043b\\u044c! \\u0421\\u0435\\u0433\\u043e\\u0434\\u043d\\u044f 18.04.2024 \\u0437\\u0430\\u0448\\u043b\\u0430 \\u0432  \\u043c\\u0430\\u043d\\u0430\\u0437\\u0438\\u043d \\u0437\\u0430 \\u043f\\u043e\\u043a\\u0443\\u043f\\u043a\\u043e\\u0439 \\u0442\\u043e\\u0432\\u0430\\u0440\\u0430 \\u0432 11:00, \\u0441\\u043f\\u0440\\u043e\\u0441\\u0438\\u043b\\u0430 \\u0443 \\u043a\\u0430\\u0441\\u0441\\u0438\\u0440\\u0430 \\u0433\\u0434\\u0435 \\u043c\\u043e\\u0436\\u043d\\u043e \\u043f\\u0440\\u0438\\u0432\\u044f\\u0437\\u0430\\u0442\\u044c \\u0438\\u043b\\u0438 \\u043e\\u0441\\u0442\\u0430\\u0432\\u0438\\u0442\\u044c \\u0441\\u043e\\u0431\\u0430\\u043a\\u0443, \\u043e\\u043d\\u0430 \\u043e\\u0442\\u0432\\u0435\\u0442\\u0438\\u043b\\u0430 \\u0447\\u0442\\u043e \\u0432 \\u0437\\u0430\\u043b\\u0435 \\u0435\\u0441\\u0442\\u044c \\u0436\\u0435\\u043d\\u0449\\u0438\\u043d\\u0430 \\u0441 \\u0441\\u043e\\u0431\\u0430\\u043a\\u043e\\u0439 \\u0430 \\u0443 \\u0432\\u0430\\u0441 \\u0441\\u043b\\u043e\\u043d \\u0432\\u0441\\u0435 \\u0440\\u0430\\u0437\\u043d\\u0435\\u0441\\u0435\\u0442 \\u0438\\u0434\\u0438\\u0442\\u0435 \\u043d\\u0430 \\u2026. \\u041e\\u0442 \\u0441\\u044e\\u0434\\u0430! \\u0418 \\u0442\\u0443\\u0442 \\u044f \\u043c\\u044f\\u0433\\u043a\\u043e \\u0433\\u043e\\u0432\\u043e\\u0440\\u044f \\u0431\\u044b\\u043b\\u0430 \\u0443\\u0434\\u0438\\u0432\\u043b\\u0435\\u043d\\u0430 \\u0438 \\u0441\\u0442\\u0430\\u043b\\u0430 \\u0432\\u043e\\u0437\\u043c\\u0443\\u0449\\u0430\\u0442\\u044c\\u0441\\u044f \\u043d\\u0430 \\u043a\\u0430\\u043a\\u043e\\u043c \\u043f\\u0440\\u0430\\u0432\\u0435 \\u043e\\u043d\\u0430 \\u0441\\u0435\\u0431\\u0435 \\u043f\\u043e\\u0437\\u0432\\u043e\\u043b\\u044f\\u0435\\u0442 \\u0442\\u0430\\u043a\\u043e\\u0435 \\u043e\\u0431\\u0449\\u0435\\u043d\\u0438\\u0435! \\u0414\\u0430\\u043b\\u0435\\u0435 \\u043e\\u043d\\u0430 \\u043c\\u043d\\u0435 \\u043e\\u0442\\u0432\\u0435\\u0442\\u0438\\u043b\\u0430: \\u00ab\\u0417\\u0430\\u0442\\u043a\\u043d\\u0438\\u0441\\u044c, \\u0441\\u0435\\u0439\\u0447\\u0430\\u0441 \\u0432\\u044b\\u043b\\u0435\\u0442\\u0438\\u0448\\u044c \\u043e\\u0442 \\u0441\\u044e\\u0434\\u0430 \\u043c\\u0430\\u0433\\u0430\\u0437\\u0438\\u043d \\u0447\\u0430\\u0441\\u0442\\u043d\\u044b\\u0439!!!\\u00bb \\u043f\\u0440\\u043e\\u0448\\u0443 \\u0432\\u0430\\u0441: \\u043f\\u0440\\u043e\\u0432\\u0435\\u0441\\u0442\\u0438 \\u043f\\u0440\\u043e\\u0432\\u0435\\u0440\\u043a\\u0443 \\u0441 \\u00ab\\u0447\\u0443\\u0434\\u043e \\u043a\\u0430\\u0441\\u0441\\u0438\\u0440\\u043e\\u043c\\u00bb \\u043a\\u043e\\u0442\\u043e\\u0440\\u0430\\u044f \\u0434\\u0430\\u0436\\u0435 \\u0447\\u0435\\u043a\\u0438 \\u043d\\u0435 \\u0432\\u044b\\u0431\\u0438\\u0432\\u0430\\u0435\\u0442 \\u043d\\u0430 \\u0430\\u043b\\u043a\\u043e\\u0433\\u043e\\u043b\\u044c! \\u0418 \\u043f\\u0440\\u043e\\u0432\\u0435\\u0440\\u0438\\u0442\\u044c \\u044d\\u0442\\u043e\\u0442 \\u0447\\u0430\\u0441\\u0442\\u043d\\u044b\\u0439 \\u043c\\u0430\\u0433\\u0430\\u0437\\u0438\\u043d \\u0441 \\u0442\\u043e\\u0432\\u0430\\u0440\\u043e\\u043c \"\n        ],\n        \"semantic_type\": \"\",\n        \"description\": \"\"\n      }\n    },\n    {\n      \"column\": \"RPN_answers\",\n      \"properties\": {\n        \"dtype\": \"category\",\n        \"num_unique_values\": 5,\n        \"samples\": [\n          \"\\u0414\\u043e\\u0431\\u0440\\u044b\\u0439 \\u0434\\u0435\\u043d\\u044c! \\u0427\\u0442\\u043e \\u0442\\u0430\\u043a\\u043e\\u0435 \\u043a\\u044d\\u0448\\u0431\\u044d\\u043a \\u0438 \\u043a\\u0430\\u043a \\u0435\\u0433\\u043e \\u043f\\u043e\\u043b\\u0443\\u0447\\u0438\\u0442\\u044c\\r\\n\\u041a\\u044d\\u0448\\u0431\\u044d\\u043a \\u2014 \\u0440\\u0430\\u0437\\u043d\\u043e\\u0432\\u0438\\u0434\\u043d\\u043e\\u0441\\u0442\\u044c \\u0431\\u043e\\u043d\\u0443\\u0441\\u043d\\u043e\\u0439 \\u043f\\u0440\\u043e\\u0433\\u0440\\u0430\\u043c\\u043c\\u044b, \\u0433\\u0434\\u0435 \\u0437\\u0430 \\u0432\\u044b\\u043f\\u043e\\u043b\\u043d\\u0435\\u043d\\u0438\\u0435 \\u0443\\u0441\\u043b\\u043e\\u0432\\u0438\\u0439 \\u043a\\u043b\\u0438\\u0435\\u043d\\u0442\\u0443 \\u043d\\u0430\\u0447\\u0438\\u0441\\u043b\\u044f\\u0435\\u0442\\u0441\\u044f \\u043e\\u043f\\u0440\\u0435\\u0434\\u0435\\u043b\\u0435\\u043d\\u043d\\u043e\\u0435 \\u043a\\u043e\\u043b\\u0438\\u0447\\u0435\\u0441\\u0442\\u0432\\u043e \\u0431\\u043e\\u043d\\u0443\\u0441\\u043e\\u0432 \\u0438\\u043b\\u0438 \\u0447\\u0430\\u0441\\u0442\\u044c \\u043f\\u043e\\u0442\\u0440\\u0430\\u0447\\u0435\\u043d\\u043d\\u044b\\u0445 \\u0434\\u0435\\u043d\\u0435\\u0433.\\r\\n\\r\\n\\u041a\\u044d\\u0448\\u0431\\u044d\\u043a \\u2014 \\u0440\\u0430\\u0437\\u043d\\u043e\\u0432\\u0438\\u0434\\u043d\\u043e\\u0441\\u0442\\u044c \\u0431\\u043e\\u043d\\u0443\\u0441\\u043d\\u043e\\u0439 \\u043f\\u0440\\u043e\\u0433\\u0440\\u0430\\u043c\\u043c\\u044b, \\u0433\\u0434\\u0435 \\u0437\\u0430 \\u0432\\u044b\\u043f\\u043e\\u043b\\u043d\\u0435\\u043d\\u0438\\u0435 \\u0443\\u0441\\u043b\\u043e\\u0432\\u0438\\u0439 \\u043a\\u043b\\u0438\\u0435\\u043d\\u0442\\u0443 \\u043d\\u0430\\u0447\\u0438\\u0441\\u043b\\u044f\\u0435\\u0442\\u0441\\u044f \\u043e\\u043f\\u0440\\u0435\\u0434\\u0435\\u043b\\u0435\\u043d\\u043d\\u043e\\u0435 \\u043a\\u043e\\u043b\\u0438\\u0447\\u0435\\u0441\\u0442\\u0432\\u043e \\u0431\\u043e\\u043d\\u0443\\u0441\\u043e\\u0432 \\u0438\\u043b\\u0438 \\u0447\\u0430\\u0441\\u0442\\u044c \\u043f\\u043e\\u0442\\u0440\\u0430\\u0447\\u0435\\u043d\\u043d\\u044b\\u0445 \\u0434\\u0435\\u043d\\u0435\\u0433.\\r\\n\\u0411\\u0430\\u043d\\u043a\\u0438 \\u0432\\u0435\\u0434\\u0443\\u0442 \\u0430\\u043a\\u0442\\u0438\\u0432\\u043d\\u0443\\u044e \\u043f\\u0440\\u0430\\u043a\\u0442\\u0438\\u043a\\u0443, \\u0432\\u043e\\u0437\\u0432\\u0440\\u0430\\u0449\\u0430\\u044f \\u0431\\u043e\\u043d\\u0443\\u0441\\u044b \\u043f\\u043e\\u0441\\u043b\\u0435 \\u043f\\u043e\\u043a\\u0443\\u043f\\u043e\\u043a, \\u0441\\u043e\\u0432\\u0435\\u0440\\u0448\\u0435\\u043d\\u043d\\u044b\\u0445 \\u0441 \\u043f\\u043e\\u043c\\u043e\\u0449\\u044c\\u044e \\u0438\\u0445 \\u043a\\u0430\\u0440\\u0442.\\r\\n\\u041f\\u0440\\u043e\\u0433\\u0440\\u0430\\u043c\\u043c\\u0430 \\u043a\\u044d\\u0448\\u0431\\u044d\\u043a\\u0430 \\u0443 \\u0431\\u0430\\u043d\\u043a\\u043e\\u0432 \\u0441\\u043b\\u0435\\u0434\\u0443\\u044e\\u0449\\u0430\\u044f:\\r\\n\\u2022 \\u0421 \\u043a\\u0430\\u0440\\u0442\\u044b \\u0441\\u043e\\u0432\\u0435\\u0440\\u0448\\u0430\\u0435\\u0442\\u0441\\u044f \\u043f\\u043e\\u043a\\u0443\\u043f\\u043a\\u0430. \\u041e\\u043d\\u0430 \\u043c\\u043e\\u0436\\u0435\\u0442 \\u0431\\u044b\\u0442\\u044c \\u0441\\u043e\\u0432\\u0435\\u0440\\u0448\\u0435\\u043d\\u0430 \\u043d\\u0435 \\u0442\\u043e\\u043b\\u044c\\u043a\\u043e \\u0447\\u0435\\u0440\\u0435\\u0437 \\u0418\\u043d\\u0442\\u0435\\u0440\\u043d\\u0435\\u0442, \\u043d\\u043e \\u0438 \\u0432 \\u043e\\u0431\\u044b\\u0447\\u043d\\u043e\\u043c \\u0442\\u043e\\u0440\\u0433\\u043e\\u0432\\u043e\\u043c \\u043c\\u0430\\u0433\\u0430\\u0437\\u0438\\u043d\\u0435.\\r\\n\\u2022 \\u041d\\u0430 \\u043a\\u0430\\u0440\\u0442\\u0443 \\u043d\\u0430\\u0447\\u0438\\u0441\\u043b\\u044f\\u044e\\u0442\\u0441\\u044f \\u0431\\u043e\\u043d\\u0443\\u0441\\u044b. \\u041e\\u0431\\u044b\\u0447\\u043d\\u043e \\u044d\\u0442\\u043e \\u043f\\u0440\\u043e\\u0438\\u0441\\u0445\\u043e\\u0434\\u0438\\u0442 \\u0432 \\u043a\\u043e\\u043d\\u0446\\u0435 \\u043c\\u0435\\u0441\\u044f\\u0446\\u0430, \\u0432\\u0441\\u0435 \\u0431\\u043e\\u043d\\u0443\\u0441\\u044b \\u0441\\u0443\\u043c\\u043c\\u0438\\u0440\\u0443\\u044e\\u0442\\u0441\\u044f \\u0438 \\u043f\\u0440\\u0438\\u0445\\u043e\\u0434\\u044f\\u0442 \\u043d\\u0430 \\u0441\\u0447\\u0435\\u0442.\\r\\n\\u041a\\u043e\\u043b\\u0438\\u0447\\u0435\\u0441\\u0442\\u0432\\u043e \\u0431\\u043e\\u043d\\u0443\\u0441\\u043e\\u0432 \\u043e\\u043f\\u0440\\u0435\\u0434\\u0435\\u043b\\u044f\\u0435\\u0442\\u0441\\u044f \\u0442\\u0435\\u043c, \\u043a\\u0430\\u043a\\u043e\\u0439 \\u043f\\u0440\\u043e\\u0446\\u0435\\u043d\\u0442 \\u043a\\u044d\\u0448\\u0431\\u044d\\u043a\\u0430 \\u0431\\u0430\\u043d\\u043a \\u0443\\u0441\\u0442\\u0430\\u043d\\u043e\\u0432\\u0438\\u043b \\u0432 \\u0434\\u0430\\u043d\\u043d\\u043e\\u043c \\u043c\\u0430\\u0433\\u0430\\u0437\\u0438\\u043d\\u0435. \\u0412 \\u043e\\u0441\\u043d\\u043e\\u0432\\u043d\\u043e\\u043c \\u0443 \\u043a\\u0430\\u0436\\u0434\\u043e\\u0433\\u043e \\u0431\\u0430\\u043d\\u043a\\u0430 \\u0435\\u0441\\u0442\\u044c \\u0441\\u0432\\u043e\\u0438 \\u043e\\u0441\\u043e\\u0431\\u0435\\u043d\\u043d\\u043e\\u0441\\u0442\\u0438 \\u0442\\u0430\\u043a\\u0438\\u0445 \\u043f\\u0440\\u043e\\u0433\\u0440\\u0430\\u043c\\u043c, \\u043d\\u0430\\u043f\\u0440\\u0438\\u043c\\u0435\\u0440, \\u043e\\u0433\\u0440\\u0430\\u043d\\u0438\\u0447\\u0435\\u043d\\u0438\\u0435 \\u0446\\u0435\\u043b\\u0438 \\u0438\\u0441\\u043f\\u043e\\u043b\\u044c\\u0437\\u043e\\u0432\\u0430\\u043d\\u0438\\u044f \\u0431\\u043e\\u043d\\u0443\\u0441\\u043e\\u0432, \\u043b\\u0438\\u043c\\u0438\\u0442 \\u0434\\u043b\\u044f \\u0444\\u0443\\u043d\\u043a\\u0446\\u0438\\u043e\\u043d\\u0438\\u0440\\u043e\\u0432\\u0430\\u043d\\u0438\\u044f \\u043a\\u044d\\u0448\\u0431\\u044d\\u043a\\u0430.\\r\\n\\u0414\\u043b\\u044f \\u0442\\u043e\\u0433\\u043e \\u0447\\u0442\\u043e\\u0431\\u044b \\u044d\\u0444\\u0444\\u0435\\u043a\\u0442\\u0438\\u0432\\u043d\\u043e \\u0432\\u044b\\u0431\\u0440\\u0430\\u0442\\u044c \\u043a\\u0430\\u0440\\u0442\\u0443 \\u0434\\u043b\\u044f \\u043f\\u043e\\u043b\\u0443\\u0447\\u0435\\u043d\\u0438\\u044f \\u043a\\u044d\\u0448\\u0431\\u044d\\u043a\\u0430, \\u043f\\u0440\\u0438\\u0434\\u0435\\u0440\\u0436\\u0438\\u0432\\u0430\\u0439\\u0442\\u0435\\u0441\\u044c \\u0441\\u043b\\u0435\\u0434\\u0443\\u044e\\u0449\\u0438\\u0445 \\u043f\\u0440\\u0430\\u0432\\u0438\\u043b:\\r\\n\\u2022 \\u0432\\u044b\\u0431\\u0438\\u0440\\u0430\\u0439\\u0442\\u0435 \\u0431\\u0430\\u043d\\u043a, \\u043a\\u043e\\u0442\\u043e\\u0440\\u044b\\u0439 \\u043f\\u043e\\u0437\\u0432\\u043e\\u043b\\u0438\\u0442 \\u043f\\u043e\\u043b\\u0443\\u0447\\u0438\\u0442\\u044c \\u043d\\u0430\\u0438\\u0431\\u043e\\u043b\\u044c\\u0448\\u0438\\u0439 \\u043a\\u044d\\u0448\\u0431\\u044d\\u043a \\u0432 \\u0442\\u0435\\u0445 \\u043c\\u0435\\u0441\\u0442\\u0430\\u0445, \\u043a\\u043e\\u0442\\u043e\\u0440\\u044b\\u0435 \\u0447\\u0430\\u0449\\u0435 \\u0432\\u0441\\u0435\\u0433\\u043e \\u043f\\u043e\\u0441\\u0435\\u0449\\u0430\\u0435\\u0442\\u0435;\\r\\n\\u2022 \\u0432\\u043d\\u0438\\u043c\\u0430\\u0442\\u0435\\u043b\\u044c\\u043d\\u043e \\u0438\\u0437\\u0443\\u0447\\u0438\\u0442\\u0435 \\u0434\\u043e\\u0433\\u043e\\u0432\\u043e\\u0440, \\u043d\\u0435\\u043a\\u043e\\u0442\\u043e\\u0440\\u044b\\u0435 \\u0431\\u0430\\u043d\\u043a\\u0438 \\u043f\\u0440\\u043e\\u043f\\u0438\\u0441\\u044b\\u0432\\u0430\\u044e\\u0442 \\u0432 \\u043d\\u0435\\u043c \\u0443\\u0441\\u043b\\u043e\\u0432\\u0438\\u0435 \\u2014 \\u043f\\u043e\\u043b\\u0443\\u0447\\u0438\\u0442\\u044c \\u043a\\u044d\\u0448\\u0431\\u044d\\u043a \\u0432\\u043e\\u0437\\u043c\\u043e\\u0436\\u043d\\u043e \\u0442\\u043e\\u043b\\u044c\\u043a\\u043e \\u043f\\u0440\\u0438 \\u043d\\u0430\\u043b\\u0438\\u0447\\u0438\\u0438 \\u0437\\u0430\\u0434\\u043e\\u043b\\u0436\\u0435\\u043d\\u043d\\u043e\\u0441\\u0442\\u0438 \\u043f\\u043e \\u043a\\u0440\\u0435\\u0434\\u0438\\u0442\\u0443;\\r\\n\\u2022 \\u0442\\u0430\\u043a\\u0436\\u0435 \\u0441\\u0442\\u043e\\u0438\\u0442 \\u043e\\u0431\\u0440\\u0430\\u0442\\u0438\\u0442\\u044c \\u0432\\u043d\\u0438\\u043c\\u0430\\u043d\\u0438\\u0435 \\u043d\\u0430 \\u043f\\u0440\\u043e\\u0446\\u0435\\u043d\\u0442 \\u043f\\u043e \\u043e\\u0441\\u0442\\u0430\\u0442\\u043a\\u0443 \\u0441\\u0447\\u0435\\u0442\\u0430;\\r\\n\\u2022 \\u043f\\u043e\\u0441\\u0442\\u0430\\u0440\\u0430\\u0439\\u0442\\u0435\\u0441\\u044c \\u043d\\u0430\\u0439\\u0442\\u0438 \\u043a\\u0430\\u0440\\u0442\\u0443, \\u043a\\u043e\\u0442\\u043e\\u0440\\u0430\\u044f \\u0431\\u0443\\u0434\\u0435\\u0442 \\u043d\\u0430\\u0438\\u0431\\u043e\\u043b\\u0435\\u0435 \\u0443\\u0434\\u043e\\u0431\\u043d\\u0430 \\u0432 \\u043e\\u0431\\u0441\\u043b\\u0443\\u0436\\u0438\\u0432\\u0430\\u043d\\u0438\\u0438.\\r\\n\\u0412\\u0441\\u0435 \\u0431\\u043e\\u043d\\u0443\\u0441\\u043d\\u044b\\u0435 \\u043e\\u043f\\u0446\\u0438\\u0438 \\u2014 \\u043a\\u044d\\u0448\\u0431\\u044d\\u043a, \\u0441\\u043a\\u0438\\u0434\\u043a\\u0438, \\u0431\\u0430\\u043b\\u043b\\u044b, \\u043a\\u043e\\u0442\\u043e\\u0440\\u044b\\u0435 \\u043f\\u043e\\u043b\\u0443\\u0447\\u0430\\u044e\\u0442\\u0441\\u044f \\u0437\\u0430 \\u0442\\u0440\\u0430\\u0442\\u044b \\u043f\\u043e \\u043a\\u0430\\u0440\\u0442\\u0435, \\u2014 \\u0431\\u0430\\u043d\\u043a \\u043f\\u0440\\u0435\\u0434\\u043e\\u0441\\u0442\\u0430\\u0432\\u043b\\u044f\\u0435\\u0442 \\u043d\\u0430 \\u043e\\u0441\\u043d\\u043e\\u0432\\u0435 \\u0434\\u043e\\u0433\\u043e\\u0432\\u043e\\u0440\\u0430 \\u043f\\u0443\\u0431\\u043b\\u0438\\u0447\\u043d\\u043e\\u0439 \\u043e\\u0444\\u0435\\u0440\\u0442\\u044b \\u0438\\u043b\\u0438 \\u0434\\u043e\\u0433\\u043e\\u0432\\u043e\\u0440\\u0430 \\u0441\\u043c\\u0435\\u0448\\u0430\\u043d\\u043d\\u043e\\u0433\\u043e \\u0442\\u0438\\u043f\\u0430. \\u0411\\u0430\\u043d\\u043a \\u043e\\u0441\\u0442\\u0430\\u0432\\u043b\\u044f\\u0435\\u0442 \\u0437\\u0430 \\u0441\\u043e\\u0431\\u043e\\u0439 \\u043f\\u0440\\u0430\\u0432\\u043e \\u043e\\u0442\\u043a\\u0430\\u0437\\u0430\\u0442\\u044c \\u043a\\u043b\\u0438\\u0435\\u043d\\u0442\\u0443 \\u0432 \\u0432\\u043e\\u0437\\u043d\\u0430\\u0433\\u0440\\u0430\\u0436\\u0434\\u0435\\u043d\\u0438\\u0438, \\u0435\\u0441\\u043b\\u0438 \\u0444\\u0438\\u043a\\u0441\\u0438\\u0440\\u0443\\u0435\\u0442 \\u0440\\u0430\\u0441\\u0445\\u043e\\u0434\\u044b \\u043f\\u043e\\u043b\\u044c\\u0437\\u043e\\u0432\\u0430\\u0442\\u0435\\u043b\\u044f \\u0442\\u043e\\u043b\\u044c\\u043a\\u043e \\u0432 \\u043f\\u0440\\u0435\\u043c\\u0438\\u0430\\u043b\\u044c\\u043d\\u044b\\u0445 \\u043a\\u0430\\u0442\\u0435\\u0433\\u043e\\u0440\\u0438\\u044f\\u0445.\\r\\n\\u0418\\u0437\\u0431\\u0435\\u0436\\u0430\\u0442\\u044c \\u043d\\u0435\\u043f\\u0440\\u0438\\u044f\\u0442\\u043d\\u044b\\u0445 \\u0441\\u0438\\u0442\\u0443\\u0430\\u0446\\u0438\\u0439 \\u0441 \\u0431\\u0430\\u043d\\u043a\\u043e\\u043c \\u043f\\u043e \\u043f\\u043e\\u0432\\u043e\\u0434\\u0443 \\u043a\\u044d\\u0448\\u0431\\u044d\\u043a\\u0430 \\u043c\\u043e\\u0436\\u043d\\u043e, \\u0435\\u0441\\u043b\\u0438 \\u0432\\u043d\\u0438\\u043c\\u0430\\u0442\\u0435\\u043b\\u044c\\u043d\\u043e \\u0438\\u0437\\u0443\\u0447\\u0438\\u0442\\u044c \\u0443\\u0441\\u043b\\u043e\\u0432\\u0438\\u044f \\u043f\\u043e\\u0434\\u043a\\u043b\\u044e\\u0447\\u0435\\u043d\\u0438\\u044f \\u0438 \\u0434\\u0435\\u0439\\u0441\\u0442\\u0432\\u0438\\u044f \\u043f\\u0440\\u043e\\u0433\\u0440\\u0430\\u043c\\u043c\\u044b \\u043b\\u043e\\u044f\\u043b\\u044c\\u043d\\u043e\\u0441\\u0442\\u0438. \\u0412 \\u043e\\u0444\\u0435\\u0440\\u0442\\u0435 \\u043e\\u043f\\u0438\\u0441\\u0430\\u043d\\u044b \\u0438 \\u0441\\u043b\\u0443\\u0447\\u0430\\u0438, \\u043a\\u043e\\u0433\\u0434\\u0430 \\u0431\\u0430\\u043d\\u043a \\u043c\\u043e\\u0436\\u0435\\u0442 \\u0443\\u0432\\u0438\\u0434\\u0435\\u0442\\u044c \\u0432 \\u0434\\u0435\\u0439\\u0441\\u0442\\u0432\\u0438\\u044f\\u0445 \\u043a\\u043b\\u0438\\u0435\\u043d\\u0442\\u0430 \\u043d\\u0435\\u043e\\u0431\\u043e\\u0441\\u043d\\u043e\\u0432\\u0430\\u043d\\u043d\\u043e\\u0435 \\u043e\\u0431\\u043e\\u0433\\u0430\\u0449\\u0435\\u043d\\u0438\\u0435 \\u0437\\u0430 \\u0441\\u0447\\u0435\\u0442 \\u043d\\u0430\\u0447\\u0438\\u0441\\u043b\\u044f\\u0435\\u043c\\u043e\\u0433\\u043e \\u0432\\u043e\\u0437\\u043d\\u0430\\u0433\\u0440\\u0430\\u0436\\u0434\\u0435\\u043d\\u0438\\u044f.\\r\\n\\u041a\\u043b\\u0438\\u0435\\u043d\\u0442 \\u0438\\u043c\\u0435\\u0435\\u0442 \\u043f\\u0440\\u0430\\u0432\\u043e \\u0432 \\u043b\\u044e\\u0431\\u043e\\u0439 \\u043c\\u043e\\u043c\\u0435\\u043d\\u0442 \\u0437\\u0430\\u043f\\u0440\\u043e\\u0441\\u0438\\u0442\\u044c \\u0443 \\u0431\\u0430\\u043d\\u043a\\u0430 \\u043a\\u043e\\u043f\\u0438\\u044e \\u0434\\u043e\\u043a\\u0443\\u043c\\u0435\\u043d\\u0442\\u043e\\u0432 \\u043f\\u0440\\u043e\\u0433\\u0440\\u0430\\u043c\\u043c\\u044b \\u043b\\u043e\\u044f\\u043b\\u044c\\u043d\\u043e\\u0441\\u0442\\u0438. \\u0412 \\u0434\\u043e\\u043a\\u0443\\u043c\\u0435\\u043d\\u0442\\u0435 \\u0442\\u0430\\u043a\\u0436\\u0435 \\u043c\\u043e\\u0436\\u043d\\u043e \\u0443\\u0437\\u043d\\u0430\\u0442\\u044c \\u043f\\u0440\\u043e \\u043a\\u0443\\u0440\\u0441 \\u043a\\u043e\\u043d\\u0432\\u0435\\u0440\\u0442\\u0430\\u0446\\u0438\\u0438 \\u0431\\u043e\\u043d\\u0443\\u0441\\u043d\\u044b\\u0445 \\u0431\\u0430\\u043b\\u043b\\u043e\\u0432 \\u0432 \\u0440\\u0443\\u0431\\u043b\\u0438.\\r\\n\\u041a\\u0430\\u0436\\u0434\\u044b\\u0439 \\u0431\\u0430\\u043d\\u043a \\u043e\\u043f\\u0440\\u0435\\u0434\\u0435\\u043b\\u044f\\u0435\\u0442 \\u0434\\u043b\\u044f \\u0441\\u0432\\u043e\\u0438\\u0445 \\u043a\\u043b\\u0438\\u0435\\u043d\\u0442\\u043e\\u0432 \\u0441\\u0432\\u043e\\u0439 \\u0441\\u043e\\u0431\\u0441\\u0442\\u0432\\u0435\\u043d\\u043d\\u044b\\u0439 \\u043f\\u0430\\u043a\\u0435\\u0442 \\u043a\\u0430\\u043a \\u043f\\u043b\\u0430\\u0442\\u043d\\u044b\\u0445, \\u0442\\u0430\\u043a \\u0438 \\u0431\\u0435\\u0441\\u043f\\u043b\\u0430\\u0442\\u043d\\u044b\\u0445 \\u0443\\u0441\\u043b\\u0443\\u0433. \\u0412\\u044b \\u0432\\u043f\\u0440\\u0430\\u0432\\u0435 \\u043d\\u0430\\u043f\\u0440\\u0430\\u0432\\u0438\\u0442\\u044c \\u043e\\u0431\\u0440\\u0430\\u0449\\u0435\\u043d\\u0438\\u0435 \\u0432 \\u0420\\u043e\\u0441\\u043f\\u043e\\u0442\\u0440\\u0435\\u0431\\u043d\\u0430\\u0434\\u0437\\u043e\\u0440 \\u043f\\u043e \\u043c\\u0435\\u0441\\u0442\\u0443  \\u0437\\u0430\\u043a\\u043b\\u044e\\u0447\\u0435\\u043d\\u0438\\u044f \\u0434\\u043e\\u0433\\u043e\\u0432\\u043e\\u0440\\u0430\",\n          \"\\u0423\\u0432\\u0430\\u0436\\u0430\\u0435\\u043c\\u0430\\u044f \\u0412\\u0435\\u0440\\u0430!\\r\\n\\r\\n\\r\\n\\u0421\\u043e\\u0433\\u043b\\u0430\\u0441\\u043d\\u043e \\u043f. 5 \\u0441\\u0442. 26.1 \\u0417\\u0430\\u043a\\u043e\\u043d\\u0430 \\u0420\\u043e\\u0441\\u0441\\u0438\\u0439\\u0441\\u043a\\u043e\\u0439 \\u0424\\u0435\\u0434\\u0435\\u0440\\u0430\\u0446\\u0438\\u0438 \\u043e\\u0442 07.02.1991 \\u2116 2300-1 \\u00ab\\u041e \\u0437\\u0430\\u0449\\u0438\\u0442\\u0435 \\u043f\\u0440\\u0430\\u0432 \\u043f\\u043e\\u0442\\u0440\\u0435\\u0431\\u0438\\u0442\\u0435\\u043b\\u0435\\u0439\\u00bb (\\u0434\\u0430\\u043b\\u0435\\u0435 \\u2013 \\u0417\\u0430\\u043a\\u043e\\u043d) \\u043f\\u043e\\u0441\\u043b\\u0435\\u0434\\u0441\\u0442\\u0432\\u0438\\u044f \\u043f\\u0440\\u043e\\u0434\\u0430\\u0436\\u0438 \\u0442\\u043e\\u0432\\u0430\\u0440\\u0430 \\u043d\\u0435\\u043d\\u0430\\u0434\\u043b\\u0435\\u0436\\u0430\\u0449\\u0435\\u0433\\u043e \\u043a\\u0430\\u0447\\u0435\\u0441\\u0442\\u0432\\u0430 \\u0434\\u0438\\u0441\\u0442\\u0430\\u043d\\u0446\\u0438\\u043e\\u043d\\u043d\\u044b\\u043c \\u0441\\u043f\\u043e\\u0441\\u043e\\u0431\\u043e\\u043c \\u043f\\u0440\\u043e\\u0434\\u0430\\u0436\\u0438 \\u0442\\u043e\\u0432\\u0430\\u0440\\u0430 \\u0443\\u0441\\u0442\\u0430\\u043d\\u043e\\u0432\\u043b\\u0435\\u043d\\u044b \\u043f\\u043e\\u043b\\u043e\\u0436\\u0435\\u043d\\u0438\\u044f\\u043c\\u0438, \\u043f\\u0440\\u0435\\u0434\\u0443\\u0441\\u043c\\u043e\\u0442\\u0440\\u0435\\u043d\\u043d\\u044b\\u043c\\u0438 \\u0441\\u0442\\u0430\\u0442\\u044c\\u044f\\u043c\\u0438 18 \\u2013 24 \\u043d\\u0430\\u0441\\u0442\\u043e\\u044f\\u0449\\u0435\\u0433\\u043e \\u0417\\u0430\\u043a\\u043e\\u043d\\u0430. \\r\\n\\u0412 \\u0441\\u043b\\u0443\\u0447\\u0430\\u0435, \\u0435\\u0441\\u043b\\u0438 \\u0432 \\u0442\\u043e\\u0432\\u0430\\u0440\\u0435, \\u043f\\u0440\\u0438\\u043e\\u0431\\u0440\\u0435\\u0442\\u0435\\u043d\\u043d\\u043e\\u043c \\u0434\\u0438\\u0441\\u0442\\u0430\\u043d\\u0446\\u0438\\u043e\\u043d\\u043d\\u044b\\u043c \\u0441\\u043f\\u043e\\u0441\\u043e\\u0431\\u043e\\u043c, \\u0432\\u044b\\u044f\\u0432\\u043b\\u0435\\u043d \\u043d\\u0435\\u0434\\u043e\\u0441\\u0442\\u0430\\u0442\\u043e\\u043a, \\u043f\\u043e\\u0442\\u0440\\u0435\\u0431\\u0438\\u0442\\u0435\\u043b\\u044c \\u043d\\u0430 \\u043e\\u0441\\u043d\\u043e\\u0432\\u0430\\u043d\\u0438\\u0438 \\u043f. 1 \\u0441\\u0442. 18 \\u0417\\u0430\\u043a\\u043e\\u043d\\u0430, \\u043f\\u043e \\u0441\\u0432\\u043e\\u0435\\u043c\\u0443 \\u0432\\u044b\\u0431\\u043e\\u0440\\u0443 \\u0432\\u043f\\u0440\\u0430\\u0432\\u0435 \\u043f\\u043e\\u0442\\u0440\\u0435\\u0431\\u043e\\u0432\\u0430\\u0442\\u044c: \\r\\n\\u0437\\u0430\\u043c\\u0435\\u043d\\u044b \\u043d\\u0430 \\u0442\\u043e\\u0432\\u0430\\u0440 \\u044d\\u0442\\u043e\\u0439 \\u0436\\u0435 \\u043c\\u0430\\u0440\\u043a\\u0438 (\\u044d\\u0442\\u0438\\u0445 \\u0436\\u0435 \\u043c\\u043e\\u0434\\u0435\\u043b\\u0438 \\u0438 (\\u0438\\u043b\\u0438) \\u0430\\u0440\\u0442\\u0438\\u043a\\u0443\\u043b\\u0430); \\u0437\\u0430\\u043c\\u0435\\u043d\\u044b \\u043d\\u0430 \\u0442\\u0430\\u043a\\u043e\\u0439 \\u0436\\u0435 \\u0442\\u043e\\u0432\\u0430\\u0440 \\u0434\\u0440\\u0443\\u0433\\u043e\\u0439 \\u043c\\u0430\\u0440\\u043a\\u0438 (\\u043c\\u043e\\u0434\\u0435\\u043b\\u0438, \\u0430\\u0440\\u0442\\u0438\\u043a\\u0443\\u043b\\u0430) \\u0441 \\u0441\\u043e\\u043e\\u0442\\u0432\\u0435\\u0442\\u0441\\u0442\\u0432\\u0443\\u044e\\u0449\\u0438\\u043c \\u043f\\u0435\\u0440\\u0435\\u0440\\u0430\\u0441\\u0447\\u0435\\u0442\\u043e\\u043c \\u043f\\u043e\\u043a\\u0443\\u043f\\u043d\\u043e\\u0439 \\u0446\\u0435\\u043d\\u044b; \\r\\n\\u0441\\u043e\\u0440\\u0430\\u0437\\u043c\\u0435\\u0440\\u043d\\u043e\\u0433\\u043e \\u0443\\u043c\\u0435\\u043d\\u044c\\u0448\\u0435\\u043d\\u0438\\u044f \\u043f\\u043e\\u043a\\u0443\\u043f\\u043d\\u043e\\u0439 \\u0446\\u0435\\u043d\\u044b; \\r\\n\\u043d\\u0435\\u0437\\u0430\\u043c\\u0435\\u0434\\u043b\\u0438\\u0442\\u0435\\u043b\\u044c\\u043d\\u043e\\u0433\\u043e \\u0431\\u0435\\u0437\\u0432\\u043e\\u0437\\u043c\\u0435\\u0437\\u0434\\u043d\\u043e\\u0433\\u043e \\u0443\\u0441\\u0442\\u0440\\u0430\\u043d\\u0435\\u043d\\u0438\\u044f \\u043d\\u0435\\u0434\\u043e\\u0441\\u0442\\u0430\\u0442\\u043a\\u043e\\u0432 \\u0442\\u043e\\u0432\\u0430\\u0440\\u0430 \\u0438\\u043b\\u0438 \\u0432\\u043e\\u0437\\u043c\\u0435\\u0449\\u0435\\u043d\\u0438\\u044f \\u0440\\u0430\\u0441\\u0445\\u043e\\u0434\\u043e\\u0432 \\u043d\\u0430 \\u0438\\u0445 \\u0438\\u0441\\u043f\\u0440\\u0430\\u0432\\u043b\\u0435\\u043d\\u0438\\u0435 \\u043f\\u043e\\u0442\\u0440\\u0435\\u0431\\u0438\\u0442\\u0435\\u043b\\u0435\\u043c \\u0438\\u043b\\u0438 \\u0442\\u0440\\u0435\\u0442\\u044c\\u0438\\u043c \\u043b\\u0438\\u0446\\u043e\\u043c. \\t\\u041a\\u0440\\u043e\\u043c\\u0435 \\u0442\\u043e\\u0433\\u043e, \\u043f\\u043e\\u0442\\u0440\\u0435\\u0431\\u0438\\u0442\\u0435\\u043b\\u044c \\u0432\\u043f\\u0440\\u0430\\u0432\\u0435 \\u043e\\u0442\\u043a\\u0430\\u0437\\u0430\\u0442\\u044c\\u0441\\u044f \\u043e\\u0442 \\u0438\\u0441\\u043f\\u043e\\u043b\\u043d\\u0435\\u043d\\u0438\\u044f \\u0434\\u043e\\u0433\\u043e\\u0432\\u043e\\u0440\\u0430 \\u043a\\u0443\\u043f\\u043b\\u0438-\\u043f\\u0440\\u043e\\u0434\\u0430\\u0436\\u0438 \\u0438 \\u043f\\u043e\\u0442\\u0440\\u0435\\u0431\\u043e\\u0432\\u0430\\u0442\\u044c \\u0432\\u043e\\u0437\\u0432\\u0440\\u0430\\u0442\\u0430 \\u0443\\u043f\\u043b\\u0430\\u0447\\u0435\\u043d\\u043d\\u043e\\u0439 \\u0437\\u0430 \\u0442\\u043e\\u0432\\u0430\\u0440 \\u0441\\u0443\\u043c\\u043c\\u044b. \\u041f\\u043e \\u0442\\u0440\\u0435\\u0431\\u043e\\u0432\\u0430\\u043d\\u0438\\u044e \\u043f\\u0440\\u043e\\u0434\\u0430\\u0432\\u0446\\u0430 \\u0438 \\u0437\\u0430 \\u0435\\u0433\\u043e \\u0441\\u0447\\u0435\\u0442 \\u043f\\u043e\\u0442\\u0440\\u0435\\u0431\\u0438\\u0442\\u0435\\u043b\\u044c \\u0434\\u043e\\u043b\\u0436\\u0435\\u043d \\u0432\\u043e\\u0437\\u0432\\u0440\\u0430\\u0442\\u0438\\u0442\\u044c \\u0442\\u043e\\u0432\\u0430\\u0440 \\u0441 \\u043d\\u0435\\u0434\\u043e\\u0441\\u0442\\u0430\\u0442\\u043a\\u0430\\u043c\\u0438. \\u041f\\u0440\\u0438 \\u044d\\u0442\\u043e\\u043c \\u043f\\u043e\\u0442\\u0440\\u0435\\u0431\\u0438\\u0442\\u0435\\u043b\\u044c \\u0432\\u043f\\u0440\\u0430\\u0432\\u0435 \\u043f\\u043e\\u0442\\u0440\\u0435\\u0431\\u043e\\u0432\\u0430\\u0442\\u044c \\u0442\\u0430\\u043a\\u0436\\u0435 \\u043f\\u043e\\u043b\\u043d\\u043e\\u0433\\u043e \\u0432\\u043e\\u0437\\u043c\\u0435\\u0449\\u0435\\u043d\\u0438\\u044f \\u0443\\u0431\\u044b\\u0442\\u043a\\u043e\\u0432, \\u043f\\u0440\\u0438\\u0447\\u0438\\u043d\\u0435\\u043d\\u043d\\u044b\\u0445 \\u0435\\u043c\\u0443 \\u0432\\u0441\\u043b\\u0435\\u0434\\u0441\\u0442\\u0432\\u0438\\u0435 \\u043f\\u0440\\u043e\\u0434\\u0430\\u0436\\u0438 \\u0442\\u043e\\u0432\\u0430\\u0440\\u0430 \\u043d\\u0435\\u043d\\u0430\\u0434\\u043b\\u0435\\u0436\\u0430\\u0449\\u0435\\u0433\\u043e \\u043a\\u0430\\u0447\\u0435\\u0441\\u0442\\u0432\\u0430. \\u0423\\u0431\\u044b\\u0442\\u043a\\u0438 \\u0432\\u043e\\u0437\\u043c\\u0435\\u0449\\u0430\\u044e\\u0442\\u0441\\u044f \\u0432 \\u0441\\u0440\\u043e\\u043a\\u0438, \\u0443\\u0441\\u0442\\u0430\\u043d\\u043e\\u0432\\u043b\\u0435\\u043d\\u043d\\u044b\\u0435 \\u043d\\u0430\\u0441\\u0442\\u043e\\u044f\\u0449\\u0438\\u043c \\u0417\\u0430\\u043a\\u043e\\u043d\\u043e\\u043c \\u0434\\u043b\\u044f \\u0443\\u0434\\u043e\\u0432\\u043b\\u0435\\u0442\\u0432\\u043e\\u0440\\u0435\\u043d\\u0438\\u044f \\u0441\\u043e\\u043e\\u0442\\u0432\\u0435\\u0442\\u0441\\u0442\\u0432\\u0443\\u044e\\u0449\\u0438\\u0445 \\u0442\\u0440\\u0435\\u0431\\u043e\\u0432\\u0430\\u043d\\u0438\\u0439 \\u043f\\u043e\\u0442\\u0440\\u0435\\u0431\\u0438\\u0442\\u0435\\u043b\\u044f. \\r\\n\\u041f\\u0440\\u043e\\u0434\\u0430\\u0432\\u0435\\u0446 \\u043e\\u0442\\u0432\\u0435\\u0447\\u0430\\u0435\\u0442 \\u0437\\u0430 \\u043d\\u0435\\u0434\\u043e\\u0441\\u0442\\u0430\\u0442\\u043a\\u0438, \\u043a\\u043e\\u0442\\u043e\\u0440\\u044b\\u0435 \\u0432\\u043e\\u0437\\u043d\\u0438\\u043a\\u043b\\u0438 \\u0434\\u043e \\u043f\\u0435\\u0440\\u0435\\u0434\\u0430\\u0447\\u0438 \\u0442\\u043e\\u0432\\u0430\\u0440\\u0430 \\u043f\\u043e\\u0442\\u0440\\u0435\\u0431\\u0438\\u0442\\u0435\\u043b\\u044e \\u0438\\u043b\\u0438 \\u043f\\u043e \\u043f\\u0440\\u0438\\u0447\\u0438\\u043d\\u0430\\u043c, \\u0432\\u043e\\u0437\\u043d\\u0438\\u043a\\u0448\\u0438\\u043c \\u0434\\u043e \\u044d\\u0442\\u043e\\u0433\\u043e \\u043c\\u043e\\u043c\\u0435\\u043d\\u0442\\u0430. \\u0412 \\u0441\\u0438\\u043b\\u0443 \\u0441\\u0442. 458 \\u0413\\u0440\\u0430\\u0436\\u0434\\u0430\\u043d\\u0441\\u043a\\u043e\\u0433\\u043e \\u043a\\u043e\\u0434\\u0435\\u043a\\u0441\\u0430 \\u0420\\u043e\\u0441\\u0441\\u0438\\u0439\\u0441\\u043a\\u043e\\u0439 \\u0424\\u0435\\u0434\\u0435\\u0440\\u0430\\u0446\\u0438\\u0438 \\u043c\\u043e\\u043c\\u0435\\u043d\\u0442\\u043e\\u043c \\u0438\\u0441\\u043f\\u043e\\u043b\\u043d\\u0435\\u043d\\u0438\\u044f \\u043f\\u0440\\u043e\\u0434\\u0430\\u0432\\u0446\\u043e\\u043c \\u043e\\u0431\\u044f\\u0437\\u0430\\u043d\\u043d\\u043e\\u0441\\u0442\\u0438 \\u043f\\u0435\\u0440\\u0435\\u0434\\u0430\\u0442\\u044c \\u0442\\u043e\\u0432\\u0430\\u0440 \\u0441\\u0447\\u0438\\u0442\\u0430\\u0435\\u0442\\u0441\\u044f \\u043c\\u043e\\u043c\\u0435\\u043d\\u0442 \\u0432\\u0440\\u0443\\u0447\\u0435\\u043d\\u0438\\u044f \\u0442\\u043e\\u0432\\u0430\\u0440\\u0430 \\u043f\\u043e\\u043a\\u0443\\u043f\\u0430\\u0442\\u0435\\u043b\\u044e \\u0438\\u043b\\u0438 \\u0443\\u043a\\u0430\\u0437\\u0430\\u043d\\u043d\\u043e\\u043c\\u0443 \\u0438\\u043c \\u043b\\u0438\\u0446\\u0443, \\u0435\\u0441\\u043b\\u0438 \\u0434\\u043e\\u0433\\u043e\\u0432\\u043e\\u0440\\u043e\\u043c \\u043f\\u0440\\u0435\\u0434\\u0443\\u0441\\u043c\\u043e\\u0442\\u0440\\u0435\\u043d\\u0430 \\u043e\\u0431\\u044f\\u0437\\u0430\\u043d\\u043d\\u043e\\u0441\\u0442\\u044c \\u043f\\u043e \\u0434\\u043e\\u0441\\u0442\\u0430\\u0432\\u043a\\u0435 \\u0442\\u043e\\u0432\\u0430\\u0440\\u0430. \\r\\n\\u0412 \\u0441\\u043e\\u043e\\u0442\\u0432\\u0435\\u0442\\u0441\\u0442\\u0432\\u0438\\u0438 \\u0441 \\u043f\\u0440\\u0430\\u0432\\u0438\\u043b\\u0430\\u043c\\u0438 \\u043f\\u0440\\u0438\\u0435\\u043c\\u043a\\u0438 \\u0442\\u043e\\u0432\\u0430\\u0440\\u043e\\u0432, \\u0440\\u0430\\u0437\\u043c\\u0435\\u0449\\u0435\\u043d\\u043d\\u044b\\u043c\\u0438 \\u0432 \\u0441\\u0432\\u043e\\u0431\\u043e\\u0434\\u043d\\u043e\\u043c \\u0434\\u043e\\u0441\\u0442\\u0443\\u043f\\u0435 \\u0432 \\u0441\\u0435\\u0442\\u0438 \\u0418\\u043d\\u0442\\u0435\\u0440\\u043d\\u0435\\u0442 \\u043f\\u043e \\u0430\\u0434\\u0440\\u0435\\u0441\\u0443: https://sbermarket.ru/rules-sbermarket \\u0432 \\u043f\\u0440\\u0430\\u0432\\u0438\\u043b\\u0430\\u0445 \\u0441\\u0435\\u0440\\u0432\\u0438\\u0441\\u0430 \\u00ab\\u0421\\u0431\\u0435\\u0440\\u043c\\u0430\\u0440\\u043a\\u0435\\u0442\\u00bb \\u043f\\u043e\\u0442\\u0440\\u0435\\u0431\\u0438\\u0442\\u0435\\u043b\\u044e \\u0434\\u043e\\u043b\\u0436\\u043d\\u0430 \\u0431\\u044b\\u0442\\u044c \\u043f\\u0440\\u0435\\u0434\\u043e\\u0441\\u0442\\u0430\\u0432\\u043b\\u0435\\u043d\\u0430 \\u0432\\u043e\\u0437\\u043c\\u043e\\u0436\\u043d\\u043e\\u0441\\u0442\\u044c \\u043e\\u0441\\u043c\\u043e\\u0442\\u0440\\u0435\\u0442\\u044c \\u0442\\u043e\\u0432\\u0430\\u0440 \\u0432 \\u043c\\u0435\\u0441\\u0442\\u0435 \\u0434\\u043e\\u0441\\u0442\\u0430\\u0432\\u043a\\u0438 \\u0438 \\u0432 \\u0441\\u043b\\u0443\\u0447\\u0430\\u0435 \\u043e\\u0431\\u043d\\u0430\\u0440\\u0443\\u0436\\u0435\\u043d\\u0438\\u044f \\u043d\\u0435\\u0434\\u043e\\u0441\\u0442\\u0430\\u0442\\u043a\\u043e\\u0432, \\u0432 \\u0442\\u043e\\u043c \\u0447\\u0438\\u0441\\u043b\\u0435 \\u0432\\u0438\\u0434\\u0438\\u043c\\u044b\\u0445, \\u043e\\u0442\\u043a\\u0430\\u0437\\u0430\\u0442\\u044c\\u0441\\u044f \\u043e\\u0442 \\u043f\\u0440\\u0438\\u0435\\u043c\\u043a\\u0438 \\u0442\\u043e\\u0432\\u0430\\u0440\\u0430 (\\u043f.\\u043f. 6.7. \\u2013 6.9.). \\r\\n\\u0422\\u0430\\u043a\\u0438\\u043c \\u043e\\u0431\\u0440\\u0430\\u0437\\u043e\\u043c, \\u0435\\u0441\\u043b\\u0438 \\u0412\\u044b \\u0431\\u044b\\u043b\\u0438 \\u043b\\u0438\\u0448\\u0435\\u043d\\u044b \\u0432\\u043e\\u0437\\u043c\\u043e\\u0436\\u043d\\u043e\\u0441\\u0442\\u0438 \\u043e\\u0441\\u043c\\u043e\\u0442\\u0440\\u0435\\u0442\\u044c \\u0442\\u043e\\u0432\\u0430\\u0440 \\u043d\\u0430 \\u043f\\u0440\\u0435\\u0434\\u043c\\u0435\\u0442 \\u0435\\u0433\\u043e \\u0446\\u0435\\u043b\\u043e\\u0441\\u0442\\u043d\\u043e\\u0441\\u0442\\u0438, \\u043b\\u0438\\u0431\\u043e \\u043d\\u0435\\u0434\\u043e\\u0441\\u0442\\u0430\\u0442\\u043e\\u043a \\u043d\\u0435 \\u043c\\u043e\\u0433 \\u0431\\u044b\\u0442\\u044c \\u0432\\u044b\\u044f\\u0432\\u043b\\u0435\\u043d \\u043f\\u0443\\u0442\\u0435\\u043c \\u0435\\u0433\\u043e \\u0432\\u0438\\u0437\\u0443\\u0430\\u043b\\u044c\\u043d\\u043e\\u0433\\u043e \\u043e\\u0441\\u043c\\u043e\\u0442\\u0440\\u0430, \\u043b\\u0438\\u0431\\u043e \\u0412\\u044b \\u0438\\u043c\\u0435\\u0435\\u0442\\u0435 \\u0434\\u043e\\u043a\\u0430\\u0437\\u0430\\u0442\\u0435\\u043b\\u044c\\u0441\\u0442\\u0432\\u0430 \\u0442\\u043e\\u0433\\u043e, \\u0447\\u0442\\u043e \\u0412\\u0430\\u043c \\u0431\\u044b\\u043b \\u043f\\u0435\\u0440\\u0435\\u0434\\u0430\\u043d \\u0442\\u043e\\u0432\\u0430\\u0440 \\u0441 \\u0443\\u0436\\u0435 \\u0438\\u043c\\u0435\\u044e\\u0449\\u0438\\u043c\\u0441\\u044f \\u043d\\u0435\\u0434\\u043e\\u0441\\u0442\\u0430\\u0442\\u043a\\u043e\\u043c (\\u043d\\u0430\\u043f\\u0440\\u0438\\u043c\\u0435\\u0440, \\u043f\\u043e\\u043a\\u0430\\u0437\\u0430\\u043d\\u0438\\u044f \\u0441\\u0432\\u0438\\u0434\\u0435\\u0442\\u0435\\u043b\\u044f), \\u0412\\u0430\\u043c \\u043d\\u0435\\u043e\\u0431\\u0445\\u043e\\u0434\\u0438\\u043c\\u043e \\u043d\\u0430\\u043f\\u0440\\u0430\\u0432\\u0438\\u0442\\u044c \\u0441\\u043e\\u043e\\u0442\\u0432\\u0435\\u0442\\u0441\\u0442\\u0432\\u0443\\u044e\\u0449\\u0443\\u044e \\u043f\\u0440\\u0435\\u0442\\u0435\\u043d\\u0437\\u0438\\u044e \\u043f\\u0440\\u043e\\u0434\\u0430\\u0432\\u0446\\u0443, \\u0430 \\u0442\\u0430\\u043a\\u0436\\u0435 \\u0432 \\u0441\\u0435\\u0440\\u0432\\u0438\\u0441 \\u0434\\u043e\\u0441\\u0442\\u0430\\u0432\\u043a\\u0438 \\u0442\\u043e\\u0432\\u0430\\u0440\\u0430, \\u0443\\u043a\\u0430\\u0437\\u0430\\u0432 \\u0434\\u0430\\u043d\\u043d\\u044b\\u0435 \\u043e\\u0431\\u0441\\u0442\\u043e\\u044f\\u0442\\u0435\\u043b\\u044c\\u0441\\u0442\\u0432\\u0430. \\r\\n\\u0412 \\u0441\\u043b\\u0443\\u0447\\u0430\\u0435 \\u043e\\u0442\\u043a\\u0430\\u0437\\u0430 \\u0432 \\u0443\\u0434\\u043e\\u0432\\u043b\\u0435\\u0442\\u0432\\u043e\\u0440\\u0435\\u043d\\u0438\\u0438 \\u0442\\u0440\\u0435\\u0431\\u043e\\u0432\\u0430\\u043d\\u0438\\u044f \\u0432 \\u0434\\u043e\\u0431\\u0440\\u043e\\u0432\\u043e\\u043b\\u044c\\u043d\\u043e\\u043c \\u043f\\u043e\\u0440\\u044f\\u0434\\u043a\\u0435 \\u043f\\u043e\\u0442\\u0440\\u0435\\u0431\\u0438\\u0442\\u0435\\u043b\\u044c, \\u043d\\u0430 \\u043e\\u0441\\u043d\\u043e\\u0432\\u0430\\u043d\\u0438\\u0438 \\u0441\\u0442. 17 \\u0417\\u0430\\u043a\\u043e\\u043d\\u0430 \\u0412\\u044b \\u0432\\u043f\\u0440\\u0430\\u0432\\u0435 \\u043e\\u0431\\u0440\\u0430\\u0442\\u0438\\u0442\\u044c\\u0441\\u044f \\u0432 \\u0441\\u0443\\u0434 \\u0441 \\u0438\\u0441\\u043a\\u043e\\u043c \\u043e \\u0437\\u0430\\u0449\\u0438\\u0442\\u0435 \\u043f\\u0440\\u0430\\u0432 \\u043f\\u043e\\u0442\\u0440\\u0435\\u0431\\u0438\\u0442\\u0435\\u043b\\u044f. \\r\\n\",\n          \"\\u0417\\u0434\\u0440\\u0430\\u0432\\u0441\\u0442\\u0432\\u0443\\u0439\\u0442\\u0435.\\r\\n\\u0423\\u043f\\u0440\\u0430\\u0432\\u043b\\u0435\\u043d\\u0438\\u0435 \\u0420\\u043e\\u0441\\u043f\\u043e\\u0442\\u0440\\u0435\\u0431\\u043d\\u0430\\u0434\\u0437\\u043e\\u0440\\u0430 \\u043f\\u043e \\u042f\\u0440\\u043e\\u0441\\u043b\\u0430\\u0432\\u0441\\u043a\\u043e\\u0439 \\u043e\\u0431\\u043b\\u0430\\u0441\\u0442\\u0438 (\\u0434\\u0430\\u043b\\u0435\\u0435 \\u0423\\u043f\\u0440\\u0430\\u0432\\u043b\\u0435\\u043d\\u0438\\u0435 ) \\u0440\\u0430\\u0437\\u044a\\u044f\\u0441\\u043d\\u044f\\u0435\\u0442, \\u0447\\u0442\\u043e \\u0441\\u043e\\u0433\\u043b\\u0430\\u0441\\u043d\\u043e  \\u041f\\u043e\\u043b\\u043e\\u0436\\u0435\\u043d\\u0438\\u044f \\u043e \\u0424\\u0435\\u0434\\u0435\\u0440\\u0430\\u043b\\u044c\\u043d\\u043e\\u0439 \\u0441\\u043b\\u0443\\u0436\\u0431\\u0435 \\u043f\\u043e \\u043d\\u0430\\u0434\\u0437\\u043e\\u0440\\u0443 \\u0432 \\u0441\\u0444\\u0435\\u0440\\u0435 \\u0437\\u0430\\u0449\\u0438\\u0442\\u044b \\u043f\\u0440\\u0430\\u0432 \\u043f\\u043e\\u0442\\u0440\\u0435\\u0431\\u0438\\u0442\\u0435\\u043b\\u0435\\u0439 \\u0438 \\u0431\\u043b\\u0430\\u0433\\u043e\\u043f\\u043e\\u043b\\u0443\\u0447\\u0438\\u044f \\u0447\\u0435\\u043b\\u043e\\u0432\\u0435\\u043a\\u0430, \\u0443\\u0442\\u0432\\u0435\\u0440\\u0436\\u0434\\u0435\\u043d\\u043d\\u043e\\u0433\\u043e \\u043f\\u043e\\u0441\\u0442\\u0430\\u043d\\u043e\\u0432\\u043b\\u0435\\u043d\\u0438\\u0435\\u043c \\u041f\\u0440\\u0430\\u0432\\u0438\\u0442\\u0435\\u043b\\u044c\\u0441\\u0442\\u0432\\u0430 \\u0420\\u043e\\u0441\\u0441\\u0438\\u0439\\u0441\\u043a\\u043e\\u0439 \\u0424\\u0435\\u0434\\u0435\\u0440\\u0430\\u0446\\u0438\\u0438 \\u043e\\u0442 30 \\u0438\\u044e\\u043d\\u044f 2004\\u0433. \\u2116 322 \\u0420\\u043e\\u0441\\u043f\\u043e\\u0442\\u0440\\u0435\\u0431\\u043d\\u0430\\u0434\\u0437\\u043e\\u0440 \\u0432\\u043f\\u0440\\u0430\\u0432\\u0435 \\u043f\\u0440\\u0438\\u043c\\u0435\\u043d\\u044f\\u0442\\u044c \\u043f\\u0440\\u0435\\u0434\\u0443\\u0441\\u043c\\u043e\\u0442\\u0440\\u0435\\u043d\\u043d\\u044b\\u0435 \\u0437\\u0430\\u043a\\u043e\\u043d\\u043e\\u0434\\u0430\\u0442\\u0435\\u043b\\u044c\\u0441\\u0442\\u0432\\u043e\\u043c \\u0420\\u043e\\u0441\\u0441\\u0438\\u0439\\u0441\\u043a\\u043e\\u0439 \\u0424\\u0435\\u0434\\u0435\\u0440\\u0430\\u0446\\u0438\\u0438 \\u043c\\u0435\\u0440\\u044b \\u043e\\u0433\\u0440\\u0430\\u043d\\u0438\\u0447\\u0438\\u0442\\u0435\\u043b\\u044c\\u043d\\u043e\\u0433\\u043e, \\u043f\\u0440\\u0435\\u0434\\u0443\\u043f\\u0440\\u0435\\u0434\\u0438\\u0442\\u0435\\u043b\\u044c\\u043d\\u043e\\u0433\\u043e \\u0438 \\u043f\\u0440\\u043e\\u0444\\u0438\\u043b\\u0430\\u043a\\u0442\\u0438\\u0447\\u0435\\u0441\\u043a\\u043e\\u0433\\u043e \\u0445\\u0430\\u0440\\u0430\\u043a\\u0442\\u0435\\u0440\\u0430 \\u043b\\u0438\\u0448\\u044c \\u043f\\u043e \\u0432\\u043e\\u043f\\u0440\\u043e\\u0441\\u0430\\u043c, \\u043e\\u0442\\u043d\\u0435\\u0441\\u0435\\u043d\\u043d\\u044b\\u043c \\u043a \\u043a\\u043e\\u043c\\u043f\\u0435\\u0442\\u0435\\u043d\\u0446\\u0438\\u0438 \\u0421\\u043b\\u0443\\u0436\\u0431\\u044b, \\u0432 \\u043f\\u0440\\u0435\\u0434\\u0435\\u043b\\u0430\\u0445 \\u043f\\u043e\\u043b\\u043d\\u043e\\u043c\\u043e\\u0447\\u0438\\u0439, \\u0443\\u0441\\u0442\\u0430\\u043d\\u043e\\u0432\\u043b\\u0435\\u043d\\u043d\\u044b\\u0445 \\u0434\\u0435\\u0439\\u0441\\u0442\\u0432\\u0443\\u044e\\u0449\\u0438\\u043c \\u0437\\u0430\\u043a\\u043e\\u043d\\u043e\\u0434\\u0430\\u0442\\u0435\\u043b\\u044c\\u0441\\u0442\\u0432\\u043e\\u043c.  \\u0414\\u0435\\u0439\\u0441\\u0442\\u0432\\u0438\\u044f \\u0438 \\u0440\\u0435\\u0448\\u0435\\u043d\\u0438\\u044f \\u043a\\u043e\\u043d\\u0442\\u0440\\u043e\\u043b\\u044c\\u043d\\u043e\\u0433\\u043e (\\u043d\\u0430\\u0434\\u0437\\u043e\\u0440\\u043d\\u043e\\u0433\\u043e) \\u043e\\u0440\\u0433\\u0430\\u043d\\u0430 \\u0438 \\u0435\\u0433\\u043e \\u0434\\u043e\\u043b\\u0436\\u043d\\u043e\\u0441\\u0442\\u043d\\u044b\\u0445 \\u043b\\u0438\\u0446 \\u0434\\u043e\\u043b\\u0436\\u043d\\u044b \\u0431\\u044b\\u0442\\u044c \\u0437\\u0430\\u043a\\u043e\\u043d\\u043d\\u044b\\u043c\\u0438 \\u0438 \\u043e\\u0431\\u043e\\u0441\\u043d\\u043e\\u0432\\u0430\\u043d\\u043d\\u044b\\u043c\\u0438.\\r\\n \\u0421\\u043e\\u043e\\u0431\\u0449\\u0430\\u0435\\u043c, \\u0447\\u0442\\u043e \\u0423\\u043f\\u0440\\u0430\\u0432\\u043b\\u0435\\u043d\\u0438\\u0435 \\u043e\\u0441\\u0443\\u0449\\u0435\\u0441\\u0442\\u0432\\u043b\\u044f\\u0435\\u0442 \\u043a\\u043e\\u043d\\u0442\\u0440\\u043e\\u043b\\u044c\\u043d\\u043e-\\u043d\\u0430\\u0434\\u0437\\u043e\\u0440\\u043d\\u0443\\u044e \\u0434\\u0435\\u044f\\u0442\\u0435\\u043b\\u044c\\u043d\\u043e\\u0441\\u0442\\u044c \\u0432 \\u0441\\u043e\\u043e\\u0442\\u0432\\u0435\\u0442\\u0441\\u0442\\u0432\\u0438\\u0438 \\u0441 \\u0442\\u0440\\u0435\\u0431\\u043e\\u0432\\u0430\\u043d\\u0438\\u044f\\u043c\\u0438 \\u0424\\u0435\\u0434\\u0435\\u0440\\u0430\\u043b\\u044c\\u043d\\u043e\\u0433\\u043e \\u0437\\u0430\\u043a\\u043e\\u043d\\u0430 \\u043e\\u0442 31.07.2020 N 248-\\u0424\\u0417 (\\u0440\\u0435\\u0434. \\u043e\\u0442 11.06.2021) \\\"\\u041e \\u0433\\u043e\\u0441\\u0443\\u0434\\u0430\\u0440\\u0441\\u0442\\u0432\\u0435\\u043d\\u043d\\u043e\\u043c \\u043a\\u043e\\u043d\\u0442\\u0440\\u043e\\u043b\\u0435 (\\u043d\\u0430\\u0434\\u0437\\u043e\\u0440\\u0435) \\u0438 \\u043c\\u0443\\u043d\\u0438\\u0446\\u0438\\u043f\\u0430\\u043b\\u044c\\u043d\\u043e\\u043c \\u043a\\u043e\\u043d\\u0442\\u0440\\u043e\\u043b\\u0435 \\u0432 \\u0420\\u043e\\u0441\\u0441\\u0438\\u0439\\u0441\\u043a\\u043e\\u0439 \\u0424\\u0435\\u0434\\u0435\\u0440\\u0430\\u0446\\u0438\\u0438\\\" (\\u0434\\u0430\\u043b\\u0435\\u0435 - \\u0417\\u0430\\u043a\\u043e\\u043d).  \\u041f\\u043e\\u0440\\u044f\\u0434\\u043e\\u043a \\u043e\\u0440\\u0433\\u0430\\u043d\\u0438\\u0437\\u0430\\u0446\\u0438\\u0438 \\u043a\\u043e\\u043d\\u0442\\u0440\\u043e\\u043b\\u044c\\u043d\\u043e-\\u043d\\u0430\\u0434\\u0437\\u043e\\u0440\\u043d\\u044b\\u0445 \\u043c\\u0435\\u0440\\u043e\\u043f\\u0440\\u0438\\u044f\\u0442\\u0438\\u0439 \\u0432 2024\\u0433 \\u043e\\u043f\\u0440\\u0435\\u0434\\u0435\\u043b\\u0435\\u043d \\u041f\\u043e\\u0441\\u0442\\u0430\\u043d\\u043e\\u0432\\u043b\\u0435\\u043d\\u0438\\u0435\\u043c \\u041f\\u0440\\u0430\\u0432\\u0438\\u0442\\u0435\\u043b\\u044c\\u0441\\u0442\\u0432\\u0430 \\u0420\\u0424 \\u043e\\u0442 10.03.2022\\u0433 \\u2116 336 \\u00ab\\u041e\\u0431 \\u043e\\u0441\\u043e\\u0431\\u0435\\u043d\\u043d\\u043e\\u0441\\u0442\\u044f\\u0445 \\u043e\\u0440\\u0433\\u0430\\u043d\\u0438\\u0437\\u0430\\u0446\\u0438\\u0438 \\u0438 \\u043e\\u0441\\u0443\\u0449\\u0435\\u0441\\u0442\\u0432\\u043b\\u0435\\u043d\\u0438\\u044f \\u0433\\u043e\\u0441\\u0443\\u0434\\u0430\\u0440\\u0441\\u0442\\u0432\\u0435\\u043d\\u043d\\u043e\\u0433\\u043e \\u043a\\u043e\\u043d\\u0442\\u0440\\u043e\\u043b\\u044f (\\u043d\\u0430\\u0434\\u0437\\u043e\\u0440\\u0430), \\u043c\\u0443\\u043d\\u0438\\u0446\\u0438\\u043f\\u0430\\u043b\\u044c\\u043d\\u043e\\u0433\\u043e \\u043a\\u043e\\u043d\\u0442\\u0440\\u043e\\u043b\\u044f\\u00bb \\u0438 \\u0440\\u0430\\u0437\\u044a\\u044f\\u0441\\u043d\\u0435\\u043d \\u043f\\u0438\\u0441\\u044c\\u043c\\u043e\\u043c \\u041c\\u0438\\u043d\\u044d\\u043a\\u043e\\u043d\\u043e\\u043c\\u0440\\u0430\\u0437\\u0432\\u0438\\u0442\\u0438\\u044f \\u0420\\u043e\\u0441\\u0441\\u0438\\u0438 \\u043e\\u0442 24.03.2022\\u0433 \\u2116 \\u041424\\u043d-8436. \\u041f\\u0440\\u043e\\u0432\\u0435\\u0434\\u0435\\u043d\\u0438\\u0435 \\u043a\\u043e\\u043d\\u0442\\u0440\\u043e\\u043b\\u044c\\u043d\\u043e-\\u043d\\u0430\\u0434\\u0437\\u043e\\u0440\\u043d\\u044b\\u0445 \\u043c\\u0435\\u0440\\u043e\\u043f\\u0440\\u0438\\u044f\\u0442\\u0438\\u0439 \\u0432\\u043e\\u0437\\u043c\\u043e\\u0436\\u043d\\u043e \\u0442\\u043e\\u043b\\u044c\\u043a\\u043e \\u0432 \\u0442\\u0435\\u0445 \\u0441\\u043b\\u0443\\u0447\\u0430\\u044f\\u0445, \\u043a\\u043e\\u0433\\u0434\\u0430 \\u0441\\u0443\\u0449\\u0435\\u0441\\u0442\\u0432\\u0443\\u0435\\u0442   \\u0432\\u044b\\u0441\\u043e\\u043a\\u0430\\u044f \\u0441\\u0442\\u0435\\u043f\\u0435\\u043d\\u044c \\u0432\\u0435\\u0440\\u043e\\u044f\\u0442\\u043d\\u043e\\u0441\\u0442\\u0438 \\u043f\\u0440\\u0438\\u0447\\u0438\\u043d\\u0435\\u043d\\u0438\\u044f \\u0432\\u0440\\u0435\\u0434\\u0430 \\u0432 \\u043a\\u0440\\u0430\\u0442\\u043a\\u043e\\u0441\\u0440\\u043e\\u0447\\u043d\\u043e\\u0439 \\u043f\\u0435\\u0440\\u0441\\u043f\\u0435\\u043a\\u0442\\u0438\\u0432\\u0435, \\u043a\\u043e\\u0433\\u0434\\u0430 \\u043e\\u0442\\u0441\\u0443\\u0442\\u0441\\u0442\\u0432\\u0438\\u0435 \\u043c\\u0435\\u0440 \\u0440\\u0435\\u0430\\u0433\\u0438\\u0440\\u043e\\u0432\\u0430\\u043d\\u0438\\u044f \\u043d\\u0435\\u043c\\u0438\\u043d\\u0443\\u0435\\u043c\\u043e \\u0432\\u043b\\u0435\\u0447\\u0435\\u0442 \\u043d\\u0430\\u0441\\u0442\\u0443\\u043f\\u043b\\u0435\\u043d\\u0438\\u0435 \\u043d\\u0435\\u0433\\u0430\\u0442\\u0438\\u0432\\u043d\\u044b\\u0445 \\u043f\\u043e\\u0441\\u043b\\u0435\\u0434\\u0441\\u0442\\u0432\\u0438\\u0439.\\r\\n\\u041a\\u0443\\u043b\\u044c\\u0442\\u0443\\u0440\\u0430 \\u043f\\u043e\\u0432\\u0435\\u0434\\u0435\\u043d\\u0438\\u044f \\u0441\\u043e\\u0442\\u0440\\u0443\\u0434\\u043d\\u0438\\u043a\\u043e\\u0432 \\u043f\\u0440\\u0435\\u0434\\u043f\\u0440\\u0438\\u044f\\u0442\\u0438\\u044f, \\u0437\\u0430\\u043a\\u043e\\u043d\\u043e\\u0434\\u0430\\u0442\\u0435\\u043b\\u044c\\u0441\\u0442\\u0432\\u043e\\u043c \\u043e \\u0437\\u0430\\u0449\\u0438\\u0442\\u0435 \\u043f\\u0440\\u0430\\u0432 \\u043f\\u043e\\u0442\\u0440\\u0435\\u0431\\u0438\\u0442\\u0435\\u043b\\u0435\\u0439 \\u043d\\u0435 \\u0440\\u0435\\u0433\\u0443\\u043b\\u0438\\u0440\\u0443\\u0435\\u0442\\u0441\\u044f. \\u0410\\u0434\\u043c\\u0438\\u043d\\u0438\\u0441\\u0442\\u0440\\u0430\\u0442\\u0438\\u0432\\u043d\\u0430\\u044f \\u043e\\u0442\\u0432\\u0435\\u0442\\u0441\\u0442\\u0432\\u0435\\u043d\\u043d\\u043e\\u0441\\u0442\\u044c \\u0437\\u0430 \\u043d\\u0435\\u043a\\u043e\\u0440\\u0440\\u0435\\u043a\\u0442\\u043d\\u043e\\u0435 \\u043f\\u043e\\u0432\\u0435\\u0434\\u0435\\u043d\\u0438\\u0435 \\u043e\\u0431\\u0441\\u043b\\u0443\\u0436\\u0438\\u0432\\u0430\\u044e\\u0449\\u0435\\u0433\\u043e \\u043f\\u0435\\u0440\\u0441\\u043e\\u043d\\u0430\\u043b\\u0430 \\u043f\\u0440\\u0435\\u0434\\u043f\\u0440\\u0438\\u044f\\u0442\\u0438\\u044f \\u0440\\u043e\\u0437\\u043d\\u0438\\u0447\\u043d\\u043e\\u0439 \\u0442\\u043e\\u0440\\u0433\\u043e\\u0432\\u043b\\u0438 \\u043d\\u0435 \\u043f\\u0440\\u0435\\u0434\\u0443\\u0441\\u043c\\u043e\\u0442\\u0440\\u0435\\u043d\\u0430.\\r\\n\\u0412\\u044b \\u0432\\u043f\\u0440\\u0430\\u0432\\u0435 \\u043e\\u0431\\u0440\\u0430\\u0442\\u0438\\u0442\\u044c\\u0441\\u044f \\u043a \\u043f\\u0440\\u043e\\u0434\\u0430\\u0432\\u0446\\u0443 \\u0441 \\u043f\\u0440\\u0435\\u0442\\u0435\\u043d\\u0437\\u0438\\u0435\\u0439 \\u0437\\u0430 \\u0432\\u043e\\u0441\\u0441\\u0442\\u0430\\u043d\\u043e\\u0432\\u043b\\u0435\\u043d\\u0438\\u0435\\u043c \\u0441\\u0432\\u043e\\u0438\\u0445 \\u043d\\u0430\\u0440\\u0443\\u0448\\u0435\\u043d\\u043d\\u044b\\u0445 \\u043f\\u0440\\u0430\\u0432.\\r\\n\\u0414\\u043e\\u043f\\u043e\\u043b\\u043d\\u0438\\u0442\\u0435\\u043b\\u044c\\u043d\\u043e \\u0438\\u043d\\u0444\\u043e\\u0440\\u043c\\u0438\\u0440\\u0443\\u0435\\u043c, \\u0447\\u0442\\u043e \\u0423\\u043f\\u0440\\u0430\\u0432\\u043b\\u0435\\u043d\\u0438\\u0435 \\u043d\\u0435 \\u043a\\u043e\\u043d\\u0442\\u0440\\u043e\\u043b\\u0438\\u0440\\u0443\\u0435\\u0442 \\u0440\\u0430\\u0431\\u043e\\u0442\\u0443 \\u043a\\u043e\\u043d\\u0442\\u0440\\u043e\\u043b\\u044c\\u043d\\u043e-\\u043a\\u0430\\u0441\\u0441\\u043e\\u0432\\u043e\\u0439 \\u0442\\u0435\\u0445\\u043d\\u0438\\u043a\\u0438. \\u0414\\u043b\\u044f \\u0440\\u0435\\u0448\\u0435\\u043d\\u0438\\u044f \\u044d\\u0442\\u043e\\u0433\\u043e \\u0432\\u043e\\u043f\\u0440\\u043e\\u0441\\u0430 \\u0412\\u0430\\u043c \\u043d\\u0435\\u043e\\u0431\\u0445\\u043e\\u0434\\u0438\\u043c\\u043e \\u043e\\u0431\\u0440\\u0430\\u0442\\u0438\\u0442\\u044c\\u0441\\u044f \\u0432 \\u0423\\u0424\\u041d\\u0421 \\u0420\\u043e\\u0441\\u0441\\u0438\\u0438 \\u043f\\u043e \\u042f\\u0440\\u043e\\u0441\\u043b\\u0430\\u0432\\u0441\\u043a\\u043e\\u0439 \\u043e\\u0431\\u043b\\u0430\\u0441\\u0442\\u0438.\\r\\n\"\n        ],\n        \"semantic_type\": \"\",\n        \"description\": \"\"\n      }\n    }\n  ]\n}"
            }
          },
          "metadata": {},
          "execution_count": 26
        }
      ]
    },
    {
      "cell_type": "markdown",
      "source": [
        "## 5 Clean text"
      ],
      "metadata": {
        "id": "tsY9tLMPm6v0"
      }
    },
    {
      "cell_type": "code",
      "source": [
        "cln = CleanText('RPN_questions', 'russian', True)"
      ],
      "metadata": {
        "id": "uAOL1XcfU7sS"
      },
      "execution_count": null,
      "outputs": []
    },
    {
      "cell_type": "code",
      "source": [
        "df['RPN_questions'] = cln.transform(df)"
      ],
      "metadata": {
        "colab": {
          "base_uri": "https://localhost:8080/"
        },
        "id": "wwxHMGEvgTKq",
        "outputId": "cad5144d-9efe-439f-f064-dfc99148bcd6"
      },
      "execution_count": null,
      "outputs": [
        {
          "output_type": "stream",
          "name": "stderr",
          "text": [
            "  0%|          | 0/4995 [00:00<?, ?it/s]<ipython-input-3-42ed51d1bbc7>:56: FutureWarning: Possible nested set at position 39\n",
            "  text = re.sub(\"[0-9]|[-—.,:;_%©«»?*!@#№$^•·&()]|[+=]|[[]|[]]|[/]|\", '', text)\n",
            "100%|██████████| 4995/4995 [01:44<00:00, 47.88it/s]\n"
          ]
        }
      ]
    },
    {
      "cell_type": "code",
      "source": [
        "df.head(6)"
      ],
      "metadata": {
        "colab": {
          "base_uri": "https://localhost:8080/",
          "height": 237
        },
        "id": "whJNM-c5g0fy",
        "outputId": "2d688e06-57cf-48ad-d2eb-9e0d656c1e7e"
      },
      "execution_count": null,
      "outputs": [
        {
          "output_type": "execute_result",
          "data": {
            "text/plain": [
              "   doc_id                                      RPN_questions  \\\n",
              "0   44015  [сентябрь, г, оформить, заказ, сумма, р, сайт,...   \n",
              "1   44010  [добрый, деньсовершить, несколько, покупка, ме...   \n",
              "2   44009  [здравствуйте, хотеть, пожаловаться, магазин, ...   \n",
              "3   43999  [год, магазин, магнит, адрес, московский, прос...   \n",
              "4   43998  [апрель, год, забрать, посылка, мегамаркет, ма...   \n",
              "5   44015  [сентябрь, г, оформить, заказ, сумма, р, сайт,...   \n",
              "\n",
              "                                         RPN_answers  \n",
              "0  Добрый день! Вам необходимо направить обращени...  \n",
              "1  Добрый день! Что такое кэшбэк и как его получи...  \n",
              "2  Здравствуйте.\\r\\nУправление Роспотребнадзора п...  \n",
              "3  Уважаемая Виктория!\\r\\n\\r\\nСообщаем, что данны...  \n",
              "4  Уважаемая Вера!\\r\\n\\r\\n\\r\\nСогласно п. 5 ст. 2...  \n",
              "5  Добрый день! Вам необходимо направить обращени...  "
            ],
            "text/html": [
              "\n",
              "  <div id=\"df-62401b2c-e847-422f-9c66-5be6be5bb02e\" class=\"colab-df-container\">\n",
              "    <div>\n",
              "<style scoped>\n",
              "    .dataframe tbody tr th:only-of-type {\n",
              "        vertical-align: middle;\n",
              "    }\n",
              "\n",
              "    .dataframe tbody tr th {\n",
              "        vertical-align: top;\n",
              "    }\n",
              "\n",
              "    .dataframe thead th {\n",
              "        text-align: right;\n",
              "    }\n",
              "</style>\n",
              "<table border=\"1\" class=\"dataframe\">\n",
              "  <thead>\n",
              "    <tr style=\"text-align: right;\">\n",
              "      <th></th>\n",
              "      <th>doc_id</th>\n",
              "      <th>RPN_questions</th>\n",
              "      <th>RPN_answers</th>\n",
              "    </tr>\n",
              "  </thead>\n",
              "  <tbody>\n",
              "    <tr>\n",
              "      <th>0</th>\n",
              "      <td>44015</td>\n",
              "      <td>[сентябрь, г, оформить, заказ, сумма, р, сайт,...</td>\n",
              "      <td>Добрый день! Вам необходимо направить обращени...</td>\n",
              "    </tr>\n",
              "    <tr>\n",
              "      <th>1</th>\n",
              "      <td>44010</td>\n",
              "      <td>[добрый, деньсовершить, несколько, покупка, ме...</td>\n",
              "      <td>Добрый день! Что такое кэшбэк и как его получи...</td>\n",
              "    </tr>\n",
              "    <tr>\n",
              "      <th>2</th>\n",
              "      <td>44009</td>\n",
              "      <td>[здравствуйте, хотеть, пожаловаться, магазин, ...</td>\n",
              "      <td>Здравствуйте.\\r\\nУправление Роспотребнадзора п...</td>\n",
              "    </tr>\n",
              "    <tr>\n",
              "      <th>3</th>\n",
              "      <td>43999</td>\n",
              "      <td>[год, магазин, магнит, адрес, московский, прос...</td>\n",
              "      <td>Уважаемая Виктория!\\r\\n\\r\\nСообщаем, что данны...</td>\n",
              "    </tr>\n",
              "    <tr>\n",
              "      <th>4</th>\n",
              "      <td>43998</td>\n",
              "      <td>[апрель, год, забрать, посылка, мегамаркет, ма...</td>\n",
              "      <td>Уважаемая Вера!\\r\\n\\r\\n\\r\\nСогласно п. 5 ст. 2...</td>\n",
              "    </tr>\n",
              "    <tr>\n",
              "      <th>5</th>\n",
              "      <td>44015</td>\n",
              "      <td>[сентябрь, г, оформить, заказ, сумма, р, сайт,...</td>\n",
              "      <td>Добрый день! Вам необходимо направить обращени...</td>\n",
              "    </tr>\n",
              "  </tbody>\n",
              "</table>\n",
              "</div>\n",
              "    <div class=\"colab-df-buttons\">\n",
              "\n",
              "  <div class=\"colab-df-container\">\n",
              "    <button class=\"colab-df-convert\" onclick=\"convertToInteractive('df-62401b2c-e847-422f-9c66-5be6be5bb02e')\"\n",
              "            title=\"Convert this dataframe to an interactive table.\"\n",
              "            style=\"display:none;\">\n",
              "\n",
              "  <svg xmlns=\"http://www.w3.org/2000/svg\" height=\"24px\" viewBox=\"0 -960 960 960\">\n",
              "    <path d=\"M120-120v-720h720v720H120Zm60-500h600v-160H180v160Zm220 220h160v-160H400v160Zm0 220h160v-160H400v160ZM180-400h160v-160H180v160Zm440 0h160v-160H620v160ZM180-180h160v-160H180v160Zm440 0h160v-160H620v160Z\"/>\n",
              "  </svg>\n",
              "    </button>\n",
              "\n",
              "  <style>\n",
              "    .colab-df-container {\n",
              "      display:flex;\n",
              "      gap: 12px;\n",
              "    }\n",
              "\n",
              "    .colab-df-convert {\n",
              "      background-color: #E8F0FE;\n",
              "      border: none;\n",
              "      border-radius: 50%;\n",
              "      cursor: pointer;\n",
              "      display: none;\n",
              "      fill: #1967D2;\n",
              "      height: 32px;\n",
              "      padding: 0 0 0 0;\n",
              "      width: 32px;\n",
              "    }\n",
              "\n",
              "    .colab-df-convert:hover {\n",
              "      background-color: #E2EBFA;\n",
              "      box-shadow: 0px 1px 2px rgba(60, 64, 67, 0.3), 0px 1px 3px 1px rgba(60, 64, 67, 0.15);\n",
              "      fill: #174EA6;\n",
              "    }\n",
              "\n",
              "    .colab-df-buttons div {\n",
              "      margin-bottom: 4px;\n",
              "    }\n",
              "\n",
              "    [theme=dark] .colab-df-convert {\n",
              "      background-color: #3B4455;\n",
              "      fill: #D2E3FC;\n",
              "    }\n",
              "\n",
              "    [theme=dark] .colab-df-convert:hover {\n",
              "      background-color: #434B5C;\n",
              "      box-shadow: 0px 1px 3px 1px rgba(0, 0, 0, 0.15);\n",
              "      filter: drop-shadow(0px 1px 2px rgba(0, 0, 0, 0.3));\n",
              "      fill: #FFFFFF;\n",
              "    }\n",
              "  </style>\n",
              "\n",
              "    <script>\n",
              "      const buttonEl =\n",
              "        document.querySelector('#df-62401b2c-e847-422f-9c66-5be6be5bb02e button.colab-df-convert');\n",
              "      buttonEl.style.display =\n",
              "        google.colab.kernel.accessAllowed ? 'block' : 'none';\n",
              "\n",
              "      async function convertToInteractive(key) {\n",
              "        const element = document.querySelector('#df-62401b2c-e847-422f-9c66-5be6be5bb02e');\n",
              "        const dataTable =\n",
              "          await google.colab.kernel.invokeFunction('convertToInteractive',\n",
              "                                                    [key], {});\n",
              "        if (!dataTable) return;\n",
              "\n",
              "        const docLinkHtml = 'Like what you see? Visit the ' +\n",
              "          '<a target=\"_blank\" href=https://colab.research.google.com/notebooks/data_table.ipynb>data table notebook</a>'\n",
              "          + ' to learn more about interactive tables.';\n",
              "        element.innerHTML = '';\n",
              "        dataTable['output_type'] = 'display_data';\n",
              "        await google.colab.output.renderOutput(dataTable, element);\n",
              "        const docLink = document.createElement('div');\n",
              "        docLink.innerHTML = docLinkHtml;\n",
              "        element.appendChild(docLink);\n",
              "      }\n",
              "    </script>\n",
              "  </div>\n",
              "\n",
              "\n",
              "<div id=\"df-db3b4630-15b8-4605-9104-eb2db33c12ca\">\n",
              "  <button class=\"colab-df-quickchart\" onclick=\"quickchart('df-db3b4630-15b8-4605-9104-eb2db33c12ca')\"\n",
              "            title=\"Suggest charts\"\n",
              "            style=\"display:none;\">\n",
              "\n",
              "<svg xmlns=\"http://www.w3.org/2000/svg\" height=\"24px\"viewBox=\"0 0 24 24\"\n",
              "     width=\"24px\">\n",
              "    <g>\n",
              "        <path d=\"M19 3H5c-1.1 0-2 .9-2 2v14c0 1.1.9 2 2 2h14c1.1 0 2-.9 2-2V5c0-1.1-.9-2-2-2zM9 17H7v-7h2v7zm4 0h-2V7h2v10zm4 0h-2v-4h2v4z\"/>\n",
              "    </g>\n",
              "</svg>\n",
              "  </button>\n",
              "\n",
              "<style>\n",
              "  .colab-df-quickchart {\n",
              "      --bg-color: #E8F0FE;\n",
              "      --fill-color: #1967D2;\n",
              "      --hover-bg-color: #E2EBFA;\n",
              "      --hover-fill-color: #174EA6;\n",
              "      --disabled-fill-color: #AAA;\n",
              "      --disabled-bg-color: #DDD;\n",
              "  }\n",
              "\n",
              "  [theme=dark] .colab-df-quickchart {\n",
              "      --bg-color: #3B4455;\n",
              "      --fill-color: #D2E3FC;\n",
              "      --hover-bg-color: #434B5C;\n",
              "      --hover-fill-color: #FFFFFF;\n",
              "      --disabled-bg-color: #3B4455;\n",
              "      --disabled-fill-color: #666;\n",
              "  }\n",
              "\n",
              "  .colab-df-quickchart {\n",
              "    background-color: var(--bg-color);\n",
              "    border: none;\n",
              "    border-radius: 50%;\n",
              "    cursor: pointer;\n",
              "    display: none;\n",
              "    fill: var(--fill-color);\n",
              "    height: 32px;\n",
              "    padding: 0;\n",
              "    width: 32px;\n",
              "  }\n",
              "\n",
              "  .colab-df-quickchart:hover {\n",
              "    background-color: var(--hover-bg-color);\n",
              "    box-shadow: 0 1px 2px rgba(60, 64, 67, 0.3), 0 1px 3px 1px rgba(60, 64, 67, 0.15);\n",
              "    fill: var(--button-hover-fill-color);\n",
              "  }\n",
              "\n",
              "  .colab-df-quickchart-complete:disabled,\n",
              "  .colab-df-quickchart-complete:disabled:hover {\n",
              "    background-color: var(--disabled-bg-color);\n",
              "    fill: var(--disabled-fill-color);\n",
              "    box-shadow: none;\n",
              "  }\n",
              "\n",
              "  .colab-df-spinner {\n",
              "    border: 2px solid var(--fill-color);\n",
              "    border-color: transparent;\n",
              "    border-bottom-color: var(--fill-color);\n",
              "    animation:\n",
              "      spin 1s steps(1) infinite;\n",
              "  }\n",
              "\n",
              "  @keyframes spin {\n",
              "    0% {\n",
              "      border-color: transparent;\n",
              "      border-bottom-color: var(--fill-color);\n",
              "      border-left-color: var(--fill-color);\n",
              "    }\n",
              "    20% {\n",
              "      border-color: transparent;\n",
              "      border-left-color: var(--fill-color);\n",
              "      border-top-color: var(--fill-color);\n",
              "    }\n",
              "    30% {\n",
              "      border-color: transparent;\n",
              "      border-left-color: var(--fill-color);\n",
              "      border-top-color: var(--fill-color);\n",
              "      border-right-color: var(--fill-color);\n",
              "    }\n",
              "    40% {\n",
              "      border-color: transparent;\n",
              "      border-right-color: var(--fill-color);\n",
              "      border-top-color: var(--fill-color);\n",
              "    }\n",
              "    60% {\n",
              "      border-color: transparent;\n",
              "      border-right-color: var(--fill-color);\n",
              "    }\n",
              "    80% {\n",
              "      border-color: transparent;\n",
              "      border-right-color: var(--fill-color);\n",
              "      border-bottom-color: var(--fill-color);\n",
              "    }\n",
              "    90% {\n",
              "      border-color: transparent;\n",
              "      border-bottom-color: var(--fill-color);\n",
              "    }\n",
              "  }\n",
              "</style>\n",
              "\n",
              "  <script>\n",
              "    async function quickchart(key) {\n",
              "      const quickchartButtonEl =\n",
              "        document.querySelector('#' + key + ' button');\n",
              "      quickchartButtonEl.disabled = true;  // To prevent multiple clicks.\n",
              "      quickchartButtonEl.classList.add('colab-df-spinner');\n",
              "      try {\n",
              "        const charts = await google.colab.kernel.invokeFunction(\n",
              "            'suggestCharts', [key], {});\n",
              "      } catch (error) {\n",
              "        console.error('Error during call to suggestCharts:', error);\n",
              "      }\n",
              "      quickchartButtonEl.classList.remove('colab-df-spinner');\n",
              "      quickchartButtonEl.classList.add('colab-df-quickchart-complete');\n",
              "    }\n",
              "    (() => {\n",
              "      let quickchartButtonEl =\n",
              "        document.querySelector('#df-db3b4630-15b8-4605-9104-eb2db33c12ca button');\n",
              "      quickchartButtonEl.style.display =\n",
              "        google.colab.kernel.accessAllowed ? 'block' : 'none';\n",
              "    })();\n",
              "  </script>\n",
              "</div>\n",
              "    </div>\n",
              "  </div>\n"
            ],
            "application/vnd.google.colaboratory.intrinsic+json": {
              "type": "dataframe",
              "variable_name": "df",
              "summary": "{\n  \"name\": \"df\",\n  \"rows\": 4995,\n  \"fields\": [\n    {\n      \"column\": \"doc_id\",\n      \"properties\": {\n        \"dtype\": \"number\",\n        \"std\": 6,\n        \"min\": 43998,\n        \"max\": 44015,\n        \"num_unique_values\": 5,\n        \"samples\": [\n          44010,\n          43998,\n          44009\n        ],\n        \"semantic_type\": \"\",\n        \"description\": \"\"\n      }\n    },\n    {\n      \"column\": \"RPN_questions\",\n      \"properties\": {\n        \"dtype\": \"object\",\n        \"semantic_type\": \"\",\n        \"description\": \"\"\n      }\n    },\n    {\n      \"column\": \"RPN_answers\",\n      \"properties\": {\n        \"dtype\": \"category\",\n        \"num_unique_values\": 5,\n        \"samples\": [\n          \"\\u0414\\u043e\\u0431\\u0440\\u044b\\u0439 \\u0434\\u0435\\u043d\\u044c! \\u0427\\u0442\\u043e \\u0442\\u0430\\u043a\\u043e\\u0435 \\u043a\\u044d\\u0448\\u0431\\u044d\\u043a \\u0438 \\u043a\\u0430\\u043a \\u0435\\u0433\\u043e \\u043f\\u043e\\u043b\\u0443\\u0447\\u0438\\u0442\\u044c\\r\\n\\u041a\\u044d\\u0448\\u0431\\u044d\\u043a \\u2014 \\u0440\\u0430\\u0437\\u043d\\u043e\\u0432\\u0438\\u0434\\u043d\\u043e\\u0441\\u0442\\u044c \\u0431\\u043e\\u043d\\u0443\\u0441\\u043d\\u043e\\u0439 \\u043f\\u0440\\u043e\\u0433\\u0440\\u0430\\u043c\\u043c\\u044b, \\u0433\\u0434\\u0435 \\u0437\\u0430 \\u0432\\u044b\\u043f\\u043e\\u043b\\u043d\\u0435\\u043d\\u0438\\u0435 \\u0443\\u0441\\u043b\\u043e\\u0432\\u0438\\u0439 \\u043a\\u043b\\u0438\\u0435\\u043d\\u0442\\u0443 \\u043d\\u0430\\u0447\\u0438\\u0441\\u043b\\u044f\\u0435\\u0442\\u0441\\u044f \\u043e\\u043f\\u0440\\u0435\\u0434\\u0435\\u043b\\u0435\\u043d\\u043d\\u043e\\u0435 \\u043a\\u043e\\u043b\\u0438\\u0447\\u0435\\u0441\\u0442\\u0432\\u043e \\u0431\\u043e\\u043d\\u0443\\u0441\\u043e\\u0432 \\u0438\\u043b\\u0438 \\u0447\\u0430\\u0441\\u0442\\u044c \\u043f\\u043e\\u0442\\u0440\\u0430\\u0447\\u0435\\u043d\\u043d\\u044b\\u0445 \\u0434\\u0435\\u043d\\u0435\\u0433.\\r\\n\\r\\n\\u041a\\u044d\\u0448\\u0431\\u044d\\u043a \\u2014 \\u0440\\u0430\\u0437\\u043d\\u043e\\u0432\\u0438\\u0434\\u043d\\u043e\\u0441\\u0442\\u044c \\u0431\\u043e\\u043d\\u0443\\u0441\\u043d\\u043e\\u0439 \\u043f\\u0440\\u043e\\u0433\\u0440\\u0430\\u043c\\u043c\\u044b, \\u0433\\u0434\\u0435 \\u0437\\u0430 \\u0432\\u044b\\u043f\\u043e\\u043b\\u043d\\u0435\\u043d\\u0438\\u0435 \\u0443\\u0441\\u043b\\u043e\\u0432\\u0438\\u0439 \\u043a\\u043b\\u0438\\u0435\\u043d\\u0442\\u0443 \\u043d\\u0430\\u0447\\u0438\\u0441\\u043b\\u044f\\u0435\\u0442\\u0441\\u044f \\u043e\\u043f\\u0440\\u0435\\u0434\\u0435\\u043b\\u0435\\u043d\\u043d\\u043e\\u0435 \\u043a\\u043e\\u043b\\u0438\\u0447\\u0435\\u0441\\u0442\\u0432\\u043e \\u0431\\u043e\\u043d\\u0443\\u0441\\u043e\\u0432 \\u0438\\u043b\\u0438 \\u0447\\u0430\\u0441\\u0442\\u044c \\u043f\\u043e\\u0442\\u0440\\u0430\\u0447\\u0435\\u043d\\u043d\\u044b\\u0445 \\u0434\\u0435\\u043d\\u0435\\u0433.\\r\\n\\u0411\\u0430\\u043d\\u043a\\u0438 \\u0432\\u0435\\u0434\\u0443\\u0442 \\u0430\\u043a\\u0442\\u0438\\u0432\\u043d\\u0443\\u044e \\u043f\\u0440\\u0430\\u043a\\u0442\\u0438\\u043a\\u0443, \\u0432\\u043e\\u0437\\u0432\\u0440\\u0430\\u0449\\u0430\\u044f \\u0431\\u043e\\u043d\\u0443\\u0441\\u044b \\u043f\\u043e\\u0441\\u043b\\u0435 \\u043f\\u043e\\u043a\\u0443\\u043f\\u043e\\u043a, \\u0441\\u043e\\u0432\\u0435\\u0440\\u0448\\u0435\\u043d\\u043d\\u044b\\u0445 \\u0441 \\u043f\\u043e\\u043c\\u043e\\u0449\\u044c\\u044e \\u0438\\u0445 \\u043a\\u0430\\u0440\\u0442.\\r\\n\\u041f\\u0440\\u043e\\u0433\\u0440\\u0430\\u043c\\u043c\\u0430 \\u043a\\u044d\\u0448\\u0431\\u044d\\u043a\\u0430 \\u0443 \\u0431\\u0430\\u043d\\u043a\\u043e\\u0432 \\u0441\\u043b\\u0435\\u0434\\u0443\\u044e\\u0449\\u0430\\u044f:\\r\\n\\u2022 \\u0421 \\u043a\\u0430\\u0440\\u0442\\u044b \\u0441\\u043e\\u0432\\u0435\\u0440\\u0448\\u0430\\u0435\\u0442\\u0441\\u044f \\u043f\\u043e\\u043a\\u0443\\u043f\\u043a\\u0430. \\u041e\\u043d\\u0430 \\u043c\\u043e\\u0436\\u0435\\u0442 \\u0431\\u044b\\u0442\\u044c \\u0441\\u043e\\u0432\\u0435\\u0440\\u0448\\u0435\\u043d\\u0430 \\u043d\\u0435 \\u0442\\u043e\\u043b\\u044c\\u043a\\u043e \\u0447\\u0435\\u0440\\u0435\\u0437 \\u0418\\u043d\\u0442\\u0435\\u0440\\u043d\\u0435\\u0442, \\u043d\\u043e \\u0438 \\u0432 \\u043e\\u0431\\u044b\\u0447\\u043d\\u043e\\u043c \\u0442\\u043e\\u0440\\u0433\\u043e\\u0432\\u043e\\u043c \\u043c\\u0430\\u0433\\u0430\\u0437\\u0438\\u043d\\u0435.\\r\\n\\u2022 \\u041d\\u0430 \\u043a\\u0430\\u0440\\u0442\\u0443 \\u043d\\u0430\\u0447\\u0438\\u0441\\u043b\\u044f\\u044e\\u0442\\u0441\\u044f \\u0431\\u043e\\u043d\\u0443\\u0441\\u044b. \\u041e\\u0431\\u044b\\u0447\\u043d\\u043e \\u044d\\u0442\\u043e \\u043f\\u0440\\u043e\\u0438\\u0441\\u0445\\u043e\\u0434\\u0438\\u0442 \\u0432 \\u043a\\u043e\\u043d\\u0446\\u0435 \\u043c\\u0435\\u0441\\u044f\\u0446\\u0430, \\u0432\\u0441\\u0435 \\u0431\\u043e\\u043d\\u0443\\u0441\\u044b \\u0441\\u0443\\u043c\\u043c\\u0438\\u0440\\u0443\\u044e\\u0442\\u0441\\u044f \\u0438 \\u043f\\u0440\\u0438\\u0445\\u043e\\u0434\\u044f\\u0442 \\u043d\\u0430 \\u0441\\u0447\\u0435\\u0442.\\r\\n\\u041a\\u043e\\u043b\\u0438\\u0447\\u0435\\u0441\\u0442\\u0432\\u043e \\u0431\\u043e\\u043d\\u0443\\u0441\\u043e\\u0432 \\u043e\\u043f\\u0440\\u0435\\u0434\\u0435\\u043b\\u044f\\u0435\\u0442\\u0441\\u044f \\u0442\\u0435\\u043c, \\u043a\\u0430\\u043a\\u043e\\u0439 \\u043f\\u0440\\u043e\\u0446\\u0435\\u043d\\u0442 \\u043a\\u044d\\u0448\\u0431\\u044d\\u043a\\u0430 \\u0431\\u0430\\u043d\\u043a \\u0443\\u0441\\u0442\\u0430\\u043d\\u043e\\u0432\\u0438\\u043b \\u0432 \\u0434\\u0430\\u043d\\u043d\\u043e\\u043c \\u043c\\u0430\\u0433\\u0430\\u0437\\u0438\\u043d\\u0435. \\u0412 \\u043e\\u0441\\u043d\\u043e\\u0432\\u043d\\u043e\\u043c \\u0443 \\u043a\\u0430\\u0436\\u0434\\u043e\\u0433\\u043e \\u0431\\u0430\\u043d\\u043a\\u0430 \\u0435\\u0441\\u0442\\u044c \\u0441\\u0432\\u043e\\u0438 \\u043e\\u0441\\u043e\\u0431\\u0435\\u043d\\u043d\\u043e\\u0441\\u0442\\u0438 \\u0442\\u0430\\u043a\\u0438\\u0445 \\u043f\\u0440\\u043e\\u0433\\u0440\\u0430\\u043c\\u043c, \\u043d\\u0430\\u043f\\u0440\\u0438\\u043c\\u0435\\u0440, \\u043e\\u0433\\u0440\\u0430\\u043d\\u0438\\u0447\\u0435\\u043d\\u0438\\u0435 \\u0446\\u0435\\u043b\\u0438 \\u0438\\u0441\\u043f\\u043e\\u043b\\u044c\\u0437\\u043e\\u0432\\u0430\\u043d\\u0438\\u044f \\u0431\\u043e\\u043d\\u0443\\u0441\\u043e\\u0432, \\u043b\\u0438\\u043c\\u0438\\u0442 \\u0434\\u043b\\u044f \\u0444\\u0443\\u043d\\u043a\\u0446\\u0438\\u043e\\u043d\\u0438\\u0440\\u043e\\u0432\\u0430\\u043d\\u0438\\u044f \\u043a\\u044d\\u0448\\u0431\\u044d\\u043a\\u0430.\\r\\n\\u0414\\u043b\\u044f \\u0442\\u043e\\u0433\\u043e \\u0447\\u0442\\u043e\\u0431\\u044b \\u044d\\u0444\\u0444\\u0435\\u043a\\u0442\\u0438\\u0432\\u043d\\u043e \\u0432\\u044b\\u0431\\u0440\\u0430\\u0442\\u044c \\u043a\\u0430\\u0440\\u0442\\u0443 \\u0434\\u043b\\u044f \\u043f\\u043e\\u043b\\u0443\\u0447\\u0435\\u043d\\u0438\\u044f \\u043a\\u044d\\u0448\\u0431\\u044d\\u043a\\u0430, \\u043f\\u0440\\u0438\\u0434\\u0435\\u0440\\u0436\\u0438\\u0432\\u0430\\u0439\\u0442\\u0435\\u0441\\u044c \\u0441\\u043b\\u0435\\u0434\\u0443\\u044e\\u0449\\u0438\\u0445 \\u043f\\u0440\\u0430\\u0432\\u0438\\u043b:\\r\\n\\u2022 \\u0432\\u044b\\u0431\\u0438\\u0440\\u0430\\u0439\\u0442\\u0435 \\u0431\\u0430\\u043d\\u043a, \\u043a\\u043e\\u0442\\u043e\\u0440\\u044b\\u0439 \\u043f\\u043e\\u0437\\u0432\\u043e\\u043b\\u0438\\u0442 \\u043f\\u043e\\u043b\\u0443\\u0447\\u0438\\u0442\\u044c \\u043d\\u0430\\u0438\\u0431\\u043e\\u043b\\u044c\\u0448\\u0438\\u0439 \\u043a\\u044d\\u0448\\u0431\\u044d\\u043a \\u0432 \\u0442\\u0435\\u0445 \\u043c\\u0435\\u0441\\u0442\\u0430\\u0445, \\u043a\\u043e\\u0442\\u043e\\u0440\\u044b\\u0435 \\u0447\\u0430\\u0449\\u0435 \\u0432\\u0441\\u0435\\u0433\\u043e \\u043f\\u043e\\u0441\\u0435\\u0449\\u0430\\u0435\\u0442\\u0435;\\r\\n\\u2022 \\u0432\\u043d\\u0438\\u043c\\u0430\\u0442\\u0435\\u043b\\u044c\\u043d\\u043e \\u0438\\u0437\\u0443\\u0447\\u0438\\u0442\\u0435 \\u0434\\u043e\\u0433\\u043e\\u0432\\u043e\\u0440, \\u043d\\u0435\\u043a\\u043e\\u0442\\u043e\\u0440\\u044b\\u0435 \\u0431\\u0430\\u043d\\u043a\\u0438 \\u043f\\u0440\\u043e\\u043f\\u0438\\u0441\\u044b\\u0432\\u0430\\u044e\\u0442 \\u0432 \\u043d\\u0435\\u043c \\u0443\\u0441\\u043b\\u043e\\u0432\\u0438\\u0435 \\u2014 \\u043f\\u043e\\u043b\\u0443\\u0447\\u0438\\u0442\\u044c \\u043a\\u044d\\u0448\\u0431\\u044d\\u043a \\u0432\\u043e\\u0437\\u043c\\u043e\\u0436\\u043d\\u043e \\u0442\\u043e\\u043b\\u044c\\u043a\\u043e \\u043f\\u0440\\u0438 \\u043d\\u0430\\u043b\\u0438\\u0447\\u0438\\u0438 \\u0437\\u0430\\u0434\\u043e\\u043b\\u0436\\u0435\\u043d\\u043d\\u043e\\u0441\\u0442\\u0438 \\u043f\\u043e \\u043a\\u0440\\u0435\\u0434\\u0438\\u0442\\u0443;\\r\\n\\u2022 \\u0442\\u0430\\u043a\\u0436\\u0435 \\u0441\\u0442\\u043e\\u0438\\u0442 \\u043e\\u0431\\u0440\\u0430\\u0442\\u0438\\u0442\\u044c \\u0432\\u043d\\u0438\\u043c\\u0430\\u043d\\u0438\\u0435 \\u043d\\u0430 \\u043f\\u0440\\u043e\\u0446\\u0435\\u043d\\u0442 \\u043f\\u043e \\u043e\\u0441\\u0442\\u0430\\u0442\\u043a\\u0443 \\u0441\\u0447\\u0435\\u0442\\u0430;\\r\\n\\u2022 \\u043f\\u043e\\u0441\\u0442\\u0430\\u0440\\u0430\\u0439\\u0442\\u0435\\u0441\\u044c \\u043d\\u0430\\u0439\\u0442\\u0438 \\u043a\\u0430\\u0440\\u0442\\u0443, \\u043a\\u043e\\u0442\\u043e\\u0440\\u0430\\u044f \\u0431\\u0443\\u0434\\u0435\\u0442 \\u043d\\u0430\\u0438\\u0431\\u043e\\u043b\\u0435\\u0435 \\u0443\\u0434\\u043e\\u0431\\u043d\\u0430 \\u0432 \\u043e\\u0431\\u0441\\u043b\\u0443\\u0436\\u0438\\u0432\\u0430\\u043d\\u0438\\u0438.\\r\\n\\u0412\\u0441\\u0435 \\u0431\\u043e\\u043d\\u0443\\u0441\\u043d\\u044b\\u0435 \\u043e\\u043f\\u0446\\u0438\\u0438 \\u2014 \\u043a\\u044d\\u0448\\u0431\\u044d\\u043a, \\u0441\\u043a\\u0438\\u0434\\u043a\\u0438, \\u0431\\u0430\\u043b\\u043b\\u044b, \\u043a\\u043e\\u0442\\u043e\\u0440\\u044b\\u0435 \\u043f\\u043e\\u043b\\u0443\\u0447\\u0430\\u044e\\u0442\\u0441\\u044f \\u0437\\u0430 \\u0442\\u0440\\u0430\\u0442\\u044b \\u043f\\u043e \\u043a\\u0430\\u0440\\u0442\\u0435, \\u2014 \\u0431\\u0430\\u043d\\u043a \\u043f\\u0440\\u0435\\u0434\\u043e\\u0441\\u0442\\u0430\\u0432\\u043b\\u044f\\u0435\\u0442 \\u043d\\u0430 \\u043e\\u0441\\u043d\\u043e\\u0432\\u0435 \\u0434\\u043e\\u0433\\u043e\\u0432\\u043e\\u0440\\u0430 \\u043f\\u0443\\u0431\\u043b\\u0438\\u0447\\u043d\\u043e\\u0439 \\u043e\\u0444\\u0435\\u0440\\u0442\\u044b \\u0438\\u043b\\u0438 \\u0434\\u043e\\u0433\\u043e\\u0432\\u043e\\u0440\\u0430 \\u0441\\u043c\\u0435\\u0448\\u0430\\u043d\\u043d\\u043e\\u0433\\u043e \\u0442\\u0438\\u043f\\u0430. \\u0411\\u0430\\u043d\\u043a \\u043e\\u0441\\u0442\\u0430\\u0432\\u043b\\u044f\\u0435\\u0442 \\u0437\\u0430 \\u0441\\u043e\\u0431\\u043e\\u0439 \\u043f\\u0440\\u0430\\u0432\\u043e \\u043e\\u0442\\u043a\\u0430\\u0437\\u0430\\u0442\\u044c \\u043a\\u043b\\u0438\\u0435\\u043d\\u0442\\u0443 \\u0432 \\u0432\\u043e\\u0437\\u043d\\u0430\\u0433\\u0440\\u0430\\u0436\\u0434\\u0435\\u043d\\u0438\\u0438, \\u0435\\u0441\\u043b\\u0438 \\u0444\\u0438\\u043a\\u0441\\u0438\\u0440\\u0443\\u0435\\u0442 \\u0440\\u0430\\u0441\\u0445\\u043e\\u0434\\u044b \\u043f\\u043e\\u043b\\u044c\\u0437\\u043e\\u0432\\u0430\\u0442\\u0435\\u043b\\u044f \\u0442\\u043e\\u043b\\u044c\\u043a\\u043e \\u0432 \\u043f\\u0440\\u0435\\u043c\\u0438\\u0430\\u043b\\u044c\\u043d\\u044b\\u0445 \\u043a\\u0430\\u0442\\u0435\\u0433\\u043e\\u0440\\u0438\\u044f\\u0445.\\r\\n\\u0418\\u0437\\u0431\\u0435\\u0436\\u0430\\u0442\\u044c \\u043d\\u0435\\u043f\\u0440\\u0438\\u044f\\u0442\\u043d\\u044b\\u0445 \\u0441\\u0438\\u0442\\u0443\\u0430\\u0446\\u0438\\u0439 \\u0441 \\u0431\\u0430\\u043d\\u043a\\u043e\\u043c \\u043f\\u043e \\u043f\\u043e\\u0432\\u043e\\u0434\\u0443 \\u043a\\u044d\\u0448\\u0431\\u044d\\u043a\\u0430 \\u043c\\u043e\\u0436\\u043d\\u043e, \\u0435\\u0441\\u043b\\u0438 \\u0432\\u043d\\u0438\\u043c\\u0430\\u0442\\u0435\\u043b\\u044c\\u043d\\u043e \\u0438\\u0437\\u0443\\u0447\\u0438\\u0442\\u044c \\u0443\\u0441\\u043b\\u043e\\u0432\\u0438\\u044f \\u043f\\u043e\\u0434\\u043a\\u043b\\u044e\\u0447\\u0435\\u043d\\u0438\\u044f \\u0438 \\u0434\\u0435\\u0439\\u0441\\u0442\\u0432\\u0438\\u044f \\u043f\\u0440\\u043e\\u0433\\u0440\\u0430\\u043c\\u043c\\u044b \\u043b\\u043e\\u044f\\u043b\\u044c\\u043d\\u043e\\u0441\\u0442\\u0438. \\u0412 \\u043e\\u0444\\u0435\\u0440\\u0442\\u0435 \\u043e\\u043f\\u0438\\u0441\\u0430\\u043d\\u044b \\u0438 \\u0441\\u043b\\u0443\\u0447\\u0430\\u0438, \\u043a\\u043e\\u0433\\u0434\\u0430 \\u0431\\u0430\\u043d\\u043a \\u043c\\u043e\\u0436\\u0435\\u0442 \\u0443\\u0432\\u0438\\u0434\\u0435\\u0442\\u044c \\u0432 \\u0434\\u0435\\u0439\\u0441\\u0442\\u0432\\u0438\\u044f\\u0445 \\u043a\\u043b\\u0438\\u0435\\u043d\\u0442\\u0430 \\u043d\\u0435\\u043e\\u0431\\u043e\\u0441\\u043d\\u043e\\u0432\\u0430\\u043d\\u043d\\u043e\\u0435 \\u043e\\u0431\\u043e\\u0433\\u0430\\u0449\\u0435\\u043d\\u0438\\u0435 \\u0437\\u0430 \\u0441\\u0447\\u0435\\u0442 \\u043d\\u0430\\u0447\\u0438\\u0441\\u043b\\u044f\\u0435\\u043c\\u043e\\u0433\\u043e \\u0432\\u043e\\u0437\\u043d\\u0430\\u0433\\u0440\\u0430\\u0436\\u0434\\u0435\\u043d\\u0438\\u044f.\\r\\n\\u041a\\u043b\\u0438\\u0435\\u043d\\u0442 \\u0438\\u043c\\u0435\\u0435\\u0442 \\u043f\\u0440\\u0430\\u0432\\u043e \\u0432 \\u043b\\u044e\\u0431\\u043e\\u0439 \\u043c\\u043e\\u043c\\u0435\\u043d\\u0442 \\u0437\\u0430\\u043f\\u0440\\u043e\\u0441\\u0438\\u0442\\u044c \\u0443 \\u0431\\u0430\\u043d\\u043a\\u0430 \\u043a\\u043e\\u043f\\u0438\\u044e \\u0434\\u043e\\u043a\\u0443\\u043c\\u0435\\u043d\\u0442\\u043e\\u0432 \\u043f\\u0440\\u043e\\u0433\\u0440\\u0430\\u043c\\u043c\\u044b \\u043b\\u043e\\u044f\\u043b\\u044c\\u043d\\u043e\\u0441\\u0442\\u0438. \\u0412 \\u0434\\u043e\\u043a\\u0443\\u043c\\u0435\\u043d\\u0442\\u0435 \\u0442\\u0430\\u043a\\u0436\\u0435 \\u043c\\u043e\\u0436\\u043d\\u043e \\u0443\\u0437\\u043d\\u0430\\u0442\\u044c \\u043f\\u0440\\u043e \\u043a\\u0443\\u0440\\u0441 \\u043a\\u043e\\u043d\\u0432\\u0435\\u0440\\u0442\\u0430\\u0446\\u0438\\u0438 \\u0431\\u043e\\u043d\\u0443\\u0441\\u043d\\u044b\\u0445 \\u0431\\u0430\\u043b\\u043b\\u043e\\u0432 \\u0432 \\u0440\\u0443\\u0431\\u043b\\u0438.\\r\\n\\u041a\\u0430\\u0436\\u0434\\u044b\\u0439 \\u0431\\u0430\\u043d\\u043a \\u043e\\u043f\\u0440\\u0435\\u0434\\u0435\\u043b\\u044f\\u0435\\u0442 \\u0434\\u043b\\u044f \\u0441\\u0432\\u043e\\u0438\\u0445 \\u043a\\u043b\\u0438\\u0435\\u043d\\u0442\\u043e\\u0432 \\u0441\\u0432\\u043e\\u0439 \\u0441\\u043e\\u0431\\u0441\\u0442\\u0432\\u0435\\u043d\\u043d\\u044b\\u0439 \\u043f\\u0430\\u043a\\u0435\\u0442 \\u043a\\u0430\\u043a \\u043f\\u043b\\u0430\\u0442\\u043d\\u044b\\u0445, \\u0442\\u0430\\u043a \\u0438 \\u0431\\u0435\\u0441\\u043f\\u043b\\u0430\\u0442\\u043d\\u044b\\u0445 \\u0443\\u0441\\u043b\\u0443\\u0433. \\u0412\\u044b \\u0432\\u043f\\u0440\\u0430\\u0432\\u0435 \\u043d\\u0430\\u043f\\u0440\\u0430\\u0432\\u0438\\u0442\\u044c \\u043e\\u0431\\u0440\\u0430\\u0449\\u0435\\u043d\\u0438\\u0435 \\u0432 \\u0420\\u043e\\u0441\\u043f\\u043e\\u0442\\u0440\\u0435\\u0431\\u043d\\u0430\\u0434\\u0437\\u043e\\u0440 \\u043f\\u043e \\u043c\\u0435\\u0441\\u0442\\u0443  \\u0437\\u0430\\u043a\\u043b\\u044e\\u0447\\u0435\\u043d\\u0438\\u044f \\u0434\\u043e\\u0433\\u043e\\u0432\\u043e\\u0440\\u0430\",\n          \"\\u0423\\u0432\\u0430\\u0436\\u0430\\u0435\\u043c\\u0430\\u044f \\u0412\\u0435\\u0440\\u0430!\\r\\n\\r\\n\\r\\n\\u0421\\u043e\\u0433\\u043b\\u0430\\u0441\\u043d\\u043e \\u043f. 5 \\u0441\\u0442. 26.1 \\u0417\\u0430\\u043a\\u043e\\u043d\\u0430 \\u0420\\u043e\\u0441\\u0441\\u0438\\u0439\\u0441\\u043a\\u043e\\u0439 \\u0424\\u0435\\u0434\\u0435\\u0440\\u0430\\u0446\\u0438\\u0438 \\u043e\\u0442 07.02.1991 \\u2116 2300-1 \\u00ab\\u041e \\u0437\\u0430\\u0449\\u0438\\u0442\\u0435 \\u043f\\u0440\\u0430\\u0432 \\u043f\\u043e\\u0442\\u0440\\u0435\\u0431\\u0438\\u0442\\u0435\\u043b\\u0435\\u0439\\u00bb (\\u0434\\u0430\\u043b\\u0435\\u0435 \\u2013 \\u0417\\u0430\\u043a\\u043e\\u043d) \\u043f\\u043e\\u0441\\u043b\\u0435\\u0434\\u0441\\u0442\\u0432\\u0438\\u044f \\u043f\\u0440\\u043e\\u0434\\u0430\\u0436\\u0438 \\u0442\\u043e\\u0432\\u0430\\u0440\\u0430 \\u043d\\u0435\\u043d\\u0430\\u0434\\u043b\\u0435\\u0436\\u0430\\u0449\\u0435\\u0433\\u043e \\u043a\\u0430\\u0447\\u0435\\u0441\\u0442\\u0432\\u0430 \\u0434\\u0438\\u0441\\u0442\\u0430\\u043d\\u0446\\u0438\\u043e\\u043d\\u043d\\u044b\\u043c \\u0441\\u043f\\u043e\\u0441\\u043e\\u0431\\u043e\\u043c \\u043f\\u0440\\u043e\\u0434\\u0430\\u0436\\u0438 \\u0442\\u043e\\u0432\\u0430\\u0440\\u0430 \\u0443\\u0441\\u0442\\u0430\\u043d\\u043e\\u0432\\u043b\\u0435\\u043d\\u044b \\u043f\\u043e\\u043b\\u043e\\u0436\\u0435\\u043d\\u0438\\u044f\\u043c\\u0438, \\u043f\\u0440\\u0435\\u0434\\u0443\\u0441\\u043c\\u043e\\u0442\\u0440\\u0435\\u043d\\u043d\\u044b\\u043c\\u0438 \\u0441\\u0442\\u0430\\u0442\\u044c\\u044f\\u043c\\u0438 18 \\u2013 24 \\u043d\\u0430\\u0441\\u0442\\u043e\\u044f\\u0449\\u0435\\u0433\\u043e \\u0417\\u0430\\u043a\\u043e\\u043d\\u0430. \\r\\n\\u0412 \\u0441\\u043b\\u0443\\u0447\\u0430\\u0435, \\u0435\\u0441\\u043b\\u0438 \\u0432 \\u0442\\u043e\\u0432\\u0430\\u0440\\u0435, \\u043f\\u0440\\u0438\\u043e\\u0431\\u0440\\u0435\\u0442\\u0435\\u043d\\u043d\\u043e\\u043c \\u0434\\u0438\\u0441\\u0442\\u0430\\u043d\\u0446\\u0438\\u043e\\u043d\\u043d\\u044b\\u043c \\u0441\\u043f\\u043e\\u0441\\u043e\\u0431\\u043e\\u043c, \\u0432\\u044b\\u044f\\u0432\\u043b\\u0435\\u043d \\u043d\\u0435\\u0434\\u043e\\u0441\\u0442\\u0430\\u0442\\u043e\\u043a, \\u043f\\u043e\\u0442\\u0440\\u0435\\u0431\\u0438\\u0442\\u0435\\u043b\\u044c \\u043d\\u0430 \\u043e\\u0441\\u043d\\u043e\\u0432\\u0430\\u043d\\u0438\\u0438 \\u043f. 1 \\u0441\\u0442. 18 \\u0417\\u0430\\u043a\\u043e\\u043d\\u0430, \\u043f\\u043e \\u0441\\u0432\\u043e\\u0435\\u043c\\u0443 \\u0432\\u044b\\u0431\\u043e\\u0440\\u0443 \\u0432\\u043f\\u0440\\u0430\\u0432\\u0435 \\u043f\\u043e\\u0442\\u0440\\u0435\\u0431\\u043e\\u0432\\u0430\\u0442\\u044c: \\r\\n\\u0437\\u0430\\u043c\\u0435\\u043d\\u044b \\u043d\\u0430 \\u0442\\u043e\\u0432\\u0430\\u0440 \\u044d\\u0442\\u043e\\u0439 \\u0436\\u0435 \\u043c\\u0430\\u0440\\u043a\\u0438 (\\u044d\\u0442\\u0438\\u0445 \\u0436\\u0435 \\u043c\\u043e\\u0434\\u0435\\u043b\\u0438 \\u0438 (\\u0438\\u043b\\u0438) \\u0430\\u0440\\u0442\\u0438\\u043a\\u0443\\u043b\\u0430); \\u0437\\u0430\\u043c\\u0435\\u043d\\u044b \\u043d\\u0430 \\u0442\\u0430\\u043a\\u043e\\u0439 \\u0436\\u0435 \\u0442\\u043e\\u0432\\u0430\\u0440 \\u0434\\u0440\\u0443\\u0433\\u043e\\u0439 \\u043c\\u0430\\u0440\\u043a\\u0438 (\\u043c\\u043e\\u0434\\u0435\\u043b\\u0438, \\u0430\\u0440\\u0442\\u0438\\u043a\\u0443\\u043b\\u0430) \\u0441 \\u0441\\u043e\\u043e\\u0442\\u0432\\u0435\\u0442\\u0441\\u0442\\u0432\\u0443\\u044e\\u0449\\u0438\\u043c \\u043f\\u0435\\u0440\\u0435\\u0440\\u0430\\u0441\\u0447\\u0435\\u0442\\u043e\\u043c \\u043f\\u043e\\u043a\\u0443\\u043f\\u043d\\u043e\\u0439 \\u0446\\u0435\\u043d\\u044b; \\r\\n\\u0441\\u043e\\u0440\\u0430\\u0437\\u043c\\u0435\\u0440\\u043d\\u043e\\u0433\\u043e \\u0443\\u043c\\u0435\\u043d\\u044c\\u0448\\u0435\\u043d\\u0438\\u044f \\u043f\\u043e\\u043a\\u0443\\u043f\\u043d\\u043e\\u0439 \\u0446\\u0435\\u043d\\u044b; \\r\\n\\u043d\\u0435\\u0437\\u0430\\u043c\\u0435\\u0434\\u043b\\u0438\\u0442\\u0435\\u043b\\u044c\\u043d\\u043e\\u0433\\u043e \\u0431\\u0435\\u0437\\u0432\\u043e\\u0437\\u043c\\u0435\\u0437\\u0434\\u043d\\u043e\\u0433\\u043e \\u0443\\u0441\\u0442\\u0440\\u0430\\u043d\\u0435\\u043d\\u0438\\u044f \\u043d\\u0435\\u0434\\u043e\\u0441\\u0442\\u0430\\u0442\\u043a\\u043e\\u0432 \\u0442\\u043e\\u0432\\u0430\\u0440\\u0430 \\u0438\\u043b\\u0438 \\u0432\\u043e\\u0437\\u043c\\u0435\\u0449\\u0435\\u043d\\u0438\\u044f \\u0440\\u0430\\u0441\\u0445\\u043e\\u0434\\u043e\\u0432 \\u043d\\u0430 \\u0438\\u0445 \\u0438\\u0441\\u043f\\u0440\\u0430\\u0432\\u043b\\u0435\\u043d\\u0438\\u0435 \\u043f\\u043e\\u0442\\u0440\\u0435\\u0431\\u0438\\u0442\\u0435\\u043b\\u0435\\u043c \\u0438\\u043b\\u0438 \\u0442\\u0440\\u0435\\u0442\\u044c\\u0438\\u043c \\u043b\\u0438\\u0446\\u043e\\u043c. \\t\\u041a\\u0440\\u043e\\u043c\\u0435 \\u0442\\u043e\\u0433\\u043e, \\u043f\\u043e\\u0442\\u0440\\u0435\\u0431\\u0438\\u0442\\u0435\\u043b\\u044c \\u0432\\u043f\\u0440\\u0430\\u0432\\u0435 \\u043e\\u0442\\u043a\\u0430\\u0437\\u0430\\u0442\\u044c\\u0441\\u044f \\u043e\\u0442 \\u0438\\u0441\\u043f\\u043e\\u043b\\u043d\\u0435\\u043d\\u0438\\u044f \\u0434\\u043e\\u0433\\u043e\\u0432\\u043e\\u0440\\u0430 \\u043a\\u0443\\u043f\\u043b\\u0438-\\u043f\\u0440\\u043e\\u0434\\u0430\\u0436\\u0438 \\u0438 \\u043f\\u043e\\u0442\\u0440\\u0435\\u0431\\u043e\\u0432\\u0430\\u0442\\u044c \\u0432\\u043e\\u0437\\u0432\\u0440\\u0430\\u0442\\u0430 \\u0443\\u043f\\u043b\\u0430\\u0447\\u0435\\u043d\\u043d\\u043e\\u0439 \\u0437\\u0430 \\u0442\\u043e\\u0432\\u0430\\u0440 \\u0441\\u0443\\u043c\\u043c\\u044b. \\u041f\\u043e \\u0442\\u0440\\u0435\\u0431\\u043e\\u0432\\u0430\\u043d\\u0438\\u044e \\u043f\\u0440\\u043e\\u0434\\u0430\\u0432\\u0446\\u0430 \\u0438 \\u0437\\u0430 \\u0435\\u0433\\u043e \\u0441\\u0447\\u0435\\u0442 \\u043f\\u043e\\u0442\\u0440\\u0435\\u0431\\u0438\\u0442\\u0435\\u043b\\u044c \\u0434\\u043e\\u043b\\u0436\\u0435\\u043d \\u0432\\u043e\\u0437\\u0432\\u0440\\u0430\\u0442\\u0438\\u0442\\u044c \\u0442\\u043e\\u0432\\u0430\\u0440 \\u0441 \\u043d\\u0435\\u0434\\u043e\\u0441\\u0442\\u0430\\u0442\\u043a\\u0430\\u043c\\u0438. \\u041f\\u0440\\u0438 \\u044d\\u0442\\u043e\\u043c \\u043f\\u043e\\u0442\\u0440\\u0435\\u0431\\u0438\\u0442\\u0435\\u043b\\u044c \\u0432\\u043f\\u0440\\u0430\\u0432\\u0435 \\u043f\\u043e\\u0442\\u0440\\u0435\\u0431\\u043e\\u0432\\u0430\\u0442\\u044c \\u0442\\u0430\\u043a\\u0436\\u0435 \\u043f\\u043e\\u043b\\u043d\\u043e\\u0433\\u043e \\u0432\\u043e\\u0437\\u043c\\u0435\\u0449\\u0435\\u043d\\u0438\\u044f \\u0443\\u0431\\u044b\\u0442\\u043a\\u043e\\u0432, \\u043f\\u0440\\u0438\\u0447\\u0438\\u043d\\u0435\\u043d\\u043d\\u044b\\u0445 \\u0435\\u043c\\u0443 \\u0432\\u0441\\u043b\\u0435\\u0434\\u0441\\u0442\\u0432\\u0438\\u0435 \\u043f\\u0440\\u043e\\u0434\\u0430\\u0436\\u0438 \\u0442\\u043e\\u0432\\u0430\\u0440\\u0430 \\u043d\\u0435\\u043d\\u0430\\u0434\\u043b\\u0435\\u0436\\u0430\\u0449\\u0435\\u0433\\u043e \\u043a\\u0430\\u0447\\u0435\\u0441\\u0442\\u0432\\u0430. \\u0423\\u0431\\u044b\\u0442\\u043a\\u0438 \\u0432\\u043e\\u0437\\u043c\\u0435\\u0449\\u0430\\u044e\\u0442\\u0441\\u044f \\u0432 \\u0441\\u0440\\u043e\\u043a\\u0438, \\u0443\\u0441\\u0442\\u0430\\u043d\\u043e\\u0432\\u043b\\u0435\\u043d\\u043d\\u044b\\u0435 \\u043d\\u0430\\u0441\\u0442\\u043e\\u044f\\u0449\\u0438\\u043c \\u0417\\u0430\\u043a\\u043e\\u043d\\u043e\\u043c \\u0434\\u043b\\u044f \\u0443\\u0434\\u043e\\u0432\\u043b\\u0435\\u0442\\u0432\\u043e\\u0440\\u0435\\u043d\\u0438\\u044f \\u0441\\u043e\\u043e\\u0442\\u0432\\u0435\\u0442\\u0441\\u0442\\u0432\\u0443\\u044e\\u0449\\u0438\\u0445 \\u0442\\u0440\\u0435\\u0431\\u043e\\u0432\\u0430\\u043d\\u0438\\u0439 \\u043f\\u043e\\u0442\\u0440\\u0435\\u0431\\u0438\\u0442\\u0435\\u043b\\u044f. \\r\\n\\u041f\\u0440\\u043e\\u0434\\u0430\\u0432\\u0435\\u0446 \\u043e\\u0442\\u0432\\u0435\\u0447\\u0430\\u0435\\u0442 \\u0437\\u0430 \\u043d\\u0435\\u0434\\u043e\\u0441\\u0442\\u0430\\u0442\\u043a\\u0438, \\u043a\\u043e\\u0442\\u043e\\u0440\\u044b\\u0435 \\u0432\\u043e\\u0437\\u043d\\u0438\\u043a\\u043b\\u0438 \\u0434\\u043e \\u043f\\u0435\\u0440\\u0435\\u0434\\u0430\\u0447\\u0438 \\u0442\\u043e\\u0432\\u0430\\u0440\\u0430 \\u043f\\u043e\\u0442\\u0440\\u0435\\u0431\\u0438\\u0442\\u0435\\u043b\\u044e \\u0438\\u043b\\u0438 \\u043f\\u043e \\u043f\\u0440\\u0438\\u0447\\u0438\\u043d\\u0430\\u043c, \\u0432\\u043e\\u0437\\u043d\\u0438\\u043a\\u0448\\u0438\\u043c \\u0434\\u043e \\u044d\\u0442\\u043e\\u0433\\u043e \\u043c\\u043e\\u043c\\u0435\\u043d\\u0442\\u0430. \\u0412 \\u0441\\u0438\\u043b\\u0443 \\u0441\\u0442. 458 \\u0413\\u0440\\u0430\\u0436\\u0434\\u0430\\u043d\\u0441\\u043a\\u043e\\u0433\\u043e \\u043a\\u043e\\u0434\\u0435\\u043a\\u0441\\u0430 \\u0420\\u043e\\u0441\\u0441\\u0438\\u0439\\u0441\\u043a\\u043e\\u0439 \\u0424\\u0435\\u0434\\u0435\\u0440\\u0430\\u0446\\u0438\\u0438 \\u043c\\u043e\\u043c\\u0435\\u043d\\u0442\\u043e\\u043c \\u0438\\u0441\\u043f\\u043e\\u043b\\u043d\\u0435\\u043d\\u0438\\u044f \\u043f\\u0440\\u043e\\u0434\\u0430\\u0432\\u0446\\u043e\\u043c \\u043e\\u0431\\u044f\\u0437\\u0430\\u043d\\u043d\\u043e\\u0441\\u0442\\u0438 \\u043f\\u0435\\u0440\\u0435\\u0434\\u0430\\u0442\\u044c \\u0442\\u043e\\u0432\\u0430\\u0440 \\u0441\\u0447\\u0438\\u0442\\u0430\\u0435\\u0442\\u0441\\u044f \\u043c\\u043e\\u043c\\u0435\\u043d\\u0442 \\u0432\\u0440\\u0443\\u0447\\u0435\\u043d\\u0438\\u044f \\u0442\\u043e\\u0432\\u0430\\u0440\\u0430 \\u043f\\u043e\\u043a\\u0443\\u043f\\u0430\\u0442\\u0435\\u043b\\u044e \\u0438\\u043b\\u0438 \\u0443\\u043a\\u0430\\u0437\\u0430\\u043d\\u043d\\u043e\\u043c\\u0443 \\u0438\\u043c \\u043b\\u0438\\u0446\\u0443, \\u0435\\u0441\\u043b\\u0438 \\u0434\\u043e\\u0433\\u043e\\u0432\\u043e\\u0440\\u043e\\u043c \\u043f\\u0440\\u0435\\u0434\\u0443\\u0441\\u043c\\u043e\\u0442\\u0440\\u0435\\u043d\\u0430 \\u043e\\u0431\\u044f\\u0437\\u0430\\u043d\\u043d\\u043e\\u0441\\u0442\\u044c \\u043f\\u043e \\u0434\\u043e\\u0441\\u0442\\u0430\\u0432\\u043a\\u0435 \\u0442\\u043e\\u0432\\u0430\\u0440\\u0430. \\r\\n\\u0412 \\u0441\\u043e\\u043e\\u0442\\u0432\\u0435\\u0442\\u0441\\u0442\\u0432\\u0438\\u0438 \\u0441 \\u043f\\u0440\\u0430\\u0432\\u0438\\u043b\\u0430\\u043c\\u0438 \\u043f\\u0440\\u0438\\u0435\\u043c\\u043a\\u0438 \\u0442\\u043e\\u0432\\u0430\\u0440\\u043e\\u0432, \\u0440\\u0430\\u0437\\u043c\\u0435\\u0449\\u0435\\u043d\\u043d\\u044b\\u043c\\u0438 \\u0432 \\u0441\\u0432\\u043e\\u0431\\u043e\\u0434\\u043d\\u043e\\u043c \\u0434\\u043e\\u0441\\u0442\\u0443\\u043f\\u0435 \\u0432 \\u0441\\u0435\\u0442\\u0438 \\u0418\\u043d\\u0442\\u0435\\u0440\\u043d\\u0435\\u0442 \\u043f\\u043e \\u0430\\u0434\\u0440\\u0435\\u0441\\u0443: https://sbermarket.ru/rules-sbermarket \\u0432 \\u043f\\u0440\\u0430\\u0432\\u0438\\u043b\\u0430\\u0445 \\u0441\\u0435\\u0440\\u0432\\u0438\\u0441\\u0430 \\u00ab\\u0421\\u0431\\u0435\\u0440\\u043c\\u0430\\u0440\\u043a\\u0435\\u0442\\u00bb \\u043f\\u043e\\u0442\\u0440\\u0435\\u0431\\u0438\\u0442\\u0435\\u043b\\u044e \\u0434\\u043e\\u043b\\u0436\\u043d\\u0430 \\u0431\\u044b\\u0442\\u044c \\u043f\\u0440\\u0435\\u0434\\u043e\\u0441\\u0442\\u0430\\u0432\\u043b\\u0435\\u043d\\u0430 \\u0432\\u043e\\u0437\\u043c\\u043e\\u0436\\u043d\\u043e\\u0441\\u0442\\u044c \\u043e\\u0441\\u043c\\u043e\\u0442\\u0440\\u0435\\u0442\\u044c \\u0442\\u043e\\u0432\\u0430\\u0440 \\u0432 \\u043c\\u0435\\u0441\\u0442\\u0435 \\u0434\\u043e\\u0441\\u0442\\u0430\\u0432\\u043a\\u0438 \\u0438 \\u0432 \\u0441\\u043b\\u0443\\u0447\\u0430\\u0435 \\u043e\\u0431\\u043d\\u0430\\u0440\\u0443\\u0436\\u0435\\u043d\\u0438\\u044f \\u043d\\u0435\\u0434\\u043e\\u0441\\u0442\\u0430\\u0442\\u043a\\u043e\\u0432, \\u0432 \\u0442\\u043e\\u043c \\u0447\\u0438\\u0441\\u043b\\u0435 \\u0432\\u0438\\u0434\\u0438\\u043c\\u044b\\u0445, \\u043e\\u0442\\u043a\\u0430\\u0437\\u0430\\u0442\\u044c\\u0441\\u044f \\u043e\\u0442 \\u043f\\u0440\\u0438\\u0435\\u043c\\u043a\\u0438 \\u0442\\u043e\\u0432\\u0430\\u0440\\u0430 (\\u043f.\\u043f. 6.7. \\u2013 6.9.). \\r\\n\\u0422\\u0430\\u043a\\u0438\\u043c \\u043e\\u0431\\u0440\\u0430\\u0437\\u043e\\u043c, \\u0435\\u0441\\u043b\\u0438 \\u0412\\u044b \\u0431\\u044b\\u043b\\u0438 \\u043b\\u0438\\u0448\\u0435\\u043d\\u044b \\u0432\\u043e\\u0437\\u043c\\u043e\\u0436\\u043d\\u043e\\u0441\\u0442\\u0438 \\u043e\\u0441\\u043c\\u043e\\u0442\\u0440\\u0435\\u0442\\u044c \\u0442\\u043e\\u0432\\u0430\\u0440 \\u043d\\u0430 \\u043f\\u0440\\u0435\\u0434\\u043c\\u0435\\u0442 \\u0435\\u0433\\u043e \\u0446\\u0435\\u043b\\u043e\\u0441\\u0442\\u043d\\u043e\\u0441\\u0442\\u0438, \\u043b\\u0438\\u0431\\u043e \\u043d\\u0435\\u0434\\u043e\\u0441\\u0442\\u0430\\u0442\\u043e\\u043a \\u043d\\u0435 \\u043c\\u043e\\u0433 \\u0431\\u044b\\u0442\\u044c \\u0432\\u044b\\u044f\\u0432\\u043b\\u0435\\u043d \\u043f\\u0443\\u0442\\u0435\\u043c \\u0435\\u0433\\u043e \\u0432\\u0438\\u0437\\u0443\\u0430\\u043b\\u044c\\u043d\\u043e\\u0433\\u043e \\u043e\\u0441\\u043c\\u043e\\u0442\\u0440\\u0430, \\u043b\\u0438\\u0431\\u043e \\u0412\\u044b \\u0438\\u043c\\u0435\\u0435\\u0442\\u0435 \\u0434\\u043e\\u043a\\u0430\\u0437\\u0430\\u0442\\u0435\\u043b\\u044c\\u0441\\u0442\\u0432\\u0430 \\u0442\\u043e\\u0433\\u043e, \\u0447\\u0442\\u043e \\u0412\\u0430\\u043c \\u0431\\u044b\\u043b \\u043f\\u0435\\u0440\\u0435\\u0434\\u0430\\u043d \\u0442\\u043e\\u0432\\u0430\\u0440 \\u0441 \\u0443\\u0436\\u0435 \\u0438\\u043c\\u0435\\u044e\\u0449\\u0438\\u043c\\u0441\\u044f \\u043d\\u0435\\u0434\\u043e\\u0441\\u0442\\u0430\\u0442\\u043a\\u043e\\u043c (\\u043d\\u0430\\u043f\\u0440\\u0438\\u043c\\u0435\\u0440, \\u043f\\u043e\\u043a\\u0430\\u0437\\u0430\\u043d\\u0438\\u044f \\u0441\\u0432\\u0438\\u0434\\u0435\\u0442\\u0435\\u043b\\u044f), \\u0412\\u0430\\u043c \\u043d\\u0435\\u043e\\u0431\\u0445\\u043e\\u0434\\u0438\\u043c\\u043e \\u043d\\u0430\\u043f\\u0440\\u0430\\u0432\\u0438\\u0442\\u044c \\u0441\\u043e\\u043e\\u0442\\u0432\\u0435\\u0442\\u0441\\u0442\\u0432\\u0443\\u044e\\u0449\\u0443\\u044e \\u043f\\u0440\\u0435\\u0442\\u0435\\u043d\\u0437\\u0438\\u044e \\u043f\\u0440\\u043e\\u0434\\u0430\\u0432\\u0446\\u0443, \\u0430 \\u0442\\u0430\\u043a\\u0436\\u0435 \\u0432 \\u0441\\u0435\\u0440\\u0432\\u0438\\u0441 \\u0434\\u043e\\u0441\\u0442\\u0430\\u0432\\u043a\\u0438 \\u0442\\u043e\\u0432\\u0430\\u0440\\u0430, \\u0443\\u043a\\u0430\\u0437\\u0430\\u0432 \\u0434\\u0430\\u043d\\u043d\\u044b\\u0435 \\u043e\\u0431\\u0441\\u0442\\u043e\\u044f\\u0442\\u0435\\u043b\\u044c\\u0441\\u0442\\u0432\\u0430. \\r\\n\\u0412 \\u0441\\u043b\\u0443\\u0447\\u0430\\u0435 \\u043e\\u0442\\u043a\\u0430\\u0437\\u0430 \\u0432 \\u0443\\u0434\\u043e\\u0432\\u043b\\u0435\\u0442\\u0432\\u043e\\u0440\\u0435\\u043d\\u0438\\u0438 \\u0442\\u0440\\u0435\\u0431\\u043e\\u0432\\u0430\\u043d\\u0438\\u044f \\u0432 \\u0434\\u043e\\u0431\\u0440\\u043e\\u0432\\u043e\\u043b\\u044c\\u043d\\u043e\\u043c \\u043f\\u043e\\u0440\\u044f\\u0434\\u043a\\u0435 \\u043f\\u043e\\u0442\\u0440\\u0435\\u0431\\u0438\\u0442\\u0435\\u043b\\u044c, \\u043d\\u0430 \\u043e\\u0441\\u043d\\u043e\\u0432\\u0430\\u043d\\u0438\\u0438 \\u0441\\u0442. 17 \\u0417\\u0430\\u043a\\u043e\\u043d\\u0430 \\u0412\\u044b \\u0432\\u043f\\u0440\\u0430\\u0432\\u0435 \\u043e\\u0431\\u0440\\u0430\\u0442\\u0438\\u0442\\u044c\\u0441\\u044f \\u0432 \\u0441\\u0443\\u0434 \\u0441 \\u0438\\u0441\\u043a\\u043e\\u043c \\u043e \\u0437\\u0430\\u0449\\u0438\\u0442\\u0435 \\u043f\\u0440\\u0430\\u0432 \\u043f\\u043e\\u0442\\u0440\\u0435\\u0431\\u0438\\u0442\\u0435\\u043b\\u044f. \\r\\n\",\n          \"\\u0417\\u0434\\u0440\\u0430\\u0432\\u0441\\u0442\\u0432\\u0443\\u0439\\u0442\\u0435.\\r\\n\\u0423\\u043f\\u0440\\u0430\\u0432\\u043b\\u0435\\u043d\\u0438\\u0435 \\u0420\\u043e\\u0441\\u043f\\u043e\\u0442\\u0440\\u0435\\u0431\\u043d\\u0430\\u0434\\u0437\\u043e\\u0440\\u0430 \\u043f\\u043e \\u042f\\u0440\\u043e\\u0441\\u043b\\u0430\\u0432\\u0441\\u043a\\u043e\\u0439 \\u043e\\u0431\\u043b\\u0430\\u0441\\u0442\\u0438 (\\u0434\\u0430\\u043b\\u0435\\u0435 \\u0423\\u043f\\u0440\\u0430\\u0432\\u043b\\u0435\\u043d\\u0438\\u0435 ) \\u0440\\u0430\\u0437\\u044a\\u044f\\u0441\\u043d\\u044f\\u0435\\u0442, \\u0447\\u0442\\u043e \\u0441\\u043e\\u0433\\u043b\\u0430\\u0441\\u043d\\u043e  \\u041f\\u043e\\u043b\\u043e\\u0436\\u0435\\u043d\\u0438\\u044f \\u043e \\u0424\\u0435\\u0434\\u0435\\u0440\\u0430\\u043b\\u044c\\u043d\\u043e\\u0439 \\u0441\\u043b\\u0443\\u0436\\u0431\\u0435 \\u043f\\u043e \\u043d\\u0430\\u0434\\u0437\\u043e\\u0440\\u0443 \\u0432 \\u0441\\u0444\\u0435\\u0440\\u0435 \\u0437\\u0430\\u0449\\u0438\\u0442\\u044b \\u043f\\u0440\\u0430\\u0432 \\u043f\\u043e\\u0442\\u0440\\u0435\\u0431\\u0438\\u0442\\u0435\\u043b\\u0435\\u0439 \\u0438 \\u0431\\u043b\\u0430\\u0433\\u043e\\u043f\\u043e\\u043b\\u0443\\u0447\\u0438\\u044f \\u0447\\u0435\\u043b\\u043e\\u0432\\u0435\\u043a\\u0430, \\u0443\\u0442\\u0432\\u0435\\u0440\\u0436\\u0434\\u0435\\u043d\\u043d\\u043e\\u0433\\u043e \\u043f\\u043e\\u0441\\u0442\\u0430\\u043d\\u043e\\u0432\\u043b\\u0435\\u043d\\u0438\\u0435\\u043c \\u041f\\u0440\\u0430\\u0432\\u0438\\u0442\\u0435\\u043b\\u044c\\u0441\\u0442\\u0432\\u0430 \\u0420\\u043e\\u0441\\u0441\\u0438\\u0439\\u0441\\u043a\\u043e\\u0439 \\u0424\\u0435\\u0434\\u0435\\u0440\\u0430\\u0446\\u0438\\u0438 \\u043e\\u0442 30 \\u0438\\u044e\\u043d\\u044f 2004\\u0433. \\u2116 322 \\u0420\\u043e\\u0441\\u043f\\u043e\\u0442\\u0440\\u0435\\u0431\\u043d\\u0430\\u0434\\u0437\\u043e\\u0440 \\u0432\\u043f\\u0440\\u0430\\u0432\\u0435 \\u043f\\u0440\\u0438\\u043c\\u0435\\u043d\\u044f\\u0442\\u044c \\u043f\\u0440\\u0435\\u0434\\u0443\\u0441\\u043c\\u043e\\u0442\\u0440\\u0435\\u043d\\u043d\\u044b\\u0435 \\u0437\\u0430\\u043a\\u043e\\u043d\\u043e\\u0434\\u0430\\u0442\\u0435\\u043b\\u044c\\u0441\\u0442\\u0432\\u043e\\u043c \\u0420\\u043e\\u0441\\u0441\\u0438\\u0439\\u0441\\u043a\\u043e\\u0439 \\u0424\\u0435\\u0434\\u0435\\u0440\\u0430\\u0446\\u0438\\u0438 \\u043c\\u0435\\u0440\\u044b \\u043e\\u0433\\u0440\\u0430\\u043d\\u0438\\u0447\\u0438\\u0442\\u0435\\u043b\\u044c\\u043d\\u043e\\u0433\\u043e, \\u043f\\u0440\\u0435\\u0434\\u0443\\u043f\\u0440\\u0435\\u0434\\u0438\\u0442\\u0435\\u043b\\u044c\\u043d\\u043e\\u0433\\u043e \\u0438 \\u043f\\u0440\\u043e\\u0444\\u0438\\u043b\\u0430\\u043a\\u0442\\u0438\\u0447\\u0435\\u0441\\u043a\\u043e\\u0433\\u043e \\u0445\\u0430\\u0440\\u0430\\u043a\\u0442\\u0435\\u0440\\u0430 \\u043b\\u0438\\u0448\\u044c \\u043f\\u043e \\u0432\\u043e\\u043f\\u0440\\u043e\\u0441\\u0430\\u043c, \\u043e\\u0442\\u043d\\u0435\\u0441\\u0435\\u043d\\u043d\\u044b\\u043c \\u043a \\u043a\\u043e\\u043c\\u043f\\u0435\\u0442\\u0435\\u043d\\u0446\\u0438\\u0438 \\u0421\\u043b\\u0443\\u0436\\u0431\\u044b, \\u0432 \\u043f\\u0440\\u0435\\u0434\\u0435\\u043b\\u0430\\u0445 \\u043f\\u043e\\u043b\\u043d\\u043e\\u043c\\u043e\\u0447\\u0438\\u0439, \\u0443\\u0441\\u0442\\u0430\\u043d\\u043e\\u0432\\u043b\\u0435\\u043d\\u043d\\u044b\\u0445 \\u0434\\u0435\\u0439\\u0441\\u0442\\u0432\\u0443\\u044e\\u0449\\u0438\\u043c \\u0437\\u0430\\u043a\\u043e\\u043d\\u043e\\u0434\\u0430\\u0442\\u0435\\u043b\\u044c\\u0441\\u0442\\u0432\\u043e\\u043c.  \\u0414\\u0435\\u0439\\u0441\\u0442\\u0432\\u0438\\u044f \\u0438 \\u0440\\u0435\\u0448\\u0435\\u043d\\u0438\\u044f \\u043a\\u043e\\u043d\\u0442\\u0440\\u043e\\u043b\\u044c\\u043d\\u043e\\u0433\\u043e (\\u043d\\u0430\\u0434\\u0437\\u043e\\u0440\\u043d\\u043e\\u0433\\u043e) \\u043e\\u0440\\u0433\\u0430\\u043d\\u0430 \\u0438 \\u0435\\u0433\\u043e \\u0434\\u043e\\u043b\\u0436\\u043d\\u043e\\u0441\\u0442\\u043d\\u044b\\u0445 \\u043b\\u0438\\u0446 \\u0434\\u043e\\u043b\\u0436\\u043d\\u044b \\u0431\\u044b\\u0442\\u044c \\u0437\\u0430\\u043a\\u043e\\u043d\\u043d\\u044b\\u043c\\u0438 \\u0438 \\u043e\\u0431\\u043e\\u0441\\u043d\\u043e\\u0432\\u0430\\u043d\\u043d\\u044b\\u043c\\u0438.\\r\\n \\u0421\\u043e\\u043e\\u0431\\u0449\\u0430\\u0435\\u043c, \\u0447\\u0442\\u043e \\u0423\\u043f\\u0440\\u0430\\u0432\\u043b\\u0435\\u043d\\u0438\\u0435 \\u043e\\u0441\\u0443\\u0449\\u0435\\u0441\\u0442\\u0432\\u043b\\u044f\\u0435\\u0442 \\u043a\\u043e\\u043d\\u0442\\u0440\\u043e\\u043b\\u044c\\u043d\\u043e-\\u043d\\u0430\\u0434\\u0437\\u043e\\u0440\\u043d\\u0443\\u044e \\u0434\\u0435\\u044f\\u0442\\u0435\\u043b\\u044c\\u043d\\u043e\\u0441\\u0442\\u044c \\u0432 \\u0441\\u043e\\u043e\\u0442\\u0432\\u0435\\u0442\\u0441\\u0442\\u0432\\u0438\\u0438 \\u0441 \\u0442\\u0440\\u0435\\u0431\\u043e\\u0432\\u0430\\u043d\\u0438\\u044f\\u043c\\u0438 \\u0424\\u0435\\u0434\\u0435\\u0440\\u0430\\u043b\\u044c\\u043d\\u043e\\u0433\\u043e \\u0437\\u0430\\u043a\\u043e\\u043d\\u0430 \\u043e\\u0442 31.07.2020 N 248-\\u0424\\u0417 (\\u0440\\u0435\\u0434. \\u043e\\u0442 11.06.2021) \\\"\\u041e \\u0433\\u043e\\u0441\\u0443\\u0434\\u0430\\u0440\\u0441\\u0442\\u0432\\u0435\\u043d\\u043d\\u043e\\u043c \\u043a\\u043e\\u043d\\u0442\\u0440\\u043e\\u043b\\u0435 (\\u043d\\u0430\\u0434\\u0437\\u043e\\u0440\\u0435) \\u0438 \\u043c\\u0443\\u043d\\u0438\\u0446\\u0438\\u043f\\u0430\\u043b\\u044c\\u043d\\u043e\\u043c \\u043a\\u043e\\u043d\\u0442\\u0440\\u043e\\u043b\\u0435 \\u0432 \\u0420\\u043e\\u0441\\u0441\\u0438\\u0439\\u0441\\u043a\\u043e\\u0439 \\u0424\\u0435\\u0434\\u0435\\u0440\\u0430\\u0446\\u0438\\u0438\\\" (\\u0434\\u0430\\u043b\\u0435\\u0435 - \\u0417\\u0430\\u043a\\u043e\\u043d).  \\u041f\\u043e\\u0440\\u044f\\u0434\\u043e\\u043a \\u043e\\u0440\\u0433\\u0430\\u043d\\u0438\\u0437\\u0430\\u0446\\u0438\\u0438 \\u043a\\u043e\\u043d\\u0442\\u0440\\u043e\\u043b\\u044c\\u043d\\u043e-\\u043d\\u0430\\u0434\\u0437\\u043e\\u0440\\u043d\\u044b\\u0445 \\u043c\\u0435\\u0440\\u043e\\u043f\\u0440\\u0438\\u044f\\u0442\\u0438\\u0439 \\u0432 2024\\u0433 \\u043e\\u043f\\u0440\\u0435\\u0434\\u0435\\u043b\\u0435\\u043d \\u041f\\u043e\\u0441\\u0442\\u0430\\u043d\\u043e\\u0432\\u043b\\u0435\\u043d\\u0438\\u0435\\u043c \\u041f\\u0440\\u0430\\u0432\\u0438\\u0442\\u0435\\u043b\\u044c\\u0441\\u0442\\u0432\\u0430 \\u0420\\u0424 \\u043e\\u0442 10.03.2022\\u0433 \\u2116 336 \\u00ab\\u041e\\u0431 \\u043e\\u0441\\u043e\\u0431\\u0435\\u043d\\u043d\\u043e\\u0441\\u0442\\u044f\\u0445 \\u043e\\u0440\\u0433\\u0430\\u043d\\u0438\\u0437\\u0430\\u0446\\u0438\\u0438 \\u0438 \\u043e\\u0441\\u0443\\u0449\\u0435\\u0441\\u0442\\u0432\\u043b\\u0435\\u043d\\u0438\\u044f \\u0433\\u043e\\u0441\\u0443\\u0434\\u0430\\u0440\\u0441\\u0442\\u0432\\u0435\\u043d\\u043d\\u043e\\u0433\\u043e \\u043a\\u043e\\u043d\\u0442\\u0440\\u043e\\u043b\\u044f (\\u043d\\u0430\\u0434\\u0437\\u043e\\u0440\\u0430), \\u043c\\u0443\\u043d\\u0438\\u0446\\u0438\\u043f\\u0430\\u043b\\u044c\\u043d\\u043e\\u0433\\u043e \\u043a\\u043e\\u043d\\u0442\\u0440\\u043e\\u043b\\u044f\\u00bb \\u0438 \\u0440\\u0430\\u0437\\u044a\\u044f\\u0441\\u043d\\u0435\\u043d \\u043f\\u0438\\u0441\\u044c\\u043c\\u043e\\u043c \\u041c\\u0438\\u043d\\u044d\\u043a\\u043e\\u043d\\u043e\\u043c\\u0440\\u0430\\u0437\\u0432\\u0438\\u0442\\u0438\\u044f \\u0420\\u043e\\u0441\\u0441\\u0438\\u0438 \\u043e\\u0442 24.03.2022\\u0433 \\u2116 \\u041424\\u043d-8436. \\u041f\\u0440\\u043e\\u0432\\u0435\\u0434\\u0435\\u043d\\u0438\\u0435 \\u043a\\u043e\\u043d\\u0442\\u0440\\u043e\\u043b\\u044c\\u043d\\u043e-\\u043d\\u0430\\u0434\\u0437\\u043e\\u0440\\u043d\\u044b\\u0445 \\u043c\\u0435\\u0440\\u043e\\u043f\\u0440\\u0438\\u044f\\u0442\\u0438\\u0439 \\u0432\\u043e\\u0437\\u043c\\u043e\\u0436\\u043d\\u043e \\u0442\\u043e\\u043b\\u044c\\u043a\\u043e \\u0432 \\u0442\\u0435\\u0445 \\u0441\\u043b\\u0443\\u0447\\u0430\\u044f\\u0445, \\u043a\\u043e\\u0433\\u0434\\u0430 \\u0441\\u0443\\u0449\\u0435\\u0441\\u0442\\u0432\\u0443\\u0435\\u0442   \\u0432\\u044b\\u0441\\u043e\\u043a\\u0430\\u044f \\u0441\\u0442\\u0435\\u043f\\u0435\\u043d\\u044c \\u0432\\u0435\\u0440\\u043e\\u044f\\u0442\\u043d\\u043e\\u0441\\u0442\\u0438 \\u043f\\u0440\\u0438\\u0447\\u0438\\u043d\\u0435\\u043d\\u0438\\u044f \\u0432\\u0440\\u0435\\u0434\\u0430 \\u0432 \\u043a\\u0440\\u0430\\u0442\\u043a\\u043e\\u0441\\u0440\\u043e\\u0447\\u043d\\u043e\\u0439 \\u043f\\u0435\\u0440\\u0441\\u043f\\u0435\\u043a\\u0442\\u0438\\u0432\\u0435, \\u043a\\u043e\\u0433\\u0434\\u0430 \\u043e\\u0442\\u0441\\u0443\\u0442\\u0441\\u0442\\u0432\\u0438\\u0435 \\u043c\\u0435\\u0440 \\u0440\\u0435\\u0430\\u0433\\u0438\\u0440\\u043e\\u0432\\u0430\\u043d\\u0438\\u044f \\u043d\\u0435\\u043c\\u0438\\u043d\\u0443\\u0435\\u043c\\u043e \\u0432\\u043b\\u0435\\u0447\\u0435\\u0442 \\u043d\\u0430\\u0441\\u0442\\u0443\\u043f\\u043b\\u0435\\u043d\\u0438\\u0435 \\u043d\\u0435\\u0433\\u0430\\u0442\\u0438\\u0432\\u043d\\u044b\\u0445 \\u043f\\u043e\\u0441\\u043b\\u0435\\u0434\\u0441\\u0442\\u0432\\u0438\\u0439.\\r\\n\\u041a\\u0443\\u043b\\u044c\\u0442\\u0443\\u0440\\u0430 \\u043f\\u043e\\u0432\\u0435\\u0434\\u0435\\u043d\\u0438\\u044f \\u0441\\u043e\\u0442\\u0440\\u0443\\u0434\\u043d\\u0438\\u043a\\u043e\\u0432 \\u043f\\u0440\\u0435\\u0434\\u043f\\u0440\\u0438\\u044f\\u0442\\u0438\\u044f, \\u0437\\u0430\\u043a\\u043e\\u043d\\u043e\\u0434\\u0430\\u0442\\u0435\\u043b\\u044c\\u0441\\u0442\\u0432\\u043e\\u043c \\u043e \\u0437\\u0430\\u0449\\u0438\\u0442\\u0435 \\u043f\\u0440\\u0430\\u0432 \\u043f\\u043e\\u0442\\u0440\\u0435\\u0431\\u0438\\u0442\\u0435\\u043b\\u0435\\u0439 \\u043d\\u0435 \\u0440\\u0435\\u0433\\u0443\\u043b\\u0438\\u0440\\u0443\\u0435\\u0442\\u0441\\u044f. \\u0410\\u0434\\u043c\\u0438\\u043d\\u0438\\u0441\\u0442\\u0440\\u0430\\u0442\\u0438\\u0432\\u043d\\u0430\\u044f \\u043e\\u0442\\u0432\\u0435\\u0442\\u0441\\u0442\\u0432\\u0435\\u043d\\u043d\\u043e\\u0441\\u0442\\u044c \\u0437\\u0430 \\u043d\\u0435\\u043a\\u043e\\u0440\\u0440\\u0435\\u043a\\u0442\\u043d\\u043e\\u0435 \\u043f\\u043e\\u0432\\u0435\\u0434\\u0435\\u043d\\u0438\\u0435 \\u043e\\u0431\\u0441\\u043b\\u0443\\u0436\\u0438\\u0432\\u0430\\u044e\\u0449\\u0435\\u0433\\u043e \\u043f\\u0435\\u0440\\u0441\\u043e\\u043d\\u0430\\u043b\\u0430 \\u043f\\u0440\\u0435\\u0434\\u043f\\u0440\\u0438\\u044f\\u0442\\u0438\\u044f \\u0440\\u043e\\u0437\\u043d\\u0438\\u0447\\u043d\\u043e\\u0439 \\u0442\\u043e\\u0440\\u0433\\u043e\\u0432\\u043b\\u0438 \\u043d\\u0435 \\u043f\\u0440\\u0435\\u0434\\u0443\\u0441\\u043c\\u043e\\u0442\\u0440\\u0435\\u043d\\u0430.\\r\\n\\u0412\\u044b \\u0432\\u043f\\u0440\\u0430\\u0432\\u0435 \\u043e\\u0431\\u0440\\u0430\\u0442\\u0438\\u0442\\u044c\\u0441\\u044f \\u043a \\u043f\\u0440\\u043e\\u0434\\u0430\\u0432\\u0446\\u0443 \\u0441 \\u043f\\u0440\\u0435\\u0442\\u0435\\u043d\\u0437\\u0438\\u0435\\u0439 \\u0437\\u0430 \\u0432\\u043e\\u0441\\u0441\\u0442\\u0430\\u043d\\u043e\\u0432\\u043b\\u0435\\u043d\\u0438\\u0435\\u043c \\u0441\\u0432\\u043e\\u0438\\u0445 \\u043d\\u0430\\u0440\\u0443\\u0448\\u0435\\u043d\\u043d\\u044b\\u0445 \\u043f\\u0440\\u0430\\u0432.\\r\\n\\u0414\\u043e\\u043f\\u043e\\u043b\\u043d\\u0438\\u0442\\u0435\\u043b\\u044c\\u043d\\u043e \\u0438\\u043d\\u0444\\u043e\\u0440\\u043c\\u0438\\u0440\\u0443\\u0435\\u043c, \\u0447\\u0442\\u043e \\u0423\\u043f\\u0440\\u0430\\u0432\\u043b\\u0435\\u043d\\u0438\\u0435 \\u043d\\u0435 \\u043a\\u043e\\u043d\\u0442\\u0440\\u043e\\u043b\\u0438\\u0440\\u0443\\u0435\\u0442 \\u0440\\u0430\\u0431\\u043e\\u0442\\u0443 \\u043a\\u043e\\u043d\\u0442\\u0440\\u043e\\u043b\\u044c\\u043d\\u043e-\\u043a\\u0430\\u0441\\u0441\\u043e\\u0432\\u043e\\u0439 \\u0442\\u0435\\u0445\\u043d\\u0438\\u043a\\u0438. \\u0414\\u043b\\u044f \\u0440\\u0435\\u0448\\u0435\\u043d\\u0438\\u044f \\u044d\\u0442\\u043e\\u0433\\u043e \\u0432\\u043e\\u043f\\u0440\\u043e\\u0441\\u0430 \\u0412\\u0430\\u043c \\u043d\\u0435\\u043e\\u0431\\u0445\\u043e\\u0434\\u0438\\u043c\\u043e \\u043e\\u0431\\u0440\\u0430\\u0442\\u0438\\u0442\\u044c\\u0441\\u044f \\u0432 \\u0423\\u0424\\u041d\\u0421 \\u0420\\u043e\\u0441\\u0441\\u0438\\u0438 \\u043f\\u043e \\u042f\\u0440\\u043e\\u0441\\u043b\\u0430\\u0432\\u0441\\u043a\\u043e\\u0439 \\u043e\\u0431\\u043b\\u0430\\u0441\\u0442\\u0438.\\r\\n\"\n        ],\n        \"semantic_type\": \"\",\n        \"description\": \"\"\n      }\n    }\n  ]\n}"
            }
          },
          "metadata": {},
          "execution_count": 29
        }
      ]
    },
    {
      "cell_type": "markdown",
      "source": [
        "## 6 Words to vector"
      ],
      "metadata": {
        "id": "RLbYgHhPw93P"
      }
    },
    {
      "cell_type": "markdown",
      "source": [
        "Let's make up a corpus of documents"
      ],
      "metadata": {
        "id": "5ND6bjJvv9tH"
      }
    },
    {
      "cell_type": "code",
      "source": [
        "texts = list(df['RPN_questions'].values)"
      ],
      "metadata": {
        "id": "WLNWqK_9naZO"
      },
      "execution_count": null,
      "outputs": []
    },
    {
      "cell_type": "markdown",
      "source": [
        "Let's make up a dictionary of words"
      ],
      "metadata": {
        "id": "Sq-G1msxwM-5"
      }
    },
    {
      "cell_type": "code",
      "source": [
        "common_dictionary = Dictionary(texts)"
      ],
      "metadata": {
        "id": "njIDLme8nmN5"
      },
      "execution_count": null,
      "outputs": []
    },
    {
      "cell_type": "markdown",
      "source": [
        "Let's make up list of words to vector"
      ],
      "metadata": {
        "id": "NEliTDY1wS91"
      }
    },
    {
      "cell_type": "code",
      "source": [
        "common_corpus = [common_dictionary.doc2bow(text) for text in texts]"
      ],
      "metadata": {
        "id": "wOXoA_4OvwN7"
      },
      "execution_count": null,
      "outputs": []
    },
    {
      "cell_type": "markdown",
      "source": [
        "# IV LDA model"
      ],
      "metadata": {
        "id": "x3qBMdO0zSRf"
      }
    },
    {
      "cell_type": "markdown",
      "source": [
        "## 7 Make a model"
      ],
      "metadata": {
        "id": "C-lUe9F0xDHo"
      }
    },
    {
      "cell_type": "markdown",
      "source": [
        "Let's define quantity of topics"
      ],
      "metadata": {
        "id": "V-7MU0VMxJ-o"
      }
    },
    {
      "cell_type": "code",
      "source": [
        "N_topics = 15"
      ],
      "metadata": {
        "id": "f3rOeOoaxaos"
      },
      "execution_count": null,
      "outputs": []
    },
    {
      "cell_type": "code",
      "source": [
        "lda = LdaModel(common_corpus, num_topics=N_topics, id2word=common_dictionary, passes=20)"
      ],
      "metadata": {
        "id": "FbuOOpjKwDCS"
      },
      "execution_count": null,
      "outputs": []
    },
    {
      "cell_type": "code",
      "source": [
        "x = lda.show_topics(formatted=False, num_words=25)"
      ],
      "metadata": {
        "id": "mjhVYGQJxUNy"
      },
      "execution_count": null,
      "outputs": []
    },
    {
      "cell_type": "code",
      "source": [
        "num_topics_list = [tp[0] for tp in x]\n",
        "words_topics_list = [[wd[0] for wd in tp[1]] for tp in x]\n",
        "frequency_word_topics_list = [[wd[1] for wd in tp[1]] for tp in x]\n",
        "word_and_freq_top_list = [[wd for wd in tp[1]] for tp in x]"
      ],
      "metadata": {
        "id": "Rj1NGh3u0Kpr"
      },
      "execution_count": null,
      "outputs": []
    },
    {
      "cell_type": "code",
      "source": [
        "dict_topics = {}\n",
        "for l in range(len(num_topics_list)):\n",
        "    dict_topics[f\"words_in_topic_{num_topics_list[l]}\"] = words_topics_list[l]\n",
        "    dict_topics[f\"freq_word_in_topic_{num_topics_list[l]}\"] = frequency_word_topics_list[l]"
      ],
      "metadata": {
        "id": "p4FkEq5I3z-K"
      },
      "execution_count": null,
      "outputs": []
    },
    {
      "cell_type": "markdown",
      "source": [
        "Create dataframe with words and frequency in topics"
      ],
      "metadata": {
        "id": "EWhCjcqb6I6F"
      }
    },
    {
      "cell_type": "code",
      "source": [
        "df_topics = pd.DataFrame(dict_topics)\n",
        "df_topics.head(7)"
      ],
      "metadata": {
        "colab": {
          "base_uri": "https://localhost:8080/",
          "height": 289
        },
        "id": "p7DXP7kI0BBC",
        "outputId": "bdf907d4-18c2-4ce2-b331-444a6d17efa0"
      },
      "execution_count": null,
      "outputs": [
        {
          "output_type": "execute_result",
          "data": {
            "text/plain": [
              "  words_in_topic_1  freq_word_in_topic_1 words_in_topic_8  \\\n",
              "0          магазин              0.003115       мегамаркет   \n",
              "1          который              0.003115            месяц   \n",
              "2         сбербанк              0.003115            номер   \n",
              "3           кассир              0.003115         сбербанк   \n",
              "4             сюда              0.003115            товар   \n",
              "5            право              0.003115          который   \n",
              "6          покупка              0.003115              год   \n",
              "\n",
              "   freq_word_in_topic_8 words_in_topic_10  freq_word_in_topic_10  \\\n",
              "0              0.003115           просить               0.033887   \n",
              "1              0.003115           вызвать               0.033887   \n",
              "2              0.003115             номер               0.033887   \n",
              "3              0.003115           вернуть               0.033887   \n",
              "4              0.003115             сразу               0.033887   \n",
              "5              0.003115             серия               0.033887   \n",
              "6              0.003115               год               0.033887   \n",
              "\n",
              "  words_in_topic_7  freq_word_in_topic_7 words_in_topic_4  \\\n",
              "0          телефон              0.048497          телефон   \n",
              "1             озон              0.033299             озон   \n",
              "2            также              0.019793            также   \n",
              "3         продавец              0.016148         продавец   \n",
              "4          который              0.014696              так   \n",
              "5              так              0.014203           нижний   \n",
              "6           нижний              0.013674          человек   \n",
              "\n",
              "   freq_word_in_topic_4 words_in_topic_2  freq_word_in_topic_2  \\\n",
              "0              0.003115          магазин              0.054146   \n",
              "1              0.003115            товар              0.030155   \n",
              "2              0.003115             сюда              0.030136   \n",
              "3              0.003115          частный              0.028227   \n",
              "4              0.003115          который              0.027849   \n",
              "5              0.003115         ответить              0.027807   \n",
              "6              0.003115           кассир              0.026992   \n",
              "\n",
              "  words_in_topic_14  freq_word_in_topic_14 words_in_topic_11  \\\n",
              "0           магазин               0.060075           телефон   \n",
              "1            собака               0.031181              озон   \n",
              "2            кассир               0.030120           который   \n",
              "3          ответить               0.029305             товар   \n",
              "4           который               0.029263             месяц   \n",
              "5           частный               0.028885             номер   \n",
              "6              сюда               0.026976            нижний   \n",
              "\n",
              "   freq_word_in_topic_11 words_in_topic_3  freq_word_in_topic_3  \\\n",
              "0               0.003115          телефон              0.003115   \n",
              "1               0.003115             озон              0.003115   \n",
              "2               0.003115            товар              0.003115   \n",
              "3               0.003115          просить              0.003115   \n",
              "4               0.003115          который              0.003115   \n",
              "5               0.003115              год              0.003115   \n",
              "6               0.003115          вернуть              0.003115   \n",
              "\n",
              "  words_in_topic_0  freq_word_in_topic_0  \n",
              "0          телефон              0.036160  \n",
              "1             озон              0.030264  \n",
              "2              так              0.021207  \n",
              "3            также              0.015491  \n",
              "4          человек              0.014930  \n",
              "5           нижний              0.014602  \n",
              "6          который              0.013557  "
            ],
            "text/html": [
              "\n",
              "  <div id=\"df-2f957c1d-2965-453d-b1cd-a47b04f09cb5\" class=\"colab-df-container\">\n",
              "    <div>\n",
              "<style scoped>\n",
              "    .dataframe tbody tr th:only-of-type {\n",
              "        vertical-align: middle;\n",
              "    }\n",
              "\n",
              "    .dataframe tbody tr th {\n",
              "        vertical-align: top;\n",
              "    }\n",
              "\n",
              "    .dataframe thead th {\n",
              "        text-align: right;\n",
              "    }\n",
              "</style>\n",
              "<table border=\"1\" class=\"dataframe\">\n",
              "  <thead>\n",
              "    <tr style=\"text-align: right;\">\n",
              "      <th></th>\n",
              "      <th>words_in_topic_1</th>\n",
              "      <th>freq_word_in_topic_1</th>\n",
              "      <th>words_in_topic_8</th>\n",
              "      <th>freq_word_in_topic_8</th>\n",
              "      <th>words_in_topic_10</th>\n",
              "      <th>freq_word_in_topic_10</th>\n",
              "      <th>words_in_topic_7</th>\n",
              "      <th>freq_word_in_topic_7</th>\n",
              "      <th>words_in_topic_4</th>\n",
              "      <th>freq_word_in_topic_4</th>\n",
              "      <th>words_in_topic_2</th>\n",
              "      <th>freq_word_in_topic_2</th>\n",
              "      <th>words_in_topic_14</th>\n",
              "      <th>freq_word_in_topic_14</th>\n",
              "      <th>words_in_topic_11</th>\n",
              "      <th>freq_word_in_topic_11</th>\n",
              "      <th>words_in_topic_3</th>\n",
              "      <th>freq_word_in_topic_3</th>\n",
              "      <th>words_in_topic_0</th>\n",
              "      <th>freq_word_in_topic_0</th>\n",
              "    </tr>\n",
              "  </thead>\n",
              "  <tbody>\n",
              "    <tr>\n",
              "      <th>0</th>\n",
              "      <td>магазин</td>\n",
              "      <td>0.003115</td>\n",
              "      <td>мегамаркет</td>\n",
              "      <td>0.003115</td>\n",
              "      <td>просить</td>\n",
              "      <td>0.033887</td>\n",
              "      <td>телефон</td>\n",
              "      <td>0.048497</td>\n",
              "      <td>телефон</td>\n",
              "      <td>0.003115</td>\n",
              "      <td>магазин</td>\n",
              "      <td>0.054146</td>\n",
              "      <td>магазин</td>\n",
              "      <td>0.060075</td>\n",
              "      <td>телефон</td>\n",
              "      <td>0.003115</td>\n",
              "      <td>телефон</td>\n",
              "      <td>0.003115</td>\n",
              "      <td>телефон</td>\n",
              "      <td>0.036160</td>\n",
              "    </tr>\n",
              "    <tr>\n",
              "      <th>1</th>\n",
              "      <td>который</td>\n",
              "      <td>0.003115</td>\n",
              "      <td>месяц</td>\n",
              "      <td>0.003115</td>\n",
              "      <td>вызвать</td>\n",
              "      <td>0.033887</td>\n",
              "      <td>озон</td>\n",
              "      <td>0.033299</td>\n",
              "      <td>озон</td>\n",
              "      <td>0.003115</td>\n",
              "      <td>товар</td>\n",
              "      <td>0.030155</td>\n",
              "      <td>собака</td>\n",
              "      <td>0.031181</td>\n",
              "      <td>озон</td>\n",
              "      <td>0.003115</td>\n",
              "      <td>озон</td>\n",
              "      <td>0.003115</td>\n",
              "      <td>озон</td>\n",
              "      <td>0.030264</td>\n",
              "    </tr>\n",
              "    <tr>\n",
              "      <th>2</th>\n",
              "      <td>сбербанк</td>\n",
              "      <td>0.003115</td>\n",
              "      <td>номер</td>\n",
              "      <td>0.003115</td>\n",
              "      <td>номер</td>\n",
              "      <td>0.033887</td>\n",
              "      <td>также</td>\n",
              "      <td>0.019793</td>\n",
              "      <td>также</td>\n",
              "      <td>0.003115</td>\n",
              "      <td>сюда</td>\n",
              "      <td>0.030136</td>\n",
              "      <td>кассир</td>\n",
              "      <td>0.030120</td>\n",
              "      <td>который</td>\n",
              "      <td>0.003115</td>\n",
              "      <td>товар</td>\n",
              "      <td>0.003115</td>\n",
              "      <td>так</td>\n",
              "      <td>0.021207</td>\n",
              "    </tr>\n",
              "    <tr>\n",
              "      <th>3</th>\n",
              "      <td>кассир</td>\n",
              "      <td>0.003115</td>\n",
              "      <td>сбербанк</td>\n",
              "      <td>0.003115</td>\n",
              "      <td>вернуть</td>\n",
              "      <td>0.033887</td>\n",
              "      <td>продавец</td>\n",
              "      <td>0.016148</td>\n",
              "      <td>продавец</td>\n",
              "      <td>0.003115</td>\n",
              "      <td>частный</td>\n",
              "      <td>0.028227</td>\n",
              "      <td>ответить</td>\n",
              "      <td>0.029305</td>\n",
              "      <td>товар</td>\n",
              "      <td>0.003115</td>\n",
              "      <td>просить</td>\n",
              "      <td>0.003115</td>\n",
              "      <td>также</td>\n",
              "      <td>0.015491</td>\n",
              "    </tr>\n",
              "    <tr>\n",
              "      <th>4</th>\n",
              "      <td>сюда</td>\n",
              "      <td>0.003115</td>\n",
              "      <td>товар</td>\n",
              "      <td>0.003115</td>\n",
              "      <td>сразу</td>\n",
              "      <td>0.033887</td>\n",
              "      <td>который</td>\n",
              "      <td>0.014696</td>\n",
              "      <td>так</td>\n",
              "      <td>0.003115</td>\n",
              "      <td>который</td>\n",
              "      <td>0.027849</td>\n",
              "      <td>который</td>\n",
              "      <td>0.029263</td>\n",
              "      <td>месяц</td>\n",
              "      <td>0.003115</td>\n",
              "      <td>который</td>\n",
              "      <td>0.003115</td>\n",
              "      <td>человек</td>\n",
              "      <td>0.014930</td>\n",
              "    </tr>\n",
              "    <tr>\n",
              "      <th>5</th>\n",
              "      <td>право</td>\n",
              "      <td>0.003115</td>\n",
              "      <td>который</td>\n",
              "      <td>0.003115</td>\n",
              "      <td>серия</td>\n",
              "      <td>0.033887</td>\n",
              "      <td>так</td>\n",
              "      <td>0.014203</td>\n",
              "      <td>нижний</td>\n",
              "      <td>0.003115</td>\n",
              "      <td>ответить</td>\n",
              "      <td>0.027807</td>\n",
              "      <td>частный</td>\n",
              "      <td>0.028885</td>\n",
              "      <td>номер</td>\n",
              "      <td>0.003115</td>\n",
              "      <td>год</td>\n",
              "      <td>0.003115</td>\n",
              "      <td>нижний</td>\n",
              "      <td>0.014602</td>\n",
              "    </tr>\n",
              "    <tr>\n",
              "      <th>6</th>\n",
              "      <td>покупка</td>\n",
              "      <td>0.003115</td>\n",
              "      <td>год</td>\n",
              "      <td>0.003115</td>\n",
              "      <td>год</td>\n",
              "      <td>0.033887</td>\n",
              "      <td>нижний</td>\n",
              "      <td>0.013674</td>\n",
              "      <td>человек</td>\n",
              "      <td>0.003115</td>\n",
              "      <td>кассир</td>\n",
              "      <td>0.026992</td>\n",
              "      <td>сюда</td>\n",
              "      <td>0.026976</td>\n",
              "      <td>нижний</td>\n",
              "      <td>0.003115</td>\n",
              "      <td>вернуть</td>\n",
              "      <td>0.003115</td>\n",
              "      <td>который</td>\n",
              "      <td>0.013557</td>\n",
              "    </tr>\n",
              "  </tbody>\n",
              "</table>\n",
              "</div>\n",
              "    <div class=\"colab-df-buttons\">\n",
              "\n",
              "  <div class=\"colab-df-container\">\n",
              "    <button class=\"colab-df-convert\" onclick=\"convertToInteractive('df-2f957c1d-2965-453d-b1cd-a47b04f09cb5')\"\n",
              "            title=\"Convert this dataframe to an interactive table.\"\n",
              "            style=\"display:none;\">\n",
              "\n",
              "  <svg xmlns=\"http://www.w3.org/2000/svg\" height=\"24px\" viewBox=\"0 -960 960 960\">\n",
              "    <path d=\"M120-120v-720h720v720H120Zm60-500h600v-160H180v160Zm220 220h160v-160H400v160Zm0 220h160v-160H400v160ZM180-400h160v-160H180v160Zm440 0h160v-160H620v160ZM180-180h160v-160H180v160Zm440 0h160v-160H620v160Z\"/>\n",
              "  </svg>\n",
              "    </button>\n",
              "\n",
              "  <style>\n",
              "    .colab-df-container {\n",
              "      display:flex;\n",
              "      gap: 12px;\n",
              "    }\n",
              "\n",
              "    .colab-df-convert {\n",
              "      background-color: #E8F0FE;\n",
              "      border: none;\n",
              "      border-radius: 50%;\n",
              "      cursor: pointer;\n",
              "      display: none;\n",
              "      fill: #1967D2;\n",
              "      height: 32px;\n",
              "      padding: 0 0 0 0;\n",
              "      width: 32px;\n",
              "    }\n",
              "\n",
              "    .colab-df-convert:hover {\n",
              "      background-color: #E2EBFA;\n",
              "      box-shadow: 0px 1px 2px rgba(60, 64, 67, 0.3), 0px 1px 3px 1px rgba(60, 64, 67, 0.15);\n",
              "      fill: #174EA6;\n",
              "    }\n",
              "\n",
              "    .colab-df-buttons div {\n",
              "      margin-bottom: 4px;\n",
              "    }\n",
              "\n",
              "    [theme=dark] .colab-df-convert {\n",
              "      background-color: #3B4455;\n",
              "      fill: #D2E3FC;\n",
              "    }\n",
              "\n",
              "    [theme=dark] .colab-df-convert:hover {\n",
              "      background-color: #434B5C;\n",
              "      box-shadow: 0px 1px 3px 1px rgba(0, 0, 0, 0.15);\n",
              "      filter: drop-shadow(0px 1px 2px rgba(0, 0, 0, 0.3));\n",
              "      fill: #FFFFFF;\n",
              "    }\n",
              "  </style>\n",
              "\n",
              "    <script>\n",
              "      const buttonEl =\n",
              "        document.querySelector('#df-2f957c1d-2965-453d-b1cd-a47b04f09cb5 button.colab-df-convert');\n",
              "      buttonEl.style.display =\n",
              "        google.colab.kernel.accessAllowed ? 'block' : 'none';\n",
              "\n",
              "      async function convertToInteractive(key) {\n",
              "        const element = document.querySelector('#df-2f957c1d-2965-453d-b1cd-a47b04f09cb5');\n",
              "        const dataTable =\n",
              "          await google.colab.kernel.invokeFunction('convertToInteractive',\n",
              "                                                    [key], {});\n",
              "        if (!dataTable) return;\n",
              "\n",
              "        const docLinkHtml = 'Like what you see? Visit the ' +\n",
              "          '<a target=\"_blank\" href=https://colab.research.google.com/notebooks/data_table.ipynb>data table notebook</a>'\n",
              "          + ' to learn more about interactive tables.';\n",
              "        element.innerHTML = '';\n",
              "        dataTable['output_type'] = 'display_data';\n",
              "        await google.colab.output.renderOutput(dataTable, element);\n",
              "        const docLink = document.createElement('div');\n",
              "        docLink.innerHTML = docLinkHtml;\n",
              "        element.appendChild(docLink);\n",
              "      }\n",
              "    </script>\n",
              "  </div>\n",
              "\n",
              "\n",
              "<div id=\"df-0e44bc44-4e4d-4e52-8d90-bc44e707645f\">\n",
              "  <button class=\"colab-df-quickchart\" onclick=\"quickchart('df-0e44bc44-4e4d-4e52-8d90-bc44e707645f')\"\n",
              "            title=\"Suggest charts\"\n",
              "            style=\"display:none;\">\n",
              "\n",
              "<svg xmlns=\"http://www.w3.org/2000/svg\" height=\"24px\"viewBox=\"0 0 24 24\"\n",
              "     width=\"24px\">\n",
              "    <g>\n",
              "        <path d=\"M19 3H5c-1.1 0-2 .9-2 2v14c0 1.1.9 2 2 2h14c1.1 0 2-.9 2-2V5c0-1.1-.9-2-2-2zM9 17H7v-7h2v7zm4 0h-2V7h2v10zm4 0h-2v-4h2v4z\"/>\n",
              "    </g>\n",
              "</svg>\n",
              "  </button>\n",
              "\n",
              "<style>\n",
              "  .colab-df-quickchart {\n",
              "      --bg-color: #E8F0FE;\n",
              "      --fill-color: #1967D2;\n",
              "      --hover-bg-color: #E2EBFA;\n",
              "      --hover-fill-color: #174EA6;\n",
              "      --disabled-fill-color: #AAA;\n",
              "      --disabled-bg-color: #DDD;\n",
              "  }\n",
              "\n",
              "  [theme=dark] .colab-df-quickchart {\n",
              "      --bg-color: #3B4455;\n",
              "      --fill-color: #D2E3FC;\n",
              "      --hover-bg-color: #434B5C;\n",
              "      --hover-fill-color: #FFFFFF;\n",
              "      --disabled-bg-color: #3B4455;\n",
              "      --disabled-fill-color: #666;\n",
              "  }\n",
              "\n",
              "  .colab-df-quickchart {\n",
              "    background-color: var(--bg-color);\n",
              "    border: none;\n",
              "    border-radius: 50%;\n",
              "    cursor: pointer;\n",
              "    display: none;\n",
              "    fill: var(--fill-color);\n",
              "    height: 32px;\n",
              "    padding: 0;\n",
              "    width: 32px;\n",
              "  }\n",
              "\n",
              "  .colab-df-quickchart:hover {\n",
              "    background-color: var(--hover-bg-color);\n",
              "    box-shadow: 0 1px 2px rgba(60, 64, 67, 0.3), 0 1px 3px 1px rgba(60, 64, 67, 0.15);\n",
              "    fill: var(--button-hover-fill-color);\n",
              "  }\n",
              "\n",
              "  .colab-df-quickchart-complete:disabled,\n",
              "  .colab-df-quickchart-complete:disabled:hover {\n",
              "    background-color: var(--disabled-bg-color);\n",
              "    fill: var(--disabled-fill-color);\n",
              "    box-shadow: none;\n",
              "  }\n",
              "\n",
              "  .colab-df-spinner {\n",
              "    border: 2px solid var(--fill-color);\n",
              "    border-color: transparent;\n",
              "    border-bottom-color: var(--fill-color);\n",
              "    animation:\n",
              "      spin 1s steps(1) infinite;\n",
              "  }\n",
              "\n",
              "  @keyframes spin {\n",
              "    0% {\n",
              "      border-color: transparent;\n",
              "      border-bottom-color: var(--fill-color);\n",
              "      border-left-color: var(--fill-color);\n",
              "    }\n",
              "    20% {\n",
              "      border-color: transparent;\n",
              "      border-left-color: var(--fill-color);\n",
              "      border-top-color: var(--fill-color);\n",
              "    }\n",
              "    30% {\n",
              "      border-color: transparent;\n",
              "      border-left-color: var(--fill-color);\n",
              "      border-top-color: var(--fill-color);\n",
              "      border-right-color: var(--fill-color);\n",
              "    }\n",
              "    40% {\n",
              "      border-color: transparent;\n",
              "      border-right-color: var(--fill-color);\n",
              "      border-top-color: var(--fill-color);\n",
              "    }\n",
              "    60% {\n",
              "      border-color: transparent;\n",
              "      border-right-color: var(--fill-color);\n",
              "    }\n",
              "    80% {\n",
              "      border-color: transparent;\n",
              "      border-right-color: var(--fill-color);\n",
              "      border-bottom-color: var(--fill-color);\n",
              "    }\n",
              "    90% {\n",
              "      border-color: transparent;\n",
              "      border-bottom-color: var(--fill-color);\n",
              "    }\n",
              "  }\n",
              "</style>\n",
              "\n",
              "  <script>\n",
              "    async function quickchart(key) {\n",
              "      const quickchartButtonEl =\n",
              "        document.querySelector('#' + key + ' button');\n",
              "      quickchartButtonEl.disabled = true;  // To prevent multiple clicks.\n",
              "      quickchartButtonEl.classList.add('colab-df-spinner');\n",
              "      try {\n",
              "        const charts = await google.colab.kernel.invokeFunction(\n",
              "            'suggestCharts', [key], {});\n",
              "      } catch (error) {\n",
              "        console.error('Error during call to suggestCharts:', error);\n",
              "      }\n",
              "      quickchartButtonEl.classList.remove('colab-df-spinner');\n",
              "      quickchartButtonEl.classList.add('colab-df-quickchart-complete');\n",
              "    }\n",
              "    (() => {\n",
              "      let quickchartButtonEl =\n",
              "        document.querySelector('#df-0e44bc44-4e4d-4e52-8d90-bc44e707645f button');\n",
              "      quickchartButtonEl.style.display =\n",
              "        google.colab.kernel.accessAllowed ? 'block' : 'none';\n",
              "    })();\n",
              "  </script>\n",
              "</div>\n",
              "    </div>\n",
              "  </div>\n"
            ],
            "application/vnd.google.colaboratory.intrinsic+json": {
              "type": "dataframe",
              "variable_name": "df_topics",
              "summary": "{\n  \"name\": \"df_topics\",\n  \"rows\": 25,\n  \"fields\": [\n    {\n      \"column\": \"words_in_topic_1\",\n      \"properties\": {\n        \"dtype\": \"string\",\n        \"num_unique_values\": 25,\n        \"samples\": [\n          \"\\u043c\\u0435\\u0433\\u0430\\u043c\\u0430\\u0440\\u043a\\u0435\\u0442\",\n          \"\\u0447\\u0430\\u0441\\u0442\\u043d\\u044b\\u0439\",\n          \"\\u043c\\u0430\\u0433\\u0430\\u0437\\u0438\\u043d\"\n        ],\n        \"semantic_type\": \"\",\n        \"description\": \"\"\n      }\n    },\n    {\n      \"column\": \"freq_word_in_topic_1\",\n      \"properties\": {\n        \"dtype\": \"float32\",\n        \"num_unique_values\": 6,\n        \"samples\": [\n          0.0031152693554759026,\n          0.003115267027169466,\n          0.003115265630185604\n        ],\n        \"semantic_type\": \"\",\n        \"description\": \"\"\n      }\n    },\n    {\n      \"column\": \"words_in_topic_8\",\n      \"properties\": {\n        \"dtype\": \"string\",\n        \"num_unique_values\": 25,\n        \"samples\": [\n          \"\\u043f\\u0440\\u043e\\u0441\\u0438\\u0442\\u044c\",\n          \"\\u0446\\u0432\\u0435\\u0442\",\n          \"\\u043c\\u0435\\u0433\\u0430\\u043c\\u0430\\u0440\\u043a\\u0435\\u0442\"\n        ],\n        \"semantic_type\": \"\",\n        \"description\": \"\"\n      }\n    },\n    {\n      \"column\": \"freq_word_in_topic_8\",\n      \"properties\": {\n        \"dtype\": \"float32\",\n        \"num_unique_values\": 9,\n        \"samples\": [\n          0.0031152672600001097,\n          0.00311526982113719,\n          0.0031152679584920406\n        ],\n        \"semantic_type\": \"\",\n        \"description\": \"\"\n      }\n    },\n    {\n      \"column\": \"words_in_topic_10\",\n      \"properties\": {\n        \"dtype\": \"string\",\n        \"num_unique_values\": 25,\n        \"samples\": [\n          \"\\u043e\\u0440\\u0438\\u0433\\u0438\\u043d\\u0430\\u043b\\u044c\\u043d\\u044b\\u0439\",\n          \"\\u043c\\u0430\\u0433\\u0430\\u0437\\u0438\\u043d\",\n          \"\\u043f\\u0440\\u043e\\u0441\\u0438\\u0442\\u044c\"\n        ],\n        \"semantic_type\": \"\",\n        \"description\": \"\"\n      }\n    },\n    {\n      \"column\": \"freq_word_in_topic_10\",\n      \"properties\": {\n        \"dtype\": \"float32\",\n        \"num_unique_values\": 3,\n        \"samples\": [\n          0.03388716280460358,\n          0.03388715907931328,\n          0.016944127157330513\n        ],\n        \"semantic_type\": \"\",\n        \"description\": \"\"\n      }\n    },\n    {\n      \"column\": \"words_in_topic_7\",\n      \"properties\": {\n        \"dtype\": \"string\",\n        \"num_unique_values\": 25,\n        \"samples\": [\n          \"\\u0448\\u043b\\u0435\\u0439\\u0444\",\n          \"\\u0438\\u0442\\u043e\\u0433\",\n          \"\\u0442\\u0435\\u043b\\u0435\\u0444\\u043e\\u043d\"\n        ],\n        \"semantic_type\": \"\",\n        \"description\": \"\"\n      }\n    },\n    {\n      \"column\": \"freq_word_in_topic_7\",\n      \"properties\": {\n        \"dtype\": \"float32\",\n        \"num_unique_values\": 25,\n        \"samples\": [\n          0.011494248174130917,\n          0.00826297514140606,\n          0.04849708452820778\n        ],\n        \"semantic_type\": \"\",\n        \"description\": \"\"\n      }\n    },\n    {\n      \"column\": \"words_in_topic_4\",\n      \"properties\": {\n        \"dtype\": \"string\",\n        \"num_unique_values\": 25,\n        \"samples\": [\n          \"\\u043a\\u043e\\u0442\\u043e\\u0440\\u044b\\u0439\",\n          \"\\u0445\\u043e\\u0442\\u0435\\u0442\\u044c\",\n          \"\\u0442\\u0435\\u043b\\u0435\\u0444\\u043e\\u043d\"\n        ],\n        \"semantic_type\": \"\",\n        \"description\": \"\"\n      }\n    },\n    {\n      \"column\": \"freq_word_in_topic_4\",\n      \"properties\": {\n        \"dtype\": \"float32\",\n        \"num_unique_values\": 18,\n        \"samples\": [\n          0.0031153063755482435,\n          0.0031152984593063593,\n          0.003115276573225856\n        ],\n        \"semantic_type\": \"\",\n        \"description\": \"\"\n      }\n    },\n    {\n      \"column\": \"words_in_topic_2\",\n      \"properties\": {\n        \"dtype\": \"string\",\n        \"num_unique_values\": 25,\n        \"samples\": [\n          \"\\u0437\\u0430\\u0442\\u043a\\u043d\\u0443\\u0442\\u044c\\u0441\\u044f\",\n          \"\\u0441\\u043f\\u0440\\u043e\\u0441\\u0438\\u0442\\u044c\",\n          \"\\u043c\\u0430\\u0433\\u0430\\u0437\\u0438\\u043d\"\n        ],\n        \"semantic_type\": \"\",\n        \"description\": \"\"\n      }\n    },\n    {\n      \"column\": \"freq_word_in_topic_2\",\n      \"properties\": {\n        \"dtype\": \"float32\",\n        \"num_unique_values\": 25,\n        \"samples\": [\n          0.016627226024866104,\n          0.015217915177345276,\n          0.054145798087120056\n        ],\n        \"semantic_type\": \"\",\n        \"description\": \"\"\n      }\n    },\n    {\n      \"column\": \"words_in_topic_14\",\n      \"properties\": {\n        \"dtype\": \"string\",\n        \"num_unique_values\": 25,\n        \"samples\": [\n          \"\\u043f\\u043e\\u0437\\u0432\\u043e\\u043b\\u044f\\u0442\\u044c\",\n          \"\\u0447\\u0435\\u043a\",\n          \"\\u043c\\u0430\\u0433\\u0430\\u0437\\u0438\\u043d\"\n        ],\n        \"semantic_type\": \"\",\n        \"description\": \"\"\n      }\n    },\n    {\n      \"column\": \"freq_word_in_topic_14\",\n      \"properties\": {\n        \"dtype\": \"float32\",\n        \"num_unique_values\": 25,\n        \"samples\": [\n          0.016172882169485092,\n          0.014843503013253212,\n          0.06007472053170204\n        ],\n        \"semantic_type\": \"\",\n        \"description\": \"\"\n      }\n    },\n    {\n      \"column\": \"words_in_topic_11\",\n      \"properties\": {\n        \"dtype\": \"string\",\n        \"num_unique_values\": 25,\n        \"samples\": [\n          \"\\u0442\\u0430\\u043a\",\n          \"\\u0432\\u0435\\u0440\\u043d\\u0443\\u0442\\u044c\",\n          \"\\u0442\\u0435\\u043b\\u0435\\u0444\\u043e\\u043d\"\n        ],\n        \"semantic_type\": \"\",\n        \"description\": \"\"\n      }\n    },\n    {\n      \"column\": \"freq_word_in_topic_11\",\n      \"properties\": {\n        \"dtype\": \"float32\",\n        \"num_unique_values\": 15,\n        \"samples\": [\n          0.00311526982113719,\n          0.003115269122645259,\n          0.003115282393991947\n        ],\n        \"semantic_type\": \"\",\n        \"description\": \"\"\n      }\n    },\n    {\n      \"column\": \"words_in_topic_3\",\n      \"properties\": {\n        \"dtype\": \"string\",\n        \"num_unique_values\": 25,\n        \"samples\": [\n          \"\\u043f\\u0440\\u043e\\u0434\\u0430\\u0432\\u0435\\u0446\",\n          \"\\u0441\\u0442\\u0430\\u0440\\u044b\\u0439\",\n          \"\\u0442\\u0435\\u043b\\u0435\\u0444\\u043e\\u043d\"\n        ],\n        \"semantic_type\": \"\",\n        \"description\": \"\"\n      }\n    },\n    {\n      \"column\": \"freq_word_in_topic_3\",\n      \"properties\": {\n        \"dtype\": \"float32\",\n        \"num_unique_values\": 5,\n        \"samples\": [\n          0.0031152665615081787,\n          0.0031152653973549604,\n          0.0031152660958468914\n        ],\n        \"semantic_type\": \"\",\n        \"description\": \"\"\n      }\n    },\n    {\n      \"column\": \"words_in_topic_0\",\n      \"properties\": {\n        \"dtype\": \"string\",\n        \"num_unique_values\": 25,\n        \"samples\": [\n          \"\\u043f\\u0440\\u043e\\u0434\\u0430\\u0432\\u0435\\u0446\",\n          \"\\u043e\\u0442\\u0432\\u0435\\u0442\",\n          \"\\u0442\\u0435\\u043b\\u0435\\u0444\\u043e\\u043d\"\n        ],\n        \"semantic_type\": \"\",\n        \"description\": \"\"\n      }\n    },\n    {\n      \"column\": \"freq_word_in_topic_0\",\n      \"properties\": {\n        \"dtype\": \"float32\",\n        \"num_unique_values\": 25,\n        \"samples\": [\n          0.01207192987203598,\n          0.008331619203090668,\n          0.03616020828485489\n        ],\n        \"semantic_type\": \"\",\n        \"description\": \"\"\n      }\n    }\n  ]\n}"
            }
          },
          "metadata": {},
          "execution_count": 51
        }
      ]
    },
    {
      "cell_type": "code",
      "source": [
        "df_topics.shape"
      ],
      "metadata": {
        "colab": {
          "base_uri": "https://localhost:8080/"
        },
        "id": "s9ejC9mE0xtc",
        "outputId": "7b529c18-9096-4b60-f2c0-da28bdd633e1"
      },
      "execution_count": null,
      "outputs": [
        {
          "output_type": "execute_result",
          "data": {
            "text/plain": [
              "(25, 20)"
            ]
          },
          "metadata": {},
          "execution_count": 52
        }
      ]
    },
    {
      "cell_type": "code",
      "source": [
        "df_topics.to_csv(path_to_work_dir + \"df_topics.csv\", index=None)"
      ],
      "metadata": {
        "id": "lEbWdJ-ONS84"
      },
      "execution_count": null,
      "outputs": []
    },
    {
      "cell_type": "code",
      "source": [
        "df_topics = pd.read_csv(path_to_work_dir + \"df_topics.csv\")"
      ],
      "metadata": {
        "id": "3O1CyAqo5Wg8"
      },
      "execution_count": null,
      "outputs": []
    },
    {
      "cell_type": "markdown",
      "source": [
        "## 8 Save LDA model"
      ],
      "metadata": {
        "id": "8tmzbTwf5p5G"
      }
    },
    {
      "cell_type": "code",
      "source": [
        "# MDir(path_to_work_dir + \"My_model/\")\n",
        "# temp_file = datapath(path_to_work_dir + \"My_model/model.lda\")\n",
        "# lda.save(temp_file)"
      ],
      "metadata": {
        "id": "c7kxHRxu6fPl"
      },
      "execution_count": null,
      "outputs": []
    },
    {
      "cell_type": "markdown",
      "source": [
        "## 9 Load LDA model"
      ],
      "metadata": {
        "id": "qok_oT6_7CnV"
      }
    },
    {
      "cell_type": "code",
      "source": [
        "temp_file = path_to_work_dir + \"My_model/model.lda\"\n",
        "lda = LdaModel.load(temp_file)"
      ],
      "metadata": {
        "id": "yT5huajO7Dxp"
      },
      "execution_count": null,
      "outputs": []
    },
    {
      "cell_type": "markdown",
      "source": [
        "## 10 Documents in vector"
      ],
      "metadata": {
        "id": "uu-SnkhVSYRS"
      }
    },
    {
      "cell_type": "code",
      "source": [
        "topics_words = [tp[0] for tp in x]\n",
        "topic_matrix = pd.DataFrame([get_lda_vector(lda, text) for text in df['RPN_questions'].values])\n",
        "topic_matrix.columns = [f'topic_{i}' for i in topics_words]\n",
        "topic_matrix['doc_id'] = df['doc_id']\n",
        "topic_matrix = topic_matrix[['doc_id']+[f'topic_{i}' for i in topics_words]]\n",
        "topic_matrix.head(5)"
      ],
      "metadata": {
        "colab": {
          "base_uri": "https://localhost:8080/",
          "height": 206
        },
        "id": "0y8shmmWJj7v",
        "outputId": "1b631c11-f000-45ed-b1b0-ea4f5c02fe2f"
      },
      "execution_count": null,
      "outputs": [
        {
          "output_type": "execute_result",
          "data": {
            "text/plain": [
              "   doc_id   topic_1  topic_8  topic_10  topic_7  topic_4  topic_2  topic_14  \\\n",
              "0   44015  0.485103      0.0  0.000000      0.0      0.0      0.0  0.000000   \n",
              "1   44010  0.000000      0.0  0.000000      0.0      0.0      0.0  0.000000   \n",
              "2   44009  0.000000      0.0  0.537207      0.0      0.0      0.0  0.000000   \n",
              "3   43999  0.000000      0.0  0.000000      0.0      0.0      0.0  0.967816   \n",
              "4   43998  0.000000      0.0  0.000000      0.0      0.0      0.0  0.000000   \n",
              "\n",
              "   topic_11  topic_3  topic_0  \n",
              "0  0.511845      0.0      0.0  \n",
              "1  0.000000      0.0      0.0  \n",
              "2  0.000000      0.0      0.0  \n",
              "3  0.000000      0.0      0.0  \n",
              "4  0.000000      0.0      0.0  "
            ],
            "text/html": [
              "\n",
              "  <div id=\"df-d0e469d0-bbb5-4ceb-b705-d8423598193c\" class=\"colab-df-container\">\n",
              "    <div>\n",
              "<style scoped>\n",
              "    .dataframe tbody tr th:only-of-type {\n",
              "        vertical-align: middle;\n",
              "    }\n",
              "\n",
              "    .dataframe tbody tr th {\n",
              "        vertical-align: top;\n",
              "    }\n",
              "\n",
              "    .dataframe thead th {\n",
              "        text-align: right;\n",
              "    }\n",
              "</style>\n",
              "<table border=\"1\" class=\"dataframe\">\n",
              "  <thead>\n",
              "    <tr style=\"text-align: right;\">\n",
              "      <th></th>\n",
              "      <th>doc_id</th>\n",
              "      <th>topic_1</th>\n",
              "      <th>topic_8</th>\n",
              "      <th>topic_10</th>\n",
              "      <th>topic_7</th>\n",
              "      <th>topic_4</th>\n",
              "      <th>topic_2</th>\n",
              "      <th>topic_14</th>\n",
              "      <th>topic_11</th>\n",
              "      <th>topic_3</th>\n",
              "      <th>topic_0</th>\n",
              "    </tr>\n",
              "  </thead>\n",
              "  <tbody>\n",
              "    <tr>\n",
              "      <th>0</th>\n",
              "      <td>44015</td>\n",
              "      <td>0.485103</td>\n",
              "      <td>0.0</td>\n",
              "      <td>0.000000</td>\n",
              "      <td>0.0</td>\n",
              "      <td>0.0</td>\n",
              "      <td>0.0</td>\n",
              "      <td>0.000000</td>\n",
              "      <td>0.511845</td>\n",
              "      <td>0.0</td>\n",
              "      <td>0.0</td>\n",
              "    </tr>\n",
              "    <tr>\n",
              "      <th>1</th>\n",
              "      <td>44010</td>\n",
              "      <td>0.000000</td>\n",
              "      <td>0.0</td>\n",
              "      <td>0.000000</td>\n",
              "      <td>0.0</td>\n",
              "      <td>0.0</td>\n",
              "      <td>0.0</td>\n",
              "      <td>0.000000</td>\n",
              "      <td>0.000000</td>\n",
              "      <td>0.0</td>\n",
              "      <td>0.0</td>\n",
              "    </tr>\n",
              "    <tr>\n",
              "      <th>2</th>\n",
              "      <td>44009</td>\n",
              "      <td>0.000000</td>\n",
              "      <td>0.0</td>\n",
              "      <td>0.537207</td>\n",
              "      <td>0.0</td>\n",
              "      <td>0.0</td>\n",
              "      <td>0.0</td>\n",
              "      <td>0.000000</td>\n",
              "      <td>0.000000</td>\n",
              "      <td>0.0</td>\n",
              "      <td>0.0</td>\n",
              "    </tr>\n",
              "    <tr>\n",
              "      <th>3</th>\n",
              "      <td>43999</td>\n",
              "      <td>0.000000</td>\n",
              "      <td>0.0</td>\n",
              "      <td>0.000000</td>\n",
              "      <td>0.0</td>\n",
              "      <td>0.0</td>\n",
              "      <td>0.0</td>\n",
              "      <td>0.967816</td>\n",
              "      <td>0.000000</td>\n",
              "      <td>0.0</td>\n",
              "      <td>0.0</td>\n",
              "    </tr>\n",
              "    <tr>\n",
              "      <th>4</th>\n",
              "      <td>43998</td>\n",
              "      <td>0.000000</td>\n",
              "      <td>0.0</td>\n",
              "      <td>0.000000</td>\n",
              "      <td>0.0</td>\n",
              "      <td>0.0</td>\n",
              "      <td>0.0</td>\n",
              "      <td>0.000000</td>\n",
              "      <td>0.000000</td>\n",
              "      <td>0.0</td>\n",
              "      <td>0.0</td>\n",
              "    </tr>\n",
              "  </tbody>\n",
              "</table>\n",
              "</div>\n",
              "    <div class=\"colab-df-buttons\">\n",
              "\n",
              "  <div class=\"colab-df-container\">\n",
              "    <button class=\"colab-df-convert\" onclick=\"convertToInteractive('df-d0e469d0-bbb5-4ceb-b705-d8423598193c')\"\n",
              "            title=\"Convert this dataframe to an interactive table.\"\n",
              "            style=\"display:none;\">\n",
              "\n",
              "  <svg xmlns=\"http://www.w3.org/2000/svg\" height=\"24px\" viewBox=\"0 -960 960 960\">\n",
              "    <path d=\"M120-120v-720h720v720H120Zm60-500h600v-160H180v160Zm220 220h160v-160H400v160Zm0 220h160v-160H400v160ZM180-400h160v-160H180v160Zm440 0h160v-160H620v160ZM180-180h160v-160H180v160Zm440 0h160v-160H620v160Z\"/>\n",
              "  </svg>\n",
              "    </button>\n",
              "\n",
              "  <style>\n",
              "    .colab-df-container {\n",
              "      display:flex;\n",
              "      gap: 12px;\n",
              "    }\n",
              "\n",
              "    .colab-df-convert {\n",
              "      background-color: #E8F0FE;\n",
              "      border: none;\n",
              "      border-radius: 50%;\n",
              "      cursor: pointer;\n",
              "      display: none;\n",
              "      fill: #1967D2;\n",
              "      height: 32px;\n",
              "      padding: 0 0 0 0;\n",
              "      width: 32px;\n",
              "    }\n",
              "\n",
              "    .colab-df-convert:hover {\n",
              "      background-color: #E2EBFA;\n",
              "      box-shadow: 0px 1px 2px rgba(60, 64, 67, 0.3), 0px 1px 3px 1px rgba(60, 64, 67, 0.15);\n",
              "      fill: #174EA6;\n",
              "    }\n",
              "\n",
              "    .colab-df-buttons div {\n",
              "      margin-bottom: 4px;\n",
              "    }\n",
              "\n",
              "    [theme=dark] .colab-df-convert {\n",
              "      background-color: #3B4455;\n",
              "      fill: #D2E3FC;\n",
              "    }\n",
              "\n",
              "    [theme=dark] .colab-df-convert:hover {\n",
              "      background-color: #434B5C;\n",
              "      box-shadow: 0px 1px 3px 1px rgba(0, 0, 0, 0.15);\n",
              "      filter: drop-shadow(0px 1px 2px rgba(0, 0, 0, 0.3));\n",
              "      fill: #FFFFFF;\n",
              "    }\n",
              "  </style>\n",
              "\n",
              "    <script>\n",
              "      const buttonEl =\n",
              "        document.querySelector('#df-d0e469d0-bbb5-4ceb-b705-d8423598193c button.colab-df-convert');\n",
              "      buttonEl.style.display =\n",
              "        google.colab.kernel.accessAllowed ? 'block' : 'none';\n",
              "\n",
              "      async function convertToInteractive(key) {\n",
              "        const element = document.querySelector('#df-d0e469d0-bbb5-4ceb-b705-d8423598193c');\n",
              "        const dataTable =\n",
              "          await google.colab.kernel.invokeFunction('convertToInteractive',\n",
              "                                                    [key], {});\n",
              "        if (!dataTable) return;\n",
              "\n",
              "        const docLinkHtml = 'Like what you see? Visit the ' +\n",
              "          '<a target=\"_blank\" href=https://colab.research.google.com/notebooks/data_table.ipynb>data table notebook</a>'\n",
              "          + ' to learn more about interactive tables.';\n",
              "        element.innerHTML = '';\n",
              "        dataTable['output_type'] = 'display_data';\n",
              "        await google.colab.output.renderOutput(dataTable, element);\n",
              "        const docLink = document.createElement('div');\n",
              "        docLink.innerHTML = docLinkHtml;\n",
              "        element.appendChild(docLink);\n",
              "      }\n",
              "    </script>\n",
              "  </div>\n",
              "\n",
              "\n",
              "<div id=\"df-01abdbe7-9877-4274-bc01-8543ced0a94d\">\n",
              "  <button class=\"colab-df-quickchart\" onclick=\"quickchart('df-01abdbe7-9877-4274-bc01-8543ced0a94d')\"\n",
              "            title=\"Suggest charts\"\n",
              "            style=\"display:none;\">\n",
              "\n",
              "<svg xmlns=\"http://www.w3.org/2000/svg\" height=\"24px\"viewBox=\"0 0 24 24\"\n",
              "     width=\"24px\">\n",
              "    <g>\n",
              "        <path d=\"M19 3H5c-1.1 0-2 .9-2 2v14c0 1.1.9 2 2 2h14c1.1 0 2-.9 2-2V5c0-1.1-.9-2-2-2zM9 17H7v-7h2v7zm4 0h-2V7h2v10zm4 0h-2v-4h2v4z\"/>\n",
              "    </g>\n",
              "</svg>\n",
              "  </button>\n",
              "\n",
              "<style>\n",
              "  .colab-df-quickchart {\n",
              "      --bg-color: #E8F0FE;\n",
              "      --fill-color: #1967D2;\n",
              "      --hover-bg-color: #E2EBFA;\n",
              "      --hover-fill-color: #174EA6;\n",
              "      --disabled-fill-color: #AAA;\n",
              "      --disabled-bg-color: #DDD;\n",
              "  }\n",
              "\n",
              "  [theme=dark] .colab-df-quickchart {\n",
              "      --bg-color: #3B4455;\n",
              "      --fill-color: #D2E3FC;\n",
              "      --hover-bg-color: #434B5C;\n",
              "      --hover-fill-color: #FFFFFF;\n",
              "      --disabled-bg-color: #3B4455;\n",
              "      --disabled-fill-color: #666;\n",
              "  }\n",
              "\n",
              "  .colab-df-quickchart {\n",
              "    background-color: var(--bg-color);\n",
              "    border: none;\n",
              "    border-radius: 50%;\n",
              "    cursor: pointer;\n",
              "    display: none;\n",
              "    fill: var(--fill-color);\n",
              "    height: 32px;\n",
              "    padding: 0;\n",
              "    width: 32px;\n",
              "  }\n",
              "\n",
              "  .colab-df-quickchart:hover {\n",
              "    background-color: var(--hover-bg-color);\n",
              "    box-shadow: 0 1px 2px rgba(60, 64, 67, 0.3), 0 1px 3px 1px rgba(60, 64, 67, 0.15);\n",
              "    fill: var(--button-hover-fill-color);\n",
              "  }\n",
              "\n",
              "  .colab-df-quickchart-complete:disabled,\n",
              "  .colab-df-quickchart-complete:disabled:hover {\n",
              "    background-color: var(--disabled-bg-color);\n",
              "    fill: var(--disabled-fill-color);\n",
              "    box-shadow: none;\n",
              "  }\n",
              "\n",
              "  .colab-df-spinner {\n",
              "    border: 2px solid var(--fill-color);\n",
              "    border-color: transparent;\n",
              "    border-bottom-color: var(--fill-color);\n",
              "    animation:\n",
              "      spin 1s steps(1) infinite;\n",
              "  }\n",
              "\n",
              "  @keyframes spin {\n",
              "    0% {\n",
              "      border-color: transparent;\n",
              "      border-bottom-color: var(--fill-color);\n",
              "      border-left-color: var(--fill-color);\n",
              "    }\n",
              "    20% {\n",
              "      border-color: transparent;\n",
              "      border-left-color: var(--fill-color);\n",
              "      border-top-color: var(--fill-color);\n",
              "    }\n",
              "    30% {\n",
              "      border-color: transparent;\n",
              "      border-left-color: var(--fill-color);\n",
              "      border-top-color: var(--fill-color);\n",
              "      border-right-color: var(--fill-color);\n",
              "    }\n",
              "    40% {\n",
              "      border-color: transparent;\n",
              "      border-right-color: var(--fill-color);\n",
              "      border-top-color: var(--fill-color);\n",
              "    }\n",
              "    60% {\n",
              "      border-color: transparent;\n",
              "      border-right-color: var(--fill-color);\n",
              "    }\n",
              "    80% {\n",
              "      border-color: transparent;\n",
              "      border-right-color: var(--fill-color);\n",
              "      border-bottom-color: var(--fill-color);\n",
              "    }\n",
              "    90% {\n",
              "      border-color: transparent;\n",
              "      border-bottom-color: var(--fill-color);\n",
              "    }\n",
              "  }\n",
              "</style>\n",
              "\n",
              "  <script>\n",
              "    async function quickchart(key) {\n",
              "      const quickchartButtonEl =\n",
              "        document.querySelector('#' + key + ' button');\n",
              "      quickchartButtonEl.disabled = true;  // To prevent multiple clicks.\n",
              "      quickchartButtonEl.classList.add('colab-df-spinner');\n",
              "      try {\n",
              "        const charts = await google.colab.kernel.invokeFunction(\n",
              "            'suggestCharts', [key], {});\n",
              "      } catch (error) {\n",
              "        console.error('Error during call to suggestCharts:', error);\n",
              "      }\n",
              "      quickchartButtonEl.classList.remove('colab-df-spinner');\n",
              "      quickchartButtonEl.classList.add('colab-df-quickchart-complete');\n",
              "    }\n",
              "    (() => {\n",
              "      let quickchartButtonEl =\n",
              "        document.querySelector('#df-01abdbe7-9877-4274-bc01-8543ced0a94d button');\n",
              "      quickchartButtonEl.style.display =\n",
              "        google.colab.kernel.accessAllowed ? 'block' : 'none';\n",
              "    })();\n",
              "  </script>\n",
              "</div>\n",
              "    </div>\n",
              "  </div>\n"
            ],
            "application/vnd.google.colaboratory.intrinsic+json": {
              "type": "dataframe",
              "variable_name": "topic_matrix",
              "summary": "{\n  \"name\": \"topic_matrix\",\n  \"rows\": 4995,\n  \"fields\": [\n    {\n      \"column\": \"doc_id\",\n      \"properties\": {\n        \"dtype\": \"number\",\n        \"std\": 6,\n        \"min\": 43998,\n        \"max\": 44015,\n        \"num_unique_values\": 5,\n        \"samples\": [\n          44010,\n          43998,\n          44009\n        ],\n        \"semantic_type\": \"\",\n        \"description\": \"\"\n      }\n    },\n    {\n      \"column\": \"topic_1\",\n      \"properties\": {\n        \"dtype\": \"number\",\n        \"std\": 0.1980687356149204,\n        \"min\": 0.0,\n        \"max\": 0.5951550006866455,\n        \"num_unique_values\": 994,\n        \"samples\": [\n          0.5445892810821533,\n          0.5058275461196899,\n          0.5698479413986206\n        ],\n        \"semantic_type\": \"\",\n        \"description\": \"\"\n      }\n    },\n    {\n      \"column\": \"topic_8\",\n      \"properties\": {\n        \"dtype\": \"number\",\n        \"std\": 0.0,\n        \"min\": 0.0,\n        \"max\": 0.0,\n        \"num_unique_values\": 1,\n        \"samples\": [\n          0.0\n        ],\n        \"semantic_type\": \"\",\n        \"description\": \"\"\n      }\n    },\n    {\n      \"column\": \"topic_10\",\n      \"properties\": {\n        \"dtype\": \"number\",\n        \"std\": 0.20154423085615825,\n        \"min\": 0.0,\n        \"max\": 0.8405730128288269,\n        \"num_unique_values\": 999,\n        \"samples\": [\n          0.385662317276001\n        ],\n        \"semantic_type\": \"\",\n        \"description\": \"\"\n      }\n    },\n    {\n      \"column\": \"topic_7\",\n      \"properties\": {\n        \"dtype\": \"number\",\n        \"std\": 0.0,\n        \"min\": 0.0,\n        \"max\": 0.0,\n        \"num_unique_values\": 1,\n        \"samples\": [\n          0.0\n        ],\n        \"semantic_type\": \"\",\n        \"description\": \"\"\n      }\n    },\n    {\n      \"column\": \"topic_4\",\n      \"properties\": {\n        \"dtype\": \"number\",\n        \"std\": 0.0,\n        \"min\": 0.0,\n        \"max\": 0.0,\n        \"num_unique_values\": 1,\n        \"samples\": [\n          0.0\n        ],\n        \"semantic_type\": \"\",\n        \"description\": \"\"\n      }\n    },\n    {\n      \"column\": \"topic_2\",\n      \"properties\": {\n        \"dtype\": \"number\",\n        \"std\": 0.0,\n        \"min\": 0.0,\n        \"max\": 0.0,\n        \"num_unique_values\": 1,\n        \"samples\": [\n          0.0\n        ],\n        \"semantic_type\": \"\",\n        \"description\": \"\"\n      }\n    },\n    {\n      \"column\": \"topic_14\",\n      \"properties\": {\n        \"dtype\": \"number\",\n        \"std\": 0.38716513524803103,\n        \"min\": 0.0,\n        \"max\": 0.9678159952163696,\n        \"num_unique_values\": 3,\n        \"samples\": [\n          0.0\n        ],\n        \"semantic_type\": \"\",\n        \"description\": \"\"\n      }\n    },\n    {\n      \"column\": \"topic_11\",\n      \"properties\": {\n        \"dtype\": \"number\",\n        \"std\": 0.20167722066865487,\n        \"min\": 0.0,\n        \"max\": 0.6036067008972168,\n        \"num_unique_values\": 993,\n        \"samples\": [\n          0.45235905051231384\n        ],\n        \"semantic_type\": \"\",\n        \"description\": \"\"\n      }\n    },\n    {\n      \"column\": \"topic_3\",\n      \"properties\": {\n        \"dtype\": \"number\",\n        \"std\": 0.0,\n        \"min\": 0.0,\n        \"max\": 0.0,\n        \"num_unique_values\": 1,\n        \"samples\": [\n          0.0\n        ],\n        \"semantic_type\": \"\",\n        \"description\": \"\"\n      }\n    },\n    {\n      \"column\": \"topic_0\",\n      \"properties\": {\n        \"dtype\": \"number\",\n        \"std\": 0.0,\n        \"min\": 0.0,\n        \"max\": 0.0,\n        \"num_unique_values\": 1,\n        \"samples\": [\n          0.0\n        ],\n        \"semantic_type\": \"\",\n        \"description\": \"\"\n      }\n    }\n  ]\n}"
            }
          },
          "metadata": {},
          "execution_count": 57
        }
      ]
    },
    {
      "cell_type": "code",
      "source": [
        "topic_matrix.to_csv(path_to_work_dir + 'doc_in_vec.csv', index=None)"
      ],
      "metadata": {
        "id": "EvUh7O_aWUMR"
      },
      "execution_count": null,
      "outputs": []
    },
    {
      "cell_type": "code",
      "source": [
        "df_doc_vec = pd.read_csv(path_to_work_dir + 'doc_in_vec.csv')\n",
        "df_doc_vec.head(7)"
      ],
      "metadata": {
        "colab": {
          "base_uri": "https://localhost:8080/",
          "height": 269
        },
        "id": "UFs-2KDxYwFw",
        "outputId": "5caa4a7e-698b-4e34-9200-cfd2b11651c7"
      },
      "execution_count": null,
      "outputs": [
        {
          "output_type": "execute_result",
          "data": {
            "text/plain": [
              "   doc_id   topic_1  topic_8  topic_10  topic_7  topic_4  topic_2  topic_14  \\\n",
              "0   44015  0.485103      0.0  0.000000      0.0      0.0      0.0  0.000000   \n",
              "1   44010  0.000000      0.0  0.000000      0.0      0.0      0.0  0.000000   \n",
              "2   44009  0.000000      0.0  0.537207      0.0      0.0      0.0  0.000000   \n",
              "3   43999  0.000000      0.0  0.000000      0.0      0.0      0.0  0.967816   \n",
              "4   43998  0.000000      0.0  0.000000      0.0      0.0      0.0  0.000000   \n",
              "5   44015  0.504219      0.0  0.000000      0.0      0.0      0.0  0.000000   \n",
              "6   44010  0.000000      0.0  0.000000      0.0      0.0      0.0  0.000000   \n",
              "\n",
              "   topic_11  topic_3  topic_0  \n",
              "0  0.511845      0.0      0.0  \n",
              "1  0.000000      0.0      0.0  \n",
              "2  0.000000      0.0      0.0  \n",
              "3  0.000000      0.0      0.0  \n",
              "4  0.000000      0.0      0.0  \n",
              "5  0.492729      0.0      0.0  \n",
              "6  0.000000      0.0      0.0  "
            ],
            "text/html": [
              "\n",
              "  <div id=\"df-99e136a2-d0b5-4a8c-b402-d495b7631151\" class=\"colab-df-container\">\n",
              "    <div>\n",
              "<style scoped>\n",
              "    .dataframe tbody tr th:only-of-type {\n",
              "        vertical-align: middle;\n",
              "    }\n",
              "\n",
              "    .dataframe tbody tr th {\n",
              "        vertical-align: top;\n",
              "    }\n",
              "\n",
              "    .dataframe thead th {\n",
              "        text-align: right;\n",
              "    }\n",
              "</style>\n",
              "<table border=\"1\" class=\"dataframe\">\n",
              "  <thead>\n",
              "    <tr style=\"text-align: right;\">\n",
              "      <th></th>\n",
              "      <th>doc_id</th>\n",
              "      <th>topic_1</th>\n",
              "      <th>topic_8</th>\n",
              "      <th>topic_10</th>\n",
              "      <th>topic_7</th>\n",
              "      <th>topic_4</th>\n",
              "      <th>topic_2</th>\n",
              "      <th>topic_14</th>\n",
              "      <th>topic_11</th>\n",
              "      <th>topic_3</th>\n",
              "      <th>topic_0</th>\n",
              "    </tr>\n",
              "  </thead>\n",
              "  <tbody>\n",
              "    <tr>\n",
              "      <th>0</th>\n",
              "      <td>44015</td>\n",
              "      <td>0.485103</td>\n",
              "      <td>0.0</td>\n",
              "      <td>0.000000</td>\n",
              "      <td>0.0</td>\n",
              "      <td>0.0</td>\n",
              "      <td>0.0</td>\n",
              "      <td>0.000000</td>\n",
              "      <td>0.511845</td>\n",
              "      <td>0.0</td>\n",
              "      <td>0.0</td>\n",
              "    </tr>\n",
              "    <tr>\n",
              "      <th>1</th>\n",
              "      <td>44010</td>\n",
              "      <td>0.000000</td>\n",
              "      <td>0.0</td>\n",
              "      <td>0.000000</td>\n",
              "      <td>0.0</td>\n",
              "      <td>0.0</td>\n",
              "      <td>0.0</td>\n",
              "      <td>0.000000</td>\n",
              "      <td>0.000000</td>\n",
              "      <td>0.0</td>\n",
              "      <td>0.0</td>\n",
              "    </tr>\n",
              "    <tr>\n",
              "      <th>2</th>\n",
              "      <td>44009</td>\n",
              "      <td>0.000000</td>\n",
              "      <td>0.0</td>\n",
              "      <td>0.537207</td>\n",
              "      <td>0.0</td>\n",
              "      <td>0.0</td>\n",
              "      <td>0.0</td>\n",
              "      <td>0.000000</td>\n",
              "      <td>0.000000</td>\n",
              "      <td>0.0</td>\n",
              "      <td>0.0</td>\n",
              "    </tr>\n",
              "    <tr>\n",
              "      <th>3</th>\n",
              "      <td>43999</td>\n",
              "      <td>0.000000</td>\n",
              "      <td>0.0</td>\n",
              "      <td>0.000000</td>\n",
              "      <td>0.0</td>\n",
              "      <td>0.0</td>\n",
              "      <td>0.0</td>\n",
              "      <td>0.967816</td>\n",
              "      <td>0.000000</td>\n",
              "      <td>0.0</td>\n",
              "      <td>0.0</td>\n",
              "    </tr>\n",
              "    <tr>\n",
              "      <th>4</th>\n",
              "      <td>43998</td>\n",
              "      <td>0.000000</td>\n",
              "      <td>0.0</td>\n",
              "      <td>0.000000</td>\n",
              "      <td>0.0</td>\n",
              "      <td>0.0</td>\n",
              "      <td>0.0</td>\n",
              "      <td>0.000000</td>\n",
              "      <td>0.000000</td>\n",
              "      <td>0.0</td>\n",
              "      <td>0.0</td>\n",
              "    </tr>\n",
              "    <tr>\n",
              "      <th>5</th>\n",
              "      <td>44015</td>\n",
              "      <td>0.504219</td>\n",
              "      <td>0.0</td>\n",
              "      <td>0.000000</td>\n",
              "      <td>0.0</td>\n",
              "      <td>0.0</td>\n",
              "      <td>0.0</td>\n",
              "      <td>0.000000</td>\n",
              "      <td>0.492729</td>\n",
              "      <td>0.0</td>\n",
              "      <td>0.0</td>\n",
              "    </tr>\n",
              "    <tr>\n",
              "      <th>6</th>\n",
              "      <td>44010</td>\n",
              "      <td>0.000000</td>\n",
              "      <td>0.0</td>\n",
              "      <td>0.000000</td>\n",
              "      <td>0.0</td>\n",
              "      <td>0.0</td>\n",
              "      <td>0.0</td>\n",
              "      <td>0.000000</td>\n",
              "      <td>0.000000</td>\n",
              "      <td>0.0</td>\n",
              "      <td>0.0</td>\n",
              "    </tr>\n",
              "  </tbody>\n",
              "</table>\n",
              "</div>\n",
              "    <div class=\"colab-df-buttons\">\n",
              "\n",
              "  <div class=\"colab-df-container\">\n",
              "    <button class=\"colab-df-convert\" onclick=\"convertToInteractive('df-99e136a2-d0b5-4a8c-b402-d495b7631151')\"\n",
              "            title=\"Convert this dataframe to an interactive table.\"\n",
              "            style=\"display:none;\">\n",
              "\n",
              "  <svg xmlns=\"http://www.w3.org/2000/svg\" height=\"24px\" viewBox=\"0 -960 960 960\">\n",
              "    <path d=\"M120-120v-720h720v720H120Zm60-500h600v-160H180v160Zm220 220h160v-160H400v160Zm0 220h160v-160H400v160ZM180-400h160v-160H180v160Zm440 0h160v-160H620v160ZM180-180h160v-160H180v160Zm440 0h160v-160H620v160Z\"/>\n",
              "  </svg>\n",
              "    </button>\n",
              "\n",
              "  <style>\n",
              "    .colab-df-container {\n",
              "      display:flex;\n",
              "      gap: 12px;\n",
              "    }\n",
              "\n",
              "    .colab-df-convert {\n",
              "      background-color: #E8F0FE;\n",
              "      border: none;\n",
              "      border-radius: 50%;\n",
              "      cursor: pointer;\n",
              "      display: none;\n",
              "      fill: #1967D2;\n",
              "      height: 32px;\n",
              "      padding: 0 0 0 0;\n",
              "      width: 32px;\n",
              "    }\n",
              "\n",
              "    .colab-df-convert:hover {\n",
              "      background-color: #E2EBFA;\n",
              "      box-shadow: 0px 1px 2px rgba(60, 64, 67, 0.3), 0px 1px 3px 1px rgba(60, 64, 67, 0.15);\n",
              "      fill: #174EA6;\n",
              "    }\n",
              "\n",
              "    .colab-df-buttons div {\n",
              "      margin-bottom: 4px;\n",
              "    }\n",
              "\n",
              "    [theme=dark] .colab-df-convert {\n",
              "      background-color: #3B4455;\n",
              "      fill: #D2E3FC;\n",
              "    }\n",
              "\n",
              "    [theme=dark] .colab-df-convert:hover {\n",
              "      background-color: #434B5C;\n",
              "      box-shadow: 0px 1px 3px 1px rgba(0, 0, 0, 0.15);\n",
              "      filter: drop-shadow(0px 1px 2px rgba(0, 0, 0, 0.3));\n",
              "      fill: #FFFFFF;\n",
              "    }\n",
              "  </style>\n",
              "\n",
              "    <script>\n",
              "      const buttonEl =\n",
              "        document.querySelector('#df-99e136a2-d0b5-4a8c-b402-d495b7631151 button.colab-df-convert');\n",
              "      buttonEl.style.display =\n",
              "        google.colab.kernel.accessAllowed ? 'block' : 'none';\n",
              "\n",
              "      async function convertToInteractive(key) {\n",
              "        const element = document.querySelector('#df-99e136a2-d0b5-4a8c-b402-d495b7631151');\n",
              "        const dataTable =\n",
              "          await google.colab.kernel.invokeFunction('convertToInteractive',\n",
              "                                                    [key], {});\n",
              "        if (!dataTable) return;\n",
              "\n",
              "        const docLinkHtml = 'Like what you see? Visit the ' +\n",
              "          '<a target=\"_blank\" href=https://colab.research.google.com/notebooks/data_table.ipynb>data table notebook</a>'\n",
              "          + ' to learn more about interactive tables.';\n",
              "        element.innerHTML = '';\n",
              "        dataTable['output_type'] = 'display_data';\n",
              "        await google.colab.output.renderOutput(dataTable, element);\n",
              "        const docLink = document.createElement('div');\n",
              "        docLink.innerHTML = docLinkHtml;\n",
              "        element.appendChild(docLink);\n",
              "      }\n",
              "    </script>\n",
              "  </div>\n",
              "\n",
              "\n",
              "<div id=\"df-4f155f10-b5af-48cb-9093-e1aeec4dae68\">\n",
              "  <button class=\"colab-df-quickchart\" onclick=\"quickchart('df-4f155f10-b5af-48cb-9093-e1aeec4dae68')\"\n",
              "            title=\"Suggest charts\"\n",
              "            style=\"display:none;\">\n",
              "\n",
              "<svg xmlns=\"http://www.w3.org/2000/svg\" height=\"24px\"viewBox=\"0 0 24 24\"\n",
              "     width=\"24px\">\n",
              "    <g>\n",
              "        <path d=\"M19 3H5c-1.1 0-2 .9-2 2v14c0 1.1.9 2 2 2h14c1.1 0 2-.9 2-2V5c0-1.1-.9-2-2-2zM9 17H7v-7h2v7zm4 0h-2V7h2v10zm4 0h-2v-4h2v4z\"/>\n",
              "    </g>\n",
              "</svg>\n",
              "  </button>\n",
              "\n",
              "<style>\n",
              "  .colab-df-quickchart {\n",
              "      --bg-color: #E8F0FE;\n",
              "      --fill-color: #1967D2;\n",
              "      --hover-bg-color: #E2EBFA;\n",
              "      --hover-fill-color: #174EA6;\n",
              "      --disabled-fill-color: #AAA;\n",
              "      --disabled-bg-color: #DDD;\n",
              "  }\n",
              "\n",
              "  [theme=dark] .colab-df-quickchart {\n",
              "      --bg-color: #3B4455;\n",
              "      --fill-color: #D2E3FC;\n",
              "      --hover-bg-color: #434B5C;\n",
              "      --hover-fill-color: #FFFFFF;\n",
              "      --disabled-bg-color: #3B4455;\n",
              "      --disabled-fill-color: #666;\n",
              "  }\n",
              "\n",
              "  .colab-df-quickchart {\n",
              "    background-color: var(--bg-color);\n",
              "    border: none;\n",
              "    border-radius: 50%;\n",
              "    cursor: pointer;\n",
              "    display: none;\n",
              "    fill: var(--fill-color);\n",
              "    height: 32px;\n",
              "    padding: 0;\n",
              "    width: 32px;\n",
              "  }\n",
              "\n",
              "  .colab-df-quickchart:hover {\n",
              "    background-color: var(--hover-bg-color);\n",
              "    box-shadow: 0 1px 2px rgba(60, 64, 67, 0.3), 0 1px 3px 1px rgba(60, 64, 67, 0.15);\n",
              "    fill: var(--button-hover-fill-color);\n",
              "  }\n",
              "\n",
              "  .colab-df-quickchart-complete:disabled,\n",
              "  .colab-df-quickchart-complete:disabled:hover {\n",
              "    background-color: var(--disabled-bg-color);\n",
              "    fill: var(--disabled-fill-color);\n",
              "    box-shadow: none;\n",
              "  }\n",
              "\n",
              "  .colab-df-spinner {\n",
              "    border: 2px solid var(--fill-color);\n",
              "    border-color: transparent;\n",
              "    border-bottom-color: var(--fill-color);\n",
              "    animation:\n",
              "      spin 1s steps(1) infinite;\n",
              "  }\n",
              "\n",
              "  @keyframes spin {\n",
              "    0% {\n",
              "      border-color: transparent;\n",
              "      border-bottom-color: var(--fill-color);\n",
              "      border-left-color: var(--fill-color);\n",
              "    }\n",
              "    20% {\n",
              "      border-color: transparent;\n",
              "      border-left-color: var(--fill-color);\n",
              "      border-top-color: var(--fill-color);\n",
              "    }\n",
              "    30% {\n",
              "      border-color: transparent;\n",
              "      border-left-color: var(--fill-color);\n",
              "      border-top-color: var(--fill-color);\n",
              "      border-right-color: var(--fill-color);\n",
              "    }\n",
              "    40% {\n",
              "      border-color: transparent;\n",
              "      border-right-color: var(--fill-color);\n",
              "      border-top-color: var(--fill-color);\n",
              "    }\n",
              "    60% {\n",
              "      border-color: transparent;\n",
              "      border-right-color: var(--fill-color);\n",
              "    }\n",
              "    80% {\n",
              "      border-color: transparent;\n",
              "      border-right-color: var(--fill-color);\n",
              "      border-bottom-color: var(--fill-color);\n",
              "    }\n",
              "    90% {\n",
              "      border-color: transparent;\n",
              "      border-bottom-color: var(--fill-color);\n",
              "    }\n",
              "  }\n",
              "</style>\n",
              "\n",
              "  <script>\n",
              "    async function quickchart(key) {\n",
              "      const quickchartButtonEl =\n",
              "        document.querySelector('#' + key + ' button');\n",
              "      quickchartButtonEl.disabled = true;  // To prevent multiple clicks.\n",
              "      quickchartButtonEl.classList.add('colab-df-spinner');\n",
              "      try {\n",
              "        const charts = await google.colab.kernel.invokeFunction(\n",
              "            'suggestCharts', [key], {});\n",
              "      } catch (error) {\n",
              "        console.error('Error during call to suggestCharts:', error);\n",
              "      }\n",
              "      quickchartButtonEl.classList.remove('colab-df-spinner');\n",
              "      quickchartButtonEl.classList.add('colab-df-quickchart-complete');\n",
              "    }\n",
              "    (() => {\n",
              "      let quickchartButtonEl =\n",
              "        document.querySelector('#df-4f155f10-b5af-48cb-9093-e1aeec4dae68 button');\n",
              "      quickchartButtonEl.style.display =\n",
              "        google.colab.kernel.accessAllowed ? 'block' : 'none';\n",
              "    })();\n",
              "  </script>\n",
              "</div>\n",
              "    </div>\n",
              "  </div>\n"
            ],
            "application/vnd.google.colaboratory.intrinsic+json": {
              "type": "dataframe",
              "variable_name": "df_doc_vec",
              "summary": "{\n  \"name\": \"df_doc_vec\",\n  \"rows\": 4995,\n  \"fields\": [\n    {\n      \"column\": \"doc_id\",\n      \"properties\": {\n        \"dtype\": \"number\",\n        \"std\": 6,\n        \"min\": 43998,\n        \"max\": 44015,\n        \"num_unique_values\": 5,\n        \"samples\": [\n          44010,\n          43998,\n          44009\n        ],\n        \"semantic_type\": \"\",\n        \"description\": \"\"\n      }\n    },\n    {\n      \"column\": \"topic_1\",\n      \"properties\": {\n        \"dtype\": \"number\",\n        \"std\": 0.1980687356149204,\n        \"min\": 0.0,\n        \"max\": 0.5951550006866455,\n        \"num_unique_values\": 994,\n        \"samples\": [\n          0.5445892810821533,\n          0.5058275461196899,\n          0.5698479413986206\n        ],\n        \"semantic_type\": \"\",\n        \"description\": \"\"\n      }\n    },\n    {\n      \"column\": \"topic_8\",\n      \"properties\": {\n        \"dtype\": \"number\",\n        \"std\": 0.0,\n        \"min\": 0.0,\n        \"max\": 0.0,\n        \"num_unique_values\": 1,\n        \"samples\": [\n          0.0\n        ],\n        \"semantic_type\": \"\",\n        \"description\": \"\"\n      }\n    },\n    {\n      \"column\": \"topic_10\",\n      \"properties\": {\n        \"dtype\": \"number\",\n        \"std\": 0.20154423085615825,\n        \"min\": 0.0,\n        \"max\": 0.8405730128288269,\n        \"num_unique_values\": 999,\n        \"samples\": [\n          0.385662317276001\n        ],\n        \"semantic_type\": \"\",\n        \"description\": \"\"\n      }\n    },\n    {\n      \"column\": \"topic_7\",\n      \"properties\": {\n        \"dtype\": \"number\",\n        \"std\": 0.0,\n        \"min\": 0.0,\n        \"max\": 0.0,\n        \"num_unique_values\": 1,\n        \"samples\": [\n          0.0\n        ],\n        \"semantic_type\": \"\",\n        \"description\": \"\"\n      }\n    },\n    {\n      \"column\": \"topic_4\",\n      \"properties\": {\n        \"dtype\": \"number\",\n        \"std\": 0.0,\n        \"min\": 0.0,\n        \"max\": 0.0,\n        \"num_unique_values\": 1,\n        \"samples\": [\n          0.0\n        ],\n        \"semantic_type\": \"\",\n        \"description\": \"\"\n      }\n    },\n    {\n      \"column\": \"topic_2\",\n      \"properties\": {\n        \"dtype\": \"number\",\n        \"std\": 0.0,\n        \"min\": 0.0,\n        \"max\": 0.0,\n        \"num_unique_values\": 1,\n        \"samples\": [\n          0.0\n        ],\n        \"semantic_type\": \"\",\n        \"description\": \"\"\n      }\n    },\n    {\n      \"column\": \"topic_14\",\n      \"properties\": {\n        \"dtype\": \"number\",\n        \"std\": 0.38716513524803103,\n        \"min\": 0.0,\n        \"max\": 0.9678159952163696,\n        \"num_unique_values\": 3,\n        \"samples\": [\n          0.0\n        ],\n        \"semantic_type\": \"\",\n        \"description\": \"\"\n      }\n    },\n    {\n      \"column\": \"topic_11\",\n      \"properties\": {\n        \"dtype\": \"number\",\n        \"std\": 0.20167722066865487,\n        \"min\": 0.0,\n        \"max\": 0.6036067008972168,\n        \"num_unique_values\": 993,\n        \"samples\": [\n          0.4523590505123138\n        ],\n        \"semantic_type\": \"\",\n        \"description\": \"\"\n      }\n    },\n    {\n      \"column\": \"topic_3\",\n      \"properties\": {\n        \"dtype\": \"number\",\n        \"std\": 0.0,\n        \"min\": 0.0,\n        \"max\": 0.0,\n        \"num_unique_values\": 1,\n        \"samples\": [\n          0.0\n        ],\n        \"semantic_type\": \"\",\n        \"description\": \"\"\n      }\n    },\n    {\n      \"column\": \"topic_0\",\n      \"properties\": {\n        \"dtype\": \"number\",\n        \"std\": 0.0,\n        \"min\": 0.0,\n        \"max\": 0.0,\n        \"num_unique_values\": 1,\n        \"samples\": [\n          0.0\n        ],\n        \"semantic_type\": \"\",\n        \"description\": \"\"\n      }\n    }\n  ]\n}"
            }
          },
          "metadata": {},
          "execution_count": 59
        }
      ]
    },
    {
      "cell_type": "markdown",
      "source": [
        "## 11 Visualisation of results"
      ],
      "metadata": {
        "id": "fA-XUq3KFtYE"
      }
    },
    {
      "cell_type": "code",
      "source": [
        "!pip install pyLDAvis"
      ],
      "metadata": {
        "colab": {
          "base_uri": "https://localhost:8080/"
        },
        "id": "GofPzERlMG7k",
        "outputId": "a3f5199d-ea8b-4b8f-aeb3-fb958e80d01c"
      },
      "execution_count": null,
      "outputs": [
        {
          "output_type": "stream",
          "name": "stdout",
          "text": [
            "Collecting pyLDAvis\n",
            "  Downloading pyLDAvis-3.4.1-py3-none-any.whl (2.6 MB)\n",
            "\u001b[2K     \u001b[90m━━━━━━━━━━━━━━━━━━━━━━━━━━━━━━━━━━━━━━━━\u001b[0m \u001b[32m2.6/2.6 MB\u001b[0m \u001b[31m11.2 MB/s\u001b[0m eta \u001b[36m0:00:00\u001b[0m\n",
            "\u001b[?25hRequirement already satisfied: numpy>=1.24.2 in /usr/local/lib/python3.10/dist-packages (from pyLDAvis) (1.25.2)\n",
            "Requirement already satisfied: scipy in /usr/local/lib/python3.10/dist-packages (from pyLDAvis) (1.11.4)\n",
            "Requirement already satisfied: pandas>=2.0.0 in /usr/local/lib/python3.10/dist-packages (from pyLDAvis) (2.0.3)\n",
            "Requirement already satisfied: joblib>=1.2.0 in /usr/local/lib/python3.10/dist-packages (from pyLDAvis) (1.4.0)\n",
            "Requirement already satisfied: jinja2 in /usr/local/lib/python3.10/dist-packages (from pyLDAvis) (3.1.3)\n",
            "Requirement already satisfied: numexpr in /usr/local/lib/python3.10/dist-packages (from pyLDAvis) (2.10.0)\n",
            "Collecting funcy (from pyLDAvis)\n",
            "  Downloading funcy-2.0-py2.py3-none-any.whl (30 kB)\n",
            "Requirement already satisfied: scikit-learn>=1.0.0 in /usr/local/lib/python3.10/dist-packages (from pyLDAvis) (1.2.2)\n",
            "Requirement already satisfied: gensim in /usr/local/lib/python3.10/dist-packages (from pyLDAvis) (4.3.2)\n",
            "Requirement already satisfied: setuptools in /usr/local/lib/python3.10/dist-packages (from pyLDAvis) (67.7.2)\n",
            "Requirement already satisfied: python-dateutil>=2.8.2 in /usr/local/lib/python3.10/dist-packages (from pandas>=2.0.0->pyLDAvis) (2.8.2)\n",
            "Requirement already satisfied: pytz>=2020.1 in /usr/local/lib/python3.10/dist-packages (from pandas>=2.0.0->pyLDAvis) (2023.4)\n",
            "Requirement already satisfied: tzdata>=2022.1 in /usr/local/lib/python3.10/dist-packages (from pandas>=2.0.0->pyLDAvis) (2024.1)\n",
            "Requirement already satisfied: threadpoolctl>=2.0.0 in /usr/local/lib/python3.10/dist-packages (from scikit-learn>=1.0.0->pyLDAvis) (3.4.0)\n",
            "Requirement already satisfied: smart-open>=1.8.1 in /usr/local/lib/python3.10/dist-packages (from gensim->pyLDAvis) (6.4.0)\n",
            "Requirement already satisfied: MarkupSafe>=2.0 in /usr/local/lib/python3.10/dist-packages (from jinja2->pyLDAvis) (2.1.5)\n",
            "Requirement already satisfied: six>=1.5 in /usr/local/lib/python3.10/dist-packages (from python-dateutil>=2.8.2->pandas>=2.0.0->pyLDAvis) (1.16.0)\n",
            "Installing collected packages: funcy, pyLDAvis\n",
            "Successfully installed funcy-2.0 pyLDAvis-3.4.1\n"
          ]
        }
      ]
    },
    {
      "cell_type": "code",
      "source": [
        "import pyLDAvis\n",
        "import pyLDAvis.gensim as gensimvis"
      ],
      "metadata": {
        "id": "PephxOFlMQCA"
      },
      "execution_count": null,
      "outputs": []
    },
    {
      "cell_type": "code",
      "source": [
        "vis_data = gensimvis.prepare(lda, common_corpus, common_dictionary, mds='mmds')\n",
        "pyLDAvis.display(vis_data)"
      ],
      "metadata": {
        "colab": {
          "base_uri": "https://localhost:8080/",
          "height": 952
        },
        "id": "7Z5Cx2IQulpB",
        "outputId": "b5084d55-aea2-4533-db9f-52962218c510"
      },
      "execution_count": null,
      "outputs": [
        {
          "output_type": "stream",
          "name": "stderr",
          "text": [
            "/usr/local/lib/python3.10/dist-packages/ipykernel/ipkernel.py:283: DeprecationWarning: `should_run_async` will not call `transform_cell` automatically in the future. Please pass the result to `transformed_cell` argument and any exception that happen during thetransform in `preprocessing_exc_tuple` in IPython 7.17 and above.\n",
            "  and should_run_async(code)\n",
            "/usr/local/lib/python3.10/dist-packages/sklearn/manifold/_mds.py:299: FutureWarning: The default value of `normalized_stress` will change to `'auto'` in version 1.4. To suppress this warning, manually set the value of `normalized_stress`.\n",
            "  warnings.warn(\n"
          ]
        },
        {
          "output_type": "execute_result",
          "data": {
            "text/plain": [
              "<IPython.core.display.HTML object>"
            ],
            "text/html": [
              "\n",
              "<link rel=\"stylesheet\" type=\"text/css\" href=\"https://cdn.jsdelivr.net/gh/bmabey/pyLDAvis@3.4.0/pyLDAvis/js/ldavis.v1.0.0.css\">\n",
              "\n",
              "\n",
              "<div id=\"ldavis_el2291382876779648007588726099\" style=\"background-color:white;\"></div>\n",
              "<script type=\"text/javascript\">\n",
              "\n",
              "var ldavis_el2291382876779648007588726099_data = {\"mdsDat\": {\"x\": [0.16922144732130862, -0.23974461137205197, -0.24232239974132486, -0.12297558218343357, 0.2778259087747844, 0.4974067356904349, -0.037712640410939496, -0.037712226102777115, -0.03771243143418508, -0.037713825270718274, -0.037711955972599395, -0.03771148526544508, -0.03771215659763906, -0.03771221513075263, -0.03771256230466159], \"y\": [0.25340685783048794, -0.17359934012257155, -0.17107266797922258, 0.4703224550839809, -0.38530977704287367, 0.02871863832987981, -0.0024968070270359032, -0.0024963552735925666, -0.0024965460156646598, -0.0024970688605091755, -0.0024951198193013937, -0.0024950337890375478, -0.00249635281840955, -0.0024964925434540646, -0.002496389952676109], \"topics\": [1, 2, 3, 4, 5, 6, 7, 8, 9, 10, 11, 12, 13, 14, 15], \"cluster\": [1, 1, 1, 1, 1, 1, 1, 1, 1, 1, 1, 1, 1, 1, 1], \"Freq\": [32.33881384755848, 19.658481535789978, 19.642832742437257, 10.25484245257827, 9.658315970352623, 7.571036766836045, 0.09729740938303796, 0.09729740938303796, 0.09729740938303796, 0.09729740938303796, 0.09729740938303796, 0.09729740938303796, 0.09729740938303796, 0.09729740938303796, 0.09729740938303796]}, \"tinfo\": {\"Term\": [\"\\u0434\\u043e\\u0441\\u0442\\u0430\\u0432\\u043a\\u0430\", \"\\u0437\\u0430\\u043a\\u0430\\u0437\", \"\\u0441\\u043c\\u0430\\u0440\\u0442\\u0444\\u043e\\u043d\", \"\\u0432\\u043e\\u0437\\u0432\\u0440\\u0430\\u0442\", \"\\u043d\\u0430\\u043b\\u0438\\u0447\\u0438\\u0435\", \"\\u0442\\u043e\\u0432\\u0430\\u0440\", \"\\u043f\\u0440\\u043e\\u0434\\u0430\\u0432\\u0435\\u0446\", \"\\u0440\\u0435\\u043c\\u043e\\u043d\\u0442\", \"\\u0446\\u0435\\u043d\\u0430\", \"\\u0440\\u0443\\u0431\", \"\\u043a\\u043e\\u0440\\u044c\", \"\\u0440\\u044e\\u043a\\u0437\\u0430\\u043a\", \"\\u043c\\u0430\\u0433\\u0430\\u0437\\u0438\\u043d\", \"\\u043e\\u0431\\u0440\\u0430\\u0449\\u0435\\u043d\\u0438\\u0435\", \"\\u044f\", \"\\u0440\\u0430\\u0437\\u043d\\u0438\\u0446\\u0430\", \"\\u043a\\u043e\\u043c\\u043f\\u0435\\u043d\\u0441\\u0430\\u0446\\u0438\\u044f\", \"\\u0441\\u0435\\u0440\\u0432\\u0438\\u0441\", \"\\u043c\\u043e\\u0439\", \"\\u043d\\u043e\\u043c\\u0435\\u0440\", \"\\u0441\\u0441\\u044b\\u043b\\u043a\\u0430\", \"\\u0441\\u0430\\u0439\\u0442\", \"\\u044d\\u043b\\u0435\\u043a\\u0442\\u0440\\u043e\\u043d\\u043d\\u044b\\u0439\\u0430\\u0434\\u0440\\u0435\\u0441\\u0441\", \"lamoda\", \"\\u043a\\u0440\\u043e\\u0441\\u0441\\u043e\\u0432\\u043e\\u043a\", \"\\u0441\\u0435\\u0440\\u0442\\u0438\\u0444\\u0438\\u043a\\u0430\\u0442\", \"\\u043c\\u043e\\u043c\\u0435\\u043d\\u0442\", \"\\u043f\\u0440\\u0438\\u0432\\u0438\\u0442\\u044c\", \"\\u043f\\u043e\\u0434\\u0430\\u0440\\u043e\\u0447\\u043d\\u044b\\u0439\", \"\\u0434\\u0443\\u0445\", \"\\u043d\\u0430\\u043b\\u0438\\u0447\\u0438\\u0435\", \"\\u0440\\u0443\\u0431\", \"\\u0446\\u0435\\u043d\\u0430\", \"\\u043a\\u0440\\u043e\\u0441\\u0441\\u043e\\u0432\\u043e\\u043a\", \"lamoda\", \"\\u044d\\u043b\\u0435\\u043a\\u0442\\u0440\\u043e\\u043d\\u043d\\u044b\\u0439\\u0430\\u0434\\u0440\\u0435\\u0441\\u0441\", \"\\u0441\\u0430\\u0439\\u0442\", \"\\u0441\\u0441\\u044b\\u043b\\u043a\\u0430\", \"\\u043d\\u043e\\u043c\\u0435\\u0440\", \"\\u043f\\u043e\\u0441\\u043b\\u0435\\u0434\\u043e\\u0432\\u0430\\u0442\\u044c\", \"\\u043f\\u0440\\u0438\\u043b\\u0430\\u0433\\u0430\\u0442\\u044c\", \"\\u043f\\u0440\\u0430\\u0432\\u043e\", \"\\u043f\\u043e\\u0442\\u0440\\u0435\\u0431\\u0438\\u0442\\u0435\\u043b\\u044c\", \"\\u043d\\u0435\\u043a\\u043e\\u0440\\u0440\\u0435\\u043a\\u0442\\u043d\\u043e\", \"\\u0440\\u0444\", \"\\u0440\\u0430\\u0437\\u043b\\u0438\\u0447\\u043d\\u044b\\u0439\", \"\\u043f\\u0440\\u0438\\u043e\\u0431\\u0440\\u0435\\u0441\\u0442\\u0438\", \"\\u043f\\u0440\\u0438\\u0439\\u0442\\u0438\", \"\\u043f\\u043e\\u044f\\u0432\\u0438\\u0442\\u044c\\u0441\\u044f\", \"\\u0433\\u043e\\u0440\\u044f\\u0447\\u0438\\u0439\", \"\\u043a\\u043e\\u043b\\u0438\\u0447\\u0435\\u0441\\u0442\\u0432\\u043e\", \"\\u0444\\u0438\\u0440\\u043c\\u0430\", \"\\u044f\\u043d\\u0432\\u0430\\u0440\\u044c\", \"\\u0437\\u0430\\u0449\\u0438\\u0442\\u0430\", \"\\u043e\\u0431\\u044a\\u044f\\u0441\\u043d\\u044f\\u0442\\u044c\", \"\\u0434\\u0441\", \"\\u0437\\u043d\\u0430\\u0447\\u0438\\u0442\\u0435\\u043b\\u044c\\u043d\\u043e\", \"\\u0430\\u0440\\u0442\\u0438\\u043a\\u0443\\u043b\", \"\\u0444\\u0437\", \"\\u0441\\u0443\\u043c\\u043c\\u0430\", \"\\u0442\\u043e\\u0432\\u0430\\u0440\", \"\\u043e\\u0431\\u0440\\u0430\\u0449\\u0435\\u043d\\u0438\\u0435\", \"\\u044f\", \"\\u043a\\u043e\\u043c\\u043f\\u0435\\u043d\\u0441\\u0430\\u0446\\u0438\\u044f\", \"\\u0440\\u0430\\u0437\\u043d\\u0438\\u0446\\u0430\", \"\\u0432\\u043e\\u0437\\u0432\\u0440\\u0430\\u0442\", \"\\u043c\\u0430\\u0433\\u0430\\u0437\\u0438\\u043d\", \"\\u0437\\u0430\\u043a\\u0430\\u0437\", \"\\u043e\\u0442\\u0432\\u0435\\u0442\", \"\\u0441\\u0441\\u044b\\u043b\\u0430\\u0442\\u044c\\u0441\\u044f\", \"\\u0433\\u043e\\u0434\", \"\\u043c\\u043e\\u043c\\u0435\\u043d\\u0442\", \"\\u0434\\u0435\\u043d\\u044c\", \"n\\u00ba\", \"ru\", \"zzi\", \"\\u0430\\u043a\\u0442\\u0443\\u0430\\u043b\\u044c\\u043d\\u044b\\u0439\", \"\\u043e\\u0442\\u043f\\u0440\\u0430\\u0432\\u0438\\u0442\\u044c\", \"\\u0437\\u0430\\u043c\\u0435\\u043d\\u0438\\u0442\\u044c\", \"\\u043a\\u0430\\u043a\\u043e\\u0439\", \"\\u0437\\u0435\\u043b\\u0451\\u043d\\u044b\\u0439\", \"\\u0441\\u043e\\u0441\\u0442\\u043e\\u044f\\u043d\\u0438\\u0435\", \"\\u0441\\u043b\\u043e\\u043c\\u0430\\u0442\\u044c\", \"\\u043a\\u043e\\u0442\\u043e\\u0440\\u044b\\u0439\", \"\\u044d\\u043a\\u0441\\u043f\\u0435\\u0440\\u0442\\u0438\\u0437\\u0430\", \"\\u0432\\u0435\\u0441\\u044c\", \"\\u043f\\u0440\\u0435\\u0434\\u043b\\u043e\\u0436\\u0438\\u0442\\u044c\", \"\\u0441\\u0442\\u0440\\u0430\\u043d\\u0438\\u0446\\u0430\", \"\\u0432\\u043e\\u0437\\u043c\\u0435\\u0449\\u0435\\u043d\\u0438\\u0435\", \"\\u044d\\u0442\\u043e\\u0442\", \"\\u043f\\u043e\\u043a\\u0430\\u0437\\u044b\\u0432\\u0430\\u0442\\u044c\", \"\\u043c\\u0430\\u0440\\u043a\\u0435\\u0442\\u043f\\u043b\\u0435\\u0439\\u0441\", \"\\u043f\\u0440\\u043e\\u0434\\u0430\\u0432\\u0435\\u0446\", \"\\u043d\\u0430\\u0447\\u0430\\u0442\\u044c\", \"\\u0443\\u0446\\u0435\\u043d\\u043a\\u0430\", \"\\u0442\\u0443\\u0434\\u0430\\u0441\\u044e\\u0434\\u0430\", \"\\u043e\\u0442\\u043f\\u0440\\u0430\\u0432\\u043a\\u0430\", \"\\u0440\\u0430\\u0441\\u0445\\u043e\\u0434\", \"\\u043a\\u0430\\u0447\\u0435\\u0441\\u0442\\u0432\\u043e\", \"\\u0438\\u043f\", \"\\u0434\\u043e\\u0432\\u0435\\u0440\\u044f\\u0442\\u044c\", \"\\u044f\\u043d\\u0434\\u0435\\u043a\\u0441\", \"\\u0442\\u043a\", \"\\u0438\\u043d\\u0442\\u0435\\u0440\\u0435\\u0441\\u043e\\u0432\\u0430\\u0442\\u044c\", \"\\u043c\\u043e\\u0440\\u0433\\u0430\\u0442\\u044c\", \"\\u0432\\u043e\\u0441\\u0441\\u0442\\u0430\\u043d\\u043e\\u0432\\u0438\\u0442\\u044c\", \"\\u0442\\u044b\\u0441\\u044f\\u0447\\u0430\", \"\\u0441\\u0435\\u0440\\u0432\\u0438\\u0441\", \"\\u043c\\u043e\\u0439\", \"\\u0440\\u0435\\u043c\\u043e\\u043d\\u0442\", \"\\u0441\\u043c\\u0430\\u0440\\u0442\\u0444\\u043e\\u043d\", \"\\u043c\\u0430\\u0440\\u043a\\u0435\\u0442\", \"\\u0441\\u0442\\u043e\\u0438\\u043c\\u043e\\u0441\\u0442\\u044c\", \"\\u0438\\u0434\\u0435\\u0430\\u043b\\u044c\\u043d\\u044b\\u0439\", \"\\u043b\\u0438\\u0431\\u043e\", \"\\u0442\\u0435\\u043b\\u0435\\u0444\\u043e\\u043d\", \"\\u0442\\u043e\\u0432\\u0430\\u0440\", \"\\u0432\\u043e\\u0437\\u0432\\u0440\\u0430\\u0442\", \"\\u0442\\u0435\\u043b\\u0435\\u0444\\u043e\\u043d\", \"\\u0434\\u043e\\u0433\\u043e\\u0432\\u043e\\u0440\", \"\\u043f\\u044b\\u0442\\u0430\\u0442\\u044c\\u0441\\u044f\", \"\\u0433\\u043e\\u0440\\u043e\\u0434\", \"\\u0434\\u0438\\u0441\\u043f\\u043b\\u0435\\u0439\", \"\\u043f\\u0440\\u0435\\u0434\\u043b\\u0430\\u0433\\u0430\\u0442\\u044c\", \"\\u043e\\u0441\\u0442\\u0430\\u0442\\u044c\\u0441\\u044f\", \"\\u0443\\u0441\\u0442\\u0440\\u0430\\u0438\\u0432\\u0430\\u0442\\u044c\", \"\\u043f\\u043e\\u0442\\u0435\\u0440\\u044f\\u0442\\u044c\", \"\\u0441\\u0432\\u043e\\u0439\", \"\\u0441\\u043f\\u0443\\u0441\\u0442\\u044f\", \"\\u0443\\u043a\\u0430\\u0437\\u0430\\u043d\\u0438\\u0435\", \"\\u0440\\u0430\\u0441\\u0442\\u043e\\u0440\\u0436\\u0435\\u043d\\u0438\\u0435\", \"\\u043b\\u0438\\u0431\\u043e\", \"\\u0441\\u043c\\u0430\\u0440\\u0442\\u0444\\u043e\\u043d\", \"\\u0438\\u0434\\u0435\\u0430\\u043b\\u044c\\u043d\\u044b\\u0439\", \"\\u043f\\u0440\\u043e\\u0441\\u0442\\u043e\", \"\\u043f\\u0440\\u043e\\u0445\\u043e\\u0434\\u0438\\u0442\\u044c\", \"\\u044d\\u043a\\u0440\\u0430\\u043d\", \"\\u0441\\u0442\\u043e\\u0438\\u043c\\u043e\\u0441\\u0442\\u044c\", \"\\u043f\\u0440\\u043e\\u0441\\u044c\\u0431\\u0430\", \"\\u043c\\u043e\\u043b\\u0447\\u0430\\u0442\\u044c\", \"\\u0437\\u0430\\u043c\\u0435\\u043d\\u0430\", \"\\u0433\\u0430\\u0440\\u0430\\u043d\\u0442\\u0438\\u044f\", \"\\u0440\\u0435\\u0448\\u0430\\u0442\\u044c\", \"\\u0441\\u0438\\u043b\\u0430\", \"\\u043c\\u0441\\u043a\", \"\\u043f\\u043e\\u043b\\u044c\\u0437\\u043e\\u0432\\u0430\\u0442\\u044c\\u0441\\u044f\", \"\\u0440\\u0435\\u043c\\u043e\\u043d\\u0442\", \"\\u043f\\u043e\\u043b\\u0443\\u0447\\u0435\\u043d\\u0438\\u0435\", \"\\u043c\\u0430\\u0440\\u043a\\u0435\\u0442\", \"\\u043c\\u043e\\u0439\", \"\\u0441\\u0435\\u0440\\u0432\\u0438\\u0441\", \"\\u043f\\u0440\\u043e\\u0434\\u0430\\u0432\\u0435\\u0446\", \"\\u0442\\u044b\\u0441\\u044f\\u0447\\u0430\", \"\\u044f\\u043d\\u0434\\u0435\\u043a\\u0441\", \"\\u0438\\u043f\", \"\\u0443\\u0446\\u0435\\u043d\\u043a\\u0430\", \"\\u043c\\u0430\\u0440\\u043a\\u0435\\u0442\\u043f\\u043b\\u0435\\u0439\\u0441\", \"\\u043e\\u0442\\u043f\\u0440\\u0430\\u0432\\u0438\\u0442\\u044c\", \"\\u044d\\u0442\\u043e\", \"\\u0442\\u043e\\u0432\\u0430\\u0440\", \"\\u0434\\u043e\\u0441\\u0442\\u0430\\u0432\\u043a\\u0430\", \"\\u0432\\u0440\\u0435\\u043c\\u044f\", \"\\u0440\\u044e\\u043a\\u0437\\u0430\\u043a\", \"\\u043f\\u043e\\u0434\\u0430\\u0440\\u043e\\u0447\\u043d\\u044b\\u0439\", \"\\u0434\\u0443\\u0445\", \"\\u0447\\u0438\\u0441\\u043b\\u043e\", \"\\u0430\\u0434\\u043c\\u0438\\u043d\\u0438\\u0441\\u0442\\u0440\\u0430\\u0442\\u043e\\u0440\", \"\\u043f\\u043e\\u0434\\u043e\\u0439\\u0442\\u0438\", \"\\u0437\\u043e\\u043d\\u0442\", \"\\u043f\\u043e\\u0441\\u0442\\u0443\\u043f\\u0438\\u0442\\u044c\", \"\\u0432\\u0435\\u0440\\u043d\\u0443\\u0442\\u044c\", \"\\u043f\\u0440\\u0430\\u0432\\u043e\\u043c\\u0435\\u0440\\u043d\\u043e\", \"\\u0437\\u0434\\u0440\\u0430\\u0432\\u0441\\u0442\\u0432\\u0443\\u0439\\u0442\\u0435\", \"\\u0446\\u0432\\u0435\\u0442\", \"\\u043e\\u0431\\u0440\\u0430\\u0442\\u043d\\u043e\", \"\\u043e\\u0442\\u043a\\u0430\\u0437\\u0430\\u0442\\u044c\", \"\\u0447\\u0435\\u043a\", \"\\u0437\\u0430\\u044f\\u0432\\u043b\\u0435\\u043d\\u0438\\u0435\", \"\\u043b\\u0435\\u0442\\u0443\\u0430\\u043b\\u044f\", \"\\u0441\\u0435\\u0440\\u0442\\u0438\\u0444\\u0438\\u043a\\u0430\\u0442\", \"\\u043d\\u0430\\u043f\\u0438\\u0441\\u0430\\u0442\\u044c\", \"\\u0441\\u0434\\u0435\\u043b\\u0430\\u0442\\u044c\", \"\\u0441\\u0441\\u044b\\u043b\\u0430\\u0442\\u044c\\u0441\\u044f\", \"\\u0445\\u043e\\u0442\\u0435\\u0442\\u044c\", \"\\u043a\\u0443\\u043f\\u0438\\u0442\\u044c\", \"\\u0443\\u043a\\u0430\\u0437\\u0430\\u0442\\u044c\", \"\\u0432\\u043e\\u0437\\u0432\\u0440\\u0430\\u0442\", \"\\u044f\", \"\\u043c\\u0430\\u0433\\u0430\\u0437\\u0438\\u043d\", \"\\u0442\\u043e\\u0432\\u0430\\u0440\", \"\\u043f\\u0440\\u0438\\u043d\\u0438\\u043c\\u0430\\u0442\\u044c\", \"\\u0441\\u0440\\u0430\\u0437\\u0443\", \"\\u043d\\u0430\\u043b\\u0438\\u0447\\u0438\\u0435\", \"\\u0440\\u0443\\u0431\", \"\\u043a\\u043e\\u0440\\u044c\", \"\\u043f\\u0440\\u0438\\u0432\\u0438\\u0442\\u044c\", \"\\u043f\\u043e\\u0432\\u0442\\u043e\\u0440\\u043d\\u043e\\u043d\", \"\\u043f\\u0440\\u044f\\u043c\\u043e\\u0439\", \"\\u0431\\u044b\\u043b\\u043e\\u043a\\u0430\\u043a\", \"\\u0438\\u043d\\u0444\\u0438\\u0446\\u0438\\u0440\\u043e\\u0432\\u0430\\u0442\\u044c\", \"\\u0442\\u043e\\u0442\", \"\\u043f\\u0440\\u0438\\u0432\\u0438\\u0432\\u043a\\u0443\\u0445\\u043e\\u0442\\u044f\", \"\\u0434\\u0435\\u0442\\u0441\\u0442\\u0432\\u043e\", \"\\u0432\\u0430\\u043a\\u0446\\u0438\\u043d\\u0438\\u0440\\u043e\\u0432\\u0430\\u0442\\u044c\\u0441\\u044f\", \"\\u0441\\u043a\\u043e\\u043b\\u044c\\u043a\\u043e\", \"\\u043e\\u0431\\u043d\\u0430\\u0440\\u0443\\u0436\\u0435\\u043d\\u043e\\u0437\\u0430\\u0441\\u0442\\u0430\\u0432\\u043b\\u044f\\u0442\\u044c\", \"\\u0430\\u043d\\u0442\\u0438\\u0442\\u0435\\u043b\\u043e\", \"\\u0440\\u0435\\u0432\\u0430\\u043a\\u0446\\u0438\\u043d\\u0438\\u0440\\u043e\\u0432\\u0430\\u0442\\u044c\", \"\\u043c\\u0435\\u0434\\u0441\\u0435\\u0441\\u0442\\u0440\\u0430\", \"\\u043f\\u043e\\u043a\\u0430\", \"\\u0430\\u043d\\u0442\\u0438\\u0442\\u0435\\u043b\\u0430\\u0440\\u0430\\u0431\\u043e\\u0442\\u0430\\u0442\\u044c\", \"\\u0434\\u0430\\u043d\\u043d\\u044b\\u0439\", \"\\u0441\\u043a\\u0430\\u0436\\u0438\\u0442\\u0435\\u043f\\u043e\\u0436\\u0430\\u043b\\u0443\\u0439\\u0441\\u0442\\u0430\\u043f\\u0440\\u0430\\u0432\\u043e\\u043c\\u0435\\u0440\\u043d\\u044b\\u0439\", \"\\u0437\\u0434\\u0440\\u0430\\u0432\\u0441\\u0442\\u0432\\u0443\\u0439\\u0442\\u0435\\u043c\\u0435\\u043d\\u044c\", \"\\u043f\\u043e\\u0440\\u0430\", \"\\u0441\\u043a\\u0430\\u0437\\u0430\\u0442\\u044c\", \"\\u043f\\u0440\\u0438\\u0432\\u0438\\u0432\\u0430\\u0442\\u044c\\u0441\\u044f\", \"\\u043a\\u043e\\u043d\\u0442\\u0430\\u043a\\u0442\", \"\\u043f\\u043e\\u044f\\u0432\\u044f\\u0442\\u044c\\u0441\\u044f\", \"\\u0433\", \"\\u0433\\u043e\\u0434\", \"\\u044d\\u0442\\u043e\", \"\\u0434\\u0435\\u043b\\u0430\\u0442\\u044c\", \"\\u043c\\u043e\\u043c\\u0435\\u043d\\u0442\", \"\\u043e\\u043f\\u0435\\u0440\\u0430\\u0442\\u043e\\u0440\", \"\\u043e\\u0431\\u0435\\u0449\\u0430\\u0442\\u044c\", \"\\u0434\\u0438\\u043a\\u0441\\u0438\", \"\\u0441\\u043f\\u0438\\u0441\\u0430\\u0442\\u044c\", \"\\u043e\\u043f\\u043b\\u0430\\u0442\\u0430\", \"\\u043f\\u0440\\u043e\\u0434\\u0443\\u043a\\u0442\", \"\\u0434\\u043e\\u0441\\u0442\\u0430\\u0432\\u0438\\u0442\\u044c\", \"\\u043f\\u0440\\u0438\\u043d\\u0438\\u043c\\u0430\\u0442\\u044c\", \"\\u0441\\u0440\\u0430\\u0437\\u0443\", \"\\u043f\\u043e\\u0447\\u0435\\u043c\\u0443\", \"\\u0436\\u0434\\u0430\\u0442\\u044c\", \"\\u0437\\u0430\\u043a\\u0430\\u0437\\u0430\\u0442\\u044c\", \"\\u0434\\u043e\\u0441\\u0442\\u0430\\u0432\\u043a\\u0430\", \"\\u0437\\u0430\\u043a\\u0430\\u0437\", \"\\u0433\", \"\\u043d\\u0430\\u043f\\u0438\\u0441\\u0430\\u0442\\u044c\", \"\\u043e\\u0442\\u0432\\u0435\\u0442\", \"\\u043c\\u043e\\u0447\\u044c\", \"\\u043f\\u0440\\u043e\\u0431\\u043b\\u0435\\u043c\\u0430\", \"\\u043e\\u0431\\u0440\\u0430\\u0449\\u0435\\u043d\\u0438\\u0435\", \"\\u043c\\u0430\\u0433\\u0430\\u0437\\u0438\\u043d\", \"\\u043f\\u043e\\u044f\\u0432\\u044f\\u0442\\u044c\\u0441\\u044f\", \"\\u043a\\u043e\\u043d\\u0442\\u0430\\u043a\\u0442\", \"\\u0441\\u043a\\u0430\\u0437\\u0430\\u0442\\u044c\", \"\\u0437\\u0434\\u0440\\u0430\\u0432\\u0441\\u0442\\u0432\\u0443\\u0439\\u0442\\u0435\\u043c\\u0435\\u043d\\u044c\", \"\\u043c\\u0435\\u0434\\u0441\\u0435\\u0441\\u0442\\u0440\\u0430\", \"\\u043f\\u0440\\u0438\\u0432\\u0438\\u0432\\u0430\\u0442\\u044c\\u0441\\u044f\", \"\\u043f\\u043e\\u0440\\u0430\", \"\\u0441\\u043a\\u0430\\u0436\\u0438\\u0442\\u0435\\u043f\\u043e\\u0436\\u0430\\u043b\\u0443\\u0439\\u0441\\u0442\\u0430\\u043f\\u0440\\u0430\\u0432\\u043e\\u043c\\u0435\\u0440\\u043d\\u044b\\u0439\", \"\\u0434\\u0430\\u043d\\u043d\\u044b\\u0439\", \"\\u043a\\u043e\\u0440\\u044c\", \"\\u043f\\u0440\\u0438\\u0432\\u0438\\u0442\\u044c\", \"\\u0434\\u0435\\u043b\\u0430\\u0442\\u044c\", \"\\u044d\\u0442\\u043e\", \"\\u0433\\u043e\\u0434\", \"\\u043c\\u043e\\u043c\\u0435\\u043d\\u0442\", \"\\u043f\\u0440\\u0438\\u043d\\u0438\\u043c\\u0430\\u0442\\u044c\", \"\\u0441\\u0440\\u0430\\u0437\\u0443\", \"\\u043f\\u043e\\u0447\\u0435\\u043c\\u0443\", \"\\u0436\\u0434\\u0430\\u0442\\u044c\", \"\\u0437\\u0430\\u043a\\u0430\\u0437\\u0430\\u0442\\u044c\", \"\\u043e\\u043f\\u0435\\u0440\\u0430\\u0442\\u043e\\u0440\", \"\\u043e\\u0431\\u0435\\u0449\\u0430\\u0442\\u044c\", \"\\u0434\\u0438\\u043a\\u0441\\u0438\", \"\\u0441\\u043f\\u0438\\u0441\\u0430\\u0442\\u044c\", \"\\u043e\\u043f\\u043b\\u0430\\u0442\\u0430\", \"\\u043f\\u0440\\u043e\\u0434\\u0443\\u043a\\u0442\", \"\\u0434\\u043e\\u0441\\u0442\\u0430\\u0432\\u0438\\u0442\\u044c\", \"\\u043f\\u043e\\u044f\\u0432\\u044f\\u0442\\u044c\\u0441\\u044f\", \"\\u043f\\u043e\\u0432\\u0442\\u043e\\u0440\\u043d\\u043e\\u043d\", \"\\u043f\\u0440\\u044f\\u043c\\u043e\\u0439\", \"\\u0431\\u044b\\u043b\\u043e\\u043a\\u0430\\u043a\", \"\\u0438\\u043d\\u0444\\u0438\\u0446\\u0438\\u0440\\u043e\\u0432\\u0430\\u0442\\u044c\", \"\\u0442\\u043e\\u0442\", \"\\u043f\\u0440\\u0438\\u0432\\u0438\\u0432\\u043a\\u0443\\u0445\\u043e\\u0442\\u044f\", \"\\u0434\\u0435\\u0442\\u0441\\u0442\\u0432\\u043e\", \"\\u0432\\u0430\\u043a\\u0446\\u0438\\u043d\\u0438\\u0440\\u043e\\u0432\\u0430\\u0442\\u044c\\u0441\\u044f\", \"\\u0441\\u043a\\u043e\\u043b\\u044c\\u043a\\u043e\", \"\\u043e\\u0431\\u043d\\u0430\\u0440\\u0443\\u0436\\u0435\\u043d\\u043e\\u0437\\u0430\\u0441\\u0442\\u0430\\u0432\\u043b\\u044f\\u0442\\u044c\", \"\\u0430\\u043d\\u0442\\u0438\\u0442\\u0435\\u043b\\u043e\", \"\\u0440\\u0435\\u0432\\u0430\\u043a\\u0446\\u0438\\u043d\\u0438\\u0440\\u043e\\u0432\\u0430\\u0442\\u044c\", \"\\u043c\\u0435\\u0434\\u0441\\u0435\\u0441\\u0442\\u0440\\u0430\", \"\\u043f\\u043e\\u043a\\u0430\", \"\\u0430\\u043d\\u0442\\u0438\\u0442\\u0435\\u043b\\u0430\\u0440\\u0430\\u0431\\u043e\\u0442\\u0430\\u0442\\u044c\", \"\\u0434\\u0430\\u043d\\u043d\\u044b\\u0439\", \"\\u0441\\u043a\\u0430\\u0436\\u0438\\u0442\\u0435\\u043f\\u043e\\u0436\\u0430\\u043b\\u0443\\u0439\\u0441\\u0442\\u0430\\u043f\\u0440\\u0430\\u0432\\u043e\\u043c\\u0435\\u0440\\u043d\\u044b\\u0439\", \"\\u0441\\u043c\\u0430\\u0440\\u0442\\u0444\\u043e\\u043d\", \"\\u0440\\u0435\\u043c\\u043e\\u043d\\u0442\", \"\\u043f\\u0440\\u043e\\u0434\\u0430\\u0432\\u0435\\u0446\", \"\\u0441\\u0435\\u0440\\u0432\\u0438\\u0441\", \"\\u043c\\u043e\\u0439\", \"\\u0442\\u044b\\u0441\\u044f\\u0447\\u0430\", \"\\u0442\\u0435\\u043b\\u0435\\u0444\\u043e\\u043d\", \"\\u044f\\u043d\\u0434\\u0435\\u043a\\u0441\", \"\\u0438\\u0434\\u0435\\u0430\\u043b\\u044c\\u043d\\u044b\\u0439\", \"\\u043e\\u0442\\u043f\\u0440\\u0430\\u0432\\u0438\\u0442\\u044c\", \"\\u043b\\u0438\\u0431\\u043e\", \"\\u0438\\u043f\", \"\\u0443\\u0446\\u0435\\u043d\\u043a\\u0430\", \"\\u0432\\u043e\\u0437\\u0432\\u0440\\u0430\\u0442\", \"\\u043c\\u0430\\u0440\\u043a\\u0435\\u0442\", \"\\u043c\\u0430\\u0440\\u043a\\u0435\\u0442\\u043f\\u043b\\u0435\\u0439\\u0441\", \"\\u0441\\u0442\\u043e\\u0438\\u043c\\u043e\\u0441\\u0442\\u044c\", \"\\u0440\\u0430\\u0437\\u043d\\u0438\\u0446\\u0430\", \"\\u0442\\u043e\\u0432\\u0430\\u0440\", \"\\u043f\\u043e\\u043b\\u0443\\u0447\\u0435\\u043d\\u0438\\u0435\", \"\\u043f\\u043e\\u0442\\u0435\\u0440\\u044f\\u0442\\u044c\", \"\\u043d\\u0430\\u0447\\u0430\\u0442\\u044c\", \"\\u043f\\u044b\\u0442\\u0430\\u0442\\u044c\\u0441\\u044f\", \"\\u0434\\u0435\\u043d\\u044c\", \"\\u043d\\u0430\\u0438\\u0434\\u0435\\u043d\", \"\\u0433\\u043e\\u0440\\u043e\\u0434\", \"\\u043e\\u0441\\u0442\\u0430\\u0442\\u044c\\u0441\\u044f\", \"\\u0432\\u043e\\u0437\\u043c\\u0435\\u0449\\u0435\\u043d\\u0438\\u0435\", \"\\u043a\\u0430\\u043a\\u043e\\u0439\", \"\\u043f\\u0440\\u0435\\u0434\\u043b\\u043e\\u0436\\u0438\\u0442\\u044c\", \"\\u043f\\u0440\\u0438\\u043d\\u0438\\u043c\\u0430\\u0442\\u044c\", \"\\u0441\\u0440\\u0430\\u0437\\u0443\", \"\\u043f\\u043e\\u0447\\u0435\\u043c\\u0443\", \"\\u0436\\u0434\\u0430\\u0442\\u044c\", \"\\u0437\\u0430\\u043a\\u0430\\u0437\\u0430\\u0442\\u044c\", \"\\u043e\\u043f\\u0435\\u0440\\u0430\\u0442\\u043e\\u0440\", \"\\u043e\\u0431\\u0435\\u0449\\u0430\\u0442\\u044c\", \"\\u0434\\u0438\\u043a\\u0441\\u0438\", \"\\u0441\\u043f\\u0438\\u0441\\u0430\\u0442\\u044c\", \"\\u043e\\u043f\\u043b\\u0430\\u0442\\u0430\", \"\\u043f\\u0440\\u043e\\u0434\\u0443\\u043a\\u0442\", \"\\u0434\\u043e\\u0441\\u0442\\u0430\\u0432\\u0438\\u0442\\u044c\", \"\\u043f\\u043e\\u044f\\u0432\\u044f\\u0442\\u044c\\u0441\\u044f\", \"\\u043f\\u043e\\u0432\\u0442\\u043e\\u0440\\u043d\\u043e\\u043d\", \"\\u043f\\u0440\\u044f\\u043c\\u043e\\u0439\", \"\\u0431\\u044b\\u043b\\u043e\\u043a\\u0430\\u043a\", \"\\u0438\\u043d\\u0444\\u0438\\u0446\\u0438\\u0440\\u043e\\u0432\\u0430\\u0442\\u044c\", \"\\u0442\\u043e\\u0442\", \"\\u043f\\u0440\\u0438\\u0432\\u0438\\u0432\\u043a\\u0443\\u0445\\u043e\\u0442\\u044f\", \"\\u0434\\u0435\\u0442\\u0441\\u0442\\u0432\\u043e\", \"\\u0432\\u0430\\u043a\\u0446\\u0438\\u043d\\u0438\\u0440\\u043e\\u0432\\u0430\\u0442\\u044c\\u0441\\u044f\", \"\\u0441\\u043a\\u043e\\u043b\\u044c\\u043a\\u043e\", \"\\u043e\\u0431\\u043d\\u0430\\u0440\\u0443\\u0436\\u0435\\u043d\\u043e\\u0437\\u0430\\u0441\\u0442\\u0430\\u0432\\u043b\\u044f\\u0442\\u044c\", \"\\u0430\\u043d\\u0442\\u0438\\u0442\\u0435\\u043b\\u043e\", \"\\u0440\\u0435\\u0432\\u0430\\u043a\\u0446\\u0438\\u043d\\u0438\\u0440\\u043e\\u0432\\u0430\\u0442\\u044c\", \"\\u043c\\u0435\\u0434\\u0441\\u0435\\u0441\\u0442\\u0440\\u0430\", \"\\u043f\\u043e\\u043a\\u0430\", \"\\u0430\\u043d\\u0442\\u0438\\u0442\\u0435\\u043b\\u0430\\u0440\\u0430\\u0431\\u043e\\u0442\\u0430\\u0442\\u044c\", \"\\u0434\\u0430\\u043d\\u043d\\u044b\\u0439\", \"\\u0441\\u043a\\u0430\\u0436\\u0438\\u0442\\u0435\\u043f\\u043e\\u0436\\u0430\\u043b\\u0443\\u0439\\u0441\\u0442\\u0430\\u043f\\u0440\\u0430\\u0432\\u043e\\u043c\\u0435\\u0440\\u043d\\u044b\\u0439\", \"\\u0442\\u043e\\u0432\\u0430\\u0440\", \"\\u0440\\u0443\\u0431\", \"\\u043d\\u0430\\u043b\\u0438\\u0447\\u0438\\u0435\", \"\\u0446\\u0435\\u043d\\u0430\", \"\\u0440\\u0430\\u0437\\u043d\\u0438\\u0446\\u0430\", \"\\u0432\\u043e\\u0437\\u0432\\u0440\\u0430\\u0442\", \"lamoda\", \"\\u0440\\u0435\\u043c\\u043e\\u043d\\u0442\", \"\\u0437\\u0430\\u043a\\u0430\\u0437\", \"\\u0441\\u043c\\u0430\\u0440\\u0442\\u0444\\u043e\\u043d\", \"\\u043a\\u043e\\u043c\\u043f\\u0435\\u043d\\u0441\\u0430\\u0446\\u0438\\u044f\", \"\\u043c\\u0430\\u0433\\u0430\\u0437\\u0438\\u043d\", \"\\u043f\\u0440\\u043e\\u0434\\u0430\\u0432\\u0435\\u0446\", \"\\u0441\\u0430\\u0439\\u0442\", \"\\u044f\", \"\\u043a\\u0440\\u043e\\u0441\\u0441\\u043e\\u0432\\u043e\\u043a\", \"\\u043c\\u043e\\u043c\\u0435\\u043d\\u0442\", \"\\u0432\\u0440\\u0435\\u043c\\u044f\", \"\\u043d\\u043e\\u043c\\u0435\\u0440\", \"\\u043e\\u0431\\u0440\\u0430\\u0449\\u0435\\u043d\\u0438\\u0435\", \"\\u044d\\u043b\\u0435\\u043a\\u0442\\u0440\\u043e\\u043d\\u043d\\u044b\\u0439\\u0430\\u0434\\u0440\\u0435\\u0441\\u0441\", \"\\u043e\\u0442\\u043a\\u0430\\u0437\\u044b\\u0432\\u0430\\u0442\\u044c\", \"\\u043d\\u0430\\u0441\\u0442\\u043e\\u044f\\u0449\\u0438\\u0439\", \"\\u0434\\u0435\\u043d\\u044c\", \"\\u0441\\u0435\\u0440\\u0432\\u0438\\u0441\", \"\\u044f\\u043d\\u0432\\u0430\\u0440\\u044c\", \"\\u0440\\u0444\", \"\\u043a\\u043e\\u043b\\u0438\\u0447\\u0435\\u0441\\u0442\\u0432\\u043e\", \"\\u0434\\u0430\\u0442\\u0430\", \"\\u0440\\u0430\\u0437\\u043b\\u0438\\u0447\\u043d\\u044b\\u0439\", \"\\u0436\\u0434\\u0430\\u0442\\u044c\", \"\\u0437\\u0430\\u043a\\u0430\\u0437\\u0430\\u0442\\u044c\", \"\\u043f\\u043e\\u0447\\u0435\\u043c\\u0443\", \"\\u0441\\u043f\\u0438\\u0441\\u0430\\u0442\\u044c\", \"\\u043e\\u043f\\u043b\\u0430\\u0442\\u0430\", \"\\u043f\\u0440\\u043e\\u0434\\u0443\\u043a\\u0442\", \"\\u0434\\u043e\\u0441\\u0442\\u0430\\u0432\\u0438\\u0442\\u044c\", \"\\u043f\\u0440\\u0438\\u043d\\u0438\\u043c\\u0430\\u0442\\u044c\", \"\\u0441\\u0440\\u0430\\u0437\\u0443\", \"\\u0434\\u0438\\u043a\\u0441\\u0438\", \"\\u043e\\u0431\\u0435\\u0449\\u0430\\u0442\\u044c\", \"\\u043e\\u043f\\u0435\\u0440\\u0430\\u0442\\u043e\\u0440\", \"\\u043f\\u043e\\u044f\\u0432\\u044f\\u0442\\u044c\\u0441\\u044f\", \"\\u043f\\u043e\\u0432\\u0442\\u043e\\u0440\\u043d\\u043e\\u043d\", \"\\u043f\\u0440\\u044f\\u043c\\u043e\\u0439\", \"\\u0431\\u044b\\u043b\\u043e\\u043a\\u0430\\u043a\", \"\\u0438\\u043d\\u0444\\u0438\\u0446\\u0438\\u0440\\u043e\\u0432\\u0430\\u0442\\u044c\", \"\\u0442\\u043e\\u0442\", \"\\u043f\\u0440\\u0438\\u0432\\u0438\\u0432\\u043a\\u0443\\u0445\\u043e\\u0442\\u044f\", \"\\u0434\\u0435\\u0442\\u0441\\u0442\\u0432\\u043e\", \"\\u0432\\u0430\\u043a\\u0446\\u0438\\u043d\\u0438\\u0440\\u043e\\u0432\\u0430\\u0442\\u044c\\u0441\\u044f\", \"\\u0441\\u043a\\u043e\\u043b\\u044c\\u043a\\u043e\", \"\\u043e\\u0431\\u043d\\u0430\\u0440\\u0443\\u0436\\u0435\\u043d\\u043e\\u0437\\u0430\\u0441\\u0442\\u0430\\u0432\\u043b\\u044f\\u0442\\u044c\", \"\\u0430\\u043d\\u0442\\u0438\\u0442\\u0435\\u043b\\u043e\", \"\\u0440\\u0435\\u0432\\u0430\\u043a\\u0446\\u0438\\u043d\\u0438\\u0440\\u043e\\u0432\\u0430\\u0442\\u044c\", \"\\u043c\\u0435\\u0434\\u0441\\u0435\\u0441\\u0442\\u0440\\u0430\", \"\\u043f\\u043e\\u043a\\u0430\", \"\\u0430\\u043d\\u0442\\u0438\\u0442\\u0435\\u043b\\u0430\\u0440\\u0430\\u0431\\u043e\\u0442\\u0430\\u0442\\u044c\", \"\\u0434\\u0430\\u043d\\u043d\\u044b\\u0439\", \"\\u0441\\u043a\\u0430\\u0436\\u0438\\u0442\\u0435\\u043f\\u043e\\u0436\\u0430\\u043b\\u0443\\u0439\\u0441\\u0442\\u0430\\u043f\\u0440\\u0430\\u0432\\u043e\\u043c\\u0435\\u0440\\u043d\\u044b\\u0439\", \"\\u0442\\u043e\\u0432\\u0430\\u0440\", \"\\u0441\\u043c\\u0430\\u0440\\u0442\\u0444\\u043e\\u043d\", \"\\u043f\\u0440\\u043e\\u0434\\u0430\\u0432\\u0435\\u0446\", \"\\u0440\\u0435\\u043c\\u043e\\u043d\\u0442\", \"\\u043d\\u0430\\u043b\\u0438\\u0447\\u0438\\u0435\", \"\\u0432\\u043e\\u0437\\u0432\\u0440\\u0430\\u0442\", \"\\u0446\\u0435\\u043d\\u0430\", \"\\u0440\\u0430\\u0437\\u043d\\u0438\\u0446\\u0430\", \"\\u043a\\u043e\\u043c\\u043f\\u0435\\u043d\\u0441\\u0430\\u0446\\u0438\\u044f\", \"\\u043c\\u0430\\u0433\\u0430\\u0437\\u0438\\u043d\", \"\\u043c\\u043e\\u0439\", \"\\u043d\\u043e\\u043c\\u0435\\u0440\", \"\\u0437\\u0430\\u043a\\u0430\\u0437\", \"\\u044f\", \"\\u0440\\u0443\\u0431\", \"\\u0441\\u0435\\u0440\\u0432\\u0438\\u0441\", \"\\u043b\\u0438\\u0431\\u043e\", \"\\u0441\\u0442\\u043e\\u0438\\u043c\\u043e\\u0441\\u0442\\u044c\", \"lamoda\", \"\\u043e\\u0442\\u043f\\u0440\\u0430\\u0432\\u0438\\u0442\\u044c\", \"\\u0442\\u0435\\u043b\\u0435\\u0444\\u043e\\u043d\", \"\\u043c\\u043e\\u043c\\u0435\\u043d\\u0442\", \"\\u043e\\u0431\\u0440\\u0430\\u0449\\u0435\\u043d\\u0438\\u0435\", \"\\u0443\\u0446\\u0435\\u043d\\u043a\\u0430\", \"\\u044f\\u043d\\u0434\\u0435\\u043a\\u0441\", \"\\u0438\\u043f\", \"\\u0432\\u0440\\u0435\\u043c\\u044f\", \"\\u043c\\u0430\\u0440\\u043a\\u0435\\u0442\\u043f\\u043b\\u0435\\u0439\\u0441\", \"\\u0434\\u0435\\u043d\\u044c\", \"\\u0438\\u0434\\u0435\\u0430\\u043b\\u044c\\u043d\\u044b\\u0439\", \"\\u043f\\u0440\\u0438\\u043d\\u0438\\u043c\\u0430\\u0442\\u044c\", \"\\u0441\\u0440\\u0430\\u0437\\u0443\", \"\\u043f\\u043e\\u0447\\u0435\\u043c\\u0443\", \"\\u0436\\u0434\\u0430\\u0442\\u044c\", \"\\u0437\\u0430\\u043a\\u0430\\u0437\\u0430\\u0442\\u044c\", \"\\u043e\\u043f\\u0435\\u0440\\u0430\\u0442\\u043e\\u0440\", \"\\u043e\\u0431\\u0435\\u0449\\u0430\\u0442\\u044c\", \"\\u0434\\u0438\\u043a\\u0441\\u0438\", \"\\u0441\\u043f\\u0438\\u0441\\u0430\\u0442\\u044c\", \"\\u043e\\u043f\\u043b\\u0430\\u0442\\u0430\", \"\\u043f\\u0440\\u043e\\u0434\\u0443\\u043a\\u0442\", \"\\u0434\\u043e\\u0441\\u0442\\u0430\\u0432\\u0438\\u0442\\u044c\", \"\\u043f\\u043e\\u044f\\u0432\\u044f\\u0442\\u044c\\u0441\\u044f\", \"\\u043f\\u043e\\u0432\\u0442\\u043e\\u0440\\u043d\\u043e\\u043d\", \"\\u043f\\u0440\\u044f\\u043c\\u043e\\u0439\", \"\\u0431\\u044b\\u043b\\u043e\\u043a\\u0430\\u043a\", \"\\u0438\\u043d\\u0444\\u0438\\u0446\\u0438\\u0440\\u043e\\u0432\\u0430\\u0442\\u044c\", \"\\u0442\\u043e\\u0442\", \"\\u043f\\u0440\\u0438\\u0432\\u0438\\u0432\\u043a\\u0443\\u0445\\u043e\\u0442\\u044f\", \"\\u0434\\u0435\\u0442\\u0441\\u0442\\u0432\\u043e\", \"\\u0432\\u0430\\u043a\\u0446\\u0438\\u043d\\u0438\\u0440\\u043e\\u0432\\u0430\\u0442\\u044c\\u0441\\u044f\", \"\\u0441\\u043a\\u043e\\u043b\\u044c\\u043a\\u043e\", \"\\u043e\\u0431\\u043d\\u0430\\u0440\\u0443\\u0436\\u0435\\u043d\\u043e\\u0437\\u0430\\u0441\\u0442\\u0430\\u0432\\u043b\\u044f\\u0442\\u044c\", \"\\u0430\\u043d\\u0442\\u0438\\u0442\\u0435\\u043b\\u043e\", \"\\u0440\\u0435\\u0432\\u0430\\u043a\\u0446\\u0438\\u043d\\u0438\\u0440\\u043e\\u0432\\u0430\\u0442\\u044c\", \"\\u043c\\u0435\\u0434\\u0441\\u0435\\u0441\\u0442\\u0440\\u0430\", \"\\u043f\\u043e\\u043a\\u0430\", \"\\u0430\\u043d\\u0442\\u0438\\u0442\\u0435\\u043b\\u0430\\u0440\\u0430\\u0431\\u043e\\u0442\\u0430\\u0442\\u044c\", \"\\u0434\\u0430\\u043d\\u043d\\u044b\\u0439\", \"\\u0441\\u043a\\u0430\\u0436\\u0438\\u0442\\u0435\\u043f\\u043e\\u0436\\u0430\\u043b\\u0443\\u0439\\u0441\\u0442\\u0430\\u043f\\u0440\\u0430\\u0432\\u043e\\u043c\\u0435\\u0440\\u043d\\u044b\\u0439\", \"\\u043e\\u0431\\u0440\\u0430\\u0442\\u043d\\u043e\", \"\\u0437\\u0430\\u044f\\u0432\\u043b\\u0435\\u043d\\u0438\\u0435\", \"\\u043e\\u0442\\u043a\\u0430\\u0437\\u0430\\u0442\\u044c\", \"\\u0432\\u0435\\u0440\\u043d\\u0443\\u0442\\u044c\", \"\\u043f\\u043e\\u0441\\u0442\\u0443\\u043f\\u0438\\u0442\\u044c\", \"\\u0447\\u0435\\u043a\", \"\\u043b\\u0435\\u0442\\u0443\\u0430\\u043b\\u044f\", \"\\u0430\\u0434\\u043c\\u0438\\u043d\\u0438\\u0441\\u0442\\u0440\\u0430\\u0442\\u043e\\u0440\", \"\\u043f\\u0440\\u0430\\u0432\\u043e\\u043c\\u0435\\u0440\\u043d\\u043e\", \"\\u043f\\u043e\\u0434\\u043e\\u0439\\u0442\\u0438\", \"\\u0437\\u043e\\u043d\\u0442\", \"\\u0446\\u0432\\u0435\\u0442\", \"\\u0437\\u0434\\u0440\\u0430\\u0432\\u0441\\u0442\\u0432\\u0443\\u0439\\u0442\\u0435\", \"\\u0447\\u0438\\u0441\\u043b\\u043e\", \"\\u0441\\u043c\\u0430\\u0440\\u0442\\u0444\\u043e\\u043d\", \"\\u043f\\u0440\\u043e\\u0434\\u0430\\u0432\\u0435\\u0446\", \"\\u0440\\u0435\\u043c\\u043e\\u043d\\u0442\", \"\\u0432\\u043e\\u0437\\u0432\\u0440\\u0430\\u0442\", \"\\u0441\\u0435\\u0440\\u0432\\u0438\\u0441\", \"\\u043c\\u043e\\u0439\", \"\\u0441\\u0435\\u0440\\u0442\\u0438\\u0444\\u0438\\u043a\\u0430\\u0442\", \"\\u0442\\u043e\\u0432\\u0430\\u0440\", \"\\u0440\\u044e\\u043a\\u0437\\u0430\\u043a\", \"\\u043c\\u0430\\u0440\\u043a\\u0435\\u0442\\u043f\\u043b\\u0435\\u0439\\u0441\", \"\\u0438\\u043f\", \"\\u0442\\u0435\\u043b\\u0435\\u0444\\u043e\\u043d\", \"\\u043e\\u0442\\u043f\\u0440\\u0430\\u0432\\u0438\\u0442\\u044c\", \"\\u0443\\u0446\\u0435\\u043d\\u043a\\u0430\", \"\\u0442\\u044b\\u0441\\u044f\\u0447\\u0430\", \"\\u0434\\u0443\\u0445\", \"\\u0443\\u043a\\u0430\\u0437\\u0430\\u0442\\u044c\", \"\\u0445\\u043e\\u0442\\u0435\\u0442\\u044c\", \"\\u043b\\u0438\\u0431\\u043e\", \"\\u043f\\u043e\\u0434\\u0430\\u0440\\u043e\\u0447\\u043d\\u044b\\u0439\", \"\\u044f\\u043d\\u0434\\u0435\\u043a\\u0441\", \"\\u0441\\u0442\\u043e\\u0438\\u043c\\u043e\\u0441\\u0442\\u044c\", \"\\u043c\\u0430\\u0440\\u043a\\u0435\\u0442\", \"\\u0438\\u0434\\u0435\\u0430\\u043b\\u044c\\u043d\\u044b\\u0439\", \"\\u043a\\u0443\\u043f\\u0438\\u0442\\u044c\", \"\\u0437\\u0430\\u043c\\u0435\\u043d\\u0438\\u0442\\u044c\", \"\\u0441\\u0438\\u043b\\u0430\", \"\\u0441\\u0442\\u0440\\u0430\\u043d\\u0438\\u0446\\u0430\", \"\\u0437\\u0430\\u043c\\u0435\\u043d\\u0430\", \"\\u0440\\u0430\\u0441\\u0445\\u043e\\u0434\", \"\\u043f\\u0440\\u0438\\u043d\\u0438\\u043c\\u0430\\u0442\\u044c\", \"\\u0441\\u0440\\u0430\\u0437\\u0443\", \"\\u043f\\u043e\\u0447\\u0435\\u043c\\u0443\", \"\\u0436\\u0434\\u0430\\u0442\\u044c\", \"\\u0437\\u0430\\u043a\\u0430\\u0437\\u0430\\u0442\\u044c\", \"\\u043e\\u043f\\u0435\\u0440\\u0430\\u0442\\u043e\\u0440\", \"\\u043e\\u0431\\u0435\\u0449\\u0430\\u0442\\u044c\", \"\\u0434\\u0438\\u043a\\u0441\\u0438\", \"\\u0441\\u043f\\u0438\\u0441\\u0430\\u0442\\u044c\", \"\\u043e\\u043f\\u043b\\u0430\\u0442\\u0430\", \"\\u043f\\u0440\\u043e\\u0434\\u0443\\u043a\\u0442\", \"\\u0434\\u043e\\u0441\\u0442\\u0430\\u0432\\u0438\\u0442\\u044c\", \"\\u043f\\u043e\\u044f\\u0432\\u044f\\u0442\\u044c\\u0441\\u044f\", \"\\u043f\\u043e\\u0432\\u0442\\u043e\\u0440\\u043d\\u043e\\u043d\", \"\\u043f\\u0440\\u044f\\u043c\\u043e\\u0439\", \"\\u0431\\u044b\\u043b\\u043e\\u043a\\u0430\\u043a\", \"\\u0438\\u043d\\u0444\\u0438\\u0446\\u0438\\u0440\\u043e\\u0432\\u0430\\u0442\\u044c\", \"\\u0442\\u043e\\u0442\", \"\\u043f\\u0440\\u0438\\u0432\\u0438\\u0432\\u043a\\u0443\\u0445\\u043e\\u0442\\u044f\", \"\\u0434\\u0435\\u0442\\u0441\\u0442\\u0432\\u043e\", \"\\u0432\\u0430\\u043a\\u0446\\u0438\\u043d\\u0438\\u0440\\u043e\\u0432\\u0430\\u0442\\u044c\\u0441\\u044f\", \"\\u0441\\u043a\\u043e\\u043b\\u044c\\u043a\\u043e\", \"\\u043e\\u0431\\u043d\\u0430\\u0440\\u0443\\u0436\\u0435\\u043d\\u043e\\u0437\\u0430\\u0441\\u0442\\u0430\\u0432\\u043b\\u044f\\u0442\\u044c\", \"\\u0430\\u043d\\u0442\\u0438\\u0442\\u0435\\u043b\\u043e\", \"\\u0440\\u0435\\u0432\\u0430\\u043a\\u0446\\u0438\\u043d\\u0438\\u0440\\u043e\\u0432\\u0430\\u0442\\u044c\", \"\\u043c\\u0435\\u0434\\u0441\\u0435\\u0441\\u0442\\u0440\\u0430\", \"\\u043f\\u043e\\u043a\\u0430\", \"\\u0430\\u043d\\u0442\\u0438\\u0442\\u0435\\u043b\\u0430\\u0440\\u0430\\u0431\\u043e\\u0442\\u0430\\u0442\\u044c\", \"\\u0434\\u0430\\u043d\\u043d\\u044b\\u0439\", \"\\u0441\\u043a\\u0430\\u0436\\u0438\\u0442\\u0435\\u043f\\u043e\\u0436\\u0430\\u043b\\u0443\\u0439\\u0441\\u0442\\u0430\\u043f\\u0440\\u0430\\u0432\\u043e\\u043c\\u0435\\u0440\\u043d\\u044b\\u0439\", \"\\u0437\\u0434\\u0440\\u0430\\u0432\\u0441\\u0442\\u0432\\u0443\\u0439\\u0442\\u0435\", \"\\u043b\\u0435\\u0442\\u0443\\u0430\\u043b\\u044f\", \"\\u0447\\u0435\\u043a\", \"\\u0437\\u043e\\u043d\\u0442\", \"\\u0446\\u0432\\u0435\\u0442\", \"\\u0447\\u0438\\u0441\\u043b\\u043e\", \"\\u043f\\u0440\\u0430\\u0432\\u043e\\u043c\\u0435\\u0440\\u043d\\u043e\", \"\\u0432\\u0435\\u0440\\u043d\\u0443\\u0442\\u044c\", \"\\u043f\\u043e\\u0434\\u043e\\u0439\\u0442\\u0438\", \"\\u043e\\u0442\\u043a\\u0430\\u0437\\u0430\\u0442\\u044c\", \"\\u043f\\u043e\\u0441\\u0442\\u0443\\u043f\\u0438\\u0442\\u044c\", \"\\u0437\\u0430\\u044f\\u0432\\u043b\\u0435\\u043d\\u0438\\u0435\", \"\\u0430\\u0434\\u043c\\u0438\\u043d\\u0438\\u0441\\u0442\\u0440\\u0430\\u0442\\u043e\\u0440\", \"\\u043e\\u0431\\u0440\\u0430\\u0442\\u043d\\u043e\", \"\\u0442\\u043e\\u0432\\u0430\\u0440\", \"\\u0432\\u043e\\u0437\\u0432\\u0440\\u0430\\u0442\", \"\\u0440\\u044e\\u043a\\u0437\\u0430\\u043a\", \"\\u043d\\u0430\\u043b\\u0438\\u0447\\u0438\\u0435\", \"\\u043c\\u0430\\u0433\\u0430\\u0437\\u0438\\u043d\", \"\\u044f\", \"\\u0440\\u0443\\u0431\", \"\\u0446\\u0435\\u043d\\u0430\", \"\\u0441\\u0435\\u0440\\u0442\\u0438\\u0444\\u0438\\u043a\\u0430\\u0442\", \"\\u043f\\u043e\\u0434\\u0430\\u0440\\u043e\\u0447\\u043d\\u044b\\u0439\", \"\\u043a\\u0440\\u043e\\u0441\\u0441\\u043e\\u0432\\u043e\\u043a\", \"\\u0434\\u0443\\u0445\", \"\\u0441\\u0430\\u0439\\u0442\", \"\\u0441\\u0434\\u0435\\u043b\\u0430\\u0442\\u044c\", \"\\u0441\\u0441\\u044b\\u043b\\u043a\\u0430\", \"\\u0441\\u0441\\u044b\\u043b\\u0430\\u0442\\u044c\\u0441\\u044f\", \"\\u043a\\u043e\\u043c\\u043f\\u0435\\u043d\\u0441\\u0430\\u0446\\u0438\\u044f\", \"\\u0440\\u0430\\u0437\\u043d\\u0438\\u0446\\u0430\", \"\\u043e\\u0431\\u0440\\u0430\\u0449\\u0435\\u043d\\u0438\\u0435\", \"\\u043d\\u043e\\u043c\\u0435\\u0440\", \"\\u044d\\u043b\\u0435\\u043a\\u0442\\u0440\\u043e\\u043d\\u043d\\u044b\\u0439\\u0430\\u0434\\u0440\\u0435\\u0441\\u0441\", \"\\u0437\\u0430\\u043a\\u0430\\u0437\", \"lamoda\", \"\\u043f\\u0440\\u043e\\u0438\\u0437\\u0432\\u043e\\u0434\\u0441\\u0442\\u0432\\u0435\\u043d\\u043d\\u044b\\u0439\", \"\\u043a\\u0443\\u043f\\u0438\\u0442\\u044c\", \"\\u0445\\u043e\\u0442\\u0435\\u0442\\u044c\", \"\\u0433\\u043e\\u0440\\u044f\\u0447\\u0438\\u0439\", \"\\u043f\\u0440\\u0438\\u043d\\u0438\\u043c\\u0430\\u0442\\u044c\", \"\\u0441\\u0440\\u0430\\u0437\\u0443\", \"\\u043f\\u043e\\u0447\\u0435\\u043c\\u0443\", \"\\u0436\\u0434\\u0430\\u0442\\u044c\", \"\\u0437\\u0430\\u043a\\u0430\\u0437\\u0430\\u0442\\u044c\", \"\\u043e\\u043f\\u0435\\u0440\\u0430\\u0442\\u043e\\u0440\", \"\\u043e\\u0431\\u0435\\u0449\\u0430\\u0442\\u044c\", \"\\u0434\\u0438\\u043a\\u0441\\u0438\", \"\\u0441\\u043f\\u0438\\u0441\\u0430\\u0442\\u044c\", \"\\u043e\\u043f\\u043b\\u0430\\u0442\\u0430\", \"\\u043f\\u0440\\u043e\\u0434\\u0443\\u043a\\u0442\", \"\\u0434\\u043e\\u0441\\u0442\\u0430\\u0432\\u0438\\u0442\\u044c\", \"\\u043f\\u043e\\u044f\\u0432\\u044f\\u0442\\u044c\\u0441\\u044f\", \"\\u043f\\u043e\\u0432\\u0442\\u043e\\u0440\\u043d\\u043e\\u043d\", \"\\u043f\\u0440\\u044f\\u043c\\u043e\\u0439\", \"\\u0431\\u044b\\u043b\\u043e\\u043a\\u0430\\u043a\", \"\\u0438\\u043d\\u0444\\u0438\\u0446\\u0438\\u0440\\u043e\\u0432\\u0430\\u0442\\u044c\", \"\\u0442\\u043e\\u0442\", \"\\u043f\\u0440\\u0438\\u0432\\u0438\\u0432\\u043a\\u0443\\u0445\\u043e\\u0442\\u044f\", \"\\u0434\\u0435\\u0442\\u0441\\u0442\\u0432\\u043e\", \"\\u0432\\u0430\\u043a\\u0446\\u0438\\u043d\\u0438\\u0440\\u043e\\u0432\\u0430\\u0442\\u044c\\u0441\\u044f\", \"\\u0441\\u043a\\u043e\\u043b\\u044c\\u043a\\u043e\", \"\\u043e\\u0431\\u043d\\u0430\\u0440\\u0443\\u0436\\u0435\\u043d\\u043e\\u0437\\u0430\\u0441\\u0442\\u0430\\u0432\\u043b\\u044f\\u0442\\u044c\", \"\\u0430\\u043d\\u0442\\u0438\\u0442\\u0435\\u043b\\u043e\", \"\\u0440\\u0435\\u0432\\u0430\\u043a\\u0446\\u0438\\u043d\\u0438\\u0440\\u043e\\u0432\\u0430\\u0442\\u044c\", \"\\u043c\\u0435\\u0434\\u0441\\u0435\\u0441\\u0442\\u0440\\u0430\", \"\\u043f\\u043e\\u043a\\u0430\", \"\\u0430\\u043d\\u0442\\u0438\\u0442\\u0435\\u043b\\u0430\\u0440\\u0430\\u0431\\u043e\\u0442\\u0430\\u0442\\u044c\", \"\\u0434\\u0430\\u043d\\u043d\\u044b\\u0439\", \"\\u0441\\u043a\\u0430\\u0436\\u0438\\u0442\\u0435\\u043f\\u043e\\u0436\\u0430\\u043b\\u0443\\u0439\\u0441\\u0442\\u0430\\u043f\\u0440\\u0430\\u0432\\u043e\\u043c\\u0435\\u0440\\u043d\\u044b\\u0439\", \"\\u0442\\u043e\\u0432\\u0430\\u0440\", \"\\u043d\\u0430\\u043b\\u0438\\u0447\\u0438\\u0435\", \"\\u0446\\u0435\\u043d\\u0430\", \"\\u0440\\u0443\\u0431\", \"\\u0432\\u043e\\u0437\\u0432\\u0440\\u0430\\u0442\", \"\\u043d\\u043e\\u043c\\u0435\\u0440\", \"\\u043e\\u0431\\u0440\\u0430\\u0449\\u0435\\u043d\\u0438\\u0435\", \"\\u043a\\u043e\\u043c\\u043f\\u0435\\u043d\\u0441\\u0430\\u0446\\u0438\\u044f\", \"\\u044d\\u043b\\u0435\\u043a\\u0442\\u0440\\u043e\\u043d\\u043d\\u044b\\u0439\\u0430\\u0434\\u0440\\u0435\\u0441\\u0441\", \"\\u0441\\u0441\\u044b\\u043b\\u043a\\u0430\", \"\\u0437\\u0430\\u043a\\u0430\\u0437\", \"\\u044f\", \"\\u0440\\u0430\\u0437\\u043d\\u0438\\u0446\\u0430\", \"\\u0441\\u0430\\u0439\\u0442\", \"\\u043c\\u0430\\u0433\\u0430\\u0437\\u0438\\u043d\", \"lamoda\", \"\\u043a\\u0440\\u043e\\u0441\\u0441\\u043e\\u0432\\u043e\\u043a\", \"\\u201ccamper\\u201d\", \"\\u0434\\u0430\\u0442\\u044c\", \"\\u0445\\u043e\\u0442\\u044f\", \"\\u0432\\u0440\\u0435\\u043c\\u044f\", \"\\u0443\\u0442\\u0432\\u0435\\u0440\\u0436\\u0434\\u0430\\u0442\\u044c\", \"\\u043f\\u043e\\u0434\\u0442\\u0432\\u0435\\u0440\\u0434\\u0438\\u0442\\u044c\", \"\\u043b\\u0438\\u043d\\u0438\\u044f\", \"\\u043f\\u0440\\u0435\\u0434\\u043e\\u0441\\u0442\\u0430\\u0432\\u0438\\u0442\\u044c\", \"zzi\", \"\\u0444\\u043e\\u0440\\u043c\\u0430\", \"rtlaci\", \"\\u0441\\u0441\\u044b\\u043b\\u0430\\u0442\\u044c\\u0441\\u044f\", \"\\u0434\\u0441\", \"\\u043f\\u0440\\u0438\\u043d\\u0438\\u043c\\u0430\\u0442\\u044c\", \"\\u0441\\u0440\\u0430\\u0437\\u0443\", \"\\u043f\\u043e\\u0447\\u0435\\u043c\\u0443\", \"\\u0436\\u0434\\u0430\\u0442\\u044c\", \"\\u0437\\u0430\\u043a\\u0430\\u0437\\u0430\\u0442\\u044c\", \"\\u043e\\u043f\\u0435\\u0440\\u0430\\u0442\\u043e\\u0440\", \"\\u043e\\u0431\\u0435\\u0449\\u0430\\u0442\\u044c\", \"\\u0434\\u0438\\u043a\\u0441\\u0438\", \"\\u0441\\u043f\\u0438\\u0441\\u0430\\u0442\\u044c\", \"\\u043e\\u043f\\u043b\\u0430\\u0442\\u0430\", \"\\u043f\\u0440\\u043e\\u0434\\u0443\\u043a\\u0442\", \"\\u0434\\u043e\\u0441\\u0442\\u0430\\u0432\\u0438\\u0442\\u044c\", \"\\u043f\\u043e\\u044f\\u0432\\u044f\\u0442\\u044c\\u0441\\u044f\", \"\\u043f\\u043e\\u0432\\u0442\\u043e\\u0440\\u043d\\u043e\\u043d\", \"\\u043f\\u0440\\u044f\\u043c\\u043e\\u0439\", \"\\u0431\\u044b\\u043b\\u043e\\u043a\\u0430\\u043a\", \"\\u0438\\u043d\\u0444\\u0438\\u0446\\u0438\\u0440\\u043e\\u0432\\u0430\\u0442\\u044c\", \"\\u0442\\u043e\\u0442\", \"\\u043f\\u0440\\u0438\\u0432\\u0438\\u0432\\u043a\\u0443\\u0445\\u043e\\u0442\\u044f\", \"\\u0434\\u0435\\u0442\\u0441\\u0442\\u0432\\u043e\", \"\\u0432\\u0430\\u043a\\u0446\\u0438\\u043d\\u0438\\u0440\\u043e\\u0432\\u0430\\u0442\\u044c\\u0441\\u044f\", \"\\u0441\\u043a\\u043e\\u043b\\u044c\\u043a\\u043e\", \"\\u043e\\u0431\\u043d\\u0430\\u0440\\u0443\\u0436\\u0435\\u043d\\u043e\\u0437\\u0430\\u0441\\u0442\\u0430\\u0432\\u043b\\u044f\\u0442\\u044c\", \"\\u0430\\u043d\\u0442\\u0438\\u0442\\u0435\\u043b\\u043e\", \"\\u0440\\u0435\\u0432\\u0430\\u043a\\u0446\\u0438\\u043d\\u0438\\u0440\\u043e\\u0432\\u0430\\u0442\\u044c\", \"\\u043c\\u0435\\u0434\\u0441\\u0435\\u0441\\u0442\\u0440\\u0430\", \"\\u043f\\u043e\\u043a\\u0430\", \"\\u0430\\u043d\\u0442\\u0438\\u0442\\u0435\\u043b\\u0430\\u0440\\u0430\\u0431\\u043e\\u0442\\u0430\\u0442\\u044c\", \"\\u0434\\u0430\\u043d\\u043d\\u044b\\u0439\", \"\\u0441\\u043a\\u0430\\u0436\\u0438\\u0442\\u0435\\u043f\\u043e\\u0436\\u0430\\u043b\\u0443\\u0439\\u0441\\u0442\\u0430\\u043f\\u0440\\u0430\\u0432\\u043e\\u043c\\u0435\\u0440\\u043d\\u044b\\u0439\", \"\\u0442\\u043e\\u0432\\u0430\\u0440\", \"\\u043d\\u0430\\u043b\\u0438\\u0447\\u0438\\u0435\", \"\\u0440\\u0443\\u0431\", \"lamoda\", \"\\u0432\\u043e\\u0437\\u0432\\u0440\\u0430\\u0442\", \"\\u0446\\u0435\\u043d\\u0430\", \"\\u043a\\u043e\\u043c\\u043f\\u0435\\u043d\\u0441\\u0430\\u0446\\u0438\\u044f\", \"\\u044d\\u043b\\u0435\\u043a\\u0442\\u0440\\u043e\\u043d\\u043d\\u044b\\u0439\\u0430\\u0434\\u0440\\u0435\\u0441\\u0441\", \"\\u043c\\u0430\\u0433\\u0430\\u0437\\u0438\\u043d\", \"\\u043e\\u0431\\u0440\\u0430\\u0449\\u0435\\u043d\\u0438\\u0435\", \"\\u0441\\u0430\\u0439\\u0442\", \"\\u044f\", \"\\u0440\\u0430\\u0437\\u043d\\u0438\\u0446\\u0430\", \"\\u0437\\u0430\\u043a\\u0430\\u0437\", \"\\u043a\\u0440\\u043e\\u0441\\u0441\\u043e\\u0432\\u043e\\u043a\", \"\\u0441\\u0441\\u044b\\u043b\\u043a\\u0430\", \"\\u043d\\u043e\\u043c\\u0435\\u0440\", \"\\u043e\\u0442\\u043a\\u0430\\u0437\\u044b\\u0432\\u0430\\u0442\\u044c\", \"\\u043c\\u043e\\u043c\\u0435\\u043d\\u0442\", \"\\u0432\\u043e\\u0437\\u0432\\u0440\\u0430\\u0442\\u0438\\u0442\\u044c\", \"\\u0432\\u0440\\u0435\\u043c\\u044f\", \"\\u043f\\u043e\\u0432\\u0442\\u043e\\u0440\\u043d\\u044b\\u0439\", \"\\u043f\\u043e\\u0434\\u0442\\u0432\\u0435\\u0440\\u0434\\u0438\\u0442\\u044c\", \"\\u043f\\u0440\\u043e\\u0438\\u0437\\u0432\\u043e\\u0434\\u0441\\u0442\\u0432\\u0435\\u043d\\u043d\\u044b\\u0439\", \"\\u0441\\u043f\\u0435\\u0446\\u0438\\u0430\\u043b\\u0438\\u0441\\u0442\", \"\\u0430\\u0440\\u0442\\u0438\\u043a\\u0443\\u043b\", \"\\u043f\\u043e\\u0441\\u043b\\u0435\\u0434\\u043e\\u0432\\u0430\\u0442\\u044c\", \"\\u043f\\u0440\\u0438\\u043b\\u0430\\u0433\\u0430\\u0442\\u044c\", \"\\u043f\\u0440\\u0438\\u043e\\u0431\\u0440\\u0435\\u0441\\u0442\\u0438\", \"\\u0440\\u0430\\u0441\\u043a\\u043b\\u0435\\u0439\\u043a\\u0430\", \"\\u043f\\u0440\\u0438\\u043d\\u0438\\u043c\\u0430\\u0442\\u044c\", \"\\u0441\\u0440\\u0430\\u0437\\u0443\", \"\\u043f\\u043e\\u0447\\u0435\\u043c\\u0443\", \"\\u0436\\u0434\\u0430\\u0442\\u044c\", \"\\u0437\\u0430\\u043a\\u0430\\u0437\\u0430\\u0442\\u044c\", \"\\u043e\\u043f\\u0435\\u0440\\u0430\\u0442\\u043e\\u0440\", \"\\u043e\\u0431\\u0435\\u0449\\u0430\\u0442\\u044c\", \"\\u0434\\u0438\\u043a\\u0441\\u0438\", \"\\u0441\\u043f\\u0438\\u0441\\u0430\\u0442\\u044c\", \"\\u043e\\u043f\\u043b\\u0430\\u0442\\u0430\", \"\\u043f\\u0440\\u043e\\u0434\\u0443\\u043a\\u0442\", \"\\u0434\\u043e\\u0441\\u0442\\u0430\\u0432\\u0438\\u0442\\u044c\", \"\\u043f\\u043e\\u044f\\u0432\\u044f\\u0442\\u044c\\u0441\\u044f\", \"\\u0434\\u0430\\u043d\\u043d\\u044b\\u0439\", \"\\u0441\\u043a\\u0430\\u0436\\u0438\\u0442\\u0435\\u043f\\u043e\\u0436\\u0430\\u043b\\u0443\\u0439\\u0441\\u0442\\u0430\\u043f\\u0440\\u0430\\u0432\\u043e\\u043c\\u0435\\u0440\\u043d\\u044b\\u0439\", \"\\u043f\\u043e\\u0440\\u0430\", \"\\u043f\\u0440\\u0438\\u0432\\u0438\\u0432\\u0430\\u0442\\u044c\\u0441\\u044f\", \"\\u0440\\u0435\\u0432\\u0430\\u043a\\u0446\\u0438\\u043d\\u0438\\u0440\\u043e\\u0432\\u0430\\u0442\\u044c\", \"\\u043f\\u043e\\u043a\\u0430\", \"\\u0430\\u043d\\u0442\\u0438\\u0442\\u0435\\u043b\\u0430\\u0440\\u0430\\u0431\\u043e\\u0442\\u0430\\u0442\\u044c\", \"\\u0437\\u0434\\u0440\\u0430\\u0432\\u0441\\u0442\\u0432\\u0443\\u0439\\u0442\\u0435\\u043c\\u0435\\u043d\\u044c\", \"\\u0441\\u043a\\u0430\\u0437\\u0430\\u0442\\u044c\", \"\\u043a\\u043e\\u043d\\u0442\\u0430\\u043a\\u0442\", \"\\u043f\\u0440\\u0438\\u0432\\u0438\\u0432\\u043a\\u0443\\u0445\\u043e\\u0442\\u044f\", \"\\u0434\\u0435\\u0442\\u0441\\u0442\\u0432\\u043e\", \"\\u0441\\u043a\\u043e\\u043b\\u044c\\u043a\\u043e\", \"\\u043e\\u0431\\u043d\\u0430\\u0440\\u0443\\u0436\\u0435\\u043d\\u043e\\u0437\\u0430\\u0441\\u0442\\u0430\\u0432\\u043b\\u044f\\u0442\\u044c\", \"\\u0430\\u043d\\u0442\\u0438\\u0442\\u0435\\u043b\\u043e\", \"\\u0432\\u0430\\u043a\\u0446\\u0438\\u043d\\u0438\\u0440\\u043e\\u0432\\u0430\\u0442\\u044c\\u0441\\u044f\", \"\\u043c\\u0435\\u0434\\u0441\\u0435\\u0441\\u0442\\u0440\\u0430\", \"\\u0432\\u043e\\u0437\\u0432\\u0440\\u0430\\u0442\", \"\\u0442\\u043e\\u0432\\u0430\\u0440\", \"\\u0440\\u044e\\u043a\\u0437\\u0430\\u043a\", \"\\u043a\\u043e\\u0440\\u044c\", \"\\u0434\\u0443\\u0445\", \"\\u043c\\u0430\\u0433\\u0430\\u0437\\u0438\\u043d\", \"\\u0441\\u0435\\u0440\\u0442\\u0438\\u0444\\u0438\\u043a\\u0430\\u0442\", \"\\u043f\\u043e\\u0434\\u0430\\u0440\\u043e\\u0447\\u043d\\u044b\\u0439\", \"\\u0441\\u0441\\u044b\\u043b\\u0430\\u0442\\u044c\\u0441\\u044f\", \"\\u043f\\u0440\\u0438\\u0432\\u0438\\u0442\\u044c\", \"\\u043d\\u0430\\u043b\\u0438\\u0447\\u0438\\u0435\", \"\\u044f\", \"\\u0441\\u0434\\u0435\\u043b\\u0430\\u0442\\u044c\", \"\\u043b\\u0435\\u0442\\u0443\\u0430\\u043b\\u044f\", \"\\u043e\\u0431\\u0440\\u0430\\u0442\\u043d\\u043e\", \"\\u0433\\u043e\\u0434\", \"\\u0430\\u0434\\u043c\\u0438\\u043d\\u0438\\u0441\\u0442\\u0440\\u0430\\u0442\\u043e\\u0440\", \"\\u043f\\u043e\\u0441\\u0442\\u0443\\u043f\\u0438\\u0442\\u044c\", \"\\u0437\\u0434\\u0440\\u0430\\u0432\\u0441\\u0442\\u0432\\u0443\\u0439\\u0442\\u0435\", \"\\u0447\\u0438\\u0441\\u043b\\u043e\", \"\\u0432\\u0435\\u0440\\u043d\\u0443\\u0442\\u044c\", \"\\u0445\\u043e\\u0442\\u0435\\u0442\\u044c\", \"\\u043c\\u043e\\u043c\\u0435\\u043d\\u0442\", \"\\u0437\\u043e\\u043d\\u0442\", \"\\u043a\\u0443\\u043f\\u0438\\u0442\\u044c\", \"\\u043f\\u043e\\u0434\\u043e\\u0439\\u0442\\u0438\", \"\\u043f\\u0440\\u0438\\u043d\\u0438\\u043c\\u0430\\u0442\\u044c\", \"\\u0441\\u0440\\u0430\\u0437\\u0443\", \"\\u043f\\u043e\\u0447\\u0435\\u043c\\u0443\", \"\\u0436\\u0434\\u0430\\u0442\\u044c\", \"\\u0437\\u0430\\u043a\\u0430\\u0437\\u0430\\u0442\\u044c\", \"\\u043e\\u043f\\u0435\\u0440\\u0430\\u0442\\u043e\\u0440\", \"\\u043e\\u0431\\u0435\\u0449\\u0430\\u0442\\u044c\", \"\\u0434\\u0438\\u043a\\u0441\\u0438\", \"\\u0441\\u043f\\u0438\\u0441\\u0430\\u0442\\u044c\", \"\\u043e\\u043f\\u043b\\u0430\\u0442\\u0430\", \"\\u043f\\u0440\\u043e\\u0434\\u0443\\u043a\\u0442\", \"\\u0434\\u043e\\u0441\\u0442\\u0430\\u0432\\u0438\\u0442\\u044c\", \"\\u043f\\u043e\\u044f\\u0432\\u044f\\u0442\\u044c\\u0441\\u044f\", \"\\u043f\\u043e\\u0432\\u0442\\u043e\\u0440\\u043d\\u043e\\u043d\", \"\\u043f\\u0440\\u044f\\u043c\\u043e\\u0439\", \"\\u0431\\u044b\\u043b\\u043e\\u043a\\u0430\\u043a\", \"\\u0438\\u043d\\u0444\\u0438\\u0446\\u0438\\u0440\\u043e\\u0432\\u0430\\u0442\\u044c\", \"\\u0442\\u043e\\u0442\", \"\\u043f\\u0440\\u0438\\u0432\\u0438\\u0432\\u043a\\u0443\\u0445\\u043e\\u0442\\u044f\", \"\\u0434\\u0435\\u0442\\u0441\\u0442\\u0432\\u043e\", \"\\u0432\\u0430\\u043a\\u0446\\u0438\\u043d\\u0438\\u0440\\u043e\\u0432\\u0430\\u0442\\u044c\\u0441\\u044f\", \"\\u0441\\u043a\\u043e\\u043b\\u044c\\u043a\\u043e\", \"\\u043e\\u0431\\u043d\\u0430\\u0440\\u0443\\u0436\\u0435\\u043d\\u043e\\u0437\\u0430\\u0441\\u0442\\u0430\\u0432\\u043b\\u044f\\u0442\\u044c\", \"\\u0430\\u043d\\u0442\\u0438\\u0442\\u0435\\u043b\\u043e\", \"\\u0440\\u0435\\u0432\\u0430\\u043a\\u0446\\u0438\\u043d\\u0438\\u0440\\u043e\\u0432\\u0430\\u0442\\u044c\", \"\\u043c\\u0435\\u0434\\u0441\\u0435\\u0441\\u0442\\u0440\\u0430\", \"\\u043f\\u043e\\u043a\\u0430\", \"\\u0430\\u043d\\u0442\\u0438\\u0442\\u0435\\u043b\\u0430\\u0440\\u0430\\u0431\\u043e\\u0442\\u0430\\u0442\\u044c\", \"\\u0434\\u0430\\u043d\\u043d\\u044b\\u0439\", \"\\u0441\\u043a\\u0430\\u0436\\u0438\\u0442\\u0435\\u043f\\u043e\\u0436\\u0430\\u043b\\u0443\\u0439\\u0441\\u0442\\u0430\\u043f\\u0440\\u0430\\u0432\\u043e\\u043c\\u0435\\u0440\\u043d\\u044b\\u0439\", \"\\u0437\\u0430\\u044f\\u0432\\u043b\\u0435\\u043d\\u0438\\u0435\", \"\\u043e\\u0431\\u0440\\u0430\\u0442\\u043d\\u043e\", \"\\u043f\\u0440\\u0430\\u0432\\u043e\\u043c\\u0435\\u0440\\u043d\\u043e\", \"\\u043e\\u0442\\u043a\\u0430\\u0437\\u0430\\u0442\\u044c\", \"\\u0447\\u0438\\u0441\\u043b\\u043e\", \"\\u0430\\u0434\\u043c\\u0438\\u043d\\u0438\\u0441\\u0442\\u0440\\u0430\\u0442\\u043e\\u0440\", \"\\u043f\\u043e\\u0434\\u043e\\u0439\\u0442\\u0438\", \"\\u0446\\u0432\\u0435\\u0442\", \"\\u0437\\u0434\\u0440\\u0430\\u0432\\u0441\\u0442\\u0432\\u0443\\u0439\\u0442\\u0435\", \"\\u0447\\u0435\\u043a\", \"\\u043f\\u043e\\u0441\\u0442\\u0443\\u043f\\u0438\\u0442\\u044c\", \"\\u043b\\u0435\\u0442\\u0443\\u0430\\u043b\\u044f\", \"\\u0432\\u0435\\u0440\\u043d\\u0443\\u0442\\u044c\", \"\\u0437\\u043e\\u043d\\u0442\", \"\\u0432\\u043e\\u0437\\u0432\\u0440\\u0430\\u0442\", \"\\u0440\\u044e\\u043a\\u0437\\u0430\\u043a\", \"\\u0441\\u0435\\u0440\\u0442\\u0438\\u0444\\u0438\\u043a\\u0430\\u0442\", \"\\u0441\\u043c\\u0430\\u0440\\u0442\\u0444\\u043e\\u043d\", \"\\u0434\\u0443\\u0445\", \"\\u043f\\u043e\\u0434\\u0430\\u0440\\u043e\\u0447\\u043d\\u044b\\u0439\", \"\\u0442\\u043e\\u0432\\u0430\\u0440\", \"\\u0440\\u0435\\u043c\\u043e\\u043d\\u0442\", \"\\u043f\\u0440\\u043e\\u0434\\u0430\\u0432\\u0435\\u0446\", \"\\u0443\\u043a\\u0430\\u0437\\u0430\\u0442\\u044c\", \"\\u043a\\u0443\\u043f\\u0438\\u0442\\u044c\", \"\\u044f\", \"\\u0441\\u0434\\u0435\\u043b\\u0430\\u0442\\u044c\", \"\\u0441\\u0441\\u044b\\u043b\\u0430\\u0442\\u044c\\u0441\\u044f\", \"\\u0445\\u043e\\u0442\\u0435\\u0442\\u044c\", \"\\u043c\\u043e\\u0439\"], \"Freq\": [4903.0, 4920.0, 6983.0, 6928.0, 3984.0, 9936.0, 4996.0, 4993.0, 2991.0, 2991.0, 2950.0, 2953.0, 3952.0, 2972.0, 2978.0, 2995.0, 2994.0, 3001.0, 3001.0, 1998.0, 1998.0, 1998.0, 1998.0, 1998.0, 1998.0, 2969.0, 2980.0, 1971.0, 1973.0, 1973.0, 3971.1471657513125, 2978.3745862625806, 2978.3745862625806, 1985.601402010057, 1985.601402010057, 1985.601402010057, 1985.601402010057, 1985.601402010057, 1985.601402010057, 992.8267058480552, 992.8269074359856, 992.8269074359856, 992.8269074359856, 992.8267058480552, 992.8269074359856, 992.8267058480552, 992.8267058480552, 992.8267058480552, 992.8267058480552, 992.8267058480552, 992.8267058480552, 992.8267058480552, 992.8267058480552, 992.8267058480552, 992.8267058480552, 992.8267058480552, 992.8267058480552, 992.8267058480552, 992.8267058480552, 992.8267058480552, 6949.46571056923, 1985.601402010057, 1985.601402010057, 1985.601402010057, 1985.601402010057, 2978.3745862625806, 1985.601402010057, 1985.601402010057, 992.8269074359856, 992.8267058480552, 992.8267058480552, 992.8267058480552, 992.8267058480552, 992.8267058480552, 992.8267058480552, 992.8267058480552, 992.8267058480552, 1176.470274499447, 589.9883676234624, 583.2103620875796, 582.4967910757475, 581.2059787362089, 575.6603935448212, 571.3873004342965, 569.3025285231178, 568.6447148202989, 561.3084622048349, 559.5822526808485, 558.2962195392251, 557.5248692500311, 556.9059018482169, 1093.873357623938, 2713.7158273695636, 547.7263493598389, 1079.185779538046, 535.2705341569086, 533.3768688905783, 532.9104069196803, 532.5141011233098, 1056.5896092504352, 530.6632648229138, 1045.2181818001586, 525.8752437728874, 525.8324148069531, 519.3433056578803, 515.6546226719352, 1020.5172650049535, 1522.917394976171, 1508.2206261250572, 2412.750372757248, 3186.8966152753933, 982.8838999224077, 935.4255455458306, 926.585377381215, 901.2528711999574, 793.325531383308, 1200.9077839633912, 584.1334825464721, 1197.240133303275, 593.6761262318742, 586.6245842499354, 571.1346770300987, 565.2074953296227, 562.8266555460388, 560.8234391883225, 558.6796548368009, 556.5481763070364, 554.6852218281567, 551.5545228162931, 549.5032464084301, 549.0525839509378, 1090.3487043691193, 3783.729667364823, 1065.2593990566252, 533.2151137951978, 533.1499113067819, 532.6819227420391, 1056.5037762647637, 531.3279150107661, 526.9381039080472, 526.9246348494072, 526.0402074807163, 524.4878372494738, 523.0275464009334, 520.425140602723, 519.9725190094285, 2567.6095872280357, 518.7936090404743, 1009.5008023291011, 1480.6233721253736, 1466.0677277911955, 2269.533687011595, 972.2284885848412, 947.7646373771889, 936.5023615494481, 914.1230920582958, 899.5767536191779, 817.7723647467453, 626.2479221797901, 793.5692622697627, 660.8613825255397, 554.7485264037642, 2940.4184335760647, 1960.2983462424777, 1960.2973234455494, 980.183500743149, 980.183500743149, 980.183500743149, 980.183500743149, 980.183500743149, 980.183500743149, 980.183500743149, 980.183500743149, 980.183500743149, 980.183500743149, 980.183500743149, 980.183500743149, 980.183500743149, 980.183500743149, 1960.2983462424777, 980.183500743149, 980.183500743149, 980.183500743149, 980.183500743149, 980.183500743149, 980.183500743149, 2940.4220133653143, 980.183500743149, 980.183500743149, 980.183500743149, 0.06540677578947031, 0.06540677578947031, 0.06540755612159953, 0.06540739615351304, 2937.133157051752, 1958.1158240597413, 979.0889784742858, 979.0889784742858, 979.0889784742858, 979.0889784742858, 979.0889784742858, 979.0889784742858, 979.0889784742858, 979.0889784742858, 979.0889784742858, 979.0889784742858, 979.0889784742858, 979.0889784742858, 979.0889784742858, 979.0889784742858, 979.0889784742858, 979.0889784742858, 979.0889784742858, 979.0889784742858, 979.0889784742858, 979.0889784742858, 979.0889784742858, 979.0889784742858, 979.08861723656, 979.0889784742858, 979.0889784742858, 979.0889784742858, 979.0889784742858, 979.0889784742858, 974.0062907285115, 974.0062907285115, 974.0062907285115, 974.0062907285115, 974.0062907285115, 974.0062907285115, 974.0062907285115, 974.0061019485964, 974.0061019485964, 974.0061019485964, 974.0061019485964, 974.0061019485964, 3895.8284542425163, 2921.885121615689, 974.0064795084267, 974.0062907285115, 974.0062907285115, 974.0062907285115, 974.0062907285115, 974.0061019485964, 974.0062907285115, 0.06499914048878251, 0.0649988927612328, 0.06499880634464568, 0.06499876601690503, 0.06499869688363534, 0.06499869112252954, 0.06499863927257728, 0.06499859894483662, 0.06499855285599015, 0.06500559868839258, 0.06500242431909271, 0.06499904254998379, 0.06499898493892571, 0.0649988927612328, 0.06499885819459796, 1.3975036031580113, 1.3975036031580113, 1.3975036031580113, 1.3975036031580113, 1.3975036031580113, 1.3975036031580113, 1.3975036031580113, 1.3975036031580113, 1.3975036031580113, 1.3975036031580113, 1.3975036031580113, 1.3975036031580113, 1.3975037547868208, 1.3975037547868208, 1.3975037547868208, 1.3975037547868208, 1.3975037547868208, 1.3975037547868208, 1.3975037547868208, 1.3975037547868208, 1.3975037547868208, 1.3975037547868208, 1.3975037547868208, 1.3975037547868208, 1.3975037547868208, 1.3975037547868208, 1.3975037547868208, 1.3975037547868208, 1.3975037547868208, 1.3975037547868208, 1.3976035265435598, 1.3975694100613922, 1.3975609188480527, 1.3975536406651903, 1.3975466657399471, 1.3975440880501833, 1.3975402973299424, 1.397539235928275, 1.3975366582385114, 1.3975343838063667, 1.3975333224046993, 1.3975331707758898, 1.3975321093742223, 1.3975308963437452, 1.3975308963437452, 1.3975292284268392, 1.3975292284268392, 1.3975280153963623, 1.3975278637675526, 1.397523921418502, 1.397523921418502, 1.3975237697896925, 1.3975236181608828, 1.3975234665320733, 1.3975233149032635, 1.3975231632744538, 1.3975231632744538, 1.3975230116456443, 1.3975224051304058, 1.3975219502439769, 1.397501935241105, 1.397501935241105, 1.397501935241105, 1.397501935241105, 1.397501935241105, 1.397501935241105, 1.397501935241105, 1.397501935241105, 1.397501935241105, 1.397501935241105, 1.397501935241105, 1.397501935241105, 1.397501935241105, 1.397501935241105, 1.397501935241105, 1.397501935241105, 1.397501935241105, 1.397501935241105, 1.397501935241105, 1.397501935241105, 1.397501935241105, 1.397501935241105, 1.397501935241105, 1.397501935241105, 1.397501935241105, 1.397501935241105, 1.397501935241105, 1.397501935241105, 1.397501935241105, 1.397501935241105, 1.3976130791585668, 1.3975601607040045, 1.3975598574463852, 1.3975534890363805, 1.3975506080889977, 1.3975469689975664, 1.3975407522163714, 1.3975386294130365, 1.3975374163825596, 1.3975362033520824, 1.3975349903216054, 1.397533928919938, 1.3975322610030319, 1.3975299865708875, 1.3975296833132682, 1.397528470282791, 1.3975268023658851, 1.3975266507370754, 1.3975264991082659, 1.3975263474794561, 1.3975252860777887, 1.3975233149032635, 1.3975230116456443, 1.3975225567592153, 1.3975225567592153, 1.3975221018727866, 1.3975214953575479, 1.3975213437287384, 1.3975211920999286, 1.3975210404711191, 1.3975008738394377, 1.3975008738394377, 1.3975007222106282, 1.3975008738394377, 1.3975008738394377, 1.3975008738394377, 1.3975008738394377, 1.3975005705818184, 1.3975005705818184, 1.3975007222106282, 1.3975005705818184, 1.397500418953009, 1.3974990542937222, 1.3974990542937222, 1.3974990542937222, 1.3974990542937222, 1.3974990542937222, 1.3974990542937222, 1.3974990542937222, 1.3974990542937222, 1.3974990542937222, 1.3974990542937222, 1.3974990542937222, 1.3974990542937222, 1.3974990542937222, 1.3974990542937222, 1.3974990542937222, 1.3974990542937222, 1.3974990542937222, 1.3974990542937222, 1.3976045879452272, 1.3975907897235504, 1.3975806305933052, 1.39756622585639, 1.3975453010806604, 1.3975416619892291, 1.3975390842994655, 1.3975360517232729, 1.3975357484656534, 1.397535596836844, 1.397533474033509, 1.397533474033509, 1.3975331707758898, 1.3975311996013644, 1.397530593086126, 1.3975290767980297, 1.3975283186539815, 1.3975283186539815, 1.3975271056235044, 1.3975263474794561, 1.3975261958506466, 1.3975245279337407, 1.3975245279337407, 1.397524376304931, 1.397524376304931, 1.3975240730473117, 1.397523921418502, 1.3975237697896925, 1.3975234665320733, 1.3975230116456443, 1.3974750969418, 1.3974750969418, 1.3974750969418, 1.3974750969418, 1.3974750969418, 1.3974750969418, 1.3974750969418, 1.3974750969418, 1.3974750969418, 1.3974750969418, 1.3974750969418, 1.3974750969418, 1.3974750969418, 1.3974750969418, 1.3974750969418, 1.3974750969418, 1.3974750969418, 1.3974750969418, 1.3974750969418, 1.3974750969418, 1.3974750969418, 1.3974750969418, 1.3974750969418, 1.3974750969418, 1.3974750969418, 1.3974750969418, 1.3974750969418, 1.3974750969418, 1.3974750969418, 1.3974750969418, 1.3975287735404103, 1.3975280153963623, 1.3975263474794561, 1.3975255893354082, 1.3975246795625502, 1.3975246795625502, 1.3975246795625502, 1.3975245279337407, 1.3975228600168346, 1.3975221018727866, 1.3975221018727866, 1.3975210404711191, 1.3975205855846902, 1.3975184627813553, 1.3978808556363798, 1.3977377180400856, 1.3977252844776957, 1.397670091590989, 1.397649773330498, 1.3976441630645415, 1.3976197508261905, 1.397619144310952, 1.397614140560234, 1.3975973097623648, 1.3975968548759359, 1.397594732072601, 1.3975939739285528, 1.3975915478675986, 1.3975886669202158, 1.3975780529035413, 1.3975762333578257, 1.3975762333578257, 1.3975762333578257, 1.3975750203273487, 1.3975733524104426, 1.3975719877511559, 1.397569106803773, 1.3975663774851994, 1.3975586444159083, 1.3975427233908966, 1.397542116875658, 1.397539690814704, 1.397538477784227, 1.3975381745266076, 1.397482981639901, 1.397482981639901, 1.397482981639901, 1.397482981639901, 1.397482981639901, 1.397482981639901, 1.397482981639901, 1.397482981639901, 1.397482981639901, 1.397482981639901, 1.397482981639901, 1.397482981639901, 1.397482981639901, 1.397482981639901, 1.397482981639901, 1.397482981639901, 1.397482981639901, 1.397482981639901, 1.397482981639901, 1.397482981639901, 1.397482981639901, 1.397482981639901, 1.397482981639901, 1.397482981639901, 1.397482981639901, 1.397482981639901, 1.397482981639901, 1.397482981639901, 1.397482981639901, 1.397482981639901, 1.3975418136180389, 1.3975418136180389, 1.3975412071028004, 1.3975410554739907, 1.3975410554739907, 1.397538477784227, 1.3975378712689883, 1.397537568011369, 1.3975372647537498, 1.3975371131249401, 1.3975366582385114, 1.397535141950415, 1.3975328675182705, 1.3975321093742223, 1.3978741839687558, 1.397800037480845, 1.3976517445050234, 1.397643101662874, 1.3976290001835783, 1.3976135340449956, 1.3975989776792708, 1.3975909413523602, 1.3975898799506927, 1.3975897283218832, 1.397588515291406, 1.3975882120337868, 1.3975871506321194, 1.3975824501390206, 1.3975783561611606, 1.397574868698539, 1.3975663774851994, 1.3975650128259127, 1.3975610704768624, 1.397560009075195, 1.3975568248701926, 1.3975560667261444, 1.3975547020668577, 1.3975466657399471, 1.3975454527094702, 1.3975433299061353, 1.3975424201332773, 1.3974696383046532, 1.3974696383046532, 1.3974696383046532, 1.3974696383046532, 1.3974696383046532, 1.3974696383046532, 1.3974696383046532, 1.3974696383046532, 1.3974696383046532, 1.3974696383046532, 1.3974696383046532, 1.3974696383046532, 1.3974696383046532, 1.3974696383046532, 1.3974696383046532, 1.3974696383046532, 1.3974696383046532, 1.3974696383046532, 1.3974696383046532, 1.3974696383046532, 1.3974696383046532, 1.3974696383046532, 1.3974696383046532, 1.3974696383046532, 1.3974696383046532, 1.3974696383046532, 1.3974696383046532, 1.3974696383046532, 1.3974696383046532, 1.3974696383046532, 1.3981092086236881, 1.3978614471487467, 1.3977563683836705, 1.3977290751979365, 1.397712699286496, 1.3976473472695439, 1.3976464374966862, 1.3976458309814477, 1.3976446179509705, 1.3976429500340646, 1.3976412821171587, 1.3976382495409658, 1.3976373397681081, 1.3976202057126195, 1.3976159601059497, 1.3976126242721378, 1.3976024651418923, 1.3975678937732958, 1.3975671356292476, 1.3975663774851994, 1.39756622585639, 1.3975656193411514, 1.3975647095682935, 1.397564557939484, 1.3975637997954358, 1.397562890022578, 1.3975625867649586, 1.3975618286209106, 1.3975606155904334, 1.3975603123328142, 1.3975064841053941, 1.3975064841053941, 1.3975064841053941, 1.3975064841053941, 1.3975064841053941, 1.3975064841053941, 1.3975064841053941, 1.3975064841053941, 1.3975064841053941, 1.3975064841053941, 1.3975064841053941, 1.3975064841053941, 1.3975064841053941, 1.3975064841053941, 1.3975064841053941, 1.3975064841053941, 1.3975064841053941, 1.3975064841053941, 1.3975064841053941, 1.3975064841053941, 1.3975064841053941, 1.3975064841053941, 1.3975064841053941, 1.3975064841053941, 1.3975064841053941, 1.3975064841053941, 1.3975064841053941, 1.3975064841053941, 1.3975064841053941, 1.3975064841053941, 1.3975722910087753, 1.397543784792564, 1.3975404489587522, 1.397539235928275, 1.397537568011369, 1.3975354452080342, 1.3975345354351765, 1.3975328675182705, 1.397531806116603, 1.397531806116603, 1.3975311996013644, 1.3975304414573164, 1.3975277121387428, 1.3975277121387428, 1.3975275605099333, 1.3975263474794561, 1.397526044221837, 1.3975211920999286, 1.3975205855846902, 1.3975201306982612, 1.3975199790694517, 1.3975196758118322, 1.397519372554213, 1.3975192209254035, 1.3975192209254035, 1.3975190692965938, 1.3975189176677842, 1.3975187660389745, 1.3975187660389745, 1.3975187660389745, 1.3975113362273024, 1.3975113362273024, 1.3975113362273024, 1.3975113362273024, 1.3975113362273024, 1.3975113362273024, 1.3975113362273024, 1.3975113362273024, 1.3975113362273024, 1.3975113362273024, 1.3975113362273024, 1.3975113362273024, 1.3975137622882565, 1.397514065545876, 1.397514065545876, 1.397514065545876, 1.397514065545876, 1.3975139139170663, 1.3975139139170663, 1.3975139139170663, 1.3975139139170663, 1.3975139139170663, 1.3975139139170663, 1.3975137622882565, 1.3975137622882565, 1.3975137622882565, 1.3975137622882565, 1.3975137622882565, 1.397513610659447, 1.397513610659447, 1.3975245279337407, 1.397519372554213, 1.3975192209254035, 1.3975189176677842, 1.3975170981220686, 1.3975163399780204, 1.3975163399780204, 1.3975161883492109, 1.3975158850915914, 1.3975158850915914, 1.397515733462782, 1.3975154302051627, 1.397515278576353, 1.397514823689924, 1.397514823689924, 1.397514823689924, 1.3975143688034952, 1.3975143688034952, 1.3975142171746855, 1.3975142171746855, 1.397514065545876, 1.397514065545876, 1.397514065545876, 1.3975139139170663, 1.3975139139170663, 1.3975139139170663, 1.397502845013963, 1.397502845013963, 1.397502845013963, 1.397502845013963, 1.397502845013963, 1.397502845013963, 1.397502845013963, 1.397502845013963, 1.397502845013963, 1.397502845013963, 1.397502845013963, 1.397502845013963, 1.397502845013963, 1.397502845013963, 1.397502845013963, 1.397502845013963, 1.397502845013963, 1.397502845013963, 1.397502845013963, 1.397502845013963, 1.397502845013963, 1.397502845013963, 1.397502845013963, 1.397502845013963, 1.397502845013963, 1.397502845013963, 1.397502845013963, 1.397502845013963, 1.397502845013963, 1.397502845013963, 1.39753301914708, 1.3975322610030319, 1.3975319577454126, 1.3975319577454126, 1.3975315028589839, 1.3975313512301741, 1.3975313512301741, 1.3975313512301741, 1.397530593086126, 1.3975302898285067, 1.397530138199697, 1.3975287735404103, 1.3975286219116008, 1.397528470282791, 1.3976012521114152, 1.397594732072601, 1.397579872449257, 1.3975598574463852, 1.397558341158289, 1.3975562183549541, 1.3975507597178072, 1.3975496983161397, 1.3975475755128048, 1.3975457559670894, 1.3975399940723232, 1.3975337772911283, 1.397533474033509, 1.3975333224046993, 1.3975328675182705, 1.3975296833132682], \"Total\": [4903.0, 4920.0, 6983.0, 6928.0, 3984.0, 9936.0, 4996.0, 4993.0, 2991.0, 2991.0, 2950.0, 2953.0, 3952.0, 2972.0, 2978.0, 2995.0, 2994.0, 3001.0, 3001.0, 1998.0, 1998.0, 1998.0, 1998.0, 1998.0, 1998.0, 2969.0, 2980.0, 1971.0, 1973.0, 1973.0, 3984.054018093949, 2991.281241722977, 2991.281258143636, 1998.5078665481994, 1998.5078717002286, 1998.5078775950037, 1998.5078870343584, 1998.5078887133175, 1998.50789055726, 1005.7330111320717, 1005.7332162308747, 1005.7332177720775, 1005.7332185755185, 1005.7330144851314, 1005.7332194426967, 1005.7330167225056, 1005.7330170155473, 1005.7330190348528, 1005.7330196340185, 1005.7330207011349, 1005.7330208519222, 1005.7330209051202, 1005.7330209765632, 1005.7330212573825, 1005.7330214005602, 1005.7330217105194, 1005.7330217106497, 1005.7330217116213, 1005.7330220135835, 1005.7330220449903, 9936.83557645698, 2972.448994766669, 2978.6261150031323, 2994.7078104902816, 2995.068756284665, 6928.6454579007095, 3952.567412942429, 4920.3280197088025, 1979.6745115787364, 1985.851256995394, 1984.75667513509, 2980.9778568971356, 2001.7619537074786, 1005.7330239545163, 1005.7330245571296, 1005.7330251301494, 1005.7330250619599, 2007.0822932855158, 1010.0358276354038, 1009.9708871959616, 1009.9640344065172, 1009.9514337661011, 1009.8984226529661, 1009.8573498733401, 1009.8373081431994, 1009.8310825176247, 1009.7605910170354, 1009.7439872320388, 1009.7317566960164, 1009.7242415538975, 1009.7183157643374, 2006.2897646586412, 4996.089478959349, 1009.6302271209291, 2006.1485308140896, 1009.5106707063198, 1009.4925677616177, 1009.4881131577823, 1009.484244157201, 2005.9316355530023, 1009.4665232527528, 2005.8224713971256, 1009.4207255652447, 1009.4202126110736, 1009.3580102684647, 1009.3226409785809, 2005.5854189015004, 3001.8248860431954, 3001.6837553325227, 4993.199925515415, 6983.466470443373, 2005.2243355810579, 2004.7689599404152, 2004.684420341078, 2004.4412250825803, 2003.4053471208215, 9936.83557645698, 6928.6454579007095, 2003.4053471208215, 1008.2294162183463, 1008.2977175099019, 1008.4478198059896, 1008.5051736312341, 1008.527955532157, 1008.5476663334041, 1008.5681793526288, 1008.5889471923583, 1008.6070455435281, 1008.637362363103, 1008.6572248980061, 1008.6614733530232, 2004.4412250825803, 6983.466470443373, 2004.684420341078, 1008.8151179654701, 1008.8157030089571, 1008.8201279584265, 2004.7689599404152, 1008.833424776631, 1008.8759392030137, 1008.8761604418142, 1008.8846467138617, 1008.8995731097706, 1008.9138023556404, 1008.9388968084222, 1008.9433620047453, 4993.199925515415, 1008.9547491183705, 2005.2243355810579, 3001.6837553325227, 3001.8248860431954, 4996.089478959349, 2005.5854189015004, 2005.8224713971256, 2005.9316355530023, 2006.1485308140896, 2006.2897646586412, 2007.0822932855158, 1986.9374396097526, 9936.83557645698, 4903.341669403105, 2001.3668585791254, 2953.325838247297, 1973.2056072987887, 1973.2045890432453, 993.0906268049422, 993.0906269490916, 993.0906286170084, 993.09062967841, 993.090629830039, 993.0906299816677, 993.0906301332965, 993.0906311946983, 993.0906312021776, 993.090632104471, 993.0906331658726, 993.0906334691304, 993.090633772388, 993.0906340831251, 2969.7688325467793, 1967.0319255792651, 1985.8510601454839, 1985.851256995394, 1988.9778252154633, 1989.250752220124, 1989.666912890032, 6928.6454579007095, 2978.6261150031323, 3952.567412942429, 9936.83557645698, 986.9135108849962, 986.9135109447843, 3984.054018093949, 2991.281241722977, 2950.040244114434, 1971.0229046047411, 991.9960525431667, 991.996052548537, 991.9960525662111, 991.9960525831036, 991.9960526468666, 991.9960527480947, 991.9960528057057, 991.9960528153879, 991.9960528229891, 991.9960528806001, 991.9960529789297, 991.996052980379, 991.9960530112655, 991.9960531244066, 991.9960531536029, 991.9960533221243, 991.9960533743651, 991.9960533898083, 991.996053408541, 991.9960534165047, 991.9960534665429, 991.9960535165526, 991.9956923687737, 1965.9375357821928, 1984.75667513509, 1986.9374396097526, 1988.123741378493, 2980.9778568971356, 986.9136995506501, 986.9136996649113, 986.9136997866461, 986.913699968169, 986.9136999905895, 986.91370001301, 986.9137000204836, 986.9135108849962, 986.9135109447843, 986.9135110964132, 986.9135111508864, 986.9135111882539, 4903.341669403105, 4920.3280197088025, 1965.9375357821928, 1967.0319255792651, 1979.6745115787364, 1982.7136731749924, 1983.2673290292164, 2972.448994766669, 3952.567412942429, 991.9956923687737, 991.9960535165526, 991.9960534165047, 991.9960533898083, 991.9960530112655, 991.9960534665429, 991.996053408541, 991.9960533743651, 991.9960533221243, 2950.040244114434, 1971.0229046047411, 1988.123741378493, 1986.9374396097526, 1984.75667513509, 2980.9778568971356, 986.9135108849962, 986.9135109447843, 986.9135110964132, 986.9135111508864, 986.9135111882539, 986.9136995506501, 986.9136996649113, 986.9136997866461, 986.913699968169, 986.9136999905895, 986.91370001301, 986.9137000204836, 991.9956923687737, 991.9960525431667, 991.996052548537, 991.9960525662111, 991.9960525831036, 991.9960526468666, 991.9960527480947, 991.9960528057057, 991.9960528153879, 991.9960528229891, 991.9960528806001, 991.9960529789297, 991.996052980379, 991.9960530112655, 991.9960531244066, 991.9960531536029, 991.9960533221243, 991.9960533743651, 6983.466470443373, 4993.199925515415, 4996.089478959349, 3001.8248860431954, 3001.6837553325227, 2005.5854189015004, 2003.4053471208215, 2005.8224713971256, 2004.684420341078, 2007.0822932855158, 2004.4412250825803, 2005.9316355530023, 2006.1485308140896, 6928.6454579007095, 2005.2243355810579, 2006.2897646586412, 2004.7689599404152, 2995.068756284665, 9936.83557645698, 1008.9547491183705, 1008.5889471923583, 1009.6302271209291, 1008.2977175099019, 2001.7619537074786, 1009.2767744672428, 1008.4478198059896, 1008.5476663334041, 1009.7317566960164, 1009.9708871959616, 1009.7605910170354, 986.9135108849962, 986.9135109447843, 986.9135110964132, 986.9135111508864, 986.9135111882539, 986.9136995506501, 986.9136996649113, 986.9136997866461, 986.913699968169, 986.9136999905895, 986.91370001301, 986.9137000204836, 991.9956923687737, 991.9960525431667, 991.996052548537, 991.9960525662111, 991.9960525831036, 991.9960526468666, 991.9960527480947, 991.9960528057057, 991.9960528153879, 991.9960528229891, 991.9960528806001, 991.9960529789297, 991.996052980379, 991.9960530112655, 991.9960531244066, 991.9960531536029, 991.9960533221243, 991.9960533743651, 9936.83557645698, 2991.281241722977, 3984.054018093949, 2991.281258143636, 2995.068756284665, 6928.6454579007095, 1998.5078717002286, 4993.199925515415, 4920.3280197088025, 6983.466470443373, 2994.7078104902816, 3952.567412942429, 4996.089478959349, 1998.5078870343584, 2978.6261150031323, 1998.5078665481994, 2980.9778568971356, 2001.3668585791254, 1998.50789055726, 2972.448994766669, 1998.5078775950037, 1005.7330247731285, 1005.7330231341577, 2001.7619537074786, 3001.8248860431954, 1005.7330209765632, 1005.7332194426967, 1005.7330208519222, 1005.7330234096496, 1005.7330167225056, 986.9135111508864, 986.9135111882539, 986.9135110964132, 986.913699968169, 986.9136999905895, 986.91370001301, 986.9137000204836, 986.9135108849962, 986.9135109447843, 986.9136997866461, 986.9136996649113, 986.9136995506501, 991.9956923687737, 991.9960525431667, 991.996052548537, 991.9960525662111, 991.9960525831036, 991.9960526468666, 991.9960527480947, 991.9960528057057, 991.9960528153879, 991.9960528229891, 991.9960528806001, 991.9960529789297, 991.996052980379, 991.9960530112655, 991.9960531244066, 991.9960531536029, 991.9960533221243, 991.9960533743651, 9936.83557645698, 6983.466470443373, 4996.089478959349, 4993.199925515415, 3984.054018093949, 6928.6454579007095, 2991.281258143636, 2995.068756284665, 2994.7078104902816, 3952.567412942429, 3001.6837553325227, 1998.50789055726, 4920.3280197088025, 2978.6261150031323, 2991.281241722977, 3001.8248860431954, 2004.4412250825803, 2004.7689599404152, 1998.5078717002286, 2007.0822932855158, 2003.4053471208215, 2980.9778568971356, 2972.448994766669, 2006.1485308140896, 2005.8224713971256, 2005.9316355530023, 2001.3668585791254, 2006.2897646586412, 2001.7619537074786, 2004.684420341078, 986.9135108849962, 986.9135109447843, 986.9135110964132, 986.9135111508864, 986.9135111882539, 986.9136995506501, 986.9136996649113, 986.9136997866461, 986.913699968169, 986.9136999905895, 986.91370001301, 986.9137000204836, 991.9956923687737, 991.9960525431667, 991.996052548537, 991.9960525662111, 991.9960525831036, 991.9960526468666, 991.9960527480947, 991.9960528057057, 991.9960528153879, 991.9960528229891, 991.9960528806001, 991.9960529789297, 991.996052980379, 991.9960530112655, 991.9960531244066, 991.9960531536029, 991.9960533221243, 991.9960533743651, 993.090632104471, 993.090633772388, 993.0906331658726, 993.0906299816677, 993.090629830039, 993.0906334691304, 993.0906340831251, 993.0906269490916, 993.0906301332965, 993.0906286170084, 993.09062967841, 993.0906312021776, 993.0906311946983, 993.0906268049422, 6983.466470443373, 4996.089478959349, 4993.199925515415, 6928.6454579007095, 3001.8248860431954, 3001.6837553325227, 2969.7688325467793, 9936.83557645698, 2953.325838247297, 2006.2897646586412, 2005.9316355530023, 2003.4053471208215, 2007.0822932855158, 2006.1485308140896, 2005.5854189015004, 1973.2045890432453, 1989.666912890032, 1988.9778252154633, 2004.4412250825803, 1973.2056072987887, 2005.8224713971256, 2004.7689599404152, 2005.2243355810579, 2004.684420341078, 1989.250752220124, 1010.0358276354038, 1008.9138023556404, 1009.7439872320388, 1008.8761604418142, 1009.4881131577823, 986.9135108849962, 986.9135109447843, 986.9135110964132, 986.9135111508864, 986.9135111882539, 986.9136995506501, 986.9136996649113, 986.9136997866461, 986.913699968169, 986.9136999905895, 986.91370001301, 986.9137000204836, 991.9956923687737, 991.9960525431667, 991.996052548537, 991.9960525662111, 991.9960525831036, 991.9960526468666, 991.9960527480947, 991.9960528057057, 991.9960528153879, 991.9960528229891, 991.9960528806001, 991.9960529789297, 991.996052980379, 991.9960530112655, 991.9960531244066, 991.9960531536029, 991.9960533221243, 991.9960533743651, 993.0906311946983, 993.0906340831251, 993.0906334691304, 993.09062967841, 993.0906312021776, 993.0906268049422, 993.0906301332965, 993.0906299816677, 993.0906286170084, 993.0906331658726, 993.090629830039, 993.090633772388, 993.0906269490916, 993.090632104471, 9936.83557645698, 6928.6454579007095, 2953.325838247297, 3984.054018093949, 3952.567412942429, 2978.6261150031323, 2991.281241722977, 2991.281258143636, 2969.7688325467793, 1973.2056072987887, 1998.5078665481994, 1973.2045890432453, 1998.5078870343584, 1985.8510601454839, 1998.5078887133175, 1985.851256995394, 2994.7078104902816, 2995.068756284665, 2972.448994766669, 1998.50789055726, 1998.5078775950037, 4920.3280197088025, 1998.5078717002286, 1005.732826613034, 1989.250752220124, 1988.9778252154633, 1005.7330207011349, 986.9135108849962, 986.9135109447843, 986.9135110964132, 986.9135111508864, 986.9135111882539, 986.9136995506501, 986.9136996649113, 986.9136997866461, 986.913699968169, 986.9136999905895, 986.91370001301, 986.9137000204836, 991.9956923687737, 991.9960525431667, 991.996052548537, 991.9960525662111, 991.9960525831036, 991.9960526468666, 991.9960527480947, 991.9960528057057, 991.9960528153879, 991.9960528229891, 991.9960528806001, 991.9960529789297, 991.996052980379, 991.9960530112655, 991.9960531244066, 991.9960531536029, 991.9960533221243, 991.9960533743651, 9936.83557645698, 3984.054018093949, 2991.281258143636, 2991.281241722977, 6928.6454579007095, 1998.50789055726, 2972.448994766669, 2994.7078104902816, 1998.5078775950037, 1998.5078887133175, 4920.3280197088025, 2978.6261150031323, 2995.068756284665, 1998.5078870343584, 3952.567412942429, 1998.5078717002286, 1998.5078665481994, 1005.7330291770654, 1005.7330315063629, 1005.732825742084, 2001.3668585791254, 1005.7330314074138, 1005.7330327424794, 1005.733023687345, 1005.7330245928924, 1005.7330251301494, 1005.7330231113954, 1005.73282602096, 1985.851256995394, 1005.7330217105194, 986.9135108849962, 986.9135109447843, 986.9135110964132, 986.9135111508864, 986.9135111882539, 986.9136995506501, 986.9136996649113, 986.9136997866461, 986.913699968169, 986.9136999905895, 986.91370001301, 986.9137000204836, 991.9956923687737, 991.9960525431667, 991.996052548537, 991.9960525662111, 991.9960525831036, 991.9960526468666, 991.9960527480947, 991.9960528057057, 991.9960528153879, 991.9960528229891, 991.9960528806001, 991.9960529789297, 991.996052980379, 991.9960530112655, 991.9960531244066, 991.9960531536029, 991.9960533221243, 991.9960533743651, 9936.83557645698, 3984.054018093949, 2991.281241722977, 1998.5078717002286, 6928.6454579007095, 2991.281258143636, 2994.7078104902816, 1998.5078775950037, 3952.567412942429, 2972.448994766669, 1998.5078870343584, 2978.6261150031323, 2995.068756284665, 4920.3280197088025, 1998.5078665481994, 1998.5078887133175, 1998.50789055726, 1005.7330247731285, 2980.9778568971356, 1005.7328252001477, 2001.3668585791254, 1005.7330233951448, 1005.7330327424794, 1005.732826613034, 1005.7330232275854, 1005.7330217116213, 1005.7330111320717, 1005.7332162308747, 1005.7330170155473, 1005.7330227492889, 986.9135108849962, 986.9135109447843, 986.9135110964132, 986.9135111508864, 986.9135111882539, 986.9136995506501, 986.9136996649113, 986.9136997866461, 986.913699968169, 986.9136999905895, 986.91370001301, 986.9137000204836, 991.9956923687737, 991.9960533221243, 991.9960533743651, 991.996053408541, 991.9960534665429, 991.996052980379, 991.9960531244066, 991.9960531536029, 991.9960533898083, 991.9960534165047, 991.9960535165526, 991.9960527480947, 991.9960528057057, 991.9960528229891, 991.9960528806001, 991.9960529789297, 991.9960528153879, 991.9960530112655, 6928.6454579007095, 9936.83557645698, 2953.325838247297, 2950.040244114434, 1973.2045890432453, 3952.567412942429, 2969.7688325467793, 1973.2056072987887, 1985.851256995394, 1971.0229046047411, 3984.054018093949, 2978.6261150031323, 1985.8510601454839, 993.0906340831251, 993.090632104471, 1984.75667513509, 993.0906269490916, 993.090629830039, 993.0906311946983, 993.0906268049422, 993.0906299816677, 1988.9778252154633, 2980.9778568971356, 993.09062967841, 1989.250752220124, 993.0906286170084, 986.9135108849962, 986.9135109447843, 986.9135110964132, 986.9135111508864, 986.9135111882539, 986.9136995506501, 986.9136996649113, 986.9136997866461, 986.913699968169, 986.9136999905895, 986.91370001301, 986.9137000204836, 991.9956923687737, 991.9960525431667, 991.996052548537, 991.9960525662111, 991.9960525831036, 991.9960526468666, 991.9960527480947, 991.9960528057057, 991.9960528153879, 991.9960528229891, 991.9960528806001, 991.9960529789297, 991.996052980379, 991.9960530112655, 991.9960531244066, 991.9960531536029, 991.9960533221243, 991.9960533743651, 993.090633772388, 993.090632104471, 993.0906301332965, 993.0906331658726, 993.0906268049422, 993.0906269490916, 993.0906286170084, 993.0906312021776, 993.0906311946983, 993.0906334691304, 993.090629830039, 993.0906340831251, 993.0906299816677, 993.09062967841, 6928.6454579007095, 2953.325838247297, 2969.7688325467793, 6983.466470443373, 1973.2045890432453, 1973.2056072987887, 9936.83557645698, 4993.199925515415, 4996.089478959349, 1989.666912890032, 1989.250752220124, 2978.6261150031323, 1985.8510601454839, 1985.851256995394, 1988.9778252154633, 3001.6837553325227], \"Category\": [\"Default\", \"Default\", \"Default\", \"Default\", \"Default\", \"Default\", \"Default\", \"Default\", \"Default\", \"Default\", \"Default\", \"Default\", \"Default\", \"Default\", \"Default\", \"Default\", \"Default\", \"Default\", \"Default\", \"Default\", \"Default\", \"Default\", \"Default\", \"Default\", \"Default\", \"Default\", \"Default\", \"Default\", \"Default\", \"Default\", \"Topic1\", \"Topic1\", \"Topic1\", \"Topic1\", \"Topic1\", \"Topic1\", \"Topic1\", \"Topic1\", \"Topic1\", \"Topic1\", \"Topic1\", \"Topic1\", \"Topic1\", \"Topic1\", \"Topic1\", \"Topic1\", \"Topic1\", \"Topic1\", \"Topic1\", \"Topic1\", \"Topic1\", \"Topic1\", \"Topic1\", \"Topic1\", \"Topic1\", \"Topic1\", \"Topic1\", \"Topic1\", \"Topic1\", \"Topic1\", \"Topic1\", \"Topic1\", \"Topic1\", \"Topic1\", \"Topic1\", \"Topic1\", \"Topic1\", \"Topic1\", \"Topic1\", \"Topic1\", \"Topic1\", \"Topic1\", \"Topic1\", \"Topic1\", \"Topic1\", \"Topic1\", \"Topic1\", \"Topic2\", \"Topic2\", \"Topic2\", \"Topic2\", \"Topic2\", \"Topic2\", \"Topic2\", \"Topic2\", \"Topic2\", \"Topic2\", \"Topic2\", \"Topic2\", \"Topic2\", \"Topic2\", \"Topic2\", \"Topic2\", \"Topic2\", \"Topic2\", \"Topic2\", \"Topic2\", \"Topic2\", \"Topic2\", \"Topic2\", \"Topic2\", \"Topic2\", \"Topic2\", \"Topic2\", \"Topic2\", \"Topic2\", \"Topic2\", \"Topic2\", \"Topic2\", \"Topic2\", \"Topic2\", \"Topic2\", \"Topic2\", \"Topic2\", \"Topic2\", \"Topic2\", \"Topic2\", \"Topic2\", \"Topic3\", \"Topic3\", \"Topic3\", \"Topic3\", \"Topic3\", \"Topic3\", \"Topic3\", \"Topic3\", \"Topic3\", \"Topic3\", \"Topic3\", \"Topic3\", \"Topic3\", \"Topic3\", \"Topic3\", \"Topic3\", \"Topic3\", \"Topic3\", \"Topic3\", \"Topic3\", \"Topic3\", \"Topic3\", \"Topic3\", \"Topic3\", \"Topic3\", \"Topic3\", \"Topic3\", \"Topic3\", \"Topic3\", \"Topic3\", \"Topic3\", \"Topic3\", \"Topic3\", \"Topic3\", \"Topic3\", \"Topic3\", \"Topic3\", \"Topic3\", \"Topic3\", \"Topic3\", \"Topic3\", \"Topic3\", \"Topic3\", \"Topic3\", \"Topic4\", \"Topic4\", \"Topic4\", \"Topic4\", \"Topic4\", \"Topic4\", \"Topic4\", \"Topic4\", \"Topic4\", \"Topic4\", \"Topic4\", \"Topic4\", \"Topic4\", \"Topic4\", \"Topic4\", \"Topic4\", \"Topic4\", \"Topic4\", \"Topic4\", \"Topic4\", \"Topic4\", \"Topic4\", \"Topic4\", \"Topic4\", \"Topic4\", \"Topic4\", \"Topic4\", \"Topic4\", \"Topic4\", \"Topic4\", \"Topic4\", \"Topic4\", \"Topic5\", \"Topic5\", \"Topic5\", \"Topic5\", \"Topic5\", \"Topic5\", \"Topic5\", \"Topic5\", \"Topic5\", \"Topic5\", \"Topic5\", \"Topic5\", \"Topic5\", \"Topic5\", \"Topic5\", \"Topic5\", \"Topic5\", \"Topic5\", \"Topic5\", \"Topic5\", \"Topic5\", \"Topic5\", \"Topic5\", \"Topic5\", \"Topic5\", \"Topic5\", \"Topic5\", \"Topic5\", \"Topic5\", \"Topic5\", \"Topic6\", \"Topic6\", \"Topic6\", \"Topic6\", \"Topic6\", \"Topic6\", \"Topic6\", \"Topic6\", \"Topic6\", \"Topic6\", \"Topic6\", \"Topic6\", \"Topic6\", \"Topic6\", \"Topic6\", \"Topic6\", \"Topic6\", \"Topic6\", \"Topic6\", \"Topic6\", \"Topic6\", \"Topic6\", \"Topic6\", \"Topic6\", \"Topic6\", \"Topic6\", \"Topic6\", \"Topic6\", \"Topic6\", \"Topic6\", \"Topic6\", \"Topic6\", \"Topic6\", \"Topic6\", \"Topic6\", \"Topic6\", \"Topic7\", \"Topic7\", \"Topic7\", \"Topic7\", \"Topic7\", \"Topic7\", \"Topic7\", \"Topic7\", \"Topic7\", \"Topic7\", \"Topic7\", \"Topic7\", \"Topic7\", \"Topic7\", \"Topic7\", \"Topic7\", \"Topic7\", \"Topic7\", \"Topic7\", \"Topic7\", \"Topic7\", \"Topic7\", \"Topic7\", \"Topic7\", \"Topic7\", \"Topic7\", \"Topic7\", \"Topic7\", \"Topic7\", \"Topic7\", \"Topic7\", \"Topic7\", \"Topic7\", \"Topic7\", \"Topic7\", \"Topic7\", \"Topic7\", \"Topic7\", \"Topic7\", \"Topic7\", \"Topic7\", \"Topic7\", \"Topic7\", \"Topic7\", \"Topic7\", \"Topic7\", \"Topic7\", \"Topic7\", \"Topic7\", \"Topic7\", \"Topic7\", \"Topic7\", \"Topic7\", \"Topic7\", \"Topic7\", \"Topic7\", \"Topic7\", \"Topic7\", \"Topic7\", \"Topic7\", \"Topic8\", \"Topic8\", \"Topic8\", \"Topic8\", \"Topic8\", \"Topic8\", \"Topic8\", \"Topic8\", \"Topic8\", \"Topic8\", \"Topic8\", \"Topic8\", \"Topic8\", \"Topic8\", \"Topic8\", \"Topic8\", \"Topic8\", \"Topic8\", \"Topic8\", \"Topic8\", \"Topic8\", \"Topic8\", \"Topic8\", \"Topic8\", \"Topic8\", \"Topic8\", \"Topic8\", \"Topic8\", \"Topic8\", \"Topic8\", \"Topic8\", \"Topic8\", \"Topic8\", \"Topic8\", \"Topic8\", \"Topic8\", \"Topic8\", \"Topic8\", \"Topic8\", \"Topic8\", \"Topic8\", \"Topic8\", \"Topic8\", \"Topic8\", \"Topic8\", \"Topic8\", \"Topic8\", \"Topic8\", \"Topic8\", \"Topic8\", \"Topic8\", \"Topic8\", \"Topic8\", \"Topic8\", \"Topic8\", \"Topic8\", \"Topic8\", \"Topic8\", \"Topic8\", \"Topic8\", \"Topic9\", \"Topic9\", \"Topic9\", \"Topic9\", \"Topic9\", \"Topic9\", \"Topic9\", \"Topic9\", \"Topic9\", \"Topic9\", \"Topic9\", \"Topic9\", \"Topic9\", \"Topic9\", \"Topic9\", \"Topic9\", \"Topic9\", \"Topic9\", \"Topic9\", \"Topic9\", \"Topic9\", \"Topic9\", \"Topic9\", \"Topic9\", \"Topic9\", \"Topic9\", \"Topic9\", \"Topic9\", \"Topic9\", \"Topic9\", \"Topic9\", \"Topic9\", \"Topic9\", \"Topic9\", \"Topic9\", \"Topic9\", \"Topic9\", \"Topic9\", \"Topic9\", \"Topic9\", \"Topic9\", \"Topic9\", \"Topic9\", \"Topic9\", \"Topic9\", \"Topic9\", \"Topic9\", \"Topic9\", \"Topic9\", \"Topic9\", \"Topic9\", \"Topic9\", \"Topic9\", \"Topic9\", \"Topic9\", \"Topic9\", \"Topic9\", \"Topic9\", \"Topic9\", \"Topic9\", \"Topic10\", \"Topic10\", \"Topic10\", \"Topic10\", \"Topic10\", \"Topic10\", \"Topic10\", \"Topic10\", \"Topic10\", \"Topic10\", \"Topic10\", \"Topic10\", \"Topic10\", \"Topic10\", \"Topic10\", \"Topic10\", \"Topic10\", \"Topic10\", \"Topic10\", \"Topic10\", \"Topic10\", \"Topic10\", \"Topic10\", \"Topic10\", \"Topic10\", \"Topic10\", \"Topic10\", \"Topic10\", \"Topic10\", \"Topic10\", \"Topic10\", \"Topic10\", \"Topic10\", \"Topic10\", \"Topic10\", \"Topic10\", \"Topic10\", \"Topic10\", \"Topic10\", \"Topic10\", \"Topic10\", \"Topic10\", \"Topic10\", \"Topic10\", \"Topic10\", \"Topic10\", \"Topic10\", \"Topic10\", \"Topic10\", \"Topic10\", \"Topic10\", \"Topic10\", \"Topic10\", \"Topic10\", \"Topic10\", \"Topic10\", \"Topic10\", \"Topic10\", \"Topic10\", \"Topic10\", \"Topic10\", \"Topic10\", \"Topic10\", \"Topic10\", \"Topic10\", \"Topic10\", \"Topic10\", \"Topic10\", \"Topic10\", \"Topic10\", \"Topic10\", \"Topic10\", \"Topic10\", \"Topic10\", \"Topic11\", \"Topic11\", \"Topic11\", \"Topic11\", \"Topic11\", \"Topic11\", \"Topic11\", \"Topic11\", \"Topic11\", \"Topic11\", \"Topic11\", \"Topic11\", \"Topic11\", \"Topic11\", \"Topic11\", \"Topic11\", \"Topic11\", \"Topic11\", \"Topic11\", \"Topic11\", \"Topic11\", \"Topic11\", \"Topic11\", \"Topic11\", \"Topic11\", \"Topic11\", \"Topic11\", \"Topic11\", \"Topic11\", \"Topic11\", \"Topic11\", \"Topic11\", \"Topic11\", \"Topic11\", \"Topic11\", \"Topic11\", \"Topic11\", \"Topic11\", \"Topic11\", \"Topic11\", \"Topic11\", \"Topic11\", \"Topic11\", \"Topic11\", \"Topic11\", \"Topic11\", \"Topic11\", \"Topic11\", \"Topic11\", \"Topic11\", \"Topic11\", \"Topic11\", \"Topic11\", \"Topic11\", \"Topic11\", \"Topic11\", \"Topic11\", \"Topic11\", \"Topic11\", \"Topic11\", \"Topic11\", \"Topic11\", \"Topic11\", \"Topic11\", \"Topic11\", \"Topic11\", \"Topic11\", \"Topic11\", \"Topic11\", \"Topic11\", \"Topic11\", \"Topic12\", \"Topic12\", \"Topic12\", \"Topic12\", \"Topic12\", \"Topic12\", \"Topic12\", \"Topic12\", \"Topic12\", \"Topic12\", \"Topic12\", \"Topic12\", \"Topic12\", \"Topic12\", \"Topic12\", \"Topic12\", \"Topic12\", \"Topic12\", \"Topic12\", \"Topic12\", \"Topic12\", \"Topic12\", \"Topic12\", \"Topic12\", \"Topic12\", \"Topic12\", \"Topic12\", \"Topic12\", \"Topic12\", \"Topic12\", \"Topic12\", \"Topic12\", \"Topic12\", \"Topic12\", \"Topic12\", \"Topic12\", \"Topic12\", \"Topic12\", \"Topic12\", \"Topic12\", \"Topic12\", \"Topic12\", \"Topic12\", \"Topic12\", \"Topic12\", \"Topic12\", \"Topic12\", \"Topic12\", \"Topic12\", \"Topic12\", \"Topic12\", \"Topic12\", \"Topic12\", \"Topic12\", \"Topic12\", \"Topic12\", \"Topic12\", \"Topic12\", \"Topic12\", \"Topic12\", \"Topic13\", \"Topic13\", \"Topic13\", \"Topic13\", \"Topic13\", \"Topic13\", \"Topic13\", \"Topic13\", \"Topic13\", \"Topic13\", \"Topic13\", \"Topic13\", \"Topic13\", \"Topic13\", \"Topic13\", \"Topic13\", \"Topic13\", \"Topic13\", \"Topic13\", \"Topic13\", \"Topic13\", \"Topic13\", \"Topic13\", \"Topic13\", \"Topic13\", \"Topic13\", \"Topic13\", \"Topic13\", \"Topic13\", \"Topic13\", \"Topic13\", \"Topic13\", \"Topic13\", \"Topic13\", \"Topic13\", \"Topic13\", \"Topic13\", \"Topic13\", \"Topic13\", \"Topic13\", \"Topic13\", \"Topic13\", \"Topic13\", \"Topic13\", \"Topic13\", \"Topic13\", \"Topic13\", \"Topic13\", \"Topic13\", \"Topic13\", \"Topic13\", \"Topic13\", \"Topic13\", \"Topic13\", \"Topic13\", \"Topic13\", \"Topic13\", \"Topic13\", \"Topic13\", \"Topic13\", \"Topic14\", \"Topic14\", \"Topic14\", \"Topic14\", \"Topic14\", \"Topic14\", \"Topic14\", \"Topic14\", \"Topic14\", \"Topic14\", \"Topic14\", \"Topic14\", \"Topic14\", \"Topic14\", \"Topic14\", \"Topic14\", \"Topic14\", \"Topic14\", \"Topic14\", \"Topic14\", \"Topic14\", \"Topic14\", \"Topic14\", \"Topic14\", \"Topic14\", \"Topic14\", \"Topic14\", \"Topic14\", \"Topic14\", \"Topic14\", \"Topic14\", \"Topic14\", \"Topic14\", \"Topic14\", \"Topic14\", \"Topic14\", \"Topic14\", \"Topic14\", \"Topic14\", \"Topic14\", \"Topic14\", \"Topic14\", \"Topic14\", \"Topic14\", \"Topic14\", \"Topic14\", \"Topic14\", \"Topic14\", \"Topic14\", \"Topic14\", \"Topic14\", \"Topic14\", \"Topic14\", \"Topic14\", \"Topic14\", \"Topic14\", \"Topic15\", \"Topic15\", \"Topic15\", \"Topic15\", \"Topic15\", \"Topic15\", \"Topic15\", \"Topic15\", \"Topic15\", \"Topic15\", \"Topic15\", \"Topic15\", \"Topic15\", \"Topic15\", \"Topic15\", \"Topic15\", \"Topic15\", \"Topic15\", \"Topic15\", \"Topic15\", \"Topic15\", \"Topic15\", \"Topic15\", \"Topic15\", \"Topic15\", \"Topic15\", \"Topic15\", \"Topic15\", \"Topic15\", \"Topic15\", \"Topic15\", \"Topic15\", \"Topic15\", \"Topic15\", \"Topic15\", \"Topic15\", \"Topic15\", \"Topic15\", \"Topic15\", \"Topic15\", \"Topic15\", \"Topic15\", \"Topic15\", \"Topic15\", \"Topic15\", \"Topic15\", \"Topic15\", \"Topic15\", \"Topic15\", \"Topic15\", \"Topic15\", \"Topic15\", \"Topic15\", \"Topic15\", \"Topic15\", \"Topic15\", \"Topic15\", \"Topic15\", \"Topic15\", \"Topic15\"], \"logprob\": [30.0, 29.0, 28.0, 27.0, 26.0, 25.0, 24.0, 23.0, 22.0, 21.0, 20.0, 19.0, 18.0, 17.0, 16.0, 15.0, 14.0, 13.0, 12.0, 11.0, 10.0, 9.0, 8.0, 7.0, 6.0, 5.0, 4.0, 3.0, 2.0, 1.0, -3.3052, -3.5929, -3.5929, -3.9983, -3.9983, -3.9983, -3.9983, -3.9983, -3.9983, -4.6914, -4.6914, -4.6914, -4.6914, -4.6914, -4.6914, -4.6914, -4.6914, -4.6914, -4.6914, -4.6914, -4.6914, -4.6914, -4.6914, -4.6914, -4.6914, -4.6914, -4.6914, -4.6914, -4.6914, -4.6914, -2.7456, -3.9983, -3.9983, -3.9983, -3.9983, -3.5929, -3.9983, -3.9983, -4.6914, -4.6914, -4.6914, -4.6914, -4.6914, -4.6914, -4.6914, -4.6914, -4.6914, -4.024, -4.7141, -4.7257, -4.7269, -4.7291, -4.7387, -4.7462, -4.7498, -4.751, -4.764, -4.767, -4.7693, -4.7707, -4.7718, -4.0967, -3.1881, -4.7884, -4.1103, -4.8115, -4.815, -4.8159, -4.8166, -4.1314, -4.8201, -4.1422, -4.8292, -4.8292, -4.8417, -4.8488, -4.1662, -3.7658, -3.7755, -3.3057, -3.0274, -4.2037, -4.2532, -4.2627, -4.2904, -4.418, -4.0034, -4.7241, -4.0057, -4.7071, -4.719, -4.7458, -4.7562, -4.7605, -4.764, -4.7679, -4.7717, -4.775, -4.7807, -4.7844, -4.7852, -4.0992, -2.855, -4.1225, -4.8145, -4.8146, -4.8155, -4.1307, -4.818, -4.8263, -4.8264, -4.8281, -4.831, -4.8338, -4.8388, -4.8397, -3.2427, -4.8419, -4.1762, -3.7932, -3.8031, -3.3661, -4.2138, -4.2393, -4.2513, -4.2755, -4.2915, -4.3868, -4.6537, -4.4169, -4.5999, -4.7749, -2.4572, -2.8626, -2.8626, -3.5557, -3.5557, -3.5557, -3.5557, -3.5557, -3.5557, -3.5557, -3.5557, -3.5557, -3.5557, -3.5557, -3.5557, -3.5557, -3.5557, -2.8626, -3.5557, -3.5557, -3.5557, -3.5557, -3.5557, -3.5557, -2.4572, -3.5557, -3.5557, -3.5557, -13.1706, -13.1706, -13.1706, -13.1706, -2.3983, -2.8038, -3.4969, -3.4969, -3.4969, -3.4969, -3.4969, -3.4969, -3.4969, -3.4969, -3.4969, -3.4969, -3.4969, -3.4969, -3.4969, -3.4969, -3.4969, -3.4969, -3.4969, -3.4969, -3.4969, -3.4969, -3.4969, -3.4969, -3.4969, -3.4969, -3.4969, -3.4969, -3.4969, -3.4969, -3.2586, -3.2586, -3.2586, -3.2586, -3.2586, -3.2586, -3.2586, -3.2586, -3.2586, -3.2586, -3.2586, -3.2586, -1.8724, -2.1601, -3.2586, -3.2586, -3.2586, -3.2586, -3.2586, -3.2586, -3.2586, -12.8734, -12.8734, -12.8734, -12.8734, -12.8734, -12.8734, -12.8734, -12.8734, -12.8734, -12.8733, -12.8734, -12.8734, -12.8734, -12.8734, -12.8734, -5.451, -5.451, -5.451, -5.451, -5.451, -5.451, -5.451, -5.451, -5.451, -5.451, -5.451, -5.451, -5.451, -5.451, -5.451, -5.451, -5.451, -5.451, -5.451, -5.451, -5.451, -5.451, -5.451, -5.451, -5.451, -5.451, -5.451, -5.451, -5.451, -5.451, -5.451, -5.451, -5.451, -5.451, -5.451, -5.451, -5.451, -5.451, -5.451, -5.451, -5.451, -5.451, -5.451, -5.451, -5.451, -5.451, -5.451, -5.451, -5.451, -5.451, -5.451, -5.451, -5.451, -5.451, -5.451, -5.451, -5.451, -5.451, -5.451, -5.451, -5.451, -5.451, -5.451, -5.451, -5.451, -5.451, -5.451, -5.451, -5.451, -5.451, -5.451, -5.451, -5.451, -5.451, -5.451, -5.451, -5.451, -5.451, -5.451, -5.451, -5.451, -5.451, -5.451, -5.451, -5.451, -5.451, -5.451, -5.451, -5.451, -5.451, -5.451, -5.451, -5.451, -5.451, -5.451, -5.451, -5.451, -5.451, -5.451, -5.451, -5.451, -5.451, -5.451, -5.451, -5.451, -5.451, -5.451, -5.451, -5.451, -5.451, -5.451, -5.451, -5.451, -5.451, -5.451, -5.451, -5.451, -5.451, -5.451, -5.451, -5.451, -5.451, -5.451, -5.451, -5.451, -5.451, -5.451, -5.451, -5.451, -5.451, -5.451, -5.451, -5.451, -5.451, -5.451, -5.451, -5.451, -5.451, -5.451, -5.451, -5.451, -5.451, -5.451, -5.451, -5.451, -5.451, -5.451, -5.451, -5.451, -5.451, -5.451, -5.451, -5.451, -5.451, -5.451, -5.451, -5.451, -5.451, -5.451, -5.451, -5.451, -5.451, -5.451, -5.451, -5.451, -5.451, -5.451, -5.451, -5.451, -5.451, -5.451, -5.451, -5.451, -5.451, -5.451, -5.451, -5.451, -5.451, -5.451, -5.451, -5.4511, -5.4511, -5.4511, -5.4511, -5.4511, -5.4511, -5.4511, -5.4511, -5.4511, -5.4511, -5.4511, -5.4511, -5.4511, -5.4511, -5.4511, -5.4511, -5.4511, -5.4511, -5.4511, -5.4511, -5.4511, -5.4511, -5.4511, -5.4511, -5.4511, -5.4511, -5.4511, -5.4511, -5.4511, -5.4511, -5.451, -5.451, -5.451, -5.451, -5.451, -5.451, -5.451, -5.451, -5.451, -5.451, -5.451, -5.451, -5.451, -5.451, -5.4508, -5.4509, -5.4509, -5.4509, -5.4509, -5.4509, -5.451, -5.451, -5.451, -5.451, -5.451, -5.451, -5.451, -5.451, -5.451, -5.451, -5.451, -5.451, -5.451, -5.451, -5.451, -5.451, -5.451, -5.451, -5.451, -5.451, -5.451, -5.451, -5.451, -5.451, -5.4511, -5.4511, -5.4511, -5.4511, -5.4511, -5.4511, -5.4511, -5.4511, -5.4511, -5.4511, -5.4511, -5.4511, -5.4511, -5.4511, -5.4511, -5.4511, -5.4511, -5.4511, -5.4511, -5.4511, -5.4511, -5.4511, -5.4511, -5.4511, -5.4511, -5.4511, -5.4511, -5.4511, -5.4511, -5.4511, -5.451, -5.451, -5.451, -5.451, -5.451, -5.451, -5.451, -5.451, -5.451, -5.451, -5.451, -5.451, -5.451, -5.451, -5.4508, -5.4508, -5.4509, -5.4509, -5.451, -5.451, -5.451, -5.451, -5.451, -5.451, -5.451, -5.451, -5.451, -5.451, -5.451, -5.451, -5.451, -5.451, -5.451, -5.451, -5.451, -5.451, -5.451, -5.451, -5.451, -5.451, -5.451, -5.4511, -5.4511, -5.4511, -5.4511, -5.4511, -5.4511, -5.4511, -5.4511, -5.4511, -5.4511, -5.4511, -5.4511, -5.4511, -5.4511, -5.4511, -5.4511, -5.4511, -5.4511, -5.4511, -5.4511, -5.4511, -5.4511, -5.4511, -5.4511, -5.4511, -5.4511, -5.4511, -5.4511, -5.4511, -5.4511, -5.4506, -5.4508, -5.4509, -5.4509, -5.4509, -5.4509, -5.4509, -5.4509, -5.4509, -5.4509, -5.4509, -5.4509, -5.4509, -5.451, -5.451, -5.451, -5.451, -5.451, -5.451, -5.451, -5.451, -5.451, -5.451, -5.451, -5.451, -5.451, -5.451, -5.451, -5.451, -5.451, -5.451, -5.451, -5.451, -5.451, -5.451, -5.451, -5.451, -5.451, -5.451, -5.451, -5.451, -5.451, -5.451, -5.451, -5.451, -5.451, -5.451, -5.451, -5.451, -5.451, -5.451, -5.451, -5.451, -5.451, -5.451, -5.451, -5.451, -5.451, -5.451, -5.451, -5.451, -5.451, -5.451, -5.451, -5.451, -5.451, -5.451, -5.451, -5.451, -5.451, -5.451, -5.451, -5.451, -5.451, -5.451, -5.451, -5.451, -5.451, -5.451, -5.451, -5.451, -5.451, -5.451, -5.451, -5.451, -5.451, -5.451, -5.451, -5.451, -5.451, -5.451, -5.451, -5.451, -5.451, -5.451, -5.451, -5.451, -5.451, -5.451, -5.451, -5.451, -5.451, -5.451, -5.451, -5.451, -5.451, -5.451, -5.451, -5.451, -5.451, -5.451, -5.451, -5.451, -5.451, -5.451, -5.451, -5.451, -5.451, -5.451, -5.451, -5.451, -5.451, -5.451, -5.451, -5.451, -5.451, -5.451, -5.451, -5.451, -5.451, -5.451, -5.451, -5.451, -5.451, -5.451, -5.451, -5.451, -5.451, -5.451, -5.451, -5.451, -5.451, -5.451, -5.451, -5.451, -5.451, -5.451, -5.451, -5.451, -5.451, -5.451, -5.451, -5.451, -5.451, -5.451, -5.451, -5.451, -5.451, -5.451, -5.451, -5.451, -5.451, -5.451, -5.451, -5.451, -5.451, -5.451, -5.451, -5.451, -5.451, -5.451, -5.451, -5.451, -5.451, -5.451, -5.451, -5.451, -5.451, -5.451, -5.451, -5.451, -5.451, -5.451, -5.451, -5.451, -5.451, -5.451, -5.451, -5.451, -5.451, -5.451, -5.451, -5.451, -5.451, -5.451, -5.451, -5.451, -5.451, -5.451, -5.451, -5.451, -5.451, -5.451, -5.451, -5.451, -5.451], \"loglift\": [30.0, 29.0, 28.0, 27.0, 26.0, 25.0, 24.0, 23.0, 22.0, 21.0, 20.0, 19.0, 18.0, 17.0, 16.0, 15.0, 14.0, 13.0, 12.0, 11.0, 10.0, 9.0, 8.0, 7.0, 6.0, 5.0, 4.0, 3.0, 2.0, 1.0, 1.1257, 1.1246, 1.1246, 1.1224, 1.1224, 1.1224, 1.1224, 1.1224, 1.1224, 1.116, 1.116, 1.116, 1.116, 1.116, 1.116, 1.116, 1.116, 1.116, 1.116, 1.116, 1.116, 1.116, 1.116, 1.116, 1.116, 1.116, 1.116, 1.116, 1.116, 1.116, 0.7713, 0.7254, 0.7234, 0.718, 0.7179, 0.2846, 0.4405, 0.2214, 0.4388, 0.4357, 0.4362, 0.0295, 0.4277, 1.116, 1.116, 1.116, 1.116, 1.0925, 1.089, 1.0775, 1.0763, 1.0741, 1.0646, 1.0572, 1.0535, 1.0524, 1.0395, 1.0364, 1.0341, 1.0327, 1.0316, 1.0201, 1.0163, 1.0151, 1.0067, 0.9922, 0.9887, 0.9878, 0.9871, 0.9856, 0.9836, 0.9748, 0.9746, 0.9745, 0.9622, 0.9551, 0.951, 0.9481, 0.9384, 0.8994, 0.8422, 0.9136, 0.8644, 0.8549, 0.8273, 0.7003, -0.4865, -0.8466, 1.1126, 1.0978, 1.0858, 1.0589, 1.0484, 1.0442, 1.0406, 1.0367, 1.0329, 1.0295, 1.0238, 1.0201, 1.0193, 1.0186, 1.0146, 0.9952, 0.9899, 0.9897, 0.9888, 0.9869, 0.9863, 0.9779, 0.9779, 0.9762, 0.9733, 0.9705, 0.9654, 0.9646, 0.9624, 0.9623, 0.9412, 0.9207, 0.9108, 0.8384, 0.9034, 0.8778, 0.8657, 0.8415, 0.8253, 0.7296, 0.4729, -0.9, -0.3767, 0.3444, 2.273, 2.2709, 2.2709, 2.2643, 2.2643, 2.2643, 2.2643, 2.2643, 2.2643, 2.2643, 2.2643, 2.2643, 2.2643, 2.2643, 2.2643, 2.2643, 2.2643, 1.862, 1.5809, 1.5714, 1.5714, 1.5698, 1.5696, 1.5694, 1.4203, 1.1659, 0.883, -0.0388, -7.3443, -7.3443, -8.7398, -8.4532, 2.333, 2.3308, 2.3243, 2.3243, 2.3243, 2.3243, 2.3243, 2.3243, 2.3243, 2.3243, 2.3243, 2.3243, 2.3243, 2.3243, 2.3243, 2.3243, 2.3243, 2.3243, 2.3243, 2.3243, 2.3243, 2.3243, 2.3243, 2.3243, 2.3243, 1.6402, 1.6307, 1.6296, 1.629, 1.224, 2.5677, 2.5677, 2.5677, 2.5677, 2.5677, 2.5677, 2.5677, 2.5677, 2.5677, 2.5677, 2.5677, 2.5677, 2.3508, 2.0597, 1.8785, 1.878, 1.8716, 1.87, 1.8698, 1.4651, 1.1801, -7.0523, -7.0523, -7.0523, -7.0523, -7.0523, -7.0523, -7.0523, -7.0523, -7.0523, -8.142, -7.7388, -7.7475, -7.7469, -7.7458, -8.1526, 0.3753, 0.3753, 0.3753, 0.3753, 0.3753, 0.3753, 0.3753, 0.3753, 0.3753, 0.3753, 0.3753, 0.3753, 0.3701, 0.3701, 0.3701, 0.3701, 0.3701, 0.3701, 0.3701, 0.3701, 0.3701, 0.3701, 0.3701, 0.3701, 0.3701, 0.3701, 0.3701, 0.3701, 0.3701, 0.3701, -1.5814, -1.2459, -1.2465, -0.7371, -0.7371, -0.3338, -0.3327, -0.3339, -0.3334, -0.3346, -0.3333, -0.334, -0.3341, -1.5736, -0.3337, -0.3342, -0.3334, -0.7349, -1.9341, 0.3532, 0.3535, 0.3525, 0.3538, -0.3319, 0.3529, 0.3537, 0.3536, 0.3524, 0.3522, 0.3524, 0.3753, 0.3753, 0.3753, 0.3753, 0.3753, 0.3753, 0.3753, 0.3753, 0.3753, 0.3753, 0.3753, 0.3753, 0.3701, 0.3701, 0.3701, 0.3701, 0.3701, 0.3701, 0.3701, 0.3701, 0.3701, 0.3701, 0.3701, 0.3701, 0.3701, 0.3701, 0.3701, 0.3701, 0.3701, 0.3701, -1.9341, -0.7336, -1.0202, -0.7336, -0.7348, -1.5735, -0.3303, -1.246, -1.2313, -1.5814, -0.7347, -1.0123, -1.2465, -0.3303, -0.7294, -0.3303, -0.7301, -0.3317, -0.3303, -0.7273, -0.3303, 0.3564, 0.3564, -0.3319, -0.7371, 0.3564, 0.3564, 0.3564, 0.3564, 0.3564, 0.3753, 0.3753, 0.3753, 0.3753, 0.3753, 0.3753, 0.3753, 0.3753, 0.3753, 0.3753, 0.3753, 0.3753, 0.3701, 0.3701, 0.3701, 0.3701, 0.3701, 0.3701, 0.3701, 0.3701, 0.3701, 0.3701, 0.3701, 0.3701, 0.3701, 0.3701, 0.3701, 0.3701, 0.3701, 0.3701, -1.9341, -1.5814, -1.2465, -1.2459, -1.0202, -1.5736, -0.7336, -0.7349, -0.7347, -1.0123, -0.7371, -0.3303, -1.2313, -0.7294, -0.7336, -0.7371, -0.3333, -0.3334, -0.3303, -0.3346, -0.3327, -0.7302, -0.7273, -0.3341, -0.334, -0.334, -0.3317, -0.3342, -0.3319, -0.3334, 0.3752, 0.3752, 0.3752, 0.3752, 0.3752, 0.3752, 0.3752, 0.3752, 0.3752, 0.3752, 0.3752, 0.3752, 0.3701, 0.3701, 0.3701, 0.3701, 0.3701, 0.3701, 0.3701, 0.3701, 0.3701, 0.3701, 0.3701, 0.3701, 0.3701, 0.3701, 0.3701, 0.3701, 0.3701, 0.3701, 0.369, 0.369, 0.369, 0.369, 0.369, 0.369, 0.369, 0.369, 0.369, 0.369, 0.369, 0.369, 0.369, 0.369, -1.5812, -1.2464, -1.2458, -1.5735, -0.737, -0.737, -0.7263, -1.9341, -0.7208, -0.3341, -0.334, -0.3327, -0.3345, -0.3341, -0.3338, -0.3175, -0.3258, -0.3255, -0.3332, -0.3175, -0.3339, -0.3334, -0.3336, -0.3334, -0.3256, 0.3521, 0.3532, 0.3524, 0.3533, 0.3527, 0.3752, 0.3752, 0.3752, 0.3752, 0.3752, 0.3752, 0.3752, 0.3752, 0.3752, 0.3752, 0.3752, 0.3752, 0.3701, 0.3701, 0.3701, 0.3701, 0.3701, 0.3701, 0.3701, 0.3701, 0.3701, 0.3701, 0.3701, 0.3701, 0.3701, 0.3701, 0.3701, 0.3701, 0.3701, 0.3701, 0.369, 0.369, 0.369, 0.369, 0.369, 0.369, 0.369, 0.369, 0.369, 0.369, 0.369, 0.369, 0.369, 0.369, -1.9339, -1.5734, -0.7207, -1.0201, -1.0122, -0.7293, -0.7335, -0.7336, -0.7263, -0.3175, -0.3303, -0.3175, -0.3303, -0.3239, -0.3303, -0.3239, -0.7347, -0.7348, -0.7273, -0.3303, -0.3303, -1.2313, -0.3303, 0.3564, -0.3256, -0.3255, 0.3564, 0.3752, 0.3752, 0.3752, 0.3752, 0.3752, 0.3752, 0.3752, 0.3752, 0.3752, 0.3752, 0.3752, 0.3752, 0.3701, 0.3701, 0.3701, 0.3701, 0.3701, 0.3701, 0.3701, 0.3701, 0.3701, 0.3701, 0.3701, 0.3701, 0.3701, 0.3701, 0.3701, 0.3701, 0.3701, 0.3701, -1.9337, -1.02, -0.7334, -0.7335, -1.5734, -0.3302, -0.7272, -0.7347, -0.3302, -0.3302, -1.2312, -0.7293, -0.7348, -0.3302, -1.0122, -0.3302, -0.3302, 0.3564, 0.3564, 0.3564, -0.3317, 0.3564, 0.3564, 0.3564, 0.3564, 0.3564, 0.3564, 0.3564, -0.3239, 0.3564, 0.3753, 0.3753, 0.3753, 0.3753, 0.3753, 0.3753, 0.3753, 0.3753, 0.3753, 0.3753, 0.3753, 0.3753, 0.3701, 0.3701, 0.3701, 0.3701, 0.3701, 0.3701, 0.3701, 0.3701, 0.3701, 0.3701, 0.3701, 0.3701, 0.3701, 0.3701, 0.3701, 0.3701, 0.3701, 0.3701, -1.9341, -1.0202, -0.7336, -0.3303, -1.5736, -0.7336, -0.7347, -0.3303, -1.0123, -0.7273, -0.3303, -0.7294, -0.7349, -1.2313, -0.3303, -0.3303, -0.3303, 0.3564, -0.7302, 0.3564, -0.3317, 0.3564, 0.3564, 0.3564, 0.3564, 0.3564, 0.3564, 0.3564, 0.3564, 0.3564, 0.3753, 0.3753, 0.3753, 0.3753, 0.3753, 0.3753, 0.3753, 0.3753, 0.3753, 0.3753, 0.3753, 0.3753, 0.3701, 0.3701, 0.3701, 0.3701, 0.3701, 0.3701, 0.3701, 0.3701, 0.3701, 0.3701, 0.3701, 0.3701, 0.3701, 0.3701, 0.3701, 0.3701, 0.3701, 0.3701, -1.5736, -1.9342, -0.7208, -0.7197, -0.3176, -1.0123, -0.7264, -0.3176, -0.324, -0.3165, -1.0202, -0.7294, -0.324, 0.369, 0.369, -0.3234, 0.369, 0.369, 0.369, 0.369, 0.369, -0.3255, -0.7302, 0.369, -0.3257, 0.369, 0.3753, 0.3753, 0.3753, 0.3753, 0.3753, 0.3753, 0.3753, 0.3753, 0.3753, 0.3753, 0.3753, 0.3753, 0.3701, 0.3701, 0.3701, 0.3701, 0.3701, 0.3701, 0.3701, 0.3701, 0.3701, 0.3701, 0.3701, 0.3701, 0.3701, 0.3701, 0.3701, 0.3701, 0.3701, 0.3701, 0.369, 0.369, 0.369, 0.369, 0.369, 0.369, 0.369, 0.369, 0.369, 0.369, 0.369, 0.369, 0.369, 0.369, -1.5735, -0.7208, -0.7263, -1.5814, -0.3175, -0.3175, -1.9341, -1.246, -1.2465, -0.3259, -0.3256, -0.7294, -0.3239, -0.3239, -0.3255, -0.7371]}, \"token.table\": {\"Topic\": [1, 7, 8, 9, 10, 11, 12, 13, 14, 15, 1, 7, 8, 9, 10, 11, 12, 13, 14, 15, 1, 7, 8, 9, 10, 11, 12, 13, 14, 15, 1, 7, 8, 9, 10, 11, 12, 13, 14, 15, 1, 7, 8, 9, 10, 11, 12, 13, 14, 15, 4, 7, 8, 9, 10, 11, 12, 13, 14, 15, 1, 7, 8, 9, 10, 11, 12, 13, 14, 15, 5, 7, 8, 9, 10, 11, 12, 13, 14, 15, 5, 7, 8, 9, 10, 11, 12, 13, 14, 15, 1, 7, 8, 9, 10, 11, 12, 13, 14, 15, 5, 7, 8, 9, 10, 11, 12, 13, 14, 15, 5, 7, 8, 9, 10, 11, 12, 13, 14, 15, 4, 7, 8, 9, 10, 11, 12, 13, 14, 15, 2, 3, 7, 8, 9, 10, 11, 12, 13, 14, 15, 1, 2, 3, 4, 7, 8, 9, 10, 11, 12, 13, 14, 15, 1, 7, 8, 9, 10, 11, 12, 13, 14, 15, 2, 3, 7, 8, 9, 10, 11, 12, 13, 14, 15, 2, 3, 7, 8, 9, 10, 11, 12, 13, 14, 15, 1, 2, 3, 7, 8, 9, 10, 11, 12, 13, 14, 15, 5, 6, 7, 8, 9, 10, 11, 12, 13, 14, 15, 2, 3, 7, 8, 9, 10, 11, 12, 13, 14, 15, 1, 5, 7, 8, 9, 10, 11, 12, 13, 14, 15, 2, 3, 7, 8, 9, 10, 11, 12, 13, 14, 15, 1, 7, 8, 9, 10, 11, 12, 13, 14, 15, 5, 7, 8, 9, 10, 11, 12, 13, 14, 15, 1, 7, 8, 9, 10, 11, 12, 13, 14, 15, 1, 7, 8, 9, 10, 11, 12, 13, 14, 15, 2, 3, 5, 7, 8, 9, 10, 11, 12, 13, 14, 15, 1, 2, 3, 7, 8, 9, 10, 11, 12, 13, 14, 15, 5, 7, 8, 9, 10, 11, 12, 13, 14, 15, 6, 7, 8, 9, 10, 11, 12, 13, 14, 15, 2, 3, 7, 8, 9, 10, 11, 12, 13, 14, 15, 2, 3, 7, 8, 9, 10, 11, 12, 13, 14, 15, 2, 3, 7, 8, 9, 10, 11, 12, 13, 14, 15, 6, 7, 8, 9, 10, 11, 12, 13, 14, 15, 2, 3, 6, 7, 8, 9, 10, 11, 12, 13, 14, 15, 1, 7, 8, 9, 10, 11, 12, 13, 14, 15, 4, 7, 8, 9, 10, 11, 12, 13, 14, 15, 6, 7, 8, 9, 10, 11, 12, 13, 14, 15, 1, 6, 7, 8, 9, 10, 11, 12, 13, 14, 15, 6, 7, 8, 9, 10, 11, 12, 13, 14, 15, 2, 3, 7, 8, 9, 10, 11, 12, 13, 14, 15, 2, 3, 7, 8, 9, 10, 11, 12, 13, 14, 15, 1, 7, 8, 9, 10, 11, 12, 13, 14, 15, 4, 7, 8, 9, 10, 11, 12, 13, 14, 15, 4, 7, 8, 9, 10, 11, 12, 13, 14, 15, 5, 7, 8, 9, 10, 11, 12, 13, 14, 15, 2, 3, 7, 8, 9, 10, 11, 12, 13, 14, 15, 1, 7, 8, 9, 10, 11, 12, 13, 14, 15, 4, 7, 8, 9, 10, 11, 12, 13, 14, 15, 2, 3, 7, 8, 9, 10, 11, 12, 13, 14, 15, 2, 3, 7, 8, 9, 10, 11, 12, 13, 14, 15, 5, 7, 8, 9, 10, 11, 12, 13, 14, 15, 2, 3, 7, 8, 9, 10, 11, 12, 13, 14, 15, 2, 3, 7, 8, 9, 10, 11, 12, 13, 14, 15, 2, 3, 7, 8, 9, 10, 11, 12, 13, 14, 15, 1, 7, 8, 9, 10, 11, 12, 13, 14, 15, 1, 2, 3, 7, 8, 9, 10, 11, 12, 13, 14, 15, 5, 7, 8, 9, 10, 11, 12, 13, 14, 15, 5, 7, 8, 9, 10, 11, 12, 13, 14, 15, 2, 3, 7, 8, 9, 10, 11, 12, 13, 14, 15, 1, 7, 8, 9, 10, 11, 12, 13, 14, 15, 2, 3, 4, 7, 8, 9, 10, 11, 12, 13, 14, 15, 4, 7, 8, 9, 10, 11, 12, 13, 14, 15, 2, 3, 7, 8, 9, 10, 11, 12, 13, 14, 15, 1, 7, 8, 9, 10, 11, 12, 13, 14, 15, 1, 4, 6, 7, 8, 9, 10, 11, 12, 13, 14, 15, 2, 3, 7, 8, 9, 10, 11, 12, 13, 14, 15, 2, 3, 7, 8, 9, 10, 11, 12, 13, 14, 15, 5, 7, 8, 9, 10, 11, 12, 13, 14, 15, 2, 3, 7, 8, 9, 10, 11, 12, 13, 14, 15, 2, 3, 7, 8, 9, 10, 11, 12, 13, 14, 15, 1, 2, 3, 5, 7, 8, 9, 10, 11, 12, 13, 14, 15, 2, 3, 7, 8, 9, 10, 11, 12, 13, 14, 15, 2, 3, 6, 7, 8, 9, 10, 11, 12, 13, 14, 15, 2, 3, 7, 8, 9, 10, 11, 12, 13, 14, 15, 2, 3, 7, 8, 9, 10, 11, 12, 13, 14, 15, 1, 7, 8, 9, 10, 11, 12, 13, 14, 15, 4, 6, 7, 8, 9, 10, 11, 12, 13, 14, 15, 1, 7, 8, 9, 10, 11, 12, 13, 14, 15, 2, 3, 7, 8, 9, 10, 11, 12, 13, 14, 15, 1, 7, 8, 9, 10, 11, 12, 13, 14, 15, 1, 7, 8, 9, 10, 11, 12, 13, 14, 15, 6, 7, 8, 9, 10, 11, 12, 13, 14, 15, 5, 7, 8, 9, 10, 11, 12, 13, 14, 15, 4, 7, 8, 9, 10, 11, 12, 13, 14, 15, 1, 6, 7, 8, 9, 10, 11, 12, 13, 14, 15, 1, 7, 8, 9, 10, 11, 12, 13, 14, 15, 6, 7, 8, 9, 10, 11, 12, 13, 14, 15, 6, 7, 8, 9, 10, 11, 12, 13, 14, 15, 2, 3, 7, 8, 9, 10, 11, 12, 13, 14, 15, 1, 6, 7, 8, 9, 10, 11, 12, 13, 14, 15, 4, 7, 8, 9, 10, 11, 12, 13, 14, 15, 1, 7, 8, 9, 10, 11, 12, 13, 14, 15, 2, 3, 7, 8, 9, 10, 11, 12, 13, 14, 15, 2, 3, 7, 8, 9, 10, 11, 12, 13, 14, 15, 5, 7, 8, 9, 10, 11, 12, 13, 14, 15, 1, 7, 8, 9, 10, 11, 12, 13, 14, 15, 4, 7, 8, 9, 10, 11, 12, 13, 14, 15, 4, 7, 8, 9, 10, 11, 12, 13, 14, 15, 1, 7, 8, 9, 10, 11, 12, 13, 14, 15, 5, 7, 8, 9, 10, 11, 12, 13, 14, 15, 2, 3, 7, 8, 9, 10, 11, 12, 13, 14, 15, 2, 3, 7, 8, 9, 10, 11, 12, 13, 14, 15, 2, 3, 7, 8, 9, 10, 11, 12, 13, 14, 15, 5, 7, 8, 9, 10, 11, 12, 13, 14, 15, 1, 7, 8, 9, 10, 11, 12, 13, 14, 15, 4, 7, 8, 9, 10, 11, 12, 13, 14, 15, 2, 3, 7, 8, 9, 10, 11, 12, 13, 14, 15, 1, 7, 8, 9, 10, 11, 12, 13, 14, 15, 6, 7, 8, 9, 10, 11, 12, 13, 14, 15, 1, 7, 8, 9, 10, 11, 12, 13, 14, 15, 5, 7, 8, 9, 10, 11, 12, 13, 14, 15, 1, 7, 8, 9, 10, 11, 12, 13, 14, 15, 4, 7, 8, 9, 10, 11, 12, 13, 14, 15, 2, 3, 7, 8, 9, 10, 11, 12, 13, 14, 15, 2, 3, 7, 8, 9, 10, 11, 12, 13, 14, 15, 1, 7, 8, 9, 10, 11, 12, 13, 14, 15, 5, 7, 8, 9, 10, 11, 12, 13, 14, 15, 5, 7, 8, 9, 10, 11, 12, 13, 14, 15, 5, 7, 8, 9, 10, 11, 12, 13, 14, 15, 1, 7, 8, 9, 10, 11, 12, 13, 14, 15, 1, 7, 8, 9, 10, 11, 12, 13, 14, 15, 6, 7, 8, 9, 10, 11, 12, 13, 14, 15, 1, 7, 8, 9, 10, 11, 12, 13, 14, 15, 2, 3, 6, 7, 8, 9, 10, 11, 12, 13, 14, 15, 2, 3, 7, 8, 9, 10, 11, 12, 13, 14, 15, 6, 7, 8, 9, 10, 11, 12, 13, 14, 15, 1, 7, 8, 9, 10, 11, 12, 13, 14, 15, 2, 3, 7, 8, 9, 10, 11, 12, 13, 14, 15, 2, 3, 7, 8, 9, 10, 11, 12, 13, 14, 15, 2, 3, 7, 8, 9, 10, 11, 12, 13, 14, 15, 5, 7, 8, 9, 10, 11, 12, 13, 14, 15, 2, 3, 7, 8, 9, 10, 11, 12, 13, 14, 15, 1, 7, 8, 9, 10, 11, 12, 13, 14, 15, 1, 2, 3, 7, 8, 9, 10, 11, 12, 13, 14, 15, 1, 7, 8, 9, 10, 11, 12, 13, 14, 15, 2, 3, 7, 8, 9, 10, 11, 12, 13, 14, 15, 2, 3, 7, 8, 9, 10, 11, 12, 13, 14, 15, 5, 7, 8, 9, 10, 11, 12, 13, 14, 15, 2, 3, 7, 8, 9, 10, 11, 12, 13, 14, 15, 2, 3, 7, 8, 9, 10, 11, 12, 13, 14, 15, 1, 7, 8, 9, 10, 11, 12, 13, 14, 15, 1, 7, 8, 9, 10, 11, 12, 13, 14, 15, 4, 7, 8, 9, 10, 11, 12, 13, 14, 15, 1, 7, 8, 9, 10, 11, 12, 13, 14, 15, 2, 3, 7, 8, 9, 10, 11, 12, 13, 14, 15, 1, 4, 7, 8, 9, 10, 11, 12, 13, 14, 15, 2, 3, 7, 8, 9, 10, 11, 12, 13, 14, 15, 2, 3, 4, 7, 8, 9, 10, 11, 12, 13, 14, 15, 2, 3, 7, 8, 9, 10, 11, 12, 13, 14, 15, 5, 7, 8, 9, 10, 11, 12, 13, 14, 15, 5, 7, 8, 9, 10, 11, 12, 13, 14, 15, 5, 7, 8, 9, 10, 11, 12, 13, 14, 15, 2, 3, 7, 8, 9, 10, 11, 12, 13, 14, 15, 2, 3, 7, 8, 9, 10, 11, 12, 13, 14, 15, 2, 3, 7, 8, 9, 10, 11, 12, 13, 14, 15, 1, 7, 8, 9, 10, 11, 12, 13, 14, 15, 6, 7, 8, 9, 10, 11, 12, 13, 14, 15, 2, 3, 7, 8, 9, 10, 11, 12, 13, 14, 15, 6, 7, 8, 9, 10, 11, 12, 13, 14, 15, 1, 4, 7, 8, 9, 10, 11, 12, 13, 14, 15, 1, 7, 8, 9, 10, 11, 12, 13, 14, 15, 2, 3, 7, 8, 9, 10, 11, 12, 13, 14, 15, 2, 3, 7, 8, 9, 10, 11, 12, 13, 14, 15, 1, 7, 8, 9, 10, 11, 12, 13, 14, 15, 2, 3, 7, 8, 9, 10, 11, 12, 13, 14, 15, 2, 3, 7, 8, 9, 10, 11, 12, 13, 14, 15, 1, 2, 3, 4, 7, 8, 9, 10, 11, 12, 13, 14, 15, 5, 7, 8, 9, 10, 11, 12, 13, 14, 15, 2, 3, 7, 8, 9, 10, 11, 12, 13, 14, 15, 2, 3, 7, 8, 9, 10, 11, 12, 13, 14, 15, 2, 3, 7, 8, 9, 10, 11, 12, 13, 14, 15, 2, 3, 4, 7, 8, 9, 10, 11, 12, 13, 14, 15, 2, 3, 7, 8, 9, 10, 11, 12, 13, 14, 15, 1, 7, 8, 9, 10, 11, 12, 13, 14, 15, 2, 3, 7, 8, 9, 10, 11, 12, 13, 14, 15, 1, 7, 8, 9, 10, 11, 12, 13, 14, 15, 1, 7, 8, 9, 10, 11, 12, 13, 14, 15, 1, 7, 8, 9, 10, 11, 12, 13, 14, 15, 2, 3, 4, 7, 8, 9, 10, 11, 12, 13, 14, 15, 1, 7, 8, 9, 10, 11, 12, 13, 14, 15, 4, 7, 8, 9, 10, 11, 12, 13, 14, 15, 1, 7, 8, 9, 10, 11, 12, 13, 14, 15, 4, 7, 8, 9, 10, 11, 12, 13, 14, 15, 4, 7, 8, 9, 10, 11, 12, 13, 14, 15, 2, 3, 7, 8, 9, 10, 11, 12, 13, 14, 15, 2, 3, 7, 8, 9, 10, 11, 12, 13, 14, 15, 1, 7, 8, 9, 10, 11, 12, 13, 14, 15, 2, 3, 5, 7, 8, 9, 10, 11, 12, 13, 14, 15, 2, 3, 7, 8, 9, 10, 11, 12, 13, 14, 15, 1, 4, 7, 8, 9, 10, 11, 12, 13, 14, 15, 1, 7, 8, 9, 10, 11, 12, 13, 14, 15, 2, 3, 7, 8, 9, 10, 11, 12, 13, 14, 15, 1, 7, 8, 9, 10, 11, 12, 13, 14, 15], \"Freq\": [0.9937413948289393, 0.0005003733105885898, 0.0005003733105885898, 0.0005003733105885898, 0.0005003733105885898, 0.0005003733105885898, 0.0005003733105885898, 0.0005003733105885898, 0.0005003733105885898, 0.0005003733105885898, 0.9873395586589666, 0.0009942996562527357, 0.0009942996562527357, 0.0009942996562527357, 0.0009942996562527357, 0.0009942996562527357, 0.0009942996562527357, 0.0009942996562527357, 0.0009942996562527357, 0.0009942996562527357, 0.9873397529726302, 0.0009942998519361836, 0.0009942998519361836, 0.0009942998519361836, 0.0009942998519361836, 0.0009942998519361836, 0.0009942998519361836, 0.0009942998519361836, 0.0009942998519361836, 0.0009942998519361836, 0.9873395580673743, 0.000994299655656973, 0.000994299655656973, 0.000994299655656973, 0.000994299655656973, 0.000994299655656973, 0.000994299655656973, 0.000994299655656973, 0.000994299655656973, 0.000994299655656973, 0.9873395575048343, 0.0009942996550904675, 0.0009942996550904675, 0.0009942996550904675, 0.0009942996550904675, 0.0009942996550904675, 0.0009942996550904675, 0.0009942996550904675, 0.0009942996550904675, 0.0009942996550904675, 0.9868182957387204, 0.0010069574446313473, 0.0010069574446313473, 0.0010069574446313473, 0.0010069574446313473, 0.0010069574446313473, 0.0010069574446313473, 0.0010069574446313473, 0.0010069574446313473, 0.0010069574446313473, 0.9873395575717766, 0.0009942996551578819, 0.0009942996551578819, 0.0009942996551578819, 0.0009942996551578819, 0.0009942996551578819, 0.0009942996551578819, 0.0009942996551578819, 0.0009942996551578819, 0.0009942996551578819, 0.9868990878418439, 0.0010080685269068885, 0.0010080685269068885, 0.0010080685269068885, 0.0010080685269068885, 0.0010080685269068885, 0.0010080685269068885, 0.0010080685269068885, 0.0010080685269068885, 0.0010080685269068885, 0.9868990880156197, 0.0010080685270843917, 0.0010080685270843917, 0.0010080685270843917, 0.0010080685270843917, 0.0010080685270843917, 0.0010080685270843917, 0.0010080685270843917, 0.0010080685270843917, 0.0010080685270843917, 0.9873395608608422, 0.0009942996584701332, 0.0009942996584701332, 0.0009942996584701332, 0.0009942996584701332, 0.0009942996584701332, 0.0009942996584701332, 0.0009942996584701332, 0.0009942996584701332, 0.0009942996584701332, 0.9868990884262177, 0.0010080685275037974, 0.0010080685275037974, 0.0010080685275037974, 0.0010080685275037974, 0.0010080685275037974, 0.0010080685275037974, 0.0010080685275037974, 0.0010080685275037974, 0.0010080685275037974, 0.9868990881783212, 0.0010080685272505835, 0.0010080685272505835, 0.0010080685272505835, 0.0010080685272505835, 0.0010080685272505835, 0.0010080685272505835, 0.0010080685272505835, 0.0010080685272505835, 0.0010080685272505835, 0.9868182927252981, 0.0010069574415564266, 0.0010069574415564266, 0.0010069574415564266, 0.0010069574415564266, 0.0010069574415564266, 0.0010069574415564266, 0.0010069574415564266, 0.0010069574415564266, 0.0010069574415564266, 0.563460572615192, 0.42383326024481927, 0.000990264626740232, 0.000990264626740232, 0.000990264626740232, 0.000990264626740232, 0.000990264626740232, 0.000990264626740232, 0.000990264626740232, 0.000990264626740232, 0.000990264626740232, 0.4298098406239271, 0.0842877592089904, 0.059607610536494916, 0.42432536314115027, 0.00014432835480991506, 0.00014432835480991506, 0.00014432835480991506, 0.00014432835480991506, 0.00014432835480991506, 0.00014432835480991506, 0.00014432835480991506, 0.00014432835480991506, 0.00014432835480991506, 0.9873397537784314, 0.0009942998527476652, 0.0009942998527476652, 0.0009942998527476652, 0.0009942998527476652, 0.0009942998527476652, 0.0009942998527476652, 0.0009942998527476652, 0.0009942998527476652, 0.0009942998527476652, 0.552622016985832, 0.4347689345103589, 0.000990362037609018, 0.000990362037609018, 0.000990362037609018, 0.000990362037609018, 0.000990362037609018, 0.000990362037609018, 0.000990362037609018, 0.000990362037609018, 0.000990362037609018, 0.5112339494333706, 0.4765572280570762, 0.0009907634678941292, 0.0009907634678941292, 0.0009907634678941292, 0.0009907634678941292, 0.0009907634678941292, 0.0009907634678941292, 0.0009907634678941292, 0.0009907634678941292, 0.0009907634678941292, 0.49616090910238336, 0.22034940676148143, 0.2773104778971025, 0.000499658518733518, 0.000499658518733518, 0.000499658518733518, 0.000499658518733518, 0.000499658518733518, 0.000499658518733518, 0.000499658518733518, 0.000499658518733518, 0.000499658518733518, 0.49798123398182265, 0.4954379181800769, 0.0005086631603491549, 0.0005086631603491549, 0.0005086631603491549, 0.0005086631603491549, 0.0005086631603491549, 0.0005086631603491549, 0.0005086631603491549, 0.0005086631603491549, 0.0005086631603491549, 0.46586098968884465, 0.521367831013473, 0.0009911935950826481, 0.0009911935950826481, 0.0009911935950826481, 0.0009911935950826481, 0.0009911935950826481, 0.0009911935950826481, 0.0009911935950826481, 0.0009911935950826481, 0.0009911935950826481, 0.5003132184616095, 0.4932594570734297, 0.0005038400991556994, 0.0005038400991556994, 0.0005038400991556994, 0.0005038400991556994, 0.0005038400991556994, 0.0005038400991556994, 0.0005038400991556994, 0.0005038400991556994, 0.0005038400991556994, 0.4204481299603298, 0.5662167033192178, 0.0009916229480196458, 0.0009916229480196458, 0.0009916229480196458, 0.0009916229480196458, 0.0009916229480196458, 0.0009916229480196458, 0.0009916229480196458, 0.0009916229480196458, 0.0009916229480196458, 0.9873395618528481, 0.000994299659469132, 0.000994299659469132, 0.000994299659469132, 0.000994299659469132, 0.000994299659469132, 0.000994299659469132, 0.000994299659469132, 0.000994299659469132, 0.000994299659469132, 0.9868990876741883, 0.0010080685267356366, 0.0010080685267356366, 0.0010080685267356366, 0.0010080685267356366, 0.0010080685267356366, 0.0010080685267356366, 0.0010080685267356366, 0.0010080685267356366, 0.0010080685267356366, 0.9873395591938684, 0.0009942996567914083, 0.0009942996567914083, 0.0009942996567914083, 0.0009942996567914083, 0.0009942996567914083, 0.0009942996567914083, 0.0009942996567914083, 0.0009942996567914083, 0.0009942996567914083, 0.9873395512452329, 0.0009942996487867402, 0.0009942996487867402, 0.0009942996487867402, 0.0009942996487867402, 0.0009942996487867402, 0.0009942996487867402, 0.0009942996487867402, 0.0009942996487867402, 0.0009942996487867402, 0.2474695059266608, 0.2535053475346281, 0.49242407785000186, 0.0005029868006639447, 0.0005029868006639447, 0.0005029868006639447, 0.0005029868006639447, 0.0005029868006639447, 0.0005029868006639447, 0.0005029868006639447, 0.0005029868006639447, 0.0005029868006639447, 0.496062979996626, 0.24078787145858382, 0.2567737882359172, 0.0004995598992916677, 0.0004995598992916677, 0.0004995598992916677, 0.0004995598992916677, 0.0004995598992916677, 0.0004995598992916677, 0.0004995598992916677, 0.0004995598992916677, 0.0004995598992916677, 0.9868990881879536, 0.0010080685272604224, 0.0010080685272604224, 0.0010080685272604224, 0.0010080685272604224, 0.0010080685272604224, 0.0010080685272604224, 0.0010080685272604224, 0.0010080685272604224, 0.0010080685272604224, 0.9869150668498797, 0.0010132598222278026, 0.0010132598222278026, 0.0010132598222278026, 0.0010132598222278026, 0.0010132598222278026, 0.0010132598222278026, 0.0010132598222278026, 0.0010132598222278026, 0.0010132598222278026, 0.426373618344205, 0.5602351031731996, 0.0009915665542888487, 0.0009915665542888487, 0.0009915665542888487, 0.0009915665542888487, 0.0009915665542888487, 0.0009915665542888487, 0.0009915665542888487, 0.0009915665542888487, 0.0009915665542888487, 0.5260204155051973, 0.46162996916275323, 0.0009906222514222173, 0.0009906222514222173, 0.0009906222514222173, 0.0009906222514222173, 0.0009906222514222173, 0.0009906222514222173, 0.0009906222514222173, 0.0009906222514222173, 0.0009906222514222173, 0.3987187772281197, 0.5891516260534904, 0.0009918377542988052, 0.0009918377542988052, 0.0009918377542988052, 0.0009918377542988052, 0.0009918377542988052, 0.0009918377542988052, 0.0009918377542988052, 0.0009918377542988052, 0.0009918377542988052, 0.986915066616042, 0.0010132598219877228, 0.0010132598219877228, 0.0010132598219877228, 0.0010132598219877228, 0.0010132598219877228, 0.0010132598219877228, 0.0010132598219877228, 0.0010132598219877228, 0.0010132598219877228, 0.06811681145618771, 0.13480602506748526, 0.79456017195601, 0.0002039425492700231, 0.0002039425492700231, 0.0002039425492700231, 0.0002039425492700231, 0.0002039425492700231, 0.0002039425492700231, 0.0002039425492700231, 0.0002039425492700231, 0.0002039425492700231, 0.9873395608619239, 0.0009942996584712223, 0.0009942996584712223, 0.0009942996584712223, 0.0009942996584712223, 0.0009942996584712223, 0.0009942996584712223, 0.0009942996584712223, 0.0009942996584712223, 0.0009942996584712223, 0.9933080486855913, 0.0005067898207579548, 0.0005067898207579548, 0.0005067898207579548, 0.0005067898207579548, 0.0005067898207579548, 0.0005067898207579548, 0.0005067898207579548, 0.0005067898207579548, 0.0005067898207579548, 0.9869152554859368, 0.0010132600158993192, 0.0010132600158993192, 0.0010132600158993192, 0.0010132600158993192, 0.0010132600158993192, 0.0010132600158993192, 0.0010132600158993192, 0.0010132600158993192, 0.0010132600158993192, 0.4036316261933969, 0.5938628457890763, 0.00020323848247401656, 0.00020323848247401656, 0.00020323848247401656, 0.00020323848247401656, 0.00020323848247401656, 0.00020323848247401656, 0.00020323848247401656, 0.00020323848247401656, 0.00020323848247401656, 0.9869152554485693, 0.001013260015860954, 0.001013260015860954, 0.001013260015860954, 0.001013260015860954, 0.001013260015860954, 0.001013260015860954, 0.001013260015860954, 0.001013260015860954, 0.001013260015860954, 0.4648737063968408, 0.5223634184885609, 0.0009912019326158653, 0.0009912019326158653, 0.0009912019326158653, 0.0009912019326158653, 0.0009912019326158653, 0.0009912019326158653, 0.0009912019326158653, 0.0009912019326158653, 0.0009912019326158653, 0.5841376947798473, 0.4029560030091489, 0.0009900638894573682, 0.0009900638894573682, 0.0009900638894573682, 0.0009900638894573682, 0.0009900638894573682, 0.0009900638894573682, 0.0009900638894573682, 0.0009900638894573682, 0.0009900638894573682, 0.9873395613067736, 0.000994299658919208, 0.000994299658919208, 0.000994299658919208, 0.000994299658919208, 0.000994299658919208, 0.000994299658919208, 0.000994299658919208, 0.000994299658919208, 0.000994299658919208, 0.9868182889585199, 0.0010069574377127755, 0.0010069574377127755, 0.0010069574377127755, 0.0010069574377127755, 0.0010069574377127755, 0.0010069574377127755, 0.0010069574377127755, 0.0010069574377127755, 0.0010069574377127755, 0.986818291519929, 0.0010069574403264582, 0.0010069574403264582, 0.0010069574403264582, 0.0010069574403264582, 0.0010069574403264582, 0.0010069574403264582, 0.0010069574403264582, 0.0010069574403264582, 0.0010069574403264582, 0.9868990876068522, 0.0010080685266668562, 0.0010080685266668562, 0.0010080685266668562, 0.0010080685266668562, 0.0010080685266668562, 0.0010080685266668562, 0.0010080685266668562, 0.0010080685266668562, 0.0010080685266668562, 0.5762581440258903, 0.41090572125557473, 0.0009901342680857222, 0.0009901342680857222, 0.0009901342680857222, 0.0009901342680857222, 0.0009901342680857222, 0.0009901342680857222, 0.0009901342680857222, 0.0009901342680857222, 0.0009901342680857222, 0.987339560861796, 0.0009942996584710935, 0.0009942996584710935, 0.0009942996584710935, 0.0009942996584710935, 0.0009942996584710935, 0.0009942996584710935, 0.0009942996584710935, 0.0009942996584710935, 0.0009942996584710935, 0.9868182930266404, 0.0010069574418639187, 0.0010069574418639187, 0.0010069574418639187, 0.0010069574418639187, 0.0010069574418639187, 0.0010069574418639187, 0.0010069574418639187, 0.0010069574418639187, 0.0010069574418639187, 0.462416922381369, 0.531255687525521, 0.0004988316314793624, 0.0004988316314793624, 0.0004988316314793624, 0.0004988316314793624, 0.0004988316314793624, 0.0004988316314793624, 0.0004988316314793624, 0.0004988316314793624, 0.0004988316314793624, 0.521091210011926, 0.4666044865315916, 0.000990667699642445, 0.000990667699642445, 0.000990667699642445, 0.000990667699642445, 0.000990667699642445, 0.000990667699642445, 0.000990667699642445, 0.000990667699642445, 0.000990667699642445, 0.9868990884094119, 0.0010080685274866312, 0.0010080685274866312, 0.0010080685274866312, 0.0010080685274866312, 0.0010080685274866312, 0.0010080685274866312, 0.0010080685274866312, 0.0010080685274866312, 0.0010080685274866312, 0.5269372002842971, 0.46711462314700697, 0.0004985214761440843, 0.0004985214761440843, 0.0004985214761440843, 0.0004985214761440843, 0.0004985214761440843, 0.0004985214761440843, 0.0004985214761440843, 0.0004985214761440843, 0.0004985214761440843, 0.5772443615861199, 0.4099128056546375, 0.0009901275498904287, 0.0009901275498904287, 0.0009901275498904287, 0.0009901275498904287, 0.0009901275498904287, 0.0009901275498904287, 0.0009901275498904287, 0.0009901275498904287, 0.0009901275498904287, 0.5279923912482571, 0.4596406557958561, 0.0009906048616290003, 0.0009906048616290003, 0.0009906048616290003, 0.0009906048616290003, 0.0009906048616290003, 0.0009906048616290003, 0.0009906048616290003, 0.0009906048616290003, 0.0009906048616290003, 0.9873395617048185, 0.000994299659320059, 0.000994299659320059, 0.000994299659320059, 0.000994299659320059, 0.000994299659320059, 0.000994299659320059, 0.000994299659320059, 0.000994299659320059, 0.000994299659320059, 0.6631698735493197, 0.16696119676468268, 0.16562550719056524, 0.0003339223935293654, 0.0003339223935293654, 0.0003339223935293654, 0.0003339223935293654, 0.0003339223935293654, 0.0003339223935293654, 0.0003339223935293654, 0.0003339223935293654, 0.0003339223935293654, 0.986899087480759, 0.0010080685265380584, 0.0010080685265380584, 0.0010080685265380584, 0.0010080685265380584, 0.0010080685265380584, 0.0010080685265380584, 0.0010080685265380584, 0.0010080685265380584, 0.0010080685265380584, 0.9955796385691856, 0.0003389784264791235, 0.0003389784264791235, 0.0003389784264791235, 0.0003389784264791235, 0.0003389784264791235, 0.0003389784264791235, 0.0003389784264791235, 0.0003389784264791235, 0.0003389784264791235, 0.5654263942047031, 0.42184175819825487, 0.000990238869009988, 0.000990238869009988, 0.000990238869009988, 0.000990238869009988, 0.000990238869009988, 0.000990238869009988, 0.000990238869009988, 0.000990238869009988, 0.000990238869009988, 0.9937413973907429, 0.0005003733118785211, 0.0005003733118785211, 0.0005003733118785211, 0.0005003733118785211, 0.0005003733118785211, 0.0005003733118785211, 0.0005003733118785211, 0.0005003733118785211, 0.0005003733118785211, 0.24934010930820763, 0.25135091664133835, 0.4926477966170232, 0.0005027018332826767, 0.0005027018332826767, 0.0005027018332826767, 0.0005027018332826767, 0.0005027018332826767, 0.0005027018332826767, 0.0005027018332826767, 0.0005027018332826767, 0.0005027018332826767, 0.9868182886497454, 0.0010069574373976994, 0.0010069574373976994, 0.0010069574373976994, 0.0010069574373976994, 0.0010069574373976994, 0.0010069574373976994, 0.0010069574373976994, 0.0010069574373976994, 0.0010069574373976994, 0.449501830597642, 0.5437924476708432, 0.0004988921538264617, 0.0004988921538264617, 0.0004988921538264617, 0.0004988921538264617, 0.0004988921538264617, 0.0004988921538264617, 0.0004988921538264617, 0.0004988921538264617, 0.0004988921538264617, 0.9873395589212517, 0.0009942996565168697, 0.0009942996565168697, 0.0009942996565168697, 0.0009942996565168697, 0.0009942996565168697, 0.0009942996565168697, 0.0009942996565168697, 0.0009942996565168697, 0.0009942996565168697, 0.5024582233555258, 0.24794011021571769, 0.24642210954092758, 0.00025300011246501806, 0.00025300011246501806, 0.00025300011246501806, 0.00025300011246501806, 0.00025300011246501806, 0.00025300011246501806, 0.00025300011246501806, 0.00025300011246501806, 0.00025300011246501806, 0.4902194645045309, 0.5036842921155404, 0.0004986973189262776, 0.0004986973189262776, 0.0004986973189262776, 0.0004986973189262776, 0.0004986973189262776, 0.0004986973189262776, 0.0004986973189262776, 0.0004986973189262776, 0.0004986973189262776, 0.5452851423912527, 0.4485892396271732, 0.0004984324884746369, 0.0004984324884746369, 0.0004984324884746369, 0.0004984324884746369, 0.0004984324884746369, 0.0004984324884746369, 0.0004984324884746369, 0.0004984324884746369, 0.0004984324884746369, 0.9868990879834499, 0.0010080685270515322, 0.0010080685270515322, 0.0010080685270515322, 0.0010080685270515322, 0.0010080685270515322, 0.0010080685270515322, 0.0010080685270515322, 0.0010080685270515322, 0.0010080685270515322, 0.5023847023594749, 0.4933897507920306, 0.00033314635434978436, 0.00033314635434978436, 0.00033314635434978436, 0.00033314635434978436, 0.00033314635434978436, 0.00033314635434978436, 0.00033314635434978436, 0.00033314635434978436, 0.00033314635434978436, 0.46487380834009984, 0.5223635330388755, 0.000991202149978891, 0.000991202149978891, 0.000991202149978891, 0.000991202149978891, 0.000991202149978891, 0.000991202149978891, 0.000991202149978891, 0.000991202149978891, 0.000991202149978891, 0.3331121691167481, 0.16840111671360278, 0.16571743357872465, 0.32841572363071136, 0.00033546039185976647, 0.00033546039185976647, 0.00033546039185976647, 0.00033546039185976647, 0.00033546039185976647, 0.00033546039185976647, 0.00033546039185976647, 0.00033546039185976647, 0.00033546039185976647, 0.5141882213447324, 0.4725776138370662, 0.0009907287501825287, 0.0009907287501825287, 0.0009907287501825287, 0.0009907287501825287, 0.0009907287501825287, 0.0009907287501825287, 0.0009907287501825287, 0.0009907287501825287, 0.0009907287501825287, 0.23099654085029217, 0.2713452816101685, 0.4912459187514947, 0.0005043592594984545, 0.0005043592594984545, 0.0005043592594984545, 0.0005043592594984545, 0.0005043592594984545, 0.0005043592594984545, 0.0005043592594984545, 0.0005043592594984545, 0.0005043592594984545, 0.4717827823922058, 0.5153929555545105, 0.0009911402991432895, 0.0009911402991432895, 0.0009911402991432895, 0.0009911402991432895, 0.0009911402991432895, 0.0009911402991432895, 0.0009911402991432895, 0.0009911402991432895, 0.0009911402991432895, 0.5063031399585477, 0.48153292763180855, 0.000990808493069565, 0.000990808493069565, 0.000990808493069565, 0.000990808493069565, 0.000990808493069565, 0.000990808493069565, 0.000990808493069565, 0.000990808493069565, 0.000990808493069565, 0.9967234334588179, 0.0002510006128075593, 0.0002510006128075593, 0.0002510006128075593, 0.0002510006128075593, 0.0002510006128075593, 0.0002510006128075593, 0.0002510006128075593, 0.0002510006128075593, 0.0002510006128075593, 0.4982125542834811, 0.49516227333888835, 0.0005083801574321236, 0.0005083801574321236, 0.0005083801574321236, 0.0005083801574321236, 0.0005083801574321236, 0.0005083801574321236, 0.0005083801574321236, 0.0005083801574321236, 0.0005083801574321236, 0.987339559464322, 0.0009942996570637683, 0.0009942996570637683, 0.0009942996570637683, 0.0009942996570637683, 0.0009942996570637683, 0.0009942996570637683, 0.0009942996570637683, 0.0009942996570637683, 0.0009942996570637683, 0.5427729729949566, 0.4447172716692254, 0.0009904616295528406, 0.0009904616295528406, 0.0009904616295528406, 0.0009904616295528406, 0.0009904616295528406, 0.0009904616295528406, 0.0009904616295528406, 0.0009904616295528406, 0.0009904616295528406, 0.9873395679551696, 0.0009942996656144708, 0.0009942996656144708, 0.0009942996656144708, 0.0009942996656144708, 0.0009942996656144708, 0.0009942996656144708, 0.0009942996656144708, 0.0009942996656144708, 0.0009942996656144708, 0.9937413854524375, 0.0005003733058672899, 0.0005003733058672899, 0.0005003733058672899, 0.0005003733058672899, 0.0005003733058672899, 0.0005003733058672899, 0.0005003733058672899, 0.0005003733058672899, 0.0005003733058672899, 0.9869150669716147, 0.0010132598223527873, 0.0010132598223527873, 0.0010132598223527873, 0.0010132598223527873, 0.0010132598223527873, 0.0010132598223527873, 0.0010132598223527873, 0.0010132598223527873, 0.0010132598223527873, 0.986899088113444, 0.0010080685271843146, 0.0010080685271843146, 0.0010080685271843146, 0.0010080685271843146, 0.0010080685271843146, 0.0010080685271843146, 0.0010080685271843146, 0.0010080685271843146, 0.0010080685271843146, 0.9868182906159023, 0.0010069574394039821, 0.0010069574394039821, 0.0010069574394039821, 0.0010069574394039821, 0.0010069574394039821, 0.0010069574394039821, 0.0010069574394039821, 0.0010069574394039821, 0.0010069574394039821, 0.6681359389165555, 0.32767593378888477, 0.00033642292996805413, 0.00033642292996805413, 0.00033642292996805413, 0.00033642292996805413, 0.00033642292996805413, 0.00033642292996805413, 0.00033642292996805413, 0.00033642292996805413, 0.00033642292996805413, 0.9873395611662144, 0.000994299658777658, 0.000994299658777658, 0.000994299658777658, 0.000994299658777658, 0.000994299658777658, 0.000994299658777658, 0.000994299658777658, 0.000994299658777658, 0.000994299658777658, 0.9869150670858761, 0.0010132598224700986, 0.0010132598224700986, 0.0010132598224700986, 0.0010132598224700986, 0.0010132598224700986, 0.0010132598224700986, 0.0010132598224700986, 0.0010132598224700986, 0.0010132598224700986, 0.9869150666459361, 0.0010132598220184148, 0.0010132598220184148, 0.0010132598220184148, 0.0010132598220184148, 0.0010132598220184148, 0.0010132598220184148, 0.0010132598220184148, 0.0010132598220184148, 0.0010132598220184148, 0.4313132780143664, 0.5562453999219761, 0.0009915247770445204, 0.0009915247770445204, 0.0009915247770445204, 0.0009915247770445204, 0.0009915247770445204, 0.0009915247770445204, 0.0009915247770445204, 0.0009915247770445204, 0.0009915247770445204, 0.5015976081886864, 0.4920000708718837, 0.0005051335429896136, 0.0005051335429896136, 0.0005051335429896136, 0.0005051335429896136, 0.0005051335429896136, 0.0005051335429896136, 0.0005051335429896136, 0.0005051335429896136, 0.0005051335429896136, 0.9868182895612044, 0.0010069574383277597, 0.0010069574383277597, 0.0010069574383277597, 0.0010069574383277597, 0.0010069574383277597, 0.0010069574383277597, 0.0010069574383277597, 0.0010069574383277597, 0.0010069574383277597, 0.9873395578553257, 0.0009942996554434297, 0.0009942996554434297, 0.0009942996554434297, 0.0009942996554434297, 0.0009942996554434297, 0.0009942996554434297, 0.0009942996554434297, 0.0009942996554434297, 0.0009942996554434297, 0.585925153111153, 0.407556781670853, 0.0004982356744142458, 0.0004982356744142458, 0.0004982356744142458, 0.0004982356744142458, 0.0004982356744142458, 0.0004982356744142458, 0.0004982356744142458, 0.0004982356744142458, 0.0004982356744142458, 0.5279880377741057, 0.45864626921090235, 0.0009905966937600484, 0.0009905966937600484, 0.0009905966937600484, 0.0009905966937600484, 0.0009905966937600484, 0.0009905966937600484, 0.0009905966937600484, 0.0009905966937600484, 0.0009905966937600484, 0.9868990884491436, 0.0010080685275272153, 0.0010080685275272153, 0.0010080685275272153, 0.0010080685275272153, 0.0010080685275272153, 0.0010080685275272153, 0.0010080685275272153, 0.0010080685275272153, 0.0010080685275272153, 0.987339559208108, 0.0009942996568057482, 0.0009942996568057482, 0.0009942996568057482, 0.0009942996568057482, 0.0009942996568057482, 0.0009942996568057482, 0.0009942996568057482, 0.0009942996568057482, 0.0009942996568057482, 0.9933075360976363, 0.000506789559233488, 0.000506789559233488, 0.000506789559233488, 0.000506789559233488, 0.000506789559233488, 0.000506789559233488, 0.000506789559233488, 0.000506789559233488, 0.000506789559233488, 0.9868182940813381, 0.001006957442940141, 0.001006957442940141, 0.001006957442940141, 0.001006957442940141, 0.001006957442940141, 0.001006957442940141, 0.001006957442940141, 0.001006957442940141, 0.001006957442940141, 0.9873395500317232, 0.000994299647564676, 0.000994299647564676, 0.000994299647564676, 0.000994299647564676, 0.000994299647564676, 0.000994299647564676, 0.000994299647564676, 0.000994299647564676, 0.000994299647564676, 0.9868990878708902, 0.001008068526936558, 0.001008068526936558, 0.001008068526936558, 0.001008068526936558, 0.001008068526936558, 0.001008068526936558, 0.001008068526936558, 0.001008068526936558, 0.001008068526936558, 0.5516389980292292, 0.4357650971864648, 0.000990375220878329, 0.000990375220878329, 0.000990375220878329, 0.000990375220878329, 0.000990375220878329, 0.000990375220878329, 0.000990375220878329, 0.000990375220878329, 0.000990375220878329, 0.4727664946488481, 0.5143937331713881, 0.000991124726727145, 0.000991124726727145, 0.000991124726727145, 0.000991124726727145, 0.000991124726727145, 0.000991124726727145, 0.000991124726727145, 0.000991124726727145, 0.000991124726727145, 0.4717806944625711, 0.5153906746229768, 0.000991135912736494, 0.000991135912736494, 0.000991135912736494, 0.000991135912736494, 0.000991135912736494, 0.000991135912736494, 0.000991135912736494, 0.000991135912736494, 0.000991135912736494, 0.9868990875882157, 0.00100806852664782, 0.00100806852664782, 0.00100806852664782, 0.00100806852664782, 0.00100806852664782, 0.00100806852664782, 0.00100806852664782, 0.00100806852664782, 0.00100806852664782, 0.9873395712469065, 0.0009942996689294124, 0.0009942996689294124, 0.0009942996689294124, 0.0009942996689294124, 0.0009942996689294124, 0.0009942996689294124, 0.0009942996689294124, 0.0009942996689294124, 0.0009942996689294124, 0.986818292875969, 0.0010069574417101725, 0.0010069574417101725, 0.0010069574417101725, 0.0010069574417101725, 0.0010069574417101725, 0.0010069574417101725, 0.0010069574417101725, 0.0010069574417101725, 0.0010069574417101725, 0.4352615614339801, 0.5522566963980112, 0.0009914841946104332, 0.0009914841946104332, 0.0009914841946104332, 0.0009914841946104332, 0.0009914841946104332, 0.0009914841946104332, 0.0009914841946104332, 0.0009914841946104332, 0.0009914841946104332, 0.9873393675973501, 0.00099429946384426, 0.00099429946384426, 0.00099429946384426, 0.00099429946384426, 0.00099429946384426, 0.00099429946384426, 0.00099429946384426, 0.00099429946384426, 0.00099429946384426, 0.98691525554041, 0.0010132600159552464, 0.0010132600159552464, 0.0010132600159552464, 0.0010132600159552464, 0.0010132600159552464, 0.0010132600159552464, 0.0010132600159552464, 0.0010132600159552464, 0.0010132600159552464, 0.9873395629004484, 0.0009942996605241173, 0.0009942996605241173, 0.0009942996605241173, 0.0009942996605241173, 0.0009942996605241173, 0.0009942996605241173, 0.0009942996605241173, 0.0009942996605241173, 0.0009942996605241173, 0.9868994467730586, 0.0010080688935373428, 0.0010080688935373428, 0.0010080688935373428, 0.0010080688935373428, 0.0010080688935373428, 0.0010080688935373428, 0.0010080688935373428, 0.0010080688935373428, 0.0010080688935373428, 0.987339368386097, 0.000994299464638567, 0.000994299464638567, 0.000994299464638567, 0.000994299464638567, 0.000994299464638567, 0.000994299464638567, 0.000994299464638567, 0.000994299464638567, 0.000994299464638567, 0.9868182925746269, 0.0010069574414026806, 0.0010069574414026806, 0.0010069574414026806, 0.0010069574414026806, 0.0010069574414026806, 0.0010069574414026806, 0.0010069574414026806, 0.0010069574414026806, 0.0010069574414026806, 0.42933861934597983, 0.5582393595653271, 0.0009915441555334407, 0.0009915441555334407, 0.0009915441555334407, 0.0009915441555334407, 0.0009915441555334407, 0.0009915441555334407, 0.0009915441555334407, 0.0009915441555334407, 0.0009915441555334407, 0.5555772378034265, 0.4317855181502566, 0.0009903337572253592, 0.0009903337572253592, 0.0009903337572253592, 0.0009903337572253592, 0.0009903337572253592, 0.0009903337572253592, 0.0009903337572253592, 0.0009903337572253592, 0.0009903337572253592, 0.9873395580322655, 0.0009942996556216168, 0.0009942996556216168, 0.0009942996556216168, 0.0009942996556216168, 0.0009942996556216168, 0.0009942996556216168, 0.0009942996556216168, 0.0009942996556216168, 0.0009942996556216168, 0.9868990875305118, 0.0010080685265888782, 0.0010080685265888782, 0.0010080685265888782, 0.0010080685265888782, 0.0010080685265888782, 0.0010080685265888782, 0.0010080685265888782, 0.0010080685265888782, 0.0010080685265888782, 0.9868990882452685, 0.001008068527318967, 0.001008068527318967, 0.001008068527318967, 0.001008068527318967, 0.001008068527318967, 0.001008068527318967, 0.001008068527318967, 0.001008068527318967, 0.001008068527318967, 0.9933928192441007, 0.0005073507759162925, 0.0005073507759162925, 0.0005073507759162925, 0.0005073507759162925, 0.0005073507759162925, 0.0005073507759162925, 0.0005073507759162925, 0.0005073507759162925, 0.0005073507759162925, 0.9873395634886564, 0.0009942996611164716, 0.0009942996611164716, 0.0009942996611164716, 0.0009942996611164716, 0.0009942996611164716, 0.0009942996611164716, 0.0009942996611164716, 0.0009942996611164716, 0.0009942996611164716, 0.9873393698991128, 0.0009942994661622485, 0.0009942994661622485, 0.0009942994661622485, 0.0009942994661622485, 0.0009942994661622485, 0.0009942994661622485, 0.0009942994661622485, 0.0009942994661622485, 0.0009942994661622485, 0.9869152557518275, 0.0010132600161723074, 0.0010132600161723074, 0.0010132600161723074, 0.0010132600161723074, 0.0010132600161723074, 0.0010132600161723074, 0.0010132600161723074, 0.0010132600161723074, 0.0010132600161723074, 0.9873395654710315, 0.0009942996631128213, 0.0009942996631128213, 0.0009942996631128213, 0.0009942996631128213, 0.0009942996631128213, 0.0009942996631128213, 0.0009942996631128213, 0.0009942996631128213, 0.0009942996631128213, 0.2601767257733103, 0.2420248611844747, 0.49110878082016324, 0.0005042184608009889, 0.0005042184608009889, 0.0005042184608009889, 0.0005042184608009889, 0.0005042184608009889, 0.0005042184608009889, 0.0005042184608009889, 0.0005042184608009889, 0.0005042184608009889, 0.5432248584477529, 0.45435535323375054, 0.00020015654327477998, 0.00020015654327477998, 0.00020015654327477998, 0.00020015654327477998, 0.00020015654327477998, 0.00020015654327477998, 0.00020015654327477998, 0.00020015654327477998, 0.00020015654327477998, 0.9869150666235155, 0.0010132598219953959, 0.0010132598219953959, 0.0010132598219953959, 0.0010132598219953959, 0.0010132598219953959, 0.0010132598219953959, 0.0010132598219953959, 0.0010132598219953959, 0.0010132598219953959, 0.9873397523913843, 0.0009942998513508402, 0.0009942998513508402, 0.0009942998513508402, 0.0009942998513508402, 0.0009942998513508402, 0.0009942998513508402, 0.0009942998513508402, 0.0009942998513508402, 0.0009942998513508402, 0.4589542640218915, 0.5283425976753092, 0.0009912619093345389, 0.0009912619093345389, 0.0009912619093345389, 0.0009912619093345389, 0.0009912619093345389, 0.0009912619093345389, 0.0009912619093345389, 0.0009912619093345389, 0.0009912619093345389, 0.46092842344409546, 0.5263505222555155, 0.0009912439213851515, 0.0009912439213851515, 0.0009912439213851515, 0.0009912439213851515, 0.0009912439213851515, 0.0009912439213851515, 0.0009912439213851515, 0.0009912439213851515, 0.0009912439213851515, 0.4589539978600919, 0.5283422912730648, 0.0009912613344710407, 0.0009912613344710407, 0.0009912613344710407, 0.0009912613344710407, 0.0009912613344710407, 0.0009912613344710407, 0.0009912613344710407, 0.0009912613344710407, 0.0009912613344710407, 0.9868990884438009, 0.0010080685275217578, 0.0010080685275217578, 0.0010080685275217578, 0.0010080685275217578, 0.0010080685275217578, 0.0010080685275217578, 0.0010080685275217578, 0.0010080685275217578, 0.0010080685275217578, 0.40563416230879595, 0.5821693234114015, 0.000991770567992166, 0.000991770567992166, 0.000991770567992166, 0.000991770567992166, 0.000991770567992166, 0.000991770567992166, 0.000991770567992166, 0.000991770567992166, 0.000991770567992166, 0.987339565758714, 0.0009942996634025316, 0.0009942996634025316, 0.0009942996634025316, 0.0009942996634025316, 0.0009942996634025316, 0.0009942996634025316, 0.0009942996634025316, 0.0009942996634025316, 0.0009942996634025316, 0.6630899527206852, 0.1796285974641131, 0.15325190750191062, 0.0003338821514202846, 0.0003338821514202846, 0.0003338821514202846, 0.0003338821514202846, 0.0003338821514202846, 0.0003338821514202846, 0.0003338821514202846, 0.0003338821514202846, 0.0003338821514202846, 0.987339559842152, 0.000994299657444262, 0.000994299657444262, 0.000994299657444262, 0.000994299657444262, 0.000994299657444262, 0.000994299657444262, 0.000994299657444262, 0.000994299657444262, 0.000994299657444262, 0.44316156788864847, 0.5442856840511588, 0.0009914129035540234, 0.0009914129035540234, 0.0009914129035540234, 0.0009914129035540234, 0.0009914129035540234, 0.0009914129035540234, 0.0009914129035540234, 0.0009914129035540234, 0.0009914129035540234, 0.5279903676455598, 0.45963889416048737, 0.0009906010650010504, 0.0009906010650010504, 0.0009906010650010504, 0.0009906010650010504, 0.0009906010650010504, 0.0009906010650010504, 0.0009906010650010504, 0.0009906010650010504, 0.0009906010650010504, 0.9868990880141778, 0.0010080685270829192, 0.0010080685270829192, 0.0010080685270829192, 0.0010080685270829192, 0.0010080685270829192, 0.0010080685270829192, 0.0010080685270829192, 0.0010080685270829192, 0.0010080685270829192, 0.48325723704141926, 0.5142994549201677, 0.00020027237341128026, 0.00020027237341128026, 0.00020027237341128026, 0.00020027237341128026, 0.00020027237341128026, 0.00020027237341128026, 0.00020027237341128026, 0.00020027237341128026, 0.00020027237341128026, 0.4678364552629713, 0.5193777596563495, 0.0009911789306418883, 0.0009911789306418883, 0.0009911789306418883, 0.0009911789306418883, 0.0009911789306418883, 0.0009911789306418883, 0.0009911789306418883, 0.0009911789306418883, 0.0009911789306418883, 0.9955600157090789, 0.0003343049078942508, 0.0003343049078942508, 0.0003343049078942508, 0.0003343049078942508, 0.0003343049078942508, 0.0003343049078942508, 0.0003343049078942508, 0.0003343049078942508, 0.0003343049078942508, 0.9873393667460317, 0.0009942994629869404, 0.0009942994629869404, 0.0009942994629869404, 0.0009942994629869404, 0.0009942994629869404, 0.0009942994629869404, 0.0009942994629869404, 0.0009942994629869404, 0.0009942994629869404, 0.9954878537021823, 0.0003386013107830552, 0.0003386013107830552, 0.0003386013107830552, 0.0003386013107830552, 0.0003386013107830552, 0.0003386013107830552, 0.0003386013107830552, 0.0003386013107830552, 0.0003386013107830552, 0.993741387204171, 0.0005003733067493308, 0.0005003733067493308, 0.0005003733067493308, 0.0005003733067493308, 0.0005003733067493308, 0.0005003733067493308, 0.0005003733067493308, 0.0005003733067493308, 0.0005003733067493308, 0.4372366839479587, 0.5502638539481113, 0.0009914664035101104, 0.0009914664035101104, 0.0009914664035101104, 0.0009914664035101104, 0.0009914664035101104, 0.0009914664035101104, 0.0009914664035101104, 0.0009914664035101104, 0.0009914664035101104, 0.500037500258077, 0.493491188572926, 0.0005035624373193122, 0.0005035624373193122, 0.0005035624373193122, 0.0005035624373193122, 0.0005035624373193122, 0.0005035624373193122, 0.0005035624373193122, 0.0005035624373193122, 0.0005035624373193122, 0.5073580431293967, 0.48836959371483624, 0.0003331306914835172, 0.0003331306914835172, 0.0003331306914835172, 0.0003331306914835172, 0.0003331306914835172, 0.0003331306914835172, 0.0003331306914835172, 0.0003331306914835172, 0.0003331306914835172, 0.18115888149402803, 0.1545574843973213, 0.659984029234749, 0.0003367265455279332, 0.0003367265455279332, 0.0003367265455279332, 0.0003367265455279332, 0.0003367265455279332, 0.0003367265455279332, 0.0003367265455279332, 0.0003367265455279332, 0.0003367265455279332, 0.46882102206910664, 0.5183792696451222, 0.0009911649515203101, 0.0009911649515203101, 0.0009911649515203101, 0.0009911649515203101, 0.0009911649515203101, 0.0009911649515203101, 0.0009911649515203101, 0.0009911649515203101, 0.0009911649515203101, 0.9868990876222159, 0.0010080685266825496, 0.0010080685266825496, 0.0010080685266825496, 0.0010080685266825496, 0.0010080685266825496, 0.0010080685266825496, 0.0010080685266825496, 0.0010080685266825496, 0.0010080685266825496, 0.986899087580293, 0.0010080685266397273, 0.0010080685266397273, 0.0010080685266397273, 0.0010080685266397273, 0.0010080685266397273, 0.0010080685266397273, 0.0010080685266397273, 0.0010080685266397273, 0.0010080685266397273, 0.986899088170759, 0.001008068527242859, 0.001008068527242859, 0.001008068527242859, 0.001008068527242859, 0.001008068527242859, 0.001008068527242859, 0.001008068527242859, 0.001008068527242859, 0.001008068527242859, 0.5703543911741827, 0.41687360882696345, 0.0009901985957885117, 0.0009901985957885117, 0.0009901985957885117, 0.0009901985957885117, 0.0009901985957885117, 0.0009901985957885117, 0.0009901985957885117, 0.0009901985957885117, 0.0009901985957885117, 0.45636361447263607, 0.5418512447958754, 0.00014319536067544276, 0.00014319536067544276, 0.00014319536067544276, 0.00014319536067544276, 0.00014319536067544276, 0.00014319536067544276, 0.00014319536067544276, 0.00014319536067544276, 0.00014319536067544276, 0.5752751870785068, 0.4119009945346968, 0.0009901466214776366, 0.0009901466214776366, 0.0009901466214776366, 0.0009901466214776366, 0.0009901466214776366, 0.0009901466214776366, 0.0009901466214776366, 0.0009901466214776366, 0.0009901466214776366, 0.987339559372603, 0.0009942996569714028, 0.0009942996569714028, 0.0009942996569714028, 0.0009942996569714028, 0.0009942996569714028, 0.0009942996569714028, 0.0009942996569714028, 0.0009942996569714028, 0.0009942996569714028, 0.9869150666683566, 0.001013259822041434, 0.001013259822041434, 0.001013259822041434, 0.001013259822041434, 0.001013259822041434, 0.001013259822041434, 0.001013259822041434, 0.001013259822041434, 0.001013259822041434, 0.44019785164389225, 0.5472730047464607, 0.0009914366028015592, 0.0009914366028015592, 0.0009914366028015592, 0.0009914366028015592, 0.0009914366028015592, 0.0009914366028015592, 0.0009914366028015592, 0.0009914366028015592, 0.0009914366028015592, 0.9869152556920393, 0.0010132600161109233, 0.0010132600161109233, 0.0010132600161109233, 0.0010132600161109233, 0.0010132600161109233, 0.0010132600161109233, 0.0010132600161109233, 0.0010132600161109233, 0.0010132600161109233, 0.5000374506912545, 0.4934911396550145, 0.000503562387403076, 0.000503562387403076, 0.000503562387403076, 0.000503562387403076, 0.000503562387403076, 0.000503562387403076, 0.000503562387403076, 0.000503562387403076, 0.000503562387403076, 0.9937413863693226, 0.0005003733063289641, 0.0005003733063289641, 0.0005003733063289641, 0.0005003733063289641, 0.0005003733063289641, 0.0005003733063289641, 0.0005003733063289641, 0.0005003733063289641, 0.0005003733063289641, 0.46638790737651364, 0.5272428001037165, 0.0004988105961246136, 0.0004988105961246136, 0.0004988105961246136, 0.0004988105961246136, 0.0004988105961246136, 0.0004988105961246136, 0.0004988105961246136, 0.0004988105961246136, 0.0004988105961246136, 0.5545960234287706, 0.4327829682828085, 0.0009903500418370903, 0.0009903500418370903, 0.0009903500418370903, 0.0009903500418370903, 0.0009903500418370903, 0.0009903500418370903, 0.0009903500418370903, 0.0009903500418370903, 0.0009903500418370903, 0.98733956053357, 0.000994299658140554, 0.000994299658140554, 0.000994299658140554, 0.000994299658140554, 0.000994299658140554, 0.000994299658140554, 0.000994299658140554, 0.000994299658140554, 0.000994299658140554, 0.39582603747147516, 0.5974826820344966, 0.0004991501103045084, 0.0004991501103045084, 0.0004991501103045084, 0.0004991501103045084, 0.0004991501103045084, 0.0004991501103045084, 0.0004991501103045084, 0.0004991501103045084, 0.0004991501103045084, 0.5210909452106367, 0.4666042494186499, 0.0009906671962179403, 0.0009906671962179403, 0.0009906671962179403, 0.0009906671962179403, 0.0009906671962179403, 0.0009906671962179403, 0.0009906671962179403, 0.0009906671962179403, 0.0009906671962179403, 0.699317196760711, 0.12086342686855864, 0.07990471351676566, 0.0986229461541944, 0.00010063565934101469, 0.00010063565934101469, 0.00010063565934101469, 0.00010063565934101469, 0.00010063565934101469, 0.00010063565934101469, 0.00010063565934101469, 0.00010063565934101469, 0.00010063565934101469, 0.9868990883459765, 0.0010080685274218351, 0.0010080685274218351, 0.0010080685274218351, 0.0010080685274218351, 0.0010080685274218351, 0.0010080685274218351, 0.0010080685274218351, 0.0010080685274218351, 0.0010080685274218351, 0.5299597275437207, 0.4566568867245892, 0.000990578929988263, 0.000990578929988263, 0.000990578929988263, 0.000990578929988263, 0.000990578929988263, 0.000990578929988263, 0.000990578929988263, 0.000990578929988263, 0.000990578929988263, 0.5090782922420838, 0.484646523074736, 0.0004986075340275061, 0.0004986075340275061, 0.0004986075340275061, 0.0004986075340275061, 0.0004986075340275061, 0.0004986075340275061, 0.0004986075340275061, 0.0004986075340275061, 0.0004986075340275061, 0.442172017401748, 0.5452793936568641, 0.0009914170793761167, 0.0009914170793761167, 0.0009914170793761167, 0.0009914170793761167, 0.0009914170793761167, 0.0009914170793761167, 0.0009914170793761167, 0.0009914170793761167, 0.0009914170793761167, 0.27089961465815976, 0.2296866862686067, 0.4925447539239268, 0.0005025966876774764, 0.0005025966876774764, 0.0005025966876774764, 0.0005025966876774764, 0.0005025966876774764, 0.0005025966876774764, 0.0005025966876774764, 0.0005025966876774764, 0.0005025966876774764, 0.4332875148614126, 0.554251077362768, 0.000991504610666848, 0.000991504610666848, 0.000991504610666848, 0.000991504610666848, 0.000991504610666848, 0.000991504610666848, 0.000991504610666848, 0.000991504610666848, 0.000991504610666848, 0.9873395513423723, 0.0009942996488845643, 0.0009942996488845643, 0.0009942996488845643, 0.0009942996488845643, 0.0009942996488845643, 0.0009942996488845643, 0.0009942996488845643, 0.0009942996488845643, 0.0009942996488845643, 0.5378465170583081, 0.45559936662770495, 0.000498467578367292, 0.000498467578367292, 0.000498467578367292, 0.000498467578367292, 0.000498467578367292, 0.000498467578367292, 0.000498467578367292, 0.000498467578367292, 0.000498467578367292, 0.9873395605644024, 0.0009942996581716035, 0.0009942996581716035, 0.0009942996581716035, 0.0009942996581716035, 0.0009942996581716035, 0.0009942996581716035, 0.0009942996581716035, 0.0009942996581716035, 0.0009942996581716035, 0.9873395616525935, 0.0009942996592674658, 0.0009942996592674658, 0.0009942996592674658, 0.0009942996592674658, 0.0009942996592674658, 0.0009942996592674658, 0.0009942996592674658, 0.0009942996592674658, 0.0009942996592674658, 0.987339559486668, 0.0009942996570862718, 0.0009942996570862718, 0.0009942996570862718, 0.0009942996570862718, 0.0009942996570862718, 0.0009942996570862718, 0.0009942996570862718, 0.0009942996570862718, 0.0009942996570862718, 0.23479397008833444, 0.26596576054974075, 0.49271539761577676, 0.0005027708138936498, 0.0005027708138936498, 0.0005027708138936498, 0.0005027708138936498, 0.0005027708138936498, 0.0005027708138936498, 0.0005027708138936498, 0.0005027708138936498, 0.0005027708138936498, 0.9873397532464062, 0.0009942998522118895, 0.0009942998522118895, 0.0009942998522118895, 0.0009942998522118895, 0.0009942998522118895, 0.0009942998522118895, 0.0009942998522118895, 0.0009942998522118895, 0.0009942998522118895, 0.9868182915124968, 0.0010069574403188744, 0.0010069574403188744, 0.0010069574403188744, 0.0010069574403188744, 0.0010069574403188744, 0.0010069574403188744, 0.0010069574403188744, 0.0010069574403188744, 0.0010069574403188744, 0.9955600102439454, 0.0003343049060590817, 0.0003343049060590817, 0.0003343049060590817, 0.0003343049060590817, 0.0003343049060590817, 0.0003343049060590817, 0.0003343049060590817, 0.0003343049060590817, 0.0003343049060590817, 0.9868182892598621, 0.0010069574380202676, 0.0010069574380202676, 0.0010069574380202676, 0.0010069574380202676, 0.0010069574380202676, 0.0010069574380202676, 0.0010069574380202676, 0.0010069574380202676, 0.0010069574380202676, 0.9868182958819595, 0.0010069574447775097, 0.0010069574447775097, 0.0010069574447775097, 0.0010069574447775097, 0.0010069574447775097, 0.0010069574447775097, 0.0010069574447775097, 0.0010069574447775097, 0.0010069574447775097, 0.45895198476757615, 0.5283399738253091, 0.0009912569865390415, 0.0009912569865390415, 0.0009912569865390415, 0.0009912569865390415, 0.0009912569865390415, 0.0009912569865390415, 0.0009912569865390415, 0.0009912569865390415, 0.0009912569865390415, 0.5634570988927191, 0.4238306473217641, 0.0009902585217798228, 0.0009902585217798228, 0.0009902585217798228, 0.0009902585217798228, 0.0009902585217798228, 0.0009902585217798228, 0.0009902585217798228, 0.0009902585217798228, 0.0009902585217798228, 0.9937413918978114, 0.0005003733091126946, 0.0005003733091126946, 0.0005003733091126946, 0.0005003733091126946, 0.0005003733091126946, 0.0005003733091126946, 0.0005003733091126946, 0.0005003733091126946, 0.0005003733091126946, 0.1857129432683467, 0.31505773031432255, 0.49271807983661625, 0.0005032871091283108, 0.0005032871091283108, 0.0005032871091283108, 0.0005032871091283108, 0.0005032871091283108, 0.0005032871091283108, 0.0005032871091283108, 0.0005032871091283108, 0.0005032871091283108, 0.552626130022664, 0.43477217039417476, 0.000990369408642767, 0.000990369408642767, 0.000990369408642767, 0.000990369408642767, 0.000990369408642767, 0.000990369408642767, 0.000990369408642767, 0.000990369408642767, 0.000990369408642767, 0.6667503484229378, 0.3290107459488817, 0.0003357252509682466, 0.0003357252509682466, 0.0003357252509682466, 0.0003357252509682466, 0.0003357252509682466, 0.0003357252509682466, 0.0003357252509682466, 0.0003357252509682466, 0.0003357252509682466, 0.9873395615824571, 0.0009942996591968348, 0.0009942996591968348, 0.0009942996591968348, 0.0009942996591968348, 0.0009942996591968348, 0.0009942996591968348, 0.0009942996591968348, 0.0009942996591968348, 0.0009942996591968348, 0.5209832948337252, 0.47262407990657557, 0.0004985486074963877, 0.0004985486074963877, 0.0004985486074963877, 0.0004985486074963877, 0.0004985486074963877, 0.0004985486074963877, 0.0004985486074963877, 0.0004985486074963877, 0.0004985486074963877, 0.9873395535319307, 0.0009942996510895576, 0.0009942996510895576, 0.0009942996510895576, 0.0009942996510895576, 0.0009942996510895576, 0.0009942996510895576, 0.0009942996510895576, 0.0009942996510895576, 0.0009942996510895576], \"Term\": [\"lamoda\", \"lamoda\", \"lamoda\", \"lamoda\", \"lamoda\", \"lamoda\", \"lamoda\", \"lamoda\", \"lamoda\", \"lamoda\", \"n\\u00ba\", \"n\\u00ba\", \"n\\u00ba\", \"n\\u00ba\", \"n\\u00ba\", \"n\\u00ba\", \"n\\u00ba\", \"n\\u00ba\", \"n\\u00ba\", \"n\\u00ba\", \"rtlaci\", \"rtlaci\", \"rtlaci\", \"rtlaci\", \"rtlaci\", \"rtlaci\", \"rtlaci\", \"rtlaci\", \"rtlaci\", \"rtlaci\", \"ru\", \"ru\", \"ru\", \"ru\", \"ru\", \"ru\", \"ru\", \"ru\", \"ru\", \"ru\", \"zzi\", \"zzi\", \"zzi\", \"zzi\", \"zzi\", \"zzi\", \"zzi\", \"zzi\", \"zzi\", \"zzi\", \"\\u0430\\u0434\\u043c\\u0438\\u043d\\u0438\\u0441\\u0442\\u0440\\u0430\\u0442\\u043e\\u0440\", \"\\u0430\\u0434\\u043c\\u0438\\u043d\\u0438\\u0441\\u0442\\u0440\\u0430\\u0442\\u043e\\u0440\", \"\\u0430\\u0434\\u043c\\u0438\\u043d\\u0438\\u0441\\u0442\\u0440\\u0430\\u0442\\u043e\\u0440\", \"\\u0430\\u0434\\u043c\\u0438\\u043d\\u0438\\u0441\\u0442\\u0440\\u0430\\u0442\\u043e\\u0440\", \"\\u0430\\u0434\\u043c\\u0438\\u043d\\u0438\\u0441\\u0442\\u0440\\u0430\\u0442\\u043e\\u0440\", \"\\u0430\\u0434\\u043c\\u0438\\u043d\\u0438\\u0441\\u0442\\u0440\\u0430\\u0442\\u043e\\u0440\", \"\\u0430\\u0434\\u043c\\u0438\\u043d\\u0438\\u0441\\u0442\\u0440\\u0430\\u0442\\u043e\\u0440\", \"\\u0430\\u0434\\u043c\\u0438\\u043d\\u0438\\u0441\\u0442\\u0440\\u0430\\u0442\\u043e\\u0440\", \"\\u0430\\u0434\\u043c\\u0438\\u043d\\u0438\\u0441\\u0442\\u0440\\u0430\\u0442\\u043e\\u0440\", \"\\u0430\\u0434\\u043c\\u0438\\u043d\\u0438\\u0441\\u0442\\u0440\\u0430\\u0442\\u043e\\u0440\", \"\\u0430\\u043a\\u0442\\u0443\\u0430\\u043b\\u044c\\u043d\\u044b\\u0439\", \"\\u0430\\u043a\\u0442\\u0443\\u0430\\u043b\\u044c\\u043d\\u044b\\u0439\", \"\\u0430\\u043a\\u0442\\u0443\\u0430\\u043b\\u044c\\u043d\\u044b\\u0439\", \"\\u0430\\u043a\\u0442\\u0443\\u0430\\u043b\\u044c\\u043d\\u044b\\u0439\", \"\\u0430\\u043a\\u0442\\u0443\\u0430\\u043b\\u044c\\u043d\\u044b\\u0439\", \"\\u0430\\u043a\\u0442\\u0443\\u0430\\u043b\\u044c\\u043d\\u044b\\u0439\", \"\\u0430\\u043a\\u0442\\u0443\\u0430\\u043b\\u044c\\u043d\\u044b\\u0439\", \"\\u0430\\u043a\\u0442\\u0443\\u0430\\u043b\\u044c\\u043d\\u044b\\u0439\", \"\\u0430\\u043a\\u0442\\u0443\\u0430\\u043b\\u044c\\u043d\\u044b\\u0439\", \"\\u0430\\u043a\\u0442\\u0443\\u0430\\u043b\\u044c\\u043d\\u044b\\u0439\", \"\\u0430\\u043d\\u0442\\u0438\\u0442\\u0435\\u043b\\u0430\\u0440\\u0430\\u0431\\u043e\\u0442\\u0430\\u0442\\u044c\", \"\\u0430\\u043d\\u0442\\u0438\\u0442\\u0435\\u043b\\u0430\\u0440\\u0430\\u0431\\u043e\\u0442\\u0430\\u0442\\u044c\", \"\\u0430\\u043d\\u0442\\u0438\\u0442\\u0435\\u043b\\u0430\\u0440\\u0430\\u0431\\u043e\\u0442\\u0430\\u0442\\u044c\", \"\\u0430\\u043d\\u0442\\u0438\\u0442\\u0435\\u043b\\u0430\\u0440\\u0430\\u0431\\u043e\\u0442\\u0430\\u0442\\u044c\", \"\\u0430\\u043d\\u0442\\u0438\\u0442\\u0435\\u043b\\u0430\\u0440\\u0430\\u0431\\u043e\\u0442\\u0430\\u0442\\u044c\", \"\\u0430\\u043d\\u0442\\u0438\\u0442\\u0435\\u043b\\u0430\\u0440\\u0430\\u0431\\u043e\\u0442\\u0430\\u0442\\u044c\", \"\\u0430\\u043d\\u0442\\u0438\\u0442\\u0435\\u043b\\u0430\\u0440\\u0430\\u0431\\u043e\\u0442\\u0430\\u0442\\u044c\", \"\\u0430\\u043d\\u0442\\u0438\\u0442\\u0435\\u043b\\u0430\\u0440\\u0430\\u0431\\u043e\\u0442\\u0430\\u0442\\u044c\", \"\\u0430\\u043d\\u0442\\u0438\\u0442\\u0435\\u043b\\u0430\\u0440\\u0430\\u0431\\u043e\\u0442\\u0430\\u0442\\u044c\", \"\\u0430\\u043d\\u0442\\u0438\\u0442\\u0435\\u043b\\u0430\\u0440\\u0430\\u0431\\u043e\\u0442\\u0430\\u0442\\u044c\", \"\\u0430\\u043d\\u0442\\u0438\\u0442\\u0435\\u043b\\u043e\", \"\\u0430\\u043d\\u0442\\u0438\\u0442\\u0435\\u043b\\u043e\", \"\\u0430\\u043d\\u0442\\u0438\\u0442\\u0435\\u043b\\u043e\", \"\\u0430\\u043d\\u0442\\u0438\\u0442\\u0435\\u043b\\u043e\", \"\\u0430\\u043d\\u0442\\u0438\\u0442\\u0435\\u043b\\u043e\", \"\\u0430\\u043d\\u0442\\u0438\\u0442\\u0435\\u043b\\u043e\", \"\\u0430\\u043d\\u0442\\u0438\\u0442\\u0435\\u043b\\u043e\", \"\\u0430\\u043d\\u0442\\u0438\\u0442\\u0435\\u043b\\u043e\", \"\\u0430\\u043d\\u0442\\u0438\\u0442\\u0435\\u043b\\u043e\", \"\\u0430\\u043d\\u0442\\u0438\\u0442\\u0435\\u043b\\u043e\", \"\\u0430\\u0440\\u0442\\u0438\\u043a\\u0443\\u043b\", \"\\u0430\\u0440\\u0442\\u0438\\u043a\\u0443\\u043b\", \"\\u0430\\u0440\\u0442\\u0438\\u043a\\u0443\\u043b\", \"\\u0430\\u0440\\u0442\\u0438\\u043a\\u0443\\u043b\", \"\\u0430\\u0440\\u0442\\u0438\\u043a\\u0443\\u043b\", \"\\u0430\\u0440\\u0442\\u0438\\u043a\\u0443\\u043b\", \"\\u0430\\u0440\\u0442\\u0438\\u043a\\u0443\\u043b\", \"\\u0430\\u0440\\u0442\\u0438\\u043a\\u0443\\u043b\", \"\\u0430\\u0440\\u0442\\u0438\\u043a\\u0443\\u043b\", \"\\u0430\\u0440\\u0442\\u0438\\u043a\\u0443\\u043b\", \"\\u0431\\u044b\\u043b\\u043e\\u043a\\u0430\\u043a\", \"\\u0431\\u044b\\u043b\\u043e\\u043a\\u0430\\u043a\", \"\\u0431\\u044b\\u043b\\u043e\\u043a\\u0430\\u043a\", \"\\u0431\\u044b\\u043b\\u043e\\u043a\\u0430\\u043a\", \"\\u0431\\u044b\\u043b\\u043e\\u043a\\u0430\\u043a\", \"\\u0431\\u044b\\u043b\\u043e\\u043a\\u0430\\u043a\", \"\\u0431\\u044b\\u043b\\u043e\\u043a\\u0430\\u043a\", \"\\u0431\\u044b\\u043b\\u043e\\u043a\\u0430\\u043a\", \"\\u0431\\u044b\\u043b\\u043e\\u043a\\u0430\\u043a\", \"\\u0431\\u044b\\u043b\\u043e\\u043a\\u0430\\u043a\", \"\\u0432\\u0430\\u043a\\u0446\\u0438\\u043d\\u0438\\u0440\\u043e\\u0432\\u0430\\u0442\\u044c\\u0441\\u044f\", \"\\u0432\\u0430\\u043a\\u0446\\u0438\\u043d\\u0438\\u0440\\u043e\\u0432\\u0430\\u0442\\u044c\\u0441\\u044f\", \"\\u0432\\u0430\\u043a\\u0446\\u0438\\u043d\\u0438\\u0440\\u043e\\u0432\\u0430\\u0442\\u044c\\u0441\\u044f\", \"\\u0432\\u0430\\u043a\\u0446\\u0438\\u043d\\u0438\\u0440\\u043e\\u0432\\u0430\\u0442\\u044c\\u0441\\u044f\", \"\\u0432\\u0430\\u043a\\u0446\\u0438\\u043d\\u0438\\u0440\\u043e\\u0432\\u0430\\u0442\\u044c\\u0441\\u044f\", \"\\u0432\\u0430\\u043a\\u0446\\u0438\\u043d\\u0438\\u0440\\u043e\\u0432\\u0430\\u0442\\u044c\\u0441\\u044f\", \"\\u0432\\u0430\\u043a\\u0446\\u0438\\u043d\\u0438\\u0440\\u043e\\u0432\\u0430\\u0442\\u044c\\u0441\\u044f\", \"\\u0432\\u0430\\u043a\\u0446\\u0438\\u043d\\u0438\\u0440\\u043e\\u0432\\u0430\\u0442\\u044c\\u0441\\u044f\", \"\\u0432\\u0430\\u043a\\u0446\\u0438\\u043d\\u0438\\u0440\\u043e\\u0432\\u0430\\u0442\\u044c\\u0441\\u044f\", \"\\u0432\\u0430\\u043a\\u0446\\u0438\\u043d\\u0438\\u0440\\u043e\\u0432\\u0430\\u0442\\u044c\\u0441\\u044f\", \"\\u0432\\u0435\\u0440\\u043d\\u0443\\u0442\\u044c\", \"\\u0432\\u0435\\u0440\\u043d\\u0443\\u0442\\u044c\", \"\\u0432\\u0435\\u0440\\u043d\\u0443\\u0442\\u044c\", \"\\u0432\\u0435\\u0440\\u043d\\u0443\\u0442\\u044c\", \"\\u0432\\u0435\\u0440\\u043d\\u0443\\u0442\\u044c\", \"\\u0432\\u0435\\u0440\\u043d\\u0443\\u0442\\u044c\", \"\\u0432\\u0435\\u0440\\u043d\\u0443\\u0442\\u044c\", \"\\u0432\\u0435\\u0440\\u043d\\u0443\\u0442\\u044c\", \"\\u0432\\u0435\\u0440\\u043d\\u0443\\u0442\\u044c\", \"\\u0432\\u0435\\u0440\\u043d\\u0443\\u0442\\u044c\", \"\\u0432\\u0435\\u0441\\u044c\", \"\\u0432\\u0435\\u0441\\u044c\", \"\\u0432\\u0435\\u0441\\u044c\", \"\\u0432\\u0435\\u0441\\u044c\", \"\\u0432\\u0435\\u0441\\u044c\", \"\\u0432\\u0435\\u0441\\u044c\", \"\\u0432\\u0435\\u0441\\u044c\", \"\\u0432\\u0435\\u0441\\u044c\", \"\\u0432\\u0435\\u0441\\u044c\", \"\\u0432\\u0435\\u0441\\u044c\", \"\\u0432\\u0435\\u0441\\u044c\", \"\\u0432\\u043e\\u0437\\u0432\\u0440\\u0430\\u0442\", \"\\u0432\\u043e\\u0437\\u0432\\u0440\\u0430\\u0442\", \"\\u0432\\u043e\\u0437\\u0432\\u0440\\u0430\\u0442\", \"\\u0432\\u043e\\u0437\\u0432\\u0440\\u0430\\u0442\", \"\\u0432\\u043e\\u0437\\u0432\\u0440\\u0430\\u0442\", \"\\u0432\\u043e\\u0437\\u0432\\u0440\\u0430\\u0442\", \"\\u0432\\u043e\\u0437\\u0432\\u0440\\u0430\\u0442\", \"\\u0432\\u043e\\u0437\\u0432\\u0440\\u0430\\u0442\", \"\\u0432\\u043e\\u0437\\u0432\\u0440\\u0430\\u0442\", \"\\u0432\\u043e\\u0437\\u0432\\u0440\\u0430\\u0442\", \"\\u0432\\u043e\\u0437\\u0432\\u0440\\u0430\\u0442\", \"\\u0432\\u043e\\u0437\\u0432\\u0440\\u0430\\u0442\", \"\\u0432\\u043e\\u0437\\u0432\\u0440\\u0430\\u0442\", \"\\u0432\\u043e\\u0437\\u0432\\u0440\\u0430\\u0442\\u0438\\u0442\\u044c\", \"\\u0432\\u043e\\u0437\\u0432\\u0440\\u0430\\u0442\\u0438\\u0442\\u044c\", \"\\u0432\\u043e\\u0437\\u0432\\u0440\\u0430\\u0442\\u0438\\u0442\\u044c\", \"\\u0432\\u043e\\u0437\\u0432\\u0440\\u0430\\u0442\\u0438\\u0442\\u044c\", \"\\u0432\\u043e\\u0437\\u0432\\u0440\\u0430\\u0442\\u0438\\u0442\\u044c\", \"\\u0432\\u043e\\u0437\\u0432\\u0440\\u0430\\u0442\\u0438\\u0442\\u044c\", \"\\u0432\\u043e\\u0437\\u0432\\u0440\\u0430\\u0442\\u0438\\u0442\\u044c\", \"\\u0432\\u043e\\u0437\\u0432\\u0440\\u0430\\u0442\\u0438\\u0442\\u044c\", \"\\u0432\\u043e\\u0437\\u0432\\u0440\\u0430\\u0442\\u0438\\u0442\\u044c\", \"\\u0432\\u043e\\u0437\\u0432\\u0440\\u0430\\u0442\\u0438\\u0442\\u044c\", \"\\u0432\\u043e\\u0437\\u043c\\u0435\\u0449\\u0435\\u043d\\u0438\\u0435\", \"\\u0432\\u043e\\u0437\\u043c\\u0435\\u0449\\u0435\\u043d\\u0438\\u0435\", \"\\u0432\\u043e\\u0437\\u043c\\u0435\\u0449\\u0435\\u043d\\u0438\\u0435\", \"\\u0432\\u043e\\u0437\\u043c\\u0435\\u0449\\u0435\\u043d\\u0438\\u0435\", \"\\u0432\\u043e\\u0437\\u043c\\u0435\\u0449\\u0435\\u043d\\u0438\\u0435\", \"\\u0432\\u043e\\u0437\\u043c\\u0435\\u0449\\u0435\\u043d\\u0438\\u0435\", \"\\u0432\\u043e\\u0437\\u043c\\u0435\\u0449\\u0435\\u043d\\u0438\\u0435\", \"\\u0432\\u043e\\u0437\\u043c\\u0435\\u0449\\u0435\\u043d\\u0438\\u0435\", \"\\u0432\\u043e\\u0437\\u043c\\u0435\\u0449\\u0435\\u043d\\u0438\\u0435\", \"\\u0432\\u043e\\u0437\\u043c\\u0435\\u0449\\u0435\\u043d\\u0438\\u0435\", \"\\u0432\\u043e\\u0437\\u043c\\u0435\\u0449\\u0435\\u043d\\u0438\\u0435\", \"\\u0432\\u043e\\u0441\\u0441\\u0442\\u0430\\u043d\\u043e\\u0432\\u0438\\u0442\\u044c\", \"\\u0432\\u043e\\u0441\\u0441\\u0442\\u0430\\u043d\\u043e\\u0432\\u0438\\u0442\\u044c\", \"\\u0432\\u043e\\u0441\\u0441\\u0442\\u0430\\u043d\\u043e\\u0432\\u0438\\u0442\\u044c\", \"\\u0432\\u043e\\u0441\\u0441\\u0442\\u0430\\u043d\\u043e\\u0432\\u0438\\u0442\\u044c\", \"\\u0432\\u043e\\u0441\\u0441\\u0442\\u0430\\u043d\\u043e\\u0432\\u0438\\u0442\\u044c\", \"\\u0432\\u043e\\u0441\\u0441\\u0442\\u0430\\u043d\\u043e\\u0432\\u0438\\u0442\\u044c\", \"\\u0432\\u043e\\u0441\\u0441\\u0442\\u0430\\u043d\\u043e\\u0432\\u0438\\u0442\\u044c\", \"\\u0432\\u043e\\u0441\\u0441\\u0442\\u0430\\u043d\\u043e\\u0432\\u0438\\u0442\\u044c\", \"\\u0432\\u043e\\u0441\\u0441\\u0442\\u0430\\u043d\\u043e\\u0432\\u0438\\u0442\\u044c\", \"\\u0432\\u043e\\u0441\\u0441\\u0442\\u0430\\u043d\\u043e\\u0432\\u0438\\u0442\\u044c\", \"\\u0432\\u043e\\u0441\\u0441\\u0442\\u0430\\u043d\\u043e\\u0432\\u0438\\u0442\\u044c\", \"\\u0432\\u0440\\u0435\\u043c\\u044f\", \"\\u0432\\u0440\\u0435\\u043c\\u044f\", \"\\u0432\\u0440\\u0435\\u043c\\u044f\", \"\\u0432\\u0440\\u0435\\u043c\\u044f\", \"\\u0432\\u0440\\u0435\\u043c\\u044f\", \"\\u0432\\u0440\\u0435\\u043c\\u044f\", \"\\u0432\\u0440\\u0435\\u043c\\u044f\", \"\\u0432\\u0440\\u0435\\u043c\\u044f\", \"\\u0432\\u0440\\u0435\\u043c\\u044f\", \"\\u0432\\u0440\\u0435\\u043c\\u044f\", \"\\u0432\\u0440\\u0435\\u043c\\u044f\", \"\\u0432\\u0440\\u0435\\u043c\\u044f\", \"\\u0433\", \"\\u0433\", \"\\u0433\", \"\\u0433\", \"\\u0433\", \"\\u0433\", \"\\u0433\", \"\\u0433\", \"\\u0433\", \"\\u0433\", \"\\u0433\", \"\\u0433\\u0430\\u0440\\u0430\\u043d\\u0442\\u0438\\u044f\", \"\\u0433\\u0430\\u0440\\u0430\\u043d\\u0442\\u0438\\u044f\", \"\\u0433\\u0430\\u0440\\u0430\\u043d\\u0442\\u0438\\u044f\", \"\\u0433\\u0430\\u0440\\u0430\\u043d\\u0442\\u0438\\u044f\", \"\\u0433\\u0430\\u0440\\u0430\\u043d\\u0442\\u0438\\u044f\", \"\\u0433\\u0430\\u0440\\u0430\\u043d\\u0442\\u0438\\u044f\", \"\\u0433\\u0430\\u0440\\u0430\\u043d\\u0442\\u0438\\u044f\", \"\\u0433\\u0430\\u0440\\u0430\\u043d\\u0442\\u0438\\u044f\", \"\\u0433\\u0430\\u0440\\u0430\\u043d\\u0442\\u0438\\u044f\", \"\\u0433\\u0430\\u0440\\u0430\\u043d\\u0442\\u0438\\u044f\", \"\\u0433\\u0430\\u0440\\u0430\\u043d\\u0442\\u0438\\u044f\", \"\\u0433\\u043e\\u0434\", \"\\u0433\\u043e\\u0434\", \"\\u0433\\u043e\\u0434\", \"\\u0433\\u043e\\u0434\", \"\\u0433\\u043e\\u0434\", \"\\u0433\\u043e\\u0434\", \"\\u0433\\u043e\\u0434\", \"\\u0433\\u043e\\u0434\", \"\\u0433\\u043e\\u0434\", \"\\u0433\\u043e\\u0434\", \"\\u0433\\u043e\\u0434\", \"\\u0433\\u043e\\u0440\\u043e\\u0434\", \"\\u0433\\u043e\\u0440\\u043e\\u0434\", \"\\u0433\\u043e\\u0440\\u043e\\u0434\", \"\\u0433\\u043e\\u0440\\u043e\\u0434\", \"\\u0433\\u043e\\u0440\\u043e\\u0434\", \"\\u0433\\u043e\\u0440\\u043e\\u0434\", \"\\u0433\\u043e\\u0440\\u043e\\u0434\", \"\\u0433\\u043e\\u0440\\u043e\\u0434\", \"\\u0433\\u043e\\u0440\\u043e\\u0434\", \"\\u0433\\u043e\\u0440\\u043e\\u0434\", \"\\u0433\\u043e\\u0440\\u043e\\u0434\", \"\\u0433\\u043e\\u0440\\u044f\\u0447\\u0438\\u0439\", \"\\u0433\\u043e\\u0440\\u044f\\u0447\\u0438\\u0439\", \"\\u0433\\u043e\\u0440\\u044f\\u0447\\u0438\\u0439\", \"\\u0433\\u043e\\u0440\\u044f\\u0447\\u0438\\u0439\", \"\\u0433\\u043e\\u0440\\u044f\\u0447\\u0438\\u0439\", \"\\u0433\\u043e\\u0440\\u044f\\u0447\\u0438\\u0439\", \"\\u0433\\u043e\\u0440\\u044f\\u0447\\u0438\\u0439\", \"\\u0433\\u043e\\u0440\\u044f\\u0447\\u0438\\u0439\", \"\\u0433\\u043e\\u0440\\u044f\\u0447\\u0438\\u0439\", \"\\u0433\\u043e\\u0440\\u044f\\u0447\\u0438\\u0439\", \"\\u0434\\u0430\\u043d\\u043d\\u044b\\u0439\", \"\\u0434\\u0430\\u043d\\u043d\\u044b\\u0439\", \"\\u0434\\u0430\\u043d\\u043d\\u044b\\u0439\", \"\\u0434\\u0430\\u043d\\u043d\\u044b\\u0439\", \"\\u0434\\u0430\\u043d\\u043d\\u044b\\u0439\", \"\\u0434\\u0430\\u043d\\u043d\\u044b\\u0439\", \"\\u0434\\u0430\\u043d\\u043d\\u044b\\u0439\", \"\\u0434\\u0430\\u043d\\u043d\\u044b\\u0439\", \"\\u0434\\u0430\\u043d\\u043d\\u044b\\u0439\", \"\\u0434\\u0430\\u043d\\u043d\\u044b\\u0439\", \"\\u0434\\u0430\\u0442\\u0430\", \"\\u0434\\u0430\\u0442\\u0430\", \"\\u0434\\u0430\\u0442\\u0430\", \"\\u0434\\u0430\\u0442\\u0430\", \"\\u0434\\u0430\\u0442\\u0430\", \"\\u0434\\u0430\\u0442\\u0430\", \"\\u0434\\u0430\\u0442\\u0430\", \"\\u0434\\u0430\\u0442\\u0430\", \"\\u0434\\u0430\\u0442\\u0430\", \"\\u0434\\u0430\\u0442\\u0430\", \"\\u0434\\u0430\\u0442\\u044c\", \"\\u0434\\u0430\\u0442\\u044c\", \"\\u0434\\u0430\\u0442\\u044c\", \"\\u0434\\u0430\\u0442\\u044c\", \"\\u0434\\u0430\\u0442\\u044c\", \"\\u0434\\u0430\\u0442\\u044c\", \"\\u0434\\u0430\\u0442\\u044c\", \"\\u0434\\u0430\\u0442\\u044c\", \"\\u0434\\u0430\\u0442\\u044c\", \"\\u0434\\u0430\\u0442\\u044c\", \"\\u0434\\u0435\\u043b\\u0430\\u0442\\u044c\", \"\\u0434\\u0435\\u043b\\u0430\\u0442\\u044c\", \"\\u0434\\u0435\\u043b\\u0430\\u0442\\u044c\", \"\\u0434\\u0435\\u043b\\u0430\\u0442\\u044c\", \"\\u0434\\u0435\\u043b\\u0430\\u0442\\u044c\", \"\\u0434\\u0435\\u043b\\u0430\\u0442\\u044c\", \"\\u0434\\u0435\\u043b\\u0430\\u0442\\u044c\", \"\\u0434\\u0435\\u043b\\u0430\\u0442\\u044c\", \"\\u0434\\u0435\\u043b\\u0430\\u0442\\u044c\", \"\\u0434\\u0435\\u043b\\u0430\\u0442\\u044c\", \"\\u0434\\u0435\\u043b\\u0430\\u0442\\u044c\", \"\\u0434\\u0435\\u043b\\u0430\\u0442\\u044c\", \"\\u0434\\u0435\\u043d\\u044c\", \"\\u0434\\u0435\\u043d\\u044c\", \"\\u0434\\u0435\\u043d\\u044c\", \"\\u0434\\u0435\\u043d\\u044c\", \"\\u0434\\u0435\\u043d\\u044c\", \"\\u0434\\u0435\\u043d\\u044c\", \"\\u0434\\u0435\\u043d\\u044c\", \"\\u0434\\u0435\\u043d\\u044c\", \"\\u0434\\u0435\\u043d\\u044c\", \"\\u0434\\u0435\\u043d\\u044c\", \"\\u0434\\u0435\\u043d\\u044c\", \"\\u0434\\u0435\\u043d\\u044c\", \"\\u0434\\u0435\\u0442\\u0441\\u0442\\u0432\\u043e\", \"\\u0434\\u0435\\u0442\\u0441\\u0442\\u0432\\u043e\", \"\\u0434\\u0435\\u0442\\u0441\\u0442\\u0432\\u043e\", \"\\u0434\\u0435\\u0442\\u0441\\u0442\\u0432\\u043e\", \"\\u0434\\u0435\\u0442\\u0441\\u0442\\u0432\\u043e\", \"\\u0434\\u0435\\u0442\\u0441\\u0442\\u0432\\u043e\", \"\\u0434\\u0435\\u0442\\u0441\\u0442\\u0432\\u043e\", \"\\u0434\\u0435\\u0442\\u0441\\u0442\\u0432\\u043e\", \"\\u0434\\u0435\\u0442\\u0441\\u0442\\u0432\\u043e\", \"\\u0434\\u0435\\u0442\\u0441\\u0442\\u0432\\u043e\", \"\\u0434\\u0438\\u043a\\u0441\\u0438\", \"\\u0434\\u0438\\u043a\\u0441\\u0438\", \"\\u0434\\u0438\\u043a\\u0441\\u0438\", \"\\u0434\\u0438\\u043a\\u0441\\u0438\", \"\\u0434\\u0438\\u043a\\u0441\\u0438\", \"\\u0434\\u0438\\u043a\\u0441\\u0438\", \"\\u0434\\u0438\\u043a\\u0441\\u0438\", \"\\u0434\\u0438\\u043a\\u0441\\u0438\", \"\\u0434\\u0438\\u043a\\u0441\\u0438\", \"\\u0434\\u0438\\u043a\\u0441\\u0438\", \"\\u0434\\u0438\\u0441\\u043f\\u043b\\u0435\\u0439\", \"\\u0434\\u0438\\u0441\\u043f\\u043b\\u0435\\u0439\", \"\\u0434\\u0438\\u0441\\u043f\\u043b\\u0435\\u0439\", \"\\u0434\\u0438\\u0441\\u043f\\u043b\\u0435\\u0439\", \"\\u0434\\u0438\\u0441\\u043f\\u043b\\u0435\\u0439\", \"\\u0434\\u0438\\u0441\\u043f\\u043b\\u0435\\u0439\", \"\\u0434\\u0438\\u0441\\u043f\\u043b\\u0435\\u0439\", \"\\u0434\\u0438\\u0441\\u043f\\u043b\\u0435\\u0439\", \"\\u0434\\u0438\\u0441\\u043f\\u043b\\u0435\\u0439\", \"\\u0434\\u0438\\u0441\\u043f\\u043b\\u0435\\u0439\", \"\\u0434\\u0438\\u0441\\u043f\\u043b\\u0435\\u0439\", \"\\u0434\\u043e\\u0432\\u0435\\u0440\\u044f\\u0442\\u044c\", \"\\u0434\\u043e\\u0432\\u0435\\u0440\\u044f\\u0442\\u044c\", \"\\u0434\\u043e\\u0432\\u0435\\u0440\\u044f\\u0442\\u044c\", \"\\u0434\\u043e\\u0432\\u0435\\u0440\\u044f\\u0442\\u044c\", \"\\u0434\\u043e\\u0432\\u0435\\u0440\\u044f\\u0442\\u044c\", \"\\u0434\\u043e\\u0432\\u0435\\u0440\\u044f\\u0442\\u044c\", \"\\u0434\\u043e\\u0432\\u0435\\u0440\\u044f\\u0442\\u044c\", \"\\u0434\\u043e\\u0432\\u0435\\u0440\\u044f\\u0442\\u044c\", \"\\u0434\\u043e\\u0432\\u0435\\u0440\\u044f\\u0442\\u044c\", \"\\u0434\\u043e\\u0432\\u0435\\u0440\\u044f\\u0442\\u044c\", \"\\u0434\\u043e\\u0432\\u0435\\u0440\\u044f\\u0442\\u044c\", \"\\u0434\\u043e\\u0433\\u043e\\u0432\\u043e\\u0440\", \"\\u0434\\u043e\\u0433\\u043e\\u0432\\u043e\\u0440\", \"\\u0434\\u043e\\u0433\\u043e\\u0432\\u043e\\u0440\", \"\\u0434\\u043e\\u0433\\u043e\\u0432\\u043e\\u0440\", \"\\u0434\\u043e\\u0433\\u043e\\u0432\\u043e\\u0440\", \"\\u0434\\u043e\\u0433\\u043e\\u0432\\u043e\\u0440\", \"\\u0434\\u043e\\u0433\\u043e\\u0432\\u043e\\u0440\", \"\\u0434\\u043e\\u0433\\u043e\\u0432\\u043e\\u0440\", \"\\u0434\\u043e\\u0433\\u043e\\u0432\\u043e\\u0440\", \"\\u0434\\u043e\\u0433\\u043e\\u0432\\u043e\\u0440\", \"\\u0434\\u043e\\u0433\\u043e\\u0432\\u043e\\u0440\", \"\\u0434\\u043e\\u0441\\u0442\\u0430\\u0432\\u0438\\u0442\\u044c\", \"\\u0434\\u043e\\u0441\\u0442\\u0430\\u0432\\u0438\\u0442\\u044c\", \"\\u0434\\u043e\\u0441\\u0442\\u0430\\u0432\\u0438\\u0442\\u044c\", \"\\u0434\\u043e\\u0441\\u0442\\u0430\\u0432\\u0438\\u0442\\u044c\", \"\\u0434\\u043e\\u0441\\u0442\\u0430\\u0432\\u0438\\u0442\\u044c\", \"\\u0434\\u043e\\u0441\\u0442\\u0430\\u0432\\u0438\\u0442\\u044c\", \"\\u0434\\u043e\\u0441\\u0442\\u0430\\u0432\\u0438\\u0442\\u044c\", \"\\u0434\\u043e\\u0441\\u0442\\u0430\\u0432\\u0438\\u0442\\u044c\", \"\\u0434\\u043e\\u0441\\u0442\\u0430\\u0432\\u0438\\u0442\\u044c\", \"\\u0434\\u043e\\u0441\\u0442\\u0430\\u0432\\u0438\\u0442\\u044c\", \"\\u0434\\u043e\\u0441\\u0442\\u0430\\u0432\\u043a\\u0430\", \"\\u0434\\u043e\\u0441\\u0442\\u0430\\u0432\\u043a\\u0430\", \"\\u0434\\u043e\\u0441\\u0442\\u0430\\u0432\\u043a\\u0430\", \"\\u0434\\u043e\\u0441\\u0442\\u0430\\u0432\\u043a\\u0430\", \"\\u0434\\u043e\\u0441\\u0442\\u0430\\u0432\\u043a\\u0430\", \"\\u0434\\u043e\\u0441\\u0442\\u0430\\u0432\\u043a\\u0430\", \"\\u0434\\u043e\\u0441\\u0442\\u0430\\u0432\\u043a\\u0430\", \"\\u0434\\u043e\\u0441\\u0442\\u0430\\u0432\\u043a\\u0430\", \"\\u0434\\u043e\\u0441\\u0442\\u0430\\u0432\\u043a\\u0430\", \"\\u0434\\u043e\\u0441\\u0442\\u0430\\u0432\\u043a\\u0430\", \"\\u0434\\u043e\\u0441\\u0442\\u0430\\u0432\\u043a\\u0430\", \"\\u0434\\u043e\\u0441\\u0442\\u0430\\u0432\\u043a\\u0430\", \"\\u0434\\u0441\", \"\\u0434\\u0441\", \"\\u0434\\u0441\", \"\\u0434\\u0441\", \"\\u0434\\u0441\", \"\\u0434\\u0441\", \"\\u0434\\u0441\", \"\\u0434\\u0441\", \"\\u0434\\u0441\", \"\\u0434\\u0441\", \"\\u0434\\u0443\\u0445\", \"\\u0434\\u0443\\u0445\", \"\\u0434\\u0443\\u0445\", \"\\u0434\\u0443\\u0445\", \"\\u0434\\u0443\\u0445\", \"\\u0434\\u0443\\u0445\", \"\\u0434\\u0443\\u0445\", \"\\u0434\\u0443\\u0445\", \"\\u0434\\u0443\\u0445\", \"\\u0434\\u0443\\u0445\", \"\\u0436\\u0434\\u0430\\u0442\\u044c\", \"\\u0436\\u0434\\u0430\\u0442\\u044c\", \"\\u0436\\u0434\\u0430\\u0442\\u044c\", \"\\u0436\\u0434\\u0430\\u0442\\u044c\", \"\\u0436\\u0434\\u0430\\u0442\\u044c\", \"\\u0436\\u0434\\u0430\\u0442\\u044c\", \"\\u0436\\u0434\\u0430\\u0442\\u044c\", \"\\u0436\\u0434\\u0430\\u0442\\u044c\", \"\\u0436\\u0434\\u0430\\u0442\\u044c\", \"\\u0436\\u0434\\u0430\\u0442\\u044c\", \"\\u0437\\u0430\\u043a\\u0430\\u0437\", \"\\u0437\\u0430\\u043a\\u0430\\u0437\", \"\\u0437\\u0430\\u043a\\u0430\\u0437\", \"\\u0437\\u0430\\u043a\\u0430\\u0437\", \"\\u0437\\u0430\\u043a\\u0430\\u0437\", \"\\u0437\\u0430\\u043a\\u0430\\u0437\", \"\\u0437\\u0430\\u043a\\u0430\\u0437\", \"\\u0437\\u0430\\u043a\\u0430\\u0437\", \"\\u0437\\u0430\\u043a\\u0430\\u0437\", \"\\u0437\\u0430\\u043a\\u0430\\u0437\", \"\\u0437\\u0430\\u043a\\u0430\\u0437\", \"\\u0437\\u0430\\u043a\\u0430\\u0437\\u0430\\u0442\\u044c\", \"\\u0437\\u0430\\u043a\\u0430\\u0437\\u0430\\u0442\\u044c\", \"\\u0437\\u0430\\u043a\\u0430\\u0437\\u0430\\u0442\\u044c\", \"\\u0437\\u0430\\u043a\\u0430\\u0437\\u0430\\u0442\\u044c\", \"\\u0437\\u0430\\u043a\\u0430\\u0437\\u0430\\u0442\\u044c\", \"\\u0437\\u0430\\u043a\\u0430\\u0437\\u0430\\u0442\\u044c\", \"\\u0437\\u0430\\u043a\\u0430\\u0437\\u0430\\u0442\\u044c\", \"\\u0437\\u0430\\u043a\\u0430\\u0437\\u0430\\u0442\\u044c\", \"\\u0437\\u0430\\u043a\\u0430\\u0437\\u0430\\u0442\\u044c\", \"\\u0437\\u0430\\u043a\\u0430\\u0437\\u0430\\u0442\\u044c\", \"\\u0437\\u0430\\u043c\\u0435\\u043d\\u0430\", \"\\u0437\\u0430\\u043c\\u0435\\u043d\\u0430\", \"\\u0437\\u0430\\u043c\\u0435\\u043d\\u0430\", \"\\u0437\\u0430\\u043c\\u0435\\u043d\\u0430\", \"\\u0437\\u0430\\u043c\\u0435\\u043d\\u0430\", \"\\u0437\\u0430\\u043c\\u0435\\u043d\\u0430\", \"\\u0437\\u0430\\u043c\\u0435\\u043d\\u0430\", \"\\u0437\\u0430\\u043c\\u0435\\u043d\\u0430\", \"\\u0437\\u0430\\u043c\\u0435\\u043d\\u0430\", \"\\u0437\\u0430\\u043c\\u0435\\u043d\\u0430\", \"\\u0437\\u0430\\u043c\\u0435\\u043d\\u0430\", \"\\u0437\\u0430\\u043c\\u0435\\u043d\\u0438\\u0442\\u044c\", \"\\u0437\\u0430\\u043c\\u0435\\u043d\\u0438\\u0442\\u044c\", \"\\u0437\\u0430\\u043c\\u0435\\u043d\\u0438\\u0442\\u044c\", \"\\u0437\\u0430\\u043c\\u0435\\u043d\\u0438\\u0442\\u044c\", \"\\u0437\\u0430\\u043c\\u0435\\u043d\\u0438\\u0442\\u044c\", \"\\u0437\\u0430\\u043c\\u0435\\u043d\\u0438\\u0442\\u044c\", \"\\u0437\\u0430\\u043c\\u0435\\u043d\\u0438\\u0442\\u044c\", \"\\u0437\\u0430\\u043c\\u0435\\u043d\\u0438\\u0442\\u044c\", \"\\u0437\\u0430\\u043c\\u0435\\u043d\\u0438\\u0442\\u044c\", \"\\u0437\\u0430\\u043c\\u0435\\u043d\\u0438\\u0442\\u044c\", \"\\u0437\\u0430\\u043c\\u0435\\u043d\\u0438\\u0442\\u044c\", \"\\u0437\\u0430\\u0449\\u0438\\u0442\\u0430\", \"\\u0437\\u0430\\u0449\\u0438\\u0442\\u0430\", \"\\u0437\\u0430\\u0449\\u0438\\u0442\\u0430\", \"\\u0437\\u0430\\u0449\\u0438\\u0442\\u0430\", \"\\u0437\\u0430\\u0449\\u0438\\u0442\\u0430\", \"\\u0437\\u0430\\u0449\\u0438\\u0442\\u0430\", \"\\u0437\\u0430\\u0449\\u0438\\u0442\\u0430\", \"\\u0437\\u0430\\u0449\\u0438\\u0442\\u0430\", \"\\u0437\\u0430\\u0449\\u0438\\u0442\\u0430\", \"\\u0437\\u0430\\u0449\\u0438\\u0442\\u0430\", \"\\u0437\\u0430\\u044f\\u0432\\u043b\\u0435\\u043d\\u0438\\u0435\", \"\\u0437\\u0430\\u044f\\u0432\\u043b\\u0435\\u043d\\u0438\\u0435\", \"\\u0437\\u0430\\u044f\\u0432\\u043b\\u0435\\u043d\\u0438\\u0435\", \"\\u0437\\u0430\\u044f\\u0432\\u043b\\u0435\\u043d\\u0438\\u0435\", \"\\u0437\\u0430\\u044f\\u0432\\u043b\\u0435\\u043d\\u0438\\u0435\", \"\\u0437\\u0430\\u044f\\u0432\\u043b\\u0435\\u043d\\u0438\\u0435\", \"\\u0437\\u0430\\u044f\\u0432\\u043b\\u0435\\u043d\\u0438\\u0435\", \"\\u0437\\u0430\\u044f\\u0432\\u043b\\u0435\\u043d\\u0438\\u0435\", \"\\u0437\\u0430\\u044f\\u0432\\u043b\\u0435\\u043d\\u0438\\u0435\", \"\\u0437\\u0430\\u044f\\u0432\\u043b\\u0435\\u043d\\u0438\\u0435\", \"\\u0437\\u0434\\u0440\\u0430\\u0432\\u0441\\u0442\\u0432\\u0443\\u0439\\u0442\\u0435\", \"\\u0437\\u0434\\u0440\\u0430\\u0432\\u0441\\u0442\\u0432\\u0443\\u0439\\u0442\\u0435\", \"\\u0437\\u0434\\u0440\\u0430\\u0432\\u0441\\u0442\\u0432\\u0443\\u0439\\u0442\\u0435\", \"\\u0437\\u0434\\u0440\\u0430\\u0432\\u0441\\u0442\\u0432\\u0443\\u0439\\u0442\\u0435\", \"\\u0437\\u0434\\u0440\\u0430\\u0432\\u0441\\u0442\\u0432\\u0443\\u0439\\u0442\\u0435\", \"\\u0437\\u0434\\u0440\\u0430\\u0432\\u0441\\u0442\\u0432\\u0443\\u0439\\u0442\\u0435\", \"\\u0437\\u0434\\u0440\\u0430\\u0432\\u0441\\u0442\\u0432\\u0443\\u0439\\u0442\\u0435\", \"\\u0437\\u0434\\u0440\\u0430\\u0432\\u0441\\u0442\\u0432\\u0443\\u0439\\u0442\\u0435\", \"\\u0437\\u0434\\u0440\\u0430\\u0432\\u0441\\u0442\\u0432\\u0443\\u0439\\u0442\\u0435\", \"\\u0437\\u0434\\u0440\\u0430\\u0432\\u0441\\u0442\\u0432\\u0443\\u0439\\u0442\\u0435\", \"\\u0437\\u0434\\u0440\\u0430\\u0432\\u0441\\u0442\\u0432\\u0443\\u0439\\u0442\\u0435\\u043c\\u0435\\u043d\\u044c\", \"\\u0437\\u0434\\u0440\\u0430\\u0432\\u0441\\u0442\\u0432\\u0443\\u0439\\u0442\\u0435\\u043c\\u0435\\u043d\\u044c\", \"\\u0437\\u0434\\u0440\\u0430\\u0432\\u0441\\u0442\\u0432\\u0443\\u0439\\u0442\\u0435\\u043c\\u0435\\u043d\\u044c\", \"\\u0437\\u0434\\u0440\\u0430\\u0432\\u0441\\u0442\\u0432\\u0443\\u0439\\u0442\\u0435\\u043c\\u0435\\u043d\\u044c\", \"\\u0437\\u0434\\u0440\\u0430\\u0432\\u0441\\u0442\\u0432\\u0443\\u0439\\u0442\\u0435\\u043c\\u0435\\u043d\\u044c\", \"\\u0437\\u0434\\u0440\\u0430\\u0432\\u0441\\u0442\\u0432\\u0443\\u0439\\u0442\\u0435\\u043c\\u0435\\u043d\\u044c\", \"\\u0437\\u0434\\u0440\\u0430\\u0432\\u0441\\u0442\\u0432\\u0443\\u0439\\u0442\\u0435\\u043c\\u0435\\u043d\\u044c\", \"\\u0437\\u0434\\u0440\\u0430\\u0432\\u0441\\u0442\\u0432\\u0443\\u0439\\u0442\\u0435\\u043c\\u0435\\u043d\\u044c\", \"\\u0437\\u0434\\u0440\\u0430\\u0432\\u0441\\u0442\\u0432\\u0443\\u0439\\u0442\\u0435\\u043c\\u0435\\u043d\\u044c\", \"\\u0437\\u0434\\u0440\\u0430\\u0432\\u0441\\u0442\\u0432\\u0443\\u0439\\u0442\\u0435\\u043c\\u0435\\u043d\\u044c\", \"\\u0437\\u0435\\u043b\\u0451\\u043d\\u044b\\u0439\", \"\\u0437\\u0435\\u043b\\u0451\\u043d\\u044b\\u0439\", \"\\u0437\\u0435\\u043b\\u0451\\u043d\\u044b\\u0439\", \"\\u0437\\u0435\\u043b\\u0451\\u043d\\u044b\\u0439\", \"\\u0437\\u0435\\u043b\\u0451\\u043d\\u044b\\u0439\", \"\\u0437\\u0435\\u043b\\u0451\\u043d\\u044b\\u0439\", \"\\u0437\\u0435\\u043b\\u0451\\u043d\\u044b\\u0439\", \"\\u0437\\u0435\\u043b\\u0451\\u043d\\u044b\\u0439\", \"\\u0437\\u0435\\u043b\\u0451\\u043d\\u044b\\u0439\", \"\\u0437\\u0435\\u043b\\u0451\\u043d\\u044b\\u0439\", \"\\u0437\\u0435\\u043b\\u0451\\u043d\\u044b\\u0439\", \"\\u0437\\u043d\\u0430\\u0447\\u0438\\u0442\\u0435\\u043b\\u044c\\u043d\\u043e\", \"\\u0437\\u043d\\u0430\\u0447\\u0438\\u0442\\u0435\\u043b\\u044c\\u043d\\u043e\", \"\\u0437\\u043d\\u0430\\u0447\\u0438\\u0442\\u0435\\u043b\\u044c\\u043d\\u043e\", \"\\u0437\\u043d\\u0430\\u0447\\u0438\\u0442\\u0435\\u043b\\u044c\\u043d\\u043e\", \"\\u0437\\u043d\\u0430\\u0447\\u0438\\u0442\\u0435\\u043b\\u044c\\u043d\\u043e\", \"\\u0437\\u043d\\u0430\\u0447\\u0438\\u0442\\u0435\\u043b\\u044c\\u043d\\u043e\", \"\\u0437\\u043d\\u0430\\u0447\\u0438\\u0442\\u0435\\u043b\\u044c\\u043d\\u043e\", \"\\u0437\\u043d\\u0430\\u0447\\u0438\\u0442\\u0435\\u043b\\u044c\\u043d\\u043e\", \"\\u0437\\u043d\\u0430\\u0447\\u0438\\u0442\\u0435\\u043b\\u044c\\u043d\\u043e\", \"\\u0437\\u043d\\u0430\\u0447\\u0438\\u0442\\u0435\\u043b\\u044c\\u043d\\u043e\", \"\\u0437\\u043e\\u043d\\u0442\", \"\\u0437\\u043e\\u043d\\u0442\", \"\\u0437\\u043e\\u043d\\u0442\", \"\\u0437\\u043e\\u043d\\u0442\", \"\\u0437\\u043e\\u043d\\u0442\", \"\\u0437\\u043e\\u043d\\u0442\", \"\\u0437\\u043e\\u043d\\u0442\", \"\\u0437\\u043e\\u043d\\u0442\", \"\\u0437\\u043e\\u043d\\u0442\", \"\\u0437\\u043e\\u043d\\u0442\", \"\\u0438\\u0434\\u0435\\u0430\\u043b\\u044c\\u043d\\u044b\\u0439\", \"\\u0438\\u0434\\u0435\\u0430\\u043b\\u044c\\u043d\\u044b\\u0439\", \"\\u0438\\u0434\\u0435\\u0430\\u043b\\u044c\\u043d\\u044b\\u0439\", \"\\u0438\\u0434\\u0435\\u0430\\u043b\\u044c\\u043d\\u044b\\u0439\", \"\\u0438\\u0434\\u0435\\u0430\\u043b\\u044c\\u043d\\u044b\\u0439\", \"\\u0438\\u0434\\u0435\\u0430\\u043b\\u044c\\u043d\\u044b\\u0439\", \"\\u0438\\u0434\\u0435\\u0430\\u043b\\u044c\\u043d\\u044b\\u0439\", \"\\u0438\\u0434\\u0435\\u0430\\u043b\\u044c\\u043d\\u044b\\u0439\", \"\\u0438\\u0434\\u0435\\u0430\\u043b\\u044c\\u043d\\u044b\\u0439\", \"\\u0438\\u0434\\u0435\\u0430\\u043b\\u044c\\u043d\\u044b\\u0439\", \"\\u0438\\u0434\\u0435\\u0430\\u043b\\u044c\\u043d\\u044b\\u0439\", \"\\u0438\\u043d\\u0442\\u0435\\u0440\\u0435\\u0441\\u043e\\u0432\\u0430\\u0442\\u044c\", \"\\u0438\\u043d\\u0442\\u0435\\u0440\\u0435\\u0441\\u043e\\u0432\\u0430\\u0442\\u044c\", \"\\u0438\\u043d\\u0442\\u0435\\u0440\\u0435\\u0441\\u043e\\u0432\\u0430\\u0442\\u044c\", \"\\u0438\\u043d\\u0442\\u0435\\u0440\\u0435\\u0441\\u043e\\u0432\\u0430\\u0442\\u044c\", \"\\u0438\\u043d\\u0442\\u0435\\u0440\\u0435\\u0441\\u043e\\u0432\\u0430\\u0442\\u044c\", \"\\u0438\\u043d\\u0442\\u0435\\u0440\\u0435\\u0441\\u043e\\u0432\\u0430\\u0442\\u044c\", \"\\u0438\\u043d\\u0442\\u0435\\u0440\\u0435\\u0441\\u043e\\u0432\\u0430\\u0442\\u044c\", \"\\u0438\\u043d\\u0442\\u0435\\u0440\\u0435\\u0441\\u043e\\u0432\\u0430\\u0442\\u044c\", \"\\u0438\\u043d\\u0442\\u0435\\u0440\\u0435\\u0441\\u043e\\u0432\\u0430\\u0442\\u044c\", \"\\u0438\\u043d\\u0442\\u0435\\u0440\\u0435\\u0441\\u043e\\u0432\\u0430\\u0442\\u044c\", \"\\u0438\\u043d\\u0442\\u0435\\u0440\\u0435\\u0441\\u043e\\u0432\\u0430\\u0442\\u044c\", \"\\u0438\\u043d\\u0444\\u0438\\u0446\\u0438\\u0440\\u043e\\u0432\\u0430\\u0442\\u044c\", \"\\u0438\\u043d\\u0444\\u0438\\u0446\\u0438\\u0440\\u043e\\u0432\\u0430\\u0442\\u044c\", \"\\u0438\\u043d\\u0444\\u0438\\u0446\\u0438\\u0440\\u043e\\u0432\\u0430\\u0442\\u044c\", \"\\u0438\\u043d\\u0444\\u0438\\u0446\\u0438\\u0440\\u043e\\u0432\\u0430\\u0442\\u044c\", \"\\u0438\\u043d\\u0444\\u0438\\u0446\\u0438\\u0440\\u043e\\u0432\\u0430\\u0442\\u044c\", \"\\u0438\\u043d\\u0444\\u0438\\u0446\\u0438\\u0440\\u043e\\u0432\\u0430\\u0442\\u044c\", \"\\u0438\\u043d\\u0444\\u0438\\u0446\\u0438\\u0440\\u043e\\u0432\\u0430\\u0442\\u044c\", \"\\u0438\\u043d\\u0444\\u0438\\u0446\\u0438\\u0440\\u043e\\u0432\\u0430\\u0442\\u044c\", \"\\u0438\\u043d\\u0444\\u0438\\u0446\\u0438\\u0440\\u043e\\u0432\\u0430\\u0442\\u044c\", \"\\u0438\\u043d\\u0444\\u0438\\u0446\\u0438\\u0440\\u043e\\u0432\\u0430\\u0442\\u044c\", \"\\u0438\\u043f\", \"\\u0438\\u043f\", \"\\u0438\\u043f\", \"\\u0438\\u043f\", \"\\u0438\\u043f\", \"\\u0438\\u043f\", \"\\u0438\\u043f\", \"\\u0438\\u043f\", \"\\u0438\\u043f\", \"\\u0438\\u043f\", \"\\u0438\\u043f\", \"\\u043a\\u0430\\u043a\\u043e\\u0439\", \"\\u043a\\u0430\\u043a\\u043e\\u0439\", \"\\u043a\\u0430\\u043a\\u043e\\u0439\", \"\\u043a\\u0430\\u043a\\u043e\\u0439\", \"\\u043a\\u0430\\u043a\\u043e\\u0439\", \"\\u043a\\u0430\\u043a\\u043e\\u0439\", \"\\u043a\\u0430\\u043a\\u043e\\u0439\", \"\\u043a\\u0430\\u043a\\u043e\\u0439\", \"\\u043a\\u0430\\u043a\\u043e\\u0439\", \"\\u043a\\u0430\\u043a\\u043e\\u0439\", \"\\u043a\\u0430\\u043a\\u043e\\u0439\", \"\\u043a\\u0430\\u0447\\u0435\\u0441\\u0442\\u0432\\u043e\", \"\\u043a\\u0430\\u0447\\u0435\\u0441\\u0442\\u0432\\u043e\", \"\\u043a\\u0430\\u0447\\u0435\\u0441\\u0442\\u0432\\u043e\", \"\\u043a\\u0430\\u0447\\u0435\\u0441\\u0442\\u0432\\u043e\", \"\\u043a\\u0430\\u0447\\u0435\\u0441\\u0442\\u0432\\u043e\", \"\\u043a\\u0430\\u0447\\u0435\\u0441\\u0442\\u0432\\u043e\", \"\\u043a\\u0430\\u0447\\u0435\\u0441\\u0442\\u0432\\u043e\", \"\\u043a\\u0430\\u0447\\u0435\\u0441\\u0442\\u0432\\u043e\", \"\\u043a\\u0430\\u0447\\u0435\\u0441\\u0442\\u0432\\u043e\", \"\\u043a\\u0430\\u0447\\u0435\\u0441\\u0442\\u0432\\u043e\", \"\\u043a\\u0430\\u0447\\u0435\\u0441\\u0442\\u0432\\u043e\", \"\\u043a\\u043e\\u043b\\u0438\\u0447\\u0435\\u0441\\u0442\\u0432\\u043e\", \"\\u043a\\u043e\\u043b\\u0438\\u0447\\u0435\\u0441\\u0442\\u0432\\u043e\", \"\\u043a\\u043e\\u043b\\u0438\\u0447\\u0435\\u0441\\u0442\\u0432\\u043e\", \"\\u043a\\u043e\\u043b\\u0438\\u0447\\u0435\\u0441\\u0442\\u0432\\u043e\", \"\\u043a\\u043e\\u043b\\u0438\\u0447\\u0435\\u0441\\u0442\\u0432\\u043e\", \"\\u043a\\u043e\\u043b\\u0438\\u0447\\u0435\\u0441\\u0442\\u0432\\u043e\", \"\\u043a\\u043e\\u043b\\u0438\\u0447\\u0435\\u0441\\u0442\\u0432\\u043e\", \"\\u043a\\u043e\\u043b\\u0438\\u0447\\u0435\\u0441\\u0442\\u0432\\u043e\", \"\\u043a\\u043e\\u043b\\u0438\\u0447\\u0435\\u0441\\u0442\\u0432\\u043e\", \"\\u043a\\u043e\\u043b\\u0438\\u0447\\u0435\\u0441\\u0442\\u0432\\u043e\", \"\\u043a\\u043e\\u043c\\u043f\\u0435\\u043d\\u0441\\u0430\\u0446\\u0438\\u044f\", \"\\u043a\\u043e\\u043c\\u043f\\u0435\\u043d\\u0441\\u0430\\u0446\\u0438\\u044f\", \"\\u043a\\u043e\\u043c\\u043f\\u0435\\u043d\\u0441\\u0430\\u0446\\u0438\\u044f\", \"\\u043a\\u043e\\u043c\\u043f\\u0435\\u043d\\u0441\\u0430\\u0446\\u0438\\u044f\", \"\\u043a\\u043e\\u043c\\u043f\\u0435\\u043d\\u0441\\u0430\\u0446\\u0438\\u044f\", \"\\u043a\\u043e\\u043c\\u043f\\u0435\\u043d\\u0441\\u0430\\u0446\\u0438\\u044f\", \"\\u043a\\u043e\\u043c\\u043f\\u0435\\u043d\\u0441\\u0430\\u0446\\u0438\\u044f\", \"\\u043a\\u043e\\u043c\\u043f\\u0435\\u043d\\u0441\\u0430\\u0446\\u0438\\u044f\", \"\\u043a\\u043e\\u043c\\u043f\\u0435\\u043d\\u0441\\u0430\\u0446\\u0438\\u044f\", \"\\u043a\\u043e\\u043c\\u043f\\u0435\\u043d\\u0441\\u0430\\u0446\\u0438\\u044f\", \"\\u043a\\u043e\\u043c\\u043f\\u0435\\u043d\\u0441\\u0430\\u0446\\u0438\\u044f\", \"\\u043a\\u043e\\u043c\\u043f\\u0435\\u043d\\u0441\\u0430\\u0446\\u0438\\u044f\", \"\\u043a\\u043e\\u043d\\u0442\\u0430\\u043a\\u0442\", \"\\u043a\\u043e\\u043d\\u0442\\u0430\\u043a\\u0442\", \"\\u043a\\u043e\\u043d\\u0442\\u0430\\u043a\\u0442\", \"\\u043a\\u043e\\u043d\\u0442\\u0430\\u043a\\u0442\", \"\\u043a\\u043e\\u043d\\u0442\\u0430\\u043a\\u0442\", \"\\u043a\\u043e\\u043d\\u0442\\u0430\\u043a\\u0442\", \"\\u043a\\u043e\\u043d\\u0442\\u0430\\u043a\\u0442\", \"\\u043a\\u043e\\u043d\\u0442\\u0430\\u043a\\u0442\", \"\\u043a\\u043e\\u043d\\u0442\\u0430\\u043a\\u0442\", \"\\u043a\\u043e\\u043d\\u0442\\u0430\\u043a\\u0442\", \"\\u043a\\u043e\\u0440\\u044c\", \"\\u043a\\u043e\\u0440\\u044c\", \"\\u043a\\u043e\\u0440\\u044c\", \"\\u043a\\u043e\\u0440\\u044c\", \"\\u043a\\u043e\\u0440\\u044c\", \"\\u043a\\u043e\\u0440\\u044c\", \"\\u043a\\u043e\\u0440\\u044c\", \"\\u043a\\u043e\\u0440\\u044c\", \"\\u043a\\u043e\\u0440\\u044c\", \"\\u043a\\u043e\\u0440\\u044c\", \"\\u043a\\u043e\\u0442\\u043e\\u0440\\u044b\\u0439\", \"\\u043a\\u043e\\u0442\\u043e\\u0440\\u044b\\u0439\", \"\\u043a\\u043e\\u0442\\u043e\\u0440\\u044b\\u0439\", \"\\u043a\\u043e\\u0442\\u043e\\u0440\\u044b\\u0439\", \"\\u043a\\u043e\\u0442\\u043e\\u0440\\u044b\\u0439\", \"\\u043a\\u043e\\u0442\\u043e\\u0440\\u044b\\u0439\", \"\\u043a\\u043e\\u0442\\u043e\\u0440\\u044b\\u0439\", \"\\u043a\\u043e\\u0442\\u043e\\u0440\\u044b\\u0439\", \"\\u043a\\u043e\\u0442\\u043e\\u0440\\u044b\\u0439\", \"\\u043a\\u043e\\u0442\\u043e\\u0440\\u044b\\u0439\", \"\\u043a\\u043e\\u0442\\u043e\\u0440\\u044b\\u0439\", \"\\u043a\\u0440\\u043e\\u0441\\u0441\\u043e\\u0432\\u043e\\u043a\", \"\\u043a\\u0440\\u043e\\u0441\\u0441\\u043e\\u0432\\u043e\\u043a\", \"\\u043a\\u0440\\u043e\\u0441\\u0441\\u043e\\u0432\\u043e\\u043a\", \"\\u043a\\u0440\\u043e\\u0441\\u0441\\u043e\\u0432\\u043e\\u043a\", \"\\u043a\\u0440\\u043e\\u0441\\u0441\\u043e\\u0432\\u043e\\u043a\", \"\\u043a\\u0440\\u043e\\u0441\\u0441\\u043e\\u0432\\u043e\\u043a\", \"\\u043a\\u0440\\u043e\\u0441\\u0441\\u043e\\u0432\\u043e\\u043a\", \"\\u043a\\u0440\\u043e\\u0441\\u0441\\u043e\\u0432\\u043e\\u043a\", \"\\u043a\\u0440\\u043e\\u0441\\u0441\\u043e\\u0432\\u043e\\u043a\", \"\\u043a\\u0440\\u043e\\u0441\\u0441\\u043e\\u0432\\u043e\\u043a\", \"\\u043a\\u0443\\u043f\\u0438\\u0442\\u044c\", \"\\u043a\\u0443\\u043f\\u0438\\u0442\\u044c\", \"\\u043a\\u0443\\u043f\\u0438\\u0442\\u044c\", \"\\u043a\\u0443\\u043f\\u0438\\u0442\\u044c\", \"\\u043a\\u0443\\u043f\\u0438\\u0442\\u044c\", \"\\u043a\\u0443\\u043f\\u0438\\u0442\\u044c\", \"\\u043a\\u0443\\u043f\\u0438\\u0442\\u044c\", \"\\u043a\\u0443\\u043f\\u0438\\u0442\\u044c\", \"\\u043a\\u0443\\u043f\\u0438\\u0442\\u044c\", \"\\u043a\\u0443\\u043f\\u0438\\u0442\\u044c\", \"\\u043a\\u0443\\u043f\\u0438\\u0442\\u044c\", \"\\u043a\\u0443\\u043f\\u0438\\u0442\\u044c\", \"\\u043b\\u0435\\u0442\\u0443\\u0430\\u043b\\u044f\", \"\\u043b\\u0435\\u0442\\u0443\\u0430\\u043b\\u044f\", \"\\u043b\\u0435\\u0442\\u0443\\u0430\\u043b\\u044f\", \"\\u043b\\u0435\\u0442\\u0443\\u0430\\u043b\\u044f\", \"\\u043b\\u0435\\u0442\\u0443\\u0430\\u043b\\u044f\", \"\\u043b\\u0435\\u0442\\u0443\\u0430\\u043b\\u044f\", \"\\u043b\\u0435\\u0442\\u0443\\u0430\\u043b\\u044f\", \"\\u043b\\u0435\\u0442\\u0443\\u0430\\u043b\\u044f\", \"\\u043b\\u0435\\u0442\\u0443\\u0430\\u043b\\u044f\", \"\\u043b\\u0435\\u0442\\u0443\\u0430\\u043b\\u044f\", \"\\u043b\\u0438\\u0431\\u043e\", \"\\u043b\\u0438\\u0431\\u043e\", \"\\u043b\\u0438\\u0431\\u043e\", \"\\u043b\\u0438\\u0431\\u043e\", \"\\u043b\\u0438\\u0431\\u043e\", \"\\u043b\\u0438\\u0431\\u043e\", \"\\u043b\\u0438\\u0431\\u043e\", \"\\u043b\\u0438\\u0431\\u043e\", \"\\u043b\\u0438\\u0431\\u043e\", \"\\u043b\\u0438\\u0431\\u043e\", \"\\u043b\\u0438\\u0431\\u043e\", \"\\u043b\\u0438\\u043d\\u0438\\u044f\", \"\\u043b\\u0438\\u043d\\u0438\\u044f\", \"\\u043b\\u0438\\u043d\\u0438\\u044f\", \"\\u043b\\u0438\\u043d\\u0438\\u044f\", \"\\u043b\\u0438\\u043d\\u0438\\u044f\", \"\\u043b\\u0438\\u043d\\u0438\\u044f\", \"\\u043b\\u0438\\u043d\\u0438\\u044f\", \"\\u043b\\u0438\\u043d\\u0438\\u044f\", \"\\u043b\\u0438\\u043d\\u0438\\u044f\", \"\\u043b\\u0438\\u043d\\u0438\\u044f\", \"\\u043c\\u0430\\u0433\\u0430\\u0437\\u0438\\u043d\", \"\\u043c\\u0430\\u0433\\u0430\\u0437\\u0438\\u043d\", \"\\u043c\\u0430\\u0433\\u0430\\u0437\\u0438\\u043d\", \"\\u043c\\u0430\\u0433\\u0430\\u0437\\u0438\\u043d\", \"\\u043c\\u0430\\u0433\\u0430\\u0437\\u0438\\u043d\", \"\\u043c\\u0430\\u0433\\u0430\\u0437\\u0438\\u043d\", \"\\u043c\\u0430\\u0433\\u0430\\u0437\\u0438\\u043d\", \"\\u043c\\u0430\\u0433\\u0430\\u0437\\u0438\\u043d\", \"\\u043c\\u0430\\u0433\\u0430\\u0437\\u0438\\u043d\", \"\\u043c\\u0430\\u0433\\u0430\\u0437\\u0438\\u043d\", \"\\u043c\\u0430\\u0433\\u0430\\u0437\\u0438\\u043d\", \"\\u043c\\u0430\\u0433\\u0430\\u0437\\u0438\\u043d\", \"\\u043c\\u0430\\u0440\\u043a\\u0435\\u0442\", \"\\u043c\\u0430\\u0440\\u043a\\u0435\\u0442\", \"\\u043c\\u0430\\u0440\\u043a\\u0435\\u0442\", \"\\u043c\\u0430\\u0440\\u043a\\u0435\\u0442\", \"\\u043c\\u0430\\u0440\\u043a\\u0435\\u0442\", \"\\u043c\\u0430\\u0440\\u043a\\u0435\\u0442\", \"\\u043c\\u0430\\u0440\\u043a\\u0435\\u0442\", \"\\u043c\\u0430\\u0440\\u043a\\u0435\\u0442\", \"\\u043c\\u0430\\u0440\\u043a\\u0435\\u0442\", \"\\u043c\\u0430\\u0440\\u043a\\u0435\\u0442\", \"\\u043c\\u0430\\u0440\\u043a\\u0435\\u0442\", \"\\u043c\\u0430\\u0440\\u043a\\u0435\\u0442\\u043f\\u043b\\u0435\\u0439\\u0441\", \"\\u043c\\u0430\\u0440\\u043a\\u0435\\u0442\\u043f\\u043b\\u0435\\u0439\\u0441\", \"\\u043c\\u0430\\u0440\\u043a\\u0435\\u0442\\u043f\\u043b\\u0435\\u0439\\u0441\", \"\\u043c\\u0430\\u0440\\u043a\\u0435\\u0442\\u043f\\u043b\\u0435\\u0439\\u0441\", \"\\u043c\\u0430\\u0440\\u043a\\u0435\\u0442\\u043f\\u043b\\u0435\\u0439\\u0441\", \"\\u043c\\u0430\\u0440\\u043a\\u0435\\u0442\\u043f\\u043b\\u0435\\u0439\\u0441\", \"\\u043c\\u0430\\u0440\\u043a\\u0435\\u0442\\u043f\\u043b\\u0435\\u0439\\u0441\", \"\\u043c\\u0430\\u0440\\u043a\\u0435\\u0442\\u043f\\u043b\\u0435\\u0439\\u0441\", \"\\u043c\\u0430\\u0440\\u043a\\u0435\\u0442\\u043f\\u043b\\u0435\\u0439\\u0441\", \"\\u043c\\u0430\\u0440\\u043a\\u0435\\u0442\\u043f\\u043b\\u0435\\u0439\\u0441\", \"\\u043c\\u0430\\u0440\\u043a\\u0435\\u0442\\u043f\\u043b\\u0435\\u0439\\u0441\", \"\\u043c\\u0435\\u0434\\u0441\\u0435\\u0441\\u0442\\u0440\\u0430\", \"\\u043c\\u0435\\u0434\\u0441\\u0435\\u0441\\u0442\\u0440\\u0430\", \"\\u043c\\u0435\\u0434\\u0441\\u0435\\u0441\\u0442\\u0440\\u0430\", \"\\u043c\\u0435\\u0434\\u0441\\u0435\\u0441\\u0442\\u0440\\u0430\", \"\\u043c\\u0435\\u0434\\u0441\\u0435\\u0441\\u0442\\u0440\\u0430\", \"\\u043c\\u0435\\u0434\\u0441\\u0435\\u0441\\u0442\\u0440\\u0430\", \"\\u043c\\u0435\\u0434\\u0441\\u0435\\u0441\\u0442\\u0440\\u0430\", \"\\u043c\\u0435\\u0434\\u0441\\u0435\\u0441\\u0442\\u0440\\u0430\", \"\\u043c\\u0435\\u0434\\u0441\\u0435\\u0441\\u0442\\u0440\\u0430\", \"\\u043c\\u0435\\u0434\\u0441\\u0435\\u0441\\u0442\\u0440\\u0430\", \"\\u043c\\u043e\\u0439\", \"\\u043c\\u043e\\u0439\", \"\\u043c\\u043e\\u0439\", \"\\u043c\\u043e\\u0439\", \"\\u043c\\u043e\\u0439\", \"\\u043c\\u043e\\u0439\", \"\\u043c\\u043e\\u0439\", \"\\u043c\\u043e\\u0439\", \"\\u043c\\u043e\\u0439\", \"\\u043c\\u043e\\u0439\", \"\\u043c\\u043e\\u0439\", \"\\u043c\\u043e\\u043b\\u0447\\u0430\\u0442\\u044c\", \"\\u043c\\u043e\\u043b\\u0447\\u0430\\u0442\\u044c\", \"\\u043c\\u043e\\u043b\\u0447\\u0430\\u0442\\u044c\", \"\\u043c\\u043e\\u043b\\u0447\\u0430\\u0442\\u044c\", \"\\u043c\\u043e\\u043b\\u0447\\u0430\\u0442\\u044c\", \"\\u043c\\u043e\\u043b\\u0447\\u0430\\u0442\\u044c\", \"\\u043c\\u043e\\u043b\\u0447\\u0430\\u0442\\u044c\", \"\\u043c\\u043e\\u043b\\u0447\\u0430\\u0442\\u044c\", \"\\u043c\\u043e\\u043b\\u0447\\u0430\\u0442\\u044c\", \"\\u043c\\u043e\\u043b\\u0447\\u0430\\u0442\\u044c\", \"\\u043c\\u043e\\u043b\\u0447\\u0430\\u0442\\u044c\", \"\\u043c\\u043e\\u043c\\u0435\\u043d\\u0442\", \"\\u043c\\u043e\\u043c\\u0435\\u043d\\u0442\", \"\\u043c\\u043e\\u043c\\u0435\\u043d\\u0442\", \"\\u043c\\u043e\\u043c\\u0435\\u043d\\u0442\", \"\\u043c\\u043e\\u043c\\u0435\\u043d\\u0442\", \"\\u043c\\u043e\\u043c\\u0435\\u043d\\u0442\", \"\\u043c\\u043e\\u043c\\u0435\\u043d\\u0442\", \"\\u043c\\u043e\\u043c\\u0435\\u043d\\u0442\", \"\\u043c\\u043e\\u043c\\u0435\\u043d\\u0442\", \"\\u043c\\u043e\\u043c\\u0435\\u043d\\u0442\", \"\\u043c\\u043e\\u043c\\u0435\\u043d\\u0442\", \"\\u043c\\u043e\\u043c\\u0435\\u043d\\u0442\", \"\\u043c\\u043e\\u043c\\u0435\\u043d\\u0442\", \"\\u043c\\u043e\\u0440\\u0433\\u0430\\u0442\\u044c\", \"\\u043c\\u043e\\u0440\\u0433\\u0430\\u0442\\u044c\", \"\\u043c\\u043e\\u0440\\u0433\\u0430\\u0442\\u044c\", \"\\u043c\\u043e\\u0440\\u0433\\u0430\\u0442\\u044c\", \"\\u043c\\u043e\\u0440\\u0433\\u0430\\u0442\\u044c\", \"\\u043c\\u043e\\u0440\\u0433\\u0430\\u0442\\u044c\", \"\\u043c\\u043e\\u0440\\u0433\\u0430\\u0442\\u044c\", \"\\u043c\\u043e\\u0440\\u0433\\u0430\\u0442\\u044c\", \"\\u043c\\u043e\\u0440\\u0433\\u0430\\u0442\\u044c\", \"\\u043c\\u043e\\u0440\\u0433\\u0430\\u0442\\u044c\", \"\\u043c\\u043e\\u0440\\u0433\\u0430\\u0442\\u044c\", \"\\u043c\\u043e\\u0447\\u044c\", \"\\u043c\\u043e\\u0447\\u044c\", \"\\u043c\\u043e\\u0447\\u044c\", \"\\u043c\\u043e\\u0447\\u044c\", \"\\u043c\\u043e\\u0447\\u044c\", \"\\u043c\\u043e\\u0447\\u044c\", \"\\u043c\\u043e\\u0447\\u044c\", \"\\u043c\\u043e\\u0447\\u044c\", \"\\u043c\\u043e\\u0447\\u044c\", \"\\u043c\\u043e\\u0447\\u044c\", \"\\u043c\\u043e\\u0447\\u044c\", \"\\u043c\\u043e\\u0447\\u044c\", \"\\u043c\\u0441\\u043a\", \"\\u043c\\u0441\\u043a\", \"\\u043c\\u0441\\u043a\", \"\\u043c\\u0441\\u043a\", \"\\u043c\\u0441\\u043a\", \"\\u043c\\u0441\\u043a\", \"\\u043c\\u0441\\u043a\", \"\\u043c\\u0441\\u043a\", \"\\u043c\\u0441\\u043a\", \"\\u043c\\u0441\\u043a\", \"\\u043c\\u0441\\u043a\", \"\\u043d\\u0430\\u0438\\u0434\\u0435\\u043d\", \"\\u043d\\u0430\\u0438\\u0434\\u0435\\u043d\", \"\\u043d\\u0430\\u0438\\u0434\\u0435\\u043d\", \"\\u043d\\u0430\\u0438\\u0434\\u0435\\u043d\", \"\\u043d\\u0430\\u0438\\u0434\\u0435\\u043d\", \"\\u043d\\u0430\\u0438\\u0434\\u0435\\u043d\", \"\\u043d\\u0430\\u0438\\u0434\\u0435\\u043d\", \"\\u043d\\u0430\\u0438\\u0434\\u0435\\u043d\", \"\\u043d\\u0430\\u0438\\u0434\\u0435\\u043d\", \"\\u043d\\u0430\\u0438\\u0434\\u0435\\u043d\", \"\\u043d\\u0430\\u0438\\u0434\\u0435\\u043d\", \"\\u043d\\u0430\\u043b\\u0438\\u0447\\u0438\\u0435\", \"\\u043d\\u0430\\u043b\\u0438\\u0447\\u0438\\u0435\", \"\\u043d\\u0430\\u043b\\u0438\\u0447\\u0438\\u0435\", \"\\u043d\\u0430\\u043b\\u0438\\u0447\\u0438\\u0435\", \"\\u043d\\u0430\\u043b\\u0438\\u0447\\u0438\\u0435\", \"\\u043d\\u0430\\u043b\\u0438\\u0447\\u0438\\u0435\", \"\\u043d\\u0430\\u043b\\u0438\\u0447\\u0438\\u0435\", \"\\u043d\\u0430\\u043b\\u0438\\u0447\\u0438\\u0435\", \"\\u043d\\u0430\\u043b\\u0438\\u0447\\u0438\\u0435\", \"\\u043d\\u0430\\u043b\\u0438\\u0447\\u0438\\u0435\", \"\\u043d\\u0430\\u043f\\u0438\\u0441\\u0430\\u0442\\u044c\", \"\\u043d\\u0430\\u043f\\u0438\\u0441\\u0430\\u0442\\u044c\", \"\\u043d\\u0430\\u043f\\u0438\\u0441\\u0430\\u0442\\u044c\", \"\\u043d\\u0430\\u043f\\u0438\\u0441\\u0430\\u0442\\u044c\", \"\\u043d\\u0430\\u043f\\u0438\\u0441\\u0430\\u0442\\u044c\", \"\\u043d\\u0430\\u043f\\u0438\\u0441\\u0430\\u0442\\u044c\", \"\\u043d\\u0430\\u043f\\u0438\\u0441\\u0430\\u0442\\u044c\", \"\\u043d\\u0430\\u043f\\u0438\\u0441\\u0430\\u0442\\u044c\", \"\\u043d\\u0430\\u043f\\u0438\\u0441\\u0430\\u0442\\u044c\", \"\\u043d\\u0430\\u043f\\u0438\\u0441\\u0430\\u0442\\u044c\", \"\\u043d\\u0430\\u043f\\u0438\\u0441\\u0430\\u0442\\u044c\", \"\\u043d\\u0430\\u0441\\u0442\\u043e\\u044f\\u0449\\u0438\\u0439\", \"\\u043d\\u0430\\u0441\\u0442\\u043e\\u044f\\u0449\\u0438\\u0439\", \"\\u043d\\u0430\\u0441\\u0442\\u043e\\u044f\\u0449\\u0438\\u0439\", \"\\u043d\\u0430\\u0441\\u0442\\u043e\\u044f\\u0449\\u0438\\u0439\", \"\\u043d\\u0430\\u0441\\u0442\\u043e\\u044f\\u0449\\u0438\\u0439\", \"\\u043d\\u0430\\u0441\\u0442\\u043e\\u044f\\u0449\\u0438\\u0439\", \"\\u043d\\u0430\\u0441\\u0442\\u043e\\u044f\\u0449\\u0438\\u0439\", \"\\u043d\\u0430\\u0441\\u0442\\u043e\\u044f\\u0449\\u0438\\u0439\", \"\\u043d\\u0430\\u0441\\u0442\\u043e\\u044f\\u0449\\u0438\\u0439\", \"\\u043d\\u0430\\u0441\\u0442\\u043e\\u044f\\u0449\\u0438\\u0439\", \"\\u043d\\u0430\\u0447\\u0430\\u0442\\u044c\", \"\\u043d\\u0430\\u0447\\u0430\\u0442\\u044c\", \"\\u043d\\u0430\\u0447\\u0430\\u0442\\u044c\", \"\\u043d\\u0430\\u0447\\u0430\\u0442\\u044c\", \"\\u043d\\u0430\\u0447\\u0430\\u0442\\u044c\", \"\\u043d\\u0430\\u0447\\u0430\\u0442\\u044c\", \"\\u043d\\u0430\\u0447\\u0430\\u0442\\u044c\", \"\\u043d\\u0430\\u0447\\u0430\\u0442\\u044c\", \"\\u043d\\u0430\\u0447\\u0430\\u0442\\u044c\", \"\\u043d\\u0430\\u0447\\u0430\\u0442\\u044c\", \"\\u043d\\u0430\\u0447\\u0430\\u0442\\u044c\", \"\\u043d\\u0435\\u043a\\u043e\\u0440\\u0440\\u0435\\u043a\\u0442\\u043d\\u043e\", \"\\u043d\\u0435\\u043a\\u043e\\u0440\\u0440\\u0435\\u043a\\u0442\\u043d\\u043e\", \"\\u043d\\u0435\\u043a\\u043e\\u0440\\u0440\\u0435\\u043a\\u0442\\u043d\\u043e\", \"\\u043d\\u0435\\u043a\\u043e\\u0440\\u0440\\u0435\\u043a\\u0442\\u043d\\u043e\", \"\\u043d\\u0435\\u043a\\u043e\\u0440\\u0440\\u0435\\u043a\\u0442\\u043d\\u043e\", \"\\u043d\\u0435\\u043a\\u043e\\u0440\\u0440\\u0435\\u043a\\u0442\\u043d\\u043e\", \"\\u043d\\u0435\\u043a\\u043e\\u0440\\u0440\\u0435\\u043a\\u0442\\u043d\\u043e\", \"\\u043d\\u0435\\u043a\\u043e\\u0440\\u0440\\u0435\\u043a\\u0442\\u043d\\u043e\", \"\\u043d\\u0435\\u043a\\u043e\\u0440\\u0440\\u0435\\u043a\\u0442\\u043d\\u043e\", \"\\u043d\\u0435\\u043a\\u043e\\u0440\\u0440\\u0435\\u043a\\u0442\\u043d\\u043e\", \"\\u043d\\u043e\\u043c\\u0435\\u0440\", \"\\u043d\\u043e\\u043c\\u0435\\u0440\", \"\\u043d\\u043e\\u043c\\u0435\\u0440\", \"\\u043d\\u043e\\u043c\\u0435\\u0440\", \"\\u043d\\u043e\\u043c\\u0435\\u0440\", \"\\u043d\\u043e\\u043c\\u0435\\u0440\", \"\\u043d\\u043e\\u043c\\u0435\\u0440\", \"\\u043d\\u043e\\u043c\\u0435\\u0440\", \"\\u043d\\u043e\\u043c\\u0435\\u0440\", \"\\u043d\\u043e\\u043c\\u0435\\u0440\", \"\\u043e\\u0431\\u0435\\u0449\\u0430\\u0442\\u044c\", \"\\u043e\\u0431\\u0435\\u0449\\u0430\\u0442\\u044c\", \"\\u043e\\u0431\\u0435\\u0449\\u0430\\u0442\\u044c\", \"\\u043e\\u0431\\u0435\\u0449\\u0430\\u0442\\u044c\", \"\\u043e\\u0431\\u0435\\u0449\\u0430\\u0442\\u044c\", \"\\u043e\\u0431\\u0435\\u0449\\u0430\\u0442\\u044c\", \"\\u043e\\u0431\\u0435\\u0449\\u0430\\u0442\\u044c\", \"\\u043e\\u0431\\u0435\\u0449\\u0430\\u0442\\u044c\", \"\\u043e\\u0431\\u0435\\u0449\\u0430\\u0442\\u044c\", \"\\u043e\\u0431\\u0435\\u0449\\u0430\\u0442\\u044c\", \"\\u043e\\u0431\\u043d\\u0430\\u0440\\u0443\\u0436\\u0435\\u043d\\u043e\\u0437\\u0430\\u0441\\u0442\\u0430\\u0432\\u043b\\u044f\\u0442\\u044c\", \"\\u043e\\u0431\\u043d\\u0430\\u0440\\u0443\\u0436\\u0435\\u043d\\u043e\\u0437\\u0430\\u0441\\u0442\\u0430\\u0432\\u043b\\u044f\\u0442\\u044c\", \"\\u043e\\u0431\\u043d\\u0430\\u0440\\u0443\\u0436\\u0435\\u043d\\u043e\\u0437\\u0430\\u0441\\u0442\\u0430\\u0432\\u043b\\u044f\\u0442\\u044c\", \"\\u043e\\u0431\\u043d\\u0430\\u0440\\u0443\\u0436\\u0435\\u043d\\u043e\\u0437\\u0430\\u0441\\u0442\\u0430\\u0432\\u043b\\u044f\\u0442\\u044c\", \"\\u043e\\u0431\\u043d\\u0430\\u0440\\u0443\\u0436\\u0435\\u043d\\u043e\\u0437\\u0430\\u0441\\u0442\\u0430\\u0432\\u043b\\u044f\\u0442\\u044c\", \"\\u043e\\u0431\\u043d\\u0430\\u0440\\u0443\\u0436\\u0435\\u043d\\u043e\\u0437\\u0430\\u0441\\u0442\\u0430\\u0432\\u043b\\u044f\\u0442\\u044c\", \"\\u043e\\u0431\\u043d\\u0430\\u0440\\u0443\\u0436\\u0435\\u043d\\u043e\\u0437\\u0430\\u0441\\u0442\\u0430\\u0432\\u043b\\u044f\\u0442\\u044c\", \"\\u043e\\u0431\\u043d\\u0430\\u0440\\u0443\\u0436\\u0435\\u043d\\u043e\\u0437\\u0430\\u0441\\u0442\\u0430\\u0432\\u043b\\u044f\\u0442\\u044c\", \"\\u043e\\u0431\\u043d\\u0430\\u0440\\u0443\\u0436\\u0435\\u043d\\u043e\\u0437\\u0430\\u0441\\u0442\\u0430\\u0432\\u043b\\u044f\\u0442\\u044c\", \"\\u043e\\u0431\\u043d\\u0430\\u0440\\u0443\\u0436\\u0435\\u043d\\u043e\\u0437\\u0430\\u0441\\u0442\\u0430\\u0432\\u043b\\u044f\\u0442\\u044c\", \"\\u043e\\u0431\\u0440\\u0430\\u0442\\u043d\\u043e\", \"\\u043e\\u0431\\u0440\\u0430\\u0442\\u043d\\u043e\", \"\\u043e\\u0431\\u0440\\u0430\\u0442\\u043d\\u043e\", \"\\u043e\\u0431\\u0440\\u0430\\u0442\\u043d\\u043e\", \"\\u043e\\u0431\\u0440\\u0430\\u0442\\u043d\\u043e\", \"\\u043e\\u0431\\u0440\\u0430\\u0442\\u043d\\u043e\", \"\\u043e\\u0431\\u0440\\u0430\\u0442\\u043d\\u043e\", \"\\u043e\\u0431\\u0440\\u0430\\u0442\\u043d\\u043e\", \"\\u043e\\u0431\\u0440\\u0430\\u0442\\u043d\\u043e\", \"\\u043e\\u0431\\u0440\\u0430\\u0442\\u043d\\u043e\", \"\\u043e\\u0431\\u0440\\u0430\\u0449\\u0435\\u043d\\u0438\\u0435\", \"\\u043e\\u0431\\u0440\\u0430\\u0449\\u0435\\u043d\\u0438\\u0435\", \"\\u043e\\u0431\\u0440\\u0430\\u0449\\u0435\\u043d\\u0438\\u0435\", \"\\u043e\\u0431\\u0440\\u0430\\u0449\\u0435\\u043d\\u0438\\u0435\", \"\\u043e\\u0431\\u0440\\u0430\\u0449\\u0435\\u043d\\u0438\\u0435\", \"\\u043e\\u0431\\u0440\\u0430\\u0449\\u0435\\u043d\\u0438\\u0435\", \"\\u043e\\u0431\\u0440\\u0430\\u0449\\u0435\\u043d\\u0438\\u0435\", \"\\u043e\\u0431\\u0440\\u0430\\u0449\\u0435\\u043d\\u0438\\u0435\", \"\\u043e\\u0431\\u0440\\u0430\\u0449\\u0435\\u043d\\u0438\\u0435\", \"\\u043e\\u0431\\u0440\\u0430\\u0449\\u0435\\u043d\\u0438\\u0435\", \"\\u043e\\u0431\\u0440\\u0430\\u0449\\u0435\\u043d\\u0438\\u0435\", \"\\u043e\\u0431\\u044a\\u044f\\u0441\\u043d\\u044f\\u0442\\u044c\", \"\\u043e\\u0431\\u044a\\u044f\\u0441\\u043d\\u044f\\u0442\\u044c\", \"\\u043e\\u0431\\u044a\\u044f\\u0441\\u043d\\u044f\\u0442\\u044c\", \"\\u043e\\u0431\\u044a\\u044f\\u0441\\u043d\\u044f\\u0442\\u044c\", \"\\u043e\\u0431\\u044a\\u044f\\u0441\\u043d\\u044f\\u0442\\u044c\", \"\\u043e\\u0431\\u044a\\u044f\\u0441\\u043d\\u044f\\u0442\\u044c\", \"\\u043e\\u0431\\u044a\\u044f\\u0441\\u043d\\u044f\\u0442\\u044c\", \"\\u043e\\u0431\\u044a\\u044f\\u0441\\u043d\\u044f\\u0442\\u044c\", \"\\u043e\\u0431\\u044a\\u044f\\u0441\\u043d\\u044f\\u0442\\u044c\", \"\\u043e\\u0431\\u044a\\u044f\\u0441\\u043d\\u044f\\u0442\\u044c\", \"\\u043e\\u043f\\u0435\\u0440\\u0430\\u0442\\u043e\\u0440\", \"\\u043e\\u043f\\u0435\\u0440\\u0430\\u0442\\u043e\\u0440\", \"\\u043e\\u043f\\u0435\\u0440\\u0430\\u0442\\u043e\\u0440\", \"\\u043e\\u043f\\u0435\\u0440\\u0430\\u0442\\u043e\\u0440\", \"\\u043e\\u043f\\u0435\\u0440\\u0430\\u0442\\u043e\\u0440\", \"\\u043e\\u043f\\u0435\\u0440\\u0430\\u0442\\u043e\\u0440\", \"\\u043e\\u043f\\u0435\\u0440\\u0430\\u0442\\u043e\\u0440\", \"\\u043e\\u043f\\u0435\\u0440\\u0430\\u0442\\u043e\\u0440\", \"\\u043e\\u043f\\u0435\\u0440\\u0430\\u0442\\u043e\\u0440\", \"\\u043e\\u043f\\u0435\\u0440\\u0430\\u0442\\u043e\\u0440\", \"\\u043e\\u043f\\u043b\\u0430\\u0442\\u0430\", \"\\u043e\\u043f\\u043b\\u0430\\u0442\\u0430\", \"\\u043e\\u043f\\u043b\\u0430\\u0442\\u0430\", \"\\u043e\\u043f\\u043b\\u0430\\u0442\\u0430\", \"\\u043e\\u043f\\u043b\\u0430\\u0442\\u0430\", \"\\u043e\\u043f\\u043b\\u0430\\u0442\\u0430\", \"\\u043e\\u043f\\u043b\\u0430\\u0442\\u0430\", \"\\u043e\\u043f\\u043b\\u0430\\u0442\\u0430\", \"\\u043e\\u043f\\u043b\\u0430\\u0442\\u0430\", \"\\u043e\\u043f\\u043b\\u0430\\u0442\\u0430\", \"\\u043e\\u0441\\u0442\\u0430\\u0442\\u044c\\u0441\\u044f\", \"\\u043e\\u0441\\u0442\\u0430\\u0442\\u044c\\u0441\\u044f\", \"\\u043e\\u0441\\u0442\\u0430\\u0442\\u044c\\u0441\\u044f\", \"\\u043e\\u0441\\u0442\\u0430\\u0442\\u044c\\u0441\\u044f\", \"\\u043e\\u0441\\u0442\\u0430\\u0442\\u044c\\u0441\\u044f\", \"\\u043e\\u0441\\u0442\\u0430\\u0442\\u044c\\u0441\\u044f\", \"\\u043e\\u0441\\u0442\\u0430\\u0442\\u044c\\u0441\\u044f\", \"\\u043e\\u0441\\u0442\\u0430\\u0442\\u044c\\u0441\\u044f\", \"\\u043e\\u0441\\u0442\\u0430\\u0442\\u044c\\u0441\\u044f\", \"\\u043e\\u0441\\u0442\\u0430\\u0442\\u044c\\u0441\\u044f\", \"\\u043e\\u0441\\u0442\\u0430\\u0442\\u044c\\u0441\\u044f\", \"\\u043e\\u0442\\u0432\\u0435\\u0442\", \"\\u043e\\u0442\\u0432\\u0435\\u0442\", \"\\u043e\\u0442\\u0432\\u0435\\u0442\", \"\\u043e\\u0442\\u0432\\u0435\\u0442\", \"\\u043e\\u0442\\u0432\\u0435\\u0442\", \"\\u043e\\u0442\\u0432\\u0435\\u0442\", \"\\u043e\\u0442\\u0432\\u0435\\u0442\", \"\\u043e\\u0442\\u0432\\u0435\\u0442\", \"\\u043e\\u0442\\u0432\\u0435\\u0442\", \"\\u043e\\u0442\\u0432\\u0435\\u0442\", \"\\u043e\\u0442\\u0432\\u0435\\u0442\", \"\\u043e\\u0442\\u043a\\u0430\\u0437\\u0430\\u0442\\u044c\", \"\\u043e\\u0442\\u043a\\u0430\\u0437\\u0430\\u0442\\u044c\", \"\\u043e\\u0442\\u043a\\u0430\\u0437\\u0430\\u0442\\u044c\", \"\\u043e\\u0442\\u043a\\u0430\\u0437\\u0430\\u0442\\u044c\", \"\\u043e\\u0442\\u043a\\u0430\\u0437\\u0430\\u0442\\u044c\", \"\\u043e\\u0442\\u043a\\u0430\\u0437\\u0430\\u0442\\u044c\", \"\\u043e\\u0442\\u043a\\u0430\\u0437\\u0430\\u0442\\u044c\", \"\\u043e\\u0442\\u043a\\u0430\\u0437\\u0430\\u0442\\u044c\", \"\\u043e\\u0442\\u043a\\u0430\\u0437\\u0430\\u0442\\u044c\", \"\\u043e\\u0442\\u043a\\u0430\\u0437\\u0430\\u0442\\u044c\", \"\\u043e\\u0442\\u043a\\u0430\\u0437\\u044b\\u0432\\u0430\\u0442\\u044c\", \"\\u043e\\u0442\\u043a\\u0430\\u0437\\u044b\\u0432\\u0430\\u0442\\u044c\", \"\\u043e\\u0442\\u043a\\u0430\\u0437\\u044b\\u0432\\u0430\\u0442\\u044c\", \"\\u043e\\u0442\\u043a\\u0430\\u0437\\u044b\\u0432\\u0430\\u0442\\u044c\", \"\\u043e\\u0442\\u043a\\u0430\\u0437\\u044b\\u0432\\u0430\\u0442\\u044c\", \"\\u043e\\u0442\\u043a\\u0430\\u0437\\u044b\\u0432\\u0430\\u0442\\u044c\", \"\\u043e\\u0442\\u043a\\u0430\\u0437\\u044b\\u0432\\u0430\\u0442\\u044c\", \"\\u043e\\u0442\\u043a\\u0430\\u0437\\u044b\\u0432\\u0430\\u0442\\u044c\", \"\\u043e\\u0442\\u043a\\u0430\\u0437\\u044b\\u0432\\u0430\\u0442\\u044c\", \"\\u043e\\u0442\\u043a\\u0430\\u0437\\u044b\\u0432\\u0430\\u0442\\u044c\", \"\\u043e\\u0442\\u043f\\u0440\\u0430\\u0432\\u0438\\u0442\\u044c\", \"\\u043e\\u0442\\u043f\\u0440\\u0430\\u0432\\u0438\\u0442\\u044c\", \"\\u043e\\u0442\\u043f\\u0440\\u0430\\u0432\\u0438\\u0442\\u044c\", \"\\u043e\\u0442\\u043f\\u0440\\u0430\\u0432\\u0438\\u0442\\u044c\", \"\\u043e\\u0442\\u043f\\u0440\\u0430\\u0432\\u0438\\u0442\\u044c\", \"\\u043e\\u0442\\u043f\\u0440\\u0430\\u0432\\u0438\\u0442\\u044c\", \"\\u043e\\u0442\\u043f\\u0440\\u0430\\u0432\\u0438\\u0442\\u044c\", \"\\u043e\\u0442\\u043f\\u0440\\u0430\\u0432\\u0438\\u0442\\u044c\", \"\\u043e\\u0442\\u043f\\u0440\\u0430\\u0432\\u0438\\u0442\\u044c\", \"\\u043e\\u0442\\u043f\\u0440\\u0430\\u0432\\u0438\\u0442\\u044c\", \"\\u043e\\u0442\\u043f\\u0440\\u0430\\u0432\\u0438\\u0442\\u044c\", \"\\u043e\\u0442\\u043f\\u0440\\u0430\\u0432\\u043a\\u0430\", \"\\u043e\\u0442\\u043f\\u0440\\u0430\\u0432\\u043a\\u0430\", \"\\u043e\\u0442\\u043f\\u0440\\u0430\\u0432\\u043a\\u0430\", \"\\u043e\\u0442\\u043f\\u0440\\u0430\\u0432\\u043a\\u0430\", \"\\u043e\\u0442\\u043f\\u0440\\u0430\\u0432\\u043a\\u0430\", \"\\u043e\\u0442\\u043f\\u0440\\u0430\\u0432\\u043a\\u0430\", \"\\u043e\\u0442\\u043f\\u0440\\u0430\\u0432\\u043a\\u0430\", \"\\u043e\\u0442\\u043f\\u0440\\u0430\\u0432\\u043a\\u0430\", \"\\u043e\\u0442\\u043f\\u0440\\u0430\\u0432\\u043a\\u0430\", \"\\u043e\\u0442\\u043f\\u0440\\u0430\\u0432\\u043a\\u0430\", \"\\u043e\\u0442\\u043f\\u0440\\u0430\\u0432\\u043a\\u0430\", \"\\u043f\\u043e\\u0432\\u0442\\u043e\\u0440\\u043d\\u043e\\u043d\", \"\\u043f\\u043e\\u0432\\u0442\\u043e\\u0440\\u043d\\u043e\\u043d\", \"\\u043f\\u043e\\u0432\\u0442\\u043e\\u0440\\u043d\\u043e\\u043d\", \"\\u043f\\u043e\\u0432\\u0442\\u043e\\u0440\\u043d\\u043e\\u043d\", \"\\u043f\\u043e\\u0432\\u0442\\u043e\\u0440\\u043d\\u043e\\u043d\", \"\\u043f\\u043e\\u0432\\u0442\\u043e\\u0440\\u043d\\u043e\\u043d\", \"\\u043f\\u043e\\u0432\\u0442\\u043e\\u0440\\u043d\\u043e\\u043d\", \"\\u043f\\u043e\\u0432\\u0442\\u043e\\u0440\\u043d\\u043e\\u043d\", \"\\u043f\\u043e\\u0432\\u0442\\u043e\\u0440\\u043d\\u043e\\u043d\", \"\\u043f\\u043e\\u0432\\u0442\\u043e\\u0440\\u043d\\u043e\\u043d\", \"\\u043f\\u043e\\u0432\\u0442\\u043e\\u0440\\u043d\\u044b\\u0439\", \"\\u043f\\u043e\\u0432\\u0442\\u043e\\u0440\\u043d\\u044b\\u0439\", \"\\u043f\\u043e\\u0432\\u0442\\u043e\\u0440\\u043d\\u044b\\u0439\", \"\\u043f\\u043e\\u0432\\u0442\\u043e\\u0440\\u043d\\u044b\\u0439\", \"\\u043f\\u043e\\u0432\\u0442\\u043e\\u0440\\u043d\\u044b\\u0439\", \"\\u043f\\u043e\\u0432\\u0442\\u043e\\u0440\\u043d\\u044b\\u0439\", \"\\u043f\\u043e\\u0432\\u0442\\u043e\\u0440\\u043d\\u044b\\u0439\", \"\\u043f\\u043e\\u0432\\u0442\\u043e\\u0440\\u043d\\u044b\\u0439\", \"\\u043f\\u043e\\u0432\\u0442\\u043e\\u0440\\u043d\\u044b\\u0439\", \"\\u043f\\u043e\\u0432\\u0442\\u043e\\u0440\\u043d\\u044b\\u0439\", \"\\u043f\\u043e\\u0434\\u0430\\u0440\\u043e\\u0447\\u043d\\u044b\\u0439\", \"\\u043f\\u043e\\u0434\\u0430\\u0440\\u043e\\u0447\\u043d\\u044b\\u0439\", \"\\u043f\\u043e\\u0434\\u0430\\u0440\\u043e\\u0447\\u043d\\u044b\\u0439\", \"\\u043f\\u043e\\u0434\\u0430\\u0440\\u043e\\u0447\\u043d\\u044b\\u0439\", \"\\u043f\\u043e\\u0434\\u0430\\u0440\\u043e\\u0447\\u043d\\u044b\\u0439\", \"\\u043f\\u043e\\u0434\\u0430\\u0440\\u043e\\u0447\\u043d\\u044b\\u0439\", \"\\u043f\\u043e\\u0434\\u0430\\u0440\\u043e\\u0447\\u043d\\u044b\\u0439\", \"\\u043f\\u043e\\u0434\\u0430\\u0440\\u043e\\u0447\\u043d\\u044b\\u0439\", \"\\u043f\\u043e\\u0434\\u0430\\u0440\\u043e\\u0447\\u043d\\u044b\\u0439\", \"\\u043f\\u043e\\u0434\\u0430\\u0440\\u043e\\u0447\\u043d\\u044b\\u0439\", \"\\u043f\\u043e\\u0434\\u043e\\u0439\\u0442\\u0438\", \"\\u043f\\u043e\\u0434\\u043e\\u0439\\u0442\\u0438\", \"\\u043f\\u043e\\u0434\\u043e\\u0439\\u0442\\u0438\", \"\\u043f\\u043e\\u0434\\u043e\\u0439\\u0442\\u0438\", \"\\u043f\\u043e\\u0434\\u043e\\u0439\\u0442\\u0438\", \"\\u043f\\u043e\\u0434\\u043e\\u0439\\u0442\\u0438\", \"\\u043f\\u043e\\u0434\\u043e\\u0439\\u0442\\u0438\", \"\\u043f\\u043e\\u0434\\u043e\\u0439\\u0442\\u0438\", \"\\u043f\\u043e\\u0434\\u043e\\u0439\\u0442\\u0438\", \"\\u043f\\u043e\\u0434\\u043e\\u0439\\u0442\\u0438\", \"\\u043f\\u043e\\u0434\\u0442\\u0432\\u0435\\u0440\\u0434\\u0438\\u0442\\u044c\", \"\\u043f\\u043e\\u0434\\u0442\\u0432\\u0435\\u0440\\u0434\\u0438\\u0442\\u044c\", \"\\u043f\\u043e\\u0434\\u0442\\u0432\\u0435\\u0440\\u0434\\u0438\\u0442\\u044c\", \"\\u043f\\u043e\\u0434\\u0442\\u0432\\u0435\\u0440\\u0434\\u0438\\u0442\\u044c\", \"\\u043f\\u043e\\u0434\\u0442\\u0432\\u0435\\u0440\\u0434\\u0438\\u0442\\u044c\", \"\\u043f\\u043e\\u0434\\u0442\\u0432\\u0435\\u0440\\u0434\\u0438\\u0442\\u044c\", \"\\u043f\\u043e\\u0434\\u0442\\u0432\\u0435\\u0440\\u0434\\u0438\\u0442\\u044c\", \"\\u043f\\u043e\\u0434\\u0442\\u0432\\u0435\\u0440\\u0434\\u0438\\u0442\\u044c\", \"\\u043f\\u043e\\u0434\\u0442\\u0432\\u0435\\u0440\\u0434\\u0438\\u0442\\u044c\", \"\\u043f\\u043e\\u0434\\u0442\\u0432\\u0435\\u0440\\u0434\\u0438\\u0442\\u044c\", \"\\u043f\\u043e\\u043a\\u0430\", \"\\u043f\\u043e\\u043a\\u0430\", \"\\u043f\\u043e\\u043a\\u0430\", \"\\u043f\\u043e\\u043a\\u0430\", \"\\u043f\\u043e\\u043a\\u0430\", \"\\u043f\\u043e\\u043a\\u0430\", \"\\u043f\\u043e\\u043a\\u0430\", \"\\u043f\\u043e\\u043a\\u0430\", \"\\u043f\\u043e\\u043a\\u0430\", \"\\u043f\\u043e\\u043a\\u0430\", \"\\u043f\\u043e\\u043a\\u0430\\u0437\\u044b\\u0432\\u0430\\u0442\\u044c\", \"\\u043f\\u043e\\u043a\\u0430\\u0437\\u044b\\u0432\\u0430\\u0442\\u044c\", \"\\u043f\\u043e\\u043a\\u0430\\u0437\\u044b\\u0432\\u0430\\u0442\\u044c\", \"\\u043f\\u043e\\u043a\\u0430\\u0437\\u044b\\u0432\\u0430\\u0442\\u044c\", \"\\u043f\\u043e\\u043a\\u0430\\u0437\\u044b\\u0432\\u0430\\u0442\\u044c\", \"\\u043f\\u043e\\u043a\\u0430\\u0437\\u044b\\u0432\\u0430\\u0442\\u044c\", \"\\u043f\\u043e\\u043a\\u0430\\u0437\\u044b\\u0432\\u0430\\u0442\\u044c\", \"\\u043f\\u043e\\u043a\\u0430\\u0437\\u044b\\u0432\\u0430\\u0442\\u044c\", \"\\u043f\\u043e\\u043a\\u0430\\u0437\\u044b\\u0432\\u0430\\u0442\\u044c\", \"\\u043f\\u043e\\u043a\\u0430\\u0437\\u044b\\u0432\\u0430\\u0442\\u044c\", \"\\u043f\\u043e\\u043a\\u0430\\u0437\\u044b\\u0432\\u0430\\u0442\\u044c\", \"\\u043f\\u043e\\u043b\\u0443\\u0447\\u0435\\u043d\\u0438\\u0435\", \"\\u043f\\u043e\\u043b\\u0443\\u0447\\u0435\\u043d\\u0438\\u0435\", \"\\u043f\\u043e\\u043b\\u0443\\u0447\\u0435\\u043d\\u0438\\u0435\", \"\\u043f\\u043e\\u043b\\u0443\\u0447\\u0435\\u043d\\u0438\\u0435\", \"\\u043f\\u043e\\u043b\\u0443\\u0447\\u0435\\u043d\\u0438\\u0435\", \"\\u043f\\u043e\\u043b\\u0443\\u0447\\u0435\\u043d\\u0438\\u0435\", \"\\u043f\\u043e\\u043b\\u0443\\u0447\\u0435\\u043d\\u0438\\u0435\", \"\\u043f\\u043e\\u043b\\u0443\\u0447\\u0435\\u043d\\u0438\\u0435\", \"\\u043f\\u043e\\u043b\\u0443\\u0447\\u0435\\u043d\\u0438\\u0435\", \"\\u043f\\u043e\\u043b\\u0443\\u0447\\u0435\\u043d\\u0438\\u0435\", \"\\u043f\\u043e\\u043b\\u0443\\u0447\\u0435\\u043d\\u0438\\u0435\", \"\\u043f\\u043e\\u043b\\u044c\\u0437\\u043e\\u0432\\u0430\\u0442\\u044c\\u0441\\u044f\", \"\\u043f\\u043e\\u043b\\u044c\\u0437\\u043e\\u0432\\u0430\\u0442\\u044c\\u0441\\u044f\", \"\\u043f\\u043e\\u043b\\u044c\\u0437\\u043e\\u0432\\u0430\\u0442\\u044c\\u0441\\u044f\", \"\\u043f\\u043e\\u043b\\u044c\\u0437\\u043e\\u0432\\u0430\\u0442\\u044c\\u0441\\u044f\", \"\\u043f\\u043e\\u043b\\u044c\\u0437\\u043e\\u0432\\u0430\\u0442\\u044c\\u0441\\u044f\", \"\\u043f\\u043e\\u043b\\u044c\\u0437\\u043e\\u0432\\u0430\\u0442\\u044c\\u0441\\u044f\", \"\\u043f\\u043e\\u043b\\u044c\\u0437\\u043e\\u0432\\u0430\\u0442\\u044c\\u0441\\u044f\", \"\\u043f\\u043e\\u043b\\u044c\\u0437\\u043e\\u0432\\u0430\\u0442\\u044c\\u0441\\u044f\", \"\\u043f\\u043e\\u043b\\u044c\\u0437\\u043e\\u0432\\u0430\\u0442\\u044c\\u0441\\u044f\", \"\\u043f\\u043e\\u043b\\u044c\\u0437\\u043e\\u0432\\u0430\\u0442\\u044c\\u0441\\u044f\", \"\\u043f\\u043e\\u043b\\u044c\\u0437\\u043e\\u0432\\u0430\\u0442\\u044c\\u0441\\u044f\", \"\\u043f\\u043e\\u0440\\u0430\", \"\\u043f\\u043e\\u0440\\u0430\", \"\\u043f\\u043e\\u0440\\u0430\", \"\\u043f\\u043e\\u0440\\u0430\", \"\\u043f\\u043e\\u0440\\u0430\", \"\\u043f\\u043e\\u0440\\u0430\", \"\\u043f\\u043e\\u0440\\u0430\", \"\\u043f\\u043e\\u0440\\u0430\", \"\\u043f\\u043e\\u0440\\u0430\", \"\\u043f\\u043e\\u0440\\u0430\", \"\\u043f\\u043e\\u0441\\u043b\\u0435\\u0434\\u043e\\u0432\\u0430\\u0442\\u044c\", \"\\u043f\\u043e\\u0441\\u043b\\u0435\\u0434\\u043e\\u0432\\u0430\\u0442\\u044c\", \"\\u043f\\u043e\\u0441\\u043b\\u0435\\u0434\\u043e\\u0432\\u0430\\u0442\\u044c\", \"\\u043f\\u043e\\u0441\\u043b\\u0435\\u0434\\u043e\\u0432\\u0430\\u0442\\u044c\", \"\\u043f\\u043e\\u0441\\u043b\\u0435\\u0434\\u043e\\u0432\\u0430\\u0442\\u044c\", \"\\u043f\\u043e\\u0441\\u043b\\u0435\\u0434\\u043e\\u0432\\u0430\\u0442\\u044c\", \"\\u043f\\u043e\\u0441\\u043b\\u0435\\u0434\\u043e\\u0432\\u0430\\u0442\\u044c\", \"\\u043f\\u043e\\u0441\\u043b\\u0435\\u0434\\u043e\\u0432\\u0430\\u0442\\u044c\", \"\\u043f\\u043e\\u0441\\u043b\\u0435\\u0434\\u043e\\u0432\\u0430\\u0442\\u044c\", \"\\u043f\\u043e\\u0441\\u043b\\u0435\\u0434\\u043e\\u0432\\u0430\\u0442\\u044c\", \"\\u043f\\u043e\\u0441\\u0442\\u0443\\u043f\\u0438\\u0442\\u044c\", \"\\u043f\\u043e\\u0441\\u0442\\u0443\\u043f\\u0438\\u0442\\u044c\", \"\\u043f\\u043e\\u0441\\u0442\\u0443\\u043f\\u0438\\u0442\\u044c\", \"\\u043f\\u043e\\u0441\\u0442\\u0443\\u043f\\u0438\\u0442\\u044c\", \"\\u043f\\u043e\\u0441\\u0442\\u0443\\u043f\\u0438\\u0442\\u044c\", \"\\u043f\\u043e\\u0441\\u0442\\u0443\\u043f\\u0438\\u0442\\u044c\", \"\\u043f\\u043e\\u0441\\u0442\\u0443\\u043f\\u0438\\u0442\\u044c\", \"\\u043f\\u043e\\u0441\\u0442\\u0443\\u043f\\u0438\\u0442\\u044c\", \"\\u043f\\u043e\\u0441\\u0442\\u0443\\u043f\\u0438\\u0442\\u044c\", \"\\u043f\\u043e\\u0441\\u0442\\u0443\\u043f\\u0438\\u0442\\u044c\", \"\\u043f\\u043e\\u0442\\u0435\\u0440\\u044f\\u0442\\u044c\", \"\\u043f\\u043e\\u0442\\u0435\\u0440\\u044f\\u0442\\u044c\", \"\\u043f\\u043e\\u0442\\u0435\\u0440\\u044f\\u0442\\u044c\", \"\\u043f\\u043e\\u0442\\u0435\\u0440\\u044f\\u0442\\u044c\", \"\\u043f\\u043e\\u0442\\u0435\\u0440\\u044f\\u0442\\u044c\", \"\\u043f\\u043e\\u0442\\u0435\\u0440\\u044f\\u0442\\u044c\", \"\\u043f\\u043e\\u0442\\u0435\\u0440\\u044f\\u0442\\u044c\", \"\\u043f\\u043e\\u0442\\u0435\\u0440\\u044f\\u0442\\u044c\", \"\\u043f\\u043e\\u0442\\u0435\\u0440\\u044f\\u0442\\u044c\", \"\\u043f\\u043e\\u0442\\u0435\\u0440\\u044f\\u0442\\u044c\", \"\\u043f\\u043e\\u0442\\u0435\\u0440\\u044f\\u0442\\u044c\", \"\\u043f\\u043e\\u0442\\u0440\\u0435\\u0431\\u0438\\u0442\\u0435\\u043b\\u044c\", \"\\u043f\\u043e\\u0442\\u0440\\u0435\\u0431\\u0438\\u0442\\u0435\\u043b\\u044c\", \"\\u043f\\u043e\\u0442\\u0440\\u0435\\u0431\\u0438\\u0442\\u0435\\u043b\\u044c\", \"\\u043f\\u043e\\u0442\\u0440\\u0435\\u0431\\u0438\\u0442\\u0435\\u043b\\u044c\", \"\\u043f\\u043e\\u0442\\u0440\\u0435\\u0431\\u0438\\u0442\\u0435\\u043b\\u044c\", \"\\u043f\\u043e\\u0442\\u0440\\u0435\\u0431\\u0438\\u0442\\u0435\\u043b\\u044c\", \"\\u043f\\u043e\\u0442\\u0440\\u0435\\u0431\\u0438\\u0442\\u0435\\u043b\\u044c\", \"\\u043f\\u043e\\u0442\\u0440\\u0435\\u0431\\u0438\\u0442\\u0435\\u043b\\u044c\", \"\\u043f\\u043e\\u0442\\u0440\\u0435\\u0431\\u0438\\u0442\\u0435\\u043b\\u044c\", \"\\u043f\\u043e\\u0442\\u0440\\u0435\\u0431\\u0438\\u0442\\u0435\\u043b\\u044c\", \"\\u043f\\u043e\\u0447\\u0435\\u043c\\u0443\", \"\\u043f\\u043e\\u0447\\u0435\\u043c\\u0443\", \"\\u043f\\u043e\\u0447\\u0435\\u043c\\u0443\", \"\\u043f\\u043e\\u0447\\u0435\\u043c\\u0443\", \"\\u043f\\u043e\\u0447\\u0435\\u043c\\u0443\", \"\\u043f\\u043e\\u0447\\u0435\\u043c\\u0443\", \"\\u043f\\u043e\\u0447\\u0435\\u043c\\u0443\", \"\\u043f\\u043e\\u0447\\u0435\\u043c\\u0443\", \"\\u043f\\u043e\\u0447\\u0435\\u043c\\u0443\", \"\\u043f\\u043e\\u0447\\u0435\\u043c\\u0443\", \"\\u043f\\u043e\\u044f\\u0432\\u0438\\u0442\\u044c\\u0441\\u044f\", \"\\u043f\\u043e\\u044f\\u0432\\u0438\\u0442\\u044c\\u0441\\u044f\", \"\\u043f\\u043e\\u044f\\u0432\\u0438\\u0442\\u044c\\u0441\\u044f\", \"\\u043f\\u043e\\u044f\\u0432\\u0438\\u0442\\u044c\\u0441\\u044f\", \"\\u043f\\u043e\\u044f\\u0432\\u0438\\u0442\\u044c\\u0441\\u044f\", \"\\u043f\\u043e\\u044f\\u0432\\u0438\\u0442\\u044c\\u0441\\u044f\", \"\\u043f\\u043e\\u044f\\u0432\\u0438\\u0442\\u044c\\u0441\\u044f\", \"\\u043f\\u043e\\u044f\\u0432\\u0438\\u0442\\u044c\\u0441\\u044f\", \"\\u043f\\u043e\\u044f\\u0432\\u0438\\u0442\\u044c\\u0441\\u044f\", \"\\u043f\\u043e\\u044f\\u0432\\u0438\\u0442\\u044c\\u0441\\u044f\", \"\\u043f\\u043e\\u044f\\u0432\\u044f\\u0442\\u044c\\u0441\\u044f\", \"\\u043f\\u043e\\u044f\\u0432\\u044f\\u0442\\u044c\\u0441\\u044f\", \"\\u043f\\u043e\\u044f\\u0432\\u044f\\u0442\\u044c\\u0441\\u044f\", \"\\u043f\\u043e\\u044f\\u0432\\u044f\\u0442\\u044c\\u0441\\u044f\", \"\\u043f\\u043e\\u044f\\u0432\\u044f\\u0442\\u044c\\u0441\\u044f\", \"\\u043f\\u043e\\u044f\\u0432\\u044f\\u0442\\u044c\\u0441\\u044f\", \"\\u043f\\u043e\\u044f\\u0432\\u044f\\u0442\\u044c\\u0441\\u044f\", \"\\u043f\\u043e\\u044f\\u0432\\u044f\\u0442\\u044c\\u0441\\u044f\", \"\\u043f\\u043e\\u044f\\u0432\\u044f\\u0442\\u044c\\u0441\\u044f\", \"\\u043f\\u043e\\u044f\\u0432\\u044f\\u0442\\u044c\\u0441\\u044f\", \"\\u043f\\u0440\\u0430\\u0432\\u043e\", \"\\u043f\\u0440\\u0430\\u0432\\u043e\", \"\\u043f\\u0440\\u0430\\u0432\\u043e\", \"\\u043f\\u0440\\u0430\\u0432\\u043e\", \"\\u043f\\u0440\\u0430\\u0432\\u043e\", \"\\u043f\\u0440\\u0430\\u0432\\u043e\", \"\\u043f\\u0440\\u0430\\u0432\\u043e\", \"\\u043f\\u0440\\u0430\\u0432\\u043e\", \"\\u043f\\u0440\\u0430\\u0432\\u043e\", \"\\u043f\\u0440\\u0430\\u0432\\u043e\", \"\\u043f\\u0440\\u0430\\u0432\\u043e\\u043c\\u0435\\u0440\\u043d\\u043e\", \"\\u043f\\u0440\\u0430\\u0432\\u043e\\u043c\\u0435\\u0440\\u043d\\u043e\", \"\\u043f\\u0440\\u0430\\u0432\\u043e\\u043c\\u0435\\u0440\\u043d\\u043e\", \"\\u043f\\u0440\\u0430\\u0432\\u043e\\u043c\\u0435\\u0440\\u043d\\u043e\", \"\\u043f\\u0440\\u0430\\u0432\\u043e\\u043c\\u0435\\u0440\\u043d\\u043e\", \"\\u043f\\u0440\\u0430\\u0432\\u043e\\u043c\\u0435\\u0440\\u043d\\u043e\", \"\\u043f\\u0440\\u0430\\u0432\\u043e\\u043c\\u0435\\u0440\\u043d\\u043e\", \"\\u043f\\u0440\\u0430\\u0432\\u043e\\u043c\\u0435\\u0440\\u043d\\u043e\", \"\\u043f\\u0440\\u0430\\u0432\\u043e\\u043c\\u0435\\u0440\\u043d\\u043e\", \"\\u043f\\u0440\\u0430\\u0432\\u043e\\u043c\\u0435\\u0440\\u043d\\u043e\", \"\\u043f\\u0440\\u0435\\u0434\\u043b\\u0430\\u0433\\u0430\\u0442\\u044c\", \"\\u043f\\u0440\\u0435\\u0434\\u043b\\u0430\\u0433\\u0430\\u0442\\u044c\", \"\\u043f\\u0440\\u0435\\u0434\\u043b\\u0430\\u0433\\u0430\\u0442\\u044c\", \"\\u043f\\u0440\\u0435\\u0434\\u043b\\u0430\\u0433\\u0430\\u0442\\u044c\", \"\\u043f\\u0440\\u0435\\u0434\\u043b\\u0430\\u0433\\u0430\\u0442\\u044c\", \"\\u043f\\u0440\\u0435\\u0434\\u043b\\u0430\\u0433\\u0430\\u0442\\u044c\", \"\\u043f\\u0440\\u0435\\u0434\\u043b\\u0430\\u0433\\u0430\\u0442\\u044c\", \"\\u043f\\u0440\\u0435\\u0434\\u043b\\u0430\\u0433\\u0430\\u0442\\u044c\", \"\\u043f\\u0440\\u0435\\u0434\\u043b\\u0430\\u0433\\u0430\\u0442\\u044c\", \"\\u043f\\u0440\\u0435\\u0434\\u043b\\u0430\\u0433\\u0430\\u0442\\u044c\", \"\\u043f\\u0440\\u0435\\u0434\\u043b\\u0430\\u0433\\u0430\\u0442\\u044c\", \"\\u043f\\u0440\\u0435\\u0434\\u043b\\u043e\\u0436\\u0438\\u0442\\u044c\", \"\\u043f\\u0440\\u0435\\u0434\\u043b\\u043e\\u0436\\u0438\\u0442\\u044c\", \"\\u043f\\u0440\\u0435\\u0434\\u043b\\u043e\\u0436\\u0438\\u0442\\u044c\", \"\\u043f\\u0440\\u0435\\u0434\\u043b\\u043e\\u0436\\u0438\\u0442\\u044c\", \"\\u043f\\u0440\\u0435\\u0434\\u043b\\u043e\\u0436\\u0438\\u0442\\u044c\", \"\\u043f\\u0440\\u0435\\u0434\\u043b\\u043e\\u0436\\u0438\\u0442\\u044c\", \"\\u043f\\u0440\\u0435\\u0434\\u043b\\u043e\\u0436\\u0438\\u0442\\u044c\", \"\\u043f\\u0440\\u0435\\u0434\\u043b\\u043e\\u0436\\u0438\\u0442\\u044c\", \"\\u043f\\u0440\\u0435\\u0434\\u043b\\u043e\\u0436\\u0438\\u0442\\u044c\", \"\\u043f\\u0440\\u0435\\u0434\\u043b\\u043e\\u0436\\u0438\\u0442\\u044c\", \"\\u043f\\u0440\\u0435\\u0434\\u043b\\u043e\\u0436\\u0438\\u0442\\u044c\", \"\\u043f\\u0440\\u0435\\u0434\\u043e\\u0441\\u0442\\u0430\\u0432\\u0438\\u0442\\u044c\", \"\\u043f\\u0440\\u0435\\u0434\\u043e\\u0441\\u0442\\u0430\\u0432\\u0438\\u0442\\u044c\", \"\\u043f\\u0440\\u0435\\u0434\\u043e\\u0441\\u0442\\u0430\\u0432\\u0438\\u0442\\u044c\", \"\\u043f\\u0440\\u0435\\u0434\\u043e\\u0441\\u0442\\u0430\\u0432\\u0438\\u0442\\u044c\", \"\\u043f\\u0440\\u0435\\u0434\\u043e\\u0441\\u0442\\u0430\\u0432\\u0438\\u0442\\u044c\", \"\\u043f\\u0440\\u0435\\u0434\\u043e\\u0441\\u0442\\u0430\\u0432\\u0438\\u0442\\u044c\", \"\\u043f\\u0440\\u0435\\u0434\\u043e\\u0441\\u0442\\u0430\\u0432\\u0438\\u0442\\u044c\", \"\\u043f\\u0440\\u0435\\u0434\\u043e\\u0441\\u0442\\u0430\\u0432\\u0438\\u0442\\u044c\", \"\\u043f\\u0440\\u0435\\u0434\\u043e\\u0441\\u0442\\u0430\\u0432\\u0438\\u0442\\u044c\", \"\\u043f\\u0440\\u0435\\u0434\\u043e\\u0441\\u0442\\u0430\\u0432\\u0438\\u0442\\u044c\", \"\\u043f\\u0440\\u0438\\u0432\\u0438\\u0432\\u0430\\u0442\\u044c\\u0441\\u044f\", \"\\u043f\\u0440\\u0438\\u0432\\u0438\\u0432\\u0430\\u0442\\u044c\\u0441\\u044f\", \"\\u043f\\u0440\\u0438\\u0432\\u0438\\u0432\\u0430\\u0442\\u044c\\u0441\\u044f\", \"\\u043f\\u0440\\u0438\\u0432\\u0438\\u0432\\u0430\\u0442\\u044c\\u0441\\u044f\", \"\\u043f\\u0440\\u0438\\u0432\\u0438\\u0432\\u0430\\u0442\\u044c\\u0441\\u044f\", \"\\u043f\\u0440\\u0438\\u0432\\u0438\\u0432\\u0430\\u0442\\u044c\\u0441\\u044f\", \"\\u043f\\u0440\\u0438\\u0432\\u0438\\u0432\\u0430\\u0442\\u044c\\u0441\\u044f\", \"\\u043f\\u0440\\u0438\\u0432\\u0438\\u0432\\u0430\\u0442\\u044c\\u0441\\u044f\", \"\\u043f\\u0440\\u0438\\u0432\\u0438\\u0432\\u0430\\u0442\\u044c\\u0441\\u044f\", \"\\u043f\\u0440\\u0438\\u0432\\u0438\\u0432\\u0430\\u0442\\u044c\\u0441\\u044f\", \"\\u043f\\u0440\\u0438\\u0432\\u0438\\u0432\\u043a\\u0443\\u0445\\u043e\\u0442\\u044f\", \"\\u043f\\u0440\\u0438\\u0432\\u0438\\u0432\\u043a\\u0443\\u0445\\u043e\\u0442\\u044f\", \"\\u043f\\u0440\\u0438\\u0432\\u0438\\u0432\\u043a\\u0443\\u0445\\u043e\\u0442\\u044f\", \"\\u043f\\u0440\\u0438\\u0432\\u0438\\u0432\\u043a\\u0443\\u0445\\u043e\\u0442\\u044f\", \"\\u043f\\u0440\\u0438\\u0432\\u0438\\u0432\\u043a\\u0443\\u0445\\u043e\\u0442\\u044f\", \"\\u043f\\u0440\\u0438\\u0432\\u0438\\u0432\\u043a\\u0443\\u0445\\u043e\\u0442\\u044f\", \"\\u043f\\u0440\\u0438\\u0432\\u0438\\u0432\\u043a\\u0443\\u0445\\u043e\\u0442\\u044f\", \"\\u043f\\u0440\\u0438\\u0432\\u0438\\u0432\\u043a\\u0443\\u0445\\u043e\\u0442\\u044f\", \"\\u043f\\u0440\\u0438\\u0432\\u0438\\u0432\\u043a\\u0443\\u0445\\u043e\\u0442\\u044f\", \"\\u043f\\u0440\\u0438\\u0432\\u0438\\u0432\\u043a\\u0443\\u0445\\u043e\\u0442\\u044f\", \"\\u043f\\u0440\\u0438\\u0432\\u0438\\u0442\\u044c\", \"\\u043f\\u0440\\u0438\\u0432\\u0438\\u0442\\u044c\", \"\\u043f\\u0440\\u0438\\u0432\\u0438\\u0442\\u044c\", \"\\u043f\\u0440\\u0438\\u0432\\u0438\\u0442\\u044c\", \"\\u043f\\u0440\\u0438\\u0432\\u0438\\u0442\\u044c\", \"\\u043f\\u0440\\u0438\\u0432\\u0438\\u0442\\u044c\", \"\\u043f\\u0440\\u0438\\u0432\\u0438\\u0442\\u044c\", \"\\u043f\\u0440\\u0438\\u0432\\u0438\\u0442\\u044c\", \"\\u043f\\u0440\\u0438\\u0432\\u0438\\u0442\\u044c\", \"\\u043f\\u0440\\u0438\\u0432\\u0438\\u0442\\u044c\", \"\\u043f\\u0440\\u0438\\u0439\\u0442\\u0438\", \"\\u043f\\u0440\\u0438\\u0439\\u0442\\u0438\", \"\\u043f\\u0440\\u0438\\u0439\\u0442\\u0438\", \"\\u043f\\u0440\\u0438\\u0439\\u0442\\u0438\", \"\\u043f\\u0440\\u0438\\u0439\\u0442\\u0438\", \"\\u043f\\u0440\\u0438\\u0439\\u0442\\u0438\", \"\\u043f\\u0440\\u0438\\u0439\\u0442\\u0438\", \"\\u043f\\u0440\\u0438\\u0439\\u0442\\u0438\", \"\\u043f\\u0440\\u0438\\u0439\\u0442\\u0438\", \"\\u043f\\u0440\\u0438\\u0439\\u0442\\u0438\", \"\\u043f\\u0440\\u0438\\u043b\\u0430\\u0433\\u0430\\u0442\\u044c\", \"\\u043f\\u0440\\u0438\\u043b\\u0430\\u0433\\u0430\\u0442\\u044c\", \"\\u043f\\u0440\\u0438\\u043b\\u0430\\u0433\\u0430\\u0442\\u044c\", \"\\u043f\\u0440\\u0438\\u043b\\u0430\\u0433\\u0430\\u0442\\u044c\", \"\\u043f\\u0440\\u0438\\u043b\\u0430\\u0433\\u0430\\u0442\\u044c\", \"\\u043f\\u0440\\u0438\\u043b\\u0430\\u0433\\u0430\\u0442\\u044c\", \"\\u043f\\u0440\\u0438\\u043b\\u0430\\u0433\\u0430\\u0442\\u044c\", \"\\u043f\\u0440\\u0438\\u043b\\u0430\\u0433\\u0430\\u0442\\u044c\", \"\\u043f\\u0440\\u0438\\u043b\\u0430\\u0433\\u0430\\u0442\\u044c\", \"\\u043f\\u0440\\u0438\\u043b\\u0430\\u0433\\u0430\\u0442\\u044c\", \"\\u043f\\u0440\\u0438\\u043d\\u0438\\u043c\\u0430\\u0442\\u044c\", \"\\u043f\\u0440\\u0438\\u043d\\u0438\\u043c\\u0430\\u0442\\u044c\", \"\\u043f\\u0440\\u0438\\u043d\\u0438\\u043c\\u0430\\u0442\\u044c\", \"\\u043f\\u0440\\u0438\\u043d\\u0438\\u043c\\u0430\\u0442\\u044c\", \"\\u043f\\u0440\\u0438\\u043d\\u0438\\u043c\\u0430\\u0442\\u044c\", \"\\u043f\\u0440\\u0438\\u043d\\u0438\\u043c\\u0430\\u0442\\u044c\", \"\\u043f\\u0440\\u0438\\u043d\\u0438\\u043c\\u0430\\u0442\\u044c\", \"\\u043f\\u0440\\u0438\\u043d\\u0438\\u043c\\u0430\\u0442\\u044c\", \"\\u043f\\u0440\\u0438\\u043d\\u0438\\u043c\\u0430\\u0442\\u044c\", \"\\u043f\\u0440\\u0438\\u043d\\u0438\\u043c\\u0430\\u0442\\u044c\", \"\\u043f\\u0440\\u0438\\u043e\\u0431\\u0440\\u0435\\u0441\\u0442\\u0438\", \"\\u043f\\u0440\\u0438\\u043e\\u0431\\u0440\\u0435\\u0441\\u0442\\u0438\", \"\\u043f\\u0440\\u0438\\u043e\\u0431\\u0440\\u0435\\u0441\\u0442\\u0438\", \"\\u043f\\u0440\\u0438\\u043e\\u0431\\u0440\\u0435\\u0441\\u0442\\u0438\", \"\\u043f\\u0440\\u0438\\u043e\\u0431\\u0440\\u0435\\u0441\\u0442\\u0438\", \"\\u043f\\u0440\\u0438\\u043e\\u0431\\u0440\\u0435\\u0441\\u0442\\u0438\", \"\\u043f\\u0440\\u0438\\u043e\\u0431\\u0440\\u0435\\u0441\\u0442\\u0438\", \"\\u043f\\u0440\\u0438\\u043e\\u0431\\u0440\\u0435\\u0441\\u0442\\u0438\", \"\\u043f\\u0440\\u0438\\u043e\\u0431\\u0440\\u0435\\u0441\\u0442\\u0438\", \"\\u043f\\u0440\\u0438\\u043e\\u0431\\u0440\\u0435\\u0441\\u0442\\u0438\", \"\\u043f\\u0440\\u043e\\u0431\\u043b\\u0435\\u043c\\u0430\", \"\\u043f\\u0440\\u043e\\u0431\\u043b\\u0435\\u043c\\u0430\", \"\\u043f\\u0440\\u043e\\u0431\\u043b\\u0435\\u043c\\u0430\", \"\\u043f\\u0440\\u043e\\u0431\\u043b\\u0435\\u043c\\u0430\", \"\\u043f\\u0440\\u043e\\u0431\\u043b\\u0435\\u043c\\u0430\", \"\\u043f\\u0440\\u043e\\u0431\\u043b\\u0435\\u043c\\u0430\", \"\\u043f\\u0440\\u043e\\u0431\\u043b\\u0435\\u043c\\u0430\", \"\\u043f\\u0440\\u043e\\u0431\\u043b\\u0435\\u043c\\u0430\", \"\\u043f\\u0440\\u043e\\u0431\\u043b\\u0435\\u043c\\u0430\", \"\\u043f\\u0440\\u043e\\u0431\\u043b\\u0435\\u043c\\u0430\", \"\\u043f\\u0440\\u043e\\u0431\\u043b\\u0435\\u043c\\u0430\", \"\\u043f\\u0440\\u043e\\u0431\\u043b\\u0435\\u043c\\u0430\", \"\\u043f\\u0440\\u043e\\u0434\\u0430\\u0432\\u0435\\u0446\", \"\\u043f\\u0440\\u043e\\u0434\\u0430\\u0432\\u0435\\u0446\", \"\\u043f\\u0440\\u043e\\u0434\\u0430\\u0432\\u0435\\u0446\", \"\\u043f\\u0440\\u043e\\u0434\\u0430\\u0432\\u0435\\u0446\", \"\\u043f\\u0440\\u043e\\u0434\\u0430\\u0432\\u0435\\u0446\", \"\\u043f\\u0440\\u043e\\u0434\\u0430\\u0432\\u0435\\u0446\", \"\\u043f\\u0440\\u043e\\u0434\\u0430\\u0432\\u0435\\u0446\", \"\\u043f\\u0440\\u043e\\u0434\\u0430\\u0432\\u0435\\u0446\", \"\\u043f\\u0440\\u043e\\u0434\\u0430\\u0432\\u0435\\u0446\", \"\\u043f\\u0440\\u043e\\u0434\\u0430\\u0432\\u0435\\u0446\", \"\\u043f\\u0440\\u043e\\u0434\\u0430\\u0432\\u0435\\u0446\", \"\\u043f\\u0440\\u043e\\u0434\\u0443\\u043a\\u0442\", \"\\u043f\\u0440\\u043e\\u0434\\u0443\\u043a\\u0442\", \"\\u043f\\u0440\\u043e\\u0434\\u0443\\u043a\\u0442\", \"\\u043f\\u0440\\u043e\\u0434\\u0443\\u043a\\u0442\", \"\\u043f\\u0440\\u043e\\u0434\\u0443\\u043a\\u0442\", \"\\u043f\\u0440\\u043e\\u0434\\u0443\\u043a\\u0442\", \"\\u043f\\u0440\\u043e\\u0434\\u0443\\u043a\\u0442\", \"\\u043f\\u0440\\u043e\\u0434\\u0443\\u043a\\u0442\", \"\\u043f\\u0440\\u043e\\u0434\\u0443\\u043a\\u0442\", \"\\u043f\\u0440\\u043e\\u0434\\u0443\\u043a\\u0442\", \"\\u043f\\u0440\\u043e\\u0438\\u0437\\u0432\\u043e\\u0434\\u0441\\u0442\\u0432\\u0435\\u043d\\u043d\\u044b\\u0439\", \"\\u043f\\u0440\\u043e\\u0438\\u0437\\u0432\\u043e\\u0434\\u0441\\u0442\\u0432\\u0435\\u043d\\u043d\\u044b\\u0439\", \"\\u043f\\u0440\\u043e\\u0438\\u0437\\u0432\\u043e\\u0434\\u0441\\u0442\\u0432\\u0435\\u043d\\u043d\\u044b\\u0439\", \"\\u043f\\u0440\\u043e\\u0438\\u0437\\u0432\\u043e\\u0434\\u0441\\u0442\\u0432\\u0435\\u043d\\u043d\\u044b\\u0439\", \"\\u043f\\u0440\\u043e\\u0438\\u0437\\u0432\\u043e\\u0434\\u0441\\u0442\\u0432\\u0435\\u043d\\u043d\\u044b\\u0439\", \"\\u043f\\u0440\\u043e\\u0438\\u0437\\u0432\\u043e\\u0434\\u0441\\u0442\\u0432\\u0435\\u043d\\u043d\\u044b\\u0439\", \"\\u043f\\u0440\\u043e\\u0438\\u0437\\u0432\\u043e\\u0434\\u0441\\u0442\\u0432\\u0435\\u043d\\u043d\\u044b\\u0439\", \"\\u043f\\u0440\\u043e\\u0438\\u0437\\u0432\\u043e\\u0434\\u0441\\u0442\\u0432\\u0435\\u043d\\u043d\\u044b\\u0439\", \"\\u043f\\u0440\\u043e\\u0438\\u0437\\u0432\\u043e\\u0434\\u0441\\u0442\\u0432\\u0435\\u043d\\u043d\\u044b\\u0439\", \"\\u043f\\u0440\\u043e\\u0438\\u0437\\u0432\\u043e\\u0434\\u0441\\u0442\\u0432\\u0435\\u043d\\u043d\\u044b\\u0439\", \"\\u043f\\u0440\\u043e\\u0441\\u0442\\u043e\", \"\\u043f\\u0440\\u043e\\u0441\\u0442\\u043e\", \"\\u043f\\u0440\\u043e\\u0441\\u0442\\u043e\", \"\\u043f\\u0440\\u043e\\u0441\\u0442\\u043e\", \"\\u043f\\u0440\\u043e\\u0441\\u0442\\u043e\", \"\\u043f\\u0440\\u043e\\u0441\\u0442\\u043e\", \"\\u043f\\u0440\\u043e\\u0441\\u0442\\u043e\", \"\\u043f\\u0440\\u043e\\u0441\\u0442\\u043e\", \"\\u043f\\u0440\\u043e\\u0441\\u0442\\u043e\", \"\\u043f\\u0440\\u043e\\u0441\\u0442\\u043e\", \"\\u043f\\u0440\\u043e\\u0441\\u0442\\u043e\", \"\\u043f\\u0440\\u043e\\u0441\\u044c\\u0431\\u0430\", \"\\u043f\\u0440\\u043e\\u0441\\u044c\\u0431\\u0430\", \"\\u043f\\u0440\\u043e\\u0441\\u044c\\u0431\\u0430\", \"\\u043f\\u0440\\u043e\\u0441\\u044c\\u0431\\u0430\", \"\\u043f\\u0440\\u043e\\u0441\\u044c\\u0431\\u0430\", \"\\u043f\\u0440\\u043e\\u0441\\u044c\\u0431\\u0430\", \"\\u043f\\u0440\\u043e\\u0441\\u044c\\u0431\\u0430\", \"\\u043f\\u0440\\u043e\\u0441\\u044c\\u0431\\u0430\", \"\\u043f\\u0440\\u043e\\u0441\\u044c\\u0431\\u0430\", \"\\u043f\\u0440\\u043e\\u0441\\u044c\\u0431\\u0430\", \"\\u043f\\u0440\\u043e\\u0441\\u044c\\u0431\\u0430\", \"\\u043f\\u0440\\u043e\\u0445\\u043e\\u0434\\u0438\\u0442\\u044c\", \"\\u043f\\u0440\\u043e\\u0445\\u043e\\u0434\\u0438\\u0442\\u044c\", \"\\u043f\\u0440\\u043e\\u0445\\u043e\\u0434\\u0438\\u0442\\u044c\", \"\\u043f\\u0440\\u043e\\u0445\\u043e\\u0434\\u0438\\u0442\\u044c\", \"\\u043f\\u0440\\u043e\\u0445\\u043e\\u0434\\u0438\\u0442\\u044c\", \"\\u043f\\u0440\\u043e\\u0445\\u043e\\u0434\\u0438\\u0442\\u044c\", \"\\u043f\\u0440\\u043e\\u0445\\u043e\\u0434\\u0438\\u0442\\u044c\", \"\\u043f\\u0440\\u043e\\u0445\\u043e\\u0434\\u0438\\u0442\\u044c\", \"\\u043f\\u0440\\u043e\\u0445\\u043e\\u0434\\u0438\\u0442\\u044c\", \"\\u043f\\u0440\\u043e\\u0445\\u043e\\u0434\\u0438\\u0442\\u044c\", \"\\u043f\\u0440\\u043e\\u0445\\u043e\\u0434\\u0438\\u0442\\u044c\", \"\\u043f\\u0440\\u044f\\u043c\\u043e\\u0439\", \"\\u043f\\u0440\\u044f\\u043c\\u043e\\u0439\", \"\\u043f\\u0440\\u044f\\u043c\\u043e\\u0439\", \"\\u043f\\u0440\\u044f\\u043c\\u043e\\u0439\", \"\\u043f\\u0440\\u044f\\u043c\\u043e\\u0439\", \"\\u043f\\u0440\\u044f\\u043c\\u043e\\u0439\", \"\\u043f\\u0440\\u044f\\u043c\\u043e\\u0439\", \"\\u043f\\u0440\\u044f\\u043c\\u043e\\u0439\", \"\\u043f\\u0440\\u044f\\u043c\\u043e\\u0439\", \"\\u043f\\u0440\\u044f\\u043c\\u043e\\u0439\", \"\\u043f\\u044b\\u0442\\u0430\\u0442\\u044c\\u0441\\u044f\", \"\\u043f\\u044b\\u0442\\u0430\\u0442\\u044c\\u0441\\u044f\", \"\\u043f\\u044b\\u0442\\u0430\\u0442\\u044c\\u0441\\u044f\", \"\\u043f\\u044b\\u0442\\u0430\\u0442\\u044c\\u0441\\u044f\", \"\\u043f\\u044b\\u0442\\u0430\\u0442\\u044c\\u0441\\u044f\", \"\\u043f\\u044b\\u0442\\u0430\\u0442\\u044c\\u0441\\u044f\", \"\\u043f\\u044b\\u0442\\u0430\\u0442\\u044c\\u0441\\u044f\", \"\\u043f\\u044b\\u0442\\u0430\\u0442\\u044c\\u0441\\u044f\", \"\\u043f\\u044b\\u0442\\u0430\\u0442\\u044c\\u0441\\u044f\", \"\\u043f\\u044b\\u0442\\u0430\\u0442\\u044c\\u0441\\u044f\", \"\\u043f\\u044b\\u0442\\u0430\\u0442\\u044c\\u0441\\u044f\", \"\\u0440\\u0430\\u0437\\u043b\\u0438\\u0447\\u043d\\u044b\\u0439\", \"\\u0440\\u0430\\u0437\\u043b\\u0438\\u0447\\u043d\\u044b\\u0439\", \"\\u0440\\u0430\\u0437\\u043b\\u0438\\u0447\\u043d\\u044b\\u0439\", \"\\u0440\\u0430\\u0437\\u043b\\u0438\\u0447\\u043d\\u044b\\u0439\", \"\\u0440\\u0430\\u0437\\u043b\\u0438\\u0447\\u043d\\u044b\\u0439\", \"\\u0440\\u0430\\u0437\\u043b\\u0438\\u0447\\u043d\\u044b\\u0439\", \"\\u0440\\u0430\\u0437\\u043b\\u0438\\u0447\\u043d\\u044b\\u0439\", \"\\u0440\\u0430\\u0437\\u043b\\u0438\\u0447\\u043d\\u044b\\u0439\", \"\\u0440\\u0430\\u0437\\u043b\\u0438\\u0447\\u043d\\u044b\\u0439\", \"\\u0440\\u0430\\u0437\\u043b\\u0438\\u0447\\u043d\\u044b\\u0439\", \"\\u0440\\u0430\\u0437\\u043d\\u0438\\u0446\\u0430\", \"\\u0440\\u0430\\u0437\\u043d\\u0438\\u0446\\u0430\", \"\\u0440\\u0430\\u0437\\u043d\\u0438\\u0446\\u0430\", \"\\u0440\\u0430\\u0437\\u043d\\u0438\\u0446\\u0430\", \"\\u0440\\u0430\\u0437\\u043d\\u0438\\u0446\\u0430\", \"\\u0440\\u0430\\u0437\\u043d\\u0438\\u0446\\u0430\", \"\\u0440\\u0430\\u0437\\u043d\\u0438\\u0446\\u0430\", \"\\u0440\\u0430\\u0437\\u043d\\u0438\\u0446\\u0430\", \"\\u0440\\u0430\\u0437\\u043d\\u0438\\u0446\\u0430\", \"\\u0440\\u0430\\u0437\\u043d\\u0438\\u0446\\u0430\", \"\\u0440\\u0430\\u0437\\u043d\\u0438\\u0446\\u0430\", \"\\u0440\\u0430\\u0437\\u043d\\u0438\\u0446\\u0430\", \"\\u0440\\u0430\\u0441\\u043a\\u043b\\u0435\\u0439\\u043a\\u0430\", \"\\u0440\\u0430\\u0441\\u043a\\u043b\\u0435\\u0439\\u043a\\u0430\", \"\\u0440\\u0430\\u0441\\u043a\\u043b\\u0435\\u0439\\u043a\\u0430\", \"\\u0440\\u0430\\u0441\\u043a\\u043b\\u0435\\u0439\\u043a\\u0430\", \"\\u0440\\u0430\\u0441\\u043a\\u043b\\u0435\\u0439\\u043a\\u0430\", \"\\u0440\\u0430\\u0441\\u043a\\u043b\\u0435\\u0439\\u043a\\u0430\", \"\\u0440\\u0430\\u0441\\u043a\\u043b\\u0435\\u0439\\u043a\\u0430\", \"\\u0440\\u0430\\u0441\\u043a\\u043b\\u0435\\u0439\\u043a\\u0430\", \"\\u0440\\u0430\\u0441\\u043a\\u043b\\u0435\\u0439\\u043a\\u0430\", \"\\u0440\\u0430\\u0441\\u043a\\u043b\\u0435\\u0439\\u043a\\u0430\", \"\\u0440\\u0430\\u0441\\u0442\\u043e\\u0440\\u0436\\u0435\\u043d\\u0438\\u0435\", \"\\u0440\\u0430\\u0441\\u0442\\u043e\\u0440\\u0436\\u0435\\u043d\\u0438\\u0435\", \"\\u0440\\u0430\\u0441\\u0442\\u043e\\u0440\\u0436\\u0435\\u043d\\u0438\\u0435\", \"\\u0440\\u0430\\u0441\\u0442\\u043e\\u0440\\u0436\\u0435\\u043d\\u0438\\u0435\", \"\\u0440\\u0430\\u0441\\u0442\\u043e\\u0440\\u0436\\u0435\\u043d\\u0438\\u0435\", \"\\u0440\\u0430\\u0441\\u0442\\u043e\\u0440\\u0436\\u0435\\u043d\\u0438\\u0435\", \"\\u0440\\u0430\\u0441\\u0442\\u043e\\u0440\\u0436\\u0435\\u043d\\u0438\\u0435\", \"\\u0440\\u0430\\u0441\\u0442\\u043e\\u0440\\u0436\\u0435\\u043d\\u0438\\u0435\", \"\\u0440\\u0430\\u0441\\u0442\\u043e\\u0440\\u0436\\u0435\\u043d\\u0438\\u0435\", \"\\u0440\\u0430\\u0441\\u0442\\u043e\\u0440\\u0436\\u0435\\u043d\\u0438\\u0435\", \"\\u0440\\u0430\\u0441\\u0442\\u043e\\u0440\\u0436\\u0435\\u043d\\u0438\\u0435\", \"\\u0440\\u0430\\u0441\\u0445\\u043e\\u0434\", \"\\u0440\\u0430\\u0441\\u0445\\u043e\\u0434\", \"\\u0440\\u0430\\u0441\\u0445\\u043e\\u0434\", \"\\u0440\\u0430\\u0441\\u0445\\u043e\\u0434\", \"\\u0440\\u0430\\u0441\\u0445\\u043e\\u0434\", \"\\u0440\\u0430\\u0441\\u0445\\u043e\\u0434\", \"\\u0440\\u0430\\u0441\\u0445\\u043e\\u0434\", \"\\u0440\\u0430\\u0441\\u0445\\u043e\\u0434\", \"\\u0440\\u0430\\u0441\\u0445\\u043e\\u0434\", \"\\u0440\\u0430\\u0441\\u0445\\u043e\\u0434\", \"\\u0440\\u0430\\u0441\\u0445\\u043e\\u0434\", \"\\u0440\\u0435\\u0432\\u0430\\u043a\\u0446\\u0438\\u043d\\u0438\\u0440\\u043e\\u0432\\u0430\\u0442\\u044c\", \"\\u0440\\u0435\\u0432\\u0430\\u043a\\u0446\\u0438\\u043d\\u0438\\u0440\\u043e\\u0432\\u0430\\u0442\\u044c\", \"\\u0440\\u0435\\u0432\\u0430\\u043a\\u0446\\u0438\\u043d\\u0438\\u0440\\u043e\\u0432\\u0430\\u0442\\u044c\", \"\\u0440\\u0435\\u0432\\u0430\\u043a\\u0446\\u0438\\u043d\\u0438\\u0440\\u043e\\u0432\\u0430\\u0442\\u044c\", \"\\u0440\\u0435\\u0432\\u0430\\u043a\\u0446\\u0438\\u043d\\u0438\\u0440\\u043e\\u0432\\u0430\\u0442\\u044c\", \"\\u0440\\u0435\\u0432\\u0430\\u043a\\u0446\\u0438\\u043d\\u0438\\u0440\\u043e\\u0432\\u0430\\u0442\\u044c\", \"\\u0440\\u0435\\u0432\\u0430\\u043a\\u0446\\u0438\\u043d\\u0438\\u0440\\u043e\\u0432\\u0430\\u0442\\u044c\", \"\\u0440\\u0435\\u0432\\u0430\\u043a\\u0446\\u0438\\u043d\\u0438\\u0440\\u043e\\u0432\\u0430\\u0442\\u044c\", \"\\u0440\\u0435\\u0432\\u0430\\u043a\\u0446\\u0438\\u043d\\u0438\\u0440\\u043e\\u0432\\u0430\\u0442\\u044c\", \"\\u0440\\u0435\\u0432\\u0430\\u043a\\u0446\\u0438\\u043d\\u0438\\u0440\\u043e\\u0432\\u0430\\u0442\\u044c\", \"\\u0440\\u0435\\u043c\\u043e\\u043d\\u0442\", \"\\u0440\\u0435\\u043c\\u043e\\u043d\\u0442\", \"\\u0440\\u0435\\u043c\\u043e\\u043d\\u0442\", \"\\u0440\\u0435\\u043c\\u043e\\u043d\\u0442\", \"\\u0440\\u0435\\u043c\\u043e\\u043d\\u0442\", \"\\u0440\\u0435\\u043c\\u043e\\u043d\\u0442\", \"\\u0440\\u0435\\u043c\\u043e\\u043d\\u0442\", \"\\u0440\\u0435\\u043c\\u043e\\u043d\\u0442\", \"\\u0440\\u0435\\u043c\\u043e\\u043d\\u0442\", \"\\u0440\\u0435\\u043c\\u043e\\u043d\\u0442\", \"\\u0440\\u0435\\u043c\\u043e\\u043d\\u0442\", \"\\u0440\\u0435\\u0448\\u0430\\u0442\\u044c\", \"\\u0440\\u0435\\u0448\\u0430\\u0442\\u044c\", \"\\u0440\\u0435\\u0448\\u0430\\u0442\\u044c\", \"\\u0440\\u0435\\u0448\\u0430\\u0442\\u044c\", \"\\u0440\\u0435\\u0448\\u0430\\u0442\\u044c\", \"\\u0440\\u0435\\u0448\\u0430\\u0442\\u044c\", \"\\u0440\\u0435\\u0448\\u0430\\u0442\\u044c\", \"\\u0440\\u0435\\u0448\\u0430\\u0442\\u044c\", \"\\u0440\\u0435\\u0448\\u0430\\u0442\\u044c\", \"\\u0440\\u0435\\u0448\\u0430\\u0442\\u044c\", \"\\u0440\\u0435\\u0448\\u0430\\u0442\\u044c\", \"\\u0440\\u0443\\u0431\", \"\\u0440\\u0443\\u0431\", \"\\u0440\\u0443\\u0431\", \"\\u0440\\u0443\\u0431\", \"\\u0440\\u0443\\u0431\", \"\\u0440\\u0443\\u0431\", \"\\u0440\\u0443\\u0431\", \"\\u0440\\u0443\\u0431\", \"\\u0440\\u0443\\u0431\", \"\\u0440\\u0443\\u0431\", \"\\u0440\\u0444\", \"\\u0440\\u0444\", \"\\u0440\\u0444\", \"\\u0440\\u0444\", \"\\u0440\\u0444\", \"\\u0440\\u0444\", \"\\u0440\\u0444\", \"\\u0440\\u0444\", \"\\u0440\\u0444\", \"\\u0440\\u0444\", \"\\u0440\\u044e\\u043a\\u0437\\u0430\\u043a\", \"\\u0440\\u044e\\u043a\\u0437\\u0430\\u043a\", \"\\u0440\\u044e\\u043a\\u0437\\u0430\\u043a\", \"\\u0440\\u044e\\u043a\\u0437\\u0430\\u043a\", \"\\u0440\\u044e\\u043a\\u0437\\u0430\\u043a\", \"\\u0440\\u044e\\u043a\\u0437\\u0430\\u043a\", \"\\u0440\\u044e\\u043a\\u0437\\u0430\\u043a\", \"\\u0440\\u044e\\u043a\\u0437\\u0430\\u043a\", \"\\u0440\\u044e\\u043a\\u0437\\u0430\\u043a\", \"\\u0440\\u044e\\u043a\\u0437\\u0430\\u043a\", \"\\u0441\\u0430\\u0439\\u0442\", \"\\u0441\\u0430\\u0439\\u0442\", \"\\u0441\\u0430\\u0439\\u0442\", \"\\u0441\\u0430\\u0439\\u0442\", \"\\u0441\\u0430\\u0439\\u0442\", \"\\u0441\\u0430\\u0439\\u0442\", \"\\u0441\\u0430\\u0439\\u0442\", \"\\u0441\\u0430\\u0439\\u0442\", \"\\u0441\\u0430\\u0439\\u0442\", \"\\u0441\\u0430\\u0439\\u0442\", \"\\u0441\\u0432\\u043e\\u0439\", \"\\u0441\\u0432\\u043e\\u0439\", \"\\u0441\\u0432\\u043e\\u0439\", \"\\u0441\\u0432\\u043e\\u0439\", \"\\u0441\\u0432\\u043e\\u0439\", \"\\u0441\\u0432\\u043e\\u0439\", \"\\u0441\\u0432\\u043e\\u0439\", \"\\u0441\\u0432\\u043e\\u0439\", \"\\u0441\\u0432\\u043e\\u0439\", \"\\u0441\\u0432\\u043e\\u0439\", \"\\u0441\\u0432\\u043e\\u0439\", \"\\u0441\\u0434\\u0435\\u043b\\u0430\\u0442\\u044c\", \"\\u0441\\u0434\\u0435\\u043b\\u0430\\u0442\\u044c\", \"\\u0441\\u0434\\u0435\\u043b\\u0430\\u0442\\u044c\", \"\\u0441\\u0434\\u0435\\u043b\\u0430\\u0442\\u044c\", \"\\u0441\\u0434\\u0435\\u043b\\u0430\\u0442\\u044c\", \"\\u0441\\u0434\\u0435\\u043b\\u0430\\u0442\\u044c\", \"\\u0441\\u0434\\u0435\\u043b\\u0430\\u0442\\u044c\", \"\\u0441\\u0434\\u0435\\u043b\\u0430\\u0442\\u044c\", \"\\u0441\\u0434\\u0435\\u043b\\u0430\\u0442\\u044c\", \"\\u0441\\u0434\\u0435\\u043b\\u0430\\u0442\\u044c\", \"\\u0441\\u0434\\u0435\\u043b\\u0430\\u0442\\u044c\", \"\\u0441\\u0435\\u0440\\u0432\\u0438\\u0441\", \"\\u0441\\u0435\\u0440\\u0432\\u0438\\u0441\", \"\\u0441\\u0435\\u0440\\u0432\\u0438\\u0441\", \"\\u0441\\u0435\\u0440\\u0432\\u0438\\u0441\", \"\\u0441\\u0435\\u0440\\u0432\\u0438\\u0441\", \"\\u0441\\u0435\\u0440\\u0432\\u0438\\u0441\", \"\\u0441\\u0435\\u0440\\u0432\\u0438\\u0441\", \"\\u0441\\u0435\\u0440\\u0432\\u0438\\u0441\", \"\\u0441\\u0435\\u0440\\u0432\\u0438\\u0441\", \"\\u0441\\u0435\\u0440\\u0432\\u0438\\u0441\", \"\\u0441\\u0435\\u0440\\u0432\\u0438\\u0441\", \"\\u0441\\u0435\\u0440\\u0442\\u0438\\u0444\\u0438\\u043a\\u0430\\u0442\", \"\\u0441\\u0435\\u0440\\u0442\\u0438\\u0444\\u0438\\u043a\\u0430\\u0442\", \"\\u0441\\u0435\\u0440\\u0442\\u0438\\u0444\\u0438\\u043a\\u0430\\u0442\", \"\\u0441\\u0435\\u0440\\u0442\\u0438\\u0444\\u0438\\u043a\\u0430\\u0442\", \"\\u0441\\u0435\\u0440\\u0442\\u0438\\u0444\\u0438\\u043a\\u0430\\u0442\", \"\\u0441\\u0435\\u0440\\u0442\\u0438\\u0444\\u0438\\u043a\\u0430\\u0442\", \"\\u0441\\u0435\\u0440\\u0442\\u0438\\u0444\\u0438\\u043a\\u0430\\u0442\", \"\\u0441\\u0435\\u0440\\u0442\\u0438\\u0444\\u0438\\u043a\\u0430\\u0442\", \"\\u0441\\u0435\\u0440\\u0442\\u0438\\u0444\\u0438\\u043a\\u0430\\u0442\", \"\\u0441\\u0435\\u0440\\u0442\\u0438\\u0444\\u0438\\u043a\\u0430\\u0442\", \"\\u0441\\u0435\\u0440\\u0442\\u0438\\u0444\\u0438\\u043a\\u0430\\u0442\", \"\\u0441\\u0435\\u0440\\u0442\\u0438\\u0444\\u0438\\u043a\\u0430\\u0442\", \"\\u0441\\u0438\\u043b\\u0430\", \"\\u0441\\u0438\\u043b\\u0430\", \"\\u0441\\u0438\\u043b\\u0430\", \"\\u0441\\u0438\\u043b\\u0430\", \"\\u0441\\u0438\\u043b\\u0430\", \"\\u0441\\u0438\\u043b\\u0430\", \"\\u0441\\u0438\\u043b\\u0430\", \"\\u0441\\u0438\\u043b\\u0430\", \"\\u0441\\u0438\\u043b\\u0430\", \"\\u0441\\u0438\\u043b\\u0430\", \"\\u0441\\u0438\\u043b\\u0430\", \"\\u0441\\u043a\\u0430\\u0436\\u0438\\u0442\\u0435\\u043f\\u043e\\u0436\\u0430\\u043b\\u0443\\u0439\\u0441\\u0442\\u0430\\u043f\\u0440\\u0430\\u0432\\u043e\\u043c\\u0435\\u0440\\u043d\\u044b\\u0439\", \"\\u0441\\u043a\\u0430\\u0436\\u0438\\u0442\\u0435\\u043f\\u043e\\u0436\\u0430\\u043b\\u0443\\u0439\\u0441\\u0442\\u0430\\u043f\\u0440\\u0430\\u0432\\u043e\\u043c\\u0435\\u0440\\u043d\\u044b\\u0439\", \"\\u0441\\u043a\\u0430\\u0436\\u0438\\u0442\\u0435\\u043f\\u043e\\u0436\\u0430\\u043b\\u0443\\u0439\\u0441\\u0442\\u0430\\u043f\\u0440\\u0430\\u0432\\u043e\\u043c\\u0435\\u0440\\u043d\\u044b\\u0439\", \"\\u0441\\u043a\\u0430\\u0436\\u0438\\u0442\\u0435\\u043f\\u043e\\u0436\\u0430\\u043b\\u0443\\u0439\\u0441\\u0442\\u0430\\u043f\\u0440\\u0430\\u0432\\u043e\\u043c\\u0435\\u0440\\u043d\\u044b\\u0439\", \"\\u0441\\u043a\\u0430\\u0436\\u0438\\u0442\\u0435\\u043f\\u043e\\u0436\\u0430\\u043b\\u0443\\u0439\\u0441\\u0442\\u0430\\u043f\\u0440\\u0430\\u0432\\u043e\\u043c\\u0435\\u0440\\u043d\\u044b\\u0439\", \"\\u0441\\u043a\\u0430\\u0436\\u0438\\u0442\\u0435\\u043f\\u043e\\u0436\\u0430\\u043b\\u0443\\u0439\\u0441\\u0442\\u0430\\u043f\\u0440\\u0430\\u0432\\u043e\\u043c\\u0435\\u0440\\u043d\\u044b\\u0439\", \"\\u0441\\u043a\\u0430\\u0436\\u0438\\u0442\\u0435\\u043f\\u043e\\u0436\\u0430\\u043b\\u0443\\u0439\\u0441\\u0442\\u0430\\u043f\\u0440\\u0430\\u0432\\u043e\\u043c\\u0435\\u0440\\u043d\\u044b\\u0439\", \"\\u0441\\u043a\\u0430\\u0436\\u0438\\u0442\\u0435\\u043f\\u043e\\u0436\\u0430\\u043b\\u0443\\u0439\\u0441\\u0442\\u0430\\u043f\\u0440\\u0430\\u0432\\u043e\\u043c\\u0435\\u0440\\u043d\\u044b\\u0439\", \"\\u0441\\u043a\\u0430\\u0436\\u0438\\u0442\\u0435\\u043f\\u043e\\u0436\\u0430\\u043b\\u0443\\u0439\\u0441\\u0442\\u0430\\u043f\\u0440\\u0430\\u0432\\u043e\\u043c\\u0435\\u0440\\u043d\\u044b\\u0439\", \"\\u0441\\u043a\\u0430\\u0436\\u0438\\u0442\\u0435\\u043f\\u043e\\u0436\\u0430\\u043b\\u0443\\u0439\\u0441\\u0442\\u0430\\u043f\\u0440\\u0430\\u0432\\u043e\\u043c\\u0435\\u0440\\u043d\\u044b\\u0439\", \"\\u0441\\u043a\\u0430\\u0437\\u0430\\u0442\\u044c\", \"\\u0441\\u043a\\u0430\\u0437\\u0430\\u0442\\u044c\", \"\\u0441\\u043a\\u0430\\u0437\\u0430\\u0442\\u044c\", \"\\u0441\\u043a\\u0430\\u0437\\u0430\\u0442\\u044c\", \"\\u0441\\u043a\\u0430\\u0437\\u0430\\u0442\\u044c\", \"\\u0441\\u043a\\u0430\\u0437\\u0430\\u0442\\u044c\", \"\\u0441\\u043a\\u0430\\u0437\\u0430\\u0442\\u044c\", \"\\u0441\\u043a\\u0430\\u0437\\u0430\\u0442\\u044c\", \"\\u0441\\u043a\\u0430\\u0437\\u0430\\u0442\\u044c\", \"\\u0441\\u043a\\u0430\\u0437\\u0430\\u0442\\u044c\", \"\\u0441\\u043a\\u043e\\u043b\\u044c\\u043a\\u043e\", \"\\u0441\\u043a\\u043e\\u043b\\u044c\\u043a\\u043e\", \"\\u0441\\u043a\\u043e\\u043b\\u044c\\u043a\\u043e\", \"\\u0441\\u043a\\u043e\\u043b\\u044c\\u043a\\u043e\", \"\\u0441\\u043a\\u043e\\u043b\\u044c\\u043a\\u043e\", \"\\u0441\\u043a\\u043e\\u043b\\u044c\\u043a\\u043e\", \"\\u0441\\u043a\\u043e\\u043b\\u044c\\u043a\\u043e\", \"\\u0441\\u043a\\u043e\\u043b\\u044c\\u043a\\u043e\", \"\\u0441\\u043a\\u043e\\u043b\\u044c\\u043a\\u043e\", \"\\u0441\\u043a\\u043e\\u043b\\u044c\\u043a\\u043e\", \"\\u0441\\u043b\\u043e\\u043c\\u0430\\u0442\\u044c\", \"\\u0441\\u043b\\u043e\\u043c\\u0430\\u0442\\u044c\", \"\\u0441\\u043b\\u043e\\u043c\\u0430\\u0442\\u044c\", \"\\u0441\\u043b\\u043e\\u043c\\u0430\\u0442\\u044c\", \"\\u0441\\u043b\\u043e\\u043c\\u0430\\u0442\\u044c\", \"\\u0441\\u043b\\u043e\\u043c\\u0430\\u0442\\u044c\", \"\\u0441\\u043b\\u043e\\u043c\\u0430\\u0442\\u044c\", \"\\u0441\\u043b\\u043e\\u043c\\u0430\\u0442\\u044c\", \"\\u0441\\u043b\\u043e\\u043c\\u0430\\u0442\\u044c\", \"\\u0441\\u043b\\u043e\\u043c\\u0430\\u0442\\u044c\", \"\\u0441\\u043b\\u043e\\u043c\\u0430\\u0442\\u044c\", \"\\u0441\\u043c\\u0430\\u0440\\u0442\\u0444\\u043e\\u043d\", \"\\u0441\\u043c\\u0430\\u0440\\u0442\\u0444\\u043e\\u043d\", \"\\u0441\\u043c\\u0430\\u0440\\u0442\\u0444\\u043e\\u043d\", \"\\u0441\\u043c\\u0430\\u0440\\u0442\\u0444\\u043e\\u043d\", \"\\u0441\\u043c\\u0430\\u0440\\u0442\\u0444\\u043e\\u043d\", \"\\u0441\\u043c\\u0430\\u0440\\u0442\\u0444\\u043e\\u043d\", \"\\u0441\\u043c\\u0430\\u0440\\u0442\\u0444\\u043e\\u043d\", \"\\u0441\\u043c\\u0430\\u0440\\u0442\\u0444\\u043e\\u043d\", \"\\u0441\\u043c\\u0430\\u0440\\u0442\\u0444\\u043e\\u043d\", \"\\u0441\\u043c\\u0430\\u0440\\u0442\\u0444\\u043e\\u043d\", \"\\u0441\\u043c\\u0430\\u0440\\u0442\\u0444\\u043e\\u043d\", \"\\u0441\\u043e\\u0441\\u0442\\u043e\\u044f\\u043d\\u0438\\u0435\", \"\\u0441\\u043e\\u0441\\u0442\\u043e\\u044f\\u043d\\u0438\\u0435\", \"\\u0441\\u043e\\u0441\\u0442\\u043e\\u044f\\u043d\\u0438\\u0435\", \"\\u0441\\u043e\\u0441\\u0442\\u043e\\u044f\\u043d\\u0438\\u0435\", \"\\u0441\\u043e\\u0441\\u0442\\u043e\\u044f\\u043d\\u0438\\u0435\", \"\\u0441\\u043e\\u0441\\u0442\\u043e\\u044f\\u043d\\u0438\\u0435\", \"\\u0441\\u043e\\u0441\\u0442\\u043e\\u044f\\u043d\\u0438\\u0435\", \"\\u0441\\u043e\\u0441\\u0442\\u043e\\u044f\\u043d\\u0438\\u0435\", \"\\u0441\\u043e\\u0441\\u0442\\u043e\\u044f\\u043d\\u0438\\u0435\", \"\\u0441\\u043e\\u0441\\u0442\\u043e\\u044f\\u043d\\u0438\\u0435\", \"\\u0441\\u043e\\u0441\\u0442\\u043e\\u044f\\u043d\\u0438\\u0435\", \"\\u0441\\u043f\\u0435\\u0446\\u0438\\u0430\\u043b\\u0438\\u0441\\u0442\", \"\\u0441\\u043f\\u0435\\u0446\\u0438\\u0430\\u043b\\u0438\\u0441\\u0442\", \"\\u0441\\u043f\\u0435\\u0446\\u0438\\u0430\\u043b\\u0438\\u0441\\u0442\", \"\\u0441\\u043f\\u0435\\u0446\\u0438\\u0430\\u043b\\u0438\\u0441\\u0442\", \"\\u0441\\u043f\\u0435\\u0446\\u0438\\u0430\\u043b\\u0438\\u0441\\u0442\", \"\\u0441\\u043f\\u0435\\u0446\\u0438\\u0430\\u043b\\u0438\\u0441\\u0442\", \"\\u0441\\u043f\\u0435\\u0446\\u0438\\u0430\\u043b\\u0438\\u0441\\u0442\", \"\\u0441\\u043f\\u0435\\u0446\\u0438\\u0430\\u043b\\u0438\\u0441\\u0442\", \"\\u0441\\u043f\\u0435\\u0446\\u0438\\u0430\\u043b\\u0438\\u0441\\u0442\", \"\\u0441\\u043f\\u0435\\u0446\\u0438\\u0430\\u043b\\u0438\\u0441\\u0442\", \"\\u0441\\u043f\\u0438\\u0441\\u0430\\u0442\\u044c\", \"\\u0441\\u043f\\u0438\\u0441\\u0430\\u0442\\u044c\", \"\\u0441\\u043f\\u0438\\u0441\\u0430\\u0442\\u044c\", \"\\u0441\\u043f\\u0438\\u0441\\u0430\\u0442\\u044c\", \"\\u0441\\u043f\\u0438\\u0441\\u0430\\u0442\\u044c\", \"\\u0441\\u043f\\u0438\\u0441\\u0430\\u0442\\u044c\", \"\\u0441\\u043f\\u0438\\u0441\\u0430\\u0442\\u044c\", \"\\u0441\\u043f\\u0438\\u0441\\u0430\\u0442\\u044c\", \"\\u0441\\u043f\\u0438\\u0441\\u0430\\u0442\\u044c\", \"\\u0441\\u043f\\u0438\\u0441\\u0430\\u0442\\u044c\", \"\\u0441\\u043f\\u0443\\u0441\\u0442\\u044f\", \"\\u0441\\u043f\\u0443\\u0441\\u0442\\u044f\", \"\\u0441\\u043f\\u0443\\u0441\\u0442\\u044f\", \"\\u0441\\u043f\\u0443\\u0441\\u0442\\u044f\", \"\\u0441\\u043f\\u0443\\u0441\\u0442\\u044f\", \"\\u0441\\u043f\\u0443\\u0441\\u0442\\u044f\", \"\\u0441\\u043f\\u0443\\u0441\\u0442\\u044f\", \"\\u0441\\u043f\\u0443\\u0441\\u0442\\u044f\", \"\\u0441\\u043f\\u0443\\u0441\\u0442\\u044f\", \"\\u0441\\u043f\\u0443\\u0441\\u0442\\u044f\", \"\\u0441\\u043f\\u0443\\u0441\\u0442\\u044f\", \"\\u0441\\u0440\\u0430\\u0437\\u0443\", \"\\u0441\\u0440\\u0430\\u0437\\u0443\", \"\\u0441\\u0440\\u0430\\u0437\\u0443\", \"\\u0441\\u0440\\u0430\\u0437\\u0443\", \"\\u0441\\u0440\\u0430\\u0437\\u0443\", \"\\u0441\\u0440\\u0430\\u0437\\u0443\", \"\\u0441\\u0440\\u0430\\u0437\\u0443\", \"\\u0441\\u0440\\u0430\\u0437\\u0443\", \"\\u0441\\u0440\\u0430\\u0437\\u0443\", \"\\u0441\\u0440\\u0430\\u0437\\u0443\", \"\\u0441\\u0441\\u044b\\u043b\\u0430\\u0442\\u044c\\u0441\\u044f\", \"\\u0441\\u0441\\u044b\\u043b\\u0430\\u0442\\u044c\\u0441\\u044f\", \"\\u0441\\u0441\\u044b\\u043b\\u0430\\u0442\\u044c\\u0441\\u044f\", \"\\u0441\\u0441\\u044b\\u043b\\u0430\\u0442\\u044c\\u0441\\u044f\", \"\\u0441\\u0441\\u044b\\u043b\\u0430\\u0442\\u044c\\u0441\\u044f\", \"\\u0441\\u0441\\u044b\\u043b\\u0430\\u0442\\u044c\\u0441\\u044f\", \"\\u0441\\u0441\\u044b\\u043b\\u0430\\u0442\\u044c\\u0441\\u044f\", \"\\u0441\\u0441\\u044b\\u043b\\u0430\\u0442\\u044c\\u0441\\u044f\", \"\\u0441\\u0441\\u044b\\u043b\\u0430\\u0442\\u044c\\u0441\\u044f\", \"\\u0441\\u0441\\u044b\\u043b\\u0430\\u0442\\u044c\\u0441\\u044f\", \"\\u0441\\u0441\\u044b\\u043b\\u0430\\u0442\\u044c\\u0441\\u044f\", \"\\u0441\\u0441\\u044b\\u043b\\u043a\\u0430\", \"\\u0441\\u0441\\u044b\\u043b\\u043a\\u0430\", \"\\u0441\\u0441\\u044b\\u043b\\u043a\\u0430\", \"\\u0441\\u0441\\u044b\\u043b\\u043a\\u0430\", \"\\u0441\\u0441\\u044b\\u043b\\u043a\\u0430\", \"\\u0441\\u0441\\u044b\\u043b\\u043a\\u0430\", \"\\u0441\\u0441\\u044b\\u043b\\u043a\\u0430\", \"\\u0441\\u0441\\u044b\\u043b\\u043a\\u0430\", \"\\u0441\\u0441\\u044b\\u043b\\u043a\\u0430\", \"\\u0441\\u0441\\u044b\\u043b\\u043a\\u0430\", \"\\u0441\\u0442\\u043e\\u0438\\u043c\\u043e\\u0441\\u0442\\u044c\", \"\\u0441\\u0442\\u043e\\u0438\\u043c\\u043e\\u0441\\u0442\\u044c\", \"\\u0441\\u0442\\u043e\\u0438\\u043c\\u043e\\u0441\\u0442\\u044c\", \"\\u0441\\u0442\\u043e\\u0438\\u043c\\u043e\\u0441\\u0442\\u044c\", \"\\u0441\\u0442\\u043e\\u0438\\u043c\\u043e\\u0441\\u0442\\u044c\", \"\\u0441\\u0442\\u043e\\u0438\\u043c\\u043e\\u0441\\u0442\\u044c\", \"\\u0441\\u0442\\u043e\\u0438\\u043c\\u043e\\u0441\\u0442\\u044c\", \"\\u0441\\u0442\\u043e\\u0438\\u043c\\u043e\\u0441\\u0442\\u044c\", \"\\u0441\\u0442\\u043e\\u0438\\u043c\\u043e\\u0441\\u0442\\u044c\", \"\\u0441\\u0442\\u043e\\u0438\\u043c\\u043e\\u0441\\u0442\\u044c\", \"\\u0441\\u0442\\u043e\\u0438\\u043c\\u043e\\u0441\\u0442\\u044c\", \"\\u0441\\u0442\\u0440\\u0430\\u043d\\u0438\\u0446\\u0430\", \"\\u0441\\u0442\\u0440\\u0430\\u043d\\u0438\\u0446\\u0430\", \"\\u0441\\u0442\\u0440\\u0430\\u043d\\u0438\\u0446\\u0430\", \"\\u0441\\u0442\\u0440\\u0430\\u043d\\u0438\\u0446\\u0430\", \"\\u0441\\u0442\\u0440\\u0430\\u043d\\u0438\\u0446\\u0430\", \"\\u0441\\u0442\\u0440\\u0430\\u043d\\u0438\\u0446\\u0430\", \"\\u0441\\u0442\\u0440\\u0430\\u043d\\u0438\\u0446\\u0430\", \"\\u0441\\u0442\\u0440\\u0430\\u043d\\u0438\\u0446\\u0430\", \"\\u0441\\u0442\\u0440\\u0430\\u043d\\u0438\\u0446\\u0430\", \"\\u0441\\u0442\\u0440\\u0430\\u043d\\u0438\\u0446\\u0430\", \"\\u0441\\u0442\\u0440\\u0430\\u043d\\u0438\\u0446\\u0430\", \"\\u0441\\u0443\\u043c\\u043c\\u0430\", \"\\u0441\\u0443\\u043c\\u043c\\u0430\", \"\\u0441\\u0443\\u043c\\u043c\\u0430\", \"\\u0441\\u0443\\u043c\\u043c\\u0430\", \"\\u0441\\u0443\\u043c\\u043c\\u0430\", \"\\u0441\\u0443\\u043c\\u043c\\u0430\", \"\\u0441\\u0443\\u043c\\u043c\\u0430\", \"\\u0441\\u0443\\u043c\\u043c\\u0430\", \"\\u0441\\u0443\\u043c\\u043c\\u0430\", \"\\u0441\\u0443\\u043c\\u043c\\u0430\", \"\\u0442\\u0435\\u043b\\u0435\\u0444\\u043e\\u043d\", \"\\u0442\\u0435\\u043b\\u0435\\u0444\\u043e\\u043d\", \"\\u0442\\u0435\\u043b\\u0435\\u0444\\u043e\\u043d\", \"\\u0442\\u0435\\u043b\\u0435\\u0444\\u043e\\u043d\", \"\\u0442\\u0435\\u043b\\u0435\\u0444\\u043e\\u043d\", \"\\u0442\\u0435\\u043b\\u0435\\u0444\\u043e\\u043d\", \"\\u0442\\u0435\\u043b\\u0435\\u0444\\u043e\\u043d\", \"\\u0442\\u0435\\u043b\\u0435\\u0444\\u043e\\u043d\", \"\\u0442\\u0435\\u043b\\u0435\\u0444\\u043e\\u043d\", \"\\u0442\\u0435\\u043b\\u0435\\u0444\\u043e\\u043d\", \"\\u0442\\u0435\\u043b\\u0435\\u0444\\u043e\\u043d\", \"\\u0442\\u043a\", \"\\u0442\\u043a\", \"\\u0442\\u043a\", \"\\u0442\\u043a\", \"\\u0442\\u043a\", \"\\u0442\\u043a\", \"\\u0442\\u043a\", \"\\u0442\\u043a\", \"\\u0442\\u043a\", \"\\u0442\\u043a\", \"\\u0442\\u043a\", \"\\u0442\\u043e\\u0432\\u0430\\u0440\", \"\\u0442\\u043e\\u0432\\u0430\\u0440\", \"\\u0442\\u043e\\u0432\\u0430\\u0440\", \"\\u0442\\u043e\\u0432\\u0430\\u0440\", \"\\u0442\\u043e\\u0432\\u0430\\u0440\", \"\\u0442\\u043e\\u0432\\u0430\\u0440\", \"\\u0442\\u043e\\u0432\\u0430\\u0440\", \"\\u0442\\u043e\\u0432\\u0430\\u0440\", \"\\u0442\\u043e\\u0432\\u0430\\u0440\", \"\\u0442\\u043e\\u0432\\u0430\\u0440\", \"\\u0442\\u043e\\u0432\\u0430\\u0440\", \"\\u0442\\u043e\\u0432\\u0430\\u0440\", \"\\u0442\\u043e\\u0432\\u0430\\u0440\", \"\\u0442\\u043e\\u0442\", \"\\u0442\\u043e\\u0442\", \"\\u0442\\u043e\\u0442\", \"\\u0442\\u043e\\u0442\", \"\\u0442\\u043e\\u0442\", \"\\u0442\\u043e\\u0442\", \"\\u0442\\u043e\\u0442\", \"\\u0442\\u043e\\u0442\", \"\\u0442\\u043e\\u0442\", \"\\u0442\\u043e\\u0442\", \"\\u0442\\u0443\\u0434\\u0430\\u0441\\u044e\\u0434\\u0430\", \"\\u0442\\u0443\\u0434\\u0430\\u0441\\u044e\\u0434\\u0430\", \"\\u0442\\u0443\\u0434\\u0430\\u0441\\u044e\\u0434\\u0430\", \"\\u0442\\u0443\\u0434\\u0430\\u0441\\u044e\\u0434\\u0430\", \"\\u0442\\u0443\\u0434\\u0430\\u0441\\u044e\\u0434\\u0430\", \"\\u0442\\u0443\\u0434\\u0430\\u0441\\u044e\\u0434\\u0430\", \"\\u0442\\u0443\\u0434\\u0430\\u0441\\u044e\\u0434\\u0430\", \"\\u0442\\u0443\\u0434\\u0430\\u0441\\u044e\\u0434\\u0430\", \"\\u0442\\u0443\\u0434\\u0430\\u0441\\u044e\\u0434\\u0430\", \"\\u0442\\u0443\\u0434\\u0430\\u0441\\u044e\\u0434\\u0430\", \"\\u0442\\u0443\\u0434\\u0430\\u0441\\u044e\\u0434\\u0430\", \"\\u0442\\u044b\\u0441\\u044f\\u0447\\u0430\", \"\\u0442\\u044b\\u0441\\u044f\\u0447\\u0430\", \"\\u0442\\u044b\\u0441\\u044f\\u0447\\u0430\", \"\\u0442\\u044b\\u0441\\u044f\\u0447\\u0430\", \"\\u0442\\u044b\\u0441\\u044f\\u0447\\u0430\", \"\\u0442\\u044b\\u0441\\u044f\\u0447\\u0430\", \"\\u0442\\u044b\\u0441\\u044f\\u0447\\u0430\", \"\\u0442\\u044b\\u0441\\u044f\\u0447\\u0430\", \"\\u0442\\u044b\\u0441\\u044f\\u0447\\u0430\", \"\\u0442\\u044b\\u0441\\u044f\\u0447\\u0430\", \"\\u0442\\u044b\\u0441\\u044f\\u0447\\u0430\", \"\\u0443\\u043a\\u0430\\u0437\\u0430\\u043d\\u0438\\u0435\", \"\\u0443\\u043a\\u0430\\u0437\\u0430\\u043d\\u0438\\u0435\", \"\\u0443\\u043a\\u0430\\u0437\\u0430\\u043d\\u0438\\u0435\", \"\\u0443\\u043a\\u0430\\u0437\\u0430\\u043d\\u0438\\u0435\", \"\\u0443\\u043a\\u0430\\u0437\\u0430\\u043d\\u0438\\u0435\", \"\\u0443\\u043a\\u0430\\u0437\\u0430\\u043d\\u0438\\u0435\", \"\\u0443\\u043a\\u0430\\u0437\\u0430\\u043d\\u0438\\u0435\", \"\\u0443\\u043a\\u0430\\u0437\\u0430\\u043d\\u0438\\u0435\", \"\\u0443\\u043a\\u0430\\u0437\\u0430\\u043d\\u0438\\u0435\", \"\\u0443\\u043a\\u0430\\u0437\\u0430\\u043d\\u0438\\u0435\", \"\\u0443\\u043a\\u0430\\u0437\\u0430\\u043d\\u0438\\u0435\", \"\\u0443\\u043a\\u0430\\u0437\\u0430\\u0442\\u044c\", \"\\u0443\\u043a\\u0430\\u0437\\u0430\\u0442\\u044c\", \"\\u0443\\u043a\\u0430\\u0437\\u0430\\u0442\\u044c\", \"\\u0443\\u043a\\u0430\\u0437\\u0430\\u0442\\u044c\", \"\\u0443\\u043a\\u0430\\u0437\\u0430\\u0442\\u044c\", \"\\u0443\\u043a\\u0430\\u0437\\u0430\\u0442\\u044c\", \"\\u0443\\u043a\\u0430\\u0437\\u0430\\u0442\\u044c\", \"\\u0443\\u043a\\u0430\\u0437\\u0430\\u0442\\u044c\", \"\\u0443\\u043a\\u0430\\u0437\\u0430\\u0442\\u044c\", \"\\u0443\\u043a\\u0430\\u0437\\u0430\\u0442\\u044c\", \"\\u0443\\u043a\\u0430\\u0437\\u0430\\u0442\\u044c\", \"\\u0443\\u043a\\u0430\\u0437\\u0430\\u0442\\u044c\", \"\\u0443\\u0441\\u0442\\u0440\\u0430\\u0438\\u0432\\u0430\\u0442\\u044c\", \"\\u0443\\u0441\\u0442\\u0440\\u0430\\u0438\\u0432\\u0430\\u0442\\u044c\", \"\\u0443\\u0441\\u0442\\u0440\\u0430\\u0438\\u0432\\u0430\\u0442\\u044c\", \"\\u0443\\u0441\\u0442\\u0440\\u0430\\u0438\\u0432\\u0430\\u0442\\u044c\", \"\\u0443\\u0441\\u0442\\u0440\\u0430\\u0438\\u0432\\u0430\\u0442\\u044c\", \"\\u0443\\u0441\\u0442\\u0440\\u0430\\u0438\\u0432\\u0430\\u0442\\u044c\", \"\\u0443\\u0441\\u0442\\u0440\\u0430\\u0438\\u0432\\u0430\\u0442\\u044c\", \"\\u0443\\u0441\\u0442\\u0440\\u0430\\u0438\\u0432\\u0430\\u0442\\u044c\", \"\\u0443\\u0441\\u0442\\u0440\\u0430\\u0438\\u0432\\u0430\\u0442\\u044c\", \"\\u0443\\u0441\\u0442\\u0440\\u0430\\u0438\\u0432\\u0430\\u0442\\u044c\", \"\\u0443\\u0441\\u0442\\u0440\\u0430\\u0438\\u0432\\u0430\\u0442\\u044c\", \"\\u0443\\u0442\\u0432\\u0435\\u0440\\u0436\\u0434\\u0430\\u0442\\u044c\", \"\\u0443\\u0442\\u0432\\u0435\\u0440\\u0436\\u0434\\u0430\\u0442\\u044c\", \"\\u0443\\u0442\\u0432\\u0435\\u0440\\u0436\\u0434\\u0430\\u0442\\u044c\", \"\\u0443\\u0442\\u0432\\u0435\\u0440\\u0436\\u0434\\u0430\\u0442\\u044c\", \"\\u0443\\u0442\\u0432\\u0435\\u0440\\u0436\\u0434\\u0430\\u0442\\u044c\", \"\\u0443\\u0442\\u0432\\u0435\\u0440\\u0436\\u0434\\u0430\\u0442\\u044c\", \"\\u0443\\u0442\\u0432\\u0435\\u0440\\u0436\\u0434\\u0430\\u0442\\u044c\", \"\\u0443\\u0442\\u0432\\u0435\\u0440\\u0436\\u0434\\u0430\\u0442\\u044c\", \"\\u0443\\u0442\\u0432\\u0435\\u0440\\u0436\\u0434\\u0430\\u0442\\u044c\", \"\\u0443\\u0442\\u0432\\u0435\\u0440\\u0436\\u0434\\u0430\\u0442\\u044c\", \"\\u0443\\u0446\\u0435\\u043d\\u043a\\u0430\", \"\\u0443\\u0446\\u0435\\u043d\\u043a\\u0430\", \"\\u0443\\u0446\\u0435\\u043d\\u043a\\u0430\", \"\\u0443\\u0446\\u0435\\u043d\\u043a\\u0430\", \"\\u0443\\u0446\\u0435\\u043d\\u043a\\u0430\", \"\\u0443\\u0446\\u0435\\u043d\\u043a\\u0430\", \"\\u0443\\u0446\\u0435\\u043d\\u043a\\u0430\", \"\\u0443\\u0446\\u0435\\u043d\\u043a\\u0430\", \"\\u0443\\u0446\\u0435\\u043d\\u043a\\u0430\", \"\\u0443\\u0446\\u0435\\u043d\\u043a\\u0430\", \"\\u0443\\u0446\\u0435\\u043d\\u043a\\u0430\", \"\\u0444\\u0437\", \"\\u0444\\u0437\", \"\\u0444\\u0437\", \"\\u0444\\u0437\", \"\\u0444\\u0437\", \"\\u0444\\u0437\", \"\\u0444\\u0437\", \"\\u0444\\u0437\", \"\\u0444\\u0437\", \"\\u0444\\u0437\", \"\\u0444\\u0438\\u0440\\u043c\\u0430\", \"\\u0444\\u0438\\u0440\\u043c\\u0430\", \"\\u0444\\u0438\\u0440\\u043c\\u0430\", \"\\u0444\\u0438\\u0440\\u043c\\u0430\", \"\\u0444\\u0438\\u0440\\u043c\\u0430\", \"\\u0444\\u0438\\u0440\\u043c\\u0430\", \"\\u0444\\u0438\\u0440\\u043c\\u0430\", \"\\u0444\\u0438\\u0440\\u043c\\u0430\", \"\\u0444\\u0438\\u0440\\u043c\\u0430\", \"\\u0444\\u0438\\u0440\\u043c\\u0430\", \"\\u0444\\u043e\\u0440\\u043c\\u0430\", \"\\u0444\\u043e\\u0440\\u043c\\u0430\", \"\\u0444\\u043e\\u0440\\u043c\\u0430\", \"\\u0444\\u043e\\u0440\\u043c\\u0430\", \"\\u0444\\u043e\\u0440\\u043c\\u0430\", \"\\u0444\\u043e\\u0440\\u043c\\u0430\", \"\\u0444\\u043e\\u0440\\u043c\\u0430\", \"\\u0444\\u043e\\u0440\\u043c\\u0430\", \"\\u0444\\u043e\\u0440\\u043c\\u0430\", \"\\u0444\\u043e\\u0440\\u043c\\u0430\", \"\\u0445\\u043e\\u0442\\u0435\\u0442\\u044c\", \"\\u0445\\u043e\\u0442\\u0435\\u0442\\u044c\", \"\\u0445\\u043e\\u0442\\u0435\\u0442\\u044c\", \"\\u0445\\u043e\\u0442\\u0435\\u0442\\u044c\", \"\\u0445\\u043e\\u0442\\u0435\\u0442\\u044c\", \"\\u0445\\u043e\\u0442\\u0435\\u0442\\u044c\", \"\\u0445\\u043e\\u0442\\u0435\\u0442\\u044c\", \"\\u0445\\u043e\\u0442\\u0435\\u0442\\u044c\", \"\\u0445\\u043e\\u0442\\u0435\\u0442\\u044c\", \"\\u0445\\u043e\\u0442\\u0435\\u0442\\u044c\", \"\\u0445\\u043e\\u0442\\u0435\\u0442\\u044c\", \"\\u0445\\u043e\\u0442\\u0435\\u0442\\u044c\", \"\\u0445\\u043e\\u0442\\u044f\", \"\\u0445\\u043e\\u0442\\u044f\", \"\\u0445\\u043e\\u0442\\u044f\", \"\\u0445\\u043e\\u0442\\u044f\", \"\\u0445\\u043e\\u0442\\u044f\", \"\\u0445\\u043e\\u0442\\u044f\", \"\\u0445\\u043e\\u0442\\u044f\", \"\\u0445\\u043e\\u0442\\u044f\", \"\\u0445\\u043e\\u0442\\u044f\", \"\\u0445\\u043e\\u0442\\u044f\", \"\\u0446\\u0432\\u0435\\u0442\", \"\\u0446\\u0432\\u0435\\u0442\", \"\\u0446\\u0432\\u0435\\u0442\", \"\\u0446\\u0432\\u0435\\u0442\", \"\\u0446\\u0432\\u0435\\u0442\", \"\\u0446\\u0432\\u0435\\u0442\", \"\\u0446\\u0432\\u0435\\u0442\", \"\\u0446\\u0432\\u0435\\u0442\", \"\\u0446\\u0432\\u0435\\u0442\", \"\\u0446\\u0432\\u0435\\u0442\", \"\\u0446\\u0435\\u043d\\u0430\", \"\\u0446\\u0435\\u043d\\u0430\", \"\\u0446\\u0435\\u043d\\u0430\", \"\\u0446\\u0435\\u043d\\u0430\", \"\\u0446\\u0435\\u043d\\u0430\", \"\\u0446\\u0435\\u043d\\u0430\", \"\\u0446\\u0435\\u043d\\u0430\", \"\\u0446\\u0435\\u043d\\u0430\", \"\\u0446\\u0435\\u043d\\u0430\", \"\\u0446\\u0435\\u043d\\u0430\", \"\\u0447\\u0435\\u043a\", \"\\u0447\\u0435\\u043a\", \"\\u0447\\u0435\\u043a\", \"\\u0447\\u0435\\u043a\", \"\\u0447\\u0435\\u043a\", \"\\u0447\\u0435\\u043a\", \"\\u0447\\u0435\\u043a\", \"\\u0447\\u0435\\u043a\", \"\\u0447\\u0435\\u043a\", \"\\u0447\\u0435\\u043a\", \"\\u0447\\u0438\\u0441\\u043b\\u043e\", \"\\u0447\\u0438\\u0441\\u043b\\u043e\", \"\\u0447\\u0438\\u0441\\u043b\\u043e\", \"\\u0447\\u0438\\u0441\\u043b\\u043e\", \"\\u0447\\u0438\\u0441\\u043b\\u043e\", \"\\u0447\\u0438\\u0441\\u043b\\u043e\", \"\\u0447\\u0438\\u0441\\u043b\\u043e\", \"\\u0447\\u0438\\u0441\\u043b\\u043e\", \"\\u0447\\u0438\\u0441\\u043b\\u043e\", \"\\u0447\\u0438\\u0441\\u043b\\u043e\", \"\\u044d\\u043a\\u0440\\u0430\\u043d\", \"\\u044d\\u043a\\u0440\\u0430\\u043d\", \"\\u044d\\u043a\\u0440\\u0430\\u043d\", \"\\u044d\\u043a\\u0440\\u0430\\u043d\", \"\\u044d\\u043a\\u0440\\u0430\\u043d\", \"\\u044d\\u043a\\u0440\\u0430\\u043d\", \"\\u044d\\u043a\\u0440\\u0430\\u043d\", \"\\u044d\\u043a\\u0440\\u0430\\u043d\", \"\\u044d\\u043a\\u0440\\u0430\\u043d\", \"\\u044d\\u043a\\u0440\\u0430\\u043d\", \"\\u044d\\u043a\\u0440\\u0430\\u043d\", \"\\u044d\\u043a\\u0441\\u043f\\u0435\\u0440\\u0442\\u0438\\u0437\\u0430\", \"\\u044d\\u043a\\u0441\\u043f\\u0435\\u0440\\u0442\\u0438\\u0437\\u0430\", \"\\u044d\\u043a\\u0441\\u043f\\u0435\\u0440\\u0442\\u0438\\u0437\\u0430\", \"\\u044d\\u043a\\u0441\\u043f\\u0435\\u0440\\u0442\\u0438\\u0437\\u0430\", \"\\u044d\\u043a\\u0441\\u043f\\u0435\\u0440\\u0442\\u0438\\u0437\\u0430\", \"\\u044d\\u043a\\u0441\\u043f\\u0435\\u0440\\u0442\\u0438\\u0437\\u0430\", \"\\u044d\\u043a\\u0441\\u043f\\u0435\\u0440\\u0442\\u0438\\u0437\\u0430\", \"\\u044d\\u043a\\u0441\\u043f\\u0435\\u0440\\u0442\\u0438\\u0437\\u0430\", \"\\u044d\\u043a\\u0441\\u043f\\u0435\\u0440\\u0442\\u0438\\u0437\\u0430\", \"\\u044d\\u043a\\u0441\\u043f\\u0435\\u0440\\u0442\\u0438\\u0437\\u0430\", \"\\u044d\\u043a\\u0441\\u043f\\u0435\\u0440\\u0442\\u0438\\u0437\\u0430\", \"\\u044d\\u043b\\u0435\\u043a\\u0442\\u0440\\u043e\\u043d\\u043d\\u044b\\u0439\\u0430\\u0434\\u0440\\u0435\\u0441\\u0441\", \"\\u044d\\u043b\\u0435\\u043a\\u0442\\u0440\\u043e\\u043d\\u043d\\u044b\\u0439\\u0430\\u0434\\u0440\\u0435\\u0441\\u0441\", \"\\u044d\\u043b\\u0435\\u043a\\u0442\\u0440\\u043e\\u043d\\u043d\\u044b\\u0439\\u0430\\u0434\\u0440\\u0435\\u0441\\u0441\", \"\\u044d\\u043b\\u0435\\u043a\\u0442\\u0440\\u043e\\u043d\\u043d\\u044b\\u0439\\u0430\\u0434\\u0440\\u0435\\u0441\\u0441\", \"\\u044d\\u043b\\u0435\\u043a\\u0442\\u0440\\u043e\\u043d\\u043d\\u044b\\u0439\\u0430\\u0434\\u0440\\u0435\\u0441\\u0441\", \"\\u044d\\u043b\\u0435\\u043a\\u0442\\u0440\\u043e\\u043d\\u043d\\u044b\\u0439\\u0430\\u0434\\u0440\\u0435\\u0441\\u0441\", \"\\u044d\\u043b\\u0435\\u043a\\u0442\\u0440\\u043e\\u043d\\u043d\\u044b\\u0439\\u0430\\u0434\\u0440\\u0435\\u0441\\u0441\", \"\\u044d\\u043b\\u0435\\u043a\\u0442\\u0440\\u043e\\u043d\\u043d\\u044b\\u0439\\u0430\\u0434\\u0440\\u0435\\u0441\\u0441\", \"\\u044d\\u043b\\u0435\\u043a\\u0442\\u0440\\u043e\\u043d\\u043d\\u044b\\u0439\\u0430\\u0434\\u0440\\u0435\\u0441\\u0441\", \"\\u044d\\u043b\\u0435\\u043a\\u0442\\u0440\\u043e\\u043d\\u043d\\u044b\\u0439\\u0430\\u0434\\u0440\\u0435\\u0441\\u0441\", \"\\u044d\\u0442\\u043e\", \"\\u044d\\u0442\\u043e\", \"\\u044d\\u0442\\u043e\", \"\\u044d\\u0442\\u043e\", \"\\u044d\\u0442\\u043e\", \"\\u044d\\u0442\\u043e\", \"\\u044d\\u0442\\u043e\", \"\\u044d\\u0442\\u043e\", \"\\u044d\\u0442\\u043e\", \"\\u044d\\u0442\\u043e\", \"\\u044d\\u0442\\u043e\", \"\\u044d\\u0442\\u043e\", \"\\u044d\\u0442\\u043e\\u0442\", \"\\u044d\\u0442\\u043e\\u0442\", \"\\u044d\\u0442\\u043e\\u0442\", \"\\u044d\\u0442\\u043e\\u0442\", \"\\u044d\\u0442\\u043e\\u0442\", \"\\u044d\\u0442\\u043e\\u0442\", \"\\u044d\\u0442\\u043e\\u0442\", \"\\u044d\\u0442\\u043e\\u0442\", \"\\u044d\\u0442\\u043e\\u0442\", \"\\u044d\\u0442\\u043e\\u0442\", \"\\u044d\\u0442\\u043e\\u0442\", \"\\u044f\", \"\\u044f\", \"\\u044f\", \"\\u044f\", \"\\u044f\", \"\\u044f\", \"\\u044f\", \"\\u044f\", \"\\u044f\", \"\\u044f\", \"\\u044f\", \"\\u044f\\u043d\\u0432\\u0430\\u0440\\u044c\", \"\\u044f\\u043d\\u0432\\u0430\\u0440\\u044c\", \"\\u044f\\u043d\\u0432\\u0430\\u0440\\u044c\", \"\\u044f\\u043d\\u0432\\u0430\\u0440\\u044c\", \"\\u044f\\u043d\\u0432\\u0430\\u0440\\u044c\", \"\\u044f\\u043d\\u0432\\u0430\\u0440\\u044c\", \"\\u044f\\u043d\\u0432\\u0430\\u0440\\u044c\", \"\\u044f\\u043d\\u0432\\u0430\\u0440\\u044c\", \"\\u044f\\u043d\\u0432\\u0430\\u0440\\u044c\", \"\\u044f\\u043d\\u0432\\u0430\\u0440\\u044c\", \"\\u044f\\u043d\\u0434\\u0435\\u043a\\u0441\", \"\\u044f\\u043d\\u0434\\u0435\\u043a\\u0441\", \"\\u044f\\u043d\\u0434\\u0435\\u043a\\u0441\", \"\\u044f\\u043d\\u0434\\u0435\\u043a\\u0441\", \"\\u044f\\u043d\\u0434\\u0435\\u043a\\u0441\", \"\\u044f\\u043d\\u0434\\u0435\\u043a\\u0441\", \"\\u044f\\u043d\\u0434\\u0435\\u043a\\u0441\", \"\\u044f\\u043d\\u0434\\u0435\\u043a\\u0441\", \"\\u044f\\u043d\\u0434\\u0435\\u043a\\u0441\", \"\\u044f\\u043d\\u0434\\u0435\\u043a\\u0441\", \"\\u044f\\u043d\\u0434\\u0435\\u043a\\u0441\", \"\\u201ccamper\\u201d\", \"\\u201ccamper\\u201d\", \"\\u201ccamper\\u201d\", \"\\u201ccamper\\u201d\", \"\\u201ccamper\\u201d\", \"\\u201ccamper\\u201d\", \"\\u201ccamper\\u201d\", \"\\u201ccamper\\u201d\", \"\\u201ccamper\\u201d\", \"\\u201ccamper\\u201d\"]}, \"R\": 30, \"lambda.step\": 0.01, \"plot.opts\": {\"xlab\": \"PC1\", \"ylab\": \"PC2\"}, \"topic.order\": [2, 7, 1, 11, 3, 4, 5, 6, 8, 9, 10, 12, 13, 14, 15]};\n",
              "\n",
              "function LDAvis_load_lib(url, callback){\n",
              "  var s = document.createElement('script');\n",
              "  s.src = url;\n",
              "  s.async = true;\n",
              "  s.onreadystatechange = s.onload = callback;\n",
              "  s.onerror = function(){console.warn(\"failed to load library \" + url);};\n",
              "  document.getElementsByTagName(\"head\")[0].appendChild(s);\n",
              "}\n",
              "\n",
              "if(typeof(LDAvis) !== \"undefined\"){\n",
              "   // already loaded: just create the visualization\n",
              "   !function(LDAvis){\n",
              "       new LDAvis(\"#\" + \"ldavis_el2291382876779648007588726099\", ldavis_el2291382876779648007588726099_data);\n",
              "   }(LDAvis);\n",
              "}else if(typeof define === \"function\" && define.amd){\n",
              "   // require.js is available: use it to load d3/LDAvis\n",
              "   require.config({paths: {d3: \"https://d3js.org/d3.v5\"}});\n",
              "   require([\"d3\"], function(d3){\n",
              "      window.d3 = d3;\n",
              "      LDAvis_load_lib(\"https://cdn.jsdelivr.net/gh/bmabey/pyLDAvis@3.4.0/pyLDAvis/js/ldavis.v3.0.0.js\", function(){\n",
              "        new LDAvis(\"#\" + \"ldavis_el2291382876779648007588726099\", ldavis_el2291382876779648007588726099_data);\n",
              "      });\n",
              "    });\n",
              "}else{\n",
              "    // require.js not available: dynamically load d3 & LDAvis\n",
              "    LDAvis_load_lib(\"https://d3js.org/d3.v5.js\", function(){\n",
              "         LDAvis_load_lib(\"https://cdn.jsdelivr.net/gh/bmabey/pyLDAvis@3.4.0/pyLDAvis/js/ldavis.v3.0.0.js\", function(){\n",
              "                 new LDAvis(\"#\" + \"ldavis_el2291382876779648007588726099\", ldavis_el2291382876779648007588726099_data);\n",
              "            })\n",
              "         });\n",
              "}\n",
              "</script>"
            ]
          },
          "metadata": {},
          "execution_count": 50
        }
      ]
    },
    {
      "cell_type": "markdown",
      "source": [
        "# V BigARTM"
      ],
      "metadata": {
        "id": "VCEK_3a9F_xL"
      }
    },
    {
      "cell_type": "code",
      "source": [
        "artm.version()"
      ],
      "metadata": {
        "colab": {
          "base_uri": "https://localhost:8080/",
          "height": 35
        },
        "id": "uXje37LrB0Sd",
        "outputId": "ceeda246-df2b-49e6-e83c-f94a024df4a6"
      },
      "execution_count": null,
      "outputs": [
        {
          "output_type": "execute_result",
          "data": {
            "text/plain": [
              "'0.10.1'"
            ],
            "application/vnd.google.colaboratory.intrinsic+json": {
              "type": "string"
            }
          },
          "metadata": {},
          "execution_count": 63
        }
      ]
    },
    {
      "cell_type": "markdown",
      "source": [
        "## 12 Preporation data for artm"
      ],
      "metadata": {
        "id": "FUnePiHnfKN4"
      }
    },
    {
      "cell_type": "code",
      "source": [
        "with open(path_to_work_dir + 'lenta_wv.wv', 'w') as f:\n",
        "    for index, row in df.iterrows():\n",
        "        vw_string = convert_to_vw_format(index, row)\n",
        "        f.write(vw_string)\n",
        "        f.write('\\n')"
      ],
      "metadata": {
        "id": "3uRP2CZQG_yE"
      },
      "execution_count": null,
      "outputs": []
    },
    {
      "cell_type": "markdown",
      "source": [
        "## 13 Create batch vectorizer"
      ],
      "metadata": {
        "id": "xpACstu_fa0U"
      }
    },
    {
      "cell_type": "code",
      "source": [
        "batch_vectorizer = artm.BatchVectorizer(data_path=path_to_work_dir + 'lenta_wv.wv',\n",
        "                                        data_format='vowpal_wabbit',\n",
        "                                        target_folder='lenta_batches')"
      ],
      "metadata": {
        "id": "778yy_4KZu_y"
      },
      "execution_count": null,
      "outputs": []
    },
    {
      "cell_type": "markdown",
      "source": [
        "## 14 LDA in ARTM"
      ],
      "metadata": {
        "id": "yeKR9uQIflCD"
      }
    },
    {
      "cell_type": "markdown",
      "source": [
        "### 14.1 Learning model"
      ],
      "metadata": {
        "id": "sZ91dincftmg"
      }
    },
    {
      "cell_type": "markdown",
      "source": [
        "Learn model for 15 topics"
      ],
      "metadata": {
        "id": "pW7cA3kEf2RP"
      }
    },
    {
      "cell_type": "code",
      "source": [
        "%%time\n",
        "lda_artm = artm.LDA(num_topics=15, alpha=0.1, beta=0.001,\n",
        "               cache_theta=True,\n",
        "               num_document_passes=20,\n",
        "               dictionary=batch_vectorizer.dictionary)\n",
        "\n",
        "lda_artm.fit_offline(batch_vectorizer=batch_vectorizer,\n",
        "                num_collection_passes=10)"
      ],
      "metadata": {
        "colab": {
          "base_uri": "https://localhost:8080/"
        },
        "id": "DZF2Dc4MZ8MU",
        "outputId": "05d2c37f-1bf4-4cb1-e9f1-8787b008e4a0"
      },
      "execution_count": null,
      "outputs": [
        {
          "output_type": "stream",
          "name": "stdout",
          "text": [
            "CPU times: user 8.89 s, sys: 66.7 ms, total: 8.96 s\n",
            "Wall time: 7.94 s\n"
          ]
        }
      ]
    },
    {
      "cell_type": "markdown",
      "source": [
        "### 14.2 Review results perplexity"
      ],
      "metadata": {
        "id": "R-wkQnWWgdga"
      }
    },
    {
      "cell_type": "code",
      "source": [
        "lda_artm.perplexity_value"
      ],
      "metadata": {
        "colab": {
          "base_uri": "https://localhost:8080/"
        },
        "id": "fgO5w8IlaDTK",
        "outputId": "ec35b7cb-13b8-40dd-e68b-86d29269c2c5"
      },
      "execution_count": null,
      "outputs": [
        {
          "output_type": "stream",
          "name": "stderr",
          "text": [
            "/usr/local/lib/python3.10/dist-packages/ipykernel/ipkernel.py:283: DeprecationWarning: `should_run_async` will not call `transform_cell` automatically in the future. Please pass the result to `transformed_cell` argument and any exception that happen during thetransform in `preprocessing_exc_tuple` in IPython 7.17 and above.\n",
            "  and should_run_async(code)\n"
          ]
        },
        {
          "output_type": "execute_result",
          "data": {
            "text/plain": [
              "[295.9085388183594,\n",
              " 152.45074462890625,\n",
              " 93.55615997314453,\n",
              " 90.74030303955078,\n",
              " 90.67899322509766,\n",
              " 90.6667709350586,\n",
              " 90.6610107421875,\n",
              " 90.65850067138672,\n",
              " 90.65728759765625,\n",
              " 90.65644073486328]"
            ]
          },
          "metadata": {},
          "execution_count": 93
        }
      ]
    },
    {
      "cell_type": "code",
      "source": [
        "np.log(lda_artm.perplexity_last_value)"
      ],
      "metadata": {
        "colab": {
          "base_uri": "https://localhost:8080/"
        },
        "id": "nV_STLzwaS0C",
        "outputId": "baab2727-a785-44af-ceb1-310779fad088"
      },
      "execution_count": null,
      "outputs": [
        {
          "output_type": "execute_result",
          "data": {
            "text/plain": [
              "4.50707698525453"
            ]
          },
          "metadata": {},
          "execution_count": 94
        }
      ]
    },
    {
      "cell_type": "markdown",
      "source": [
        "### 14.3 Review top 15 tokens for every topics"
      ],
      "metadata": {
        "id": "Soa9zasggtpv"
      }
    },
    {
      "cell_type": "code",
      "source": [
        "top_tokens = lda_artm.get_top_tokens(num_tokens=15)\n",
        "for i, token_list in enumerate(top_tokens):\n",
        "     print ('Topic #{0}: {1}'.format(i, token_list))"
      ],
      "metadata": {
        "colab": {
          "base_uri": "https://localhost:8080/"
        },
        "id": "wAIWgPizaaCU",
        "outputId": "4c69f00c-a79d-41ab-8f7d-e94e238792e4"
      },
      "execution_count": null,
      "outputs": [
        {
          "output_type": "stream",
          "name": "stdout",
          "text": [
            "Topic #0: ['озон', 'так', 'также', 'сумма', 'человек', 'новый', 'нижний', 'продавец', 'телефон', 'далее', 'оригинальный', 'отвечать', 'ситуация', 'свой', 'выясниться']\n",
            "Topic #1: ['кассир', 'товар', 'сюда', 'собака', 'зал', 'владимирович', 'адрес', 'общение', 'заткнуться', 'пожаловаться', 'ходить', 'магазин', 'день', 'стать', 'проживать']\n",
            "Topic #2: ['который', 'ответить', 'товар', 'телефон', 'озон', 'идти', 'каждый', 'предоставить', 'месяц', 'человек', 'далее', 'компетентный', 'закон', 'г', 'нижний']\n",
            "Topic #3: ['просить', 'вернуть', 'серия', 'номер', 'год', 'вызвать', 'товар', 'апрель', 'обнаружить', 'некачественный', 'обмен', 'спа', 'оригинал', 'брак', 'заводский']\n",
            "Topic #4: ['магазин', 'магнит', 'напиток', 'адрес', 'отказать', 'проверка', 'год', 'московский', 'паспорт', 'энергетический', 'дать', 'просить', 'продажа', 'горячий', 'продавец']\n",
            "Topic #5: ['телефон', 'товар', 'который', 'ответить', 'сервис', 'также', 'закон', 'индивидуально', 'связаться', 'озон', 'далее', 'ответ', 'прийти', 'горячий', 'распределение']\n",
            "Topic #6: ['покупка', 'который', 'дать', 'месяц', 'денежный', 'нижний', 'фактически', 'номер', 'sberpay', 'сбербанк', 'платить', 'образ', 'право', 'gds', 'обращение']\n",
            "Topic #7: ['сбербанк', 'мегамаркет', 'кэшбек', 'цвет', 'пройти', 'gds', 'платить', 'месяц', 'который', 'сей', 'зелёный', 'добрый', 'работать', 'обязать', 'пора']\n",
            "Topic #8: ['телефон', 'озон', 'продавец', 'получить', 'который', 'нижний', 'хотеть', 'человек', 'быть', 'китай', 'шлейф', 'связаться', 'ответ', 'центр', 'возврат']\n",
            "Topic #9: ['магазин', 'частный', 'который', 'собака', 'товар', 'проверить', 'сюда', 'проверка', 'слон', 'говорить', 'возмущаться', '…', 'этот', 'провести', 'каждый']\n",
            "Topic #10: ['сразу', 'покупка', 'товар', 'тишина', 'внешний', 'дата', 'подлинность', 'вызвать', 'год', 'подозрениеупаковка', 'время', 'ибо', 'месяц', 'номер', 'магазин']\n",
            "Topic #11: ['покупка', 'месяц', 'который', 'номер', 'товар', 'обращение', 'просить', 'нижний', 'мочь', 'создать', 'предоставить', 'сервис', 'оригинальный', 'итог', 'вернуть']\n",
            "Topic #12: ['товар', 'телефон', 'ответить', 'просить', 'месяц', 'предоставить', 'который', 'индивидуально', 'хотеть', 'мочь', 'сервис', 'г', 'обман', 'вернуть', 'создать']\n",
            "Topic #13: ['отказать', 'спасибо', 'цифровой', 'ответ', 'линия', 'почему', 'провести', 'данный', 'позвонить', 'чёткий', 'проспект', 'горячий', 'продавец', 'магнит', 'продажа']\n",
            "Topic #14: ['ответить', 'сюда', 'магазин', 'стать', 'который', 'собака', 'кассир', 'здравствуйте', 'мягко', 'далее', 'чек', 'ярославль', 'ходить', 'просить', 'зал']\n"
          ]
        }
      ]
    },
    {
      "cell_type": "markdown",
      "source": [
        "## 15 PLSA in ARTM"
      ],
      "metadata": {
        "id": "WVJEeQj0g_ou"
      }
    },
    {
      "cell_type": "markdown",
      "source": [
        "### 15.1 Create model"
      ],
      "metadata": {
        "id": "Fi3gTCmthJ1o"
      }
    },
    {
      "cell_type": "code",
      "source": [
        "plsa = artm.ARTM(num_topics=15,\n",
        "                 dictionary=batch_vectorizer.dictionary)"
      ],
      "metadata": {
        "id": "RYmKqWtiaehT"
      },
      "execution_count": null,
      "outputs": []
    },
    {
      "cell_type": "markdown",
      "source": [
        "### 15.2 Add perplexity score"
      ],
      "metadata": {
        "id": "voKv4NBGhNqY"
      }
    },
    {
      "cell_type": "code",
      "source": [
        "plsa.scores.add(artm.PerplexityScore(name='lenta_perplexity_score',\n",
        "                 dictionary=batch_vectorizer.dictionary))"
      ],
      "metadata": {
        "id": "8usrx3Jic6II"
      },
      "execution_count": null,
      "outputs": []
    },
    {
      "cell_type": "markdown",
      "source": [
        "### 15.3 Add top tokens score"
      ],
      "metadata": {
        "id": "tH6KZiVDhjia"
      }
    },
    {
      "cell_type": "code",
      "source": [
        "plsa.scores.add(artm.TopTokensScore(name='TopTokensScore', num_tokens=25))"
      ],
      "metadata": {
        "id": "vhoJmPK0dYVP"
      },
      "execution_count": null,
      "outputs": []
    },
    {
      "cell_type": "markdown",
      "source": [
        "### 15.4 Learning model"
      ],
      "metadata": {
        "id": "fn9eOz9Uh0LJ"
      }
    },
    {
      "cell_type": "code",
      "source": [
        "plsa.fit_offline(batch_vectorizer=batch_vectorizer,\n",
        "                 num_collection_passes=20)"
      ],
      "metadata": {
        "id": "4xLWNFDadhkb"
      },
      "execution_count": null,
      "outputs": []
    },
    {
      "cell_type": "markdown",
      "source": [
        "### 15.5 Review perpleity score"
      ],
      "metadata": {
        "id": "ZIwF9FRxh8YQ"
      }
    },
    {
      "cell_type": "code",
      "source": [
        "plsa.score_tracker['lenta_perplexity_score'].value"
      ],
      "metadata": {
        "colab": {
          "base_uri": "https://localhost:8080/"
        },
        "id": "JkRwm56Hdhh_",
        "outputId": "8fe2c3ff-22ca-4ee4-b90b-59691d7137c9"
      },
      "execution_count": null,
      "outputs": [
        {
          "output_type": "execute_result",
          "data": {
            "text/plain": [
              "[298.2460021972656,\n",
              " 171.18067932128906,\n",
              " 98.63874053955078,\n",
              " 90.05252075195312,\n",
              " 89.7820816040039,\n",
              " 89.70166015625,\n",
              " 89.65436553955078,\n",
              " 89.62593078613281,\n",
              " 89.61084747314453,\n",
              " 89.603759765625,\n",
              " 89.60057067871094,\n",
              " 89.59906005859375,\n",
              " 89.5982666015625,\n",
              " 89.59777069091797,\n",
              " 89.5974349975586,\n",
              " 89.59717559814453,\n",
              " 89.59697723388672,\n",
              " 89.59681701660156,\n",
              " 89.59668731689453,\n",
              " 89.59659576416016]"
            ]
          },
          "metadata": {},
          "execution_count": 100
        }
      ]
    },
    {
      "cell_type": "markdown",
      "source": [
        "### 15.6 Review most important tokens in topics"
      ],
      "metadata": {
        "id": "76XEY_8DiIP6"
      }
    },
    {
      "cell_type": "code",
      "source": [
        "for topic_name in plsa.topic_names:\n",
        "    print (topic_name + ': ', plsa.score_tracker['TopTokensScore'].last_tokens[topic_name])"
      ],
      "metadata": {
        "colab": {
          "base_uri": "https://localhost:8080/"
        },
        "id": "b8rru_gvdhfP",
        "outputId": "7128d7ca-15e7-46ae-ab0d-82d5d0e5fbd5"
      },
      "execution_count": null,
      "outputs": [
        {
          "output_type": "stream",
          "name": "stdout",
          "text": [
            "topic_0:  ['так', 'озон', 'также', 'продавец', 'сумма', 'человек', 'отправить', 'выясниться', 'далее', 'нижний', 'отвечать', 'р', 'это', 'новый', 'iphone', 'компенсировать', 'иметь', 'бот', 'старый', 'ситуация', 'год', 'проблема', 'сервисный', 'шлейф', 'оператор']\n",
            "topic_1:  ['товар', 'кассир', 'сюда', 'собака', 'магазин', 'частный', 'владимирович', 'зайти', 'разнести', 'выбивать', 'проживать', 'адрес', 'общение', 'пожаловаться', 'покупка', 'зал', 'заткнуться', 'день', 'ходить', 'какой', 'ул', 'находиться', 'спросить', 'право', 'г']\n",
            "topic_2:  ['телефон', 'озон', 'который', 'человек', 'так', 'сумма', 'также', 'продавец', 'ответить', 'товар', 'шлейф', 'китай', 'оператор', 'свой', 'далее', 'нижний', 'идти', 'итог', 'каждый', 'компенсировать', 'руководство', 'новый', 'компетентный', 'бот', 'проблема']\n",
            "topic_3:  ['просить', 'серия', 'вернуть', 'номер', 'год', 'вызвать', 'апрель', 'обнаружить', 'некачественный', 'обмен', 'товар', 'спа', 'оригинал', 'брак', 'заводский', 'мегамаркет', 'качественный', 'сайтеэтый', 'февраль', 'денежный', 'пятерочкадолгий', 'совпасть', 'мочь', 'выпуск', 'пробить']\n",
            "topic_4:  ['магазин', 'магнит', 'напиток', 'адрес', 'отказать', 'год', 'проверка', 'московский', 'паспорт', 'просить', 'энергетический', 'дать', 'продажа', 'горячий', 'продавец', 'проспект', 'чёткий', 'позвонить', 'данный', 'провести', 'почему', 'линия', 'ответ', 'цифровой', 'спасибо']\n",
            "topic_5:  ['телефон', 'также', 'озон', 'далее', 'быть', 'шлейф', 'связаться', 'нижний', 'который', 'товар', 'свой', 'отвечать', 'ответ', 'это', 'оформить', 'ситуация', 'ответить', 'сервис', 'бот', 'новый', 'прийти', 'руководство', 'выясниться', 'привлечь', 'сервисный']\n",
            "topic_6:  ['который', 'месяц', 'сбербанк', 'покупка', 'дать', 'денежный', 'платить', 'фактически', 'нижний', 'gds', 'номер', 'sberpay', 'пройти', 'образ', 'серый', 'общий', 'кредитва', 'февраль', 'право', 'должный', 'бонус', 'деньсовершить', 'обращение', 'несколько', 'граница']\n",
            "topic_7:  ['мегамаркет', 'сбербанк', 'кэшбек', 'цвет', 'пройти', 'gds', 'платить', 'предоставить', 'сей', 'зелёный', 'работать', 'добрый', 'обязать', 'пора', 'месяц', 'сложность', 'мочь', 'ссылаться', 'никакой', 'досчитаться', 'воспользоваться', 'сервис', 'я', 'повышенный', 'который']\n",
            "topic_8:  ['телефон', 'продавец', 'озон', 'получить', 'возврат', 'нижний', 'человек', 'быть', 'шлейф', 'так', 'хотеть', 'поддержка', 'год', 'центр', 'китай', 'оператор', 'ответ', 'р', 'иметь', 'очень', 'iphone', 'который', 'бот', 'старый', 'россия']\n",
            "topic_9:  ['магазин', 'частный', 'проверить', 'который', 'проверка', 'слон', 'провести', 'говорить', 'возмущаться', '…', 'собака', 'товар', 'этот', 'каждый', 'чудо', 'покупатель', 'выбивать', 'ул', 'маназин', 'оставить', 'такой', 'какой', 'сюда', 'позволять', 'разнести']\n",
            "topic_10:  ['сразу', 'товар', 'покупка', 'вызвать', 'год', 'тишина', 'внешний', 'дата', 'подлинность', 'подозрениеупаковка', 'время', 'ибо', 'месяц', 'номер', 'магазин', 'ситуация', 'посылка', 'обращение', 'вскрытие', 'оригинальный', 'комментарий', 'вернуть', 'средство', 'серия', 'предоставить']\n",
            "topic_11:  ['озон', 'телефон', 'нижний', 'который', 'месяц', 'оригинальный', 'итог', 'сервис', 'новый', 'покупка', 'номер', 'получить', 'создать', 'обман', 'прийти', 'распределение', 'обращение', 'р', 'отправить', 'работать', 'ситуация', 'товар', 'мочь', 'китай', 'руководство']\n",
            "topic_12:  ['телефон', 'товар', 'так', 'человек', 'также', 'озон', 'хотеть', 'старый', 'новый', 'ответить', 'продавец', 'год', 'поддержка', 'просить', 'сумма', 'обман', 'почта', 'индивидуально', 'г', 'сайт', 'мочь', 'оформить', 'это', 'месяц', 'связаться']\n",
            "topic_13:  ['отказать', 'спасибо', 'цифровой', 'ответ', 'линия', 'почему', 'провести', 'данный', 'магнит', 'позвонить', 'чёткий', 'проспект', 'продавец', 'горячий', 'продажа', 'магазин', 'дать', 'энергетический', 'просить', 'паспорт', 'московский', 'проверка', 'год', 'адрес', 'напиток']\n",
            "topic_14:  ['ответить', 'магазин', 'который', 'сюда', 'собака', 'мягко', 'далее', 'вылететь', 'стать', 'здравствуйте', 'позволять', 'чек', 'просить', 'ярославль', 'женщина', 'кассир', 'чудо', 'идти', 'емельянов', 'ходить', 'сегодня', 'панин', 'возмущаться', 'зал', '…']\n"
          ]
        }
      ]
    },
    {
      "cell_type": "code",
      "source": [
        "batch_vectorizer.dictionary.filter(min_tf=10, max_tf=5000)"
      ],
      "metadata": {
        "colab": {
          "base_uri": "https://localhost:8080/"
        },
        "id": "T5pOHdqCdhcN",
        "outputId": "e7607674-6518-4767-facc-8f16090663ac"
      },
      "execution_count": null,
      "outputs": [
        {
          "output_type": "execute_result",
          "data": {
            "text/plain": [
              "artm.Dictionary(name=b749bb39-3654-443e-977a-5d8420e62da5, num_entries=321)"
            ]
          },
          "metadata": {},
          "execution_count": 102
        }
      ]
    },
    {
      "cell_type": "code",
      "source": [
        "plsa = artm.ARTM(num_topics=10,\n",
        "                 dictionary=batch_vectorizer.dictionary)\n",
        "plsa.scores.add(artm.PerplexityScore(name='lenta_perplexity_score',\n",
        "                dictionary=batch_vectorizer.dictionary))\n",
        "\n",
        "plsa.scores.add(artm.TopTokensScore(name='TopTokensScore',\n",
        "                                    num_tokens=15))\n",
        "plsa.fit_offline(batch_vectorizer=batch_vectorizer,\n",
        "                 num_collection_passes=15)"
      ],
      "metadata": {
        "id": "4kfV6bxBdhTH"
      },
      "execution_count": null,
      "outputs": []
    },
    {
      "cell_type": "code",
      "source": [
        "for topic_name in plsa.topic_names:\n",
        "    print (topic_name + ': ', plsa.score_tracker['TopTokensScore'].last_tokens[topic_name])"
      ],
      "metadata": {
        "colab": {
          "base_uri": "https://localhost:8080/"
        },
        "id": "FDQ8SI0peBS_",
        "outputId": "29d8050e-87b4-4846-a5a9-2cbe2cbb315c"
      },
      "execution_count": null,
      "outputs": [
        {
          "output_type": "stream",
          "name": "stdout",
          "text": [
            "topic_0:  ['так', 'также', 'продавец', 'человек', 'новый', 'сумма', 'нижний', 'далее', 'отправить', 'поддержка', 'иметь', 'возврат', 'это', 'р', 'iphone']\n",
            "topic_1:  ['хотеть', 'так', 'получить', 'продавец', 'старый', 'месяц', 'нижний', 'год', 'обман', 'быть', 'сервис', 'р', 'отправить', 'китай', 'рубеж']\n",
            "topic_2:  ['человек', 'ответить', 'продавец', 'сумма', 'так', 'также', 'шлейф', 'итог', 'нижний', 'китай', 'центр', 'оператор', 'новый', 'месяц', 'далее']\n",
            "topic_3:  ['номер', 'вызвать', 'просить', 'серия', 'вернуть', 'оригинальный', 'оригинал', 'год', 'совпасть', 'сразу', 'посылка', 'спа', 'средство', 'апрель', 'заводский']\n",
            "topic_4:  ['сразу', 'год', 'покупка', 'внешний', 'подлинность', 'тишина', 'подозрениеупаковка', 'вернуть', 'время', 'предоставить', 'серия', 'дата', 'просить', 'месяц', 'ибо']\n",
            "topic_5:  ['также', 'шлейф', 'нижний', 'быть', 'далее', 'новый', 'связаться', 'ответ', 'оформить', 'это', 'сервис', 'ситуация', 'прийти', 'индивидуально', 'сайт']\n",
            "topic_6:  ['сбербанк', 'месяц', 'платить', 'gds', 'пройти', 'покупка', 'дать', 'денежный', 'фактически', 'sberpay', 'номер', 'нижний', 'цвет', 'образ', 'серый']\n",
            "topic_7:  ['мегамаркет', 'кэшбек', 'цвет', 'сбербанк', 'предоставить', 'пройти', 'сей', 'зелёный', 'работать', 'gds', 'добрый', 'сервис', 'платить', 'обязать', 'мочь']\n",
            "topic_8:  ['магнит', 'отказать', 'позвонить', 'просить', 'линия', 'данный', 'горячий', 'год', 'ответ', 'продавец', 'дать', 'почему', 'адрес', 'энергетический', 'чёткий']\n",
            "topic_9:  ['частный', 'кассир', 'собака', 'ответить', 'сюда', 'этот', 'здравствуйте', 'проживать', 'просить', 'сегодня', 'идти', 'емельянов', 'панин', 'покупатель', 'покупка']\n"
          ]
        }
      ]
    }
  ]
}