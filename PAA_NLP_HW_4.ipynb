{
  "nbformat": 4,
  "nbformat_minor": 0,
  "metadata": {
    "colab": {
      "provenance": [],
      "toc_visible": true
    },
    "kernelspec": {
      "name": "python3",
      "display_name": "Python 3"
    },
    "language_info": {
      "name": "python"
    }
  },
  "cells": [
    {
      "cell_type": "markdown",
      "source": [
        "# Content"
      ],
      "metadata": {
        "id": "Ic46F5BnjKYI"
      }
    },
    {
      "cell_type": "markdown",
      "source": [
        ">[Content](#scrollTo=Ic46F5BnjKYI)\n",
        "\n",
        ">[Task](#scrollTo=qX8FlwFvHQPY)\n",
        "\n",
        ">[Additional links](#scrollTo=7-IoxzenIlSo)\n",
        "\n",
        ">[I Libraries and Functions](#scrollTo=PXgo_UxjPRNP)\n",
        "\n",
        ">>[1 Additional libraries](#scrollTo=KGWKnOPxPWKV)\n",
        "\n",
        ">>[2 Additional fuctions](#scrollTo=PK7kjWQnM_Rj)\n",
        "\n",
        ">[II Parser](#scrollTo=lRCoQ1hazDr9)\n",
        "\n",
        ">>[3 Load Data](#scrollTo=_Bw3z1dOQeQu)\n",
        "\n",
        ">[III About data](#scrollTo=lGIGenQQzHuV)\n",
        "\n",
        ">>[4 Review data](#scrollTo=khK2kVcGUHca)\n",
        "\n",
        ">>[5 Clean text](#scrollTo=tsY9tLMPm6v0)\n",
        "\n",
        ">>[6 Words to vector](#scrollTo=RLbYgHhPw93P)\n",
        "\n",
        ">[IV LDA model](#scrollTo=x3qBMdO0zSRf)\n",
        "\n",
        ">>[7 Make a model](#scrollTo=C-lUe9F0xDHo)\n",
        "\n",
        ">>[8 Save LDA model](#scrollTo=8tmzbTwf5p5G)\n",
        "\n",
        ">>[9 Load LDA model](#scrollTo=qok_oT6_7CnV)\n",
        "\n",
        ">>[10 Documents in vector](#scrollTo=uu-SnkhVSYRS)\n",
        "\n",
        ">>[11 Visualisation of results](#scrollTo=fA-XUq3KFtYE)\n",
        "\n",
        ">[V BigARTM](#scrollTo=VCEK_3a9F_xL)\n",
        "\n",
        ">>[12 Preporation data for artm](#scrollTo=FUnePiHnfKN4)\n",
        "\n",
        ">>[13 Create batch vectorizer](#scrollTo=xpACstu_fa0U)\n",
        "\n",
        ">>[14 LDA in ARTM](#scrollTo=yeKR9uQIflCD)\n",
        "\n",
        ">>>[14.1 Learning model](#scrollTo=sZ91dincftmg)\n",
        "\n",
        ">>>[14.2 Review results perplexity](#scrollTo=R-wkQnWWgdga)\n",
        "\n",
        ">>>[14.3 Review top 15 tokens for every topics](#scrollTo=Soa9zasggtpv)\n",
        "\n",
        ">>[15 PLSA in ARTM](#scrollTo=WVJEeQj0g_ou)\n",
        "\n",
        ">>>[15.1 Create model](#scrollTo=Fi3gTCmthJ1o)\n",
        "\n",
        ">>>[15.2 Add perplexity score](#scrollTo=voKv4NBGhNqY)\n",
        "\n",
        ">>>[15.3 Add top tokens score](#scrollTo=tH6KZiVDhjia)\n",
        "\n",
        ">>>[15.4 Learning model](#scrollTo=fn9eOz9Uh0LJ)\n",
        "\n",
        ">>>[15.5 Review perpleity score](#scrollTo=ZIwF9FRxh8YQ)\n",
        "\n",
        ">>>[15.6 Review most important tokens in topics](#scrollTo=76XEY_8DiIP6)\n",
        "\n"
      ],
      "metadata": {
        "colab_type": "toc",
        "id": "WsSACiAijIKx"
      }
    },
    {
      "cell_type": "markdown",
      "source": [
        "# Task"
      ],
      "metadata": {
        "id": "qX8FlwFvHQPY"
      }
    },
    {
      "cell_type": "markdown",
      "source": [
        "Задача тематическое моделирование\n",
        "\n",
        "Проанализировать данные из Роспотребнадзора\n",
        "https://zpp.rospotrebnadzor.ru/Forum/Appeals\n",
        "\n",
        "\n",
        "Что надо сделать\n",
        "1. Сформировать датасет из\n",
        "2. Выявить тематики о которых люди пишут проанализировать\n",
        "3. Сделать визуализацию кластеров тематик\n",
        "4. Проинтерпритировать получившиеся тематики\n"
      ],
      "metadata": {
        "id": "gGj-4_kZGxgL"
      }
    },
    {
      "cell_type": "markdown",
      "source": [
        "# Additional links"
      ],
      "metadata": {
        "id": "7-IoxzenIlSo"
      }
    },
    {
      "cell_type": "markdown",
      "source": [
        "1. [Перплексия](https://qpleple.com/perplexity-to-evaluate-topic-models/)\n",
        "\n",
        "2. [Когерентность](https://qpleple.com/topic-coherence-to-evaluate-topic-models/)\n",
        "\n",
        "3. [Распределение Дирихле](https://vk.com/doc153263289_674555665?hash=I85DrW7zptBjQJyCYip8x3F97xVCs7QCfjdOXm1EZ3o&dl=OYAcYdzID69DkFivCIfzCb8Z9RrHi6EzmMA7zzHEYQT)\n",
        "\n",
        "4. [PLSA](https://vk.com/doc153263289_674555664?hash=I0U6VK1Yi5jow0BJhicuI8os9k9B1ZCbiJgbGzQ59d8&dl=8vfmVIBB40vVrL1Q962b7TclEHn6lkMLA9ZeMroZuDk)\n",
        "\n",
        "5. [Аддитивная регуляризация тематических моделей](http://www.machinelearning.ru/wiki/index.php?title=%D0%90%D0%B4%D0%B4%D0%B8%D1%82%D0%B8%D0%B2%D0%BD%D0%B0%D1%8F_%D1%80%D0%B5%D0%B3%D1%83%D0%BB%D1%8F%D1%80%D0%B8%D0%B7%D0%B0%D1%86%D0%B8%D1%8F_%D1%82%D0%B5%D0%BC%D0%B0%D1%82%D0%B8%D1%87%D0%B5%D1%81%D0%BA%D0%B8%D1%85_%D0%BC%D0%BE%D0%B4%D0%B5%D0%BB%D0%B5%D0%B9)\n",
        "\n",
        "6. Beautiful Soup\n",
        "\n",
        "* Documentation [rus](https://www.crummy.com/software/BeautifulSoup/bs4/doc.ru/bs4ru.html#id7), [eng](https://www.crummy.com/software/BeautifulSoup/bs4/doc/)\n",
        "* Examples [habr](https://habr.com/ru/articles/544828/)\n",
        "\n",
        "7. Regular expressions [one](https://habr.com/ru/articles/349860/) [two](https://tproger.ru/translations/regular-expression-python) [three](https://docs.python.org/3/library/re.html#)"
      ],
      "metadata": {
        "id": "JCDQnJdyHArd"
      }
    },
    {
      "cell_type": "markdown",
      "source": [
        "# I Libraries and Functions"
      ],
      "metadata": {
        "id": "PXgo_UxjPRNP"
      }
    },
    {
      "cell_type": "markdown",
      "source": [
        "## 1 Additional libraries"
      ],
      "metadata": {
        "id": "KGWKnOPxPWKV"
      }
    },
    {
      "cell_type": "code",
      "source": [
        "!pip install pymorphy2 clean-text bigartm10"
      ],
      "metadata": {
        "colab": {
          "base_uri": "https://localhost:8080/"
        },
        "id": "cjdxGJTZNa8n",
        "outputId": "8886ef7b-d79c-4050-f4ea-7c929e2f95d4"
      },
      "execution_count": 1,
      "outputs": [
        {
          "output_type": "stream",
          "name": "stdout",
          "text": [
            "Collecting pymorphy2\n",
            "  Downloading pymorphy2-0.9.1-py3-none-any.whl (55 kB)\n",
            "\u001b[2K     \u001b[90m━━━━━━━━━━━━━━━━━━━━━━━━━━━━━━━━━━━━━━━━\u001b[0m \u001b[32m55.5/55.5 kB\u001b[0m \u001b[31m764.8 kB/s\u001b[0m eta \u001b[36m0:00:00\u001b[0m\n",
            "\u001b[?25hCollecting clean-text\n",
            "  Downloading clean_text-0.6.0-py3-none-any.whl (11 kB)\n",
            "Collecting bigartm10\n",
            "  Downloading bigartm10-0.10.1-cp310-cp310-manylinux_2_27_x86_64.manylinux_2_28_x86_64.whl (2.2 MB)\n",
            "\u001b[2K     \u001b[90m━━━━━━━━━━━━━━━━━━━━━━━━━━━━━━━━━━━━━━━━\u001b[0m \u001b[32m2.2/2.2 MB\u001b[0m \u001b[31m14.6 MB/s\u001b[0m eta \u001b[36m0:00:00\u001b[0m\n",
            "\u001b[?25hCollecting dawg-python>=0.7.1 (from pymorphy2)\n",
            "  Downloading DAWG_Python-0.7.2-py2.py3-none-any.whl (11 kB)\n",
            "Collecting pymorphy2-dicts-ru<3.0,>=2.4 (from pymorphy2)\n",
            "  Downloading pymorphy2_dicts_ru-2.4.417127.4579844-py2.py3-none-any.whl (8.2 MB)\n",
            "\u001b[2K     \u001b[90m━━━━━━━━━━━━━━━━━━━━━━━━━━━━━━━━━━━━━━━━\u001b[0m \u001b[32m8.2/8.2 MB\u001b[0m \u001b[31m25.6 MB/s\u001b[0m eta \u001b[36m0:00:00\u001b[0m\n",
            "\u001b[?25hCollecting docopt>=0.6 (from pymorphy2)\n",
            "  Downloading docopt-0.6.2.tar.gz (25 kB)\n",
            "  Preparing metadata (setup.py) ... \u001b[?25l\u001b[?25hdone\n",
            "Collecting emoji<2.0.0,>=1.0.0 (from clean-text)\n",
            "  Downloading emoji-1.7.0.tar.gz (175 kB)\n",
            "\u001b[2K     \u001b[90m━━━━━━━━━━━━━━━━━━━━━━━━━━━━━━━━━━━━━━━━\u001b[0m \u001b[32m175.4/175.4 kB\u001b[0m \u001b[31m11.1 MB/s\u001b[0m eta \u001b[36m0:00:00\u001b[0m\n",
            "\u001b[?25h  Preparing metadata (setup.py) ... \u001b[?25l\u001b[?25hdone\n",
            "Collecting ftfy<7.0,>=6.0 (from clean-text)\n",
            "  Downloading ftfy-6.2.0-py3-none-any.whl (54 kB)\n",
            "\u001b[2K     \u001b[90m━━━━━━━━━━━━━━━━━━━━━━━━━━━━━━━━━━━━━━━━\u001b[0m \u001b[32m54.4/54.4 kB\u001b[0m \u001b[31m4.8 MB/s\u001b[0m eta \u001b[36m0:00:00\u001b[0m\n",
            "\u001b[?25hRequirement already satisfied: pandas in /usr/local/lib/python3.10/dist-packages (from bigartm10) (2.0.3)\n",
            "Requirement already satisfied: numpy in /usr/local/lib/python3.10/dist-packages (from bigartm10) (1.25.2)\n",
            "Requirement already satisfied: packaging in /usr/local/lib/python3.10/dist-packages (from bigartm10) (24.0)\n",
            "Requirement already satisfied: tqdm in /usr/local/lib/python3.10/dist-packages (from bigartm10) (4.66.2)\n",
            "Requirement already satisfied: protobuf>=3.0 in /usr/local/lib/python3.10/dist-packages (from bigartm10) (3.20.3)\n",
            "Requirement already satisfied: wcwidth<0.3.0,>=0.2.12 in /usr/local/lib/python3.10/dist-packages (from ftfy<7.0,>=6.0->clean-text) (0.2.13)\n",
            "Requirement already satisfied: python-dateutil>=2.8.2 in /usr/local/lib/python3.10/dist-packages (from pandas->bigartm10) (2.8.2)\n",
            "Requirement already satisfied: pytz>=2020.1 in /usr/local/lib/python3.10/dist-packages (from pandas->bigartm10) (2023.4)\n",
            "Requirement already satisfied: tzdata>=2022.1 in /usr/local/lib/python3.10/dist-packages (from pandas->bigartm10) (2024.1)\n",
            "Requirement already satisfied: six>=1.5 in /usr/local/lib/python3.10/dist-packages (from python-dateutil>=2.8.2->pandas->bigartm10) (1.16.0)\n",
            "Building wheels for collected packages: docopt, emoji\n",
            "  Building wheel for docopt (setup.py) ... \u001b[?25l\u001b[?25hdone\n",
            "  Created wheel for docopt: filename=docopt-0.6.2-py2.py3-none-any.whl size=13706 sha256=aab5ad3b4ae325738d3ca10fd2cfb5ae62c3f8313606c30796f6c29791055054\n",
            "  Stored in directory: /root/.cache/pip/wheels/fc/ab/d4/5da2067ac95b36618c629a5f93f809425700506f72c9732fac\n",
            "  Building wheel for emoji (setup.py) ... \u001b[?25l\u001b[?25hdone\n",
            "  Created wheel for emoji: filename=emoji-1.7.0-py3-none-any.whl size=171034 sha256=4d5e00e7f021fabc47d5bc7539f5a9a083df023e1d2b12f1a851f94359b56159\n",
            "  Stored in directory: /root/.cache/pip/wheels/31/8a/8c/315c9e5d7773f74b33d5ed33f075b49c6eaeb7cedbb86e2cf8\n",
            "Successfully built docopt emoji\n",
            "Installing collected packages: pymorphy2-dicts-ru, emoji, docopt, dawg-python, pymorphy2, ftfy, clean-text, bigartm10\n",
            "Successfully installed bigartm10-0.10.1 clean-text-0.6.0 dawg-python-0.7.2 docopt-0.6.2 emoji-1.7.0 ftfy-6.2.0 pymorphy2-0.9.1 pymorphy2-dicts-ru-2.4.417127.4579844\n"
          ]
        }
      ]
    },
    {
      "cell_type": "code",
      "source": [
        "import os\n",
        "import re\n",
        "import time\n",
        "from google.colab import drive, files\n",
        "import requests\n",
        "from bs4 import BeautifulSoup\n",
        "from urllib.parse import urlparse, urljoin\n",
        "from tqdm import tqdm\n",
        "import pandas as pd\n",
        "import numpy as np\n",
        "import shutil\n",
        "import pickle\n",
        "import nltk\n",
        "from nltk.corpus import stopwords\n",
        "from pymorphy2 import MorphAnalyzer\n",
        "from sklearn.feature_extraction import text as for_stop_word\n",
        "from cleantext import clean\n",
        "import emoji\n",
        "from gensim.corpora.dictionary import Dictionary\n",
        "from gensim.models import LdaModel\n",
        "from gensim.test.utils import datapath\n",
        "from sklearn.base import BaseEstimator, TransformerMixin\n",
        "import artm\n",
        "nltk.download('stopwords')"
      ],
      "metadata": {
        "id": "-CaRlsZVJ3y3",
        "colab": {
          "base_uri": "https://localhost:8080/"
        },
        "outputId": "c7fc6b63-0be1-464a-bf26-c05028058a60"
      },
      "execution_count": 2,
      "outputs": [
        {
          "output_type": "stream",
          "name": "stderr",
          "text": [
            "WARNING:root:Since the GPL-licensed package `unidecode` is not installed, using Python's `unicodedata` package which yields worse results.\n",
            "[nltk_data] Downloading package stopwords to /root/nltk_data...\n",
            "[nltk_data]   Unzipping corpora/stopwords.zip.\n"
          ]
        },
        {
          "output_type": "execute_result",
          "data": {
            "text/plain": [
              "True"
            ]
          },
          "metadata": {},
          "execution_count": 2
        }
      ]
    },
    {
      "cell_type": "markdown",
      "source": [
        "## 2 Additional fuctions"
      ],
      "metadata": {
        "id": "PK7kjWQnM_Rj"
      }
    },
    {
      "cell_type": "code",
      "source": [
        "def MDir(dir_name):\n",
        "    \"\"\"Make a new folder\"\"\"\n",
        "    if os.path.exists(dir_name):\n",
        "        shutil.rmtree(dir_name)\n",
        "    os.makedirs(dir_name)\n",
        "\n",
        "def Upload(dir_name):\n",
        "    f = files.upload()\n",
        "    for fl in list(f.keys()):\n",
        "        shutil.move('/content/' + fl, dir_name + fl)\n",
        "\n",
        "\n",
        "class CleanText(BaseEstimator, TransformerMixin):\n",
        "\n",
        "    \"\"\"Cleaning text from regular characters in column\n",
        "    key: name of column\n",
        "    stp_wrd: english, russian, ...\n",
        "    like_list: bool\n",
        "        If True then return text as list [word, word, ..., word], False return str,\n",
        "        default False\n",
        "    You shoul to import:\n",
        "        >>> pip install pymorphy2\n",
        "        >>> pip install clean-text\n",
        "        import re\n",
        "        import pandas as pd\n",
        "        from tqdm import tqdm\n",
        "        from pymorphy2 import MorphAnalyzer\n",
        "        from sklearn.base import BaseEstimator, TransformerMixin\n",
        "        from cleantext import clean\n",
        "        from nltk.corpus import stopwords\n",
        "        nltk.download('stopwords')\"\"\"\n",
        "\n",
        "    def __init__(self, key, stp_wrd : str, like_list: bool = False):\n",
        "        self.key = key\n",
        "        self.stp_wrd = stp_wrd\n",
        "        self.sw = stopwords.words(self.stp_wrd)\n",
        "        self.morpher = MorphAnalyzer()\n",
        "        self.like_list = like_list\n",
        "\n",
        "\n",
        "    def clean_text(self, text:str) -> str:\n",
        "\n",
        "        \"\"\"Clean text\"\"\"\n",
        "\n",
        "        if not isinstance(text, str):\n",
        "            text = str(text)\n",
        "\n",
        "        text = text.lower()\n",
        "        text = text.strip('\\n').strip('\\r').strip('\\t')\n",
        "        if self.stp_wrd == 'russian':\n",
        "            text = re.sub(r'https?://\\S+|www\\.\\S+', \"электронныйадресс\", text)\n",
        "        else:\n",
        "            text = re.sub(r'https?://\\S+|www\\.\\S+', \"weblinks\", text)\n",
        "\n",
        "        text = re.sub(\"\\s\\r\\n\\|-\\s\\r\\n|\\r\\n\", '', str(text))\n",
        "        text = re.sub(\"[0-9]|[-—.,:;_%©«»?*!@#№$^•·&()]|[+=]|[[]|[]]|[/]|\", '', text)\n",
        "        text = re.sub(r\"\\r\\n\\t|\\n|\\\\s|\\r\\t|\\\\n\", ' ', text)\n",
        "        text = re.sub(r'[\\xad]|[\\s+]', ' ', text.strip())\n",
        "        text = re.sub('\\n', ' ', text)\n",
        "        if self.stp_wrd != 'russian':\n",
        "            text = clean(text, no_emoji=True)\n",
        "        else:\n",
        "            pass\n",
        "        text = [self.morpher.parse(word)[0].normal_form for word in text.split() if word not in self.sw]\n",
        "        if self.like_list:\n",
        "            return text\n",
        "        else:\n",
        "            text = \" \".join(text)\n",
        "            return text\n",
        "\n",
        "\n",
        "    def get_feature_names_out(self, feature_names_out=None):\n",
        "        if feature_names_out != None:\n",
        "            return feature_names_out\n",
        "        else:\n",
        "            return [self.key]\n",
        "\n",
        "    def fit(self, X, y=None):\n",
        "        return self\n",
        "\n",
        "    def transform(self, X) -> pd.DataFrame:\n",
        "        tqdm.pandas()\n",
        "        X[self.key] = X[self.key].progress_apply(lambda x: CleanText.clean_text(self, x))\n",
        "        return X[self.key]\n",
        "\n",
        "\n",
        "def get_lda_vector(lda, text):\n",
        "    unseen_doc = common_dictionary.doc2bow(text)\n",
        "    lda_tuple = lda[unseen_doc]\n",
        "\n",
        "    not_null_topics = dict(zip([i[0] for i in lda_tuple], [i[1] for i in lda_tuple]))\n",
        "\n",
        "    output_vector = []\n",
        "    for i in range(len(topics_words)):\n",
        "        if i not in not_null_topics:\n",
        "            output_vector.append(0)\n",
        "        else:\n",
        "            output_vector.append(not_null_topics[i])\n",
        "\n",
        "    return np.array(output_vector)\n",
        "\n",
        "\n",
        "def convert_to_vw_format(index, row):\n",
        "    return f'doc{index} {\" \".join(row.RPN_questions)} |topic {row.doc_id}'\n",
        "\n",
        "\n",
        "def save_model_pkl(path, model_name):\n",
        "    with open(path, \"wb\") as mod:\n",
        "        pickle.dump(model_name, mod)\n",
        "\n",
        "\n",
        "def load_model_pkl(path):\n",
        "    with open(path, \"rb\") as mod1:\n",
        "        model_name = pickle.load(mod1)\n",
        "    return model_name"
      ],
      "metadata": {
        "id": "pxpoc_ZTPlnU",
        "colab": {
          "base_uri": "https://localhost:8080/"
        },
        "outputId": "a1a0ee34-3dd6-4e56-90f3-f7681c812e2a"
      },
      "execution_count": 3,
      "outputs": [
        {
          "output_type": "stream",
          "name": "stderr",
          "text": [
            "/usr/local/lib/python3.10/dist-packages/ipykernel/ipkernel.py:283: DeprecationWarning: `should_run_async` will not call `transform_cell` automatically in the future. Please pass the result to `transformed_cell` argument and any exception that happen during thetransform in `preprocessing_exc_tuple` in IPython 7.17 and above.\n",
            "  and should_run_async(code)\n",
            "<>:55: DeprecationWarning: invalid escape sequence '\\s'\n"
          ]
        }
      ]
    },
    {
      "cell_type": "code",
      "source": [
        "path_to_work_dir = \"/content/drive/MyDrive/NLP_HW4/\""
      ],
      "metadata": {
        "id": "6XASYDiIPsvI"
      },
      "execution_count": 4,
      "outputs": []
    },
    {
      "cell_type": "code",
      "source": [
        "drive.mount('/content/drive/')"
      ],
      "metadata": {
        "colab": {
          "base_uri": "https://localhost:8080/"
        },
        "id": "euPyiP_dQCwg",
        "outputId": "d2c750ea-6247-4dcc-b68f-9626709acf0d"
      },
      "execution_count": 5,
      "outputs": [
        {
          "output_type": "stream",
          "name": "stdout",
          "text": [
            "Mounted at /content/drive/\n"
          ]
        }
      ]
    },
    {
      "cell_type": "code",
      "source": [
        "# MDir(path_to_work_dir)"
      ],
      "metadata": {
        "id": "GxMi0ffzQFU6"
      },
      "execution_count": 6,
      "outputs": []
    },
    {
      "cell_type": "markdown",
      "source": [
        "# II Parser"
      ],
      "metadata": {
        "id": "lRCoQ1hazDr9"
      }
    },
    {
      "cell_type": "markdown",
      "source": [
        "## 3 Load Data"
      ],
      "metadata": {
        "id": "_Bw3z1dOQeQu"
      }
    },
    {
      "cell_type": "code",
      "source": [
        "## найти id каждого вопроса на страницах\n",
        "page = 1\n",
        "max_page = 4000 # One page contains five questions. This is equal to 20000 questions\n",
        "\n",
        "main_url = 'https://zpp.rospotrebnadzor.ru/Forum/Appeals/AjaxindexList?page={page}&searchtext=&categories=[]'\n",
        "\n",
        "def ids_from_page(soup):\n",
        "    return [i.get('href') for i  in soup.findAll('a', {'class':'appeal-title-link'})]\n",
        "\n",
        "urls = []\n",
        "for page in tqdm(range(1, max_page), desc='Pages'):\n",
        "    time.sleep(0.2)\n",
        "    res = requests.get(main_url.format(page=page))\n",
        "    text_page = res.text\n",
        "    soup = BeautifulSoup(text_page)\n",
        "    urls.extend(ids_from_page(soup))"
      ],
      "metadata": {
        "colab": {
          "base_uri": "https://localhost:8080/"
        },
        "id": "yryuk67QQhq1",
        "outputId": "8b45f238-e845-4867-e2de-6542e836db3d"
      },
      "execution_count": 101,
      "outputs": [
        {
          "output_type": "stream",
          "name": "stderr",
          "text": [
            "Pages: 100%|██████████| 3999/3999 [1:04:38<00:00,  1.03it/s]\n"
          ]
        }
      ]
    },
    {
      "cell_type": "code",
      "source": [
        "urls[:7], len(urls)"
      ],
      "metadata": {
        "colab": {
          "base_uri": "https://localhost:8080/"
        },
        "id": "T4daIg2NWwPp",
        "outputId": "d59ec6f8-3340-4ce0-976f-10866f25edc7"
      },
      "execution_count": 103,
      "outputs": [
        {
          "output_type": "stream",
          "name": "stderr",
          "text": [
            "/usr/local/lib/python3.10/dist-packages/ipykernel/ipkernel.py:283: DeprecationWarning: `should_run_async` will not call `transform_cell` automatically in the future. Please pass the result to `transformed_cell` argument and any exception that happen during thetransform in `preprocessing_exc_tuple` in IPython 7.17 and above.\n",
            "  and should_run_async(code)\n"
          ]
        },
        {
          "output_type": "execute_result",
          "data": {
            "text/plain": [
              "(['/Forum/Appeals/Details/44224',\n",
              "  '/Forum/Appeals/Details/44219',\n",
              "  '/Forum/Appeals/Details/44214',\n",
              "  '/Forum/Appeals/Details/44211',\n",
              "  '/Forum/Appeals/Details/44210',\n",
              "  '/Forum/Appeals/Details/44209',\n",
              "  '/Forum/Appeals/Details/44207'],\n",
              " 19995)"
            ]
          },
          "metadata": {},
          "execution_count": 103
        }
      ]
    },
    {
      "cell_type": "code",
      "source": [
        "df_urls = pd.DataFrame({\"Urls\": urls})\n",
        "df_urls.to_csv(path_to_work_dir + \"urls.csv\", index=None)"
      ],
      "metadata": {
        "colab": {
          "base_uri": "https://localhost:8080/"
        },
        "id": "vUXZo83zYW3P",
        "outputId": "1ddad808-ce69-4609-d97a-1483181a94ca"
      },
      "execution_count": 106,
      "outputs": [
        {
          "output_type": "stream",
          "name": "stderr",
          "text": [
            "/usr/local/lib/python3.10/dist-packages/ipykernel/ipkernel.py:283: DeprecationWarning: `should_run_async` will not call `transform_cell` automatically in the future. Please pass the result to `transformed_cell` argument and any exception that happen during thetransform in `preprocessing_exc_tuple` in IPython 7.17 and above.\n",
            "  and should_run_async(code)\n"
          ]
        }
      ]
    },
    {
      "cell_type": "code",
      "source": [
        "## имея id запросов достанем тексты на страницах\n",
        "domain = 'https://zpp.rospotrebnadzor.ru'\n",
        "\n",
        "def get_text_page_question(soup):\n",
        "    return soup.findAll('p', {'class':'appeal-details-message'})[0].text\n",
        "def get_text_page_answer(soup):\n",
        "    return soup.findAll('p', {'class':'appeal-comments-message'})[0].text\n",
        "\n",
        "question = []\n",
        "answers = []\n",
        "\n",
        "for url in tqdm(df_urls['Urls'][5001:15000], desc='Pages'):\n",
        "    time.sleep(0.5)\n",
        "    res = requests.get(urljoin(domain, url))\n",
        "    soup = BeautifulSoup(res.text)\n",
        "\n",
        "    question.append(get_text_page_question(soup))\n",
        "    try:\n",
        "        answers.append(get_text_page_answer(soup))\n",
        "    except:\n",
        "        answers.append('No answer')"
      ],
      "metadata": {
        "colab": {
          "base_uri": "https://localhost:8080/"
        },
        "id": "alGHdqPfSQ8l",
        "outputId": "4a7b433d-a76e-45f8-d0f6-d1bc13d343ef"
      },
      "execution_count": 119,
      "outputs": [
        {
          "output_type": "stream",
          "name": "stderr",
          "text": [
            "/usr/local/lib/python3.10/dist-packages/ipykernel/ipkernel.py:283: DeprecationWarning: `should_run_async` will not call `transform_cell` automatically in the future. Please pass the result to `transformed_cell` argument and any exception that happen during thetransform in `preprocessing_exc_tuple` in IPython 7.17 and above.\n",
            "  and should_run_async(code)\n",
            "Pages: 100%|██████████| 5000/5000 [1:45:51<00:00,  1.27s/it]\n"
          ]
        }
      ]
    },
    {
      "cell_type": "code",
      "source": [
        "for url in tqdm(df_urls['Urls'][15001:], desc='Pages'):\n",
        "    time.sleep(0.5)\n",
        "    res = requests.get(urljoin(domain, url))\n",
        "    soup = BeautifulSoup(res.text)\n",
        "\n",
        "    question.append(get_text_page_question(soup))\n",
        "    try:\n",
        "        answers.append(get_text_page_answer(soup))\n",
        "    except:\n",
        "        answers.append('No answer')"
      ],
      "metadata": {
        "colab": {
          "base_uri": "https://localhost:8080/"
        },
        "id": "quu1CIy_0Arl",
        "outputId": "d02ecf53-05b7-4a28-9e2c-82750191086f"
      },
      "execution_count": 182,
      "outputs": [
        {
          "output_type": "stream",
          "name": "stderr",
          "text": [
            "/usr/local/lib/python3.10/dist-packages/ipykernel/ipkernel.py:283: DeprecationWarning: `should_run_async` will not call `transform_cell` automatically in the future. Please pass the result to `transformed_cell` argument and any exception that happen during thetransform in `preprocessing_exc_tuple` in IPython 7.17 and above.\n",
            "  and should_run_async(code)\n",
            "Pages: 100%|██████████| 4994/4994 [1:47:29<00:00,  1.29s/it]\n"
          ]
        }
      ]
    },
    {
      "cell_type": "code",
      "source": [
        "document_id = []\n",
        "for u in urls:\n",
        "    document_id.append(re.sub(\"[A-Z]|[a-z]|\\/\", \"\", u))"
      ],
      "metadata": {
        "id": "X4JYnJCdQ3p6",
        "colab": {
          "base_uri": "https://localhost:8080/"
        },
        "outputId": "9d4ce359-1cb3-4a21-e156-96f34164ea47"
      },
      "execution_count": 183,
      "outputs": [
        {
          "output_type": "stream",
          "name": "stderr",
          "text": [
            "/usr/local/lib/python3.10/dist-packages/ipykernel/ipkernel.py:283: DeprecationWarning: `should_run_async` will not call `transform_cell` automatically in the future. Please pass the result to `transformed_cell` argument and any exception that happen during thetransform in `preprocessing_exc_tuple` in IPython 7.17 and above.\n",
            "  and should_run_async(code)\n",
            "<>:3: DeprecationWarning: invalid escape sequence '\\/'\n",
            "<>:3: DeprecationWarning: invalid escape sequence '\\/'\n",
            "<ipython-input-183-97b1d769dac7>:3: DeprecationWarning: invalid escape sequence '\\/'\n",
            "  document_id.append(re.sub(\"[A-Z]|[a-z]|\\/\", \"\", u))\n"
          ]
        }
      ]
    },
    {
      "cell_type": "code",
      "source": [
        "document_id[0]"
      ],
      "metadata": {
        "colab": {
          "base_uri": "https://localhost:8080/",
          "height": 91
        },
        "id": "nXAbxKBmSPHz",
        "outputId": "b8e55153-e615-452b-d06b-b4790ac43f68"
      },
      "execution_count": 184,
      "outputs": [
        {
          "output_type": "stream",
          "name": "stderr",
          "text": [
            "/usr/local/lib/python3.10/dist-packages/ipykernel/ipkernel.py:283: DeprecationWarning: `should_run_async` will not call `transform_cell` automatically in the future. Please pass the result to `transformed_cell` argument and any exception that happen during thetransform in `preprocessing_exc_tuple` in IPython 7.17 and above.\n",
            "  and should_run_async(code)\n"
          ]
        },
        {
          "output_type": "execute_result",
          "data": {
            "text/plain": [
              "'44224'"
            ],
            "application/vnd.google.colaboratory.intrinsic+json": {
              "type": "string"
            }
          },
          "metadata": {},
          "execution_count": 184
        }
      ]
    },
    {
      "cell_type": "code",
      "source": [
        "question[0]"
      ],
      "metadata": {
        "colab": {
          "base_uri": "https://localhost:8080/",
          "height": 215
        },
        "id": "jFhkr4NGzouM",
        "outputId": "afb46a43-d510-4ed2-fc4e-9a0e809bc930"
      },
      "execution_count": 185,
      "outputs": [
        {
          "output_type": "stream",
          "name": "stderr",
          "text": [
            "/usr/local/lib/python3.10/dist-packages/ipykernel/ipkernel.py:283: DeprecationWarning: `should_run_async` will not call `transform_cell` automatically in the future. Please pass the result to `transformed_cell` argument and any exception that happen during thetransform in `preprocessing_exc_tuple` in IPython 7.17 and above.\n",
            "  and should_run_async(code)\n"
          ]
        },
        {
          "output_type": "execute_result",
          "data": {
            "text/plain": [
              "'Здравствуйте,  заказала на сайте Тех-мо швейной оборудование, мне выставили счёт, взяла кредит, оплатила по счёту.\\r\\nДалее сказали подождать, что деньги не пришли ещё,  продала выходные, написала снова.\\r\\nСказали что пришли и в течении 3х рабочих дней всё отправят, опять тишина 3 дня.\\r\\nНаписала с вопросом, отправили ли товар и как его отследить. Мне сказали , что не отправили, и извинились.\\r\\nПредложили вернуть деньги или отправить через несколько дней.\\r\\nЯ согласилась на более позднюю доставку.\\r\\nВ день погрузки я им опять написала, с вопросом: отгрузили ли товар.\\r\\nМне сказали отгрузили, ждите 2-3 дня, пришлём  трек номер.\\r\\nТут я уже не выдержала, стала ругаться, попутно написала в ТК и мне сказали что заказа на моё имя нет и компании такой у них тоже в заказах нет. Я написала фирме об этом пригрозила судом и полицией и законом о просрочке отправки.\\r\\nОни сказали что сами на меня подадут в суд за клевету и что мой заказ отменён и вернут деньги в течении 30 дней.\\r\\nХодила в полицию, написала заявление.\\r\\nКак мне вернуть свои деньги и какие статьи закона к этому случаю пременимы?'"
            ],
            "application/vnd.google.colaboratory.intrinsic+json": {
              "type": "string"
            }
          },
          "metadata": {},
          "execution_count": 185
        }
      ]
    },
    {
      "cell_type": "code",
      "source": [
        "len(document_id), len(question), len(answers)"
      ],
      "metadata": {
        "colab": {
          "base_uri": "https://localhost:8080/"
        },
        "id": "DMJJ1-Xwk0xW",
        "outputId": "60536b97-c4f7-4775-a2c7-a7e82126a560"
      },
      "execution_count": 186,
      "outputs": [
        {
          "output_type": "stream",
          "name": "stderr",
          "text": [
            "/usr/local/lib/python3.10/dist-packages/ipykernel/ipkernel.py:283: DeprecationWarning: `should_run_async` will not call `transform_cell` automatically in the future. Please pass the result to `transformed_cell` argument and any exception that happen during thetransform in `preprocessing_exc_tuple` in IPython 7.17 and above.\n",
            "  and should_run_async(code)\n"
          ]
        },
        {
          "output_type": "execute_result",
          "data": {
            "text/plain": [
              "(19995, 19993, 19993)"
            ]
          },
          "metadata": {},
          "execution_count": 186
        }
      ]
    },
    {
      "cell_type": "code",
      "source": [
        "df = pd.DataFrame({\"doc_id\": document_id[:19993],\"RPN_questions\": question, \"RPN_answers\": answers})"
      ],
      "metadata": {
        "id": "ajrswiONzkGV",
        "colab": {
          "base_uri": "https://localhost:8080/"
        },
        "outputId": "6224867e-8e84-4455-9839-a7b77ee2f4bb"
      },
      "execution_count": 188,
      "outputs": [
        {
          "output_type": "stream",
          "name": "stderr",
          "text": [
            "/usr/local/lib/python3.10/dist-packages/ipykernel/ipkernel.py:283: DeprecationWarning: `should_run_async` will not call `transform_cell` automatically in the future. Please pass the result to `transformed_cell` argument and any exception that happen during thetransform in `preprocessing_exc_tuple` in IPython 7.17 and above.\n",
            "  and should_run_async(code)\n"
          ]
        }
      ]
    },
    {
      "cell_type": "code",
      "source": [
        "df.head(5)"
      ],
      "metadata": {
        "id": "HziWQ1Up0AwA",
        "colab": {
          "base_uri": "https://localhost:8080/",
          "height": 261
        },
        "outputId": "046263f5-e3c4-43a6-b53f-ae0fd7487c88"
      },
      "execution_count": 189,
      "outputs": [
        {
          "output_type": "stream",
          "name": "stderr",
          "text": [
            "/usr/local/lib/python3.10/dist-packages/ipykernel/ipkernel.py:283: DeprecationWarning: `should_run_async` will not call `transform_cell` automatically in the future. Please pass the result to `transformed_cell` argument and any exception that happen during thetransform in `preprocessing_exc_tuple` in IPython 7.17 and above.\n",
            "  and should_run_async(code)\n"
          ]
        },
        {
          "output_type": "execute_result",
          "data": {
            "text/plain": [
              "  doc_id                                      RPN_questions  \\\n",
              "0  44224  Здравствуйте,  заказала на сайте Тех-мо швейно...   \n",
              "1  44219  Здравствуйте! Мы проживаем по адресу г. Москва...   \n",
              "2  44214  Здравствуйте! Под нашей квартирой,\\r\\nрасполож...   \n",
              "3  44211  Я купила на Вайлдберриз цветочную композицию и...   \n",
              "4  44210  Добрый день.\\r\\nЯ на маркетплейсе увидел,что ц...   \n",
              "\n",
              "                                         RPN_answers  \n",
              "0  ДОбрый день! Вам необходимо указать место нахо...  \n",
              "1  Добрый день! Управление Роспотребнадзора по Мо...  \n",
              "2  Уважаемая Анна! Раздел «Виртуальная приёмная» ...  \n",
              "3  Добрый день! В связи с возросшим числом коммен...  \n",
              "4  Добрый день! Вам необходимо направить обращени...  "
            ],
            "text/html": [
              "\n",
              "  <div id=\"df-340acd78-54de-4ff4-b8fb-9287ae1e0858\" class=\"colab-df-container\">\n",
              "    <div>\n",
              "<style scoped>\n",
              "    .dataframe tbody tr th:only-of-type {\n",
              "        vertical-align: middle;\n",
              "    }\n",
              "\n",
              "    .dataframe tbody tr th {\n",
              "        vertical-align: top;\n",
              "    }\n",
              "\n",
              "    .dataframe thead th {\n",
              "        text-align: right;\n",
              "    }\n",
              "</style>\n",
              "<table border=\"1\" class=\"dataframe\">\n",
              "  <thead>\n",
              "    <tr style=\"text-align: right;\">\n",
              "      <th></th>\n",
              "      <th>doc_id</th>\n",
              "      <th>RPN_questions</th>\n",
              "      <th>RPN_answers</th>\n",
              "    </tr>\n",
              "  </thead>\n",
              "  <tbody>\n",
              "    <tr>\n",
              "      <th>0</th>\n",
              "      <td>44224</td>\n",
              "      <td>Здравствуйте,  заказала на сайте Тех-мо швейно...</td>\n",
              "      <td>ДОбрый день! Вам необходимо указать место нахо...</td>\n",
              "    </tr>\n",
              "    <tr>\n",
              "      <th>1</th>\n",
              "      <td>44219</td>\n",
              "      <td>Здравствуйте! Мы проживаем по адресу г. Москва...</td>\n",
              "      <td>Добрый день! Управление Роспотребнадзора по Мо...</td>\n",
              "    </tr>\n",
              "    <tr>\n",
              "      <th>2</th>\n",
              "      <td>44214</td>\n",
              "      <td>Здравствуйте! Под нашей квартирой,\\r\\nрасполож...</td>\n",
              "      <td>Уважаемая Анна! Раздел «Виртуальная приёмная» ...</td>\n",
              "    </tr>\n",
              "    <tr>\n",
              "      <th>3</th>\n",
              "      <td>44211</td>\n",
              "      <td>Я купила на Вайлдберриз цветочную композицию и...</td>\n",
              "      <td>Добрый день! В связи с возросшим числом коммен...</td>\n",
              "    </tr>\n",
              "    <tr>\n",
              "      <th>4</th>\n",
              "      <td>44210</td>\n",
              "      <td>Добрый день.\\r\\nЯ на маркетплейсе увидел,что ц...</td>\n",
              "      <td>Добрый день! Вам необходимо направить обращени...</td>\n",
              "    </tr>\n",
              "  </tbody>\n",
              "</table>\n",
              "</div>\n",
              "    <div class=\"colab-df-buttons\">\n",
              "\n",
              "  <div class=\"colab-df-container\">\n",
              "    <button class=\"colab-df-convert\" onclick=\"convertToInteractive('df-340acd78-54de-4ff4-b8fb-9287ae1e0858')\"\n",
              "            title=\"Convert this dataframe to an interactive table.\"\n",
              "            style=\"display:none;\">\n",
              "\n",
              "  <svg xmlns=\"http://www.w3.org/2000/svg\" height=\"24px\" viewBox=\"0 -960 960 960\">\n",
              "    <path d=\"M120-120v-720h720v720H120Zm60-500h600v-160H180v160Zm220 220h160v-160H400v160Zm0 220h160v-160H400v160ZM180-400h160v-160H180v160Zm440 0h160v-160H620v160ZM180-180h160v-160H180v160Zm440 0h160v-160H620v160Z\"/>\n",
              "  </svg>\n",
              "    </button>\n",
              "\n",
              "  <style>\n",
              "    .colab-df-container {\n",
              "      display:flex;\n",
              "      gap: 12px;\n",
              "    }\n",
              "\n",
              "    .colab-df-convert {\n",
              "      background-color: #E8F0FE;\n",
              "      border: none;\n",
              "      border-radius: 50%;\n",
              "      cursor: pointer;\n",
              "      display: none;\n",
              "      fill: #1967D2;\n",
              "      height: 32px;\n",
              "      padding: 0 0 0 0;\n",
              "      width: 32px;\n",
              "    }\n",
              "\n",
              "    .colab-df-convert:hover {\n",
              "      background-color: #E2EBFA;\n",
              "      box-shadow: 0px 1px 2px rgba(60, 64, 67, 0.3), 0px 1px 3px 1px rgba(60, 64, 67, 0.15);\n",
              "      fill: #174EA6;\n",
              "    }\n",
              "\n",
              "    .colab-df-buttons div {\n",
              "      margin-bottom: 4px;\n",
              "    }\n",
              "\n",
              "    [theme=dark] .colab-df-convert {\n",
              "      background-color: #3B4455;\n",
              "      fill: #D2E3FC;\n",
              "    }\n",
              "\n",
              "    [theme=dark] .colab-df-convert:hover {\n",
              "      background-color: #434B5C;\n",
              "      box-shadow: 0px 1px 3px 1px rgba(0, 0, 0, 0.15);\n",
              "      filter: drop-shadow(0px 1px 2px rgba(0, 0, 0, 0.3));\n",
              "      fill: #FFFFFF;\n",
              "    }\n",
              "  </style>\n",
              "\n",
              "    <script>\n",
              "      const buttonEl =\n",
              "        document.querySelector('#df-340acd78-54de-4ff4-b8fb-9287ae1e0858 button.colab-df-convert');\n",
              "      buttonEl.style.display =\n",
              "        google.colab.kernel.accessAllowed ? 'block' : 'none';\n",
              "\n",
              "      async function convertToInteractive(key) {\n",
              "        const element = document.querySelector('#df-340acd78-54de-4ff4-b8fb-9287ae1e0858');\n",
              "        const dataTable =\n",
              "          await google.colab.kernel.invokeFunction('convertToInteractive',\n",
              "                                                    [key], {});\n",
              "        if (!dataTable) return;\n",
              "\n",
              "        const docLinkHtml = 'Like what you see? Visit the ' +\n",
              "          '<a target=\"_blank\" href=https://colab.research.google.com/notebooks/data_table.ipynb>data table notebook</a>'\n",
              "          + ' to learn more about interactive tables.';\n",
              "        element.innerHTML = '';\n",
              "        dataTable['output_type'] = 'display_data';\n",
              "        await google.colab.output.renderOutput(dataTable, element);\n",
              "        const docLink = document.createElement('div');\n",
              "        docLink.innerHTML = docLinkHtml;\n",
              "        element.appendChild(docLink);\n",
              "      }\n",
              "    </script>\n",
              "  </div>\n",
              "\n",
              "\n",
              "<div id=\"df-e1129608-a3ae-4229-a06b-114004ed2eb6\">\n",
              "  <button class=\"colab-df-quickchart\" onclick=\"quickchart('df-e1129608-a3ae-4229-a06b-114004ed2eb6')\"\n",
              "            title=\"Suggest charts\"\n",
              "            style=\"display:none;\">\n",
              "\n",
              "<svg xmlns=\"http://www.w3.org/2000/svg\" height=\"24px\"viewBox=\"0 0 24 24\"\n",
              "     width=\"24px\">\n",
              "    <g>\n",
              "        <path d=\"M19 3H5c-1.1 0-2 .9-2 2v14c0 1.1.9 2 2 2h14c1.1 0 2-.9 2-2V5c0-1.1-.9-2-2-2zM9 17H7v-7h2v7zm4 0h-2V7h2v10zm4 0h-2v-4h2v4z\"/>\n",
              "    </g>\n",
              "</svg>\n",
              "  </button>\n",
              "\n",
              "<style>\n",
              "  .colab-df-quickchart {\n",
              "      --bg-color: #E8F0FE;\n",
              "      --fill-color: #1967D2;\n",
              "      --hover-bg-color: #E2EBFA;\n",
              "      --hover-fill-color: #174EA6;\n",
              "      --disabled-fill-color: #AAA;\n",
              "      --disabled-bg-color: #DDD;\n",
              "  }\n",
              "\n",
              "  [theme=dark] .colab-df-quickchart {\n",
              "      --bg-color: #3B4455;\n",
              "      --fill-color: #D2E3FC;\n",
              "      --hover-bg-color: #434B5C;\n",
              "      --hover-fill-color: #FFFFFF;\n",
              "      --disabled-bg-color: #3B4455;\n",
              "      --disabled-fill-color: #666;\n",
              "  }\n",
              "\n",
              "  .colab-df-quickchart {\n",
              "    background-color: var(--bg-color);\n",
              "    border: none;\n",
              "    border-radius: 50%;\n",
              "    cursor: pointer;\n",
              "    display: none;\n",
              "    fill: var(--fill-color);\n",
              "    height: 32px;\n",
              "    padding: 0;\n",
              "    width: 32px;\n",
              "  }\n",
              "\n",
              "  .colab-df-quickchart:hover {\n",
              "    background-color: var(--hover-bg-color);\n",
              "    box-shadow: 0 1px 2px rgba(60, 64, 67, 0.3), 0 1px 3px 1px rgba(60, 64, 67, 0.15);\n",
              "    fill: var(--button-hover-fill-color);\n",
              "  }\n",
              "\n",
              "  .colab-df-quickchart-complete:disabled,\n",
              "  .colab-df-quickchart-complete:disabled:hover {\n",
              "    background-color: var(--disabled-bg-color);\n",
              "    fill: var(--disabled-fill-color);\n",
              "    box-shadow: none;\n",
              "  }\n",
              "\n",
              "  .colab-df-spinner {\n",
              "    border: 2px solid var(--fill-color);\n",
              "    border-color: transparent;\n",
              "    border-bottom-color: var(--fill-color);\n",
              "    animation:\n",
              "      spin 1s steps(1) infinite;\n",
              "  }\n",
              "\n",
              "  @keyframes spin {\n",
              "    0% {\n",
              "      border-color: transparent;\n",
              "      border-bottom-color: var(--fill-color);\n",
              "      border-left-color: var(--fill-color);\n",
              "    }\n",
              "    20% {\n",
              "      border-color: transparent;\n",
              "      border-left-color: var(--fill-color);\n",
              "      border-top-color: var(--fill-color);\n",
              "    }\n",
              "    30% {\n",
              "      border-color: transparent;\n",
              "      border-left-color: var(--fill-color);\n",
              "      border-top-color: var(--fill-color);\n",
              "      border-right-color: var(--fill-color);\n",
              "    }\n",
              "    40% {\n",
              "      border-color: transparent;\n",
              "      border-right-color: var(--fill-color);\n",
              "      border-top-color: var(--fill-color);\n",
              "    }\n",
              "    60% {\n",
              "      border-color: transparent;\n",
              "      border-right-color: var(--fill-color);\n",
              "    }\n",
              "    80% {\n",
              "      border-color: transparent;\n",
              "      border-right-color: var(--fill-color);\n",
              "      border-bottom-color: var(--fill-color);\n",
              "    }\n",
              "    90% {\n",
              "      border-color: transparent;\n",
              "      border-bottom-color: var(--fill-color);\n",
              "    }\n",
              "  }\n",
              "</style>\n",
              "\n",
              "  <script>\n",
              "    async function quickchart(key) {\n",
              "      const quickchartButtonEl =\n",
              "        document.querySelector('#' + key + ' button');\n",
              "      quickchartButtonEl.disabled = true;  // To prevent multiple clicks.\n",
              "      quickchartButtonEl.classList.add('colab-df-spinner');\n",
              "      try {\n",
              "        const charts = await google.colab.kernel.invokeFunction(\n",
              "            'suggestCharts', [key], {});\n",
              "      } catch (error) {\n",
              "        console.error('Error during call to suggestCharts:', error);\n",
              "      }\n",
              "      quickchartButtonEl.classList.remove('colab-df-spinner');\n",
              "      quickchartButtonEl.classList.add('colab-df-quickchart-complete');\n",
              "    }\n",
              "    (() => {\n",
              "      let quickchartButtonEl =\n",
              "        document.querySelector('#df-e1129608-a3ae-4229-a06b-114004ed2eb6 button');\n",
              "      quickchartButtonEl.style.display =\n",
              "        google.colab.kernel.accessAllowed ? 'block' : 'none';\n",
              "    })();\n",
              "  </script>\n",
              "</div>\n",
              "    </div>\n",
              "  </div>\n"
            ],
            "application/vnd.google.colaboratory.intrinsic+json": {
              "type": "dataframe",
              "variable_name": "df",
              "summary": "{\n  \"name\": \"df\",\n  \"rows\": 19993,\n  \"fields\": [\n    {\n      \"column\": \"doc_id\",\n      \"properties\": {\n        \"dtype\": \"string\",\n        \"num_unique_values\": 19993,\n        \"samples\": [\n          \"16698\",\n          \"35617\",\n          \"41770\"\n        ],\n        \"semantic_type\": \"\",\n        \"description\": \"\"\n      }\n    },\n    {\n      \"column\": \"RPN_questions\",\n      \"properties\": {\n        \"dtype\": \"string\",\n        \"num_unique_values\": 19650,\n        \"samples\": [\n          \"\\u0414\\u043e\\u0431\\u0440\\u044b\\u0439 \\u0434\\u0435\\u043d\\u044c! \\u041f\\u0440\\u0438 \\u043f\\u043e\\u043a\\u0443\\u043f\\u043a\\u0435 \\u0442\\u043e\\u0432\\u0430\\u0440\\u043e\\u0432 \\u0443 \\u0418\\u041f \\u0421\\u0438\\u043d\\u044f\\u043a\\u043e\\u0432 \\u0410\\u043b\\u0435\\u043a\\u0441\\u0435\\u0439 \\u0412\\u0430\\u043b\\u0435\\u0440\\u044c\\u0435\\u0432\\u0438\\u0447 (\\u0433. \\u041a\\u0438\\u0440\\u043e\\u0432) 01.04.2022 \\u0433. \\u0441 \\u043a\\u0430\\u0440\\u0442\\u044b \\u0441\\u043f\\u0438\\u0441\\u0430\\u043d\\u0430 \\u0441\\u0442\\u043e\\u0438\\u043c\\u043e\\u0441\\u0442\\u044c \\u0431\\u043e\\u043b\\u044c\\u0448\\u0435, \\u0447\\u0435\\u043c \\u0443\\u043a\\u0430\\u0437\\u0430\\u043d\\u043e \\u043d\\u0430 \\u0446\\u0435\\u043d\\u043d\\u0438\\u043a\\u0435. \\u041f\\u0440\\u043e\\u0448\\u0443 \\u0440\\u0430\\u0437\\u044a\\u044f\\u0441\\u043d\\u0438\\u0442\\u044c \\u043f\\u0440\\u0430\\u0432\\u043e\\u043c\\u0435\\u0440\\u043d\\u043e\\u0441\\u0442\\u044c \\u0432\\u044b\\u0448\\u0435\\u0443\\u043a\\u0430\\u0437\\u0430\\u043d\\u043d\\u044b\\u0445 \\u0434\\u0435\\u0439\\u0441\\u0442\\u0432\\u0438\\u0439. \\r\\n\\u0421\\u043f\\u0430\\u0441\\u0438\\u0431\\u043e. \",\n          \"\\u041f\\u043e\\u0441\\u043b\\u0435 \\u0437\\u0430\\u043f\\u0443\\u0441\\u043a\\u0430 \\u0441\\u0438\\u0441\\u0442\\u0435\\u043c\\u044b \\u043e\\u0442\\u043e\\u043f\\u043b\\u0435\\u043d\\u0438\\u044f \\u0432 \\u043e\\u0434\\u043d\\u043e\\u043c \\u0438\\u0437 \\u0447\\u0435\\u0442\\u044b\\u0440\\u0451\\u0445 \\u0441\\u0442\\u043e\\u044f\\u043a\\u043e\\u0432 \\u043e\\u0442\\u043e\\u043f\\u043b\\u0435\\u043d\\u0438\\u044f \\u0432 \\u043c\\u043e\\u0435\\u0439 \\u043a\\u0432\\u0430\\u0440\\u0442\\u0438\\u0440\\u0435 \\u043d\\u0430\\u0431\\u043b\\u044e\\u0434\\u0430\\u0435\\u0442\\u0441\\u044f \\u0437\\u043d\\u0430\\u0447\\u0438\\u0442\\u0435\\u043b\\u044c\\u043d\\u044b\\u0439 \\u0448\\u0443\\u043c (\\u0432\\u044b\\u0448\\u0435 30 \\u0434\\u0411 \\u0432 \\u043d\\u043e\\u0447\\u043d\\u043e\\u0435 \\u0432\\u0440\\u0435\\u043c\\u044f). \\u0412 \\u043f\\u0440\\u0435\\u0434\\u044b\\u0434\\u0443\\u0449\\u0438\\u0435 \\u0433\\u043e\\u0434\\u044b \\u043f\\u043e \\u0437\\u0430\\u044f\\u0432\\u043a\\u0435 \\u0432 \\u0443\\u043f\\u0440\\u0430\\u0432\\u043b\\u044f\\u044e\\u0449\\u0443\\u044e \\u043a\\u043e\\u043c\\u043f\\u0430\\u043d\\u0438\\u044e \\u043f\\u0440\\u043e\\u0431\\u043b\\u0435\\u043c\\u0430 \\u043e\\u043f\\u0435\\u0440\\u0430\\u0442\\u0438\\u0432\\u043d\\u043e \\u0440\\u0435\\u0448\\u0430\\u043b\\u0430\\u0441\\u044c \\u043f\\u0443\\u0442\\u0451\\u043c \\u0431\\u0430\\u043b\\u0430\\u043d\\u0441\\u0438\\u0440\\u043e\\u0432\\u043a\\u0438 \\u0434\\u0430\\u0432\\u043b\\u0435\\u043d\\u0438\\u0439 \\u043d\\u0430 \\u0432\\u0445\\u043e\\u0434\\u0435 \\u0438 \\u0432\\u044b\\u0445\\u043e\\u0434\\u0435 \\u0441\\u0442\\u043e\\u044f\\u043a\\u0430 \\u043e\\u0442\\u043e\\u043f\\u043b\\u0435\\u043d\\u0438\\u044f.  \\u0412 2021 \\u0433\\u043e\\u0434\\u0443 \\u0443\\u043f\\u0440\\u0430\\u0432\\u043b\\u044f\\u044e\\u0449\\u0430\\u044f \\u043a\\u043e\\u043c\\u043f\\u0430\\u043d\\u0438\\u044f (\\u041e\\u041e\\u041e \\u00ab\\u0423\\u041a \\u00ab\\u0421\\u0442\\u0430\\u043d\\u0434\\u0430\\u0440\\u0442\\u00bb, \\u0433. \\u0415\\u043a\\u0430\\u0442\\u0435\\u0440\\u0438\\u043d\\u0431\\u0443\\u0440\\u0433) \\u0437\\u0430\\u043a\\u0440\\u044b\\u0432\\u0430\\u0435\\u0442 \\u0437\\u0430\\u044f\\u0432\\u043a\\u0438 \\u043f\\u043e \\u043f\\u0440\\u043e\\u0431\\u043b\\u0435\\u043c\\u0435 \\u0441 \\u0444\\u0438\\u043a\\u0442\\u0438\\u0432\\u043d\\u044b\\u043c\\u0438 \\u0440\\u0435\\u0437\\u0443\\u043b\\u044c\\u0442\\u0430\\u0442\\u0430\\u043c\\u0438, \\u0430 \\u043c\\u043d\\u0435 \\u043d\\u0430\\u0432\\u044f\\u0437\\u044b\\u0432\\u0430\\u0435\\u0442 \\u043f\\u043b\\u0430\\u0442\\u043d\\u0443\\u044e \\u0443\\u0441\\u043b\\u0443\\u0433\\u0443 \\u043f\\u0440\\u043e\\u043c\\u044b\\u0432\\u043a\\u0438 \\u0440\\u0430\\u0434\\u0438\\u0430\\u0442\\u043e\\u0440\\u0430 \\u043e\\u0442\\u043e\\u043f\\u043b\\u0435\\u043d\\u0438\\u044f. \\u041d\\u0430 \\u043c\\u043e\\u0438 \\u0434\\u043e\\u0432\\u043e\\u0434\\u044b \\u043e \\u0442\\u043e\\u043c,  \\u0447\\u0442\\u043e \\u0448\\u0443\\u043c \\u043d\\u0435 \\u0441\\u0432\\u044f\\u0437\\u0430\\u043d \\u0441 \\u0440\\u0430\\u0434\\u0438\\u0430\\u0442\\u043e\\u0440\\u043e\\u043c, \\u0442\\u0430\\u043a \\u043a\\u0430\\u043a \\u043f\\u0440\\u0438 \\u043e\\u0442\\u043a\\u043b\\u044e\\u0447\\u0435\\u043d\\u0438\\u0438 \\u0440\\u0430\\u0434\\u0438\\u0430\\u0442\\u043e\\u0440\\u0430 \\u043e\\u043d \\u0441\\u043e\\u0445\\u0440\\u0430\\u043d\\u044f\\u0435\\u0442\\u0441\\u044f, \\u0423\\u041a \\u0437\\u0430\\u043a\\u0440\\u044b\\u0432\\u0430\\u0435\\u0442 \\u0437\\u0430\\u044f\\u0432\\u043a\\u0443 \\u043f\\u043e \\u043f\\u0440\\u0438\\u0447\\u0438\\u043d\\u0435 \\\"\\u043e\\u0442 \\u0441\\u043e\\u0441\\u0435\\u0434\\u0435\\u0439 \\u0436\\u0430\\u043b\\u043e\\u0431\\u044b \\u043d\\u0430 \\u0448\\u0443\\u043c \\u043d\\u0435 \\u043f\\u043e\\u0441\\u0442\\u0443\\u043f\\u0430\\u043b\\u0438\\\".\\r\\n\\r\\n\\u0414\\u0435\\u043f\\u0430\\u0440\\u0442\\u0430\\u043c\\u0435\\u043d\\u0442 \\u0413\\u043e\\u0441\\u0443\\u0434\\u0430\\u0440\\u0441\\u0442\\u0432\\u0435\\u043d\\u043d\\u043e\\u0433\\u043e \\u0436\\u0438\\u043b\\u0438\\u0449\\u043d\\u043e\\u0433\\u043e \\u0438 \\u0441\\u0442\\u0440\\u043e\\u0438\\u0442\\u0435\\u043b\\u044c\\u043d\\u043e\\u0433\\u043e \\u043d\\u0430\\u0434\\u0437\\u043e\\u0440\\u0430 \\u0421\\u0432\\u0435\\u0440\\u0434\\u043b\\u043e\\u0432\\u0441\\u043a\\u043e\\u0439 \\u043e\\u0431\\u043b\\u0430\\u0441\\u0442\\u0438 \\u043e\\u0442\\u043a\\u0430\\u0437\\u044b\\u0432\\u0430\\u0435\\u0442\\u0441\\u044f \\u0440\\u0430\\u0437\\u0431\\u0438\\u0440\\u0430\\u0442\\u044c\\u0441\\u044f \\u0432 \\u043f\\u0440\\u043e\\u0431\\u043b\\u0435\\u043c\\u0435 \\u0441 \\u0444\\u043e\\u0440\\u043c\\u0443\\u043b\\u0438\\u0440\\u043e\\u0432\\u043a\\u043e\\u0439 \\u043e\\u0442\\u0432\\u0435\\u0442\\u0430 \\\"\\u0414\\u0435\\u043f\\u0430\\u0440\\u0442\\u0430\\u043c\\u0435\\u043d\\u0442\\u0443 \\u043d\\u0435 \\u0434\\u0435\\u043b\\u0435\\u0433\\u0438\\u0440\\u043e\\u0432\\u0430\\u043d\\u044b \\u043f\\u043e\\u043b\\u043d\\u043e\\u043c\\u043e\\u0447\\u0438\\u044f \\u043f\\u043e \\u043e\\u043f\\u0440\\u0435\\u0434\\u0435\\u043b\\u0435\\u043d\\u0438\\u044e \\u0441\\u043e\\u043e\\u0442\\u0432\\u0435\\u0442\\u0441\\u0442\\u0432\\u0438\\u044f (\\u043d\\u0435\\u0441\\u043e\\u043e\\u0442\\u0432\\u0435\\u0442\\u0441\\u0442\\u0432\\u0438\\u044f) \\u0443\\u0440\\u043e\\u0432\\u043d\\u0435\\u0439 \\u0448\\u0443\\u043c\\u0430 \\u0432 \\u0436\\u0438\\u043b\\u044b\\u0445 \\u043f\\u043e\\u043c\\u0435\\u0449\\u0435\\u043d\\u0438\\u044f\\u0445, \\u0432 \\u0441\\u0432\\u044f\\u0437\\u0438 \\u0441 \\u0447\\u0435\\u043c, \\u043f\\u0440\\u0430\\u0432\\u043e\\u0432\\u044b\\u0435 \\u043e\\u0441\\u043d\\u043e\\u0432\\u0430\\u043d\\u0438\\u044f \\u0434\\u043b\\u044f \\u043e\\u0440\\u0433\\u0430\\u043d\\u0438\\u0437\\u0430\\u0446\\u0438\\u0438 \\u043a\\u043e\\u043d\\u0442\\u0440\\u043e\\u043b\\u044c\\u043d\\u043e-\\u043d\\u0430\\u0434\\u0437\\u043e\\u0440\\u043d\\u044b\\u0445 \\u043c\\u0435\\u0440\\u043e\\u043f\\u0440\\u0438\\u044f\\u0442\\u0438\\u0439 \\u043f\\u043e \\u0434\\u0430\\u043d\\u043d\\u043e\\u043c\\u0443 \\u0432\\u043e\\u043f\\u0440\\u043e\\u0441\\u0443 \\u0443 \\u0414\\u0435\\u043f\\u0430\\u0440\\u0442\\u0430\\u043c\\u0435\\u043d\\u0442\\u0430 \\u043e\\u0442\\u0441\\u0443\\u0442\\u0441\\u0442\\u0432\\u0443\\u044e\\u0442\\\".\\r\\n\\r\\n\\u041c\\u043d\\u0435 \\u043d\\u0435\\u043e\\u0431\\u0445\\u043e\\u0434\\u0438\\u043c\\u0430 \\u043a\\u043e\\u043d\\u0441\\u0443\\u043b\\u044c\\u0442\\u0430\\u0446\\u0438\\u044f \\u0441\\u043f\\u0435\\u0446\\u0438\\u0430\\u043b\\u0438\\u0441\\u0442\\u043e\\u0432 \\u0420\\u043e\\u0441\\u043f\\u043e\\u0442\\u0440\\u0435\\u0431\\u043d\\u0430\\u0434\\u0437\\u043e\\u0440\\u0430 \\u0434\\u043b\\u044f \\u0432\\u043e\\u0437\\u043c\\u043e\\u0436\\u043d\\u043e\\u0441\\u0442\\u0438 \\u0440\\u0435\\u0437\\u0443\\u043b\\u044c\\u0442\\u0430\\u0442\\u0438\\u0432\\u043d\\u043e\\u0433\\u043e \\u043e\\u0431\\u0449\\u0435\\u043d\\u0438\\u044f \\u0441 \\u0443\\u043f\\u0440\\u0430\\u0432\\u043b\\u044f\\u044e\\u0449\\u0435\\u0439 \\u043a\\u043e\\u043c\\u043f\\u0430\\u043d\\u0438\\u0435\\u0439 \\u0438 \\u0440\\u0435\\u0448\\u0435\\u043d\\u0438\\u044f \\u043f\\u0440\\u043e\\u0431\\u043b\\u0435\\u043c\\u044b. \\u0413\\u043e\\u0442\\u043e\\u0432 \\u043e\\u043f\\u043b\\u0430\\u0442\\u0438\\u0442\\u044c \\u043d\\u0435\\u043e\\u0431\\u0445\\u043e\\u0434\\u0438\\u043c\\u044b\\u0435 \\u0443\\u0441\\u043b\\u0443\\u0433\\u0438 \\u043b\\u0430\\u0431\\u043e\\u0440\\u0430\\u0442\\u043e\\u0440\\u0438\\u0439 \\u0420\\u041f\\u041d \\u043f\\u043e \\u0438\\u0437\\u043c\\u0435\\u0440\\u0435\\u043d\\u0438\\u044e \\u0443\\u0440\\u043e\\u0432\\u043d\\u044f \\u0448\\u0443\\u043c\\u0430 \\u0432 \\u0436\\u0438\\u043b\\u043e\\u043c \\u043f\\u043e\\u043c\\u0435\\u0449\\u0435\\u043d\\u0438\\u0438.\",\n          \"27.11 \\u0431\\u044b\\u043b \\u0441\\u0434\\u0435\\u043b\\u0430\\u043d \\u0437\\u0430\\u043a\\u0430\\u0437 \\u0442\\u0440\\u0435\\u0431\\u0443\\u044e\\u0449\\u0438\\u0439 100% \\u043f\\u0440\\u0435\\u0434\\u043e\\u043f\\u043b\\u0430\\u0442\\u044b \\u0432 \\u043f\\u0440\\u0438\\u043b\\u043e\\u0436\\u0435\\u043d\\u0438\\u0438 \\u00ab\\u041c\\u0412\\u0438\\u0434\\u0435\\u043e\\u00bb, \\u0442\\u043e\\u0432\\u0430\\u0440 \\u0437\\u043d\\u0430\\u0447\\u0438\\u043b\\u0441\\u044f \\u0432 \\u043d\\u0430\\u043b\\u0438\\u0447\\u0438\\u0438, \\u0433\\u043e\\u0442\\u043e\\u0432 \\u043a \\u0432\\u044b\\u0434\\u0430\\u0447\\u0435. \\u0412 \\u043c\\u0430\\u0433\\u0430\\u0437\\u0438\\u043d\\u0435 \\u0447\\u0435\\u0440\\u0435\\u0437 30 \\u043c\\u0438\\u043d\\u0443\\u0442 \\u043f\\u0440\\u0438 \\u043f\\u043e\\u043f\\u044b\\u0442\\u043a\\u0435 \\u043f\\u043e\\u043b\\u0443\\u0447\\u0438\\u0442\\u044c \\u0442\\u043e\\u0432\\u0430\\u0440 \\u043e\\u0431\\u043d\\u0430\\u0440\\u0443\\u0436\\u0438\\u043b\\u043e\\u0441\\u044c \\u0442\\u043e, \\u0447\\u0442\\u043e \\u0442\\u043e\\u0432\\u0430\\u0440 \\u0432\\u043e\\u043e\\u0431\\u0449\\u0435 \\u043e\\u0442\\u0441\\u0443\\u0442\\u0441\\u0442\\u0432\\u0443\\u0435\\u0442. \\r\\n\\u041f\\u043e \\u0434\\u043e\\u0433\\u043e\\u0432\\u043e\\u0440\\u0443 \\u043a\\u0443\\u043f\\u043b\\u0438 \\u043f\\u0440\\u043e\\u0434\\u0430\\u0436\\u0438 :\\r\\n2.16. \\u0412 \\u0441\\u043b\\u0443\\u0447\\u0430\\u0435 \\u043e\\u0442\\u0441\\u0443\\u0442\\u0441\\u0442\\u0432\\u0438\\u044f \\u0437\\u0430\\u043a\\u0430\\u0437\\u0430\\u043d\\u043d\\u044b\\u0445 \\u0422\\u043e\\u0432\\u0430\\u0440\\u043e\\u0432 \\u0443 \\u041f\\u0440\\u043e\\u0434\\u0430\\u0432\\u0446\\u0430, \\u0432 \\u0442\\u043e\\u043c \\u0447\\u0438\\u0441\\u043b\\u0435 \\u043f\\u043e \\u043f\\u0440\\u0438\\u0447\\u0438\\u043d\\u0430\\u043c, \\u043d\\u0435 \\u0437\\u0430\\u0432\\u0438\\u0441\\u044f\\u0449\\u0438\\u043c \\u043e\\u0442 \\u043f\\u043e\\u0441\\u043b\\u0435\\u0434\\u043d\\u0435\\u0433\\u043e, \\u041f\\u0440\\u043e\\u0434\\u0430\\u0432\\u0435\\u0446 \\u0432\\u043f\\u0440\\u0430\\u0432\\u0435 \\u0430\\u043d\\u043d\\u0443\\u043b\\u0438\\u0440\\u043e\\u0432\\u0430\\u0442\\u044c \\u0443\\u043a\\u0430\\u0437\\u0430\\u043d\\u043d\\u044b\\u0439 \\u0422\\u043e\\u0432\\u0430\\u0440 \\u0438\\u0437 \\u0417\\u0430\\u043a\\u0430\\u0437\\u0430 \\u041f\\u043e\\u043a\\u0443\\u043f\\u0430\\u0442\\u0435\\u043b\\u044f \\u0438 \\u0443\\u0432\\u0435\\u0434\\u043e\\u043c\\u0438\\u0442\\u044c \\u043e\\u0431 \\u044d\\u0442\\u043e\\u043c \\u041f\\u043e\\u043a\\u0443\\u043f\\u0430\\u0442\\u0435\\u043b\\u044f \\u043f\\u0443\\u0442\\u0435\\u043c \\u043d\\u0430\\u043f\\u0440\\u0430\\u0432\\u043b\\u0435\\u043d\\u0438\\u044f \\u044d\\u043b\\u0435\\u043a\\u0442\\u0440\\u043e\\u043d\\u043d\\u043e\\u0433\\u043e \\u0441\\u043e\\u043e\\u0431\\u0449\\u0435\\u043d\\u0438\\u044f \\u043f\\u043e \\u0430\\u0434\\u0440\\u0435\\u0441\\u0443 \\u043b\\u0438\\u0431\\u043e \\u0443\\u0432\\u0435\\u0434\\u043e\\u043c\\u0438\\u0442\\u044c \\u041f\\u043e\\u043a\\u0443\\u043f\\u0430\\u0442\\u0435\\u043b\\u044f \\u043f\\u043e\\u0441\\u0440\\u0435\\u0434\\u0441\\u0442\\u0432\\u043e\\u043c \\u0442\\u0435\\u043b\\u0435\\u0444\\u043e\\u043d\\u043d\\u043e\\u0433\\u043e \\u0437\\u0432\\u043e\\u043d\\u043a\\u0430, \\u0443\\u043a\\u0430\\u0437\\u0430\\u043d\\u043d\\u043e\\u0433\\u043e \\u043f\\u0440\\u0438 \\u0440\\u0435\\u0433\\u0438\\u0441\\u0442\\u0440\\u0430\\u0446\\u0438\\u0438.\\r\\n\\u041f\\u0440\\u043e\\u0434\\u0430\\u0432\\u0435\\u0446 \\u0441\\u043e\\u043e\\u0442\\u0432\\u0435\\u0442\\u0441\\u0432\\u0435\\u043d\\u043d\\u043e \\u043d\\u0438\\u043a\\u0430\\u043a \\u043d\\u0435 \\u0443\\u0432\\u0435\\u0434\\u043e\\u043c\\u0438\\u043b \\u043e\\u0431 \\u043e\\u0442\\u0441\\u0443\\u0442\\u0441\\u0442\\u0432\\u0438\\u0438 \\u0442\\u043e\\u0432\\u0430\\u0440\\u0430. \\r\\n\\u0421\\u043e\\u0442\\u0440\\u0443\\u0434\\u043d\\u0438\\u043a\\u0438 \\u043c\\u0430\\u0433\\u0430\\u0437\\u0438\\u043d\\u0430 \\u043d\\u0430\\u043c\\u0435\\u0440\\u0435\\u043d\\u043d\\u043e \\u0432\\u0432\\u043e\\u0434\\u0438\\u043b\\u0438 \\u0432 \\u0437\\u0430\\u0431\\u043b\\u0443\\u0436\\u0434\\u0435\\u043d\\u0438\\u0435 \\u043e \\u0442\\u043e, \\u0447\\u0442\\u043e \\u0434\\u0435\\u043d\\u0435\\u0436\\u043d\\u044b\\u0435 \\u0441\\u0440\\u0435\\u0434\\u0441\\u0442\\u0432\\u0430 \\u0432\\u0435\\u0440\\u043d\\u0443\\u0442\\u0441\\u044f \\u043d\\u0435\\u043c\\u043d\\u043e\\u0433\\u043e \\u043d\\u0430 \\u043a\\u0430\\u0440\\u0442\\u0443. \"\n        ],\n        \"semantic_type\": \"\",\n        \"description\": \"\"\n      }\n    },\n    {\n      \"column\": \"RPN_answers\",\n      \"properties\": {\n        \"dtype\": \"string\",\n        \"num_unique_values\": 18490,\n        \"samples\": [\n          \"\\u0414\\u043e\\u0431\\u0440\\u044b\\u0439 \\u0434\\u0435\\u043d\\u044c! \\u0412\\u0430\\u043c \\u043d\\u0435\\u043e\\u0431\\u0445\\u043e\\u0434\\u0438\\u043c\\u043e \\u043e\\u0431\\u0440\\u0430\\u0442\\u0438\\u0442\\u044c\\u0441\\u044f \\u0432 \\u0442\\u0435\\u0445\\u043f\\u043e\\u0434\\u0434\\u0435\\u0440\\u0436\\u043a\\u0443 \\u043f\\u043e\\u0440\\u0442\\u0430\\u043b\\u0430 \\u00ab\\u0413\\u043e\\u0441\\u0443\\u0441\\u043b\\u0443\\u0433\\u0438\\u00bb. \\u0412\\u043e\\u043f\\u0440\\u043e\\u0441 \\u043d\\u0435 \\u0432\\u0445\\u043e\\u0434\\u0438\\u0442 \\u0432 \\u043a\\u043e\\u043c\\u043f\\u0435\\u0442\\u0435\\u043d\\u0446\\u0438\\u044e \\u0423\\u043f\\u0440\\u0430\\u0432\\u043b\\u0435\\u043d\\u0438\\u044f \\u0420\\u043e\\u0441\\u043f\\u043e\\u0442\\u0440\\u0435\\u0431\\u043d\\u0430\\u0434\\u0437\\u043e\\u0440\\u0430 \\u043f\\u043e \\u041c\\u043e\\u0441\\u043a\\u043e\\u0432\\u0441\\u043a\\u043e\\u0439 \\u043e\\u0431\\u043b\\u0430\\u0441\\u0442\\u0438.\\r\\n\\r\\n\",\n          \"\\u0423\\u0432\\u0430\\u0436\\u0430\\u0435\\u043c\\u044b\\u0439 \\u041e\\u043b\\u0435\\u0433!\\r\\n\\r\\n\\u041f\\u043e \\u043f\\u043e\\u0432\\u043e\\u0434\\u0443 \\u0412\\u0430\\u0448\\u0435\\u0439 \\u0441\\u0438\\u0442\\u0443\\u0430\\u0446\\u0438\\u0438 \\u0412\\u0430\\u043c \\u0441\\u043b\\u0435\\u0434\\u0443\\u0435\\u0442 \\u043e\\u0431\\u0440\\u0430\\u0442\\u0438\\u0442\\u044c\\u0441\\u044f \\u043f\\u043e \\u043f\\u0440\\u0438\\u043d\\u0430\\u0434\\u043b\\u0435\\u0436\\u043d\\u043e\\u0441\\u0442\\u0438 \\u0441 \\u043f\\u0438\\u0441\\u044c\\u043c\\u0435\\u043d\\u043d\\u043e\\u0439 \\u0436\\u0430\\u043b\\u043e\\u0431\\u043e\\u0439 \\u0432 \\u043c\\u0438\\u043d\\u0438\\u0441\\u0442\\u0435\\u0440\\u0441\\u0442\\u0432\\u043e \\u0437\\u0434\\u0440\\u0430\\u0432\\u043e\\u043e\\u0445\\u0440\\u0430\\u043d\\u0435\\u043d\\u0438\\u044f \\u041a\\u0438\\u0440\\u043e\\u0432\\u0441\\u043a\\u043e\\u0439 \\u043e\\u0431\\u043b\\u0430\\u0441\\u0442\\u0438 (610019, \\u0433. \\u041a\\u0438\\u0440\\u043e\\u0432, \\u0443\\u043b.\\u041a.\\u041b\\u0438\\u0431\\u043a\\u043d\\u0435\\u0445\\u0442\\u0430, 69, (8332) 27-27-25 \\u0434\\u043e\\u0431. 2500, ip-depart@medstat.kirov.ru, \\u0441\\u0430\\u0439\\u0442 http://www.medkirov.ru/, \\u043f\\u043e\\u0441\\u043a\\u043e\\u043b\\u044c\\u043a\\u0443 \\u043e\\u0441\\u0443\\u0449\\u0435\\u0441\\u0442\\u0432\\u043b\\u0435\\u043d\\u0438\\u0435  \\u043a\\u043e\\u043d\\u0442\\u0440\\u043e\\u043b\\u044f \\u043a\\u0430\\u0447\\u0435\\u0441\\u0442\\u0432\\u0430 \\u0438 \\u0431\\u0435\\u0437\\u043e\\u043f\\u0430\\u0441\\u043d\\u043e\\u0441\\u0442\\u0438 \\u043c\\u0435\\u0434\\u0438\\u0446\\u0438\\u043d\\u0441\\u043a\\u043e\\u0439 \\u0434\\u0435\\u044f\\u0442\\u0435\\u043b\\u044c\\u043d\\u043e\\u0441\\u0442\\u0438 \\u0432 \\u043e\\u0442\\u043d\\u043e\\u0448\\u0435\\u043d\\u0438\\u0438 \\u043f\\u043e\\u0434\\u0432\\u0435\\u0434\\u043e\\u043c\\u0441\\u0442\\u0432\\u0435\\u043d\\u043d\\u044b\\u0445 \\u043c\\u0435\\u0434\\u0438\\u0446\\u0438\\u043d\\u0441\\u043a\\u0438\\u0445 \\u043e\\u0440\\u0433\\u0430\\u043d\\u0438\\u0437\\u0430\\u0446\\u0438\\u0439 \\u043e\\u0442\\u043d\\u0435\\u0441\\u0435\\u043d\\u043e \\u043a \\u043a\\u043e\\u043c\\u043f\\u0435\\u0442\\u0435\\u043d\\u0446\\u0438\\u0438 \\u0434\\u0430\\u043d\\u043d\\u043e\\u0433\\u043e \\u041c\\u0438\\u043d\\u0438\\u0441\\u0442\\u0435\\u0440\\u0441\\u0442\\u0432\\u0430.\\r\\n\\u041a\\u0440\\u043e\\u043c\\u0435 \\u0442\\u043e\\u0433\\u043e, \\u0412\\u044b \\u0432\\u043f\\u0440\\u0430\\u0432\\u0435 \\u043e\\u0431\\u0440\\u0430\\u0442\\u0438\\u0442\\u044c\\u0441\\u044f \\u043a \\u0438\\u0441\\u043f\\u043e\\u043b\\u043d\\u0438\\u0442\\u0435\\u043b\\u044e (\\u0432 \\u043c\\u0435\\u0434\\u0438\\u0446\\u0438\\u043d\\u0441\\u043a\\u043e\\u0435 \\u0443\\u0447\\u0440\\u0435\\u0436\\u0434\\u0435\\u043d\\u0438\\u0435) \\u0441 \\u0441\\u043e\\u043e\\u0442\\u0432\\u0435\\u0442\\u0441\\u0442\\u0432\\u0443\\u044e\\u0449\\u0435\\u0439 \\u043f\\u0438\\u0441\\u044c\\u043c\\u0435\\u043d\\u043d\\u043e\\u0439 \\u043f\\u0440\\u0435\\u0442\\u0435\\u043d\\u0437\\u0438\\u0435\\u0439 \\u0438 \\u0443\\u043a\\u0430\\u0437\\u0430\\u043d\\u0438\\u0435\\u043c \\u0441\\u043e\\u043e\\u0442\\u0432\\u0435\\u0442\\u0441\\u0442\\u0432\\u0443\\u044e\\u0449\\u0435\\u0433\\u043e \\u0442\\u0440\\u0435\\u0431\\u043e\\u0432\\u0430\\u043d\\u0438\\u044f. \\u041f\\u0440\\u0438 \\u044d\\u0442\\u043e\\u043c \\u043f\\u0440\\u0435\\u0442\\u0435\\u043d\\u0437\\u0438\\u044f \\u043e\\u0444\\u043e\\u0440\\u043c\\u043b\\u044f\\u0435\\u0442\\u0441\\u044f \\u0432 \\u0434\\u0432\\u0443\\u0445 \\u044d\\u043a\\u0437\\u0435\\u043c\\u043f\\u043b\\u044f\\u0440\\u0430\\u0445, \\u043e\\u0434\\u0438\\u043d \\u0438\\u0437 \\u043a\\u043e\\u0442\\u043e\\u0440\\u044b\\u0445 \\u043d\\u0435\\u043e\\u0431\\u0445\\u043e\\u0434\\u0438\\u043c\\u043e \\u0432\\u0440\\u0443\\u0447\\u0438\\u0442\\u044c \\u043f\\u043e\\u0434 \\u043e\\u0442\\u043c\\u0435\\u0442\\u043a\\u0443 \\u043e \\u043f\\u0440\\u0438\\u043d\\u044f\\u0442\\u0438\\u0438 \\u043a \\u0440\\u0430\\u0441\\u0441\\u043c\\u043e\\u0442\\u0440\\u0435\\u043d\\u0438\\u044e, \\u043b\\u0438\\u0431\\u043e \\u043d\\u0430\\u043f\\u0440\\u0430\\u0432\\u0438\\u0442\\u044c \\u043f\\u043e\\u0447\\u0442\\u043e\\u0432\\u044b\\u043c \\u043e\\u0442\\u043f\\u0440\\u0430\\u0432\\u043b\\u0435\\u043d\\u0438\\u0435\\u043c \\u0441 \\u043e\\u0431\\u0440\\u0430\\u0442\\u043d\\u044b\\u043c \\u0443\\u0432\\u0435\\u0434\\u043e\\u043c\\u043b\\u0435\\u043d\\u0438\\u0435\\u043c. \\u041f\\u0440\\u0438 \\u043d\\u0435\\u043e\\u0431\\u043e\\u0441\\u043d\\u043e\\u0432\\u0430\\u043d\\u043d\\u043e\\u043c \\u043e\\u0442\\u043a\\u0430\\u0437\\u0435 \\u0438\\u0441\\u043f\\u043e\\u043b\\u043d\\u0438\\u0442\\u0435\\u043b\\u044f \\u0443\\u0434\\u043e\\u0432\\u043b\\u0435\\u0442\\u0432\\u043e\\u0440\\u0438\\u0442\\u044c \\u0437\\u0430\\u044f\\u0432\\u043b\\u0435\\u043d\\u043d\\u044b\\u0435 \\u0442\\u0440\\u0435\\u0431\\u043e\\u0432\\u0430\\u043d\\u0438\\u044f \\u0434\\u043e\\u0431\\u0440\\u043e\\u0432\\u043e\\u043b\\u044c\\u043d\\u043e, \\u0434\\u0430\\u043b\\u044c\\u043d\\u0435\\u0439\\u0448\\u0435\\u0435 \\u0440\\u0430\\u0437\\u0440\\u0435\\u0448\\u0435\\u043d\\u0438\\u0435 \\u0441\\u043f\\u043e\\u0440\\u0430 (\\u0432 \\u0441\\u043b\\u0443\\u0447\\u0430\\u0435 \\u043d\\u0430\\u043b\\u0438\\u0447\\u0438\\u044f \\u043f\\u0440\\u0430\\u0432\\u043e\\u0432\\u044b\\u0445 \\u043e\\u0441\\u043d\\u043e\\u0432\\u0430\\u043d\\u0438\\u0439) \\u043f\\u043e\\u0434\\u043b\\u0435\\u0436\\u0438\\u0442 \\u0440\\u0430\\u0441\\u0441\\u043c\\u043e\\u0442\\u0440\\u0435\\u043d\\u0438\\u044e \\u043d\\u0435\\u043f\\u043e\\u0441\\u0440\\u0435\\u0434\\u0441\\u0442\\u0432\\u0435\\u043d\\u043d\\u043e \\u0432 \\u0441\\u0443\\u0434\\u0435\\u0431\\u043d\\u043e\\u043c \\u043f\\u043e\\u0440\\u044f\\u0434\\u043a\\u0435. \\r\\n\",\n          \"\\u0423\\u0432\\u0430\\u0436\\u0430\\u0435\\u043c\\u044b\\u0439 \\u0410\\u043b\\u0435\\u043a\\u0441\\u0435\\u0439!\\r\\n\\u0412 \\u0441\\u043e\\u043e\\u0442\\u0432\\u0435\\u0442\\u0441\\u0442\\u0432\\u0438\\u0438 \\u0441 \\u041f\\u043e\\u043b\\u043e\\u0436\\u0435\\u043d\\u0438\\u0435\\u043c \\u043e\\u0431 \\u0423\\u043f\\u0440\\u0430\\u0432\\u043b\\u0435\\u043d\\u0438\\u0438 \\u0420\\u043e\\u0441\\u043f\\u043e\\u0442\\u0440\\u0435\\u0431\\u043d\\u0430\\u0434\\u0437\\u043e\\u0440\\u0430 \\u043f\\u043e \\u041e\\u0440\\u0435\\u043d\\u0431\\u0443\\u0440\\u0433\\u0441\\u043a\\u043e\\u0439 \\u043e\\u0431\\u043b\\u0430\\u0441\\u0442\\u0438, \\u0443\\u0442\\u0432\\u0435\\u0440\\u0436\\u0434\\u0435\\u043d\\u043d\\u044b\\u043c \\u043f\\u0440\\u0438\\u043a\\u0430\\u0437\\u043e\\u043c \\u0424\\u0435\\u0434\\u0435\\u0440\\u0430\\u043b\\u044c\\u043d\\u043e\\u0439 \\u0441\\u043b\\u0443\\u0436\\u0431\\u044b \\u043f\\u043e \\u043d\\u0430\\u0434\\u0437\\u043e\\u0440\\u0443 \\u0432 \\u0441\\u0444\\u0435\\u0440\\u0435 \\u0437\\u0430\\u0449\\u0438\\u0442\\u044b \\u043f\\u0440\\u0430\\u0432 \\u043f\\u043e\\u0442\\u0440\\u0435\\u0431\\u0438\\u0442\\u0435\\u043b\\u0435\\u0439 \\u0438 \\u0431\\u043b\\u0430\\u0433\\u043e\\u043f\\u043e\\u043b\\u0443\\u0447\\u0438\\u044f \\u0447\\u0435\\u043b\\u043e\\u0432\\u0435\\u043a\\u0430 \\u043e\\u0442 09.07.2012 \\u2116 693, \\u0423\\u043f\\u0440\\u0430\\u0432\\u043b\\u0435\\u043d\\u0438\\u0435 \\u043e\\u0441\\u0443\\u0449\\u0435\\u0441\\u0442\\u0432\\u043b\\u044f\\u0435\\u0442 \\u043d\\u0430\\u0434\\u0437\\u043e\\u0440 \\u0438 \\u043a\\u043e\\u043d\\u0442\\u0440\\u043e\\u043b\\u044c \\u0437\\u0430 \\u0438\\u0441\\u043f\\u043e\\u043b\\u043d\\u0435\\u043d\\u0438\\u0435\\u043c \\u043e\\u0431\\u044f\\u0437\\u0430\\u0442\\u0435\\u043b\\u044c\\u043d\\u044b\\u0445 \\u0442\\u0440\\u0435\\u0431\\u043e\\u0432\\u0430\\u043d\\u0438\\u0439 \\u0437\\u0430\\u043a\\u043e\\u043d\\u043e\\u0434\\u0430\\u0442\\u0435\\u043b\\u044c\\u0441\\u0442\\u0432\\u0430 \\u0420\\u043e\\u0441\\u0441\\u0438\\u0439\\u0441\\u043a\\u043e\\u0439 \\u0424\\u0435\\u0434\\u0435\\u0440\\u0430\\u0446\\u0438\\u0438 \\u0432 \\u043e\\u0431\\u043b\\u0430\\u0441\\u0442\\u0438 \\u043e\\u0431\\u0435\\u0441\\u043f\\u0435\\u0447\\u0435\\u043d\\u0438\\u044f \\u0441\\u0430\\u043d\\u0438\\u0442\\u0430\\u0440\\u043d\\u043e-\\u044d\\u043f\\u0438\\u0434\\u0435\\u043c\\u0438\\u043e\\u043b\\u043e\\u0433\\u0438\\u0447\\u0435\\u0441\\u043a\\u043e\\u0433\\u043e \\u0431\\u043b\\u0430\\u0433\\u043e\\u043f\\u043e\\u043b\\u0443\\u0447\\u0438\\u044f \\u043d\\u0430\\u0441\\u0435\\u043b\\u0435\\u043d\\u0438\\u044f, \\u0437\\u0430\\u0449\\u0438\\u0442\\u044b \\u043f\\u0440\\u0430\\u0432 \\u043f\\u043e\\u0442\\u0440\\u0435\\u0431\\u0438\\u0442\\u0435\\u043b\\u0435\\u0439 \\u0438 \\u043d\\u0430 \\u043f\\u043e\\u0442\\u0440\\u0435\\u0431\\u0438\\u0442\\u0435\\u043b\\u044c\\u0441\\u043a\\u043e\\u043c \\u0440\\u044b\\u043d\\u043a\\u0435. \\u041f\\u0440\\u0438 \\u044d\\u0442\\u043e\\u043c, \\u0434\\u043e\\u043b\\u0436\\u043d\\u043e\\u0441\\u0442\\u043d\\u044b\\u0435 \\u043b\\u0438\\u0446\\u0430 \\u0423\\u043f\\u0440\\u0430\\u0432\\u043b\\u0435\\u043d\\u0438\\u044f \\u0438\\u043c\\u0435\\u044e\\u0442 \\u043f\\u0440\\u0430\\u0432\\u043e \\u043f\\u0440\\u0438\\u043c\\u0435\\u043d\\u044f\\u0442\\u044c \\u043f\\u0440\\u0435\\u0434\\u0443\\u0441\\u043c\\u043e\\u0442\\u0440\\u0435\\u043d\\u043d\\u044b\\u0435 \\u0437\\u0430\\u043a\\u043e\\u043d\\u043e\\u0434\\u0430\\u0442\\u0435\\u043b\\u044c\\u0441\\u0442\\u0432\\u043e\\u043c \\u0420\\u043e\\u0441\\u0441\\u0438\\u0439\\u0441\\u043a\\u043e\\u0439 \\u0424\\u0435\\u0434\\u0435\\u0440\\u0430\\u0446\\u0438\\u0438 \\u043c\\u0435\\u0440\\u044b \\u043e\\u0433\\u0440\\u0430\\u043d\\u0438\\u0447\\u0438\\u0442\\u0435\\u043b\\u044c\\u043d\\u043e\\u0433\\u043e, \\u043f\\u0440\\u0435\\u0434\\u0443\\u043f\\u0440\\u0435\\u0434\\u0438\\u0442\\u0435\\u043b\\u044c\\u043d\\u043e\\u0433\\u043e \\u0438 \\u043f\\u0440\\u043e\\u0444\\u0438\\u043b\\u0430\\u043a\\u0442\\u0438\\u0447\\u0435\\u0441\\u043a\\u043e\\u0433\\u043e \\u0445\\u0430\\u0440\\u0430\\u043a\\u0442\\u0435\\u0440\\u0430 \\u0442\\u043e\\u043b\\u044c\\u043a\\u043e \\u043f\\u043e \\u0432\\u043e\\u043f\\u0440\\u043e\\u0441\\u0430\\u043c, \\u043e\\u0442\\u043d\\u0435\\u0441\\u0451\\u043d\\u043d\\u044b\\u043c \\u043a \\u0435\\u0433\\u043e \\u043a\\u043e\\u043c\\u043f\\u0435\\u0442\\u0435\\u043d\\u0446\\u0438\\u0438. \\u0418\\u0437\\u043b\\u043e\\u0436\\u0435\\u043d\\u043d\\u044b\\u0435 \\u0412\\u0430\\u043c\\u0438 \\u0432\\u043e\\u043f\\u0440\\u043e\\u0441\\u044b \\u043d\\u0435 \\u043c\\u043e\\u0433\\u0443\\u0442 \\u0431\\u044b\\u0442\\u044c \\u0440\\u0430\\u0441\\u0441\\u043c\\u043e\\u0442\\u0440\\u0435\\u043d\\u044b \\u0423\\u043f\\u0440\\u0430\\u0432\\u043b\\u0435\\u043d\\u0438\\u0435\\u043c, \\u043f\\u043e\\u0441\\u043a\\u043e\\u043b\\u044c\\u043a\\u0443 \\u043d\\u0430\\u0445\\u043e\\u0434\\u044f\\u0442\\u0441\\u044f \\u0437\\u0430 \\u043f\\u0440\\u0435\\u0434\\u0435\\u043b\\u0430\\u043c\\u0438 \\u0443\\u0441\\u0442\\u0430\\u043d\\u043e\\u0432\\u043b\\u0435\\u043d\\u043d\\u043e\\u0439 \\u043a\\u043e\\u043c\\u043f\\u0435\\u0442\\u0435\\u043d\\u0446\\u0438\\u0438. \\u0417\\u0430 \\u0440\\u0430\\u0437\\u044a\\u044f\\u0441\\u043d\\u0435\\u043d\\u0438\\u044f\\u043c\\u0438 \\u043f\\u043e \\u0432\\u043e\\u043f\\u0440\\u043e\\u0441\\u0430\\u043c \\u043f\\u043e\\u0440\\u044f\\u0434\\u043a\\u0430 \\u043e\\u043a\\u0430\\u0437\\u0430\\u043d\\u0438\\u044f \\u043a\\u043e\\u043c\\u043c\\u0443\\u043d\\u0430\\u043b\\u044c\\u043d\\u044b\\u0445 \\u0443\\u0441\\u043b\\u0443\\u0433 \\u0438 \\u0440\\u0430\\u0441\\u0447\\u0435\\u0442\\u0430 (\\u043f\\u0435\\u0440\\u0435\\u0440\\u0430\\u0441\\u0447\\u0435\\u0442\\u0430) \\u043f\\u043b\\u0430\\u0442\\u044b \\u0437\\u0430 \\u043a\\u043e\\u043c\\u043c\\u0443\\u043d\\u0430\\u043b\\u044c\\u043d\\u044b\\u0435 \\u0443\\u0441\\u043b\\u0443\\u0433\\u0438 \\u0412\\u044b \\u043c\\u043e\\u0436\\u0435\\u0442\\u0435 \\u043e\\u0431\\u0440\\u0430\\u0442\\u0438\\u0442\\u044c\\u0441\\u044f \\u0432 \\u0413\\u043e\\u0441\\u0443\\u0434\\u0430\\u0440\\u0441\\u0442\\u0432\\u0435\\u043d\\u043d\\u0443\\u044e \\u0436\\u0438\\u043b\\u0438\\u0449\\u043d\\u0443\\u044e \\u0438\\u043d\\u0441\\u043f\\u0435\\u043a\\u0446\\u0438\\u044e \\u043f\\u043e \\u041e\\u0440\\u0435\\u043d\\u0431\\u0443\\u0440\\u0433\\u0441\\u043a\\u043e\\u0439 \\u043e\\u0431\\u043b\\u0430\\u0441\\u0442\\u0438 \\u043f\\u043e \\u0430\\u0434\\u0440\\u0435\\u0441\\u0443: 460000, \\u0433 \\u041e\\u0440\\u0435\\u043d\\u0431\\u0443\\u0440\\u0433, \\u0443\\u043b. \\u0426\\u0432\\u0438\\u043b\\u043b\\u0438\\u043d\\u0433\\u0430, \\u0434. 14/1, \\u0438\\u043b\\u0438 \\u0442\\u0435\\u043b\\u0435\\u0444\\u043e\\u043d\\u0443 \\u00ab\\u0433\\u043e\\u0440\\u044f\\u0447\\u0435\\u0439 \\u043b\\u0438\\u043d\\u0438\\u0438\\u00bb: (3532) 43-69-11.\"\n        ],\n        \"semantic_type\": \"\",\n        \"description\": \"\"\n      }\n    }\n  ]\n}"
            }
          },
          "metadata": {},
          "execution_count": 189
        }
      ]
    },
    {
      "cell_type": "code",
      "source": [
        "df.to_csv(path_to_work_dir + \"RPN_parser.csv\", index=None)"
      ],
      "metadata": {
        "id": "OO6l8I9q0Emm",
        "colab": {
          "base_uri": "https://localhost:8080/"
        },
        "outputId": "06c89c4d-e79d-4664-cb68-338efc30c6cb"
      },
      "execution_count": 190,
      "outputs": [
        {
          "output_type": "stream",
          "name": "stderr",
          "text": [
            "/usr/local/lib/python3.10/dist-packages/ipykernel/ipkernel.py:283: DeprecationWarning: `should_run_async` will not call `transform_cell` automatically in the future. Please pass the result to `transformed_cell` argument and any exception that happen during thetransform in `preprocessing_exc_tuple` in IPython 7.17 and above.\n",
            "  and should_run_async(code)\n"
          ]
        }
      ]
    },
    {
      "cell_type": "markdown",
      "source": [
        "# III About data"
      ],
      "metadata": {
        "id": "lGIGenQQzHuV"
      }
    },
    {
      "cell_type": "markdown",
      "source": [
        "## 4 Review data"
      ],
      "metadata": {
        "id": "khK2kVcGUHca"
      }
    },
    {
      "cell_type": "code",
      "source": [
        "df = pd.read_csv(path_to_work_dir + \"RPN_parser.csv\")\n",
        "df.head(5)"
      ],
      "metadata": {
        "colab": {
          "base_uri": "https://localhost:8080/",
          "height": 261
        },
        "id": "l8ilXalD0Pwg",
        "outputId": "dc58131a-031d-4067-b301-645de2aed7db"
      },
      "execution_count": 191,
      "outputs": [
        {
          "output_type": "stream",
          "name": "stderr",
          "text": [
            "/usr/local/lib/python3.10/dist-packages/ipykernel/ipkernel.py:283: DeprecationWarning: `should_run_async` will not call `transform_cell` automatically in the future. Please pass the result to `transformed_cell` argument and any exception that happen during thetransform in `preprocessing_exc_tuple` in IPython 7.17 and above.\n",
            "  and should_run_async(code)\n"
          ]
        },
        {
          "output_type": "execute_result",
          "data": {
            "text/plain": [
              "   doc_id                                      RPN_questions  \\\n",
              "0   44224  Здравствуйте,  заказала на сайте Тех-мо швейно...   \n",
              "1   44219  Здравствуйте! Мы проживаем по адресу г. Москва...   \n",
              "2   44214  Здравствуйте! Под нашей квартирой,\\r\\nрасполож...   \n",
              "3   44211  Я купила на Вайлдберриз цветочную композицию и...   \n",
              "4   44210  Добрый день.\\r\\nЯ на маркетплейсе увидел,что ц...   \n",
              "\n",
              "                                         RPN_answers  \n",
              "0  ДОбрый день! Вам необходимо указать место нахо...  \n",
              "1  Добрый день! Управление Роспотребнадзора по Мо...  \n",
              "2  Уважаемая Анна! Раздел «Виртуальная приёмная» ...  \n",
              "3  Добрый день! В связи с возросшим числом коммен...  \n",
              "4  Добрый день! Вам необходимо направить обращени...  "
            ],
            "text/html": [
              "\n",
              "  <div id=\"df-64967c78-b16c-4802-8f00-4427c0158238\" class=\"colab-df-container\">\n",
              "    <div>\n",
              "<style scoped>\n",
              "    .dataframe tbody tr th:only-of-type {\n",
              "        vertical-align: middle;\n",
              "    }\n",
              "\n",
              "    .dataframe tbody tr th {\n",
              "        vertical-align: top;\n",
              "    }\n",
              "\n",
              "    .dataframe thead th {\n",
              "        text-align: right;\n",
              "    }\n",
              "</style>\n",
              "<table border=\"1\" class=\"dataframe\">\n",
              "  <thead>\n",
              "    <tr style=\"text-align: right;\">\n",
              "      <th></th>\n",
              "      <th>doc_id</th>\n",
              "      <th>RPN_questions</th>\n",
              "      <th>RPN_answers</th>\n",
              "    </tr>\n",
              "  </thead>\n",
              "  <tbody>\n",
              "    <tr>\n",
              "      <th>0</th>\n",
              "      <td>44224</td>\n",
              "      <td>Здравствуйте,  заказала на сайте Тех-мо швейно...</td>\n",
              "      <td>ДОбрый день! Вам необходимо указать место нахо...</td>\n",
              "    </tr>\n",
              "    <tr>\n",
              "      <th>1</th>\n",
              "      <td>44219</td>\n",
              "      <td>Здравствуйте! Мы проживаем по адресу г. Москва...</td>\n",
              "      <td>Добрый день! Управление Роспотребнадзора по Мо...</td>\n",
              "    </tr>\n",
              "    <tr>\n",
              "      <th>2</th>\n",
              "      <td>44214</td>\n",
              "      <td>Здравствуйте! Под нашей квартирой,\\r\\nрасполож...</td>\n",
              "      <td>Уважаемая Анна! Раздел «Виртуальная приёмная» ...</td>\n",
              "    </tr>\n",
              "    <tr>\n",
              "      <th>3</th>\n",
              "      <td>44211</td>\n",
              "      <td>Я купила на Вайлдберриз цветочную композицию и...</td>\n",
              "      <td>Добрый день! В связи с возросшим числом коммен...</td>\n",
              "    </tr>\n",
              "    <tr>\n",
              "      <th>4</th>\n",
              "      <td>44210</td>\n",
              "      <td>Добрый день.\\r\\nЯ на маркетплейсе увидел,что ц...</td>\n",
              "      <td>Добрый день! Вам необходимо направить обращени...</td>\n",
              "    </tr>\n",
              "  </tbody>\n",
              "</table>\n",
              "</div>\n",
              "    <div class=\"colab-df-buttons\">\n",
              "\n",
              "  <div class=\"colab-df-container\">\n",
              "    <button class=\"colab-df-convert\" onclick=\"convertToInteractive('df-64967c78-b16c-4802-8f00-4427c0158238')\"\n",
              "            title=\"Convert this dataframe to an interactive table.\"\n",
              "            style=\"display:none;\">\n",
              "\n",
              "  <svg xmlns=\"http://www.w3.org/2000/svg\" height=\"24px\" viewBox=\"0 -960 960 960\">\n",
              "    <path d=\"M120-120v-720h720v720H120Zm60-500h600v-160H180v160Zm220 220h160v-160H400v160Zm0 220h160v-160H400v160ZM180-400h160v-160H180v160Zm440 0h160v-160H620v160ZM180-180h160v-160H180v160Zm440 0h160v-160H620v160Z\"/>\n",
              "  </svg>\n",
              "    </button>\n",
              "\n",
              "  <style>\n",
              "    .colab-df-container {\n",
              "      display:flex;\n",
              "      gap: 12px;\n",
              "    }\n",
              "\n",
              "    .colab-df-convert {\n",
              "      background-color: #E8F0FE;\n",
              "      border: none;\n",
              "      border-radius: 50%;\n",
              "      cursor: pointer;\n",
              "      display: none;\n",
              "      fill: #1967D2;\n",
              "      height: 32px;\n",
              "      padding: 0 0 0 0;\n",
              "      width: 32px;\n",
              "    }\n",
              "\n",
              "    .colab-df-convert:hover {\n",
              "      background-color: #E2EBFA;\n",
              "      box-shadow: 0px 1px 2px rgba(60, 64, 67, 0.3), 0px 1px 3px 1px rgba(60, 64, 67, 0.15);\n",
              "      fill: #174EA6;\n",
              "    }\n",
              "\n",
              "    .colab-df-buttons div {\n",
              "      margin-bottom: 4px;\n",
              "    }\n",
              "\n",
              "    [theme=dark] .colab-df-convert {\n",
              "      background-color: #3B4455;\n",
              "      fill: #D2E3FC;\n",
              "    }\n",
              "\n",
              "    [theme=dark] .colab-df-convert:hover {\n",
              "      background-color: #434B5C;\n",
              "      box-shadow: 0px 1px 3px 1px rgba(0, 0, 0, 0.15);\n",
              "      filter: drop-shadow(0px 1px 2px rgba(0, 0, 0, 0.3));\n",
              "      fill: #FFFFFF;\n",
              "    }\n",
              "  </style>\n",
              "\n",
              "    <script>\n",
              "      const buttonEl =\n",
              "        document.querySelector('#df-64967c78-b16c-4802-8f00-4427c0158238 button.colab-df-convert');\n",
              "      buttonEl.style.display =\n",
              "        google.colab.kernel.accessAllowed ? 'block' : 'none';\n",
              "\n",
              "      async function convertToInteractive(key) {\n",
              "        const element = document.querySelector('#df-64967c78-b16c-4802-8f00-4427c0158238');\n",
              "        const dataTable =\n",
              "          await google.colab.kernel.invokeFunction('convertToInteractive',\n",
              "                                                    [key], {});\n",
              "        if (!dataTable) return;\n",
              "\n",
              "        const docLinkHtml = 'Like what you see? Visit the ' +\n",
              "          '<a target=\"_blank\" href=https://colab.research.google.com/notebooks/data_table.ipynb>data table notebook</a>'\n",
              "          + ' to learn more about interactive tables.';\n",
              "        element.innerHTML = '';\n",
              "        dataTable['output_type'] = 'display_data';\n",
              "        await google.colab.output.renderOutput(dataTable, element);\n",
              "        const docLink = document.createElement('div');\n",
              "        docLink.innerHTML = docLinkHtml;\n",
              "        element.appendChild(docLink);\n",
              "      }\n",
              "    </script>\n",
              "  </div>\n",
              "\n",
              "\n",
              "<div id=\"df-2cec460e-ab1e-4dd1-a696-f8ea0c69ae5c\">\n",
              "  <button class=\"colab-df-quickchart\" onclick=\"quickchart('df-2cec460e-ab1e-4dd1-a696-f8ea0c69ae5c')\"\n",
              "            title=\"Suggest charts\"\n",
              "            style=\"display:none;\">\n",
              "\n",
              "<svg xmlns=\"http://www.w3.org/2000/svg\" height=\"24px\"viewBox=\"0 0 24 24\"\n",
              "     width=\"24px\">\n",
              "    <g>\n",
              "        <path d=\"M19 3H5c-1.1 0-2 .9-2 2v14c0 1.1.9 2 2 2h14c1.1 0 2-.9 2-2V5c0-1.1-.9-2-2-2zM9 17H7v-7h2v7zm4 0h-2V7h2v10zm4 0h-2v-4h2v4z\"/>\n",
              "    </g>\n",
              "</svg>\n",
              "  </button>\n",
              "\n",
              "<style>\n",
              "  .colab-df-quickchart {\n",
              "      --bg-color: #E8F0FE;\n",
              "      --fill-color: #1967D2;\n",
              "      --hover-bg-color: #E2EBFA;\n",
              "      --hover-fill-color: #174EA6;\n",
              "      --disabled-fill-color: #AAA;\n",
              "      --disabled-bg-color: #DDD;\n",
              "  }\n",
              "\n",
              "  [theme=dark] .colab-df-quickchart {\n",
              "      --bg-color: #3B4455;\n",
              "      --fill-color: #D2E3FC;\n",
              "      --hover-bg-color: #434B5C;\n",
              "      --hover-fill-color: #FFFFFF;\n",
              "      --disabled-bg-color: #3B4455;\n",
              "      --disabled-fill-color: #666;\n",
              "  }\n",
              "\n",
              "  .colab-df-quickchart {\n",
              "    background-color: var(--bg-color);\n",
              "    border: none;\n",
              "    border-radius: 50%;\n",
              "    cursor: pointer;\n",
              "    display: none;\n",
              "    fill: var(--fill-color);\n",
              "    height: 32px;\n",
              "    padding: 0;\n",
              "    width: 32px;\n",
              "  }\n",
              "\n",
              "  .colab-df-quickchart:hover {\n",
              "    background-color: var(--hover-bg-color);\n",
              "    box-shadow: 0 1px 2px rgba(60, 64, 67, 0.3), 0 1px 3px 1px rgba(60, 64, 67, 0.15);\n",
              "    fill: var(--button-hover-fill-color);\n",
              "  }\n",
              "\n",
              "  .colab-df-quickchart-complete:disabled,\n",
              "  .colab-df-quickchart-complete:disabled:hover {\n",
              "    background-color: var(--disabled-bg-color);\n",
              "    fill: var(--disabled-fill-color);\n",
              "    box-shadow: none;\n",
              "  }\n",
              "\n",
              "  .colab-df-spinner {\n",
              "    border: 2px solid var(--fill-color);\n",
              "    border-color: transparent;\n",
              "    border-bottom-color: var(--fill-color);\n",
              "    animation:\n",
              "      spin 1s steps(1) infinite;\n",
              "  }\n",
              "\n",
              "  @keyframes spin {\n",
              "    0% {\n",
              "      border-color: transparent;\n",
              "      border-bottom-color: var(--fill-color);\n",
              "      border-left-color: var(--fill-color);\n",
              "    }\n",
              "    20% {\n",
              "      border-color: transparent;\n",
              "      border-left-color: var(--fill-color);\n",
              "      border-top-color: var(--fill-color);\n",
              "    }\n",
              "    30% {\n",
              "      border-color: transparent;\n",
              "      border-left-color: var(--fill-color);\n",
              "      border-top-color: var(--fill-color);\n",
              "      border-right-color: var(--fill-color);\n",
              "    }\n",
              "    40% {\n",
              "      border-color: transparent;\n",
              "      border-right-color: var(--fill-color);\n",
              "      border-top-color: var(--fill-color);\n",
              "    }\n",
              "    60% {\n",
              "      border-color: transparent;\n",
              "      border-right-color: var(--fill-color);\n",
              "    }\n",
              "    80% {\n",
              "      border-color: transparent;\n",
              "      border-right-color: var(--fill-color);\n",
              "      border-bottom-color: var(--fill-color);\n",
              "    }\n",
              "    90% {\n",
              "      border-color: transparent;\n",
              "      border-bottom-color: var(--fill-color);\n",
              "    }\n",
              "  }\n",
              "</style>\n",
              "\n",
              "  <script>\n",
              "    async function quickchart(key) {\n",
              "      const quickchartButtonEl =\n",
              "        document.querySelector('#' + key + ' button');\n",
              "      quickchartButtonEl.disabled = true;  // To prevent multiple clicks.\n",
              "      quickchartButtonEl.classList.add('colab-df-spinner');\n",
              "      try {\n",
              "        const charts = await google.colab.kernel.invokeFunction(\n",
              "            'suggestCharts', [key], {});\n",
              "      } catch (error) {\n",
              "        console.error('Error during call to suggestCharts:', error);\n",
              "      }\n",
              "      quickchartButtonEl.classList.remove('colab-df-spinner');\n",
              "      quickchartButtonEl.classList.add('colab-df-quickchart-complete');\n",
              "    }\n",
              "    (() => {\n",
              "      let quickchartButtonEl =\n",
              "        document.querySelector('#df-2cec460e-ab1e-4dd1-a696-f8ea0c69ae5c button');\n",
              "      quickchartButtonEl.style.display =\n",
              "        google.colab.kernel.accessAllowed ? 'block' : 'none';\n",
              "    })();\n",
              "  </script>\n",
              "</div>\n",
              "    </div>\n",
              "  </div>\n"
            ],
            "application/vnd.google.colaboratory.intrinsic+json": {
              "type": "dataframe",
              "variable_name": "df",
              "summary": "{\n  \"name\": \"df\",\n  \"rows\": 19993,\n  \"fields\": [\n    {\n      \"column\": \"doc_id\",\n      \"properties\": {\n        \"dtype\": \"number\",\n        \"std\": 8117,\n        \"min\": 16225,\n        \"max\": 44224,\n        \"num_unique_values\": 19993,\n        \"samples\": [\n          16698,\n          35617,\n          41770\n        ],\n        \"semantic_type\": \"\",\n        \"description\": \"\"\n      }\n    },\n    {\n      \"column\": \"RPN_questions\",\n      \"properties\": {\n        \"dtype\": \"string\",\n        \"num_unique_values\": 19649,\n        \"samples\": [\n          \"\\u0414\\u043e\\u0431\\u0440\\u044b\\u0439 \\u0434\\u0435\\u043d\\u044c! \\u041f\\u0440\\u0438 \\u043f\\u043e\\u043a\\u0443\\u043f\\u043a\\u0435 \\u0442\\u043e\\u0432\\u0430\\u0440\\u043e\\u0432 \\u0443 \\u0418\\u041f \\u0421\\u0438\\u043d\\u044f\\u043a\\u043e\\u0432 \\u0410\\u043b\\u0435\\u043a\\u0441\\u0435\\u0439 \\u0412\\u0430\\u043b\\u0435\\u0440\\u044c\\u0435\\u0432\\u0438\\u0447 (\\u0433. \\u041a\\u0438\\u0440\\u043e\\u0432) 01.04.2022 \\u0433. \\u0441 \\u043a\\u0430\\u0440\\u0442\\u044b \\u0441\\u043f\\u0438\\u0441\\u0430\\u043d\\u0430 \\u0441\\u0442\\u043e\\u0438\\u043c\\u043e\\u0441\\u0442\\u044c \\u0431\\u043e\\u043b\\u044c\\u0448\\u0435, \\u0447\\u0435\\u043c \\u0443\\u043a\\u0430\\u0437\\u0430\\u043d\\u043e \\u043d\\u0430 \\u0446\\u0435\\u043d\\u043d\\u0438\\u043a\\u0435. \\u041f\\u0440\\u043e\\u0448\\u0443 \\u0440\\u0430\\u0437\\u044a\\u044f\\u0441\\u043d\\u0438\\u0442\\u044c \\u043f\\u0440\\u0430\\u0432\\u043e\\u043c\\u0435\\u0440\\u043d\\u043e\\u0441\\u0442\\u044c \\u0432\\u044b\\u0448\\u0435\\u0443\\u043a\\u0430\\u0437\\u0430\\u043d\\u043d\\u044b\\u0445 \\u0434\\u0435\\u0439\\u0441\\u0442\\u0432\\u0438\\u0439. \\r\\n\\u0421\\u043f\\u0430\\u0441\\u0438\\u0431\\u043e. \",\n          \"\\u041f\\u043e\\u0441\\u043b\\u0435 \\u0437\\u0430\\u043f\\u0443\\u0441\\u043a\\u0430 \\u0441\\u0438\\u0441\\u0442\\u0435\\u043c\\u044b \\u043e\\u0442\\u043e\\u043f\\u043b\\u0435\\u043d\\u0438\\u044f \\u0432 \\u043e\\u0434\\u043d\\u043e\\u043c \\u0438\\u0437 \\u0447\\u0435\\u0442\\u044b\\u0440\\u0451\\u0445 \\u0441\\u0442\\u043e\\u044f\\u043a\\u043e\\u0432 \\u043e\\u0442\\u043e\\u043f\\u043b\\u0435\\u043d\\u0438\\u044f \\u0432 \\u043c\\u043e\\u0435\\u0439 \\u043a\\u0432\\u0430\\u0440\\u0442\\u0438\\u0440\\u0435 \\u043d\\u0430\\u0431\\u043b\\u044e\\u0434\\u0430\\u0435\\u0442\\u0441\\u044f \\u0437\\u043d\\u0430\\u0447\\u0438\\u0442\\u0435\\u043b\\u044c\\u043d\\u044b\\u0439 \\u0448\\u0443\\u043c (\\u0432\\u044b\\u0448\\u0435 30 \\u0434\\u0411 \\u0432 \\u043d\\u043e\\u0447\\u043d\\u043e\\u0435 \\u0432\\u0440\\u0435\\u043c\\u044f). \\u0412 \\u043f\\u0440\\u0435\\u0434\\u044b\\u0434\\u0443\\u0449\\u0438\\u0435 \\u0433\\u043e\\u0434\\u044b \\u043f\\u043e \\u0437\\u0430\\u044f\\u0432\\u043a\\u0435 \\u0432 \\u0443\\u043f\\u0440\\u0430\\u0432\\u043b\\u044f\\u044e\\u0449\\u0443\\u044e \\u043a\\u043e\\u043c\\u043f\\u0430\\u043d\\u0438\\u044e \\u043f\\u0440\\u043e\\u0431\\u043b\\u0435\\u043c\\u0430 \\u043e\\u043f\\u0435\\u0440\\u0430\\u0442\\u0438\\u0432\\u043d\\u043e \\u0440\\u0435\\u0448\\u0430\\u043b\\u0430\\u0441\\u044c \\u043f\\u0443\\u0442\\u0451\\u043c \\u0431\\u0430\\u043b\\u0430\\u043d\\u0441\\u0438\\u0440\\u043e\\u0432\\u043a\\u0438 \\u0434\\u0430\\u0432\\u043b\\u0435\\u043d\\u0438\\u0439 \\u043d\\u0430 \\u0432\\u0445\\u043e\\u0434\\u0435 \\u0438 \\u0432\\u044b\\u0445\\u043e\\u0434\\u0435 \\u0441\\u0442\\u043e\\u044f\\u043a\\u0430 \\u043e\\u0442\\u043e\\u043f\\u043b\\u0435\\u043d\\u0438\\u044f.  \\u0412 2021 \\u0433\\u043e\\u0434\\u0443 \\u0443\\u043f\\u0440\\u0430\\u0432\\u043b\\u044f\\u044e\\u0449\\u0430\\u044f \\u043a\\u043e\\u043c\\u043f\\u0430\\u043d\\u0438\\u044f (\\u041e\\u041e\\u041e \\u00ab\\u0423\\u041a \\u00ab\\u0421\\u0442\\u0430\\u043d\\u0434\\u0430\\u0440\\u0442\\u00bb, \\u0433. \\u0415\\u043a\\u0430\\u0442\\u0435\\u0440\\u0438\\u043d\\u0431\\u0443\\u0440\\u0433) \\u0437\\u0430\\u043a\\u0440\\u044b\\u0432\\u0430\\u0435\\u0442 \\u0437\\u0430\\u044f\\u0432\\u043a\\u0438 \\u043f\\u043e \\u043f\\u0440\\u043e\\u0431\\u043b\\u0435\\u043c\\u0435 \\u0441 \\u0444\\u0438\\u043a\\u0442\\u0438\\u0432\\u043d\\u044b\\u043c\\u0438 \\u0440\\u0435\\u0437\\u0443\\u043b\\u044c\\u0442\\u0430\\u0442\\u0430\\u043c\\u0438, \\u0430 \\u043c\\u043d\\u0435 \\u043d\\u0430\\u0432\\u044f\\u0437\\u044b\\u0432\\u0430\\u0435\\u0442 \\u043f\\u043b\\u0430\\u0442\\u043d\\u0443\\u044e \\u0443\\u0441\\u043b\\u0443\\u0433\\u0443 \\u043f\\u0440\\u043e\\u043c\\u044b\\u0432\\u043a\\u0438 \\u0440\\u0430\\u0434\\u0438\\u0430\\u0442\\u043e\\u0440\\u0430 \\u043e\\u0442\\u043e\\u043f\\u043b\\u0435\\u043d\\u0438\\u044f. \\u041d\\u0430 \\u043c\\u043e\\u0438 \\u0434\\u043e\\u0432\\u043e\\u0434\\u044b \\u043e \\u0442\\u043e\\u043c,  \\u0447\\u0442\\u043e \\u0448\\u0443\\u043c \\u043d\\u0435 \\u0441\\u0432\\u044f\\u0437\\u0430\\u043d \\u0441 \\u0440\\u0430\\u0434\\u0438\\u0430\\u0442\\u043e\\u0440\\u043e\\u043c, \\u0442\\u0430\\u043a \\u043a\\u0430\\u043a \\u043f\\u0440\\u0438 \\u043e\\u0442\\u043a\\u043b\\u044e\\u0447\\u0435\\u043d\\u0438\\u0438 \\u0440\\u0430\\u0434\\u0438\\u0430\\u0442\\u043e\\u0440\\u0430 \\u043e\\u043d \\u0441\\u043e\\u0445\\u0440\\u0430\\u043d\\u044f\\u0435\\u0442\\u0441\\u044f, \\u0423\\u041a \\u0437\\u0430\\u043a\\u0440\\u044b\\u0432\\u0430\\u0435\\u0442 \\u0437\\u0430\\u044f\\u0432\\u043a\\u0443 \\u043f\\u043e \\u043f\\u0440\\u0438\\u0447\\u0438\\u043d\\u0435 \\\"\\u043e\\u0442 \\u0441\\u043e\\u0441\\u0435\\u0434\\u0435\\u0439 \\u0436\\u0430\\u043b\\u043e\\u0431\\u044b \\u043d\\u0430 \\u0448\\u0443\\u043c \\u043d\\u0435 \\u043f\\u043e\\u0441\\u0442\\u0443\\u043f\\u0430\\u043b\\u0438\\\".\\r\\n\\r\\n\\u0414\\u0435\\u043f\\u0430\\u0440\\u0442\\u0430\\u043c\\u0435\\u043d\\u0442 \\u0413\\u043e\\u0441\\u0443\\u0434\\u0430\\u0440\\u0441\\u0442\\u0432\\u0435\\u043d\\u043d\\u043e\\u0433\\u043e \\u0436\\u0438\\u043b\\u0438\\u0449\\u043d\\u043e\\u0433\\u043e \\u0438 \\u0441\\u0442\\u0440\\u043e\\u0438\\u0442\\u0435\\u043b\\u044c\\u043d\\u043e\\u0433\\u043e \\u043d\\u0430\\u0434\\u0437\\u043e\\u0440\\u0430 \\u0421\\u0432\\u0435\\u0440\\u0434\\u043b\\u043e\\u0432\\u0441\\u043a\\u043e\\u0439 \\u043e\\u0431\\u043b\\u0430\\u0441\\u0442\\u0438 \\u043e\\u0442\\u043a\\u0430\\u0437\\u044b\\u0432\\u0430\\u0435\\u0442\\u0441\\u044f \\u0440\\u0430\\u0437\\u0431\\u0438\\u0440\\u0430\\u0442\\u044c\\u0441\\u044f \\u0432 \\u043f\\u0440\\u043e\\u0431\\u043b\\u0435\\u043c\\u0435 \\u0441 \\u0444\\u043e\\u0440\\u043c\\u0443\\u043b\\u0438\\u0440\\u043e\\u0432\\u043a\\u043e\\u0439 \\u043e\\u0442\\u0432\\u0435\\u0442\\u0430 \\\"\\u0414\\u0435\\u043f\\u0430\\u0440\\u0442\\u0430\\u043c\\u0435\\u043d\\u0442\\u0443 \\u043d\\u0435 \\u0434\\u0435\\u043b\\u0435\\u0433\\u0438\\u0440\\u043e\\u0432\\u0430\\u043d\\u044b \\u043f\\u043e\\u043b\\u043d\\u043e\\u043c\\u043e\\u0447\\u0438\\u044f \\u043f\\u043e \\u043e\\u043f\\u0440\\u0435\\u0434\\u0435\\u043b\\u0435\\u043d\\u0438\\u044e \\u0441\\u043e\\u043e\\u0442\\u0432\\u0435\\u0442\\u0441\\u0442\\u0432\\u0438\\u044f (\\u043d\\u0435\\u0441\\u043e\\u043e\\u0442\\u0432\\u0435\\u0442\\u0441\\u0442\\u0432\\u0438\\u044f) \\u0443\\u0440\\u043e\\u0432\\u043d\\u0435\\u0439 \\u0448\\u0443\\u043c\\u0430 \\u0432 \\u0436\\u0438\\u043b\\u044b\\u0445 \\u043f\\u043e\\u043c\\u0435\\u0449\\u0435\\u043d\\u0438\\u044f\\u0445, \\u0432 \\u0441\\u0432\\u044f\\u0437\\u0438 \\u0441 \\u0447\\u0435\\u043c, \\u043f\\u0440\\u0430\\u0432\\u043e\\u0432\\u044b\\u0435 \\u043e\\u0441\\u043d\\u043e\\u0432\\u0430\\u043d\\u0438\\u044f \\u0434\\u043b\\u044f \\u043e\\u0440\\u0433\\u0430\\u043d\\u0438\\u0437\\u0430\\u0446\\u0438\\u0438 \\u043a\\u043e\\u043d\\u0442\\u0440\\u043e\\u043b\\u044c\\u043d\\u043e-\\u043d\\u0430\\u0434\\u0437\\u043e\\u0440\\u043d\\u044b\\u0445 \\u043c\\u0435\\u0440\\u043e\\u043f\\u0440\\u0438\\u044f\\u0442\\u0438\\u0439 \\u043f\\u043e \\u0434\\u0430\\u043d\\u043d\\u043e\\u043c\\u0443 \\u0432\\u043e\\u043f\\u0440\\u043e\\u0441\\u0443 \\u0443 \\u0414\\u0435\\u043f\\u0430\\u0440\\u0442\\u0430\\u043c\\u0435\\u043d\\u0442\\u0430 \\u043e\\u0442\\u0441\\u0443\\u0442\\u0441\\u0442\\u0432\\u0443\\u044e\\u0442\\\".\\r\\n\\r\\n\\u041c\\u043d\\u0435 \\u043d\\u0435\\u043e\\u0431\\u0445\\u043e\\u0434\\u0438\\u043c\\u0430 \\u043a\\u043e\\u043d\\u0441\\u0443\\u043b\\u044c\\u0442\\u0430\\u0446\\u0438\\u044f \\u0441\\u043f\\u0435\\u0446\\u0438\\u0430\\u043b\\u0438\\u0441\\u0442\\u043e\\u0432 \\u0420\\u043e\\u0441\\u043f\\u043e\\u0442\\u0440\\u0435\\u0431\\u043d\\u0430\\u0434\\u0437\\u043e\\u0440\\u0430 \\u0434\\u043b\\u044f \\u0432\\u043e\\u0437\\u043c\\u043e\\u0436\\u043d\\u043e\\u0441\\u0442\\u0438 \\u0440\\u0435\\u0437\\u0443\\u043b\\u044c\\u0442\\u0430\\u0442\\u0438\\u0432\\u043d\\u043e\\u0433\\u043e \\u043e\\u0431\\u0449\\u0435\\u043d\\u0438\\u044f \\u0441 \\u0443\\u043f\\u0440\\u0430\\u0432\\u043b\\u044f\\u044e\\u0449\\u0435\\u0439 \\u043a\\u043e\\u043c\\u043f\\u0430\\u043d\\u0438\\u0435\\u0439 \\u0438 \\u0440\\u0435\\u0448\\u0435\\u043d\\u0438\\u044f \\u043f\\u0440\\u043e\\u0431\\u043b\\u0435\\u043c\\u044b. \\u0413\\u043e\\u0442\\u043e\\u0432 \\u043e\\u043f\\u043b\\u0430\\u0442\\u0438\\u0442\\u044c \\u043d\\u0435\\u043e\\u0431\\u0445\\u043e\\u0434\\u0438\\u043c\\u044b\\u0435 \\u0443\\u0441\\u043b\\u0443\\u0433\\u0438 \\u043b\\u0430\\u0431\\u043e\\u0440\\u0430\\u0442\\u043e\\u0440\\u0438\\u0439 \\u0420\\u041f\\u041d \\u043f\\u043e \\u0438\\u0437\\u043c\\u0435\\u0440\\u0435\\u043d\\u0438\\u044e \\u0443\\u0440\\u043e\\u0432\\u043d\\u044f \\u0448\\u0443\\u043c\\u0430 \\u0432 \\u0436\\u0438\\u043b\\u043e\\u043c \\u043f\\u043e\\u043c\\u0435\\u0449\\u0435\\u043d\\u0438\\u0438.\",\n          \"27.11 \\u0431\\u044b\\u043b \\u0441\\u0434\\u0435\\u043b\\u0430\\u043d \\u0437\\u0430\\u043a\\u0430\\u0437 \\u0442\\u0440\\u0435\\u0431\\u0443\\u044e\\u0449\\u0438\\u0439 100% \\u043f\\u0440\\u0435\\u0434\\u043e\\u043f\\u043b\\u0430\\u0442\\u044b \\u0432 \\u043f\\u0440\\u0438\\u043b\\u043e\\u0436\\u0435\\u043d\\u0438\\u0438 \\u00ab\\u041c\\u0412\\u0438\\u0434\\u0435\\u043e\\u00bb, \\u0442\\u043e\\u0432\\u0430\\u0440 \\u0437\\u043d\\u0430\\u0447\\u0438\\u043b\\u0441\\u044f \\u0432 \\u043d\\u0430\\u043b\\u0438\\u0447\\u0438\\u0438, \\u0433\\u043e\\u0442\\u043e\\u0432 \\u043a \\u0432\\u044b\\u0434\\u0430\\u0447\\u0435. \\u0412 \\u043c\\u0430\\u0433\\u0430\\u0437\\u0438\\u043d\\u0435 \\u0447\\u0435\\u0440\\u0435\\u0437 30 \\u043c\\u0438\\u043d\\u0443\\u0442 \\u043f\\u0440\\u0438 \\u043f\\u043e\\u043f\\u044b\\u0442\\u043a\\u0435 \\u043f\\u043e\\u043b\\u0443\\u0447\\u0438\\u0442\\u044c \\u0442\\u043e\\u0432\\u0430\\u0440 \\u043e\\u0431\\u043d\\u0430\\u0440\\u0443\\u0436\\u0438\\u043b\\u043e\\u0441\\u044c \\u0442\\u043e, \\u0447\\u0442\\u043e \\u0442\\u043e\\u0432\\u0430\\u0440 \\u0432\\u043e\\u043e\\u0431\\u0449\\u0435 \\u043e\\u0442\\u0441\\u0443\\u0442\\u0441\\u0442\\u0432\\u0443\\u0435\\u0442. \\r\\n\\u041f\\u043e \\u0434\\u043e\\u0433\\u043e\\u0432\\u043e\\u0440\\u0443 \\u043a\\u0443\\u043f\\u043b\\u0438 \\u043f\\u0440\\u043e\\u0434\\u0430\\u0436\\u0438 :\\r\\n2.16. \\u0412 \\u0441\\u043b\\u0443\\u0447\\u0430\\u0435 \\u043e\\u0442\\u0441\\u0443\\u0442\\u0441\\u0442\\u0432\\u0438\\u044f \\u0437\\u0430\\u043a\\u0430\\u0437\\u0430\\u043d\\u043d\\u044b\\u0445 \\u0422\\u043e\\u0432\\u0430\\u0440\\u043e\\u0432 \\u0443 \\u041f\\u0440\\u043e\\u0434\\u0430\\u0432\\u0446\\u0430, \\u0432 \\u0442\\u043e\\u043c \\u0447\\u0438\\u0441\\u043b\\u0435 \\u043f\\u043e \\u043f\\u0440\\u0438\\u0447\\u0438\\u043d\\u0430\\u043c, \\u043d\\u0435 \\u0437\\u0430\\u0432\\u0438\\u0441\\u044f\\u0449\\u0438\\u043c \\u043e\\u0442 \\u043f\\u043e\\u0441\\u043b\\u0435\\u0434\\u043d\\u0435\\u0433\\u043e, \\u041f\\u0440\\u043e\\u0434\\u0430\\u0432\\u0435\\u0446 \\u0432\\u043f\\u0440\\u0430\\u0432\\u0435 \\u0430\\u043d\\u043d\\u0443\\u043b\\u0438\\u0440\\u043e\\u0432\\u0430\\u0442\\u044c \\u0443\\u043a\\u0430\\u0437\\u0430\\u043d\\u043d\\u044b\\u0439 \\u0422\\u043e\\u0432\\u0430\\u0440 \\u0438\\u0437 \\u0417\\u0430\\u043a\\u0430\\u0437\\u0430 \\u041f\\u043e\\u043a\\u0443\\u043f\\u0430\\u0442\\u0435\\u043b\\u044f \\u0438 \\u0443\\u0432\\u0435\\u0434\\u043e\\u043c\\u0438\\u0442\\u044c \\u043e\\u0431 \\u044d\\u0442\\u043e\\u043c \\u041f\\u043e\\u043a\\u0443\\u043f\\u0430\\u0442\\u0435\\u043b\\u044f \\u043f\\u0443\\u0442\\u0435\\u043c \\u043d\\u0430\\u043f\\u0440\\u0430\\u0432\\u043b\\u0435\\u043d\\u0438\\u044f \\u044d\\u043b\\u0435\\u043a\\u0442\\u0440\\u043e\\u043d\\u043d\\u043e\\u0433\\u043e \\u0441\\u043e\\u043e\\u0431\\u0449\\u0435\\u043d\\u0438\\u044f \\u043f\\u043e \\u0430\\u0434\\u0440\\u0435\\u0441\\u0443 \\u043b\\u0438\\u0431\\u043e \\u0443\\u0432\\u0435\\u0434\\u043e\\u043c\\u0438\\u0442\\u044c \\u041f\\u043e\\u043a\\u0443\\u043f\\u0430\\u0442\\u0435\\u043b\\u044f \\u043f\\u043e\\u0441\\u0440\\u0435\\u0434\\u0441\\u0442\\u0432\\u043e\\u043c \\u0442\\u0435\\u043b\\u0435\\u0444\\u043e\\u043d\\u043d\\u043e\\u0433\\u043e \\u0437\\u0432\\u043e\\u043d\\u043a\\u0430, \\u0443\\u043a\\u0430\\u0437\\u0430\\u043d\\u043d\\u043e\\u0433\\u043e \\u043f\\u0440\\u0438 \\u0440\\u0435\\u0433\\u0438\\u0441\\u0442\\u0440\\u0430\\u0446\\u0438\\u0438.\\r\\n\\u041f\\u0440\\u043e\\u0434\\u0430\\u0432\\u0435\\u0446 \\u0441\\u043e\\u043e\\u0442\\u0432\\u0435\\u0442\\u0441\\u0432\\u0435\\u043d\\u043d\\u043e \\u043d\\u0438\\u043a\\u0430\\u043a \\u043d\\u0435 \\u0443\\u0432\\u0435\\u0434\\u043e\\u043c\\u0438\\u043b \\u043e\\u0431 \\u043e\\u0442\\u0441\\u0443\\u0442\\u0441\\u0442\\u0432\\u0438\\u0438 \\u0442\\u043e\\u0432\\u0430\\u0440\\u0430. \\r\\n\\u0421\\u043e\\u0442\\u0440\\u0443\\u0434\\u043d\\u0438\\u043a\\u0438 \\u043c\\u0430\\u0433\\u0430\\u0437\\u0438\\u043d\\u0430 \\u043d\\u0430\\u043c\\u0435\\u0440\\u0435\\u043d\\u043d\\u043e \\u0432\\u0432\\u043e\\u0434\\u0438\\u043b\\u0438 \\u0432 \\u0437\\u0430\\u0431\\u043b\\u0443\\u0436\\u0434\\u0435\\u043d\\u0438\\u0435 \\u043e \\u0442\\u043e, \\u0447\\u0442\\u043e \\u0434\\u0435\\u043d\\u0435\\u0436\\u043d\\u044b\\u0435 \\u0441\\u0440\\u0435\\u0434\\u0441\\u0442\\u0432\\u0430 \\u0432\\u0435\\u0440\\u043d\\u0443\\u0442\\u0441\\u044f \\u043d\\u0435\\u043c\\u043d\\u043e\\u0433\\u043e \\u043d\\u0430 \\u043a\\u0430\\u0440\\u0442\\u0443. \"\n        ],\n        \"semantic_type\": \"\",\n        \"description\": \"\"\n      }\n    },\n    {\n      \"column\": \"RPN_answers\",\n      \"properties\": {\n        \"dtype\": \"string\",\n        \"num_unique_values\": 18490,\n        \"samples\": [\n          \"\\u0414\\u043e\\u0431\\u0440\\u044b\\u0439 \\u0434\\u0435\\u043d\\u044c! \\u0412\\u0430\\u043c \\u043d\\u0435\\u043e\\u0431\\u0445\\u043e\\u0434\\u0438\\u043c\\u043e \\u043e\\u0431\\u0440\\u0430\\u0442\\u0438\\u0442\\u044c\\u0441\\u044f \\u0432 \\u0442\\u0435\\u0445\\u043f\\u043e\\u0434\\u0434\\u0435\\u0440\\u0436\\u043a\\u0443 \\u043f\\u043e\\u0440\\u0442\\u0430\\u043b\\u0430 \\u00ab\\u0413\\u043e\\u0441\\u0443\\u0441\\u043b\\u0443\\u0433\\u0438\\u00bb. \\u0412\\u043e\\u043f\\u0440\\u043e\\u0441 \\u043d\\u0435 \\u0432\\u0445\\u043e\\u0434\\u0438\\u0442 \\u0432 \\u043a\\u043e\\u043c\\u043f\\u0435\\u0442\\u0435\\u043d\\u0446\\u0438\\u044e \\u0423\\u043f\\u0440\\u0430\\u0432\\u043b\\u0435\\u043d\\u0438\\u044f \\u0420\\u043e\\u0441\\u043f\\u043e\\u0442\\u0440\\u0435\\u0431\\u043d\\u0430\\u0434\\u0437\\u043e\\u0440\\u0430 \\u043f\\u043e \\u041c\\u043e\\u0441\\u043a\\u043e\\u0432\\u0441\\u043a\\u043e\\u0439 \\u043e\\u0431\\u043b\\u0430\\u0441\\u0442\\u0438.\\r\\n\\r\\n\",\n          \"\\u0423\\u0432\\u0430\\u0436\\u0430\\u0435\\u043c\\u044b\\u0439 \\u041e\\u043b\\u0435\\u0433!\\r\\n\\r\\n\\u041f\\u043e \\u043f\\u043e\\u0432\\u043e\\u0434\\u0443 \\u0412\\u0430\\u0448\\u0435\\u0439 \\u0441\\u0438\\u0442\\u0443\\u0430\\u0446\\u0438\\u0438 \\u0412\\u0430\\u043c \\u0441\\u043b\\u0435\\u0434\\u0443\\u0435\\u0442 \\u043e\\u0431\\u0440\\u0430\\u0442\\u0438\\u0442\\u044c\\u0441\\u044f \\u043f\\u043e \\u043f\\u0440\\u0438\\u043d\\u0430\\u0434\\u043b\\u0435\\u0436\\u043d\\u043e\\u0441\\u0442\\u0438 \\u0441 \\u043f\\u0438\\u0441\\u044c\\u043c\\u0435\\u043d\\u043d\\u043e\\u0439 \\u0436\\u0430\\u043b\\u043e\\u0431\\u043e\\u0439 \\u0432 \\u043c\\u0438\\u043d\\u0438\\u0441\\u0442\\u0435\\u0440\\u0441\\u0442\\u0432\\u043e \\u0437\\u0434\\u0440\\u0430\\u0432\\u043e\\u043e\\u0445\\u0440\\u0430\\u043d\\u0435\\u043d\\u0438\\u044f \\u041a\\u0438\\u0440\\u043e\\u0432\\u0441\\u043a\\u043e\\u0439 \\u043e\\u0431\\u043b\\u0430\\u0441\\u0442\\u0438 (610019, \\u0433. \\u041a\\u0438\\u0440\\u043e\\u0432, \\u0443\\u043b.\\u041a.\\u041b\\u0438\\u0431\\u043a\\u043d\\u0435\\u0445\\u0442\\u0430, 69, (8332) 27-27-25 \\u0434\\u043e\\u0431. 2500, ip-depart@medstat.kirov.ru, \\u0441\\u0430\\u0439\\u0442 http://www.medkirov.ru/, \\u043f\\u043e\\u0441\\u043a\\u043e\\u043b\\u044c\\u043a\\u0443 \\u043e\\u0441\\u0443\\u0449\\u0435\\u0441\\u0442\\u0432\\u043b\\u0435\\u043d\\u0438\\u0435  \\u043a\\u043e\\u043d\\u0442\\u0440\\u043e\\u043b\\u044f \\u043a\\u0430\\u0447\\u0435\\u0441\\u0442\\u0432\\u0430 \\u0438 \\u0431\\u0435\\u0437\\u043e\\u043f\\u0430\\u0441\\u043d\\u043e\\u0441\\u0442\\u0438 \\u043c\\u0435\\u0434\\u0438\\u0446\\u0438\\u043d\\u0441\\u043a\\u043e\\u0439 \\u0434\\u0435\\u044f\\u0442\\u0435\\u043b\\u044c\\u043d\\u043e\\u0441\\u0442\\u0438 \\u0432 \\u043e\\u0442\\u043d\\u043e\\u0448\\u0435\\u043d\\u0438\\u0438 \\u043f\\u043e\\u0434\\u0432\\u0435\\u0434\\u043e\\u043c\\u0441\\u0442\\u0432\\u0435\\u043d\\u043d\\u044b\\u0445 \\u043c\\u0435\\u0434\\u0438\\u0446\\u0438\\u043d\\u0441\\u043a\\u0438\\u0445 \\u043e\\u0440\\u0433\\u0430\\u043d\\u0438\\u0437\\u0430\\u0446\\u0438\\u0439 \\u043e\\u0442\\u043d\\u0435\\u0441\\u0435\\u043d\\u043e \\u043a \\u043a\\u043e\\u043c\\u043f\\u0435\\u0442\\u0435\\u043d\\u0446\\u0438\\u0438 \\u0434\\u0430\\u043d\\u043d\\u043e\\u0433\\u043e \\u041c\\u0438\\u043d\\u0438\\u0441\\u0442\\u0435\\u0440\\u0441\\u0442\\u0432\\u0430.\\r\\n\\u041a\\u0440\\u043e\\u043c\\u0435 \\u0442\\u043e\\u0433\\u043e, \\u0412\\u044b \\u0432\\u043f\\u0440\\u0430\\u0432\\u0435 \\u043e\\u0431\\u0440\\u0430\\u0442\\u0438\\u0442\\u044c\\u0441\\u044f \\u043a \\u0438\\u0441\\u043f\\u043e\\u043b\\u043d\\u0438\\u0442\\u0435\\u043b\\u044e (\\u0432 \\u043c\\u0435\\u0434\\u0438\\u0446\\u0438\\u043d\\u0441\\u043a\\u043e\\u0435 \\u0443\\u0447\\u0440\\u0435\\u0436\\u0434\\u0435\\u043d\\u0438\\u0435) \\u0441 \\u0441\\u043e\\u043e\\u0442\\u0432\\u0435\\u0442\\u0441\\u0442\\u0432\\u0443\\u044e\\u0449\\u0435\\u0439 \\u043f\\u0438\\u0441\\u044c\\u043c\\u0435\\u043d\\u043d\\u043e\\u0439 \\u043f\\u0440\\u0435\\u0442\\u0435\\u043d\\u0437\\u0438\\u0435\\u0439 \\u0438 \\u0443\\u043a\\u0430\\u0437\\u0430\\u043d\\u0438\\u0435\\u043c \\u0441\\u043e\\u043e\\u0442\\u0432\\u0435\\u0442\\u0441\\u0442\\u0432\\u0443\\u044e\\u0449\\u0435\\u0433\\u043e \\u0442\\u0440\\u0435\\u0431\\u043e\\u0432\\u0430\\u043d\\u0438\\u044f. \\u041f\\u0440\\u0438 \\u044d\\u0442\\u043e\\u043c \\u043f\\u0440\\u0435\\u0442\\u0435\\u043d\\u0437\\u0438\\u044f \\u043e\\u0444\\u043e\\u0440\\u043c\\u043b\\u044f\\u0435\\u0442\\u0441\\u044f \\u0432 \\u0434\\u0432\\u0443\\u0445 \\u044d\\u043a\\u0437\\u0435\\u043c\\u043f\\u043b\\u044f\\u0440\\u0430\\u0445, \\u043e\\u0434\\u0438\\u043d \\u0438\\u0437 \\u043a\\u043e\\u0442\\u043e\\u0440\\u044b\\u0445 \\u043d\\u0435\\u043e\\u0431\\u0445\\u043e\\u0434\\u0438\\u043c\\u043e \\u0432\\u0440\\u0443\\u0447\\u0438\\u0442\\u044c \\u043f\\u043e\\u0434 \\u043e\\u0442\\u043c\\u0435\\u0442\\u043a\\u0443 \\u043e \\u043f\\u0440\\u0438\\u043d\\u044f\\u0442\\u0438\\u0438 \\u043a \\u0440\\u0430\\u0441\\u0441\\u043c\\u043e\\u0442\\u0440\\u0435\\u043d\\u0438\\u044e, \\u043b\\u0438\\u0431\\u043e \\u043d\\u0430\\u043f\\u0440\\u0430\\u0432\\u0438\\u0442\\u044c \\u043f\\u043e\\u0447\\u0442\\u043e\\u0432\\u044b\\u043c \\u043e\\u0442\\u043f\\u0440\\u0430\\u0432\\u043b\\u0435\\u043d\\u0438\\u0435\\u043c \\u0441 \\u043e\\u0431\\u0440\\u0430\\u0442\\u043d\\u044b\\u043c \\u0443\\u0432\\u0435\\u0434\\u043e\\u043c\\u043b\\u0435\\u043d\\u0438\\u0435\\u043c. \\u041f\\u0440\\u0438 \\u043d\\u0435\\u043e\\u0431\\u043e\\u0441\\u043d\\u043e\\u0432\\u0430\\u043d\\u043d\\u043e\\u043c \\u043e\\u0442\\u043a\\u0430\\u0437\\u0435 \\u0438\\u0441\\u043f\\u043e\\u043b\\u043d\\u0438\\u0442\\u0435\\u043b\\u044f \\u0443\\u0434\\u043e\\u0432\\u043b\\u0435\\u0442\\u0432\\u043e\\u0440\\u0438\\u0442\\u044c \\u0437\\u0430\\u044f\\u0432\\u043b\\u0435\\u043d\\u043d\\u044b\\u0435 \\u0442\\u0440\\u0435\\u0431\\u043e\\u0432\\u0430\\u043d\\u0438\\u044f \\u0434\\u043e\\u0431\\u0440\\u043e\\u0432\\u043e\\u043b\\u044c\\u043d\\u043e, \\u0434\\u0430\\u043b\\u044c\\u043d\\u0435\\u0439\\u0448\\u0435\\u0435 \\u0440\\u0430\\u0437\\u0440\\u0435\\u0448\\u0435\\u043d\\u0438\\u0435 \\u0441\\u043f\\u043e\\u0440\\u0430 (\\u0432 \\u0441\\u043b\\u0443\\u0447\\u0430\\u0435 \\u043d\\u0430\\u043b\\u0438\\u0447\\u0438\\u044f \\u043f\\u0440\\u0430\\u0432\\u043e\\u0432\\u044b\\u0445 \\u043e\\u0441\\u043d\\u043e\\u0432\\u0430\\u043d\\u0438\\u0439) \\u043f\\u043e\\u0434\\u043b\\u0435\\u0436\\u0438\\u0442 \\u0440\\u0430\\u0441\\u0441\\u043c\\u043e\\u0442\\u0440\\u0435\\u043d\\u0438\\u044e \\u043d\\u0435\\u043f\\u043e\\u0441\\u0440\\u0435\\u0434\\u0441\\u0442\\u0432\\u0435\\u043d\\u043d\\u043e \\u0432 \\u0441\\u0443\\u0434\\u0435\\u0431\\u043d\\u043e\\u043c \\u043f\\u043e\\u0440\\u044f\\u0434\\u043a\\u0435. \\r\\n\",\n          \"\\u0423\\u0432\\u0430\\u0436\\u0430\\u0435\\u043c\\u044b\\u0439 \\u0410\\u043b\\u0435\\u043a\\u0441\\u0435\\u0439!\\r\\n\\u0412 \\u0441\\u043e\\u043e\\u0442\\u0432\\u0435\\u0442\\u0441\\u0442\\u0432\\u0438\\u0438 \\u0441 \\u041f\\u043e\\u043b\\u043e\\u0436\\u0435\\u043d\\u0438\\u0435\\u043c \\u043e\\u0431 \\u0423\\u043f\\u0440\\u0430\\u0432\\u043b\\u0435\\u043d\\u0438\\u0438 \\u0420\\u043e\\u0441\\u043f\\u043e\\u0442\\u0440\\u0435\\u0431\\u043d\\u0430\\u0434\\u0437\\u043e\\u0440\\u0430 \\u043f\\u043e \\u041e\\u0440\\u0435\\u043d\\u0431\\u0443\\u0440\\u0433\\u0441\\u043a\\u043e\\u0439 \\u043e\\u0431\\u043b\\u0430\\u0441\\u0442\\u0438, \\u0443\\u0442\\u0432\\u0435\\u0440\\u0436\\u0434\\u0435\\u043d\\u043d\\u044b\\u043c \\u043f\\u0440\\u0438\\u043a\\u0430\\u0437\\u043e\\u043c \\u0424\\u0435\\u0434\\u0435\\u0440\\u0430\\u043b\\u044c\\u043d\\u043e\\u0439 \\u0441\\u043b\\u0443\\u0436\\u0431\\u044b \\u043f\\u043e \\u043d\\u0430\\u0434\\u0437\\u043e\\u0440\\u0443 \\u0432 \\u0441\\u0444\\u0435\\u0440\\u0435 \\u0437\\u0430\\u0449\\u0438\\u0442\\u044b \\u043f\\u0440\\u0430\\u0432 \\u043f\\u043e\\u0442\\u0440\\u0435\\u0431\\u0438\\u0442\\u0435\\u043b\\u0435\\u0439 \\u0438 \\u0431\\u043b\\u0430\\u0433\\u043e\\u043f\\u043e\\u043b\\u0443\\u0447\\u0438\\u044f \\u0447\\u0435\\u043b\\u043e\\u0432\\u0435\\u043a\\u0430 \\u043e\\u0442 09.07.2012 \\u2116 693, \\u0423\\u043f\\u0440\\u0430\\u0432\\u043b\\u0435\\u043d\\u0438\\u0435 \\u043e\\u0441\\u0443\\u0449\\u0435\\u0441\\u0442\\u0432\\u043b\\u044f\\u0435\\u0442 \\u043d\\u0430\\u0434\\u0437\\u043e\\u0440 \\u0438 \\u043a\\u043e\\u043d\\u0442\\u0440\\u043e\\u043b\\u044c \\u0437\\u0430 \\u0438\\u0441\\u043f\\u043e\\u043b\\u043d\\u0435\\u043d\\u0438\\u0435\\u043c \\u043e\\u0431\\u044f\\u0437\\u0430\\u0442\\u0435\\u043b\\u044c\\u043d\\u044b\\u0445 \\u0442\\u0440\\u0435\\u0431\\u043e\\u0432\\u0430\\u043d\\u0438\\u0439 \\u0437\\u0430\\u043a\\u043e\\u043d\\u043e\\u0434\\u0430\\u0442\\u0435\\u043b\\u044c\\u0441\\u0442\\u0432\\u0430 \\u0420\\u043e\\u0441\\u0441\\u0438\\u0439\\u0441\\u043a\\u043e\\u0439 \\u0424\\u0435\\u0434\\u0435\\u0440\\u0430\\u0446\\u0438\\u0438 \\u0432 \\u043e\\u0431\\u043b\\u0430\\u0441\\u0442\\u0438 \\u043e\\u0431\\u0435\\u0441\\u043f\\u0435\\u0447\\u0435\\u043d\\u0438\\u044f \\u0441\\u0430\\u043d\\u0438\\u0442\\u0430\\u0440\\u043d\\u043e-\\u044d\\u043f\\u0438\\u0434\\u0435\\u043c\\u0438\\u043e\\u043b\\u043e\\u0433\\u0438\\u0447\\u0435\\u0441\\u043a\\u043e\\u0433\\u043e \\u0431\\u043b\\u0430\\u0433\\u043e\\u043f\\u043e\\u043b\\u0443\\u0447\\u0438\\u044f \\u043d\\u0430\\u0441\\u0435\\u043b\\u0435\\u043d\\u0438\\u044f, \\u0437\\u0430\\u0449\\u0438\\u0442\\u044b \\u043f\\u0440\\u0430\\u0432 \\u043f\\u043e\\u0442\\u0440\\u0435\\u0431\\u0438\\u0442\\u0435\\u043b\\u0435\\u0439 \\u0438 \\u043d\\u0430 \\u043f\\u043e\\u0442\\u0440\\u0435\\u0431\\u0438\\u0442\\u0435\\u043b\\u044c\\u0441\\u043a\\u043e\\u043c \\u0440\\u044b\\u043d\\u043a\\u0435. \\u041f\\u0440\\u0438 \\u044d\\u0442\\u043e\\u043c, \\u0434\\u043e\\u043b\\u0436\\u043d\\u043e\\u0441\\u0442\\u043d\\u044b\\u0435 \\u043b\\u0438\\u0446\\u0430 \\u0423\\u043f\\u0440\\u0430\\u0432\\u043b\\u0435\\u043d\\u0438\\u044f \\u0438\\u043c\\u0435\\u044e\\u0442 \\u043f\\u0440\\u0430\\u0432\\u043e \\u043f\\u0440\\u0438\\u043c\\u0435\\u043d\\u044f\\u0442\\u044c \\u043f\\u0440\\u0435\\u0434\\u0443\\u0441\\u043c\\u043e\\u0442\\u0440\\u0435\\u043d\\u043d\\u044b\\u0435 \\u0437\\u0430\\u043a\\u043e\\u043d\\u043e\\u0434\\u0430\\u0442\\u0435\\u043b\\u044c\\u0441\\u0442\\u0432\\u043e\\u043c \\u0420\\u043e\\u0441\\u0441\\u0438\\u0439\\u0441\\u043a\\u043e\\u0439 \\u0424\\u0435\\u0434\\u0435\\u0440\\u0430\\u0446\\u0438\\u0438 \\u043c\\u0435\\u0440\\u044b \\u043e\\u0433\\u0440\\u0430\\u043d\\u0438\\u0447\\u0438\\u0442\\u0435\\u043b\\u044c\\u043d\\u043e\\u0433\\u043e, \\u043f\\u0440\\u0435\\u0434\\u0443\\u043f\\u0440\\u0435\\u0434\\u0438\\u0442\\u0435\\u043b\\u044c\\u043d\\u043e\\u0433\\u043e \\u0438 \\u043f\\u0440\\u043e\\u0444\\u0438\\u043b\\u0430\\u043a\\u0442\\u0438\\u0447\\u0435\\u0441\\u043a\\u043e\\u0433\\u043e \\u0445\\u0430\\u0440\\u0430\\u043a\\u0442\\u0435\\u0440\\u0430 \\u0442\\u043e\\u043b\\u044c\\u043a\\u043e \\u043f\\u043e \\u0432\\u043e\\u043f\\u0440\\u043e\\u0441\\u0430\\u043c, \\u043e\\u0442\\u043d\\u0435\\u0441\\u0451\\u043d\\u043d\\u044b\\u043c \\u043a \\u0435\\u0433\\u043e \\u043a\\u043e\\u043c\\u043f\\u0435\\u0442\\u0435\\u043d\\u0446\\u0438\\u0438. \\u0418\\u0437\\u043b\\u043e\\u0436\\u0435\\u043d\\u043d\\u044b\\u0435 \\u0412\\u0430\\u043c\\u0438 \\u0432\\u043e\\u043f\\u0440\\u043e\\u0441\\u044b \\u043d\\u0435 \\u043c\\u043e\\u0433\\u0443\\u0442 \\u0431\\u044b\\u0442\\u044c \\u0440\\u0430\\u0441\\u0441\\u043c\\u043e\\u0442\\u0440\\u0435\\u043d\\u044b \\u0423\\u043f\\u0440\\u0430\\u0432\\u043b\\u0435\\u043d\\u0438\\u0435\\u043c, \\u043f\\u043e\\u0441\\u043a\\u043e\\u043b\\u044c\\u043a\\u0443 \\u043d\\u0430\\u0445\\u043e\\u0434\\u044f\\u0442\\u0441\\u044f \\u0437\\u0430 \\u043f\\u0440\\u0435\\u0434\\u0435\\u043b\\u0430\\u043c\\u0438 \\u0443\\u0441\\u0442\\u0430\\u043d\\u043e\\u0432\\u043b\\u0435\\u043d\\u043d\\u043e\\u0439 \\u043a\\u043e\\u043c\\u043f\\u0435\\u0442\\u0435\\u043d\\u0446\\u0438\\u0438. \\u0417\\u0430 \\u0440\\u0430\\u0437\\u044a\\u044f\\u0441\\u043d\\u0435\\u043d\\u0438\\u044f\\u043c\\u0438 \\u043f\\u043e \\u0432\\u043e\\u043f\\u0440\\u043e\\u0441\\u0430\\u043c \\u043f\\u043e\\u0440\\u044f\\u0434\\u043a\\u0430 \\u043e\\u043a\\u0430\\u0437\\u0430\\u043d\\u0438\\u044f \\u043a\\u043e\\u043c\\u043c\\u0443\\u043d\\u0430\\u043b\\u044c\\u043d\\u044b\\u0445 \\u0443\\u0441\\u043b\\u0443\\u0433 \\u0438 \\u0440\\u0430\\u0441\\u0447\\u0435\\u0442\\u0430 (\\u043f\\u0435\\u0440\\u0435\\u0440\\u0430\\u0441\\u0447\\u0435\\u0442\\u0430) \\u043f\\u043b\\u0430\\u0442\\u044b \\u0437\\u0430 \\u043a\\u043e\\u043c\\u043c\\u0443\\u043d\\u0430\\u043b\\u044c\\u043d\\u044b\\u0435 \\u0443\\u0441\\u043b\\u0443\\u0433\\u0438 \\u0412\\u044b \\u043c\\u043e\\u0436\\u0435\\u0442\\u0435 \\u043e\\u0431\\u0440\\u0430\\u0442\\u0438\\u0442\\u044c\\u0441\\u044f \\u0432 \\u0413\\u043e\\u0441\\u0443\\u0434\\u0430\\u0440\\u0441\\u0442\\u0432\\u0435\\u043d\\u043d\\u0443\\u044e \\u0436\\u0438\\u043b\\u0438\\u0449\\u043d\\u0443\\u044e \\u0438\\u043d\\u0441\\u043f\\u0435\\u043a\\u0446\\u0438\\u044e \\u043f\\u043e \\u041e\\u0440\\u0435\\u043d\\u0431\\u0443\\u0440\\u0433\\u0441\\u043a\\u043e\\u0439 \\u043e\\u0431\\u043b\\u0430\\u0441\\u0442\\u0438 \\u043f\\u043e \\u0430\\u0434\\u0440\\u0435\\u0441\\u0443: 460000, \\u0433 \\u041e\\u0440\\u0435\\u043d\\u0431\\u0443\\u0440\\u0433, \\u0443\\u043b. \\u0426\\u0432\\u0438\\u043b\\u043b\\u0438\\u043d\\u0433\\u0430, \\u0434. 14/1, \\u0438\\u043b\\u0438 \\u0442\\u0435\\u043b\\u0435\\u0444\\u043e\\u043d\\u0443 \\u00ab\\u0433\\u043e\\u0440\\u044f\\u0447\\u0435\\u0439 \\u043b\\u0438\\u043d\\u0438\\u0438\\u00bb: (3532) 43-69-11.\"\n        ],\n        \"semantic_type\": \"\",\n        \"description\": \"\"\n      }\n    }\n  ]\n}"
            }
          },
          "metadata": {},
          "execution_count": 191
        }
      ]
    },
    {
      "cell_type": "code",
      "source": [
        "df.shape"
      ],
      "metadata": {
        "colab": {
          "base_uri": "https://localhost:8080/"
        },
        "id": "MoQiu50QlGD2",
        "outputId": "9f62a0d5-11b7-448a-e38d-f222be28db28"
      },
      "execution_count": 192,
      "outputs": [
        {
          "output_type": "stream",
          "name": "stderr",
          "text": [
            "/usr/local/lib/python3.10/dist-packages/ipykernel/ipkernel.py:283: DeprecationWarning: `should_run_async` will not call `transform_cell` automatically in the future. Please pass the result to `transformed_cell` argument and any exception that happen during thetransform in `preprocessing_exc_tuple` in IPython 7.17 and above.\n",
            "  and should_run_async(code)\n"
          ]
        },
        {
          "output_type": "execute_result",
          "data": {
            "text/plain": [
              "(19993, 3)"
            ]
          },
          "metadata": {},
          "execution_count": 192
        }
      ]
    },
    {
      "cell_type": "markdown",
      "source": [
        "## 5 Clean text"
      ],
      "metadata": {
        "id": "tsY9tLMPm6v0"
      }
    },
    {
      "cell_type": "code",
      "source": [
        "cln = CleanText('RPN_questions', 'russian', True)"
      ],
      "metadata": {
        "id": "uAOL1XcfU7sS",
        "colab": {
          "base_uri": "https://localhost:8080/"
        },
        "outputId": "c7be6358-0e54-4d37-a43f-986bc44d1317"
      },
      "execution_count": 193,
      "outputs": [
        {
          "output_type": "stream",
          "name": "stderr",
          "text": [
            "/usr/local/lib/python3.10/dist-packages/ipykernel/ipkernel.py:283: DeprecationWarning: `should_run_async` will not call `transform_cell` automatically in the future. Please pass the result to `transformed_cell` argument and any exception that happen during thetransform in `preprocessing_exc_tuple` in IPython 7.17 and above.\n",
            "  and should_run_async(code)\n",
            "/usr/local/lib/python3.10/dist-packages/pymorphy2/units/base.py:70: DeprecationWarning: inspect.getargspec() is deprecated since Python 3.0, use inspect.signature() or inspect.getfullargspec()\n",
            "  args, varargs, kw, default = inspect.getargspec(cls.__init__)\n",
            "/usr/local/lib/python3.10/dist-packages/pymorphy2/units/base.py:70: DeprecationWarning: inspect.getargspec() is deprecated since Python 3.0, use inspect.signature() or inspect.getfullargspec()\n",
            "  args, varargs, kw, default = inspect.getargspec(cls.__init__)\n",
            "/usr/local/lib/python3.10/dist-packages/pymorphy2/units/base.py:70: DeprecationWarning: inspect.getargspec() is deprecated since Python 3.0, use inspect.signature() or inspect.getfullargspec()\n",
            "  args, varargs, kw, default = inspect.getargspec(cls.__init__)\n",
            "/usr/local/lib/python3.10/dist-packages/pymorphy2/units/base.py:70: DeprecationWarning: inspect.getargspec() is deprecated since Python 3.0, use inspect.signature() or inspect.getfullargspec()\n",
            "  args, varargs, kw, default = inspect.getargspec(cls.__init__)\n",
            "/usr/local/lib/python3.10/dist-packages/pymorphy2/units/base.py:70: DeprecationWarning: inspect.getargspec() is deprecated since Python 3.0, use inspect.signature() or inspect.getfullargspec()\n",
            "  args, varargs, kw, default = inspect.getargspec(cls.__init__)\n",
            "/usr/local/lib/python3.10/dist-packages/pymorphy2/units/base.py:70: DeprecationWarning: inspect.getargspec() is deprecated since Python 3.0, use inspect.signature() or inspect.getfullargspec()\n",
            "  args, varargs, kw, default = inspect.getargspec(cls.__init__)\n",
            "/usr/local/lib/python3.10/dist-packages/pymorphy2/units/base.py:70: DeprecationWarning: inspect.getargspec() is deprecated since Python 3.0, use inspect.signature() or inspect.getfullargspec()\n",
            "  args, varargs, kw, default = inspect.getargspec(cls.__init__)\n",
            "/usr/local/lib/python3.10/dist-packages/pymorphy2/units/base.py:70: DeprecationWarning: inspect.getargspec() is deprecated since Python 3.0, use inspect.signature() or inspect.getfullargspec()\n",
            "  args, varargs, kw, default = inspect.getargspec(cls.__init__)\n",
            "/usr/local/lib/python3.10/dist-packages/pymorphy2/units/base.py:70: DeprecationWarning: inspect.getargspec() is deprecated since Python 3.0, use inspect.signature() or inspect.getfullargspec()\n",
            "  args, varargs, kw, default = inspect.getargspec(cls.__init__)\n",
            "/usr/local/lib/python3.10/dist-packages/pymorphy2/units/base.py:70: DeprecationWarning: inspect.getargspec() is deprecated since Python 3.0, use inspect.signature() or inspect.getfullargspec()\n",
            "  args, varargs, kw, default = inspect.getargspec(cls.__init__)\n",
            "/usr/local/lib/python3.10/dist-packages/pymorphy2/units/base.py:70: DeprecationWarning: inspect.getargspec() is deprecated since Python 3.0, use inspect.signature() or inspect.getfullargspec()\n",
            "  args, varargs, kw, default = inspect.getargspec(cls.__init__)\n",
            "/usr/local/lib/python3.10/dist-packages/pymorphy2/units/base.py:70: DeprecationWarning: inspect.getargspec() is deprecated since Python 3.0, use inspect.signature() or inspect.getfullargspec()\n",
            "  args, varargs, kw, default = inspect.getargspec(cls.__init__)\n"
          ]
        }
      ]
    },
    {
      "cell_type": "code",
      "source": [
        "df['RPN_questions'] = cln.transform(df)"
      ],
      "metadata": {
        "colab": {
          "base_uri": "https://localhost:8080/"
        },
        "id": "wwxHMGEvgTKq",
        "outputId": "b8bc4767-a486-495f-a753-0f5c360f361b"
      },
      "execution_count": 194,
      "outputs": [
        {
          "output_type": "stream",
          "name": "stderr",
          "text": [
            "/usr/local/lib/python3.10/dist-packages/ipykernel/ipkernel.py:283: DeprecationWarning: `should_run_async` will not call `transform_cell` automatically in the future. Please pass the result to `transformed_cell` argument and any exception that happen during thetransform in `preprocessing_exc_tuple` in IPython 7.17 and above.\n",
            "  and should_run_async(code)\n",
            "100%|██████████| 19993/19993 [05:52<00:00, 56.65it/s]\n"
          ]
        }
      ]
    },
    {
      "cell_type": "code",
      "source": [
        "df.head(6)"
      ],
      "metadata": {
        "colab": {
          "base_uri": "https://localhost:8080/",
          "height": 293
        },
        "id": "whJNM-c5g0fy",
        "outputId": "282692c1-eac5-4198-fb32-080971bbd5e8"
      },
      "execution_count": 195,
      "outputs": [
        {
          "output_type": "stream",
          "name": "stderr",
          "text": [
            "/usr/local/lib/python3.10/dist-packages/ipykernel/ipkernel.py:283: DeprecationWarning: `should_run_async` will not call `transform_cell` automatically in the future. Please pass the result to `transformed_cell` argument and any exception that happen during thetransform in `preprocessing_exc_tuple` in IPython 7.17 and above.\n",
            "  and should_run_async(code)\n"
          ]
        },
        {
          "output_type": "execute_result",
          "data": {
            "text/plain": [
              "   doc_id                                      RPN_questions  \\\n",
              "0   44224  [здравствуйте, заказать, сайт, техмый, швейный...   \n",
              "1   44219  [здравствуйте, проживать, адрес, г, москва, ул...   \n",
              "2   44214  [здравствуйте, наш, квартиройрасположенный, ад...   \n",
              "3   44211  [купить, вайлдберриз, цветочный, композиция, с...   \n",
              "4   44210  [добрый, денья, маркетплейс, увиделчтый, цена,...   \n",
              "5   44209  [сервис, pureru, списать, деньга, карта, подпи...   \n",
              "\n",
              "                                         RPN_answers  \n",
              "0  ДОбрый день! Вам необходимо указать место нахо...  \n",
              "1  Добрый день! Управление Роспотребнадзора по Мо...  \n",
              "2  Уважаемая Анна! Раздел «Виртуальная приёмная» ...  \n",
              "3  Добрый день! В связи с возросшим числом коммен...  \n",
              "4  Добрый день! Вам необходимо направить обращени...  \n",
              "5  Добрый день! Вам необходимо  соблюсти претензи...  "
            ],
            "text/html": [
              "\n",
              "  <div id=\"df-74a93f0a-9450-4b9c-90e6-223efb5fa156\" class=\"colab-df-container\">\n",
              "    <div>\n",
              "<style scoped>\n",
              "    .dataframe tbody tr th:only-of-type {\n",
              "        vertical-align: middle;\n",
              "    }\n",
              "\n",
              "    .dataframe tbody tr th {\n",
              "        vertical-align: top;\n",
              "    }\n",
              "\n",
              "    .dataframe thead th {\n",
              "        text-align: right;\n",
              "    }\n",
              "</style>\n",
              "<table border=\"1\" class=\"dataframe\">\n",
              "  <thead>\n",
              "    <tr style=\"text-align: right;\">\n",
              "      <th></th>\n",
              "      <th>doc_id</th>\n",
              "      <th>RPN_questions</th>\n",
              "      <th>RPN_answers</th>\n",
              "    </tr>\n",
              "  </thead>\n",
              "  <tbody>\n",
              "    <tr>\n",
              "      <th>0</th>\n",
              "      <td>44224</td>\n",
              "      <td>[здравствуйте, заказать, сайт, техмый, швейный...</td>\n",
              "      <td>ДОбрый день! Вам необходимо указать место нахо...</td>\n",
              "    </tr>\n",
              "    <tr>\n",
              "      <th>1</th>\n",
              "      <td>44219</td>\n",
              "      <td>[здравствуйте, проживать, адрес, г, москва, ул...</td>\n",
              "      <td>Добрый день! Управление Роспотребнадзора по Мо...</td>\n",
              "    </tr>\n",
              "    <tr>\n",
              "      <th>2</th>\n",
              "      <td>44214</td>\n",
              "      <td>[здравствуйте, наш, квартиройрасположенный, ад...</td>\n",
              "      <td>Уважаемая Анна! Раздел «Виртуальная приёмная» ...</td>\n",
              "    </tr>\n",
              "    <tr>\n",
              "      <th>3</th>\n",
              "      <td>44211</td>\n",
              "      <td>[купить, вайлдберриз, цветочный, композиция, с...</td>\n",
              "      <td>Добрый день! В связи с возросшим числом коммен...</td>\n",
              "    </tr>\n",
              "    <tr>\n",
              "      <th>4</th>\n",
              "      <td>44210</td>\n",
              "      <td>[добрый, денья, маркетплейс, увиделчтый, цена,...</td>\n",
              "      <td>Добрый день! Вам необходимо направить обращени...</td>\n",
              "    </tr>\n",
              "    <tr>\n",
              "      <th>5</th>\n",
              "      <td>44209</td>\n",
              "      <td>[сервис, pureru, списать, деньга, карта, подпи...</td>\n",
              "      <td>Добрый день! Вам необходимо  соблюсти претензи...</td>\n",
              "    </tr>\n",
              "  </tbody>\n",
              "</table>\n",
              "</div>\n",
              "    <div class=\"colab-df-buttons\">\n",
              "\n",
              "  <div class=\"colab-df-container\">\n",
              "    <button class=\"colab-df-convert\" onclick=\"convertToInteractive('df-74a93f0a-9450-4b9c-90e6-223efb5fa156')\"\n",
              "            title=\"Convert this dataframe to an interactive table.\"\n",
              "            style=\"display:none;\">\n",
              "\n",
              "  <svg xmlns=\"http://www.w3.org/2000/svg\" height=\"24px\" viewBox=\"0 -960 960 960\">\n",
              "    <path d=\"M120-120v-720h720v720H120Zm60-500h600v-160H180v160Zm220 220h160v-160H400v160Zm0 220h160v-160H400v160ZM180-400h160v-160H180v160Zm440 0h160v-160H620v160ZM180-180h160v-160H180v160Zm440 0h160v-160H620v160Z\"/>\n",
              "  </svg>\n",
              "    </button>\n",
              "\n",
              "  <style>\n",
              "    .colab-df-container {\n",
              "      display:flex;\n",
              "      gap: 12px;\n",
              "    }\n",
              "\n",
              "    .colab-df-convert {\n",
              "      background-color: #E8F0FE;\n",
              "      border: none;\n",
              "      border-radius: 50%;\n",
              "      cursor: pointer;\n",
              "      display: none;\n",
              "      fill: #1967D2;\n",
              "      height: 32px;\n",
              "      padding: 0 0 0 0;\n",
              "      width: 32px;\n",
              "    }\n",
              "\n",
              "    .colab-df-convert:hover {\n",
              "      background-color: #E2EBFA;\n",
              "      box-shadow: 0px 1px 2px rgba(60, 64, 67, 0.3), 0px 1px 3px 1px rgba(60, 64, 67, 0.15);\n",
              "      fill: #174EA6;\n",
              "    }\n",
              "\n",
              "    .colab-df-buttons div {\n",
              "      margin-bottom: 4px;\n",
              "    }\n",
              "\n",
              "    [theme=dark] .colab-df-convert {\n",
              "      background-color: #3B4455;\n",
              "      fill: #D2E3FC;\n",
              "    }\n",
              "\n",
              "    [theme=dark] .colab-df-convert:hover {\n",
              "      background-color: #434B5C;\n",
              "      box-shadow: 0px 1px 3px 1px rgba(0, 0, 0, 0.15);\n",
              "      filter: drop-shadow(0px 1px 2px rgba(0, 0, 0, 0.3));\n",
              "      fill: #FFFFFF;\n",
              "    }\n",
              "  </style>\n",
              "\n",
              "    <script>\n",
              "      const buttonEl =\n",
              "        document.querySelector('#df-74a93f0a-9450-4b9c-90e6-223efb5fa156 button.colab-df-convert');\n",
              "      buttonEl.style.display =\n",
              "        google.colab.kernel.accessAllowed ? 'block' : 'none';\n",
              "\n",
              "      async function convertToInteractive(key) {\n",
              "        const element = document.querySelector('#df-74a93f0a-9450-4b9c-90e6-223efb5fa156');\n",
              "        const dataTable =\n",
              "          await google.colab.kernel.invokeFunction('convertToInteractive',\n",
              "                                                    [key], {});\n",
              "        if (!dataTable) return;\n",
              "\n",
              "        const docLinkHtml = 'Like what you see? Visit the ' +\n",
              "          '<a target=\"_blank\" href=https://colab.research.google.com/notebooks/data_table.ipynb>data table notebook</a>'\n",
              "          + ' to learn more about interactive tables.';\n",
              "        element.innerHTML = '';\n",
              "        dataTable['output_type'] = 'display_data';\n",
              "        await google.colab.output.renderOutput(dataTable, element);\n",
              "        const docLink = document.createElement('div');\n",
              "        docLink.innerHTML = docLinkHtml;\n",
              "        element.appendChild(docLink);\n",
              "      }\n",
              "    </script>\n",
              "  </div>\n",
              "\n",
              "\n",
              "<div id=\"df-7b1a925b-4df0-4de5-9b67-50b9eaa38422\">\n",
              "  <button class=\"colab-df-quickchart\" onclick=\"quickchart('df-7b1a925b-4df0-4de5-9b67-50b9eaa38422')\"\n",
              "            title=\"Suggest charts\"\n",
              "            style=\"display:none;\">\n",
              "\n",
              "<svg xmlns=\"http://www.w3.org/2000/svg\" height=\"24px\"viewBox=\"0 0 24 24\"\n",
              "     width=\"24px\">\n",
              "    <g>\n",
              "        <path d=\"M19 3H5c-1.1 0-2 .9-2 2v14c0 1.1.9 2 2 2h14c1.1 0 2-.9 2-2V5c0-1.1-.9-2-2-2zM9 17H7v-7h2v7zm4 0h-2V7h2v10zm4 0h-2v-4h2v4z\"/>\n",
              "    </g>\n",
              "</svg>\n",
              "  </button>\n",
              "\n",
              "<style>\n",
              "  .colab-df-quickchart {\n",
              "      --bg-color: #E8F0FE;\n",
              "      --fill-color: #1967D2;\n",
              "      --hover-bg-color: #E2EBFA;\n",
              "      --hover-fill-color: #174EA6;\n",
              "      --disabled-fill-color: #AAA;\n",
              "      --disabled-bg-color: #DDD;\n",
              "  }\n",
              "\n",
              "  [theme=dark] .colab-df-quickchart {\n",
              "      --bg-color: #3B4455;\n",
              "      --fill-color: #D2E3FC;\n",
              "      --hover-bg-color: #434B5C;\n",
              "      --hover-fill-color: #FFFFFF;\n",
              "      --disabled-bg-color: #3B4455;\n",
              "      --disabled-fill-color: #666;\n",
              "  }\n",
              "\n",
              "  .colab-df-quickchart {\n",
              "    background-color: var(--bg-color);\n",
              "    border: none;\n",
              "    border-radius: 50%;\n",
              "    cursor: pointer;\n",
              "    display: none;\n",
              "    fill: var(--fill-color);\n",
              "    height: 32px;\n",
              "    padding: 0;\n",
              "    width: 32px;\n",
              "  }\n",
              "\n",
              "  .colab-df-quickchart:hover {\n",
              "    background-color: var(--hover-bg-color);\n",
              "    box-shadow: 0 1px 2px rgba(60, 64, 67, 0.3), 0 1px 3px 1px rgba(60, 64, 67, 0.15);\n",
              "    fill: var(--button-hover-fill-color);\n",
              "  }\n",
              "\n",
              "  .colab-df-quickchart-complete:disabled,\n",
              "  .colab-df-quickchart-complete:disabled:hover {\n",
              "    background-color: var(--disabled-bg-color);\n",
              "    fill: var(--disabled-fill-color);\n",
              "    box-shadow: none;\n",
              "  }\n",
              "\n",
              "  .colab-df-spinner {\n",
              "    border: 2px solid var(--fill-color);\n",
              "    border-color: transparent;\n",
              "    border-bottom-color: var(--fill-color);\n",
              "    animation:\n",
              "      spin 1s steps(1) infinite;\n",
              "  }\n",
              "\n",
              "  @keyframes spin {\n",
              "    0% {\n",
              "      border-color: transparent;\n",
              "      border-bottom-color: var(--fill-color);\n",
              "      border-left-color: var(--fill-color);\n",
              "    }\n",
              "    20% {\n",
              "      border-color: transparent;\n",
              "      border-left-color: var(--fill-color);\n",
              "      border-top-color: var(--fill-color);\n",
              "    }\n",
              "    30% {\n",
              "      border-color: transparent;\n",
              "      border-left-color: var(--fill-color);\n",
              "      border-top-color: var(--fill-color);\n",
              "      border-right-color: var(--fill-color);\n",
              "    }\n",
              "    40% {\n",
              "      border-color: transparent;\n",
              "      border-right-color: var(--fill-color);\n",
              "      border-top-color: var(--fill-color);\n",
              "    }\n",
              "    60% {\n",
              "      border-color: transparent;\n",
              "      border-right-color: var(--fill-color);\n",
              "    }\n",
              "    80% {\n",
              "      border-color: transparent;\n",
              "      border-right-color: var(--fill-color);\n",
              "      border-bottom-color: var(--fill-color);\n",
              "    }\n",
              "    90% {\n",
              "      border-color: transparent;\n",
              "      border-bottom-color: var(--fill-color);\n",
              "    }\n",
              "  }\n",
              "</style>\n",
              "\n",
              "  <script>\n",
              "    async function quickchart(key) {\n",
              "      const quickchartButtonEl =\n",
              "        document.querySelector('#' + key + ' button');\n",
              "      quickchartButtonEl.disabled = true;  // To prevent multiple clicks.\n",
              "      quickchartButtonEl.classList.add('colab-df-spinner');\n",
              "      try {\n",
              "        const charts = await google.colab.kernel.invokeFunction(\n",
              "            'suggestCharts', [key], {});\n",
              "      } catch (error) {\n",
              "        console.error('Error during call to suggestCharts:', error);\n",
              "      }\n",
              "      quickchartButtonEl.classList.remove('colab-df-spinner');\n",
              "      quickchartButtonEl.classList.add('colab-df-quickchart-complete');\n",
              "    }\n",
              "    (() => {\n",
              "      let quickchartButtonEl =\n",
              "        document.querySelector('#df-7b1a925b-4df0-4de5-9b67-50b9eaa38422 button');\n",
              "      quickchartButtonEl.style.display =\n",
              "        google.colab.kernel.accessAllowed ? 'block' : 'none';\n",
              "    })();\n",
              "  </script>\n",
              "</div>\n",
              "    </div>\n",
              "  </div>\n"
            ],
            "application/vnd.google.colaboratory.intrinsic+json": {
              "type": "dataframe",
              "variable_name": "df",
              "summary": "{\n  \"name\": \"df\",\n  \"rows\": 19993,\n  \"fields\": [\n    {\n      \"column\": \"doc_id\",\n      \"properties\": {\n        \"dtype\": \"number\",\n        \"std\": 8117,\n        \"min\": 16225,\n        \"max\": 44224,\n        \"num_unique_values\": 19993,\n        \"samples\": [\n          16698,\n          35617,\n          41770\n        ],\n        \"semantic_type\": \"\",\n        \"description\": \"\"\n      }\n    },\n    {\n      \"column\": \"RPN_questions\",\n      \"properties\": {\n        \"dtype\": \"object\",\n        \"semantic_type\": \"\",\n        \"description\": \"\"\n      }\n    },\n    {\n      \"column\": \"RPN_answers\",\n      \"properties\": {\n        \"dtype\": \"string\",\n        \"num_unique_values\": 18490,\n        \"samples\": [\n          \"\\u0414\\u043e\\u0431\\u0440\\u044b\\u0439 \\u0434\\u0435\\u043d\\u044c! \\u0412\\u0430\\u043c \\u043d\\u0435\\u043e\\u0431\\u0445\\u043e\\u0434\\u0438\\u043c\\u043e \\u043e\\u0431\\u0440\\u0430\\u0442\\u0438\\u0442\\u044c\\u0441\\u044f \\u0432 \\u0442\\u0435\\u0445\\u043f\\u043e\\u0434\\u0434\\u0435\\u0440\\u0436\\u043a\\u0443 \\u043f\\u043e\\u0440\\u0442\\u0430\\u043b\\u0430 \\u00ab\\u0413\\u043e\\u0441\\u0443\\u0441\\u043b\\u0443\\u0433\\u0438\\u00bb. \\u0412\\u043e\\u043f\\u0440\\u043e\\u0441 \\u043d\\u0435 \\u0432\\u0445\\u043e\\u0434\\u0438\\u0442 \\u0432 \\u043a\\u043e\\u043c\\u043f\\u0435\\u0442\\u0435\\u043d\\u0446\\u0438\\u044e \\u0423\\u043f\\u0440\\u0430\\u0432\\u043b\\u0435\\u043d\\u0438\\u044f \\u0420\\u043e\\u0441\\u043f\\u043e\\u0442\\u0440\\u0435\\u0431\\u043d\\u0430\\u0434\\u0437\\u043e\\u0440\\u0430 \\u043f\\u043e \\u041c\\u043e\\u0441\\u043a\\u043e\\u0432\\u0441\\u043a\\u043e\\u0439 \\u043e\\u0431\\u043b\\u0430\\u0441\\u0442\\u0438.\\r\\n\\r\\n\",\n          \"\\u0423\\u0432\\u0430\\u0436\\u0430\\u0435\\u043c\\u044b\\u0439 \\u041e\\u043b\\u0435\\u0433!\\r\\n\\r\\n\\u041f\\u043e \\u043f\\u043e\\u0432\\u043e\\u0434\\u0443 \\u0412\\u0430\\u0448\\u0435\\u0439 \\u0441\\u0438\\u0442\\u0443\\u0430\\u0446\\u0438\\u0438 \\u0412\\u0430\\u043c \\u0441\\u043b\\u0435\\u0434\\u0443\\u0435\\u0442 \\u043e\\u0431\\u0440\\u0430\\u0442\\u0438\\u0442\\u044c\\u0441\\u044f \\u043f\\u043e \\u043f\\u0440\\u0438\\u043d\\u0430\\u0434\\u043b\\u0435\\u0436\\u043d\\u043e\\u0441\\u0442\\u0438 \\u0441 \\u043f\\u0438\\u0441\\u044c\\u043c\\u0435\\u043d\\u043d\\u043e\\u0439 \\u0436\\u0430\\u043b\\u043e\\u0431\\u043e\\u0439 \\u0432 \\u043c\\u0438\\u043d\\u0438\\u0441\\u0442\\u0435\\u0440\\u0441\\u0442\\u0432\\u043e \\u0437\\u0434\\u0440\\u0430\\u0432\\u043e\\u043e\\u0445\\u0440\\u0430\\u043d\\u0435\\u043d\\u0438\\u044f \\u041a\\u0438\\u0440\\u043e\\u0432\\u0441\\u043a\\u043e\\u0439 \\u043e\\u0431\\u043b\\u0430\\u0441\\u0442\\u0438 (610019, \\u0433. \\u041a\\u0438\\u0440\\u043e\\u0432, \\u0443\\u043b.\\u041a.\\u041b\\u0438\\u0431\\u043a\\u043d\\u0435\\u0445\\u0442\\u0430, 69, (8332) 27-27-25 \\u0434\\u043e\\u0431. 2500, ip-depart@medstat.kirov.ru, \\u0441\\u0430\\u0439\\u0442 http://www.medkirov.ru/, \\u043f\\u043e\\u0441\\u043a\\u043e\\u043b\\u044c\\u043a\\u0443 \\u043e\\u0441\\u0443\\u0449\\u0435\\u0441\\u0442\\u0432\\u043b\\u0435\\u043d\\u0438\\u0435  \\u043a\\u043e\\u043d\\u0442\\u0440\\u043e\\u043b\\u044f \\u043a\\u0430\\u0447\\u0435\\u0441\\u0442\\u0432\\u0430 \\u0438 \\u0431\\u0435\\u0437\\u043e\\u043f\\u0430\\u0441\\u043d\\u043e\\u0441\\u0442\\u0438 \\u043c\\u0435\\u0434\\u0438\\u0446\\u0438\\u043d\\u0441\\u043a\\u043e\\u0439 \\u0434\\u0435\\u044f\\u0442\\u0435\\u043b\\u044c\\u043d\\u043e\\u0441\\u0442\\u0438 \\u0432 \\u043e\\u0442\\u043d\\u043e\\u0448\\u0435\\u043d\\u0438\\u0438 \\u043f\\u043e\\u0434\\u0432\\u0435\\u0434\\u043e\\u043c\\u0441\\u0442\\u0432\\u0435\\u043d\\u043d\\u044b\\u0445 \\u043c\\u0435\\u0434\\u0438\\u0446\\u0438\\u043d\\u0441\\u043a\\u0438\\u0445 \\u043e\\u0440\\u0433\\u0430\\u043d\\u0438\\u0437\\u0430\\u0446\\u0438\\u0439 \\u043e\\u0442\\u043d\\u0435\\u0441\\u0435\\u043d\\u043e \\u043a \\u043a\\u043e\\u043c\\u043f\\u0435\\u0442\\u0435\\u043d\\u0446\\u0438\\u0438 \\u0434\\u0430\\u043d\\u043d\\u043e\\u0433\\u043e \\u041c\\u0438\\u043d\\u0438\\u0441\\u0442\\u0435\\u0440\\u0441\\u0442\\u0432\\u0430.\\r\\n\\u041a\\u0440\\u043e\\u043c\\u0435 \\u0442\\u043e\\u0433\\u043e, \\u0412\\u044b \\u0432\\u043f\\u0440\\u0430\\u0432\\u0435 \\u043e\\u0431\\u0440\\u0430\\u0442\\u0438\\u0442\\u044c\\u0441\\u044f \\u043a \\u0438\\u0441\\u043f\\u043e\\u043b\\u043d\\u0438\\u0442\\u0435\\u043b\\u044e (\\u0432 \\u043c\\u0435\\u0434\\u0438\\u0446\\u0438\\u043d\\u0441\\u043a\\u043e\\u0435 \\u0443\\u0447\\u0440\\u0435\\u0436\\u0434\\u0435\\u043d\\u0438\\u0435) \\u0441 \\u0441\\u043e\\u043e\\u0442\\u0432\\u0435\\u0442\\u0441\\u0442\\u0432\\u0443\\u044e\\u0449\\u0435\\u0439 \\u043f\\u0438\\u0441\\u044c\\u043c\\u0435\\u043d\\u043d\\u043e\\u0439 \\u043f\\u0440\\u0435\\u0442\\u0435\\u043d\\u0437\\u0438\\u0435\\u0439 \\u0438 \\u0443\\u043a\\u0430\\u0437\\u0430\\u043d\\u0438\\u0435\\u043c \\u0441\\u043e\\u043e\\u0442\\u0432\\u0435\\u0442\\u0441\\u0442\\u0432\\u0443\\u044e\\u0449\\u0435\\u0433\\u043e \\u0442\\u0440\\u0435\\u0431\\u043e\\u0432\\u0430\\u043d\\u0438\\u044f. \\u041f\\u0440\\u0438 \\u044d\\u0442\\u043e\\u043c \\u043f\\u0440\\u0435\\u0442\\u0435\\u043d\\u0437\\u0438\\u044f \\u043e\\u0444\\u043e\\u0440\\u043c\\u043b\\u044f\\u0435\\u0442\\u0441\\u044f \\u0432 \\u0434\\u0432\\u0443\\u0445 \\u044d\\u043a\\u0437\\u0435\\u043c\\u043f\\u043b\\u044f\\u0440\\u0430\\u0445, \\u043e\\u0434\\u0438\\u043d \\u0438\\u0437 \\u043a\\u043e\\u0442\\u043e\\u0440\\u044b\\u0445 \\u043d\\u0435\\u043e\\u0431\\u0445\\u043e\\u0434\\u0438\\u043c\\u043e \\u0432\\u0440\\u0443\\u0447\\u0438\\u0442\\u044c \\u043f\\u043e\\u0434 \\u043e\\u0442\\u043c\\u0435\\u0442\\u043a\\u0443 \\u043e \\u043f\\u0440\\u0438\\u043d\\u044f\\u0442\\u0438\\u0438 \\u043a \\u0440\\u0430\\u0441\\u0441\\u043c\\u043e\\u0442\\u0440\\u0435\\u043d\\u0438\\u044e, \\u043b\\u0438\\u0431\\u043e \\u043d\\u0430\\u043f\\u0440\\u0430\\u0432\\u0438\\u0442\\u044c \\u043f\\u043e\\u0447\\u0442\\u043e\\u0432\\u044b\\u043c \\u043e\\u0442\\u043f\\u0440\\u0430\\u0432\\u043b\\u0435\\u043d\\u0438\\u0435\\u043c \\u0441 \\u043e\\u0431\\u0440\\u0430\\u0442\\u043d\\u044b\\u043c \\u0443\\u0432\\u0435\\u0434\\u043e\\u043c\\u043b\\u0435\\u043d\\u0438\\u0435\\u043c. \\u041f\\u0440\\u0438 \\u043d\\u0435\\u043e\\u0431\\u043e\\u0441\\u043d\\u043e\\u0432\\u0430\\u043d\\u043d\\u043e\\u043c \\u043e\\u0442\\u043a\\u0430\\u0437\\u0435 \\u0438\\u0441\\u043f\\u043e\\u043b\\u043d\\u0438\\u0442\\u0435\\u043b\\u044f \\u0443\\u0434\\u043e\\u0432\\u043b\\u0435\\u0442\\u0432\\u043e\\u0440\\u0438\\u0442\\u044c \\u0437\\u0430\\u044f\\u0432\\u043b\\u0435\\u043d\\u043d\\u044b\\u0435 \\u0442\\u0440\\u0435\\u0431\\u043e\\u0432\\u0430\\u043d\\u0438\\u044f \\u0434\\u043e\\u0431\\u0440\\u043e\\u0432\\u043e\\u043b\\u044c\\u043d\\u043e, \\u0434\\u0430\\u043b\\u044c\\u043d\\u0435\\u0439\\u0448\\u0435\\u0435 \\u0440\\u0430\\u0437\\u0440\\u0435\\u0448\\u0435\\u043d\\u0438\\u0435 \\u0441\\u043f\\u043e\\u0440\\u0430 (\\u0432 \\u0441\\u043b\\u0443\\u0447\\u0430\\u0435 \\u043d\\u0430\\u043b\\u0438\\u0447\\u0438\\u044f \\u043f\\u0440\\u0430\\u0432\\u043e\\u0432\\u044b\\u0445 \\u043e\\u0441\\u043d\\u043e\\u0432\\u0430\\u043d\\u0438\\u0439) \\u043f\\u043e\\u0434\\u043b\\u0435\\u0436\\u0438\\u0442 \\u0440\\u0430\\u0441\\u0441\\u043c\\u043e\\u0442\\u0440\\u0435\\u043d\\u0438\\u044e \\u043d\\u0435\\u043f\\u043e\\u0441\\u0440\\u0435\\u0434\\u0441\\u0442\\u0432\\u0435\\u043d\\u043d\\u043e \\u0432 \\u0441\\u0443\\u0434\\u0435\\u0431\\u043d\\u043e\\u043c \\u043f\\u043e\\u0440\\u044f\\u0434\\u043a\\u0435. \\r\\n\",\n          \"\\u0423\\u0432\\u0430\\u0436\\u0430\\u0435\\u043c\\u044b\\u0439 \\u0410\\u043b\\u0435\\u043a\\u0441\\u0435\\u0439!\\r\\n\\u0412 \\u0441\\u043e\\u043e\\u0442\\u0432\\u0435\\u0442\\u0441\\u0442\\u0432\\u0438\\u0438 \\u0441 \\u041f\\u043e\\u043b\\u043e\\u0436\\u0435\\u043d\\u0438\\u0435\\u043c \\u043e\\u0431 \\u0423\\u043f\\u0440\\u0430\\u0432\\u043b\\u0435\\u043d\\u0438\\u0438 \\u0420\\u043e\\u0441\\u043f\\u043e\\u0442\\u0440\\u0435\\u0431\\u043d\\u0430\\u0434\\u0437\\u043e\\u0440\\u0430 \\u043f\\u043e \\u041e\\u0440\\u0435\\u043d\\u0431\\u0443\\u0440\\u0433\\u0441\\u043a\\u043e\\u0439 \\u043e\\u0431\\u043b\\u0430\\u0441\\u0442\\u0438, \\u0443\\u0442\\u0432\\u0435\\u0440\\u0436\\u0434\\u0435\\u043d\\u043d\\u044b\\u043c \\u043f\\u0440\\u0438\\u043a\\u0430\\u0437\\u043e\\u043c \\u0424\\u0435\\u0434\\u0435\\u0440\\u0430\\u043b\\u044c\\u043d\\u043e\\u0439 \\u0441\\u043b\\u0443\\u0436\\u0431\\u044b \\u043f\\u043e \\u043d\\u0430\\u0434\\u0437\\u043e\\u0440\\u0443 \\u0432 \\u0441\\u0444\\u0435\\u0440\\u0435 \\u0437\\u0430\\u0449\\u0438\\u0442\\u044b \\u043f\\u0440\\u0430\\u0432 \\u043f\\u043e\\u0442\\u0440\\u0435\\u0431\\u0438\\u0442\\u0435\\u043b\\u0435\\u0439 \\u0438 \\u0431\\u043b\\u0430\\u0433\\u043e\\u043f\\u043e\\u043b\\u0443\\u0447\\u0438\\u044f \\u0447\\u0435\\u043b\\u043e\\u0432\\u0435\\u043a\\u0430 \\u043e\\u0442 09.07.2012 \\u2116 693, \\u0423\\u043f\\u0440\\u0430\\u0432\\u043b\\u0435\\u043d\\u0438\\u0435 \\u043e\\u0441\\u0443\\u0449\\u0435\\u0441\\u0442\\u0432\\u043b\\u044f\\u0435\\u0442 \\u043d\\u0430\\u0434\\u0437\\u043e\\u0440 \\u0438 \\u043a\\u043e\\u043d\\u0442\\u0440\\u043e\\u043b\\u044c \\u0437\\u0430 \\u0438\\u0441\\u043f\\u043e\\u043b\\u043d\\u0435\\u043d\\u0438\\u0435\\u043c \\u043e\\u0431\\u044f\\u0437\\u0430\\u0442\\u0435\\u043b\\u044c\\u043d\\u044b\\u0445 \\u0442\\u0440\\u0435\\u0431\\u043e\\u0432\\u0430\\u043d\\u0438\\u0439 \\u0437\\u0430\\u043a\\u043e\\u043d\\u043e\\u0434\\u0430\\u0442\\u0435\\u043b\\u044c\\u0441\\u0442\\u0432\\u0430 \\u0420\\u043e\\u0441\\u0441\\u0438\\u0439\\u0441\\u043a\\u043e\\u0439 \\u0424\\u0435\\u0434\\u0435\\u0440\\u0430\\u0446\\u0438\\u0438 \\u0432 \\u043e\\u0431\\u043b\\u0430\\u0441\\u0442\\u0438 \\u043e\\u0431\\u0435\\u0441\\u043f\\u0435\\u0447\\u0435\\u043d\\u0438\\u044f \\u0441\\u0430\\u043d\\u0438\\u0442\\u0430\\u0440\\u043d\\u043e-\\u044d\\u043f\\u0438\\u0434\\u0435\\u043c\\u0438\\u043e\\u043b\\u043e\\u0433\\u0438\\u0447\\u0435\\u0441\\u043a\\u043e\\u0433\\u043e \\u0431\\u043b\\u0430\\u0433\\u043e\\u043f\\u043e\\u043b\\u0443\\u0447\\u0438\\u044f \\u043d\\u0430\\u0441\\u0435\\u043b\\u0435\\u043d\\u0438\\u044f, \\u0437\\u0430\\u0449\\u0438\\u0442\\u044b \\u043f\\u0440\\u0430\\u0432 \\u043f\\u043e\\u0442\\u0440\\u0435\\u0431\\u0438\\u0442\\u0435\\u043b\\u0435\\u0439 \\u0438 \\u043d\\u0430 \\u043f\\u043e\\u0442\\u0440\\u0435\\u0431\\u0438\\u0442\\u0435\\u043b\\u044c\\u0441\\u043a\\u043e\\u043c \\u0440\\u044b\\u043d\\u043a\\u0435. \\u041f\\u0440\\u0438 \\u044d\\u0442\\u043e\\u043c, \\u0434\\u043e\\u043b\\u0436\\u043d\\u043e\\u0441\\u0442\\u043d\\u044b\\u0435 \\u043b\\u0438\\u0446\\u0430 \\u0423\\u043f\\u0440\\u0430\\u0432\\u043b\\u0435\\u043d\\u0438\\u044f \\u0438\\u043c\\u0435\\u044e\\u0442 \\u043f\\u0440\\u0430\\u0432\\u043e \\u043f\\u0440\\u0438\\u043c\\u0435\\u043d\\u044f\\u0442\\u044c \\u043f\\u0440\\u0435\\u0434\\u0443\\u0441\\u043c\\u043e\\u0442\\u0440\\u0435\\u043d\\u043d\\u044b\\u0435 \\u0437\\u0430\\u043a\\u043e\\u043d\\u043e\\u0434\\u0430\\u0442\\u0435\\u043b\\u044c\\u0441\\u0442\\u0432\\u043e\\u043c \\u0420\\u043e\\u0441\\u0441\\u0438\\u0439\\u0441\\u043a\\u043e\\u0439 \\u0424\\u0435\\u0434\\u0435\\u0440\\u0430\\u0446\\u0438\\u0438 \\u043c\\u0435\\u0440\\u044b \\u043e\\u0433\\u0440\\u0430\\u043d\\u0438\\u0447\\u0438\\u0442\\u0435\\u043b\\u044c\\u043d\\u043e\\u0433\\u043e, \\u043f\\u0440\\u0435\\u0434\\u0443\\u043f\\u0440\\u0435\\u0434\\u0438\\u0442\\u0435\\u043b\\u044c\\u043d\\u043e\\u0433\\u043e \\u0438 \\u043f\\u0440\\u043e\\u0444\\u0438\\u043b\\u0430\\u043a\\u0442\\u0438\\u0447\\u0435\\u0441\\u043a\\u043e\\u0433\\u043e \\u0445\\u0430\\u0440\\u0430\\u043a\\u0442\\u0435\\u0440\\u0430 \\u0442\\u043e\\u043b\\u044c\\u043a\\u043e \\u043f\\u043e \\u0432\\u043e\\u043f\\u0440\\u043e\\u0441\\u0430\\u043c, \\u043e\\u0442\\u043d\\u0435\\u0441\\u0451\\u043d\\u043d\\u044b\\u043c \\u043a \\u0435\\u0433\\u043e \\u043a\\u043e\\u043c\\u043f\\u0435\\u0442\\u0435\\u043d\\u0446\\u0438\\u0438. \\u0418\\u0437\\u043b\\u043e\\u0436\\u0435\\u043d\\u043d\\u044b\\u0435 \\u0412\\u0430\\u043c\\u0438 \\u0432\\u043e\\u043f\\u0440\\u043e\\u0441\\u044b \\u043d\\u0435 \\u043c\\u043e\\u0433\\u0443\\u0442 \\u0431\\u044b\\u0442\\u044c \\u0440\\u0430\\u0441\\u0441\\u043c\\u043e\\u0442\\u0440\\u0435\\u043d\\u044b \\u0423\\u043f\\u0440\\u0430\\u0432\\u043b\\u0435\\u043d\\u0438\\u0435\\u043c, \\u043f\\u043e\\u0441\\u043a\\u043e\\u043b\\u044c\\u043a\\u0443 \\u043d\\u0430\\u0445\\u043e\\u0434\\u044f\\u0442\\u0441\\u044f \\u0437\\u0430 \\u043f\\u0440\\u0435\\u0434\\u0435\\u043b\\u0430\\u043c\\u0438 \\u0443\\u0441\\u0442\\u0430\\u043d\\u043e\\u0432\\u043b\\u0435\\u043d\\u043d\\u043e\\u0439 \\u043a\\u043e\\u043c\\u043f\\u0435\\u0442\\u0435\\u043d\\u0446\\u0438\\u0438. \\u0417\\u0430 \\u0440\\u0430\\u0437\\u044a\\u044f\\u0441\\u043d\\u0435\\u043d\\u0438\\u044f\\u043c\\u0438 \\u043f\\u043e \\u0432\\u043e\\u043f\\u0440\\u043e\\u0441\\u0430\\u043c \\u043f\\u043e\\u0440\\u044f\\u0434\\u043a\\u0430 \\u043e\\u043a\\u0430\\u0437\\u0430\\u043d\\u0438\\u044f \\u043a\\u043e\\u043c\\u043c\\u0443\\u043d\\u0430\\u043b\\u044c\\u043d\\u044b\\u0445 \\u0443\\u0441\\u043b\\u0443\\u0433 \\u0438 \\u0440\\u0430\\u0441\\u0447\\u0435\\u0442\\u0430 (\\u043f\\u0435\\u0440\\u0435\\u0440\\u0430\\u0441\\u0447\\u0435\\u0442\\u0430) \\u043f\\u043b\\u0430\\u0442\\u044b \\u0437\\u0430 \\u043a\\u043e\\u043c\\u043c\\u0443\\u043d\\u0430\\u043b\\u044c\\u043d\\u044b\\u0435 \\u0443\\u0441\\u043b\\u0443\\u0433\\u0438 \\u0412\\u044b \\u043c\\u043e\\u0436\\u0435\\u0442\\u0435 \\u043e\\u0431\\u0440\\u0430\\u0442\\u0438\\u0442\\u044c\\u0441\\u044f \\u0432 \\u0413\\u043e\\u0441\\u0443\\u0434\\u0430\\u0440\\u0441\\u0442\\u0432\\u0435\\u043d\\u043d\\u0443\\u044e \\u0436\\u0438\\u043b\\u0438\\u0449\\u043d\\u0443\\u044e \\u0438\\u043d\\u0441\\u043f\\u0435\\u043a\\u0446\\u0438\\u044e \\u043f\\u043e \\u041e\\u0440\\u0435\\u043d\\u0431\\u0443\\u0440\\u0433\\u0441\\u043a\\u043e\\u0439 \\u043e\\u0431\\u043b\\u0430\\u0441\\u0442\\u0438 \\u043f\\u043e \\u0430\\u0434\\u0440\\u0435\\u0441\\u0443: 460000, \\u0433 \\u041e\\u0440\\u0435\\u043d\\u0431\\u0443\\u0440\\u0433, \\u0443\\u043b. \\u0426\\u0432\\u0438\\u043b\\u043b\\u0438\\u043d\\u0433\\u0430, \\u0434. 14/1, \\u0438\\u043b\\u0438 \\u0442\\u0435\\u043b\\u0435\\u0444\\u043e\\u043d\\u0443 \\u00ab\\u0433\\u043e\\u0440\\u044f\\u0447\\u0435\\u0439 \\u043b\\u0438\\u043d\\u0438\\u0438\\u00bb: (3532) 43-69-11.\"\n        ],\n        \"semantic_type\": \"\",\n        \"description\": \"\"\n      }\n    }\n  ]\n}"
            }
          },
          "metadata": {},
          "execution_count": 195
        }
      ]
    },
    {
      "cell_type": "markdown",
      "source": [
        "## 6 Words to vector"
      ],
      "metadata": {
        "id": "RLbYgHhPw93P"
      }
    },
    {
      "cell_type": "markdown",
      "source": [
        "Let's make up a corpus of documents"
      ],
      "metadata": {
        "id": "5ND6bjJvv9tH"
      }
    },
    {
      "cell_type": "code",
      "source": [
        "texts = list(df['RPN_questions'].values)"
      ],
      "metadata": {
        "id": "WLNWqK_9naZO",
        "colab": {
          "base_uri": "https://localhost:8080/"
        },
        "outputId": "99e58999-0dc8-47b0-c416-c07a8f7d75bf"
      },
      "execution_count": 196,
      "outputs": [
        {
          "output_type": "stream",
          "name": "stderr",
          "text": [
            "/usr/local/lib/python3.10/dist-packages/ipykernel/ipkernel.py:283: DeprecationWarning: `should_run_async` will not call `transform_cell` automatically in the future. Please pass the result to `transformed_cell` argument and any exception that happen during thetransform in `preprocessing_exc_tuple` in IPython 7.17 and above.\n",
            "  and should_run_async(code)\n"
          ]
        }
      ]
    },
    {
      "cell_type": "markdown",
      "source": [
        "Let's make up a dictionary of words"
      ],
      "metadata": {
        "id": "Sq-G1msxwM-5"
      }
    },
    {
      "cell_type": "code",
      "source": [
        "common_dictionary = Dictionary(texts)"
      ],
      "metadata": {
        "id": "njIDLme8nmN5",
        "colab": {
          "base_uri": "https://localhost:8080/"
        },
        "outputId": "bd4d4ab5-135b-4e24-c054-1614bc29639e"
      },
      "execution_count": 197,
      "outputs": [
        {
          "output_type": "stream",
          "name": "stderr",
          "text": [
            "/usr/local/lib/python3.10/dist-packages/ipykernel/ipkernel.py:283: DeprecationWarning: `should_run_async` will not call `transform_cell` automatically in the future. Please pass the result to `transformed_cell` argument and any exception that happen during thetransform in `preprocessing_exc_tuple` in IPython 7.17 and above.\n",
            "  and should_run_async(code)\n"
          ]
        }
      ]
    },
    {
      "cell_type": "markdown",
      "source": [
        "Let's make up list of words to vector"
      ],
      "metadata": {
        "id": "NEliTDY1wS91"
      }
    },
    {
      "cell_type": "code",
      "source": [
        "common_corpus = [common_dictionary.doc2bow(text) for text in texts]"
      ],
      "metadata": {
        "id": "wOXoA_4OvwN7",
        "colab": {
          "base_uri": "https://localhost:8080/"
        },
        "outputId": "d3688bc8-44d7-4c66-ae9b-579700e28eb2"
      },
      "execution_count": 198,
      "outputs": [
        {
          "output_type": "stream",
          "name": "stderr",
          "text": [
            "/usr/local/lib/python3.10/dist-packages/ipykernel/ipkernel.py:283: DeprecationWarning: `should_run_async` will not call `transform_cell` automatically in the future. Please pass the result to `transformed_cell` argument and any exception that happen during thetransform in `preprocessing_exc_tuple` in IPython 7.17 and above.\n",
            "  and should_run_async(code)\n"
          ]
        }
      ]
    },
    {
      "cell_type": "markdown",
      "source": [
        "# IV LDA model"
      ],
      "metadata": {
        "id": "x3qBMdO0zSRf"
      }
    },
    {
      "cell_type": "markdown",
      "source": [
        "## 7 Make a model"
      ],
      "metadata": {
        "id": "C-lUe9F0xDHo"
      }
    },
    {
      "cell_type": "markdown",
      "source": [
        "Let's define quantity of topics"
      ],
      "metadata": {
        "id": "V-7MU0VMxJ-o"
      }
    },
    {
      "cell_type": "code",
      "source": [
        "N_topics = 15"
      ],
      "metadata": {
        "id": "f3rOeOoaxaos",
        "colab": {
          "base_uri": "https://localhost:8080/"
        },
        "outputId": "bf582202-08a8-44d8-9b95-40c238c33268"
      },
      "execution_count": 199,
      "outputs": [
        {
          "output_type": "stream",
          "name": "stderr",
          "text": [
            "/usr/local/lib/python3.10/dist-packages/ipykernel/ipkernel.py:283: DeprecationWarning: `should_run_async` will not call `transform_cell` automatically in the future. Please pass the result to `transformed_cell` argument and any exception that happen during thetransform in `preprocessing_exc_tuple` in IPython 7.17 and above.\n",
            "  and should_run_async(code)\n"
          ]
        }
      ]
    },
    {
      "cell_type": "code",
      "source": [
        "lda = LdaModel(common_corpus, num_topics=N_topics, id2word=common_dictionary, passes=20)"
      ],
      "metadata": {
        "id": "FbuOOpjKwDCS",
        "colab": {
          "base_uri": "https://localhost:8080/"
        },
        "outputId": "6af08360-091f-488d-fec0-5cf4984d6c21"
      },
      "execution_count": 200,
      "outputs": [
        {
          "output_type": "stream",
          "name": "stderr",
          "text": [
            "/usr/local/lib/python3.10/dist-packages/ipykernel/ipkernel.py:283: DeprecationWarning: `should_run_async` will not call `transform_cell` automatically in the future. Please pass the result to `transformed_cell` argument and any exception that happen during thetransform in `preprocessing_exc_tuple` in IPython 7.17 and above.\n",
            "  and should_run_async(code)\n"
          ]
        }
      ]
    },
    {
      "cell_type": "code",
      "source": [
        "x = lda.show_topics(formatted=False, num_words=25)"
      ],
      "metadata": {
        "id": "mjhVYGQJxUNy",
        "colab": {
          "base_uri": "https://localhost:8080/"
        },
        "outputId": "36d825c7-7bf0-4bdf-eccd-78dc1616a17c"
      },
      "execution_count": 201,
      "outputs": [
        {
          "output_type": "stream",
          "name": "stderr",
          "text": [
            "/usr/local/lib/python3.10/dist-packages/ipykernel/ipkernel.py:283: DeprecationWarning: `should_run_async` will not call `transform_cell` automatically in the future. Please pass the result to `transformed_cell` argument and any exception that happen during thetransform in `preprocessing_exc_tuple` in IPython 7.17 and above.\n",
            "  and should_run_async(code)\n"
          ]
        }
      ]
    },
    {
      "cell_type": "code",
      "source": [
        "num_topics_list = [tp[0] for tp in x]\n",
        "words_topics_list = [[wd[0] for wd in tp[1]] for tp in x]\n",
        "frequency_word_topics_list = [[wd[1] for wd in tp[1]] for tp in x]\n",
        "word_and_freq_top_list = [[wd for wd in tp[1]] for tp in x]"
      ],
      "metadata": {
        "id": "Rj1NGh3u0Kpr",
        "colab": {
          "base_uri": "https://localhost:8080/"
        },
        "outputId": "5d235862-f9d4-4702-df73-aba5bb790849"
      },
      "execution_count": 202,
      "outputs": [
        {
          "output_type": "stream",
          "name": "stderr",
          "text": [
            "/usr/local/lib/python3.10/dist-packages/ipykernel/ipkernel.py:283: DeprecationWarning: `should_run_async` will not call `transform_cell` automatically in the future. Please pass the result to `transformed_cell` argument and any exception that happen during thetransform in `preprocessing_exc_tuple` in IPython 7.17 and above.\n",
            "  and should_run_async(code)\n"
          ]
        }
      ]
    },
    {
      "cell_type": "code",
      "source": [
        "dict_topics = {}\n",
        "for l in range(len(num_topics_list)):\n",
        "    dict_topics[f\"words_in_topic_{num_topics_list[l]}\"] = words_topics_list[l]\n",
        "    dict_topics[f\"freq_word_in_topic_{num_topics_list[l]}\"] = frequency_word_topics_list[l]"
      ],
      "metadata": {
        "id": "p4FkEq5I3z-K",
        "colab": {
          "base_uri": "https://localhost:8080/"
        },
        "outputId": "0a441243-0ce6-41ac-ca26-729847ed597b"
      },
      "execution_count": 203,
      "outputs": [
        {
          "output_type": "stream",
          "name": "stderr",
          "text": [
            "/usr/local/lib/python3.10/dist-packages/ipykernel/ipkernel.py:283: DeprecationWarning: `should_run_async` will not call `transform_cell` automatically in the future. Please pass the result to `transformed_cell` argument and any exception that happen during thetransform in `preprocessing_exc_tuple` in IPython 7.17 and above.\n",
            "  and should_run_async(code)\n"
          ]
        }
      ]
    },
    {
      "cell_type": "markdown",
      "source": [
        "Create dataframe with words and frequency in topics"
      ],
      "metadata": {
        "id": "EWhCjcqb6I6F"
      }
    },
    {
      "cell_type": "code",
      "source": [
        "df_topics = pd.DataFrame(dict_topics)\n",
        "df_topics.head(7)"
      ],
      "metadata": {
        "colab": {
          "base_uri": "https://localhost:8080/",
          "height": 324
        },
        "id": "p7DXP7kI0BBC",
        "outputId": "d4ddacf8-22e4-4b22-a9e8-e5147b475237"
      },
      "execution_count": 204,
      "outputs": [
        {
          "output_type": "stream",
          "name": "stderr",
          "text": [
            "/usr/local/lib/python3.10/dist-packages/ipykernel/ipkernel.py:283: DeprecationWarning: `should_run_async` will not call `transform_cell` automatically in the future. Please pass the result to `transformed_cell` argument and any exception that happen during thetransform in `preprocessing_exc_tuple` in IPython 7.17 and above.\n",
            "  and should_run_async(code)\n"
          ]
        },
        {
          "output_type": "execute_result",
          "data": {
            "text/plain": [
              "  words_in_topic_0  freq_word_in_topic_0 words_in_topic_2  \\\n",
              "0            товар              0.039942              дом   \n",
              "1          магазин              0.035537         квартира   \n",
              "2          возврат              0.031019             вода   \n",
              "3          вернуть              0.022686              наш   \n",
              "4             день              0.022374            мусор   \n",
              "5           деньга              0.018397            адрес   \n",
              "6         продавец              0.018334               ук   \n",
              "\n",
              "   freq_word_in_topic_2 words_in_topic_13  freq_word_in_topic_13  \\\n",
              "0              0.031895            ремонт               0.025048   \n",
              "1              0.017042           телефон               0.018272   \n",
              "2              0.016192             центр               0.016554   \n",
              "3              0.009339               год               0.014441   \n",
              "4              0.009156         сервисный               0.013825   \n",
              "5              0.008836               акт               0.013481   \n",
              "6              0.008365          гарантия               0.011817   \n",
              "\n",
              "  words_in_topic_10  freq_word_in_topic_10 words_in_topic_5  \\\n",
              "0              банк               0.022894            закон   \n",
              "1            услуга               0.022123            право   \n",
              "2             карта               0.018893            товар   \n",
              "3              счёт               0.016027      потребитель   \n",
              "4               мой               0.015496           статья   \n",
              "5            оплата               0.013229           защита   \n",
              "6             сумма               0.012594               рф   \n",
              "\n",
              "   freq_word_in_topic_5 words_in_topic_7  freq_word_in_topic_7  \\\n",
              "0              0.033047            маска              0.026395   \n",
              "1              0.032434             тест              0.017029   \n",
              "2              0.031944          ребёнок              0.016051   \n",
              "3              0.029709           добрый              0.009209   \n",
              "4              0.024375             день              0.008994   \n",
              "5              0.023665          человек              0.008854   \n",
              "6              0.022464             врач              0.007837   \n",
              "\n",
              "  words_in_topic_1  freq_word_in_topic_1 words_in_topic_4  \\\n",
              "0            заказ              0.042009             день   \n",
              "1            товар              0.030267               рф   \n",
              "2         доставка              0.019687           россия   \n",
              "3             день              0.017394            нужно   \n",
              "4             сайт              0.013292        результат   \n",
              "5           деньга              0.012649           добрый   \n",
              "6         оплатить              0.011143            сдать   \n",
              "\n",
              "   freq_word_in_topic_4 words_in_topic_6  freq_word_in_topic_6  \\\n",
              "0              0.033755          договор              0.047391   \n",
              "1              0.027432           услуга              0.022670   \n",
              "2              0.023164               гк              0.021781   \n",
              "3              0.023040         средство              0.015826   \n",
              "4              0.021297             рейс              0.013415   \n",
              "5              0.020446            билет              0.012437   \n",
              "6              0.019973                г              0.011759   \n",
              "\n",
              "  words_in_topic_9  freq_word_in_topic_9  \n",
              "0              это              0.022271  \n",
              "1          сказать              0.016814  \n",
              "2             день              0.015437  \n",
              "3             мочь              0.011056  \n",
              "4          который              0.010862  \n",
              "5               мы              0.009408  \n",
              "6            время              0.008407  "
            ],
            "text/html": [
              "\n",
              "  <div id=\"df-fa00a0ce-a5d0-416f-9079-fee7357b581e\" class=\"colab-df-container\">\n",
              "    <div>\n",
              "<style scoped>\n",
              "    .dataframe tbody tr th:only-of-type {\n",
              "        vertical-align: middle;\n",
              "    }\n",
              "\n",
              "    .dataframe tbody tr th {\n",
              "        vertical-align: top;\n",
              "    }\n",
              "\n",
              "    .dataframe thead th {\n",
              "        text-align: right;\n",
              "    }\n",
              "</style>\n",
              "<table border=\"1\" class=\"dataframe\">\n",
              "  <thead>\n",
              "    <tr style=\"text-align: right;\">\n",
              "      <th></th>\n",
              "      <th>words_in_topic_0</th>\n",
              "      <th>freq_word_in_topic_0</th>\n",
              "      <th>words_in_topic_2</th>\n",
              "      <th>freq_word_in_topic_2</th>\n",
              "      <th>words_in_topic_13</th>\n",
              "      <th>freq_word_in_topic_13</th>\n",
              "      <th>words_in_topic_10</th>\n",
              "      <th>freq_word_in_topic_10</th>\n",
              "      <th>words_in_topic_5</th>\n",
              "      <th>freq_word_in_topic_5</th>\n",
              "      <th>words_in_topic_7</th>\n",
              "      <th>freq_word_in_topic_7</th>\n",
              "      <th>words_in_topic_1</th>\n",
              "      <th>freq_word_in_topic_1</th>\n",
              "      <th>words_in_topic_4</th>\n",
              "      <th>freq_word_in_topic_4</th>\n",
              "      <th>words_in_topic_6</th>\n",
              "      <th>freq_word_in_topic_6</th>\n",
              "      <th>words_in_topic_9</th>\n",
              "      <th>freq_word_in_topic_9</th>\n",
              "    </tr>\n",
              "  </thead>\n",
              "  <tbody>\n",
              "    <tr>\n",
              "      <th>0</th>\n",
              "      <td>товар</td>\n",
              "      <td>0.039942</td>\n",
              "      <td>дом</td>\n",
              "      <td>0.031895</td>\n",
              "      <td>ремонт</td>\n",
              "      <td>0.025048</td>\n",
              "      <td>банк</td>\n",
              "      <td>0.022894</td>\n",
              "      <td>закон</td>\n",
              "      <td>0.033047</td>\n",
              "      <td>маска</td>\n",
              "      <td>0.026395</td>\n",
              "      <td>заказ</td>\n",
              "      <td>0.042009</td>\n",
              "      <td>день</td>\n",
              "      <td>0.033755</td>\n",
              "      <td>договор</td>\n",
              "      <td>0.047391</td>\n",
              "      <td>это</td>\n",
              "      <td>0.022271</td>\n",
              "    </tr>\n",
              "    <tr>\n",
              "      <th>1</th>\n",
              "      <td>магазин</td>\n",
              "      <td>0.035537</td>\n",
              "      <td>квартира</td>\n",
              "      <td>0.017042</td>\n",
              "      <td>телефон</td>\n",
              "      <td>0.018272</td>\n",
              "      <td>услуга</td>\n",
              "      <td>0.022123</td>\n",
              "      <td>право</td>\n",
              "      <td>0.032434</td>\n",
              "      <td>тест</td>\n",
              "      <td>0.017029</td>\n",
              "      <td>товар</td>\n",
              "      <td>0.030267</td>\n",
              "      <td>рф</td>\n",
              "      <td>0.027432</td>\n",
              "      <td>услуга</td>\n",
              "      <td>0.022670</td>\n",
              "      <td>сказать</td>\n",
              "      <td>0.016814</td>\n",
              "    </tr>\n",
              "    <tr>\n",
              "      <th>2</th>\n",
              "      <td>возврат</td>\n",
              "      <td>0.031019</td>\n",
              "      <td>вода</td>\n",
              "      <td>0.016192</td>\n",
              "      <td>центр</td>\n",
              "      <td>0.016554</td>\n",
              "      <td>карта</td>\n",
              "      <td>0.018893</td>\n",
              "      <td>товар</td>\n",
              "      <td>0.031944</td>\n",
              "      <td>ребёнок</td>\n",
              "      <td>0.016051</td>\n",
              "      <td>доставка</td>\n",
              "      <td>0.019687</td>\n",
              "      <td>россия</td>\n",
              "      <td>0.023164</td>\n",
              "      <td>гк</td>\n",
              "      <td>0.021781</td>\n",
              "      <td>день</td>\n",
              "      <td>0.015437</td>\n",
              "    </tr>\n",
              "    <tr>\n",
              "      <th>3</th>\n",
              "      <td>вернуть</td>\n",
              "      <td>0.022686</td>\n",
              "      <td>наш</td>\n",
              "      <td>0.009339</td>\n",
              "      <td>год</td>\n",
              "      <td>0.014441</td>\n",
              "      <td>счёт</td>\n",
              "      <td>0.016027</td>\n",
              "      <td>потребитель</td>\n",
              "      <td>0.029709</td>\n",
              "      <td>добрый</td>\n",
              "      <td>0.009209</td>\n",
              "      <td>день</td>\n",
              "      <td>0.017394</td>\n",
              "      <td>нужно</td>\n",
              "      <td>0.023040</td>\n",
              "      <td>средство</td>\n",
              "      <td>0.015826</td>\n",
              "      <td>мочь</td>\n",
              "      <td>0.011056</td>\n",
              "    </tr>\n",
              "    <tr>\n",
              "      <th>4</th>\n",
              "      <td>день</td>\n",
              "      <td>0.022374</td>\n",
              "      <td>мусор</td>\n",
              "      <td>0.009156</td>\n",
              "      <td>сервисный</td>\n",
              "      <td>0.013825</td>\n",
              "      <td>мой</td>\n",
              "      <td>0.015496</td>\n",
              "      <td>статья</td>\n",
              "      <td>0.024375</td>\n",
              "      <td>день</td>\n",
              "      <td>0.008994</td>\n",
              "      <td>сайт</td>\n",
              "      <td>0.013292</td>\n",
              "      <td>результат</td>\n",
              "      <td>0.021297</td>\n",
              "      <td>рейс</td>\n",
              "      <td>0.013415</td>\n",
              "      <td>который</td>\n",
              "      <td>0.010862</td>\n",
              "    </tr>\n",
              "    <tr>\n",
              "      <th>5</th>\n",
              "      <td>деньга</td>\n",
              "      <td>0.018397</td>\n",
              "      <td>адрес</td>\n",
              "      <td>0.008836</td>\n",
              "      <td>акт</td>\n",
              "      <td>0.013481</td>\n",
              "      <td>оплата</td>\n",
              "      <td>0.013229</td>\n",
              "      <td>защита</td>\n",
              "      <td>0.023665</td>\n",
              "      <td>человек</td>\n",
              "      <td>0.008854</td>\n",
              "      <td>деньга</td>\n",
              "      <td>0.012649</td>\n",
              "      <td>добрый</td>\n",
              "      <td>0.020446</td>\n",
              "      <td>билет</td>\n",
              "      <td>0.012437</td>\n",
              "      <td>мы</td>\n",
              "      <td>0.009408</td>\n",
              "    </tr>\n",
              "    <tr>\n",
              "      <th>6</th>\n",
              "      <td>продавец</td>\n",
              "      <td>0.018334</td>\n",
              "      <td>ук</td>\n",
              "      <td>0.008365</td>\n",
              "      <td>гарантия</td>\n",
              "      <td>0.011817</td>\n",
              "      <td>сумма</td>\n",
              "      <td>0.012594</td>\n",
              "      <td>рф</td>\n",
              "      <td>0.022464</td>\n",
              "      <td>врач</td>\n",
              "      <td>0.007837</td>\n",
              "      <td>оплатить</td>\n",
              "      <td>0.011143</td>\n",
              "      <td>сдать</td>\n",
              "      <td>0.019973</td>\n",
              "      <td>г</td>\n",
              "      <td>0.011759</td>\n",
              "      <td>время</td>\n",
              "      <td>0.008407</td>\n",
              "    </tr>\n",
              "  </tbody>\n",
              "</table>\n",
              "</div>\n",
              "    <div class=\"colab-df-buttons\">\n",
              "\n",
              "  <div class=\"colab-df-container\">\n",
              "    <button class=\"colab-df-convert\" onclick=\"convertToInteractive('df-fa00a0ce-a5d0-416f-9079-fee7357b581e')\"\n",
              "            title=\"Convert this dataframe to an interactive table.\"\n",
              "            style=\"display:none;\">\n",
              "\n",
              "  <svg xmlns=\"http://www.w3.org/2000/svg\" height=\"24px\" viewBox=\"0 -960 960 960\">\n",
              "    <path d=\"M120-120v-720h720v720H120Zm60-500h600v-160H180v160Zm220 220h160v-160H400v160Zm0 220h160v-160H400v160ZM180-400h160v-160H180v160Zm440 0h160v-160H620v160ZM180-180h160v-160H180v160Zm440 0h160v-160H620v160Z\"/>\n",
              "  </svg>\n",
              "    </button>\n",
              "\n",
              "  <style>\n",
              "    .colab-df-container {\n",
              "      display:flex;\n",
              "      gap: 12px;\n",
              "    }\n",
              "\n",
              "    .colab-df-convert {\n",
              "      background-color: #E8F0FE;\n",
              "      border: none;\n",
              "      border-radius: 50%;\n",
              "      cursor: pointer;\n",
              "      display: none;\n",
              "      fill: #1967D2;\n",
              "      height: 32px;\n",
              "      padding: 0 0 0 0;\n",
              "      width: 32px;\n",
              "    }\n",
              "\n",
              "    .colab-df-convert:hover {\n",
              "      background-color: #E2EBFA;\n",
              "      box-shadow: 0px 1px 2px rgba(60, 64, 67, 0.3), 0px 1px 3px 1px rgba(60, 64, 67, 0.15);\n",
              "      fill: #174EA6;\n",
              "    }\n",
              "\n",
              "    .colab-df-buttons div {\n",
              "      margin-bottom: 4px;\n",
              "    }\n",
              "\n",
              "    [theme=dark] .colab-df-convert {\n",
              "      background-color: #3B4455;\n",
              "      fill: #D2E3FC;\n",
              "    }\n",
              "\n",
              "    [theme=dark] .colab-df-convert:hover {\n",
              "      background-color: #434B5C;\n",
              "      box-shadow: 0px 1px 3px 1px rgba(0, 0, 0, 0.15);\n",
              "      filter: drop-shadow(0px 1px 2px rgba(0, 0, 0, 0.3));\n",
              "      fill: #FFFFFF;\n",
              "    }\n",
              "  </style>\n",
              "\n",
              "    <script>\n",
              "      const buttonEl =\n",
              "        document.querySelector('#df-fa00a0ce-a5d0-416f-9079-fee7357b581e button.colab-df-convert');\n",
              "      buttonEl.style.display =\n",
              "        google.colab.kernel.accessAllowed ? 'block' : 'none';\n",
              "\n",
              "      async function convertToInteractive(key) {\n",
              "        const element = document.querySelector('#df-fa00a0ce-a5d0-416f-9079-fee7357b581e');\n",
              "        const dataTable =\n",
              "          await google.colab.kernel.invokeFunction('convertToInteractive',\n",
              "                                                    [key], {});\n",
              "        if (!dataTable) return;\n",
              "\n",
              "        const docLinkHtml = 'Like what you see? Visit the ' +\n",
              "          '<a target=\"_blank\" href=https://colab.research.google.com/notebooks/data_table.ipynb>data table notebook</a>'\n",
              "          + ' to learn more about interactive tables.';\n",
              "        element.innerHTML = '';\n",
              "        dataTable['output_type'] = 'display_data';\n",
              "        await google.colab.output.renderOutput(dataTable, element);\n",
              "        const docLink = document.createElement('div');\n",
              "        docLink.innerHTML = docLinkHtml;\n",
              "        element.appendChild(docLink);\n",
              "      }\n",
              "    </script>\n",
              "  </div>\n",
              "\n",
              "\n",
              "<div id=\"df-122a5b8e-48e6-49c3-a188-577232e7039b\">\n",
              "  <button class=\"colab-df-quickchart\" onclick=\"quickchart('df-122a5b8e-48e6-49c3-a188-577232e7039b')\"\n",
              "            title=\"Suggest charts\"\n",
              "            style=\"display:none;\">\n",
              "\n",
              "<svg xmlns=\"http://www.w3.org/2000/svg\" height=\"24px\"viewBox=\"0 0 24 24\"\n",
              "     width=\"24px\">\n",
              "    <g>\n",
              "        <path d=\"M19 3H5c-1.1 0-2 .9-2 2v14c0 1.1.9 2 2 2h14c1.1 0 2-.9 2-2V5c0-1.1-.9-2-2-2zM9 17H7v-7h2v7zm4 0h-2V7h2v10zm4 0h-2v-4h2v4z\"/>\n",
              "    </g>\n",
              "</svg>\n",
              "  </button>\n",
              "\n",
              "<style>\n",
              "  .colab-df-quickchart {\n",
              "      --bg-color: #E8F0FE;\n",
              "      --fill-color: #1967D2;\n",
              "      --hover-bg-color: #E2EBFA;\n",
              "      --hover-fill-color: #174EA6;\n",
              "      --disabled-fill-color: #AAA;\n",
              "      --disabled-bg-color: #DDD;\n",
              "  }\n",
              "\n",
              "  [theme=dark] .colab-df-quickchart {\n",
              "      --bg-color: #3B4455;\n",
              "      --fill-color: #D2E3FC;\n",
              "      --hover-bg-color: #434B5C;\n",
              "      --hover-fill-color: #FFFFFF;\n",
              "      --disabled-bg-color: #3B4455;\n",
              "      --disabled-fill-color: #666;\n",
              "  }\n",
              "\n",
              "  .colab-df-quickchart {\n",
              "    background-color: var(--bg-color);\n",
              "    border: none;\n",
              "    border-radius: 50%;\n",
              "    cursor: pointer;\n",
              "    display: none;\n",
              "    fill: var(--fill-color);\n",
              "    height: 32px;\n",
              "    padding: 0;\n",
              "    width: 32px;\n",
              "  }\n",
              "\n",
              "  .colab-df-quickchart:hover {\n",
              "    background-color: var(--hover-bg-color);\n",
              "    box-shadow: 0 1px 2px rgba(60, 64, 67, 0.3), 0 1px 3px 1px rgba(60, 64, 67, 0.15);\n",
              "    fill: var(--button-hover-fill-color);\n",
              "  }\n",
              "\n",
              "  .colab-df-quickchart-complete:disabled,\n",
              "  .colab-df-quickchart-complete:disabled:hover {\n",
              "    background-color: var(--disabled-bg-color);\n",
              "    fill: var(--disabled-fill-color);\n",
              "    box-shadow: none;\n",
              "  }\n",
              "\n",
              "  .colab-df-spinner {\n",
              "    border: 2px solid var(--fill-color);\n",
              "    border-color: transparent;\n",
              "    border-bottom-color: var(--fill-color);\n",
              "    animation:\n",
              "      spin 1s steps(1) infinite;\n",
              "  }\n",
              "\n",
              "  @keyframes spin {\n",
              "    0% {\n",
              "      border-color: transparent;\n",
              "      border-bottom-color: var(--fill-color);\n",
              "      border-left-color: var(--fill-color);\n",
              "    }\n",
              "    20% {\n",
              "      border-color: transparent;\n",
              "      border-left-color: var(--fill-color);\n",
              "      border-top-color: var(--fill-color);\n",
              "    }\n",
              "    30% {\n",
              "      border-color: transparent;\n",
              "      border-left-color: var(--fill-color);\n",
              "      border-top-color: var(--fill-color);\n",
              "      border-right-color: var(--fill-color);\n",
              "    }\n",
              "    40% {\n",
              "      border-color: transparent;\n",
              "      border-right-color: var(--fill-color);\n",
              "      border-top-color: var(--fill-color);\n",
              "    }\n",
              "    60% {\n",
              "      border-color: transparent;\n",
              "      border-right-color: var(--fill-color);\n",
              "    }\n",
              "    80% {\n",
              "      border-color: transparent;\n",
              "      border-right-color: var(--fill-color);\n",
              "      border-bottom-color: var(--fill-color);\n",
              "    }\n",
              "    90% {\n",
              "      border-color: transparent;\n",
              "      border-bottom-color: var(--fill-color);\n",
              "    }\n",
              "  }\n",
              "</style>\n",
              "\n",
              "  <script>\n",
              "    async function quickchart(key) {\n",
              "      const quickchartButtonEl =\n",
              "        document.querySelector('#' + key + ' button');\n",
              "      quickchartButtonEl.disabled = true;  // To prevent multiple clicks.\n",
              "      quickchartButtonEl.classList.add('colab-df-spinner');\n",
              "      try {\n",
              "        const charts = await google.colab.kernel.invokeFunction(\n",
              "            'suggestCharts', [key], {});\n",
              "      } catch (error) {\n",
              "        console.error('Error during call to suggestCharts:', error);\n",
              "      }\n",
              "      quickchartButtonEl.classList.remove('colab-df-spinner');\n",
              "      quickchartButtonEl.classList.add('colab-df-quickchart-complete');\n",
              "    }\n",
              "    (() => {\n",
              "      let quickchartButtonEl =\n",
              "        document.querySelector('#df-122a5b8e-48e6-49c3-a188-577232e7039b button');\n",
              "      quickchartButtonEl.style.display =\n",
              "        google.colab.kernel.accessAllowed ? 'block' : 'none';\n",
              "    })();\n",
              "  </script>\n",
              "</div>\n",
              "    </div>\n",
              "  </div>\n"
            ],
            "application/vnd.google.colaboratory.intrinsic+json": {
              "type": "dataframe",
              "variable_name": "df_topics",
              "summary": "{\n  \"name\": \"df_topics\",\n  \"rows\": 25,\n  \"fields\": [\n    {\n      \"column\": \"words_in_topic_0\",\n      \"properties\": {\n        \"dtype\": \"string\",\n        \"num_unique_values\": 25,\n        \"samples\": [\n          \"\\u0441\\u0440\\u0435\\u0434\\u0441\\u0442\\u0432\\u043e\",\n          \"\\u043a\\u0430\\u0447\\u0435\\u0441\\u0442\\u0432\\u043e\",\n          \"\\u0442\\u043e\\u0432\\u0430\\u0440\"\n        ],\n        \"semantic_type\": \"\",\n        \"description\": \"\"\n      }\n    },\n    {\n      \"column\": \"freq_word_in_topic_0\",\n      \"properties\": {\n        \"dtype\": \"float32\",\n        \"num_unique_values\": 25,\n        \"samples\": [\n          0.01031543966382742,\n          0.006658919621258974,\n          0.039942383766174316\n        ],\n        \"semantic_type\": \"\",\n        \"description\": \"\"\n      }\n    },\n    {\n      \"column\": \"words_in_topic_2\",\n      \"properties\": {\n        \"dtype\": \"string\",\n        \"num_unique_values\": 25,\n        \"samples\": [\n          \"\\u0433\",\n          \"\\u0440\\u0430\\u0439\\u043e\\u043d\",\n          \"\\u0434\\u043e\\u043c\"\n        ],\n        \"semantic_type\": \"\",\n        \"description\": \"\"\n      }\n    },\n    {\n      \"column\": \"freq_word_in_topic_2\",\n      \"properties\": {\n        \"dtype\": \"float32\",\n        \"num_unique_values\": 25,\n        \"samples\": [\n          0.00773977767676115,\n          0.0059469519183039665,\n          0.03189515322446823\n        ],\n        \"semantic_type\": \"\",\n        \"description\": \"\"\n      }\n    },\n    {\n      \"column\": \"words_in_topic_13\",\n      \"properties\": {\n        \"dtype\": \"string\",\n        \"num_unique_values\": 25,\n        \"samples\": [\n          \"\\u0441\\u0440\\u043e\\u043a\",\n          \"\\u0440\\u0430\\u0431\\u043e\\u0442\\u0430\\u0442\\u044c\",\n          \"\\u0440\\u0435\\u043c\\u043e\\u043d\\u0442\"\n        ],\n        \"semantic_type\": \"\",\n        \"description\": \"\"\n      }\n    },\n    {\n      \"column\": \"freq_word_in_topic_13\",\n      \"properties\": {\n        \"dtype\": \"float32\",\n        \"num_unique_values\": 25,\n        \"samples\": [\n          0.010820630006492138,\n          0.005903699900954962,\n          0.02504790760576725\n        ],\n        \"semantic_type\": \"\",\n        \"description\": \"\"\n      }\n    },\n    {\n      \"column\": \"words_in_topic_10\",\n      \"properties\": {\n        \"dtype\": \"string\",\n        \"num_unique_values\": 25,\n        \"samples\": [\n          \"\\u0433\\u043e\\u0434\",\n          \"\\u0441\\u0440\\u0435\\u0434\\u0441\\u0442\\u0432\\u043e\",\n          \"\\u0431\\u0430\\u043d\\u043a\"\n        ],\n        \"semantic_type\": \"\",\n        \"description\": \"\"\n      }\n    },\n    {\n      \"column\": \"freq_word_in_topic_10\",\n      \"properties\": {\n        \"dtype\": \"float32\",\n        \"num_unique_values\": 25,\n        \"samples\": [\n          0.0094827339053154,\n          0.006900673732161522,\n          0.022894149646162987\n        ],\n        \"semantic_type\": \"\",\n        \"description\": \"\"\n      }\n    },\n    {\n      \"column\": \"words_in_topic_5\",\n      \"properties\": {\n        \"dtype\": \"string\",\n        \"num_unique_values\": 25,\n        \"samples\": [\n          \"\\u043f\\u0440\\u043e\\u0434\\u0430\\u0436\\u0430\",\n          \"\\u043f\\u043e\\u043a\\u0443\\u043f\\u0430\\u0442\\u0435\\u043b\\u044c\",\n          \"\\u0437\\u0430\\u043a\\u043e\\u043d\"\n        ],\n        \"semantic_type\": \"\",\n        \"description\": \"\"\n      }\n    },\n    {\n      \"column\": \"freq_word_in_topic_5\",\n      \"properties\": {\n        \"dtype\": \"float32\",\n        \"num_unique_values\": 25,\n        \"samples\": [\n          0.014855553396046162,\n          0.009852695278823376,\n          0.03304697200655937\n        ],\n        \"semantic_type\": \"\",\n        \"description\": \"\"\n      }\n    },\n    {\n      \"column\": \"words_in_topic_7\",\n      \"properties\": {\n        \"dtype\": \"string\",\n        \"num_unique_values\": 25,\n        \"samples\": [\n          \"\\u0440\\u043e\\u0441\\u043f\\u043e\\u0442\\u0440\\u0435\\u0431\\u043d\\u0430\\u0434\\u0437\\u043e\\u0440\",\n          \"\\u043f\\u043e\\u0441\\u0442\\u0430\\u043d\\u043e\\u0432\\u043b\\u0435\\u043d\\u0438\\u0435\",\n          \"\\u043c\\u0430\\u0441\\u043a\\u0430\"\n        ],\n        \"semantic_type\": \"\",\n        \"description\": \"\"\n      }\n    },\n    {\n      \"column\": \"freq_word_in_topic_7\",\n      \"properties\": {\n        \"dtype\": \"float32\",\n        \"num_unique_values\": 25,\n        \"samples\": [\n          0.007205739617347717,\n          0.006259433459490538,\n          0.026394780725240707\n        ],\n        \"semantic_type\": \"\",\n        \"description\": \"\"\n      }\n    },\n    {\n      \"column\": \"words_in_topic_1\",\n      \"properties\": {\n        \"dtype\": \"string\",\n        \"num_unique_values\": 25,\n        \"samples\": [\n          \"\\u0441\\u0440\\u043e\\u043a\",\n          \"\\u0441\\u0443\\u043c\\u043c\\u0430\",\n          \"\\u0437\\u0430\\u043a\\u0430\\u0437\"\n        ],\n        \"semantic_type\": \"\",\n        \"description\": \"\"\n      }\n    },\n    {\n      \"column\": \"freq_word_in_topic_1\",\n      \"properties\": {\n        \"dtype\": \"float32\",\n        \"num_unique_values\": 25,\n        \"samples\": [\n          0.00971408560872078,\n          0.007409479934722185,\n          0.042009446769952774\n        ],\n        \"semantic_type\": \"\",\n        \"description\": \"\"\n      }\n    },\n    {\n      \"column\": \"words_in_topic_4\",\n      \"properties\": {\n        \"dtype\": \"string\",\n        \"num_unique_values\": 25,\n        \"samples\": [\n          \"\\u043a\\u043e\\u0440\\u043e\\u043d\\u0430\\u0432\\u0438\\u0440\\u0443\\u0441\",\n          \"\\u043f\\u043e\\u0434\\u0441\\u043a\\u0430\\u0437\\u0430\\u0442\\u044c\",\n          \"\\u0434\\u0435\\u043d\\u044c\"\n        ],\n        \"semantic_type\": \"\",\n        \"description\": \"\"\n      }\n    },\n    {\n      \"column\": \"freq_word_in_topic_4\",\n      \"properties\": {\n        \"dtype\": \"float32\",\n        \"num_unique_values\": 25,\n        \"samples\": [\n          0.01714268885552883,\n          0.010262677446007729,\n          0.033754508942365646\n        ],\n        \"semantic_type\": \"\",\n        \"description\": \"\"\n      }\n    },\n    {\n      \"column\": \"words_in_topic_6\",\n      \"properties\": {\n        \"dtype\": \"string\",\n        \"num_unique_values\": 25,\n        \"samples\": [\n          \"\\u0434\\u0435\\u043d\\u0435\\u0436\\u043d\\u044b\\u0439\",\n          \"\\u0437\\u0430\\u044f\\u0432\\u043b\\u0435\\u043d\\u0438\\u0435\",\n          \"\\u0434\\u043e\\u0433\\u043e\\u0432\\u043e\\u0440\"\n        ],\n        \"semantic_type\": \"\",\n        \"description\": \"\"\n      }\n    },\n    {\n      \"column\": \"freq_word_in_topic_6\",\n      \"properties\": {\n        \"dtype\": \"float32\",\n        \"num_unique_values\": 25,\n        \"samples\": [\n          0.01062837801873684,\n          0.007094400469213724,\n          0.04739096388220787\n        ],\n        \"semantic_type\": \"\",\n        \"description\": \"\"\n      }\n    },\n    {\n      \"column\": \"words_in_topic_9\",\n      \"properties\": {\n        \"dtype\": \"string\",\n        \"num_unique_values\": 25,\n        \"samples\": [\n          \"\\u0442\\u0430\\u043a\\u043e\\u0439\",\n          \"\\u0433\\u043e\\u0432\\u043e\\u0440\\u0438\\u0442\\u044c\",\n          \"\\u044d\\u0442\\u043e\"\n        ],\n        \"semantic_type\": \"\",\n        \"description\": \"\"\n      }\n    },\n    {\n      \"column\": \"freq_word_in_topic_9\",\n      \"properties\": {\n        \"dtype\": \"float32\",\n        \"num_unique_values\": 25,\n        \"samples\": [\n          0.007615905720740557,\n          0.006509476341307163,\n          0.022270988672971725\n        ],\n        \"semantic_type\": \"\",\n        \"description\": \"\"\n      }\n    }\n  ]\n}"
            }
          },
          "metadata": {},
          "execution_count": 204
        }
      ]
    },
    {
      "cell_type": "code",
      "source": [
        "df_topics.shape"
      ],
      "metadata": {
        "colab": {
          "base_uri": "https://localhost:8080/"
        },
        "id": "s9ejC9mE0xtc",
        "outputId": "33319b17-9784-4d4a-c7dd-4cadd0b81192"
      },
      "execution_count": 205,
      "outputs": [
        {
          "output_type": "stream",
          "name": "stderr",
          "text": [
            "/usr/local/lib/python3.10/dist-packages/ipykernel/ipkernel.py:283: DeprecationWarning: `should_run_async` will not call `transform_cell` automatically in the future. Please pass the result to `transformed_cell` argument and any exception that happen during thetransform in `preprocessing_exc_tuple` in IPython 7.17 and above.\n",
            "  and should_run_async(code)\n"
          ]
        },
        {
          "output_type": "execute_result",
          "data": {
            "text/plain": [
              "(25, 20)"
            ]
          },
          "metadata": {},
          "execution_count": 205
        }
      ]
    },
    {
      "cell_type": "code",
      "source": [
        "df_topics.to_csv(path_to_work_dir + \"df_topics.csv\", index=None)"
      ],
      "metadata": {
        "id": "lEbWdJ-ONS84",
        "colab": {
          "base_uri": "https://localhost:8080/"
        },
        "outputId": "8b1288ca-98f7-4a58-9cb7-3b10243f4d04"
      },
      "execution_count": 206,
      "outputs": [
        {
          "output_type": "stream",
          "name": "stderr",
          "text": [
            "/usr/local/lib/python3.10/dist-packages/ipykernel/ipkernel.py:283: DeprecationWarning: `should_run_async` will not call `transform_cell` automatically in the future. Please pass the result to `transformed_cell` argument and any exception that happen during thetransform in `preprocessing_exc_tuple` in IPython 7.17 and above.\n",
            "  and should_run_async(code)\n"
          ]
        }
      ]
    },
    {
      "cell_type": "code",
      "source": [
        "df_topics = pd.read_csv(path_to_work_dir + \"df_topics.csv\")"
      ],
      "metadata": {
        "id": "3O1CyAqo5Wg8",
        "colab": {
          "base_uri": "https://localhost:8080/"
        },
        "outputId": "5e9c0aab-6e04-4ff1-80a9-43081b30ce94"
      },
      "execution_count": 207,
      "outputs": [
        {
          "output_type": "stream",
          "name": "stderr",
          "text": [
            "/usr/local/lib/python3.10/dist-packages/ipykernel/ipkernel.py:283: DeprecationWarning: `should_run_async` will not call `transform_cell` automatically in the future. Please pass the result to `transformed_cell` argument and any exception that happen during thetransform in `preprocessing_exc_tuple` in IPython 7.17 and above.\n",
            "  and should_run_async(code)\n"
          ]
        }
      ]
    },
    {
      "cell_type": "markdown",
      "source": [
        "## 8 Save LDA model"
      ],
      "metadata": {
        "id": "8tmzbTwf5p5G"
      }
    },
    {
      "cell_type": "code",
      "source": [
        "# MDir(path_to_work_dir + \"My_model/\")\n",
        "# temp_file = datapath(path_to_work_dir + \"My_model/model.lda\")\n",
        "# lda.save(temp_file)"
      ],
      "metadata": {
        "id": "c7kxHRxu6fPl",
        "colab": {
          "base_uri": "https://localhost:8080/"
        },
        "outputId": "6e84bb33-f560-4546-f8d6-0db54aec92a3"
      },
      "execution_count": 208,
      "outputs": [
        {
          "output_type": "stream",
          "name": "stderr",
          "text": [
            "/usr/local/lib/python3.10/dist-packages/ipykernel/ipkernel.py:283: DeprecationWarning: `should_run_async` will not call `transform_cell` automatically in the future. Please pass the result to `transformed_cell` argument and any exception that happen during thetransform in `preprocessing_exc_tuple` in IPython 7.17 and above.\n",
            "  and should_run_async(code)\n"
          ]
        }
      ]
    },
    {
      "cell_type": "markdown",
      "source": [
        "## 9 Load LDA model"
      ],
      "metadata": {
        "id": "qok_oT6_7CnV"
      }
    },
    {
      "cell_type": "code",
      "source": [
        "temp_file = path_to_work_dir + \"My_model/model.lda\"\n",
        "lda = LdaModel.load(temp_file)"
      ],
      "metadata": {
        "id": "yT5huajO7Dxp",
        "colab": {
          "base_uri": "https://localhost:8080/"
        },
        "outputId": "af8a8e4a-7eca-4873-cc50-6830d46e91ba"
      },
      "execution_count": 209,
      "outputs": [
        {
          "output_type": "stream",
          "name": "stderr",
          "text": [
            "/usr/local/lib/python3.10/dist-packages/ipykernel/ipkernel.py:283: DeprecationWarning: `should_run_async` will not call `transform_cell` automatically in the future. Please pass the result to `transformed_cell` argument and any exception that happen during thetransform in `preprocessing_exc_tuple` in IPython 7.17 and above.\n",
            "  and should_run_async(code)\n"
          ]
        }
      ]
    },
    {
      "cell_type": "markdown",
      "source": [
        "## 10 Documents in vector"
      ],
      "metadata": {
        "id": "uu-SnkhVSYRS"
      }
    },
    {
      "cell_type": "code",
      "source": [
        "topics_words = [tp[0] for tp in x]\n",
        "topic_matrix = pd.DataFrame([get_lda_vector(lda, text) for text in df['RPN_questions'].values])\n",
        "topic_matrix.columns = [f'topic_{i}' for i in topics_words]\n",
        "topic_matrix['doc_id'] = df['doc_id']\n",
        "topic_matrix = topic_matrix[['doc_id']+[f'topic_{i}' for i in topics_words]]\n",
        "topic_matrix.head(5)"
      ],
      "metadata": {
        "colab": {
          "base_uri": "https://localhost:8080/",
          "height": 261
        },
        "id": "0y8shmmWJj7v",
        "outputId": "794bac1a-b17c-41b4-9fec-5a2eb8c46d1c"
      },
      "execution_count": 210,
      "outputs": [
        {
          "output_type": "stream",
          "name": "stderr",
          "text": [
            "/usr/local/lib/python3.10/dist-packages/ipykernel/ipkernel.py:283: DeprecationWarning: `should_run_async` will not call `transform_cell` automatically in the future. Please pass the result to `transformed_cell` argument and any exception that happen during thetransform in `preprocessing_exc_tuple` in IPython 7.17 and above.\n",
            "  and should_run_async(code)\n"
          ]
        },
        {
          "output_type": "execute_result",
          "data": {
            "text/plain": [
              "   doc_id   topic_0   topic_2  topic_13  topic_10  topic_5   topic_7  \\\n",
              "0   44224  0.255787  0.261991   0.00000  0.000000      0.0  0.032685   \n",
              "1   44219  0.000000  0.000000   0.82238  0.000000      0.0  0.011684   \n",
              "2   44214  0.080103  0.000000   0.78189  0.015815      0.0  0.051897   \n",
              "3   44211  0.652616  0.000000   0.00000  0.000000      0.0  0.000000   \n",
              "4   44210  0.211684  0.302669   0.00000  0.000000      0.0  0.000000   \n",
              "\n",
              "    topic_1   topic_4   topic_6   topic_9  \n",
              "0  0.000000  0.000000  0.013253  0.331117  \n",
              "1  0.000000  0.044891  0.078914  0.000000  \n",
              "2  0.000000  0.000000  0.026981  0.000000  \n",
              "3  0.000000  0.000000  0.000000  0.235554  \n",
              "4  0.114801  0.000000  0.000000  0.217683  "
            ],
            "text/html": [
              "\n",
              "  <div id=\"df-c256d3d3-01d5-47aa-b0d5-f20f4537b049\" class=\"colab-df-container\">\n",
              "    <div>\n",
              "<style scoped>\n",
              "    .dataframe tbody tr th:only-of-type {\n",
              "        vertical-align: middle;\n",
              "    }\n",
              "\n",
              "    .dataframe tbody tr th {\n",
              "        vertical-align: top;\n",
              "    }\n",
              "\n",
              "    .dataframe thead th {\n",
              "        text-align: right;\n",
              "    }\n",
              "</style>\n",
              "<table border=\"1\" class=\"dataframe\">\n",
              "  <thead>\n",
              "    <tr style=\"text-align: right;\">\n",
              "      <th></th>\n",
              "      <th>doc_id</th>\n",
              "      <th>topic_0</th>\n",
              "      <th>topic_2</th>\n",
              "      <th>topic_13</th>\n",
              "      <th>topic_10</th>\n",
              "      <th>topic_5</th>\n",
              "      <th>topic_7</th>\n",
              "      <th>topic_1</th>\n",
              "      <th>topic_4</th>\n",
              "      <th>topic_6</th>\n",
              "      <th>topic_9</th>\n",
              "    </tr>\n",
              "  </thead>\n",
              "  <tbody>\n",
              "    <tr>\n",
              "      <th>0</th>\n",
              "      <td>44224</td>\n",
              "      <td>0.255787</td>\n",
              "      <td>0.261991</td>\n",
              "      <td>0.00000</td>\n",
              "      <td>0.000000</td>\n",
              "      <td>0.0</td>\n",
              "      <td>0.032685</td>\n",
              "      <td>0.000000</td>\n",
              "      <td>0.000000</td>\n",
              "      <td>0.013253</td>\n",
              "      <td>0.331117</td>\n",
              "    </tr>\n",
              "    <tr>\n",
              "      <th>1</th>\n",
              "      <td>44219</td>\n",
              "      <td>0.000000</td>\n",
              "      <td>0.000000</td>\n",
              "      <td>0.82238</td>\n",
              "      <td>0.000000</td>\n",
              "      <td>0.0</td>\n",
              "      <td>0.011684</td>\n",
              "      <td>0.000000</td>\n",
              "      <td>0.044891</td>\n",
              "      <td>0.078914</td>\n",
              "      <td>0.000000</td>\n",
              "    </tr>\n",
              "    <tr>\n",
              "      <th>2</th>\n",
              "      <td>44214</td>\n",
              "      <td>0.080103</td>\n",
              "      <td>0.000000</td>\n",
              "      <td>0.78189</td>\n",
              "      <td>0.015815</td>\n",
              "      <td>0.0</td>\n",
              "      <td>0.051897</td>\n",
              "      <td>0.000000</td>\n",
              "      <td>0.000000</td>\n",
              "      <td>0.026981</td>\n",
              "      <td>0.000000</td>\n",
              "    </tr>\n",
              "    <tr>\n",
              "      <th>3</th>\n",
              "      <td>44211</td>\n",
              "      <td>0.652616</td>\n",
              "      <td>0.000000</td>\n",
              "      <td>0.00000</td>\n",
              "      <td>0.000000</td>\n",
              "      <td>0.0</td>\n",
              "      <td>0.000000</td>\n",
              "      <td>0.000000</td>\n",
              "      <td>0.000000</td>\n",
              "      <td>0.000000</td>\n",
              "      <td>0.235554</td>\n",
              "    </tr>\n",
              "    <tr>\n",
              "      <th>4</th>\n",
              "      <td>44210</td>\n",
              "      <td>0.211684</td>\n",
              "      <td>0.302669</td>\n",
              "      <td>0.00000</td>\n",
              "      <td>0.000000</td>\n",
              "      <td>0.0</td>\n",
              "      <td>0.000000</td>\n",
              "      <td>0.114801</td>\n",
              "      <td>0.000000</td>\n",
              "      <td>0.000000</td>\n",
              "      <td>0.217683</td>\n",
              "    </tr>\n",
              "  </tbody>\n",
              "</table>\n",
              "</div>\n",
              "    <div class=\"colab-df-buttons\">\n",
              "\n",
              "  <div class=\"colab-df-container\">\n",
              "    <button class=\"colab-df-convert\" onclick=\"convertToInteractive('df-c256d3d3-01d5-47aa-b0d5-f20f4537b049')\"\n",
              "            title=\"Convert this dataframe to an interactive table.\"\n",
              "            style=\"display:none;\">\n",
              "\n",
              "  <svg xmlns=\"http://www.w3.org/2000/svg\" height=\"24px\" viewBox=\"0 -960 960 960\">\n",
              "    <path d=\"M120-120v-720h720v720H120Zm60-500h600v-160H180v160Zm220 220h160v-160H400v160Zm0 220h160v-160H400v160ZM180-400h160v-160H180v160Zm440 0h160v-160H620v160ZM180-180h160v-160H180v160Zm440 0h160v-160H620v160Z\"/>\n",
              "  </svg>\n",
              "    </button>\n",
              "\n",
              "  <style>\n",
              "    .colab-df-container {\n",
              "      display:flex;\n",
              "      gap: 12px;\n",
              "    }\n",
              "\n",
              "    .colab-df-convert {\n",
              "      background-color: #E8F0FE;\n",
              "      border: none;\n",
              "      border-radius: 50%;\n",
              "      cursor: pointer;\n",
              "      display: none;\n",
              "      fill: #1967D2;\n",
              "      height: 32px;\n",
              "      padding: 0 0 0 0;\n",
              "      width: 32px;\n",
              "    }\n",
              "\n",
              "    .colab-df-convert:hover {\n",
              "      background-color: #E2EBFA;\n",
              "      box-shadow: 0px 1px 2px rgba(60, 64, 67, 0.3), 0px 1px 3px 1px rgba(60, 64, 67, 0.15);\n",
              "      fill: #174EA6;\n",
              "    }\n",
              "\n",
              "    .colab-df-buttons div {\n",
              "      margin-bottom: 4px;\n",
              "    }\n",
              "\n",
              "    [theme=dark] .colab-df-convert {\n",
              "      background-color: #3B4455;\n",
              "      fill: #D2E3FC;\n",
              "    }\n",
              "\n",
              "    [theme=dark] .colab-df-convert:hover {\n",
              "      background-color: #434B5C;\n",
              "      box-shadow: 0px 1px 3px 1px rgba(0, 0, 0, 0.15);\n",
              "      filter: drop-shadow(0px 1px 2px rgba(0, 0, 0, 0.3));\n",
              "      fill: #FFFFFF;\n",
              "    }\n",
              "  </style>\n",
              "\n",
              "    <script>\n",
              "      const buttonEl =\n",
              "        document.querySelector('#df-c256d3d3-01d5-47aa-b0d5-f20f4537b049 button.colab-df-convert');\n",
              "      buttonEl.style.display =\n",
              "        google.colab.kernel.accessAllowed ? 'block' : 'none';\n",
              "\n",
              "      async function convertToInteractive(key) {\n",
              "        const element = document.querySelector('#df-c256d3d3-01d5-47aa-b0d5-f20f4537b049');\n",
              "        const dataTable =\n",
              "          await google.colab.kernel.invokeFunction('convertToInteractive',\n",
              "                                                    [key], {});\n",
              "        if (!dataTable) return;\n",
              "\n",
              "        const docLinkHtml = 'Like what you see? Visit the ' +\n",
              "          '<a target=\"_blank\" href=https://colab.research.google.com/notebooks/data_table.ipynb>data table notebook</a>'\n",
              "          + ' to learn more about interactive tables.';\n",
              "        element.innerHTML = '';\n",
              "        dataTable['output_type'] = 'display_data';\n",
              "        await google.colab.output.renderOutput(dataTable, element);\n",
              "        const docLink = document.createElement('div');\n",
              "        docLink.innerHTML = docLinkHtml;\n",
              "        element.appendChild(docLink);\n",
              "      }\n",
              "    </script>\n",
              "  </div>\n",
              "\n",
              "\n",
              "<div id=\"df-322b86f7-2690-4269-bf7c-53e82a949325\">\n",
              "  <button class=\"colab-df-quickchart\" onclick=\"quickchart('df-322b86f7-2690-4269-bf7c-53e82a949325')\"\n",
              "            title=\"Suggest charts\"\n",
              "            style=\"display:none;\">\n",
              "\n",
              "<svg xmlns=\"http://www.w3.org/2000/svg\" height=\"24px\"viewBox=\"0 0 24 24\"\n",
              "     width=\"24px\">\n",
              "    <g>\n",
              "        <path d=\"M19 3H5c-1.1 0-2 .9-2 2v14c0 1.1.9 2 2 2h14c1.1 0 2-.9 2-2V5c0-1.1-.9-2-2-2zM9 17H7v-7h2v7zm4 0h-2V7h2v10zm4 0h-2v-4h2v4z\"/>\n",
              "    </g>\n",
              "</svg>\n",
              "  </button>\n",
              "\n",
              "<style>\n",
              "  .colab-df-quickchart {\n",
              "      --bg-color: #E8F0FE;\n",
              "      --fill-color: #1967D2;\n",
              "      --hover-bg-color: #E2EBFA;\n",
              "      --hover-fill-color: #174EA6;\n",
              "      --disabled-fill-color: #AAA;\n",
              "      --disabled-bg-color: #DDD;\n",
              "  }\n",
              "\n",
              "  [theme=dark] .colab-df-quickchart {\n",
              "      --bg-color: #3B4455;\n",
              "      --fill-color: #D2E3FC;\n",
              "      --hover-bg-color: #434B5C;\n",
              "      --hover-fill-color: #FFFFFF;\n",
              "      --disabled-bg-color: #3B4455;\n",
              "      --disabled-fill-color: #666;\n",
              "  }\n",
              "\n",
              "  .colab-df-quickchart {\n",
              "    background-color: var(--bg-color);\n",
              "    border: none;\n",
              "    border-radius: 50%;\n",
              "    cursor: pointer;\n",
              "    display: none;\n",
              "    fill: var(--fill-color);\n",
              "    height: 32px;\n",
              "    padding: 0;\n",
              "    width: 32px;\n",
              "  }\n",
              "\n",
              "  .colab-df-quickchart:hover {\n",
              "    background-color: var(--hover-bg-color);\n",
              "    box-shadow: 0 1px 2px rgba(60, 64, 67, 0.3), 0 1px 3px 1px rgba(60, 64, 67, 0.15);\n",
              "    fill: var(--button-hover-fill-color);\n",
              "  }\n",
              "\n",
              "  .colab-df-quickchart-complete:disabled,\n",
              "  .colab-df-quickchart-complete:disabled:hover {\n",
              "    background-color: var(--disabled-bg-color);\n",
              "    fill: var(--disabled-fill-color);\n",
              "    box-shadow: none;\n",
              "  }\n",
              "\n",
              "  .colab-df-spinner {\n",
              "    border: 2px solid var(--fill-color);\n",
              "    border-color: transparent;\n",
              "    border-bottom-color: var(--fill-color);\n",
              "    animation:\n",
              "      spin 1s steps(1) infinite;\n",
              "  }\n",
              "\n",
              "  @keyframes spin {\n",
              "    0% {\n",
              "      border-color: transparent;\n",
              "      border-bottom-color: var(--fill-color);\n",
              "      border-left-color: var(--fill-color);\n",
              "    }\n",
              "    20% {\n",
              "      border-color: transparent;\n",
              "      border-left-color: var(--fill-color);\n",
              "      border-top-color: var(--fill-color);\n",
              "    }\n",
              "    30% {\n",
              "      border-color: transparent;\n",
              "      border-left-color: var(--fill-color);\n",
              "      border-top-color: var(--fill-color);\n",
              "      border-right-color: var(--fill-color);\n",
              "    }\n",
              "    40% {\n",
              "      border-color: transparent;\n",
              "      border-right-color: var(--fill-color);\n",
              "      border-top-color: var(--fill-color);\n",
              "    }\n",
              "    60% {\n",
              "      border-color: transparent;\n",
              "      border-right-color: var(--fill-color);\n",
              "    }\n",
              "    80% {\n",
              "      border-color: transparent;\n",
              "      border-right-color: var(--fill-color);\n",
              "      border-bottom-color: var(--fill-color);\n",
              "    }\n",
              "    90% {\n",
              "      border-color: transparent;\n",
              "      border-bottom-color: var(--fill-color);\n",
              "    }\n",
              "  }\n",
              "</style>\n",
              "\n",
              "  <script>\n",
              "    async function quickchart(key) {\n",
              "      const quickchartButtonEl =\n",
              "        document.querySelector('#' + key + ' button');\n",
              "      quickchartButtonEl.disabled = true;  // To prevent multiple clicks.\n",
              "      quickchartButtonEl.classList.add('colab-df-spinner');\n",
              "      try {\n",
              "        const charts = await google.colab.kernel.invokeFunction(\n",
              "            'suggestCharts', [key], {});\n",
              "      } catch (error) {\n",
              "        console.error('Error during call to suggestCharts:', error);\n",
              "      }\n",
              "      quickchartButtonEl.classList.remove('colab-df-spinner');\n",
              "      quickchartButtonEl.classList.add('colab-df-quickchart-complete');\n",
              "    }\n",
              "    (() => {\n",
              "      let quickchartButtonEl =\n",
              "        document.querySelector('#df-322b86f7-2690-4269-bf7c-53e82a949325 button');\n",
              "      quickchartButtonEl.style.display =\n",
              "        google.colab.kernel.accessAllowed ? 'block' : 'none';\n",
              "    })();\n",
              "  </script>\n",
              "</div>\n",
              "    </div>\n",
              "  </div>\n"
            ],
            "application/vnd.google.colaboratory.intrinsic+json": {
              "type": "dataframe",
              "variable_name": "topic_matrix",
              "summary": "{\n  \"name\": \"topic_matrix\",\n  \"rows\": 19993,\n  \"fields\": [\n    {\n      \"column\": \"doc_id\",\n      \"properties\": {\n        \"dtype\": \"number\",\n        \"std\": 8117,\n        \"min\": 16225,\n        \"max\": 44224,\n        \"num_unique_values\": 19993,\n        \"samples\": [\n          16698,\n          35617,\n          41770\n        ],\n        \"semantic_type\": \"\",\n        \"description\": \"\"\n      }\n    },\n    {\n      \"column\": \"topic_0\",\n      \"properties\": {\n        \"dtype\": \"number\",\n        \"std\": 0.2193604203071455,\n        \"min\": 0.0,\n        \"max\": 0.9801383018493652,\n        \"num_unique_values\": 9970,\n        \"samples\": [\n          0.03670273348689079,\n          0.28099513053894043,\n          0.2266836017370224\n        ],\n        \"semantic_type\": \"\",\n        \"description\": \"\"\n      }\n    },\n    {\n      \"column\": \"topic_2\",\n      \"properties\": {\n        \"dtype\": \"number\",\n        \"std\": 0.1990410558892967,\n        \"min\": 0.0,\n        \"max\": 0.9830291271209717,\n        \"num_unique_values\": 7527,\n        \"samples\": [\n          0.4342472553253174,\n          0.30541303753852844,\n          0.6720994710922241\n        ],\n        \"semantic_type\": \"\",\n        \"description\": \"\"\n      }\n    },\n    {\n      \"column\": \"topic_13\",\n      \"properties\": {\n        \"dtype\": \"number\",\n        \"std\": 0.1822129986310588,\n        \"min\": 0.0,\n        \"max\": 0.9760644435882568,\n        \"num_unique_values\": 6742,\n        \"samples\": [\n          0.04368912801146507,\n          0.08337533473968506,\n          0.5741420984268188\n        ],\n        \"semantic_type\": \"\",\n        \"description\": \"\"\n      }\n    },\n    {\n      \"column\": \"topic_10\",\n      \"properties\": {\n        \"dtype\": \"number\",\n        \"std\": 0.018201472063784863,\n        \"min\": 0.0,\n        \"max\": 0.5730685591697693,\n        \"num_unique_values\": 2453,\n        \"samples\": [\n          0.02335435524582863,\n          0.015779931098222733,\n          0.05008714273571968\n        ],\n        \"semantic_type\": \"\",\n        \"description\": \"\"\n      }\n    },\n    {\n      \"column\": \"topic_5\",\n      \"properties\": {\n        \"dtype\": \"number\",\n        \"std\": 0.10402767544307084,\n        \"min\": 0.0,\n        \"max\": 0.9282047748565674,\n        \"num_unique_values\": 5527,\n        \"samples\": [\n          0.061408378183841705,\n          0.1027938649058342,\n          0.07614628970623016\n        ],\n        \"semantic_type\": \"\",\n        \"description\": \"\"\n      }\n    },\n    {\n      \"column\": \"topic_7\",\n      \"properties\": {\n        \"dtype\": \"number\",\n        \"std\": 0.09063784240978323,\n        \"min\": 0.0,\n        \"max\": 0.9151496887207031,\n        \"num_unique_values\": 6400,\n        \"samples\": [\n          0.12847983837127686,\n          0.021133970469236374,\n          0.1438198834657669\n        ],\n        \"semantic_type\": \"\",\n        \"description\": \"\"\n      }\n    },\n    {\n      \"column\": \"topic_1\",\n      \"properties\": {\n        \"dtype\": \"number\",\n        \"std\": 0.0807777021325913,\n        \"min\": 0.0,\n        \"max\": 0.8717943429946899,\n        \"num_unique_values\": 5447,\n        \"samples\": [\n          0.1181751936674118,\n          0.011111483909189701,\n          0.11244221031665802\n        ],\n        \"semantic_type\": \"\",\n        \"description\": \"\"\n      }\n    },\n    {\n      \"column\": \"topic_4\",\n      \"properties\": {\n        \"dtype\": \"number\",\n        \"std\": 0.18459877445364425,\n        \"min\": 0.0,\n        \"max\": 0.978783130645752,\n        \"num_unique_values\": 8936,\n        \"samples\": [\n          0.30061712861061096,\n          0.42240068316459656,\n          0.016668003052473068\n        ],\n        \"semantic_type\": \"\",\n        \"description\": \"\"\n      }\n    },\n    {\n      \"column\": \"topic_6\",\n      \"properties\": {\n        \"dtype\": \"number\",\n        \"std\": 0.1444378373547616,\n        \"min\": 0.0,\n        \"max\": 0.9654266834259033,\n        \"num_unique_values\": 7731,\n        \"samples\": [\n          0.3602775037288666,\n          0.013334847055375576,\n          0.05285966768860817\n        ],\n        \"semantic_type\": \"\",\n        \"description\": \"\"\n      }\n    },\n    {\n      \"column\": \"topic_9\",\n      \"properties\": {\n        \"dtype\": \"number\",\n        \"std\": 0.15383761922510047,\n        \"min\": 0.0,\n        \"max\": 0.907085120677948,\n        \"num_unique_values\": 11737,\n        \"samples\": [\n          0.12307122349739075,\n          0.23222409188747406,\n          0.13379985094070435\n        ],\n        \"semantic_type\": \"\",\n        \"description\": \"\"\n      }\n    }\n  ]\n}"
            }
          },
          "metadata": {},
          "execution_count": 210
        }
      ]
    },
    {
      "cell_type": "code",
      "source": [
        "topic_matrix.to_csv(path_to_work_dir + 'doc_in_vec.csv', index=None)"
      ],
      "metadata": {
        "id": "EvUh7O_aWUMR",
        "colab": {
          "base_uri": "https://localhost:8080/"
        },
        "outputId": "5c4bc909-8e87-4cfd-897b-72ebc543e070"
      },
      "execution_count": 211,
      "outputs": [
        {
          "output_type": "stream",
          "name": "stderr",
          "text": [
            "/usr/local/lib/python3.10/dist-packages/ipykernel/ipkernel.py:283: DeprecationWarning: `should_run_async` will not call `transform_cell` automatically in the future. Please pass the result to `transformed_cell` argument and any exception that happen during thetransform in `preprocessing_exc_tuple` in IPython 7.17 and above.\n",
            "  and should_run_async(code)\n"
          ]
        }
      ]
    },
    {
      "cell_type": "code",
      "source": [
        "df_doc_vec = pd.read_csv(path_to_work_dir + 'doc_in_vec.csv')\n",
        "df_doc_vec.head(7)"
      ],
      "metadata": {
        "colab": {
          "base_uri": "https://localhost:8080/",
          "height": 324
        },
        "id": "UFs-2KDxYwFw",
        "outputId": "c42d048d-369e-4227-d2d0-08c9f313c6ff"
      },
      "execution_count": 212,
      "outputs": [
        {
          "output_type": "stream",
          "name": "stderr",
          "text": [
            "/usr/local/lib/python3.10/dist-packages/ipykernel/ipkernel.py:283: DeprecationWarning: `should_run_async` will not call `transform_cell` automatically in the future. Please pass the result to `transformed_cell` argument and any exception that happen during thetransform in `preprocessing_exc_tuple` in IPython 7.17 and above.\n",
            "  and should_run_async(code)\n"
          ]
        },
        {
          "output_type": "execute_result",
          "data": {
            "text/plain": [
              "   doc_id   topic_0   topic_2  topic_13  topic_10  topic_5   topic_7  \\\n",
              "0   44224  0.255787  0.261991   0.00000  0.000000      0.0  0.032685   \n",
              "1   44219  0.000000  0.000000   0.82238  0.000000      0.0  0.011684   \n",
              "2   44214  0.080103  0.000000   0.78189  0.015815      0.0  0.051897   \n",
              "3   44211  0.652616  0.000000   0.00000  0.000000      0.0  0.000000   \n",
              "4   44210  0.211684  0.302669   0.00000  0.000000      0.0  0.000000   \n",
              "5   44209  0.000000  0.413838   0.00000  0.000000      0.0  0.000000   \n",
              "6   44207  0.000000  0.000000   0.00000  0.000000      0.0  0.110725   \n",
              "\n",
              "    topic_1   topic_4   topic_6   topic_9  \n",
              "0  0.000000  0.000000  0.013253  0.331117  \n",
              "1  0.000000  0.044891  0.078914  0.000000  \n",
              "2  0.000000  0.000000  0.026981  0.000000  \n",
              "3  0.000000  0.000000  0.000000  0.235554  \n",
              "4  0.114801  0.000000  0.000000  0.217683  \n",
              "5  0.000000  0.000000  0.000000  0.000000  \n",
              "6  0.000000  0.000000  0.530660  0.316479  "
            ],
            "text/html": [
              "\n",
              "  <div id=\"df-977b4182-152a-4fcf-84bd-b6a08bfe7267\" class=\"colab-df-container\">\n",
              "    <div>\n",
              "<style scoped>\n",
              "    .dataframe tbody tr th:only-of-type {\n",
              "        vertical-align: middle;\n",
              "    }\n",
              "\n",
              "    .dataframe tbody tr th {\n",
              "        vertical-align: top;\n",
              "    }\n",
              "\n",
              "    .dataframe thead th {\n",
              "        text-align: right;\n",
              "    }\n",
              "</style>\n",
              "<table border=\"1\" class=\"dataframe\">\n",
              "  <thead>\n",
              "    <tr style=\"text-align: right;\">\n",
              "      <th></th>\n",
              "      <th>doc_id</th>\n",
              "      <th>topic_0</th>\n",
              "      <th>topic_2</th>\n",
              "      <th>topic_13</th>\n",
              "      <th>topic_10</th>\n",
              "      <th>topic_5</th>\n",
              "      <th>topic_7</th>\n",
              "      <th>topic_1</th>\n",
              "      <th>topic_4</th>\n",
              "      <th>topic_6</th>\n",
              "      <th>topic_9</th>\n",
              "    </tr>\n",
              "  </thead>\n",
              "  <tbody>\n",
              "    <tr>\n",
              "      <th>0</th>\n",
              "      <td>44224</td>\n",
              "      <td>0.255787</td>\n",
              "      <td>0.261991</td>\n",
              "      <td>0.00000</td>\n",
              "      <td>0.000000</td>\n",
              "      <td>0.0</td>\n",
              "      <td>0.032685</td>\n",
              "      <td>0.000000</td>\n",
              "      <td>0.000000</td>\n",
              "      <td>0.013253</td>\n",
              "      <td>0.331117</td>\n",
              "    </tr>\n",
              "    <tr>\n",
              "      <th>1</th>\n",
              "      <td>44219</td>\n",
              "      <td>0.000000</td>\n",
              "      <td>0.000000</td>\n",
              "      <td>0.82238</td>\n",
              "      <td>0.000000</td>\n",
              "      <td>0.0</td>\n",
              "      <td>0.011684</td>\n",
              "      <td>0.000000</td>\n",
              "      <td>0.044891</td>\n",
              "      <td>0.078914</td>\n",
              "      <td>0.000000</td>\n",
              "    </tr>\n",
              "    <tr>\n",
              "      <th>2</th>\n",
              "      <td>44214</td>\n",
              "      <td>0.080103</td>\n",
              "      <td>0.000000</td>\n",
              "      <td>0.78189</td>\n",
              "      <td>0.015815</td>\n",
              "      <td>0.0</td>\n",
              "      <td>0.051897</td>\n",
              "      <td>0.000000</td>\n",
              "      <td>0.000000</td>\n",
              "      <td>0.026981</td>\n",
              "      <td>0.000000</td>\n",
              "    </tr>\n",
              "    <tr>\n",
              "      <th>3</th>\n",
              "      <td>44211</td>\n",
              "      <td>0.652616</td>\n",
              "      <td>0.000000</td>\n",
              "      <td>0.00000</td>\n",
              "      <td>0.000000</td>\n",
              "      <td>0.0</td>\n",
              "      <td>0.000000</td>\n",
              "      <td>0.000000</td>\n",
              "      <td>0.000000</td>\n",
              "      <td>0.000000</td>\n",
              "      <td>0.235554</td>\n",
              "    </tr>\n",
              "    <tr>\n",
              "      <th>4</th>\n",
              "      <td>44210</td>\n",
              "      <td>0.211684</td>\n",
              "      <td>0.302669</td>\n",
              "      <td>0.00000</td>\n",
              "      <td>0.000000</td>\n",
              "      <td>0.0</td>\n",
              "      <td>0.000000</td>\n",
              "      <td>0.114801</td>\n",
              "      <td>0.000000</td>\n",
              "      <td>0.000000</td>\n",
              "      <td>0.217683</td>\n",
              "    </tr>\n",
              "    <tr>\n",
              "      <th>5</th>\n",
              "      <td>44209</td>\n",
              "      <td>0.000000</td>\n",
              "      <td>0.413838</td>\n",
              "      <td>0.00000</td>\n",
              "      <td>0.000000</td>\n",
              "      <td>0.0</td>\n",
              "      <td>0.000000</td>\n",
              "      <td>0.000000</td>\n",
              "      <td>0.000000</td>\n",
              "      <td>0.000000</td>\n",
              "      <td>0.000000</td>\n",
              "    </tr>\n",
              "    <tr>\n",
              "      <th>6</th>\n",
              "      <td>44207</td>\n",
              "      <td>0.000000</td>\n",
              "      <td>0.000000</td>\n",
              "      <td>0.00000</td>\n",
              "      <td>0.000000</td>\n",
              "      <td>0.0</td>\n",
              "      <td>0.110725</td>\n",
              "      <td>0.000000</td>\n",
              "      <td>0.000000</td>\n",
              "      <td>0.530660</td>\n",
              "      <td>0.316479</td>\n",
              "    </tr>\n",
              "  </tbody>\n",
              "</table>\n",
              "</div>\n",
              "    <div class=\"colab-df-buttons\">\n",
              "\n",
              "  <div class=\"colab-df-container\">\n",
              "    <button class=\"colab-df-convert\" onclick=\"convertToInteractive('df-977b4182-152a-4fcf-84bd-b6a08bfe7267')\"\n",
              "            title=\"Convert this dataframe to an interactive table.\"\n",
              "            style=\"display:none;\">\n",
              "\n",
              "  <svg xmlns=\"http://www.w3.org/2000/svg\" height=\"24px\" viewBox=\"0 -960 960 960\">\n",
              "    <path d=\"M120-120v-720h720v720H120Zm60-500h600v-160H180v160Zm220 220h160v-160H400v160Zm0 220h160v-160H400v160ZM180-400h160v-160H180v160Zm440 0h160v-160H620v160ZM180-180h160v-160H180v160Zm440 0h160v-160H620v160Z\"/>\n",
              "  </svg>\n",
              "    </button>\n",
              "\n",
              "  <style>\n",
              "    .colab-df-container {\n",
              "      display:flex;\n",
              "      gap: 12px;\n",
              "    }\n",
              "\n",
              "    .colab-df-convert {\n",
              "      background-color: #E8F0FE;\n",
              "      border: none;\n",
              "      border-radius: 50%;\n",
              "      cursor: pointer;\n",
              "      display: none;\n",
              "      fill: #1967D2;\n",
              "      height: 32px;\n",
              "      padding: 0 0 0 0;\n",
              "      width: 32px;\n",
              "    }\n",
              "\n",
              "    .colab-df-convert:hover {\n",
              "      background-color: #E2EBFA;\n",
              "      box-shadow: 0px 1px 2px rgba(60, 64, 67, 0.3), 0px 1px 3px 1px rgba(60, 64, 67, 0.15);\n",
              "      fill: #174EA6;\n",
              "    }\n",
              "\n",
              "    .colab-df-buttons div {\n",
              "      margin-bottom: 4px;\n",
              "    }\n",
              "\n",
              "    [theme=dark] .colab-df-convert {\n",
              "      background-color: #3B4455;\n",
              "      fill: #D2E3FC;\n",
              "    }\n",
              "\n",
              "    [theme=dark] .colab-df-convert:hover {\n",
              "      background-color: #434B5C;\n",
              "      box-shadow: 0px 1px 3px 1px rgba(0, 0, 0, 0.15);\n",
              "      filter: drop-shadow(0px 1px 2px rgba(0, 0, 0, 0.3));\n",
              "      fill: #FFFFFF;\n",
              "    }\n",
              "  </style>\n",
              "\n",
              "    <script>\n",
              "      const buttonEl =\n",
              "        document.querySelector('#df-977b4182-152a-4fcf-84bd-b6a08bfe7267 button.colab-df-convert');\n",
              "      buttonEl.style.display =\n",
              "        google.colab.kernel.accessAllowed ? 'block' : 'none';\n",
              "\n",
              "      async function convertToInteractive(key) {\n",
              "        const element = document.querySelector('#df-977b4182-152a-4fcf-84bd-b6a08bfe7267');\n",
              "        const dataTable =\n",
              "          await google.colab.kernel.invokeFunction('convertToInteractive',\n",
              "                                                    [key], {});\n",
              "        if (!dataTable) return;\n",
              "\n",
              "        const docLinkHtml = 'Like what you see? Visit the ' +\n",
              "          '<a target=\"_blank\" href=https://colab.research.google.com/notebooks/data_table.ipynb>data table notebook</a>'\n",
              "          + ' to learn more about interactive tables.';\n",
              "        element.innerHTML = '';\n",
              "        dataTable['output_type'] = 'display_data';\n",
              "        await google.colab.output.renderOutput(dataTable, element);\n",
              "        const docLink = document.createElement('div');\n",
              "        docLink.innerHTML = docLinkHtml;\n",
              "        element.appendChild(docLink);\n",
              "      }\n",
              "    </script>\n",
              "  </div>\n",
              "\n",
              "\n",
              "<div id=\"df-0ea61297-64b1-4a66-a1ca-0bc683fe997b\">\n",
              "  <button class=\"colab-df-quickchart\" onclick=\"quickchart('df-0ea61297-64b1-4a66-a1ca-0bc683fe997b')\"\n",
              "            title=\"Suggest charts\"\n",
              "            style=\"display:none;\">\n",
              "\n",
              "<svg xmlns=\"http://www.w3.org/2000/svg\" height=\"24px\"viewBox=\"0 0 24 24\"\n",
              "     width=\"24px\">\n",
              "    <g>\n",
              "        <path d=\"M19 3H5c-1.1 0-2 .9-2 2v14c0 1.1.9 2 2 2h14c1.1 0 2-.9 2-2V5c0-1.1-.9-2-2-2zM9 17H7v-7h2v7zm4 0h-2V7h2v10zm4 0h-2v-4h2v4z\"/>\n",
              "    </g>\n",
              "</svg>\n",
              "  </button>\n",
              "\n",
              "<style>\n",
              "  .colab-df-quickchart {\n",
              "      --bg-color: #E8F0FE;\n",
              "      --fill-color: #1967D2;\n",
              "      --hover-bg-color: #E2EBFA;\n",
              "      --hover-fill-color: #174EA6;\n",
              "      --disabled-fill-color: #AAA;\n",
              "      --disabled-bg-color: #DDD;\n",
              "  }\n",
              "\n",
              "  [theme=dark] .colab-df-quickchart {\n",
              "      --bg-color: #3B4455;\n",
              "      --fill-color: #D2E3FC;\n",
              "      --hover-bg-color: #434B5C;\n",
              "      --hover-fill-color: #FFFFFF;\n",
              "      --disabled-bg-color: #3B4455;\n",
              "      --disabled-fill-color: #666;\n",
              "  }\n",
              "\n",
              "  .colab-df-quickchart {\n",
              "    background-color: var(--bg-color);\n",
              "    border: none;\n",
              "    border-radius: 50%;\n",
              "    cursor: pointer;\n",
              "    display: none;\n",
              "    fill: var(--fill-color);\n",
              "    height: 32px;\n",
              "    padding: 0;\n",
              "    width: 32px;\n",
              "  }\n",
              "\n",
              "  .colab-df-quickchart:hover {\n",
              "    background-color: var(--hover-bg-color);\n",
              "    box-shadow: 0 1px 2px rgba(60, 64, 67, 0.3), 0 1px 3px 1px rgba(60, 64, 67, 0.15);\n",
              "    fill: var(--button-hover-fill-color);\n",
              "  }\n",
              "\n",
              "  .colab-df-quickchart-complete:disabled,\n",
              "  .colab-df-quickchart-complete:disabled:hover {\n",
              "    background-color: var(--disabled-bg-color);\n",
              "    fill: var(--disabled-fill-color);\n",
              "    box-shadow: none;\n",
              "  }\n",
              "\n",
              "  .colab-df-spinner {\n",
              "    border: 2px solid var(--fill-color);\n",
              "    border-color: transparent;\n",
              "    border-bottom-color: var(--fill-color);\n",
              "    animation:\n",
              "      spin 1s steps(1) infinite;\n",
              "  }\n",
              "\n",
              "  @keyframes spin {\n",
              "    0% {\n",
              "      border-color: transparent;\n",
              "      border-bottom-color: var(--fill-color);\n",
              "      border-left-color: var(--fill-color);\n",
              "    }\n",
              "    20% {\n",
              "      border-color: transparent;\n",
              "      border-left-color: var(--fill-color);\n",
              "      border-top-color: var(--fill-color);\n",
              "    }\n",
              "    30% {\n",
              "      border-color: transparent;\n",
              "      border-left-color: var(--fill-color);\n",
              "      border-top-color: var(--fill-color);\n",
              "      border-right-color: var(--fill-color);\n",
              "    }\n",
              "    40% {\n",
              "      border-color: transparent;\n",
              "      border-right-color: var(--fill-color);\n",
              "      border-top-color: var(--fill-color);\n",
              "    }\n",
              "    60% {\n",
              "      border-color: transparent;\n",
              "      border-right-color: var(--fill-color);\n",
              "    }\n",
              "    80% {\n",
              "      border-color: transparent;\n",
              "      border-right-color: var(--fill-color);\n",
              "      border-bottom-color: var(--fill-color);\n",
              "    }\n",
              "    90% {\n",
              "      border-color: transparent;\n",
              "      border-bottom-color: var(--fill-color);\n",
              "    }\n",
              "  }\n",
              "</style>\n",
              "\n",
              "  <script>\n",
              "    async function quickchart(key) {\n",
              "      const quickchartButtonEl =\n",
              "        document.querySelector('#' + key + ' button');\n",
              "      quickchartButtonEl.disabled = true;  // To prevent multiple clicks.\n",
              "      quickchartButtonEl.classList.add('colab-df-spinner');\n",
              "      try {\n",
              "        const charts = await google.colab.kernel.invokeFunction(\n",
              "            'suggestCharts', [key], {});\n",
              "      } catch (error) {\n",
              "        console.error('Error during call to suggestCharts:', error);\n",
              "      }\n",
              "      quickchartButtonEl.classList.remove('colab-df-spinner');\n",
              "      quickchartButtonEl.classList.add('colab-df-quickchart-complete');\n",
              "    }\n",
              "    (() => {\n",
              "      let quickchartButtonEl =\n",
              "        document.querySelector('#df-0ea61297-64b1-4a66-a1ca-0bc683fe997b button');\n",
              "      quickchartButtonEl.style.display =\n",
              "        google.colab.kernel.accessAllowed ? 'block' : 'none';\n",
              "    })();\n",
              "  </script>\n",
              "</div>\n",
              "    </div>\n",
              "  </div>\n"
            ],
            "application/vnd.google.colaboratory.intrinsic+json": {
              "type": "dataframe",
              "variable_name": "df_doc_vec",
              "summary": "{\n  \"name\": \"df_doc_vec\",\n  \"rows\": 19993,\n  \"fields\": [\n    {\n      \"column\": \"doc_id\",\n      \"properties\": {\n        \"dtype\": \"number\",\n        \"std\": 8117,\n        \"min\": 16225,\n        \"max\": 44224,\n        \"num_unique_values\": 19993,\n        \"samples\": [\n          16698,\n          35617,\n          41770\n        ],\n        \"semantic_type\": \"\",\n        \"description\": \"\"\n      }\n    },\n    {\n      \"column\": \"topic_0\",\n      \"properties\": {\n        \"dtype\": \"number\",\n        \"std\": 0.2193604203071455,\n        \"min\": 0.0,\n        \"max\": 0.9801383018493652,\n        \"num_unique_values\": 9970,\n        \"samples\": [\n          0.0367027334868907,\n          0.2809951305389404,\n          0.2266836017370224\n        ],\n        \"semantic_type\": \"\",\n        \"description\": \"\"\n      }\n    },\n    {\n      \"column\": \"topic_2\",\n      \"properties\": {\n        \"dtype\": \"number\",\n        \"std\": 0.1990410558892967,\n        \"min\": 0.0,\n        \"max\": 0.9830291271209716,\n        \"num_unique_values\": 7527,\n        \"samples\": [\n          0.4342472553253174,\n          0.3054130375385284,\n          0.6720994710922241\n        ],\n        \"semantic_type\": \"\",\n        \"description\": \"\"\n      }\n    },\n    {\n      \"column\": \"topic_13\",\n      \"properties\": {\n        \"dtype\": \"number\",\n        \"std\": 0.1822129986310588,\n        \"min\": 0.0,\n        \"max\": 0.9760644435882568,\n        \"num_unique_values\": 6742,\n        \"samples\": [\n          0.043689128011465,\n          0.083375334739685,\n          0.5741420984268188\n        ],\n        \"semantic_type\": \"\",\n        \"description\": \"\"\n      }\n    },\n    {\n      \"column\": \"topic_10\",\n      \"properties\": {\n        \"dtype\": \"number\",\n        \"std\": 0.018201472063784852,\n        \"min\": 0.0,\n        \"max\": 0.5730685591697693,\n        \"num_unique_values\": 2453,\n        \"samples\": [\n          0.0233543552458286,\n          0.0157799310982227,\n          0.0500871427357196\n        ],\n        \"semantic_type\": \"\",\n        \"description\": \"\"\n      }\n    },\n    {\n      \"column\": \"topic_5\",\n      \"properties\": {\n        \"dtype\": \"number\",\n        \"std\": 0.10402767544307084,\n        \"min\": 0.0,\n        \"max\": 0.9282047748565674,\n        \"num_unique_values\": 5527,\n        \"samples\": [\n          0.0614083781838417,\n          0.1027938649058342,\n          0.0761462897062301\n        ],\n        \"semantic_type\": \"\",\n        \"description\": \"\"\n      }\n    },\n    {\n      \"column\": \"topic_7\",\n      \"properties\": {\n        \"dtype\": \"number\",\n        \"std\": 0.09063784240978322,\n        \"min\": 0.0,\n        \"max\": 0.9151496887207032,\n        \"num_unique_values\": 6400,\n        \"samples\": [\n          0.1284798383712768,\n          0.0211339704692363,\n          0.1438198834657669\n        ],\n        \"semantic_type\": \"\",\n        \"description\": \"\"\n      }\n    },\n    {\n      \"column\": \"topic_1\",\n      \"properties\": {\n        \"dtype\": \"number\",\n        \"std\": 0.08077770213259129,\n        \"min\": 0.0,\n        \"max\": 0.8717943429946899,\n        \"num_unique_values\": 5447,\n        \"samples\": [\n          0.1181751936674118,\n          0.0111114839091897,\n          0.112442210316658\n        ],\n        \"semantic_type\": \"\",\n        \"description\": \"\"\n      }\n    },\n    {\n      \"column\": \"topic_4\",\n      \"properties\": {\n        \"dtype\": \"number\",\n        \"std\": 0.18459877445364425,\n        \"min\": 0.0,\n        \"max\": 0.978783130645752,\n        \"num_unique_values\": 8936,\n        \"samples\": [\n          0.3006171286106109,\n          0.4224006831645965,\n          0.016668003052473\n        ],\n        \"semantic_type\": \"\",\n        \"description\": \"\"\n      }\n    },\n    {\n      \"column\": \"topic_6\",\n      \"properties\": {\n        \"dtype\": \"number\",\n        \"std\": 0.1444378373547616,\n        \"min\": 0.0,\n        \"max\": 0.9654266834259032,\n        \"num_unique_values\": 7731,\n        \"samples\": [\n          0.3602775037288666,\n          0.0133348470553755,\n          0.0528596676886081\n        ],\n        \"semantic_type\": \"\",\n        \"description\": \"\"\n      }\n    },\n    {\n      \"column\": \"topic_9\",\n      \"properties\": {\n        \"dtype\": \"number\",\n        \"std\": 0.15383761922510047,\n        \"min\": 0.0,\n        \"max\": 0.907085120677948,\n        \"num_unique_values\": 11737,\n        \"samples\": [\n          0.1230712234973907,\n          0.232224091887474,\n          0.1337998509407043\n        ],\n        \"semantic_type\": \"\",\n        \"description\": \"\"\n      }\n    }\n  ]\n}"
            }
          },
          "metadata": {},
          "execution_count": 212
        }
      ]
    },
    {
      "cell_type": "markdown",
      "source": [
        "## 11 Visualisation of results"
      ],
      "metadata": {
        "id": "fA-XUq3KFtYE"
      }
    },
    {
      "cell_type": "code",
      "source": [
        "!pip install pyLDAvis"
      ],
      "metadata": {
        "colab": {
          "base_uri": "https://localhost:8080/"
        },
        "id": "GofPzERlMG7k",
        "outputId": "68ee5598-66b6-41d3-cf48-9c75b85077dd"
      },
      "execution_count": 152,
      "outputs": [
        {
          "output_type": "stream",
          "name": "stdout",
          "text": [
            "Collecting pyLDAvis\n",
            "  Downloading pyLDAvis-3.4.1-py3-none-any.whl (2.6 MB)\n",
            "\u001b[2K     \u001b[90m━━━━━━━━━━━━━━━━━━━━━━━━━━━━━━━━━━━━━━━━\u001b[0m \u001b[32m2.6/2.6 MB\u001b[0m \u001b[31m11.6 MB/s\u001b[0m eta \u001b[36m0:00:00\u001b[0m\n",
            "\u001b[?25hRequirement already satisfied: numpy>=1.24.2 in /usr/local/lib/python3.10/dist-packages (from pyLDAvis) (1.25.2)\n",
            "Requirement already satisfied: scipy in /usr/local/lib/python3.10/dist-packages (from pyLDAvis) (1.11.4)\n",
            "Requirement already satisfied: pandas>=2.0.0 in /usr/local/lib/python3.10/dist-packages (from pyLDAvis) (2.0.3)\n",
            "Requirement already satisfied: joblib>=1.2.0 in /usr/local/lib/python3.10/dist-packages (from pyLDAvis) (1.4.0)\n",
            "Requirement already satisfied: jinja2 in /usr/local/lib/python3.10/dist-packages (from pyLDAvis) (3.1.3)\n",
            "Requirement already satisfied: numexpr in /usr/local/lib/python3.10/dist-packages (from pyLDAvis) (2.10.0)\n",
            "Collecting funcy (from pyLDAvis)\n",
            "  Downloading funcy-2.0-py2.py3-none-any.whl (30 kB)\n",
            "Requirement already satisfied: scikit-learn>=1.0.0 in /usr/local/lib/python3.10/dist-packages (from pyLDAvis) (1.2.2)\n",
            "Requirement already satisfied: gensim in /usr/local/lib/python3.10/dist-packages (from pyLDAvis) (4.3.2)\n",
            "Requirement already satisfied: setuptools in /usr/local/lib/python3.10/dist-packages (from pyLDAvis) (67.7.2)\n",
            "Requirement already satisfied: python-dateutil>=2.8.2 in /usr/local/lib/python3.10/dist-packages (from pandas>=2.0.0->pyLDAvis) (2.8.2)\n",
            "Requirement already satisfied: pytz>=2020.1 in /usr/local/lib/python3.10/dist-packages (from pandas>=2.0.0->pyLDAvis) (2023.4)\n",
            "Requirement already satisfied: tzdata>=2022.1 in /usr/local/lib/python3.10/dist-packages (from pandas>=2.0.0->pyLDAvis) (2024.1)\n",
            "Requirement already satisfied: threadpoolctl>=2.0.0 in /usr/local/lib/python3.10/dist-packages (from scikit-learn>=1.0.0->pyLDAvis) (3.4.0)\n",
            "Requirement already satisfied: smart-open>=1.8.1 in /usr/local/lib/python3.10/dist-packages (from gensim->pyLDAvis) (6.4.0)\n",
            "Requirement already satisfied: MarkupSafe>=2.0 in /usr/local/lib/python3.10/dist-packages (from jinja2->pyLDAvis) (2.1.5)\n",
            "Requirement already satisfied: six>=1.5 in /usr/local/lib/python3.10/dist-packages (from python-dateutil>=2.8.2->pandas>=2.0.0->pyLDAvis) (1.16.0)\n",
            "Installing collected packages: funcy, pyLDAvis\n",
            "Successfully installed funcy-2.0 pyLDAvis-3.4.1\n"
          ]
        }
      ]
    },
    {
      "cell_type": "code",
      "source": [
        "import pyLDAvis\n",
        "import pyLDAvis.gensim as gensimvis"
      ],
      "metadata": {
        "id": "PephxOFlMQCA"
      },
      "execution_count": 153,
      "outputs": []
    },
    {
      "cell_type": "code",
      "source": [
        "vis_data = gensimvis.prepare(lda, common_corpus, common_dictionary, mds='mmds')\n",
        "pyLDAvis.display(vis_data)"
      ],
      "metadata": {
        "colab": {
          "base_uri": "https://localhost:8080/",
          "height": 952
        },
        "id": "7Z5Cx2IQulpB",
        "outputId": "66c0b6c5-1694-4a17-f523-72999c499e1c"
      },
      "execution_count": 213,
      "outputs": [
        {
          "output_type": "stream",
          "name": "stderr",
          "text": [
            "/usr/local/lib/python3.10/dist-packages/ipykernel/ipkernel.py:283: DeprecationWarning: `should_run_async` will not call `transform_cell` automatically in the future. Please pass the result to `transformed_cell` argument and any exception that happen during thetransform in `preprocessing_exc_tuple` in IPython 7.17 and above.\n",
            "  and should_run_async(code)\n",
            "/usr/local/lib/python3.10/dist-packages/sklearn/manifold/_mds.py:299: FutureWarning: The default value of `normalized_stress` will change to `'auto'` in version 1.4. To suppress this warning, manually set the value of `normalized_stress`.\n",
            "  warnings.warn(\n"
          ]
        },
        {
          "output_type": "execute_result",
          "data": {
            "text/plain": [
              "<IPython.core.display.HTML object>"
            ],
            "text/html": [
              "\n",
              "<link rel=\"stylesheet\" type=\"text/css\" href=\"https://cdn.jsdelivr.net/gh/bmabey/pyLDAvis@3.4.0/pyLDAvis/js/ldavis.v1.0.0.css\">\n",
              "\n",
              "\n",
              "<div id=\"ldavis_el2461396169005213608211894526\" style=\"background-color:white;\"></div>\n",
              "<script type=\"text/javascript\">\n",
              "\n",
              "var ldavis_el2461396169005213608211894526_data = {\"mdsDat\": {\"x\": [-0.1854366557346416, -0.13934154060338144, -0.21467620537754517, 0.20841571222661892, 0.29542553380436976, -0.0014259570717289104, 0.29184595697722343, 0.06234479387186375, -0.16206560070932857, -0.26618789413915594, 0.15218833617196303, 0.3769609349833049, -0.40468806294663656, 0.0506956216389131, -0.06405497309183848], \"y\": [0.3379878011865969, 0.20530023980095885, 0.16156201056329836, 0.24998805711810318, 0.14967710891289757, 0.10587771820366441, -0.27642003555006167, 0.3579519203906493, -0.23536712672704102, -0.025348278262875532, -0.039972737416724746, -0.08302914160561109, -0.16397624898964203, -0.29195638962509357, -0.45227489799911913], \"topics\": [1, 2, 3, 4, 5, 6, 7, 8, 9, 10, 11, 12, 13, 14, 15], \"cluster\": [1, 1, 1, 1, 1, 1, 1, 1, 1, 1, 1, 1, 1, 1, 1], \"Freq\": [13.982066036903468, 13.466323054324114, 11.327122500230209, 9.018761718191982, 8.377137618433594, 8.107473581912766, 6.990749146844586, 6.783210607586275, 5.283362527618372, 4.748132977771338, 4.3231604270840895, 2.7924338756960765, 2.1916021697564783, 2.087493108469519, 0.5209706491771274]}, \"tinfo\": {\"Term\": [\"\\u043c\\u0430\\u0433\\u0430\\u0437\\u0438\\u043d\", \"\\u0442\\u043e\\u0432\\u0430\\u0440\", \"\\u0437\\u0430\\u043a\\u0430\\u0437\", \"\\u0434\\u0435\\u043d\\u044c\", \"\\u0432\\u043e\\u0437\\u0432\\u0440\\u0430\\u0442\", \"\\u0434\\u043e\\u0433\\u043e\\u0432\\u043e\\u0440\", \"\\u0430\\u0434\\u0440\\u0435\\u0441\", \"\\u0437\\u0430\\u043a\\u043e\\u043d\", \"\\u0434\\u043e\\u043c\", \"\\u043c\\u0430\\u0441\\u043a\\u0430\", \"\\u0440\\u0444\", \"\\u043f\\u043e\\u0442\\u0440\\u0435\\u0431\\u0438\\u0442\\u0435\\u043b\\u044c\", \"\\u043f\\u0440\\u0430\\u0432\\u043e\", \"\\u0443\\u0441\\u043b\\u0443\\u0433\\u0430\", \"\\u0432\\u0435\\u0440\\u043d\\u0443\\u0442\\u044c\", \"\\u0434\\u043e\\u0441\\u0442\\u0430\\u0432\\u043a\\u0430\", \"\\u0434\\u0435\\u043d\\u044c\\u0433\\u0430\", \"\\u0433\", \"\\u0431\\u0430\\u043d\\u043a\", \"\\u0441\\u0442\\u0430\\u0442\\u044c\\u044f\", \"\\u0437\\u0430\\u0449\\u0438\\u0442\\u0430\", \"\\u0446\\u0435\\u043d\\u0430\", \"\\u0443\\u043b\", \"\\u0434\\u043e\\u0431\\u0440\\u044b\\u0439\", \"\\u0441\\u0440\\u0435\\u0434\\u0441\\u0442\\u0432\\u043e\", \"\\u043f\\u0440\\u043e\\u0434\\u0430\\u0432\\u0435\\u0446\", \"\\u0431\\u0438\\u043b\\u0435\\u0442\", \"\\u043f\\u0440\\u043e\\u0441\\u0438\\u0442\\u044c\", \"\\u043a\\u0430\\u0440\\u0442\\u0430\", \"\\u0442\\u0435\\u0441\\u0442\", \"\\u0437\\u0430\\u043f\\u0440\\u0435\\u0442\", \"\\u0442\\u0440\\u0443\\u0431\\u043a\\u0430\", \"\\u0441\\u043a\\u043e\\u0440\\u044b\\u0439\", \"\\u043f\\u0440\\u043e\\u0442\\u0438\\u0432\\u043e\\u0440\\u0435\\u0447\\u0438\\u0435\", \"\\u043f\\u0440\\u0438\\u043b\\u0435\\u0442\\u0435\\u0442\\u044c\", \"\\u0434\\u0430\\u0432\\u043b\\u0435\\u043d\\u0438\\u0435\", \"\\u043c\\u044f\\u0441\\u043e\", \"\\u0437\\u0430\\u043f\\u0440\\u0435\\u0449\\u0430\\u0442\\u044c\\u0441\\u044f\", \"\\u0432\\u044b\\u043d\\u0443\\u0436\\u0434\\u0435\\u043d\\u043d\\u044b\\u0439\", \"\\u043f\\u043e\\u043d\\u0435\\u0434\\u0435\\u043b\\u044c\\u043d\\u0438\\u043a\", \"\\u0432\\u0430\\u0443\\u0447\\u0435\\u0440\", \"\\u044d\\u043f\\u0438\\u0434\\u0435\\u043c\\u0438\\u044f\", \"\\u0444\\u0438\\u0442\\u043d\\u0435\\u0441\", \"\\u0431\\u0443\\u043a\\u0435\\u0442\", \"\\u0437\\u043d\\u0430\\u043a\\u043e\\u043c\\u044b\\u0439\", \"\\u043c\\u043e\\u043b\\u043e\\u0434\\u043e\\u0439\", \"\\u0441\\u043b\\u0443\\u0447\\u0438\\u0442\\u044c\\u0441\\u044f\", \"\\u0436\\u0430\\u043b\\u043e\\u0431\\u043d\\u044b\\u0439\", \"\\u043f\\u044f\\u0442\\u043d\\u0438\\u0446\\u0430\", \"\\u0440\\u0435\\u0433\\u0438\\u0441\\u0442\\u0440\\u0430\\u0442\\u0443\\u0440\\u0430\", \"\\u0440\\u0430\\u0441\\u0441\\u043a\\u0430\\u0437\\u0430\\u0442\\u044c\", \"\\u0442\\u0435\\u0440\\u044f\\u0442\\u044c\", \"\\u043f\\u0438\\u0446\\u0446\\u0430\", \"\\u0440\\u0435\\u0446\\u0435\\u043f\\u0442\", \"\\u0440\\u043e\\u043b\\u043b\", \"\\u0443\\u0437\\u043d\\u0430\\u0432\\u0430\\u0442\\u044c\", \"\\u0441\\u043b\\u0443\\u0448\\u0430\\u0442\\u044c\", \"\\u0441\\u044e\\u0434\\u0430\", \"\\u0436\\u0438\\u0432\\u043e\\u0439\", \"\\u0437\\u0430\\u0440\\u0435\\u0433\\u0438\\u0441\\u0442\\u0440\\u0438\\u0440\\u043e\\u0432\\u0430\\u0442\\u044c\\u0441\\u044f\", \"\\u0441\\u043f\\u0440\\u043e\\u0441\\u0438\\u0442\\u044c\", \"\\u0434\\u0435\\u0432\\u0443\\u0448\\u043a\\u0430\", \"\\u0431\\u0440\\u0430\\u0442\\u044c\", \"\\u043f\\u043e\\u0435\\u0445\\u0430\\u0442\\u044c\", \"\\u0437\\u043d\\u0430\\u0442\\u044c\", \"\\u043f\\u043e\\u043f\\u0430\\u0441\\u0442\\u044c\", \"\\u0432\\u043e\\u043e\\u0431\\u0449\\u0435\", \"\\u043f\\u043e\\u043d\\u044f\\u0442\\u043d\\u043e\", \"\\u0432\\u0441\\u0451\", \"\\u0433\\u043e\\u0432\\u043e\\u0440\\u0438\\u0442\\u044c\", \"\\u043f\\u0440\\u043e\\u0441\\u0442\\u043e\", \"\\u0437\\u0432\\u043e\\u043d\\u0438\\u0442\\u044c\", \"\\u043d\\u0438\\u043a\\u0442\\u043e\", \"\\u0441\\u043a\\u0430\\u0437\\u0430\\u0442\\u044c\", \"\\u043f\\u043e\\u0437\\u0432\\u043e\\u043d\\u0438\\u0442\\u044c\", \"\\u043c\\u044b\", \"\\u043f\\u043e\\u0447\\u0435\\u043c\\u0443\", \"\\u0434\\u043e\\u0437\\u0432\\u043e\\u043d\\u0438\\u0442\\u044c\\u0441\\u044f\", \"\\u0435\\u0449\\u0451\", \"\\u044d\\u0442\\u043e\", \"\\u0432\\u0437\\u044f\\u0442\\u044c\", \"\\u043e\\u0447\\u0435\\u043d\\u044c\", \"\\u043f\\u0440\\u0438\\u0435\\u0445\\u0430\\u0442\\u044c\", \"\\u0436\\u0434\\u0430\\u0442\\u044c\", \"\\u0441\\u0430\\u043c\", \"\\u043c\\u0438\\u043d\\u0443\\u0442\\u0430\", \"\\u0445\\u043e\\u0442\\u0435\\u0442\\u044c\", \"\\u0441\\u0435\\u0433\\u043e\\u0434\\u043d\\u044f\", \"\\u0447\\u0435\\u043b\\u043e\\u0432\\u0435\\u043a\", \"\\u043c\\u043e\\u0447\\u044c\", \"\\u043d\\u0435\\u0434\\u0435\\u043b\\u044f\", \"\\u0434\\u0435\\u043b\\u0430\\u0442\\u044c\", \"\\u0432\\u0440\\u0435\\u043c\\u044f\", \"\\u0442\\u0430\\u043a\\u043e\\u0439\", \"\\u0441\\u0434\\u0435\\u043b\\u0430\\u0442\\u044c\", \"\\u0447\\u0430\\u0441\", \"\\u0434\\u0435\\u043d\\u044c\", \"\\u0440\\u0430\\u0431\\u043e\\u0442\\u0430\\u0442\\u044c\", \"\\u0441\\u0438\\u0442\\u0443\\u0430\\u0446\\u0438\\u044f\", \"\\u043a\\u043e\\u0442\\u043e\\u0440\\u044b\\u0439\", \"\\u0441\\u0432\\u043e\\u0439\", \"\\u043f\\u0440\\u0438\\u0439\\u0442\\u0438\", \"\\u0432\\u043e\\u043f\\u0440\\u043e\\u0441\", \"\\u043c\\u043e\\u0439\", \"\\u0437\\u0434\\u0440\\u0430\\u0432\\u0441\\u0442\\u0432\\u0443\\u0439\\u0442\\u0435\", \"\\u043d\\u0430\\u0448\", \"\\u043e\\u0442\\u0432\\u0435\\u0442\\u0438\\u0442\\u044c\", \"\\u0440\\u0430\\u0431\\u043e\\u0442\\u0430\", \"\\u0431\\u0440\\u0430\\u043a\", \"\\u043a\\u043e\\u0432\\u0438\\u0434\", \"\\u043e\\u0431\\u043c\\u0435\\u043d\", \"\\u043e\\u0431\\u0443\\u0432\\u044c\", \"\\u043d\\u0430\\u0443\\u0448\\u043d\\u0438\\u043a\", \"\\u043e\\u0431\\u043c\\u0435\\u043d\\u044f\\u0442\\u044c\", \"\\u0431\\u0440\\u0430\\u043a\\u043e\\u0432\\u0430\\u0442\\u044c\", \"\\u043f\\u043b\\u0430\\u0442\\u044c\\u0435\", \"\\u0432\\u0441\\u043a\\u0440\\u044b\\u0442\\u044c\", \"\\u043a\\u0443\\u0440\\u0442\\u043a\\u0430\", \"\\u043f\\u044b\\u043b\\u0435\\u0441\\u043e\\u0441\", \"\\u043a\\u043e\\u0441\\u0442\\u044e\\u043c\", \"\\u0431\\u0438\\u0440\\u043a\\u0430\", \"\\u043d\\u043e\\u0441\\u043a\\u0430\", \"\\u043f\\u043e\\u0434\\u0430\\u0440\\u043e\\u0447\\u043d\\u044b\\u0439\", \"\\u043f\\u0440\\u0438\\u043c\\u0435\\u0440\\u043a\\u0430\", \"\\u0441\\u0430\\u043f\\u043e\\u0433\", \"\\u0431\\u043e\\u0442\\u0438\\u043d\\u043e\\u043a\", \"\\u043e\\u0434\\u0435\\u0442\\u044c\", \"\\u043e\\u0440\\u0438\\u0433\\u0438\\u043d\\u0430\\u043b\\u044c\\u043d\\u044b\\u0439\", \"\\u043f\\u043e\\u0434\\u043e\\u0448\\u0432\\u0430\", \"\\u043f\\u043e\\u0434\\u0430\\u0440\\u0438\\u0442\\u044c\", \"\\u043a\\u0440\\u043e\\u0441\\u0441\\u043e\\u0432\\u043e\\u043a\", \"\\u0432\\u0438\\u0434\\u0435\\u043e\\u043a\\u0430\\u0440\\u0442\\u0430\", \"\\u0438\\u043d\\u0441\\u0442\\u0430\\u0433\\u0440\\u0430\\u043c\\u043c\", \"\\u043f\\u0430\\u043c\\u044f\\u0442\\u044c\", \"\\u0432\\u0441\\u043a\\u0440\\u044b\\u0432\\u0430\\u0442\\u044c\", \"\\u0430\\u043a\", \"wb\", \"\\u0437\\u0430\\u043c\\u043e\\u043a\", \"\\u043c\\u043e\\u0434\\u0435\\u043b\\u044c\", \"\\u0432\\u0441\\u043a\\u0440\\u044b\\u0442\\u0438\\u0435\", \"\\u0443\\u043f\\u0430\\u043a\\u043e\\u0432\\u043a\\u0430\", \"\\u043f\\u043b\\u0451\\u043d\\u043a\\u0430\", \"\\u0442\\u0435\\u0445\\u043d\\u0438\\u0447\\u0435\\u0441\\u043a\\u0438\", \"\\u0432\\u0435\\u0440\\u043d\\u0443\\u0442\\u044c\", \"\\u0432\\u043e\\u0437\\u0432\\u0440\\u0430\\u0442\", \"\\u043f\\u0440\\u043e\\u0434\\u0430\\u0432\\u0435\\u0446\", \"\\u043f\\u0440\\u0438\\u043e\\u0431\\u0440\\u0435\\u0441\\u0442\\u0438\", \"\\u043f\\u043e\\u0434\\u043e\\u0439\\u0442\\u0438\", \"\\u044d\\u043a\\u0441\\u043f\\u0435\\u0440\\u0442\\u0438\\u0437\\u0430\", \"\\u043a\\u0443\\u043f\\u0438\\u0442\\u044c\", \"\\u043f\\u043e\\u043a\\u0443\\u043f\\u043a\\u0430\", \"\\u043c\\u0430\\u0433\\u0430\\u0437\\u0438\\u043d\", \"\\u0442\\u043e\\u0432\\u0430\\u0440\", \"\\u043a\\u0430\\u0447\\u0435\\u0441\\u0442\\u0432\\u043e\", \"\\u0442\\u043e\\u0432\\u0430\\u0440\\u043d\\u044b\\u0439\", \"\\u043e\\u0431\\u0440\\u0430\\u0442\\u043d\\u043e\", \"\\u043a\\u043e\\u0440\\u043e\\u0431\\u043a\\u0430\", \"\\u0432\\u043e\\u0437\\u0432\\u0440\\u0430\\u0449\\u0430\\u0442\\u044c\", \"\\u0434\\u0435\\u043d\\u044c\\u0433\\u0430\", \"\\u0441\\u0435\\u0440\\u0442\\u0438\\u0444\\u0438\\u043a\\u0430\\u0442\", \"\\u043d\\u0430\\u043f\\u0438\\u0441\\u0430\\u0442\\u044c\", \"\\u0447\\u0435\\u043a\", \"\\u0434\\u0435\\u043d\\u044c\", \"\\u043e\\u043a\\u0430\\u0437\\u0430\\u0442\\u044c\\u0441\\u044f\", \"\\u0434\\u0435\\u043d\\u0435\\u0436\\u043d\\u044b\\u0439\", \"\\u043e\\u0442\\u043a\\u0430\\u0437\\u0430\\u0442\\u044c\", \"\\u0441\\u0440\\u0435\\u0434\\u0441\\u0442\\u0432\\u043e\", \"\\u043f\\u0440\\u0435\\u0442\\u0435\\u043d\\u0437\\u0438\\u044f\", \"\\u043e\\u0442\\u043a\\u0430\\u0437\\u0430\\u0442\\u044c\\u0441\\u044f\", \"\\u043e\\u0431\\u043d\\u0430\\u0440\\u0443\\u0436\\u0438\\u0442\\u044c\", \"\\u0434\\u043e\\u0431\\u0440\\u044b\\u0439\", \"\\u044d\\u0442\\u043e\", \"\\u043c\\u043e\\u0447\\u044c\", \"\\u0441\\u043a\\u0430\\u0437\\u0430\\u0442\\u044c\", \"\\u043e\\u0442\\u043a\\u0430\\u0437\", \"\\u0437\\u0434\\u0440\\u0430\\u0432\\u0441\\u0442\\u0432\\u0443\\u0439\\u0442\\u0435\", \"\\u043a\\u043e\\u0442\\u043e\\u0440\\u044b\\u0439\", \"\\u0434\\u0430\\u043d\\u043d\\u044b\\u0439\", \"\\u043e\\u0431\\u0440\\u0430\\u0442\\u0438\\u0442\\u044c\\u0441\\u044f\", \"\\u0437\\u0430\\u044f\\u0432\\u043b\\u0435\\u043d\\u0438\\u0435\", \"\\u043f\\u043e\\u043b\\u0443\\u0447\\u0438\\u0442\\u044c\", \"\\u0437\\u0430\\u043a\\u0430\\u0437\", \"\\u0434\\u043e\\u0441\\u0442\\u0430\\u0432\\u043a\\u0430\", \"\\u043a\\u0443\\u0440\\u044c\\u0435\\u0440\", \"\\u0441\\u0434\\u044d\\u043a\", \"\\u0441\\u0438\\u0437\\u044b\\u0439\", \"\\u0441\\u0431\\u0435\\u0440\\u043c\\u0435\\u0433\\u0430\\u043c\\u0430\\u0440\\u043a\\u0435\\u0442\", \"\\u0441\\u0430\\u043c\\u043e\\u0432\\u044b\\u0432\\u043e\\u0437\", \"\\u043b\\u0438\\u043d\\u0437\\u0430\", \"\\u043c\\u0435\\u0433\\u0430\\u043c\\u0430\\u0440\\u043a\\u0435\\u0442\", \"\\u043a\\u0443\\u0440\\u044c\\u0435\\u0440\\u0441\\u043a\\u0438\\u0439\", \"\\u0431\\u043e\\u043d\\u0443\\u0441\", \"\\u044f\\u043d\\u0434\\u0435\\u043a\\u0441\", \"\\u0430\\u0433\\u0440\\u0435\\u0433\\u0430\\u0442\\u043e\\u0440\", \"\\u043f\\u0440\\u043e\\u043c\\u043e\\u043a\\u043e\\u0434\", \"\\u0448\\u0438\\u043d\\u0430\", \"\\u044f\\u043d\\u0434\\u0435\\u043a\\u0441\\u043c\\u0430\\u0440\\u043a\\u0435\\u0442\", \"\\u0441\\u043f\\u043e\\u0440\\u0442\\u043c\\u0430\\u0441\\u0442\\u0435\\u0440\", \"\\u0433\\u0438\\u043f\\u0435\\u0440\\u043c\\u0430\\u0440\\u043a\\u0435\\u0442\", \"\\u0441\\u043e\\u0431\\u0440\\u0430\\u043d\\u043d\\u044b\\u0439\", \"\\u043f\\u0430\\u0440\\u0442\\u043d\\u0451\\u0440\", \"\\u0432\\u0440\\u0443\\u0447\\u0435\\u043d\\u0438\\u0435\", \"\\u0441\\u0434\\u0435\\u043a\", \"\\u043f\\u043e\\u0434\\u043f\\u0443\\u043d\\u043a\\u0442\", \"\\u043e\\u0442\\u043f\\u0443\\u0441\\u043a\\u0430\\u0442\\u044c\", \"\\u0441\\u0431\\u043e\\u0440\\u0449\\u0438\\u043a\", \"\\u0448\\u0430\\u0431\\u043b\\u043e\\u043d\\u043d\\u044b\\u0439\", \"\\u0440\\u0430\\u0441\\u0442\\u0435\\u043d\\u0438\\u0435\", \"dpd\", \"\\u0448\\u0438\\u0440\\u0438\\u043d\\u0430\", \"\\u0430\\u0434\\u0440\\u0435\\u0441\\u0430\\u0442\", \"\\u0434\\u043e\\u0441\\u0442\\u0430\\u0432\\u0438\\u0442\\u044c\", \"\\u0433\\u0440\\u0443\\u0437\", \"\\u0441\\u043a\\u043b\\u0430\\u0434\", \"\\u043c\\u0430\\u0440\\u043a\\u0435\\u0442\", \"\\u0441\\u0442\\u0430\\u0442\\u0443\\u0441\", \"\\u043f\\u043e\\u0434\\u0434\\u0435\\u0440\\u0436\\u043a\\u0430\", \"\\u0442\\u0435\\u0445\\u043f\\u043e\\u0434\\u0434\\u0435\\u0440\\u0436\\u043a\\u0430\", \"\\u043e\\u0442\\u043c\\u0435\\u043d\\u0438\\u0442\\u044c\", \"\\u043e\\u0442\\u043c\\u0435\\u043d\\u0430\", \"ozon\", \"\\u0437\\u0430\\u043a\\u0430\\u0437\\u0430\\u0442\\u044c\", \"\\u0448\\u0442\", \"\\u0438\\u043d\\u0442\\u0435\\u0440\\u043d\\u0435\\u0442\\u043c\\u0430\\u0433\\u0430\\u0437\\u0438\\u043d\", \"\\u0441\\u043b\\u0443\\u0436\\u0431\\u0430\", \"\\u043e\\u043f\\u043b\\u0430\\u0442\\u0438\\u0442\\u044c\", \"\\u043e\\u0444\\u043e\\u0440\\u043c\\u0438\\u0442\\u044c\", \"\\u0432\\u044b\\u0434\\u0430\\u0447\\u0430\", \"\\u0441\\u0435\\u0439\", \"\\u043f\\u043e\\u0440\\u0430\", \"\\u0441\\u0430\\u0439\\u0442\", \"\\u043f\\u043e\\u0441\\u044b\\u043b\\u043a\\u0430\", \"\\u0442\\u043e\\u0432\\u0430\\u0440\", \"\\u0441\\u0440\\u043e\\u043a\", \"\\u043e\\u0437\\u043e\\u043d\", \"\\u0441\\u0432\\u044f\\u0437\\u0430\\u0442\\u044c\\u0441\\u044f\", \"\\u043f\\u0440\\u0438\\u043b\\u043e\\u0436\\u0435\\u043d\\u0438\\u0435\", \"\\u0434\\u0435\\u043d\\u044c\\u0433\\u0430\", \"\\u043e\\u0431\\u0440\\u0430\\u0449\\u0435\\u043d\\u0438\\u0435\", \"\\u0441\\u0443\\u043c\\u043c\\u0430\", \"\\u0434\\u0435\\u043d\\u044c\", \"\\u044f\", \"\\u043f\\u043e\\u043b\\u0443\\u0447\\u0438\\u0442\\u044c\", \"\\u0432\\u043e\\u0437\\u0432\\u0440\\u0430\\u0442\", \"\\u043e\\u043f\\u043b\\u0430\\u0442\\u0430\", \"\\u0441\\u0440\\u0435\\u0434\\u0441\\u0442\\u0432\\u043e\", \"\\u043f\\u0443\\u043d\\u043a\\u0442\", \"\\u043c\\u043e\\u0439\", \"\\u043a\\u043e\\u043c\\u043f\\u0430\\u043d\\u0438\\u044f\", \"\\u0432\\u0435\\u0440\\u043d\\u0443\\u0442\\u044c\", \"\\u043c\\u0430\\u0433\\u0430\\u0437\\u0438\\u043d\", \"\\u0434\\u0435\\u043d\\u0435\\u0436\\u043d\\u044b\\u0439\", \"\\u0441\\u0434\\u0435\\u043b\\u0430\\u0442\\u044c\", \"\\u043e\\u0442\\u0432\\u0435\\u0442\", \"\\u043c\\u0430\\u0441\\u043a\\u0430\", \"\\u0442\\u0435\\u0441\\u0442\", \"\\u043f\\u0435\\u0440\\u0447\\u0430\\u0442\\u043a\\u0430\", \"\\u043c\\u0435\\u0434\\u0438\\u0446\\u0438\\u043d\\u0441\\u043a\\u0438\\u0439\", \"covid\", \"\\u043a\\u043e\\u043d\\u0441\\u0442\\u0438\\u0442\\u0443\\u0446\\u0438\\u044f\", \"\\u043f\\u0446\\u0440\", \"\\u0443\\u043a\\u0430\\u0437\", \"\\u0433\\u0443\\u0431\\u0435\\u0440\\u043d\\u0430\\u0442\\u043e\\u0440\", \"\\u0434\\u044b\\u0445\\u0430\\u043d\\u0438\\u0435\", \"\\u0438\\u043d\\u0444\\u0435\\u043a\\u0446\\u0438\\u044f\", \"\\u0431\\u043e\\u043b\\u044c\\u043d\\u0438\\u0447\\u043d\\u044b\\u0439\", \"\\u0440\\u043e\\u0434\\u0438\\u0442\\u0435\\u043b\\u044c\", \"\\u0441\\u0443\\u0431\\u044a\\u0435\\u043a\\u0442\", \"\\u0441\\u0430\\u0434\", \"\\u0437\\u0430\\u0431\\u043e\\u043b\\u0435\\u0432\\u0430\\u043d\\u0438\\u0435\", \"\\u043a\\u043b\\u0430\\u0441\\u0441\", \"\\u0432\\u0430\\u043a\\u0446\\u0438\\u043d\\u0430\\u0446\\u0438\\u044f\", \"\\u043f\\u0440\\u0438\\u0432\\u0438\\u0432\\u043a\\u0430\", \"\\u043f\\u043e\\u0441\\u0435\\u0442\\u0438\\u0442\\u0435\\u043b\\u044c\", \"\\u0440\\u0430\\u0441\\u043f\\u0440\\u043e\\u0441\\u0442\\u0440\\u0430\\u043d\\u0435\\u043d\\u0438\\u0435\", \"\\u0438\\u0441\\u0441\\u043b\\u0435\\u0434\\u043e\\u0432\\u0430\\u043d\\u0438\\u0435\", \"\\u0443\\u0447\\u0440\\u0435\\u0436\\u0434\\u0435\\u043d\\u0438\\u0435\", \"\\u0432\\u0430\\u043a\\u0446\\u0438\\u043d\\u0430\", \"\\u043f\\u0440\\u0435\\u0434\\u043f\\u0438\\u0441\\u0430\\u043d\\u0438\\u0435\", \"\\u0432\\u0438\\u0440\\u0443\\u0441\", \"\\u043c\\u0430\\u0437\\u043a\\u0430\", \"\\u0438\\u0437\\u043e\\u043b\\u044f\\u0446\\u0438\\u044f\", \"\\u0431\\u0430\\u0441\\u0441\\u0435\\u0439\\u043d\", \"\\u043f\\u0430\\u0446\\u0438\\u0435\\u043d\\u0442\", \"\\u043f\\u043e\\u043b\\u0438\\u043a\\u043b\\u0438\\u043d\\u0438\\u043a\\u0430\", \"\\u0448\\u043a\\u043e\\u043b\\u0430\", \"\\u0432\\u0440\\u0430\\u0447\", \"\\u043d\\u043e\\u0440\\u043c\\u0430\\u0442\\u0438\\u0432\\u043d\\u044b\\u0439\", \"\\u0433\\u043e\\u0441\\u0443\\u0434\\u0430\\u0440\\u0441\\u0442\\u0432\\u0435\\u043d\\u043d\\u044b\\u0439\", \"\\u0440\\u0435\\u0436\\u0438\\u043c\", \"\\u0440\\u0435\\u0431\\u0451\\u043d\\u043e\\u043a\", \"\\u0434\\u0435\\u0442\\u0441\\u043a\\u0438\\u0439\", \"\\u0441\\u043f\\u0440\\u0430\\u0432\\u043a\\u0430\", \"\\u0433\\u0440\\u0443\\u043f\\u043f\\u0430\", \"\\u0440\\u043e\\u0441\\u043f\\u043e\\u0442\\u0440\\u0435\\u0431\\u043d\\u0430\\u0434\\u0437\\u043e\\u0440\", \"\\u0437\\u0434\\u043e\\u0440\\u043e\\u0432\\u044c\\u0435\", \"\\u043f\\u043e\\u0441\\u0442\\u0430\\u043d\\u043e\\u0432\\u043b\\u0435\\u043d\\u0438\\u0435\", \"\\u0447\\u0435\\u043b\\u043e\\u0432\\u0435\\u043a\", \"\\u043a\\u0430\\u043a\\u043e\\u0439\", \"\\u043e\\u0431\\u043b\\u0430\\u0441\\u0442\\u044c\", \"\\u0433\\u0440\\u0430\\u0436\\u0434\\u0430\\u043d\\u0438\\u043d\", \"\\u0434\\u043e\\u0431\\u0440\\u044b\\u0439\", \"\\u043c\\u0435\\u0441\\u0442\\u043e\", \"\\u0440\\u0430\\u0431\\u043e\\u0442\\u0430\", \"\\u0434\\u043e\\u043b\\u0436\\u043d\\u044b\\u0439\", \"\\u0434\\u0435\\u043d\\u044c\", \"\\u043e\\u0440\\u0433\\u0430\\u043d\\u0438\\u0437\\u0430\\u0446\\u0438\\u044f\", \"\\u0433\\u043e\\u0434\", \"\\u043a\\u043e\\u0442\\u043e\\u0440\\u044b\\u0439\", \"\\u043d\\u0430\\u0445\\u043e\\u0434\\u0438\\u0442\\u044c\\u0441\\u044f\", \"\\u0437\\u0434\\u0440\\u0430\\u0432\\u0441\\u0442\\u0432\\u0443\\u0439\\u0442\\u0435\", \"\\u043f\\u0440\\u043e\\u0441\\u0438\\u0442\\u044c\", \"\\u044d\\u0442\\u043e\", \"\\u043a\\u0432\\u0430\\u0440\\u0442\\u0438\\u0440\\u0430\", \"\\u043c\\u0443\\u0441\\u043e\\u0440\", \"\\u0443\\u043a\", \"\\u0436\\u0438\\u043b\\u043e\\u0439\", \"\\u0443\\u043f\\u0440\\u0430\\u0432\\u043b\\u044f\\u0442\\u044c\", \"\\u043f\\u043e\\u0434\\u044a\\u0435\\u0437\\u0434\", \"\\u0441\\u043e\\u0431\\u0441\\u0442\\u0432\\u0435\\u043d\\u043d\\u0438\\u043a\", \"\\u043a\\u043e\\u043d\\u0442\\u0435\\u0439\\u043d\\u0435\\u0440\", \"\\u0443\\u0447\\u0430\\u0441\\u0442\\u043e\\u043a\", \"\\u0436\\u0438\\u043b\\u0435\\u0446\", \"\\u0432\\u044b\\u0432\\u043e\\u0437\", \"\\u043c\\u043d\\u043e\\u0433\\u043e\\u043a\\u0432\\u0430\\u0440\\u0442\\u0438\\u0440\\u043d\\u044b\\u0439\", \"\\u0448\\u0443\\u043c\", \"\\u0441\\u043e\\u0441\\u0435\\u0434\", \"\\u043e\\u0442\\u0445\\u043e\\u0434\", \"\\u043e\\u0442\\u043e\\u043f\\u043b\\u0435\\u043d\\u0438\\u0435\", \"\\u0442\\u0440\\u0443\\u0431\\u0430\", \"\\u0432\\u043e\\u0434\\u043e\\u0441\\u043d\\u0430\\u0431\\u0436\\u0435\\u043d\\u0438\\u0435\", \"\\u043c\\u0443\\u0441\\u043e\\u0440\\u043d\\u044b\\u0439\", \"\\u0434\\u043e\\u043f\\u0443\\u0441\\u043a\", \"\\u0434\\u0432\\u043e\\u0440\", \"\\u0445\\u043e\\u043b\\u043e\\u0434\\u043d\\u044b\\u0439\", \"\\u0432\\u044b\\u0432\\u043e\\u0437\\u0438\\u0442\\u044c\", \"\\u043d\\u043e\\u0447\\u043d\\u043e\\u0439\", \"\\u043f\\u043e\\u0434\\u0432\\u0430\\u043b\", \"\\u0433\\u0430\\u0437\\u043e\\u0432\\u044b\\u0439\", \"\\u0442\\u043a\\u043e\", \"\\u0431\\u0430\\u043a\", \"\\u0437\\u0430\\u0441\\u0442\\u0440\\u043e\\u0439\\u0449\\u0438\\u043a\", \"\\u0441\\u043d\\u0442\", \"\\u0432\\u043e\\u0434\\u0430\", \"\\u043e\\u043a\\u043d\\u043e\", \"\\u0436\\u0438\\u0442\\u0435\\u043b\\u044c\", \"\\u0434\\u043e\\u043c\", \"\\u043a\\u043e\\u043c\\u043c\\u0443\\u043d\\u0430\\u043b\\u044c\\u043d\\u044b\\u0439\", \"\\u043f\\u043e\\u043c\\u0435\\u0449\\u0435\\u043d\\u0438\\u0435\", \"\\u0441\\u0442\\u0435\\u043d\\u0430\", \"\\u043f\\u043b\\u043e\\u0449\\u0430\\u0434\\u043a\\u0430\", \"\\u0437\\u0430\\u043f\\u0430\\u0445\", \"\\u044d\\u0442\\u0430\\u0436\", \"\\u0440\\u0430\\u0439\\u043e\\u043d\", \"\\u043f\\u0440\\u043e\\u0436\\u0438\\u0432\\u0430\\u0442\\u044c\", \"\\u043d\\u0430\\u0448\", \"\\u0443\\u043b\\u0438\\u0446\\u0430\", \"\\u043a\\u0432\", \"\\u0443\\u043b\", \"\\u0430\\u0434\\u0440\\u0435\\u0441\", \"\\u0433\\u043e\\u0434\", \"\\u043a\\u043e\\u043c\\u043f\\u0430\\u043d\\u0438\\u044f\", \"\\u043f\\u0440\\u043e\\u0441\\u0438\\u0442\\u044c\", \"\\u0434\\u0430\\u043b\\u0435\\u0435\", \"\\u0433\", \"\\u043a\\u043e\\u0442\\u043e\\u0440\\u044b\\u0439\", \"\\u0434\\u0435\\u043d\\u044c\", \"\\u043e\\u0431\\u0440\\u0430\\u0449\\u0435\\u043d\\u0438\\u0435\", \"\\u0432\\u0440\\u0435\\u043c\\u044f\", \"\\u0431\\u0430\\u043d\\u043a\", \"\\u043a\\u0440\\u0435\\u0434\\u0438\\u0442\", \"\\u0441\\u0431\\u0435\\u0440\\u0431\\u0430\\u043d\\u043a\", \"\\u043c\\u0442\\u0441\", \"\\u043a\\u0440\\u0435\\u0434\\u0438\\u0442\\u043d\\u044b\\u0439\", \"\\u0437\\u0430\\u0434\\u043e\\u043b\\u0436\\u0435\\u043d\\u043d\\u043e\\u0441\\u0442\\u044c\", \"\\u0434\\u043e\\u043b\\u0433\", \"\\u0440\\u043e\\u0441\\u0442\\u0435\\u043b\\u0435\\u043a\\u043e\\u043c\", \"\\u0441\\u043f\\u0438\\u0441\\u0430\\u043d\\u0438\\u0435\", \"\\u043f\\u043e\\u0434\\u043f\\u0438\\u0441\\u043a\\u0430\", \"\\u0432\\u0442\\u0431\", \"\\u043c\\u0435\\u0433\\u0430\\u0444\\u043e\\u043d\", \"\\u0430\\u0431\\u043e\\u043d\\u0435\\u043d\\u0442\", \"\\u043b\\u0438\\u0446\\u0435\\u0432\\u043e\\u0439\", \"\\u043f\\u043e\\u0433\\u0430\\u0448\\u0435\\u043d\\u0438\\u0435\", \"\\u0431\\u0430\\u043b\\u0430\\u043d\\u0441\", \"\\u043f\\u043b\\u0430\\u0442\\u0451\\u0436\\u043d\\u044b\\u0439\", \"\\u0430\\u0431\\u043e\\u043d\\u0435\\u043d\\u0442\\u0441\\u043a\\u0438\\u0439\", \"\\u043f\\u0440\\u043e\\u0432\\u0430\\u0439\\u0434\\u0435\\u0440\", \"\\u0441\\u0438\\u0435\", \"\\u0441\\u0442\\u0430\\u0432\\u043a\\u0430\", \"\\u043f\\u043e\\u0433\\u0430\\u0441\\u0438\\u0442\\u044c\", \"\\u043f\\u0440\\u0438\\u0432\\u044f\\u0437\\u0430\\u0442\\u044c\", \"\\u0442\\u0430\\u0440\\u0438\\u0444\\u043d\\u044b\\u0439\", \"\\u0435\\u0436\\u0435\\u043c\\u0435\\u0441\\u044f\\u0447\\u043d\\u044b\\u0439\", \"\\u043c\\u043e\\u0441\\u044d\\u043d\\u0435\\u0440\\u0433\\u043e\\u0441\\u0431\\u044b\\u0442\", \"\\u0432\\u043d\\u043e\\u0441\\u0438\\u0442\\u044c\", \"\\u0442\\u0435\\u043b\\u0435\\u0432\\u0438\\u0434\\u0435\\u043d\\u0438\\u0435\", \"\\u0434\\u043e\\u0441\\u0440\\u043e\\u0447\\u043d\\u044b\\u0439\", \"\\u0431\\u043b\\u043e\\u043a\\u0438\\u0440\\u043e\\u0432\\u043a\\u0430\", \"\\u043f\\u0430\\u043e\", \"\\u0442\\u0430\\u0440\\u0438\\u0444\", \"\\u043f\\u043b\\u0430\\u0442\\u0451\\u0436\", \"\\u0440\\u0430\\u0441\\u0441\\u0440\\u043e\\u0447\\u043a\\u0430\", \"\\u043a\\u0430\\u0440\\u0442\\u0430\", \"\\u0441\\u0447\\u0451\\u0442\", \"\\u0440\\u0430\\u0441\\u0447\\u0451\\u0442\\u043d\\u044b\\u0439\", \"\\u0431\\u0438\\u043b\\u0430\\u0439\\u043d\", \"\\u043f\\u043e\\u0434\\u043a\\u043b\\u044e\\u0447\\u0438\\u0442\\u044c\", \"\\u0431\\u0430\\u043d\\u043a\\u043e\\u0432\\u0441\\u043a\\u0438\\u0439\", \"\\u043f\\u043e\\u043a\\u0430\\u0437\\u0430\\u043d\\u0438\\u0435\", \"\\u043f\\u043b\\u0430\\u0442\\u0430\", \"\\u043f\\u0440\\u043e\\u0446\\u0435\\u043d\\u0442\", \"\\u0443\\u0441\\u043b\\u0443\\u0433\\u0430\", \"\\u043e\\u043f\\u043b\\u0430\\u0442\\u0430\", \"\\u043f\\u043e\\u0434\\u043a\\u043b\\u044e\\u0447\\u0435\\u043d\\u0438\\u0435\", \"\\u043e\\u043f\\u0435\\u0440\\u0430\\u0446\\u0438\\u044f\", \"\\u043e\\u043f\\u0435\\u0440\\u0430\\u0442\\u043e\\u0440\", \"\\u0441\\u0443\\u043c\\u043c\\u0430\", \"\\u043f\\u0435\\u0440\\u0435\\u0432\\u043e\\u0434\", \"\\u0440\\u0443\\u0431\", \"\\u043c\\u043e\\u0439\", \"\\u043b\\u0438\\u0447\\u043d\\u044b\\u0439\", \"\\u0440\\u0443\\u0431\\u043b\\u044c\", \"\\u0441\\u0432\\u044f\\u0437\\u044c\", \"\\u0438\\u043d\\u0442\\u0435\\u0440\\u043d\\u0435\\u0442\", \"\\u0434\\u043e\\u0433\\u043e\\u0432\\u043e\\u0440\", \"\\u043c\\u0435\\u0441\\u044f\\u0446\", \"\\u0433\\u043e\\u0434\", \"\\u043a\\u043e\\u0442\\u043e\\u0440\\u044b\\u0439\", \"\\u043d\\u043e\\u043c\\u0435\\u0440\", \"\\u0441\\u0440\\u0435\\u0434\\u0441\\u0442\\u0432\\u043e\", \"\\u0434\\u0435\\u043d\\u044c\\u0433\\u0430\", \"\\u043f\\u0440\\u043e\\u0441\\u0438\\u0442\\u044c\", \"\\u0434\\u0430\\u0442\\u044c\", \"\\u043e\\u043f\\u043b\\u0430\\u0442\\u0438\\u0442\\u044c\", \"\\u044d\\u0442\\u043e\", \"\\u0434\\u0435\\u043d\\u044c\", \"\\u0441\\u0442\\u0430\\u0442\\u044c\\u044f\", \"\\u0437\\u0430\\u0449\\u0438\\u0442\\u0430\", \"\\u043d\\u0435\\u043f\\u0440\\u043e\\u0434\\u043e\\u0432\\u043e\\u043b\\u044c\\u0441\\u0442\\u0432\\u0435\\u043d\\u043d\\u044b\\u0439\", \"\\u0433\\u0440\\u0430\\u0436\\u0434\\u0430\\u043d\\u0441\\u043a\\u0438\\u0439\", \"\\u0440\\u043e\\u0437\\u043d\\u0438\\u0447\\u043d\\u044b\\u0439\", \"\\u043a\\u043e\\u0434\\u0435\\u043a\\u0441\", \"\\u0444\\u0437\", \"\\u043f\\u0440\\u0435\\u0434\\u043f\\u0440\\u0438\\u043d\\u0438\\u043c\\u0430\\u0442\\u0435\\u043b\\u044c\", \"\\u0441\\u0442\", \"\\u0440\\u0435\\u0441\\u043f\\u0438\\u0440\\u0430\\u0442\\u043e\\u0440\", \"\\u043f\\u0440\\u0435\\u0434\\u043f\\u0440\\u0438\\u043d\\u0438\\u043c\\u0430\\u0442\\u0435\\u043b\\u044c\\u0441\\u043a\\u0438\\u0439\", \"\\u0443\\u0449\\u0435\\u043c\\u043b\\u044f\\u0442\\u044c\", \"\\u0438\\u043d\\u0434\\u0438\\u0432\\u0438\\u0434\\u0443\\u0430\\u043b\\u044c\\u043d\\u044b\\u0439\", \"\\u0438\\u0441\\u043a\\u043b\\u044e\\u0447\\u0438\\u0442\\u0435\\u043b\\u044c\\u043d\\u043e\", \"\\u043c\\u044d\\u0440\", \"\\u043f\\u043e\\u0442\\u0440\\u0435\\u0431\\u0438\\u0442\\u0435\\u043b\\u0435\\u0439\\\"\", \"\\u043f\\u0440\\u0435\\u0434\\u0443\\u0441\\u043c\\u043e\\u0442\\u0440\\u0435\\u043d\\u043d\\u044b\\u0439\", \"\\u0447\\u0435\\u043b\\u043d\\u044b\", \"\\u043d\\u0430\\u0431\\u0435\\u0440\\u0435\\u0436\\u043d\\u044b\\u0439\", \"\\u0442\\u0440\\u0438\\u0441\\u0442\\u0430\", \"\\u043f\\u0440\\u043e\\u0434\\u043e\\u0432\\u043e\\u043b\\u044c\\u0441\\u0442\\u0432\\u0435\\u043d\\u043d\\u044b\\u0439\", \"\\u0441\\u0432\\u043e\\u0439\\u0441\\u0442\\u0432\\u043e\", \"\\u0444\\u0435\\u0434\\u0435\\u0440\\u0430\\u043b\\u044c\\u043d\\u044b\\u0439\", \"\\u043f\\u0443\\u0431\\u043b\\u0438\\u0447\\u043d\\u044b\\u0439\", \"\\u043e\\u0431\\u0441\\u043b\\u0443\\u0436\\u0438\\u0442\\u044c\", \"\\u0442\\u0430\\u0431\\u043b\\u0435\\u0442\\u043a\\u0430\", \"\\u043f\\u043e\\u0434\\u043b\\u0435\\u0436\\u0430\\u0449\\u0435\\u0435\", \"\\u044f\\u0440\\u043b\\u044b\\u043a\", \"\\u0442\\u043e\\u0440\\u0442\", \"\\u0438\\u043d\\u043e\\u0439\", \"\\u043f\\u043e\\u0442\\u0440\\u0435\\u0431\\u0438\\u0442\\u0435\\u043b\\u044c\", \"\\u0444\\u0435\\u0434\\u0435\\u0440\\u0430\\u0446\\u0438\\u044f\", \"\\u0437\\u0430\\u043a\\u043e\\u043d\", \"\\u043f\\u0440\\u0430\\u0432\\u043e\\u0432\\u043e\\u0439\", \"\\u0430\\u0434\\u043c\\u0438\\u043d\\u0438\\u0441\\u0442\\u0440\\u0430\\u0442\\u0438\\u0432\\u043d\\u044b\\u0439\", \"\\u0440\\u043e\\u0441\\u0441\\u0438\\u0439\\u0441\\u043a\\u0438\\u0439\", \"\\u043a\\u0443\\u043f\\u043b\\u0438\\u043f\\u0440\\u043e\\u0434\\u0430\\u0436\\u0430\", \"\\u043f\\u0440\\u0438\\u043e\\u0431\\u0440\\u0435\\u0442\\u0435\\u043d\\u0438\\u0435\", \"\\\"\\u043e\", \"\\u043f\\u0440\\u043e\\u0434\\u0430\\u0436\\u0430\", \"\\u043e\\u0441\\u0443\\u0449\\u0435\\u0441\\u0442\\u0432\\u043b\\u044f\\u0442\\u044c\", \"\\u0440\\u0444\", \"\\u043f\\u0440\\u0430\\u0432\\u043e\", \"\\u0437\\u0430\\u043a\\u043e\\u043d\\u043e\\u0434\\u0430\\u0442\\u0435\\u043b\\u044c\\u0441\\u0442\\u0432\\u043e\", \"\\u043e\\u0440\\u0433\\u0430\\u043d\", \"\\u043b\\u0438\\u0446\\u043e\", \"\\u043f\\u0443\\u043d\\u043a\\u0442\", \"\\u043f\\u0440\\u043e\\u0434\\u0443\\u043a\\u0442\", \"\\u043f\\u043e\\u043a\\u0443\\u043f\\u0430\\u0442\\u0435\\u043b\\u044c\", \"\\u0442\\u043e\\u0432\\u0430\\u0440\", \"\\u043e\\u0442\\u043a\\u0430\\u0437\", \"\\u0447\\u0430\\u0441\\u0442\\u044c\", \"\\u043f\\u0438\\u0442\\u0430\\u043d\\u0438\\u0435\", \"\\u043d\\u0430\\u0440\\u0443\\u0448\\u0435\\u043d\\u0438\\u0435\", \"\\u0441\\u043b\\u0443\\u0447\\u0430\\u0439\", \"\\u043f\", \"\\u044f\\u0432\\u043b\\u044f\\u0442\\u044c\\u0441\\u044f\", \"\\u0441\\u0440\\u0435\\u0434\\u0441\\u0442\\u0432\\u043e\", \"\\u0434\\u043e\\u0433\\u043e\\u0432\\u043e\\u0440\", \"\\u043e\\u0442\\u043a\\u0430\\u0437\\u0430\\u0442\\u044c\", \"\\u0438\\u043c\\u0435\\u0442\\u044c\", \"\\u043f\\u043e\\u0447\\u0442\\u043e\\u0432\\u044b\\u0439\", \"\\u043b\\u0430\\u0431\\u043e\\u0440\\u0430\\u0442\\u043e\\u0440\\u0438\\u044f\", \"\\u0441\\u043a\\u0430\\u043d\", \"\\u0437\\u0430\\u044f\\u0432\\u0438\\u0442\\u0435\\u043b\\u044c\", \"\\u044d\\u043b\\u043f\\u043e\\u0447\\u0442\\u0430\", \"\\u044e\\u0440\", \"\\u0434\\u0438\\u0441\\u043a\", \"\\u0438\\u043d\\u0436\\u0435\\u043d\\u0435\\u0440\", \"\\u0440\\u043e\\u0437\\u044b\\u0441\\u043a\", \"\\u0447\\u0435\\u0445\\u043e\\u043b\", \"\\u0441\\u0430\\u043c\\u0430\\u0440\\u0430\", \"\\u0432\\u044b\\u0434\\u0430\\u0432\\u0430\\u0442\\u044c\\u0441\\u044f\", \"\\u0430\\u0437\\u0441\", \"\\u0430\\u043b\\u0435\\u043a\\u0441\\u0435\\u0435\\u0432\\u0438\\u0447\", \"\\u043f\\u0435\\u0440\\u0435\\u0441\\u044b\\u043b\\u043a\\u0430\", \"\\u0438\\u0437\\u0432\\u0435\\u0449\\u0435\\u043d\\u0438\\u0435\", \"\\u043d\\u043e\\u0432\\u043e\\u0441\\u0438\\u0431\\u0438\\u0440\\u0441\\u043a\\u0438\\u0439\", \"\\u0445\\u0438\\u043c\\u0447\\u0438\\u0441\\u0442\\u043a\\u0430\", \"\\u0438\\u0441\\u043f\\u044b\\u0442\\u0430\\u043d\\u0438\\u0435\", \"\\u0440\\u0435\\u0433\\u0438\\u0441\\u0442\\u0440\\u0430\\u0446\\u0438\\u043e\\u043d\\u043d\\u044b\\u0439\", \"\\u0434\\u043e\\u043d\", \"\\u043f\\u043e\\u0434\\u0434\\u0435\\u043b\\u044c\\u043d\\u044b\\u0439\", \"\\u0432\\u0435\\u0442\\u0435\\u0440\\u0438\\u043d\\u0430\\u0440\\u043d\\u044b\\u0439\", \"\\u0432\\u043b\\u043e\\u0436\\u0438\\u0442\\u044c\", \"\\u0432\\u043a\\u0443\\u0441\\u0432\\u0438\\u043b\\u043b\", \"\\u0438\\u043d\\u0441\\u0442\\u0438\\u0442\\u0443\\u0442\", \"\\u0430\\u043a\\u0442\\u0438\\u0432\\u0430\\u0446\\u0438\\u044f\", \"\\u0441\\u0442\\u043e\\u043b\\u0435\\u0448\\u043d\\u0438\\u0446\\u0430\", \"\\u0434\\u044b\\u0440\\u043a\\u0430\", \"\\u043a\\u043e\\u043e\\u0440\\u0434\\u0438\\u043d\\u0430\\u0442\\u0430\", \"\\u043a\\u0430\\u0437\\u0430\\u043d\\u044c\", \"\\u043f\\u0435\\u0447\\u0430\\u0442\\u044c\", \"\\u0441\\u0432\\u0435\\u0442\\u043b\\u0430\\u043d\\u0430\", \"\\u043f\\u0440\\u043e\\u0444\\u0438\\u043b\\u044c\", \"\\u043a\\u043e\\u043f\\u0438\\u044f\", \"\\u043f\\u0430\\u0441\\u043f\\u043e\\u0440\\u0442\", \"\\u0441\\u0435\\u0440\\u0433\\u0435\\u0435\\u0432\\u0438\\u0447\", \"\\u044d\\u043b\\u0435\\u043a\\u0442\\u0440\\u043e\\u043d\\u043d\\u044b\\u0439\", \"\\u043f\\u043e\\u0447\\u0442\\u0430\", \"\\u0432\\u043b\\u0430\\u0434\\u0438\\u043c\\u0438\\u0440\\u043e\\u0432\\u0438\\u0447\", \"\\u0444\\u0438\\u043e\", \"\\u0431\\u0443\\u0445\\u0433\\u0430\\u043b\\u0442\\u0435\\u0440\\u0438\\u044f\", \"\\u043f\\u043e\\u0434\\u043f\\u0438\\u0441\\u044c\", \"\\u0434\\u043e\\u043a\\u0443\\u043c\\u0435\\u043d\\u0442\", \"\\u0441\\u0430\\u0440\\u0430\\u0442\\u043e\\u0432\", \"\\u0444\\u0430\\u0439\\u043b\", \"\\u043d\\u0430\\u043f\\u0440\\u0430\\u0432\\u0438\\u0442\\u044c\", \"\\u0433\\u0435\\u043d\\u0435\\u0440\\u0430\\u043b\\u044c\\u043d\\u044b\\u0439\", \"\\u043f\\u0438\\u0441\\u044c\\u043c\\u043e\", \"\\u043e\\u0442\\u0434\\u0435\\u043b\\u0435\\u043d\\u0438\\u0435\", \"\\u0438\\u043d\\u043d\\u0430\", \"\\u043e\\u0442\\u0432\\u0435\\u0442\", \"\\u043f\\u0440\\u0435\\u0434\\u043e\\u0441\\u0442\\u0430\\u0432\\u0438\\u0442\\u044c\", \"\\u0430\\u0434\\u0440\\u0435\\u0441\", \"\\u043e\\u0444\\u0438\\u0446\\u0438\\u0430\\u043b\\u044c\\u043d\\u044b\\u0439\", \"\\u0438\\u043c\\u044f\", \"\\u043d\\u043e\\u043c\\u0435\\u0440\", \"\\u0438\\u043d\\u0444\\u043e\\u0440\\u043c\\u0430\\u0446\\u0438\\u044f\", \"\\u043e\\u043e\\u043e\", \"\\u0437\\u0430\\u044f\\u0432\\u043b\\u0435\\u043d\\u0438\\u0435\", \"\\u044e\\u0440\\u0438\\u0434\\u0438\\u0447\\u0435\\u0441\\u043a\\u0438\\u0439\", \"\\u0433\", \"\\u043c\\u043e\\u0439\", \"\\u0434\\u0430\\u043d\\u043d\\u044b\\u0435\", \"\\u0434\\u0430\\u0442\\u044c\", \"\\u043f\\u043e\\u043b\\u0443\\u0447\\u0438\\u0442\\u044c\", \"\\u0436\\u0430\\u043b\\u043e\\u0431\\u0430\", \"\\u0441\\u0430\\u0439\\u0442\", \"\\u043f\\u0440\\u043e\\u0441\\u0438\\u0442\\u044c\", \"\\u043e\\u0431\\u0440\\u0430\\u0449\\u0435\\u043d\\u0438\\u0435\", \"\\u044f\", \"\\u0434\\u0430\\u043b\\u0435\\u0435\", \"\\u043e\\u0442\\u043f\\u0440\\u0430\\u0432\\u0438\\u0442\\u044c\", \"\\u043f\\u0440\\u0435\\u0442\\u0435\\u043d\\u0437\\u0438\\u044f\", \"\\u0441\\u043e\\u0442\\u0440\\u0443\\u0434\\u043d\\u0438\\u043a\", \"\\u0442\\u0435\\u043b\\u0435\\u0444\\u043e\\u043d\", \"\\u0442\\u0430\\u043a\\u0436\\u0435\", \"\\u043a\\u043e\\u043c\\u043f\\u0430\\u043d\\u0438\\u044f\", \"\\u043a\\u043e\\u0442\\u043e\\u0440\\u044b\\u0439\", \"\\u0440\\u043e\\u0441\\u0441\\u0438\\u044f\", \"\\u0443\\u043a\\u0430\\u0437\\u0430\\u0442\\u044c\", \"\\u0441\\u0438\\u0433\\u0430\\u0440\\u0435\\u0442\\u0430\", \"\\u0441\\u0432\\u044f\\u0437\\u043d\\u044b\\u0439\", \"\\u043f\\u0438\\u0432\\u043e\", \"\\u0442\\u0430\\u0431\\u0430\\u0447\\u043d\\u044b\\u0439\", \"\\u043a\\u043d\\u0438\\u0436\\u043a\\u0430\", \"\\u0430\\u043b\\u043a\\u043e\\u0433\\u043e\\u043b\\u044c\\u043d\\u044b\\u0439\", \"\\u0441\\u044b\\u0440\", \"\\u0440\\u044b\\u0431\\u0430\", \"\\u043f\\u043b\\u0438\\u0442\\u043a\\u0430\", \"\\u0445\\u043e\\u0437\\u044f\\u0439\\u0441\\u0442\\u0432\\u043e\\u0432\\u0430\\u0442\\u044c\", \"\\u043f\\u043e\\u0434\\u0440\\u044f\\u0434\\u0447\\u0438\\u043a\", \"\\u043f\\u0440\\u0438\\u043b\\u0430\\u0432\\u043e\\u043a\", \"\\u043f\\u0440\\u043e\\u0431\\u0438\\u0442\\u044c\", \"\\u0431\\u0430\\u043b\\u043a\\u043e\\u043d\", \"\\u043f\\u0440\\u043e\\u0434\\u0443\\u043a\\u0442\\u043e\\u0432\\u044b\\u0439\", \"\\u043e\\u0442\\u0440\\u0430\\u0432\\u043b\\u0435\\u043d\\u0438\\u0435\", \"\\u043f\\u043e\\u043b\\u043a\\u0430\", \"\\u043f\\u0430\\u0440\\u043a\", \"\\u043d\\u0430\\u043a\\u043e\\u043f\\u043b\\u0435\\u043d\\u0438\\u0435\", \"\\u043c\\u043e\\u043b\\u043e\\u0447\\u043d\\u044b\\u0439\", \"\\u0432\\u0438\\u0431\\u0440\\u0430\\u0446\\u0438\\u044f\", \"\\u043b\\u0435\\u043d\\u0438\\u043d\\u0441\\u043a\\u0438\\u0439\", \"\\u0431\\u0430\\u0440\", \"\\u043f\\u0430\\u0432\\u0438\\u043b\\u044c\\u043e\\u043d\", \"\\u0434\\u0438\\u043a\\u0441\\u0438\", \"\\u043f\\u043e\\u0441\\u0443\\u0434\\u0430\", \"\\u043a\\u0430\\u0448\\u043b\\u044f\\u0442\\u044c\", \"\\u0441\\u0430\\u043d\", \"\\u0444\\u0440\\u0443\\u043a\\u0442\", \"\\u0432\\u044b\\u043a\\u043b\\u0430\\u0434\\u043a\\u0430\", \"\\u043b\\u0435\\u043d\\u0438\\u043d\", \"\\u043c\\u0430\\u0433\\u043d\\u0438\\u0442\", \"\\u043e\\u0445\\u0440\\u0430\\u043d\\u043d\\u0438\\u043a\", \"\\u043f\\u0440\\u043e\\u0434\\u0443\\u043a\\u0446\\u0438\\u044f\", \"\\u0437\\u0430\\u043c\\u0435\\u0447\\u0430\\u043d\\u0438\\u0435\", \"\\u0437\\u0430\\u0432\\u0435\\u0434\\u0435\\u043d\\u0438\\u0435\", \"\\u043f\\u0440\\u043e\\u0434\\u0430\\u0432\\u0430\\u0442\\u044c\", \"\\u043a\\u0430\\u0441\\u0441\\u0438\\u0440\", \"\\u043f\\u0440\\u043e\\u0441\\u043f\\u0435\\u043a\\u0442\", \"\\u0442\\u043e\\u0447\\u043a\\u0430\", \"\\u0443\\u043b\", \"\\u043f\\u044f\\u0442\\u0451\\u0440\\u043e\\u0447\\u043a\\u0430\", \"\\u0435\\u0434\\u0430\", \"\\u0433\\u0440\\u044f\\u0437\\u043d\\u044b\\u0439\", \"\\u0430\\u0434\\u0440\\u0435\\u0441\", \"\\u043c\\u0435\\u0440\\u0430\", \"\\u043c\\u0430\\u0433\\u0430\\u0437\\u0438\\u043d\", \"\\u0440\\u0430\\u0441\\u043f\\u043e\\u043b\\u043e\\u0436\\u0438\\u0442\\u044c\", \"\\u043a\\u0430\\u0441\\u0441\\u0430\", \"\\u0437\\u0434\\u043e\\u0440\\u043e\\u0432\\u044b\\u0439\", \"\\u043f\\u0440\\u043e\\u0432\\u0435\\u0440\\u043a\\u0430\", \"\\u0442\\u0446\", \"\\u043f\\u0440\\u043e\\u0432\\u0435\\u0441\\u0442\\u0438\", \"\\u043f\\u0440\\u043e\\u0441\\u0438\\u0442\\u044c\", \"\\u0434\\u0430\\u043b\\u0435\\u0435\", \"\\u043f\\u0440\\u043e\\u0434\\u0443\\u043a\\u0442\", \"\\u0433\", \"\\u0442\\u043e\\u0440\\u0433\\u043e\\u0432\\u044b\\u0439\", \"\\u043f\\u0440\\u0438\\u043d\\u044f\\u0442\\u044c\", \"\\u0434\\u0430\\u043d\\u043d\\u044b\\u0439\", \"\\u0437\\u0430\\u043b\", \"\\u0443\\u043b\\u0438\\u0446\\u0430\", \"\\u043d\\u0430\\u0445\\u043e\\u0434\\u0438\\u0442\\u044c\\u0441\\u044f\", \"\\u043f\\u0440\\u043e\\u0432\\u0435\\u0440\\u0438\\u0442\\u044c\", \"\\u0433\\u043e\\u0440\\u043e\\u0434\", \"\\u0441\\u043e\\u0442\\u0440\\u0443\\u0434\\u043d\\u0438\\u043a\", \"\\u043d\\u0430\\u0440\\u0443\\u0448\\u0435\\u043d\\u0438\\u0435\", \"\\u0440\\u0430\\u0431\\u043e\\u0442\\u0430\\u0442\\u044c\", \"\\u043e\\u0431\\u043b\\u0430\\u0441\\u0442\\u044c\", \"\\u043f\\u043e\\u043a\\u0443\\u043f\\u0430\\u0442\\u0435\\u043b\\u044c\", \"\\u043f\\u0440\\u043e\\u0441\\u044c\\u0431\\u0430\", \"\\u044d\\u0442\\u043e\", \"\\u0441\\u0435\\u0440\\u0432\\u0438\\u0441\\u043d\\u044b\\u0439\", \"\\u200b\", \"\\u043d\\u0435\\u0438\\u0441\\u043f\\u0440\\u0430\\u0432\\u043d\\u043e\\u0441\\u0442\\u044c\", \"\\u0434\\u0438\\u0430\\u0433\\u043d\\u043e\\u0441\\u0442\\u0438\\u043a\\u0430\", \"\\u0434\\u0438\\u0430\\u0433\\u043d\\u043e\\u0441\\u0442\\u0438\\u043a\", \"\\u043d\\u0435\\u0438\\u0441\\u043f\\u0440\\u0430\\u0432\\u043d\\u044b\\u0439\", \"\\u043e\\u0442\\u0434\\u0435\\u043b\\u044c\\u043d\\u043e\\u0441\\u0442\\u044c\", \"\\u043e\\u0442\\u0440\\u0435\\u043c\\u043e\\u043d\\u0442\\u0438\\u0440\\u043e\\u0432\\u0430\\u0442\\u044c\", \"\\u043f\\u043e\\u043b\\u043e\\u043c\\u043a\\u0430\", \"\\u0441\\u0442\\u0440\\u043e\\u0439\", \"\\u0430\\u043a\\u043a\\u0443\\u043c\\u0443\\u043b\\u044f\\u0442\\u043e\\u0440\", \"\\u0434\\u0438\\u0441\\u043f\\u043b\\u0435\\u0439\", \"\\u0433\\u0435\\u0440\\u043c\\u0430\\u043d\\u0438\\u044f\", \"\\u043f\\u043b\\u0438\\u0442\\u0430\", \"\\u0444\\u0438\\u043b\\u044c\\u0442\\u0440\", \"\\u0430\\u0432\\u0442\\u043e\\u0441\\u0430\\u043b\\u043e\\u043d\", \"\\u0434\\u0432\\u0438\\u0433\\u0430\\u0442\\u0435\\u043b\\u044c\", \"\\u0441\\u0430\\u043d\\u0442\\u0435\\u0445\\u043d\\u0438\\u043a\", \"\\u043a\\u0430\\u0431\\u0435\\u043b\\u044c\", \"\\u043c\\u0435\\u0445\\u0430\\u043d\\u0438\\u0447\\u0435\\u0441\\u043a\\u0438\\u0439\", \"\\u043c\\u043e\\u043d\\u0438\\u0442\\u043e\\u0440\", \"\\u043c\\u043e\\u0434\\u0443\\u043b\\u044c\", \"\\u0430\\u0432\\u0430\", \"\\u0434\\u043d\\u0441\", \"\\u0432\\u0435\\u043b\\u043e\\u0441\\u0438\\u043f\\u0435\\u0434\", \"\\u043c\\u0430\\u0441\\u0442\\u0435\\u0440\\u0441\\u043a\\u0430\\u044f\", \"\\u0442\\u0431\\u043e\", \"\\u043c\\u043e\\u043d\\u0442\\u0430\\u0436\", \"\\u0434\\u0438\\u043b\\u0435\\u0440\", \"\\u043a\\u0443\\u0445\\u043e\\u043d\\u043d\\u044b\\u0439\", \"\\u0442\\u0435\\u043b\\u0435\\u0432\\u0438\\u0437\\u043e\\u0440\", \"\\u044d\\u043a\\u0440\\u0430\\u043d\", \"\\u0440\\u0435\\u043c\\u043e\\u043d\\u0442\", \"\\u043d\\u043e\\u0443\\u0442\\u0431\\u0443\\u043a\", \"\\u0433\\u0430\\u0440\\u0430\\u043d\\u0442\\u0438\\u044f\", \"\\u0443\\u0441\\u0442\\u0440\\u043e\\u0439\\u0441\\u0442\\u0432\\u043e\", \"\\u0433\\u0430\\u0440\\u0430\\u043d\\u0442\\u0438\\u0439\\u043d\\u044b\\u0439\", \"\\u0437\\u0430\\u043c\\u0435\\u043d\\u0430\", \"\\u0445\\u043e\\u043b\\u043e\\u0434\\u0438\\u043b\\u044c\\u043d\\u0438\\u043a\", \"\\u0442\\u0435\\u0445\\u043d\\u0438\\u043a\\u0430\", \"\\u0434\\u0435\\u0442\\u0430\\u043b\\u044c\", \"\\u0430\\u043f\\u043f\\u0430\\u0440\\u0430\\u0442\", \"\\u0441\\u043c\\u0430\\u0440\\u0442\\u0444\\u043e\\u043d\", \"\\u0446\\u0435\\u043d\\u0442\\u0440\", \"\\u0430\\u0432\\u0442\\u043e\\u043c\\u043e\\u0431\\u0438\\u043b\\u044c\", \"\\u0430\\u043a\\u0442\", \"\\u043c\\u0430\\u0441\\u0442\\u0435\\u0440\", \"\\u043d\\u0435\\u0434\\u043e\\u0441\\u0442\\u0430\\u0442\\u043e\\u043a\", \"\\u043f\\u043e\\u0432\\u0440\\u0435\\u0436\\u0434\\u0435\\u043d\\u0438\\u0435\", \"\\u0441\\u043b\\u043e\\u043c\\u0430\\u0442\\u044c\\u0441\\u044f\", \"\\u0437\\u0430\\u043c\\u0435\\u043d\\u0438\\u0442\\u044c\", \"\\u0443\\u0441\\u0442\\u0430\\u043d\\u043e\\u0432\\u043a\\u0430\", \"\\u0442\\u0435\\u043b\\u0435\\u0444\\u043e\\u043d\", \"\\u0441\\u0435\\u0440\\u0432\\u0438\\u0441\", \"\\u044d\\u043a\\u0441\\u043f\\u043b\\u0443\\u0430\\u0442\\u0430\\u0446\\u0438\\u044f\", \"\\u0433\\u043e\\u0434\", \"\\u0441\\u0440\\u043e\\u043a\", \"\\u0440\\u0430\\u0431\\u043e\\u0442\\u0430\", \"\\u0433\", \"\\u0440\\u0430\\u0431\\u043e\\u0442\\u0430\\u0442\\u044c\", \"\\u043d\\u043e\\u0432\\u044b\\u0439\", \"\\u043e\\u0431\\u0440\\u0430\\u0442\\u0438\\u0442\\u044c\\u0441\\u044f\", \"\\u043f\\u0440\\u043e\\u0432\\u0435\\u0440\\u043a\\u0430\", \"\\u0443\\u0441\\u0442\\u0430\\u043d\\u043e\\u0432\\u0438\\u0442\\u044c\", \"\\u0433\\u043a\", \"\\u0440\\u0435\\u0439\\u0441\", \"\\u0430\\u0432\\u0438\\u0430\\u043a\\u043e\\u043c\\u043f\\u0430\\u043d\\u0438\\u044f\", \"\\u043f\\u0430\\u0441\\u0441\\u0430\\u0436\\u0438\\u0440\", \"\\u0432\\u044b\\u043b\\u0435\\u0442\", \"\\u0430\\u0432\\u0442\\u043e\\u0431\\u0443\\u0441\", \"\\u043f\\u0435\\u0440\\u0435\\u0432\\u043e\\u0437\\u043a\\u0430\", \"\\u043c\\u0430\\u0440\\u0448\\u0440\\u0443\\u0442\", \"\\u0430\\u044d\\u0440\\u043e\\u043f\\u043e\\u0440\\u0442\", \"\\u0436\\u0438\\u0442\\u0435\\u043b\\u044c\\u0441\\u0442\\u0432\\u043e\", \"\\u043f\\u043e\\u0440\\u0442\\u0430\\u043b\", \"\\u0430\\u0432\\u0438\\u0430\\u0431\\u0438\\u043b\\u0435\\u0442\", \"\\u0430\\u044d\\u0440\\u043e\\u0444\\u043b\\u043e\\u0442\", \"\\u043d\\u043e\\u0448\\u0435\\u043d\\u0438\\u0435\", \"\\u0432\\u044a\\u0435\\u0437\\u0434\", \"\\u043f\\u043e\\u0441\\u043e\\u0431\\u0438\\u0435\", \"\\u043f\\u044f\\u0442\\u044c\\u0441\\u043e\\u0442\", \"\\u043f\\u0435\\u0440\\u0435\\u0432\\u043e\\u0437\\u0447\\u0438\\u043a\", \"\\u043f\\u0435\\u0440\\u0435\\u043b\\u0451\\u0442\", \"\\u0432\\u043e\\u0437\\u0434\\u0443\\u0448\\u043d\\u044b\\u0439\", \"\\u0430\\u0433\\u0435\\u043d\\u0442\\u0441\\u0442\\u0432\\u043e\", \"\\u0437\\u0430\\u0451\\u043c\", \"\\u0433\\u043e\\u0441\", \"\\u043f\\u043e\\u0441\\u0430\\u0434\\u043a\\u0430\", \"\\u043f\\u043e\\u043b\\u0451\\u0442\", \"\\u0441\\u0432\\u0438\\u0434\\u0435\\u0442\\u0435\\u043b\\u044c\\u0441\\u0442\\u0432\\u043e\", \"\\u0430\\u0433\\u0435\\u043d\\u0442\", \"\\u0441\\u0442\\u0440\\u0430\\u0445\\u043e\\u0432\\u043e\\u0439\", \"\\u0431\\u0430\\u0433\\u0430\\u0436\", \"\\u0442\\u0443\\u0440\\u0438\\u0441\\u0442\\u0438\\u0447\\u0435\\u0441\\u043a\\u0438\\u0439\", \"\\u0432\\u0435\\u0434\\u0435\\u043d\\u0438\\u0435\", \"\\u043f\\u0440\\u0438\\u0437\\u043d\\u0430\\u0432\\u0430\\u0442\\u044c\\u0441\\u044f\", \"\\u0437\\u0430\\u043a\\u043b\\u044e\\u0447\\u0438\\u0442\\u044c\", \"\\u0433\\u043e\\u0441\\u0443\\u0441\\u043b\\u0443\\u0433\\u0430\", \"\\u0438\\u0441\\u043f\\u043e\\u043b\\u043d\\u0438\\u0442\\u0435\\u043b\\u044c\", \"\\u0434\\u043e\\u0433\\u043e\\u0432\\u043e\\u0440\", \"\\u043a\\u043e\\u0430\\u043f\", \"\\u0440\\u0430\\u0441\\u0442\\u043e\\u0440\\u0433\\u043d\\u0443\\u0442\\u044c\", \"\\u043f\\u043e\\u0435\\u0437\\u0434\\u043a\\u0430\", \"\\u043e\\u043a\\u0430\\u0437\\u0430\\u043d\\u0438\\u0435\", \"\\u0434\\u043e\\u0445\\u043e\\u0434\", \"\\u0431\\u0438\\u043b\\u0435\\u0442\", \"\\u0443\\u0441\\u043b\\u0443\\u0433\\u0430\", \"\\u0441\\u0440\\u0435\\u0434\\u0441\\u0442\\u0432\\u043e\", \"\\u043e\\u043e\\u043e\", \"\\u0434\\u0435\\u043d\\u0435\\u0436\\u043d\\u044b\\u0439\", \"\\u043a\\u043e\\u043c\\u043f\\u0430\\u043d\\u0438\\u044f\", \"\\u043c\\u043e\\u0441\\u043a\\u0432\\u0430\", \"\\u0433\", \"\\u044f\", \"\\u0437\\u0430\\u044f\\u0432\\u043b\\u0435\\u043d\\u0438\\u0435\", \"\\u043f\\u043e\\u043b\\u043d\\u044b\\u0439\", \"\\u0441\\u0432\\u044f\\u0437\\u044c\", \"\\u0440\\u0443\\u0431\\u043b\\u044c\", \"\\u0432\\u043e\\u0437\\u0432\\u0440\\u0430\\u0442\", \"\\u0433\\u043e\\u0434\", \"\\u0441\\u0440\\u043e\\u043a\", \"\\u0434\\u0438\\u0432\\u0430\\u043d\", \"\\u043c\\u0430\\u0448\\u0438\\u043d\\u043a\\u0430\", \"\\u0440\\u043e\\u0443\\u0442\\u0435\\u0440\", \"\\u043a\\u043b\\u044e\\u0447\", \"\\u043a\\u0440\\u0435\\u0441\\u043b\\u043e\", \"\\u0441\\u0442\\u0438\\u0440\\u043a\\u0430\", \"\\u0444\\u0430\\u0431\\u0440\\u0438\\u043a\\u0430\", \"\\u043c\\u0435\\u0431\\u0435\\u043b\\u044c\\u043d\\u044b\\u0439\", \"\\u043a\\u0440\\u0430\\u0441\\u043e\\u0442\\u0430\", \"\\u043a\\u0430\\u0431\\u0438\\u043d\\u0430\", \"\\u0441\\u043e\\u0448\", \"\\u043b\\u0438\\u0442\\u0430\", \"\\\"\\u0440\\u043e\\u0441\\u0442\\u0435\\u043b\\u0435\\u043a\\u043e\\u043c\\\"\", \"\\u043f\\u0430\\u0447\\u043a\\u0430\", \"\\u043f\\u0440\\u0435\\u043e\\u0431\\u0440\\u0435\\u0441\\u0442\\u0438\", \"\\u043a\\u0440\\u0438\\u043a\", \"\\u0443\\u043d\\u0438\\u0442\\u0430\\u0437\", \"\\u043c\\u0430\\u043d\\u0438\\u043a\\u044e\\u0440\", \"\\u043a\\u043e\\u043b\\u044c\\u0446\\u043e\", \"\\u0430\\u043b\\u043b\\u0435\\u0440\\u0433\\u0438\\u044f\", \"\\u043a\\u043e\\u0442\", \"\\u0441\\u0438\\u0442\\u0438\\u043c\\u043e\\u0431\\u0438\\u043b\\u0430\", \"\\u0442\\u043e\\u043b\\u043f\\u0430\", \"\\u0444\\u043e\\u0440\\u043c\\u0438\\u0440\\u043e\\u0432\\u0430\\u043d\\u0438\\u0435\", \"\\u0441\\u043d\\u0438\\u0437\\u0438\\u0442\\u044c\", \"\\u043d\\u0430\\u043c\\u043d\\u043e\\u0433\\u043e\", \"\\u043d\\u0430\\u0434\\u043f\\u0438\\u0441\\u044c\", \"\\u043b\\u0435\\u0447\\u0438\\u0442\\u044c\\u0441\\u044f\", \"\\u0441\\u0438\\u043d\\u0438\\u0439\", \"\\u043c\\u043c\", \"\\u0448\\u043a\\u0430\\u0444\", \"\\u043c\\u0435\\u0431\\u0435\\u043b\\u044c\", \"\\u0446\\u0435\\u043d\\u0430\", \"\\u043a\\u0440\\u043e\\u0432\\u0430\\u0442\\u044c\", \"\\u0446\\u0435\\u043d\\u043d\\u0438\\u043a\", \"\\u0441\\u0442\\u043e\\u043b\", \"\\u0432\\u044b\\u043f\\u043b\\u0430\\u0447\\u0438\\u0432\\u0430\\u0442\\u044c\", \"\\u0434\\u043e\\u0440\\u043e\\u0433\\u043e\\u0439\", \"\\u0440\\u0430\\u0437\\u043d\\u0438\\u0446\\u0430\", \"\\u0441\\u043a\\u0438\\u0434\\u043a\\u0430\", \"\\u0430\\u043a\\u0446\\u0438\\u044f\", \"\\u0442\\u0440\", \"\\u0441\\u0430\\u043b\\u043e\\u043d\", \"\\u0442\\u0430\\u043a\\u0441\\u0438\", \"\\u043c\\u0430\\u0448\\u0438\\u043d\\u0430\", \"\\u0432\\u043e\\u0434\\u0438\\u0442\\u0435\\u043b\\u044c\", \"\\u0437\\u0430\\u043f\\u043b\\u0430\\u0442\\u0438\\u0442\\u044c\", \"\\u0434\\u0432\\u0435\\u0440\\u044c\", \"\\u0445\\u043b\\u0435\\u0431\", \"\\u0441\\u0442\\u043e\\u0438\\u043c\\u043e\\u0441\\u0442\\u044c\", \"\\u0440\", \"\\u0441\\u0442\\u043e\\u0438\\u0442\\u044c\", \"\\u0440\\u0443\\u0431\\u043b\\u044c\", \"\\u043c\\u0430\\u0441\\u0442\\u0435\\u0440\", \"\\u0440\\u0443\\u0431\", \"\\u0444\\u0438\\u0440\\u043c\\u0430\", \"\\u0438\\u0437\\u0433\\u043e\\u0442\\u043e\\u0432\\u043b\\u0435\\u043d\\u0438\\u0435\", \"\\u0441\\u0443\\u043c\\u043c\\u0430\", \"\\u043c\\u0430\\u0442\\u0435\\u0440\\u0438\\u0430\\u043b\", \"\\u0442\\u044b\\u0441\\u044f\\u0447\\u0430\", \"\\u043e\\u0434\\u0438\\u043d\", \"\\u0447\\u0435\\u043a\", \"\\u043c\\u044b\", \"\\u0443\\u043a\\u0430\\u0437\\u0430\\u0442\\u044c\", \"\\u0440\\u0430\\u0437\\u043c\\u0435\\u0440\", \"\\u044d\\u0442\\u043e\", \"\\u043a\\u0443\\u043f\\u0438\\u0442\\u044c\", \"\\u0441\\u0434\\u0430\\u0432\\u0430\\u0442\\u044c\", \"\\u043a\\u043e\\u0440\\u043e\\u043d\\u0430\\u0432\\u0438\\u0440\\u0443\\u0441\", \"\\u0441\\u0430\\u043c\\u043e\\u0438\\u0437\\u043e\\u043b\\u044f\\u0446\\u0438\\u044f\", \"\\u0430\\u043f\\u0442\\u0435\\u043a\\u0430\", \"\\u043a\\u043b\\u0438\\u043d\\u0438\\u043a\\u0430\", \"\\u0430\\u0431\\u0445\\u0430\\u0437\\u0438\\u044f\", \"\\u0430\\u043d\\u043a\\u0435\\u0442\\u0430\", \"\\u0437\\u0430\\u0433\\u0440\\u0443\\u0437\\u0438\\u0442\\u044c\", \"\\u0433\\u0440\\u0430\\u0436\\u0434\\u0430\\u043d\\u043a\\u0430\", \"\\u043f\\u0446\\u0440\\u0442\\u0435\\u0441\\u0442\", \"\\u043a\\u0430\\u0437\\u0430\\u0445\\u0441\\u0442\\u0430\\u043d\", \"\\u0441\\u0442\\u0443\\u0434\\u0435\\u043d\\u0442\", \"\\u0441\\u043f\\u0443\\u0442\\u043d\\u0438\\u043a\", \"\\u0440\\u0443\\u0441\\u0441\\u043a\\u0438\\u0439\", \"\\u0441\\u0435\\u0441\\u0442\\u0440\\u0430\", \"\\u043d\\u0435\\u0442\\u0443\", \"\\u0437\\u0430\\u043f\\u0440\\u0430\\u0432\\u043a\\u0430\", \"\\u043f\\u043e\\u0441\\u0430\\u0434\\u0438\\u0442\\u044c\", \"\\u0433\\u043e\\u0441\\u0442\\u0438\\u043d\\u0438\\u0447\\u043d\\u044b\\u0439\", \"\\u043f\\u043e\\u043a\\u0430\\u0437\\u0430\\u0442\\u0435\\u043b\\u044c\", \"\\u043f\\u043e\\u0434\\u0442\\u0432\\u0435\\u0440\\u0434\\u0438\\u0442\\u044c\\u0441\\u044f\", \"\\u0437\\u0430\\u043c\\u0435\\u0441\\u0442\\u0438\\u0442\\u0435\\u043b\\u044c\", \"\\u0440\\u0435\\u043a\\u043e\\u043c\\u0435\\u043d\\u0434\\u0430\\u0442\\u0435\\u043b\\u044c\\u043d\\u044b\\u0439\", \"\\u043f\\u043e\\u0434\\u044a\\u0435\\u0445\\u0430\\u0442\\u044c\", \"\\u043f\\u0440\\u043e\\u043f\\u0443\\u0441\\u043a\", \"\\u043e\\u0447\\u043d\\u044b\\u0439\", \"\\u043f\\u0440\\u0435\\u0442\\u0435\\u043d\\u0437\\u0438\\u043e\\u043d\\u043d\\u044b\\u0439\", \"\\u043a\\u0430\\u0440\\u043c\\u0430\\u043d\", \"\\u0431\\u0435\\u0440\\u0435\\u0437\\u043e\\u0432\\u0441\\u043a\\u0438\\u0439\", \"\\u0443\\u043a\\u043e\\u043b\", \"\\u043f\\u0440\\u0435\\u043f\\u0430\\u0440\\u0430\\u0442\", \"\\u043f\\u0440\\u0438\\u0431\\u044b\\u0442\\u0438\\u0435\", \"\\u0433\\u0440\\u0430\\u043d\\u0438\\u0446\\u0430\", \"\\u0432\\u043e\\u0437\\u0432\\u0440\\u0430\\u0449\\u0435\\u043d\\u0438\\u0435\", \"\\u0438\\u043d\\u043e\\u0441\\u0442\\u0440\\u0430\\u043d\\u043d\\u044b\\u0439\", \"\\u044f\\u0437\\u044b\\u043a\", \"\\u043b\\u0435\\u0447\\u0435\\u043d\\u0438\\u0435\", \"\\u0441\\u0434\\u0430\\u0442\\u044c\", \"\\u043f\\u043b\\u0430\\u043d\\u0438\\u0440\\u043e\\u0432\\u0430\\u0442\\u044c\", \"\\u0440\\u043e\\u0441\\u0441\\u0438\\u044f\", \"\\u043d\\u0443\\u0436\\u043d\\u043e\", \"\\u0430\\u043d\\u0430\\u043b\\u0438\\u0437\", \"\\u0433\\u0440\\u0430\\u0436\\u0434\\u0430\\u043d\\u0438\\u043d\", \"\\u043d\\u0435\\u0434\\u0435\\u0439\\u0441\\u0442\\u0432\\u0438\\u0442\\u0435\\u043b\\u044c\\u043d\\u044b\\u0439\", \"\\u0440\\u0435\\u0437\\u0443\\u043b\\u044c\\u0442\\u0430\\u0442\", \"\\u0440\\u0444\", \"\\u043a\\u0430\\u0440\\u0430\\u043d\\u0442\\u0438\\u043d\", \"\\u043b\\u0435\\u043a\\u0430\\u0440\\u0441\\u0442\\u0432\\u043e\", \"\\u0441\\u0434\\u0430\\u0447\\u0430\", \"\\u043f\\u0440\\u043e\\u0436\\u0438\\u0432\\u0430\\u0442\\u044c\", \"\\u0434\\u0435\\u043d\\u044c\", \"\\u0434\\u043e\\u0431\\u0440\\u044b\\u0439\", \"\\u043f\\u043e\\u0434\\u0441\\u043a\\u0430\\u0437\\u0430\\u0442\\u044c\", \"\\u043f\\u043e\\u0436\\u0430\\u043b\\u0443\\u0439\\u0441\\u0442\\u0430\", \"\\u0437\\u0434\\u0440\\u0430\\u0432\\u0441\\u0442\\u0432\\u0443\\u0439\\u0442\\u0435\", \"\\u043c\\u043e\\u0441\\u043a\\u0432\\u0430\", \"\\u0442\\u0435\\u0440\\u0440\\u0438\\u0442\\u043e\\u0440\\u0438\\u044f\", \"\\u043d\\u0435\\u043e\\u0431\\u0445\\u043e\\u0434\\u0438\\u043c\\u043e\", \"\\u0441\\u0434\\u0435\\u043b\\u0430\\u0442\\u044c\", \"\\u0434\\u0435\\u043b\\u0430\\u0442\\u044c\", \"\\u0442\\u0435\\u0447\\u0435\\u043d\\u0438\\u0435\", \"\\u0442\\u0443\\u0440\", \"\\u043a\\u043e\\u043d\\u0446\\u0435\\u0440\\u0442\", \"\\u0442\\u0443\\u0440\\u043e\\u043f\\u0435\\u0440\\u0430\\u0442\\u043e\\u0440\", \"\\u043a\\u043b\\u0443\\u0431\", \"\\u0442\\u0443\\u0440\\u0446\\u0438\\u044f\", \"\\u043f\\u0440\\u0438\\u043b\\u0451\\u0442\", \"\\u043e\\u0442\\u0435\\u043b\\u044c\", \"\\u043e\\u0440\\u0433\\u0430\\u043d\\u0438\\u0437\\u0430\\u0442\\u043e\\u0440\", \"\\u0441\\u0430\\u043d\\u0430\\u0442\\u043e\\u0440\\u0438\\u0439\", \"\\u0433\\u043e\\u0434\\u043d\\u043e\\u0441\\u0442\\u044c\", \"\\u0438\\u0437\\u0434\\u0430\\u0442\\u044c\", \"\\u0430\\u0431\\u043e\\u043d\\u0435\\u043c\\u0435\\u043d\\u0442\", \"\\u0442\\u0443\\u0440\\u0438\\u0441\\u0442\", \"\\u043f\\u0443\\u0442\\u0451\\u0432\\u043a\\u0430\", \"\\u0442\\u0443\\u0440\\u0430\\u0433\\u0435\\u043d\\u0442\", \"\\u043c\\u0430\\u0442\\u0440\\u0430\\u0441\", \"\\u043c\\u043e\\u043b\\u043e\\u043a\\u043e\", \"\\u0442\\u0443\\u0440\\u0438\\u0441\\u0442\\u0441\\u043a\\u0438\\u0439\", \"\\u0438\\u0433\\u0440\\u0430\", \"\\u043a\\u0430\\u043d\\u0438\\u043a\\u0443\\u043b\\u044b\", \"\\u043a\\u043e\\u0444\\u0435\", \"\\u0441\\u0430\\u043d\\u043a\\u0442\", \"\\u0431\\u0435\\u043b\\u0433\\u043e\\u0440\\u043e\\u0434\\u0441\\u043a\\u0438\\u0439\", \"\\u0440\\u0435\\u0433\\u0443\\u043b\\u0438\\u0440\\u043e\\u0432\\u0430\\u0442\\u044c\", \"\\u0442\\u0440\\u0435\\u043d\\u0438\\u0440\\u043e\\u0432\\u043a\\u0430\", \"\\u0440\\u0435\\u043a\\u043b\\u0430\\u043c\\u0430\\u0446\\u0438\\u044f\", \"\\u044f\\u0439\\u0446\\u043e\", \"\\u043a\\u043e\\u043d\\u0444\\u0435\\u0442\\u0430\", \"\\u0434\\u0435\\u043f\\u043e\\u0437\\u0438\\u0442\", \"\\u0443\\u0440\\u0430\\u043b\\u044c\\u0441\\u043a\\u0438\\u0439\", \"\\u043c\\u0430\\u0440\\u043a\\u0438\\u0440\\u043e\\u0432\\u043a\\u0430\", \"\\u0437\\u0430\\u0431\\u0440\\u043e\\u043d\\u0438\\u0440\\u043e\\u0432\\u0430\\u0442\\u044c\", \"\\u0441\\u043e\\u0441\\u0442\\u043e\\u044f\\u0442\\u044c\\u0441\\u044f\", \"\\u0431\\u0438\\u043b\\u0435\\u0442\", \"\\u0431\\u0440\\u043e\\u043d\\u044c\", \"\\u043c\\u0435\\u0440\\u043e\\u043f\\u0440\\u0438\\u044f\\u0442\\u0438\\u0435\", \"\\u043d\\u0430\\u043f\\u0438\\u0442\\u043e\\u043a\", \"\\u043f\\u0435\\u0440\\u0435\\u043d\\u0435\\u0441\\u0442\\u0438\", \"\\u0441\\u043e\\u0441\\u0442\\u0430\\u0432\", \"\\u0434\\u0430\\u0442\\u0430\", \"\\u043f\\u0435\\u0440\\u0435\\u043d\\u043e\\u0441\", \"\\u0433\\u043e\\u0434\", \"\\u043c\\u0430\\u0440\\u0442\", \"\\u0441\\u0440\\u043e\\u043a\", \"\\u043a\\u0443\\u043f\\u0438\\u0442\\u044c\", \"\\u0438\\u044e\\u043d\\u044c\", \"\\u0433\", \"\\u043f\\u0440\\u0438\\u043e\\u0431\\u0440\\u0435\\u0441\\u0442\\u0438\", \"\\u0434\\u0435\\u043d\\u044c\\u0433\\u0430\", \"\\u0434\\u043e\\u043b\\u0436\\u043d\\u044b\\u0439\", \"\\u0432\\u0435\\u0440\\u043d\\u0443\\u0442\\u044c\", \"\\u043e\\u0442\\u043c\\u0435\\u043d\\u0438\\u0442\\u044c\", \"\\u0432\\u043e\\u0437\\u0432\\u0440\\u0430\\u0442\", \"\\u0430\\u0441\\u043f\\u0435\\u043a\\u0442\", \"\\u043f\\u0440\\u0435\\u0434\\u043f\\u043e\\u0447\\u0442\\u0435\\u043d\\u0438\\u0435\", \"\\u0443\\u043a\\u0440\\u0430\\u0438\\u043d\\u0430\", \"a\", \"\\u043f\\u043b\\u0430\\u043d\\u0448\\u0435\\u0442\", \"\\u043a\\u043e\\u043b\\u044f\\u0441\\u043a\\u0430\", \"\\u043f\\u043e\\u0432\\u0435\\u0440\\u043a\\u0430\", \"\\u0434\\u043e\\u043f\\u0443\\u0441\\u043a\\u0430\\u0442\\u044c\", \"\\u043a\\u043e\\u0432\\u0438\\u0434\\u043d\\u044b\\u0439\", \"\\u0431\\u0435\\u043b\\u0430\\u0440\\u0443\\u0441\\u044c\", \"\\u0431\\u043e\\u0440\\u044c\\u0431\\u0430\", \"\\u0436\\u0435\\u043b\\u0435\\u0437\\u043d\\u043e\\u0434\\u043e\\u0440\\u043e\\u0436\\u043d\\u044b\\u0439\", \"\\u0436\\u0443\\u0440\\u043d\\u0430\\u043b\", \"\\u043c\\u0438\\u0445\\u0430\\u0438\\u043b\", \"\\u043f\\u0430\\u0440\\u0438\\u043a\\u043c\\u0430\\u0445\\u0435\\u0440\\u0441\\u043a\\u0430\\u044f\", \"\\u0437\\u0430\\u0440\\u044f\\u0436\\u0430\\u0442\\u044c\\u0441\\u044f\", \"\\u0432\\u044b\\u0448\\u0435\\u0441\\u0442\\u043e\\u044f\\u0449\\u0438\\u0439\", \"\\u0440\\u0430\\u0437\\u0432\\u043b\\u0435\\u043a\\u0430\\u0442\\u0435\\u043b\\u044c\\u043d\\u044b\\u0439\", \"\\u043f\\u0442\\u0438\\u0446\\u0430\", \"\\u043f\\u0435\\u0440\\u0432\\u043e\\u043c\\u0430\\u0439\\u0441\\u043a\\u0438\\u0439\", \"\\u043e\\u0441\\u0442\\u0430\\u043d\\u043e\\u0432\\u0438\\u0442\\u044c\\u0441\\u044f\", \"\\u0440\\u043d\\u0430\", \"\\u0442\\u0435\\u0440\\u043c\\u043e\\u043c\\u0435\\u0442\\u0440\\u0438\\u044f\", \"\\\"\\u043c\\u0435\\u0433\\u0430\\u0444\\u043e\\u043d\\\"\", \"\\u043c\\u043e\\u0441\\u043e\\u0431\\u043b\\u0435\\u0438\\u0440\\u0446\", \"\\u0437\\u0430\\u0434\\u0430\\u043d\\u0438\\u0435\", \"\\u0442\\u0435\\u043b\\u0435\\u0436\\u043a\\u0430\", \"\\u043f\\u043e\\u043a\\u0440\\u044b\\u0442\\u044c\", \"\\u043f\\u0440\\u0435\\u043f\\u044f\\u0442\\u0441\\u0442\\u0432\\u0438\\u0435\", \"\\u0441\\u0442\\u0440\\u0438\\u0436\\u043a\\u0430\", \"\\u0438\\u043d\\u0441\\u0442\\u0440\\u0443\\u043c\\u0435\\u043d\\u0442\", \"\\u0431\\u0435\\u0436\\u0430\\u0442\\u044c\", \"\\u0432\\u0435\\u0441\", \"\\u043f\\u0440\\u0435\\u0431\\u044b\\u0432\\u0430\\u043d\\u0438\\u0435\", \"\\u0441\\u043c\\u0438\"], \"Freq\": [11766.0, 14752.0, 6359.0, 13130.0, 7747.0, 4552.0, 5366.0, 3347.0, 4663.0, 3181.0, 2933.0, 2869.0, 4432.0, 4522.0, 5502.0, 2980.0, 6979.0, 8205.0, 2481.0, 2277.0, 2211.0, 1702.0, 2951.0, 5755.0, 5605.0, 4615.0, 1666.0, 6326.0, 2542.0, 2053.0, 395.4460393075976, 325.1499731866073, 288.98795919205725, 179.88989641253886, 145.12490106610727, 144.69453554182272, 142.6111983957612, 134.81956401430446, 130.91414967455955, 127.1718053059231, 112.75846435173587, 110.96746778342279, 107.2446983362932, 105.95796262095304, 99.22859397993484, 94.94060954925128, 91.38629317664454, 90.37190986920305, 88.57968443081761, 87.83353736028016, 83.22077235692873, 75.9054447530375, 72.93250354918429, 70.59534492091724, 68.83686447221834, 68.55011905953393, 67.91032906251704, 67.35020355855485, 67.03678187783916, 66.48758026757343, 296.83948195836854, 247.24448257851995, 581.0805444349269, 212.42204571242215, 833.128756251054, 253.9810830655393, 753.3152762937809, 186.4715070210495, 662.9637460928578, 1216.1676013100505, 1129.6709821513846, 933.7854386295212, 1040.6325811849667, 3141.2950117741216, 1263.850805105976, 1757.7285977137465, 974.6914566011698, 385.6497480895805, 843.0513274627031, 4160.896123292823, 701.6866383185854, 945.2314607323103, 742.8036304442523, 783.2792611417035, 885.2884400968176, 451.4079559068522, 1249.5166555842402, 864.0231153682845, 1334.791973640181, 2065.59826519236, 953.2088067440851, 1207.8126768123213, 1570.618274004277, 1422.882165408807, 1413.9769681176074, 807.6027106075138, 2884.023993400838, 1077.2287234387131, 1422.5544377229567, 2029.3559505198064, 1294.9674483318731, 1171.1854756831171, 1266.8355891373408, 1450.3363843205975, 973.2182915083897, 892.6768854700151, 873.5869000186258, 887.6985044327413, 883.13242461431, 837.5522768590752, 594.7539083112566, 503.0225800053711, 299.9700421494556, 297.4585242842178, 292.0439561260416, 245.08375658816584, 220.7481654821632, 188.91113900676964, 181.5143790181085, 178.7418953947896, 161.5576940408706, 126.93157245988502, 126.49038364034537, 122.71204648606974, 119.32594350559323, 114.50650840809794, 116.44602988626221, 100.11396824625069, 91.32724823899002, 89.94517500863239, 84.99616825464244, 76.00173140221143, 74.85686930080792, 63.42566101645685, 62.09452722117818, 60.73809914488467, 60.546271088244154, 59.61295925099708, 351.25241112033734, 153.70623400181714, 792.7244847120631, 146.78336210612352, 223.03298793610276, 4082.0467490151427, 5581.535466257267, 3298.93329507822, 1907.3311487128035, 542.2559684641759, 621.3979298668127, 1825.471942626008, 1576.9963434027088, 6394.476020157472, 7187.1885228167475, 1198.198659259832, 258.9910236121333, 588.6445277249385, 442.7546140881356, 787.5341610907515, 3310.340209331592, 602.6240222279447, 1496.2533954084345, 1126.6644634712497, 4025.9620277510453, 731.186588780547, 1413.9660194633009, 1017.3950966704413, 1856.1488466408102, 1061.0402685864187, 956.0465674473095, 653.7436070516078, 1477.994087610072, 1484.038572393008, 1196.1580235005426, 1102.335868878588, 894.06131361488, 1064.8364845554738, 1211.3028354800338, 1002.4768544163799, 903.7574756182147, 890.4516154745256, 883.4631460293513, 6358.3230186481605, 2979.762938750642, 788.979585069064, 266.4906288420997, 244.09628540870006, 169.9464678682254, 144.26185476426448, 141.89255577555573, 134.35488071389577, 130.60897560589083, 121.06247140274063, 373.3100305611218, 100.47571915379329, 90.00185702078895, 67.45147972620819, 63.086333126947615, 61.187910870913946, 59.565082948654066, 57.52383301730742, 54.915131163501535, 53.99728362567186, 50.830609406440836, 50.791801368582846, 50.67749165434735, 48.15252882434173, 46.70693602162965, 46.55721011847494, 44.91151144337072, 43.549018939658744, 40.93174936353348, 1014.4119089372261, 256.1107958096761, 415.15483922898306, 165.94297606081255, 500.8479908978524, 1214.0744270280818, 164.90205726648864, 846.7064224478567, 516.4742830087971, 187.9074092487198, 1083.104162245229, 154.34412132978878, 709.0085618498913, 1118.6337534489555, 1686.5320256085404, 1149.8291079287505, 765.3785186932162, 750.0589906862931, 750.5891410804229, 2011.7967009617887, 666.4831280349797, 4581.052532149295, 1470.2715431907507, 359.710566416036, 534.9601945050422, 580.4489942327946, 1914.4831629286323, 1181.471375948718, 1121.45887288505, 2632.5968921697563, 1144.7315730436349, 1127.2192719627728, 1547.8805709089295, 895.8996145766023, 1220.3842175339146, 863.4211016182737, 1157.950163387886, 880.1193589538287, 946.2269000305199, 1074.6944912763936, 838.1985023897608, 836.4298778231168, 822.4763927487949, 3180.8339562251685, 2052.1857029667694, 817.6591463836688, 765.1675263837418, 740.0699507550236, 606.8720139662447, 606.7843594889149, 497.67395163393724, 490.562098320591, 487.7561449432233, 450.43469790458903, 424.0840336210846, 412.82871051556987, 404.8187635689411, 399.54914137532836, 319.4604463390327, 318.56611253288276, 310.5290892192171, 255.01411927010676, 250.36523331271965, 250.24567642158567, 213.75712929725947, 205.8826343318439, 181.00043506931777, 175.42369953331897, 166.2430434278837, 164.76063337642108, 163.08574262249914, 162.86903348176378, 157.93330638425397, 657.3776596046455, 498.27462610598525, 944.3787887893538, 298.2520471196275, 333.40300768312426, 816.1913547645651, 1934.308725042347, 703.0365513682037, 523.3448728419636, 505.26190007255025, 868.3633894582222, 504.3313147988234, 754.324072699714, 1067.029063667476, 895.4819002291175, 748.2125017541046, 602.4980443241195, 1109.8069177446607, 697.771614929301, 825.0231325821899, 835.0569888626081, 1083.8372866884736, 669.7234728706677, 812.6935931948012, 860.3908163156278, 610.1026033423033, 627.503868947438, 592.6258044935796, 580.7127080487421, 1907.6553923223296, 1024.8859890900005, 936.3445169839925, 730.7665740028715, 699.1985759719921, 655.785339891093, 528.5952270145117, 465.3952220799949, 451.4242431107372, 449.1613105358808, 434.29519771330365, 395.03005454651907, 367.1928668313294, 346.05393660293964, 340.87088589318176, 310.9183039698637, 289.1534628749591, 280.94706147940605, 228.73487280953782, 222.65426445771195, 221.75092099734087, 203.79424296012357, 189.25031160539524, 188.58388697963665, 184.46454072132525, 180.1438766545364, 177.49931463187943, 170.41164811726344, 156.04740290798762, 145.0123618561086, 1812.454182727053, 547.1544641470748, 546.4628764241468, 3570.2314442493785, 359.8268685754182, 718.4306360113651, 225.61889690640444, 607.0601492386031, 481.2232402265781, 486.2458517585268, 665.6809135464491, 626.1697167283168, 1045.3665348950933, 629.9926831409416, 408.8895392333421, 809.0016272295169, 989.1205623159631, 915.1206759626687, 750.9634583376467, 831.2999103470659, 637.1892507446538, 866.3635329982889, 694.4135478618934, 597.4931683632695, 521.4352508022298, 504.7011526595916, 2480.1964823927165, 920.809343563817, 665.8714618213634, 444.20930264864796, 422.05465413152046, 386.6086693655389, 384.60087037105745, 371.2509908694026, 365.94882859969545, 293.66443264480597, 268.62330665212573, 264.7517084176821, 197.76493454055492, 158.39174680044889, 156.1594100910031, 140.32532673175865, 139.15530665591143, 137.76135422402587, 134.69186917816037, 118.27590977459873, 112.3036025621788, 102.11090317496976, 97.11667942392604, 93.85188414874159, 91.17582565236887, 88.16829530908495, 87.98136551739765, 81.12441451615655, 79.28708081173994, 79.09078687416626, 498.4282748547462, 623.4126461306989, 707.3723474582293, 269.7354014457425, 2046.74960385632, 1736.2696875284446, 120.45520190815485, 133.30576118902408, 297.28576540993083, 404.6479870106469, 250.3650508621188, 407.29857629137314, 276.39755298925843, 2396.617804062518, 1433.1656661411134, 268.99873007939254, 287.3012275175737, 882.5044503767036, 1364.3029606222158, 324.6243798664663, 789.2411895019752, 1678.7315323311552, 645.7836347940013, 911.1832286022218, 909.8073486566059, 681.1211594190767, 952.2015422819212, 725.7692556655761, 1027.2949045465484, 1102.574212894608, 632.2225354737539, 747.5720645302617, 773.6295881596756, 665.9235226889983, 637.2995294462821, 551.6514820741716, 557.4316508858119, 557.1522272948913, 2276.9320105876923, 2210.5943383621184, 682.8572410973912, 596.8499639665781, 554.0079424403369, 518.3023865078623, 457.82690423015214, 436.2952344042845, 979.0406593420737, 342.9759117635183, 281.3195876711872, 265.102989203862, 885.5387970956399, 208.98205414020478, 163.10594511022853, 135.69246771177276, 128.63944227017404, 100.36676945626532, 98.06020874261544, 96.8853805346866, 81.13864810344404, 61.878838414454805, 1076.6603958621486, 426.7736397273371, 49.14015989848266, 45.40568295638066, 43.74494336576112, 41.28067500102143, 39.56917045662151, 1038.0130661821947, 2775.1396421591476, 1242.7712195293218, 3086.9629616015395, 506.6660466840689, 520.8283623069138, 1286.8518917909353, 438.75444068237823, 632.1679956891417, 257.3711874220892, 1387.67760927041, 674.575993580127, 2098.389180596816, 3029.701072443599, 521.2263695491057, 618.3664094717062, 1115.3595752287356, 1589.6036909755014, 883.7538977321317, 920.3537737629085, 2983.9063156589464, 1073.557592299304, 795.8245718569764, 677.5324261735755, 832.6550745979282, 914.0322008112429, 643.517291819905, 753.391606079978, 785.6853482366539, 680.3867688219502, 651.9866684434512, 644.3034757428969, 266.5484351732963, 224.02636023462964, 119.95056277653207, 105.68097126194637, 96.35289872927198, 80.80332553219043, 75.07656660469671, 73.94928351021989, 72.80966022995112, 71.5801313891519, 67.03320290563815, 65.27576313251119, 61.6925034460052, 57.02088052418753, 55.870942980035366, 55.13655683986068, 51.77213365034679, 51.00577593005272, 46.30334738838075, 45.725674749174104, 45.72412365271287, 44.482412901270806, 42.9723202553282, 39.577964597199234, 39.00246296545449, 38.923132822803474, 37.814022353363164, 37.47598092782197, 37.076325624653016, 36.95099808575268, 117.01064408859675, 201.43397552107726, 87.69069502472435, 75.60436674442009, 402.4290435020073, 430.8145308097203, 130.89218714428125, 1232.222261769933, 1685.131961188128, 197.43007852246916, 111.45142995810822, 75.77380556737624, 258.9202693970489, 1410.2922717772433, 121.76000648781692, 203.27606611978436, 654.8429591729648, 88.62627525860412, 859.5988346268296, 381.90497733361735, 328.5729207445511, 1754.8598037831318, 979.6847648625536, 1858.0491232344407, 417.35016939204905, 273.406877244412, 1131.5989412426352, 974.0307544694273, 872.2036142613833, 1026.0730585234594, 286.291487342585, 2109.1074439083363, 1840.292930666908, 445.3236348316096, 1443.1865749125654, 1191.7055118670846, 622.6064053506204, 1030.7933721569805, 1268.9879328456784, 902.4140773483467, 858.1814490115565, 689.2837160318174, 619.5153549986422, 621.3335354981577, 705.9590792611359, 731.1937937272747, 609.5803183725, 626.3324978075179, 692.5737287978983, 502.3811085702704, 509.47643578121455, 236.1736060955378, 197.18201811264748, 156.15006998238775, 131.18803525777932, 126.42743325262511, 124.7548215128017, 122.51319665456661, 113.9292061919031, 111.79991283222296, 108.7761836136584, 94.1387269347142, 93.84080354997492, 93.27716538035274, 92.38497319275201, 90.6462347893807, 89.95261161967476, 84.81643712249804, 82.96802182066202, 77.58219163636187, 75.96422520923176, 74.75734374158506, 74.66594495643511, 74.39724682841674, 72.00572336013312, 70.3102721972424, 68.84399192046925, 68.3721470276513, 64.41390406370077, 64.28441628747292, 63.90731924957817, 194.64878995471767, 176.82072586887426, 120.45232294117487, 587.6786225309486, 205.11429192529567, 277.5679112474018, 539.0812613893645, 356.79156622005155, 308.06431870129734, 366.8721429589703, 1615.5886286839718, 139.93023331095952, 237.43497672293128, 155.90132655721482, 2191.336705863277, 924.2637673558345, 3714.959993633156, 448.3832249146318, 400.1199653299145, 162.1868607076992, 994.5463347329402, 249.97612940678414, 775.303126963942, 1584.1505367770162, 866.2658015900845, 635.6883883534892, 1640.0098975363298, 421.3303351109067, 768.1220638839478, 911.1451446387315, 203.33968765568983, 392.0376860657281, 574.7982727730279, 352.9607563882962, 414.01692008090305, 461.59363268996293, 373.72867090471385, 383.82897222634637, 360.30704572282275, 328.40138258263715, 319.6112537934625, 310.7019885246966, 877.1390925115547, 279.0577446647406, 197.0617452651626, 190.43892982284885, 188.55368399116367, 162.8261784824229, 147.44453244366292, 141.25202510472386, 131.57371191663472, 130.1795609320725, 108.84671541646328, 105.7012931743167, 99.27852742269815, 92.4201134928896, 87.3590520471837, 86.44393457893752, 82.4613392800606, 78.98760214771303, 78.67364563294907, 78.15764520867918, 75.77760414607786, 74.44415127331675, 74.35204790824497, 72.39681976829553, 67.85782264924313, 67.84344950181493, 67.36347796405829, 67.2996925060984, 65.89672264279554, 65.7035714719862, 459.77485778544474, 246.229978186423, 1589.1699850256289, 337.8875245640891, 749.7414225044301, 344.62115948431284, 669.9082641949863, 715.0135938872634, 363.2929858928892, 336.8451833217161, 283.1280486613102, 228.4335399757864, 273.6886576587337, 1050.255129845356, 384.79994148266337, 855.312116504633, 552.4493080366541, 285.8588284967394, 222.25491830856626, 179.06666808898947, 273.8060949886969, 310.2182260413865, 1159.300077997598, 379.9483764160189, 259.9347521012288, 916.2175679741014, 686.5172411217959, 555.7149225851209, 666.4442913488155, 374.56153347660114, 344.14281286558713, 350.2128013095935, 308.56092680575955, 282.2957060456991, 1258.223578060617, 774.9623112905751, 610.973694674784, 406.75011359090036, 348.9758152965834, 324.3163179058672, 316.94528769434504, 268.9440556520003, 233.25419980663054, 217.03780691266905, 206.86088194257616, 200.87892558758506, 170.52784070541745, 169.3786449665032, 160.68915262356836, 156.67196415753637, 135.91547943579872, 128.25640718520265, 122.23571525528938, 121.60803754332174, 115.3152685491376, 98.32798391481577, 94.1753823347851, 91.06572265968084, 88.6305798075395, 85.78308465548473, 84.60825349788936, 275.4674223656429, 83.06157427089377, 75.09825290907759, 290.5713645174565, 211.16475401258927, 625.455957748802, 477.21141556011776, 203.13945573089765, 2737.6184658235206, 375.9858357930441, 180.89011809148332, 297.62110465476337, 409.66488490467754, 215.64114733938237, 718.4405977505984, 1309.5828616522542, 914.2007785104504, 558.1161513248039, 613.9660716369295, 608.5406163749866, 364.54891519993674, 679.2663424424574, 511.8086322959301, 409.81993480318533, 326.64489085248925, 392.62510549642474, 380.83039192967885, 436.9250188564342, 421.7704245604689, 285.8179714804129, 413.35331128304097, 189.0871456400422, 127.72374458946129, 103.56503903768751, 101.7304990983827, 98.18015244332246, 86.10799733156894, 73.86472285900086, 70.93246312298982, 66.2613398207587, 57.063020436208916, 55.935884476852635, 54.65432235116854, 53.30246897563164, 50.32196708037791, 49.987303932827615, 49.61591401988952, 48.701263357100366, 48.10316657102748, 48.077212410981105, 47.904794256216114, 45.27447587903078, 39.816987137215484, 39.811983088282695, 38.44200306674186, 36.9268491568479, 36.74799350163292, 36.733641611290956, 35.86604073670972, 35.71768719226388, 167.90344274224705, 396.91153550484194, 1522.4439404305401, 146.4947661445152, 411.89723729461826, 195.8413259367368, 58.39640834992871, 139.86042239465897, 177.33581435300923, 315.1362713540091, 196.25640137060986, 99.96799661350617, 434.7915951702918, 180.97905735396935, 409.3758916392879, 248.9592184824621, 226.43290145572732, 289.86304421623043, 86.43529340707929, 607.4424034603154, 417.62040975945894, 329.8764967433602, 650.5711892011658, 297.1822650382527, 401.9756677751661, 173.2509292833905, 124.1581599103939, 286.6403845780034, 141.97042827764596, 172.4143322276094, 198.6894811628202, 192.29397649848528, 195.92783690769642, 191.59863957403613, 186.80952149297661, 212.31166649426052, 185.13617100488534, 584.5834771084615, 502.0149980058347, 491.26014927346637, 304.1056645353801, 235.89216588621747, 204.63114120149666, 182.24347491583572, 162.90951954679682, 138.7142326931839, 115.4873120528801, 92.69988037930915, 83.00723168993765, 71.8122189763663, 71.78729116926426, 70.19305699383555, 58.429648004704504, 57.605843981268784, 56.47246741246837, 55.0192635330184, 50.82529635466213, 45.64363982149587, 44.83193151190013, 44.64706959448938, 39.90402587291029, 39.35519819865881, 38.93618126169178, 34.84448900306482, 34.58548117801431, 33.93403084930643, 33.849173348407014, 134.64036354390177, 226.19628530938252, 451.36755773658183, 274.31900782016527, 90.54514555212386, 82.37007257667995, 204.45930569969545, 584.91124777121, 199.86015256268354, 678.3484144101919, 674.7261367598106, 309.4504972938105, 493.1505716164312, 116.6021768612095, 623.6632966765851, 803.3205116055856, 270.5578544654475, 119.63634644983529, 154.00329680686397, 296.7374793116487, 988.4837718398219, 598.7396896645957, 300.537333495992, 319.95383154358046, 411.82024632870343, 244.3355741593912, 217.2705485147653, 183.8035219947629, 216.50021381936406, 207.84543737874972, 183.89967405596443, 529.2496044702668, 369.36555716235375, 244.23810274507, 227.30418135897864, 225.29799915982994, 219.1239238894287, 216.6585593246287, 205.28259937288112, 197.14720544403497, 190.92829261066055, 156.75197727675993, 143.7141309780451, 115.26545062574168, 113.21963939860015, 95.26986535278928, 85.00094638951364, 82.83748851502864, 76.21162803775746, 76.12082288053105, 74.52922577806827, 68.49607969603875, 60.77280947390648, 54.982230451125034, 54.91172039591067, 51.372209143979866, 50.32833950183473, 46.68627141680845, 43.45736290050277, 42.62477988277657, 42.13082957196639, 105.99703797784814, 76.58389541133602, 235.4483817384899, 946.6866922851475, 105.40838909744154, 282.15428907239703, 96.39851331866733, 238.6816480190996, 152.42116486820362, 383.03994878222363, 134.95672626830086, 467.8795020261048, 193.18634189660332, 280.0181922426406, 218.96257620482473, 163.3871832426056, 248.9177311309279, 191.71257328559804, 227.03946828441502, 195.79492169006568, 202.4609372443738, 152.61462102779882, 179.97856227332932, 138.9145393236201, 126.28017007666784, 119.81158328536823, 81.08488224217527, 71.42330003874126, 67.43318222956006, 59.466904940633874, 49.21442120493332, 43.35249336331536, 41.07418345404834, 39.62831965661365, 36.247619398681735, 31.600062976414712, 30.995316570710617, 30.69536808463012, 29.96729176677314, 29.014196545956462, 28.050507776464087, 27.349609032688214, 26.613151558129577, 25.932838594912155, 24.55620726866512, 24.065056250428132, 23.443485940921445, 22.522615465326652, 21.75557025352692, 21.335405412057003, 21.040886605912796, 20.80438433508784, 20.346757943657487, 48.840661487718904, 25.305530653472793, 42.30893481236015, 33.4694677416797, 22.45466504692396], \"Total\": [11766.0, 14752.0, 6359.0, 13130.0, 7747.0, 4552.0, 5366.0, 3347.0, 4663.0, 3181.0, 2933.0, 2869.0, 4432.0, 4522.0, 5502.0, 2980.0, 6979.0, 8205.0, 2481.0, 2277.0, 2211.0, 1702.0, 2951.0, 5755.0, 5605.0, 4615.0, 1666.0, 6326.0, 2542.0, 2053.0, 396.37515886494464, 326.0790716013194, 289.91705754621506, 180.81904826323412, 146.05400275220285, 145.62574255185788, 143.5420020700406, 135.74870616308928, 131.84325680282376, 128.1009038415381, 113.68756923236089, 111.89657007355714, 108.1737984953055, 106.88706053163558, 100.1576919236427, 95.86970769425565, 92.31539185375901, 91.30101147952465, 89.50878274616464, 88.76263555506434, 84.1498703197251, 76.83454408334481, 73.86160103450598, 71.52444300844058, 69.7659625450723, 69.47921784194138, 68.8394273051942, 68.27930163965084, 67.9658814114157, 67.4166830610188, 306.33429881859223, 255.27845322183404, 625.5250557410963, 224.18584698558226, 958.6553049203734, 275.18328516985923, 864.4415031236214, 199.18316807068626, 772.2314881778618, 1523.5192571692226, 1433.0098824230377, 1164.649536572402, 1320.6955682504433, 4554.547910140543, 1666.8185149497983, 2499.490135663321, 1298.782325724712, 464.9734528376293, 1162.6014475006457, 7650.80355033164, 954.3294630712707, 1380.4990034937318, 1069.8929171396378, 1168.4502311434403, 1423.968502812277, 610.4859475569709, 2324.34919177518, 1447.4855395458676, 2639.509354129093, 4801.590798080601, 1679.7080907002241, 2367.4302325482295, 3677.1999995298033, 3272.29427441365, 3377.886129778142, 1416.5927070202845, 13130.406130137328, 2337.2288052707268, 4028.211459079233, 8565.965208374666, 3388.5786971044454, 2752.302446255921, 3647.913757194515, 7663.3041535891325, 4308.110553236042, 2384.239138695237, 1848.8542236049593, 3342.4876789249347, 884.0575900584512, 838.47745144301, 595.6790738963392, 503.9477459806217, 300.8952075222485, 298.3836899519873, 292.9691214912872, 246.00892187625288, 221.6740257928333, 189.8363044066916, 182.4395443197172, 179.66706149308013, 162.4828590816771, 127.8567376241386, 127.41554884258328, 123.63721182352289, 120.25110858869407, 115.43167344976489, 117.42993089953907, 101.0490057587067, 92.2524131530745, 90.87034037830377, 85.9213335646439, 76.92689674953454, 75.78203815021155, 64.35082830091702, 63.01969286657421, 61.66326779413958, 61.4714361873271, 60.538128441845274, 356.94764397982266, 159.56146568445945, 883.7363207200817, 154.04801197935433, 240.93718401053908, 5502.6871994326075, 7747.036884283706, 4615.029361025155, 2565.1468874621855, 646.7683702058558, 758.4511762641675, 2637.526909317497, 2267.569586046017, 11766.102414498147, 14752.938636620029, 1900.5615359421977, 301.6648867718425, 811.8409627007718, 576.368347210606, 1183.26142179871, 6979.96849272334, 853.5563957956543, 2882.6631541952133, 2188.281831875337, 13130.406130137328, 1248.2267055691952, 3346.9506315488247, 2103.8890078568143, 5605.877027847476, 2276.5078254378177, 2032.8208145242838, 1101.1600044891668, 5755.456096805583, 7650.80355033164, 4801.590798080601, 4554.547910140543, 2593.9375165637693, 4308.110553236042, 8565.965208374666, 4379.786815905415, 2895.2189909350263, 2784.2612184821023, 4150.168174848682, 6359.24224433486, 2980.682164198336, 789.8988104197728, 267.4098540238946, 245.01552985628618, 170.8656930007949, 145.18108068625992, 142.81178286378497, 135.27410571539158, 131.5282010526255, 121.98169661881896, 376.58311062699596, 101.39494541328365, 90.92108207209576, 68.37070656087792, 64.00555855471285, 62.107137250213555, 60.484321283014495, 58.44306219331408, 55.83435764882086, 54.91651136073008, 51.74983505073089, 51.71111388124069, 51.59672937542039, 49.071756356105475, 47.6261966049174, 47.476438289594824, 45.83073656840382, 44.468248629149485, 41.850976299559875, 1053.6118575841738, 267.6387735913193, 447.70383734712567, 175.61883566652998, 560.8597803767174, 1459.5029067332928, 185.70979682523506, 1125.6113170539445, 655.1651175315643, 215.69583141353857, 1534.1180506353585, 176.271004470412, 1004.6614407924171, 1688.773426236849, 2861.687944684333, 1880.2314057389754, 1174.5636410755267, 1169.5367040699814, 1170.9556879153538, 4261.660274739054, 1116.2688425447484, 14752.938636620029, 3822.192181497625, 537.6381424138461, 961.1698092760397, 1094.4377175348625, 6979.96849272334, 3560.579195957331, 3286.846221018827, 13130.406130137328, 3678.0704548678646, 4150.168174848682, 7747.036884283706, 2731.7578139410593, 5605.877027847476, 2981.6805836317767, 7663.3041535891325, 3574.5397973254608, 5502.6871994326075, 11766.102414498147, 3346.9506315488247, 3377.886129778142, 4443.318381675947, 3181.775765073553, 2053.1275108507175, 818.6009553397846, 766.1093537816395, 741.0117581991266, 607.8138237459858, 607.7261670670714, 498.61576100756764, 491.503906979157, 488.69795470555255, 451.37650555088237, 425.0258463546587, 413.7705179774918, 405.76057287587537, 400.490948268327, 320.40225367517843, 319.50791996099696, 311.4708962387619, 255.95592624991784, 251.30704138684195, 251.18748416876204, 214.6989367332159, 206.8244414634995, 181.94224225873026, 176.3655076573086, 167.18485249202672, 165.7024404700976, 164.02755061996183, 163.81084078994522, 158.8751133854441, 693.5629913872244, 522.4597505985497, 1040.0840527005464, 309.3671404793678, 358.1490228495185, 991.4266728638091, 2676.8167490298297, 948.2022481003681, 666.0440853885209, 662.4917045959171, 1530.1215643448331, 731.4966936422505, 1421.0841738063166, 2639.509354129093, 2559.437120811974, 1861.1971609233826, 1253.1950330101638, 5755.456096805583, 1997.5128505635396, 3342.4876789249347, 3699.014407762006, 13130.406130137328, 2148.666702423711, 6344.89896617834, 8565.965208374666, 2608.8252123354346, 4308.110553236042, 6326.307526022262, 7650.80355033164, 1908.5818494474338, 1025.8124456367575, 937.270974503472, 731.6930306895943, 700.1250334024971, 656.7117964947198, 529.52168407102, 466.32167901265854, 452.3507002731573, 450.08776709396693, 435.2216545997521, 395.95651101753845, 368.11932353223744, 346.9803935200558, 341.7973425564757, 311.84476042093866, 290.07991980791337, 281.87351809019793, 229.6613294651968, 223.58075506888002, 222.6773781029142, 204.72070013289817, 190.17676849765087, 189.51034422128416, 185.39099712131184, 181.0703341114884, 178.42577111071935, 171.33810486023245, 156.97385964611138, 145.9388185242358, 1856.9323057144331, 589.9509496603471, 598.2196359664653, 4663.4206134244705, 393.9249570597694, 1003.347134744109, 238.2222084688621, 892.8615470314276, 659.5680706476923, 678.9544851854228, 1126.2833644919874, 1074.9060993513956, 2384.239138695237, 1138.5026612286492, 577.0383246057424, 2951.4838633404906, 5366.945907668731, 6344.89896617834, 3574.5397973254608, 6326.307526022262, 2630.703884526495, 8205.008151320524, 8565.965208374666, 13130.406130137328, 3560.579195957331, 3677.1999995298033, 2481.121767608292, 921.7346287529871, 666.7967471138817, 445.1345880660454, 422.97993919214014, 387.53395445235685, 385.52615562630876, 372.1762757295991, 366.8758709863006, 294.58971757672794, 269.5485914852995, 265.6769934239087, 198.69021980278336, 159.31703410088966, 157.0846948951569, 141.25061203379497, 140.0805925535032, 138.68663916030675, 135.61715417996942, 119.20119587512032, 113.22888770576944, 103.03618809130191, 98.04196488346776, 94.77716919645462, 92.10111086089344, 89.09358033368574, 88.90665161112013, 82.04969979594277, 80.21236571741663, 80.01607467733623, 518.0327579385211, 661.270726334678, 773.6326311649398, 289.4545831503434, 2542.3720721684936, 2189.2685456262043, 124.32805044295456, 139.1421807108024, 343.6594680674066, 490.0851449187932, 284.83062053323243, 500.26470585232664, 322.5423954638832, 4522.361970857994, 2731.7578139410593, 328.6282689211072, 368.2269614167056, 1763.932913990257, 3286.846221018827, 441.6049651356159, 1877.62269054496, 7663.3041535891325, 1523.8255380951725, 2974.963576595722, 3149.9148588356793, 2078.6519055915664, 4552.3699478888375, 2734.1949426029114, 6344.89896617834, 8565.965208374666, 2883.892799150761, 5605.877027847476, 6979.96849272334, 6326.307526022262, 5484.731651619933, 2861.687944684333, 7650.80355033164, 13130.406130137328, 2277.8811312065277, 2211.5434605182804, 683.8063612973368, 597.7990845838387, 554.9570638194659, 519.2515069602578, 458.7764491952456, 437.24452607270825, 981.3967126432113, 343.9250321775773, 282.26870793422427, 266.05210961130996, 889.1369631672993, 209.93117653488505, 164.0550659350449, 136.6415882618448, 129.58856338238388, 101.31589088935247, 99.00933053714361, 97.83450174717781, 82.08776988514899, 62.827960484536796, 1096.3093544634135, 434.9891128732825, 50.08928189337809, 46.354808499764246, 44.69406462158763, 42.22979832829491, 40.518293061867524, 1063.3631671802564, 2869.4668376044715, 1300.5587269366008, 3347.244985403062, 532.8354742002415, 563.435350950842, 1511.3826651848397, 494.95993007179135, 745.2889779243571, 282.2597551329304, 1782.997412748908, 815.8835757023859, 2933.6335563186667, 4432.521505362041, 634.8249608132139, 830.6106981391039, 1812.643350733281, 2981.6805836317767, 1638.5629416327886, 1783.2900723832604, 14752.938636620029, 2593.9375165637693, 1447.8313945056702, 1060.1106098243158, 1845.81120932719, 2373.585819682536, 1017.7544397361985, 2125.6190184316406, 5605.877027847476, 4552.3699478888375, 2103.8890078568143, 2446.967285834681, 267.48015229955917, 224.9580795880371, 120.88227979502106, 106.61269054431659, 97.284617177503, 81.73504238698034, 76.00828379506584, 74.88100152389373, 73.74137638936763, 72.51184873983291, 67.96492250618607, 66.20748092258233, 62.6242207496832, 57.952598987231006, 56.802660353864084, 56.06827321304097, 52.70385194911192, 51.93749340975432, 47.23506567271022, 46.65739233296548, 46.655841288335104, 45.41413039700589, 43.90403851079875, 40.5096821141671, 39.93418720274399, 39.85485205825042, 38.74612052436235, 38.40769938845821, 38.00804375329173, 37.88271864119664, 120.90950508016921, 215.79987849892606, 91.68422632232445, 79.01487512495348, 446.36882715518306, 488.4434454646766, 142.9905292936568, 1651.0404414937257, 2330.7183051335455, 232.02828819391257, 124.45835421961148, 81.57528322605826, 326.45825024787837, 2310.77764487817, 140.948090793294, 257.2870764271037, 1053.4686524365038, 97.77493231261924, 1470.5822328297058, 579.6426532957852, 481.923208549373, 4443.318381675947, 2194.0456863051895, 5366.945907668731, 742.6052648624964, 423.22067875194637, 2883.892799150761, 2369.497271118158, 2112.9327411593695, 2784.2612184821023, 471.82806546762936, 8205.008151320524, 7663.3041535891325, 913.009032422663, 5484.731651619933, 4150.168174848682, 1710.4136758123125, 4261.660274739054, 6326.307526022262, 3560.579195957331, 3678.0704548678646, 2630.703884526495, 2120.273231563356, 2276.5078254378177, 3297.6857888405393, 3985.320742584517, 2803.2090991163877, 3574.5397973254608, 8565.965208374666, 1575.317519195162, 2218.9167281042232, 237.10371256870553, 198.1121274131172, 157.08017667736934, 132.11814161774743, 127.35754084424669, 125.68492818321391, 123.44330349104088, 114.85931264841088, 112.73002042080711, 109.70630719604019, 95.06883652561686, 94.77091027125009, 94.20727364844359, 93.31508141660858, 91.5763420727537, 90.88271835928992, 85.74654475442402, 83.8981298607575, 78.51230093284585, 76.89433222070043, 75.68745137863866, 75.59605297847845, 75.32735354693746, 72.93583024298229, 71.24037905823148, 69.7740993507549, 69.3022610708941, 65.34401145352031, 65.21452296385914, 64.8374257418645, 197.6679625609646, 185.66525727725625, 125.08374623495412, 708.3879740506601, 228.61673002019742, 322.09992665873716, 674.4371145282421, 443.37878583271146, 378.7524860620584, 465.57519696317627, 2951.4838633404906, 159.75040880662118, 304.4488526120848, 184.44061478199674, 5366.945907668731, 1876.6591521249159, 11766.102414498147, 733.7732582618493, 655.2825018851587, 196.66303986408886, 2406.9076332229897, 357.8068078241456, 1906.409574936837, 6326.307526022262, 2630.703884526495, 1638.5629416327886, 8205.008151320524, 991.2657227281246, 2826.001335720159, 4379.786815905415, 299.0073953825368, 1138.5026612286492, 2608.8252123354346, 1084.5517226599063, 1783.7736465924431, 3297.6857888405393, 1845.81120932719, 2337.2288052707268, 1861.1971609233826, 1783.2900723832604, 1862.6612878339913, 7650.80355033164, 878.0701982214068, 279.98885039884885, 197.99285113311527, 191.3700354408068, 189.4847896519496, 163.75743983255308, 148.37567529958451, 142.18313087370623, 132.50481781601093, 131.11066719638808, 109.77782098631488, 106.63239880960543, 100.20963755343172, 93.35121974716456, 88.29015920419752, 87.3750413695373, 83.39244553565015, 79.91870864818127, 79.60475194154262, 79.08875084071843, 76.70871056659507, 75.37525740740001, 75.28315771477746, 73.32792578160625, 68.78892903656944, 68.77455861029439, 68.29458628882035, 68.23079924900459, 66.82782861146023, 66.63467778515447, 467.64441155172, 252.82816365082135, 1747.2657063935028, 365.49940860648303, 850.8658240934692, 379.35372179952043, 763.8350758577683, 855.2851618777596, 415.0258414742064, 390.62990474198193, 328.1405406375456, 262.48138764778315, 331.5091474698416, 1566.9670439746571, 515.3736723683942, 1434.0313816296552, 850.4933439160736, 378.2259207789615, 279.77174276229584, 219.58306166162146, 409.8487791643771, 506.59328595681154, 3985.320742584517, 711.0498787481239, 427.61951354929994, 6344.89896617834, 3822.192181497625, 3342.4876789249347, 8205.008151320524, 2337.2288052707268, 1772.616390502348, 2895.2189909350263, 2406.9076332229897, 1071.3953319281904, 1259.1626072525694, 775.901336971244, 611.9127201384795, 407.6891391994055, 349.91526055776586, 325.2553437787939, 317.88431370332285, 269.8830814021395, 234.1932260856768, 217.9768348843171, 207.79990872613746, 201.81795106339095, 171.46686615214867, 170.31767589951343, 161.6281808616713, 157.6109920096057, 136.85450716513776, 129.19543301726117, 123.17474109302852, 122.54706405354673, 116.25429431893537, 99.2670100639386, 95.11440944075574, 92.00474931907686, 89.5696060622882, 86.72211127174258, 85.547280341041, 278.53687765446193, 84.0005996934494, 76.03727910796552, 299.4734207231925, 216.5897784010521, 685.6898666924594, 529.3804539352928, 215.99791603500452, 4552.3699478888375, 474.6533978126352, 205.95258861686403, 395.0543051740965, 606.6659215866896, 265.0234607791195, 1666.0024104756458, 4522.361970857994, 5605.877027847476, 2112.9327411593695, 3346.9506315488247, 3574.5397973254608, 1324.9081033099005, 8205.008151320524, 3678.0704548678646, 2784.2612184821023, 1308.4790421905413, 3149.9148588356793, 2974.963576595722, 7747.036884283706, 6344.89896617834, 3822.192181497625, 414.2850988685104, 190.01893362648647, 128.65553286046784, 104.49682754386043, 102.66228669119977, 99.11194047596432, 87.0397851167825, 74.7965106476547, 71.86582219740107, 67.19312863231964, 57.99480980670857, 56.86768246926027, 55.58611139128638, 54.23425739693792, 51.25375791285207, 50.91909584227633, 50.547701758700654, 49.6330509226116, 49.03495439707979, 49.00900084943102, 48.836582764984776, 46.20626379333896, 40.74877658293831, 40.74377959293013, 39.37379247122193, 37.858638032729104, 37.679782583822124, 37.66543308764141, 36.79783034022341, 36.649475370952004, 173.04564581845634, 413.4880680654885, 1702.83094232356, 156.48278401345033, 458.82537972224264, 215.8570636693262, 61.00679015665144, 154.82957815816454, 203.3968441563715, 394.87500018495047, 274.3843480816564, 120.3723218001968, 780.231639980646, 257.4033364724647, 739.8937567217656, 427.48927378490293, 399.6093411406875, 574.8246430874441, 105.82393685624719, 1838.5825402427802, 1098.4972203572238, 855.6847085535452, 2974.963576595722, 850.4933439160736, 1877.62269054496, 419.2999296516063, 207.35416457905433, 3286.846221018827, 364.6996753969407, 1039.1323927425356, 2385.3006546217807, 2188.281831875337, 2499.490135663321, 2218.9167281042232, 1874.5976440985878, 7650.80355033164, 2637.526909317497, 585.5284348188131, 502.9599566254202, 492.2051086078715, 305.0506224794746, 236.83712350528322, 205.57609831506088, 183.18843209549442, 163.8544776412767, 139.65919020800868, 116.4322696061452, 93.64483767623437, 83.95218971375658, 72.75717636146224, 72.73224907321482, 71.13801537208363, 59.37460727202227, 58.550802513229556, 57.41742581504681, 55.964242740305515, 51.77025667859815, 46.58860020371099, 45.776895656000214, 45.59203733678674, 40.848985525604, 40.300156634810385, 39.88113997013098, 35.78944985925021, 35.530441103595656, 34.87899695479375, 34.794131239111806, 139.46982450286845, 236.35536560945812, 481.1351810372268, 308.0478840809367, 97.99495440179356, 90.28621741879176, 285.04906713534535, 1075.1301225018224, 310.72934939145085, 1575.317519195162, 1717.368377396103, 602.1597519298555, 1253.1950330101638, 161.7208014311474, 1918.2075472981285, 2933.6335563186667, 683.4102819921249, 178.86455579410165, 285.35925364797964, 1074.9060993513956, 13130.406130137328, 5755.456096805583, 1416.1918500183174, 2084.5800303294354, 4308.110553236042, 1324.9081033099005, 1084.2973729996424, 833.2192696993047, 3377.886129778142, 2367.4302325482295, 2236.926598383199, 530.1868218405679, 370.30277433607876, 245.17532013064135, 228.24139900863912, 226.2352179143498, 220.06157621210838, 217.59577701637932, 206.2198168069328, 198.08442318410485, 191.8665879365535, 157.68923854703354, 144.65134842001686, 116.20266870600898, 114.15685708931589, 96.20708273719494, 85.93816418206885, 83.77470687918314, 77.14884554636318, 77.0581386263604, 75.46644620415415, 69.43329753020762, 61.710028746172746, 55.91944977980896, 55.84894376765437, 52.3094269433369, 51.265561972846065, 47.623489850914794, 44.3945809036172, 43.561997489492974, 43.068049709809145, 109.7048291686073, 79.06826855175267, 254.02189870090072, 1666.0024104756458, 128.3588900886562, 440.87572472848507, 115.34919147759362, 419.82171397792473, 262.3909093657803, 1203.4848798364094, 217.58539369590812, 6344.89896617834, 1086.4414417368055, 3822.192181497625, 2637.526909317497, 1025.249139484848, 8205.008151320524, 2565.1468874621855, 6979.96849272334, 3699.014407762006, 5502.6871994326075, 1125.6113170539445, 7747.036884283706, 139.86819026721724, 127.23382431766491, 120.76522776447109, 82.03852681366749, 72.37694423278029, 68.38682603202955, 60.4205492737481, 50.16806729584924, 44.30613869292308, 42.02782817336582, 40.58196839939823, 37.20126484438206, 32.55370747678219, 31.948961635710596, 31.649012441409702, 30.920936439660313, 29.967843482898097, 29.00415239128578, 28.303253641409793, 27.5667974335172, 26.886484034596773, 25.50985276509472, 25.018701235298487, 24.397130646286012, 23.4762597495825, 22.709216747497063, 22.289050867032284, 21.994532130967997, 21.75803011564711, 21.30040309052203, 68.70269763047261, 29.23050051543829, 143.65453742126115, 118.30184655560436, 31.68506269359527], \"Category\": [\"Default\", \"Default\", \"Default\", \"Default\", \"Default\", \"Default\", \"Default\", \"Default\", \"Default\", \"Default\", \"Default\", \"Default\", \"Default\", \"Default\", \"Default\", \"Default\", \"Default\", \"Default\", \"Default\", \"Default\", \"Default\", \"Default\", \"Default\", \"Default\", \"Default\", \"Default\", \"Default\", \"Default\", \"Default\", \"Default\", \"Topic1\", \"Topic1\", \"Topic1\", \"Topic1\", \"Topic1\", \"Topic1\", \"Topic1\", \"Topic1\", \"Topic1\", \"Topic1\", \"Topic1\", \"Topic1\", \"Topic1\", \"Topic1\", \"Topic1\", \"Topic1\", \"Topic1\", \"Topic1\", \"Topic1\", \"Topic1\", \"Topic1\", \"Topic1\", \"Topic1\", \"Topic1\", \"Topic1\", \"Topic1\", \"Topic1\", \"Topic1\", \"Topic1\", \"Topic1\", \"Topic1\", \"Topic1\", \"Topic1\", \"Topic1\", \"Topic1\", \"Topic1\", \"Topic1\", \"Topic1\", \"Topic1\", \"Topic1\", \"Topic1\", \"Topic1\", \"Topic1\", \"Topic1\", \"Topic1\", \"Topic1\", \"Topic1\", \"Topic1\", \"Topic1\", \"Topic1\", \"Topic1\", \"Topic1\", \"Topic1\", \"Topic1\", \"Topic1\", \"Topic1\", \"Topic1\", \"Topic1\", \"Topic1\", \"Topic1\", \"Topic1\", \"Topic1\", \"Topic1\", \"Topic1\", \"Topic1\", \"Topic1\", \"Topic1\", \"Topic1\", \"Topic1\", \"Topic1\", \"Topic1\", \"Topic1\", \"Topic1\", \"Topic1\", \"Topic1\", \"Topic1\", \"Topic1\", \"Topic1\", \"Topic2\", \"Topic2\", \"Topic2\", \"Topic2\", \"Topic2\", \"Topic2\", \"Topic2\", \"Topic2\", \"Topic2\", \"Topic2\", \"Topic2\", \"Topic2\", \"Topic2\", \"Topic2\", \"Topic2\", \"Topic2\", \"Topic2\", \"Topic2\", \"Topic2\", \"Topic2\", \"Topic2\", \"Topic2\", \"Topic2\", \"Topic2\", \"Topic2\", \"Topic2\", \"Topic2\", \"Topic2\", \"Topic2\", \"Topic2\", \"Topic2\", \"Topic2\", \"Topic2\", \"Topic2\", \"Topic2\", \"Topic2\", \"Topic2\", \"Topic2\", \"Topic2\", \"Topic2\", \"Topic2\", \"Topic2\", \"Topic2\", \"Topic2\", \"Topic2\", \"Topic2\", \"Topic2\", \"Topic2\", \"Topic2\", \"Topic2\", \"Topic2\", \"Topic2\", \"Topic2\", \"Topic2\", \"Topic2\", \"Topic2\", \"Topic2\", \"Topic2\", \"Topic2\", \"Topic2\", \"Topic2\", \"Topic2\", \"Topic2\", \"Topic2\", \"Topic2\", \"Topic2\", \"Topic2\", \"Topic2\", \"Topic2\", \"Topic2\", \"Topic2\", \"Topic2\", \"Topic2\", \"Topic3\", \"Topic3\", \"Topic3\", \"Topic3\", \"Topic3\", \"Topic3\", \"Topic3\", \"Topic3\", \"Topic3\", \"Topic3\", \"Topic3\", \"Topic3\", \"Topic3\", \"Topic3\", \"Topic3\", \"Topic3\", \"Topic3\", \"Topic3\", \"Topic3\", \"Topic3\", \"Topic3\", \"Topic3\", \"Topic3\", \"Topic3\", \"Topic3\", \"Topic3\", \"Topic3\", \"Topic3\", \"Topic3\", \"Topic3\", \"Topic3\", \"Topic3\", \"Topic3\", \"Topic3\", \"Topic3\", \"Topic3\", \"Topic3\", \"Topic3\", \"Topic3\", \"Topic3\", \"Topic3\", \"Topic3\", \"Topic3\", \"Topic3\", \"Topic3\", \"Topic3\", \"Topic3\", \"Topic3\", \"Topic3\", \"Topic3\", \"Topic3\", \"Topic3\", \"Topic3\", \"Topic3\", \"Topic3\", \"Topic3\", \"Topic3\", \"Topic3\", \"Topic3\", \"Topic3\", \"Topic3\", \"Topic3\", \"Topic3\", \"Topic3\", \"Topic3\", \"Topic3\", \"Topic3\", \"Topic3\", \"Topic3\", \"Topic3\", \"Topic3\", \"Topic3\", \"Topic3\", \"Topic4\", \"Topic4\", \"Topic4\", \"Topic4\", \"Topic4\", \"Topic4\", \"Topic4\", \"Topic4\", \"Topic4\", \"Topic4\", \"Topic4\", \"Topic4\", \"Topic4\", \"Topic4\", \"Topic4\", \"Topic4\", \"Topic4\", \"Topic4\", \"Topic4\", \"Topic4\", \"Topic4\", \"Topic4\", \"Topic4\", \"Topic4\", \"Topic4\", \"Topic4\", \"Topic4\", \"Topic4\", \"Topic4\", \"Topic4\", \"Topic4\", \"Topic4\", \"Topic4\", \"Topic4\", \"Topic4\", \"Topic4\", \"Topic4\", \"Topic4\", \"Topic4\", \"Topic4\", \"Topic4\", \"Topic4\", \"Topic4\", \"Topic4\", \"Topic4\", \"Topic4\", \"Topic4\", \"Topic4\", \"Topic4\", \"Topic4\", \"Topic4\", \"Topic4\", \"Topic4\", \"Topic4\", \"Topic4\", \"Topic4\", \"Topic4\", \"Topic4\", \"Topic4\", \"Topic5\", \"Topic5\", \"Topic5\", \"Topic5\", \"Topic5\", \"Topic5\", \"Topic5\", \"Topic5\", \"Topic5\", \"Topic5\", \"Topic5\", \"Topic5\", \"Topic5\", \"Topic5\", \"Topic5\", \"Topic5\", \"Topic5\", \"Topic5\", \"Topic5\", \"Topic5\", \"Topic5\", \"Topic5\", \"Topic5\", \"Topic5\", \"Topic5\", \"Topic5\", \"Topic5\", \"Topic5\", \"Topic5\", \"Topic5\", \"Topic5\", \"Topic5\", \"Topic5\", \"Topic5\", \"Topic5\", \"Topic5\", \"Topic5\", \"Topic5\", \"Topic5\", \"Topic5\", \"Topic5\", \"Topic5\", \"Topic5\", \"Topic5\", \"Topic5\", \"Topic5\", \"Topic5\", \"Topic5\", \"Topic5\", \"Topic5\", \"Topic5\", \"Topic5\", \"Topic5\", \"Topic5\", \"Topic5\", \"Topic5\", \"Topic6\", \"Topic6\", \"Topic6\", \"Topic6\", \"Topic6\", \"Topic6\", \"Topic6\", \"Topic6\", \"Topic6\", \"Topic6\", \"Topic6\", \"Topic6\", \"Topic6\", \"Topic6\", \"Topic6\", \"Topic6\", \"Topic6\", \"Topic6\", \"Topic6\", \"Topic6\", \"Topic6\", \"Topic6\", \"Topic6\", \"Topic6\", \"Topic6\", \"Topic6\", \"Topic6\", \"Topic6\", \"Topic6\", \"Topic6\", \"Topic6\", \"Topic6\", \"Topic6\", \"Topic6\", \"Topic6\", \"Topic6\", \"Topic6\", \"Topic6\", \"Topic6\", \"Topic6\", \"Topic6\", \"Topic6\", \"Topic6\", \"Topic6\", \"Topic6\", \"Topic6\", \"Topic6\", \"Topic6\", \"Topic6\", \"Topic6\", \"Topic6\", \"Topic6\", \"Topic6\", \"Topic6\", \"Topic6\", \"Topic6\", \"Topic6\", \"Topic6\", \"Topic6\", \"Topic6\", \"Topic6\", \"Topic6\", \"Topic6\", \"Topic6\", \"Topic6\", \"Topic6\", \"Topic6\", \"Topic6\", \"Topic7\", \"Topic7\", \"Topic7\", \"Topic7\", \"Topic7\", \"Topic7\", \"Topic7\", \"Topic7\", \"Topic7\", \"Topic7\", \"Topic7\", \"Topic7\", \"Topic7\", \"Topic7\", \"Topic7\", \"Topic7\", \"Topic7\", \"Topic7\", \"Topic7\", \"Topic7\", \"Topic7\", \"Topic7\", \"Topic7\", \"Topic7\", \"Topic7\", \"Topic7\", \"Topic7\", \"Topic7\", \"Topic7\", \"Topic7\", \"Topic7\", \"Topic7\", \"Topic7\", \"Topic7\", \"Topic7\", \"Topic7\", \"Topic7\", \"Topic7\", \"Topic7\", \"Topic7\", \"Topic7\", \"Topic7\", \"Topic7\", \"Topic7\", \"Topic7\", \"Topic7\", \"Topic7\", \"Topic7\", \"Topic7\", \"Topic7\", \"Topic7\", \"Topic7\", \"Topic7\", \"Topic7\", \"Topic7\", \"Topic7\", \"Topic7\", \"Topic7\", \"Topic7\", \"Topic7\", \"Topic7\", \"Topic8\", \"Topic8\", \"Topic8\", \"Topic8\", \"Topic8\", \"Topic8\", \"Topic8\", \"Topic8\", \"Topic8\", \"Topic8\", \"Topic8\", \"Topic8\", \"Topic8\", \"Topic8\", \"Topic8\", \"Topic8\", \"Topic8\", \"Topic8\", \"Topic8\", \"Topic8\", \"Topic8\", \"Topic8\", \"Topic8\", \"Topic8\", \"Topic8\", \"Topic8\", \"Topic8\", \"Topic8\", \"Topic8\", \"Topic8\", \"Topic8\", \"Topic8\", \"Topic8\", \"Topic8\", \"Topic8\", \"Topic8\", \"Topic8\", \"Topic8\", \"Topic8\", \"Topic8\", \"Topic8\", \"Topic8\", \"Topic8\", \"Topic8\", \"Topic8\", \"Topic8\", \"Topic8\", \"Topic8\", \"Topic8\", \"Topic8\", \"Topic8\", \"Topic8\", \"Topic8\", \"Topic8\", \"Topic8\", \"Topic8\", \"Topic8\", \"Topic8\", \"Topic8\", \"Topic8\", \"Topic8\", \"Topic8\", \"Topic8\", \"Topic8\", \"Topic8\", \"Topic8\", \"Topic8\", \"Topic8\", \"Topic8\", \"Topic8\", \"Topic8\", \"Topic8\", \"Topic8\", \"Topic8\", \"Topic8\", \"Topic8\", \"Topic8\", \"Topic8\", \"Topic8\", \"Topic8\", \"Topic8\", \"Topic9\", \"Topic9\", \"Topic9\", \"Topic9\", \"Topic9\", \"Topic9\", \"Topic9\", \"Topic9\", \"Topic9\", \"Topic9\", \"Topic9\", \"Topic9\", \"Topic9\", \"Topic9\", \"Topic9\", \"Topic9\", \"Topic9\", \"Topic9\", \"Topic9\", \"Topic9\", \"Topic9\", \"Topic9\", \"Topic9\", \"Topic9\", \"Topic9\", \"Topic9\", \"Topic9\", \"Topic9\", \"Topic9\", \"Topic9\", \"Topic9\", \"Topic9\", \"Topic9\", \"Topic9\", \"Topic9\", \"Topic9\", \"Topic9\", \"Topic9\", \"Topic9\", \"Topic9\", \"Topic9\", \"Topic9\", \"Topic9\", \"Topic9\", \"Topic9\", \"Topic9\", \"Topic9\", \"Topic9\", \"Topic9\", \"Topic9\", \"Topic9\", \"Topic9\", \"Topic9\", \"Topic9\", \"Topic9\", \"Topic9\", \"Topic9\", \"Topic9\", \"Topic9\", \"Topic9\", \"Topic9\", \"Topic9\", \"Topic9\", \"Topic9\", \"Topic9\", \"Topic9\", \"Topic9\", \"Topic9\", \"Topic9\", \"Topic9\", \"Topic9\", \"Topic9\", \"Topic10\", \"Topic10\", \"Topic10\", \"Topic10\", \"Topic10\", \"Topic10\", \"Topic10\", \"Topic10\", \"Topic10\", \"Topic10\", \"Topic10\", \"Topic10\", \"Topic10\", \"Topic10\", \"Topic10\", \"Topic10\", \"Topic10\", \"Topic10\", \"Topic10\", \"Topic10\", \"Topic10\", \"Topic10\", \"Topic10\", \"Topic10\", \"Topic10\", \"Topic10\", \"Topic10\", \"Topic10\", \"Topic10\", \"Topic10\", \"Topic10\", \"Topic10\", \"Topic10\", \"Topic10\", \"Topic10\", \"Topic10\", \"Topic10\", \"Topic10\", \"Topic10\", \"Topic10\", \"Topic10\", \"Topic10\", \"Topic10\", \"Topic10\", \"Topic10\", \"Topic10\", \"Topic10\", \"Topic10\", \"Topic10\", \"Topic10\", \"Topic10\", \"Topic10\", \"Topic10\", \"Topic10\", \"Topic10\", \"Topic10\", \"Topic10\", \"Topic10\", \"Topic10\", \"Topic10\", \"Topic10\", \"Topic10\", \"Topic10\", \"Topic10\", \"Topic11\", \"Topic11\", \"Topic11\", \"Topic11\", \"Topic11\", \"Topic11\", \"Topic11\", \"Topic11\", \"Topic11\", \"Topic11\", \"Topic11\", \"Topic11\", \"Topic11\", \"Topic11\", \"Topic11\", \"Topic11\", \"Topic11\", \"Topic11\", \"Topic11\", \"Topic11\", \"Topic11\", \"Topic11\", \"Topic11\", \"Topic11\", \"Topic11\", \"Topic11\", \"Topic11\", \"Topic11\", \"Topic11\", \"Topic11\", \"Topic11\", \"Topic11\", \"Topic11\", \"Topic11\", \"Topic11\", \"Topic11\", \"Topic11\", \"Topic11\", \"Topic11\", \"Topic11\", \"Topic11\", \"Topic11\", \"Topic11\", \"Topic11\", \"Topic11\", \"Topic11\", \"Topic11\", \"Topic11\", \"Topic11\", \"Topic11\", \"Topic11\", \"Topic11\", \"Topic11\", \"Topic11\", \"Topic11\", \"Topic11\", \"Topic11\", \"Topic12\", \"Topic12\", \"Topic12\", \"Topic12\", \"Topic12\", \"Topic12\", \"Topic12\", \"Topic12\", \"Topic12\", \"Topic12\", \"Topic12\", \"Topic12\", \"Topic12\", \"Topic12\", \"Topic12\", \"Topic12\", \"Topic12\", \"Topic12\", \"Topic12\", \"Topic12\", \"Topic12\", \"Topic12\", \"Topic12\", \"Topic12\", \"Topic12\", \"Topic12\", \"Topic12\", \"Topic12\", \"Topic12\", \"Topic12\", \"Topic12\", \"Topic12\", \"Topic12\", \"Topic12\", \"Topic12\", \"Topic12\", \"Topic12\", \"Topic12\", \"Topic12\", \"Topic12\", \"Topic12\", \"Topic12\", \"Topic12\", \"Topic12\", \"Topic12\", \"Topic12\", \"Topic12\", \"Topic12\", \"Topic12\", \"Topic12\", \"Topic12\", \"Topic12\", \"Topic12\", \"Topic12\", \"Topic12\", \"Topic12\", \"Topic12\", \"Topic12\", \"Topic12\", \"Topic12\", \"Topic12\", \"Topic12\", \"Topic12\", \"Topic12\", \"Topic12\", \"Topic12\", \"Topic12\", \"Topic13\", \"Topic13\", \"Topic13\", \"Topic13\", \"Topic13\", \"Topic13\", \"Topic13\", \"Topic13\", \"Topic13\", \"Topic13\", \"Topic13\", \"Topic13\", \"Topic13\", \"Topic13\", \"Topic13\", \"Topic13\", \"Topic13\", \"Topic13\", \"Topic13\", \"Topic13\", \"Topic13\", \"Topic13\", \"Topic13\", \"Topic13\", \"Topic13\", \"Topic13\", \"Topic13\", \"Topic13\", \"Topic13\", \"Topic13\", \"Topic13\", \"Topic13\", \"Topic13\", \"Topic13\", \"Topic13\", \"Topic13\", \"Topic13\", \"Topic13\", \"Topic13\", \"Topic13\", \"Topic13\", \"Topic13\", \"Topic13\", \"Topic13\", \"Topic13\", \"Topic13\", \"Topic13\", \"Topic13\", \"Topic13\", \"Topic13\", \"Topic13\", \"Topic13\", \"Topic13\", \"Topic13\", \"Topic13\", \"Topic13\", \"Topic13\", \"Topic13\", \"Topic13\", \"Topic13\", \"Topic13\", \"Topic14\", \"Topic14\", \"Topic14\", \"Topic14\", \"Topic14\", \"Topic14\", \"Topic14\", \"Topic14\", \"Topic14\", \"Topic14\", \"Topic14\", \"Topic14\", \"Topic14\", \"Topic14\", \"Topic14\", \"Topic14\", \"Topic14\", \"Topic14\", \"Topic14\", \"Topic14\", \"Topic14\", \"Topic14\", \"Topic14\", \"Topic14\", \"Topic14\", \"Topic14\", \"Topic14\", \"Topic14\", \"Topic14\", \"Topic14\", \"Topic14\", \"Topic14\", \"Topic14\", \"Topic14\", \"Topic14\", \"Topic14\", \"Topic14\", \"Topic14\", \"Topic14\", \"Topic14\", \"Topic14\", \"Topic14\", \"Topic14\", \"Topic14\", \"Topic14\", \"Topic14\", \"Topic14\", \"Topic14\", \"Topic14\", \"Topic14\", \"Topic14\", \"Topic14\", \"Topic14\", \"Topic15\", \"Topic15\", \"Topic15\", \"Topic15\", \"Topic15\", \"Topic15\", \"Topic15\", \"Topic15\", \"Topic15\", \"Topic15\", \"Topic15\", \"Topic15\", \"Topic15\", \"Topic15\", \"Topic15\", \"Topic15\", \"Topic15\", \"Topic15\", \"Topic15\", \"Topic15\", \"Topic15\", \"Topic15\", \"Topic15\", \"Topic15\", \"Topic15\", \"Topic15\", \"Topic15\", \"Topic15\", \"Topic15\", \"Topic15\", \"Topic15\", \"Topic15\", \"Topic15\", \"Topic15\", \"Topic15\"], \"logprob\": [30.0, 29.0, 28.0, 27.0, 26.0, 25.0, 24.0, 23.0, 22.0, 21.0, 20.0, 19.0, 18.0, 17.0, 16.0, 15.0, 14.0, 13.0, 12.0, 11.0, 10.0, 9.0, 8.0, 7.0, 6.0, 5.0, 4.0, 3.0, 2.0, 1.0, -6.1579, -6.3537, -6.4716, -6.9456, -7.1604, -7.1633, -7.1778, -7.234, -7.2634, -7.2924, -7.4127, -7.4287, -7.4628, -7.4749, -7.5405, -7.5847, -7.6229, -7.634, -7.6541, -7.6625, -7.7165, -7.8085, -7.8484, -7.881, -7.9062, -7.9104, -7.9198, -7.9281, -7.9327, -7.9409, -6.4448, -6.6276, -5.7731, -6.7794, -5.4128, -6.6007, -5.5135, -6.9097, -5.6412, -5.0345, -5.1083, -5.2987, -5.1904, -4.0856, -4.996, -4.6662, -5.2558, -6.183, -5.4009, -3.8045, -5.5845, -5.2865, -5.5275, -5.4745, -5.352, -6.0256, -5.0074, -5.3764, -4.9414, -4.5048, -5.2781, -5.0414, -4.7787, -4.8775, -4.8838, -5.4439, -4.171, -5.1558, -4.8777, -4.5225, -4.9717, -5.0722, -4.9937, -4.8584, -5.2573, -5.3437, -5.3653, -5.3493, -5.3169, -5.3699, -5.7122, -5.8797, -6.3967, -6.4051, -6.4235, -6.5988, -6.7034, -6.8591, -6.899, -6.9144, -7.0155, -7.2567, -7.2602, -7.2905, -7.3185, -7.3597, -7.3429, -7.4941, -7.5859, -7.6012, -7.6578, -7.7696, -7.7848, -7.9505, -7.9717, -7.9938, -7.997, -8.0125, -6.2389, -7.0653, -5.4249, -7.1114, -6.6931, -3.786, -3.4732, -3.999, -4.5469, -5.8046, -5.6684, -4.5908, -4.7371, -3.3372, -3.2203, -5.0118, -6.5436, -5.7226, -6.0074, -5.4315, -3.9956, -5.6991, -4.7897, -5.0734, -3.7999, -5.5057, -4.8462, -5.1754, -4.5741, -5.1334, -5.2376, -5.6177, -4.8019, -4.7979, -5.0135, -5.0952, -5.3046, -5.1298, -5.0009, -5.1901, -5.2938, -5.3086, -5.3165, -3.1699, -3.9278, -5.2566, -6.342, -6.4298, -6.7919, -6.9558, -6.9723, -7.0269, -7.0552, -7.1311, -6.005, -7.3175, -7.4276, -7.716, -7.7829, -7.8134, -7.8403, -7.8752, -7.9216, -7.9384, -7.9989, -7.9996, -8.0019, -8.053, -8.0835, -8.0867, -8.1227, -8.1535, -8.2155, -5.0053, -6.3818, -5.8987, -6.8157, -5.7111, -4.8256, -6.822, -5.186, -5.6804, -6.6914, -4.9398, -6.8882, -5.3635, -4.9075, -4.497, -4.88, -5.287, -5.3072, -5.3065, -4.3206, -5.4254, -3.4977, -4.6342, -6.0421, -5.6452, -5.5636, -4.3702, -4.8529, -4.905, -4.0517, -4.8845, -4.8999, -4.5827, -5.1296, -4.8205, -5.1665, -4.873, -5.1473, -5.0749, -4.9476, -5.1961, -5.1982, -5.2151, -3.6346, -4.0728, -4.993, -5.0594, -5.0927, -5.2912, -5.2913, -5.4895, -5.5039, -5.5097, -5.5893, -5.6496, -5.6765, -5.696, -5.7092, -5.9329, -5.9357, -5.9612, -6.1582, -6.1766, -6.177, -6.3346, -6.3722, -6.501, -6.5323, -6.586, -6.595, -6.6052, -6.6065, -6.6373, -5.2112, -5.4883, -4.849, -6.0015, -5.8901, -4.9948, -4.132, -5.1441, -5.4392, -5.4744, -4.9329, -5.4763, -5.0737, -4.7269, -4.9021, -5.0818, -5.2984, -4.6875, -5.1516, -4.9841, -4.972, -4.7112, -5.1926, -4.9991, -4.9421, -5.2859, -5.2577, -5.3149, -5.3352, -4.0721, -4.6934, -4.7837, -5.0316, -5.0758, -5.1399, -5.3555, -5.4828, -5.5133, -5.5183, -5.552, -5.6467, -5.7198, -5.7791, -5.7942, -5.8862, -5.9587, -5.9875, -6.1931, -6.2201, -6.2241, -6.3086, -6.3826, -6.3861, -6.4082, -6.4319, -6.4467, -6.4875, -6.5755, -6.6489, -4.1232, -5.321, -5.3222, -3.4453, -5.7401, -5.0486, -6.2068, -5.2171, -5.4494, -5.439, -5.1249, -5.1861, -4.6736, -5.18, -5.6122, -4.9299, -4.7289, -4.8066, -5.0043, -4.9027, -5.1686, -4.8614, -5.0826, -5.2329, -5.3691, -5.4017, -3.7769, -4.7677, -5.0919, -5.4967, -5.5478, -5.6356, -5.6408, -5.6761, -5.6905, -5.9105, -5.9997, -6.0142, -6.3059, -6.5279, -6.5421, -6.649, -6.6574, -6.6674, -6.69, -6.8199, -6.8718, -6.9669, -7.0171, -7.0512, -7.0802, -7.1137, -7.1158, -7.197, -7.2199, -7.2224, -5.3815, -5.1578, -5.0314, -5.9955, -3.969, -4.1335, -6.8017, -6.7003, -5.8983, -5.5899, -6.07, -5.5834, -5.9711, -3.8112, -4.3253, -5.9983, -5.9324, -4.8102, -4.3746, -5.8103, -4.9219, -4.1672, -5.1225, -4.7782, -4.7797, -5.0692, -4.7342, -5.0057, -4.6583, -4.5876, -5.1437, -4.9761, -4.9419, -5.0918, -5.1357, -5.2801, -5.2696, -5.2701, -3.7142, -3.7438, -4.9185, -5.0531, -5.1276, -5.1942, -5.3183, -5.3664, -4.5582, -5.6071, -5.8053, -5.8646, -4.6586, -6.1025, -6.3504, -6.5344, -6.5878, -6.8359, -6.8592, -6.8712, -7.0486, -7.3196, -4.4631, -5.3885, -7.5501, -7.6291, -7.6664, -7.7244, -7.7667, -4.4997, -3.5163, -4.3197, -3.4098, -5.2169, -5.1893, -4.2848, -5.3608, -4.9956, -5.8942, -4.2094, -4.9307, -3.7958, -3.4285, -5.1886, -5.0177, -4.4278, -4.0735, -4.6606, -4.62, -3.4438, -4.466, -4.7654, -4.9263, -4.7201, -4.6269, -4.9778, -4.8202, -4.7782, -4.9221, -4.9647, -4.9766, -5.8291, -6.0029, -6.6276, -6.7542, -6.8466, -7.0226, -7.0961, -7.1113, -7.1268, -7.1438, -7.2094, -7.236, -7.2925, -7.3712, -7.3916, -7.4048, -7.4678, -7.4827, -7.5794, -7.592, -7.592, -7.6195, -7.6541, -7.7364, -7.751, -7.753, -7.782, -7.7909, -7.8017, -7.805, -6.6524, -6.1092, -6.9408, -7.0891, -5.4171, -5.349, -6.5403, -4.2981, -3.985, -6.1292, -6.701, -7.0869, -5.8581, -4.1631, -6.6126, -6.1001, -4.9302, -6.9302, -4.6582, -5.4695, -5.6199, -3.9445, -4.5274, -3.8873, -5.3807, -5.8037, -4.3832, -4.5332, -4.6436, -4.4811, -5.7576, -3.7606, -3.897, -5.3158, -4.14, -4.3315, -4.9807, -4.4765, -4.2687, -4.6096, -4.6598, -4.879, -4.9857, -4.9828, -4.8551, -4.82, -5.0019, -4.9747, -4.8742, -5.1953, -5.1812, -5.7002, -5.8806, -6.1139, -6.2881, -6.3251, -6.3384, -6.3565, -6.4292, -6.448, -6.4755, -6.62, -6.6231, -6.6292, -6.6388, -6.6578, -6.6655, -6.7243, -6.7463, -6.8134, -6.8345, -6.8505, -6.8517, -6.8553, -6.888, -6.9118, -6.9329, -6.9398, -6.9994, -7.0014, -7.0073, -5.8935, -5.9896, -6.3735, -4.7886, -5.8412, -5.5387, -4.8749, -5.2876, -5.4344, -5.2597, -3.7773, -6.2236, -5.6948, -6.1155, -3.4725, -4.3357, -2.9446, -5.0591, -5.173, -6.076, -4.2625, -5.6434, -4.5115, -3.7969, -4.4006, -4.71, -3.7623, -5.1213, -4.5208, -4.35, -5.8499, -5.1934, -4.8107, -5.2984, -5.1388, -5.0301, -5.2412, -5.2145, -5.2778, -5.3705, -5.3976, -5.4259, -4.2813, -5.4265, -5.7744, -5.8086, -5.8185, -5.9652, -6.0645, -6.1074, -6.1784, -6.189, -6.368, -6.3973, -6.46, -6.5316, -6.5879, -6.5984, -6.6456, -6.6886, -6.6926, -6.6992, -6.7301, -6.7479, -6.7491, -6.7758, -6.8405, -6.8407, -6.8478, -6.8488, -6.8698, -6.8728, -4.9272, -5.5517, -3.687, -5.2352, -4.4382, -5.2155, -4.5508, -4.4856, -5.1627, -5.2383, -5.412, -5.6267, -5.4459, -4.1011, -5.1052, -4.3065, -4.7436, -5.4024, -5.6541, -5.8702, -5.4455, -5.3207, -4.0024, -5.1179, -5.4975, -4.2377, -4.5263, -4.7377, -4.556, -5.1322, -5.2169, -5.1994, -5.326, -5.415, -3.8267, -4.3114, -4.5491, -4.956, -5.1092, -5.1824, -5.2054, -5.3697, -5.512, -5.5841, -5.6321, -5.6615, -5.8253, -5.832, -5.8847, -5.91, -6.0521, -6.1101, -6.1582, -6.1634, -6.2165, -6.3759, -6.419, -6.4526, -6.4797, -6.5123, -6.5261, -5.3457, -6.5446, -6.6454, -5.2923, -5.6115, -4.5257, -4.7962, -5.6503, -3.0493, -5.0346, -5.7663, -5.2683, -4.9488, -5.5906, -4.3871, -3.7867, -4.1461, -4.6396, -4.5442, -4.5531, -5.0655, -4.4432, -4.7262, -4.9484, -5.1753, -4.9913, -5.0218, -4.8844, -4.9197, -5.3088, -4.5028, -5.2849, -5.6772, -5.8869, -5.9048, -5.9403, -6.0715, -6.2249, -6.2654, -6.3335, -6.4829, -6.5029, -6.5261, -6.5511, -6.6087, -6.6153, -6.6228, -6.6414, -6.6537, -6.6543, -6.6579, -6.7144, -6.8428, -6.8429, -6.8779, -6.9182, -6.923, -6.9234, -6.9473, -6.9514, -5.4037, -4.5434, -3.199, -5.5401, -4.5063, -5.2498, -6.4598, -5.5864, -5.349, -4.7741, -5.2477, -5.9222, -4.4522, -5.3287, -4.5125, -5.0098, -5.1046, -4.8577, -6.0677, -4.1178, -4.4925, -4.7284, -4.0492, -4.8327, -4.5307, -5.3724, -5.7055, -4.8689, -5.5715, -5.3772, -5.2354, -5.2681, -5.2493, -5.2717, -5.297, -5.169, -5.306, -3.9139, -4.0662, -4.0878, -4.5674, -4.8214, -4.9636, -5.0795, -5.1916, -5.3524, -5.5357, -5.7554, -5.8659, -6.0108, -6.0111, -6.0336, -6.217, -6.2312, -6.2511, -6.2771, -6.3564, -6.4639, -6.4819, -6.486, -6.5983, -6.6122, -6.6229, -6.7339, -6.7414, -6.7604, -6.7629, -5.3822, -4.8634, -4.1725, -4.6705, -5.779, -5.8736, -4.9644, -3.9134, -4.9872, -3.7652, -3.7705, -4.55, -4.084, -5.526, -3.8492, -3.5961, -4.6843, -5.5004, -5.2478, -4.592, -3.3886, -3.89, -4.5792, -4.5166, -4.2642, -4.7863, -4.9037, -5.0709, -4.9072, -4.948, -5.0704, -3.9647, -4.3244, -4.738, -4.8099, -4.8187, -4.8465, -4.8578, -4.9118, -4.9522, -4.9842, -5.1815, -5.2683, -5.4889, -5.5068, -5.6794, -5.7935, -5.8193, -5.9026, -5.9038, -5.925, -6.0094, -6.129, -6.2291, -6.2304, -6.297, -6.3176, -6.3927, -6.4644, -6.4837, -6.4954, -5.5727, -5.8978, -4.7747, -3.3832, -5.5783, -4.5937, -5.6677, -4.761, -5.2095, -4.288, -5.3312, -4.0879, -4.9725, -4.6013, -4.8472, -5.14, -4.719, -4.9801, -4.811, -4.9591, -4.9256, -5.2082, -5.0433, -3.9143, -4.0096, -4.0622, -4.4526, -4.5795, -4.637, -4.7627, -4.9519, -5.0788, -5.1327, -5.1686, -5.2577, -5.395, -5.4143, -5.424, -5.448, -5.4803, -5.5141, -5.5394, -5.5667, -5.5926, -5.6472, -5.6674, -5.6935, -5.7336, -5.7682, -5.7878, -5.8017, -5.813, -5.8352, -4.9596, -5.6171, -5.1031, -5.3375, -5.7366], \"loglift\": [30.0, 29.0, 28.0, 27.0, 26.0, 25.0, 24.0, 23.0, 22.0, 21.0, 20.0, 19.0, 18.0, 17.0, 16.0, 15.0, 14.0, 13.0, 12.0, 11.0, 10.0, 9.0, 8.0, 7.0, 6.0, 5.0, 4.0, 3.0, 2.0, 1.0, 1.965, 1.9645, 1.9642, 1.9622, 1.961, 1.961, 1.9609, 1.9605, 1.9603, 1.9601, 1.9592, 1.9591, 1.9588, 1.9587, 1.9581, 1.9577, 1.9573, 1.9572, 1.957, 1.9569, 1.9563, 1.9552, 1.9547, 1.9543, 1.954, 1.9539, 1.9538, 1.9537, 1.9536, 1.9535, 1.9359, 1.9354, 1.8937, 1.9135, 1.8271, 1.8872, 1.8298, 1.9014, 1.8148, 1.7421, 1.7295, 1.7465, 1.7291, 1.5959, 1.6906, 1.6153, 1.6803, 1.7803, 1.646, 1.3583, 1.6599, 1.5886, 1.6025, 1.5675, 1.4921, 1.6655, 1.3467, 1.4514, 1.2856, 1.1239, 1.4009, 1.2944, 1.1167, 1.1346, 1.0966, 1.4055, 0.4517, 1.1928, 0.9265, 0.5273, 1.0055, 1.113, 0.9098, 0.3027, 0.4797, 0.985, 1.2177, 0.6416, 2.0039, 2.0039, 2.0034, 2.0031, 2.0019, 2.0019, 2.0018, 2.0012, 2.0008, 2.0001, 1.9999, 1.9998, 1.9993, 1.9977, 1.9977, 1.9975, 1.9973, 1.9969, 1.9966, 1.9957, 1.9949, 1.9947, 1.9942, 1.9929, 1.9927, 1.9905, 1.9902, 1.9899, 1.9898, 1.9896, 1.9889, 1.9676, 1.8963, 1.9567, 1.9278, 1.7063, 1.6771, 1.6693, 1.7087, 1.8287, 1.8057, 1.637, 1.6418, 1.3952, 1.2858, 1.5436, 1.8525, 1.6835, 1.7412, 1.5979, 1.259, 1.6569, 1.3492, 1.3411, 0.8228, 1.4702, 1.1433, 1.2784, 0.8997, 1.2416, 1.2506, 1.4836, 0.6455, 0.3649, 0.6151, 0.5863, 0.9398, 0.6073, 0.0489, 0.5305, 0.8407, 0.865, 0.4579, 2.1778, 2.1777, 2.1768, 2.1745, 2.1742, 2.1726, 2.1716, 2.1715, 2.1712, 2.171, 2.1704, 2.1692, 2.1689, 2.1678, 2.1644, 2.1635, 2.1631, 2.1627, 2.1621, 2.1614, 2.1611, 2.16, 2.16, 2.16, 2.1591, 2.1585, 2.1584, 2.1577, 2.1571, 2.1558, 2.1401, 2.1339, 2.1025, 2.1213, 2.0648, 1.9939, 2.0591, 1.8932, 1.9401, 2.0401, 1.8298, 2.0451, 1.8294, 1.7661, 1.6492, 1.6862, 1.7497, 1.7338, 1.7333, 1.4273, 1.6622, 1.0085, 1.2226, 1.7761, 1.592, 1.5438, 0.8844, 1.0748, 1.1027, 0.571, 1.0108, 0.8746, 0.5675, 1.0631, 0.6533, 0.9386, 0.2882, 0.7764, 0.4175, -0.2152, 0.7934, 0.7821, 0.4911, 2.4056, 2.4054, 2.4047, 2.4046, 2.4046, 2.4043, 2.4043, 2.404, 2.4039, 2.4039, 2.4038, 2.4036, 2.4036, 2.4035, 2.4035, 2.4029, 2.4029, 2.4028, 2.4022, 2.4021, 2.4021, 2.4015, 2.4013, 2.4007, 2.4005, 2.4002, 2.4002, 2.4001, 2.4001, 2.3999, 2.3523, 2.3585, 2.3093, 2.3693, 2.3343, 2.2114, 2.081, 2.1067, 2.1647, 2.1349, 1.8394, 2.034, 1.7725, 1.5001, 1.3557, 1.4946, 1.6735, 0.7599, 1.3541, 1.0068, 0.9175, -0.0886, 1.2401, 0.3508, 0.1077, 0.9528, 0.4794, 0.038, -0.1724, 2.4792, 2.4788, 2.4787, 2.4784, 2.4783, 2.4783, 2.4779, 2.4777, 2.4776, 2.4776, 2.4775, 2.4773, 2.4771, 2.477, 2.4769, 2.4767, 2.4765, 2.4764, 2.4756, 2.4755, 2.4755, 2.4751, 2.4748, 2.4748, 2.4747, 2.4745, 2.4745, 2.4742, 2.4737, 2.4733, 2.4554, 2.4044, 2.3892, 2.2125, 2.3891, 2.1456, 2.4253, 2.0939, 2.1644, 2.1458, 1.9538, 1.9393, 1.6552, 1.8879, 2.1352, 1.1854, 0.7885, 0.5433, 0.9194, 0.4502, 1.0617, 0.2315, -0.0328, -0.6103, 0.5586, 0.4937, 2.512, 2.5114, 2.511, 2.5103, 2.5102, 2.51, 2.51, 2.5099, 2.5099, 2.5092, 2.5089, 2.5089, 2.5077, 2.5066, 2.5065, 2.5058, 2.5058, 2.5057, 2.5055, 2.5046, 2.5042, 2.5034, 2.5029, 2.5026, 2.5023, 2.5019, 2.5019, 2.501, 2.5008, 2.5008, 2.4738, 2.4534, 2.4228, 2.4418, 2.2955, 2.2806, 2.4807, 2.4695, 2.3674, 2.3208, 2.3834, 2.3068, 2.358, 1.8774, 1.8673, 2.3122, 2.2642, 1.8198, 1.6331, 2.2046, 1.6457, 0.994, 1.6539, 1.3291, 1.2705, 1.3966, 0.9478, 1.186, 0.6917, 0.4622, 0.9947, 0.4976, 0.3127, 0.2611, 0.3599, 0.8661, -0.1068, -0.6475, 2.6602, 2.6602, 2.6592, 2.659, 2.6589, 2.6588, 2.6585, 2.6584, 2.6582, 2.6578, 2.6572, 2.657, 2.6565, 2.6561, 2.6548, 2.6536, 2.6532, 2.6512, 2.651, 2.6508, 2.649, 2.6454, 2.6425, 2.6415, 2.6415, 2.6399, 2.6391, 2.6379, 2.6369, 2.6365, 2.6272, 2.6151, 2.5796, 2.6102, 2.582, 2.4998, 2.54, 2.496, 2.5683, 2.4099, 2.4704, 2.3255, 2.2801, 2.4634, 2.3655, 2.175, 2.0316, 2.0432, 1.9991, 1.0624, 1.7784, 2.0621, 2.2129, 1.8645, 1.7063, 2.2022, 1.6233, 0.6956, 0.7598, 1.4891, 1.3261, 2.6872, 2.6866, 2.683, 2.6819, 2.6811, 2.6793, 2.6784, 2.6782, 2.678, 2.6778, 2.6769, 2.6765, 2.6757, 2.6745, 2.6742, 2.674, 2.6729, 2.6726, 2.6708, 2.6705, 2.6705, 2.67, 2.6693, 2.6675, 2.6671, 2.6671, 2.6664, 2.6662, 2.6659, 2.6658, 2.6579, 2.6218, 2.6462, 2.6466, 2.5871, 2.5652, 2.6023, 2.3981, 2.3664, 2.5292, 2.5803, 2.6169, 2.4589, 2.1969, 2.5444, 2.4551, 2.2153, 2.5925, 2.1538, 2.2735, 2.3077, 1.7617, 1.8844, 1.63, 2.1145, 2.2538, 1.7552, 1.8017, 1.8059, 1.6925, 2.1911, 1.3322, 1.2642, 1.9728, 1.3556, 1.443, 1.6801, 1.2714, 1.0842, 1.3181, 1.2354, 1.3514, 1.4604, 1.3922, 1.1493, 0.995, 1.165, 0.949, 0.1756, 1.5479, 1.2193, 2.9367, 2.9359, 2.9347, 2.9335, 2.9333, 2.9332, 2.933, 2.9325, 2.9323, 2.9321, 2.9308, 2.9307, 2.9307, 2.9306, 2.9304, 2.9303, 2.9297, 2.9295, 2.9287, 2.9284, 2.9282, 2.9282, 2.9282, 2.9278, 2.9275, 2.9272, 2.9271, 2.9263, 2.9262, 2.9262, 2.9252, 2.8918, 2.9029, 2.7538, 2.8321, 2.7918, 2.7166, 2.7233, 2.734, 2.7023, 2.338, 2.8081, 2.692, 2.7725, 2.0449, 2.2324, 1.7878, 2.4481, 2.4473, 2.7479, 2.0568, 2.582, 2.0409, 1.5559, 1.8298, 1.9937, 1.3306, 2.085, 1.6379, 1.3706, 2.555, 1.8745, 1.428, 1.818, 1.48, 0.9743, 1.3435, 1.1341, 1.2986, 1.2486, 1.178, -0.2631, 3.0464, 3.0441, 3.0427, 3.0425, 3.0425, 3.0417, 3.0411, 3.0408, 3.0404, 3.0403, 3.0389, 3.0386, 3.0381, 3.0374, 3.0368, 3.0367, 3.0362, 3.0357, 3.0357, 3.0356, 3.0352, 3.035, 3.035, 3.0346, 3.0338, 3.0338, 3.0337, 3.0337, 3.0334, 3.0333, 3.0304, 3.021, 2.9526, 2.9689, 2.9209, 2.9514, 2.9162, 2.8683, 2.9143, 2.8993, 2.8999, 2.9085, 2.8558, 2.6473, 2.7553, 2.5306, 2.616, 2.7674, 2.8173, 2.8434, 2.6441, 2.557, 1.8126, 2.4207, 2.5496, 1.1123, 1.3305, 1.2532, 0.5369, 1.2165, 1.4083, 0.9351, 0.9932, 1.7137, 3.1404, 3.14, 3.1396, 3.1389, 3.1385, 3.1383, 3.1382, 3.1377, 3.1372, 3.1369, 3.1367, 3.1365, 3.1357, 3.1357, 3.1354, 3.1352, 3.1343, 3.1339, 3.1335, 3.1335, 3.1331, 3.1317, 3.1313, 3.1309, 3.1306, 3.1303, 3.1301, 3.1301, 3.1299, 3.1288, 3.111, 3.1158, 3.0492, 3.0374, 3.0798, 2.6326, 2.9082, 3.0114, 2.858, 2.7485, 2.935, 2.3001, 1.9019, 1.3277, 1.8099, 1.4453, 1.3707, 1.8507, 0.6497, 1.169, 1.2252, 1.7534, 1.0589, 1.0856, 0.2659, 0.4302, 0.548, 3.576, 3.5733, 3.571, 3.5693, 3.5691, 3.5688, 3.5675, 3.5657, 3.5652, 3.5643, 3.5621, 3.5617, 3.5614, 3.5609, 3.5599, 3.5598, 3.5597, 3.5593, 3.5591, 3.5591, 3.559, 3.5579, 3.5551, 3.5551, 3.5543, 3.5533, 3.5532, 3.5532, 3.5526, 3.5525, 3.5481, 3.5373, 3.4663, 3.5123, 3.4704, 3.4809, 3.5345, 3.4766, 3.4411, 3.3527, 3.2431, 3.3925, 2.9935, 3.226, 2.9864, 3.0376, 3.0102, 2.8936, 3.3759, 2.4708, 2.6111, 2.6251, 2.0581, 2.5268, 2.0369, 2.6944, 3.0654, 1.1388, 2.6348, 1.782, 1.0929, 1.1464, 1.0322, 1.1289, 1.2722, -0.0063, 0.9218, 3.8189, 3.8187, 3.8186, 3.8174, 3.8165, 3.8159, 3.8154, 3.8148, 3.8137, 3.8124, 3.8104, 3.8092, 3.8075, 3.8075, 3.8072, 3.8045, 3.8043, 3.8039, 3.8035, 3.8021, 3.8, 3.7997, 3.7996, 3.7971, 3.7968, 3.7966, 3.7938, 3.7936, 3.7931, 3.793, 3.7853, 3.7766, 3.7567, 3.7046, 3.7415, 3.7288, 3.4882, 3.2118, 3.3792, 2.978, 2.8863, 3.1548, 2.8879, 3.4934, 2.697, 2.5253, 2.8939, 3.4184, 3.2038, 2.5334, 1.234, 1.5575, 2.2704, 1.9464, 1.4729, 2.13, 2.213, 2.3091, 1.0731, 1.3878, 1.3221, 3.8674, 3.8667, 3.8654, 3.8651, 3.8651, 3.8649, 3.8649, 3.8647, 3.8645, 3.8643, 3.8632, 3.8627, 3.8611, 3.861, 3.8594, 3.8582, 3.858, 3.857, 3.857, 3.8567, 3.8556, 3.8539, 3.8523, 3.8523, 3.8511, 3.8508, 3.8493, 3.8479, 3.8475, 3.8472, 3.8348, 3.8373, 3.7933, 3.304, 3.6722, 3.4229, 3.6897, 3.3045, 3.326, 2.7244, 3.3916, 1.262, 2.1422, 1.2555, 1.3805, 2.0326, 0.3738, 1.2754, 0.4435, 0.9305, 0.5668, 1.871, 0.107, 5.2504, 5.2497, 5.2493, 5.2455, 5.244, 5.2432, 5.2413, 5.238, 5.2355, 5.2343, 5.2335, 5.2313, 5.2275, 5.2269, 5.2266, 5.2259, 5.2249, 5.2238, 5.223, 5.222, 5.2211, 5.2191, 5.2184, 5.2174, 5.2158, 5.2143, 5.2135, 5.2129, 5.2124, 5.2114, 4.916, 5.113, 4.0348, 3.9946, 4.9129]}, \"token.table\": {\"Topic\": [15, 4, 7, 12, 15, 4, 3, 2, 3, 2, 14, 6, 6, 13, 10, 11, 11, 11, 5, 10, 11, 13, 10, 11, 11, 3, 4, 5, 7, 1, 3, 5, 6, 7, 8, 9, 10, 11, 3, 8, 2, 10, 4, 5, 7, 10, 8, 3, 6, 12, 8, 9, 12, 4, 13, 13, 8, 10, 13, 15, 11, 11, 11, 5, 6, 9, 6, 3, 6, 9, 4, 10, 15, 15, 14, 13, 2, 6, 11, 14, 2, 6, 4, 3, 15, 2, 2, 2, 1, 2, 12, 11, 14, 1, 2, 8, 4, 4, 1, 5, 11, 10, 2, 3, 6, 12, 14, 1, 3, 15, 8, 1, 2, 4, 6, 8, 12, 9, 2, 4, 8, 8, 9, 11, 8, 6, 5, 10, 11, 12, 5, 2, 3, 11, 14, 2, 3, 14, 2, 11, 13, 11, 1, 2, 3, 12, 1, 2, 3, 4, 5, 6, 8, 10, 13, 1, 4, 13, 1, 2, 3, 4, 5, 6, 9, 10, 11, 3, 2, 2, 3, 2, 1, 2, 5, 12, 6, 11, 5, 5, 8, 2, 3, 8, 9, 11, 1, 12, 14, 15, 2, 3, 4, 5, 6, 7, 8, 9, 10, 11, 14, 5, 2, 10, 2, 10, 4, 8, 10, 3, 11, 1, 2, 3, 6, 12, 1, 2, 3, 4, 5, 6, 7, 8, 9, 10, 11, 13, 14, 14, 1, 2, 3, 4, 5, 6, 8, 9, 11, 13, 14, 11, 13, 4, 5, 11, 1, 11, 4, 5, 11, 13, 13, 7, 5, 13, 3, 11, 3, 4, 5, 6, 14, 2, 9, 4, 1, 1, 2, 3, 5, 6, 7, 8, 9, 10, 11, 3, 4, 5, 6, 7, 8, 9, 10, 1, 2, 3, 4, 5, 6, 7, 8, 9, 10, 11, 14, 3, 6, 8, 10, 11, 14, 1, 2, 3, 4, 5, 6, 7, 8, 9, 10, 11, 12, 1, 5, 10, 12, 10, 5, 1, 8, 12, 1, 2, 3, 4, 5, 12, 13, 2, 3, 6, 11, 1, 2, 3, 4, 5, 6, 9, 10, 13, 14, 1, 2, 3, 6, 12, 14, 14, 3, 10, 12, 2, 3, 4, 9, 10, 10, 12, 9, 10, 8, 10, 10, 1, 2, 3, 4, 5, 6, 8, 9, 12, 13, 14, 6, 7, 10, 11, 12, 1, 3, 2, 4, 6, 8, 10, 11, 14, 6, 1, 2, 3, 4, 5, 6, 7, 10, 11, 12, 13, 14, 1, 2, 5, 9, 8, 5, 15, 3, 12, 6, 3, 12, 3, 6, 11, 8, 4, 1, 3, 9, 6, 1, 2, 3, 5, 6, 9, 12, 13, 1, 2, 3, 5, 6, 7, 8, 9, 1, 1, 2, 3, 15, 1, 5, 5, 4, 5, 11, 15, 4, 11, 14, 4, 9, 13, 15, 6, 3, 1, 2, 3, 12, 6, 11, 2, 5, 7, 3, 4, 5, 7, 11, 4, 7, 9, 14, 2, 10, 12, 2, 10, 12, 13, 9, 10, 12, 2, 5, 9, 2, 3, 6, 12, 13, 1, 1, 1, 15, 5, 7, 8, 2, 5, 6, 8, 10, 11, 14, 11, 1, 3, 6, 9, 11, 4, 5, 9, 11, 1, 2, 3, 4, 5, 6, 9, 12, 13, 14, 1, 1, 2, 6, 12, 14, 8, 10, 12, 14, 14, 4, 1, 2, 3, 4, 5, 6, 7, 8, 9, 10, 11, 12, 13, 14, 1, 2, 5, 6, 8, 9, 4, 7, 8, 2, 3, 5, 8, 9, 10, 11, 7, 11, 11, 13, 2, 8, 1, 15, 1, 2, 3, 6, 2, 3, 4, 1, 2, 3, 4, 6, 7, 8, 11, 13, 14, 7, 10, 11, 8, 4, 2, 3, 4, 5, 6, 8, 9, 10, 11, 13, 14, 10, 12, 8, 15, 13, 1, 2, 3, 4, 5, 6, 8, 10, 12, 13, 14, 14, 4, 13, 13, 2, 3, 6, 7, 9, 12, 14, 7, 9, 1, 2, 3, 5, 7, 8, 9, 10, 9, 5, 8, 5, 4, 13, 14, 12, 9, 4, 11, 2, 15, 7, 12, 15, 5, 6, 1, 3, 5, 6, 8, 10, 11, 12, 4, 5, 14, 14, 8, 6, 8, 10, 11, 2, 3, 7, 12, 13, 2, 12, 1, 2, 3, 4, 5, 6, 7, 8, 9, 10, 11, 12, 14, 14, 12, 6, 6, 12, 12, 3, 12, 14, 2, 1, 2, 9, 10, 12, 14, 3, 7, 10, 2, 3, 3, 10, 8, 1, 13, 7, 9, 9, 1, 13, 12, 3, 12, 6, 4, 5, 6, 7, 8, 11, 1, 2, 3, 4, 5, 6, 7, 13, 2, 3, 7, 9, 3, 7, 9, 4, 12, 3, 9, 3, 14, 1, 2, 3, 4, 5, 6, 7, 10, 11, 14, 11, 4, 10, 12, 10, 2, 4, 5, 10, 12, 14, 5, 10, 12, 12, 5, 10, 12, 12, 3, 6, 4, 1, 3, 4, 5, 6, 8, 9, 11, 4, 14, 1, 2, 3, 4, 5, 9, 10, 11, 12, 1, 2, 5, 6, 10, 13, 14, 10, 1, 3, 6, 10, 11, 15, 12, 5, 2, 10, 10, 1, 2, 3, 4, 5, 6, 7, 8, 9, 10, 11, 1, 14, 9, 10, 10, 1, 3, 4, 5, 8, 9, 11, 13, 15, 6, 1, 2, 3, 4, 5, 6, 7, 10, 11, 12, 13, 14, 6, 5, 5, 1, 2, 4, 5, 10, 12, 13, 14, 7, 1, 7, 12, 9, 12, 1, 2, 3, 6, 8, 14, 4, 14, 2, 3, 4, 5, 7, 8, 10, 11, 3, 4, 5, 6, 7, 8, 9, 10, 11, 2, 1, 3, 4, 5, 6, 7, 8, 9, 10, 13, 1, 2, 4, 5, 11, 12, 14, 5, 13, 1, 2, 3, 4, 5, 13, 2, 10, 10, 10, 2, 3, 4, 5, 6, 8, 10, 11, 13, 7, 13, 1, 2, 3, 5, 8, 1, 2, 3, 4, 5, 6, 10, 11, 12, 14, 1, 3, 6, 8, 11, 4, 10, 2, 2, 10, 5, 11, 1, 2, 6, 12, 13, 4, 5, 7, 8, 9, 2, 2, 1, 2, 3, 6, 8, 9, 10, 12, 1, 2, 3, 4, 5, 6, 7, 8, 10, 11, 1, 2, 11, 13, 1, 2, 3, 5, 6, 8, 10, 11, 7, 2, 2, 1, 2, 3, 4, 5, 6, 7, 9, 11, 12, 2, 3, 4, 6, 11, 1, 2, 3, 6, 9, 12, 1, 5, 2, 3, 5, 8, 10, 11, 14, 1, 3, 5, 6, 2, 6, 13, 2, 3, 5, 6, 11, 12, 1, 2, 3, 6, 11, 12, 4, 5, 7, 11, 14, 3, 4, 5, 6, 7, 8, 10, 11, 14, 2, 15, 3, 4, 5, 7, 11, 1, 2, 3, 4, 5, 6, 7, 8, 11, 1, 2, 3, 4, 6, 8, 12, 4, 6, 8, 10, 14, 1, 2, 3, 6, 7, 8, 10, 11, 1, 2, 4, 6, 7, 8, 10, 11, 1, 2, 3, 6, 7, 8, 9, 10, 12, 3, 11, 14, 3, 4, 6, 11, 14, 5, 1, 2, 3, 8, 3, 9, 10, 5, 2, 3, 4, 6, 8, 10, 11, 14, 1, 2, 3, 6, 8, 11, 9, 11, 1, 2, 5, 9, 12, 13, 4, 5, 7, 9, 10, 11, 9, 2, 6, 11, 15, 9, 3, 4, 8, 11, 4, 12, 15, 2, 6, 8, 11, 11, 11, 1, 3, 4, 5, 6, 14, 3, 5, 8, 14, 8, 4, 8, 10, 9, 1, 2, 3, 4, 5, 8, 11, 14, 4, 7, 9, 1, 1, 2, 3, 11, 13, 14, 15, 5, 6, 10, 11, 2, 3, 6, 8, 6, 10, 9, 2, 3, 5, 2, 12, 15, 2, 3, 10, 6, 6, 2, 2, 5, 8, 2, 3, 6, 5, 6, 10, 2, 5, 6, 7, 1, 2, 7, 2, 6, 1, 8, 10, 3, 9, 2, 3, 4, 5, 6, 12, 13, 14, 13, 5, 13, 11, 13, 1, 13, 1, 2, 3, 4, 5, 6, 12, 13, 14, 1, 2, 3, 6, 12, 5, 6, 13, 15, 2, 3, 7, 9, 2, 3, 6, 7, 9, 12, 1, 4, 13, 9, 1, 2, 3, 4, 5, 6, 9, 10, 11, 12, 14, 10, 1, 2, 3, 4, 6, 8, 10, 11, 11, 4, 5, 9, 1, 1, 2, 13, 1, 13, 14, 1, 2, 3, 5, 6, 8, 11, 13, 11, 4, 11, 4, 7, 11, 14, 9, 3, 8, 7, 3, 6, 7, 1, 2, 3, 4, 6, 12, 2, 3, 8, 11, 8, 2, 3, 4, 5, 6, 7, 8, 10, 11, 3, 7, 11, 11, 15, 2, 3, 4, 6, 7, 8, 10, 11, 4, 15, 7, 7, 7, 12, 4, 13, 15, 13, 2, 3, 8, 10, 11, 11, 13, 4, 6, 1, 2, 3, 10, 12, 13, 4, 11, 1, 2, 3, 6, 8, 9, 1, 1, 2, 3, 4, 5, 6, 8, 10, 11, 14, 2, 1, 2, 3, 4, 5, 6, 7, 8, 9, 10, 11, 2, 7, 9, 10, 11, 14, 7, 10, 11, 9, 6, 1, 2, 3, 5, 6, 8, 9, 10, 2, 3, 4, 5, 6, 8, 9, 10, 2, 3, 4, 5, 6, 8, 9, 10, 11, 2, 7, 9, 12, 14, 2, 3, 7, 9, 3, 7, 9, 10, 14, 7, 7, 9, 14, 9, 9, 14, 1, 4, 5, 6, 9, 13, 3, 13, 1, 2, 3, 4, 5, 6, 8, 9, 10, 11, 3, 5, 9, 1, 2, 3, 5, 6, 9, 12, 1, 2, 3, 4, 5, 6, 7, 8, 9, 1, 2, 8, 6, 11, 12, 15, 7, 11, 2, 3, 4, 7, 14, 4, 13, 2, 1, 11, 3, 9, 2, 3, 6, 9, 12, 1, 4, 5, 6, 7, 8, 10, 11, 1, 2, 4, 9, 10, 15, 2, 3, 6, 7, 11, 12, 3, 6, 12, 1, 4, 5, 9, 5, 7, 8, 9, 4, 1, 6, 12, 3, 1, 10, 11, 3, 6, 1, 4, 5, 9, 1, 8, 14, 2, 4, 5, 10, 14, 1, 2, 3, 4, 5, 6, 8, 10, 11, 13, 11, 14, 13, 5, 10, 7, 1, 15, 4, 7, 8, 1, 1, 2, 4, 5, 7, 8, 13, 4, 7, 11, 7, 8, 11, 13, 6, 12, 2, 3, 6, 10, 11, 12, 2, 3, 6, 7, 11, 12, 13, 4, 7, 11, 13, 9, 4, 1, 2, 3, 6, 8, 11, 12, 13, 14, 2, 6, 12, 1, 2, 3, 4, 5, 6, 9, 12, 8, 3, 13, 9, 14, 14, 10, 2, 5, 8, 6, 3, 3, 8, 14, 11, 1, 2, 3, 4, 5, 6, 7, 8, 9, 10, 11, 7, 1, 2, 3, 6, 9, 1, 2, 3, 4, 5, 6, 8, 10, 11, 14, 13, 2, 10, 13, 4, 8, 9, 10, 11, 13, 3, 1, 2, 3, 4, 5, 6, 7, 12, 13, 3, 1, 2, 3, 6, 9, 1, 2, 3, 5, 6, 8, 2, 3, 6, 10, 14, 10, 1, 5, 7, 8, 2, 4, 8, 13, 13, 9, 6, 3, 12, 12, 1, 2, 3, 4, 5, 6, 7, 8, 11, 12, 14, 1, 2, 3, 4, 12, 13, 8, 3, 12, 2, 3, 1, 2, 10, 1, 2, 3, 4, 5, 6, 8, 10, 1, 2, 3, 4, 5, 6, 7, 10, 11, 1, 1, 2, 3, 10, 5, 15, 12, 5, 3, 5, 5, 3, 4, 5, 7, 12, 14, 3, 14, 1, 2, 3, 4, 6, 7, 8, 9, 10, 12, 6, 3, 4, 6, 11, 1, 9, 12, 13, 2, 3, 4, 6, 7, 11, 14, 2, 3, 5, 6, 8, 10, 11, 13, 14, 7, 11, 6, 1, 3, 4, 8, 7, 5, 12, 12, 2, 3, 6, 10, 11, 12, 14, 1, 2, 3, 5, 6, 9, 12, 4, 12, 8, 6, 11, 15, 10, 13, 4, 2, 3, 6, 7, 11, 12, 2, 3, 5, 6, 10, 12, 9, 1, 9, 7, 1, 2, 3, 4, 5, 6, 7, 8, 9, 10, 11, 1, 2, 3, 4, 5, 6, 7, 9, 11, 12, 1, 11, 12, 6, 11, 6, 10, 6, 3, 10, 15, 1, 2, 3, 6, 8, 10, 12, 15, 4, 5, 9, 11, 13, 1, 4, 5, 10, 12, 2, 7, 10, 13, 1, 2, 3, 1, 2, 3, 4, 5, 6, 10, 13, 5, 2, 3, 7, 2, 7, 9, 10, 12, 2, 3, 7, 9, 7, 2, 7, 9, 12, 12, 14, 14, 7, 5, 1, 14, 14, 14, 11, 14, 14, 14, 2, 7, 8, 9, 10, 3, 6, 7, 11, 12, 1, 5, 4, 2, 3, 4, 6, 7, 8, 10, 11, 12, 14, 13, 15, 5, 7, 8, 9, 1, 5, 7, 9, 12, 2, 3, 7, 14, 5, 14, 4, 5, 6, 7, 10, 11, 12, 4, 5, 6, 7, 10, 12, 5, 10, 12, 2, 10, 5, 4, 7, 12, 3, 5, 6, 8, 4, 7, 11, 4, 7, 7, 10, 2, 8, 2, 3, 10, 12, 1, 12, 9, 8, 4, 12, 9, 3, 9, 10, 5, 1, 2, 3, 4, 6, 9, 12, 13, 14, 3, 12, 9, 12, 1, 4, 8, 9, 10, 1, 2, 3, 4, 5, 9, 10, 11, 13, 2, 3, 4, 5, 6, 7, 10, 11, 12, 2, 3, 8, 9, 12, 7, 1, 4, 5, 9, 8, 3, 3, 3, 10, 12, 4, 9, 3, 5, 7, 5, 10, 12, 2, 4, 10, 2, 5, 10, 2, 3, 7, 8, 11, 14, 8, 1, 5, 9, 1, 2, 3, 4, 5, 6, 9, 12, 8, 4, 8, 11, 1, 2, 3, 6, 8, 10, 11, 2, 3, 4, 5, 6, 7, 8, 10, 11, 14, 11, 13, 14, 3, 14, 3, 7, 10], \"Freq\": [0.942733812982278, 0.08502806214331612, 0.9105088321180101, 0.9894557943231435, 0.9873409865583487, 0.9986346259854426, 0.9818738115377238, 0.12517627171122647, 0.8715977437670583, 0.9923308089648263, 0.9954971147719579, 0.9965261510935542, 0.9950489883923637, 0.9971976396099416, 0.9829555805876407, 0.9959470846915197, 0.9985084145035048, 0.9961404361133337, 0.021343736767634285, 0.7470307868671999, 0.13970445884269714, 0.08925562648283428, 0.9842627671702975, 0.9936025980152821, 0.989210770008252, 0.9862424560948488, 0.03549653028736732, 0.03904618331610406, 0.9246846139859187, 0.0011179542524225388, 0.034842907533835794, 0.1842761259409818, 0.0003726514174741796, 0.01956419941739443, 0.34619316683351287, 0.40823962784296375, 0.004471817009690155, 0.0005589771262112694, 0.9796665125929493, 0.9900322791691367, 0.9892437131883138, 0.9929145889458687, 0.010460022139092778, 0.031380066417278335, 0.3612194312033373, 0.5962212619282884, 0.9807433489013898, 0.17858161495938416, 0.10204663711964808, 0.7143264598375366, 0.9835624457940032, 0.9945504350194203, 0.9794119277695348, 0.48492115101378375, 0.5131528618604766, 0.9935125155999212, 0.12572320001706874, 0.8686330182997477, 0.9965559077672582, 0.993792796878557, 0.9949049504735022, 0.9972772223425697, 0.9880881839284366, 0.9921902669501101, 0.9911461478588444, 0.9859070860074873, 0.9995478788574842, 0.17343925005946556, 0.8263870149892183, 0.9823788639260986, 0.9950501396242453, 0.1026325224371553, 0.8552710203096275, 0.9755441045127052, 0.9835576032412796, 0.9747986745165578, 0.035934466273689944, 0.9558568028801525, 0.4309717653979925, 0.568426548512394, 0.9970282460291127, 0.9873016180632012, 0.997586390654928, 0.9919520989949282, 0.9856594339222131, 0.996260355265899, 0.9988037090905115, 0.9966920695042737, 0.9288197086072838, 0.06074896545107881, 0.009591941913328232, 0.17139443933182047, 0.8180189149927796, 0.9917009549404435, 0.06129307557712296, 0.9316547487722691, 0.9948212012392903, 0.9984881533252439, 0.9939521159876715, 0.026713556016694093, 0.9717056001072476, 0.9885311626795348, 0.7418193787974906, 0.1719160049834459, 0.04416024229490206, 0.005088422980482542, 0.03670933721633834, 0.348057227412017, 0.3550183719602573, 0.2923680710260943, 0.9794087618938201, 0.7355950195027916, 0.08592420455730615, 0.029339972287860634, 0.07439778687278947, 0.005239280765689399, 0.07020636226023795, 0.9909172344144663, 0.9879509405851583, 0.9929129195954924, 0.9766068306836654, 0.8490344066813161, 0.11205530240464072, 0.0344785545860433, 0.9874182642872714, 0.9898022072062073, 0.975802938224425, 0.02369499408491981, 0.4163847163322351, 0.5824707548692503, 0.9969010281770478, 0.7205335515213717, 0.19981833352832018, 0.056408663922400466, 0.02323468994515351, 0.6659559633087153, 0.2450853164461008, 0.08873778698910546, 0.05518622551399642, 0.05193997695434957, 0.8894721053432364, 0.9955358860877508, 0.8710826554244187, 0.0948589345880509, 0.031234039437528956, 0.002313632550928071, 0.34732180756773323, 0.13651638529497329, 0.15131936683298244, 0.11705320586536866, 0.0482467546424002, 0.06387212404363207, 0.12198753304470504, 0.002741292877409102, 0.010965171509636409, 0.08845438958623086, 0.9076189540152384, 0.0028843822691162237, 0.42722723817058655, 0.0739693244954803, 0.15446535409350295, 0.06798651148481645, 0.13733275319932922, 0.03834439247743648, 0.0005438920918785315, 0.05221364082033903, 0.04786250408531078, 0.9833108233203346, 0.9838194567413536, 0.9651453083574858, 0.0313358866349833, 0.9969593830832341, 0.8585508492594601, 0.0919413428317069, 0.044028248679972314, 0.005179793962349684, 0.9979647770285996, 0.996113419959797, 0.9971930289156324, 0.9938122384403361, 0.9817621678735329, 0.2971316221575078, 0.6513057047292077, 0.051082800370918245, 0.9870842228499553, 0.9973843365496351, 0.9936040960814183, 0.950713844328956, 0.03278323601134331, 0.9677039329356342, 0.019987792452540787, 0.07288231638182555, 0.05862273274190316, 0.10554529429207513, 0.040828722387811975, 0.05082261861408236, 0.2570381358683446, 0.19987792452540787, 0.08116993764263514, 0.08275433582484874, 0.03034731902855278, 0.9940888488622914, 0.12175403164821051, 0.8771527011215167, 0.1175273435227489, 0.8814550764206168, 0.0818205629068739, 0.9102537623389721, 0.9879289299615843, 0.9919926144041811, 0.9990766821966655, 0.7981520379725234, 0.10173812984024765, 0.07088850337255964, 0.01903487590559472, 0.009845625468411062, 0.08936312509031416, 0.06966225977058, 0.09141201508356651, 0.128134428039551, 0.14421033414045406, 0.1618623094669359, 0.01055966381137751, 0.002048889993252353, 0.011347698424166879, 0.14436794106301196, 0.06651012131942254, 0.0066194907474306786, 0.0737600397570847, 0.9954833827719913, 0.3716839304507801, 0.008969747944513546, 0.03195472705232951, 0.09586418115698853, 0.14407657635874885, 0.0022424369861283864, 0.05718214314627386, 0.232092228064288, 0.012333403423706127, 0.015697058902898707, 0.028030462326604833, 0.9882834846233275, 0.982770378136269, 0.9297805627126192, 0.05025840879527672, 0.013960669109799087, 0.09633903107090128, 0.9010532906043119, 0.4803721560833202, 0.08937156392247818, 0.035908217647424266, 0.39339447333733696, 0.9952800083759122, 0.9986632890473645, 0.060274120752263564, 0.9373664985955472, 0.9565131261246491, 0.041100173388168515, 0.07245373740834583, 0.7622736956503052, 0.022641792940108076, 0.051321397330911636, 0.0905671717604323, 0.1518103809895405, 0.8458006940845828, 0.9989747650588291, 0.995703077348189, 0.005701896016586403, 0.015585182445336168, 0.04675554733600851, 0.24214051750436927, 0.01634543524754769, 0.041433777720527865, 0.26190709036186877, 0.32918946335758836, 0.014064676840913127, 0.026988974478508974, 0.05257341197669462, 0.07009788263559283, 0.019715029491260482, 0.20700780965823506, 0.10952794161811379, 0.4873993402006064, 0.03066782365307186, 0.023000867739803896, 0.002283216151910522, 0.22877825842143432, 0.1390478636513508, 0.12169542089683083, 0.057308725412954106, 0.10502794298788401, 0.008676221377259983, 0.0879038218485551, 0.20800099143904857, 0.02260383990391417, 0.017124121139328916, 0.001141608075955261, 0.37059044735204744, 0.029082209993994752, 0.10968147769163736, 0.06398086198678846, 0.10801963712055195, 0.3182424693628569, 0.14968827139565072, 0.1389311361796417, 0.09134448717322899, 0.08095200060861013, 0.06818929780995538, 0.11614059546775822, 0.0005469729770852035, 0.2630940019779829, 0.05196243282309434, 0.020967297454932803, 0.01768545959242158, 0.00018232432569506785, 0.12003660738933127, 0.2853044001717439, 0.08872270980950572, 0.5045016832305227, 0.9833024978856761, 0.9969580291061217, 0.9675708892883327, 0.02350374629850201, 0.003917291049750335, 0.5102579089309617, 0.2838520817894092, 0.05364466426674846, 0.02534393587405439, 0.02661113266775711, 0.012249569005792955, 0.08785897769672188, 0.4224741132036542, 0.25037716185619674, 0.14341412612288118, 0.18345056966551884, 0.21964286339784655, 0.30661656312057217, 0.20052692764442787, 0.08255647154066077, 0.04546698663263329, 0.042420622369140265, 0.0022086140910324375, 0.014394071145004506, 0.07524519730827753, 0.010890752241987538, 0.10745034175754226, 0.4742141749566198, 0.2742132721652478, 0.11088875269378361, 0.0005730684893735587, 0.032521636771949455, 0.987098904506651, 0.11275656439192959, 0.8624353438625967, 0.02133232299306776, 0.13710155218514034, 0.04851285692704965, 0.7414030091242588, 0.0717146580660734, 0.9974415379047571, 0.9928409093009205, 0.9968980326059995, 0.9825888200676529, 0.9876125166916127, 0.9867345538575193, 0.994069355874338, 0.9818905857836312, 0.12249246421865541, 0.25679980441868466, 0.11884375251852525, 0.19286047557830852, 0.08270413186961699, 0.049518230216052186, 0.0006949927047866974, 0.04569577033972535, 0.002084978114360092, 0.10407515754180793, 0.02449849284373108, 0.20912184442336243, 0.14937274601668746, 0.032510538838926094, 0.6014449685201327, 0.007248971497868656, 0.8301549209838284, 0.16775151253041093, 0.05236332464449621, 0.1670433331634342, 0.07356830735177154, 0.6101841962705757, 0.04414098441106292, 0.051930569895368144, 0.0008655094982561358, 0.9986352271599991, 0.19329473237510109, 0.10191904070687148, 0.14922894023923888, 0.225735806340153, 0.092457060800398, 0.08110268491262983, 0.02379012090770475, 0.026763886021167842, 0.02784525515333624, 0.02379012090770475, 0.0010813691321683977, 0.052987087476251485, 0.11665257009715164, 0.06475933119363933, 0.7655324912625577, 0.0529654132610229, 0.9859429972705459, 0.9974024818517985, 0.9767169165804025, 0.09042199924938403, 0.9042199924938403, 0.9848855509175765, 0.9624037473581593, 0.03606641262288959, 0.9997711382291847, 0.18488929189872153, 0.8150221846964051, 0.9734781468934605, 0.9985718075984724, 0.14780807880835406, 0.06897710344389855, 0.778455881723998, 0.9880445431048435, 0.7250980134355388, 0.11525875895653878, 0.05418881950941749, 0.012041959890981663, 0.04042657963400987, 0.012041959890981663, 0.014622379867620591, 0.024944059774176304, 0.16604170325352563, 0.02630942481129808, 0.030402002004166668, 0.14850208671266027, 0.025724770926602563, 0.07951292831858975, 0.3642393701653045, 0.159610510521875, 0.9857503059556311, 0.670118400536204, 0.0676109241920308, 0.26102951745024544, 0.9677090322222346, 0.9857887311786784, 0.9975832111568146, 0.9990528395645082, 0.08525296886586808, 0.9127082549169406, 0.9955186298358928, 0.9829909549572163, 0.9956234587644317, 0.025294597145388825, 0.9738419900974697, 0.1366035703777658, 0.8630861946595202, 0.9947851431735214, 0.9687696517505285, 0.9986221737573643, 0.9998046552895565, 0.02737729341142007, 0.22358122952659723, 0.7059430658230461, 0.04236962075576915, 0.08604473081189962, 0.9114907924989366, 0.0702069914287144, 0.007170075720379342, 0.9222509895337929, 0.020478085775560772, 0.03780569681641988, 0.09293900467369888, 0.8206986683897817, 0.028354272612314914, 0.1839419387257477, 0.05016598328884028, 0.6789129738423052, 0.08695437103398983, 0.13913488191323012, 0.8359784921677272, 0.023384013766929435, 0.26107190124649793, 0.6685392611358919, 0.07075780501073309, 0.9830286513563883, 0.8966972801242019, 0.09623092762308508, 0.004374133073776595, 0.9911109171080137, 0.7292651379070861, 0.2683574415999049, 0.05505376810562249, 0.11761486822564805, 0.25775173249450534, 0.565552345085031, 0.9905927418654065, 0.9965306633521572, 0.9944846165812455, 0.9789861648972471, 0.9702164117358656, 0.9937960393640898, 0.999754261886333, 0.9942531180745138, 0.31965391540568233, 0.01652143832433864, 0.12786156616227293, 0.3684999069732922, 0.00035916170270301387, 0.14725629810823568, 0.01975389364866576, 0.987236343039621, 0.8019579887944571, 0.16142195063528686, 0.036062350673840685, 0.8237440045265038, 0.1728845441598835, 0.6889983295624966, 0.1749837027460309, 0.056049467285838026, 0.07928949030679525, 0.2258530713120001, 0.24720814074746159, 0.09981173757878731, 0.1457715609290196, 0.04758466558988697, 0.04479922175047896, 0.054780395508357685, 0.010213294077829399, 0.09563357181967529, 0.028318679033981515, 0.988441307887513, 0.8689254581125899, 0.08866586307271325, 0.02399193941967535, 0.01773317261454265, 0.9862683079915658, 0.9809469214615923, 0.07716266530012209, 0.5980106560759462, 0.3182959943630036, 0.9956291339004217, 0.993735499822572, 0.06661306873352797, 0.19779586053391127, 0.002860683933341692, 0.22395068506732102, 0.04740561946680518, 0.06375238480018627, 0.26318292186743564, 0.01266874313337035, 0.0061300370000179115, 0.020024787533391843, 0.024520148000071646, 0.008582051800025076, 0.061300370000179114, 0.0012260074000035822, 0.19611518096129485, 0.028354002066693234, 0.025991168561135463, 0.06615933815561754, 0.645053547017271, 0.03780533608892431, 0.0033740583557715868, 0.9964719010712086, 0.9882346455580912, 0.06017556217575056, 0.12657618250761327, 0.04150038770741418, 0.6826813777869633, 0.016600155082965674, 0.02075019385370709, 0.049800465248897016, 0.976148160888897, 0.022569899673731724, 0.07143224916763553, 0.9286192391792619, 0.9896804286437714, 0.9785508661028022, 0.2765539149888152, 0.7132179912869445, 0.02934594283723514, 0.3531134761070589, 0.2896107801314025, 0.3276161815107726, 0.29363125528866874, 0.7057103728802242, 0.9969504271180388, 0.0367166491645483, 0.04937756266956496, 0.2257862908394637, 0.10002121668963158, 0.07090111562809327, 0.05613004987224051, 0.41105765846287406, 0.02067949205819387, 0.00042203045016722185, 0.028276040161203865, 0.9955643723326139, 0.05555609155995415, 0.9398238822225577, 0.973852779600902, 0.9967445729175436, 0.06632534218382044, 0.19409916315559217, 0.12094621221755493, 0.02438431697934575, 0.08778354112564471, 0.12289695757590259, 0.02828580769604107, 0.061448478787951295, 0.0809559323714279, 0.05364549735456065, 0.1589857467053343, 0.9924030673195652, 0.9822432939706017, 0.9676658582170442, 0.024811945082488313, 0.9931140072188088, 0.1328417085285283, 0.1570657847896129, 0.061341612467585134, 0.349686262155979, 0.035945403484190015, 0.09611488322946461, 0.0578252143006535, 0.03321042713213208, 0.001172132722310544, 0.05977876883783775, 0.014847014482600224, 0.9938191576837697, 0.6028589426530572, 0.396540712279074, 0.9850707988102637, 0.03776001201827145, 0.1569400499509407, 0.8051535895979339, 0.14497563986020978, 0.6104237467798306, 0.15260593669495764, 0.09003750265002501, 0.19396507624622378, 0.8051806072081615, 0.010523205706194123, 0.6303400218010279, 0.0021046411412388244, 0.07418860022866856, 0.021046411412388246, 0.05261602853097061, 0.111019820200348, 0.09786581306760533, 0.9812089670557511, 0.7087917432164432, 0.28940885358715407, 0.9996951404271175, 0.9984103055690796, 0.9964654041862464, 0.994561026115196, 0.9952455250983394, 0.9893407109210212, 0.20646644572991035, 0.7921569754535336, 0.9994305733061893, 0.9705201416450289, 0.9975897865610749, 0.9788935380932786, 0.9797208598132626, 0.9138796452172437, 0.08377230081158067, 0.0008392688765822827, 0.24618553713080293, 0.21009697543776476, 0.1320449699156125, 0.175127438913503, 0.05483223327004247, 0.1703715819462034, 0.010350982811181486, 0.9986610641051725, 0.9971657354308362, 0.9685866861398039, 0.9964818672006589, 0.9766986459034991, 0.004480599625978556, 0.9006005248216898, 0.04704629607277484, 0.04480599625978556, 0.7686057052646006, 0.19952518308223266, 0.003470003184038829, 0.027760025472310632, 0.9980913855809497, 0.9962872354702266, 0.9828697521894469, 0.23686764429259094, 0.14137344368572086, 0.07903370881522133, 0.10039732582140375, 0.0810183071163421, 0.12876540741977713, 0.05230000228835916, 0.08090156603980558, 0.029185269134128996, 0.02673370652686216, 0.01716093825086785, 0.017511161480477398, 0.008522098587165667, 0.9793572020746378, 0.9879522397305519, 0.9992029932151069, 0.9976832490117339, 0.9935488803868954, 0.9819498789781488, 0.031952396754202875, 0.9330099852227239, 0.025561917403362302, 0.9892770104184809, 0.07696603939200361, 0.6919360684256481, 0.07127889362412157, 0.006066288819074176, 0.07014146447054516, 0.08303232821107778, 0.05252950475451384, 0.8869404841242913, 0.06061096702443904, 0.9955946023638347, 0.9988621195425081, 0.9959841231888046, 0.9904752629374031, 0.995741075004767, 0.32426771051703607, 0.6708987114145574, 0.010117977511824463, 0.9865028074028852, 0.992115289687834, 0.2806534355785661, 0.7156662607253435, 0.9823330562509913, 0.9943157150796216, 0.9847420814145311, 0.9917332499420267, 0.09102728340533807, 0.045789481955412485, 0.034204191340187644, 0.6151237636178907, 0.20081170399723067, 0.012136971120711743, 0.017062320685674277, 0.06628055343281161, 0.37340232577494864, 0.04134331550759537, 0.007874917239541975, 0.42393304472867627, 0.04134331550759537, 0.029530939648282406, 0.5434254925506459, 0.0913641545968008, 0.04937913843789885, 0.31573752030429303, 0.026930186472816708, 0.016158111883690023, 0.9533286011377115, 0.995760832078847, 0.9872453755946081, 0.9452289065120868, 0.05124735035306495, 0.027346107028608985, 0.9662291150108507, 0.07455532980269226, 0.04878311703139123, 0.2595630000538175, 0.06258965958744535, 0.023931340430493813, 0.09480492555157163, 0.11045234044843298, 0.05982835107623453, 0.08836187235874639, 0.17764418088789638, 0.9967279112215868, 0.9997561848694466, 0.6490350617658346, 0.3492090821457479, 0.9887377160108963, 0.3016180364851587, 0.15629298254230953, 0.06854955374662698, 0.08225946449595238, 0.38936146528084126, 0.9890832647986144, 0.17164626521880208, 0.273012169875575, 0.5527820667282681, 0.9946377257937393, 0.02176604525036639, 0.016929146305840526, 0.960124440488384, 0.9893509651619066, 0.9905813037265815, 0.9974518176557784, 0.9985519641861001, 0.006927203581577547, 0.04476039237327031, 0.1486684460969335, 0.19822459479591134, 0.03570174153582274, 0.061279108606262914, 0.49236431610597337, 0.012255821721252584, 0.358377636004579, 0.6396360338815904, 0.23228886856427283, 0.10863509585872243, 0.015018676846827984, 0.3494345479695311, 0.11464256659745362, 0.02803486344741224, 0.015519299408388917, 0.1296612434442816, 0.006508093300292127, 0.29953972455977285, 0.215054161222401, 0.08558277844564939, 0.2655260562031686, 0.09984657485325761, 0.024138732382106235, 0.010240674343923858, 0.9862338091176692, 0.7387557433628108, 0.16544197356905518, 0.026208629476285973, 0.026208629476285973, 0.04095098355669683, 0.9702975750344918, 0.9822787266562956, 0.9975843028440664, 0.9833374891804613, 0.014007656541032212, 0.9817545245654445, 0.18921342164409433, 0.1016532796281031, 0.15110975328542153, 0.0028708243283931557, 0.025576434925684476, 0.21909609306236855, 0.037712192313891904, 0.24010530746560937, 0.007699028880690735, 0.001696396194050501, 0.023227578656999166, 0.9909282325442225, 0.9907524966897181, 0.9883693349708332, 0.9907610157782564, 0.9819612365302529, 0.15548248175505036, 0.02943600382741245, 0.0007547693289080115, 0.00981200127580415, 0.2505834171974598, 0.09359139678459343, 0.2754908050514242, 0.18416371625355482, 0.9797131334095514, 0.9877254867343987, 0.4302740668417366, 0.2490841161387788, 0.08684621775072805, 0.09434373295222975, 0.00041652862230565015, 0.05935532867855514, 0.03457187565136896, 0.011454537113405378, 0.005623136401126277, 0.00020826431115282507, 0.026866096138714435, 0.0008330572446113003, 0.9974511347883013, 0.9992079978750373, 0.9971204143652012, 0.7033434438953917, 0.09882015394889747, 0.018803834961935956, 0.05601142329087306, 0.0008001631898696152, 0.07841599260722229, 0.0160032637973923, 0.027205548455566917, 0.9935688305080281, 0.9962240872899617, 0.9898057028396434, 0.98195895684085, 0.9934748959493107, 0.9773198911174036, 0.23103635921899277, 0.5189645546420618, 0.10060141767793979, 0.043015778593325976, 0.10615184072223992, 0.0003469014402687579, 0.156047907830342, 0.8322555084284906, 0.07688885645781676, 0.05505621820436262, 0.028477354243635837, 0.048411502214180925, 0.07688885645781676, 0.6217555676527158, 0.002847735424363584, 0.08922904329672562, 0.05363495437655628, 0.05851085931987957, 0.1392341744926764, 0.01246064596627065, 0.4512920908653674, 0.048759049433232976, 0.20262093875587925, 0.009751809886646595, 0.023837757500691677, 0.9970248528395644, 0.1544756613415401, 0.05251405857020097, 0.23382172064104081, 0.14757600401114873, 0.005366400145859954, 0.0712964590807108, 0.06516343034258515, 0.22040572027639094, 0.03909805820555109, 0.009966171699454199, 0.37454296656194047, 0.027262365987151323, 0.11450193714603556, 0.43829496087035585, 0.016357419592290794, 0.013002051470795245, 0.016357419592290794, 0.2720738433808281, 0.7234690835353838, 0.5673604867871539, 0.23456456641567539, 0.07620371700813819, 0.0005953415391260796, 0.09465930472104667, 0.026195027721547505, 0.24324086464123013, 0.7561618183412154, 0.9949854192844177, 0.9953746233861034, 0.09481297765534133, 0.06360870652826697, 0.2928400828848517, 0.037205092497665584, 0.06480887080238522, 0.18122480539185495, 0.014401971289418936, 0.030004106852956118, 0.22083022643775702, 0.9988207753788558, 0.9768485664970454, 0.7882210140063068, 0.019686595930993252, 0.12417698971857283, 0.06738873222532306, 0.9866451516714276, 0.13539308407950892, 0.12862342987553346, 0.08236412614836792, 0.1500606681881224, 0.0614910256861103, 0.16472825229673585, 0.19406342051396278, 0.00959034345563188, 0.03836137382252752, 0.03554068457087109, 0.2475820183781645, 0.13939491791039513, 0.219148229152661, 0.3925249927228042, 0.0010402605814208593, 0.9632567943002793, 0.03232405350000937, 0.9932992375680885, 0.07387152855579501, 0.9247620982169894, 0.9973070376533735, 0.9922634224982564, 0.4343855458262806, 0.1461538498691641, 0.02096230516051756, 0.00524057629012939, 0.3930432217597043, 0.40189186600139665, 0.18966287259156822, 0.14560520813686964, 0.06877293963660264, 0.1934238927279449, 0.9988600004161681, 0.9953627158635582, 0.07719132519658839, 0.5939191373949271, 0.043590395405132265, 0.030876530078635354, 0.0081731991384623, 0.09262959023590606, 0.14984198420514216, 0.0027243997128207666, 0.20827440061978109, 0.312238902421695, 0.031431128451741425, 0.005526352255251239, 0.017269850797660122, 0.0721879763342193, 0.006562543303110847, 0.17546168410422686, 0.12088895558362085, 0.05042796432916756, 0.17367933681361894, 0.7255115559093728, 0.04311189211685577, 0.05789311227120632, 0.010953274131433577, 0.12638393228577205, 0.3316876089544373, 0.1463245082686383, 0.12526051955434295, 0.2533295709372586, 0.003931944560001796, 0.001404265914286356, 0.9782531940526362, 0.9981193566432618, 0.9878231138468235, 0.3471260523891022, 0.10313165324603761, 0.07965452892986645, 0.09223155981352957, 0.051565826623018805, 0.02641176485569256, 0.18152847908753775, 0.007546218530197874, 0.026830999218481328, 0.08342763819496538, 0.32921771361927393, 0.6695953497341164, 0.09890122036700935, 0.22417609949855452, 0.6758250058412305, 0.2860057379057652, 0.5856307966641858, 0.037653416474988696, 0.028840914746799853, 0.020028413018611007, 0.040857962557966455, 0.07119235933797664, 0.9271957275684101, 0.00047327583151146515, 0.06815171973765098, 0.15854740355634084, 0.41269652507799764, 0.09560171796531597, 0.2640879139833976, 0.00047327583151146515, 0.10601310203854662, 0.3316452657355603, 0.06179373327380525, 0.5005859310162388, 0.043451462485099054, 0.7794106083264642, 0.17380584994039622, 0.038436789478243805, 0.3279939368810138, 0.007687357895648761, 0.5245706602126035, 0.0695522857225364, 0.031481560905990164, 0.027256640663733872, 0.05695939010498232, 0.5895122153810134, 0.19289314931257817, 0.09050602476803939, 0.042981625662041875, 0.1902214844499143, 0.04574947094365027, 0.7440308695572597, 0.018059001688283, 0.9940848710573978, 0.013496741941078066, 0.3118212793283553, 0.11123176979026406, 0.0446788698739136, 0.23409866194352644, 0.20663977316685037, 0.02838969856571593, 0.04700589434651326, 0.0027924293671196, 0.9896188413648364, 0.9670286366392843, 0.023287636331743893, 0.05515492815413027, 0.046575272663487786, 0.8273239223119541, 0.04780093773357957, 0.1474123490005109, 0.17351896347999068, 0.1849968715701068, 0.021155360009233622, 0.02498132937260566, 0.02835718469322805, 0.0015753991496237805, 0.39497507251281927, 0.02295581618023223, 0.4727252093979832, 0.2450166131090233, 0.14225026323989653, 0.010276634986912678, 0.041647415473277695, 0.08545833304906332, 0.002704377628134915, 0.1552680767853604, 0.18459649128926178, 0.6590267259111963, 0.990728431080048, 0.9972620010160653, 0.005397200167930809, 0.34464978215215303, 0.01811917199233914, 0.06206780193120429, 0.4140423557398349, 0.06360985912204167, 0.009252343145024242, 0.08288557400750884, 0.09791391049181235, 0.4833905192726852, 0.020913650784658948, 0.0128333766178589, 0.3099022798090371, 0.07177184701098867, 0.0014259307353176557, 0.0014259307353176557, 0.10478050917136333, 0.4702824730883725, 0.13528000010387284, 0.026072145474564584, 0.11412712736035818, 0.08411956370095366, 0.02016901819730468, 0.010330472735204835, 0.03443490911734945, 0.7875877182596498, 0.03510565410847276, 0.1755282705423638, 0.7524799965736377, 0.039089869951877285, 0.02132174724647852, 0.05063914971038648, 0.13592613869630055, 0.9972910866939102, 0.1712043497961565, 0.23063065303118604, 0.3056209880658662, 0.2924151429025263, 0.9884347441660778, 0.9902872804068179, 0.9916788238770945, 0.9976672066830246, 0.03635848179045623, 0.12254154973820433, 0.04847797572060831, 0.0053864417467342565, 0.5615365520970462, 0.1346610436683564, 0.030972040043721973, 0.05925085921407682, 0.013828085160497246, 0.15104523790696991, 0.6116268436373782, 0.16753257021371662, 0.027656170320994492, 0.02871986917949428, 0.9593572595323061, 0.031978575317743535, 0.6845350830449121, 0.06446944168359489, 0.11155386538509678, 0.09779072614927314, 0.039840666208963135, 0.9779058479574327, 0.1650692872865733, 0.11692407849465608, 0.6327656012651977, 0.008842997533209284, 0.030459213725498643, 0.045197542947514116, 0.9871691288100154, 0.979008377412016, 0.9613291676413666, 0.03667721723932925, 0.9794934378249183, 0.9892949954635688, 0.9850565550683203, 0.11669723594258395, 0.88239488932024, 0.9983096454304405, 0.9944918158244141, 0.977242107550133, 0.979439126547647, 0.052082747740249596, 0.7359518702426573, 0.2105954582540527, 0.9972181272708279, 0.9907470953938329, 0.9904628085059964, 0.07622283206076054, 0.2000849341594964, 0.06907694155506423, 0.06669497805316547, 0.0142917810113926, 0.5692892769538053, 0.06434255425971308, 0.09651383138956962, 0.21600714644332247, 0.6204460589329476, 0.9858693175836529, 0.9992658751057343, 0.9314185040238578, 0.06487492067827866, 0.9931234055103724, 0.02584010547093317, 0.017680072164322696, 0.22236090760513544, 0.017000069388771823, 0.005440022204406984, 0.5848023869737508, 0.09724039690377483, 0.029240119348687536, 0.1028194595826786, 0.6395559045601475, 0.25752029785386477, 0.9883349260991043, 0.03540058260200716, 0.032182347820006514, 0.04827352173000977, 0.08689233911401759, 0.6436469564001303, 0.15447526953603125, 0.9809753748603736, 0.001998941736847593, 0.8135692868969703, 0.15591745547411226, 0.025986242579018708, 0.9958988402999449, 0.04007069861223414, 0.9138704489951464, 0.043948508155353574, 0.992285922455029, 0.9855254194768505, 0.9935241702424782, 0.10527948069051665, 0.21391894480732637, 0.6798366465866341, 0.95424795238319, 0.03894889601564041, 0.9764889712056075, 0.20016317390416236, 0.0035743423911457563, 0.793504010834358, 0.9899434547172521, 0.9930948403606038, 0.990422173234078, 0.9888902974916183, 0.9924969543132581, 0.9688614450030486, 0.05138735911658268, 0.8317900529004184, 0.11647801399758742, 0.02738656668078851, 0.8185540485702344, 0.14910464081762634, 0.04073800171643748, 0.09020557522925442, 0.8642276078415665, 0.9844707652467037, 0.15152256126688476, 0.8380125327209341, 0.009276891506135802, 0.9864240607885632, 0.9979981732506521, 0.12559033189961924, 0.7933633161463752, 0.07964264949731951, 0.9862483356503627, 0.9887572356549367, 0.4519161722274578, 0.05648952152843222, 0.1496972320503454, 0.03954266506990256, 0.01765297547763507, 0.015534618420318861, 0.21254182475072625, 0.057195640547537625, 0.9873660036760644, 0.9989161204374292, 0.979216484456588, 0.7543266738193737, 0.2455358636257693, 0.9456439951520849, 0.049066433710721384, 0.21203311629640278, 0.30173943472949627, 0.03837703462378331, 0.20867512576682173, 0.03837703462378331, 0.02926248890063477, 0.0004797129327972913, 0.15350813849513323, 0.01774937851349978, 0.7583309092520306, 0.043796009790663164, 0.1619852416914939, 0.024597758923523144, 0.01079901611276626, 0.11936918838412976, 0.8777146204715424, 0.9851216368622608, 0.9547827557755726, 0.14635869062579882, 0.15308782582698496, 0.5159003654242718, 0.18392969549908816, 0.6954582605554479, 0.11907021582116102, 0.036603066345023576, 0.05556610071654181, 0.08026214547944928, 0.01278902318079137, 0.014418301039965498, 0.9472823783257333, 0.036045752599913744, 0.9912935879041878, 0.08865254716331025, 0.08865254716331025, 0.20099672330991894, 0.03744805871553623, 0.09018103935578113, 0.1474994965734386, 0.06113968769883466, 0.02139889069459213, 0.24990847346898667, 0.0015284921924708665, 0.013756429732237799, 0.9961901927467128, 0.09300827911969467, 0.21276246233857615, 0.2715552605385904, 0.05132322137952064, 0.04481746092296168, 0.28721727645252865, 0.006746714547542619, 0.03252880228279477, 0.9936406322710397, 0.21527943073768588, 0.715604774396567, 0.06777315412112334, 0.9914059635137319, 0.9338138448224309, 0.03012302725233648, 0.03012302725233648, 0.923021177842311, 0.06177700796582396, 0.010901824935145405, 0.22545686632258288, 0.030744118134897667, 0.6413564644252263, 0.046970180483871436, 0.018788072193548572, 0.03672214110557221, 0.9961505819177636, 0.9753136648861161, 0.9890793755049281, 0.994799026005682, 0.9961234175242774, 0.5305808156180091, 0.37506574897135125, 0.0035184404218700865, 0.09007207479987421, 0.9889056346415381, 0.5966304662609104, 0.40223285187860175, 0.9953045901324323, 0.026485756518952276, 0.005924445537134062, 0.96707860973806, 0.7507031630230696, 0.01000937550697426, 0.04234735791412187, 0.12704207374236562, 0.06929567658674489, 0.0007699519620749432, 0.033466077744444864, 0.24198548522906285, 0.722953089735764, 0.0012871568363248024, 0.9982049049418014, 0.1576980504560252, 0.026621416242934154, 0.034291993804457556, 0.007219367116727907, 0.04489543925715167, 0.6835838238651737, 0.0006768156671932412, 0.002932867891170712, 0.04196257136598096, 0.011260511528451986, 0.9515132241541928, 0.03565828650676462, 0.7100480883915724, 0.2789474632966892, 0.12397189434010951, 0.051958808657251776, 0.06608795837983779, 0.08659801442875296, 0.1554206469484461, 0.4466634428430416, 0.017319602885750594, 0.05150302963394255, 0.9922575129601765, 0.9903027019404492, 0.9971537069111271, 0.995505318518977, 0.9954582150845582, 0.9755382246315701, 0.02868003895651086, 0.9679513147822415, 0.9651609032794757, 0.9779418274839402, 0.46606472780120956, 0.08917166799589589, 0.2727862355933564, 0.10674244001479163, 0.06501185646991424, 0.03807825549799937, 0.9561873047275398, 0.9962652701036332, 0.9893722562098155, 0.6944620233456755, 0.04486430298868428, 0.027105516388996755, 0.07570851129340474, 0.06542710852516458, 0.09159795193523042, 0.023085115266804818, 0.9741918642591634, 0.4254619624354741, 0.27576911143341143, 0.244522545447544, 0.02761324435960378, 0.026159915709098317, 0.9918655390241202, 0.9927834723298129, 0.0036548447992177163, 0.053908960788461316, 0.5299524958865688, 0.007309689598435433, 0.025583913594524013, 0.27228593754171987, 0.0566500943878746, 0.02101535759550187, 0.0283250471939373, 0.9951760037786643, 0.9948461161965345, 0.09023350299833369, 0.2024061322158701, 0.08174093801025523, 0.017692843725163467, 0.11995748045660831, 0.02760083621125501, 0.026185408713241935, 0.1280961885701835, 0.2717620796185109, 0.004600139368542502, 0.029370120583771357, 0.7434272124223967, 0.017932696261893158, 0.005457777123184873, 0.09551109965573529, 0.06276443691662605, 0.07484951483224969, 0.8479932197040282, 0.04025284270746969, 0.1100244367337505, 0.9871849210608853, 0.9954492911777928, 0.17795370747893868, 0.25079486235373744, 0.05808851591281418, 0.053478316237194005, 0.09404807338265153, 0.0018440798702480691, 0.3254800970987842, 0.03780363734008542, 0.1657728757400282, 0.03282219845479255, 0.0037392377986472524, 0.11176166309290121, 0.037807848852988886, 0.1063605418281885, 0.41339351218377957, 0.12838049775355567, 0.04668461655358017, 0.03357096021830484, 0.059798272888855496, 0.19670484502912994, 0.060847365395677526, 0.07028919795707576, 0.4065233463935352, 0.10333561192196959, 0.02150639638985154, 0.06227415291250441, 0.016309897191370205, 0.79918496237714, 0.09192851144226842, 0.029654358529764006, 0.7148383557124716, 0.16424597563808835, 0.05958791992147005, 0.0613213866828219, 0.013460479431093722, 0.7784643937649203, 0.14918698036128877, 0.03925973167402336, 0.019069012527382776, 0.9867486973190901, 0.5394971273542384, 0.3881449920783887, 0.07201432242963815, 0.9937064305069554, 0.8300536168587602, 0.16939869731811433, 0.04372474956497136, 0.04093380810337745, 0.5823764516525973, 0.03721255282125222, 0.01860627641062611, 0.2763032046977978, 0.9898694334569689, 0.9677381741566895, 0.04014980285975844, 0.06212154536962625, 0.09610661471942179, 0.09373556336943606, 0.1313562447892097, 0.10527467993936664, 0.20059094420879317, 0.2503830225584936, 0.001738770989989539, 0.018336130439889683, 0.052804933923847594, 0.132012334809619, 0.813195982427253, 0.7885500399266707, 0.1144444305734283, 0.03907858604946333, 0.027215443855876244, 0.007676150831144582, 0.012560974087327497, 0.010467478406106248, 0.09717279313324706, 0.2088409752974205, 0.13099536753874189, 0.008589860166474879, 0.12079490859105298, 0.08643546792515347, 0.0037580638228327592, 0.17233406958990224, 0.17179720332949758, 0.995470343024692, 0.0379675345339194, 0.9618442081926247, 0.8557014639984132, 0.05270624959410516, 0.08681029344911438, 0.953953928480398, 0.9816337636118956, 0.016092356780522878, 0.11067583892505685, 0.28943408785552743, 0.0664055033550341, 0.5332563148207284, 0.989866074462695, 0.9988051081121355, 0.9876986885938913, 0.9975907398730018, 0.9943158343733991, 0.9937560904435054, 0.11893553288492434, 0.8763670844152319, 0.06099241651081471, 0.2676383649877541, 0.2521626772163533, 0.039144386715896005, 0.3805198522615007, 0.26567038843524265, 0.24682215141787744, 0.11398695720025613, 0.011368777883490113, 0.14540068556253144, 0.04158579278434541, 0.16634317113738165, 0.008676172595295087, 0.46080212496578765, 0.054765712159350804, 0.15916285096311328, 0.1642971364780524, 0.16044642234184806, 0.96537901271035, 0.3526089996330098, 0.18243914958319116, 0.19790913595135648, 0.046409959104495996, 0.12055920411052982, 0.09975473968437645, 0.0639144626551118, 0.0639144626551118, 0.8702199915349838, 0.0399544212572982, 0.13140565213511407, 0.5913254346080133, 0.23617502343202937, 0.27665221880784163, 0.028619195049087064, 0.08313194752353861, 0.6105428277138574, 0.9952725185624128, 0.9863354475133925, 0.9327888232461027, 0.06564069496917019, 0.9899647423699169, 0.019421945734516822, 0.10196521510621331, 0.8788430444868861, 0.024129711592127717, 0.9651884636851086, 0.21293949247985974, 0.7224999622035942, 0.028765510387630176, 0.03548991541330995, 0.9914081465664544, 0.9859102212941078, 0.9847992869625934, 0.010086474646797893, 0.8230563311787081, 0.013112417040837262, 0.04034589858719157, 0.11296851604413641, 0.10478532434256996, 0.038056361577152274, 0.06047312250615978, 0.20644272855551096, 0.07976196330553832, 0.028151281166660585, 0.10009344414812653, 0.052653322182087396, 0.004691880194443431, 0.3253036934814112, 0.9988383355868901, 0.9753136038279187, 0.9870144575375437, 0.08985467947176771, 0.9094209279021587, 0.9973103668211633, 0.9926676393917714, 0.9800134963619879, 0.9981378132466806, 0.9982754272684107, 0.9899462632016383, 0.9890209707265567, 0.10260622662829028, 0.011763771205791243, 0.5672751892570443, 0.0006535428447661801, 0.13659045455613164, 0.1254802261951066, 0.05424405611559295, 0.10321674556252863, 0.8515381508908613, 0.04433026892749627, 0.24693434514633097, 0.31866591584436543, 0.003173963305222763, 0.4303894241882067, 0.9968394661177873, 0.9949047441187097, 0.027162006646392726, 0.3035753684008599, 0.420212220470664, 0.008521413849848699, 0.025564241549546098, 0.21410052297744855, 0.051765339653745815, 0.21849006996710896, 0.30622223652313274, 0.07663959377307822, 0.12806879485764386, 0.21882620853628915, 0.989932264125674, 0.006817484057244501, 0.7151540776049482, 0.003749616231484476, 0.27372198489836674, 0.9925185635487714, 0.9987741339212539, 0.005396957644965802, 0.12694582982289127, 0.47211646876831276, 0.04176775916538751, 0.24192449269390182, 0.034258948528913355, 0.026984788224829012, 0.03637080152042171, 0.014548320608168684, 0.2012222934254428, 0.24095408384702705, 0.5575267365609402, 0.6215025109418943, 0.2191059699591763, 0.053371967041337814, 0.013342991760334454, 0.029495034417581424, 0.005618101793825033, 0.021067881726843873, 0.03581539893563459, 0.9858026394998355, 0.9918647754881211, 0.9975516129621653, 0.979431757805743, 0.9945254494691036, 0.9884941109152087, 0.9885044607987147, 0.9895958664882388, 0.1277065897004431, 0.8655668857474478, 0.9988051124764327, 0.9949334884868265, 0.9781594050082919, 0.9598161377359262, 0.03272100469554294, 0.9916732738496201, 0.3821661279717608, 0.11745337369325158, 0.08823758475950308, 0.036298404432839056, 0.09915661698726767, 0.1280772969418874, 0.03924949422412679, 0.06462886642920125, 0.0041315257078028194, 0.008558160394734412, 0.032166878725036235, 0.9868217831972984, 0.37974559383520456, 0.04161595548878954, 0.5566134046625602, 0.02080797774439477, 0.99438637388009, 0.05016008593273611, 0.07809734898388027, 0.1047647364417906, 0.11555867898427812, 0.0400010811868655, 0.2888966974606953, 0.12698755932338254, 0.0349215788139302, 0.12476527703522336, 0.035556516610547116, 0.9990975078452395, 0.27624563183931866, 0.179513154696931, 0.5441201839259308, 0.010513063661502326, 0.17872208224553957, 0.0806001547381845, 0.1576959549225349, 0.03504354553834109, 0.5396706012904527, 0.9855103876177419, 0.41860499308568194, 0.17999422616414046, 0.24749206097569315, 0.023387407675932725, 0.021611148865102393, 0.01953884691913367, 0.01361798421636589, 0.011249639135258779, 0.0642413603250304, 0.9947277409464178, 0.5968971546831966, 0.05457740187496821, 0.19205718634482483, 0.02556156796675726, 0.13057125258694927, 0.20264434555601485, 0.02565118298177403, 0.6412795745443508, 0.058142681425354475, 0.027361261847225635, 0.04446205050174166, 0.0014063710998173608, 0.27846147776383745, 0.16313904757881384, 0.534421017930597, 0.022501937597077772, 0.9987811928663852, 0.02797388064621594, 0.01398694032310797, 0.03496735080776993, 0.9161445911635722, 0.7064559564783124, 0.13473040629354216, 0.04100490626325196, 0.11832844378824138, 0.9840027112630103, 0.9953450219874321, 0.9899229544946954, 0.9958552429028403, 0.9783185494131889, 0.9738939335425589, 0.35325851546166565, 0.15267321645040363, 0.15540395690724013, 0.061565784845040813, 0.07745372932118039, 0.05511130740160912, 0.06032453918284241, 0.040961106852547315, 0.028548650230563282, 0.0012412456621984035, 0.01365370228418244, 0.6896403467414784, 0.24195595737316436, 0.01690617850974016, 0.012514963312405054, 0.027664655743211173, 0.010978037993337766, 0.9927013306125833, 0.20006331108071718, 0.7977207973471635, 0.07147582247589472, 0.9269520727342597, 0.9968368279052747, 0.18216341323102686, 0.8151812742088452, 0.04322663944485932, 0.002368582983279963, 0.6626110895725696, 0.018948663866239703, 0.10066477678939842, 0.0698731980067589, 0.063951740548559, 0.038489473478299396, 0.1082749980509967, 0.15461838243080073, 0.06740855909789678, 0.09395067924269364, 0.015166925797026776, 0.006740855909789678, 0.38507139384673533, 0.06277422065991638, 0.10574717708482557, 0.9857511101091053, 0.9878060097526281, 0.12066032055311211, 0.051280636235072646, 0.8265231957888179, 0.2524849036078157, 0.6943334849214933, 0.9651089624595846, 0.9935670403959046, 0.992418908649096, 0.9990148013070792, 0.9971744987948458, 0.09908879870436085, 0.12576655220168878, 0.10289990634683628, 0.03811107642475418, 0.04954439935218043, 0.5792883616562635, 0.07086003250922152, 0.9251170910926142, 0.11462583890774632, 0.11189665226708569, 0.08915343026158047, 0.13706581795317813, 0.14889229339604085, 0.033356725608074324, 0.2140895298118225, 0.14009824755391218, 0.0103102606424957, 0.9828465717876448, 0.9976126230816272, 0.9821737516937356, 0.7852333073341842, 0.19067806889376937, 0.022521031759106618, 0.9695290443982575, 0.01958644534137894, 0.00652881511379298, 0.9895931040850109, 0.3310811119794863, 0.21762874817617095, 0.011773358507891216, 0.1334313964227671, 0.14020999677579538, 0.16304317691231168, 0.0026757632972480034, 0.16848969633642694, 0.3845960459853223, 0.0319188555171492, 0.04186079412085141, 0.005755859191617069, 0.17973978475640573, 0.07482616949102189, 0.03950612445155352, 0.07325638971148997, 0.9975578554397678, 0.0010189559299691193, 0.9891468711680471, 0.0035659536839254963, 0.8932713978233368, 0.05705525894280794, 0.0445744210490687, 0.9996131794611859, 0.9486940846220068, 0.05037313723656673, 0.9887809635183767, 0.05602141744824745, 0.29533621043105207, 0.08974304736855174, 0.07723341046263241, 0.12727195808630973, 0.33014563486491455, 0.02393147929828046, 0.282814449739412, 0.036228297280668474, 0.06895063030836904, 0.19049072441125683, 0.01402385701187167, 0.021035785517807503, 0.3856560678264709, 0.08802121031863154, 0.9080082748658832, 0.9633485105624099, 0.007180377754076405, 0.9873019411855058, 0.9389493670614776, 0.9915287808373027, 0.9886579526156117, 0.9981255623963543, 0.051721312336694886, 0.341056418408441, 0.41498747074854014, 0.027381871237073762, 0.0769734824775518, 0.08731774494489077, 0.03836897952415115, 0.0872437510608675, 0.03608511169533263, 0.7929589101657905, 0.022381904722421506, 0.023295451853948913, 0.9964088494190935, 0.9812636976517064, 0.9915368048319776, 0.9707730752512733, 0.007491414039223655, 0.06599579034554172, 0.1030961265397922, 0.09952878652111427, 0.13163484668921566, 0.07313047038289758, 0.15303888680128322, 0.21760774113935377, 0.04066767621292841, 0.04851582425401986, 0.05921784431005365, 0.43486309013420926, 0.13935177027491177, 0.029031618807273285, 0.10420823171873884, 0.04431141817952238, 0.04583939811674729, 0.15310358970993596, 0.0021391719121148737, 0.00030559598744498193, 0.04645059009163725, 0.007769907054852597, 0.28360160750211977, 0.70317658846416, 0.9421254793073833, 0.05595287758326353, 0.9918000378884106, 0.9810440862274866, 0.9872065370311729, 0.014968638194077557, 0.9836533670393823, 0.9421666326340115, 0.19044891215149262, 0.14177027057390426, 0.07427256653075337, 0.11843463311660674, 0.18342312883101594, 0.2908172453011593, 0.0005018416657483337, 0.9592824093577961, 0.4491387806766923, 0.3181783969886218, 0.020289636909419363, 0.011989330901020534, 0.20012960042472736, 0.9891384260386896, 0.9994508325251312, 0.08447893927065592, 0.862709167703365, 0.05119935713373086, 0.925552446027781, 0.012451378197683152, 0.03320367519382174, 0.024902756395366304, 0.08077118308473501, 0.026923727694911668, 0.8884830139320851, 0.10818414881154896, 0.3330462432421652, 0.29147134307904926, 0.02861068398321956, 0.053197990531298874, 0.0715267099580489, 0.031292935606646394, 0.08225571645175624, 0.992009163800477, 0.487157181157135, 0.31051440752481363, 0.20226478761275787, 0.8585686016413601, 0.016574683429369883, 0.059668860345731586, 0.06298379703160556, 0.9816245628524752, 0.09281063380947041, 0.03530839329708113, 0.4458945667802817, 0.42470953080203305, 0.9872084181563093, 0.14605589052755816, 0.015035165201366281, 0.7882722327002036, 0.04725337634715117, 0.8307557626576951, 0.16615115253153903, 0.9749676679739713, 0.9914702714045163, 0.996277164553036, 0.9966907670706363, 0.9977615025653641, 0.9874532861526185, 0.9896502488333404, 0.9863582821461473, 0.985108713704954, 0.9952062053798274, 0.9945401165842471, 0.22637914715085514, 0.019563630000691185, 0.005589608571626052, 0.6987010714532566, 0.04751167285882145, 0.027907897205919643, 0.10489519984293934, 0.5340994120443242, 0.16648504195255512, 0.16552270066959235, 0.9931027168004172, 0.9986439625913464, 0.9987650590781099, 0.19874562862788336, 0.2055056840233896, 0.07210725755206653, 0.06760055395506237, 0.0031546925179029104, 0.22939121308751165, 0.06714988359536195, 0.03650429913573368, 0.08652870906247984, 0.03334960661783077, 0.9771762877580018, 0.993663509119003, 0.27409941489037093, 0.009486753543795285, 0.16872868802893043, 0.5475212045276137, 0.09749647829563352, 0.5533583903265686, 0.0035133866052480547, 0.34431188731430934, 0.9891646555699958, 0.8973264778275172, 0.039604573422399876, 0.021499625572159932, 0.040736132663039874, 0.9983930964487449, 0.9752008805366015, 0.007075948410633057, 0.04002333319764323, 0.5300327606339824, 0.11011944714047696, 0.01768987102658264, 0.2896716380602908, 0.005528084695807076, 0.01866724579059533, 0.3070761932552932, 0.03266768013354183, 0.3341436996516564, 0.2632081656473942, 0.0420013030288395, 0.28030375438514177, 0.6119307314041827, 0.10462041536910222, 0.08962611422056432, 0.9094414531204321, 0.9970140418212204, 0.9960138102747155, 0.9960454754038709, 0.9880539098828495, 0.10494114346878133, 0.031093672138898173, 0.0699607623125209, 0.7890019305245412, 0.005472907784260118, 0.9823869472746911, 0.011857966865896921, 0.04382731730558648, 0.9557430773832278, 0.9983075652714789, 0.9853872819368958, 0.09641779433163278, 0.8918645975676032, 0.25041740428443154, 0.050083480856886305, 0.28380639152235576, 0.4125924851543491, 0.9891489574034285, 0.9817449534539698, 0.9813764954696945, 0.9819495830813767, 0.1795434999343285, 0.8126705786501185, 0.9935618360138762, 0.012047442593549314, 0.11083647186065369, 0.8746443322916803, 0.9964795932583743, 0.5377849440278528, 0.28438067840192854, 0.03829028801478312, 0.052057582581896154, 0.03097641277600432, 0.03140664073122661, 0.008604559104445644, 0.008604559104445644, 0.008174331149223363, 0.10570632440727498, 0.8938056985992918, 0.10025600595121142, 0.8979450967804153, 0.04148140846352813, 0.11933882127199631, 0.09381180067905592, 0.07466653523435064, 0.6700842905646852, 0.5703827190382607, 0.028942687475951346, 0.07129783987978258, 0.030354525889412384, 0.07059192067305206, 0.05506169812498061, 0.05364985971151957, 0.05647353653844165, 0.06353272860574685, 0.0856453316805836, 0.0766663856172966, 0.046276106633863716, 0.09531496590258497, 0.02348339739628905, 0.5497877743366495, 0.024864773713717817, 0.06699675139529523, 0.030390278983432887, 0.5150159287454174, 0.13572291999768318, 0.20381286976083066, 0.05712244107646599, 0.08774006949345177, 0.9870119990279751, 0.5057758169758347, 0.4042417952907983, 0.051524727422257326, 0.03826468727682345, 0.9929411710123488, 0.9868518452121632, 0.9799518444400245, 0.9894700456261607, 0.02311528834534464, 0.9708421105044749, 0.9531834738072594, 0.04402252991479311, 0.8736547480550023, 0.06240391057535731, 0.05673082779577938, 0.9969593458949747, 0.9729928677556205, 0.023731533359893184, 0.8187738636767655, 0.03559886363812024, 0.14503240741456394, 0.2315142243586748, 0.1590198712766655, 0.6080171548813681, 0.04966565199687849, 0.13748906101574898, 0.02301578994977296, 0.7461961373189548, 0.039369114387769535, 0.004239750780221334, 0.986795269233993, 0.9919875106719735, 0.7158064503650391, 0.2827877334775463, 0.5438644415094978, 0.19396655400146473, 0.01542321655806795, 0.0759397357647244, 0.029670086090520548, 0.07280281036308346, 0.040649324996263836, 0.02770950771449496, 0.9910070103897393, 0.061463066999327534, 0.606153005579575, 0.3285094960308885, 0.0019031718086682154, 0.2196804030577026, 0.3113045315607295, 0.05328881064271004, 0.23327448740533271, 0.041326016416795536, 0.13920342371973235, 0.10726287167313112, 0.011761279788720517, 0.22628702313498275, 0.07762444660555541, 0.15854205155195258, 0.354249747236262, 0.001411353574646462, 0.009879475022525236, 0.044692863197137965, 0.008468121447878773, 0.07753121351324939, 0.9082227868694928, 0.9869079344485961, 0.9904852062509383, 0.005310912634053288, 0.9842895120764662, 0.9708784228914747, 0.996468250798415], \"Term\": [\"\\\"\\u043c\\u0435\\u0433\\u0430\\u0444\\u043e\\u043d\\\"\", \"\\\"\\u043e\", \"\\\"\\u043e\", \"\\\"\\u0440\\u043e\\u0441\\u0442\\u0435\\u043b\\u0435\\u043a\\u043e\\u043c\\\"\", \"a\", \"covid\", \"dpd\", \"ozon\", \"ozon\", \"wb\", \"\\u0430\\u0431\\u043e\\u043d\\u0435\\u043c\\u0435\\u043d\\u0442\", \"\\u0430\\u0431\\u043e\\u043d\\u0435\\u043d\\u0442\", \"\\u0430\\u0431\\u043e\\u043d\\u0435\\u043d\\u0442\\u0441\\u043a\\u0438\\u0439\", \"\\u0430\\u0431\\u0445\\u0430\\u0437\\u0438\\u044f\", \"\\u0430\\u0432\\u0430\", \"\\u0430\\u0432\\u0438\\u0430\\u0431\\u0438\\u043b\\u0435\\u0442\", \"\\u0430\\u0432\\u0438\\u0430\\u043a\\u043e\\u043c\\u043f\\u0430\\u043d\\u0438\\u044f\", \"\\u0430\\u0432\\u0442\\u043e\\u0431\\u0443\\u0441\", \"\\u0430\\u0432\\u0442\\u043e\\u043c\\u043e\\u0431\\u0438\\u043b\\u044c\", \"\\u0430\\u0432\\u0442\\u043e\\u043c\\u043e\\u0431\\u0438\\u043b\\u044c\", \"\\u0430\\u0432\\u0442\\u043e\\u043c\\u043e\\u0431\\u0438\\u043b\\u044c\", \"\\u0430\\u0432\\u0442\\u043e\\u043c\\u043e\\u0431\\u0438\\u043b\\u044c\", \"\\u0430\\u0432\\u0442\\u043e\\u0441\\u0430\\u043b\\u043e\\u043d\", \"\\u0430\\u0433\\u0435\\u043d\\u0442\", \"\\u0430\\u0433\\u0435\\u043d\\u0442\\u0441\\u0442\\u0432\\u043e\", \"\\u0430\\u0433\\u0440\\u0435\\u0433\\u0430\\u0442\\u043e\\u0440\", \"\\u0430\\u0434\\u043c\\u0438\\u043d\\u0438\\u0441\\u0442\\u0440\\u0430\\u0442\\u0438\\u0432\\u043d\\u044b\\u0439\", \"\\u0430\\u0434\\u043c\\u0438\\u043d\\u0438\\u0441\\u0442\\u0440\\u0430\\u0442\\u0438\\u0432\\u043d\\u044b\\u0439\", \"\\u0430\\u0434\\u043c\\u0438\\u043d\\u0438\\u0441\\u0442\\u0440\\u0430\\u0442\\u0438\\u0432\\u043d\\u044b\\u0439\", \"\\u0430\\u0434\\u0440\\u0435\\u0441\", \"\\u0430\\u0434\\u0440\\u0435\\u0441\", \"\\u0430\\u0434\\u0440\\u0435\\u0441\", \"\\u0430\\u0434\\u0440\\u0435\\u0441\", \"\\u0430\\u0434\\u0440\\u0435\\u0441\", \"\\u0430\\u0434\\u0440\\u0435\\u0441\", \"\\u0430\\u0434\\u0440\\u0435\\u0441\", \"\\u0430\\u0434\\u0440\\u0435\\u0441\", \"\\u0430\\u0434\\u0440\\u0435\\u0441\", \"\\u0430\\u0434\\u0440\\u0435\\u0441\\u0430\\u0442\", \"\\u0430\\u0437\\u0441\", \"\\u0430\\u043a\", \"\\u0430\\u043a\\u043a\\u0443\\u043c\\u0443\\u043b\\u044f\\u0442\\u043e\\u0440\", \"\\u0430\\u043a\\u0442\", \"\\u0430\\u043a\\u0442\", \"\\u0430\\u043a\\u0442\", \"\\u0430\\u043a\\u0442\", \"\\u0430\\u043a\\u0442\\u0438\\u0432\\u0430\\u0446\\u0438\\u044f\", \"\\u0430\\u043a\\u0446\\u0438\\u044f\", \"\\u0430\\u043a\\u0446\\u0438\\u044f\", \"\\u0430\\u043a\\u0446\\u0438\\u044f\", \"\\u0430\\u043b\\u0435\\u043a\\u0441\\u0435\\u0435\\u0432\\u0438\\u0447\", \"\\u0430\\u043b\\u043a\\u043e\\u0433\\u043e\\u043b\\u044c\\u043d\\u044b\\u0439\", \"\\u0430\\u043b\\u043b\\u0435\\u0440\\u0433\\u0438\\u044f\", \"\\u0430\\u043d\\u0430\\u043b\\u0438\\u0437\", \"\\u0430\\u043d\\u0430\\u043b\\u0438\\u0437\", \"\\u0430\\u043d\\u043a\\u0435\\u0442\\u0430\", \"\\u0430\\u043f\\u043f\\u0430\\u0440\\u0430\\u0442\", \"\\u0430\\u043f\\u043f\\u0430\\u0440\\u0430\\u0442\", \"\\u0430\\u043f\\u0442\\u0435\\u043a\\u0430\", \"\\u0430\\u0441\\u043f\\u0435\\u043a\\u0442\", \"\\u0430\\u044d\\u0440\\u043e\\u043f\\u043e\\u0440\\u0442\", \"\\u0430\\u044d\\u0440\\u043e\\u0444\\u043b\\u043e\\u0442\", \"\\u0431\\u0430\\u0433\\u0430\\u0436\", \"\\u0431\\u0430\\u043a\", \"\\u0431\\u0430\\u043b\\u0430\\u043d\\u0441\", \"\\u0431\\u0430\\u043b\\u043a\\u043e\\u043d\", \"\\u0431\\u0430\\u043d\\u043a\", \"\\u0431\\u0430\\u043d\\u043a\\u043e\\u0432\\u0441\\u043a\\u0438\\u0439\", \"\\u0431\\u0430\\u043d\\u043a\\u043e\\u0432\\u0441\\u043a\\u0438\\u0439\", \"\\u0431\\u0430\\u0440\", \"\\u0431\\u0430\\u0441\\u0441\\u0435\\u0439\\u043d\", \"\\u0431\\u0435\\u0436\\u0430\\u0442\\u044c\", \"\\u0431\\u0435\\u0436\\u0430\\u0442\\u044c\", \"\\u0431\\u0435\\u043b\\u0430\\u0440\\u0443\\u0441\\u044c\", \"\\u0431\\u0435\\u043b\\u0433\\u043e\\u0440\\u043e\\u0434\\u0441\\u043a\\u0438\\u0439\", \"\\u0431\\u0435\\u0440\\u0435\\u0437\\u043e\\u0432\\u0441\\u043a\\u0438\\u0439\", \"\\u0431\\u0438\\u043b\\u0430\\u0439\\u043d\", \"\\u0431\\u0438\\u043b\\u0430\\u0439\\u043d\", \"\\u0431\\u0438\\u043b\\u0435\\u0442\", \"\\u0431\\u0438\\u043b\\u0435\\u0442\", \"\\u0431\\u0438\\u0440\\u043a\\u0430\", \"\\u0431\\u043b\\u043e\\u043a\\u0438\\u0440\\u043e\\u0432\\u043a\\u0430\", \"\\u0431\\u043e\\u043b\\u044c\\u043d\\u0438\\u0447\\u043d\\u044b\\u0439\", \"\\u0431\\u043e\\u043d\\u0443\\u0441\", \"\\u0431\\u043e\\u0440\\u044c\\u0431\\u0430\", \"\\u0431\\u043e\\u0442\\u0438\\u043d\\u043e\\u043a\", \"\\u0431\\u0440\\u0430\\u043a\", \"\\u0431\\u0440\\u0430\\u043a\\u043e\\u0432\\u0430\\u0442\\u044c\", \"\\u0431\\u0440\\u0430\\u0442\\u044c\", \"\\u0431\\u0440\\u0430\\u0442\\u044c\", \"\\u0431\\u0440\\u0430\\u0442\\u044c\", \"\\u0431\\u0440\\u043e\\u043d\\u044c\", \"\\u0431\\u0440\\u043e\\u043d\\u044c\", \"\\u0431\\u0443\\u043a\\u0435\\u0442\", \"\\u0431\\u0443\\u0445\\u0433\\u0430\\u043b\\u0442\\u0435\\u0440\\u0438\\u044f\", \"\\u0431\\u0443\\u0445\\u0433\\u0430\\u043b\\u0442\\u0435\\u0440\\u0438\\u044f\", \"\\u0432\\u0430\\u043a\\u0446\\u0438\\u043d\\u0430\", \"\\u0432\\u0430\\u043a\\u0446\\u0438\\u043d\\u0430\\u0446\\u0438\\u044f\", \"\\u0432\\u0430\\u0443\\u0447\\u0435\\u0440\", \"\\u0432\\u0435\\u0434\\u0435\\u043d\\u0438\\u0435\", \"\\u0432\\u0435\\u0434\\u0435\\u043d\\u0438\\u0435\", \"\\u0432\\u0435\\u043b\\u043e\\u0441\\u0438\\u043f\\u0435\\u0434\", \"\\u0432\\u0435\\u0440\\u043d\\u0443\\u0442\\u044c\", \"\\u0432\\u0435\\u0440\\u043d\\u0443\\u0442\\u044c\", \"\\u0432\\u0435\\u0440\\u043d\\u0443\\u0442\\u044c\", \"\\u0432\\u0435\\u0440\\u043d\\u0443\\u0442\\u044c\", \"\\u0432\\u0435\\u0440\\u043d\\u0443\\u0442\\u044c\", \"\\u0432\\u0435\\u0441\", \"\\u0432\\u0435\\u0441\", \"\\u0432\\u0435\\u0441\", \"\\u0432\\u0435\\u0442\\u0435\\u0440\\u0438\\u043d\\u0430\\u0440\\u043d\\u044b\\u0439\", \"\\u0432\\u0437\\u044f\\u0442\\u044c\", \"\\u0432\\u0437\\u044f\\u0442\\u044c\", \"\\u0432\\u0437\\u044f\\u0442\\u044c\", \"\\u0432\\u0437\\u044f\\u0442\\u044c\", \"\\u0432\\u0437\\u044f\\u0442\\u044c\", \"\\u0432\\u0437\\u044f\\u0442\\u044c\", \"\\u0432\\u0438\\u0431\\u0440\\u0430\\u0446\\u0438\\u044f\", \"\\u0432\\u0438\\u0434\\u0435\\u043e\\u043a\\u0430\\u0440\\u0442\\u0430\", \"\\u0432\\u0438\\u0440\\u0443\\u0441\", \"\\u0432\\u043a\\u0443\\u0441\\u0432\\u0438\\u043b\\u043b\", \"\\u0432\\u043b\\u0430\\u0434\\u0438\\u043c\\u0438\\u0440\\u043e\\u0432\\u0438\\u0447\", \"\\u0432\\u043b\\u0430\\u0434\\u0438\\u043c\\u0438\\u0440\\u043e\\u0432\\u0438\\u0447\", \"\\u0432\\u043b\\u0430\\u0434\\u0438\\u043c\\u0438\\u0440\\u043e\\u0432\\u0438\\u0447\", \"\\u0432\\u043b\\u043e\\u0436\\u0438\\u0442\\u044c\", \"\\u0432\\u043d\\u043e\\u0441\\u0438\\u0442\\u044c\", \"\\u0432\\u043e\\u0434\\u0430\", \"\\u0432\\u043e\\u0434\\u0430\", \"\\u0432\\u043e\\u0434\\u0438\\u0442\\u0435\\u043b\\u044c\", \"\\u0432\\u043e\\u0434\\u0438\\u0442\\u0435\\u043b\\u044c\", \"\\u0432\\u043e\\u0434\\u043e\\u0441\\u043d\\u0430\\u0431\\u0436\\u0435\\u043d\\u0438\\u0435\", \"\\u0432\\u043e\\u0437\\u0432\\u0440\\u0430\\u0442\", \"\\u0432\\u043e\\u0437\\u0432\\u0440\\u0430\\u0442\", \"\\u0432\\u043e\\u0437\\u0432\\u0440\\u0430\\u0442\", \"\\u0432\\u043e\\u0437\\u0432\\u0440\\u0430\\u0442\", \"\\u0432\\u043e\\u0437\\u0432\\u0440\\u0430\\u0449\\u0430\\u0442\\u044c\", \"\\u0432\\u043e\\u0437\\u0432\\u0440\\u0430\\u0449\\u0430\\u0442\\u044c\", \"\\u0432\\u043e\\u0437\\u0432\\u0440\\u0430\\u0449\\u0430\\u0442\\u044c\", \"\\u0432\\u043e\\u0437\\u0432\\u0440\\u0430\\u0449\\u0435\\u043d\\u0438\\u0435\", \"\\u0432\\u043e\\u0437\\u0432\\u0440\\u0430\\u0449\\u0435\\u043d\\u0438\\u0435\", \"\\u0432\\u043e\\u0437\\u0432\\u0440\\u0430\\u0449\\u0435\\u043d\\u0438\\u0435\", \"\\u0432\\u043e\\u0437\\u0434\\u0443\\u0448\\u043d\\u044b\\u0439\", \"\\u0432\\u043e\\u043e\\u0431\\u0449\\u0435\", \"\\u0432\\u043e\\u043e\\u0431\\u0449\\u0435\", \"\\u0432\\u043e\\u043e\\u0431\\u0449\\u0435\", \"\\u0432\\u043e\\u043e\\u0431\\u0449\\u0435\", \"\\u0432\\u043e\\u043f\\u0440\\u043e\\u0441\", \"\\u0432\\u043e\\u043f\\u0440\\u043e\\u0441\", \"\\u0432\\u043e\\u043f\\u0440\\u043e\\u0441\", \"\\u0432\\u043e\\u043f\\u0440\\u043e\\u0441\", \"\\u0432\\u043e\\u043f\\u0440\\u043e\\u0441\", \"\\u0432\\u043e\\u043f\\u0440\\u043e\\u0441\", \"\\u0432\\u043e\\u043f\\u0440\\u043e\\u0441\", \"\\u0432\\u043e\\u043f\\u0440\\u043e\\u0441\", \"\\u0432\\u043e\\u043f\\u0440\\u043e\\u0441\", \"\\u0432\\u0440\\u0430\\u0447\", \"\\u0432\\u0440\\u0430\\u0447\", \"\\u0432\\u0440\\u0430\\u0447\", \"\\u0432\\u0440\\u0435\\u043c\\u044f\", \"\\u0432\\u0440\\u0435\\u043c\\u044f\", \"\\u0432\\u0440\\u0435\\u043c\\u044f\", \"\\u0432\\u0440\\u0435\\u043c\\u044f\", \"\\u0432\\u0440\\u0435\\u043c\\u044f\", \"\\u0432\\u0440\\u0435\\u043c\\u044f\", \"\\u0432\\u0440\\u0435\\u043c\\u044f\", \"\\u0432\\u0440\\u0435\\u043c\\u044f\", \"\\u0432\\u0440\\u0435\\u043c\\u044f\", \"\\u0432\\u0440\\u0443\\u0447\\u0435\\u043d\\u0438\\u0435\", \"\\u0432\\u0441\\u043a\\u0440\\u044b\\u0432\\u0430\\u0442\\u044c\", \"\\u0432\\u0441\\u043a\\u0440\\u044b\\u0442\\u0438\\u0435\", \"\\u0432\\u0441\\u043a\\u0440\\u044b\\u0442\\u0438\\u0435\", \"\\u0432\\u0441\\u043a\\u0440\\u044b\\u0442\\u044c\", \"\\u0432\\u0441\\u0451\", \"\\u0432\\u0441\\u0451\", \"\\u0432\\u0441\\u0451\", \"\\u0432\\u0441\\u0451\", \"\\u0432\\u0442\\u0431\", \"\\u0432\\u044a\\u0435\\u0437\\u0434\", \"\\u0432\\u044b\\u0432\\u043e\\u0437\", \"\\u0432\\u044b\\u0432\\u043e\\u0437\\u0438\\u0442\\u044c\", \"\\u0432\\u044b\\u0434\\u0430\\u0432\\u0430\\u0442\\u044c\\u0441\\u044f\", \"\\u0432\\u044b\\u0434\\u0430\\u0447\\u0430\", \"\\u0432\\u044b\\u0434\\u0430\\u0447\\u0430\", \"\\u0432\\u044b\\u0434\\u0430\\u0447\\u0430\", \"\\u0432\\u044b\\u043a\\u043b\\u0430\\u0434\\u043a\\u0430\", \"\\u0432\\u044b\\u043b\\u0435\\u0442\", \"\\u0432\\u044b\\u043d\\u0443\\u0436\\u0434\\u0435\\u043d\\u043d\\u044b\\u0439\", \"\\u0432\\u044b\\u043f\\u043b\\u0430\\u0447\\u0438\\u0432\\u0430\\u0442\\u044c\", \"\\u0432\\u044b\\u043f\\u043b\\u0430\\u0447\\u0438\\u0432\\u0430\\u0442\\u044c\", \"\\u0432\\u044b\\u0448\\u0435\\u0441\\u0442\\u043e\\u044f\\u0449\\u0438\\u0439\", \"\\u0433\", \"\\u0433\", \"\\u0433\", \"\\u0433\", \"\\u0433\", \"\\u0433\", \"\\u0433\", \"\\u0433\", \"\\u0433\", \"\\u0433\", \"\\u0433\", \"\\u0433\\u0430\\u0437\\u043e\\u0432\\u044b\\u0439\", \"\\u0433\\u0430\\u0440\\u0430\\u043d\\u0442\\u0438\\u0439\\u043d\\u044b\\u0439\", \"\\u0433\\u0430\\u0440\\u0430\\u043d\\u0442\\u0438\\u0439\\u043d\\u044b\\u0439\", \"\\u0433\\u0430\\u0440\\u0430\\u043d\\u0442\\u0438\\u044f\", \"\\u0433\\u0430\\u0440\\u0430\\u043d\\u0442\\u0438\\u044f\", \"\\u0433\\u0435\\u043d\\u0435\\u0440\\u0430\\u043b\\u044c\\u043d\\u044b\\u0439\", \"\\u0433\\u0435\\u043d\\u0435\\u0440\\u0430\\u043b\\u044c\\u043d\\u044b\\u0439\", \"\\u0433\\u0435\\u0440\\u043c\\u0430\\u043d\\u0438\\u044f\", \"\\u0433\\u0438\\u043f\\u0435\\u0440\\u043c\\u0430\\u0440\\u043a\\u0435\\u0442\", \"\\u0433\\u043a\", \"\\u0433\\u043e\\u0432\\u043e\\u0440\\u0438\\u0442\\u044c\", \"\\u0433\\u043e\\u0432\\u043e\\u0440\\u0438\\u0442\\u044c\", \"\\u0433\\u043e\\u0432\\u043e\\u0440\\u0438\\u0442\\u044c\", \"\\u0433\\u043e\\u0432\\u043e\\u0440\\u0438\\u0442\\u044c\", \"\\u0433\\u043e\\u0432\\u043e\\u0440\\u0438\\u0442\\u044c\", \"\\u0433\\u043e\\u0434\", \"\\u0433\\u043e\\u0434\", \"\\u0433\\u043e\\u0434\", \"\\u0433\\u043e\\u0434\", \"\\u0433\\u043e\\u0434\", \"\\u0433\\u043e\\u0434\", \"\\u0433\\u043e\\u0434\", \"\\u0433\\u043e\\u0434\", \"\\u0433\\u043e\\u0434\", \"\\u0433\\u043e\\u0434\", \"\\u0433\\u043e\\u0434\", \"\\u0433\\u043e\\u0434\", \"\\u0433\\u043e\\u0434\", \"\\u0433\\u043e\\u0434\\u043d\\u043e\\u0441\\u0442\\u044c\", \"\\u0433\\u043e\\u0440\\u043e\\u0434\", \"\\u0433\\u043e\\u0440\\u043e\\u0434\", \"\\u0433\\u043e\\u0440\\u043e\\u0434\", \"\\u0433\\u043e\\u0440\\u043e\\u0434\", \"\\u0433\\u043e\\u0440\\u043e\\u0434\", \"\\u0433\\u043e\\u0440\\u043e\\u0434\", \"\\u0433\\u043e\\u0440\\u043e\\u0434\", \"\\u0433\\u043e\\u0440\\u043e\\u0434\", \"\\u0433\\u043e\\u0440\\u043e\\u0434\", \"\\u0433\\u043e\\u0440\\u043e\\u0434\", \"\\u0433\\u043e\\u0440\\u043e\\u0434\", \"\\u0433\\u043e\\u0441\", \"\\u0433\\u043e\\u0441\\u0442\\u0438\\u043d\\u0438\\u0447\\u043d\\u044b\\u0439\", \"\\u0433\\u043e\\u0441\\u0443\\u0434\\u0430\\u0440\\u0441\\u0442\\u0432\\u0435\\u043d\\u043d\\u044b\\u0439\", \"\\u0433\\u043e\\u0441\\u0443\\u0434\\u0430\\u0440\\u0441\\u0442\\u0432\\u0435\\u043d\\u043d\\u044b\\u0439\", \"\\u0433\\u043e\\u0441\\u0443\\u0434\\u0430\\u0440\\u0441\\u0442\\u0432\\u0435\\u043d\\u043d\\u044b\\u0439\", \"\\u0433\\u043e\\u0441\\u0443\\u0441\\u043b\\u0443\\u0433\\u0430\", \"\\u0433\\u043e\\u0441\\u0443\\u0441\\u043b\\u0443\\u0433\\u0430\", \"\\u0433\\u0440\\u0430\\u0436\\u0434\\u0430\\u043d\\u0438\\u043d\", \"\\u0433\\u0440\\u0430\\u0436\\u0434\\u0430\\u043d\\u0438\\u043d\", \"\\u0433\\u0440\\u0430\\u0436\\u0434\\u0430\\u043d\\u0438\\u043d\", \"\\u0433\\u0440\\u0430\\u0436\\u0434\\u0430\\u043d\\u0438\\u043d\", \"\\u0433\\u0440\\u0430\\u0436\\u0434\\u0430\\u043d\\u043a\\u0430\", \"\\u0433\\u0440\\u0430\\u0436\\u0434\\u0430\\u043d\\u0441\\u043a\\u0438\\u0439\", \"\\u0433\\u0440\\u0430\\u043d\\u0438\\u0446\\u0430\", \"\\u0433\\u0440\\u0430\\u043d\\u0438\\u0446\\u0430\", \"\\u0433\\u0440\\u0443\\u0437\", \"\\u0433\\u0440\\u0443\\u0437\", \"\\u0433\\u0440\\u0443\\u043f\\u043f\\u0430\", \"\\u0433\\u0440\\u0443\\u043f\\u043f\\u0430\", \"\\u0433\\u0440\\u0443\\u043f\\u043f\\u0430\", \"\\u0433\\u0440\\u0443\\u043f\\u043f\\u0430\", \"\\u0433\\u0440\\u0443\\u043f\\u043f\\u0430\", \"\\u0433\\u0440\\u044f\\u0437\\u043d\\u044b\\u0439\", \"\\u0433\\u0440\\u044f\\u0437\\u043d\\u044b\\u0439\", \"\\u0433\\u0443\\u0431\\u0435\\u0440\\u043d\\u0430\\u0442\\u043e\\u0440\", \"\\u0434\\u0430\\u0432\\u043b\\u0435\\u043d\\u0438\\u0435\", \"\\u0434\\u0430\\u043b\\u0435\\u0435\", \"\\u0434\\u0430\\u043b\\u0435\\u0435\", \"\\u0434\\u0430\\u043b\\u0435\\u0435\", \"\\u0434\\u0430\\u043b\\u0435\\u0435\", \"\\u0434\\u0430\\u043b\\u0435\\u0435\", \"\\u0434\\u0430\\u043b\\u0435\\u0435\", \"\\u0434\\u0430\\u043b\\u0435\\u0435\", \"\\u0434\\u0430\\u043b\\u0435\\u0435\", \"\\u0434\\u0430\\u043b\\u0435\\u0435\", \"\\u0434\\u0430\\u043b\\u0435\\u0435\", \"\\u0434\\u0430\\u043d\\u043d\\u044b\\u0435\", \"\\u0434\\u0430\\u043d\\u043d\\u044b\\u0435\", \"\\u0434\\u0430\\u043d\\u043d\\u044b\\u0435\", \"\\u0434\\u0430\\u043d\\u043d\\u044b\\u0435\", \"\\u0434\\u0430\\u043d\\u043d\\u044b\\u0435\", \"\\u0434\\u0430\\u043d\\u043d\\u044b\\u0435\", \"\\u0434\\u0430\\u043d\\u043d\\u044b\\u0435\", \"\\u0434\\u0430\\u043d\\u043d\\u044b\\u0435\", \"\\u0434\\u0430\\u043d\\u043d\\u044b\\u0439\", \"\\u0434\\u0430\\u043d\\u043d\\u044b\\u0439\", \"\\u0434\\u0430\\u043d\\u043d\\u044b\\u0439\", \"\\u0434\\u0430\\u043d\\u043d\\u044b\\u0439\", \"\\u0434\\u0430\\u043d\\u043d\\u044b\\u0439\", \"\\u0434\\u0430\\u043d\\u043d\\u044b\\u0439\", \"\\u0434\\u0430\\u043d\\u043d\\u044b\\u0439\", \"\\u0434\\u0430\\u043d\\u043d\\u044b\\u0439\", \"\\u0434\\u0430\\u043d\\u043d\\u044b\\u0439\", \"\\u0434\\u0430\\u043d\\u043d\\u044b\\u0439\", \"\\u0434\\u0430\\u043d\\u043d\\u044b\\u0439\", \"\\u0434\\u0430\\u043d\\u043d\\u044b\\u0439\", \"\\u0434\\u0430\\u0442\\u0430\", \"\\u0434\\u0430\\u0442\\u0430\", \"\\u0434\\u0430\\u0442\\u0430\", \"\\u0434\\u0430\\u0442\\u0430\", \"\\u0434\\u0430\\u0442\\u0430\", \"\\u0434\\u0430\\u0442\\u0430\", \"\\u0434\\u0430\\u0442\\u044c\", \"\\u0434\\u0430\\u0442\\u044c\", \"\\u0434\\u0430\\u0442\\u044c\", \"\\u0434\\u0430\\u0442\\u044c\", \"\\u0434\\u0430\\u0442\\u044c\", \"\\u0434\\u0430\\u0442\\u044c\", \"\\u0434\\u0430\\u0442\\u044c\", \"\\u0434\\u0430\\u0442\\u044c\", \"\\u0434\\u0430\\u0442\\u044c\", \"\\u0434\\u0430\\u0442\\u044c\", \"\\u0434\\u0430\\u0442\\u044c\", \"\\u0434\\u0430\\u0442\\u044c\", \"\\u0434\\u0432\\u0435\\u0440\\u044c\", \"\\u0434\\u0432\\u0435\\u0440\\u044c\", \"\\u0434\\u0432\\u0435\\u0440\\u044c\", \"\\u0434\\u0432\\u0435\\u0440\\u044c\", \"\\u0434\\u0432\\u0438\\u0433\\u0430\\u0442\\u0435\\u043b\\u044c\", \"\\u0434\\u0432\\u043e\\u0440\", \"\\u0434\\u0435\\u0432\\u0443\\u0448\\u043a\\u0430\", \"\\u0434\\u0435\\u0432\\u0443\\u0448\\u043a\\u0430\", \"\\u0434\\u0435\\u0432\\u0443\\u0448\\u043a\\u0430\", \"\\u0434\\u0435\\u043b\\u0430\\u0442\\u044c\", \"\\u0434\\u0435\\u043b\\u0430\\u0442\\u044c\", \"\\u0434\\u0435\\u043b\\u0430\\u0442\\u044c\", \"\\u0434\\u0435\\u043b\\u0430\\u0442\\u044c\", \"\\u0434\\u0435\\u043b\\u0430\\u0442\\u044c\", \"\\u0434\\u0435\\u043b\\u0430\\u0442\\u044c\", \"\\u0434\\u0435\\u043b\\u0430\\u0442\\u044c\", \"\\u0434\\u0435\\u043d\\u0435\\u0436\\u043d\\u044b\\u0439\", \"\\u0434\\u0435\\u043d\\u0435\\u0436\\u043d\\u044b\\u0439\", \"\\u0434\\u0435\\u043d\\u0435\\u0436\\u043d\\u044b\\u0439\", \"\\u0434\\u0435\\u043d\\u0435\\u0436\\u043d\\u044b\\u0439\", \"\\u0434\\u0435\\u043d\\u044c\", \"\\u0434\\u0435\\u043d\\u044c\", \"\\u0434\\u0435\\u043d\\u044c\", \"\\u0434\\u0435\\u043d\\u044c\", \"\\u0434\\u0435\\u043d\\u044c\", \"\\u0434\\u0435\\u043d\\u044c\", \"\\u0434\\u0435\\u043d\\u044c\", \"\\u0434\\u0435\\u043d\\u044c\", \"\\u0434\\u0435\\u043d\\u044c\", \"\\u0434\\u0435\\u043d\\u044c\", \"\\u0434\\u0435\\u043d\\u044c\\u0433\\u0430\", \"\\u0434\\u0435\\u043d\\u044c\\u0433\\u0430\", \"\\u0434\\u0435\\u043d\\u044c\\u0433\\u0430\", \"\\u0434\\u0435\\u043d\\u044c\\u0433\\u0430\", \"\\u0434\\u0435\\u043d\\u044c\\u0433\\u0430\", \"\\u0434\\u0435\\u043d\\u044c\\u0433\\u0430\", \"\\u0434\\u0435\\u043f\\u043e\\u0437\\u0438\\u0442\", \"\\u0434\\u0435\\u0442\\u0430\\u043b\\u044c\", \"\\u0434\\u0435\\u0442\\u0430\\u043b\\u044c\", \"\\u0434\\u0435\\u0442\\u0430\\u043b\\u044c\", \"\\u0434\\u0435\\u0442\\u0441\\u043a\\u0438\\u0439\", \"\\u0434\\u0435\\u0442\\u0441\\u043a\\u0438\\u0439\", \"\\u0434\\u0435\\u0442\\u0441\\u043a\\u0438\\u0439\", \"\\u0434\\u0435\\u0442\\u0441\\u043a\\u0438\\u0439\", \"\\u0434\\u0438\\u0430\\u0433\\u043d\\u043e\\u0441\\u0442\\u0438\\u043a\", \"\\u0434\\u0438\\u0430\\u0433\\u043d\\u043e\\u0441\\u0442\\u0438\\u043a\\u0430\", \"\\u0434\\u0438\\u0432\\u0430\\u043d\", \"\\u0434\\u0438\\u043a\\u0441\\u0438\", \"\\u0434\\u0438\\u043b\\u0435\\u0440\", \"\\u0434\\u0438\\u0441\\u043a\", \"\\u0434\\u0438\\u0441\\u043f\\u043b\\u0435\\u0439\", \"\\u0434\\u043d\\u0441\", \"\\u0434\\u043e\\u0431\\u0440\\u044b\\u0439\", \"\\u0434\\u043e\\u0431\\u0440\\u044b\\u0439\", \"\\u0434\\u043e\\u0431\\u0440\\u044b\\u0439\", \"\\u0434\\u043e\\u0431\\u0440\\u044b\\u0439\", \"\\u0434\\u043e\\u0431\\u0440\\u044b\\u0439\", \"\\u0434\\u043e\\u0431\\u0440\\u044b\\u0439\", \"\\u0434\\u043e\\u0431\\u0440\\u044b\\u0439\", \"\\u0434\\u043e\\u0431\\u0440\\u044b\\u0439\", \"\\u0434\\u043e\\u0431\\u0440\\u044b\\u0439\", \"\\u0434\\u043e\\u0431\\u0440\\u044b\\u0439\", \"\\u0434\\u043e\\u0431\\u0440\\u044b\\u0439\", \"\\u0434\\u043e\\u0433\\u043e\\u0432\\u043e\\u0440\", \"\\u0434\\u043e\\u0433\\u043e\\u0432\\u043e\\u0440\", \"\\u0434\\u043e\\u0433\\u043e\\u0432\\u043e\\u0440\", \"\\u0434\\u043e\\u0433\\u043e\\u0432\\u043e\\u0440\", \"\\u0434\\u043e\\u0433\\u043e\\u0432\\u043e\\u0440\", \"\\u0434\\u043e\\u0437\\u0432\\u043e\\u043d\\u0438\\u0442\\u044c\\u0441\\u044f\", \"\\u0434\\u043e\\u0437\\u0432\\u043e\\u043d\\u0438\\u0442\\u044c\\u0441\\u044f\", \"\\u0434\\u043e\\u043a\\u0443\\u043c\\u0435\\u043d\\u0442\", \"\\u0434\\u043e\\u043a\\u0443\\u043c\\u0435\\u043d\\u0442\", \"\\u0434\\u043e\\u043a\\u0443\\u043c\\u0435\\u043d\\u0442\", \"\\u0434\\u043e\\u043a\\u0443\\u043c\\u0435\\u043d\\u0442\", \"\\u0434\\u043e\\u043a\\u0443\\u043c\\u0435\\u043d\\u0442\", \"\\u0434\\u043e\\u043a\\u0443\\u043c\\u0435\\u043d\\u0442\", \"\\u0434\\u043e\\u043a\\u0443\\u043c\\u0435\\u043d\\u0442\", \"\\u0434\\u043e\\u043b\\u0433\", \"\\u0434\\u043e\\u043b\\u0436\\u043d\\u044b\\u0439\", \"\\u0434\\u043e\\u043b\\u0436\\u043d\\u044b\\u0439\", \"\\u0434\\u043e\\u043b\\u0436\\u043d\\u044b\\u0439\", \"\\u0434\\u043e\\u043b\\u0436\\u043d\\u044b\\u0439\", \"\\u0434\\u043e\\u043b\\u0436\\u043d\\u044b\\u0439\", \"\\u0434\\u043e\\u043b\\u0436\\u043d\\u044b\\u0439\", \"\\u0434\\u043e\\u043b\\u0436\\u043d\\u044b\\u0439\", \"\\u0434\\u043e\\u043b\\u0436\\u043d\\u044b\\u0439\", \"\\u0434\\u043e\\u043b\\u0436\\u043d\\u044b\\u0439\", \"\\u0434\\u043e\\u043b\\u0436\\u043d\\u044b\\u0439\", \"\\u0434\\u043e\\u043b\\u0436\\u043d\\u044b\\u0439\", \"\\u0434\\u043e\\u043b\\u0436\\u043d\\u044b\\u0439\", \"\\u0434\\u043e\\u043c\", \"\\u0434\\u043e\\u043c\", \"\\u0434\\u043e\\u043c\", \"\\u0434\\u043e\\u043c\", \"\\u0434\\u043e\\u043d\", \"\\u0434\\u043e\\u043f\\u0443\\u0441\\u043a\", \"\\u0434\\u043e\\u043f\\u0443\\u0441\\u043a\\u0430\\u0442\\u044c\", \"\\u0434\\u043e\\u0440\\u043e\\u0433\\u043e\\u0439\", \"\\u0434\\u043e\\u0440\\u043e\\u0433\\u043e\\u0439\", \"\\u0434\\u043e\\u0441\\u0440\\u043e\\u0447\\u043d\\u044b\\u0439\", \"\\u0434\\u043e\\u0441\\u0442\\u0430\\u0432\\u0438\\u0442\\u044c\", \"\\u0434\\u043e\\u0441\\u0442\\u0430\\u0432\\u0438\\u0442\\u044c\", \"\\u0434\\u043e\\u0441\\u0442\\u0430\\u0432\\u043a\\u0430\", \"\\u0434\\u043e\\u0445\\u043e\\u0434\", \"\\u0434\\u043e\\u0445\\u043e\\u0434\", \"\\u0434\\u044b\\u0440\\u043a\\u0430\", \"\\u0434\\u044b\\u0445\\u0430\\u043d\\u0438\\u0435\", \"\\u0435\\u0434\\u0430\", \"\\u0435\\u0434\\u0430\", \"\\u0435\\u0434\\u0430\", \"\\u0435\\u0436\\u0435\\u043c\\u0435\\u0441\\u044f\\u0447\\u043d\\u044b\\u0439\", \"\\u0435\\u0449\\u0451\", \"\\u0435\\u0449\\u0451\", \"\\u0435\\u0449\\u0451\", \"\\u0435\\u0449\\u0451\", \"\\u0435\\u0449\\u0451\", \"\\u0435\\u0449\\u0451\", \"\\u0435\\u0449\\u0451\", \"\\u0435\\u0449\\u0451\", \"\\u0436\\u0430\\u043b\\u043e\\u0431\\u0430\", \"\\u0436\\u0430\\u043b\\u043e\\u0431\\u0430\", \"\\u0436\\u0430\\u043b\\u043e\\u0431\\u0430\", \"\\u0436\\u0430\\u043b\\u043e\\u0431\\u0430\", \"\\u0436\\u0430\\u043b\\u043e\\u0431\\u0430\", \"\\u0436\\u0430\\u043b\\u043e\\u0431\\u0430\", \"\\u0436\\u0430\\u043b\\u043e\\u0431\\u0430\", \"\\u0436\\u0430\\u043b\\u043e\\u0431\\u0430\", \"\\u0436\\u0430\\u043b\\u043e\\u0431\\u043d\\u044b\\u0439\", \"\\u0436\\u0434\\u0430\\u0442\\u044c\", \"\\u0436\\u0434\\u0430\\u0442\\u044c\", \"\\u0436\\u0434\\u0430\\u0442\\u044c\", \"\\u0436\\u0435\\u043b\\u0435\\u0437\\u043d\\u043e\\u0434\\u043e\\u0440\\u043e\\u0436\\u043d\\u044b\\u0439\", \"\\u0436\\u0438\\u0432\\u043e\\u0439\", \"\\u0436\\u0438\\u043b\\u0435\\u0446\", \"\\u0436\\u0438\\u043b\\u043e\\u0439\", \"\\u0436\\u0438\\u0442\\u0435\\u043b\\u044c\", \"\\u0436\\u0438\\u0442\\u0435\\u043b\\u044c\", \"\\u0436\\u0438\\u0442\\u0435\\u043b\\u044c\\u0441\\u0442\\u0432\\u043e\", \"\\u0436\\u0443\\u0440\\u043d\\u0430\\u043b\", \"\\u0437\\u0430\\u0431\\u043e\\u043b\\u0435\\u0432\\u0430\\u043d\\u0438\\u0435\", \"\\u0437\\u0430\\u0431\\u0440\\u043e\\u043d\\u0438\\u0440\\u043e\\u0432\\u0430\\u0442\\u044c\", \"\\u0437\\u0430\\u0431\\u0440\\u043e\\u043d\\u0438\\u0440\\u043e\\u0432\\u0430\\u0442\\u044c\", \"\\u0437\\u0430\\u0432\\u0435\\u0434\\u0435\\u043d\\u0438\\u0435\", \"\\u0437\\u0430\\u0432\\u0435\\u0434\\u0435\\u043d\\u0438\\u0435\", \"\\u0437\\u0430\\u0433\\u0440\\u0443\\u0437\\u0438\\u0442\\u044c\", \"\\u0437\\u0430\\u0434\\u0430\\u043d\\u0438\\u0435\", \"\\u0437\\u0430\\u0434\\u043e\\u043b\\u0436\\u0435\\u043d\\u043d\\u043e\\u0441\\u0442\\u044c\", \"\\u0437\\u0430\\u043a\\u0430\\u0437\", \"\\u0437\\u0430\\u043a\\u0430\\u0437\\u0430\\u0442\\u044c\", \"\\u0437\\u0430\\u043a\\u0430\\u0437\\u0430\\u0442\\u044c\", \"\\u0437\\u0430\\u043a\\u0430\\u0437\\u0430\\u0442\\u044c\", \"\\u0437\\u0430\\u043a\\u0430\\u0437\\u0430\\u0442\\u044c\", \"\\u0437\\u0430\\u043a\\u043b\\u044e\\u0447\\u0438\\u0442\\u044c\", \"\\u0437\\u0430\\u043a\\u043b\\u044e\\u0447\\u0438\\u0442\\u044c\", \"\\u0437\\u0430\\u043a\\u043e\\u043d\", \"\\u0437\\u0430\\u043a\\u043e\\u043d\", \"\\u0437\\u0430\\u043a\\u043e\\u043d\", \"\\u0437\\u0430\\u043a\\u043e\\u043d\\u043e\\u0434\\u0430\\u0442\\u0435\\u043b\\u044c\\u0441\\u0442\\u0432\\u043e\", \"\\u0437\\u0430\\u043a\\u043e\\u043d\\u043e\\u0434\\u0430\\u0442\\u0435\\u043b\\u044c\\u0441\\u0442\\u0432\\u043e\", \"\\u0437\\u0430\\u043a\\u043e\\u043d\\u043e\\u0434\\u0430\\u0442\\u0435\\u043b\\u044c\\u0441\\u0442\\u0432\\u043e\", \"\\u0437\\u0430\\u043a\\u043e\\u043d\\u043e\\u0434\\u0430\\u0442\\u0435\\u043b\\u044c\\u0441\\u0442\\u0432\\u043e\", \"\\u0437\\u0430\\u043a\\u043e\\u043d\\u043e\\u0434\\u0430\\u0442\\u0435\\u043b\\u044c\\u0441\\u0442\\u0432\\u043e\", \"\\u0437\\u0430\\u043b\", \"\\u0437\\u0430\\u043b\", \"\\u0437\\u0430\\u043b\", \"\\u0437\\u0430\\u043b\", \"\\u0437\\u0430\\u043c\\u0435\\u043d\\u0430\", \"\\u0437\\u0430\\u043c\\u0435\\u043d\\u0430\", \"\\u0437\\u0430\\u043c\\u0435\\u043d\\u0430\", \"\\u0437\\u0430\\u043c\\u0435\\u043d\\u0438\\u0442\\u044c\", \"\\u0437\\u0430\\u043c\\u0435\\u043d\\u0438\\u0442\\u044c\", \"\\u0437\\u0430\\u043c\\u0435\\u043d\\u0438\\u0442\\u044c\", \"\\u0437\\u0430\\u043c\\u0435\\u0441\\u0442\\u0438\\u0442\\u0435\\u043b\\u044c\", \"\\u0437\\u0430\\u043c\\u0435\\u0447\\u0430\\u043d\\u0438\\u0435\", \"\\u0437\\u0430\\u043c\\u0435\\u0447\\u0430\\u043d\\u0438\\u0435\", \"\\u0437\\u0430\\u043c\\u0435\\u0447\\u0430\\u043d\\u0438\\u0435\", \"\\u0437\\u0430\\u043c\\u043e\\u043a\", \"\\u0437\\u0430\\u043f\\u0430\\u0445\", \"\\u0437\\u0430\\u043f\\u0430\\u0445\", \"\\u0437\\u0430\\u043f\\u043b\\u0430\\u0442\\u0438\\u0442\\u044c\", \"\\u0437\\u0430\\u043f\\u043b\\u0430\\u0442\\u0438\\u0442\\u044c\", \"\\u0437\\u0430\\u043f\\u043b\\u0430\\u0442\\u0438\\u0442\\u044c\", \"\\u0437\\u0430\\u043f\\u043b\\u0430\\u0442\\u0438\\u0442\\u044c\", \"\\u0437\\u0430\\u043f\\u0440\\u0430\\u0432\\u043a\\u0430\", \"\\u0437\\u0430\\u043f\\u0440\\u0435\\u0442\", \"\\u0437\\u0430\\u043f\\u0440\\u0435\\u0449\\u0430\\u0442\\u044c\\u0441\\u044f\", \"\\u0437\\u0430\\u0440\\u0435\\u0433\\u0438\\u0441\\u0442\\u0440\\u0438\\u0440\\u043e\\u0432\\u0430\\u0442\\u044c\\u0441\\u044f\", \"\\u0437\\u0430\\u0440\\u044f\\u0436\\u0430\\u0442\\u044c\\u0441\\u044f\", \"\\u0437\\u0430\\u0441\\u0442\\u0440\\u043e\\u0439\\u0449\\u0438\\u043a\", \"\\u0437\\u0430\\u0449\\u0438\\u0442\\u0430\", \"\\u0437\\u0430\\u044f\\u0432\\u0438\\u0442\\u0435\\u043b\\u044c\", \"\\u0437\\u0430\\u044f\\u0432\\u043b\\u0435\\u043d\\u0438\\u0435\", \"\\u0437\\u0430\\u044f\\u0432\\u043b\\u0435\\u043d\\u0438\\u0435\", \"\\u0437\\u0430\\u044f\\u0432\\u043b\\u0435\\u043d\\u0438\\u0435\", \"\\u0437\\u0430\\u044f\\u0432\\u043b\\u0435\\u043d\\u0438\\u0435\", \"\\u0437\\u0430\\u044f\\u0432\\u043b\\u0435\\u043d\\u0438\\u0435\", \"\\u0437\\u0430\\u044f\\u0432\\u043b\\u0435\\u043d\\u0438\\u0435\", \"\\u0437\\u0430\\u044f\\u0432\\u043b\\u0435\\u043d\\u0438\\u0435\", \"\\u0437\\u0430\\u0451\\u043c\", \"\\u0437\\u0432\\u043e\\u043d\\u0438\\u0442\\u044c\", \"\\u0437\\u0432\\u043e\\u043d\\u0438\\u0442\\u044c\", \"\\u0437\\u0432\\u043e\\u043d\\u0438\\u0442\\u044c\", \"\\u0437\\u0434\\u043e\\u0440\\u043e\\u0432\\u044b\\u0439\", \"\\u0437\\u0434\\u043e\\u0440\\u043e\\u0432\\u044b\\u0439\", \"\\u0437\\u0434\\u043e\\u0440\\u043e\\u0432\\u044c\\u0435\", \"\\u0437\\u0434\\u043e\\u0440\\u043e\\u0432\\u044c\\u0435\", \"\\u0437\\u0434\\u043e\\u0440\\u043e\\u0432\\u044c\\u0435\", \"\\u0437\\u0434\\u043e\\u0440\\u043e\\u0432\\u044c\\u0435\", \"\\u0437\\u0434\\u0440\\u0430\\u0432\\u0441\\u0442\\u0432\\u0443\\u0439\\u0442\\u0435\", \"\\u0437\\u0434\\u0440\\u0430\\u0432\\u0441\\u0442\\u0432\\u0443\\u0439\\u0442\\u0435\", \"\\u0437\\u0434\\u0440\\u0430\\u0432\\u0441\\u0442\\u0432\\u0443\\u0439\\u0442\\u0435\", \"\\u0437\\u0434\\u0440\\u0430\\u0432\\u0441\\u0442\\u0432\\u0443\\u0439\\u0442\\u0435\", \"\\u0437\\u0434\\u0440\\u0430\\u0432\\u0441\\u0442\\u0432\\u0443\\u0439\\u0442\\u0435\", \"\\u0437\\u0434\\u0440\\u0430\\u0432\\u0441\\u0442\\u0432\\u0443\\u0439\\u0442\\u0435\", \"\\u0437\\u0434\\u0440\\u0430\\u0432\\u0441\\u0442\\u0432\\u0443\\u0439\\u0442\\u0435\", \"\\u0437\\u0434\\u0440\\u0430\\u0432\\u0441\\u0442\\u0432\\u0443\\u0439\\u0442\\u0435\", \"\\u0437\\u0434\\u0440\\u0430\\u0432\\u0441\\u0442\\u0432\\u0443\\u0439\\u0442\\u0435\", \"\\u0437\\u0434\\u0440\\u0430\\u0432\\u0441\\u0442\\u0432\\u0443\\u0439\\u0442\\u0435\", \"\\u0437\\u043d\\u0430\\u043a\\u043e\\u043c\\u044b\\u0439\", \"\\u0437\\u043d\\u0430\\u0442\\u044c\", \"\\u0437\\u043d\\u0430\\u0442\\u044c\", \"\\u0437\\u043d\\u0430\\u0442\\u044c\", \"\\u0437\\u043d\\u0430\\u0442\\u044c\", \"\\u0438\\u0433\\u0440\\u0430\", \"\\u0438\\u0437\\u0432\\u0435\\u0449\\u0435\\u043d\\u0438\\u0435\", \"\\u0438\\u0437\\u0433\\u043e\\u0442\\u043e\\u0432\\u043b\\u0435\\u043d\\u0438\\u0435\", \"\\u0438\\u0437\\u0433\\u043e\\u0442\\u043e\\u0432\\u043b\\u0435\\u043d\\u0438\\u0435\", \"\\u0438\\u0437\\u0433\\u043e\\u0442\\u043e\\u0432\\u043b\\u0435\\u043d\\u0438\\u0435\", \"\\u0438\\u0437\\u0434\\u0430\\u0442\\u044c\", \"\\u0438\\u0437\\u043e\\u043b\\u044f\\u0446\\u0438\\u044f\", \"\\u0438\\u043c\\u0435\\u0442\\u044c\", \"\\u0438\\u043c\\u0435\\u0442\\u044c\", \"\\u0438\\u043c\\u0435\\u0442\\u044c\", \"\\u0438\\u043c\\u0435\\u0442\\u044c\", \"\\u0438\\u043c\\u0435\\u0442\\u044c\", \"\\u0438\\u043c\\u0435\\u0442\\u044c\", \"\\u0438\\u043c\\u0435\\u0442\\u044c\", \"\\u0438\\u043c\\u0435\\u0442\\u044c\", \"\\u0438\\u043c\\u0435\\u0442\\u044c\", \"\\u0438\\u043c\\u0435\\u0442\\u044c\", \"\\u0438\\u043c\\u0435\\u0442\\u044c\", \"\\u0438\\u043c\\u0435\\u0442\\u044c\", \"\\u0438\\u043c\\u0435\\u0442\\u044c\", \"\\u0438\\u043c\\u0435\\u0442\\u044c\", \"\\u0438\\u043c\\u044f\", \"\\u0438\\u043c\\u044f\", \"\\u0438\\u043c\\u044f\", \"\\u0438\\u043c\\u044f\", \"\\u0438\\u043c\\u044f\", \"\\u0438\\u043c\\u044f\", \"\\u0438\\u043d\\u0434\\u0438\\u0432\\u0438\\u0434\\u0443\\u0430\\u043b\\u044c\\u043d\\u044b\\u0439\", \"\\u0438\\u043d\\u0434\\u0438\\u0432\\u0438\\u0434\\u0443\\u0430\\u043b\\u044c\\u043d\\u044b\\u0439\", \"\\u0438\\u043d\\u0436\\u0435\\u043d\\u0435\\u0440\", \"\\u0438\\u043d\\u043d\\u0430\", \"\\u0438\\u043d\\u043d\\u0430\", \"\\u0438\\u043d\\u043d\\u0430\", \"\\u0438\\u043d\\u043d\\u0430\", \"\\u0438\\u043d\\u043d\\u0430\", \"\\u0438\\u043d\\u043d\\u0430\", \"\\u0438\\u043d\\u043d\\u0430\", \"\\u0438\\u043d\\u043e\\u0439\", \"\\u0438\\u043d\\u043e\\u0439\", \"\\u0438\\u043d\\u043e\\u0441\\u0442\\u0440\\u0430\\u043d\\u043d\\u044b\\u0439\", \"\\u0438\\u043d\\u043e\\u0441\\u0442\\u0440\\u0430\\u043d\\u043d\\u044b\\u0439\", \"\\u0438\\u043d\\u0441\\u0442\\u0430\\u0433\\u0440\\u0430\\u043c\\u043c\", \"\\u0438\\u043d\\u0441\\u0442\\u0438\\u0442\\u0443\\u0442\", \"\\u0438\\u043d\\u0441\\u0442\\u0440\\u0443\\u043c\\u0435\\u043d\\u0442\", \"\\u0438\\u043d\\u0441\\u0442\\u0440\\u0443\\u043c\\u0435\\u043d\\u0442\", \"\\u0438\\u043d\\u0442\\u0435\\u0440\\u043d\\u0435\\u0442\", \"\\u0438\\u043d\\u0442\\u0435\\u0440\\u043d\\u0435\\u0442\", \"\\u0438\\u043d\\u0442\\u0435\\u0440\\u043d\\u0435\\u0442\", \"\\u0438\\u043d\\u0442\\u0435\\u0440\\u043d\\u0435\\u0442\", \"\\u0438\\u043d\\u0442\\u0435\\u0440\\u043d\\u0435\\u0442\\u043c\\u0430\\u0433\\u0430\\u0437\\u0438\\u043d\", \"\\u0438\\u043d\\u0442\\u0435\\u0440\\u043d\\u0435\\u0442\\u043c\\u0430\\u0433\\u0430\\u0437\\u0438\\u043d\", \"\\u0438\\u043d\\u0444\\u0435\\u043a\\u0446\\u0438\\u044f\", \"\\u0438\\u043d\\u0444\\u043e\\u0440\\u043c\\u0430\\u0446\\u0438\\u044f\", \"\\u0438\\u043d\\u0444\\u043e\\u0440\\u043c\\u0430\\u0446\\u0438\\u044f\", \"\\u0438\\u043d\\u0444\\u043e\\u0440\\u043c\\u0430\\u0446\\u0438\\u044f\", \"\\u0438\\u043d\\u0444\\u043e\\u0440\\u043c\\u0430\\u0446\\u0438\\u044f\", \"\\u0438\\u043d\\u0444\\u043e\\u0440\\u043c\\u0430\\u0446\\u0438\\u044f\", \"\\u0438\\u043d\\u0444\\u043e\\u0440\\u043c\\u0430\\u0446\\u0438\\u044f\", \"\\u0438\\u043d\\u0444\\u043e\\u0440\\u043c\\u0430\\u0446\\u0438\\u044f\", \"\\u0438\\u043d\\u0444\\u043e\\u0440\\u043c\\u0430\\u0446\\u0438\\u044f\", \"\\u0438\\u043d\\u0444\\u043e\\u0440\\u043c\\u0430\\u0446\\u0438\\u044f\", \"\\u0438\\u043d\\u0444\\u043e\\u0440\\u043c\\u0430\\u0446\\u0438\\u044f\", \"\\u0438\\u0441\\u043a\\u043b\\u044e\\u0447\\u0438\\u0442\\u0435\\u043b\\u044c\\u043d\\u043e\", \"\\u0438\\u0441\\u043f\\u043e\\u043b\\u043d\\u0438\\u0442\\u0435\\u043b\\u044c\", \"\\u0438\\u0441\\u043f\\u043e\\u043b\\u043d\\u0438\\u0442\\u0435\\u043b\\u044c\", \"\\u0438\\u0441\\u043f\\u044b\\u0442\\u0430\\u043d\\u0438\\u0435\", \"\\u0438\\u0441\\u0441\\u043b\\u0435\\u0434\\u043e\\u0432\\u0430\\u043d\\u0438\\u0435\", \"\\u0438\\u044e\\u043d\\u044c\", \"\\u0438\\u044e\\u043d\\u044c\", \"\\u0438\\u044e\\u043d\\u044c\", \"\\u0438\\u044e\\u043d\\u044c\", \"\\u0438\\u044e\\u043d\\u044c\", \"\\u0438\\u044e\\u043d\\u044c\", \"\\u0438\\u044e\\u043d\\u044c\", \"\\u0438\\u044e\\u043d\\u044c\", \"\\u0438\\u044e\\u043d\\u044c\", \"\\u0438\\u044e\\u043d\\u044c\", \"\\u0438\\u044e\\u043d\\u044c\", \"\\u043a\\u0430\\u0431\\u0435\\u043b\\u044c\", \"\\u043a\\u0430\\u0431\\u0438\\u043d\\u0430\", \"\\u043a\\u0430\\u0437\\u0430\\u043d\\u044c\", \"\\u043a\\u0430\\u0437\\u0430\\u043d\\u044c\", \"\\u043a\\u0430\\u0437\\u0430\\u0445\\u0441\\u0442\\u0430\\u043d\", \"\\u043a\\u0430\\u043a\\u043e\\u0439\", \"\\u043a\\u0430\\u043a\\u043e\\u0439\", \"\\u043a\\u0430\\u043a\\u043e\\u0439\", \"\\u043a\\u0430\\u043a\\u043e\\u0439\", \"\\u043a\\u0430\\u043a\\u043e\\u0439\", \"\\u043a\\u0430\\u043a\\u043e\\u0439\", \"\\u043a\\u0430\\u043a\\u043e\\u0439\", \"\\u043a\\u0430\\u043a\\u043e\\u0439\", \"\\u043a\\u0430\\u043a\\u043e\\u0439\", \"\\u043a\\u0430\\u043a\\u043e\\u0439\", \"\\u043a\\u0430\\u043a\\u043e\\u0439\", \"\\u043a\\u0430\\u043d\\u0438\\u043a\\u0443\\u043b\\u044b\", \"\\u043a\\u0430\\u0440\\u0430\\u043d\\u0442\\u0438\\u043d\", \"\\u043a\\u0430\\u0440\\u0430\\u043d\\u0442\\u0438\\u043d\", \"\\u043a\\u0430\\u0440\\u043c\\u0430\\u043d\", \"\\u043a\\u0430\\u0440\\u0442\\u0430\", \"\\u043a\\u0430\\u0440\\u0442\\u0430\", \"\\u043a\\u0430\\u0440\\u0442\\u0430\", \"\\u043a\\u0430\\u0441\\u0441\\u0430\", \"\\u043a\\u0430\\u0441\\u0441\\u0430\", \"\\u043a\\u0430\\u0441\\u0441\\u0430\", \"\\u043a\\u0430\\u0441\\u0441\\u0430\", \"\\u043a\\u0430\\u0441\\u0441\\u0438\\u0440\", \"\\u043a\\u0430\\u0441\\u0441\\u0438\\u0440\", \"\\u043a\\u0430\\u0447\\u0435\\u0441\\u0442\\u0432\\u043e\", \"\\u043a\\u0430\\u0447\\u0435\\u0441\\u0442\\u0432\\u043e\", \"\\u043a\\u0430\\u0447\\u0435\\u0441\\u0442\\u0432\\u043e\", \"\\u043a\\u0430\\u0447\\u0435\\u0441\\u0442\\u0432\\u043e\", \"\\u043a\\u0430\\u0447\\u0435\\u0441\\u0442\\u0432\\u043e\", \"\\u043a\\u0430\\u0447\\u0435\\u0441\\u0442\\u0432\\u043e\", \"\\u043a\\u0430\\u0447\\u0435\\u0441\\u0442\\u0432\\u043e\", \"\\u043a\\u0430\\u0447\\u0435\\u0441\\u0442\\u0432\\u043e\", \"\\u043a\\u0430\\u0448\\u043b\\u044f\\u0442\\u044c\", \"\\u043a\\u0432\", \"\\u043a\\u0432\", \"\\u043a\\u0432\\u0430\\u0440\\u0442\\u0438\\u0440\\u0430\", \"\\u043a\\u043b\\u0430\\u0441\\u0441\", \"\\u043a\\u043b\\u0438\\u043d\\u0438\\u043a\\u0430\", \"\\u043a\\u043b\\u0443\\u0431\", \"\\u043a\\u043b\\u044e\\u0447\", \"\\u043a\\u043d\\u0438\\u0436\\u043a\\u0430\", \"\\u043a\\u043e\\u0430\\u043f\", \"\\u043a\\u043e\\u0430\\u043f\", \"\\u043a\\u043e\\u0432\\u0438\\u0434\", \"\\u043a\\u043e\\u0432\\u0438\\u0434\\u043d\\u044b\\u0439\", \"\\u043a\\u043e\\u0434\\u0435\\u043a\\u0441\", \"\\u043a\\u043e\\u043b\\u044c\\u0446\\u043e\", \"\\u043a\\u043e\\u043b\\u044f\\u0441\\u043a\\u0430\", \"\\u043a\\u043e\\u043c\\u043c\\u0443\\u043d\\u0430\\u043b\\u044c\\u043d\\u044b\\u0439\", \"\\u043a\\u043e\\u043c\\u043c\\u0443\\u043d\\u0430\\u043b\\u044c\\u043d\\u044b\\u0439\", \"\\u043a\\u043e\\u043c\\u043f\\u0430\\u043d\\u0438\\u044f\", \"\\u043a\\u043e\\u043c\\u043f\\u0430\\u043d\\u0438\\u044f\", \"\\u043a\\u043e\\u043c\\u043f\\u0430\\u043d\\u0438\\u044f\", \"\\u043a\\u043e\\u043c\\u043f\\u0430\\u043d\\u0438\\u044f\", \"\\u043a\\u043e\\u043c\\u043f\\u0430\\u043d\\u0438\\u044f\", \"\\u043a\\u043e\\u043c\\u043f\\u0430\\u043d\\u0438\\u044f\", \"\\u043a\\u043e\\u043c\\u043f\\u0430\\u043d\\u0438\\u044f\", \"\\u043a\\u043e\\u043c\\u043f\\u0430\\u043d\\u0438\\u044f\", \"\\u043a\\u043e\\u043d\\u0441\\u0442\\u0438\\u0442\\u0443\\u0446\\u0438\\u044f\", \"\\u043a\\u043e\\u043d\\u0442\\u0435\\u0439\\u043d\\u0435\\u0440\", \"\\u043a\\u043e\\u043d\\u0444\\u0435\\u0442\\u0430\", \"\\u043a\\u043e\\u043d\\u0446\\u0435\\u0440\\u0442\", \"\\u043a\\u043e\\u043e\\u0440\\u0434\\u0438\\u043d\\u0430\\u0442\\u0430\", \"\\u043a\\u043e\\u043f\\u0438\\u044f\", \"\\u043a\\u043e\\u043f\\u0438\\u044f\", \"\\u043a\\u043e\\u043f\\u0438\\u044f\", \"\\u043a\\u043e\\u043f\\u0438\\u044f\", \"\\u043a\\u043e\\u0440\\u043e\\u0431\\u043a\\u0430\", \"\\u043a\\u043e\\u0440\\u043e\\u0431\\u043a\\u0430\", \"\\u043a\\u043e\\u0440\\u043e\\u0431\\u043a\\u0430\", \"\\u043a\\u043e\\u0440\\u043e\\u0431\\u043a\\u0430\", \"\\u043a\\u043e\\u0440\\u043e\\u043d\\u0430\\u0432\\u0438\\u0440\\u0443\\u0441\", \"\\u043a\\u043e\\u0441\\u0442\\u044e\\u043c\", \"\\u043a\\u043e\\u0442\", \"\\u043a\\u043e\\u0442\\u043e\\u0440\\u044b\\u0439\", \"\\u043a\\u043e\\u0442\\u043e\\u0440\\u044b\\u0439\", \"\\u043a\\u043e\\u0442\\u043e\\u0440\\u044b\\u0439\", \"\\u043a\\u043e\\u0442\\u043e\\u0440\\u044b\\u0439\", \"\\u043a\\u043e\\u0442\\u043e\\u0440\\u044b\\u0439\", \"\\u043a\\u043e\\u0442\\u043e\\u0440\\u044b\\u0439\", \"\\u043a\\u043e\\u0442\\u043e\\u0440\\u044b\\u0439\", \"\\u043a\\u043e\\u0442\\u043e\\u0440\\u044b\\u0439\", \"\\u043a\\u043e\\u0442\\u043e\\u0440\\u044b\\u0439\", \"\\u043a\\u043e\\u0442\\u043e\\u0440\\u044b\\u0439\", \"\\u043a\\u043e\\u0442\\u043e\\u0440\\u044b\\u0439\", \"\\u043a\\u043e\\u0442\\u043e\\u0440\\u044b\\u0439\", \"\\u043a\\u043e\\u0442\\u043e\\u0440\\u044b\\u0439\", \"\\u043a\\u043e\\u0444\\u0435\", \"\\u043a\\u0440\\u0430\\u0441\\u043e\\u0442\\u0430\", \"\\u043a\\u0440\\u0435\\u0434\\u0438\\u0442\", \"\\u043a\\u0440\\u0435\\u0434\\u0438\\u0442\\u043d\\u044b\\u0439\", \"\\u043a\\u0440\\u0435\\u0441\\u043b\\u043e\", \"\\u043a\\u0440\\u0438\\u043a\", \"\\u043a\\u0440\\u043e\\u0432\\u0430\\u0442\\u044c\", \"\\u043a\\u0440\\u043e\\u0432\\u0430\\u0442\\u044c\", \"\\u043a\\u0440\\u043e\\u0432\\u0430\\u0442\\u044c\", \"\\u043a\\u0440\\u043e\\u0441\\u0441\\u043e\\u0432\\u043e\\u043a\", \"\\u043a\\u0443\\u043f\\u0438\\u0442\\u044c\", \"\\u043a\\u0443\\u043f\\u0438\\u0442\\u044c\", \"\\u043a\\u0443\\u043f\\u0438\\u0442\\u044c\", \"\\u043a\\u0443\\u043f\\u0438\\u0442\\u044c\", \"\\u043a\\u0443\\u043f\\u0438\\u0442\\u044c\", \"\\u043a\\u0443\\u043f\\u0438\\u0442\\u044c\", \"\\u043a\\u0443\\u043f\\u043b\\u0438\\u043f\\u0440\\u043e\\u0434\\u0430\\u0436\\u0430\", \"\\u043a\\u0443\\u043f\\u043b\\u0438\\u043f\\u0440\\u043e\\u0434\\u0430\\u0436\\u0430\", \"\\u043a\\u0443\\u043f\\u043b\\u0438\\u043f\\u0440\\u043e\\u0434\\u0430\\u0436\\u0430\", \"\\u043a\\u0443\\u0440\\u0442\\u043a\\u0430\", \"\\u043a\\u0443\\u0440\\u044c\\u0435\\u0440\", \"\\u043a\\u0443\\u0440\\u044c\\u0435\\u0440\\u0441\\u043a\\u0438\\u0439\", \"\\u043a\\u0443\\u0445\\u043e\\u043d\\u043d\\u044b\\u0439\", \"\\u043b\\u0430\\u0431\\u043e\\u0440\\u0430\\u0442\\u043e\\u0440\\u0438\\u044f\", \"\\u043b\\u0435\\u043a\\u0430\\u0440\\u0441\\u0442\\u0432\\u043e\", \"\\u043b\\u0435\\u043a\\u0430\\u0440\\u0441\\u0442\\u0432\\u043e\", \"\\u043b\\u0435\\u043d\\u0438\\u043d\", \"\\u043b\\u0435\\u043d\\u0438\\u043d\", \"\\u043b\\u0435\\u043d\\u0438\\u043d\\u0441\\u043a\\u0438\\u0439\", \"\\u043b\\u0435\\u0447\\u0435\\u043d\\u0438\\u0435\", \"\\u043b\\u0435\\u0447\\u0435\\u043d\\u0438\\u0435\", \"\\u043b\\u0435\\u0447\\u0438\\u0442\\u044c\\u0441\\u044f\", \"\\u043b\\u0438\\u043d\\u0437\\u0430\", \"\\u043b\\u0438\\u0442\\u0430\", \"\\u043b\\u0438\\u0446\\u0435\\u0432\\u043e\\u0439\", \"\\u043b\\u0438\\u0446\\u043e\", \"\\u043b\\u0438\\u0446\\u043e\", \"\\u043b\\u0438\\u0446\\u043e\", \"\\u043b\\u0438\\u0446\\u043e\", \"\\u043b\\u0438\\u0446\\u043e\", \"\\u043b\\u0438\\u0446\\u043e\", \"\\u043b\\u0438\\u0447\\u043d\\u044b\\u0439\", \"\\u043b\\u0438\\u0447\\u043d\\u044b\\u0439\", \"\\u043b\\u0438\\u0447\\u043d\\u044b\\u0439\", \"\\u043b\\u0438\\u0447\\u043d\\u044b\\u0439\", \"\\u043b\\u0438\\u0447\\u043d\\u044b\\u0439\", \"\\u043b\\u0438\\u0447\\u043d\\u044b\\u0439\", \"\\u043b\\u0438\\u0447\\u043d\\u044b\\u0439\", \"\\u043b\\u0438\\u0447\\u043d\\u044b\\u0439\", \"\\u043c\\u0430\\u0433\\u0430\\u0437\\u0438\\u043d\", \"\\u043c\\u0430\\u0433\\u0430\\u0437\\u0438\\u043d\", \"\\u043c\\u0430\\u0433\\u0430\\u0437\\u0438\\u043d\", \"\\u043c\\u0430\\u0433\\u0430\\u0437\\u0438\\u043d\", \"\\u043c\\u0430\\u0433\\u043d\\u0438\\u0442\", \"\\u043c\\u0430\\u0433\\u043d\\u0438\\u0442\", \"\\u043c\\u0430\\u0433\\u043d\\u0438\\u0442\", \"\\u043c\\u0430\\u0437\\u043a\\u0430\", \"\\u043c\\u0430\\u043d\\u0438\\u043a\\u044e\\u0440\", \"\\u043c\\u0430\\u0440\\u043a\\u0435\\u0442\", \"\\u043c\\u0430\\u0440\\u043a\\u0435\\u0442\", \"\\u043c\\u0430\\u0440\\u043a\\u0438\\u0440\\u043e\\u0432\\u043a\\u0430\", \"\\u043c\\u0430\\u0440\\u043a\\u0438\\u0440\\u043e\\u0432\\u043a\\u0430\", \"\\u043c\\u0430\\u0440\\u0442\", \"\\u043c\\u0430\\u0440\\u0442\", \"\\u043c\\u0430\\u0440\\u0442\", \"\\u043c\\u0430\\u0440\\u0442\", \"\\u043c\\u0430\\u0440\\u0442\", \"\\u043c\\u0430\\u0440\\u0442\", \"\\u043c\\u0430\\u0440\\u0442\", \"\\u043c\\u0430\\u0440\\u0442\", \"\\u043c\\u0430\\u0440\\u0442\", \"\\u043c\\u0430\\u0440\\u0442\", \"\\u043c\\u0430\\u0440\\u0448\\u0440\\u0443\\u0442\", \"\\u043c\\u0430\\u0441\\u043a\\u0430\", \"\\u043c\\u0430\\u0441\\u0442\\u0435\\u0440\", \"\\u043c\\u0430\\u0441\\u0442\\u0435\\u0440\", \"\\u043c\\u0430\\u0441\\u0442\\u0435\\u0440\\u0441\\u043a\\u0430\\u044f\", \"\\u043c\\u0430\\u0442\\u0435\\u0440\\u0438\\u0430\\u043b\", \"\\u043c\\u0430\\u0442\\u0435\\u0440\\u0438\\u0430\\u043b\", \"\\u043c\\u0430\\u0442\\u0435\\u0440\\u0438\\u0430\\u043b\", \"\\u043c\\u0430\\u0442\\u0435\\u0440\\u0438\\u0430\\u043b\", \"\\u043c\\u0430\\u0442\\u0435\\u0440\\u0438\\u0430\\u043b\", \"\\u043c\\u0430\\u0442\\u0440\\u0430\\u0441\", \"\\u043c\\u0430\\u0448\\u0438\\u043d\\u0430\", \"\\u043c\\u0430\\u0448\\u0438\\u043d\\u0430\", \"\\u043c\\u0430\\u0448\\u0438\\u043d\\u0430\", \"\\u043c\\u0430\\u0448\\u0438\\u043d\\u043a\\u0430\", \"\\u043c\\u0435\\u0431\\u0435\\u043b\\u044c\", \"\\u043c\\u0435\\u0431\\u0435\\u043b\\u044c\", \"\\u043c\\u0435\\u0431\\u0435\\u043b\\u044c\", \"\\u043c\\u0435\\u0431\\u0435\\u043b\\u044c\\u043d\\u044b\\u0439\", \"\\u043c\\u0435\\u0433\\u0430\\u043c\\u0430\\u0440\\u043a\\u0435\\u0442\", \"\\u043c\\u0435\\u0433\\u0430\\u0444\\u043e\\u043d\", \"\\u043c\\u0435\\u0434\\u0438\\u0446\\u0438\\u043d\\u0441\\u043a\\u0438\\u0439\", \"\\u043c\\u0435\\u0440\\u0430\", \"\\u043c\\u0435\\u0440\\u0430\", \"\\u043c\\u0435\\u0440\\u0430\", \"\\u043c\\u0435\\u0440\\u0430\", \"\\u043c\\u0435\\u0440\\u0430\", \"\\u043c\\u0435\\u0440\\u0430\", \"\\u043c\\u0435\\u0440\\u0430\", \"\\u043c\\u0435\\u0440\\u0430\", \"\\u043c\\u0435\\u0440\\u043e\\u043f\\u0440\\u0438\\u044f\\u0442\\u0438\\u0435\", \"\\u043c\\u0435\\u0440\\u043e\\u043f\\u0440\\u0438\\u044f\\u0442\\u0438\\u0435\", \"\\u043c\\u0435\\u0441\\u0442\\u043e\", \"\\u043c\\u0435\\u0441\\u0442\\u043e\", \"\\u043c\\u0435\\u0441\\u0442\\u043e\", \"\\u043c\\u0435\\u0441\\u0442\\u043e\", \"\\u043c\\u0435\\u0441\\u0442\\u043e\", \"\\u043c\\u0435\\u0441\\u0442\\u043e\", \"\\u043c\\u0435\\u0441\\u0442\\u043e\", \"\\u043c\\u0435\\u0441\\u0442\\u043e\", \"\\u043c\\u0435\\u0441\\u0442\\u043e\", \"\\u043c\\u0435\\u0441\\u044f\\u0446\", \"\\u043c\\u0435\\u0441\\u044f\\u0446\", \"\\u043c\\u0435\\u0441\\u044f\\u0446\", \"\\u043c\\u0435\\u0441\\u044f\\u0446\", \"\\u043c\\u0435\\u0441\\u044f\\u0446\", \"\\u043c\\u0435\\u0441\\u044f\\u0446\", \"\\u043c\\u0435\\u0441\\u044f\\u0446\", \"\\u043c\\u0435\\u0445\\u0430\\u043d\\u0438\\u0447\\u0435\\u0441\\u043a\\u0438\\u0439\", \"\\u043c\\u0438\\u043d\\u0443\\u0442\\u0430\", \"\\u043c\\u0438\\u043d\\u0443\\u0442\\u0430\", \"\\u043c\\u0438\\u043d\\u0443\\u0442\\u0430\", \"\\u043c\\u0438\\u043d\\u0443\\u0442\\u0430\", \"\\u043c\\u0438\\u043d\\u0443\\u0442\\u0430\", \"\\u043c\\u0438\\u0445\\u0430\\u0438\\u043b\", \"\\u043c\\u043c\", \"\\u043c\\u043d\\u043e\\u0433\\u043e\\u043a\\u0432\\u0430\\u0440\\u0442\\u0438\\u0440\\u043d\\u044b\\u0439\", \"\\u043c\\u043e\\u0434\\u0435\\u043b\\u044c\", \"\\u043c\\u043e\\u0434\\u0435\\u043b\\u044c\", \"\\u043c\\u043e\\u0434\\u0443\\u043b\\u044c\", \"\\u043c\\u043e\\u0439\", \"\\u043c\\u043e\\u0439\", \"\\u043c\\u043e\\u0439\", \"\\u043c\\u043e\\u0439\", \"\\u043c\\u043e\\u0439\", \"\\u043c\\u043e\\u0439\", \"\\u043c\\u043e\\u0439\", \"\\u043c\\u043e\\u0439\", \"\\u043c\\u043e\\u0439\", \"\\u043c\\u043e\\u0439\", \"\\u043c\\u043e\\u0439\", \"\\u043c\\u043e\\u043b\\u043e\\u0434\\u043e\\u0439\", \"\\u043c\\u043e\\u043b\\u043e\\u043a\\u043e\", \"\\u043c\\u043e\\u043b\\u043e\\u0447\\u043d\\u044b\\u0439\", \"\\u043c\\u043e\\u043d\\u0438\\u0442\\u043e\\u0440\", \"\\u043c\\u043e\\u043d\\u0442\\u0430\\u0436\", \"\\u043c\\u043e\\u0441\\u043a\\u0432\\u0430\", \"\\u043c\\u043e\\u0441\\u043a\\u0432\\u0430\", \"\\u043c\\u043e\\u0441\\u043a\\u0432\\u0430\", \"\\u043c\\u043e\\u0441\\u043a\\u0432\\u0430\", \"\\u043c\\u043e\\u0441\\u043a\\u0432\\u0430\", \"\\u043c\\u043e\\u0441\\u043a\\u0432\\u0430\", \"\\u043c\\u043e\\u0441\\u043a\\u0432\\u0430\", \"\\u043c\\u043e\\u0441\\u043a\\u0432\\u0430\", \"\\u043c\\u043e\\u0441\\u043e\\u0431\\u043b\\u0435\\u0438\\u0440\\u0446\", \"\\u043c\\u043e\\u0441\\u044d\\u043d\\u0435\\u0440\\u0433\\u043e\\u0441\\u0431\\u044b\\u0442\", \"\\u043c\\u043e\\u0447\\u044c\", \"\\u043c\\u043e\\u0447\\u044c\", \"\\u043c\\u043e\\u0447\\u044c\", \"\\u043c\\u043e\\u0447\\u044c\", \"\\u043c\\u043e\\u0447\\u044c\", \"\\u043c\\u043e\\u0447\\u044c\", \"\\u043c\\u043e\\u0447\\u044c\", \"\\u043c\\u043e\\u0447\\u044c\", \"\\u043c\\u043e\\u0447\\u044c\", \"\\u043c\\u043e\\u0447\\u044c\", \"\\u043c\\u043e\\u0447\\u044c\", \"\\u043c\\u043e\\u0447\\u044c\", \"\\u043c\\u0442\\u0441\", \"\\u043c\\u0443\\u0441\\u043e\\u0440\", \"\\u043c\\u0443\\u0441\\u043e\\u0440\\u043d\\u044b\\u0439\", \"\\u043c\\u044b\", \"\\u043c\\u044b\", \"\\u043c\\u044b\", \"\\u043c\\u044b\", \"\\u043c\\u044b\", \"\\u043c\\u044b\", \"\\u043c\\u044b\", \"\\u043c\\u044b\", \"\\u043c\\u044d\\u0440\", \"\\u043c\\u044f\\u0441\\u043e\", \"\\u043d\\u0430\\u0431\\u0435\\u0440\\u0435\\u0436\\u043d\\u044b\\u0439\", \"\\u043d\\u0430\\u0434\\u043f\\u0438\\u0441\\u044c\", \"\\u043d\\u0430\\u043a\\u043e\\u043f\\u043b\\u0435\\u043d\\u0438\\u0435\", \"\\u043d\\u0430\\u043c\\u043d\\u043e\\u0433\\u043e\", \"\\u043d\\u0430\\u043f\\u0438\\u0441\\u0430\\u0442\\u044c\", \"\\u043d\\u0430\\u043f\\u0438\\u0441\\u0430\\u0442\\u044c\", \"\\u043d\\u0430\\u043f\\u0438\\u0441\\u0430\\u0442\\u044c\", \"\\u043d\\u0430\\u043f\\u0438\\u0441\\u0430\\u0442\\u044c\", \"\\u043d\\u0430\\u043f\\u0438\\u0441\\u0430\\u0442\\u044c\", \"\\u043d\\u0430\\u043f\\u0438\\u0441\\u0430\\u0442\\u044c\", \"\\u043d\\u0430\\u043f\\u0438\\u0442\\u043e\\u043a\", \"\\u043d\\u0430\\u043f\\u0438\\u0442\\u043e\\u043a\", \"\\u043d\\u0430\\u043f\\u0440\\u0430\\u0432\\u0438\\u0442\\u044c\", \"\\u043d\\u0430\\u043f\\u0440\\u0430\\u0432\\u0438\\u0442\\u044c\", \"\\u043d\\u0430\\u043f\\u0440\\u0430\\u0432\\u0438\\u0442\\u044c\", \"\\u043d\\u0430\\u043f\\u0440\\u0430\\u0432\\u0438\\u0442\\u044c\", \"\\u043d\\u0430\\u043f\\u0440\\u0430\\u0432\\u0438\\u0442\\u044c\", \"\\u043d\\u0430\\u043f\\u0440\\u0430\\u0432\\u0438\\u0442\\u044c\", \"\\u043d\\u0430\\u043f\\u0440\\u0430\\u0432\\u0438\\u0442\\u044c\", \"\\u043d\\u0430\\u043f\\u0440\\u0430\\u0432\\u0438\\u0442\\u044c\", \"\\u043d\\u0430\\u0440\\u0443\\u0448\\u0435\\u043d\\u0438\\u0435\", \"\\u043d\\u0430\\u0440\\u0443\\u0448\\u0435\\u043d\\u0438\\u0435\", \"\\u043d\\u0430\\u0440\\u0443\\u0448\\u0435\\u043d\\u0438\\u0435\", \"\\u043d\\u0430\\u0440\\u0443\\u0448\\u0435\\u043d\\u0438\\u0435\", \"\\u043d\\u0430\\u0440\\u0443\\u0448\\u0435\\u043d\\u0438\\u0435\", \"\\u043d\\u0430\\u0440\\u0443\\u0448\\u0435\\u043d\\u0438\\u0435\", \"\\u043d\\u0430\\u0440\\u0443\\u0448\\u0435\\u043d\\u0438\\u0435\", \"\\u043d\\u0430\\u0440\\u0443\\u0448\\u0435\\u043d\\u0438\\u0435\", \"\\u043d\\u0430\\u0440\\u0443\\u0448\\u0435\\u043d\\u0438\\u0435\", \"\\u043d\\u0430\\u0443\\u0448\\u043d\\u0438\\u043a\", \"\\u043d\\u0430\\u0445\\u043e\\u0434\\u0438\\u0442\\u044c\\u0441\\u044f\", \"\\u043d\\u0430\\u0445\\u043e\\u0434\\u0438\\u0442\\u044c\\u0441\\u044f\", \"\\u043d\\u0430\\u0445\\u043e\\u0434\\u0438\\u0442\\u044c\\u0441\\u044f\", \"\\u043d\\u0430\\u0445\\u043e\\u0434\\u0438\\u0442\\u044c\\u0441\\u044f\", \"\\u043d\\u0430\\u0445\\u043e\\u0434\\u0438\\u0442\\u044c\\u0441\\u044f\", \"\\u043d\\u0430\\u0445\\u043e\\u0434\\u0438\\u0442\\u044c\\u0441\\u044f\", \"\\u043d\\u0430\\u0445\\u043e\\u0434\\u0438\\u0442\\u044c\\u0441\\u044f\", \"\\u043d\\u0430\\u0445\\u043e\\u0434\\u0438\\u0442\\u044c\\u0441\\u044f\", \"\\u043d\\u0430\\u0445\\u043e\\u0434\\u0438\\u0442\\u044c\\u0441\\u044f\", \"\\u043d\\u0430\\u0445\\u043e\\u0434\\u0438\\u0442\\u044c\\u0441\\u044f\", \"\\u043d\\u0430\\u0448\", \"\\u043d\\u0430\\u0448\", \"\\u043d\\u0430\\u0448\", \"\\u043d\\u0430\\u0448\", \"\\u043d\\u0430\\u0448\", \"\\u043d\\u0430\\u0448\", \"\\u043d\\u0430\\u0448\", \"\\u043d\\u0435\\u0434\\u0435\\u0439\\u0441\\u0442\\u0432\\u0438\\u0442\\u0435\\u043b\\u044c\\u043d\\u044b\\u0439\", \"\\u043d\\u0435\\u0434\\u0435\\u0439\\u0441\\u0442\\u0432\\u0438\\u0442\\u0435\\u043b\\u044c\\u043d\\u044b\\u0439\", \"\\u043d\\u0435\\u0434\\u0435\\u043b\\u044f\", \"\\u043d\\u0435\\u0434\\u0435\\u043b\\u044f\", \"\\u043d\\u0435\\u0434\\u0435\\u043b\\u044f\", \"\\u043d\\u0435\\u0434\\u0435\\u043b\\u044f\", \"\\u043d\\u0435\\u0434\\u0435\\u043b\\u044f\", \"\\u043d\\u0435\\u0434\\u0435\\u043b\\u044f\", \"\\u043d\\u0435\\u0434\\u043e\\u0441\\u0442\\u0430\\u0442\\u043e\\u043a\", \"\\u043d\\u0435\\u0434\\u043e\\u0441\\u0442\\u0430\\u0442\\u043e\\u043a\", \"\\u043d\\u0435\\u0438\\u0441\\u043f\\u0440\\u0430\\u0432\\u043d\\u043e\\u0441\\u0442\\u044c\", \"\\u043d\\u0435\\u0438\\u0441\\u043f\\u0440\\u0430\\u0432\\u043d\\u044b\\u0439\", \"\\u043d\\u0435\\u043e\\u0431\\u0445\\u043e\\u0434\\u0438\\u043c\\u043e\", \"\\u043d\\u0435\\u043e\\u0431\\u0445\\u043e\\u0434\\u0438\\u043c\\u043e\", \"\\u043d\\u0435\\u043e\\u0431\\u0445\\u043e\\u0434\\u0438\\u043c\\u043e\", \"\\u043d\\u0435\\u043e\\u0431\\u0445\\u043e\\u0434\\u0438\\u043c\\u043e\", \"\\u043d\\u0435\\u043e\\u0431\\u0445\\u043e\\u0434\\u0438\\u043c\\u043e\", \"\\u043d\\u0435\\u043e\\u0431\\u0445\\u043e\\u0434\\u0438\\u043c\\u043e\", \"\\u043d\\u0435\\u043e\\u0431\\u0445\\u043e\\u0434\\u0438\\u043c\\u043e\", \"\\u043d\\u0435\\u043e\\u0431\\u0445\\u043e\\u0434\\u0438\\u043c\\u043e\", \"\\u043d\\u0435\\u043e\\u0431\\u0445\\u043e\\u0434\\u0438\\u043c\\u043e\", \"\\u043d\\u0435\\u043f\\u0440\\u043e\\u0434\\u043e\\u0432\\u043e\\u043b\\u044c\\u0441\\u0442\\u0432\\u0435\\u043d\\u043d\\u044b\\u0439\", \"\\u043d\\u0435\\u0442\\u0443\", \"\\u043d\\u0438\\u043a\\u0442\\u043e\", \"\\u043d\\u0438\\u043a\\u0442\\u043e\", \"\\u043d\\u0438\\u043a\\u0442\\u043e\", \"\\u043d\\u0438\\u043a\\u0442\\u043e\", \"\\u043d\\u043e\\u0432\\u043e\\u0441\\u0438\\u0431\\u0438\\u0440\\u0441\\u043a\\u0438\\u0439\", \"\\u043d\\u043e\\u0432\\u044b\\u0439\", \"\\u043d\\u043e\\u0432\\u044b\\u0439\", \"\\u043d\\u043e\\u0432\\u044b\\u0439\", \"\\u043d\\u043e\\u0432\\u044b\\u0439\", \"\\u043d\\u043e\\u0432\\u044b\\u0439\", \"\\u043d\\u043e\\u0432\\u044b\\u0439\", \"\\u043d\\u043e\\u0432\\u044b\\u0439\", \"\\u043d\\u043e\\u0432\\u044b\\u0439\", \"\\u043d\\u043e\\u0432\\u044b\\u0439\", \"\\u043d\\u043e\\u0432\\u044b\\u0439\", \"\\u043d\\u043e\\u043c\\u0435\\u0440\", \"\\u043d\\u043e\\u043c\\u0435\\u0440\", \"\\u043d\\u043e\\u043c\\u0435\\u0440\", \"\\u043d\\u043e\\u043c\\u0435\\u0440\", \"\\u043d\\u043e\\u043c\\u0435\\u0440\", \"\\u043d\\u043e\\u0440\\u043c\\u0430\\u0442\\u0438\\u0432\\u043d\\u044b\\u0439\", \"\\u043d\\u043e\\u0440\\u043c\\u0430\\u0442\\u0438\\u0432\\u043d\\u044b\\u0439\", \"\\u043d\\u043e\\u0441\\u043a\\u0430\", \"\\u043d\\u043e\\u0443\\u0442\\u0431\\u0443\\u043a\", \"\\u043d\\u043e\\u0443\\u0442\\u0431\\u0443\\u043a\", \"\\u043d\\u043e\\u0447\\u043d\\u043e\\u0439\", \"\\u043d\\u043e\\u0448\\u0435\\u043d\\u0438\\u0435\", \"\\u043d\\u0443\\u0436\\u043d\\u043e\", \"\\u043d\\u0443\\u0436\\u043d\\u043e\", \"\\u043d\\u0443\\u0436\\u043d\\u043e\", \"\\u043d\\u0443\\u0436\\u043d\\u043e\", \"\\u043d\\u0443\\u0436\\u043d\\u043e\", \"\\u043e\\u0431\\u043b\\u0430\\u0441\\u0442\\u044c\", \"\\u043e\\u0431\\u043b\\u0430\\u0441\\u0442\\u044c\", \"\\u043e\\u0431\\u043b\\u0430\\u0441\\u0442\\u044c\", \"\\u043e\\u0431\\u043b\\u0430\\u0441\\u0442\\u044c\", \"\\u043e\\u0431\\u043b\\u0430\\u0441\\u0442\\u044c\", \"\\u043e\\u0431\\u043c\\u0435\\u043d\", \"\\u043e\\u0431\\u043c\\u0435\\u043d\\u044f\\u0442\\u044c\", \"\\u043e\\u0431\\u043d\\u0430\\u0440\\u0443\\u0436\\u0438\\u0442\\u044c\", \"\\u043e\\u0431\\u043d\\u0430\\u0440\\u0443\\u0436\\u0438\\u0442\\u044c\", \"\\u043e\\u0431\\u043d\\u0430\\u0440\\u0443\\u0436\\u0438\\u0442\\u044c\", \"\\u043e\\u0431\\u043d\\u0430\\u0440\\u0443\\u0436\\u0438\\u0442\\u044c\", \"\\u043e\\u0431\\u043d\\u0430\\u0440\\u0443\\u0436\\u0438\\u0442\\u044c\", \"\\u043e\\u0431\\u043d\\u0430\\u0440\\u0443\\u0436\\u0438\\u0442\\u044c\", \"\\u043e\\u0431\\u043d\\u0430\\u0440\\u0443\\u0436\\u0438\\u0442\\u044c\", \"\\u043e\\u0431\\u043d\\u0430\\u0440\\u0443\\u0436\\u0438\\u0442\\u044c\", \"\\u043e\\u0431\\u0440\\u0430\\u0442\\u0438\\u0442\\u044c\\u0441\\u044f\", \"\\u043e\\u0431\\u0440\\u0430\\u0442\\u0438\\u0442\\u044c\\u0441\\u044f\", \"\\u043e\\u0431\\u0440\\u0430\\u0442\\u0438\\u0442\\u044c\\u0441\\u044f\", \"\\u043e\\u0431\\u0440\\u0430\\u0442\\u0438\\u0442\\u044c\\u0441\\u044f\", \"\\u043e\\u0431\\u0440\\u0430\\u0442\\u0438\\u0442\\u044c\\u0441\\u044f\", \"\\u043e\\u0431\\u0440\\u0430\\u0442\\u0438\\u0442\\u044c\\u0441\\u044f\", \"\\u043e\\u0431\\u0440\\u0430\\u0442\\u0438\\u0442\\u044c\\u0441\\u044f\", \"\\u043e\\u0431\\u0440\\u0430\\u0442\\u0438\\u0442\\u044c\\u0441\\u044f\", \"\\u043e\\u0431\\u0440\\u0430\\u0442\\u0438\\u0442\\u044c\\u0441\\u044f\", \"\\u043e\\u0431\\u0440\\u0430\\u0442\\u0438\\u0442\\u044c\\u0441\\u044f\", \"\\u043e\\u0431\\u0440\\u0430\\u0442\\u043d\\u043e\", \"\\u043e\\u0431\\u0440\\u0430\\u0442\\u043d\\u043e\", \"\\u043e\\u0431\\u0440\\u0430\\u0442\\u043d\\u043e\", \"\\u043e\\u0431\\u0440\\u0430\\u0442\\u043d\\u043e\", \"\\u043e\\u0431\\u0440\\u0430\\u0449\\u0435\\u043d\\u0438\\u0435\", \"\\u043e\\u0431\\u0440\\u0430\\u0449\\u0435\\u043d\\u0438\\u0435\", \"\\u043e\\u0431\\u0440\\u0430\\u0449\\u0435\\u043d\\u0438\\u0435\", \"\\u043e\\u0431\\u0440\\u0430\\u0449\\u0435\\u043d\\u0438\\u0435\", \"\\u043e\\u0431\\u0440\\u0430\\u0449\\u0435\\u043d\\u0438\\u0435\", \"\\u043e\\u0431\\u0440\\u0430\\u0449\\u0435\\u043d\\u0438\\u0435\", \"\\u043e\\u0431\\u0440\\u0430\\u0449\\u0435\\u043d\\u0438\\u0435\", \"\\u043e\\u0431\\u0440\\u0430\\u0449\\u0435\\u043d\\u0438\\u0435\", \"\\u043e\\u0431\\u0441\\u043b\\u0443\\u0436\\u0438\\u0442\\u044c\", \"\\u043e\\u0431\\u0443\\u0432\\u044c\", \"\\u043e\\u0434\\u0435\\u0442\\u044c\", \"\\u043e\\u0434\\u0438\\u043d\", \"\\u043e\\u0434\\u0438\\u043d\", \"\\u043e\\u0434\\u0438\\u043d\", \"\\u043e\\u0434\\u0438\\u043d\", \"\\u043e\\u0434\\u0438\\u043d\", \"\\u043e\\u0434\\u0438\\u043d\", \"\\u043e\\u0434\\u0438\\u043d\", \"\\u043e\\u0434\\u0438\\u043d\", \"\\u043e\\u0434\\u0438\\u043d\", \"\\u043e\\u0434\\u0438\\u043d\", \"\\u043e\\u0437\\u043e\\u043d\", \"\\u043e\\u0437\\u043e\\u043d\", \"\\u043e\\u043a\\u0430\\u0437\\u0430\\u043d\\u0438\\u0435\", \"\\u043e\\u043a\\u0430\\u0437\\u0430\\u043d\\u0438\\u0435\", \"\\u043e\\u043a\\u0430\\u0437\\u0430\\u043d\\u0438\\u0435\", \"\\u043e\\u043a\\u0430\\u0437\\u0430\\u0442\\u044c\\u0441\\u044f\", \"\\u043e\\u043a\\u0430\\u0437\\u0430\\u0442\\u044c\\u0441\\u044f\", \"\\u043e\\u043a\\u0430\\u0437\\u0430\\u0442\\u044c\\u0441\\u044f\", \"\\u043e\\u043a\\u0430\\u0437\\u0430\\u0442\\u044c\\u0441\\u044f\", \"\\u043e\\u043a\\u0430\\u0437\\u0430\\u0442\\u044c\\u0441\\u044f\", \"\\u043e\\u043a\\u0430\\u0437\\u0430\\u0442\\u044c\\u0441\\u044f\", \"\\u043e\\u043a\\u043d\\u043e\", \"\\u043e\\u043a\\u043d\\u043e\", \"\\u043e\\u043e\\u043e\", \"\\u043e\\u043e\\u043e\", \"\\u043e\\u043e\\u043e\", \"\\u043e\\u043e\\u043e\", \"\\u043e\\u043e\\u043e\", \"\\u043e\\u043e\\u043e\", \"\\u043e\\u043e\\u043e\", \"\\u043e\\u043f\\u0435\\u0440\\u0430\\u0442\\u043e\\u0440\", \"\\u043e\\u043f\\u0435\\u0440\\u0430\\u0442\\u043e\\u0440\", \"\\u043e\\u043f\\u0435\\u0440\\u0430\\u0442\\u043e\\u0440\", \"\\u043e\\u043f\\u0435\\u0440\\u0430\\u0442\\u043e\\u0440\", \"\\u043e\\u043f\\u0435\\u0440\\u0430\\u0446\\u0438\\u044f\", \"\\u043e\\u043f\\u0435\\u0440\\u0430\\u0446\\u0438\\u044f\", \"\\u043e\\u043f\\u0435\\u0440\\u0430\\u0446\\u0438\\u044f\", \"\\u043e\\u043f\\u043b\\u0430\\u0442\\u0430\", \"\\u043e\\u043f\\u043b\\u0430\\u0442\\u0430\", \"\\u043e\\u043f\\u043b\\u0430\\u0442\\u0430\", \"\\u043e\\u043f\\u043b\\u0430\\u0442\\u0430\", \"\\u043e\\u043f\\u043b\\u0430\\u0442\\u0430\", \"\\u043e\\u043f\\u043b\\u0430\\u0442\\u0430\", \"\\u043e\\u043f\\u043b\\u0430\\u0442\\u0438\\u0442\\u044c\", \"\\u043e\\u043f\\u043b\\u0430\\u0442\\u0438\\u0442\\u044c\", \"\\u043e\\u043f\\u043b\\u0430\\u0442\\u0438\\u0442\\u044c\", \"\\u043e\\u043f\\u043b\\u0430\\u0442\\u0438\\u0442\\u044c\", \"\\u043e\\u043f\\u043b\\u0430\\u0442\\u0438\\u0442\\u044c\", \"\\u043e\\u043f\\u043b\\u0430\\u0442\\u0438\\u0442\\u044c\", \"\\u043e\\u0440\\u0433\\u0430\\u043d\", \"\\u043e\\u0440\\u0433\\u0430\\u043d\", \"\\u043e\\u0440\\u0433\\u0430\\u043d\", \"\\u043e\\u0440\\u0433\\u0430\\u043d\", \"\\u043e\\u0440\\u0433\\u0430\\u043d\\u0438\\u0437\\u0430\\u0442\\u043e\\u0440\", \"\\u043e\\u0440\\u0433\\u0430\\u043d\\u0438\\u0437\\u0430\\u0446\\u0438\\u044f\", \"\\u043e\\u0440\\u0433\\u0430\\u043d\\u0438\\u0437\\u0430\\u0446\\u0438\\u044f\", \"\\u043e\\u0440\\u0433\\u0430\\u043d\\u0438\\u0437\\u0430\\u0446\\u0438\\u044f\", \"\\u043e\\u0440\\u0433\\u0430\\u043d\\u0438\\u0437\\u0430\\u0446\\u0438\\u044f\", \"\\u043e\\u0440\\u0433\\u0430\\u043d\\u0438\\u0437\\u0430\\u0446\\u0438\\u044f\", \"\\u043e\\u0440\\u0433\\u0430\\u043d\\u0438\\u0437\\u0430\\u0446\\u0438\\u044f\", \"\\u043e\\u0440\\u0433\\u0430\\u043d\\u0438\\u0437\\u0430\\u0446\\u0438\\u044f\", \"\\u043e\\u0440\\u0433\\u0430\\u043d\\u0438\\u0437\\u0430\\u0446\\u0438\\u044f\", \"\\u043e\\u0440\\u0433\\u0430\\u043d\\u0438\\u0437\\u0430\\u0446\\u0438\\u044f\", \"\\u043e\\u0440\\u0438\\u0433\\u0438\\u043d\\u0430\\u043b\\u044c\\u043d\\u044b\\u0439\", \"\\u043e\\u0441\\u0442\\u0430\\u043d\\u043e\\u0432\\u0438\\u0442\\u044c\\u0441\\u044f\", \"\\u043e\\u0441\\u0443\\u0449\\u0435\\u0441\\u0442\\u0432\\u043b\\u044f\\u0442\\u044c\", \"\\u043e\\u0441\\u0443\\u0449\\u0435\\u0441\\u0442\\u0432\\u043b\\u044f\\u0442\\u044c\", \"\\u043e\\u0441\\u0443\\u0449\\u0435\\u0441\\u0442\\u0432\\u043b\\u044f\\u0442\\u044c\", \"\\u043e\\u0441\\u0443\\u0449\\u0435\\u0441\\u0442\\u0432\\u043b\\u044f\\u0442\\u044c\", \"\\u043e\\u0441\\u0443\\u0449\\u0435\\u0441\\u0442\\u0432\\u043b\\u044f\\u0442\\u044c\", \"\\u043e\\u0442\\u0432\\u0435\\u0442\", \"\\u043e\\u0442\\u0432\\u0435\\u0442\", \"\\u043e\\u0442\\u0432\\u0435\\u0442\", \"\\u043e\\u0442\\u0432\\u0435\\u0442\", \"\\u043e\\u0442\\u0432\\u0435\\u0442\", \"\\u043e\\u0442\\u0432\\u0435\\u0442\", \"\\u043e\\u0442\\u0432\\u0435\\u0442\", \"\\u043e\\u0442\\u0432\\u0435\\u0442\", \"\\u043e\\u0442\\u0432\\u0435\\u0442\", \"\\u043e\\u0442\\u0432\\u0435\\u0442\\u0438\\u0442\\u044c\", \"\\u043e\\u0442\\u0432\\u0435\\u0442\\u0438\\u0442\\u044c\", \"\\u043e\\u0442\\u0432\\u0435\\u0442\\u0438\\u0442\\u044c\", \"\\u043e\\u0442\\u0432\\u0435\\u0442\\u0438\\u0442\\u044c\", \"\\u043e\\u0442\\u0432\\u0435\\u0442\\u0438\\u0442\\u044c\", \"\\u043e\\u0442\\u0432\\u0435\\u0442\\u0438\\u0442\\u044c\", \"\\u043e\\u0442\\u0432\\u0435\\u0442\\u0438\\u0442\\u044c\", \"\\u043e\\u0442\\u0434\\u0435\\u043b\\u0435\\u043d\\u0438\\u0435\", \"\\u043e\\u0442\\u0434\\u0435\\u043b\\u0435\\u043d\\u0438\\u0435\", \"\\u043e\\u0442\\u0434\\u0435\\u043b\\u0435\\u043d\\u0438\\u0435\", \"\\u043e\\u0442\\u0434\\u0435\\u043b\\u044c\\u043d\\u043e\\u0441\\u0442\\u044c\", \"\\u043e\\u0442\\u0435\\u043b\\u044c\", \"\\u043e\\u0442\\u043a\\u0430\\u0437\", \"\\u043e\\u0442\\u043a\\u0430\\u0437\", \"\\u043e\\u0442\\u043a\\u0430\\u0437\", \"\\u043e\\u0442\\u043a\\u0430\\u0437\", \"\\u043e\\u0442\\u043a\\u0430\\u0437\", \"\\u043e\\u0442\\u043a\\u0430\\u0437\", \"\\u043e\\u0442\\u043a\\u0430\\u0437\", \"\\u043e\\u0442\\u043a\\u0430\\u0437\", \"\\u043e\\u0442\\u043a\\u0430\\u0437\\u0430\\u0442\\u044c\", \"\\u043e\\u0442\\u043a\\u0430\\u0437\\u0430\\u0442\\u044c\", \"\\u043e\\u0442\\u043a\\u0430\\u0437\\u0430\\u0442\\u044c\", \"\\u043e\\u0442\\u043a\\u0430\\u0437\\u0430\\u0442\\u044c\", \"\\u043e\\u0442\\u043a\\u0430\\u0437\\u0430\\u0442\\u044c\", \"\\u043e\\u0442\\u043a\\u0430\\u0437\\u0430\\u0442\\u044c\", \"\\u043e\\u0442\\u043a\\u0430\\u0437\\u0430\\u0442\\u044c\", \"\\u043e\\u0442\\u043a\\u0430\\u0437\\u0430\\u0442\\u044c\", \"\\u043e\\u0442\\u043a\\u0430\\u0437\\u0430\\u0442\\u044c\\u0441\\u044f\", \"\\u043e\\u0442\\u043a\\u0430\\u0437\\u0430\\u0442\\u044c\\u0441\\u044f\", \"\\u043e\\u0442\\u043a\\u0430\\u0437\\u0430\\u0442\\u044c\\u0441\\u044f\", \"\\u043e\\u0442\\u043a\\u0430\\u0437\\u0430\\u0442\\u044c\\u0441\\u044f\", \"\\u043e\\u0442\\u043a\\u0430\\u0437\\u0430\\u0442\\u044c\\u0441\\u044f\", \"\\u043e\\u0442\\u043a\\u0430\\u0437\\u0430\\u0442\\u044c\\u0441\\u044f\", \"\\u043e\\u0442\\u043a\\u0430\\u0437\\u0430\\u0442\\u044c\\u0441\\u044f\", \"\\u043e\\u0442\\u043a\\u0430\\u0437\\u0430\\u0442\\u044c\\u0441\\u044f\", \"\\u043e\\u0442\\u043a\\u0430\\u0437\\u0430\\u0442\\u044c\\u0441\\u044f\", \"\\u043e\\u0442\\u043c\\u0435\\u043d\\u0430\", \"\\u043e\\u0442\\u043c\\u0435\\u043d\\u0430\", \"\\u043e\\u0442\\u043c\\u0435\\u043d\\u0430\", \"\\u043e\\u0442\\u043c\\u0435\\u043d\\u0438\\u0442\\u044c\", \"\\u043e\\u0442\\u043c\\u0435\\u043d\\u0438\\u0442\\u044c\", \"\\u043e\\u0442\\u043c\\u0435\\u043d\\u0438\\u0442\\u044c\", \"\\u043e\\u0442\\u043c\\u0435\\u043d\\u0438\\u0442\\u044c\", \"\\u043e\\u0442\\u043c\\u0435\\u043d\\u0438\\u0442\\u044c\", \"\\u043e\\u0442\\u043e\\u043f\\u043b\\u0435\\u043d\\u0438\\u0435\", \"\\u043e\\u0442\\u043f\\u0440\\u0430\\u0432\\u0438\\u0442\\u044c\", \"\\u043e\\u0442\\u043f\\u0440\\u0430\\u0432\\u0438\\u0442\\u044c\", \"\\u043e\\u0442\\u043f\\u0440\\u0430\\u0432\\u0438\\u0442\\u044c\", \"\\u043e\\u0442\\u043f\\u0440\\u0430\\u0432\\u0438\\u0442\\u044c\", \"\\u043e\\u0442\\u043f\\u0443\\u0441\\u043a\\u0430\\u0442\\u044c\", \"\\u043e\\u0442\\u0440\\u0430\\u0432\\u043b\\u0435\\u043d\\u0438\\u0435\", \"\\u043e\\u0442\\u0440\\u0435\\u043c\\u043e\\u043d\\u0442\\u0438\\u0440\\u043e\\u0432\\u0430\\u0442\\u044c\", \"\\u043e\\u0442\\u0445\\u043e\\u0434\", \"\\u043e\\u0444\\u0438\\u0446\\u0438\\u0430\\u043b\\u044c\\u043d\\u044b\\u0439\", \"\\u043e\\u0444\\u0438\\u0446\\u0438\\u0430\\u043b\\u044c\\u043d\\u044b\\u0439\", \"\\u043e\\u0444\\u0438\\u0446\\u0438\\u0430\\u043b\\u044c\\u043d\\u044b\\u0439\", \"\\u043e\\u0444\\u0438\\u0446\\u0438\\u0430\\u043b\\u044c\\u043d\\u044b\\u0439\", \"\\u043e\\u0444\\u0438\\u0446\\u0438\\u0430\\u043b\\u044c\\u043d\\u044b\\u0439\", \"\\u043e\\u0444\\u0438\\u0446\\u0438\\u0430\\u043b\\u044c\\u043d\\u044b\\u0439\", \"\\u043e\\u0444\\u0438\\u0446\\u0438\\u0430\\u043b\\u044c\\u043d\\u044b\\u0439\", \"\\u043e\\u0444\\u0438\\u0446\\u0438\\u0430\\u043b\\u044c\\u043d\\u044b\\u0439\", \"\\u043e\\u0444\\u043e\\u0440\\u043c\\u0438\\u0442\\u044c\", \"\\u043e\\u0444\\u043e\\u0440\\u043c\\u0438\\u0442\\u044c\", \"\\u043e\\u0444\\u043e\\u0440\\u043c\\u0438\\u0442\\u044c\", \"\\u043e\\u0444\\u043e\\u0440\\u043c\\u0438\\u0442\\u044c\", \"\\u043e\\u0444\\u043e\\u0440\\u043c\\u0438\\u0442\\u044c\", \"\\u043e\\u0444\\u043e\\u0440\\u043c\\u0438\\u0442\\u044c\", \"\\u043e\\u0445\\u0440\\u0430\\u043d\\u043d\\u0438\\u043a\", \"\\u043e\\u0445\\u0440\\u0430\\u043d\\u043d\\u0438\\u043a\", \"\\u043e\\u0447\\u0435\\u043d\\u044c\", \"\\u043e\\u0447\\u0435\\u043d\\u044c\", \"\\u043e\\u0447\\u0435\\u043d\\u044c\", \"\\u043e\\u0447\\u0435\\u043d\\u044c\", \"\\u043e\\u0447\\u0435\\u043d\\u044c\", \"\\u043e\\u0447\\u043d\\u044b\\u0439\", \"\\u043f\", \"\\u043f\", \"\\u043f\", \"\\u043f\", \"\\u043f\", \"\\u043f\", \"\\u043f\\u0430\\u0432\\u0438\\u043b\\u044c\\u043e\\u043d\", \"\\u043f\\u0430\\u043c\\u044f\\u0442\\u044c\", \"\\u043f\\u0430\\u043e\", \"\\u043f\\u0430\\u043e\", \"\\u043f\\u0430\\u0440\\u0438\\u043a\\u043c\\u0430\\u0445\\u0435\\u0440\\u0441\\u043a\\u0430\\u044f\", \"\\u043f\\u0430\\u0440\\u043a\", \"\\u043f\\u0430\\u0440\\u0442\\u043d\\u0451\\u0440\", \"\\u043f\\u0430\\u0441\\u043f\\u043e\\u0440\\u0442\", \"\\u043f\\u0430\\u0441\\u043f\\u043e\\u0440\\u0442\", \"\\u043f\\u0430\\u0441\\u0441\\u0430\\u0436\\u0438\\u0440\", \"\\u043f\\u0430\\u0446\\u0438\\u0435\\u043d\\u0442\", \"\\u043f\\u0430\\u0447\\u043a\\u0430\", \"\\u043f\\u0435\\u0440\\u0432\\u043e\\u043c\\u0430\\u0439\\u0441\\u043a\\u0438\\u0439\", \"\\u043f\\u0435\\u0440\\u0435\\u0432\\u043e\\u0434\", \"\\u043f\\u0435\\u0440\\u0435\\u0432\\u043e\\u0434\", \"\\u043f\\u0435\\u0440\\u0435\\u0432\\u043e\\u0434\", \"\\u043f\\u0435\\u0440\\u0435\\u0432\\u043e\\u0437\\u043a\\u0430\", \"\\u043f\\u0435\\u0440\\u0435\\u0432\\u043e\\u0437\\u0447\\u0438\\u043a\", \"\\u043f\\u0435\\u0440\\u0435\\u043b\\u0451\\u0442\", \"\\u043f\\u0435\\u0440\\u0435\\u043d\\u0435\\u0441\\u0442\\u0438\", \"\\u043f\\u0435\\u0440\\u0435\\u043d\\u0435\\u0441\\u0442\\u0438\", \"\\u043f\\u0435\\u0440\\u0435\\u043d\\u0435\\u0441\\u0442\\u0438\", \"\\u043f\\u0435\\u0440\\u0435\\u043d\\u0435\\u0441\\u0442\\u0438\", \"\\u043f\\u0435\\u0440\\u0435\\u043d\\u0435\\u0441\\u0442\\u0438\", \"\\u043f\\u0435\\u0440\\u0435\\u043d\\u0435\\u0441\\u0442\\u0438\", \"\\u043f\\u0435\\u0440\\u0435\\u043d\\u043e\\u0441\", \"\\u043f\\u0435\\u0440\\u0435\\u043d\\u043e\\u0441\", \"\\u043f\\u0435\\u0440\\u0435\\u043d\\u043e\\u0441\", \"\\u043f\\u0435\\u0440\\u0435\\u043d\\u043e\\u0441\", \"\\u043f\\u0435\\u0440\\u0435\\u0441\\u044b\\u043b\\u043a\\u0430\", \"\\u043f\\u0435\\u0440\\u0447\\u0430\\u0442\\u043a\\u0430\", \"\\u043f\\u0435\\u0447\\u0430\\u0442\\u044c\", \"\\u043f\\u0435\\u0447\\u0430\\u0442\\u044c\", \"\\u043f\\u0438\\u0432\\u043e\", \"\\u043f\\u0438\\u0441\\u044c\\u043c\\u043e\", \"\\u043f\\u0438\\u0441\\u044c\\u043c\\u043e\", \"\\u043f\\u0438\\u0441\\u044c\\u043c\\u043e\", \"\\u043f\\u0438\\u0441\\u044c\\u043c\\u043e\", \"\\u043f\\u0438\\u0441\\u044c\\u043c\\u043e\", \"\\u043f\\u0438\\u0441\\u044c\\u043c\\u043e\", \"\\u043f\\u0438\\u0441\\u044c\\u043c\\u043e\", \"\\u043f\\u0438\\u0441\\u044c\\u043c\\u043e\", \"\\u043f\\u0438\\u0442\\u0430\\u043d\\u0438\\u0435\", \"\\u043f\\u0438\\u0442\\u0430\\u043d\\u0438\\u0435\", \"\\u043f\\u0438\\u0442\\u0430\\u043d\\u0438\\u0435\", \"\\u043f\\u0438\\u0446\\u0446\\u0430\", \"\\u043f\\u043b\\u0430\\u043d\\u0438\\u0440\\u043e\\u0432\\u0430\\u0442\\u044c\", \"\\u043f\\u043b\\u0430\\u043d\\u0438\\u0440\\u043e\\u0432\\u0430\\u0442\\u044c\", \"\\u043f\\u043b\\u0430\\u043d\\u0438\\u0440\\u043e\\u0432\\u0430\\u0442\\u044c\", \"\\u043f\\u043b\\u0430\\u043d\\u0438\\u0440\\u043e\\u0432\\u0430\\u0442\\u044c\", \"\\u043f\\u043b\\u0430\\u043d\\u0438\\u0440\\u043e\\u0432\\u0430\\u0442\\u044c\", \"\\u043f\\u043b\\u0430\\u043d\\u0438\\u0440\\u043e\\u0432\\u0430\\u0442\\u044c\", \"\\u043f\\u043b\\u0430\\u043d\\u0448\\u0435\\u0442\", \"\\u043f\\u043b\\u0430\\u0442\\u0430\", \"\\u043f\\u043b\\u0430\\u0442\\u0430\", \"\\u043f\\u043b\\u0430\\u0442\\u0430\", \"\\u043f\\u043b\\u0430\\u0442\\u0430\", \"\\u043f\\u043b\\u0430\\u0442\\u044c\\u0435\", \"\\u043f\\u043b\\u0430\\u0442\\u0451\\u0436\", \"\\u043f\\u043b\\u0430\\u0442\\u0451\\u0436\", \"\\u043f\\u043b\\u0430\\u0442\\u0451\\u0436\", \"\\u043f\\u043b\\u0430\\u0442\\u0451\\u0436\\u043d\\u044b\\u0439\", \"\\u043f\\u043b\\u0438\\u0442\\u0430\", \"\\u043f\\u043b\\u0438\\u0442\\u043a\\u0430\", \"\\u043f\\u043b\\u043e\\u0449\\u0430\\u0434\\u043a\\u0430\", \"\\u043f\\u043b\\u043e\\u0449\\u0430\\u0434\\u043a\\u0430\", \"\\u043f\\u043b\\u043e\\u0449\\u0430\\u0434\\u043a\\u0430\", \"\\u043f\\u043b\\u0451\\u043d\\u043a\\u0430\", \"\\u043f\\u043b\\u0451\\u043d\\u043a\\u0430\", \"\\u043f\\u043e\\u0432\\u0435\\u0440\\u043a\\u0430\", \"\\u043f\\u043e\\u0432\\u0440\\u0435\\u0436\\u0434\\u0435\\u043d\\u0438\\u0435\", \"\\u043f\\u043e\\u0432\\u0440\\u0435\\u0436\\u0434\\u0435\\u043d\\u0438\\u0435\", \"\\u043f\\u043e\\u0432\\u0440\\u0435\\u0436\\u0434\\u0435\\u043d\\u0438\\u0435\", \"\\u043f\\u043e\\u0433\\u0430\\u0441\\u0438\\u0442\\u044c\", \"\\u043f\\u043e\\u0433\\u0430\\u0448\\u0435\\u043d\\u0438\\u0435\", \"\\u043f\\u043e\\u0434\\u0430\\u0440\\u0438\\u0442\\u044c\", \"\\u043f\\u043e\\u0434\\u0430\\u0440\\u043e\\u0447\\u043d\\u044b\\u0439\", \"\\u043f\\u043e\\u0434\\u0432\\u0430\\u043b\", \"\\u043f\\u043e\\u0434\\u0434\\u0435\\u043b\\u044c\\u043d\\u044b\\u0439\", \"\\u043f\\u043e\\u0434\\u0434\\u0435\\u0440\\u0436\\u043a\\u0430\", \"\\u043f\\u043e\\u0434\\u0434\\u0435\\u0440\\u0436\\u043a\\u0430\", \"\\u043f\\u043e\\u0434\\u0434\\u0435\\u0440\\u0436\\u043a\\u0430\", \"\\u043f\\u043e\\u0434\\u043a\\u043b\\u044e\\u0447\\u0435\\u043d\\u0438\\u0435\", \"\\u043f\\u043e\\u0434\\u043a\\u043b\\u044e\\u0447\\u0435\\u043d\\u0438\\u0435\", \"\\u043f\\u043e\\u0434\\u043a\\u043b\\u044e\\u0447\\u0435\\u043d\\u0438\\u0435\", \"\\u043f\\u043e\\u0434\\u043a\\u043b\\u044e\\u0447\\u0438\\u0442\\u044c\", \"\\u043f\\u043e\\u0434\\u043a\\u043b\\u044e\\u0447\\u0438\\u0442\\u044c\", \"\\u043f\\u043e\\u0434\\u043a\\u043b\\u044e\\u0447\\u0438\\u0442\\u044c\", \"\\u043f\\u043e\\u0434\\u043b\\u0435\\u0436\\u0430\\u0449\\u0435\\u0435\", \"\\u043f\\u043e\\u0434\\u043e\\u0439\\u0442\\u0438\", \"\\u043f\\u043e\\u0434\\u043e\\u0439\\u0442\\u0438\", \"\\u043f\\u043e\\u0434\\u043e\\u0439\\u0442\\u0438\", \"\\u043f\\u043e\\u0434\\u043e\\u0448\\u0432\\u0430\", \"\\u043f\\u043e\\u0434\\u043f\\u0438\\u0441\\u043a\\u0430\", \"\\u043f\\u043e\\u0434\\u043f\\u0438\\u0441\\u044c\", \"\\u043f\\u043e\\u0434\\u043f\\u0438\\u0441\\u044c\", \"\\u043f\\u043e\\u0434\\u043f\\u0438\\u0441\\u044c\", \"\\u043f\\u043e\\u0434\\u043f\\u0443\\u043d\\u043a\\u0442\", \"\\u043f\\u043e\\u0434\\u0440\\u044f\\u0434\\u0447\\u0438\\u043a\", \"\\u043f\\u043e\\u0434\\u0441\\u043a\\u0430\\u0437\\u0430\\u0442\\u044c\", \"\\u043f\\u043e\\u0434\\u0441\\u043a\\u0430\\u0437\\u0430\\u0442\\u044c\", \"\\u043f\\u043e\\u0434\\u0441\\u043a\\u0430\\u0437\\u0430\\u0442\\u044c\", \"\\u043f\\u043e\\u0434\\u0441\\u043a\\u0430\\u0437\\u0430\\u0442\\u044c\", \"\\u043f\\u043e\\u0434\\u0441\\u043a\\u0430\\u0437\\u0430\\u0442\\u044c\", \"\\u043f\\u043e\\u0434\\u0441\\u043a\\u0430\\u0437\\u0430\\u0442\\u044c\", \"\\u043f\\u043e\\u0434\\u0441\\u043a\\u0430\\u0437\\u0430\\u0442\\u044c\", \"\\u043f\\u043e\\u0434\\u0441\\u043a\\u0430\\u0437\\u0430\\u0442\\u044c\", \"\\u043f\\u043e\\u0434\\u0442\\u0432\\u0435\\u0440\\u0434\\u0438\\u0442\\u044c\\u0441\\u044f\", \"\\u043f\\u043e\\u0434\\u044a\\u0435\\u0437\\u0434\", \"\\u043f\\u043e\\u0434\\u044a\\u0435\\u0445\\u0430\\u0442\\u044c\", \"\\u043f\\u043e\\u0435\\u0437\\u0434\\u043a\\u0430\", \"\\u043f\\u043e\\u0435\\u0437\\u0434\\u043a\\u0430\", \"\\u043f\\u043e\\u0435\\u0445\\u0430\\u0442\\u044c\", \"\\u043f\\u043e\\u0435\\u0445\\u0430\\u0442\\u044c\", \"\\u043f\\u043e\\u0436\\u0430\\u043b\\u0443\\u0439\\u0441\\u0442\\u0430\", \"\\u043f\\u043e\\u0436\\u0430\\u043b\\u0443\\u0439\\u0441\\u0442\\u0430\", \"\\u043f\\u043e\\u0436\\u0430\\u043b\\u0443\\u0439\\u0441\\u0442\\u0430\", \"\\u043f\\u043e\\u0436\\u0430\\u043b\\u0443\\u0439\\u0441\\u0442\\u0430\", \"\\u043f\\u043e\\u0436\\u0430\\u043b\\u0443\\u0439\\u0441\\u0442\\u0430\", \"\\u043f\\u043e\\u0436\\u0430\\u043b\\u0443\\u0439\\u0441\\u0442\\u0430\", \"\\u043f\\u043e\\u0436\\u0430\\u043b\\u0443\\u0439\\u0441\\u0442\\u0430\", \"\\u043f\\u043e\\u0436\\u0430\\u043b\\u0443\\u0439\\u0441\\u0442\\u0430\", \"\\u043f\\u043e\\u0436\\u0430\\u043b\\u0443\\u0439\\u0441\\u0442\\u0430\", \"\\u043f\\u043e\\u0437\\u0432\\u043e\\u043d\\u0438\\u0442\\u044c\", \"\\u043f\\u043e\\u0437\\u0432\\u043e\\u043d\\u0438\\u0442\\u044c\", \"\\u043f\\u043e\\u0437\\u0432\\u043e\\u043d\\u0438\\u0442\\u044c\", \"\\u043f\\u043e\\u0437\\u0432\\u043e\\u043d\\u0438\\u0442\\u044c\", \"\\u043f\\u043e\\u0437\\u0432\\u043e\\u043d\\u0438\\u0442\\u044c\", \"\\u043f\\u043e\\u043a\\u0430\\u0437\\u0430\\u043d\\u0438\\u0435\", \"\\u043f\\u043e\\u043a\\u0430\\u0437\\u0430\\u043d\\u0438\\u0435\", \"\\u043f\\u043e\\u043a\\u0430\\u0437\\u0430\\u0442\\u0435\\u043b\\u044c\", \"\\u043f\\u043e\\u043a\\u0440\\u044b\\u0442\\u044c\", \"\\u043f\\u043e\\u043a\\u0443\\u043f\\u0430\\u0442\\u0435\\u043b\\u044c\", \"\\u043f\\u043e\\u043a\\u0443\\u043f\\u0430\\u0442\\u0435\\u043b\\u044c\", \"\\u043f\\u043e\\u043a\\u0443\\u043f\\u0430\\u0442\\u0435\\u043b\\u044c\", \"\\u043f\\u043e\\u043a\\u0443\\u043f\\u0430\\u0442\\u0435\\u043b\\u044c\", \"\\u043f\\u043e\\u043a\\u0443\\u043f\\u043a\\u0430\", \"\\u043f\\u043e\\u043a\\u0443\\u043f\\u043a\\u0430\", \"\\u043f\\u043e\\u043a\\u0443\\u043f\\u043a\\u0430\", \"\\u043f\\u043e\\u043a\\u0443\\u043f\\u043a\\u0430\", \"\\u043f\\u043e\\u043a\\u0443\\u043f\\u043a\\u0430\", \"\\u043f\\u043e\\u043a\\u0443\\u043f\\u043a\\u0430\", \"\\u043f\\u043e\\u043b\\u0438\\u043a\\u043b\\u0438\\u043d\\u0438\\u043a\\u0430\", \"\\u043f\\u043e\\u043b\\u0438\\u043a\\u043b\\u0438\\u043d\\u0438\\u043a\\u0430\", \"\\u043f\\u043e\\u043b\\u0438\\u043a\\u043b\\u0438\\u043d\\u0438\\u043a\\u0430\", \"\\u043f\\u043e\\u043b\\u043a\\u0430\", \"\\u043f\\u043e\\u043b\\u043d\\u044b\\u0439\", \"\\u043f\\u043e\\u043b\\u043d\\u044b\\u0439\", \"\\u043f\\u043e\\u043b\\u043d\\u044b\\u0439\", \"\\u043f\\u043e\\u043b\\u043d\\u044b\\u0439\", \"\\u043f\\u043e\\u043b\\u043d\\u044b\\u0439\", \"\\u043f\\u043e\\u043b\\u043d\\u044b\\u0439\", \"\\u043f\\u043e\\u043b\\u043d\\u044b\\u0439\", \"\\u043f\\u043e\\u043b\\u043d\\u044b\\u0439\", \"\\u043f\\u043e\\u043b\\u043d\\u044b\\u0439\", \"\\u043f\\u043e\\u043b\\u043d\\u044b\\u0439\", \"\\u043f\\u043e\\u043b\\u043d\\u044b\\u0439\", \"\\u043f\\u043e\\u043b\\u043e\\u043c\\u043a\\u0430\", \"\\u043f\\u043e\\u043b\\u0443\\u0447\\u0438\\u0442\\u044c\", \"\\u043f\\u043e\\u043b\\u0443\\u0447\\u0438\\u0442\\u044c\", \"\\u043f\\u043e\\u043b\\u0443\\u0447\\u0438\\u0442\\u044c\", \"\\u043f\\u043e\\u043b\\u0443\\u0447\\u0438\\u0442\\u044c\", \"\\u043f\\u043e\\u043b\\u0443\\u0447\\u0438\\u0442\\u044c\", \"\\u043f\\u043e\\u043b\\u0443\\u0447\\u0438\\u0442\\u044c\", \"\\u043f\\u043e\\u043b\\u0443\\u0447\\u0438\\u0442\\u044c\", \"\\u043f\\u043e\\u043b\\u0443\\u0447\\u0438\\u0442\\u044c\", \"\\u043f\\u043e\\u043b\\u0451\\u0442\", \"\\u043f\\u043e\\u043c\\u0435\\u0449\\u0435\\u043d\\u0438\\u0435\", \"\\u043f\\u043e\\u043c\\u0435\\u0449\\u0435\\u043d\\u0438\\u0435\", \"\\u043f\\u043e\\u043c\\u0435\\u0449\\u0435\\u043d\\u0438\\u0435\", \"\\u043f\\u043e\\u043d\\u0435\\u0434\\u0435\\u043b\\u044c\\u043d\\u0438\\u043a\", \"\\u043f\\u043e\\u043d\\u044f\\u0442\\u043d\\u043e\", \"\\u043f\\u043e\\u043d\\u044f\\u0442\\u043d\\u043e\", \"\\u043f\\u043e\\u043d\\u044f\\u0442\\u043d\\u043e\", \"\\u043f\\u043e\\u043f\\u0430\\u0441\\u0442\\u044c\", \"\\u043f\\u043e\\u043f\\u0430\\u0441\\u0442\\u044c\", \"\\u043f\\u043e\\u043f\\u0430\\u0441\\u0442\\u044c\", \"\\u043f\\u043e\\u0440\\u0430\", \"\\u043f\\u043e\\u0440\\u0430\", \"\\u043f\\u043e\\u0440\\u0430\", \"\\u043f\\u043e\\u0440\\u0430\", \"\\u043f\\u043e\\u0440\\u0430\", \"\\u043f\\u043e\\u0440\\u0430\", \"\\u043f\\u043e\\u0440\\u0442\\u0430\\u043b\", \"\\u043f\\u043e\\u0441\\u0430\\u0434\\u0438\\u0442\\u044c\", \"\\u043f\\u043e\\u0441\\u0430\\u0434\\u043a\\u0430\", \"\\u043f\\u043e\\u0441\\u0435\\u0442\\u0438\\u0442\\u0435\\u043b\\u044c\", \"\\u043f\\u043e\\u0441\\u043e\\u0431\\u0438\\u0435\", \"\\u043f\\u043e\\u0441\\u0442\\u0430\\u043d\\u043e\\u0432\\u043b\\u0435\\u043d\\u0438\\u0435\", \"\\u043f\\u043e\\u0441\\u0442\\u0430\\u043d\\u043e\\u0432\\u043b\\u0435\\u043d\\u0438\\u0435\", \"\\u043f\\u043e\\u0441\\u0442\\u0430\\u043d\\u043e\\u0432\\u043b\\u0435\\u043d\\u0438\\u0435\", \"\\u043f\\u043e\\u0441\\u0442\\u0430\\u043d\\u043e\\u0432\\u043b\\u0435\\u043d\\u0438\\u0435\", \"\\u043f\\u043e\\u0441\\u0443\\u0434\\u0430\", \"\\u043f\\u043e\\u0441\\u044b\\u043b\\u043a\\u0430\", \"\\u043f\\u043e\\u0441\\u044b\\u043b\\u043a\\u0430\", \"\\u043f\\u043e\\u0442\\u0440\\u0435\\u0431\\u0438\\u0442\\u0435\\u043b\\u0435\\u0439\\\"\", \"\\u043f\\u043e\\u0442\\u0440\\u0435\\u0431\\u0438\\u0442\\u0435\\u043b\\u044c\", \"\\u043f\\u043e\\u0442\\u0440\\u0435\\u0431\\u0438\\u0442\\u0435\\u043b\\u044c\", \"\\u043f\\u043e\\u0442\\u0440\\u0435\\u0431\\u0438\\u0442\\u0435\\u043b\\u044c\", \"\\u043f\\u043e\\u0447\\u0435\\u043c\\u0443\", \"\\u043f\\u043e\\u0447\\u0435\\u043c\\u0443\", \"\\u043f\\u043e\\u0447\\u0435\\u043c\\u0443\", \"\\u043f\\u043e\\u0447\\u0435\\u043c\\u0443\", \"\\u043f\\u043e\\u0447\\u0435\\u043c\\u0443\", \"\\u043f\\u043e\\u0447\\u0435\\u043c\\u0443\", \"\\u043f\\u043e\\u0447\\u0442\\u0430\", \"\\u043f\\u043e\\u0447\\u0442\\u0430\", \"\\u043f\\u043e\\u0447\\u0442\\u0430\", \"\\u043f\\u043e\\u0447\\u0442\\u0430\", \"\\u043f\\u043e\\u0447\\u0442\\u043e\\u0432\\u044b\\u0439\", \"\\u043f\\u0440\\u0430\\u0432\\u043e\", \"\\u043f\\u0440\\u0430\\u0432\\u043e\", \"\\u043f\\u0440\\u0430\\u0432\\u043e\", \"\\u043f\\u0440\\u0430\\u0432\\u043e\", \"\\u043f\\u0440\\u0430\\u0432\\u043e\", \"\\u043f\\u0440\\u0430\\u0432\\u043e\", \"\\u043f\\u0440\\u0430\\u0432\\u043e\", \"\\u043f\\u0440\\u0430\\u0432\\u043e\", \"\\u043f\\u0440\\u0430\\u0432\\u043e\", \"\\u043f\\u0440\\u0430\\u0432\\u043e\\u0432\\u043e\\u0439\", \"\\u043f\\u0440\\u0430\\u0432\\u043e\\u0432\\u043e\\u0439\", \"\\u043f\\u0440\\u0430\\u0432\\u043e\\u0432\\u043e\\u0439\", \"\\u043f\\u0440\\u0435\\u0431\\u044b\\u0432\\u0430\\u043d\\u0438\\u0435\", \"\\u043f\\u0440\\u0435\\u0431\\u044b\\u0432\\u0430\\u043d\\u0438\\u0435\", \"\\u043f\\u0440\\u0435\\u0434\\u043e\\u0441\\u0442\\u0430\\u0432\\u0438\\u0442\\u044c\", \"\\u043f\\u0440\\u0435\\u0434\\u043e\\u0441\\u0442\\u0430\\u0432\\u0438\\u0442\\u044c\", \"\\u043f\\u0440\\u0435\\u0434\\u043e\\u0441\\u0442\\u0430\\u0432\\u0438\\u0442\\u044c\", \"\\u043f\\u0440\\u0435\\u0434\\u043e\\u0441\\u0442\\u0430\\u0432\\u0438\\u0442\\u044c\", \"\\u043f\\u0440\\u0435\\u0434\\u043e\\u0441\\u0442\\u0430\\u0432\\u0438\\u0442\\u044c\", \"\\u043f\\u0440\\u0435\\u0434\\u043e\\u0441\\u0442\\u0430\\u0432\\u0438\\u0442\\u044c\", \"\\u043f\\u0440\\u0435\\u0434\\u043e\\u0441\\u0442\\u0430\\u0432\\u0438\\u0442\\u044c\", \"\\u043f\\u0440\\u0435\\u0434\\u043e\\u0441\\u0442\\u0430\\u0432\\u0438\\u0442\\u044c\", \"\\u043f\\u0440\\u0435\\u0434\\u043f\\u0438\\u0441\\u0430\\u043d\\u0438\\u0435\", \"\\u043f\\u0440\\u0435\\u0434\\u043f\\u043e\\u0447\\u0442\\u0435\\u043d\\u0438\\u0435\", \"\\u043f\\u0440\\u0435\\u0434\\u043f\\u0440\\u0438\\u043d\\u0438\\u043c\\u0430\\u0442\\u0435\\u043b\\u044c\", \"\\u043f\\u0440\\u0435\\u0434\\u043f\\u0440\\u0438\\u043d\\u0438\\u043c\\u0430\\u0442\\u0435\\u043b\\u044c\\u0441\\u043a\\u0438\\u0439\", \"\\u043f\\u0440\\u0435\\u0434\\u0443\\u0441\\u043c\\u043e\\u0442\\u0440\\u0435\\u043d\\u043d\\u044b\\u0439\", \"\\u043f\\u0440\\u0435\\u043e\\u0431\\u0440\\u0435\\u0441\\u0442\\u0438\", \"\\u043f\\u0440\\u0435\\u043f\\u0430\\u0440\\u0430\\u0442\", \"\\u043f\\u0440\\u0435\\u043f\\u0430\\u0440\\u0430\\u0442\", \"\\u043f\\u0440\\u0435\\u043f\\u044f\\u0442\\u0441\\u0442\\u0432\\u0438\\u0435\", \"\\u043f\\u0440\\u0435\\u0442\\u0435\\u043d\\u0437\\u0438\\u043e\\u043d\\u043d\\u044b\\u0439\", \"\\u043f\\u0440\\u0435\\u0442\\u0435\\u043d\\u0437\\u0438\\u044f\", \"\\u043f\\u0440\\u0435\\u0442\\u0435\\u043d\\u0437\\u0438\\u044f\", \"\\u043f\\u0440\\u0435\\u0442\\u0435\\u043d\\u0437\\u0438\\u044f\", \"\\u043f\\u0440\\u0435\\u0442\\u0435\\u043d\\u0437\\u0438\\u044f\", \"\\u043f\\u0440\\u0435\\u0442\\u0435\\u043d\\u0437\\u0438\\u044f\", \"\\u043f\\u0440\\u0438\\u0431\\u044b\\u0442\\u0438\\u0435\", \"\\u043f\\u0440\\u0438\\u0431\\u044b\\u0442\\u0438\\u0435\", \"\\u043f\\u0440\\u0438\\u0432\\u0438\\u0432\\u043a\\u0430\", \"\\u043f\\u0440\\u0438\\u0432\\u044f\\u0437\\u0430\\u0442\\u044c\", \"\\u043f\\u0440\\u0438\\u0435\\u0445\\u0430\\u0442\\u044c\", \"\\u043f\\u0440\\u0438\\u0435\\u0445\\u0430\\u0442\\u044c\", \"\\u043f\\u0440\\u0438\\u0435\\u0445\\u0430\\u0442\\u044c\", \"\\u043f\\u0440\\u0438\\u0435\\u0445\\u0430\\u0442\\u044c\", \"\\u043f\\u0440\\u0438\\u0435\\u0445\\u0430\\u0442\\u044c\", \"\\u043f\\u0440\\u0438\\u0435\\u0445\\u0430\\u0442\\u044c\", \"\\u043f\\u0440\\u0438\\u0437\\u043d\\u0430\\u0432\\u0430\\u0442\\u044c\\u0441\\u044f\", \"\\u043f\\u0440\\u0438\\u0437\\u043d\\u0430\\u0432\\u0430\\u0442\\u044c\\u0441\\u044f\", \"\\u043f\\u0440\\u0438\\u0439\\u0442\\u0438\", \"\\u043f\\u0440\\u0438\\u0439\\u0442\\u0438\", \"\\u043f\\u0440\\u0438\\u0439\\u0442\\u0438\", \"\\u043f\\u0440\\u0438\\u0439\\u0442\\u0438\", \"\\u043f\\u0440\\u0438\\u0439\\u0442\\u0438\", \"\\u043f\\u0440\\u0438\\u043b\\u0430\\u0432\\u043e\\u043a\", \"\\u043f\\u0440\\u0438\\u043b\\u0435\\u0442\\u0435\\u0442\\u044c\", \"\\u043f\\u0440\\u0438\\u043b\\u043e\\u0436\\u0435\\u043d\\u0438\\u0435\", \"\\u043f\\u0440\\u0438\\u043b\\u043e\\u0436\\u0435\\u043d\\u0438\\u0435\", \"\\u043f\\u0440\\u0438\\u043b\\u043e\\u0436\\u0435\\u043d\\u0438\\u0435\", \"\\u043f\\u0440\\u0438\\u043b\\u043e\\u0436\\u0435\\u043d\\u0438\\u0435\", \"\\u043f\\u0440\\u0438\\u043b\\u043e\\u0436\\u0435\\u043d\\u0438\\u0435\", \"\\u043f\\u0440\\u0438\\u043b\\u043e\\u0436\\u0435\\u043d\\u0438\\u0435\", \"\\u043f\\u0440\\u0438\\u043b\\u043e\\u0436\\u0435\\u043d\\u0438\\u0435\", \"\\u043f\\u0440\\u0438\\u043b\\u043e\\u0436\\u0435\\u043d\\u0438\\u0435\", \"\\u043f\\u0440\\u0438\\u043b\\u043e\\u0436\\u0435\\u043d\\u0438\\u0435\", \"\\u043f\\u0440\\u0438\\u043b\\u0451\\u0442\", \"\\u043f\\u0440\\u0438\\u043c\\u0435\\u0440\\u043a\\u0430\", \"\\u043f\\u0440\\u0438\\u043d\\u044f\\u0442\\u044c\", \"\\u043f\\u0440\\u0438\\u043d\\u044f\\u0442\\u044c\", \"\\u043f\\u0440\\u0438\\u043d\\u044f\\u0442\\u044c\", \"\\u043f\\u0440\\u0438\\u043d\\u044f\\u0442\\u044c\", \"\\u043f\\u0440\\u0438\\u043d\\u044f\\u0442\\u044c\", \"\\u043f\\u0440\\u0438\\u043d\\u044f\\u0442\\u044c\", \"\\u043f\\u0440\\u0438\\u043d\\u044f\\u0442\\u044c\", \"\\u043f\\u0440\\u0438\\u043d\\u044f\\u0442\\u044c\", \"\\u043f\\u0440\\u0438\\u043d\\u044f\\u0442\\u044c\", \"\\u043f\\u0440\\u0438\\u043d\\u044f\\u0442\\u044c\", \"\\u043f\\u0440\\u0438\\u043d\\u044f\\u0442\\u044c\", \"\\u043f\\u0440\\u0438\\u043e\\u0431\\u0440\\u0435\\u0441\\u0442\\u0438\", \"\\u043f\\u0440\\u0438\\u043e\\u0431\\u0440\\u0435\\u0441\\u0442\\u0438\", \"\\u043f\\u0440\\u0438\\u043e\\u0431\\u0440\\u0435\\u0441\\u0442\\u0438\", \"\\u043f\\u0440\\u0438\\u043e\\u0431\\u0440\\u0435\\u0441\\u0442\\u0438\", \"\\u043f\\u0440\\u0438\\u043e\\u0431\\u0440\\u0435\\u0441\\u0442\\u0438\", \"\\u043f\\u0440\\u0438\\u043e\\u0431\\u0440\\u0435\\u0441\\u0442\\u0438\", \"\\u043f\\u0440\\u0438\\u043e\\u0431\\u0440\\u0435\\u0442\\u0435\\u043d\\u0438\\u0435\", \"\\u043f\\u0440\\u0438\\u043e\\u0431\\u0440\\u0435\\u0442\\u0435\\u043d\\u0438\\u0435\", \"\\u043f\\u0440\\u0438\\u043e\\u0431\\u0440\\u0435\\u0442\\u0435\\u043d\\u0438\\u0435\", \"\\u043f\\u0440\\u043e\\u0431\\u0438\\u0442\\u044c\", \"\\u043f\\u0440\\u043e\\u0432\\u0430\\u0439\\u0434\\u0435\\u0440\", \"\\u043f\\u0440\\u043e\\u0432\\u0435\\u0440\\u0438\\u0442\\u044c\", \"\\u043f\\u0440\\u043e\\u0432\\u0435\\u0440\\u0438\\u0442\\u044c\", \"\\u043f\\u0440\\u043e\\u0432\\u0435\\u0440\\u0438\\u0442\\u044c\", \"\\u043f\\u0440\\u043e\\u0432\\u0435\\u0440\\u0438\\u0442\\u044c\", \"\\u043f\\u0440\\u043e\\u0432\\u0435\\u0440\\u0438\\u0442\\u044c\", \"\\u043f\\u0440\\u043e\\u0432\\u0435\\u0440\\u0438\\u0442\\u044c\", \"\\u043f\\u0440\\u043e\\u0432\\u0435\\u0440\\u0438\\u0442\\u044c\", \"\\u043f\\u0440\\u043e\\u0432\\u0435\\u0440\\u0438\\u0442\\u044c\", \"\\u043f\\u0440\\u043e\\u0432\\u0435\\u0440\\u043a\\u0430\", \"\\u043f\\u0440\\u043e\\u0432\\u0435\\u0440\\u043a\\u0430\", \"\\u043f\\u0440\\u043e\\u0432\\u0435\\u0440\\u043a\\u0430\", \"\\u043f\\u0440\\u043e\\u0432\\u0435\\u0440\\u043a\\u0430\", \"\\u043f\\u0440\\u043e\\u0432\\u0435\\u0440\\u043a\\u0430\", \"\\u043f\\u0440\\u043e\\u0432\\u0435\\u0440\\u043a\\u0430\", \"\\u043f\\u0440\\u043e\\u0432\\u0435\\u0440\\u043a\\u0430\", \"\\u043f\\u0440\\u043e\\u0432\\u0435\\u0440\\u043a\\u0430\", \"\\u043f\\u0440\\u043e\\u0432\\u0435\\u0441\\u0442\\u0438\", \"\\u043f\\u0440\\u043e\\u0432\\u0435\\u0441\\u0442\\u0438\", \"\\u043f\\u0440\\u043e\\u0432\\u0435\\u0441\\u0442\\u0438\", \"\\u043f\\u0440\\u043e\\u0432\\u0435\\u0441\\u0442\\u0438\", \"\\u043f\\u0440\\u043e\\u0432\\u0435\\u0441\\u0442\\u0438\", \"\\u043f\\u0440\\u043e\\u0432\\u0435\\u0441\\u0442\\u0438\", \"\\u043f\\u0440\\u043e\\u0432\\u0435\\u0441\\u0442\\u0438\", \"\\u043f\\u0440\\u043e\\u0432\\u0435\\u0441\\u0442\\u0438\", \"\\u043f\\u0440\\u043e\\u0432\\u0435\\u0441\\u0442\\u0438\", \"\\u043f\\u0440\\u043e\\u0434\\u0430\\u0432\\u0430\\u0442\\u044c\", \"\\u043f\\u0440\\u043e\\u0434\\u0430\\u0432\\u0430\\u0442\\u044c\", \"\\u043f\\u0440\\u043e\\u0434\\u0430\\u0432\\u0430\\u0442\\u044c\", \"\\u043f\\u0440\\u043e\\u0434\\u0430\\u0432\\u0430\\u0442\\u044c\", \"\\u043f\\u0440\\u043e\\u0434\\u0430\\u0432\\u0430\\u0442\\u044c\", \"\\u043f\\u0440\\u043e\\u0434\\u0430\\u0432\\u0435\\u0446\", \"\\u043f\\u0440\\u043e\\u0434\\u0430\\u0432\\u0435\\u0446\", \"\\u043f\\u0440\\u043e\\u0434\\u0430\\u0432\\u0435\\u0446\", \"\\u043f\\u0440\\u043e\\u0434\\u0430\\u0432\\u0435\\u0446\", \"\\u043f\\u0440\\u043e\\u0434\\u0430\\u0436\\u0430\", \"\\u043f\\u0440\\u043e\\u0434\\u0430\\u0436\\u0430\", \"\\u043f\\u0440\\u043e\\u0434\\u0430\\u0436\\u0430\", \"\\u043f\\u0440\\u043e\\u0434\\u0430\\u0436\\u0430\", \"\\u043f\\u0440\\u043e\\u0434\\u0430\\u0436\\u0430\", \"\\u043f\\u0440\\u043e\\u0434\\u043e\\u0432\\u043e\\u043b\\u044c\\u0441\\u0442\\u0432\\u0435\\u043d\\u043d\\u044b\\u0439\", \"\\u043f\\u0440\\u043e\\u0434\\u0443\\u043a\\u0442\", \"\\u043f\\u0440\\u043e\\u0434\\u0443\\u043a\\u0442\", \"\\u043f\\u0440\\u043e\\u0434\\u0443\\u043a\\u0442\", \"\\u043f\\u0440\\u043e\\u0434\\u0443\\u043a\\u0442\\u043e\\u0432\\u044b\\u0439\", \"\\u043f\\u0440\\u043e\\u0434\\u0443\\u043a\\u0446\\u0438\\u044f\", \"\\u043f\\u0440\\u043e\\u0434\\u0443\\u043a\\u0446\\u0438\\u044f\", \"\\u043f\\u0440\\u043e\\u0436\\u0438\\u0432\\u0430\\u0442\\u044c\", \"\\u043f\\u0440\\u043e\\u0436\\u0438\\u0432\\u0430\\u0442\\u044c\", \"\\u043f\\u0440\\u043e\\u0436\\u0438\\u0432\\u0430\\u0442\\u044c\", \"\\u043f\\u0440\\u043e\\u0436\\u0438\\u0432\\u0430\\u0442\\u044c\", \"\\u043f\\u0440\\u043e\\u0436\\u0438\\u0432\\u0430\\u0442\\u044c\", \"\\u043f\\u0440\\u043e\\u0436\\u0438\\u0432\\u0430\\u0442\\u044c\", \"\\u043f\\u0440\\u043e\\u043c\\u043e\\u043a\\u043e\\u0434\", \"\\u043f\\u0440\\u043e\\u043f\\u0443\\u0441\\u043a\", \"\\u043f\\u0440\\u043e\\u0441\\u0438\\u0442\\u044c\", \"\\u043f\\u0440\\u043e\\u0441\\u0438\\u0442\\u044c\", \"\\u043f\\u0440\\u043e\\u0441\\u0438\\u0442\\u044c\", \"\\u043f\\u0440\\u043e\\u0441\\u0438\\u0442\\u044c\", \"\\u043f\\u0440\\u043e\\u0441\\u0438\\u0442\\u044c\", \"\\u043f\\u0440\\u043e\\u0441\\u0438\\u0442\\u044c\", \"\\u043f\\u0440\\u043e\\u0441\\u0438\\u0442\\u044c\", \"\\u043f\\u0440\\u043e\\u0441\\u0438\\u0442\\u044c\", \"\\u043f\\u0440\\u043e\\u0441\\u0438\\u0442\\u044c\", \"\\u043f\\u0440\\u043e\\u0441\\u0438\\u0442\\u044c\", \"\\u043f\\u0440\\u043e\\u0441\\u043f\\u0435\\u043a\\u0442\", \"\\u043f\\u0440\\u043e\\u0441\\u043f\\u0435\\u043a\\u0442\", \"\\u043f\\u0440\\u043e\\u0441\\u043f\\u0435\\u043a\\u0442\", \"\\u043f\\u0440\\u043e\\u0441\\u0442\\u043e\", \"\\u043f\\u0440\\u043e\\u0441\\u0442\\u043e\", \"\\u043f\\u0440\\u043e\\u0441\\u0442\\u043e\", \"\\u043f\\u0440\\u043e\\u0441\\u0442\\u043e\", \"\\u043f\\u0440\\u043e\\u0441\\u0442\\u043e\", \"\\u043f\\u0440\\u043e\\u0441\\u0442\\u043e\", \"\\u043f\\u0440\\u043e\\u0441\\u0442\\u043e\", \"\\u043f\\u0440\\u043e\\u0441\\u044c\\u0431\\u0430\", \"\\u043f\\u0440\\u043e\\u0441\\u044c\\u0431\\u0430\", \"\\u043f\\u0440\\u043e\\u0441\\u044c\\u0431\\u0430\", \"\\u043f\\u0440\\u043e\\u0441\\u044c\\u0431\\u0430\", \"\\u043f\\u0440\\u043e\\u0441\\u044c\\u0431\\u0430\", \"\\u043f\\u0440\\u043e\\u0441\\u044c\\u0431\\u0430\", \"\\u043f\\u0440\\u043e\\u0441\\u044c\\u0431\\u0430\", \"\\u043f\\u0440\\u043e\\u0441\\u044c\\u0431\\u0430\", \"\\u043f\\u0440\\u043e\\u0441\\u044c\\u0431\\u0430\", \"\\u043f\\u0440\\u043e\\u0442\\u0438\\u0432\\u043e\\u0440\\u0435\\u0447\\u0438\\u0435\", \"\\u043f\\u0440\\u043e\\u0444\\u0438\\u043b\\u044c\", \"\\u043f\\u0440\\u043e\\u0444\\u0438\\u043b\\u044c\", \"\\u043f\\u0440\\u043e\\u0446\\u0435\\u043d\\u0442\", \"\\u043f\\u0440\\u043e\\u0446\\u0435\\u043d\\u0442\", \"\\u043f\\u0440\\u043e\\u0446\\u0435\\u043d\\u0442\", \"\\u043f\\u0442\\u0438\\u0446\\u0430\", \"\\u043f\\u0443\\u0431\\u043b\\u0438\\u0447\\u043d\\u044b\\u0439\", \"\\u043f\\u0443\\u0431\\u043b\\u0438\\u0447\\u043d\\u044b\\u0439\", \"\\u043f\\u0443\\u043d\\u043a\\u0442\", \"\\u043f\\u0443\\u043d\\u043a\\u0442\", \"\\u043f\\u0443\\u043d\\u043a\\u0442\", \"\\u043f\\u0443\\u043d\\u043a\\u0442\", \"\\u043f\\u0443\\u0442\\u0451\\u0432\\u043a\\u0430\", \"\\u043f\\u0446\\u0440\", \"\\u043f\\u0446\\u0440\\u0442\\u0435\\u0441\\u0442\", \"\\u043f\\u044b\\u043b\\u0435\\u0441\\u043e\\u0441\", \"\\u043f\\u044f\\u0442\\u043d\\u0438\\u0446\\u0430\", \"\\u043f\\u044f\\u0442\\u044c\\u0441\\u043e\\u0442\", \"\\u043f\\u044f\\u0442\\u0451\\u0440\\u043e\\u0447\\u043a\\u0430\", \"\\u043f\\u044f\\u0442\\u0451\\u0440\\u043e\\u0447\\u043a\\u0430\", \"\\u0440\", \"\\u0440\", \"\\u0440\", \"\\u0440\", \"\\u0440\", \"\\u0440\\u0430\\u0431\\u043e\\u0442\\u0430\", \"\\u0440\\u0430\\u0431\\u043e\\u0442\\u0430\", \"\\u0440\\u0430\\u0431\\u043e\\u0442\\u0430\", \"\\u0440\\u0430\\u0431\\u043e\\u0442\\u0430\", \"\\u0440\\u0430\\u0431\\u043e\\u0442\\u0430\", \"\\u0440\\u0430\\u0431\\u043e\\u0442\\u0430\", \"\\u0440\\u0430\\u0431\\u043e\\u0442\\u0430\", \"\\u0440\\u0430\\u0431\\u043e\\u0442\\u0430\", \"\\u0440\\u0430\\u0431\\u043e\\u0442\\u0430\\u0442\\u044c\", \"\\u0440\\u0430\\u0431\\u043e\\u0442\\u0430\\u0442\\u044c\", \"\\u0440\\u0430\\u0431\\u043e\\u0442\\u0430\\u0442\\u044c\", \"\\u0440\\u0430\\u0431\\u043e\\u0442\\u0430\\u0442\\u044c\", \"\\u0440\\u0430\\u0431\\u043e\\u0442\\u0430\\u0442\\u044c\", \"\\u0440\\u0430\\u0437\\u0432\\u043b\\u0435\\u043a\\u0430\\u0442\\u0435\\u043b\\u044c\\u043d\\u044b\\u0439\", \"\\u0440\\u0430\\u0437\\u043c\\u0435\\u0440\", \"\\u0440\\u0430\\u0437\\u043c\\u0435\\u0440\", \"\\u0440\\u0430\\u0437\\u043c\\u0435\\u0440\", \"\\u0440\\u0430\\u0437\\u043c\\u0435\\u0440\", \"\\u0440\\u0430\\u0437\\u043c\\u0435\\u0440\", \"\\u0440\\u0430\\u0437\\u043c\\u0435\\u0440\", \"\\u0440\\u0430\\u0437\\u043d\\u0438\\u0446\\u0430\", \"\\u0440\\u0430\\u0437\\u043d\\u0438\\u0446\\u0430\", \"\\u0440\\u0430\\u0437\\u043d\\u0438\\u0446\\u0430\", \"\\u0440\\u0430\\u0439\\u043e\\u043d\", \"\\u0440\\u0430\\u0439\\u043e\\u043d\", \"\\u0440\\u0430\\u0439\\u043e\\u043d\", \"\\u0440\\u0430\\u0439\\u043e\\u043d\", \"\\u0440\\u0430\\u0441\\u043f\\u043e\\u043b\\u043e\\u0436\\u0438\\u0442\\u044c\", \"\\u0440\\u0430\\u0441\\u043f\\u043e\\u043b\\u043e\\u0436\\u0438\\u0442\\u044c\", \"\\u0440\\u0430\\u0441\\u043f\\u043e\\u043b\\u043e\\u0436\\u0438\\u0442\\u044c\", \"\\u0440\\u0430\\u0441\\u043f\\u043e\\u043b\\u043e\\u0436\\u0438\\u0442\\u044c\", \"\\u0440\\u0430\\u0441\\u043f\\u0440\\u043e\\u0441\\u0442\\u0440\\u0430\\u043d\\u0435\\u043d\\u0438\\u0435\", \"\\u0440\\u0430\\u0441\\u0441\\u043a\\u0430\\u0437\\u0430\\u0442\\u044c\", \"\\u0440\\u0430\\u0441\\u0441\\u0440\\u043e\\u0447\\u043a\\u0430\", \"\\u0440\\u0430\\u0441\\u0441\\u0440\\u043e\\u0447\\u043a\\u0430\", \"\\u0440\\u0430\\u0441\\u0442\\u0435\\u043d\\u0438\\u0435\", \"\\u0440\\u0430\\u0441\\u0442\\u043e\\u0440\\u0433\\u043d\\u0443\\u0442\\u044c\", \"\\u0440\\u0430\\u0441\\u0442\\u043e\\u0440\\u0433\\u043d\\u0443\\u0442\\u044c\", \"\\u0440\\u0430\\u0441\\u0442\\u043e\\u0440\\u0433\\u043d\\u0443\\u0442\\u044c\", \"\\u0440\\u0430\\u0441\\u0447\\u0451\\u0442\\u043d\\u044b\\u0439\", \"\\u0440\\u0430\\u0441\\u0447\\u0451\\u0442\\u043d\\u044b\\u0439\", \"\\u0440\\u0435\\u0431\\u0451\\u043d\\u043e\\u043a\", \"\\u0440\\u0435\\u0431\\u0451\\u043d\\u043e\\u043a\", \"\\u0440\\u0435\\u0431\\u0451\\u043d\\u043e\\u043a\", \"\\u0440\\u0435\\u0431\\u0451\\u043d\\u043e\\u043a\", \"\\u0440\\u0435\\u0433\\u0438\\u0441\\u0442\\u0440\\u0430\\u0442\\u0443\\u0440\\u0430\", \"\\u0440\\u0435\\u0433\\u0438\\u0441\\u0442\\u0440\\u0430\\u0446\\u0438\\u043e\\u043d\\u043d\\u044b\\u0439\", \"\\u0440\\u0435\\u0433\\u0443\\u043b\\u0438\\u0440\\u043e\\u0432\\u0430\\u0442\\u044c\", \"\\u0440\\u0435\\u0436\\u0438\\u043c\", \"\\u0440\\u0435\\u0436\\u0438\\u043c\", \"\\u0440\\u0435\\u0436\\u0438\\u043c\", \"\\u0440\\u0435\\u0436\\u0438\\u043c\", \"\\u0440\\u0435\\u0436\\u0438\\u043c\", \"\\u0440\\u0435\\u0437\\u0443\\u043b\\u044c\\u0442\\u0430\\u0442\", \"\\u0440\\u0435\\u0437\\u0443\\u043b\\u044c\\u0442\\u0430\\u0442\", \"\\u0440\\u0435\\u0437\\u0443\\u043b\\u044c\\u0442\\u0430\\u0442\", \"\\u0440\\u0435\\u0437\\u0443\\u043b\\u044c\\u0442\\u0430\\u0442\", \"\\u0440\\u0435\\u0437\\u0443\\u043b\\u044c\\u0442\\u0430\\u0442\", \"\\u0440\\u0435\\u0437\\u0443\\u043b\\u044c\\u0442\\u0430\\u0442\", \"\\u0440\\u0435\\u0437\\u0443\\u043b\\u044c\\u0442\\u0430\\u0442\", \"\\u0440\\u0435\\u0437\\u0443\\u043b\\u044c\\u0442\\u0430\\u0442\", \"\\u0440\\u0435\\u0437\\u0443\\u043b\\u044c\\u0442\\u0430\\u0442\", \"\\u0440\\u0435\\u0437\\u0443\\u043b\\u044c\\u0442\\u0430\\u0442\", \"\\u0440\\u0435\\u0439\\u0441\", \"\\u0440\\u0435\\u043a\\u043b\\u0430\\u043c\\u0430\\u0446\\u0438\\u044f\", \"\\u0440\\u0435\\u043a\\u043e\\u043c\\u0435\\u043d\\u0434\\u0430\\u0442\\u0435\\u043b\\u044c\\u043d\\u044b\\u0439\", \"\\u0440\\u0435\\u043c\\u043e\\u043d\\u0442\", \"\\u0440\\u0435\\u043c\\u043e\\u043d\\u0442\", \"\\u0440\\u0435\\u0441\\u043f\\u0438\\u0440\\u0430\\u0442\\u043e\\u0440\", \"\\u0440\\u0435\\u0446\\u0435\\u043f\\u0442\", \"\\u0440\\u043d\\u0430\", \"\\u0440\\u043e\\u0434\\u0438\\u0442\\u0435\\u043b\\u044c\", \"\\u0440\\u043e\\u0437\\u043d\\u0438\\u0447\\u043d\\u044b\\u0439\", \"\\u0440\\u043e\\u0437\\u044b\\u0441\\u043a\", \"\\u0440\\u043e\\u043b\\u043b\", \"\\u0440\\u043e\\u0441\\u043f\\u043e\\u0442\\u0440\\u0435\\u0431\\u043d\\u0430\\u0434\\u0437\\u043e\\u0440\", \"\\u0440\\u043e\\u0441\\u043f\\u043e\\u0442\\u0440\\u0435\\u0431\\u043d\\u0430\\u0434\\u0437\\u043e\\u0440\", \"\\u0440\\u043e\\u0441\\u043f\\u043e\\u0442\\u0440\\u0435\\u0431\\u043d\\u0430\\u0434\\u0437\\u043e\\u0440\", \"\\u0440\\u043e\\u0441\\u043f\\u043e\\u0442\\u0440\\u0435\\u0431\\u043d\\u0430\\u0434\\u0437\\u043e\\u0440\", \"\\u0440\\u043e\\u0441\\u043f\\u043e\\u0442\\u0440\\u0435\\u0431\\u043d\\u0430\\u0434\\u0437\\u043e\\u0440\", \"\\u0440\\u043e\\u0441\\u043f\\u043e\\u0442\\u0440\\u0435\\u0431\\u043d\\u0430\\u0434\\u0437\\u043e\\u0440\", \"\\u0440\\u043e\\u0441\\u043f\\u043e\\u0442\\u0440\\u0435\\u0431\\u043d\\u0430\\u0434\\u0437\\u043e\\u0440\", \"\\u0440\\u043e\\u0441\\u0441\\u0438\\u0439\\u0441\\u043a\\u0438\\u0439\", \"\\u0440\\u043e\\u0441\\u0441\\u0438\\u0439\\u0441\\u043a\\u0438\\u0439\", \"\\u0440\\u043e\\u0441\\u0441\\u0438\\u0439\\u0441\\u043a\\u0438\\u0439\", \"\\u0440\\u043e\\u0441\\u0441\\u0438\\u044f\", \"\\u0440\\u043e\\u0441\\u0441\\u0438\\u044f\", \"\\u0440\\u043e\\u0441\\u0441\\u0438\\u044f\", \"\\u0440\\u043e\\u0441\\u0441\\u0438\\u044f\", \"\\u0440\\u043e\\u0441\\u0442\\u0435\\u043b\\u0435\\u043a\\u043e\\u043c\", \"\\u0440\\u043e\\u0443\\u0442\\u0435\\u0440\", \"\\u0440\\u0443\\u0431\", \"\\u0440\\u0443\\u0431\", \"\\u0440\\u0443\\u0431\", \"\\u0440\\u0443\\u0431\", \"\\u0440\\u0443\\u0431\", \"\\u0440\\u0443\\u0431\", \"\\u0440\\u0443\\u0431\\u043b\\u044c\", \"\\u0440\\u0443\\u0431\\u043b\\u044c\", \"\\u0440\\u0443\\u0431\\u043b\\u044c\", \"\\u0440\\u0443\\u0431\\u043b\\u044c\", \"\\u0440\\u0443\\u0431\\u043b\\u044c\", \"\\u0440\\u0443\\u0431\\u043b\\u044c\", \"\\u0440\\u0443\\u0441\\u0441\\u043a\\u0438\\u0439\", \"\\u0440\\u0444\", \"\\u0440\\u0444\", \"\\u0440\\u0444\", \"\\u0440\\u0444\", \"\\u0440\\u044b\\u0431\\u0430\", \"\\u0441\\u0430\\u0434\", \"\\u0441\\u0430\\u0439\\u0442\", \"\\u0441\\u0430\\u0439\\u0442\", \"\\u0441\\u0430\\u0439\\u0442\", \"\\u0441\\u0430\\u0439\\u0442\", \"\\u0441\\u0430\\u0439\\u0442\", \"\\u0441\\u0430\\u0439\\u0442\", \"\\u0441\\u0430\\u0439\\u0442\", \"\\u0441\\u0430\\u0439\\u0442\", \"\\u0441\\u0430\\u0439\\u0442\", \"\\u0441\\u0430\\u043b\\u043e\\u043d\", \"\\u0441\\u0430\\u043b\\u043e\\u043d\", \"\\u0441\\u0430\\u043b\\u043e\\u043d\", \"\\u0441\\u0430\\u043c\", \"\\u0441\\u0430\\u043c\", \"\\u0441\\u0430\\u043c\", \"\\u0441\\u0430\\u043c\", \"\\u0441\\u0430\\u043c\", \"\\u0441\\u0430\\u043c\", \"\\u0441\\u0430\\u043c\", \"\\u0441\\u0430\\u043c\", \"\\u0441\\u0430\\u043c\\u0430\\u0440\\u0430\", \"\\u0441\\u0430\\u043c\\u043e\\u0432\\u044b\\u0432\\u043e\\u0437\", \"\\u0441\\u0430\\u043c\\u043e\\u0438\\u0437\\u043e\\u043b\\u044f\\u0446\\u0438\\u044f\", \"\\u0441\\u0430\\u043d\", \"\\u0441\\u0430\\u043d\\u0430\\u0442\\u043e\\u0440\\u0438\\u0439\", \"\\u0441\\u0430\\u043d\\u043a\\u0442\", \"\\u0441\\u0430\\u043d\\u0442\\u0435\\u0445\\u043d\\u0438\\u043a\", \"\\u0441\\u0430\\u043f\\u043e\\u0433\", \"\\u0441\\u0430\\u0440\\u0430\\u0442\\u043e\\u0432\", \"\\u0441\\u0430\\u0440\\u0430\\u0442\\u043e\\u0432\", \"\\u0441\\u0431\\u0435\\u0440\\u0431\\u0430\\u043d\\u043a\", \"\\u0441\\u0431\\u0435\\u0440\\u043c\\u0435\\u0433\\u0430\\u043c\\u0430\\u0440\\u043a\\u0435\\u0442\", \"\\u0441\\u0431\\u043e\\u0440\\u0449\\u0438\\u043a\", \"\\u0441\\u0432\\u0435\\u0442\\u043b\\u0430\\u043d\\u0430\", \"\\u0441\\u0432\\u0435\\u0442\\u043b\\u0430\\u043d\\u0430\", \"\\u0441\\u0432\\u0438\\u0434\\u0435\\u0442\\u0435\\u043b\\u044c\\u0441\\u0442\\u0432\\u043e\", \"\\u0441\\u0432\\u043e\\u0439\", \"\\u0441\\u0432\\u043e\\u0439\", \"\\u0441\\u0432\\u043e\\u0439\", \"\\u0441\\u0432\\u043e\\u0439\", \"\\u0441\\u0432\\u043e\\u0439\", \"\\u0441\\u0432\\u043e\\u0439\", \"\\u0441\\u0432\\u043e\\u0439\", \"\\u0441\\u0432\\u043e\\u0439\", \"\\u0441\\u0432\\u043e\\u0439\", \"\\u0441\\u0432\\u043e\\u0439\", \"\\u0441\\u0432\\u043e\\u0439\", \"\\u0441\\u0432\\u043e\\u0439\\u0441\\u0442\\u0432\\u043e\", \"\\u0441\\u0432\\u044f\\u0437\\u0430\\u0442\\u044c\\u0441\\u044f\", \"\\u0441\\u0432\\u044f\\u0437\\u0430\\u0442\\u044c\\u0441\\u044f\", \"\\u0441\\u0432\\u044f\\u0437\\u0430\\u0442\\u044c\\u0441\\u044f\", \"\\u0441\\u0432\\u044f\\u0437\\u0430\\u0442\\u044c\\u0441\\u044f\", \"\\u0441\\u0432\\u044f\\u0437\\u043d\\u044b\\u0439\", \"\\u0441\\u0432\\u044f\\u0437\\u044c\", \"\\u0441\\u0432\\u044f\\u0437\\u044c\", \"\\u0441\\u0432\\u044f\\u0437\\u044c\", \"\\u0441\\u0432\\u044f\\u0437\\u044c\", \"\\u0441\\u0432\\u044f\\u0437\\u044c\", \"\\u0441\\u0432\\u044f\\u0437\\u044c\", \"\\u0441\\u0432\\u044f\\u0437\\u044c\", \"\\u0441\\u0432\\u044f\\u0437\\u044c\", \"\\u0441\\u0432\\u044f\\u0437\\u044c\", \"\\u0441\\u0432\\u044f\\u0437\\u044c\", \"\\u0441\\u0434\\u0430\\u0432\\u0430\\u0442\\u044c\", \"\\u0441\\u0434\\u0430\\u0442\\u044c\", \"\\u0441\\u0434\\u0430\\u0442\\u044c\", \"\\u0441\\u0434\\u0430\\u0442\\u044c\", \"\\u0441\\u0434\\u0430\\u0447\\u0430\", \"\\u0441\\u0434\\u0430\\u0447\\u0430\", \"\\u0441\\u0434\\u0430\\u0447\\u0430\", \"\\u0441\\u0434\\u0430\\u0447\\u0430\", \"\\u0441\\u0434\\u0430\\u0447\\u0430\", \"\\u0441\\u0434\\u0430\\u0447\\u0430\", \"\\u0441\\u0434\\u0435\\u043a\", \"\\u0441\\u0434\\u0435\\u043b\\u0430\\u0442\\u044c\", \"\\u0441\\u0434\\u0435\\u043b\\u0430\\u0442\\u044c\", \"\\u0441\\u0434\\u0435\\u043b\\u0430\\u0442\\u044c\", \"\\u0441\\u0434\\u0435\\u043b\\u0430\\u0442\\u044c\", \"\\u0441\\u0434\\u0435\\u043b\\u0430\\u0442\\u044c\", \"\\u0441\\u0434\\u0435\\u043b\\u0430\\u0442\\u044c\", \"\\u0441\\u0434\\u0435\\u043b\\u0430\\u0442\\u044c\", \"\\u0441\\u0434\\u0435\\u043b\\u0430\\u0442\\u044c\", \"\\u0441\\u0434\\u0435\\u043b\\u0430\\u0442\\u044c\", \"\\u0441\\u0434\\u044d\\u043a\", \"\\u0441\\u0435\\u0433\\u043e\\u0434\\u043d\\u044f\", \"\\u0441\\u0435\\u0433\\u043e\\u0434\\u043d\\u044f\", \"\\u0441\\u0435\\u0433\\u043e\\u0434\\u043d\\u044f\", \"\\u0441\\u0435\\u0433\\u043e\\u0434\\u043d\\u044f\", \"\\u0441\\u0435\\u0433\\u043e\\u0434\\u043d\\u044f\", \"\\u0441\\u0435\\u0439\", \"\\u0441\\u0435\\u0439\", \"\\u0441\\u0435\\u0439\", \"\\u0441\\u0435\\u0439\", \"\\u0441\\u0435\\u0439\", \"\\u0441\\u0435\\u0439\", \"\\u0441\\u0435\\u0440\\u0432\\u0438\\u0441\", \"\\u0441\\u0435\\u0440\\u0432\\u0438\\u0441\", \"\\u0441\\u0435\\u0440\\u0432\\u0438\\u0441\", \"\\u0441\\u0435\\u0440\\u0432\\u0438\\u0441\", \"\\u0441\\u0435\\u0440\\u0432\\u0438\\u0441\", \"\\u0441\\u0435\\u0440\\u0432\\u0438\\u0441\\u043d\\u044b\\u0439\", \"\\u0441\\u0435\\u0440\\u0433\\u0435\\u0435\\u0432\\u0438\\u0447\", \"\\u0441\\u0435\\u0440\\u0433\\u0435\\u0435\\u0432\\u0438\\u0447\", \"\\u0441\\u0435\\u0440\\u0433\\u0435\\u0435\\u0432\\u0438\\u0447\", \"\\u0441\\u0435\\u0440\\u0433\\u0435\\u0435\\u0432\\u0438\\u0447\", \"\\u0441\\u0435\\u0440\\u0442\\u0438\\u0444\\u0438\\u043a\\u0430\\u0442\", \"\\u0441\\u0435\\u0440\\u0442\\u0438\\u0444\\u0438\\u043a\\u0430\\u0442\", \"\\u0441\\u0435\\u0440\\u0442\\u0438\\u0444\\u0438\\u043a\\u0430\\u0442\", \"\\u0441\\u0435\\u0440\\u0442\\u0438\\u0444\\u0438\\u043a\\u0430\\u0442\", \"\\u0441\\u0435\\u0441\\u0442\\u0440\\u0430\", \"\\u0441\\u0438\\u0433\\u0430\\u0440\\u0435\\u0442\\u0430\", \"\\u0441\\u0438\\u0435\", \"\\u0441\\u0438\\u0437\\u044b\\u0439\", \"\\u0441\\u0438\\u043d\\u0438\\u0439\", \"\\u0441\\u0438\\u0442\\u0438\\u043c\\u043e\\u0431\\u0438\\u043b\\u0430\", \"\\u0441\\u0438\\u0442\\u0443\\u0430\\u0446\\u0438\\u044f\", \"\\u0441\\u0438\\u0442\\u0443\\u0430\\u0446\\u0438\\u044f\", \"\\u0441\\u0438\\u0442\\u0443\\u0430\\u0446\\u0438\\u044f\", \"\\u0441\\u0438\\u0442\\u0443\\u0430\\u0446\\u0438\\u044f\", \"\\u0441\\u0438\\u0442\\u0443\\u0430\\u0446\\u0438\\u044f\", \"\\u0441\\u0438\\u0442\\u0443\\u0430\\u0446\\u0438\\u044f\", \"\\u0441\\u0438\\u0442\\u0443\\u0430\\u0446\\u0438\\u044f\", \"\\u0441\\u0438\\u0442\\u0443\\u0430\\u0446\\u0438\\u044f\", \"\\u0441\\u0438\\u0442\\u0443\\u0430\\u0446\\u0438\\u044f\", \"\\u0441\\u0438\\u0442\\u0443\\u0430\\u0446\\u0438\\u044f\", \"\\u0441\\u0438\\u0442\\u0443\\u0430\\u0446\\u0438\\u044f\", \"\\u0441\\u043a\\u0430\\u0437\\u0430\\u0442\\u044c\", \"\\u0441\\u043a\\u0430\\u0437\\u0430\\u0442\\u044c\", \"\\u0441\\u043a\\u0430\\u0437\\u0430\\u0442\\u044c\", \"\\u0441\\u043a\\u0430\\u0437\\u0430\\u0442\\u044c\", \"\\u0441\\u043a\\u0430\\u0437\\u0430\\u0442\\u044c\", \"\\u0441\\u043a\\u0430\\u0437\\u0430\\u0442\\u044c\", \"\\u0441\\u043a\\u0430\\u043d\", \"\\u0441\\u043a\\u0438\\u0434\\u043a\\u0430\", \"\\u0441\\u043a\\u0438\\u0434\\u043a\\u0430\", \"\\u0441\\u043a\\u043b\\u0430\\u0434\", \"\\u0441\\u043a\\u043b\\u0430\\u0434\", \"\\u0441\\u043a\\u043e\\u0440\\u044b\\u0439\", \"\\u0441\\u043b\\u043e\\u043c\\u0430\\u0442\\u044c\\u0441\\u044f\", \"\\u0441\\u043b\\u043e\\u043c\\u0430\\u0442\\u044c\\u0441\\u044f\", \"\\u0441\\u043b\\u0443\\u0436\\u0431\\u0430\", \"\\u0441\\u043b\\u0443\\u0436\\u0431\\u0430\", \"\\u0441\\u043b\\u0443\\u0436\\u0431\\u0430\", \"\\u0441\\u043b\\u0443\\u0436\\u0431\\u0430\", \"\\u0441\\u043b\\u0443\\u0436\\u0431\\u0430\", \"\\u0441\\u043b\\u0443\\u0436\\u0431\\u0430\", \"\\u0441\\u043b\\u0443\\u0436\\u0431\\u0430\", \"\\u0441\\u043b\\u0443\\u0436\\u0431\\u0430\", \"\\u0441\\u043b\\u0443\\u0447\\u0430\\u0439\", \"\\u0441\\u043b\\u0443\\u0447\\u0430\\u0439\", \"\\u0441\\u043b\\u0443\\u0447\\u0430\\u0439\", \"\\u0441\\u043b\\u0443\\u0447\\u0430\\u0439\", \"\\u0441\\u043b\\u0443\\u0447\\u0430\\u0439\", \"\\u0441\\u043b\\u0443\\u0447\\u0430\\u0439\", \"\\u0441\\u043b\\u0443\\u0447\\u0430\\u0439\", \"\\u0441\\u043b\\u0443\\u0447\\u0430\\u0439\", \"\\u0441\\u043b\\u0443\\u0447\\u0430\\u0439\", \"\\u0441\\u043b\\u0443\\u0447\\u0438\\u0442\\u044c\\u0441\\u044f\", \"\\u0441\\u043b\\u0443\\u0448\\u0430\\u0442\\u044c\", \"\\u0441\\u043c\\u0430\\u0440\\u0442\\u0444\\u043e\\u043d\", \"\\u0441\\u043c\\u0430\\u0440\\u0442\\u0444\\u043e\\u043d\", \"\\u0441\\u043c\\u0430\\u0440\\u0442\\u0444\\u043e\\u043d\", \"\\u0441\\u043c\\u0438\", \"\\u0441\\u043c\\u0438\", \"\\u0441\\u043d\\u0438\\u0437\\u0438\\u0442\\u044c\", \"\\u0441\\u043d\\u0442\", \"\\u0441\\u043e\\u0431\\u0440\\u0430\\u043d\\u043d\\u044b\\u0439\", \"\\u0441\\u043e\\u0431\\u0441\\u0442\\u0432\\u0435\\u043d\\u043d\\u0438\\u043a\", \"\\u0441\\u043e\\u0441\\u0435\\u0434\", \"\\u0441\\u043e\\u0441\\u0442\\u0430\\u0432\", \"\\u0441\\u043e\\u0441\\u0442\\u0430\\u0432\", \"\\u0441\\u043e\\u0441\\u0442\\u0430\\u0432\", \"\\u0441\\u043e\\u0441\\u0442\\u0430\\u0432\", \"\\u0441\\u043e\\u0441\\u0442\\u0430\\u0432\", \"\\u0441\\u043e\\u0441\\u0442\\u0430\\u0432\", \"\\u0441\\u043e\\u0441\\u0442\\u043e\\u044f\\u0442\\u044c\\u0441\\u044f\", \"\\u0441\\u043e\\u0441\\u0442\\u043e\\u044f\\u0442\\u044c\\u0441\\u044f\", \"\\u0441\\u043e\\u0442\\u0440\\u0443\\u0434\\u043d\\u0438\\u043a\", \"\\u0441\\u043e\\u0442\\u0440\\u0443\\u0434\\u043d\\u0438\\u043a\", \"\\u0441\\u043e\\u0442\\u0440\\u0443\\u0434\\u043d\\u0438\\u043a\", \"\\u0441\\u043e\\u0442\\u0440\\u0443\\u0434\\u043d\\u0438\\u043a\", \"\\u0441\\u043e\\u0442\\u0440\\u0443\\u0434\\u043d\\u0438\\u043a\", \"\\u0441\\u043e\\u0442\\u0440\\u0443\\u0434\\u043d\\u0438\\u043a\", \"\\u0441\\u043e\\u0442\\u0440\\u0443\\u0434\\u043d\\u0438\\u043a\", \"\\u0441\\u043e\\u0442\\u0440\\u0443\\u0434\\u043d\\u0438\\u043a\", \"\\u0441\\u043e\\u0442\\u0440\\u0443\\u0434\\u043d\\u0438\\u043a\", \"\\u0441\\u043e\\u0448\", \"\\u0441\\u043f\\u0438\\u0441\\u0430\\u043d\\u0438\\u0435\", \"\\u0441\\u043f\\u043e\\u0440\\u0442\\u043c\\u0430\\u0441\\u0442\\u0435\\u0440\", \"\\u0441\\u043f\\u0440\\u0430\\u0432\\u043a\\u0430\", \"\\u0441\\u043f\\u0440\\u0430\\u0432\\u043a\\u0430\", \"\\u0441\\u043f\\u0440\\u0430\\u0432\\u043a\\u0430\", \"\\u0441\\u043f\\u0440\\u043e\\u0441\\u0438\\u0442\\u044c\", \"\\u0441\\u043f\\u0440\\u043e\\u0441\\u0438\\u0442\\u044c\", \"\\u0441\\u043f\\u0440\\u043e\\u0441\\u0438\\u0442\\u044c\", \"\\u0441\\u043f\\u0443\\u0442\\u043d\\u0438\\u043a\", \"\\u0441\\u0440\\u0435\\u0434\\u0441\\u0442\\u0432\\u043e\", \"\\u0441\\u0440\\u0435\\u0434\\u0441\\u0442\\u0432\\u043e\", \"\\u0441\\u0440\\u0435\\u0434\\u0441\\u0442\\u0432\\u043e\", \"\\u0441\\u0440\\u0435\\u0434\\u0441\\u0442\\u0432\\u043e\", \"\\u0441\\u0440\\u0435\\u0434\\u0441\\u0442\\u0432\\u043e\", \"\\u0441\\u0440\\u0435\\u0434\\u0441\\u0442\\u0432\\u043e\", \"\\u0441\\u0440\\u0435\\u0434\\u0441\\u0442\\u0432\\u043e\", \"\\u0441\\u0440\\u043e\\u043a\", \"\\u0441\\u0440\\u043e\\u043a\", \"\\u0441\\u0440\\u043e\\u043a\", \"\\u0441\\u0440\\u043e\\u043a\", \"\\u0441\\u0440\\u043e\\u043a\", \"\\u0441\\u0440\\u043e\\u043a\", \"\\u0441\\u0440\\u043e\\u043a\", \"\\u0441\\u0440\\u043e\\u043a\", \"\\u0441\\u0440\\u043e\\u043a\", \"\\u0441\\u0442\", \"\\u0441\\u0442\", \"\\u0441\\u0442\\u0430\\u0432\\u043a\\u0430\", \"\\u0441\\u0442\\u0430\\u0442\\u0443\\u0441\", \"\\u0441\\u0442\\u0430\\u0442\\u0443\\u0441\", \"\\u0441\\u0442\\u0430\\u0442\\u0443\\u0441\", \"\\u0441\\u0442\\u0430\\u0442\\u0443\\u0441\", \"\\u0441\\u0442\\u0430\\u0442\\u044c\\u044f\", \"\\u0441\\u0442\\u0435\\u043d\\u0430\", \"\\u0441\\u0442\\u0435\\u043d\\u0430\", \"\\u0441\\u0442\\u0438\\u0440\\u043a\\u0430\", \"\\u0441\\u0442\\u043e\\u0438\\u043c\\u043e\\u0441\\u0442\\u044c\", \"\\u0441\\u0442\\u043e\\u0438\\u043c\\u043e\\u0441\\u0442\\u044c\", \"\\u0441\\u0442\\u043e\\u0438\\u043c\\u043e\\u0441\\u0442\\u044c\", \"\\u0441\\u0442\\u043e\\u0438\\u043c\\u043e\\u0441\\u0442\\u044c\", \"\\u0441\\u0442\\u043e\\u0438\\u043c\\u043e\\u0441\\u0442\\u044c\", \"\\u0441\\u0442\\u043e\\u0438\\u043c\\u043e\\u0441\\u0442\\u044c\", \"\\u0441\\u0442\\u043e\\u0438\\u043c\\u043e\\u0441\\u0442\\u044c\", \"\\u0441\\u0442\\u043e\\u0438\\u0442\\u044c\", \"\\u0441\\u0442\\u043e\\u0438\\u0442\\u044c\", \"\\u0441\\u0442\\u043e\\u0438\\u0442\\u044c\", \"\\u0441\\u0442\\u043e\\u0438\\u0442\\u044c\", \"\\u0441\\u0442\\u043e\\u0438\\u0442\\u044c\", \"\\u0441\\u0442\\u043e\\u0438\\u0442\\u044c\", \"\\u0441\\u0442\\u043e\\u0438\\u0442\\u044c\", \"\\u0441\\u0442\\u043e\\u043b\", \"\\u0441\\u0442\\u043e\\u043b\", \"\\u0441\\u0442\\u043e\\u043b\\u0435\\u0448\\u043d\\u0438\\u0446\\u0430\", \"\\u0441\\u0442\\u0440\\u0430\\u0445\\u043e\\u0432\\u043e\\u0439\", \"\\u0441\\u0442\\u0440\\u0430\\u0445\\u043e\\u0432\\u043e\\u0439\", \"\\u0441\\u0442\\u0440\\u0438\\u0436\\u043a\\u0430\", \"\\u0441\\u0442\\u0440\\u043e\\u0439\", \"\\u0441\\u0442\\u0443\\u0434\\u0435\\u043d\\u0442\", \"\\u0441\\u0443\\u0431\\u044a\\u0435\\u043a\\u0442\", \"\\u0441\\u0443\\u043c\\u043c\\u0430\", \"\\u0441\\u0443\\u043c\\u043c\\u0430\", \"\\u0441\\u0443\\u043c\\u043c\\u0430\", \"\\u0441\\u0443\\u043c\\u043c\\u0430\", \"\\u0441\\u0443\\u043c\\u043c\\u0430\", \"\\u0441\\u0443\\u043c\\u043c\\u0430\", \"\\u0441\\u0447\\u0451\\u0442\", \"\\u0441\\u0447\\u0451\\u0442\", \"\\u0441\\u0447\\u0451\\u0442\", \"\\u0441\\u0447\\u0451\\u0442\", \"\\u0441\\u0447\\u0451\\u0442\", \"\\u0441\\u0447\\u0451\\u0442\", \"\\u0441\\u044b\\u0440\", \"\\u0441\\u044e\\u0434\\u0430\", \"\\u0442\\u0430\\u0431\\u0430\\u0447\\u043d\\u044b\\u0439\", \"\\u0442\\u0430\\u0431\\u043b\\u0435\\u0442\\u043a\\u0430\", \"\\u0442\\u0430\\u043a\\u0436\\u0435\", \"\\u0442\\u0430\\u043a\\u0436\\u0435\", \"\\u0442\\u0430\\u043a\\u0436\\u0435\", \"\\u0442\\u0430\\u043a\\u0436\\u0435\", \"\\u0442\\u0430\\u043a\\u0436\\u0435\", \"\\u0442\\u0430\\u043a\\u0436\\u0435\", \"\\u0442\\u0430\\u043a\\u0436\\u0435\", \"\\u0442\\u0430\\u043a\\u0436\\u0435\", \"\\u0442\\u0430\\u043a\\u0436\\u0435\", \"\\u0442\\u0430\\u043a\\u0436\\u0435\", \"\\u0442\\u0430\\u043a\\u0436\\u0435\", \"\\u0442\\u0430\\u043a\\u043e\\u0439\", \"\\u0442\\u0430\\u043a\\u043e\\u0439\", \"\\u0442\\u0430\\u043a\\u043e\\u0439\", \"\\u0442\\u0430\\u043a\\u043e\\u0439\", \"\\u0442\\u0430\\u043a\\u043e\\u0439\", \"\\u0442\\u0430\\u043a\\u043e\\u0439\", \"\\u0442\\u0430\\u043a\\u043e\\u0439\", \"\\u0442\\u0430\\u043a\\u043e\\u0439\", \"\\u0442\\u0430\\u043a\\u043e\\u0439\", \"\\u0442\\u0430\\u043a\\u043e\\u0439\", \"\\u0442\\u0430\\u043a\\u0441\\u0438\", \"\\u0442\\u0430\\u043a\\u0441\\u0438\", \"\\u0442\\u0430\\u043a\\u0441\\u0438\", \"\\u0442\\u0430\\u0440\\u0438\\u0444\", \"\\u0442\\u0430\\u0440\\u0438\\u0444\", \"\\u0442\\u0430\\u0440\\u0438\\u0444\\u043d\\u044b\\u0439\", \"\\u0442\\u0431\\u043e\", \"\\u0442\\u0435\\u043b\\u0435\\u0432\\u0438\\u0434\\u0435\\u043d\\u0438\\u0435\", \"\\u0442\\u0435\\u043b\\u0435\\u0432\\u0438\\u0437\\u043e\\u0440\", \"\\u0442\\u0435\\u043b\\u0435\\u0432\\u0438\\u0437\\u043e\\u0440\", \"\\u0442\\u0435\\u043b\\u0435\\u0436\\u043a\\u0430\", \"\\u0442\\u0435\\u043b\\u0435\\u0444\\u043e\\u043d\", \"\\u0442\\u0435\\u043b\\u0435\\u0444\\u043e\\u043d\", \"\\u0442\\u0435\\u043b\\u0435\\u0444\\u043e\\u043d\", \"\\u0442\\u0435\\u043b\\u0435\\u0444\\u043e\\u043d\", \"\\u0442\\u0435\\u043b\\u0435\\u0444\\u043e\\u043d\", \"\\u0442\\u0435\\u043b\\u0435\\u0444\\u043e\\u043d\", \"\\u0442\\u0435\\u043b\\u0435\\u0444\\u043e\\u043d\", \"\\u0442\\u0435\\u0440\\u043c\\u043e\\u043c\\u0435\\u0442\\u0440\\u0438\\u044f\", \"\\u0442\\u0435\\u0440\\u0440\\u0438\\u0442\\u043e\\u0440\\u0438\\u044f\", \"\\u0442\\u0435\\u0440\\u0440\\u0438\\u0442\\u043e\\u0440\\u0438\\u044f\", \"\\u0442\\u0435\\u0440\\u0440\\u0438\\u0442\\u043e\\u0440\\u0438\\u044f\", \"\\u0442\\u0435\\u0440\\u0440\\u0438\\u0442\\u043e\\u0440\\u0438\\u044f\", \"\\u0442\\u0435\\u0440\\u0440\\u0438\\u0442\\u043e\\u0440\\u0438\\u044f\", \"\\u0442\\u0435\\u0440\\u044f\\u0442\\u044c\", \"\\u0442\\u0435\\u0441\\u0442\", \"\\u0442\\u0435\\u0445\\u043d\\u0438\\u043a\\u0430\", \"\\u0442\\u0435\\u0445\\u043d\\u0438\\u043a\\u0430\", \"\\u0442\\u0435\\u0445\\u043d\\u0438\\u043a\\u0430\", \"\\u0442\\u0435\\u0445\\u043d\\u0438\\u0447\\u0435\\u0441\\u043a\\u0438\", \"\\u0442\\u0435\\u0445\\u043d\\u0438\\u0447\\u0435\\u0441\\u043a\\u0438\", \"\\u0442\\u0435\\u0445\\u043d\\u0438\\u0447\\u0435\\u0441\\u043a\\u0438\", \"\\u0442\\u0435\\u0445\\u043d\\u0438\\u0447\\u0435\\u0441\\u043a\\u0438\", \"\\u0442\\u0435\\u0445\\u043f\\u043e\\u0434\\u0434\\u0435\\u0440\\u0436\\u043a\\u0430\", \"\\u0442\\u0435\\u0445\\u043f\\u043e\\u0434\\u0434\\u0435\\u0440\\u0436\\u043a\\u0430\", \"\\u0442\\u0435\\u0445\\u043f\\u043e\\u0434\\u0434\\u0435\\u0440\\u0436\\u043a\\u0430\", \"\\u0442\\u0435\\u0447\\u0435\\u043d\\u0438\\u0435\", \"\\u0442\\u0435\\u0447\\u0435\\u043d\\u0438\\u0435\", \"\\u0442\\u0435\\u0447\\u0435\\u043d\\u0438\\u0435\", \"\\u0442\\u0435\\u0447\\u0435\\u043d\\u0438\\u0435\", \"\\u0442\\u0435\\u0447\\u0435\\u043d\\u0438\\u0435\", \"\\u0442\\u0435\\u0447\\u0435\\u043d\\u0438\\u0435\", \"\\u0442\\u0435\\u0447\\u0435\\u043d\\u0438\\u0435\", \"\\u0442\\u0435\\u0447\\u0435\\u043d\\u0438\\u0435\", \"\\u0442\\u043a\\u043e\", \"\\u0442\\u043e\\u0432\\u0430\\u0440\", \"\\u0442\\u043e\\u0432\\u0430\\u0440\", \"\\u0442\\u043e\\u0432\\u0430\\u0440\", \"\\u0442\\u043e\\u0432\\u0430\\u0440\\u043d\\u044b\\u0439\", \"\\u0442\\u043e\\u0432\\u0430\\u0440\\u043d\\u044b\\u0439\", \"\\u0442\\u043e\\u0432\\u0430\\u0440\\u043d\\u044b\\u0439\", \"\\u0442\\u043e\\u0432\\u0430\\u0440\\u043d\\u044b\\u0439\", \"\\u0442\\u043e\\u043b\\u043f\\u0430\", \"\\u0442\\u043e\\u0440\\u0433\\u043e\\u0432\\u044b\\u0439\", \"\\u0442\\u043e\\u0440\\u0433\\u043e\\u0432\\u044b\\u0439\", \"\\u0442\\u043e\\u0440\\u0433\\u043e\\u0432\\u044b\\u0439\", \"\\u0442\\u043e\\u0440\\u0433\\u043e\\u0432\\u044b\\u0439\", \"\\u0442\\u043e\\u0440\\u0442\", \"\\u0442\\u043e\\u0447\\u043a\\u0430\", \"\\u0442\\u043e\\u0447\\u043a\\u0430\", \"\\u0442\\u043e\\u0447\\u043a\\u0430\", \"\\u0442\\u043e\\u0447\\u043a\\u0430\", \"\\u0442\\u0440\", \"\\u0442\\u0440\", \"\\u0442\\u0440\\u0435\\u043d\\u0438\\u0440\\u043e\\u0432\\u043a\\u0430\", \"\\u0442\\u0440\\u0438\\u0441\\u0442\\u0430\", \"\\u0442\\u0440\\u0443\\u0431\\u0430\", \"\\u0442\\u0440\\u0443\\u0431\\u043a\\u0430\", \"\\u0442\\u0443\\u0440\", \"\\u0442\\u0443\\u0440\\u0430\\u0433\\u0435\\u043d\\u0442\", \"\\u0442\\u0443\\u0440\\u0438\\u0441\\u0442\", \"\\u0442\\u0443\\u0440\\u0438\\u0441\\u0442\\u0438\\u0447\\u0435\\u0441\\u043a\\u0438\\u0439\", \"\\u0442\\u0443\\u0440\\u0438\\u0441\\u0442\\u0441\\u043a\\u0438\\u0439\", \"\\u0442\\u0443\\u0440\\u043e\\u043f\\u0435\\u0440\\u0430\\u0442\\u043e\\u0440\", \"\\u0442\\u0443\\u0440\\u0446\\u0438\\u044f\", \"\\u0442\\u0446\", \"\\u0442\\u0446\", \"\\u0442\\u0446\", \"\\u0442\\u0446\", \"\\u0442\\u0446\", \"\\u0442\\u044b\\u0441\\u044f\\u0447\\u0430\", \"\\u0442\\u044b\\u0441\\u044f\\u0447\\u0430\", \"\\u0442\\u044b\\u0441\\u044f\\u0447\\u0430\", \"\\u0442\\u044b\\u0441\\u044f\\u0447\\u0430\", \"\\u0442\\u044b\\u0441\\u044f\\u0447\\u0430\", \"\\u0443\\u0437\\u043d\\u0430\\u0432\\u0430\\u0442\\u044c\", \"\\u0443\\u043a\", \"\\u0443\\u043a\\u0430\\u0437\", \"\\u0443\\u043a\\u0430\\u0437\\u0430\\u0442\\u044c\", \"\\u0443\\u043a\\u0430\\u0437\\u0430\\u0442\\u044c\", \"\\u0443\\u043a\\u0430\\u0437\\u0430\\u0442\\u044c\", \"\\u0443\\u043a\\u0430\\u0437\\u0430\\u0442\\u044c\", \"\\u0443\\u043a\\u0430\\u0437\\u0430\\u0442\\u044c\", \"\\u0443\\u043a\\u0430\\u0437\\u0430\\u0442\\u044c\", \"\\u0443\\u043a\\u0430\\u0437\\u0430\\u0442\\u044c\", \"\\u0443\\u043a\\u0430\\u0437\\u0430\\u0442\\u044c\", \"\\u0443\\u043a\\u0430\\u0437\\u0430\\u0442\\u044c\", \"\\u0443\\u043a\\u0430\\u0437\\u0430\\u0442\\u044c\", \"\\u0443\\u043a\\u043e\\u043b\", \"\\u0443\\u043a\\u0440\\u0430\\u0438\\u043d\\u0430\", \"\\u0443\\u043b\", \"\\u0443\\u043b\", \"\\u0443\\u043b\", \"\\u0443\\u043b\", \"\\u0443\\u043b\\u0438\\u0446\\u0430\", \"\\u0443\\u043b\\u0438\\u0446\\u0430\", \"\\u0443\\u043b\\u0438\\u0446\\u0430\", \"\\u0443\\u043b\\u0438\\u0446\\u0430\", \"\\u0443\\u043d\\u0438\\u0442\\u0430\\u0437\", \"\\u0443\\u043f\\u0430\\u043a\\u043e\\u0432\\u043a\\u0430\", \"\\u0443\\u043f\\u0430\\u043a\\u043e\\u0432\\u043a\\u0430\", \"\\u0443\\u043f\\u0430\\u043a\\u043e\\u0432\\u043a\\u0430\", \"\\u0443\\u043f\\u0430\\u043a\\u043e\\u0432\\u043a\\u0430\", \"\\u0443\\u043f\\u0440\\u0430\\u0432\\u043b\\u044f\\u0442\\u044c\", \"\\u0443\\u0440\\u0430\\u043b\\u044c\\u0441\\u043a\\u0438\\u0439\", \"\\u0443\\u0441\\u043b\\u0443\\u0433\\u0430\", \"\\u0443\\u0441\\u043b\\u0443\\u0433\\u0430\", \"\\u0443\\u0441\\u043b\\u0443\\u0433\\u0430\", \"\\u0443\\u0441\\u043b\\u0443\\u0433\\u0430\", \"\\u0443\\u0441\\u043b\\u0443\\u0433\\u0430\", \"\\u0443\\u0441\\u043b\\u0443\\u0433\\u0430\", \"\\u0443\\u0441\\u043b\\u0443\\u0433\\u0430\", \"\\u0443\\u0441\\u0442\\u0430\\u043d\\u043e\\u0432\\u0438\\u0442\\u044c\", \"\\u0443\\u0441\\u0442\\u0430\\u043d\\u043e\\u0432\\u0438\\u0442\\u044c\", \"\\u0443\\u0441\\u0442\\u0430\\u043d\\u043e\\u0432\\u0438\\u0442\\u044c\", \"\\u0443\\u0441\\u0442\\u0430\\u043d\\u043e\\u0432\\u0438\\u0442\\u044c\", \"\\u0443\\u0441\\u0442\\u0430\\u043d\\u043e\\u0432\\u0438\\u0442\\u044c\", \"\\u0443\\u0441\\u0442\\u0430\\u043d\\u043e\\u0432\\u0438\\u0442\\u044c\", \"\\u0443\\u0441\\u0442\\u0430\\u043d\\u043e\\u0432\\u043a\\u0430\", \"\\u0443\\u0441\\u0442\\u0430\\u043d\\u043e\\u0432\\u043a\\u0430\", \"\\u0443\\u0441\\u0442\\u0430\\u043d\\u043e\\u0432\\u043a\\u0430\", \"\\u0443\\u0441\\u0442\\u0440\\u043e\\u0439\\u0441\\u0442\\u0432\\u043e\", \"\\u0443\\u0441\\u0442\\u0440\\u043e\\u0439\\u0441\\u0442\\u0432\\u043e\", \"\\u0443\\u0447\\u0430\\u0441\\u0442\\u043e\\u043a\", \"\\u0443\\u0447\\u0440\\u0435\\u0436\\u0434\\u0435\\u043d\\u0438\\u0435\", \"\\u0443\\u0449\\u0435\\u043c\\u043b\\u044f\\u0442\\u044c\", \"\\u0444\\u0430\\u0431\\u0440\\u0438\\u043a\\u0430\", \"\\u0444\\u0430\\u0439\\u043b\", \"\\u0444\\u0430\\u0439\\u043b\", \"\\u0444\\u0430\\u0439\\u043b\", \"\\u0444\\u0430\\u0439\\u043b\", \"\\u0444\\u0435\\u0434\\u0435\\u0440\\u0430\\u043b\\u044c\\u043d\\u044b\\u0439\", \"\\u0444\\u0435\\u0434\\u0435\\u0440\\u0430\\u043b\\u044c\\u043d\\u044b\\u0439\", \"\\u0444\\u0435\\u0434\\u0435\\u0440\\u0430\\u043b\\u044c\\u043d\\u044b\\u0439\", \"\\u0444\\u0435\\u0434\\u0435\\u0440\\u0430\\u0446\\u0438\\u044f\", \"\\u0444\\u0435\\u0434\\u0435\\u0440\\u0430\\u0446\\u0438\\u044f\", \"\\u0444\\u0437\", \"\\u0444\\u0438\\u043b\\u044c\\u0442\\u0440\", \"\\u0444\\u0438\\u043e\", \"\\u0444\\u0438\\u043e\", \"\\u0444\\u0438\\u0440\\u043c\\u0430\", \"\\u0444\\u0438\\u0440\\u043c\\u0430\", \"\\u0444\\u0438\\u0440\\u043c\\u0430\", \"\\u0444\\u0438\\u0440\\u043c\\u0430\", \"\\u0444\\u0438\\u0442\\u043d\\u0435\\u0441\", \"\\u0444\\u043e\\u0440\\u043c\\u0438\\u0440\\u043e\\u0432\\u0430\\u043d\\u0438\\u0435\", \"\\u0444\\u0440\\u0443\\u043a\\u0442\", \"\\u0445\\u0438\\u043c\\u0447\\u0438\\u0441\\u0442\\u043a\\u0430\", \"\\u0445\\u043b\\u0435\\u0431\", \"\\u0445\\u043b\\u0435\\u0431\", \"\\u0445\\u043e\\u0437\\u044f\\u0439\\u0441\\u0442\\u0432\\u043e\\u0432\\u0430\\u0442\\u044c\", \"\\u0445\\u043e\\u043b\\u043e\\u0434\\u0438\\u043b\\u044c\\u043d\\u0438\\u043a\", \"\\u0445\\u043e\\u043b\\u043e\\u0434\\u0438\\u043b\\u044c\\u043d\\u0438\\u043a\", \"\\u0445\\u043e\\u043b\\u043e\\u0434\\u0438\\u043b\\u044c\\u043d\\u0438\\u043a\", \"\\u0445\\u043e\\u043b\\u043e\\u0434\\u043d\\u044b\\u0439\", \"\\u0445\\u043e\\u0442\\u0435\\u0442\\u044c\", \"\\u0445\\u043e\\u0442\\u0435\\u0442\\u044c\", \"\\u0445\\u043e\\u0442\\u0435\\u0442\\u044c\", \"\\u0445\\u043e\\u0442\\u0435\\u0442\\u044c\", \"\\u0445\\u043e\\u0442\\u0435\\u0442\\u044c\", \"\\u0445\\u043e\\u0442\\u0435\\u0442\\u044c\", \"\\u0445\\u043e\\u0442\\u0435\\u0442\\u044c\", \"\\u0445\\u043e\\u0442\\u0435\\u0442\\u044c\", \"\\u0445\\u043e\\u0442\\u0435\\u0442\\u044c\", \"\\u0446\\u0435\\u043d\\u0430\", \"\\u0446\\u0435\\u043d\\u0430\", \"\\u0446\\u0435\\u043d\\u043d\\u0438\\u043a\", \"\\u0446\\u0435\\u043d\\u043d\\u0438\\u043a\", \"\\u0446\\u0435\\u043d\\u0442\\u0440\", \"\\u0446\\u0435\\u043d\\u0442\\u0440\", \"\\u0446\\u0435\\u043d\\u0442\\u0440\", \"\\u0446\\u0435\\u043d\\u0442\\u0440\", \"\\u0446\\u0435\\u043d\\u0442\\u0440\", \"\\u0447\\u0430\\u0441\", \"\\u0447\\u0430\\u0441\", \"\\u0447\\u0430\\u0441\", \"\\u0447\\u0430\\u0441\", \"\\u0447\\u0430\\u0441\", \"\\u0447\\u0430\\u0441\", \"\\u0447\\u0430\\u0441\", \"\\u0447\\u0430\\u0441\", \"\\u0447\\u0430\\u0441\", \"\\u0447\\u0430\\u0441\\u0442\\u044c\", \"\\u0447\\u0430\\u0441\\u0442\\u044c\", \"\\u0447\\u0430\\u0441\\u0442\\u044c\", \"\\u0447\\u0430\\u0441\\u0442\\u044c\", \"\\u0447\\u0430\\u0441\\u0442\\u044c\", \"\\u0447\\u0430\\u0441\\u0442\\u044c\", \"\\u0447\\u0430\\u0441\\u0442\\u044c\", \"\\u0447\\u0430\\u0441\\u0442\\u044c\", \"\\u0447\\u0430\\u0441\\u0442\\u044c\", \"\\u0447\\u0435\\u043a\", \"\\u0447\\u0435\\u043a\", \"\\u0447\\u0435\\u043a\", \"\\u0447\\u0435\\u043a\", \"\\u0447\\u0435\\u043a\", \"\\u0447\\u0435\\u043b\\u043d\\u044b\", \"\\u0447\\u0435\\u043b\\u043e\\u0432\\u0435\\u043a\", \"\\u0447\\u0435\\u043b\\u043e\\u0432\\u0435\\u043a\", \"\\u0447\\u0435\\u043b\\u043e\\u0432\\u0435\\u043a\", \"\\u0447\\u0435\\u043b\\u043e\\u0432\\u0435\\u043a\", \"\\u0447\\u0435\\u0445\\u043e\\u043b\", \"\\u0448\\u0430\\u0431\\u043b\\u043e\\u043d\\u043d\\u044b\\u0439\", \"\\u0448\\u0438\\u043d\\u0430\", \"\\u0448\\u0438\\u0440\\u0438\\u043d\\u0430\", \"\\u0448\\u043a\\u0430\\u0444\", \"\\u0448\\u043a\\u0430\\u0444\", \"\\u0448\\u043a\\u043e\\u043b\\u0430\", \"\\u0448\\u043a\\u043e\\u043b\\u0430\", \"\\u0448\\u0442\", \"\\u0448\\u0442\", \"\\u0448\\u0442\", \"\\u0448\\u0443\\u043c\", \"\\u044d\\u043a\\u0440\\u0430\\u043d\", \"\\u044d\\u043a\\u0440\\u0430\\u043d\", \"\\u044d\\u043a\\u0441\\u043f\\u0435\\u0440\\u0442\\u0438\\u0437\\u0430\", \"\\u044d\\u043a\\u0441\\u043f\\u0435\\u0440\\u0442\\u0438\\u0437\\u0430\", \"\\u044d\\u043a\\u0441\\u043f\\u0435\\u0440\\u0442\\u0438\\u0437\\u0430\", \"\\u044d\\u043a\\u0441\\u043f\\u043b\\u0443\\u0430\\u0442\\u0430\\u0446\\u0438\\u044f\", \"\\u044d\\u043a\\u0441\\u043f\\u043b\\u0443\\u0430\\u0442\\u0430\\u0446\\u0438\\u044f\", \"\\u044d\\u043a\\u0441\\u043f\\u043b\\u0443\\u0430\\u0442\\u0430\\u0446\\u0438\\u044f\", \"\\u044d\\u043b\\u0435\\u043a\\u0442\\u0440\\u043e\\u043d\\u043d\\u044b\\u0439\", \"\\u044d\\u043b\\u0435\\u043a\\u0442\\u0440\\u043e\\u043d\\u043d\\u044b\\u0439\", \"\\u044d\\u043b\\u0435\\u043a\\u0442\\u0440\\u043e\\u043d\\u043d\\u044b\\u0439\", \"\\u044d\\u043b\\u0435\\u043a\\u0442\\u0440\\u043e\\u043d\\u043d\\u044b\\u0439\", \"\\u044d\\u043b\\u0435\\u043a\\u0442\\u0440\\u043e\\u043d\\u043d\\u044b\\u0439\", \"\\u044d\\u043b\\u0435\\u043a\\u0442\\u0440\\u043e\\u043d\\u043d\\u044b\\u0439\", \"\\u044d\\u043b\\u043f\\u043e\\u0447\\u0442\\u0430\", \"\\u044d\\u043f\\u0438\\u0434\\u0435\\u043c\\u0438\\u044f\", \"\\u044d\\u0442\\u0430\\u0436\", \"\\u044d\\u0442\\u0430\\u0436\", \"\\u044d\\u0442\\u043e\", \"\\u044d\\u0442\\u043e\", \"\\u044d\\u0442\\u043e\", \"\\u044d\\u0442\\u043e\", \"\\u044d\\u0442\\u043e\", \"\\u044d\\u0442\\u043e\", \"\\u044d\\u0442\\u043e\", \"\\u044d\\u0442\\u043e\", \"\\u044e\\u0440\", \"\\u044e\\u0440\\u0438\\u0434\\u0438\\u0447\\u0435\\u0441\\u043a\\u0438\\u0439\", \"\\u044e\\u0440\\u0438\\u0434\\u0438\\u0447\\u0435\\u0441\\u043a\\u0438\\u0439\", \"\\u044e\\u0440\\u0438\\u0434\\u0438\\u0447\\u0435\\u0441\\u043a\\u0438\\u0439\", \"\\u044f\", \"\\u044f\", \"\\u044f\", \"\\u044f\", \"\\u044f\", \"\\u044f\", \"\\u044f\", \"\\u044f\\u0432\\u043b\\u044f\\u0442\\u044c\\u0441\\u044f\", \"\\u044f\\u0432\\u043b\\u044f\\u0442\\u044c\\u0441\\u044f\", \"\\u044f\\u0432\\u043b\\u044f\\u0442\\u044c\\u0441\\u044f\", \"\\u044f\\u0432\\u043b\\u044f\\u0442\\u044c\\u0441\\u044f\", \"\\u044f\\u0432\\u043b\\u044f\\u0442\\u044c\\u0441\\u044f\", \"\\u044f\\u0432\\u043b\\u044f\\u0442\\u044c\\u0441\\u044f\", \"\\u044f\\u0432\\u043b\\u044f\\u0442\\u044c\\u0441\\u044f\", \"\\u044f\\u0432\\u043b\\u044f\\u0442\\u044c\\u0441\\u044f\", \"\\u044f\\u0432\\u043b\\u044f\\u0442\\u044c\\u0441\\u044f\", \"\\u044f\\u0432\\u043b\\u044f\\u0442\\u044c\\u0441\\u044f\", \"\\u044f\\u0437\\u044b\\u043a\", \"\\u044f\\u0437\\u044b\\u043a\", \"\\u044f\\u0439\\u0446\\u043e\", \"\\u044f\\u043d\\u0434\\u0435\\u043a\\u0441\", \"\\u044f\\u043d\\u0434\\u0435\\u043a\\u0441\", \"\\u044f\\u043d\\u0434\\u0435\\u043a\\u0441\\u043c\\u0430\\u0440\\u043a\\u0435\\u0442\", \"\\u044f\\u0440\\u043b\\u044b\\u043a\", \"\\u200b\"]}, \"R\": 30, \"lambda.step\": 0.01, \"plot.opts\": {\"xlab\": \"PC1\", \"ylab\": \"PC2\"}, \"topic.order\": [10, 1, 2, 8, 3, 11, 6, 12, 9, 14, 7, 13, 5, 15, 4]};\n",
              "\n",
              "function LDAvis_load_lib(url, callback){\n",
              "  var s = document.createElement('script');\n",
              "  s.src = url;\n",
              "  s.async = true;\n",
              "  s.onreadystatechange = s.onload = callback;\n",
              "  s.onerror = function(){console.warn(\"failed to load library \" + url);};\n",
              "  document.getElementsByTagName(\"head\")[0].appendChild(s);\n",
              "}\n",
              "\n",
              "if(typeof(LDAvis) !== \"undefined\"){\n",
              "   // already loaded: just create the visualization\n",
              "   !function(LDAvis){\n",
              "       new LDAvis(\"#\" + \"ldavis_el2461396169005213608211894526\", ldavis_el2461396169005213608211894526_data);\n",
              "   }(LDAvis);\n",
              "}else if(typeof define === \"function\" && define.amd){\n",
              "   // require.js is available: use it to load d3/LDAvis\n",
              "   require.config({paths: {d3: \"https://d3js.org/d3.v5\"}});\n",
              "   require([\"d3\"], function(d3){\n",
              "      window.d3 = d3;\n",
              "      LDAvis_load_lib(\"https://cdn.jsdelivr.net/gh/bmabey/pyLDAvis@3.4.0/pyLDAvis/js/ldavis.v3.0.0.js\", function(){\n",
              "        new LDAvis(\"#\" + \"ldavis_el2461396169005213608211894526\", ldavis_el2461396169005213608211894526_data);\n",
              "      });\n",
              "    });\n",
              "}else{\n",
              "    // require.js not available: dynamically load d3 & LDAvis\n",
              "    LDAvis_load_lib(\"https://d3js.org/d3.v5.js\", function(){\n",
              "         LDAvis_load_lib(\"https://cdn.jsdelivr.net/gh/bmabey/pyLDAvis@3.4.0/pyLDAvis/js/ldavis.v3.0.0.js\", function(){\n",
              "                 new LDAvis(\"#\" + \"ldavis_el2461396169005213608211894526\", ldavis_el2461396169005213608211894526_data);\n",
              "            })\n",
              "         });\n",
              "}\n",
              "</script>"
            ]
          },
          "metadata": {},
          "execution_count": 213
        }
      ]
    },
    {
      "cell_type": "markdown",
      "source": [
        "# V BigARTM"
      ],
      "metadata": {
        "id": "VCEK_3a9F_xL"
      }
    },
    {
      "cell_type": "code",
      "source": [
        "artm.version()"
      ],
      "metadata": {
        "colab": {
          "base_uri": "https://localhost:8080/",
          "height": 91
        },
        "id": "uXje37LrB0Sd",
        "outputId": "40f10a4d-9333-4d18-f364-a1092db14718"
      },
      "execution_count": 214,
      "outputs": [
        {
          "output_type": "stream",
          "name": "stderr",
          "text": [
            "/usr/local/lib/python3.10/dist-packages/ipykernel/ipkernel.py:283: DeprecationWarning: `should_run_async` will not call `transform_cell` automatically in the future. Please pass the result to `transformed_cell` argument and any exception that happen during thetransform in `preprocessing_exc_tuple` in IPython 7.17 and above.\n",
            "  and should_run_async(code)\n"
          ]
        },
        {
          "output_type": "execute_result",
          "data": {
            "text/plain": [
              "'0.10.1'"
            ],
            "application/vnd.google.colaboratory.intrinsic+json": {
              "type": "string"
            }
          },
          "metadata": {},
          "execution_count": 214
        }
      ]
    },
    {
      "cell_type": "markdown",
      "source": [
        "## 12 Preporation data for artm"
      ],
      "metadata": {
        "id": "FUnePiHnfKN4"
      }
    },
    {
      "cell_type": "code",
      "source": [
        "with open(path_to_work_dir + 'lenta_wv.wv', 'w') as f:\n",
        "    for index, row in df.iterrows():\n",
        "        vw_string = convert_to_vw_format(index, row)\n",
        "        f.write(vw_string)\n",
        "        f.write('\\n')"
      ],
      "metadata": {
        "id": "3uRP2CZQG_yE",
        "colab": {
          "base_uri": "https://localhost:8080/"
        },
        "outputId": "39c83882-33e1-41e9-f8c0-0c45e8f7bc7c"
      },
      "execution_count": 215,
      "outputs": [
        {
          "output_type": "stream",
          "name": "stderr",
          "text": [
            "/usr/local/lib/python3.10/dist-packages/ipykernel/ipkernel.py:283: DeprecationWarning: `should_run_async` will not call `transform_cell` automatically in the future. Please pass the result to `transformed_cell` argument and any exception that happen during thetransform in `preprocessing_exc_tuple` in IPython 7.17 and above.\n",
            "  and should_run_async(code)\n"
          ]
        }
      ]
    },
    {
      "cell_type": "markdown",
      "source": [
        "## 13 Create batch vectorizer"
      ],
      "metadata": {
        "id": "xpACstu_fa0U"
      }
    },
    {
      "cell_type": "code",
      "source": [
        "batch_vectorizer = artm.BatchVectorizer(data_path=path_to_work_dir + 'lenta_wv.wv',\n",
        "                                        data_format='vowpal_wabbit',\n",
        "                                        target_folder='lenta_batches')"
      ],
      "metadata": {
        "id": "778yy_4KZu_y",
        "colab": {
          "base_uri": "https://localhost:8080/"
        },
        "outputId": "8c164e70-fb68-4d18-e328-7ce53ad2a66a"
      },
      "execution_count": 216,
      "outputs": [
        {
          "output_type": "stream",
          "name": "stderr",
          "text": [
            "/usr/local/lib/python3.10/dist-packages/ipykernel/ipkernel.py:283: DeprecationWarning: `should_run_async` will not call `transform_cell` automatically in the future. Please pass the result to `transformed_cell` argument and any exception that happen during thetransform in `preprocessing_exc_tuple` in IPython 7.17 and above.\n",
            "  and should_run_async(code)\n"
          ]
        }
      ]
    },
    {
      "cell_type": "markdown",
      "source": [
        "## 14 LDA in ARTM"
      ],
      "metadata": {
        "id": "yeKR9uQIflCD"
      }
    },
    {
      "cell_type": "markdown",
      "source": [
        "### 14.1 Learning model"
      ],
      "metadata": {
        "id": "sZ91dincftmg"
      }
    },
    {
      "cell_type": "markdown",
      "source": [
        "Learn model for 15 topics"
      ],
      "metadata": {
        "id": "pW7cA3kEf2RP"
      }
    },
    {
      "cell_type": "code",
      "source": [
        "%%time\n",
        "lda_artm = artm.LDA(num_topics=15, alpha=0.1, beta=0.001,\n",
        "               cache_theta=True,\n",
        "               num_document_passes=20,\n",
        "               dictionary=batch_vectorizer.dictionary)\n",
        "\n",
        "lda_artm.fit_offline(batch_vectorizer=batch_vectorizer,\n",
        "                num_collection_passes=10)"
      ],
      "metadata": {
        "colab": {
          "base_uri": "https://localhost:8080/"
        },
        "id": "DZF2Dc4MZ8MU",
        "outputId": "8947b7c6-73d8-43a7-9830-5122bf378a87"
      },
      "execution_count": 217,
      "outputs": [
        {
          "output_type": "stream",
          "name": "stderr",
          "text": [
            "/usr/local/lib/python3.10/dist-packages/ipykernel/ipkernel.py:283: DeprecationWarning: `should_run_async` will not call `transform_cell` automatically in the future. Please pass the result to `transformed_cell` argument and any exception that happen during thetransform in `preprocessing_exc_tuple` in IPython 7.17 and above.\n",
            "  and should_run_async(code)\n"
          ]
        },
        {
          "output_type": "stream",
          "name": "stdout",
          "text": [
            "CPU times: user 59 s, sys: 796 ms, total: 59.8 s\n",
            "Wall time: 51.3 s\n"
          ]
        }
      ]
    },
    {
      "cell_type": "markdown",
      "source": [
        "### 14.2 Review results perplexity"
      ],
      "metadata": {
        "id": "R-wkQnWWgdga"
      }
    },
    {
      "cell_type": "code",
      "source": [
        "lda_artm.perplexity_value"
      ],
      "metadata": {
        "colab": {
          "base_uri": "https://localhost:8080/"
        },
        "id": "fgO5w8IlaDTK",
        "outputId": "26a4b17f-95ee-4510-d398-8b81a145adfa"
      },
      "execution_count": 218,
      "outputs": [
        {
          "output_type": "stream",
          "name": "stderr",
          "text": [
            "/usr/local/lib/python3.10/dist-packages/ipykernel/ipkernel.py:283: DeprecationWarning: `should_run_async` will not call `transform_cell` automatically in the future. Please pass the result to `transformed_cell` argument and any exception that happen during thetransform in `preprocessing_exc_tuple` in IPython 7.17 and above.\n",
            "  and should_run_async(code)\n"
          ]
        },
        {
          "output_type": "execute_result",
          "data": {
            "text/plain": [
              "[70968.65625,\n",
              " 2869.8291015625,\n",
              " 2425.332763671875,\n",
              " 2132.050537109375,\n",
              " 1965.5643310546875,\n",
              " 1867.4154052734375,\n",
              " 1804.739501953125,\n",
              " 1763.00927734375,\n",
              " 1733.3248291015625,\n",
              " 1710.868408203125]"
            ]
          },
          "metadata": {},
          "execution_count": 218
        }
      ]
    },
    {
      "cell_type": "code",
      "source": [
        "np.log(lda_artm.perplexity_last_value)"
      ],
      "metadata": {
        "colab": {
          "base_uri": "https://localhost:8080/"
        },
        "id": "nV_STLzwaS0C",
        "outputId": "5af16aa3-dd60-42b3-bcc8-417ad9b0bbc4"
      },
      "execution_count": 219,
      "outputs": [
        {
          "output_type": "stream",
          "name": "stderr",
          "text": [
            "/usr/local/lib/python3.10/dist-packages/ipykernel/ipkernel.py:283: DeprecationWarning: `should_run_async` will not call `transform_cell` automatically in the future. Please pass the result to `transformed_cell` argument and any exception that happen during thetransform in `preprocessing_exc_tuple` in IPython 7.17 and above.\n",
            "  and should_run_async(code)\n"
          ]
        },
        {
          "output_type": "execute_result",
          "data": {
            "text/plain": [
              "7.444756361643537"
            ]
          },
          "metadata": {},
          "execution_count": 219
        }
      ]
    },
    {
      "cell_type": "markdown",
      "source": [
        "### 14.3 Review top 15 tokens for every topics"
      ],
      "metadata": {
        "id": "Soa9zasggtpv"
      }
    },
    {
      "cell_type": "code",
      "source": [
        "top_tokens = lda_artm.get_top_tokens(num_tokens=15)\n",
        "for i, token_list in enumerate(top_tokens):\n",
        "     print ('Topic #{0}: {1}'.format(i, token_list))"
      ],
      "metadata": {
        "colab": {
          "base_uri": "https://localhost:8080/"
        },
        "id": "wAIWgPizaaCU",
        "outputId": "72b089c1-d795-47bd-b9a3-d56782bd3c86"
      },
      "execution_count": 220,
      "outputs": [
        {
          "output_type": "stream",
          "name": "stderr",
          "text": [
            "/usr/local/lib/python3.10/dist-packages/ipykernel/ipkernel.py:283: DeprecationWarning: `should_run_async` will not call `transform_cell` automatically in the future. Please pass the result to `transformed_cell` argument and any exception that happen during thetransform in `preprocessing_exc_tuple` in IPython 7.17 and above.\n",
            "  and should_run_async(code)\n"
          ]
        },
        {
          "output_type": "stream",
          "name": "stdout",
          "text": [
            "Topic #0: ['маска', 'торговый', 'продажа', 'г', 'продукция', 'работа', 'продукт', 'питание', 'разъяснение', 'покупатель', 'нарушение', 'организация', 'иметь', 'роспотребнадзор', 'условие']\n",
            "Topic #1: ['дом', 'квартира', 'адрес', 'ул', 'г', 'год', 'наш', 'просить', 'ук', 'далее', 'помещение', 'управлять', 'этаж', 'подъезд', 'компания']\n",
            "Topic #2: ['сказать', 'день', 'мой', 'дать', 'который', 'номер', 'услуга', 'договор', 'оператор', 'телефон', 'позвонить', 'линия', 'звонить', 'компания', 'горячий']\n",
            "Topic #3: ['услуга', 'средство', 'билет', 'возврат', 'денежный', 'мой', 'счёт', 'деньга', 'г', 'заявление', 'банк', 'связь', 'который', 'год', 'сайт']\n",
            "Topic #4: ['магазин', 'товар', 'продавец', 'возврат', 'день', 'приобрести', 'срок', 'вернуть', 'претензия', 'средство', 'качество', 'купить', 'денежный', 'г', 'я']\n",
            "Topic #5: ['закон', 'право', 'потребитель', 'рф', 'защита', 'товар', 'статья', 'договор', 'пункт', 'лицо', 'маска', 'российский', 'федерация', 'услуга', 'ст']\n",
            "Topic #6: ['сумма', 'рубль', 'карта', 'банк', 'договор', 'мой', 'который', 'руб', 'кредит', 'оплата', 'это', 'деньга', 'просить', 'год', 'сертификат']\n",
            "Topic #7: ['это', 'день', 'мы', 'сказать', 'просить', 'принять', 'очень', 'магазин', 'добрый', 'мера', 'водитель', 'просто', 'говорить', 'хотеть', 'город']\n",
            "Topic #8: ['день', 'тест', 'добрый', 'результат', 'здравствуйте', 'пожалуйста', 'нужно', 'рф', 'врач', 'россия', 'какой', 'гражданин', 'пцр', 'ковид', 'мочь']\n",
            "Topic #9: ['телефон', 'ремонт', 'центр', 'сервисный', 'работать', 'сказать', 'деньга', 'день', 'мастер', 'вернуть', 'обратиться', 'который', 'год', 'г', 'сервис']\n",
            "Topic #10: ['ребёнок', 'вода', 'детский', 'г', 'просить', 'область', 'адрес', 'год', 'сад', 'это', 'город', 'школа', 'дать', 'здравствуйте', 'район']\n",
            "Topic #11: ['товар', 'возврат', 'пункт', 'выдача', 'магазин', 'вернуть', 'брак', 'wildberries', 'прийти', 'интернет', 'упаковка', 'день', 'который', 'добрый', 'размер']\n",
            "Topic #12: ['магазин', 'цена', 'товар', 'адрес', 'это', 'просить', 'продавец', 'данный', 'заказ', 'который', 'чек', 'ул', 'г', 'покупатель', 'продукт']\n",
            "Topic #13: ['заказ', 'товар', 'день', 'деньга', 'доставка', 'возврат', 'сайт', 'поддержка', 'обращение', 'ответ', 'срок', 'средство', 'вернуть', 'продавец', 'получить']\n",
            "Topic #14: ['мусор', 'площадка', 'территория', 'санитарный', 'который', 'просить', 'контейнер', 'место', 'вывоз', 'отход', 'санпин', 'требование', 'проведение', 'норма', 'г']\n"
          ]
        }
      ]
    },
    {
      "cell_type": "markdown",
      "source": [
        "## 15 PLSA in ARTM"
      ],
      "metadata": {
        "id": "WVJEeQj0g_ou"
      }
    },
    {
      "cell_type": "markdown",
      "source": [
        "### 15.1 Create model"
      ],
      "metadata": {
        "id": "Fi3gTCmthJ1o"
      }
    },
    {
      "cell_type": "code",
      "source": [
        "plsa = artm.ARTM(num_topics=15,\n",
        "                 dictionary=batch_vectorizer.dictionary)"
      ],
      "metadata": {
        "id": "RYmKqWtiaehT",
        "colab": {
          "base_uri": "https://localhost:8080/"
        },
        "outputId": "147c9291-319c-4b1a-bbe6-324dc87e394b"
      },
      "execution_count": 221,
      "outputs": [
        {
          "output_type": "stream",
          "name": "stderr",
          "text": [
            "/usr/local/lib/python3.10/dist-packages/ipykernel/ipkernel.py:283: DeprecationWarning: `should_run_async` will not call `transform_cell` automatically in the future. Please pass the result to `transformed_cell` argument and any exception that happen during thetransform in `preprocessing_exc_tuple` in IPython 7.17 and above.\n",
            "  and should_run_async(code)\n"
          ]
        }
      ]
    },
    {
      "cell_type": "markdown",
      "source": [
        "### 15.2 Add perplexity score"
      ],
      "metadata": {
        "id": "voKv4NBGhNqY"
      }
    },
    {
      "cell_type": "code",
      "source": [
        "plsa.scores.add(artm.PerplexityScore(name='lenta_perplexity_score',\n",
        "                 dictionary=batch_vectorizer.dictionary))"
      ],
      "metadata": {
        "id": "8usrx3Jic6II",
        "colab": {
          "base_uri": "https://localhost:8080/"
        },
        "outputId": "020dc9a8-e304-48d1-d8e5-9556eb4acf7f"
      },
      "execution_count": 222,
      "outputs": [
        {
          "output_type": "stream",
          "name": "stderr",
          "text": [
            "/usr/local/lib/python3.10/dist-packages/ipykernel/ipkernel.py:283: DeprecationWarning: `should_run_async` will not call `transform_cell` automatically in the future. Please pass the result to `transformed_cell` argument and any exception that happen during thetransform in `preprocessing_exc_tuple` in IPython 7.17 and above.\n",
            "  and should_run_async(code)\n"
          ]
        }
      ]
    },
    {
      "cell_type": "markdown",
      "source": [
        "### 15.3 Add top tokens score"
      ],
      "metadata": {
        "id": "tH6KZiVDhjia"
      }
    },
    {
      "cell_type": "code",
      "source": [
        "plsa.scores.add(artm.TopTokensScore(name='TopTokensScore', num_tokens=25))"
      ],
      "metadata": {
        "id": "vhoJmPK0dYVP",
        "colab": {
          "base_uri": "https://localhost:8080/"
        },
        "outputId": "6e4605ff-a080-4b7c-9af6-b369d30fc258"
      },
      "execution_count": 223,
      "outputs": [
        {
          "output_type": "stream",
          "name": "stderr",
          "text": [
            "/usr/local/lib/python3.10/dist-packages/ipykernel/ipkernel.py:283: DeprecationWarning: `should_run_async` will not call `transform_cell` automatically in the future. Please pass the result to `transformed_cell` argument and any exception that happen during thetransform in `preprocessing_exc_tuple` in IPython 7.17 and above.\n",
            "  and should_run_async(code)\n"
          ]
        }
      ]
    },
    {
      "cell_type": "markdown",
      "source": [
        "### 15.4 Learning model"
      ],
      "metadata": {
        "id": "fn9eOz9Uh0LJ"
      }
    },
    {
      "cell_type": "code",
      "source": [
        "plsa.fit_offline(batch_vectorizer=batch_vectorizer,\n",
        "                 num_collection_passes=20)"
      ],
      "metadata": {
        "id": "4xLWNFDadhkb",
        "colab": {
          "base_uri": "https://localhost:8080/"
        },
        "outputId": "1e4dda02-e6dc-47ab-9787-2e7e2e683606"
      },
      "execution_count": 224,
      "outputs": [
        {
          "output_type": "stream",
          "name": "stderr",
          "text": [
            "/usr/local/lib/python3.10/dist-packages/ipykernel/ipkernel.py:283: DeprecationWarning: `should_run_async` will not call `transform_cell` automatically in the future. Please pass the result to `transformed_cell` argument and any exception that happen during thetransform in `preprocessing_exc_tuple` in IPython 7.17 and above.\n",
            "  and should_run_async(code)\n"
          ]
        }
      ]
    },
    {
      "cell_type": "markdown",
      "source": [
        "### 15.5 Review perpleity score"
      ],
      "metadata": {
        "id": "ZIwF9FRxh8YQ"
      }
    },
    {
      "cell_type": "code",
      "source": [
        "plsa.score_tracker['lenta_perplexity_score'].value"
      ],
      "metadata": {
        "colab": {
          "base_uri": "https://localhost:8080/"
        },
        "id": "JkRwm56Hdhh_",
        "outputId": "542cc835-8783-45f8-e678-e6581dc012ce"
      },
      "execution_count": 225,
      "outputs": [
        {
          "output_type": "stream",
          "name": "stderr",
          "text": [
            "/usr/local/lib/python3.10/dist-packages/ipykernel/ipkernel.py:283: DeprecationWarning: `should_run_async` will not call `transform_cell` automatically in the future. Please pass the result to `transformed_cell` argument and any exception that happen during thetransform in `preprocessing_exc_tuple` in IPython 7.17 and above.\n",
            "  and should_run_async(code)\n"
          ]
        },
        {
          "output_type": "execute_result",
          "data": {
            "text/plain": [
              "[71593.515625,\n",
              " 2980.9658203125,\n",
              " 2553.898193359375,\n",
              " 2189.9365234375,\n",
              " 1984.853759765625,\n",
              " 1871.38671875,\n",
              " 1803.2891845703125,\n",
              " 1759.2747802734375,\n",
              " 1729.1510009765625,\n",
              " 1707.359375,\n",
              " 1690.837890625,\n",
              " 1677.5985107421875,\n",
              " 1666.8245849609375,\n",
              " 1657.76806640625,\n",
              " 1650.135498046875,\n",
              " 1643.7452392578125,\n",
              " 1638.0802001953125,\n",
              " 1633.0113525390625,\n",
              " 1628.4508056640625,\n",
              " 1624.3521728515625]"
            ]
          },
          "metadata": {},
          "execution_count": 225
        }
      ]
    },
    {
      "cell_type": "markdown",
      "source": [
        "### 15.6 Review most important tokens in topics"
      ],
      "metadata": {
        "id": "76XEY_8DiIP6"
      }
    },
    {
      "cell_type": "code",
      "source": [
        "for topic_name in plsa.topic_names:\n",
        "    print (topic_name + ': ', plsa.score_tracker['TopTokensScore'].last_tokens[topic_name])"
      ],
      "metadata": {
        "colab": {
          "base_uri": "https://localhost:8080/"
        },
        "id": "b8rru_gvdhfP",
        "outputId": "57947291-9b48-4d6f-e20f-56057830dea8"
      },
      "execution_count": 226,
      "outputs": [
        {
          "output_type": "stream",
          "name": "stderr",
          "text": [
            "/usr/local/lib/python3.10/dist-packages/ipykernel/ipkernel.py:283: DeprecationWarning: `should_run_async` will not call `transform_cell` automatically in the future. Please pass the result to `transformed_cell` argument and any exception that happen during thetransform in `preprocessing_exc_tuple` in IPython 7.17 and above.\n",
            "  and should_run_async(code)\n"
          ]
        },
        {
          "output_type": "stream",
          "name": "stdout",
          "text": [
            "topic_0:  ['маска', 'товар', 'продажа', 'статья', 'питание', 'продукт', 'пункт', 'индивидуальный', 'покупатель', 'защита', 'отказ', 'часть', 'закон', 'торговый', 'случай', 'потребитель', 'средство', 'перчатка', 'осуществлять', 'непродовольственный', 'гк', 'приобретение', 'право', 'работа', 'орган']\n",
            "topic_1:  ['дом', 'квартира', 'адрес', 'год', 'ук', 'наш', 'г', 'ул', 'просить', 'компания', 'управлять', 'подъезд', 'этаж', 'помещение', 'окно', 'который', 'день', 'работа', 'жилой', 'далее', 'проживать', 'собственник', 'время', 'жилец', 'улица']\n",
            "topic_2:  ['сказать', 'мой', 'номер', 'день', 'позвонить', 'это', 'который', 'телефон', 'дать', 'линия', 'звонить', 'мочь', 'прийти', 'горячий', 'никто', 'говорить', 'звонок', 'оператор', 'сотрудник', 'свой', 'вопрос', 'ответить', 'заявка', 'интернет', 'время']\n",
            "topic_3:  ['услуга', 'билет', 'возврат', 'средство', 'денежный', 'связь', 'заявление', 'мой', 'г', 'компания', 'деньга', 'год', 'сайт', 'счёт', 'который', 'вернуть', 'день', 'тариф', 'рейс', 'я', 'номер', 'авиакомпания', 'дать', 'договор', 'оператор']\n",
            "topic_4:  ['магазин', 'товар', 'продавец', 'возврат', 'день', 'вернуть', 'приобрести', 'претензия', 'срок', 'средство', 'купить', 'качество', 'денежный', 'деньга', 'покупка', 'экспертиза', 'я', 'год', 'заявление', 'написать', 'чек', 'добрый', 'данный', 'г', 'отказать']\n",
            "topic_5:  ['право', 'закон', 'потребитель', 'рф', 'защита', 'договор', 'ст', 'услуга', 'нарушение', 'лицо', 'статья', 'российский', 'постановление', 'п', 'соответствие', 'федерация', 'который', 'мой', 'г', 'федеральный', 'законодательство', 'являться', 'правило', 'иной', 'основание']\n",
            "topic_6:  ['сумма', 'карта', 'банк', 'рубль', 'договор', 'оплата', 'руб', 'мой', 'деньга', 'который', 'счёт', 'кредит', 'год', 'сбербанк', 'размер', 'платёж', 'просить', 'это', 'г', 'средство', 'дать', 'месяц', 'стоимость', 'чек', 'оплатить']\n",
            "topic_7:  ['это', 'мы', 'ребёнок', 'очень', 'день', 'просить', 'человек', 'наш', 'просто', 'принять', 'мера', 'который', 'хотеть', 'город', 'водитель', 'работать', 'добрый', 'время', 'такой', 'сказать', 'ещё', 'здравствуйте', 'автобус', 'ходить', 'ситуация']\n",
            "topic_8:  ['день', 'тест', 'добрый', 'ребёнок', 'здравствуйте', 'результат', 'врач', 'пожалуйста', 'нужно', 'рф', 'какой', 'россия', 'гражданин', 'поликлиника', 'пцр', 'ковид', 'мочь', 'сдавать', 'подсказать', 'роспотребнадзор', 'сдать', 'covid', 'карантин', 'год', 'анализ']\n",
            "topic_9:  ['телефон', 'ремонт', 'центр', 'сервисный', 'мастер', 'день', 'работать', 'сказать', 'деньга', 'вернуть', 'г', 'обратиться', 'замена', 'год', 'гарантия', 'который', 'акт', 'телевизор', 'сервис', 'работа', 'машина', 'это', 'купить', 'ноутбук', 'гарантийный']\n",
            "topic_10:  ['вода', 'г', 'адрес', 'просить', 'область', 'ул', 'далее', 'год', 'московский', 'район', 'проверка', 'ребёнок', 'город', 'дать', 'ооо', 'горячий', 'компания', 'провести', 'данный', 'работа', 'добрый', 'мера', 'принять', 'находиться', 'аптека']\n",
            "topic_11:  ['товар', 'возврат', 'пункт', 'выдача', 'продавец', 'вернуть', 'wildberries', 'магазин', 'брак', 'это', 'который', 'прийти', 'упаковка', 'сайт', 'заказать', 'заявка', 'интернет', 'деньга', 'день', 'отказ', 'размер', 'получить', 'коробка', 'отказаться', 'получение']\n",
            "topic_12:  ['магазин', 'цена', 'адрес', 'товар', 'просить', 'г', 'ул', 'данный', 'продукция', 'продукт', 'продавец', 'продавать', 'это', 'купить', 'чек', 'который', 'касса', 'ценник', 'проверка', 'покупатель', 'покупка', 'книга', 'дать', 'здравствуйте', 'провести']\n",
            "topic_13:  ['заказ', 'доставка', 'день', 'деньга', 'товар', 'сайт', 'поддержка', 'возврат', 'срок', 'обращение', 'почта', 'ответ', 'оплатить', 'средство', 'получить', 'вернуть', 'служба', 'мой', 'отправить', 'посылка', 'я', 'оформить', 'сделать', 'доставить', 'продавец']\n",
            "topic_14:  ['мусор', 'площадка', 'санитарный', 'территория', 'который', 'норма', 'просить', 'место', 'контейнер', 'требование', 'помещение', 'санпин', 'вывоз', 'отход', 'должный', 'проведение', 'правило', 'человек', 'собака', 'организация', 'дать', 'п', 'участок', 'нарушение', 'соблюдение']\n"
          ]
        }
      ]
    },
    {
      "cell_type": "code",
      "source": [
        "batch_vectorizer.dictionary.filter(min_tf=10, max_tf=5000)"
      ],
      "metadata": {
        "colab": {
          "base_uri": "https://localhost:8080/"
        },
        "id": "T5pOHdqCdhcN",
        "outputId": "a7c91159-595d-492a-adc2-1bff1926a9ec"
      },
      "execution_count": 227,
      "outputs": [
        {
          "output_type": "stream",
          "name": "stderr",
          "text": [
            "/usr/local/lib/python3.10/dist-packages/ipykernel/ipkernel.py:283: DeprecationWarning: `should_run_async` will not call `transform_cell` automatically in the future. Please pass the result to `transformed_cell` argument and any exception that happen during thetransform in `preprocessing_exc_tuple` in IPython 7.17 and above.\n",
            "  and should_run_async(code)\n"
          ]
        },
        {
          "output_type": "execute_result",
          "data": {
            "text/plain": [
              "artm.Dictionary(name=2606c1c7-2f6c-42a8-9c5c-71fb12d3a1b8, num_entries=7925)"
            ]
          },
          "metadata": {},
          "execution_count": 227
        }
      ]
    },
    {
      "cell_type": "code",
      "source": [
        "plsa = artm.ARTM(num_topics=10,\n",
        "                 dictionary=batch_vectorizer.dictionary)\n",
        "plsa.scores.add(artm.PerplexityScore(name='lenta_perplexity_score',\n",
        "                dictionary=batch_vectorizer.dictionary))\n",
        "\n",
        "plsa.scores.add(artm.TopTokensScore(name='TopTokensScore',\n",
        "                                    num_tokens=15))\n",
        "plsa.fit_offline(batch_vectorizer=batch_vectorizer,\n",
        "                 num_collection_passes=15)"
      ],
      "metadata": {
        "id": "4kfV6bxBdhTH",
        "colab": {
          "base_uri": "https://localhost:8080/"
        },
        "outputId": "70b0c523-8b88-4c5a-8001-facec8a05bc5"
      },
      "execution_count": 228,
      "outputs": [
        {
          "output_type": "stream",
          "name": "stderr",
          "text": [
            "/usr/local/lib/python3.10/dist-packages/ipykernel/ipkernel.py:283: DeprecationWarning: `should_run_async` will not call `transform_cell` automatically in the future. Please pass the result to `transformed_cell` argument and any exception that happen during thetransform in `preprocessing_exc_tuple` in IPython 7.17 and above.\n",
            "  and should_run_async(code)\n"
          ]
        }
      ]
    },
    {
      "cell_type": "code",
      "source": [
        "for topic_name in plsa.topic_names:\n",
        "    print (topic_name + ': ', plsa.score_tracker['TopTokensScore'].last_tokens[topic_name])"
      ],
      "metadata": {
        "colab": {
          "base_uri": "https://localhost:8080/"
        },
        "id": "FDQ8SI0peBS_",
        "outputId": "2ccd4145-f9bd-4c2c-8c2f-de02d6c2a0d6"
      },
      "execution_count": 229,
      "outputs": [
        {
          "output_type": "stream",
          "name": "stdout",
          "text": [
            "topic_0:  ['закон', 'право', 'потребитель', 'рф', 'защита', 'маска', 'статья', 'пункт', 'продажа', 'российский', 'лицо', 'договор', 'ст', 'федерация', 'нарушение']\n",
            "topic_1:  ['дом', 'квартира', 'помещение', 'вода', 'наш', 'ул', 'ук', 'далее', 'этаж', 'жилой', 'компания', 'управлять', 'подъезд', 'окно', 'работа']\n",
            "topic_2:  ['доставка', 'ответ', 'сайт', 'обращение', 'поддержка', 'оплатить', 'прийти', 'получить', 'сделать', 'почта', 'заказать', 'отправить', 'оформить', 'срок', 'служба']\n",
            "topic_3:  ['услуга', 'карта', 'денежный', 'билет', 'связь', 'номер', 'компания', 'заявление', 'оплата', 'банк', 'сайт', 'оператор', 'счёт', 'я', 'договор']\n",
            "topic_4:  ['продавец', 'цена', 'качество', 'приобрести', 'покупка', 'данный', 'срок', 'чек', 'купить', 'я', 'претензия', 'упаковка', 'брак', 'получить', 'право']\n",
            "topic_5:  ['ребёнок', 'организация', 'детский', 'работа', 'сотрудник', 'область', 'требование', 'группа', 'медицинский', 'школа', 'человек', 'данный', 'проведение', 'какой', 'должный']\n",
            "topic_6:  ['договор', 'сумма', 'банк', 'услуга', 'счёт', 'руб', 'месяц', 'кредит', 'оплата', 'рубль', 'платёж', 'компания', 'документ', 'ооо', 'обращение']\n",
            "topic_7:  ['мера', 'ул', 'принять', 'город', 'человек', 'мусор', 'вода', 'улица', 'ребёнок', 'район', 'очень', 'находиться', 'площадка', 'далее', 'здравствуйте']\n",
            "topic_8:  ['тест', 'здравствуйте', 'результат', 'пожалуйста', 'врач', 'нужно', 'рф', 'россия', 'мочь', 'подсказать', 'поликлиника', 'пцр', 'гражданин', 'сдавать', 'ковид']\n",
            "topic_9:  ['сказать', 'телефон', 'ремонт', 'центр', 'мы', 'работать', 'мочь', 'обратиться', 'купить', 'сервисный', 'мастер', 'хотеть', 'позвонить', 'написать', 'делать']\n"
          ]
        },
        {
          "output_type": "stream",
          "name": "stderr",
          "text": [
            "/usr/local/lib/python3.10/dist-packages/ipykernel/ipkernel.py:283: DeprecationWarning: `should_run_async` will not call `transform_cell` automatically in the future. Please pass the result to `transformed_cell` argument and any exception that happen during thetransform in `preprocessing_exc_tuple` in IPython 7.17 and above.\n",
            "  and should_run_async(code)\n"
          ]
        }
      ]
    }
  ]
}